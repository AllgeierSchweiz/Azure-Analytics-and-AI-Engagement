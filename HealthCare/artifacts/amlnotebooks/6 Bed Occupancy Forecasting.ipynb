{
 "cells": [
  {
   "cell_type": "markdown",
   "metadata": {},
   "source": [
    "# Bed Occupancy Forecasting\n",
    "\n",
    "In this notebook we use Azure AutoML to forecast the bed occupancy for each day for each city."
   ]
  },
  {
      "cell_type": "markdown",
      "source": [
        "$*****$ For Demonstration purpose only, Please customize as per your enterprise security needs and compliances.License agreement: https://github.com/microsoft/Azure-Analytics-and-AI-Engagement/blob/main/HealthCare/License.md $*****$ "
      ],
      "metadata": {
        "nteract": {
          "transient": {
            "deleting": false
          }
        }
      }
    },
  {
      "cell_type": "markdown",
      "source": [
        "## Legal Notices \r\n",
        "\r\n",
        "This presentation, demonstration, and demonstration model are for informational purposes only. Microsoft makes no warranties, express or implied, in this presentation demonstration, and demonstration model. Nothing in this presentation, demonstration, or demonstration model modifies any of the terms and conditions of Microsoft’s written and signed agreements. This is not an offer and applicable terms and the information provided is subject to revision and may be changed at any time by Microsoft.\r\n",
        "\r\n",
        "This presentation, demonstration, and/or demonstration model do not give you or your organization any license to any patents, trademarks, copyrights, or other intellectual property covering the subject matter in this presentation, demonstration, and demonstration model.\r\n",
        "\r\n",
        "The information contained in this presentation, demonstration and demonstration model represent the current view of Microsoft on the issues discussed as of the date of presentation and/or demonstration, and the duration of your access to the demonstration model. Because Microsoft must respond to changing market conditions, it should not be interpreted to be a commitment on the part of Microsoft, and Microsoft cannot guarantee the accuracy of any information presented after the date of presentation and/or demonstration and for the duration of your access to the demonstration model.\r\n",
        "\r\n",
        "No Microsoft technology, nor any of its component technologies, including the demonstration model, is intended or made available: (1) as a medical device; (2) for the diagnosis of disease or other conditions, or in the cure, mitigation, treatment or prevention of a disease or other conditions; or (3) as a substitute for the professional clinical advice, opinion, or judgment of a treating healthcare professional. Partners or customers are responsible for ensuring the regulatory compliance of any solution they build using Microsoft technologies.\r\n",
        "\r\n",
        "© 2020 Microsoft Corporation. All rights reserved"
      ],
      "metadata": {
        "nteract": {
          "transient": {
            "deleting": false
          }
        }
      }
    },
  {
   "cell_type": "code",
   "execution_count": 1,
   "metadata": {},
   "outputs": [],
   "source": [
    "import os\n",
    "import time\n",
    "import pickle\n",
    "\n",
    "import numpy as np\n",
    "import pandas as pd\n",
    "\n",
    "import azureml.core\n",
    "from azureml.core import Dataset, Datastore, Experiment, Workspace\n",
    "from azureml.core.experiment import Experiment\n",
    "from azureml.data import DataType\n",
    "from azureml.data.datapath import DataPath\n",
    "from azureml.train.automl import AutoMLConfig\n",
    "from azureml.widgets import RunDetails\n",
    "from azureml.core.compute import AmlCompute\n",
    "\n",
    "import GlobalVariables"
   ]
  },
  {
   "cell_type": "markdown",
   "metadata": {},
   "source": [
    "## Setting up the workspace"
   ]
  },
  {
   "cell_type": "code",
   "execution_count": 2,
   "metadata": {},
   "outputs": [
    {
     "data": {
      "text/plain": [
       "Workspace.create(name='mlw-healthcare-dev', subscription_id='6f6a71d2-83bb-42b0-9912-2e243ef214c4', resource_group='rg-healthcare-dev')"
      ]
     },
     "execution_count": 2,
     "metadata": {},
     "output_type": "execute_result"
    }
   ],
   "source": [
    "ws = Workspace.from_config()\n",
    "ws"
   ]
  },
  {
   "cell_type": "markdown",
   "metadata": {},
   "source": [
    "## Create new datastore for Datasets"
   ]
  },
  {
   "cell_type": "code",
   "execution_count": 3,
   "metadata": {
    "lines_to_next_cell": 2
   },
   "outputs": [],
   "source": [
    "blob_datastore_name=GlobalVariables.BED_OCCUPANCY_DATASTORE_NAME # Name of the datastore in workspace\n",
    "container_name=GlobalVariables.GLOBAL_CONTAINER_NAME\n",
    "account_name=GlobalVariables.STORAGE_ACCOUNT_NAME\n",
    "account_key=GlobalVariables.STORAGE_ACCOUNT_KEY # Storage account access key\n",
    "\n",
    "blob_datastore = Datastore.register_azure_blob_container(workspace=ws, \n",
    "                                                         datastore_name=blob_datastore_name, \n",
    "                                                         container_name=container_name, \n",
    "                                                         account_name=account_name,\n",
    "                                                         account_key=account_key)\n",
    "\n",
    "dstore = Datastore.get(ws, datastore_name=blob_datastore_name)"
   ]
  },
  {
   "cell_type": "markdown",
   "metadata": {},
   "source": [
    "## Convert to Pandas DataFrame to do data preparation"
   ]
  },
  {
   "cell_type": "code",
   "execution_count": 4,
   "metadata": {
    "lines_to_next_cell": 2
   },
   "outputs": [
    {
     "name": "stdout",
     "output_type": "stream",
     "text": [
      "/bedoccupancyv4.csv\n"
     ]
    },
    {
     "data": {
      "text/html": [
       "<div>\n",
       "<style scoped>\n",
       "    .dataframe tbody tr th:only-of-type {\n",
       "        vertical-align: middle;\n",
       "    }\n",
       "\n",
       "    .dataframe tbody tr th {\n",
       "        vertical-align: top;\n",
       "    }\n",
       "\n",
       "    .dataframe thead th {\n",
       "        text-align: right;\n",
       "    }\n",
       "</style>\n",
       "<table border=\"1\" class=\"dataframe\">\n",
       "  <thead>\n",
       "    <tr style=\"text-align: right;\">\n",
       "      <th></th>\n",
       "      <th>total_patients</th>\n",
       "      <th>Date</th>\n",
       "      <th>hospital_id</th>\n",
       "    </tr>\n",
       "  </thead>\n",
       "  <tbody>\n",
       "    <tr>\n",
       "      <th>0</th>\n",
       "      <td>3</td>\n",
       "      <td>2015-12-16</td>\n",
       "      <td>2</td>\n",
       "    </tr>\n",
       "    <tr>\n",
       "      <th>1</th>\n",
       "      <td>1</td>\n",
       "      <td>2015-12-16</td>\n",
       "      <td>9</td>\n",
       "    </tr>\n",
       "    <tr>\n",
       "      <th>2</th>\n",
       "      <td>2</td>\n",
       "      <td>2015-12-16</td>\n",
       "      <td>1</td>\n",
       "    </tr>\n",
       "    <tr>\n",
       "      <th>3</th>\n",
       "      <td>2</td>\n",
       "      <td>2015-12-16</td>\n",
       "      <td>21</td>\n",
       "    </tr>\n",
       "    <tr>\n",
       "      <th>4</th>\n",
       "      <td>4</td>\n",
       "      <td>2015-12-17</td>\n",
       "      <td>9</td>\n",
       "    </tr>\n",
       "  </tbody>\n",
       "</table>\n",
       "</div>"
      ],
      "text/plain": [
       "   total_patients       Date  hospital_id\n",
       "0               3 2015-12-16            2\n",
       "1               1 2015-12-16            9\n",
       "2               2 2015-12-16            1\n",
       "3               2 2015-12-16           21\n",
       "4               4 2015-12-17            9"
      ]
     },
     "execution_count": 4,
     "metadata": {},
     "output_type": "execute_result"
    }
   ],
   "source": [
    "filepath1 = GlobalVariables.BED_OCCUPANCY_INPUT_FILE_PATH\n",
    "print(filepath1)\n",
    "\n",
    "\n",
    "# Set the path to the storage account containing the file\n",
    "datastore_path = [DataPath(dstore, filepath1)]\n",
    "patientdataset = Dataset.Tabular.from_delimited_files(path=datastore_path)\n",
    "patientdataset.take(5).to_pandas_dataframe()"
   ]
  },
  {
   "cell_type": "code",
   "execution_count": 5,
   "metadata": {
    "lines_to_next_cell": 2
   },
   "outputs": [
    {
     "data": {
      "text/html": [
       "<div>\n",
       "<style scoped>\n",
       "    .dataframe tbody tr th:only-of-type {\n",
       "        vertical-align: middle;\n",
       "    }\n",
       "\n",
       "    .dataframe tbody tr th {\n",
       "        vertical-align: top;\n",
       "    }\n",
       "\n",
       "    .dataframe thead th {\n",
       "        text-align: right;\n",
       "    }\n",
       "</style>\n",
       "<table border=\"1\" class=\"dataframe\">\n",
       "  <thead>\n",
       "    <tr style=\"text-align: right;\">\n",
       "      <th></th>\n",
       "      <th>hospital__id</th>\n",
       "      <th>city</th>\n",
       "      <th>total_beds</th>\n",
       "    </tr>\n",
       "  </thead>\n",
       "  <tbody>\n",
       "    <tr>\n",
       "      <th>0</th>\n",
       "      <td>1</td>\n",
       "      <td>Los Angeles</td>\n",
       "      <td>931</td>\n",
       "    </tr>\n",
       "    <tr>\n",
       "      <th>1</th>\n",
       "      <td>2</td>\n",
       "      <td>Chicago</td>\n",
       "      <td>931</td>\n",
       "    </tr>\n",
       "    <tr>\n",
       "      <th>2</th>\n",
       "      <td>21</td>\n",
       "      <td>Miami</td>\n",
       "      <td>438</td>\n",
       "    </tr>\n",
       "    <tr>\n",
       "      <th>3</th>\n",
       "      <td>9</td>\n",
       "      <td>Honolulu</td>\n",
       "      <td>303</td>\n",
       "    </tr>\n",
       "    <tr>\n",
       "      <th>4</th>\n",
       "      <td>27</td>\n",
       "      <td>Anchorage</td>\n",
       "      <td>250</td>\n",
       "    </tr>\n",
       "  </tbody>\n",
       "</table>\n",
       "</div>"
      ],
      "text/plain": [
       "   hospital__id         city  total_beds\n",
       "0             1  Los Angeles         931\n",
       "1             2      Chicago         931\n",
       "2            21        Miami         438\n",
       "3             9     Honolulu         303\n",
       "4            27    Anchorage         250"
      ]
     },
     "execution_count": 5,
     "metadata": {},
     "output_type": "execute_result"
    }
   ],
   "source": [
    "file_path2 = GlobalVariables.TOTAL_BEDS_FILE_PATH\n",
    "\n",
    "# Set the path to the storage account containing the file\n",
    "datastore_path = [DataPath(dstore, file_path2)]\n",
    "beddataset = Dataset.Tabular.from_delimited_files(path=datastore_path)\n",
    "beddataset.take(10).to_pandas_dataframe()"
   ]
  },
  {
   "cell_type": "code",
   "execution_count": 6,
   "metadata": {
    "lines_to_next_cell": 2
   },
   "outputs": [],
   "source": [
    "patient=patientdataset.to_pandas_dataframe()\n",
    "bed=beddataset.to_pandas_dataframe()\n",
    "bed.columns = bed.columns.str.replace('__','_')"
   ]
  },
  {
   "cell_type": "code",
   "execution_count": 7,
   "metadata": {
    "lines_to_next_cell": 2
   },
   "outputs": [
    {
     "data": {
      "text/html": [
       "<div>\n",
       "<style scoped>\n",
       "    .dataframe tbody tr th:only-of-type {\n",
       "        vertical-align: middle;\n",
       "    }\n",
       "\n",
       "    .dataframe tbody tr th {\n",
       "        vertical-align: top;\n",
       "    }\n",
       "\n",
       "    .dataframe thead th {\n",
       "        text-align: right;\n",
       "    }\n",
       "</style>\n",
       "<table border=\"1\" class=\"dataframe\">\n",
       "  <thead>\n",
       "    <tr style=\"text-align: right;\">\n",
       "      <th></th>\n",
       "      <th>total_patients</th>\n",
       "      <th>Date</th>\n",
       "      <th>hospital_id</th>\n",
       "      <th>city</th>\n",
       "      <th>total_beds</th>\n",
       "    </tr>\n",
       "  </thead>\n",
       "  <tbody>\n",
       "    <tr>\n",
       "      <th>0</th>\n",
       "      <td>3</td>\n",
       "      <td>2015-12-16</td>\n",
       "      <td>2</td>\n",
       "      <td>Chicago</td>\n",
       "      <td>931</td>\n",
       "    </tr>\n",
       "    <tr>\n",
       "      <th>1</th>\n",
       "      <td>1</td>\n",
       "      <td>2015-12-16</td>\n",
       "      <td>9</td>\n",
       "      <td>Honolulu</td>\n",
       "      <td>303</td>\n",
       "    </tr>\n",
       "    <tr>\n",
       "      <th>2</th>\n",
       "      <td>2</td>\n",
       "      <td>2015-12-16</td>\n",
       "      <td>1</td>\n",
       "      <td>Los Angeles</td>\n",
       "      <td>931</td>\n",
       "    </tr>\n",
       "    <tr>\n",
       "      <th>3</th>\n",
       "      <td>2</td>\n",
       "      <td>2015-12-16</td>\n",
       "      <td>21</td>\n",
       "      <td>Miami</td>\n",
       "      <td>438</td>\n",
       "    </tr>\n",
       "    <tr>\n",
       "      <th>4</th>\n",
       "      <td>4</td>\n",
       "      <td>2015-12-17</td>\n",
       "      <td>9</td>\n",
       "      <td>Honolulu</td>\n",
       "      <td>303</td>\n",
       "    </tr>\n",
       "    <tr>\n",
       "      <th>...</th>\n",
       "      <td>...</td>\n",
       "      <td>...</td>\n",
       "      <td>...</td>\n",
       "      <td>...</td>\n",
       "      <td>...</td>\n",
       "    </tr>\n",
       "    <tr>\n",
       "      <th>9021</th>\n",
       "      <td>146</td>\n",
       "      <td>2020-11-28</td>\n",
       "      <td>9</td>\n",
       "      <td>Honolulu</td>\n",
       "      <td>303</td>\n",
       "    </tr>\n",
       "    <tr>\n",
       "      <th>9022</th>\n",
       "      <td>133</td>\n",
       "      <td>2020-11-28</td>\n",
       "      <td>27</td>\n",
       "      <td>Anchorage</td>\n",
       "      <td>250</td>\n",
       "    </tr>\n",
       "    <tr>\n",
       "      <th>9023</th>\n",
       "      <td>227</td>\n",
       "      <td>2020-11-28</td>\n",
       "      <td>21</td>\n",
       "      <td>Miami</td>\n",
       "      <td>438</td>\n",
       "    </tr>\n",
       "    <tr>\n",
       "      <th>9024</th>\n",
       "      <td>466</td>\n",
       "      <td>2020-11-28</td>\n",
       "      <td>2</td>\n",
       "      <td>Chicago</td>\n",
       "      <td>931</td>\n",
       "    </tr>\n",
       "    <tr>\n",
       "      <th>9025</th>\n",
       "      <td>534</td>\n",
       "      <td>2020-11-28</td>\n",
       "      <td>1</td>\n",
       "      <td>Los Angeles</td>\n",
       "      <td>931</td>\n",
       "    </tr>\n",
       "  </tbody>\n",
       "</table>\n",
       "<p>9026 rows × 5 columns</p>\n",
       "</div>"
      ],
      "text/plain": [
       "      total_patients       Date  hospital_id         city  total_beds\n",
       "0                  3 2015-12-16            2      Chicago         931\n",
       "1                  1 2015-12-16            9     Honolulu         303\n",
       "2                  2 2015-12-16            1  Los Angeles         931\n",
       "3                  2 2015-12-16           21        Miami         438\n",
       "4                  4 2015-12-17            9     Honolulu         303\n",
       "...              ...        ...          ...          ...         ...\n",
       "9021             146 2020-11-28            9     Honolulu         303\n",
       "9022             133 2020-11-28           27    Anchorage         250\n",
       "9023             227 2020-11-28           21        Miami         438\n",
       "9024             466 2020-11-28            2      Chicago         931\n",
       "9025             534 2020-11-28            1  Los Angeles         931\n",
       "\n",
       "[9026 rows x 5 columns]"
      ]
     },
     "execution_count": 7,
     "metadata": {},
     "output_type": "execute_result"
    }
   ],
   "source": [
    "bed_occupancy_dataset=patient.merge(bed, on='hospital_id', how='left')\n",
    "bed_occupancy_dataset"
   ]
  },
  {
   "cell_type": "code",
   "execution_count": 8,
   "metadata": {
    "lines_to_next_cell": 2
   },
   "outputs": [
    {
     "data": {
      "text/html": [
       "<div>\n",
       "<style scoped>\n",
       "    .dataframe tbody tr th:only-of-type {\n",
       "        vertical-align: middle;\n",
       "    }\n",
       "\n",
       "    .dataframe tbody tr th {\n",
       "        vertical-align: top;\n",
       "    }\n",
       "\n",
       "    .dataframe thead th {\n",
       "        text-align: right;\n",
       "    }\n",
       "</style>\n",
       "<table border=\"1\" class=\"dataframe\">\n",
       "  <thead>\n",
       "    <tr style=\"text-align: right;\">\n",
       "      <th></th>\n",
       "      <th>total_patients</th>\n",
       "      <th>Date</th>\n",
       "      <th>hospital_id</th>\n",
       "      <th>city</th>\n",
       "      <th>total_beds</th>\n",
       "      <th>occupancy_rate</th>\n",
       "    </tr>\n",
       "  </thead>\n",
       "  <tbody>\n",
       "    <tr>\n",
       "      <th>0</th>\n",
       "      <td>3</td>\n",
       "      <td>2015-12-16</td>\n",
       "      <td>2</td>\n",
       "      <td>Chicago</td>\n",
       "      <td>931</td>\n",
       "      <td>0.322234</td>\n",
       "    </tr>\n",
       "    <tr>\n",
       "      <th>1</th>\n",
       "      <td>1</td>\n",
       "      <td>2015-12-16</td>\n",
       "      <td>9</td>\n",
       "      <td>Honolulu</td>\n",
       "      <td>303</td>\n",
       "      <td>0.330033</td>\n",
       "    </tr>\n",
       "    <tr>\n",
       "      <th>2</th>\n",
       "      <td>2</td>\n",
       "      <td>2015-12-16</td>\n",
       "      <td>1</td>\n",
       "      <td>Los Angeles</td>\n",
       "      <td>931</td>\n",
       "      <td>0.214823</td>\n",
       "    </tr>\n",
       "    <tr>\n",
       "      <th>3</th>\n",
       "      <td>2</td>\n",
       "      <td>2015-12-16</td>\n",
       "      <td>21</td>\n",
       "      <td>Miami</td>\n",
       "      <td>438</td>\n",
       "      <td>0.456621</td>\n",
       "    </tr>\n",
       "    <tr>\n",
       "      <th>4</th>\n",
       "      <td>4</td>\n",
       "      <td>2015-12-17</td>\n",
       "      <td>9</td>\n",
       "      <td>Honolulu</td>\n",
       "      <td>303</td>\n",
       "      <td>1.320132</td>\n",
       "    </tr>\n",
       "  </tbody>\n",
       "</table>\n",
       "</div>"
      ],
      "text/plain": [
       "   total_patients       Date  hospital_id         city  total_beds  \\\n",
       "0               3 2015-12-16            2      Chicago         931   \n",
       "1               1 2015-12-16            9     Honolulu         303   \n",
       "2               2 2015-12-16            1  Los Angeles         931   \n",
       "3               2 2015-12-16           21        Miami         438   \n",
       "4               4 2015-12-17            9     Honolulu         303   \n",
       "\n",
       "   occupancy_rate  \n",
       "0        0.322234  \n",
       "1        0.330033  \n",
       "2        0.214823  \n",
       "3        0.456621  \n",
       "4        1.320132  "
      ]
     },
     "execution_count": 8,
     "metadata": {},
     "output_type": "execute_result"
    }
   ],
   "source": [
    "bed_occupancy_dataset['occupancy_rate'] = (np.divide(bed_occupancy_dataset['total_patients'], bed_occupancy_dataset['total_beds']))*100\n",
    "bed_occupancy_dataset.head()"
   ]
  },
  {
   "cell_type": "markdown",
   "metadata": {},
   "source": [
    "## Data Preparation for AutoML"
   ]
  },
  {
   "cell_type": "code",
   "execution_count": 9,
   "metadata": {
    "lines_to_next_cell": 2
   },
   "outputs": [
    {
     "data": {
      "text/html": [
       "<div>\n",
       "<style scoped>\n",
       "    .dataframe tbody tr th:only-of-type {\n",
       "        vertical-align: middle;\n",
       "    }\n",
       "\n",
       "    .dataframe tbody tr th {\n",
       "        vertical-align: top;\n",
       "    }\n",
       "\n",
       "    .dataframe thead th {\n",
       "        text-align: right;\n",
       "    }\n",
       "</style>\n",
       "<table border=\"1\" class=\"dataframe\">\n",
       "  <thead>\n",
       "    <tr style=\"text-align: right;\">\n",
       "      <th></th>\n",
       "      <th>Date</th>\n",
       "      <th>occupancy_rate</th>\n",
       "      <th>city</th>\n",
       "    </tr>\n",
       "  </thead>\n",
       "  <tbody>\n",
       "    <tr>\n",
       "      <th>0</th>\n",
       "      <td>2015-12-16</td>\n",
       "      <td>0.322234</td>\n",
       "      <td>Chicago</td>\n",
       "    </tr>\n",
       "    <tr>\n",
       "      <th>1</th>\n",
       "      <td>2015-12-16</td>\n",
       "      <td>0.330033</td>\n",
       "      <td>Honolulu</td>\n",
       "    </tr>\n",
       "    <tr>\n",
       "      <th>2</th>\n",
       "      <td>2015-12-16</td>\n",
       "      <td>0.214823</td>\n",
       "      <td>Los Angeles</td>\n",
       "    </tr>\n",
       "    <tr>\n",
       "      <th>3</th>\n",
       "      <td>2015-12-16</td>\n",
       "      <td>0.456621</td>\n",
       "      <td>Miami</td>\n",
       "    </tr>\n",
       "    <tr>\n",
       "      <th>4</th>\n",
       "      <td>2015-12-17</td>\n",
       "      <td>1.320132</td>\n",
       "      <td>Honolulu</td>\n",
       "    </tr>\n",
       "    <tr>\n",
       "      <th>...</th>\n",
       "      <td>...</td>\n",
       "      <td>...</td>\n",
       "      <td>...</td>\n",
       "    </tr>\n",
       "    <tr>\n",
       "      <th>9021</th>\n",
       "      <td>2020-11-28</td>\n",
       "      <td>48.184818</td>\n",
       "      <td>Honolulu</td>\n",
       "    </tr>\n",
       "    <tr>\n",
       "      <th>9022</th>\n",
       "      <td>2020-11-28</td>\n",
       "      <td>53.200000</td>\n",
       "      <td>Anchorage</td>\n",
       "    </tr>\n",
       "    <tr>\n",
       "      <th>9023</th>\n",
       "      <td>2020-11-28</td>\n",
       "      <td>51.826484</td>\n",
       "      <td>Miami</td>\n",
       "    </tr>\n",
       "    <tr>\n",
       "      <th>9024</th>\n",
       "      <td>2020-11-28</td>\n",
       "      <td>50.053706</td>\n",
       "      <td>Chicago</td>\n",
       "    </tr>\n",
       "    <tr>\n",
       "      <th>9025</th>\n",
       "      <td>2020-11-28</td>\n",
       "      <td>57.357680</td>\n",
       "      <td>Los Angeles</td>\n",
       "    </tr>\n",
       "  </tbody>\n",
       "</table>\n",
       "<p>9026 rows × 3 columns</p>\n",
       "</div>"
      ],
      "text/plain": [
       "           Date  occupancy_rate         city\n",
       "0    2015-12-16        0.322234      Chicago\n",
       "1    2015-12-16        0.330033     Honolulu\n",
       "2    2015-12-16        0.214823  Los Angeles\n",
       "3    2015-12-16        0.456621        Miami\n",
       "4    2015-12-17        1.320132     Honolulu\n",
       "...         ...             ...          ...\n",
       "9021 2020-11-28       48.184818     Honolulu\n",
       "9022 2020-11-28       53.200000    Anchorage\n",
       "9023 2020-11-28       51.826484        Miami\n",
       "9024 2020-11-28       50.053706      Chicago\n",
       "9025 2020-11-28       57.357680  Los Angeles\n",
       "\n",
       "[9026 rows x 3 columns]"
      ]
     },
     "execution_count": 9,
     "metadata": {},
     "output_type": "execute_result"
    }
   ],
   "source": [
    "df = bed_occupancy_dataset[['Date', 'occupancy_rate','city']]\n",
    "df"
   ]
  },
  {
   "cell_type": "code",
   "execution_count": 10,
   "metadata": {
    "lines_to_next_cell": 2
   },
   "outputs": [],
   "source": [
    "timeseries_df = df[['Date', 'occupancy_rate','city']]"
   ]
  },
  {
   "cell_type": "markdown",
   "metadata": {},
   "source": [
    "### Split train and test datasets"
   ]
  },
  {
   "cell_type": "code",
   "execution_count": 11,
   "metadata": {
    "lines_to_next_cell": 2
   },
   "outputs": [],
   "source": [
    "date_cutoff = \"2020-9-30\""
   ]
  },
  {
   "cell_type": "code",
   "execution_count": 12,
   "metadata": {
    "lines_to_next_cell": 2,
    "scrolled": true
   },
   "outputs": [
    {
     "data": {
      "text/html": [
       "<div>\n",
       "<style scoped>\n",
       "    .dataframe tbody tr th:only-of-type {\n",
       "        vertical-align: middle;\n",
       "    }\n",
       "\n",
       "    .dataframe tbody tr th {\n",
       "        vertical-align: top;\n",
       "    }\n",
       "\n",
       "    .dataframe thead th {\n",
       "        text-align: right;\n",
       "    }\n",
       "</style>\n",
       "<table border=\"1\" class=\"dataframe\">\n",
       "  <thead>\n",
       "    <tr style=\"text-align: right;\">\n",
       "      <th></th>\n",
       "      <th>Date</th>\n",
       "      <th>occupancy_rate</th>\n",
       "      <th>city</th>\n",
       "    </tr>\n",
       "  </thead>\n",
       "  <tbody>\n",
       "    <tr>\n",
       "      <th>0</th>\n",
       "      <td>2015-12-16</td>\n",
       "      <td>0.322234</td>\n",
       "      <td>Chicago</td>\n",
       "    </tr>\n",
       "    <tr>\n",
       "      <th>1</th>\n",
       "      <td>2015-12-16</td>\n",
       "      <td>0.330033</td>\n",
       "      <td>Honolulu</td>\n",
       "    </tr>\n",
       "    <tr>\n",
       "      <th>2</th>\n",
       "      <td>2015-12-16</td>\n",
       "      <td>0.214823</td>\n",
       "      <td>Los Angeles</td>\n",
       "    </tr>\n",
       "    <tr>\n",
       "      <th>3</th>\n",
       "      <td>2015-12-16</td>\n",
       "      <td>0.456621</td>\n",
       "      <td>Miami</td>\n",
       "    </tr>\n",
       "    <tr>\n",
       "      <th>4</th>\n",
       "      <td>2015-12-17</td>\n",
       "      <td>1.320132</td>\n",
       "      <td>Honolulu</td>\n",
       "    </tr>\n",
       "    <tr>\n",
       "      <th>...</th>\n",
       "      <td>...</td>\n",
       "      <td>...</td>\n",
       "      <td>...</td>\n",
       "    </tr>\n",
       "    <tr>\n",
       "      <th>8727</th>\n",
       "      <td>2020-09-30</td>\n",
       "      <td>1.396348</td>\n",
       "      <td>Chicago</td>\n",
       "    </tr>\n",
       "    <tr>\n",
       "      <th>8728</th>\n",
       "      <td>2020-09-30</td>\n",
       "      <td>3.424658</td>\n",
       "      <td>Miami</td>\n",
       "    </tr>\n",
       "    <tr>\n",
       "      <th>8729</th>\n",
       "      <td>2020-09-30</td>\n",
       "      <td>3.630363</td>\n",
       "      <td>Honolulu</td>\n",
       "    </tr>\n",
       "    <tr>\n",
       "      <th>8730</th>\n",
       "      <td>2020-09-30</td>\n",
       "      <td>2.000000</td>\n",
       "      <td>Anchorage</td>\n",
       "    </tr>\n",
       "    <tr>\n",
       "      <th>8731</th>\n",
       "      <td>2020-09-30</td>\n",
       "      <td>0.859291</td>\n",
       "      <td>Los Angeles</td>\n",
       "    </tr>\n",
       "  </tbody>\n",
       "</table>\n",
       "<p>8732 rows × 3 columns</p>\n",
       "</div>"
      ],
      "text/plain": [
       "           Date  occupancy_rate         city\n",
       "0    2015-12-16        0.322234      Chicago\n",
       "1    2015-12-16        0.330033     Honolulu\n",
       "2    2015-12-16        0.214823  Los Angeles\n",
       "3    2015-12-16        0.456621        Miami\n",
       "4    2015-12-17        1.320132     Honolulu\n",
       "...         ...             ...          ...\n",
       "8727 2020-09-30        1.396348      Chicago\n",
       "8728 2020-09-30        3.424658        Miami\n",
       "8729 2020-09-30        3.630363     Honolulu\n",
       "8730 2020-09-30        2.000000    Anchorage\n",
       "8731 2020-09-30        0.859291  Los Angeles\n",
       "\n",
       "[8732 rows x 3 columns]"
      ]
     },
     "execution_count": 12,
     "metadata": {},
     "output_type": "execute_result"
    }
   ],
   "source": [
    "train_df = timeseries_df[timeseries_df['Date'] <= date_cutoff]\n",
    "train_df"
   ]
  },
  {
   "cell_type": "code",
   "execution_count": 13,
   "metadata": {
    "lines_to_next_cell": 2
   },
   "outputs": [
    {
     "data": {
      "text/html": [
       "<div>\n",
       "<style scoped>\n",
       "    .dataframe tbody tr th:only-of-type {\n",
       "        vertical-align: middle;\n",
       "    }\n",
       "\n",
       "    .dataframe tbody tr th {\n",
       "        vertical-align: top;\n",
       "    }\n",
       "\n",
       "    .dataframe thead th {\n",
       "        text-align: right;\n",
       "    }\n",
       "</style>\n",
       "<table border=\"1\" class=\"dataframe\">\n",
       "  <thead>\n",
       "    <tr style=\"text-align: right;\">\n",
       "      <th></th>\n",
       "      <th>Date</th>\n",
       "      <th>occupancy_rate</th>\n",
       "      <th>city</th>\n",
       "    </tr>\n",
       "  </thead>\n",
       "  <tbody>\n",
       "    <tr>\n",
       "      <th>8727</th>\n",
       "      <td>2020-09-30</td>\n",
       "      <td>1.396348</td>\n",
       "      <td>Chicago</td>\n",
       "    </tr>\n",
       "    <tr>\n",
       "      <th>8728</th>\n",
       "      <td>2020-09-30</td>\n",
       "      <td>3.424658</td>\n",
       "      <td>Miami</td>\n",
       "    </tr>\n",
       "    <tr>\n",
       "      <th>8729</th>\n",
       "      <td>2020-09-30</td>\n",
       "      <td>3.630363</td>\n",
       "      <td>Honolulu</td>\n",
       "    </tr>\n",
       "    <tr>\n",
       "      <th>8730</th>\n",
       "      <td>2020-09-30</td>\n",
       "      <td>2.000000</td>\n",
       "      <td>Anchorage</td>\n",
       "    </tr>\n",
       "    <tr>\n",
       "      <th>8731</th>\n",
       "      <td>2020-09-30</td>\n",
       "      <td>0.859291</td>\n",
       "      <td>Los Angeles</td>\n",
       "    </tr>\n",
       "    <tr>\n",
       "      <th>...</th>\n",
       "      <td>...</td>\n",
       "      <td>...</td>\n",
       "      <td>...</td>\n",
       "    </tr>\n",
       "    <tr>\n",
       "      <th>9021</th>\n",
       "      <td>2020-11-28</td>\n",
       "      <td>48.184818</td>\n",
       "      <td>Honolulu</td>\n",
       "    </tr>\n",
       "    <tr>\n",
       "      <th>9022</th>\n",
       "      <td>2020-11-28</td>\n",
       "      <td>53.200000</td>\n",
       "      <td>Anchorage</td>\n",
       "    </tr>\n",
       "    <tr>\n",
       "      <th>9023</th>\n",
       "      <td>2020-11-28</td>\n",
       "      <td>51.826484</td>\n",
       "      <td>Miami</td>\n",
       "    </tr>\n",
       "    <tr>\n",
       "      <th>9024</th>\n",
       "      <td>2020-11-28</td>\n",
       "      <td>50.053706</td>\n",
       "      <td>Chicago</td>\n",
       "    </tr>\n",
       "    <tr>\n",
       "      <th>9025</th>\n",
       "      <td>2020-11-28</td>\n",
       "      <td>57.357680</td>\n",
       "      <td>Los Angeles</td>\n",
       "    </tr>\n",
       "  </tbody>\n",
       "</table>\n",
       "<p>299 rows × 3 columns</p>\n",
       "</div>"
      ],
      "text/plain": [
       "           Date  occupancy_rate         city\n",
       "8727 2020-09-30        1.396348      Chicago\n",
       "8728 2020-09-30        3.424658        Miami\n",
       "8729 2020-09-30        3.630363     Honolulu\n",
       "8730 2020-09-30        2.000000    Anchorage\n",
       "8731 2020-09-30        0.859291  Los Angeles\n",
       "...         ...             ...          ...\n",
       "9021 2020-11-28       48.184818     Honolulu\n",
       "9022 2020-11-28       53.200000    Anchorage\n",
       "9023 2020-11-28       51.826484        Miami\n",
       "9024 2020-11-28       50.053706      Chicago\n",
       "9025 2020-11-28       57.357680  Los Angeles\n",
       "\n",
       "[299 rows x 3 columns]"
      ]
     },
     "execution_count": 13,
     "metadata": {},
     "output_type": "execute_result"
    }
   ],
   "source": [
    "test_df = timeseries_df[timeseries_df['Date'] >= date_cutoff]\n",
    "test_df"
   ]
  },
  {
   "cell_type": "code",
   "execution_count": 14,
   "metadata": {
    "lines_to_next_cell": 2
   },
   "outputs": [],
   "source": [
    "train_df_dict = {}\n",
    "test_df_dict = {}"
   ]
  },
  {
   "cell_type": "code",
   "execution_count": 15,
   "metadata": {
    "lines_to_next_cell": 2
   },
   "outputs": [
    {
     "name": "stdout",
     "output_type": "stream",
     "text": [
      "['Chicago' 'Honolulu' 'Los Angeles' 'Miami' 'Anchorage']\n"
     ]
    }
   ],
   "source": [
    "cities=train_df.city.unique()\n",
    "print(cities)"
   ]
  },
  {
   "cell_type": "code",
   "execution_count": 16,
   "metadata": {
    "lines_to_next_cell": 2
   },
   "outputs": [],
   "source": [
    "local_data_folder = 'bed_occupancy_data/'\n",
    "if not os.path.exists(local_data_folder):\n",
    "    os.mkdir(local_data_folder)"
   ]
  },
  {
   "cell_type": "code",
   "execution_count": 17,
   "metadata": {
    "lines_to_next_cell": 2
   },
   "outputs": [],
   "source": [
    "def process_city(city):\n",
    "    if \" \" in city:\n",
    "        city2 = city.replace(\" \", '_')\n",
    "    else:\n",
    "        city2 = city\n",
    "    return city2"
   ]
  },
  {
   "cell_type": "markdown",
   "metadata": {},
   "source": [
    "## Upload the train and test datasets to data store"
   ]
  },
  {
   "cell_type": "code",
   "execution_count": 18,
   "metadata": {
    "lines_to_next_cell": 2
   },
   "outputs": [
    {
     "name": "stdout",
     "output_type": "stream",
     "text": [
      "Uploading an estimated of 2 files\n",
      "Uploading bed_occupancy_data/occupancy_train_Chicago.csv\n",
      "Uploaded bed_occupancy_data/occupancy_train_Chicago.csv, 1 files out of an estimated total of 2\n",
      "Uploading bed_occupancy_data/occupancy_test_Chicago.csv\n",
      "Uploaded bed_occupancy_data/occupancy_test_Chicago.csv, 2 files out of an estimated total of 2\n",
      "Uploaded 2 files\n",
      "Uploading an estimated of 2 files\n",
      "Uploading bed_occupancy_data/occupancy_train_Honolulu.csv\n",
      "Uploaded bed_occupancy_data/occupancy_train_Honolulu.csv, 1 files out of an estimated total of 2\n",
      "Uploading bed_occupancy_data/occupancy_test_Honolulu.csv\n",
      "Uploaded bed_occupancy_data/occupancy_test_Honolulu.csv, 2 files out of an estimated total of 2\n",
      "Uploaded 2 files\n",
      "Uploading an estimated of 2 files\n",
      "Uploading bed_occupancy_data/occupancy_train_Los_Angeles.csv\n",
      "Uploaded bed_occupancy_data/occupancy_train_Los_Angeles.csv, 1 files out of an estimated total of 2\n",
      "Uploading bed_occupancy_data/occupancy_test_Los_Angeles.csv\n",
      "Uploaded bed_occupancy_data/occupancy_test_Los_Angeles.csv, 2 files out of an estimated total of 2\n",
      "Uploaded 2 files\n",
      "Uploading an estimated of 2 files\n",
      "Uploading bed_occupancy_data/occupancy_train_Miami.csv\n",
      "Uploaded bed_occupancy_data/occupancy_train_Miami.csv, 1 files out of an estimated total of 2\n",
      "Uploading bed_occupancy_data/occupancy_test_Miami.csv\n",
      "Uploaded bed_occupancy_data/occupancy_test_Miami.csv, 2 files out of an estimated total of 2\n",
      "Uploaded 2 files\n",
      "Uploading an estimated of 2 files\n",
      "Uploading bed_occupancy_data/occupancy_train_Anchorage.csv\n",
      "Uploaded bed_occupancy_data/occupancy_train_Anchorage.csv, 1 files out of an estimated total of 2\n",
      "Uploading bed_occupancy_data/occupancy_test_Anchorage.csv\n",
      "Uploaded bed_occupancy_data/occupancy_test_Anchorage.csv, 2 files out of an estimated total of 2\n",
      "Uploaded 2 files\n"
     ]
    }
   ],
   "source": [
    "for _,city in enumerate(cities):\n",
    "    city2 = process_city(city)\n",
    "    train_df_dict[city2]= train_df[train_df['city']== city][['Date', 'occupancy_rate']]\n",
    "    test_df_dict[city2]= pd.date_range('2020-10-01', periods=92, freq='D').to_frame(index=False, name=\"Date\")\n",
    "    train_df_dict[city2].to_csv(f'{local_data_folder}occupancy_train_{city2}.csv', index=False)\n",
    "    test_df_dict[city2].to_csv(f'{local_data_folder}occupancy_test_{city2}.csv', index=False)\n",
    "    dstore.upload_files(\n",
    "    files = [f'{local_data_folder}occupancy_train_{city2}.csv',f'{local_data_folder}occupancy_test_{city2}.csv'],\n",
    "    relative_root = local_data_folder,\n",
    "    target_path = '/',\n",
    "    overwrite=True,\n",
    "    show_progress=True\n",
    ")"
   ]
  },
  {
   "cell_type": "markdown",
   "metadata": {},
   "source": [
    "## Build the models in Azure AutoML"
   ]
  },
  {
   "cell_type": "code",
   "execution_count": 19,
   "metadata": {},
   "outputs": [
    {
     "name": "stdout",
     "output_type": "stream",
     "text": [
      "2\n"
     ]
    }
   ],
   "source": [
    "data_types = {\n",
    "    'occupancy_rate': DataType.to_float(),\n",
    "    'Date': DataType.to_datetime(\"%Y-%m-%d\")\n",
    "}\n",
    "\n",
    "print(len(data_types))\n",
    "\n",
    "\n",
    "# #### Load Training data from Storage Blob as a TabularDataSet"
   ]
  },
  {
   "cell_type": "code",
   "execution_count": 20,
   "metadata": {
    "lines_to_next_cell": 2
   },
   "outputs": [],
   "source": [
    "y_variable = \"occupancy_rate\""
   ]
  },
  {
   "cell_type": "code",
   "execution_count": 22,
   "metadata": {
    "lines_to_next_cell": 2
   },
   "outputs": [],
   "source": [
    "compute = AmlCompute(ws, \"health-cluster\")"
   ]
  },
  {
   "cell_type": "code",
   "execution_count": 23,
   "metadata": {
    "lines_to_next_cell": 2
   },
   "outputs": [],
   "source": [
    "local_runs={}"
   ]
  },
  {
   "cell_type": "code",
   "execution_count": 24,
   "metadata": {
    "lines_to_next_cell": 2
   },
   "outputs": [
    {
     "name": "stdout",
     "output_type": "stream",
     "text": [
      "/occupancy_train_Chicago.csv\n",
      "Bed_Occupancyv3_Chicago\n",
      "TabularDataset\n",
      "{\n",
      "  \"source\": [\n",
      "    \"('total_occupancy_prediction_store', 'occupancy_train_Chicago.csv')\"\n",
      "  ],\n",
      "  \"definition\": [\n",
      "    \"GetDatastoreFiles\",\n",
      "    \"ParseDelimited\",\n",
      "    \"DropColumns\",\n",
      "    \"SetColumnTypes\",\n",
      "    \"SetColumnTypes\"\n",
      "  ]\n",
      "}\n",
      "Running on remote.\n",
      "/occupancy_train_Honolulu.csv\n",
      "Bed_Occupancyv3_Honolulu\n",
      "TabularDataset\n",
      "{\n",
      "  \"source\": [\n",
      "    \"('total_occupancy_prediction_store', 'occupancy_train_Honolulu.csv')\"\n",
      "  ],\n",
      "  \"definition\": [\n",
      "    \"GetDatastoreFiles\",\n",
      "    \"ParseDelimited\",\n",
      "    \"DropColumns\",\n",
      "    \"SetColumnTypes\",\n",
      "    \"SetColumnTypes\"\n",
      "  ]\n",
      "}\n",
      "Running on remote.\n",
      "/occupancy_train_Los_Angeles.csv\n",
      "Bed_Occupancyv3_Los_Angeles\n",
      "TabularDataset\n",
      "{\n",
      "  \"source\": [\n",
      "    \"('total_occupancy_prediction_store', 'occupancy_train_Los_Angeles.csv')\"\n",
      "  ],\n",
      "  \"definition\": [\n",
      "    \"GetDatastoreFiles\",\n",
      "    \"ParseDelimited\",\n",
      "    \"DropColumns\",\n",
      "    \"SetColumnTypes\",\n",
      "    \"SetColumnTypes\"\n",
      "  ]\n",
      "}\n",
      "Running on remote.\n",
      "/occupancy_train_Miami.csv\n",
      "Bed_Occupancyv3_Miami\n",
      "TabularDataset\n",
      "{\n",
      "  \"source\": [\n",
      "    \"('total_occupancy_prediction_store', 'occupancy_train_Miami.csv')\"\n",
      "  ],\n",
      "  \"definition\": [\n",
      "    \"GetDatastoreFiles\",\n",
      "    \"ParseDelimited\",\n",
      "    \"DropColumns\",\n",
      "    \"SetColumnTypes\",\n",
      "    \"SetColumnTypes\"\n",
      "  ]\n",
      "}\n",
      "Running on remote.\n",
      "/occupancy_train_Anchorage.csv\n",
      "Bed_Occupancyv3_Anchorage\n",
      "TabularDataset\n",
      "{\n",
      "  \"source\": [\n",
      "    \"('total_occupancy_prediction_store', 'occupancy_train_Anchorage.csv')\"\n",
      "  ],\n",
      "  \"definition\": [\n",
      "    \"GetDatastoreFiles\",\n",
      "    \"ParseDelimited\",\n",
      "    \"DropColumns\",\n",
      "    \"SetColumnTypes\",\n",
      "    \"SetColumnTypes\"\n",
      "  ]\n",
      "}\n",
      "Running on remote.\n"
     ]
    }
   ],
   "source": [
    "for i,city in enumerate(cities):\n",
    "    city2 = process_city(city)\n",
    "    filepath = f'/occupancy_train_{city2}.csv'\n",
    "    print(filepath)\n",
    "    datastore_path = [DataPath(dstore, filepath)]\n",
    "    traindataset = Dataset.Tabular.from_delimited_files(path=datastore_path, set_column_types=data_types)\n",
    "    experiment_name = f'Bed_Occupancyv3_{city2}'\n",
    "    print(experiment_name)\n",
    "    print(traindataset)\n",
    "    experiment = Experiment(ws, experiment_name)\n",
    "\n",
    "    automl_config = AutoMLConfig(task = 'forecasting',\n",
    "                         debug_log = 'automl_errors.log',\n",
    "                         iteration_timeout_minutes = 15,\n",
    "                         n_cross_validations=3,\n",
    "                         experiment_timeout_minutes = 15,\n",
    "                         label_column_name=y_variable,\n",
    "                         time_column_name='Date',\n",
    "                         enable_early_stopping=True,\n",
    "                         compute_target = compute,\n",
    "                         training_data = traindataset,\n",
    "                         model_explainability=True)\n",
    "    local_run = experiment.submit(automl_config, show_output = False)\n",
    "    local_runs[city2]=local_run"
   ]
  },
  {
   "cell_type": "code",
   "execution_count": 30,
   "metadata": {},
   "outputs": [
    {
     "name": "stdout",
     "output_type": "stream",
     "text": [
      "Run(Experiment: Bed_Occupancyv3_Anchorage,\n",
      "Id: AutoML_f939ef2f-35fb-4191-9260-260ece9031a6,\n",
      "Type: automl,\n",
      "Status: NotStarted)\n"
     ]
    },
    {
     "data": {
      "application/vnd.jupyter.widget-view+json": {
       "model_id": "41397581efc64654af48529d354916c6",
       "version_major": 2,
       "version_minor": 0
      },
      "text/plain": [
       "_AutoMLWidget(widget_settings={'childWidgetDisplay': 'popup', 'send_telemetry': False, 'log_level': 'INFO', 's…"
      ]
     },
     "metadata": {},
     "output_type": "display_data"
    },
    {
     "data": {
      "application/aml.mini.widget.v1": "{\"status\": \"Completed\", \"workbench_run_details_uri\": \"https://ml.azure.com/experiments/Bed_Occupancyv3_Chicago/runs/AutoML_447622bc-3d5d-4e2e-b0e8-0e0067c0a5d2?wsid=/subscriptions/6f6a71d2-83bb-42b0-9912-2e243ef214c4/resourcegroups/rg-healthcare-dev/workspaces/mlw-healthcare-dev\", \"run_id\": \"AutoML_447622bc-3d5d-4e2e-b0e8-0e0067c0a5d2\", \"run_properties\": {\"run_id\": \"AutoML_447622bc-3d5d-4e2e-b0e8-0e0067c0a5d2\", \"created_utc\": \"2020-12-15T15:59:06.884562Z\", \"properties\": {\"num_iterations\": \"1000\", \"training_type\": \"TrainFull\", \"acquisition_function\": \"EI\", \"primary_metric\": \"normalized_root_mean_squared_error\", \"train_split\": \"0\", \"acquisition_parameter\": \"0\", \"num_cross_validation\": \"3\", \"target\": \"health-cluster\", \"AMLSettingsJsonString\": \"{\\\"path\\\":null,\\\"name\\\":\\\"Bed_Occupancyv3_Chicago\\\",\\\"subscription_id\\\":\\\"6f6a71d2-83bb-42b0-9912-2e243ef214c4\\\",\\\"resource_group\\\":\\\"rg-healthcare-dev\\\",\\\"workspace_name\\\":\\\"mlw-healthcare-dev\\\",\\\"region\\\":\\\"westus2\\\",\\\"compute_target\\\":\\\"health-cluster\\\",\\\"spark_service\\\":null,\\\"azure_service\\\":\\\"remote\\\",\\\"many_models\\\":false,\\\"pipeline_fetch_max_batch_size\\\":1,\\\"iterations\\\":1000,\\\"primary_metric\\\":\\\"normalized_root_mean_squared_error\\\",\\\"task_type\\\":\\\"regression\\\",\\\"data_script\\\":null,\\\"validation_size\\\":0.0,\\\"n_cross_validations\\\":3,\\\"y_min\\\":null,\\\"y_max\\\":null,\\\"num_classes\\\":null,\\\"featurization\\\":\\\"auto\\\",\\\"_ignore_package_version_incompatibilities\\\":false,\\\"is_timeseries\\\":true,\\\"max_cores_per_iteration\\\":1,\\\"max_concurrent_iterations\\\":1,\\\"iteration_timeout_minutes\\\":15,\\\"mem_in_mb\\\":null,\\\"enforce_time_on_windows\\\":false,\\\"experiment_timeout_minutes\\\":15,\\\"experiment_exit_score\\\":null,\\\"whitelist_models\\\":null,\\\"blacklist_algos\\\":[\\\"TensorFlowDNN\\\",\\\"TensorFlowLinearRegressor\\\",\\\"Naive\\\",\\\"SeasonalNaive\\\",\\\"Average\\\",\\\"SeasonalAverage\\\",\\\"ExponentialSmoothing\\\",\\\"Arimax\\\"],\\\"supported_models\\\":[\\\"TensorFlowLinearRegressor\\\",\\\"GradientBoosting\\\",\\\"SeasonalNaive\\\",\\\"Average\\\",\\\"TensorFlowDNN\\\",\\\"SeasonalAverage\\\",\\\"XGBoostRegressor\\\",\\\"Prophet\\\",\\\"Naive\\\",\\\"ExtremeRandomTrees\\\",\\\"DecisionTree\\\",\\\"LassoLars\\\",\\\"AutoArima\\\",\\\"KNN\\\",\\\"LightGBM\\\",\\\"RandomForest\\\",\\\"ElasticNet\\\",\\\"TCNForecaster\\\",\\\"SGD\\\"],\\\"auto_blacklist\\\":true,\\\"blacklist_samples_reached\\\":false,\\\"exclude_nan_labels\\\":true,\\\"verbosity\\\":20,\\\"_debug_log\\\":\\\"azureml_automl.log\\\",\\\"show_warnings\\\":false,\\\"model_explainability\\\":true,\\\"service_url\\\":null,\\\"sdk_url\\\":null,\\\"sdk_packages\\\":null,\\\"enable_onnx_compatible_models\\\":false,\\\"enable_split_onnx_featurizer_estimator_models\\\":false,\\\"vm_type\\\":\\\"STANDARD_D2_V2\\\",\\\"telemetry_verbosity\\\":20,\\\"send_telemetry\\\":true,\\\"enable_dnn\\\":false,\\\"scenario\\\":\\\"SDK-1.13.0\\\",\\\"environment_label\\\":null,\\\"force_text_dnn\\\":false,\\\"enable_feature_sweeping\\\":false,\\\"time_column_name\\\":\\\"Date\\\",\\\"grain_column_names\\\":null,\\\"drop_column_names\\\":[],\\\"max_horizon\\\":1,\\\"dropna\\\":false,\\\"overwrite_columns\\\":true,\\\"transform_dictionary\\\":{\\\"min\\\":\\\"_automl_target_col\\\",\\\"max\\\":\\\"_automl_target_col\\\",\\\"mean\\\":\\\"_automl_target_col\\\"},\\\"window_size\\\":null,\\\"country_or_region\\\":null,\\\"lags\\\":null,\\\"feature_lags\\\":null,\\\"seasonality\\\":\\\"auto\\\",\\\"use_stl\\\":null,\\\"short_series_handling\\\":true,\\\"freq\\\":null,\\\"short_series_handling_configuration\\\":\\\"auto\\\",\\\"enable_early_stopping\\\":true,\\\"early_stopping_n_iters\\\":10,\\\"metrics\\\":null,\\\"enable_ensembling\\\":true,\\\"enable_stack_ensembling\\\":false,\\\"ensemble_iterations\\\":15,\\\"enable_tf\\\":false,\\\"enable_subsampling\\\":false,\\\"subsample_seed\\\":null,\\\"enable_nimbusml\\\":false,\\\"enable_streaming\\\":false,\\\"force_streaming\\\":false,\\\"track_child_runs\\\":true,\\\"allowed_private_models\\\":[],\\\"label_column_name\\\":\\\"occupancy_rate\\\",\\\"weight_column_name\\\":null,\\\"cv_split_column_names\\\":null,\\\"enable_local_managed\\\":false,\\\"_local_managed_run_id\\\":null,\\\"cost_mode\\\":1,\\\"lag_length\\\":0,\\\"metric_operation\\\":\\\"minimize\\\",\\\"preprocess\\\":true}\", \"DataPrepJsonString\": \"{\\\\\\\"training_data\\\\\\\": \\\\\\\"{\\\\\\\\\\\\\\\"blocks\\\\\\\\\\\\\\\": [{\\\\\\\\\\\\\\\"id\\\\\\\\\\\\\\\": \\\\\\\\\\\\\\\"a5a18e97-8290-4960-afd5-ac86523bcec2\\\\\\\\\\\\\\\", \\\\\\\\\\\\\\\"type\\\\\\\\\\\\\\\": \\\\\\\\\\\\\\\"Microsoft.DPrep.GetDatastoreFilesBlock\\\\\\\\\\\\\\\", \\\\\\\\\\\\\\\"arguments\\\\\\\\\\\\\\\": {\\\\\\\\\\\\\\\"datastores\\\\\\\\\\\\\\\": [{\\\\\\\\\\\\\\\"datastoreName\\\\\\\\\\\\\\\": \\\\\\\\\\\\\\\"total_occupancy_prediction_store\\\\\\\\\\\\\\\", \\\\\\\\\\\\\\\"path\\\\\\\\\\\\\\\": \\\\\\\\\\\\\\\"occupancy_train_Chicago.csv\\\\\\\\\\\\\\\", \\\\\\\\\\\\\\\"resourceGroup\\\\\\\\\\\\\\\": \\\\\\\\\\\\\\\"rg-healthcare-dev\\\\\\\\\\\\\\\", \\\\\\\\\\\\\\\"subscription\\\\\\\\\\\\\\\": \\\\\\\\\\\\\\\"6f6a71d2-83bb-42b0-9912-2e243ef214c4\\\\\\\\\\\\\\\", \\\\\\\\\\\\\\\"workspaceName\\\\\\\\\\\\\\\": \\\\\\\\\\\\\\\"mlw-healthcare-dev\\\\\\\\\\\\\\\"}]}, \\\\\\\\\\\\\\\"localData\\\\\\\\\\\\\\\": {}, \\\\\\\\\\\\\\\"isEnabled\\\\\\\\\\\\\\\": true, \\\\\\\\\\\\\\\"name\\\\\\\\\\\\\\\": null, \\\\\\\\\\\\\\\"annotation\\\\\\\\\\\\\\\": null}, {\\\\\\\\\\\\\\\"id\\\\\\\\\\\\\\\": \\\\\\\\\\\\\\\"a8fa623b-e9a7-4e3e-8f3a-a9134d85e7c2\\\\\\\\\\\\\\\", \\\\\\\\\\\\\\\"type\\\\\\\\\\\\\\\": \\\\\\\\\\\\\\\"Microsoft.DPrep.ParseDelimitedBlock\\\\\\\\\\\\\\\", \\\\\\\\\\\\\\\"arguments\\\\\\\\\\\\\\\": {\\\\\\\\\\\\\\\"columnHeadersMode\\\\\\\\\\\\\\\": 3, \\\\\\\\\\\\\\\"fileEncoding\\\\\\\\\\\\\\\": 0, \\\\\\\\\\\\\\\"handleQuotedLineBreaks\\\\\\\\\\\\\\\": false, \\\\\\\\\\\\\\\"preview\\\\\\\\\\\\\\\": false, \\\\\\\\\\\\\\\"separator\\\\\\\\\\\\\\\": \\\\\\\\\\\\\\\",\\\\\\\\\\\\\\\", \\\\\\\\\\\\\\\"skipRows\\\\\\\\\\\\\\\": 0, \\\\\\\\\\\\\\\"skipRowsMode\\\\\\\\\\\\\\\": 0}, \\\\\\\\\\\\\\\"localData\\\\\\\\\\\\\\\": {}, \\\\\\\\\\\\\\\"isEnabled\\\\\\\\\\\\\\\": true, \\\\\\\\\\\\\\\"name\\\\\\\\\\\\\\\": null, \\\\\\\\\\\\\\\"annotation\\\\\\\\\\\\\\\": null}, {\\\\\\\\\\\\\\\"id\\\\\\\\\\\\\\\": \\\\\\\\\\\\\\\"0b9d723d-5dcf-4395-83a4-3f327045cd43\\\\\\\\\\\\\\\", \\\\\\\\\\\\\\\"type\\\\\\\\\\\\\\\": \\\\\\\\\\\\\\\"Microsoft.DPrep.DropColumnsBlock\\\\\\\\\\\\\\\", \\\\\\\\\\\\\\\"arguments\\\\\\\\\\\\\\\": {\\\\\\\\\\\\\\\"columns\\\\\\\\\\\\\\\": {\\\\\\\\\\\\\\\"type\\\\\\\\\\\\\\\": 0, \\\\\\\\\\\\\\\"details\\\\\\\\\\\\\\\": {\\\\\\\\\\\\\\\"selectedColumns\\\\\\\\\\\\\\\": [\\\\\\\\\\\\\\\"Path\\\\\\\\\\\\\\\"]}}}, \\\\\\\\\\\\\\\"localData\\\\\\\\\\\\\\\": {}, \\\\\\\\\\\\\\\"isEnabled\\\\\\\\\\\\\\\": true, \\\\\\\\\\\\\\\"name\\\\\\\\\\\\\\\": null, \\\\\\\\\\\\\\\"annotation\\\\\\\\\\\\\\\": null}, {\\\\\\\\\\\\\\\"id\\\\\\\\\\\\\\\": \\\\\\\\\\\\\\\"cadeed3f-d9f6-401f-a265-1af4ac13f52f\\\\\\\\\\\\\\\", \\\\\\\\\\\\\\\"type\\\\\\\\\\\\\\\": \\\\\\\\\\\\\\\"Microsoft.DPrep.SetColumnTypesBlock\\\\\\\\\\\\\\\", \\\\\\\\\\\\\\\"arguments\\\\\\\\\\\\\\\": {\\\\\\\\\\\\\\\"columnConversion\\\\\\\\\\\\\\\": [{\\\\\\\\\\\\\\\"column\\\\\\\\\\\\\\\": {\\\\\\\\\\\\\\\"type\\\\\\\\\\\\\\\": 2, \\\\\\\\\\\\\\\"details\\\\\\\\\\\\\\\": {\\\\\\\\\\\\\\\"selectedColumn\\\\\\\\\\\\\\\": \\\\\\\\\\\\\\\"Date\\\\\\\\\\\\\\\"}}, \\\\\\\\\\\\\\\"typeArguments\\\\\\\\\\\\\\\": {\\\\\\\\\\\\\\\"dateTimeFormats\\\\\\\\\\\\\\\": [\\\\\\\\\\\\\\\"%Y-%m-%d\\\\\\\\\\\\\\\"]}, \\\\\\\\\\\\\\\"typeProperty\\\\\\\\\\\\\\\": 4}, {\\\\\\\\\\\\\\\"column\\\\\\\\\\\\\\\": {\\\\\\\\\\\\\\\"type\\\\\\\\\\\\\\\": 2, \\\\\\\\\\\\\\\"details\\\\\\\\\\\\\\\": {\\\\\\\\\\\\\\\"selectedColumn\\\\\\\\\\\\\\\": \\\\\\\\\\\\\\\"occupancy_rate\\\\\\\\\\\\\\\"}}, \\\\\\\\\\\\\\\"typeProperty\\\\\\\\\\\\\\\": 3}]}, \\\\\\\\\\\\\\\"localData\\\\\\\\\\\\\\\": {}, \\\\\\\\\\\\\\\"isEnabled\\\\\\\\\\\\\\\": true, \\\\\\\\\\\\\\\"name\\\\\\\\\\\\\\\": null, \\\\\\\\\\\\\\\"annotation\\\\\\\\\\\\\\\": null}, {\\\\\\\\\\\\\\\"id\\\\\\\\\\\\\\\": \\\\\\\\\\\\\\\"10bbd086-9b0f-4148-b00b-e463bee5710f\\\\\\\\\\\\\\\", \\\\\\\\\\\\\\\"type\\\\\\\\\\\\\\\": \\\\\\\\\\\\\\\"Microsoft.DPrep.SetColumnTypesBlock\\\\\\\\\\\\\\\", \\\\\\\\\\\\\\\"arguments\\\\\\\\\\\\\\\": {\\\\\\\\\\\\\\\"columnConversion\\\\\\\\\\\\\\\": [{\\\\\\\\\\\\\\\"column\\\\\\\\\\\\\\\": {\\\\\\\\\\\\\\\"type\\\\\\\\\\\\\\\": 2, \\\\\\\\\\\\\\\"details\\\\\\\\\\\\\\\": {\\\\\\\\\\\\\\\"selectedColumn\\\\\\\\\\\\\\\": \\\\\\\\\\\\\\\"occupancy_rate\\\\\\\\\\\\\\\"}}, \\\\\\\\\\\\\\\"typeArguments\\\\\\\\\\\\\\\": {\\\\\\\\\\\\\\\"decimalMark\\\\\\\\\\\\\\\": 0}, \\\\\\\\\\\\\\\"typeProperty\\\\\\\\\\\\\\\": 3}, {\\\\\\\\\\\\\\\"column\\\\\\\\\\\\\\\": {\\\\\\\\\\\\\\\"type\\\\\\\\\\\\\\\": 2, \\\\\\\\\\\\\\\"details\\\\\\\\\\\\\\\": {\\\\\\\\\\\\\\\"selectedColumn\\\\\\\\\\\\\\\": \\\\\\\\\\\\\\\"Date\\\\\\\\\\\\\\\"}}, \\\\\\\\\\\\\\\"typeArguments\\\\\\\\\\\\\\\": {\\\\\\\\\\\\\\\"dateTimeFormats\\\\\\\\\\\\\\\": [\\\\\\\\\\\\\\\"%Y-%m-%d\\\\\\\\\\\\\\\"]}, \\\\\\\\\\\\\\\"typeProperty\\\\\\\\\\\\\\\": 4}]}, \\\\\\\\\\\\\\\"localData\\\\\\\\\\\\\\\": {}, \\\\\\\\\\\\\\\"isEnabled\\\\\\\\\\\\\\\": true, \\\\\\\\\\\\\\\"name\\\\\\\\\\\\\\\": null, \\\\\\\\\\\\\\\"annotation\\\\\\\\\\\\\\\": null}], \\\\\\\\\\\\\\\"inspectors\\\\\\\\\\\\\\\": [], \\\\\\\\\\\\\\\"meta\\\\\\\\\\\\\\\": {\\\\\\\\\\\\\\\"savedDatasetId\\\\\\\\\\\\\\\": \\\\\\\\\\\\\\\"c7303bc7-b9a9-4641-a395-1d2b1b9cdae2\\\\\\\\\\\\\\\", \\\\\\\\\\\\\\\"datasetType\\\\\\\\\\\\\\\": \\\\\\\\\\\\\\\"tabular\\\\\\\\\\\\\\\", \\\\\\\\\\\\\\\"subscriptionId\\\\\\\\\\\\\\\": \\\\\\\\\\\\\\\"6f6a71d2-83bb-42b0-9912-2e243ef214c4\\\\\\\\\\\\\\\", \\\\\\\\\\\\\\\"workspaceId\\\\\\\\\\\\\\\": \\\\\\\\\\\\\\\"68b1f4b3-18e1-4952-804b-b5188205e9ed\\\\\\\\\\\\\\\", \\\\\\\\\\\\\\\"workspaceLocation\\\\\\\\\\\\\\\": \\\\\\\\\\\\\\\"westus2\\\\\\\\\\\\\\\"}}\\\\\\\", \\\\\\\"activities\\\\\\\": 0}\", \"EnableSubsampling\": \"False\", \"runTemplate\": \"AutoML\", \"azureml.runsource\": \"automl\", \"display_task_type\": \"forecasting\", \"dependencies_versions\": \"{\\\"azureml-widgets\\\": \\\"1.19.0\\\", \\\"azureml-train\\\": \\\"1.19.0\\\", \\\"azureml-train-restclients-hyperdrive\\\": \\\"1.19.0\\\", \\\"azureml-train-core\\\": \\\"1.19.0\\\", \\\"azureml-train-automl\\\": \\\"1.19.0\\\", \\\"azureml-train-automl-runtime\\\": \\\"1.19.0\\\", \\\"azureml-train-automl-client\\\": \\\"1.19.0\\\", \\\"azureml-tensorboard\\\": \\\"1.19.0\\\", \\\"azureml-telemetry\\\": \\\"1.19.0\\\", \\\"azureml-sdk\\\": \\\"1.19.0\\\", \\\"azureml-samples\\\": \\\"0+unknown\\\", \\\"azureml-pipeline\\\": \\\"1.19.0\\\", \\\"azureml-pipeline-steps\\\": \\\"1.19.0\\\", \\\"azureml-pipeline-core\\\": \\\"1.19.0\\\", \\\"azureml-opendatasets\\\": \\\"1.19.0\\\", \\\"azureml-model-management-sdk\\\": \\\"1.0.1b6.post1\\\", \\\"azureml-mlflow\\\": \\\"1.19.0\\\", \\\"azureml-interpret\\\": \\\"1.19.0\\\", \\\"azureml-explain-model\\\": \\\"1.19.0\\\", \\\"azureml-defaults\\\": \\\"1.19.0\\\", \\\"azureml-dataset-runtime\\\": \\\"1.19.0\\\", \\\"azureml-dataprep\\\": \\\"2.6.1\\\", \\\"azureml-dataprep-rslex\\\": \\\"1.4.0\\\", \\\"azureml-dataprep-native\\\": \\\"26.0.0\\\", \\\"azureml-datadrift\\\": \\\"1.19.0\\\", \\\"azureml-core\\\": \\\"1.19.0\\\", \\\"azureml-contrib-services\\\": \\\"1.19.0\\\", \\\"azureml-contrib-server\\\": \\\"1.19.0\\\", \\\"azureml-contrib-reinforcementlearning\\\": \\\"1.19.0\\\", \\\"azureml-contrib-pipeline-steps\\\": \\\"1.19.0\\\", \\\"azureml-contrib-notebook\\\": \\\"1.19.0\\\", \\\"azureml-contrib-interpret\\\": \\\"1.19.0\\\", \\\"azureml-contrib-gbdt\\\": \\\"1.19.0\\\", \\\"azureml-contrib-fairness\\\": \\\"1.19.0\\\", \\\"azureml-contrib-dataset\\\": \\\"1.19.0\\\", \\\"azureml-cli-common\\\": \\\"1.19.0\\\", \\\"azureml-automl-runtime\\\": \\\"1.19.0\\\", \\\"azureml-automl-core\\\": \\\"1.19.0\\\", \\\"azureml-accel-models\\\": \\\"1.19.0\\\"}\", \"_aml_system_scenario_identification\": \"Remote.Parent\", \"ClientType\": \"SDK\", \"environment_cpu_name\": \"AzureML-AutoML\", \"environment_cpu_version\": \"49\", \"environment_gpu_name\": \"AzureML-AutoML-GPU\", \"environment_gpu_version\": \"37\", \"root_attribution\": \"automl\", \"attribution\": \"AutoML\", \"Orchestrator\": \"AutoML\", \"CancelUri\": \"https://westus2.experiments.azureml.net/jasmine/v1.0/subscriptions/6f6a71d2-83bb-42b0-9912-2e243ef214c4/resourceGroups/rg-healthcare-dev/providers/Microsoft.MachineLearningServices/workspaces/mlw-healthcare-dev/experimentids/62335415-bfbc-4686-806e-809ca87dd0fe/cancel/AutoML_447622bc-3d5d-4e2e-b0e8-0e0067c0a5d2\", \"ClientSdkVersion\": \"1.18.0.post1\", \"snapshotId\": \"00000000-0000-0000-0000-000000000000\", \"SetupRunId\": \"AutoML_447622bc-3d5d-4e2e-b0e8-0e0067c0a5d2_setup\", \"SetupRunContainerId\": \"dcid.AutoML_447622bc-3d5d-4e2e-b0e8-0e0067c0a5d2_setup\", \"forecasting_target_lags\": \"[0]\", \"forecasting_target_rolling_window_size\": \"0\", \"forecasting_max_horizon\": \"1\", \"ProblemInfoJsonString\": \"{\\\"dataset_num_categorical\\\": 0, \\\"is_sparse\\\": false, \\\"subsampling\\\": false, \\\"dataset_classes\\\": 487, \\\"dataset_features\\\": 8, \\\"dataset_samples\\\": 1748, \\\"single_frequency_class_detected\\\": false}\", \"ModelExplainRunId\": \"AutoML_447622bc-3d5d-4e2e-b0e8-0e0067c0a5d2_ModelExplain\"}, \"tags\": {\"model_explain_run\": \"best_run\", \"_aml_system_azureml.automlComponent\": \"AutoML\", \"pipeline_id\": \"\", \"score\": \"\", \"predicted_cost\": \"\", \"fit_time\": \"\", \"training_percent\": \"\", \"iteration\": \"\", \"run_preprocessor\": \"\", \"run_algorithm\": \"\", \"automl_best_child_run_id\": \"AutoML_447622bc-3d5d-4e2e-b0e8-0e0067c0a5d2_6\", \"model_explain_best_run_child_id\": \"AutoML_447622bc-3d5d-4e2e-b0e8-0e0067c0a5d2_6\"}, \"end_time_utc\": \"2020-12-15T16:21:45.446598Z\", \"status\": \"Completed\", \"log_files\": {}, \"log_groups\": [], \"run_duration\": \"0:22:38\"}, \"child_runs\": [{\"run_id\": \"AutoML_447622bc-3d5d-4e2e-b0e8-0e0067c0a5d2_0\", \"run_number\": 18, \"metric\": null, \"status\": \"Completed\", \"run_type\": \"azureml.scriptrun\", \"training_percent\": \"100\", \"start_time\": \"2020-12-15T16:02:56.090026Z\", \"end_time\": \"2020-12-15T16:04:30.727662Z\", \"created_time\": \"2020-12-15T16:01:32.015881Z\", \"created_time_dt\": \"2020-12-15T16:01:32.015881Z\", \"duration\": \"0:02:58\", \"iteration\": \"0\", \"goal\": \"normalized_root_mean_squared_error_min\", \"run_name\": \"AutoArima\", \"run_properties\": \"<azureml.automl.runtime.shared._auto_arima.AutoArima object at 0x7fd0fdd23c88\", \"primary_metric\": 0.28725895, \"best_metric\": 0.28725895}, {\"run_id\": \"AutoML_447622bc-3d5d-4e2e-b0e8-0e0067c0a5d2_1\", \"run_number\": 19, \"metric\": null, \"status\": \"Completed\", \"run_type\": \"azureml.scriptrun\", \"training_percent\": \"100\", \"start_time\": \"2020-12-15T16:05:50.245905Z\", \"end_time\": \"2020-12-15T16:07:24.944227Z\", \"created_time\": \"2020-12-15T16:04:32.557755Z\", \"created_time_dt\": \"2020-12-15T16:04:32.557755Z\", \"duration\": \"0:02:52\", \"iteration\": \"1\", \"goal\": \"normalized_root_mean_squared_error_min\", \"run_name\": \"ProphetModel\", \"run_properties\": \"<azureml.automl.runtime.shared._prophet_model.ProphetModel object at 0x7f7685022240\", \"primary_metric\": 0.39168904, \"best_metric\": 0.28725895}, {\"run_id\": \"AutoML_447622bc-3d5d-4e2e-b0e8-0e0067c0a5d2_2\", \"run_number\": 20, \"metric\": null, \"status\": \"Completed\", \"run_type\": \"azureml.scriptrun\", \"training_percent\": \"100\", \"start_time\": \"2020-12-15T16:09:28.050049Z\", \"end_time\": \"2020-12-15T16:10:29.582019Z\", \"created_time\": \"2020-12-15T16:07:27.436223Z\", \"created_time_dt\": \"2020-12-15T16:07:27.436223Z\", \"duration\": \"0:03:02\", \"iteration\": \"2\", \"goal\": \"normalized_root_mean_squared_error_min\", \"run_name\": \"RobustScaler, LassoLars\", \"run_properties\": \"copy=True, quantile_range=[10, 90], with_centering=False,\\n             with_scaling=True\", \"primary_metric\": 0.40409452, \"best_metric\": 0.28725895}, {\"run_id\": \"AutoML_447622bc-3d5d-4e2e-b0e8-0e0067c0a5d2_3\", \"run_number\": 21, \"metric\": null, \"status\": \"Completed\", \"run_type\": \"azureml.scriptrun\", \"training_percent\": \"100\", \"start_time\": \"2020-12-15T16:12:14.960792Z\", \"end_time\": \"2020-12-15T16:13:16.315513Z\", \"created_time\": \"2020-12-15T16:10:32.361245Z\", \"created_time_dt\": \"2020-12-15T16:10:32.361245Z\", \"duration\": \"0:02:43\", \"iteration\": \"3\", \"goal\": \"normalized_root_mean_squared_error_min\", \"run_name\": \"RobustScaler, DecisionTree\", \"run_properties\": \"copy=True, quantile_range=[10, 90], with_centering=True,\\n             with_scaling=False\", \"primary_metric\": 0.00842763, \"best_metric\": 0.00842763}, {\"run_id\": \"AutoML_447622bc-3d5d-4e2e-b0e8-0e0067c0a5d2_4\", \"run_number\": 22, \"metric\": null, \"status\": \"Completed\", \"run_type\": \"azureml.scriptrun\", \"training_percent\": \"100\", \"start_time\": \"2020-12-15T16:14:44.261915Z\", \"end_time\": \"2020-12-15T16:15:45.367485Z\", \"created_time\": \"2020-12-15T16:13:19.294084Z\", \"created_time_dt\": \"2020-12-15T16:13:19.294084Z\", \"duration\": \"0:02:26\", \"iteration\": \"4\", \"goal\": \"normalized_root_mean_squared_error_min\", \"run_name\": \"StandardScalerWrapper, DecisionTree\", \"run_properties\": \"<azureml.automl.runtime.shared.model_wrappers.StandardScalerWrapper object at 0x7f80f6b56710\", \"primary_metric\": 0.02305215, \"best_metric\": 0.00842763}, {\"run_id\": \"AutoML_447622bc-3d5d-4e2e-b0e8-0e0067c0a5d2_5\", \"run_number\": 23, \"metric\": null, \"status\": \"Completed\", \"run_type\": \"azureml.scriptrun\", \"training_percent\": \"100\", \"start_time\": \"2020-12-15T16:17:56.514696Z\", \"end_time\": \"2020-12-15T16:19:04.964987Z\", \"created_time\": \"2020-12-15T16:15:48.286267Z\", \"created_time_dt\": \"2020-12-15T16:15:48.286267Z\", \"duration\": \"0:03:16\", \"iteration\": \"5\", \"goal\": \"normalized_root_mean_squared_error_min\", \"run_name\": \"RobustScaler, DecisionTree\", \"run_properties\": \"copy=True, quantile_range=[10, 90], with_centering=False,\\n             with_scaling=True\", \"primary_metric\": 0.00842763, \"best_metric\": 0.00842763}, {\"run_id\": \"AutoML_447622bc-3d5d-4e2e-b0e8-0e0067c0a5d2_6\", \"run_number\": 24, \"metric\": null, \"status\": \"Completed\", \"run_type\": \"azureml.scriptrun\", \"training_percent\": \"100\", \"start_time\": \"2020-12-15T16:20:19.683634Z\", \"end_time\": \"2020-12-15T16:21:34.04322Z\", \"created_time\": \"2020-12-15T16:19:07.199242Z\", \"created_time_dt\": \"2020-12-15T16:19:07.199242Z\", \"duration\": \"0:02:26\", \"iteration\": \"6\", \"goal\": \"normalized_root_mean_squared_error_min\", \"run_name\": \"VotingEnsemble\", \"run_properties\": \"estimators=[('3',\\n                                          Pipeline(memory=None,\\n                                                   steps=[('robustscaler',\\n                                                           RobustScaler(copy=True,\\n                                                                        quantile_range=[10,\\n                                                                                        90],\\n                                                                        with_centering=True,\\n                                                                        with_scaling=False\", \"primary_metric\": 0.00385428, \"best_metric\": 0.00385428}], \"children_metrics\": {\"categories\": [0], \"series\": {\"normalized_mean_absolute_error\": [{\"categories\": [\"0\", \"1\", \"2\", \"3\", \"4\", \"5\", \"6\"], \"mode\": \"markers\", \"name\": \"normalized_mean_absolute_error\", \"stepped\": false, \"type\": \"scatter\", \"data\": [0.2872589480523936, 0.3916890420445766, 0.4040945183727758, 0.008427633758756265, 0.02305215132908639, 0.008427633758756266, 0.0038542826972476837]}, {\"categories\": [\"0\", \"1\", \"2\", \"3\", \"4\", \"5\", \"6\"], \"mode\": \"lines\", \"name\": \"normalized_mean_absolute_error_min\", \"stepped\": true, \"type\": \"scatter\", \"data\": [0.2872589480523936, 0.2872589480523936, 0.2872589480523936, 0.008427633758756265, 0.008427633758756265, 0.008427633758756265, 0.0038542826972476837]}], \"normalized_root_mean_squared_log_error\": [{\"categories\": [\"0\", \"1\", \"2\", \"3\", \"4\", \"5\", \"6\"], \"mode\": \"markers\", \"name\": \"normalized_root_mean_squared_log_error\", \"stepped\": false, \"type\": \"scatter\", \"data\": [0.4071331623177228, 0.4881079815824476, 0.49388405632641935, 0.03477438775523811, 0.01765629779892822, 0.03477438775523811, 0.029886564622980668]}, {\"categories\": [\"0\", \"1\", \"2\", \"3\", \"4\", \"5\", \"6\"], \"mode\": \"lines\", \"name\": \"normalized_root_mean_squared_log_error_min\", \"stepped\": true, \"type\": \"scatter\", \"data\": [0.4071331623177228, 0.4071331623177228, 0.4071331623177228, 0.03477438775523811, 0.01765629779892822, 0.01765629779892822, 0.01765629779892822]}], \"mean_absolute_error\": [{\"categories\": [\"0\", \"1\", \"2\", \"3\", \"4\", \"5\", \"6\"], \"mode\": \"markers\", \"name\": \"mean_absolute_error\", \"stepped\": false, \"type\": \"scatter\", \"data\": [26.442633564006584, 36.0555863622129, 37.19752977931997, 0.7757768132388957, 2.121986432763377, 0.7757768132388957, 0.3547927251924022]}, {\"categories\": [\"0\", \"1\", \"2\", \"3\", \"4\", \"5\", \"6\"], \"mode\": \"lines\", \"name\": \"mean_absolute_error_min\", \"stepped\": true, \"type\": \"scatter\", \"data\": [26.442633564006584, 26.442633564006584, 26.442633564006584, 0.7757768132388957, 0.7757768132388957, 0.7757768132388957, 0.3547927251924022]}], \"normalized_median_absolute_error\": [{\"categories\": [\"0\", \"1\", \"2\", \"3\", \"4\", \"5\", \"6\"], \"mode\": \"markers\", \"name\": \"normalized_median_absolute_error\", \"stepped\": false, \"type\": \"scatter\", \"data\": [0.2872589480523936, 0.3916890420445766, 0.4040945183727758, 0.008427633758756265, 0.02305215132908639, 0.008427633758756266, 0.0038542826972476837]}, {\"categories\": [\"0\", \"1\", \"2\", \"3\", \"4\", \"5\", \"6\"], \"mode\": \"lines\", \"name\": \"normalized_median_absolute_error_min\", \"stepped\": true, \"type\": \"scatter\", \"data\": [0.2872589480523936, 0.2872589480523936, 0.2872589480523936, 0.008427633758756265, 0.008427633758756265, 0.008427633758756265, 0.0038542826972476837]}], \"spearman_correlation\": [{\"categories\": [\"0\", \"1\", \"2\", \"3\", \"4\", \"5\", \"6\"], \"mode\": \"markers\", \"name\": \"spearman_correlation\", \"stepped\": false, \"type\": \"scatter\", \"data\": [-1.0, -1.0, -1.0, -1.0, -1.0, -1.0, -1.0]}, {\"categories\": [\"0\", \"1\", \"2\", \"3\", \"4\", \"5\", \"6\"], \"mode\": \"lines\", \"name\": \"spearman_correlation_max\", \"stepped\": true, \"type\": \"scatter\", \"data\": [-1.0, -1.0, -1.0, -1.0, -1.0, -1.0, -1.0]}], \"normalized_root_mean_squared_error\": [{\"categories\": [\"0\", \"1\", \"2\", \"3\", \"4\", \"5\", \"6\"], \"mode\": \"markers\", \"name\": \"normalized_root_mean_squared_error\", \"stepped\": false, \"type\": \"scatter\", \"data\": [0.2872589480523936, 0.3916890420445766, 0.4040945183727758, 0.008427633758756265, 0.02305215132908639, 0.008427633758756266, 0.0038542826972476837]}, {\"categories\": [\"0\", \"1\", \"2\", \"3\", \"4\", \"5\", \"6\"], \"mode\": \"lines\", \"name\": \"normalized_root_mean_squared_error_min\", \"stepped\": true, \"type\": \"scatter\", \"data\": [0.2872589480523936, 0.2872589480523936, 0.2872589480523936, 0.008427633758756265, 0.008427633758756265, 0.008427633758756265, 0.0038542826972476837]}], \"explained_variance\": [{\"categories\": [\"0\", \"1\", \"2\", \"3\", \"4\", \"5\", \"6\"], \"mode\": \"markers\", \"name\": \"explained_variance\", \"stepped\": false, \"type\": \"scatter\", \"data\": [1.0, 1.0, 1.0, 1.0, 1.0, 1.0, 1.0]}, {\"categories\": [\"0\", \"1\", \"2\", \"3\", \"4\", \"5\", \"6\"], \"mode\": \"lines\", \"name\": \"explained_variance_max\", \"stepped\": true, \"type\": \"scatter\", \"data\": [1.0, 1.0, 1.0, 1.0, 1.0, 1.0, 1.0]}], \"root_mean_squared_log_error\": [{\"categories\": [\"0\", \"1\", \"2\", \"3\", \"4\", \"5\", \"6\"], \"mode\": \"markers\", \"name\": \"root_mean_squared_log_error\", \"stepped\": false, \"type\": \"scatter\", \"data\": [1.7332830666235048, 2.078016181104896, 2.102606593952339, 0.1480445785973996, 0.07516794215417306, 0.1480445785973996, 0.12723570854720942]}, {\"categories\": [\"0\", \"1\", \"2\", \"3\", \"4\", \"5\", \"6\"], \"mode\": \"lines\", \"name\": \"root_mean_squared_log_error_min\", \"stepped\": true, \"type\": \"scatter\", \"data\": [1.7332830666235048, 1.7332830666235048, 1.7332830666235048, 0.1480445785973996, 0.07516794215417306, 0.07516794215417306, 0.07516794215417306]}], \"mean_absolute_percentage_error\": [{\"categories\": [\"0\", \"1\", \"2\", \"3\", \"4\", \"5\", \"6\"], \"mode\": \"markers\", \"name\": \"mean_absolute_percentage_error\", \"stepped\": false, \"type\": \"scatter\", \"data\": [1717.192207668898, 2035.6080026630668, 2179.7623540077325, 27.47682034231742, 10.809885371288892, 27.47682034231742, 23.74074737622494]}, {\"categories\": [\"0\", \"1\", \"2\", \"3\", \"4\", \"5\", \"6\"], \"mode\": \"lines\", \"name\": \"mean_absolute_percentage_error_min\", \"stepped\": true, \"type\": \"scatter\", \"data\": [1717.192207668898, 1717.192207668898, 1717.192207668898, 27.47682034231742, 10.809885371288892, 10.809885371288892, 10.809885371288892]}], \"root_mean_squared_error\": [{\"categories\": [\"0\", \"1\", \"2\", \"3\", \"4\", \"5\", \"6\"], \"mode\": \"markers\", \"name\": \"root_mean_squared_error\", \"stepped\": false, \"type\": \"scatter\", \"data\": [26.442633564006584, 36.0555863622129, 37.19752977931997, 0.7757768132388957, 2.121986432763377, 0.7757768132388957, 0.3547927251924022]}, {\"categories\": [\"0\", \"1\", \"2\", \"3\", \"4\", \"5\", \"6\"], \"mode\": \"lines\", \"name\": \"root_mean_squared_error_min\", \"stepped\": true, \"type\": \"scatter\", \"data\": [26.442633564006584, 26.442633564006584, 26.442633564006584, 0.7757768132388957, 0.7757768132388957, 0.7757768132388957, 0.3547927251924022]}], \"median_absolute_error\": [{\"categories\": [\"0\", \"1\", \"2\", \"3\", \"4\", \"5\", \"6\"], \"mode\": \"markers\", \"name\": \"median_absolute_error\", \"stepped\": false, \"type\": \"scatter\", \"data\": [26.442633564006584, 36.0555863622129, 37.19752977931997, 0.7757768132388957, 2.121986432763377, 0.7757768132388957, 0.3547927251924022]}, {\"categories\": [\"0\", \"1\", \"2\", \"3\", \"4\", \"5\", \"6\"], \"mode\": \"lines\", \"name\": \"median_absolute_error_min\", \"stepped\": true, \"type\": \"scatter\", \"data\": [26.442633564006584, 26.442633564006584, 26.442633564006584, 0.7757768132388957, 0.7757768132388957, 0.7757768132388957, 0.3547927251924022]}], \"r2_score\": [{\"categories\": [\"0\", \"1\", \"2\", \"3\", \"4\", \"5\", \"6\"], \"mode\": \"markers\", \"name\": \"r2_score\", \"stepped\": false, \"type\": \"scatter\", \"data\": [0.0, 0.0, 0.0, 0.0, 0.0, 0.0, 0.0]}, {\"categories\": [\"0\", \"1\", \"2\", \"3\", \"4\", \"5\", \"6\"], \"mode\": \"lines\", \"name\": \"r2_score_max\", \"stepped\": true, \"type\": \"scatter\", \"data\": [0.0, 0.0, 0.0, 0.0, 0.0, 0.0, 0.0]}]}, \"metricName\": null, \"primaryMetricName\": \"normalized_root_mean_squared_error\", \"showLegend\": false}, \"run_metrics\": [{\"name\": \"experiment_status\", \"run_id\": \"AutoML_447622bc-3d5d-4e2e-b0e8-0e0067c0a5d2\", \"categories\": [0, 1, 2, 3, 4, 5, 6, 7, 8, 9, 10, 11, 12, 13, 14, 15, 16, 17], \"series\": [{\"data\": [\"DatasetFeaturization\", \"DatasetFeaturizationCompleted\", \"DatasetCrossValidationSplit\", \"DatasetFeaturization\", \"DatasetFeaturizationCompleted\", \"DatasetFeaturization\", \"DatasetFeaturizationCompleted\", \"DatasetFeaturization\", \"DatasetFeaturizationCompleted\", \"ModelSelection\", \"BestRunExplainModel\", \"ModelExplanationDataSetSetup\", \"PickSurrogateModel\", \"EngineeredFeatureExplanations\", \"EngineeredFeatureExplanations\", \"RawFeaturesExplanations\", \"RawFeaturesExplanations\", \"BestRunExplainModel\"]}]}, {\"name\": \"experiment_status_description\", \"run_id\": \"AutoML_447622bc-3d5d-4e2e-b0e8-0e0067c0a5d2\", \"categories\": [0, 1, 2, 3, 4, 5, 6, 7, 8, 9, 10, 11, 12, 13, 14, 15, 16, 17], \"series\": [{\"data\": [\"Beginning to featurize the dataset.\", \"Completed featurizing the dataset.\", \"Generating individually featurized CV splits.\", \"Beginning to featurize the CV split.\", \"Completed featurizing the CV split.\", \"Beginning to featurize the CV split.\", \"Completed featurizing the CV split.\", \"Beginning to featurize the CV split.\", \"Completed featurizing the CV split.\", \"Beginning model selection.\", \"Best run model explanations started\", \"Model explanations data setup completed\", \"Choosing LightGBM as the surrogate model for explanations\", \"Computation of engineered features started\", \"Computation of engineered features completed\", \"Computation of raw features started\", \"Computation of raw features completed\", \"Best run model explanations completed\"]}]}, {\"name\": \"median_absolute_error\", \"run_id\": \"AutoML_447622bc-3d5d-4e2e-b0e8-0e0067c0a5d2\", \"categories\": [0], \"series\": [{\"data\": [0.3547927251924022]}]}, {\"name\": \"mean_absolute_error\", \"run_id\": \"AutoML_447622bc-3d5d-4e2e-b0e8-0e0067c0a5d2\", \"categories\": [0], \"series\": [{\"data\": [0.3547927251924022]}]}, {\"name\": \"root_mean_squared_log_error\", \"run_id\": \"AutoML_447622bc-3d5d-4e2e-b0e8-0e0067c0a5d2\", \"categories\": [0], \"series\": [{\"data\": [0.12723570854720942]}]}, {\"name\": \"normalized_median_absolute_error\", \"run_id\": \"AutoML_447622bc-3d5d-4e2e-b0e8-0e0067c0a5d2\", \"categories\": [0], \"series\": [{\"data\": [0.0038542826972476837]}]}, {\"name\": \"normalized_root_mean_squared_error\", \"run_id\": \"AutoML_447622bc-3d5d-4e2e-b0e8-0e0067c0a5d2\", \"categories\": [0], \"series\": [{\"data\": [0.0038542826972476837]}]}, {\"name\": \"root_mean_squared_error\", \"run_id\": \"AutoML_447622bc-3d5d-4e2e-b0e8-0e0067c0a5d2\", \"categories\": [0], \"series\": [{\"data\": [0.3547927251924022]}]}, {\"name\": \"normalized_mean_absolute_error\", \"run_id\": \"AutoML_447622bc-3d5d-4e2e-b0e8-0e0067c0a5d2\", \"categories\": [0], \"series\": [{\"data\": [0.0038542826972476837]}]}, {\"name\": \"normalized_root_mean_squared_log_error\", \"run_id\": \"AutoML_447622bc-3d5d-4e2e-b0e8-0e0067c0a5d2\", \"categories\": [0], \"series\": [{\"data\": [0.029886564622980668]}]}, {\"name\": \"mean_absolute_percentage_error\", \"run_id\": \"AutoML_447622bc-3d5d-4e2e-b0e8-0e0067c0a5d2\", \"categories\": [0], \"series\": [{\"data\": [23.74074737622494]}]}, {\"name\": \"spearman_correlation\", \"run_id\": \"AutoML_447622bc-3d5d-4e2e-b0e8-0e0067c0a5d2\", \"categories\": [0], \"series\": [{\"data\": [-1.0]}]}, {\"name\": \"r2_score\", \"run_id\": \"AutoML_447622bc-3d5d-4e2e-b0e8-0e0067c0a5d2\", \"categories\": [0], \"series\": [{\"data\": [0.0]}]}, {\"name\": \"explained_variance\", \"run_id\": \"AutoML_447622bc-3d5d-4e2e-b0e8-0e0067c0a5d2\", \"categories\": [0], \"series\": [{\"data\": [1.0]}]}], \"run_logs\": \"\\nRun is completed.\", \"graph\": {}, \"widget_settings\": {\"childWidgetDisplay\": \"popup\", \"send_telemetry\": false, \"log_level\": \"INFO\", \"sdk_version\": \"1.19.0\"}, \"loading\": false}"
     },
     "metadata": {},
     "output_type": "display_data"
    }
   ],
   "source": [
    "print(local_runs)"
   ]
  },
  {
   "cell_type": "code",
   "execution_count": 6,
   "metadata": {
    "lines_to_next_cell": 2
   },
   "outputs": [
    {
     "name": "stdout",
     "output_type": "stream",
     "text": [
      "Workspace Name: mlw-healthcare-dev\n",
      "Resource Group: rg-healthcare-dev\n",
      "Default Storage Account Name: sthealthcaredev001\n",
      "AzureML Core Version: 1.19.0\n"
     ]
    }
   ],
   "source": [
    "ws = Workspace.from_config()\n",
    "blob_datastore_name=GlobalVariables.GLOBAL_DATASTORE_NAME\n",
    "dstore = Datastore.get(ws, datastore_name=blob_datastore_name)\n",
    "#ws_ds = ws.get_default_datastore()\n",
    "\n",
    "print('Workspace Name: ' + ws.name, \n",
    "      'Resource Group: ' + ws.resource_group,\n",
    "      'Default Storage Account Name: ' + dstore.account_name,\n",
    "      'AzureML Core Version: ' + azureml.core.VERSION,\n",
    "      sep = '\\n')"
   ]
  },
  {
   "cell_type": "code",
   "execution_count": 32,
   "metadata": {
    "lines_to_next_cell": 2
   },
   "outputs": [],
   "source": [
    "list_models = {}"
   ]
  },
  {
   "cell_type": "code",
   "execution_count": null,
   "metadata": {
    "lines_to_next_cell": 0
   },
   "outputs": [
    {
     "name": "stdout",
     "output_type": "stream",
     "text": [
      "Chicago\n",
      "Honolulu\n",
      "Los_Angeles\n",
      "Miami\n",
      "Anchorage\n"
     ]
    }
   ],
   "source": [
    "for _,city in enumerate(cities):\n",
    "    city2 = process_city(city)\n",
    "    print(city2)\n",
    "    _,list_models[city2]=local_runs[city2].get_output()\n",
    "       \n",
    "\n",
    "datastore_path = [DataPath(dstore, filepath)]\n",
    "traindataset = Dataset.Tabular.from_delimited_files(path=datastore_path, set_column_types=data_types)\n",
    "traindataset.to_pandas_dataframe().info()"
   ]
  },
  {
   "cell_type": "markdown",
   "metadata": {},
   "source": [
    "## Upload predictions to storage account"
   ]
  },
  {
   "cell_type": "code",
   "execution_count": null,
   "metadata": {
    "lines_to_next_cell": 2
   },
   "outputs": [],
   "source": [
    "test={}"
   ]
  },
  {
   "cell_type": "code",
   "execution_count": null,
   "metadata": {
    "lines_to_next_cell": 2
   },
   "outputs": [],
   "source": [
    "for _,city in enumerate(cities):\n",
    "    city2 = process_city(city)\n",
    "    filepath = f'/occupancy_test_{city2}.csv'\n",
    "    print(filepath)\n",
    "    datastore_path = [DataPath(dstore, filepath)]\n",
    "    testdataset = Dataset.Tabular.from_delimited_files(path=datastore_path, set_column_types=data_types)\n",
    "    test_df=testdataset.to_pandas_dataframe()\n",
    "    predictions = list_models[city2].predict(test_df)\n",
    "    test[city2]= test_df\n",
    "    test[city2]['occupancy_rate'] = predictions\n",
    "    test[city2]['forecasted'] = True\n",
    "    test[city2]['city'] = city\n",
    "    test[city2] = test[city2][['Date','city','occupancy_rate','forecasted']]"
   ]
  },
  {
   "cell_type": "markdown",
   "metadata": {},
   "source": [
    "## Upload predictions to storage account"
   ]
  },
  {
   "cell_type": "code",
   "execution_count": null,
   "metadata": {
    "lines_to_next_cell": 2
   },
   "outputs": [],
   "source": [
    "test_df_list= [test[process_city(city)] for _,city in enumerate(cities)]  # List of your dataframes\n",
    "master_test_df=pd.concat(test_df_list)\n",
    "master_test_df.sort_values('Date',inplace=True)"
   ]
  },
  {
   "cell_type": "code",
   "execution_count": null,
   "metadata": {
    "lines_to_next_cell": 2
   },
   "outputs": [],
   "source": [
    "master_test_df"
   ]
  },
  {
   "cell_type": "code",
   "execution_count": null,
   "metadata": {
    "lines_to_next_cell": 2
   },
   "outputs": [],
   "source": [
    "train_df= train_df[['Date','city','occupancy_rate']]\n",
    "train_df['forecasted']='False'\n",
    "train_df"
   ]
  },
  {
   "cell_type": "code",
   "execution_count": null,
   "metadata": {
    "lines_to_next_cell": 2
   },
   "outputs": [],
   "source": [
    "master_df = pd.concat([train_df,master_test_df])"
   ]
  },
  {
   "cell_type": "code",
   "execution_count": null,
   "metadata": {
    "lines_to_next_cell": 2
   },
   "outputs": [],
   "source": [
    "master_df"
   ]
  },
  {
   "cell_type": "code",
   "execution_count": null,
   "metadata": {
    "lines_to_next_cell": 2
   },
   "outputs": [],
   "source": [
    "master_df.to_csv(local_data_folder+'bed_occupancy_forecastedv7.csv',index=False)"
   ]
  },
  {
   "cell_type": "code",
   "execution_count": null,
   "metadata": {
    "lines_to_next_cell": 0
   },
   "outputs": [],
   "source": [
    "\n",
    "local_files = [local_data_folder + 'bed_occupancy_forecastedv7.csv']\n",
    "print(local_files)\n",
    "\n",
    "dstore.upload_files(\n",
    "    files = local_files,\n",
    "    relative_root = local_data_folder,\n",
    "    target_path = '/',\n",
    "    overwrite=True,\n",
    "    show_progress=True\n",
    ")"
   ]
  }
 ],
 "metadata": {
  "jupytext": {
   "encoding": "# -*- coding: utf-8 -*-",
   "formats": "ipynb,py:light"
  },
  "kernel_info": {
   "name": "python3-azureml"
  },
  "kernelspec": {
   "display_name": "Python 3.6 - AzureML",
   "language": "python",
   "name": "python3-azureml"
  },
  "language_info": {
   "codemirror_mode": {
    "name": "ipython",
    "version": 3
   },
   "file_extension": ".py",
   "mimetype": "text/x-python",
   "name": "python",
   "nbconvert_exporter": "python",
   "pygments_lexer": "ipython3",
   "version": "3.6.9"
  },
  "nteract": {
   "version": "nteract-front-end@1.0.0"
  }
 },
 "nbformat": 4,
 "nbformat_minor": 2
}
