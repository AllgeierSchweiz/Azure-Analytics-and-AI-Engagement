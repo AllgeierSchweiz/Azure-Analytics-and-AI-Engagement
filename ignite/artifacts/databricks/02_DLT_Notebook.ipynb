{
 "cells": [
  {
   "cell_type": "code",
   "execution_count": null,
   "metadata": {
    "application/vnd.databricks.v1+cell": {
     "cellMetadata": {},
     "inputWidgets": {},
     "nuid": "9fce6015-b700-4f3a-babd-d0250d02b85c",
     "showTitle": false,
     "title": ""
    }
   },
   "outputs": [],
   "source": [
    "%pip install dlt"
   ]
  },
  {
   "cell_type": "markdown",
   "metadata": {
    "application/vnd.databricks.v1+cell": {
     "cellMetadata": {},
     "inputWidgets": {},
     "nuid": "e8ac1c6d-a3b3-49a3-b845-1a4cf64f2634",
     "showTitle": false,
     "title": ""
    }
   },
   "source": [
    "#Campaign Analytics<br/>\n",
    "\n",
    "1. **Usecase               :** Performing Campaign analytics on static campaign data coming from OneLake Bronze Layer.<br/>\n",
    "2. **Notebook Summary      :** This notebook is a part of campaign analytics application which perform `campaign analytics using various pyspark capability`.<br/>\n",
    "3. **Notebook Description  :** Performing Campaign Analytics on OneLake Bronze Layer Files.\n",
    "\n",
    "\n",
    "###Feature List\n",
    "1. Data Profiling\n",
    "2. Total Revenue, Total Revenue Target & Profit \n",
    "3. Campaign Run by Per Week \n",
    "4. Total Profit by Country Per Week\n",
    "5. Top Loss-Making Campaign \n",
    "\n",
    "The bronze data received for processing is already curated. So, we will derive gold tables from bronze tables."
   ]
  },
  {
   "cell_type": "markdown",
   "metadata": {
    "application/vnd.databricks.v1+cell": {
     "cellMetadata": {},
     "inputWidgets": {},
     "nuid": "6d2b2337-80e8-439e-b0d5-8c65f01674cf",
     "showTitle": false,
     "title": ""
    }
   },
   "source": [
    "### Import Libraries"
   ]
  },
  {
   "cell_type": "code",
   "execution_count": null,
   "metadata": {
    "application/vnd.databricks.v1+cell": {
     "cellMetadata": {},
     "inputWidgets": {},
     "nuid": "9492fd74-bc3e-4908-81c8-40184d80a281",
     "showTitle": false,
     "title": ""
    }
   },
   "outputs": [],
   "source": [
    "\n",
    "import dlt\n",
    "from pyspark.sql.functions import struct\n",
    "from pyspark.sql.functions import col\n",
    "from pyspark.sql.types import DateType\n",
    "from pyspark.sql.types import *\n",
    "import pyspark.sql.functions as f\n",
    "from pyspark.sql.functions import udf\n",
    "from pyspark.sql.functions import *\n",
    "from delta.tables import *\n",
    "from pyspark.sql.types import StructType, StructField, StringType, IntegerType, FloatType, DateType, TimestampType, DecimalType\n",
    "from pyspark.sql.functions import sum as _sum\n",
    "from pyspark.sql.functions import mean as _mean\n",
    "from pyspark.sql.functions import max as _max\n",
    "from pyspark.sql.functions import min as _min\n",
    "import pyspark.sql.functions as func\n",
    "import pyspark.sql.functions as F\n",
    "from pyspark.sql.functions import *\n",
    "from pyspark.sql.types import StructType, StructField, StringType, IntegerType, FloatType, DateType"
   ]
  },
  {
   "cell_type": "markdown",
   "metadata": {
    "application/vnd.databricks.v1+cell": {
     "cellMetadata": {},
     "inputWidgets": {},
     "nuid": "63099b58-4b8c-4266-8dc3-614ff22cb7bd",
     "showTitle": false,
     "title": ""
    }
   },
   "source": [
    "###Define the Schema for the input file"
   ]
  },
  {
   "cell_type": "code",
   "execution_count": null,
   "metadata": {
    "application/vnd.databricks.v1+cell": {
     "cellMetadata": {},
     "inputWidgets": {},
     "nuid": "5fae2676-936e-4870-ace5-ca8fd48eecbb",
     "showTitle": false,
     "title": ""
    }
   },
   "outputs": [],
   "source": [
    "campaignSchema = StructType([    \n",
    "    StructField(\"Region\",StringType(),True),\n",
    "    StructField(\"Country\",StringType(),True),\n",
    "    StructField(\"ProductCategory\",StringType(),True),\n",
    "    StructField(\"Campaign_ID\",IntegerType(),True),    \n",
    "    StructField(\"Campaign_Name\",StringType(),True),\n",
    "    StructField(\"Qualification\",StringType(),True),\n",
    "    StructField(\"Qualification_Number\",StringType(),True),\n",
    "    StructField(\"Response_Status\",StringType(),True),\n",
    "    StructField(\"Responses\",FloatType(),True),\n",
    "    StructField(\"Cost\",FloatType(),True),\n",
    "    StructField(\"Revenue\",FloatType(),True),\n",
    "    StructField(\"ROI\",FloatType(),True),\n",
    "    StructField(\"Lead_Generation\",StringType(),True),\n",
    "    StructField(\"Revenue_Target\",FloatType(),True),\n",
    "    StructField(\"Campaign_Tactic\",StringType(),True),\n",
    "    StructField(\"Customer_Segment\",StringType(),True),\n",
    "    StructField(\"Status\",StringType(),True),\n",
    "    StructField(\"Profit\",FloatType(),True),\n",
    "    StructField(\"Marketing_Cost\",FloatType(),True),\n",
    "    StructField(\"CampaignID\",IntegerType(),True),\n",
    "    StructField(\"CampDate\",DateType(),True), \n",
    "    StructField(\"SORTED_ID\",IntegerType(),True)])\n",
    "    "
   ]
  },
  {
   "cell_type": "markdown",
   "metadata": {
    "application/vnd.databricks.v1+cell": {
     "cellMetadata": {},
     "inputWidgets": {},
     "nuid": "dd74b884-b02b-4b12-8ad7-11ef93bb3563",
     "showTitle": false,
     "title": ""
    }
   },
   "source": [
    "### Load the Campaign Dataset from OneLake Bronze Layer"
   ]
  },
  {
   "cell_type": "code",
   "execution_count": null,
   "metadata": {
    "application/vnd.databricks.v1+cell": {
     "cellMetadata": {},
     "inputWidgets": {},
     "nuid": "6882487c-f42f-435c-994c-2461babfdf72",
     "showTitle": false,
     "title": ""
    }
   },
   "outputs": [],
   "source": [
    "# Bronze Table Setup\n",
    "@dlt.table(comment=\"Raw data\", \n",
    "           path = \"/mnt/OneLake/Tables/Tables/dlt_bronze_campaign_data\")\n",
    "def bronze_campaign_data():\n",
    "#   return (spark.table(\"campaign.campaign_source\"))\n",
    "  return (spark.read.format(\"csv\").option(\"header\",True).schema(campaignSchema).load(\"/mnt/datasource-onelake-bronze/data/CampaignData/campaign-data.csv\"))"
   ]
  },
  {
   "cell_type": "markdown",
   "metadata": {
    "application/vnd.databricks.v1+cell": {
     "cellMetadata": {},
     "inputWidgets": {},
     "nuid": "8e5b3b77-9bb8-48bd-b6c1-c9ea17690bdb",
     "showTitle": false,
     "title": ""
    }
   },
   "source": [
    "### Total Revenue, Total Revenue Target & Profit"
   ]
  },
  {
   "cell_type": "code",
   "execution_count": null,
   "metadata": {
    "application/vnd.databricks.v1+cell": {
     "cellMetadata": {},
     "inputWidgets": {},
     "nuid": "3df1b22a-72b4-4f4a-8c00-ead402fcec3d",
     "showTitle": false,
     "title": ""
    }
   },
   "outputs": [],
   "source": [
    "# Gold Table Setup\n",
    "@dlt.table(comment=\"Raw data\", \n",
    "           path = \"/mnt/OneLake_Gold/Tables/Tables/dlt_gold_country_wise_revenue\")\n",
    "def gold_country_wise_revenue():\n",
    "    \n",
    "    df = dlt.read(\"bronze_campaign_data\").groupBy(\"Country\",\"Region\").agg(_sum(\"Revenue\").alias(\"Total_Revenue\"), _sum(\"Revenue_Target\").alias(\"Total_Revenue_Target\"),_sum(\"Profit\").alias(\"Total_Profit\"),_max(\"Cost\").alias(\"Max_Cost\"),_min(\"Cost\").alias(\"Min_Cost\"))\n",
    "    df = df.withColumn(\"Total_Revenue\", func.round(df[\"Total_Revenue\"],2)).withColumn(\"Total_Revenue_Target\", func.round(df[\"Total_Revenue_Target\"], 2)).withColumn(\"Total_Profit\", func.round(df[\"Total_Profit\"], 2))\n",
    "    return df\n",
    "    "
   ]
  },
  {
   "cell_type": "markdown",
   "metadata": {
    "application/vnd.databricks.v1+cell": {
     "cellMetadata": {},
     "inputWidgets": {},
     "nuid": "c4d7ddfb-ba3e-4609-8116-8fc3bff1ca0e",
     "showTitle": false,
     "title": ""
    }
   },
   "source": [
    "### Campaign Run by Per Week"
   ]
  },
  {
   "cell_type": "code",
   "execution_count": null,
   "metadata": {
    "application/vnd.databricks.v1+cell": {
     "cellMetadata": {},
     "inputWidgets": {},
     "nuid": "8150809d-f947-4d73-98bb-2fd6bdc2acb0",
     "showTitle": false,
     "title": ""
    }
   },
   "outputs": [],
   "source": [
    "# Gold Table Setup\n",
    "@dlt.table(comment=\"Raw data\",\n",
    "           path = \"/mnt/OneLake_Gold/Tables/Tables/dlt_gold_campaign_per_week\")\n",
    "def gold_campaign_per_week():\n",
    "    return dlt.read(\"bronze_campaign_data\") \\\n",
    "    .groupBy(\n",
    "      \"Campaign_Name\",\n",
    "      window(\"CampDate\", \"1 week\")) \\\n",
    "    .count().orderBy(col(\"count\").desc())"
   ]
  },
  {
   "cell_type": "markdown",
   "metadata": {
    "application/vnd.databricks.v1+cell": {
     "cellMetadata": {},
     "inputWidgets": {},
     "nuid": "a969ffa7-26f1-4952-822a-ebea0cafcef4",
     "showTitle": false,
     "title": ""
    }
   },
   "source": [
    "### Total Profit by Country Per Week"
   ]
  },
  {
   "cell_type": "code",
   "execution_count": null,
   "metadata": {
    "application/vnd.databricks.v1+cell": {
     "cellMetadata": {},
     "inputWidgets": {},
     "nuid": "2ba95e32-68c8-4b0c-9275-77880a119882",
     "showTitle": false,
     "title": ""
    }
   },
   "outputs": [],
   "source": [
    "# Gold Table Setup\n",
    "@dlt.table(comment=\"Raw data\",\n",
    "           path = \"/mnt/OneLake_Gold/Tables/Tables/dlt_gold_Total_Profit_by_Country_Per_Week\")\n",
    "def gold_Total_Profit_by_Country_Per_Week():\n",
    "    return dlt.read(\"bronze_campaign_data\").select(\"Region\",\"Country\", \"Cost\", \"Profit\",\"CampDate\") \\\n",
    "                     .groupBy(window(col(\"CampDate\"), \"7 days\"), col(\"Country\")) \\\n",
    "                     .agg(sum(\"Profit\").alias('Total_Profit'),) \\\n",
    "                            .orderBy(col(\"window.start\"))"
   ]
  },
  {
   "cell_type": "markdown",
   "metadata": {
    "application/vnd.databricks.v1+cell": {
     "cellMetadata": {},
     "inputWidgets": {},
     "nuid": "5e7c6088-26ec-4b1d-a2ab-402d85710320",
     "showTitle": false,
     "title": ""
    }
   },
   "source": [
    "### Top Loss-Making Campaign"
   ]
  },
  {
   "cell_type": "code",
   "execution_count": null,
   "metadata": {
    "application/vnd.databricks.v1+cell": {
     "cellMetadata": {},
     "inputWidgets": {},
     "nuid": "1a9319f2-4456-45f0-a4ac-6c3aac3abbcc",
     "showTitle": false,
     "title": ""
    }
   },
   "outputs": [],
   "source": [
    "# Gold Table Setup\n",
    "@dlt.table(comment=\"Raw data\",\n",
    "           path = \"/mnt/OneLake_Gold/Tables/Tables/dlt_gold_top_loss_making_campaign\")\n",
    "def gold_Top_Loss_Making_Campaign():\n",
    "    loss = dlt.read(\"bronze_campaign_data\").select(\"Campaign_Name\",\"Profit\").filter(F.col(\"Profit\") < 0)\n",
    "    loss = loss.withColumn(\"Loss_Count\", F.when((F.col('Profit') < 0 ) , F.lit(1)).otherwise(F.lit(0)))\n",
    "#     loss = loss.groupBy('Campaign_Name').sum('Loss_Count')\n",
    "    return loss"
   ]
  },
  {
   "cell_type": "markdown",
   "metadata": {
    "application/vnd.databricks.v1+cell": {
     "cellMetadata": {},
     "inputWidgets": {},
     "nuid": "b5ceccb0-39b6-43a1-8f22-1cb329082226",
     "showTitle": false,
     "title": ""
    }
   },
   "source": [
    "#  Retail Sales Data Preparation using Spark"
   ]
  },
  {
   "cell_type": "markdown",
   "metadata": {
    "application/vnd.databricks.v1+cell": {
     "cellMetadata": {},
     "inputWidgets": {},
     "nuid": "663960b1-d633-4acd-905c-8a0c9c779c0c",
     "showTitle": false,
     "title": ""
    }
   },
   "source": [
    "Preparing retail data for training a regression model to predict total sales revenue of a product from a store using the following features: \n",
    "- Brand (The brand of the product)\n",
    "- Quantity (Quantity of product purchased)\n",
    "- Advert (Whether the product had an advertisement or not)\n",
    "- Price (How much the product costs)"
   ]
  },
  {
   "cell_type": "markdown",
   "metadata": {
    "application/vnd.databricks.v1+cell": {
     "cellMetadata": {},
     "inputWidgets": {},
     "nuid": "9111eb66-0969-4d7c-ab4e-c250e8ae63df",
     "showTitle": false,
     "title": ""
    }
   },
   "source": [
    "## Importing Libraries"
   ]
  },
  {
   "cell_type": "code",
   "execution_count": null,
   "metadata": {
    "application/vnd.databricks.v1+cell": {
     "cellMetadata": {},
     "inputWidgets": {},
     "nuid": "5b0bc73a-00ea-44af-806f-d65861ef8681",
     "showTitle": false,
     "title": ""
    }
   },
   "outputs": [],
   "source": [
    "from pyspark.sql import SparkSession\n",
    "from pyspark.sql.functions import percent_rank\n",
    "from pyspark.sql import Window\n",
    "from io import BytesIO\n",
    "from copy import deepcopy\n",
    "from datetime import datetime\n",
    "from dateutil import parser\n",
    "import logging\n",
    "from pyspark.sql.types import *"
   ]
  },
  {
   "cell_type": "markdown",
   "metadata": {
    "application/vnd.databricks.v1+cell": {
     "cellMetadata": {},
     "inputWidgets": {},
     "nuid": "0dc2c418-6256-4b82-b623-6bdbbf667dd7",
     "showTitle": false,
     "title": ""
    }
   },
   "source": [
    "## Defining the schema for the data"
   ]
  },
  {
   "cell_type": "code",
   "execution_count": null,
   "metadata": {
    "application/vnd.databricks.v1+cell": {
     "cellMetadata": {},
     "inputWidgets": {},
     "nuid": "79ba23e9-ae2d-4bea-8029-1f3b17221e74",
     "showTitle": false,
     "title": ""
    }
   },
   "outputs": [],
   "source": [
    "Dataschema = StructType([\n",
    "    StructField(\"ID\", StringType()),\n",
    "    StructField(\"WeekStarting\", DateType()),\n",
    "    StructField(\"Store\", IntegerType()),\n",
    "    StructField(\"Brand\", StringType()),\n",
    "    StructField(\"Quantity\", IntegerType()),\n",
    "    StructField(\"Advert\", IntegerType()),\n",
    "    StructField(\"Price\", FloatType()),\n",
    "    StructField(\"Revenue\", FloatType())\n",
    "])\n"
   ]
  },
  {
   "cell_type": "markdown",
   "metadata": {
    "application/vnd.databricks.v1+cell": {
     "cellMetadata": {},
     "inputWidgets": {},
     "nuid": "bfed01c0-f987-4898-b1e6-e612a9b2b095",
     "showTitle": false,
     "title": ""
    }
   },
   "source": [
    "## Load the data from the source and perform the transformations"
   ]
  },
  {
   "cell_type": "code",
   "execution_count": null,
   "metadata": {
    "application/vnd.databricks.v1+cell": {
     "cellMetadata": {},
     "inputWidgets": {},
     "nuid": "811b9dca-1edd-4854-a814-503d8824b15a",
     "showTitle": false,
     "title": ""
    }
   },
   "outputs": [],
   "source": [
    "@dlt.table(comment=\"Raw data\",\n",
    "           path = \"/mnt/OneLake/Tables/Tables/dlt_bronze_SalesTrans\" )\n",
    "           \n",
    "def bronze_SalesTrans():\n",
    "  return (spark.read.csv('/mnt/datasource-onelake-bronze/data/StoreTransactionsData/SalesTransData.txt',schema=Dataschema))"
   ]
  },
  {
   "cell_type": "code",
   "execution_count": null,
   "metadata": {
    "application/vnd.databricks.v1+cell": {
     "cellMetadata": {},
     "inputWidgets": {},
     "nuid": "331372f2-1629-40ba-9db8-9e8c2c3bb5ef",
     "showTitle": false,
     "title": ""
    }
   },
   "outputs": [],
   "source": [
    "@dlt.table(comment=\"Silver data\",\n",
    "           path = \"/mnt/OneLake_Silver/Tables/Tables/dlt_silver_rank_data\")\n",
    "def silver_rank_data():\n",
    "    pydf = dlt.read('bronze_SalesTrans').withColumn(\"rank\", percent_rank().over(Window.partitionBy().orderBy(\"WeekStarting\")))\n",
    "    return pydf"
   ]
  },
  {
   "cell_type": "code",
   "execution_count": null,
   "metadata": {
    "application/vnd.databricks.v1+cell": {
     "cellMetadata": {},
     "inputWidgets": {},
     "nuid": "79f755d9-5b65-4f58-ab6d-91056ffd4d1c",
     "showTitle": false,
     "title": ""
    }
   },
   "outputs": [],
   "source": [
    "@dlt.table(comment=\"Silver data\",\n",
    "           path = \"/mnt/OneLake_Silver/Tables/Tables/dlt_silver_train\")\n",
    "def gold_train():\n",
    "    train = dlt.read('silver_rank_data').where(\"rank <= .8\").drop(\"rank\")\n",
    "    return train\n",
    "    \n",
    "@dlt.table(comment=\"Silver data\",\n",
    "           path = \"/mnt/OneLake_Silver/Tables/Tables/dlt_silver_test\")\n",
    "def gold_test():\n",
    "    test = dlt.read('silver_rank_data').where(\"rank > .8\").drop(\"rank\")\n",
    "    return test"
   ]
  },
  {
   "cell_type": "markdown",
   "metadata": {
    "application/vnd.databricks.v1+cell": {
     "cellMetadata": {},
     "inputWidgets": {},
     "nuid": "fd3e72f5-620c-4b72-b279-b8cfd5a87da5",
     "showTitle": false,
     "title": ""
    }
   },
   "source": [
    "#  Customer Churn Data Preparation using Spark"
   ]
  },
  {
   "cell_type": "markdown",
   "metadata": {
    "application/vnd.databricks.v1+cell": {
     "cellMetadata": {},
     "inputWidgets": {},
     "nuid": "92efaac6-5765-4bbe-b705-5fcba16366bf",
     "showTitle": false,
     "title": ""
    }
   },
   "source": [
    "## Load the data from the source and perform the transformations"
   ]
  },
  {
   "cell_type": "code",
   "execution_count": null,
   "metadata": {
    "application/vnd.databricks.v1+cell": {
     "cellMetadata": {},
     "inputWidgets": {},
     "nuid": "2bdd07fc-9ad6-48e0-81b5-e4d2eb0df005",
     "showTitle": false,
     "title": ""
    }
   },
   "outputs": [],
   "source": [
    "@dlt.table(comment=\"Raw data\",\n",
    "           path = \"/mnt/OneLake/Tables/Tables/dlt_bronze_CustomerChurnTrans\" )\n",
    "           \n",
    "def bronze_CustomerChurnTrans():\n",
    "  return (spark.read.format(\"csv\").option(\"header\",\"true\").load('/mnt/datasource-onelake-bronze/data/CustomerChurnData/CustomerChurnData.csv'))"
   ]
  },
  {
   "cell_type": "code",
   "execution_count": null,
   "metadata": {
    "application/vnd.databricks.v1+cell": {
     "cellMetadata": {},
     "inputWidgets": {},
     "nuid": "e07f29d4-3fcb-48f6-a7d7-7359ff71e393",
     "showTitle": false,
     "title": ""
    }
   },
   "outputs": [],
   "source": [
    "@dlt.table(comment=\"Silver data\",\n",
    "           path = \"/mnt/OneLake_Silver/Tables/Tables/dlt_silver_customerchurn_data\")\n",
    "def silver_customerchurn_data():\n",
    "    pydf = dlt.read('bronze_CustomerChurnTrans')\n",
    "    return pydf"
   ]
  },
  {
   "cell_type": "code",
   "execution_count": null,
   "metadata": {
    "application/vnd.databricks.v1+cell": {
     "cellMetadata": {},
     "inputWidgets": {},
     "nuid": "4b900df0-4e6f-44b4-907c-40067bc0d084",
     "showTitle": false,
     "title": ""
    }
   },
   "outputs": [],
   "source": [
    "# withColumn(\"TotalAmount\",col(\"TotalAmount\").cast(\"Double\")).withColumn(\"UnitPrice\",col(\"UnitPrice\").cast(\"Double\")).withColumn(\"tenure\",col(\"tenure\").cast(\"integer\"))"
   ]
  }
 ],
 "metadata": {
  "application/vnd.databricks.v1+notebook": {
   "dashboards": [],
   "language": "python",
   "notebookMetadata": {
    "pythonIndentUnit": 4
   },
   "notebookName": "02_DLT_Notebook.ipynb",
   "widgets": {}
  },
  "language_info": {
   "name": "python"
  }
 },
 "nbformat": 4,
 "nbformat_minor": 0
}
