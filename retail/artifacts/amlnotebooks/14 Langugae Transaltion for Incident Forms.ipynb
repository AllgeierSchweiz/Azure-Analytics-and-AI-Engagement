{
  "cells": [
    {
      "cell_type": "markdown",
      "source": [
        "#### Language Translation\r\n",
        "\r\n",
        "Microsoft translator translates text from one language to another using the Translator REST API."
      ],
      "metadata": {
        "nteract": {
          "transient": {
            "deleting": false
          }
        }
      }
    },
    {
      "cell_type": "markdown",
      "source": [
        "![Form Recognizer](https://stretaildemodev.blob.core.windows.net/notebookimages/translator.jpg)"
      ],
      "metadata": {
        "nteract": {
          "transient": {
            "deleting": false
          }
        }
      }
    },
    {
      "cell_type": "code",
      "source": [
        "# import libraries\n",
        "import pandas as pd\n",
        "import requests\n",
        "import json\n",
        "import os\n",
        "from os import listdir\n",
        "from os.path import isfile, join, splitext\n",
        " import GlobalVariables"
      ],
      "outputs": [],
      "execution_count": 1,
      "metadata": {
        "gather": {
          "logged": 1643154996280
        }
      }
    },
    {
      "cell_type": "code",
      "source": [
        "\n",
        "# Translator resource\n",
        "# Endpoint parameters for querying the translator to return the translated JSON\n",
        "url = GlobalVariables.TRANSLATION_URL\n",
        "apim_key = GlobalVariables.TRANSLATION_API_KEY\n",
        "headers = {'Ocp-Apim-Subscription-Key': apim_key,\"Content-Type\":\"application/json; charset=UTF-8\"}\n",
        "# Provide english as the language\n",
        "lang = \"en\""
      ],
      "outputs": [],
      "execution_count": 2,
      "metadata": {
        "gather": {
          "logged": 1643154997399
        },
        "jupyter": {
          "outputs_hidden": false,
          "source_hidden": false
        },
        "nteract": {
          "transient": {
            "deleting": false
          }
        }
      }
    },
    {
      "cell_type": "code",
      "source": [
        "from azure.storage.blob import BlobServiceClient,ContainerClient, BlobClient\n",
        "import pandas as pd\n",
        "from io import BytesIO\n",
        "from copy import deepcopy\n",
        "import json\n",
        "\n",
        "filename = GlobalVariables.IFBLOBNAME\n",
        "\n",
        "container_name=GlobalVariables.IFCONTAINER_NAME\n",
        "constr = GlobalVariables.IFCONNECTIONSTRING\n",
        "\n",
        "blob_service_client = BlobServiceClient.from_connection_string(constr)\n",
        "container_client = blob_service_client.get_container_client(container_name)\n",
        "blob_client = container_client.get_blob_client(filename)\n",
        "streamdownloader = blob_client.download_blob()\n",
        "\n",
        "fileReader = json.loads(streamdownloader.readall())\n",
        "print(fileReader)"
      ],
      "outputs": [
        {
          "output_type": "stream",
          "name": "stderr",
          "text": "Tuple timeout setting is deprecated\n"
        },
        {
          "output_type": "stream",
          "name": "stdout",
          "text": "{'CaseId': '202045000', 'Company': 'Wide World Importers', 'Location': 'San Diego', 'Month': 'January', 'Day': 3, 'Hospitalized': 1, 'Amputation': 0, 'FinalNarrative': 'El empleado perdió la uña, la piel y la carne de la punta de su dedo anular derecho mientras cerraba la puerta del achicador de cartón.', 'Nature': 'Avulsions, enucleations', 'PartofBody': 'Finger(s), fingernail(s), n.e.c.', 'Event': 'Golpeado por un objeto que se balancea o se desliza, que no sea de mano, no especificado  ', 'Source': 'Maquinaria de embalaje, envoltorio, empaquetado'}\n"
        }
      ],
      "execution_count": 3,
      "metadata": {
        "jupyter": {
          "outputs_hidden": false,
          "source_hidden": false
        },
        "nteract": {
          "transient": {
            "deleting": false
          }
        }
      }
    },
    {
      "cell_type": "code",
      "source": [
        "esp_data=json.dumps(fileReader, ensure_ascii=False).encode('utf8')\n",
        "print(\"\\nOriginal JSON\\n\")\n",
        "print(esp_data.decode())\n",
        "esp_decod = esp_data.decode('utf-8')\n",
        "resp = requests.post(url+lang, json=[{'Text':esp_decod}], headers = headers)\n",
        "resp_text = json.loads(resp.text) \n",
        "en_val=resp_text[0]['translations'][0]['text']\n",
        "try:\n",
        "    en_dict = json.loads(en_val)\n",
        "\n",
        "except:\n",
        "    en_str = f\"{{{en_val}}}\"\n",
        "    en_dict = json.loads(en_str)\n",
        "print(\"\\nTranslated JSON\\n\")\n",
        "print(en_dict)"
      ],
      "outputs": [
        {
          "output_type": "stream",
          "name": "stdout",
          "text": "\nOriginal JSON\n\n{\"CaseId\": \"202045000\", \"Company\": \"Wide World Importers\", \"Location\": \"San Diego\", \"Month\": \"January\", \"Day\": 3, \"Hospitalized\": 1, \"Amputation\": 0, \"FinalNarrative\": \"El empleado perdió la uña, la piel y la carne de la punta de su dedo anular derecho mientras cerraba la puerta del achicador de cartón.\", \"Nature\": \"Avulsions, enucleations\", \"PartofBody\": \"Finger(s), fingernail(s), n.e.c.\", \"Event\": \"Golpeado por un objeto que se balancea o se desliza, que no sea de mano, no especificado  \", \"Source\": \"Maquinaria de embalaje, envoltorio, empaquetado\"}\n\nTranslated JSON\n\n{'CaseId': '202045000', 'Company': 'Wide World Importers', 'Location': 'San Diego', 'Month': 'January', 'Day': 3, 'Hospitalized': 1, 'Amputation': 0, 'FinalNarrative': 'The employee lost the nail, skin and flesh of the tip of his right ring finger while closing the door of the cardboard shrinker.', 'Nature': 'Avulsions, enucleations', 'PartofBody': 'Finger(s), fingernail(s), n.e.c.', 'Event': 'Hit by an object that swings or slides,  non-handheld, unspecified', 'Source': 'Packaging machinery, wrapping, packaging'}\n"
        }
      ],
      "execution_count": 5,
      "metadata": {}
    },
    {
      "cell_type": "code",
      "source": [],
      "outputs": [],
      "execution_count": null,
      "metadata": {
        "jupyter": {
          "outputs_hidden": false,
          "source_hidden": false
        },
        "nteract": {
          "transient": {
            "deleting": false
          }
        }
      }
    }
  ],
  "metadata": {
    "kernel_info": {
      "name": "python3-azureml"
    },
    "kernelspec": {
      "name": "python3-azureml",
      "language": "python",
      "display_name": "Python 3.6 - AzureML"
    },
    "language_info": {
      "name": "python",
      "version": "3.6.9",
      "mimetype": "text/x-python",
      "codemirror_mode": {
        "name": "ipython",
        "version": 3
      },
      "pygments_lexer": "ipython3",
      "nbconvert_exporter": "python",
      "file_extension": ".py"
    },
    "nteract": {
      "version": "nteract-front-end@1.0.0"
    }
  },
  "nbformat": 4,
  "nbformat_minor": 2
}