{
  "cells": [
    {
      "cell_type": "markdown",
      "source": [
        "# Building Price Recommendation Model With Lightgbm"
      ],
      "metadata": {
        "nteract": {
          "transient": {
            "deleting": false
          }
        }
      }
    },
    {
      "cell_type": "markdown",
      "source": [
        "Retail price recommendation is the manufacturing and selling price associated with a product, suggested to retailers. The aim is to guarantee that basic and essential commodities are always accessible at reasonable rates without depriving sellers of a decent return on investment.  In this notebook we build a model that automatically suggests the right product prices."
      ],
      "metadata": {
        "nteract": {
          "transient": {
            "deleting": false
          }
        }
      }
    },
    {
      "cell_type": "markdown",
      "source": [
        "### Data Dictionary\r\n",
        "- train_id — the id of the listing\r\n",
        "- name — the title of the listing\r\n",
        "- item_condition_id — the condition of the items provided by the sellers\r\n",
        "- category_name — category of the listing\r\n",
        "- brand_name — the name of the brand\r\n",
        "- price — the price that the item was sold for. This is target variable that we will predict\r\n",
        "- shipping — 1 if shipping fee is paid by seller and 0 by buyer\r\n",
        "- item_description — the full description of the item"
      ],
      "metadata": {
        "nteract": {
          "transient": {
            "deleting": false
          }
        }
      }
    },
    {
      "cell_type": "markdown",
      "source": [
        "![EDA](https://stretaildemodev.blob.core.windows.net/notebookimages/1b.jpg)"
      ],
      "metadata": {
        "nteract": {
          "transient": {
            "deleting": false
          }
        }
      }
    },
    {
      "cell_type": "markdown",
      "source": [
        "### Importing libraries"
      ],
      "metadata": {
        "nteract": {
          "transient": {
            "deleting": false
          }
        }
      }
    },
    {
      "cell_type": "code",
      "source": [
        "import gc\n",
        "import time\n",
        "import numpy as np\n",
        "import pandas as pd\n",
        "import matplotlib.pyplot as plt\n",
        "import seaborn as sns\n",
        "from scipy.sparse import csr_matrix, hstack\n",
        "from sklearn.feature_extraction.text import CountVectorizer, TfidfVectorizer\n",
        "from sklearn.preprocessing import LabelBinarizer\n",
        "from sklearn.model_selection import train_test_split, cross_val_score\n",
        "from sklearn.metrics import mean_squared_error\n",
        "import lightgbm as lgb\n",
        "from io import BytesIO\n",
        "from azure.storage.blob import ContainerClient, BlobClient\n",
        "import GlobalVariables as gv"
      ],
      "outputs": [],
      "execution_count": 1,
      "metadata": {}
    },
    {
      "cell_type": "markdown",
      "source": [
        "# The Data"
      ],
      "metadata": {}
    },
    {
      "cell_type": "markdown",
      "source": [
        "Split the dataset in to train and test. We are using training data only for EDA."
      ],
      "metadata": {}
    },
    {
      "cell_type": "code",
      "source": [
        "# Reading data from azure blob storage\n",
        "blob = BlobClient.from_connection_string(conn_str=gv.PSCONNECTIONSTRING, container_name=gv.PSCONTAINER_NAME, blob_name=gv.PSBLOBNAME)\n",
        "blob_data = blob.download_blob()\n",
        "BytesIO(blob_data.content_as_bytes())\n",
        "data = pd.read_csv(BytesIO(blob_data.content_as_bytes()), sep = '\\t')\n",
        "df = data.copy()"
      ],
      "outputs": [],
      "execution_count": 2,
      "metadata": {}
    },
    {
      "cell_type": "code",
      "source": [
        "# Splitting data 80/20 in train and test respectively\n",
        "msk = np.random.rand(len(df)) < 0.8\n",
        "train = df[msk]\n",
        "test = df[~msk]"
      ],
      "outputs": [],
      "execution_count": 3,
      "metadata": {}
    },
    {
      "cell_type": "code",
      "source": [
        "train.shape, test.shape"
      ],
      "outputs": [
        {
          "output_type": "execute_result",
          "execution_count": 4,
          "data": {
            "text/plain": "((1185868, 8), (296667, 8))"
          },
          "metadata": {}
        }
      ],
      "execution_count": 4,
      "metadata": {}
    },
    {
      "cell_type": "markdown",
      "source": [
        "# EDA"
      ],
      "metadata": {}
    },
    {
      "cell_type": "code",
      "source": [
        "train.head()"
      ],
      "outputs": [
        {
          "output_type": "execute_result",
          "execution_count": 5,
          "data": {
            "text/html": "<div>\n<style scoped>\n    .dataframe tbody tr th:only-of-type {\n        vertical-align: middle;\n    }\n\n    .dataframe tbody tr th {\n        vertical-align: top;\n    }\n\n    .dataframe thead th {\n        text-align: right;\n    }\n</style>\n<table border=\"1\" class=\"dataframe\">\n  <thead>\n    <tr style=\"text-align: right;\">\n      <th></th>\n      <th>train_id</th>\n      <th>name</th>\n      <th>item_condition_id</th>\n      <th>category_name</th>\n      <th>brand_name</th>\n      <th>price</th>\n      <th>shipping</th>\n      <th>item_description</th>\n    </tr>\n  </thead>\n  <tbody>\n    <tr>\n      <th>0</th>\n      <td>0</td>\n      <td>MLB Cincinnati Reds T Shirt Size XL</td>\n      <td>3</td>\n      <td>Men/Tops/T-shirts</td>\n      <td>NaN</td>\n      <td>10.0</td>\n      <td>1</td>\n      <td>No description yet</td>\n    </tr>\n    <tr>\n      <th>1</th>\n      <td>1</td>\n      <td>Razer BlackWidow Chroma Keyboard</td>\n      <td>3</td>\n      <td>Electronics/Computers &amp; Tablets/Components &amp; P...</td>\n      <td>Razer</td>\n      <td>52.0</td>\n      <td>0</td>\n      <td>This keyboard is in great condition and works ...</td>\n    </tr>\n    <tr>\n      <th>4</th>\n      <td>4</td>\n      <td>24K GOLD plated rose</td>\n      <td>1</td>\n      <td>Women/Jewelry/Necklaces</td>\n      <td>NaN</td>\n      <td>44.0</td>\n      <td>0</td>\n      <td>Complete with certificate of authenticity</td>\n    </tr>\n    <tr>\n      <th>5</th>\n      <td>5</td>\n      <td>Bundled items requested for Ruie</td>\n      <td>3</td>\n      <td>Women/Other/Other</td>\n      <td>NaN</td>\n      <td>59.0</td>\n      <td>0</td>\n      <td>Banana republic bottoms, Candies skirt with ma...</td>\n    </tr>\n    <tr>\n      <th>7</th>\n      <td>7</td>\n      <td>Girls cheer and tumbling bundle of 7</td>\n      <td>3</td>\n      <td>Sports &amp; Outdoors/Apparel/Girls</td>\n      <td>Soffe</td>\n      <td>6.0</td>\n      <td>1</td>\n      <td>You get three pairs of Sophie cheer shorts siz...</td>\n    </tr>\n  </tbody>\n</table>\n</div>",
            "text/plain": "   train_id                                  name  item_condition_id  \\\n0         0   MLB Cincinnati Reds T Shirt Size XL                  3   \n1         1      Razer BlackWidow Chroma Keyboard                  3   \n4         4                  24K GOLD plated rose                  1   \n5         5      Bundled items requested for Ruie                  3   \n7         7  Girls cheer and tumbling bundle of 7                  3   \n\n                                       category_name brand_name  price  \\\n0                                  Men/Tops/T-shirts        NaN   10.0   \n1  Electronics/Computers & Tablets/Components & P...      Razer   52.0   \n4                            Women/Jewelry/Necklaces        NaN   44.0   \n5                                  Women/Other/Other        NaN   59.0   \n7                    Sports & Outdoors/Apparel/Girls      Soffe    6.0   \n\n   shipping                                   item_description  \n0         1                                 No description yet  \n1         0  This keyboard is in great condition and works ...  \n4         0          Complete with certificate of authenticity  \n5         0  Banana republic bottoms, Candies skirt with ma...  \n7         1  You get three pairs of Sophie cheer shorts siz...  "
          },
          "metadata": {}
        }
      ],
      "execution_count": 5,
      "metadata": {}
    },
    {
      "cell_type": "code",
      "source": [
        "train.info()"
      ],
      "outputs": [
        {
          "output_type": "stream",
          "name": "stdout",
          "text": "<class 'pandas.core.frame.DataFrame'>\nInt64Index: 1185868 entries, 0 to 1482534\nData columns (total 8 columns):\ntrain_id             1185868 non-null int64\nname                 1185868 non-null object\nitem_condition_id    1185868 non-null int64\ncategory_name        1180843 non-null object\nbrand_name           679731 non-null object\nprice                1185868 non-null float64\nshipping             1185868 non-null int64\nitem_description     1185865 non-null object\ndtypes: float64(1), int64(3), object(4)\nmemory usage: 81.4+ MB\n"
        }
      ],
      "execution_count": 6,
      "metadata": {}
    },
    {
      "cell_type": "markdown",
      "source": [
        "## Price"
      ],
      "metadata": {}
    },
    {
      "cell_type": "code",
      "source": [
        "train.price.describe()"
      ],
      "outputs": [
        {
          "output_type": "execute_result",
          "execution_count": 7,
          "data": {
            "text/plain": "count    1.185868e+06\nmean     2.673038e+01\nstd      3.849153e+01\nmin      0.000000e+00\n25%      1.000000e+01\n50%      1.700000e+01\n75%      2.900000e+01\nmax      2.009000e+03\nName: price, dtype: float64"
          },
          "metadata": {}
        }
      ],
      "execution_count": 7,
      "metadata": {}
    },
    {
      "cell_type": "code",
      "source": [
        "# Visualzing price distribution\n",
        "plt.subplot(1, 2, 1)\n",
        "(train['price']).plot.hist(bins=50, figsize=(12, 6), edgecolor = 'white', range = [0, 250])\n",
        "plt.xlabel('price', fontsize=12)\n",
        "plt.title('Price Distribution', fontsize=12)\n",
        "\n",
        "# Visualzing log(price+1) distribution\n",
        "plt.subplot(1, 2, 2)\n",
        "np.log(train['price']+1).plot.hist(bins=50, figsize=(12,6), edgecolor='white')\n",
        "plt.xlabel('log(price+1)', fontsize=12)\n",
        "plt.title('Price Distribution', fontsize=12)"
      ],
      "outputs": [
        {
          "output_type": "execute_result",
          "execution_count": 8,
          "data": {
            "text/plain": "Text(0.5, 1.0, 'Price Distribution')"
          },
          "metadata": {}
        },
        {
          "output_type": "display_data",
          "data": {
            "image/png": "[encoded data removed]",
            "text/plain": "<Figure size 864x432 with 2 Axes>"
          },
          "metadata": {
            "needs_background": "light"
          }
        }
      ],
      "execution_count": 8,
      "metadata": {}
    },
    {
      "cell_type": "markdown",
      "source": [
        "The price of items are left skewed, vast majority of items priced at 10-20. However, the most expensive item priced at 2009. So we make log-transformation on the price."
      ],
      "metadata": {}
    },
    {
      "cell_type": "markdown",
      "source": [
        "## Shipping"
      ],
      "metadata": {}
    },
    {
      "cell_type": "code",
      "source": [
        "train['shipping'].value_counts() / len(train)"
      ],
      "outputs": [
        {
          "output_type": "execute_result",
          "execution_count": 9,
          "data": {
            "text/plain": "0    0.552888\n1    0.447112\nName: shipping, dtype: float64"
          },
          "metadata": {}
        }
      ],
      "execution_count": 9,
      "metadata": {}
    },
    {
      "cell_type": "markdown",
      "source": [
        "Over 55% of items shipping fee were paid by the buyers. How shipping related to price?"
      ],
      "metadata": {}
    },
    {
      "cell_type": "code",
      "source": [
        "#Visualizing price distribution by shipping type\n",
        "shipping_fee_by_buyer = train.loc[df['shipping'] == 0, 'price']\n",
        "shipping_fee_by_seller = train.loc[df['shipping'] == 1, 'price']\n",
        "\n",
        "fig, ax = plt.subplots(figsize=(18,8))\n",
        "ax.hist(shipping_fee_by_seller, color='#8CB4E1', alpha=1.0, bins=50, range = [0, 100],\n",
        "       label='Price when Seller pays Shipping')\n",
        "ax.hist(shipping_fee_by_buyer, color='#007D00', alpha=0.7, bins=50, range = [0, 100],\n",
        "       label='Price when Buyer pays Shipping')\n",
        "plt.xlabel('price', fontsize=12)\n",
        "plt.ylabel('frequency', fontsize=12)\n",
        "plt.title('Price Distribution by Shipping Type', fontsize=15)\n",
        "plt.tick_params(labelsize=12)\n",
        "plt.legend()\n",
        "plt.show()"
      ],
      "outputs": [
        {
          "output_type": "display_data",
          "data": {
            "image/png": "[encoded data removed]",
            "text/plain": "<Figure size 1296x576 with 1 Axes>"
          },
          "metadata": {
            "needs_background": "light"
          }
        }
      ],
      "execution_count": 10,
      "metadata": {}
    },
    {
      "cell_type": "code",
      "source": [
        "print('The average price is {}'.format(round(shipping_fee_by_seller.mean(), 2)), 'if seller pays shipping');\n",
        "print('The average price is {}'.format(round(shipping_fee_by_buyer.mean(), 2)), 'if buyer pays shipping')"
      ],
      "outputs": [
        {
          "output_type": "stream",
          "name": "stdout",
          "text": "The average price is 22.53 if seller pays shipping\nThe average price is 30.13 if buyer pays shipping\n"
        }
      ],
      "execution_count": 11,
      "metadata": {}
    },
    {
      "cell_type": "markdown",
      "source": [
        "We compare again after log-transformation on the price."
      ],
      "metadata": {}
    },
    {
      "cell_type": "code",
      "source": [
        "#Visualizing log of price distribution by shipping type\n",
        "fig, ax = plt.subplots(figsize=(18,8))\n",
        "ax.hist(np.log(shipping_fee_by_seller+1), color='#8CB4E1', alpha=1.0, bins=50,\n",
        "       label='Price when Seller pays Shipping')\n",
        "ax.hist(np.log(shipping_fee_by_buyer+1), color='#007D00', alpha=0.7, bins=50,\n",
        "       label='Price when Buyer pays Shipping')\n",
        "plt.xlabel('log(price+1)', fontsize=12)\n",
        "plt.ylabel('frequency', fontsize=12)\n",
        "plt.title('Price Distribution by Shipping Type', fontsize=15)\n",
        "plt.tick_params(labelsize=12)\n",
        "plt.legend()\n",
        "plt.show()"
      ],
      "outputs": [
        {
          "output_type": "display_data",
          "data": {
            "image/png": "[encoded data removed]",
            "text/plain": "<Figure size 1296x576 with 1 Axes>"
          },
          "metadata": {
            "needs_background": "light"
          }
        }
      ],
      "execution_count": 12,
      "metadata": {}
    },
    {
      "cell_type": "markdown",
      "source": [
        "It is obvious that the average price is higher when buyer pays shipping."
      ],
      "metadata": {}
    },
    {
      "cell_type": "markdown",
      "source": [
        "## Category Names"
      ],
      "metadata": {}
    },
    {
      "cell_type": "markdown",
      "source": [
        "### Category names"
      ],
      "metadata": {}
    },
    {
      "cell_type": "code",
      "source": [
        "print('There are', train['category_name'].nunique(), 'unique values in category name column')"
      ],
      "outputs": [
        {
          "output_type": "stream",
          "name": "stdout",
          "text": "There are 1269 unique values in category name column\n"
        }
      ],
      "execution_count": 13,
      "metadata": {}
    },
    {
      "cell_type": "markdown",
      "source": [
        "Top 10 most common category names"
      ],
      "metadata": {}
    },
    {
      "cell_type": "code",
      "source": [
        "train['category_name'].value_counts()[:10]"
      ],
      "outputs": [
        {
          "output_type": "execute_result",
          "execution_count": 14,
          "data": {
            "text/plain": "Women/Athletic Apparel/Pants, Tights, Leggings                 48033\nWomen/Tops & Blouses/T-Shirts                                  37048\nBeauty/Makeup/Face                                             27401\nBeauty/Makeup/Lips                                             23850\nElectronics/Video Games & Consoles/Games                       21275\nBeauty/Makeup/Eyes                                             20181\nElectronics/Cell Phones & Accessories/Cases, Covers & Skins    19760\nWomen/Underwear/Bras                                           17064\nWomen/Tops & Blouses/Tank, Cami                                16260\nWomen/Tops & Blouses/Blouse                                    16210\nName: category_name, dtype: int64"
          },
          "metadata": {}
        }
      ],
      "execution_count": 14,
      "metadata": {}
    },
    {
      "cell_type": "markdown",
      "source": [
        "### Item condition vs. Price"
      ],
      "metadata": {}
    },
    {
      "cell_type": "code",
      "source": [
        "# Visualizing data distribution of item condition w.r.t price\n",
        "\n",
        "sns.boxplot(x = 'item_condition_id', y = np.log(train['price']+1), data = train, palette = sns.color_palette('RdBu',5))"
      ],
      "outputs": [
        {
          "output_type": "execute_result",
          "execution_count": 15,
          "data": {
            "text/plain": "<matplotlib.axes._subplots.AxesSubplot at 0x7f8cf49227b8>"
          },
          "metadata": {}
        },
        {
          "output_type": "display_data",
          "data": {
            "image/png": "[encoded data removed]",
            "text/plain": "<Figure size 432x288 with 1 Axes>"
          },
          "metadata": {
            "needs_background": "light"
          }
        }
      ],
      "execution_count": 15,
      "metadata": {}
    },
    {
      "cell_type": "markdown",
      "source": [
        "There seems to be various on the average price between each item condition id."
      ],
      "metadata": {}
    },
    {
      "cell_type": "markdown",
      "source": [
        "Therefore, we are going to use all the features to build our model."
      ],
      "metadata": {}
    },
    {
      "cell_type": "markdown",
      "source": [
        "# LightGBM"
      ],
      "metadata": {}
    },
    {
      "cell_type": "markdown",
      "source": [
        "## Settings"
      ],
      "metadata": {}
    },
    {
      "cell_type": "code",
      "source": [
        "# Setting constants for LightGBM\n",
        "NUM_BRANDS = 4000\n",
        "NUM_CATEGORIES = 1000\n",
        "NAME_MIN_DF = 10\n",
        "MAX_FEATURES_ITEM_DESCRIPTION = 50000"
      ],
      "outputs": [],
      "execution_count": 16,
      "metadata": {}
    },
    {
      "cell_type": "markdown",
      "source": [
        "There are missing values in the columns."
      ],
      "metadata": {}
    },
    {
      "cell_type": "code",
      "source": [
        "print('There are %d items that do not have a category name.' %train['category_name'].isnull().sum())"
      ],
      "outputs": [
        {
          "output_type": "stream",
          "name": "stdout",
          "text": "There are 5025 items that do not have a category name.\n"
        }
      ],
      "execution_count": 17,
      "metadata": {}
    },
    {
      "cell_type": "code",
      "source": [
        "print('There are %d items that do not have a brand name.' %train['brand_name'].isnull().sum())"
      ],
      "outputs": [
        {
          "output_type": "stream",
          "name": "stdout",
          "text": "There are 506137 items that do not have a brand name.\n"
        }
      ],
      "execution_count": 18,
      "metadata": {}
    },
    {
      "cell_type": "code",
      "source": [
        "print('There are %d items that do not have a description.' %train['item_description'].isnull().sum())"
      ],
      "outputs": [
        {
          "output_type": "stream",
          "name": "stdout",
          "text": "There are 3 items that do not have a description.\n"
        }
      ],
      "execution_count": 19,
      "metadata": {}
    },
    {
      "cell_type": "code",
      "source": [
        "# Handling NULL values\n",
        "def handle_missing_inplace(dataset): \n",
        "    dataset['category_name'].fillna(value='missing', inplace=True) \n",
        "    dataset['brand_name'].fillna(value='missing', inplace=True) \n",
        "    dataset['item_description'].replace('No description yet,''missing', inplace=True) \n",
        "    dataset['item_description'].fillna(value='missing', inplace=True)"
      ],
      "outputs": [],
      "execution_count": 20,
      "metadata": {}
    },
    {
      "cell_type": "code",
      "source": [
        "# Handling missing values\n",
        "def cutting(dataset):\n",
        "    pop_brand = dataset['brand_name'].value_counts().loc[lambda x: x.index != 'missing'].index[:NUM_BRANDS]\n",
        "    dataset.loc[~dataset['brand_name'].isin(pop_brand), 'brand_name'] = 'missing'\n",
        "    pop_category = dataset['category_name'].value_counts().loc[lambda x: x.index != 'missing'].index[:NUM_CATEGORIES]"
      ],
      "outputs": [],
      "execution_count": 21,
      "metadata": {}
    },
    {
      "cell_type": "code",
      "source": [
        "# Converting type of 3 columns to categorical\n",
        "def to_categorical(dataset):\n",
        "    dataset['category_name'] = dataset['category_name'].astype('category')\n",
        "    dataset['brand_name'] = dataset['brand_name'].astype('category')\n",
        "    dataset['item_condition_id'] = dataset['item_condition_id'].astype('category')"
      ],
      "outputs": [],
      "execution_count": 22,
      "metadata": {}
    },
    {
      "cell_type": "code",
      "source": [
        "# df = pd.read_csv('train.tsv', sep = '\\t')\n",
        "\n",
        "# Reading data from blob storage and dividing train and test data as 80/20\n",
        "df = pd.read_csv(BytesIO(blob_data.content_as_bytes()), sep = '\\t')\n",
        "msk = np.random.rand(len(df)) < 0.8\n",
        "train = df[msk]\n",
        "test = df[~msk]\n",
        "test_new = test.drop('price', axis=1)\n",
        "y_test = np.log1p(test[\"price\"])"
      ],
      "outputs": [],
      "execution_count": 23,
      "metadata": {}
    },
    {
      "cell_type": "markdown",
      "source": [
        "Drop rows where price = 0"
      ],
      "metadata": {}
    },
    {
      "cell_type": "code",
      "source": [
        "train = train[train.price != 0].reset_index(drop=True)"
      ],
      "outputs": [],
      "execution_count": 24,
      "metadata": {}
    },
    {
      "cell_type": "code",
      "source": [
        "nrow_train = train.shape[0]\n",
        "y = np.log1p(train[\"price\"])\n",
        "merge: pd.DataFrame = pd.concat([train, test_new])"
      ],
      "outputs": [
        {
          "output_type": "stream",
          "name": "stderr",
          "text": "/anaconda/envs/azureml_py36/lib/python3.6/site-packages/ipykernel_launcher.py:3: FutureWarning: Sorting because non-concatenation axis is not aligned. A future version\nof pandas will change to not sort by default.\n\nTo accept the future behavior, pass 'sort=False'.\n\nTo retain the current behavior and silence the warning, pass 'sort=True'.\n\n  This is separate from the ipykernel package so we can avoid doing imports until\n"
        }
      ],
      "execution_count": 25,
      "metadata": {}
    },
    {
      "cell_type": "code",
      "source": [
        "# Pre processing data\n",
        "handle_missing_inplace(merge)\n",
        "cutting(merge)\n",
        "to_categorical(merge)"
      ],
      "outputs": [],
      "execution_count": 26,
      "metadata": {}
    },
    {
      "cell_type": "code",
      "source": [
        "merge.head()"
      ],
      "outputs": [
        {
          "output_type": "execute_result",
          "execution_count": 27,
          "data": {
            "text/html": "<div>\n<style scoped>\n    .dataframe tbody tr th:only-of-type {\n        vertical-align: middle;\n    }\n\n    .dataframe tbody tr th {\n        vertical-align: top;\n    }\n\n    .dataframe thead th {\n        text-align: right;\n    }\n</style>\n<table border=\"1\" class=\"dataframe\">\n  <thead>\n    <tr style=\"text-align: right;\">\n      <th></th>\n      <th>brand_name</th>\n      <th>category_name</th>\n      <th>item_condition_id</th>\n      <th>item_description</th>\n      <th>name</th>\n      <th>price</th>\n      <th>shipping</th>\n      <th>train_id</th>\n    </tr>\n  </thead>\n  <tbody>\n    <tr>\n      <th>0</th>\n      <td>missing</td>\n      <td>Men/Tops/T-shirts</td>\n      <td>3</td>\n      <td>No description yet</td>\n      <td>MLB Cincinnati Reds T Shirt Size XL</td>\n      <td>10.0</td>\n      <td>1</td>\n      <td>0</td>\n    </tr>\n    <tr>\n      <th>1</th>\n      <td>Razer</td>\n      <td>Electronics/Computers &amp; Tablets/Components &amp; P...</td>\n      <td>3</td>\n      <td>This keyboard is in great condition and works ...</td>\n      <td>Razer BlackWidow Chroma Keyboard</td>\n      <td>52.0</td>\n      <td>0</td>\n      <td>1</td>\n    </tr>\n    <tr>\n      <th>2</th>\n      <td>missing</td>\n      <td>Women/Jewelry/Necklaces</td>\n      <td>1</td>\n      <td>Complete with certificate of authenticity</td>\n      <td>24K GOLD plated rose</td>\n      <td>44.0</td>\n      <td>0</td>\n      <td>4</td>\n    </tr>\n    <tr>\n      <th>3</th>\n      <td>missing</td>\n      <td>Women/Other/Other</td>\n      <td>3</td>\n      <td>Banana republic bottoms, Candies skirt with ma...</td>\n      <td>Bundled items requested for Ruie</td>\n      <td>59.0</td>\n      <td>0</td>\n      <td>5</td>\n    </tr>\n    <tr>\n      <th>4</th>\n      <td>Soffe</td>\n      <td>Sports &amp; Outdoors/Apparel/Girls</td>\n      <td>3</td>\n      <td>You get three pairs of Sophie cheer shorts siz...</td>\n      <td>Girls cheer and tumbling bundle of 7</td>\n      <td>6.0</td>\n      <td>1</td>\n      <td>7</td>\n    </tr>\n  </tbody>\n</table>\n</div>",
            "text/plain": "  brand_name                                      category_name  \\\n0    missing                                  Men/Tops/T-shirts   \n1      Razer  Electronics/Computers & Tablets/Components & P...   \n2    missing                            Women/Jewelry/Necklaces   \n3    missing                                  Women/Other/Other   \n4      Soffe                    Sports & Outdoors/Apparel/Girls   \n\n  item_condition_id                                   item_description  \\\n0                 3                                 No description yet   \n1                 3  This keyboard is in great condition and works ...   \n2                 1          Complete with certificate of authenticity   \n3                 3  Banana republic bottoms, Candies skirt with ma...   \n4                 3  You get three pairs of Sophie cheer shorts siz...   \n\n                                   name  price  shipping  train_id  \n0   MLB Cincinnati Reds T Shirt Size XL   10.0         1         0  \n1      Razer BlackWidow Chroma Keyboard   52.0         0         1  \n2                  24K GOLD plated rose   44.0         0         4  \n3      Bundled items requested for Ruie   59.0         0         5  \n4  Girls cheer and tumbling bundle of 7    6.0         1         7  "
          },
          "metadata": {}
        }
      ],
      "execution_count": 27,
      "metadata": {}
    },
    {
      "cell_type": "markdown",
      "source": [
        "Count vectorize name and category name columns."
      ],
      "metadata": {}
    },
    {
      "cell_type": "code",
      "source": [
        "cv = CountVectorizer(min_df=NAME_MIN_DF)\n",
        "X_name = cv.fit_transform(merge['name'])"
      ],
      "outputs": [],
      "execution_count": 28,
      "metadata": {}
    },
    {
      "cell_type": "code",
      "source": [
        "cv = CountVectorizer()\n",
        "X_category = cv.fit_transform(merge['category_name'])"
      ],
      "outputs": [],
      "execution_count": 29,
      "metadata": {}
    },
    {
      "cell_type": "markdown",
      "source": [
        "TFIDF Vectorize item_description column."
      ],
      "metadata": {}
    },
    {
      "cell_type": "code",
      "source": [
        "tv = TfidfVectorizer(max_features=MAX_FEATURES_ITEM_DESCRIPTION, ngram_range=(1, 3), stop_words='english')\n",
        "X_description = tv.fit_transform(merge['item_description'])"
      ],
      "outputs": [],
      "execution_count": 30,
      "metadata": {}
    },
    {
      "cell_type": "markdown",
      "source": [
        "Label binarize brand_name column."
      ],
      "metadata": {}
    },
    {
      "cell_type": "code",
      "source": [
        "lb = LabelBinarizer(sparse_output=True)\n",
        "X_brand = lb.fit_transform(merge['brand_name'])"
      ],
      "outputs": [],
      "execution_count": 31,
      "metadata": {}
    },
    {
      "cell_type": "markdown",
      "source": [
        "Create dummy variables for item_condition_id and shipping columns."
      ],
      "metadata": {}
    },
    {
      "cell_type": "code",
      "source": [
        "merge['item_condition_id'] = np.array(merge['item_condition_id'], dtype=float)\n",
        "merge['shipping'] = np.array(merge['shipping'], dtype=float)"
      ],
      "outputs": [],
      "execution_count": 32,
      "metadata": {}
    },
    {
      "cell_type": "code",
      "source": [
        "X_dummies = csr_matrix(pd.get_dummies(merge[['item_condition_id', 'shipping']], sparse=True).values)"
      ],
      "outputs": [],
      "execution_count": 33,
      "metadata": {}
    },
    {
      "cell_type": "markdown",
      "source": [
        "Create sparse merge."
      ],
      "metadata": {}
    },
    {
      "cell_type": "code",
      "source": [
        "sparse_merge = hstack((X_dummies, X_description, X_brand, X_category, X_name)).tocsr()"
      ],
      "outputs": [],
      "execution_count": 34,
      "metadata": {}
    },
    {
      "cell_type": "code",
      "source": [
        "sparse_merge.shape"
      ],
      "outputs": [
        {
          "output_type": "execute_result",
          "execution_count": 35,
          "data": {
            "text/plain": "(1481841, 72748)"
          },
          "metadata": {}
        }
      ],
      "execution_count": 35,
      "metadata": {}
    },
    {
      "cell_type": "markdown",
      "source": [
        "Remove features with document frequency <=1."
      ],
      "metadata": {}
    },
    {
      "cell_type": "code",
      "source": [
        "mask = np.array(np.clip(sparse_merge.getnnz(axis=0) - 1, 0, 1), dtype=bool)\n",
        "sparse_merge = sparse_merge[:, mask]"
      ],
      "outputs": [],
      "execution_count": 36,
      "metadata": {}
    },
    {
      "cell_type": "code",
      "source": [
        "sparse_merge.shape"
      ],
      "outputs": [
        {
          "output_type": "execute_result",
          "execution_count": 37,
          "data": {
            "text/plain": "(1481841, 72282)"
          },
          "metadata": {}
        }
      ],
      "execution_count": 37,
      "metadata": {}
    },
    {
      "cell_type": "markdown",
      "source": [
        "Separate train and test data from sparse merge."
      ],
      "metadata": {}
    },
    {
      "cell_type": "code",
      "source": [
        "X = sparse_merge[:nrow_train]\n",
        "X_test = sparse_merge[nrow_train:]"
      ],
      "outputs": [],
      "execution_count": 38,
      "metadata": {}
    },
    {
      "cell_type": "code",
      "source": [
        "train_X = lgb.Dataset(X, label=y)"
      ],
      "outputs": [],
      "execution_count": 39,
      "metadata": {}
    },
    {
      "cell_type": "code",
      "source": [
        "\n",
        "params = {\n",
        "        'learning_rate': 0.75,\n",
        "        'application': 'regression',\n",
        "        'max_depth': 3,\n",
        "        'num_leaves': 100,\n",
        "        'verbosity': -1,\n",
        "        'metric': 'RMSE',\n",
        "    }"
      ],
      "outputs": [],
      "execution_count": 40,
      "metadata": {}
    },
    {
      "cell_type": "markdown",
      "source": [
        "### Training\n",
        "Training a model requires a parameter list and data set. And training will take a while."
      ],
      "metadata": {}
    },
    {
      "cell_type": "code",
      "source": [
        "# Train model\n",
        "gbm = lgb.train(params, train_set=train_X, num_boost_round=3200, verbose_eval=100)"
      ],
      "outputs": [],
      "execution_count": 41,
      "metadata": {}
    },
    {
      "cell_type": "markdown",
      "source": [
        "### Prediction"
      ],
      "metadata": {}
    },
    {
      "cell_type": "code",
      "source": [
        "# Get predictions\n",
        "y_pred = gbm.predict(X_test, num_iteration=gbm.best_iteration)"
      ],
      "outputs": [],
      "execution_count": 42,
      "metadata": {}
    },
    {
      "cell_type": "code",
      "source": [
        "# Calculate root mean squared error\n",
        "from sklearn.metrics import mean_squared_error\n",
        "print('The rmse of prediction is:', mean_squared_error(y_test, y_pred) ** 0.5)"
      ],
      "outputs": [
        {
          "output_type": "stream",
          "name": "stdout",
          "text": "The rmse of prediction is: 0.4605759940349746\n"
        }
      ],
      "execution_count": 43,
      "metadata": {}
    }
  ],
  "metadata": {
    "kernelspec": {
      "name": "python3",
      "language": "python",
      "display_name": "Python 3"
    },
    "language_info": {
      "name": "python",
      "version": "3.6.9",
      "mimetype": "text/x-python",
      "codemirror_mode": {
        "name": "ipython",
        "version": 3
      },
      "pygments_lexer": "ipython3",
      "nbconvert_exporter": "python",
      "file_extension": ".py"
    },
    "kernel_info": {
      "name": "python3"
    },
    "nteract": {
      "version": "nteract-front-end@1.0.0"
    }
  },
  "nbformat": 4,
  "nbformat_minor": 2
}