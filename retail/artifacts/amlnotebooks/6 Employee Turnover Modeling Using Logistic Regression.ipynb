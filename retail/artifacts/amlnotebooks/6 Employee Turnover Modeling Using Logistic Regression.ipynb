{
  "cells": [
    {
      "cell_type": "markdown",
      "source": [
        "# Employee Turnover Modeling Using Logistic Regression\n",
        "\n",
        "Explore the HR employee dataset to explore the data and predict employee turnover in a firm which can lead to customer disatisfaction. With the use of machine learning algorithms of logistic regression, random forest and SVM; this notebook predicts the employee turover in a retail organization. "
      ],
      "metadata": {
        "nteract": {
          "transient": {
            "deleting": false
          }
        }
      }
    },
    {
      "cell_type": "markdown",
      "source": [
        "### Data Dictionary\n",
        "- satisfaction_level: Employee satisfaction between 0 and 1\n",
        "- last evaluation: Latest evaluation score\n",
        "- number_project: How many projects has employee completed\n",
        "- average_montly_hours: Average monthly hours put in\n",
        "- time_spend_company: Time spent in the company since joining\n",
        "- Work_accident: Bool indicating if af any work accident took place\n",
        "- left: Bool indicating if employee left\n",
        "- promotion_last_5years: Bool indicating if any promotion has been given in last 5 years\n",
        "- department: Employee department\n",
        "- salary: Employee Salary"
      ],
      "metadata": {
        "nteract": {
          "transient": {
            "deleting": false
          }
        }
      }
    },
    {
      "cell_type": "markdown",
      "source": [
        "![turnover](https://stretaildemodev.blob.core.windows.net/notebookimages/customer.jpg)"
      ],
      "metadata": {
        "nteract": {
          "transient": {
            "deleting": false
          }
        }
      }
    },
    {
      "cell_type": "markdown",
      "source": [
        "### Importing libraries"
      ],
      "metadata": {
        "nteract": {
          "transient": {
            "deleting": false
          }
        }
      }
    },
    {
      "cell_type": "code",
      "source": [
        "# Importing libraries\n",
        "import pandas as pd\n",
        "import numpy as np\n",
        "from io import BytesIO\n",
        "from azure.storage.blob import ContainerClient, BlobClient\n",
        "import GlobalVariables as gv"
      ],
      "outputs": [],
      "execution_count": 1,
      "metadata": {
        "gather": {
          "logged": 1642552414308
        }
      }
    },
    {
      "cell_type": "markdown",
      "source": [
        "### Reading data from blob storage"
      ],
      "metadata": {
        "nteract": {
          "transient": {
            "deleting": false
          }
        }
      }
    },
    {
      "cell_type": "code",
      "source": [
        "# Reading data from blob\n",
        "blob = BlobClient.from_connection_string(conn_str=gv.STORAGE_ACCOUNT_CONNECTION_STRING, container_name=gv.CONTAINER_NAME, blob_name='HR.csv')\n",
        "blob_data = blob.download_blob()\n",
        "BytesIO(blob_data.content_as_bytes())\n",
        "data = pd.read_csv(BytesIO(blob_data.content_as_bytes()))\n",
        "hr = data.copy()"
      ],
      "outputs": [],
      "execution_count": 2,
      "metadata": {
        "jupyter": {
          "source_hidden": false,
          "outputs_hidden": false
        },
        "nteract": {
          "transient": {
            "deleting": false
          }
        },
        "gather": {
          "logged": 1642552415030
        }
      }
    },
    {
      "cell_type": "code",
      "source": [
        "# printing column names \n",
        "\n",
        "col_names = hr.columns.tolist()\n",
        "print(\"Column names:\")\n",
        "print(col_names)\n",
        "\n",
        "print(\"\\nSample data:\")\n",
        "hr.head()"
      ],
      "outputs": [
        {
          "output_type": "stream",
          "name": "stdout",
          "text": "Column names:\n['satisfaction_level', 'last_evaluation', 'number_project', 'average_montly_hours', 'time_spend_company', 'Work_accident', 'left', 'promotion_last_5years', 'sales', 'salary']\n\nSample data:\n"
        },
        {
          "output_type": "execute_result",
          "execution_count": 3,
          "data": {
            "text/plain": "   satisfaction_level  last_evaluation  number_project  average_montly_hours  \\\n0                0.38             0.53               2                   157   \n1                0.80             0.86               5                   262   \n2                0.11             0.88               7                   272   \n3                0.72             0.87               5                   223   \n4                0.37             0.52               2                   159   \n\n   time_spend_company  Work_accident  left  promotion_last_5years  sales  \\\n0                   3              0     1                      0  sales   \n1                   6              0     1                      0  sales   \n2                   4              0     1                      0  sales   \n3                   5              0     1                      0  sales   \n4                   3              0     1                      0  sales   \n\n   salary  \n0     low  \n1  medium  \n2  medium  \n3     low  \n4     low  ",
            "text/html": "<div>\n<style scoped>\n    .dataframe tbody tr th:only-of-type {\n        vertical-align: middle;\n    }\n\n    .dataframe tbody tr th {\n        vertical-align: top;\n    }\n\n    .dataframe thead th {\n        text-align: right;\n    }\n</style>\n<table border=\"1\" class=\"dataframe\">\n  <thead>\n    <tr style=\"text-align: right;\">\n      <th></th>\n      <th>satisfaction_level</th>\n      <th>last_evaluation</th>\n      <th>number_project</th>\n      <th>average_montly_hours</th>\n      <th>time_spend_company</th>\n      <th>Work_accident</th>\n      <th>left</th>\n      <th>promotion_last_5years</th>\n      <th>sales</th>\n      <th>salary</th>\n    </tr>\n  </thead>\n  <tbody>\n    <tr>\n      <th>0</th>\n      <td>0.38</td>\n      <td>0.53</td>\n      <td>2</td>\n      <td>157</td>\n      <td>3</td>\n      <td>0</td>\n      <td>1</td>\n      <td>0</td>\n      <td>sales</td>\n      <td>low</td>\n    </tr>\n    <tr>\n      <th>1</th>\n      <td>0.80</td>\n      <td>0.86</td>\n      <td>5</td>\n      <td>262</td>\n      <td>6</td>\n      <td>0</td>\n      <td>1</td>\n      <td>0</td>\n      <td>sales</td>\n      <td>medium</td>\n    </tr>\n    <tr>\n      <th>2</th>\n      <td>0.11</td>\n      <td>0.88</td>\n      <td>7</td>\n      <td>272</td>\n      <td>4</td>\n      <td>0</td>\n      <td>1</td>\n      <td>0</td>\n      <td>sales</td>\n      <td>medium</td>\n    </tr>\n    <tr>\n      <th>3</th>\n      <td>0.72</td>\n      <td>0.87</td>\n      <td>5</td>\n      <td>223</td>\n      <td>5</td>\n      <td>0</td>\n      <td>1</td>\n      <td>0</td>\n      <td>sales</td>\n      <td>low</td>\n    </tr>\n    <tr>\n      <th>4</th>\n      <td>0.37</td>\n      <td>0.52</td>\n      <td>2</td>\n      <td>159</td>\n      <td>3</td>\n      <td>0</td>\n      <td>1</td>\n      <td>0</td>\n      <td>sales</td>\n      <td>low</td>\n    </tr>\n  </tbody>\n</table>\n</div>"
          },
          "metadata": {}
        }
      ],
      "execution_count": 3,
      "metadata": {
        "jupyter": {
          "source_hidden": false,
          "outputs_hidden": false
        },
        "nteract": {
          "transient": {
            "deleting": false
          }
        },
        "gather": {
          "logged": 1642552415463
        }
      }
    },
    {
      "cell_type": "markdown",
      "source": [
        "Rename the column name from \"sales\" to \"department\""
      ],
      "metadata": {}
    },
    {
      "cell_type": "code",
      "source": [
        "# Renaming column name\r\n",
        "hr=hr.rename(columns = {'sales':'department'})"
      ],
      "outputs": [],
      "execution_count": 4,
      "metadata": {
        "collapsed": true,
        "gather": {
          "logged": 1642552416529
        }
      }
    },
    {
      "cell_type": "code",
      "source": [
        "hr.dtypes"
      ],
      "outputs": [
        {
          "output_type": "execute_result",
          "execution_count": 5,
          "data": {
            "text/plain": "satisfaction_level       float64\nlast_evaluation          float64\nnumber_project             int64\naverage_montly_hours       int64\ntime_spend_company         int64\nWork_accident              int64\nleft                       int64\npromotion_last_5years      int64\ndepartment                object\nsalary                    object\ndtype: object"
          },
          "metadata": {}
        }
      ],
      "execution_count": 5,
      "metadata": {
        "gather": {
          "logged": 1642552417490
        }
      }
    },
    {
      "cell_type": "markdown",
      "source": [
        "Our data is pretty clean, no missing values."
      ],
      "metadata": {}
    },
    {
      "cell_type": "code",
      "source": [
        "# checking for null values\r\n",
        "hr.isnull().any()"
      ],
      "outputs": [
        {
          "output_type": "execute_result",
          "execution_count": 6,
          "data": {
            "text/plain": "satisfaction_level       False\nlast_evaluation          False\nnumber_project           False\naverage_montly_hours     False\ntime_spend_company       False\nWork_accident            False\nleft                     False\npromotion_last_5years    False\ndepartment               False\nsalary                   False\ndtype: bool"
          },
          "metadata": {}
        }
      ],
      "execution_count": 6,
      "metadata": {
        "gather": {
          "logged": 1642552418349
        }
      }
    },
    {
      "cell_type": "markdown",
      "source": [
        "The data contains 14,999 employees and 10 features"
      ],
      "metadata": {}
    },
    {
      "cell_type": "code",
      "source": [
        "hr.shape"
      ],
      "outputs": [
        {
          "output_type": "execute_result",
          "execution_count": 7,
          "data": {
            "text/plain": "(14999, 10)"
          },
          "metadata": {}
        }
      ],
      "execution_count": 7,
      "metadata": {
        "gather": {
          "logged": 1642552418752
        }
      }
    },
    {
      "cell_type": "markdown",
      "source": [
        "describe() method will give us some basic summary statistics about various fields of the dataset. Let's run some summary statistics to get an insight into what we are dealing with:"
      ],
      "metadata": {}
    },
    {
      "cell_type": "code",
      "source": [
        "hr.describe()"
      ],
      "outputs": [
        {
          "output_type": "execute_result",
          "execution_count": 8,
          "data": {
            "text/plain": "       satisfaction_level  last_evaluation  number_project  \\\ncount        14999.000000     14999.000000    14999.000000   \nmean             0.612834         0.716102        3.803054   \nstd              0.248631         0.171169        1.232592   \nmin              0.090000         0.360000        2.000000   \n25%              0.440000         0.560000        3.000000   \n50%              0.640000         0.720000        4.000000   \n75%              0.820000         0.870000        5.000000   \nmax              1.000000         1.000000        7.000000   \n\n       average_montly_hours  time_spend_company  Work_accident          left  \\\ncount          14999.000000        14999.000000   14999.000000  14999.000000   \nmean             201.050337            3.498233       0.144610      0.238083   \nstd               49.943099            1.460136       0.351719      0.425924   \nmin               96.000000            2.000000       0.000000      0.000000   \n25%              156.000000            3.000000       0.000000      0.000000   \n50%              200.000000            3.000000       0.000000      0.000000   \n75%              245.000000            4.000000       0.000000      0.000000   \nmax              310.000000           10.000000       1.000000      1.000000   \n\n       promotion_last_5years  \ncount           14999.000000  \nmean                0.021268  \nstd                 0.144281  \nmin                 0.000000  \n25%                 0.000000  \n50%                 0.000000  \n75%                 0.000000  \nmax                 1.000000  ",
            "text/html": "<div>\n<style scoped>\n    .dataframe tbody tr th:only-of-type {\n        vertical-align: middle;\n    }\n\n    .dataframe tbody tr th {\n        vertical-align: top;\n    }\n\n    .dataframe thead th {\n        text-align: right;\n    }\n</style>\n<table border=\"1\" class=\"dataframe\">\n  <thead>\n    <tr style=\"text-align: right;\">\n      <th></th>\n      <th>satisfaction_level</th>\n      <th>last_evaluation</th>\n      <th>number_project</th>\n      <th>average_montly_hours</th>\n      <th>time_spend_company</th>\n      <th>Work_accident</th>\n      <th>left</th>\n      <th>promotion_last_5years</th>\n    </tr>\n  </thead>\n  <tbody>\n    <tr>\n      <th>count</th>\n      <td>14999.000000</td>\n      <td>14999.000000</td>\n      <td>14999.000000</td>\n      <td>14999.000000</td>\n      <td>14999.000000</td>\n      <td>14999.000000</td>\n      <td>14999.000000</td>\n      <td>14999.000000</td>\n    </tr>\n    <tr>\n      <th>mean</th>\n      <td>0.612834</td>\n      <td>0.716102</td>\n      <td>3.803054</td>\n      <td>201.050337</td>\n      <td>3.498233</td>\n      <td>0.144610</td>\n      <td>0.238083</td>\n      <td>0.021268</td>\n    </tr>\n    <tr>\n      <th>std</th>\n      <td>0.248631</td>\n      <td>0.171169</td>\n      <td>1.232592</td>\n      <td>49.943099</td>\n      <td>1.460136</td>\n      <td>0.351719</td>\n      <td>0.425924</td>\n      <td>0.144281</td>\n    </tr>\n    <tr>\n      <th>min</th>\n      <td>0.090000</td>\n      <td>0.360000</td>\n      <td>2.000000</td>\n      <td>96.000000</td>\n      <td>2.000000</td>\n      <td>0.000000</td>\n      <td>0.000000</td>\n      <td>0.000000</td>\n    </tr>\n    <tr>\n      <th>25%</th>\n      <td>0.440000</td>\n      <td>0.560000</td>\n      <td>3.000000</td>\n      <td>156.000000</td>\n      <td>3.000000</td>\n      <td>0.000000</td>\n      <td>0.000000</td>\n      <td>0.000000</td>\n    </tr>\n    <tr>\n      <th>50%</th>\n      <td>0.640000</td>\n      <td>0.720000</td>\n      <td>4.000000</td>\n      <td>200.000000</td>\n      <td>3.000000</td>\n      <td>0.000000</td>\n      <td>0.000000</td>\n      <td>0.000000</td>\n    </tr>\n    <tr>\n      <th>75%</th>\n      <td>0.820000</td>\n      <td>0.870000</td>\n      <td>5.000000</td>\n      <td>245.000000</td>\n      <td>4.000000</td>\n      <td>0.000000</td>\n      <td>0.000000</td>\n      <td>0.000000</td>\n    </tr>\n    <tr>\n      <th>max</th>\n      <td>1.000000</td>\n      <td>1.000000</td>\n      <td>7.000000</td>\n      <td>310.000000</td>\n      <td>10.000000</td>\n      <td>1.000000</td>\n      <td>1.000000</td>\n      <td>1.000000</td>\n    </tr>\n  </tbody>\n</table>\n</div>"
          },
          "metadata": {}
        }
      ],
      "execution_count": 8,
      "metadata": {
        "gather": {
          "logged": 1642552419670
        }
      }
    },
    {
      "cell_type": "code",
      "source": [
        "# checking unique value in a column\r\n",
        "hr['department'].unique()"
      ],
      "outputs": [
        {
          "output_type": "execute_result",
          "execution_count": 9,
          "data": {
            "text/plain": "array(['sales', 'accounting', 'hr', 'technical', 'support', 'management',\n       'IT', 'product_mng', 'marketing', 'RandD'], dtype=object)"
          },
          "metadata": {}
        }
      ],
      "execution_count": 9,
      "metadata": {
        "gather": {
          "logged": 1642552420378
        }
      }
    },
    {
      "cell_type": "code",
      "source": [
        "# replacing values \n",
        "import numpy as np\n",
        "hr['department']=np.where(hr['department'] =='support', 'technical', hr['department'])\n",
        "hr['department']=np.where(hr['department'] =='IT', 'technical', hr['department'])"
      ],
      "outputs": [],
      "execution_count": 10,
      "metadata": {
        "collapsed": true,
        "gather": {
          "logged": 1642552420488
        }
      }
    },
    {
      "cell_type": "code",
      "source": [
        "print(hr['department'].unique())"
      ],
      "outputs": [
        {
          "output_type": "stream",
          "name": "stdout",
          "text": "['sales' 'accounting' 'hr' 'technical' 'management' 'product_mng'\n 'marketing' 'RandD']\n"
        }
      ],
      "execution_count": 11,
      "metadata": {
        "gather": {
          "logged": 1642552421412
        }
      }
    },
    {
      "cell_type": "markdown",
      "source": [
        "## Data Exploring - distribution of numeric variables"
      ],
      "metadata": {}
    },
    {
      "cell_type": "code",
      "source": [
        "hr['left'].value_counts()"
      ],
      "outputs": [
        {
          "output_type": "execute_result",
          "execution_count": 12,
          "data": {
            "text/plain": "0    11428\n1     3571\nName: left, dtype: int64"
          },
          "metadata": {}
        }
      ],
      "execution_count": 12,
      "metadata": {
        "gather": {
          "logged": 1642552422305
        }
      }
    },
    {
      "cell_type": "code",
      "source": [
        "# grouping the data\r\n",
        "hr.groupby('left').mean()"
      ],
      "outputs": [
        {
          "output_type": "execute_result",
          "execution_count": 13,
          "data": {
            "text/plain": "      satisfaction_level  last_evaluation  number_project  \\\nleft                                                        \n0               0.666810         0.715473        3.786664   \n1               0.440098         0.718113        3.855503   \n\n      average_montly_hours  time_spend_company  Work_accident  \\\nleft                                                            \n0               199.060203            3.380032       0.175009   \n1               207.419210            3.876505       0.047326   \n\n      promotion_last_5years  \nleft                         \n0                  0.026251  \n1                  0.005321  ",
            "text/html": "<div>\n<style scoped>\n    .dataframe tbody tr th:only-of-type {\n        vertical-align: middle;\n    }\n\n    .dataframe tbody tr th {\n        vertical-align: top;\n    }\n\n    .dataframe thead th {\n        text-align: right;\n    }\n</style>\n<table border=\"1\" class=\"dataframe\">\n  <thead>\n    <tr style=\"text-align: right;\">\n      <th></th>\n      <th>satisfaction_level</th>\n      <th>last_evaluation</th>\n      <th>number_project</th>\n      <th>average_montly_hours</th>\n      <th>time_spend_company</th>\n      <th>Work_accident</th>\n      <th>promotion_last_5years</th>\n    </tr>\n    <tr>\n      <th>left</th>\n      <th></th>\n      <th></th>\n      <th></th>\n      <th></th>\n      <th></th>\n      <th></th>\n      <th></th>\n    </tr>\n  </thead>\n  <tbody>\n    <tr>\n      <th>0</th>\n      <td>0.666810</td>\n      <td>0.715473</td>\n      <td>3.786664</td>\n      <td>199.060203</td>\n      <td>3.380032</td>\n      <td>0.175009</td>\n      <td>0.026251</td>\n    </tr>\n    <tr>\n      <th>1</th>\n      <td>0.440098</td>\n      <td>0.718113</td>\n      <td>3.855503</td>\n      <td>207.419210</td>\n      <td>3.876505</td>\n      <td>0.047326</td>\n      <td>0.005321</td>\n    </tr>\n  </tbody>\n</table>\n</div>"
          },
          "metadata": {}
        }
      ],
      "execution_count": 13,
      "metadata": {
        "scrolled": true,
        "gather": {
          "logged": 1642552423441
        }
      }
    },
    {
      "cell_type": "code",
      "source": [
        "hr.groupby('department').mean()"
      ],
      "outputs": [
        {
          "output_type": "execute_result",
          "execution_count": 14,
          "data": {
            "text/plain": "             satisfaction_level  last_evaluation  number_project  \\\ndepartment                                                         \nRandD                  0.619822         0.712122        3.853875   \naccounting             0.582151         0.717718        3.825293   \nhr                     0.598809         0.708850        3.654939   \nmanagement             0.621349         0.724000        3.860317   \nmarketing              0.618601         0.715886        3.687646   \nproduct_mng            0.619634         0.714756        3.807095   \nsales                  0.614447         0.709717        3.776329   \ntechnical              0.613687         0.720976        3.839054   \n\n             average_montly_hours  time_spend_company  Work_accident  \\\ndepartment                                                             \nRandD                  200.800508            3.367217       0.170267   \naccounting             201.162973            3.522816       0.125163   \nhr                     198.684709            3.355886       0.120433   \nmanagement             201.249206            4.303175       0.163492   \nmarketing              199.385781            3.569930       0.160839   \nproduct_mng            199.965632            3.475610       0.146341   \nsales                  200.911353            3.534058       0.141787   \ntechnical              201.813795            3.416127       0.144106   \n\n                 left  promotion_last_5years  \ndepartment                                    \nRandD        0.153748               0.034307  \naccounting   0.265971               0.018253  \nhr           0.290934               0.020298  \nmanagement   0.144444               0.109524  \nmarketing    0.236597               0.050117  \nproduct_mng  0.219512               0.000000  \nsales        0.244928               0.024155  \ntechnical    0.246924               0.008258  ",
            "text/html": "<div>\n<style scoped>\n    .dataframe tbody tr th:only-of-type {\n        vertical-align: middle;\n    }\n\n    .dataframe tbody tr th {\n        vertical-align: top;\n    }\n\n    .dataframe thead th {\n        text-align: right;\n    }\n</style>\n<table border=\"1\" class=\"dataframe\">\n  <thead>\n    <tr style=\"text-align: right;\">\n      <th></th>\n      <th>satisfaction_level</th>\n      <th>last_evaluation</th>\n      <th>number_project</th>\n      <th>average_montly_hours</th>\n      <th>time_spend_company</th>\n      <th>Work_accident</th>\n      <th>left</th>\n      <th>promotion_last_5years</th>\n    </tr>\n    <tr>\n      <th>department</th>\n      <th></th>\n      <th></th>\n      <th></th>\n      <th></th>\n      <th></th>\n      <th></th>\n      <th></th>\n      <th></th>\n    </tr>\n  </thead>\n  <tbody>\n    <tr>\n      <th>RandD</th>\n      <td>0.619822</td>\n      <td>0.712122</td>\n      <td>3.853875</td>\n      <td>200.800508</td>\n      <td>3.367217</td>\n      <td>0.170267</td>\n      <td>0.153748</td>\n      <td>0.034307</td>\n    </tr>\n    <tr>\n      <th>accounting</th>\n      <td>0.582151</td>\n      <td>0.717718</td>\n      <td>3.825293</td>\n      <td>201.162973</td>\n      <td>3.522816</td>\n      <td>0.125163</td>\n      <td>0.265971</td>\n      <td>0.018253</td>\n    </tr>\n    <tr>\n      <th>hr</th>\n      <td>0.598809</td>\n      <td>0.708850</td>\n      <td>3.654939</td>\n      <td>198.684709</td>\n      <td>3.355886</td>\n      <td>0.120433</td>\n      <td>0.290934</td>\n      <td>0.020298</td>\n    </tr>\n    <tr>\n      <th>management</th>\n      <td>0.621349</td>\n      <td>0.724000</td>\n      <td>3.860317</td>\n      <td>201.249206</td>\n      <td>4.303175</td>\n      <td>0.163492</td>\n      <td>0.144444</td>\n      <td>0.109524</td>\n    </tr>\n    <tr>\n      <th>marketing</th>\n      <td>0.618601</td>\n      <td>0.715886</td>\n      <td>3.687646</td>\n      <td>199.385781</td>\n      <td>3.569930</td>\n      <td>0.160839</td>\n      <td>0.236597</td>\n      <td>0.050117</td>\n    </tr>\n    <tr>\n      <th>product_mng</th>\n      <td>0.619634</td>\n      <td>0.714756</td>\n      <td>3.807095</td>\n      <td>199.965632</td>\n      <td>3.475610</td>\n      <td>0.146341</td>\n      <td>0.219512</td>\n      <td>0.000000</td>\n    </tr>\n    <tr>\n      <th>sales</th>\n      <td>0.614447</td>\n      <td>0.709717</td>\n      <td>3.776329</td>\n      <td>200.911353</td>\n      <td>3.534058</td>\n      <td>0.141787</td>\n      <td>0.244928</td>\n      <td>0.024155</td>\n    </tr>\n    <tr>\n      <th>technical</th>\n      <td>0.613687</td>\n      <td>0.720976</td>\n      <td>3.839054</td>\n      <td>201.813795</td>\n      <td>3.416127</td>\n      <td>0.144106</td>\n      <td>0.246924</td>\n      <td>0.008258</td>\n    </tr>\n  </tbody>\n</table>\n</div>"
          },
          "metadata": {}
        }
      ],
      "execution_count": 14,
      "metadata": {
        "gather": {
          "logged": 1642552423825
        }
      }
    },
    {
      "cell_type": "code",
      "source": [
        "hr.groupby('salary').mean()"
      ],
      "outputs": [
        {
          "output_type": "execute_result",
          "execution_count": 15,
          "data": {
            "text/plain": "        satisfaction_level  last_evaluation  number_project  \\\nsalary                                                        \nhigh              0.637470         0.704325        3.767179   \nlow               0.600753         0.717017        3.799891   \nmedium            0.621817         0.717322        3.813528   \n\n        average_montly_hours  time_spend_company  Work_accident      left  \\\nsalary                                                                      \nhigh              199.867421            3.692805       0.155214  0.066289   \nlow               200.996583            3.438218       0.142154  0.296884   \nmedium            201.338349            3.529010       0.145361  0.204313   \n\n        promotion_last_5years  \nsalary                         \nhigh                 0.058205  \nlow                  0.009021  \nmedium               0.028079  ",
            "text/html": "<div>\n<style scoped>\n    .dataframe tbody tr th:only-of-type {\n        vertical-align: middle;\n    }\n\n    .dataframe tbody tr th {\n        vertical-align: top;\n    }\n\n    .dataframe thead th {\n        text-align: right;\n    }\n</style>\n<table border=\"1\" class=\"dataframe\">\n  <thead>\n    <tr style=\"text-align: right;\">\n      <th></th>\n      <th>satisfaction_level</th>\n      <th>last_evaluation</th>\n      <th>number_project</th>\n      <th>average_montly_hours</th>\n      <th>time_spend_company</th>\n      <th>Work_accident</th>\n      <th>left</th>\n      <th>promotion_last_5years</th>\n    </tr>\n    <tr>\n      <th>salary</th>\n      <th></th>\n      <th></th>\n      <th></th>\n      <th></th>\n      <th></th>\n      <th></th>\n      <th></th>\n      <th></th>\n    </tr>\n  </thead>\n  <tbody>\n    <tr>\n      <th>high</th>\n      <td>0.637470</td>\n      <td>0.704325</td>\n      <td>3.767179</td>\n      <td>199.867421</td>\n      <td>3.692805</td>\n      <td>0.155214</td>\n      <td>0.066289</td>\n      <td>0.058205</td>\n    </tr>\n    <tr>\n      <th>low</th>\n      <td>0.600753</td>\n      <td>0.717017</td>\n      <td>3.799891</td>\n      <td>200.996583</td>\n      <td>3.438218</td>\n      <td>0.142154</td>\n      <td>0.296884</td>\n      <td>0.009021</td>\n    </tr>\n    <tr>\n      <th>medium</th>\n      <td>0.621817</td>\n      <td>0.717322</td>\n      <td>3.813528</td>\n      <td>201.338349</td>\n      <td>3.529010</td>\n      <td>0.145361</td>\n      <td>0.204313</td>\n      <td>0.028079</td>\n    </tr>\n  </tbody>\n</table>\n</div>"
          },
          "metadata": {}
        }
      ],
      "execution_count": 15,
      "metadata": {
        "gather": {
          "logged": 1642552424632
        }
      }
    },
    {
      "cell_type": "code",
      "source": [
        "# Visualization\n",
        "%matplotlib inline\n",
        "import matplotlib.pyplot as plt\n",
        "pd.crosstab(hr.department,hr.left).plot(kind='bar')\n",
        "plt.title('Turnover Frequency for Department')\n",
        "plt.xlabel('Department')\n",
        "plt.ylabel('Frequency of Turnover')\n",
        "plt.savefig('department_bar_chart')"
      ],
      "outputs": [
        {
          "output_type": "display_data",
          "data": {
            "text/plain": "<Figure size 432x288 with 1 Axes>",
            "image/png": "[encoded data removed]"
          },
          "metadata": {
            "needs_background": "light"
          }
        }
      ],
      "execution_count": 16,
      "metadata": {
        "gather": {
          "logged": 1642552426689
        }
      }
    },
    {
      "cell_type": "code",
      "source": [
        "table=pd.crosstab(hr.salary, hr.left)\n",
        "table.div(table.sum(1).astype(float), axis=0).plot(kind='bar', stacked=True)\n",
        "plt.title('Stacked Bar Chart of Salary Level vs Turnover')\n",
        "plt.xlabel('Salary Level')\n",
        "plt.ylabel('Proportion of Employees')\n",
        "plt.savefig('salary_bar_chart')"
      ],
      "outputs": [
        {
          "output_type": "display_data",
          "data": {
            "text/plain": "<Figure size 432x288 with 1 Axes>",
            "image/png": "[encoded data removed]"
          },
          "metadata": {
            "needs_background": "light"
          }
        }
      ],
      "execution_count": 17,
      "metadata": {
        "gather": {
          "logged": 1642552427552
        }
      }
    },
    {
      "cell_type": "code",
      "source": [
        "pd.crosstab(hr.department, hr.left)"
      ],
      "outputs": [
        {
          "output_type": "execute_result",
          "execution_count": 18,
          "data": {
            "text/plain": "left            0     1\ndepartment             \nRandD         666   121\naccounting    563   204\nhr            524   215\nmanagement    539    91\nmarketing     655   203\nproduct_mng   704   198\nsales        3126  1014\ntechnical    4651  1525",
            "text/html": "<div>\n<style scoped>\n    .dataframe tbody tr th:only-of-type {\n        vertical-align: middle;\n    }\n\n    .dataframe tbody tr th {\n        vertical-align: top;\n    }\n\n    .dataframe thead th {\n        text-align: right;\n    }\n</style>\n<table border=\"1\" class=\"dataframe\">\n  <thead>\n    <tr style=\"text-align: right;\">\n      <th>left</th>\n      <th>0</th>\n      <th>1</th>\n    </tr>\n    <tr>\n      <th>department</th>\n      <th></th>\n      <th></th>\n    </tr>\n  </thead>\n  <tbody>\n    <tr>\n      <th>RandD</th>\n      <td>666</td>\n      <td>121</td>\n    </tr>\n    <tr>\n      <th>accounting</th>\n      <td>563</td>\n      <td>204</td>\n    </tr>\n    <tr>\n      <th>hr</th>\n      <td>524</td>\n      <td>215</td>\n    </tr>\n    <tr>\n      <th>management</th>\n      <td>539</td>\n      <td>91</td>\n    </tr>\n    <tr>\n      <th>marketing</th>\n      <td>655</td>\n      <td>203</td>\n    </tr>\n    <tr>\n      <th>product_mng</th>\n      <td>704</td>\n      <td>198</td>\n    </tr>\n    <tr>\n      <th>sales</th>\n      <td>3126</td>\n      <td>1014</td>\n    </tr>\n    <tr>\n      <th>technical</th>\n      <td>4651</td>\n      <td>1525</td>\n    </tr>\n  </tbody>\n</table>\n</div>"
          },
          "metadata": {}
        }
      ],
      "execution_count": 18,
      "metadata": {
        "gather": {
          "logged": 1642552427688
        }
      }
    },
    {
      "cell_type": "code",
      "source": [
        "# bins for histogram\n",
        "num_bins = 10\n",
        "\n",
        "hr.hist(bins=num_bins, figsize=(20,15))\n",
        "plt.savefig(\"hr_histogram_plots\")\n",
        "plt.show()"
      ],
      "outputs": [
        {
          "output_type": "stream",
          "name": "stderr",
          "text": "/anaconda/envs/azureml_py36/lib/python3.6/site-packages/pandas/plotting/_matplotlib/tools.py:307: MatplotlibDeprecationWarning: \nThe rowNum attribute was deprecated in Matplotlib 3.2 and will be removed two minor releases later. Use ax.get_subplotspec().rowspan.start instead.\n  layout[ax.rowNum, ax.colNum] = ax.get_visible()\n/anaconda/envs/azureml_py36/lib/python3.6/site-packages/pandas/plotting/_matplotlib/tools.py:307: MatplotlibDeprecationWarning: \nThe colNum attribute was deprecated in Matplotlib 3.2 and will be removed two minor releases later. Use ax.get_subplotspec().colspan.start instead.\n  layout[ax.rowNum, ax.colNum] = ax.get_visible()\n/anaconda/envs/azureml_py36/lib/python3.6/site-packages/pandas/plotting/_matplotlib/tools.py:313: MatplotlibDeprecationWarning: \nThe rowNum attribute was deprecated in Matplotlib 3.2 and will be removed two minor releases later. Use ax.get_subplotspec().rowspan.start instead.\n  if not layout[ax.rowNum + 1, ax.colNum]:\n/anaconda/envs/azureml_py36/lib/python3.6/site-packages/pandas/plotting/_matplotlib/tools.py:313: MatplotlibDeprecationWarning: \nThe colNum attribute was deprecated in Matplotlib 3.2 and will be removed two minor releases later. Use ax.get_subplotspec().colspan.start instead.\n  if not layout[ax.rowNum + 1, ax.colNum]:\n"
        },
        {
          "output_type": "display_data",
          "data": {
            "text/plain": "<Figure size 1440x1080 with 9 Axes>",
            "image/png": "[encoded data removed]"
          },
          "metadata": {
            "needs_background": "light"
          }
        }
      ],
      "execution_count": 19,
      "metadata": {
        "gather": {
          "logged": 1642552429715
        }
      }
    },
    {
      "cell_type": "markdown",
      "source": [
        "### Create dummy variables for categorical variables"
      ],
      "metadata": {}
    },
    {
      "cell_type": "markdown",
      "source": [
        "There are two categorical variables in the dataset and they need to be converted to dummy variables before they can be used for modelling."
      ],
      "metadata": {}
    },
    {
      "cell_type": "code",
      "source": [
        "hr.head()"
      ],
      "outputs": [
        {
          "output_type": "execute_result",
          "execution_count": 20,
          "data": {
            "text/plain": "   satisfaction_level  last_evaluation  number_project  average_montly_hours  \\\n0                0.38             0.53               2                   157   \n1                0.80             0.86               5                   262   \n2                0.11             0.88               7                   272   \n3                0.72             0.87               5                   223   \n4                0.37             0.52               2                   159   \n\n   time_spend_company  Work_accident  left  promotion_last_5years department  \\\n0                   3              0     1                      0      sales   \n1                   6              0     1                      0      sales   \n2                   4              0     1                      0      sales   \n3                   5              0     1                      0      sales   \n4                   3              0     1                      0      sales   \n\n   salary  \n0     low  \n1  medium  \n2  medium  \n3     low  \n4     low  ",
            "text/html": "<div>\n<style scoped>\n    .dataframe tbody tr th:only-of-type {\n        vertical-align: middle;\n    }\n\n    .dataframe tbody tr th {\n        vertical-align: top;\n    }\n\n    .dataframe thead th {\n        text-align: right;\n    }\n</style>\n<table border=\"1\" class=\"dataframe\">\n  <thead>\n    <tr style=\"text-align: right;\">\n      <th></th>\n      <th>satisfaction_level</th>\n      <th>last_evaluation</th>\n      <th>number_project</th>\n      <th>average_montly_hours</th>\n      <th>time_spend_company</th>\n      <th>Work_accident</th>\n      <th>left</th>\n      <th>promotion_last_5years</th>\n      <th>department</th>\n      <th>salary</th>\n    </tr>\n  </thead>\n  <tbody>\n    <tr>\n      <th>0</th>\n      <td>0.38</td>\n      <td>0.53</td>\n      <td>2</td>\n      <td>157</td>\n      <td>3</td>\n      <td>0</td>\n      <td>1</td>\n      <td>0</td>\n      <td>sales</td>\n      <td>low</td>\n    </tr>\n    <tr>\n      <th>1</th>\n      <td>0.80</td>\n      <td>0.86</td>\n      <td>5</td>\n      <td>262</td>\n      <td>6</td>\n      <td>0</td>\n      <td>1</td>\n      <td>0</td>\n      <td>sales</td>\n      <td>medium</td>\n    </tr>\n    <tr>\n      <th>2</th>\n      <td>0.11</td>\n      <td>0.88</td>\n      <td>7</td>\n      <td>272</td>\n      <td>4</td>\n      <td>0</td>\n      <td>1</td>\n      <td>0</td>\n      <td>sales</td>\n      <td>medium</td>\n    </tr>\n    <tr>\n      <th>3</th>\n      <td>0.72</td>\n      <td>0.87</td>\n      <td>5</td>\n      <td>223</td>\n      <td>5</td>\n      <td>0</td>\n      <td>1</td>\n      <td>0</td>\n      <td>sales</td>\n      <td>low</td>\n    </tr>\n    <tr>\n      <th>4</th>\n      <td>0.37</td>\n      <td>0.52</td>\n      <td>2</td>\n      <td>159</td>\n      <td>3</td>\n      <td>0</td>\n      <td>1</td>\n      <td>0</td>\n      <td>sales</td>\n      <td>low</td>\n    </tr>\n  </tbody>\n</table>\n</div>"
          },
          "metadata": {}
        }
      ],
      "execution_count": 20,
      "metadata": {
        "gather": {
          "logged": 1642552429846
        }
      }
    },
    {
      "cell_type": "code",
      "source": [
        "\n",
        "cat_vars=['department','salary']\n",
        "for var in cat_vars:\n",
        "    cat_list='var'+'_'+var\n",
        "    cat_list = pd.get_dummies(hr[var], prefix=var)\n",
        "    hr1=hr.join(cat_list)\n",
        "    hr=hr1"
      ],
      "outputs": [],
      "execution_count": 21,
      "metadata": {
        "collapsed": true,
        "gather": {
          "logged": 1642552429964
        }
      }
    },
    {
      "cell_type": "markdown",
      "source": [
        "The actual categorical variable needs to be removed once the dummy variables have been created."
      ],
      "metadata": {}
    },
    {
      "cell_type": "code",
      "source": [
        "hr.drop(hr.columns[[8, 9]], axis=1, inplace=True)"
      ],
      "outputs": [],
      "execution_count": 22,
      "metadata": {
        "gather": {
          "logged": 1642552430399
        }
      }
    },
    {
      "cell_type": "code",
      "source": [
        "hr.columns.values"
      ],
      "outputs": [
        {
          "output_type": "execute_result",
          "execution_count": 23,
          "data": {
            "text/plain": "array(['satisfaction_level', 'last_evaluation', 'number_project',\n       'average_montly_hours', 'time_spend_company', 'Work_accident',\n       'left', 'promotion_last_5years', 'department_RandD',\n       'department_accounting', 'department_hr', 'department_management',\n       'department_marketing', 'department_product_mng',\n       'department_sales', 'department_technical', 'salary_high',\n       'salary_low', 'salary_medium'], dtype=object)"
          },
          "metadata": {}
        }
      ],
      "execution_count": 23,
      "metadata": {
        "gather": {
          "logged": 1642552430810
        }
      }
    },
    {
      "cell_type": "code",
      "source": [
        "hr_vars=hr.columns.values.tolist()\n",
        "y=['left']\n",
        "X=[i for i in hr_vars if i not in y]"
      ],
      "outputs": [],
      "execution_count": 24,
      "metadata": {
        "collapsed": true,
        "gather": {
          "logged": 1642552431533
        }
      }
    },
    {
      "cell_type": "code",
      "source": [
        "X"
      ],
      "outputs": [
        {
          "output_type": "execute_result",
          "execution_count": 25,
          "data": {
            "text/plain": "['satisfaction_level',\n 'last_evaluation',\n 'number_project',\n 'average_montly_hours',\n 'time_spend_company',\n 'Work_accident',\n 'promotion_last_5years',\n 'department_RandD',\n 'department_accounting',\n 'department_hr',\n 'department_management',\n 'department_marketing',\n 'department_product_mng',\n 'department_sales',\n 'department_technical',\n 'salary_high',\n 'salary_low',\n 'salary_medium']"
          },
          "metadata": {}
        }
      ],
      "execution_count": 25,
      "metadata": {
        "gather": {
          "logged": 1642552432433
        }
      }
    },
    {
      "cell_type": "code",
      "source": [
        "# defining model\n",
        "from sklearn.feature_selection import RFE\n",
        "from sklearn.linear_model import LogisticRegression\n",
        "\n",
        "model = LogisticRegression()\n",
        "\n",
        "rfe = RFE(model, 10)\n",
        "rfe = rfe.fit(hr[X], hr[y])\n",
        "print(rfe.support_)\n",
        "print(rfe.ranking_)"
      ],
      "outputs": [
        {
          "output_type": "stream",
          "name": "stderr",
          "text": "/anaconda/envs/azureml_py36/lib/python3.6/site-packages/sklearn/utils/validation.py:760: DataConversionWarning: A column-vector y was passed when a 1d array was expected. Please change the shape of y to (n_samples, ), for example using ravel().\n  y = column_or_1d(y, warn=True)\n/anaconda/envs/azureml_py36/lib/python3.6/site-packages/sklearn/linear_model/_logistic.py:940: ConvergenceWarning: lbfgs failed to converge (status=1):\nSTOP: TOTAL NO. of ITERATIONS REACHED LIMIT.\n\nIncrease the number of iterations (max_iter) or scale the data as shown in:\n    https://scikit-learn.org/stable/modules/preprocessing.html\nPlease also refer to the documentation for alternative solver options:\n    https://scikit-learn.org/stable/modules/linear_model.html#logistic-regression\n  extra_warning_msg=_LOGISTIC_SOLVER_CONVERGENCE_MSG)\n/anaconda/envs/azureml_py36/lib/python3.6/site-packages/sklearn/linear_model/_logistic.py:940: ConvergenceWarning: lbfgs failed to converge (status=1):\nSTOP: TOTAL NO. of ITERATIONS REACHED LIMIT.\n\nIncrease the number of iterations (max_iter) or scale the data as shown in:\n    https://scikit-learn.org/stable/modules/preprocessing.html\nPlease also refer to the documentation for alternative solver options:\n    https://scikit-learn.org/stable/modules/linear_model.html#logistic-regression\n  extra_warning_msg=_LOGISTIC_SOLVER_CONVERGENCE_MSG)\n"
        },
        {
          "output_type": "stream",
          "name": "stdout",
          "text": "[ True  True False False  True  True  True  True False  True  True False\n False False False  True  True False]\n[1 1 3 8 1 1 1 1 7 1 1 6 4 5 9 1 1 2]\n"
        }
      ],
      "execution_count": 26,
      "metadata": {
        "gather": {
          "logged": 1642552434320
        }
      }
    },
    {
      "cell_type": "code",
      "source": [
        "cols=['satisfaction_level', 'last_evaluation', 'time_spend_company', 'Work_accident', 'promotion_last_5years', \n",
        "      'department_RandD', 'department_hr', 'department_management', 'salary_high', 'salary_low'] \n",
        "X=hr[cols]\n",
        "y=hr['left']"
      ],
      "outputs": [],
      "execution_count": 27,
      "metadata": {
        "gather": {
          "logged": 1642552434453
        }
      }
    },
    {
      "cell_type": "markdown",
      "source": [
        "### Logistic regression model"
      ],
      "metadata": {}
    },
    {
      "cell_type": "code",
      "source": [
        "#spliting data into train and test set\n",
        "from sklearn.model_selection import train_test_split\n",
        "X_train, X_test, y_train, y_test = train_test_split(X, y, test_size=0.3, random_state=0)"
      ],
      "outputs": [],
      "execution_count": 29,
      "metadata": {
        "gather": {
          "logged": 1642552435979
        }
      }
    },
    {
      "cell_type": "code",
      "source": [
        "from sklearn.linear_model import LogisticRegression\n",
        "from sklearn import metrics\n",
        "logreg = LogisticRegression()\n",
        "logreg.fit(X_train, y_train)"
      ],
      "outputs": [
        {
          "output_type": "execute_result",
          "execution_count": 30,
          "data": {
            "text/plain": "LogisticRegression(C=1.0, class_weight=None, dual=False, fit_intercept=True,\n                   intercept_scaling=1, l1_ratio=None, max_iter=100,\n                   multi_class='auto', n_jobs=None, penalty='l2',\n                   random_state=None, solver='lbfgs', tol=0.0001, verbose=0,\n                   warm_start=False)"
          },
          "metadata": {}
        }
      ],
      "execution_count": 30,
      "metadata": {
        "gather": {
          "logged": 1642552436437
        }
      }
    },
    {
      "cell_type": "code",
      "source": [
        "# accuracy\n",
        "from sklearn.metrics import accuracy_score\n",
        "print('Logistic regression accuracy: {:.3f}'.format(accuracy_score(y_test, logreg.predict(X_test))))"
      ],
      "outputs": [
        {
          "output_type": "stream",
          "name": "stdout",
          "text": "Logistic regression accuracy: 0.771\n"
        }
      ],
      "execution_count": 31,
      "metadata": {
        "gather": {
          "logged": 1642552436550
        }
      }
    },
    {
      "cell_type": "markdown",
      "source": [
        "### Random Forest"
      ],
      "metadata": {}
    },
    {
      "cell_type": "code",
      "source": [
        "from sklearn.ensemble import RandomForestClassifier\n",
        "rf = RandomForestClassifier()\n",
        "rf.fit(X_train, y_train)"
      ],
      "outputs": [
        {
          "output_type": "execute_result",
          "execution_count": 32,
          "data": {
            "text/plain": "RandomForestClassifier(bootstrap=True, ccp_alpha=0.0, class_weight=None,\n                       criterion='gini', max_depth=None, max_features='auto',\n                       max_leaf_nodes=None, max_samples=None,\n                       min_impurity_decrease=0.0, min_impurity_split=None,\n                       min_samples_leaf=1, min_samples_split=2,\n                       min_weight_fraction_leaf=0.0, n_estimators=100,\n                       n_jobs=None, oob_score=False, random_state=None,\n                       verbose=0, warm_start=False)"
          },
          "metadata": {}
        }
      ],
      "execution_count": 32,
      "metadata": {
        "gather": {
          "logged": 1642552437584
        }
      }
    },
    {
      "cell_type": "code",
      "source": [
        "print('Random Forest Accuracy: {:.3f}'.format(accuracy_score(y_test, rf.predict(X_test))))"
      ],
      "outputs": [
        {
          "output_type": "stream",
          "name": "stdout",
          "text": "Random Forest Accuracy: 0.978\n"
        }
      ],
      "execution_count": 33,
      "metadata": {
        "gather": {
          "logged": 1642552437759
        }
      }
    },
    {
      "cell_type": "markdown",
      "source": [
        "### Support Vector Machine"
      ],
      "metadata": {}
    },
    {
      "cell_type": "code",
      "source": [
        "from sklearn.svm import SVC\n",
        "svc = SVC()\n",
        "svc.fit(X_train, y_train)"
      ],
      "outputs": [
        {
          "output_type": "execute_result",
          "execution_count": 34,
          "data": {
            "text/plain": "SVC(C=1.0, break_ties=False, cache_size=200, class_weight=None, coef0=0.0,\n    decision_function_shape='ovr', degree=3, gamma='scale', kernel='rbf',\n    max_iter=-1, probability=False, random_state=None, shrinking=True,\n    tol=0.001, verbose=False)"
          },
          "metadata": {}
        }
      ],
      "execution_count": 34,
      "metadata": {
        "gather": {
          "logged": 1642552440413
        }
      }
    },
    {
      "cell_type": "code",
      "source": [
        "print('Support vector machine accuracy: {:.3f}'.format(accuracy_score(y_test, svc.predict(X_test))))"
      ],
      "outputs": [
        {
          "output_type": "stream",
          "name": "stdout",
          "text": "Support vector machine accuracy: 0.907\n"
        }
      ],
      "execution_count": 35,
      "metadata": {
        "gather": {
          "logged": 1642552440540
        }
      }
    },
    {
      "cell_type": "markdown",
      "source": [
        "Random forest won, right?"
      ],
      "metadata": {}
    },
    {
      "cell_type": "code",
      "source": [
        "from sklearn import model_selection\n",
        "from sklearn.model_selection import cross_val_score\n",
        "kfold = model_selection.KFold(n_splits=10, random_state=7)\n",
        "modelCV = RandomForestClassifier()\n",
        "scoring = 'accuracy'\n",
        "results = model_selection.cross_val_score(modelCV, X_train, y_train, cv=kfold, scoring=scoring)\n",
        "print(\"10-fold cross validation average accuracy: %.3f\" % (results.mean()))"
      ],
      "outputs": [
        {
          "output_type": "stream",
          "name": "stderr",
          "text": "/anaconda/envs/azureml_py36/lib/python3.6/site-packages/sklearn/model_selection/_split.py:296: FutureWarning: Setting a random_state has no effect since shuffle is False. This will raise an error in 0.24. You should leave random_state to its default (None), or set shuffle=True.\n  FutureWarning\n"
        },
        {
          "output_type": "stream",
          "name": "stdout",
          "text": "10-fold cross validation average accuracy: 0.982\n"
        }
      ],
      "execution_count": 36,
      "metadata": {
        "gather": {
          "logged": 1642552446240
        }
      }
    },
    {
      "cell_type": "markdown",
      "source": [
        "### Precision and recall"
      ],
      "metadata": {}
    },
    {
      "cell_type": "code",
      "source": [
        "# printing report\n",
        "from sklearn.metrics import classification_report\n",
        "print(classification_report(y_test, rf.predict(X_test)))"
      ],
      "outputs": [
        {
          "output_type": "stream",
          "name": "stdout",
          "text": "              precision    recall  f1-score   support\n\n           0       0.99      0.98      0.99      3462\n           1       0.95      0.96      0.95      1038\n\n    accuracy                           0.98      4500\n   macro avg       0.97      0.97      0.97      4500\nweighted avg       0.98      0.98      0.98      4500\n\n"
        }
      ],
      "execution_count": 37,
      "metadata": {
        "gather": {
          "logged": 1642552446620
        }
      }
    },
    {
      "cell_type": "code",
      "source": [
        "# confusion metrics\n",
        "\n",
        "y_pred = rf.predict(X_test)\n",
        "from sklearn.metrics import confusion_matrix\n",
        "import seaborn as sns\n",
        "forest_cm = metrics.confusion_matrix(y_pred, y_test, [1,0])\n",
        "sns.heatmap(forest_cm, annot=True, fmt='.2f',xticklabels = [\"Left\", \"Stayed\"] , yticklabels = [\"Left\", \"Stayed\"] )\n",
        "plt.ylabel('True class')\n",
        "plt.xlabel('Predicted class')\n",
        "plt.title('Random Forest')\n",
        "plt.savefig('random_forest')"
      ],
      "outputs": [
        {
          "output_type": "display_data",
          "data": {
            "text/plain": "<Figure size 432x288 with 2 Axes>",
            "image/png": "[encoded data removed]"
          },
          "metadata": {
            "needs_background": "light"
          }
        }
      ],
      "execution_count": 38,
      "metadata": {
        "gather": {
          "logged": 1642552446890
        }
      }
    },
    {
      "cell_type": "code",
      "source": [
        "print(classification_report(y_test, logreg.predict(X_test)))"
      ],
      "outputs": [
        {
          "output_type": "stream",
          "name": "stdout",
          "text": "              precision    recall  f1-score   support\n\n           0       0.81      0.92      0.86      3462\n           1       0.51      0.26      0.35      1038\n\n    accuracy                           0.77      4500\n   macro avg       0.66      0.59      0.60      4500\nweighted avg       0.74      0.77      0.74      4500\n\n"
        }
      ],
      "execution_count": 39,
      "metadata": {
        "gather": {
          "logged": 1642552447021
        }
      }
    },
    {
      "cell_type": "code",
      "source": [
        "logreg_y_pred = logreg.predict(X_test)\n",
        "logreg_cm = metrics.confusion_matrix(logreg_y_pred, y_test, [1,0])\n",
        "sns.heatmap(logreg_cm, annot=True, fmt='.2f',xticklabels = [\"Left\", \"Stayed\"] , yticklabels = [\"Left\", \"Stayed\"] )\n",
        "plt.ylabel('True class')\n",
        "plt.xlabel('Predicted class')\n",
        "plt.title('Logistic Regression')\n",
        "plt.savefig('logistic_regression')"
      ],
      "outputs": [
        {
          "output_type": "display_data",
          "data": {
            "text/plain": "<Figure size 432x288 with 2 Axes>",
            "image/png": "[encoded data removed]"
          },
          "metadata": {
            "needs_background": "light"
          }
        }
      ],
      "execution_count": 40,
      "metadata": {
        "gather": {
          "logged": 1642552447762
        }
      }
    },
    {
      "cell_type": "code",
      "source": [
        "print(classification_report(y_test, svc.predict(X_test)))"
      ],
      "outputs": [
        {
          "output_type": "stream",
          "name": "stdout",
          "text": "              precision    recall  f1-score   support\n\n           0       0.95      0.92      0.94      3462\n           1       0.77      0.85      0.81      1038\n\n    accuracy                           0.91      4500\n   macro avg       0.86      0.89      0.87      4500\nweighted avg       0.91      0.91      0.91      4500\n\n"
        }
      ],
      "execution_count": 41,
      "metadata": {
        "gather": {
          "logged": 1642552447887
        }
      }
    },
    {
      "cell_type": "code",
      "source": [
        "svc_y_pred = svc.predict(X_test)\n",
        "svc_cm = metrics.confusion_matrix(svc_y_pred, y_test, [1,0])\n",
        "sns.heatmap(svc_cm, annot=True, fmt='.2f',xticklabels = [\"Left\", \"Stayed\"] , yticklabels = [\"Left\", \"Stayed\"] )\n",
        "plt.ylabel('True class')\n",
        "plt.xlabel('Predicted class')\n",
        "plt.title('Support Vector Machine')\n",
        "plt.savefig('support_vector_machine')"
      ],
      "outputs": [
        {
          "output_type": "display_data",
          "data": {
            "text/plain": "<Figure size 432x288 with 2 Axes>",
            "image/png": "[encoded data removed]"
          },
          "metadata": {
            "needs_background": "light"
          }
        }
      ],
      "execution_count": 42,
      "metadata": {
        "gather": {
          "logged": 1642552448487
        }
      }
    },
    {
      "cell_type": "markdown",
      "source": [
        "When an employee left, how often does my classifier predict that correctly? This measurement is called \"recall\" and a quick look at these diagrams can demonstrate that random forest is clearly best for this criteria. Out of all the turnover cases, random forest correctly retrieved 991 out of 1038. This translates to a turnover \"recall\" of about 95% (991/1038), far better than logistic regression (26%) or support vector machines (85%)."
      ],
      "metadata": {}
    },
    {
      "cell_type": "markdown",
      "source": [
        "When a classifier predicts an employee will leave, how often does that employee actually leave? This measurement is called \"precision\". Random forest again out preforms the other two at about 95% precision (991 out of 1045) with logistic regression at about 51% (273 out of 540), and support vector machine at about 77% (890 out of 1150)."
      ],
      "metadata": {}
    },
    {
      "cell_type": "code",
      "source": [
        "# ROC curve\n",
        "from sklearn.metrics import roc_auc_score\n",
        "from sklearn.metrics import roc_curve\n",
        "\n",
        "logit_roc_auc = roc_auc_score(y_test, logreg.predict(X_test))\n",
        "fpr, tpr, thresholds = roc_curve(y_test, logreg.predict_proba(X_test)[:,1])\n",
        "\n",
        "rf_roc_auc = roc_auc_score(y_test, rf.predict(X_test))\n",
        "rf_fpr, rf_tpr, rf_thresholds = roc_curve(y_test, rf.predict_proba(X_test)[:,1])\n",
        "\n",
        "plt.figure()\n",
        "plt.plot(fpr, tpr, label='Logistic Regression (area = %0.2f)' % logit_roc_auc)\n",
        "plt.plot(rf_fpr, rf_tpr, label='Random Forest (area = %0.2f)' % rf_roc_auc)\n",
        "plt.plot([0, 1], [0, 1],'r--')\n",
        "plt.xlim([0.0, 1.0])\n",
        "plt.ylim([0.0, 1.05])\n",
        "plt.xlabel('False Positive Rate')\n",
        "plt.ylabel('True Positive Rate')\n",
        "plt.title('Receiver operating characteristic')\n",
        "plt.legend(loc=\"lower right\")\n",
        "plt.savefig('ROC')\n",
        "# plt.show()"
      ],
      "outputs": [
        {
          "output_type": "display_data",
          "data": {
            "text/plain": "<Figure size 432x288 with 1 Axes>",
            "image/png": "[encoded data removed]"
          },
          "metadata": {
            "needs_background": "light"
          }
        }
      ],
      "execution_count": 43,
      "metadata": {
        "gather": {
          "logged": 1642552449643
        }
      }
    },
    {
      "cell_type": "code",
      "source": [
        "# feature importance\n",
        "feature_labels = np.array(['satisfaction_level', 'last_evaluation', 'time_spend_company', 'Work_accident', 'promotion_last_5years', \n",
        "      'department_RandD', 'department_hr', 'department_management', 'salary_high', 'salary_low'])\n",
        "importance = rf.feature_importances_\n",
        "feature_indexes_by_importance = importance.argsort()\n",
        "for index in feature_indexes_by_importance:\n",
        "    print('{}-{:.2f}%'.format(feature_labels[index], (importance[index] *100.0)))"
      ],
      "outputs": [
        {
          "output_type": "stream",
          "name": "stdout",
          "text": "promotion_last_5years-0.25%\ndepartment_management-0.25%\ndepartment_hr-0.31%\ndepartment_RandD-0.33%\nsalary_high-0.72%\nsalary_low-1.13%\nWork_accident-1.61%\nlast_evaluation-18.35%\ntime_spend_company-26.42%\nsatisfaction_level-50.63%\n"
        }
      ],
      "execution_count": 44,
      "metadata": {
        "gather": {
          "logged": 1642552449767
        }
      }
    }
  ],
  "metadata": {
    "kernelspec": {
      "name": "python3",
      "language": "python",
      "display_name": "Python 3"
    },
    "language_info": {
      "name": "python",
      "version": "3.6.9",
      "mimetype": "text/x-python",
      "codemirror_mode": {
        "name": "ipython",
        "version": 3
      },
      "pygments_lexer": "ipython3",
      "nbconvert_exporter": "python",
      "file_extension": ".py"
    },
    "nteract": {
      "version": "nteract-front-end@1.0.0"
    },
    "microsoft": {
      "host": {
        "AzureML": {
          "notebookHasBeenCompleted": true
        }
      }
    },
    "kernel_info": {
      "name": "python3"
    }
  },
  "nbformat": 4,
  "nbformat_minor": 2
}