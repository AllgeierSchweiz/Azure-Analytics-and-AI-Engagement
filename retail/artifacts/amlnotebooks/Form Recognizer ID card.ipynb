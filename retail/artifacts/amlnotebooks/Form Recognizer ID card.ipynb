{
  "cells": [
    {
      "cell_type": "code",
      "execution_count": null,
      "metadata": {},
      "outputs": [],
      "source": [
        "from azure.core.credentials import AzureKeyCredential\n",
        "from azure.ai.formrecognizer import DocumentAnalysisClient\n",
        "import GlobalVariables as gv"
      ]
    },
    {
      "cell_type": "code",
      "execution_count": null,
      "metadata": {
        "jupyter": {
          "outputs_hidden": false,
          "source_hidden": false
        },
        "nteract": {
          "transient": {
            "deleting": false
          }
        }
      },
      "outputs": [],
      "source": [
        "endpoint = gv.ENDPOINT\n",
        "key = gv.CREDENTIAL\n",
        "\n",
        "formUrl = \"https://raw.githubusercontent.com/Azure-Samples/cognitive-services-REST-api-samples/master/curl/form-recognizer/DriverLicense.png\"\n"
      ]
    },
    {
      "cell_type": "code",
      "execution_count": null,
      "metadata": {
        "jupyter": {
          "outputs_hidden": false,
          "source_hidden": false
        },
        "nteract": {
          "transient": {
            "deleting": false
          }
        }
      },
      "outputs": [],
      "source": [
        "document_analysis_client = DocumentAnalysisClient(\n",
        "        endpoint=endpoint, credential=AzureKeyCredential(key)\n",
        "    )\n",
        "    \n",
        "poller = document_analysis_client.begin_analyze_document_from_url(\"prebuilt-idDocument\", formUrl)\n",
        "id_documents = poller.result()"
      ]
    },
    {
      "cell_type": "code",
      "execution_count": null,
      "metadata": {
        "jupyter": {
          "outputs_hidden": false,
          "source_hidden": false
        },
        "nteract": {
          "transient": {
            "deleting": false
          }
        }
      },
      "outputs": [],
      "source": [
        "for idx, id_document in enumerate(id_documents.documents):\n",
        "    print(\"--------Recognizing ID document #{}--------\".format(idx + 1))\n",
        "    first_name = id_document.fields.get(\"FirstName\")\n",
        "    if first_name:\n",
        "        print(\n",
        "            \"First Name: {} has confidence: {}\".format(\n",
        "                first_name.value, first_name.confidence\n",
        "            )\n",
        "        )\n",
        "    last_name = id_document.fields.get(\"LastName\")\n",
        "    if last_name:\n",
        "        print(\n",
        "            \"Last Name: {} has confidence: {}\".format(\n",
        "                last_name.value, last_name.confidence\n",
        "            )\n",
        "        )\n",
        "    document_number = id_document.fields.get(\"DocumentNumber\")\n",
        "    if document_number:\n",
        "        print(\n",
        "            \"Document Number: {} has confidence: {}\".format(\n",
        "                document_number.value, document_number.confidence\n",
        "            )\n",
        "        )\n",
        "    dob = id_document.fields.get(\"DateOfBirth\")\n",
        "    if dob:\n",
        "        print(\n",
        "            \"Date of Birth: {} has confidence: {}\".format(dob.value, dob.confidence)\n",
        "        )\n",
        "    doe = id_document.fields.get(\"DateOfExpiration\")\n",
        "    if doe:\n",
        "        print(\n",
        "            \"Date of Expiration: {} has confidence: {}\".format(\n",
        "                doe.value, doe.confidence\n",
        "            )\n",
        "        )\n",
        "    sex = id_document.fields.get(\"Sex\")\n",
        "    if sex:\n",
        "        print(\"Sex: {} has confidence: {}\".format(sex.value, sex.confidence))\n",
        "    address = id_document.fields.get(\"Address\")\n",
        "    if address:\n",
        "        print(\n",
        "            \"Address: {} has confidence: {}\".format(\n",
        "                address.value, address.confidence\n",
        "            )\n",
        "        )\n",
        "    country_region = id_document.fields.get(\"CountryRegion\")\n",
        "    if country_region:\n",
        "        print(\n",
        "            \"Country/Region: {} has confidence: {}\".format(\n",
        "                country_region.value, country_region.confidence\n",
        "            )\n",
        "        )\n",
        "    region = id_document.fields.get(\"Region\")\n",
        "    if region:\n",
        "        print(\n",
        "            \"Region: {} has confidence: {}\".format(region.value, region.confidence)\n",
        "        )"
      ]
    }
  ],
  "metadata": {
    "kernelspec": {
      "display_name": "Python 3.6 - AzureML",
      "language": "python",
      "name": "python3-azureml"
    },
    "language_info": {
      "codemirror_mode": {
        "name": "ipython",
        "version": 3
      },
      "file_extension": ".py",
      "mimetype": "text/x-python",
      "name": "python",
      "nbconvert_exporter": "python",
      "pygments_lexer": "ipython3",
      "version": "3.6.8"
    },
    "nteract": {
      "version": "nteract-front-end@1.0.0"
    }
  },
  "nbformat": 4,
  "nbformat_minor": 2
}
