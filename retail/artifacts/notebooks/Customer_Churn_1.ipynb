{
  "cells": [
    {
      "cell_type": "markdown",
      "metadata": {
        "nteract": {
          "transient": {
            "deleting": false
          }
        }
      },
      "source": [
        "### Data Dictionary\n",
        "- InvoiceNo: Invoice number. Nominal. A 6-digit integral number uniquely assigned to each transaction. If this code starts with the letter 'c', it indicates a cancellation.\n",
        "- StockCode: Product (item) code. Nominal. A 5-digit integral number uniquely assigned to each distinct product.\n",
        "- Description: Product (item) name. Nominal.\n",
        "- Quantity: The quantities of each product (item) per transaction. Numeric.\n",
        "- InvoiceDate: Invice date and time. Numeric. The day and time when a transaction was generated.\n",
        "- UnitPrice: Unit price. Numeric. Product price per unit in sterling (Â£).\n",
        "- CustomerID: Customer number. Nominal. A 5-digit integral number uniquely assigned to each customer.\n",
        "- Country: Country name. Nominal. The name of the country where a customer resides."
      ]
    },
    {
      "cell_type": "code",
      "execution_count": 105,
      "metadata": {},
      "outputs": [
        {
          "data": {
            "application/vnd.livy.statement-meta+json": {
              "execution_finish_time": "2022-01-11T00:09:36.5777849Z",
              "execution_start_time": "2022-01-11T00:09:36.4237691Z",
              "livy_statement_state": "available",
              "queued_time": "2022-01-11T00:09:36.3249117Z",
              "session_id": 11,
              "session_start_time": null,
              "spark_pool": "RetailPool",
              "state": "finished",
              "statement_id": 27
            },
            "text/plain": [
              "StatementMeta(RetailPool, 11, 27, Finished, Available)"
            ]
          },
          "metadata": {},
          "output_type": "display_data"
        }
      ],
      "source": [
        "from pyspark.sql import SparkSession\n",
        "import matplotlib.pyplot as plt \n",
        "import seaborn as sns\n",
        "import numpy as np\n",
        "from azure.storage.blob import ContainerClient, BlobClient\n",
        "import pandas as pd\n",
        "from io import BytesIO\n",
        "from copy import deepcopy"
      ]
    },
    {
      "cell_type": "code",
      "execution_count": 106,
      "metadata": {
        "jupyter": {
          "outputs_hidden": false,
          "source_hidden": false
        },
        "nteract": {
          "transient": {
            "deleting": false
          }
        }
      },
      "outputs": [
        {
          "data": {
            "application/vnd.livy.statement-meta+json": {
              "execution_finish_time": "2022-01-11T00:11:05.1382767Z",
              "execution_start_time": "2022-01-11T00:09:36.6963325Z",
              "livy_statement_state": "available",
              "queued_time": "2022-01-11T00:09:36.3874788Z",
              "session_id": 11,
              "session_start_time": null,
              "spark_pool": "RetailPool",
              "state": "finished",
              "statement_id": 28
            },
            "text/plain": [
              "StatementMeta(RetailPool, 11, 28, Finished, Available)"
            ]
          },
          "metadata": {},
          "output_type": "display_data"
        }
      ],
      "source": [
        "CONNECTIONSTRING = 'DefaultEndpointsProtocol=https;AccountName=#STORAGE_ACCOUNT_NAME#;AccountKey=#STORAGE_ACCOUNT_KEY#;EndpointSuffix=core.windows.net'\n",
        "CONTAINER_NAME = 'customer-churn-data'\n",
        "\n",
        "BLOBNAME = 'online_retail_II.xlsx'\n",
        "blob = BlobClient.from_connection_string(conn_str=CONNECTIONSTRING, container_name=CONTAINER_NAME, blob_name=BLOBNAME)\n",
        "blob_data = blob.download_blob()\n",
        "BytesIO(blob_data.content_as_bytes())\n",
        "data = pd.read_excel(BytesIO(blob_data.content_as_bytes()))"
      ]
    },
    {
      "cell_type": "code",
      "execution_count": 107,
      "metadata": {
        "jupyter": {
          "outputs_hidden": false,
          "source_hidden": false
        },
        "nteract": {
          "transient": {
            "deleting": false
          }
        }
      },
      "outputs": [
        {
          "data": {
            "application/vnd.livy.statement-meta+json": {
              "execution_finish_time": "2022-01-11T00:11:05.3875122Z",
              "execution_start_time": "2022-01-11T00:11:05.2408589Z",
              "livy_statement_state": "available",
              "queued_time": "2022-01-11T00:09:36.4633095Z",
              "session_id": 11,
              "session_start_time": null,
              "spark_pool": "RetailPool",
              "state": "finished",
              "statement_id": 29
            },
            "text/plain": [
              "StatementMeta(RetailPool, 11, 29, Finished, Available)"
            ]
          },
          "metadata": {},
          "output_type": "display_data"
        },
        {
          "data": {
            "text/html": [
              "<div>\n",
              "<style scoped>\n",
              "    .dataframe tbody tr th:only-of-type {\n",
              "        vertical-align: middle;\n",
              "    }\n",
              "\n",
              "    .dataframe tbody tr th {\n",
              "        vertical-align: top;\n",
              "    }\n",
              "\n",
              "    .dataframe thead th {\n",
              "        text-align: right;\n",
              "    }\n",
              "</style>\n",
              "<table border=\"1\" class=\"dataframe\">\n",
              "  <thead>\n",
              "    <tr style=\"text-align: right;\">\n",
              "      <th></th>\n",
              "      <th>Invoice</th>\n",
              "      <th>StockCode</th>\n",
              "      <th>Description</th>\n",
              "      <th>Quantity</th>\n",
              "      <th>InvoiceDate</th>\n",
              "      <th>Price</th>\n",
              "      <th>Customer ID</th>\n",
              "      <th>Country</th>\n",
              "    </tr>\n",
              "  </thead>\n",
              "  <tbody>\n",
              "    <tr>\n",
              "      <th>0</th>\n",
              "      <td>489434</td>\n",
              "      <td>85048</td>\n",
              "      <td>15CM CHRISTMAS GLASS BALL 20 LIGHTS</td>\n",
              "      <td>12</td>\n",
              "      <td>2009-12-01 07:45:00</td>\n",
              "      <td>6.95</td>\n",
              "      <td>13085.0</td>\n",
              "      <td>United Kingdom</td>\n",
              "    </tr>\n",
              "    <tr>\n",
              "      <th>1</th>\n",
              "      <td>489434</td>\n",
              "      <td>79323P</td>\n",
              "      <td>PINK CHERRY LIGHTS</td>\n",
              "      <td>12</td>\n",
              "      <td>2009-12-01 07:45:00</td>\n",
              "      <td>6.75</td>\n",
              "      <td>13085.0</td>\n",
              "      <td>United Kingdom</td>\n",
              "    </tr>\n",
              "    <tr>\n",
              "      <th>2</th>\n",
              "      <td>489434</td>\n",
              "      <td>79323W</td>\n",
              "      <td>WHITE CHERRY LIGHTS</td>\n",
              "      <td>12</td>\n",
              "      <td>2009-12-01 07:45:00</td>\n",
              "      <td>6.75</td>\n",
              "      <td>13085.0</td>\n",
              "      <td>United Kingdom</td>\n",
              "    </tr>\n",
              "    <tr>\n",
              "      <th>3</th>\n",
              "      <td>489434</td>\n",
              "      <td>22041</td>\n",
              "      <td>RECORD FRAME 7\" SINGLE SIZE</td>\n",
              "      <td>48</td>\n",
              "      <td>2009-12-01 07:45:00</td>\n",
              "      <td>2.10</td>\n",
              "      <td>13085.0</td>\n",
              "      <td>United Kingdom</td>\n",
              "    </tr>\n",
              "    <tr>\n",
              "      <th>4</th>\n",
              "      <td>489434</td>\n",
              "      <td>21232</td>\n",
              "      <td>STRAWBERRY CERAMIC TRINKET BOX</td>\n",
              "      <td>24</td>\n",
              "      <td>2009-12-01 07:45:00</td>\n",
              "      <td>1.25</td>\n",
              "      <td>13085.0</td>\n",
              "      <td>United Kingdom</td>\n",
              "    </tr>\n",
              "  </tbody>\n",
              "</table>\n",
              "</div>"
            ],
            "text/plain": [
              "  Invoice StockCode  ... Customer ID         Country\n",
              "0  489434     85048  ...     13085.0  United Kingdom\n",
              "1  489434    79323P  ...     13085.0  United Kingdom\n",
              "2  489434    79323W  ...     13085.0  United Kingdom\n",
              "3  489434     22041  ...     13085.0  United Kingdom\n",
              "4  489434     21232  ...     13085.0  United Kingdom\n",
              "\n",
              "[5 rows x 8 columns]"
            ]
          },
          "metadata": {},
          "output_type": "display_data"
        }
      ],
      "source": [
        "data.head()"
      ]
    },
    {
      "cell_type": "code",
      "execution_count": 108,
      "metadata": {
        "jupyter": {
          "outputs_hidden": false,
          "source_hidden": false
        },
        "nteract": {
          "transient": {
            "deleting": false
          }
        }
      },
      "outputs": [
        {
          "data": {
            "application/vnd.livy.statement-meta+json": {
              "execution_finish_time": "2022-01-11T00:11:05.637146Z",
              "execution_start_time": "2022-01-11T00:11:05.4952338Z",
              "livy_statement_state": "available",
              "queued_time": "2022-01-11T00:09:36.5404446Z",
              "session_id": 11,
              "session_start_time": null,
              "spark_pool": "RetailPool",
              "state": "finished",
              "statement_id": 30
            },
            "text/plain": [
              "StatementMeta(RetailPool, 11, 30, Finished, Available)"
            ]
          },
          "metadata": {},
          "output_type": "display_data"
        }
      ],
      "source": [
        "# data.describe(include = 'all')"
      ]
    },
    {
      "cell_type": "code",
      "execution_count": 109,
      "metadata": {
        "jupyter": {
          "outputs_hidden": false,
          "source_hidden": false
        },
        "nteract": {
          "transient": {
            "deleting": false
          }
        }
      },
      "outputs": [
        {
          "data": {
            "application/vnd.livy.statement-meta+json": {
              "execution_finish_time": "2022-01-11T00:11:05.9079847Z",
              "execution_start_time": "2022-01-11T00:11:05.7593309Z",
              "livy_statement_state": "available",
              "queued_time": "2022-01-11T00:09:36.6297584Z",
              "session_id": 11,
              "session_start_time": null,
              "spark_pool": "RetailPool",
              "state": "finished",
              "statement_id": 31
            },
            "text/plain": [
              "StatementMeta(RetailPool, 11, 31, Finished, Available)"
            ]
          },
          "metadata": {},
          "output_type": "display_data"
        },
        {
          "data": {
            "text/plain": [
              "(525461, 8)"
            ]
          },
          "metadata": {},
          "output_type": "display_data"
        }
      ],
      "source": [
        "data.shape"
      ]
    },
    {
      "cell_type": "code",
      "execution_count": 110,
      "metadata": {
        "jupyter": {
          "outputs_hidden": false,
          "source_hidden": false
        },
        "nteract": {
          "transient": {
            "deleting": false
          }
        }
      },
      "outputs": [
        {
          "data": {
            "application/vnd.livy.statement-meta+json": {
              "execution_finish_time": "2022-01-11T00:11:06.1590451Z",
              "execution_start_time": "2022-01-11T00:11:06.0140396Z",
              "livy_statement_state": "available",
              "queued_time": "2022-01-11T00:09:36.8185096Z",
              "session_id": 11,
              "session_start_time": null,
              "spark_pool": "RetailPool",
              "state": "finished",
              "statement_id": 32
            },
            "text/plain": [
              "StatementMeta(RetailPool, 11, 32, Finished, Available)"
            ]
          },
          "metadata": {},
          "output_type": "display_data"
        },
        {
          "data": {
            "text/plain": [
              "Invoice                object\n",
              "StockCode              object\n",
              "Description            object\n",
              "Quantity                int64\n",
              "InvoiceDate    datetime64[ns]\n",
              "Price                 float64\n",
              "Customer ID           float64\n",
              "Country                object\n",
              "dtype: object"
            ]
          },
          "metadata": {},
          "output_type": "display_data"
        }
      ],
      "source": [
        "data.dtypes"
      ]
    },
    {
      "cell_type": "code",
      "execution_count": 111,
      "metadata": {
        "jupyter": {
          "outputs_hidden": false,
          "source_hidden": false
        },
        "nteract": {
          "transient": {
            "deleting": false
          }
        }
      },
      "outputs": [
        {
          "data": {
            "application/vnd.livy.statement-meta+json": {
              "execution_finish_time": "2022-01-11T00:11:06.4185202Z",
              "execution_start_time": "2022-01-11T00:11:06.2724859Z",
              "livy_statement_state": "available",
              "queued_time": "2022-01-11T00:09:37.0580548Z",
              "session_id": 11,
              "session_start_time": null,
              "spark_pool": "RetailPool",
              "state": "finished",
              "statement_id": 33
            },
            "text/plain": [
              "StatementMeta(RetailPool, 11, 33, Finished, Available)"
            ]
          },
          "metadata": {},
          "output_type": "display_data"
        }
      ],
      "source": [
        "data.dropna(inplace=True)"
      ]
    },
    {
      "cell_type": "code",
      "execution_count": 112,
      "metadata": {
        "jupyter": {
          "outputs_hidden": false,
          "source_hidden": false
        },
        "nteract": {
          "transient": {
            "deleting": false
          }
        }
      },
      "outputs": [
        {
          "data": {
            "application/vnd.livy.statement-meta+json": {
              "execution_finish_time": "2022-01-11T00:11:06.669394Z",
              "execution_start_time": "2022-01-11T00:11:06.5309Z",
              "livy_statement_state": "available",
              "queued_time": "2022-01-11T00:09:37.1373321Z",
              "session_id": 11,
              "session_start_time": null,
              "spark_pool": "RetailPool",
              "state": "finished",
              "statement_id": 34
            },
            "text/plain": [
              "StatementMeta(RetailPool, 11, 34, Finished, Available)"
            ]
          },
          "metadata": {},
          "output_type": "display_data"
        },
        {
          "data": {
            "text/plain": [
              "Invoice        0\n",
              "StockCode      0\n",
              "Description    0\n",
              "Quantity       0\n",
              "InvoiceDate    0\n",
              "Price          0\n",
              "Customer ID    0\n",
              "Country        0\n",
              "dtype: int64"
            ]
          },
          "metadata": {},
          "output_type": "display_data"
        }
      ],
      "source": [
        "data.isnull().sum() "
      ]
    },
    {
      "cell_type": "code",
      "execution_count": 113,
      "metadata": {
        "jupyter": {
          "outputs_hidden": false,
          "source_hidden": false
        },
        "nteract": {
          "transient": {
            "deleting": false
          }
        }
      },
      "outputs": [
        {
          "data": {
            "application/vnd.livy.statement-meta+json": {
              "execution_finish_time": "2022-01-11T00:11:06.9384225Z",
              "execution_start_time": "2022-01-11T00:11:06.7893526Z",
              "livy_statement_state": "available",
              "queued_time": "2022-01-11T00:09:37.1957897Z",
              "session_id": 11,
              "session_start_time": null,
              "spark_pool": "RetailPool",
              "state": "finished",
              "statement_id": 35
            },
            "text/plain": [
              "StatementMeta(RetailPool, 11, 35, Finished, Available)"
            ]
          },
          "metadata": {},
          "output_type": "display_data"
        },
        {
          "data": {
            "text/html": [
              "<div>\n",
              "<style scoped>\n",
              "    .dataframe tbody tr th:only-of-type {\n",
              "        vertical-align: middle;\n",
              "    }\n",
              "\n",
              "    .dataframe tbody tr th {\n",
              "        vertical-align: top;\n",
              "    }\n",
              "\n",
              "    .dataframe thead th {\n",
              "        text-align: right;\n",
              "    }\n",
              "</style>\n",
              "<table border=\"1\" class=\"dataframe\">\n",
              "  <thead>\n",
              "    <tr style=\"text-align: right;\">\n",
              "      <th></th>\n",
              "      <th>Quantity</th>\n",
              "      <th>Price</th>\n",
              "      <th>Customer ID</th>\n",
              "    </tr>\n",
              "  </thead>\n",
              "  <tbody>\n",
              "    <tr>\n",
              "      <th>count</th>\n",
              "      <td>417534.000000</td>\n",
              "      <td>417534.000000</td>\n",
              "      <td>417534.000000</td>\n",
              "    </tr>\n",
              "    <tr>\n",
              "      <th>mean</th>\n",
              "      <td>12.758815</td>\n",
              "      <td>3.887547</td>\n",
              "      <td>15360.645478</td>\n",
              "    </tr>\n",
              "    <tr>\n",
              "      <th>std</th>\n",
              "      <td>101.220424</td>\n",
              "      <td>71.131797</td>\n",
              "      <td>1680.811316</td>\n",
              "    </tr>\n",
              "    <tr>\n",
              "      <th>min</th>\n",
              "      <td>-9360.000000</td>\n",
              "      <td>0.000000</td>\n",
              "      <td>12346.000000</td>\n",
              "    </tr>\n",
              "    <tr>\n",
              "      <th>25%</th>\n",
              "      <td>2.000000</td>\n",
              "      <td>1.250000</td>\n",
              "      <td>13983.000000</td>\n",
              "    </tr>\n",
              "    <tr>\n",
              "      <th>50%</th>\n",
              "      <td>4.000000</td>\n",
              "      <td>1.950000</td>\n",
              "      <td>15311.000000</td>\n",
              "    </tr>\n",
              "    <tr>\n",
              "      <th>75%</th>\n",
              "      <td>12.000000</td>\n",
              "      <td>3.750000</td>\n",
              "      <td>16799.000000</td>\n",
              "    </tr>\n",
              "    <tr>\n",
              "      <th>max</th>\n",
              "      <td>19152.000000</td>\n",
              "      <td>25111.090000</td>\n",
              "      <td>18287.000000</td>\n",
              "    </tr>\n",
              "  </tbody>\n",
              "</table>\n",
              "</div>"
            ],
            "text/plain": [
              "            Quantity          Price    Customer ID\n",
              "count  417534.000000  417534.000000  417534.000000\n",
              "mean       12.758815       3.887547   15360.645478\n",
              "std       101.220424      71.131797    1680.811316\n",
              "min     -9360.000000       0.000000   12346.000000\n",
              "25%         2.000000       1.250000   13983.000000\n",
              "50%         4.000000       1.950000   15311.000000\n",
              "75%        12.000000       3.750000   16799.000000\n",
              "max     19152.000000   25111.090000   18287.000000"
            ]
          },
          "metadata": {},
          "output_type": "display_data"
        }
      ],
      "source": [
        "data.describe()"
      ]
    },
    {
      "cell_type": "code",
      "execution_count": 114,
      "metadata": {
        "jupyter": {
          "outputs_hidden": false,
          "source_hidden": false
        },
        "nteract": {
          "transient": {
            "deleting": false
          }
        }
      },
      "outputs": [
        {
          "data": {
            "application/vnd.livy.statement-meta+json": {
              "execution_finish_time": "2022-01-11T00:11:07.548258Z",
              "execution_start_time": "2022-01-11T00:11:07.0503237Z",
              "livy_statement_state": "available",
              "queued_time": "2022-01-11T00:09:37.259484Z",
              "session_id": 11,
              "session_start_time": null,
              "spark_pool": "RetailPool",
              "state": "finished",
              "statement_id": 36
            },
            "text/plain": [
              "StatementMeta(RetailPool, 11, 36, Finished, Available)"
            ]
          },
          "metadata": {},
          "output_type": "display_data"
        }
      ],
      "source": [
        "# Convert InvocieDate to date.\n",
        "data['InvoiceDate'] = pd.to_datetime(data['InvoiceDate'])"
      ]
    },
    {
      "cell_type": "code",
      "execution_count": 115,
      "metadata": {
        "jupyter": {
          "outputs_hidden": false,
          "source_hidden": false
        },
        "nteract": {
          "transient": {
            "deleting": false
          }
        }
      },
      "outputs": [
        {
          "data": {
            "application/vnd.livy.statement-meta+json": {
              "execution_finish_time": "2022-01-11T00:11:08.172395Z",
              "execution_start_time": "2022-01-11T00:11:07.65507Z",
              "livy_statement_state": "available",
              "queued_time": "2022-01-11T00:09:37.3207285Z",
              "session_id": 11,
              "session_start_time": null,
              "spark_pool": "RetailPool",
              "state": "finished",
              "statement_id": 37
            },
            "text/plain": [
              "StatementMeta(RetailPool, 11, 37, Finished, Available)"
            ]
          },
          "metadata": {},
          "output_type": "display_data"
        }
      ],
      "source": [
        "df_cancel = data[data[\"Invoice\"].str.contains(\"C\",na = False)]"
      ]
    },
    {
      "cell_type": "code",
      "execution_count": 116,
      "metadata": {
        "jupyter": {
          "outputs_hidden": false,
          "source_hidden": false
        },
        "nteract": {
          "transient": {
            "deleting": false
          }
        }
      },
      "outputs": [
        {
          "data": {
            "application/vnd.livy.statement-meta+json": {
              "execution_finish_time": "2022-01-11T00:11:08.4214619Z",
              "execution_start_time": "2022-01-11T00:11:08.2728187Z",
              "livy_statement_state": "available",
              "queued_time": "2022-01-11T00:09:37.3802698Z",
              "session_id": 11,
              "session_start_time": null,
              "spark_pool": "RetailPool",
              "state": "finished",
              "statement_id": 38
            },
            "text/plain": [
              "StatementMeta(RetailPool, 11, 38, Finished, Available)"
            ]
          },
          "metadata": {},
          "output_type": "display_data"
        },
        {
          "data": {
            "text/html": [
              "<div>\n",
              "<style scoped>\n",
              "    .dataframe tbody tr th:only-of-type {\n",
              "        vertical-align: middle;\n",
              "    }\n",
              "\n",
              "    .dataframe tbody tr th {\n",
              "        vertical-align: top;\n",
              "    }\n",
              "\n",
              "    .dataframe thead th {\n",
              "        text-align: right;\n",
              "    }\n",
              "</style>\n",
              "<table border=\"1\" class=\"dataframe\">\n",
              "  <thead>\n",
              "    <tr style=\"text-align: right;\">\n",
              "      <th></th>\n",
              "      <th>Invoice_Count</th>\n",
              "    </tr>\n",
              "    <tr>\n",
              "      <th>Invoice</th>\n",
              "      <th></th>\n",
              "    </tr>\n",
              "  </thead>\n",
              "  <tbody>\n",
              "    <tr>\n",
              "      <th>C524235</th>\n",
              "      <td>45</td>\n",
              "    </tr>\n",
              "    <tr>\n",
              "      <th>C536164</th>\n",
              "      <td>44</td>\n",
              "    </tr>\n",
              "    <tr>\n",
              "      <th>C509015</th>\n",
              "      <td>40</td>\n",
              "    </tr>\n",
              "    <tr>\n",
              "      <th>C531807</th>\n",
              "      <td>38</td>\n",
              "    </tr>\n",
              "    <tr>\n",
              "      <th>C512272</th>\n",
              "      <td>38</td>\n",
              "    </tr>\n",
              "  </tbody>\n",
              "</table>\n",
              "</div>"
            ],
            "text/plain": [
              "         Invoice_Count\n",
              "Invoice               \n",
              "C524235             45\n",
              "C536164             44\n",
              "C509015             40\n",
              "C531807             38\n",
              "C512272             38"
            ]
          },
          "metadata": {},
          "output_type": "display_data"
        }
      ],
      "source": [
        "df_cancel.groupby(\"Invoice\").agg(Invoice_Count=('Invoice', 'count')).sort_values(\"Invoice_Count\", ascending=False).head(5)"
      ]
    },
    {
      "cell_type": "code",
      "execution_count": 117,
      "metadata": {
        "jupyter": {
          "outputs_hidden": false,
          "source_hidden": false
        },
        "nteract": {
          "transient": {
            "deleting": false
          }
        }
      },
      "outputs": [
        {
          "data": {
            "application/vnd.livy.statement-meta+json": {
              "execution_finish_time": "2022-01-11T00:11:08.6825622Z",
              "execution_start_time": "2022-01-11T00:11:08.532343Z",
              "livy_statement_state": "available",
              "queued_time": "2022-01-11T00:09:37.4545015Z",
              "session_id": 11,
              "session_start_time": null,
              "spark_pool": "RetailPool",
              "state": "finished",
              "statement_id": 39
            },
            "text/plain": [
              "StatementMeta(RetailPool, 11, 39, Finished, Available)"
            ]
          },
          "metadata": {},
          "output_type": "display_data"
        },
        {
          "data": {
            "text/plain": [
              "(45, 8)"
            ]
          },
          "metadata": {},
          "output_type": "display_data"
        }
      ],
      "source": [
        "data[data['Invoice'] == 'C524235'].shape"
      ]
    },
    {
      "cell_type": "code",
      "execution_count": 125,
      "metadata": {
        "jupyter": {
          "outputs_hidden": false,
          "source_hidden": false
        },
        "nteract": {
          "transient": {
            "deleting": false
          }
        }
      },
      "outputs": [
        {
          "data": {
            "application/vnd.livy.statement-meta+json": {
              "execution_finish_time": "2022-01-11T00:15:49.1702646Z",
              "execution_start_time": "2022-01-11T00:15:49.0074018Z",
              "livy_statement_state": "available",
              "queued_time": "2022-01-11T00:15:48.8893386Z",
              "session_id": 11,
              "session_start_time": null,
              "spark_pool": "RetailPool",
              "state": "finished",
              "statement_id": 47
            },
            "text/plain": [
              "StatementMeta(RetailPool, 11, 47, Finished, Available)"
            ]
          },
          "metadata": {},
          "output_type": "display_data"
        }
      ],
      "source": [
        "data = data[~data.Invoice.isin(df_cancel.Invoice)]"
      ]
    },
    {
      "cell_type": "code",
      "execution_count": 126,
      "metadata": {
        "jupyter": {
          "outputs_hidden": false,
          "source_hidden": false
        },
        "nteract": {
          "transient": {
            "deleting": false
          }
        }
      },
      "outputs": [
        {
          "data": {
            "application/vnd.livy.statement-meta+json": {
              "execution_finish_time": "2022-01-11T00:15:50.6908124Z",
              "execution_start_time": "2022-01-11T00:15:50.5223283Z",
              "livy_statement_state": "available",
              "queued_time": "2022-01-11T00:15:50.4096077Z",
              "session_id": 11,
              "session_start_time": null,
              "spark_pool": "RetailPool",
              "state": "finished",
              "statement_id": 48
            },
            "text/plain": [
              "StatementMeta(RetailPool, 11, 48, Finished, Available)"
            ]
          },
          "metadata": {},
          "output_type": "display_data"
        },
        {
          "data": {
            "text/plain": [
              "Timestamp('2010-12-09 20:01:00')"
            ]
          },
          "metadata": {},
          "output_type": "display_data"
        }
      ],
      "source": [
        "data[\"InvoiceDate\"].max()"
      ]
    },
    {
      "cell_type": "code",
      "execution_count": 127,
      "metadata": {
        "jupyter": {
          "outputs_hidden": false,
          "source_hidden": false
        },
        "nteract": {
          "transient": {
            "deleting": false
          }
        }
      },
      "outputs": [
        {
          "data": {
            "application/vnd.livy.statement-meta+json": {
              "execution_finish_time": "2022-01-11T00:15:51.9229717Z",
              "execution_start_time": "2022-01-11T00:15:51.775356Z",
              "livy_statement_state": "available",
              "queued_time": "2022-01-11T00:15:51.6635364Z",
              "session_id": 11,
              "session_start_time": null,
              "spark_pool": "RetailPool",
              "state": "finished",
              "statement_id": 49
            },
            "text/plain": [
              "StatementMeta(RetailPool, 11, 49, Finished, Available)"
            ]
          },
          "metadata": {},
          "output_type": "display_data"
        }
      ],
      "source": [
        "today_date=data[\"InvoiceDate\"].max()"
      ]
    },
    {
      "cell_type": "code",
      "execution_count": 128,
      "metadata": {
        "jupyter": {
          "outputs_hidden": true,
          "source_hidden": false
        },
        "nteract": {
          "transient": {
            "deleting": false
          }
        }
      },
      "outputs": [
        {
          "data": {
            "application/vnd.livy.statement-meta+json": {
              "execution_finish_time": "2022-01-11T00:15:52.9834116Z",
              "execution_start_time": "2022-01-11T00:15:52.8334293Z",
              "livy_statement_state": "available",
              "queued_time": "2022-01-11T00:15:52.7293848Z",
              "session_id": 11,
              "session_start_time": null,
              "spark_pool": "RetailPool",
              "state": "finished",
              "statement_id": 50
            },
            "text/plain": [
              "StatementMeta(RetailPool, 11, 50, Finished, Available)"
            ]
          },
          "metadata": {},
          "output_type": "display_data"
        }
      ],
      "source": [
        "data[\"TotalPrice\"] = data[\"Quantity\"] * data[\"Price\"]"
      ]
    },
    {
      "cell_type": "code",
      "execution_count": 138,
      "metadata": {
        "jupyter": {
          "outputs_hidden": false,
          "source_hidden": false
        },
        "nteract": {
          "transient": {
            "deleting": false
          }
        }
      },
      "outputs": [
        {
          "data": {
            "application/vnd.livy.statement-meta+json": {
              "execution_finish_time": "2022-01-11T00:18:40.0220998Z",
              "execution_start_time": "2022-01-11T00:18:37.2775298Z",
              "livy_statement_state": "available",
              "queued_time": "2022-01-11T00:18:37.1722768Z",
              "session_id": 11,
              "session_start_time": null,
              "spark_pool": "RetailPool",
              "state": "finished",
              "statement_id": 60
            },
            "text/plain": [
              "StatementMeta(RetailPool, 11, 60, Finished, Available)"
            ]
          },
          "metadata": {},
          "output_type": "display_data"
        }
      ],
      "source": [
        "rfm = data.groupby('Customer ID').agg({'InvoiceDate': lambda InvoiceDate: (today_date - InvoiceDate.max()).days,\n",
        "                                     'Invoice': lambda Invoice : Invoice.nunique(),\n",
        "                                     'TotalPrice': lambda TotalPrice : TotalPrice.sum()\n",
        "                                     })"
      ]
    },
    {
      "cell_type": "code",
      "execution_count": 139,
      "metadata": {
        "jupyter": {
          "outputs_hidden": false,
          "source_hidden": false
        },
        "nteract": {
          "transient": {
            "deleting": false
          }
        }
      },
      "outputs": [
        {
          "data": {
            "application/vnd.livy.statement-meta+json": {
              "execution_finish_time": "2022-01-11T00:18:40.2752091Z",
              "execution_start_time": "2022-01-11T00:18:40.1137471Z",
              "livy_statement_state": "available",
              "queued_time": "2022-01-11T00:18:39.1057803Z",
              "session_id": 11,
              "session_start_time": null,
              "spark_pool": "RetailPool",
              "state": "finished",
              "statement_id": 61
            },
            "text/plain": [
              "StatementMeta(RetailPool, 11, 61, Finished, Available)"
            ]
          },
          "metadata": {},
          "output_type": "display_data"
        }
      ],
      "source": [
        "rfm.columns = ['recency', 'frequency', 'monetary']\n"
      ]
    },
    {
      "cell_type": "code",
      "execution_count": 140,
      "metadata": {
        "jupyter": {
          "outputs_hidden": false,
          "source_hidden": false
        },
        "nteract": {
          "transient": {
            "deleting": false
          }
        }
      },
      "outputs": [
        {
          "data": {
            "application/vnd.livy.statement-meta+json": {
              "execution_finish_time": "2022-01-11T00:18:54.4574766Z",
              "execution_start_time": "2022-01-11T00:18:54.3183543Z",
              "livy_statement_state": "available",
              "queued_time": "2022-01-11T00:18:54.2134299Z",
              "session_id": 11,
              "session_start_time": null,
              "spark_pool": "RetailPool",
              "state": "finished",
              "statement_id": 62
            },
            "text/plain": [
              "StatementMeta(RetailPool, 11, 62, Finished, Available)"
            ]
          },
          "metadata": {},
          "output_type": "display_data"
        }
      ],
      "source": [
        "rfm.reset_index(inplace = True)"
      ]
    },
    {
      "cell_type": "code",
      "execution_count": 141,
      "metadata": {
        "jupyter": {
          "outputs_hidden": false,
          "source_hidden": false
        },
        "nteract": {
          "transient": {
            "deleting": false
          }
        }
      },
      "outputs": [
        {
          "data": {
            "application/vnd.livy.statement-meta+json": {
              "execution_finish_time": "2022-01-11T00:18:55.6496631Z",
              "execution_start_time": "2022-01-11T00:18:55.4992077Z",
              "livy_statement_state": "available",
              "queued_time": "2022-01-11T00:18:55.3893028Z",
              "session_id": 11,
              "session_start_time": null,
              "spark_pool": "RetailPool",
              "state": "finished",
              "statement_id": 63
            },
            "text/plain": [
              "StatementMeta(RetailPool, 11, 63, Finished, Available)"
            ]
          },
          "metadata": {},
          "output_type": "display_data"
        },
        {
          "data": {
            "text/html": [
              "<div>\n",
              "<style scoped>\n",
              "    .dataframe tbody tr th:only-of-type {\n",
              "        vertical-align: middle;\n",
              "    }\n",
              "\n",
              "    .dataframe tbody tr th {\n",
              "        vertical-align: top;\n",
              "    }\n",
              "\n",
              "    .dataframe thead th {\n",
              "        text-align: right;\n",
              "    }\n",
              "</style>\n",
              "<table border=\"1\" class=\"dataframe\">\n",
              "  <thead>\n",
              "    <tr style=\"text-align: right;\">\n",
              "      <th></th>\n",
              "      <th>Customer ID</th>\n",
              "      <th>recency</th>\n",
              "      <th>frequency</th>\n",
              "      <th>monetary</th>\n",
              "    </tr>\n",
              "  </thead>\n",
              "  <tbody>\n",
              "    <tr>\n",
              "      <th>0</th>\n",
              "      <td>12346.0</td>\n",
              "      <td>164</td>\n",
              "      <td>11</td>\n",
              "      <td>372.86</td>\n",
              "    </tr>\n",
              "    <tr>\n",
              "      <th>1</th>\n",
              "      <td>12347.0</td>\n",
              "      <td>2</td>\n",
              "      <td>2</td>\n",
              "      <td>1323.32</td>\n",
              "    </tr>\n",
              "    <tr>\n",
              "      <th>2</th>\n",
              "      <td>12348.0</td>\n",
              "      <td>73</td>\n",
              "      <td>1</td>\n",
              "      <td>222.16</td>\n",
              "    </tr>\n",
              "    <tr>\n",
              "      <th>3</th>\n",
              "      <td>12349.0</td>\n",
              "      <td>42</td>\n",
              "      <td>3</td>\n",
              "      <td>2671.14</td>\n",
              "    </tr>\n",
              "    <tr>\n",
              "      <th>4</th>\n",
              "      <td>12351.0</td>\n",
              "      <td>10</td>\n",
              "      <td>1</td>\n",
              "      <td>300.93</td>\n",
              "    </tr>\n",
              "    <tr>\n",
              "      <th>...</th>\n",
              "      <td>...</td>\n",
              "      <td>...</td>\n",
              "      <td>...</td>\n",
              "      <td>...</td>\n",
              "    </tr>\n",
              "    <tr>\n",
              "      <th>4309</th>\n",
              "      <td>18283.0</td>\n",
              "      <td>17</td>\n",
              "      <td>6</td>\n",
              "      <td>641.77</td>\n",
              "    </tr>\n",
              "    <tr>\n",
              "      <th>4310</th>\n",
              "      <td>18284.0</td>\n",
              "      <td>66</td>\n",
              "      <td>1</td>\n",
              "      <td>461.68</td>\n",
              "    </tr>\n",
              "    <tr>\n",
              "      <th>4311</th>\n",
              "      <td>18285.0</td>\n",
              "      <td>295</td>\n",
              "      <td>1</td>\n",
              "      <td>427.00</td>\n",
              "    </tr>\n",
              "    <tr>\n",
              "      <th>4312</th>\n",
              "      <td>18286.0</td>\n",
              "      <td>111</td>\n",
              "      <td>2</td>\n",
              "      <td>1296.43</td>\n",
              "    </tr>\n",
              "    <tr>\n",
              "      <th>4313</th>\n",
              "      <td>18287.0</td>\n",
              "      <td>17</td>\n",
              "      <td>4</td>\n",
              "      <td>2345.71</td>\n",
              "    </tr>\n",
              "  </tbody>\n",
              "</table>\n",
              "<p>4314 rows × 4 columns</p>\n",
              "</div>"
            ],
            "text/plain": [
              "      Customer ID  recency  frequency  monetary\n",
              "0         12346.0      164         11    372.86\n",
              "1         12347.0        2          2   1323.32\n",
              "2         12348.0       73          1    222.16\n",
              "3         12349.0       42          3   2671.14\n",
              "4         12351.0       10          1    300.93\n",
              "...           ...      ...        ...       ...\n",
              "4309      18283.0       17          6    641.77\n",
              "4310      18284.0       66          1    461.68\n",
              "4311      18285.0      295          1    427.00\n",
              "4312      18286.0      111          2   1296.43\n",
              "4313      18287.0       17          4   2345.71\n",
              "\n",
              "[4314 rows x 4 columns]"
            ]
          },
          "metadata": {},
          "output_type": "display_data"
        }
      ],
      "source": [
        "rfm"
      ]
    },
    {
      "cell_type": "code",
      "execution_count": 136,
      "metadata": {
        "jupyter": {
          "outputs_hidden": false,
          "source_hidden": false
        },
        "nteract": {
          "transient": {
            "deleting": false
          }
        }
      },
      "outputs": [
        {
          "data": {
            "application/vnd.livy.statement-meta+json": {
              "execution_finish_time": "2022-01-11T00:17:37.3196281Z",
              "execution_start_time": "2022-01-11T00:17:37.1559568Z",
              "livy_statement_state": "available",
              "queued_time": "2022-01-11T00:17:37.0618432Z",
              "session_id": 11,
              "session_start_time": null,
              "spark_pool": "RetailPool",
              "state": "finished",
              "statement_id": 58
            },
            "text/plain": [
              "StatementMeta(RetailPool, 11, 58, Finished, Available)"
            ]
          },
          "metadata": {},
          "output_type": "display_data"
        },
        {
          "data": {
            "text/html": [
              "<div>\n",
              "<style scoped>\n",
              "    .dataframe tbody tr th:only-of-type {\n",
              "        vertical-align: middle;\n",
              "    }\n",
              "\n",
              "    .dataframe tbody tr th {\n",
              "        vertical-align: top;\n",
              "    }\n",
              "\n",
              "    .dataframe thead th {\n",
              "        text-align: right;\n",
              "    }\n",
              "</style>\n",
              "<table border=\"1\" class=\"dataframe\">\n",
              "  <thead>\n",
              "    <tr style=\"text-align: right;\">\n",
              "      <th></th>\n",
              "      <th>Invoice</th>\n",
              "      <th>StockCode</th>\n",
              "      <th>Description</th>\n",
              "      <th>Quantity</th>\n",
              "      <th>InvoiceDate</th>\n",
              "      <th>Price</th>\n",
              "      <th>Customer ID</th>\n",
              "      <th>Country</th>\n",
              "      <th>TotalPrice</th>\n",
              "    </tr>\n",
              "  </thead>\n",
              "  <tbody>\n",
              "    <tr>\n",
              "      <th>27994</th>\n",
              "      <td>491725</td>\n",
              "      <td>TEST001</td>\n",
              "      <td>This is a test product.</td>\n",
              "      <td>10</td>\n",
              "      <td>2009-12-14 08:34:00</td>\n",
              "      <td>4.50</td>\n",
              "      <td>12346.0</td>\n",
              "      <td>United Kingdom</td>\n",
              "      <td>45.00</td>\n",
              "    </tr>\n",
              "    <tr>\n",
              "      <th>28251</th>\n",
              "      <td>491742</td>\n",
              "      <td>TEST001</td>\n",
              "      <td>This is a test product.</td>\n",
              "      <td>5</td>\n",
              "      <td>2009-12-14 11:00:00</td>\n",
              "      <td>4.50</td>\n",
              "      <td>12346.0</td>\n",
              "      <td>United Kingdom</td>\n",
              "      <td>22.50</td>\n",
              "    </tr>\n",
              "    <tr>\n",
              "      <th>28254</th>\n",
              "      <td>491744</td>\n",
              "      <td>TEST001</td>\n",
              "      <td>This is a test product.</td>\n",
              "      <td>5</td>\n",
              "      <td>2009-12-14 11:02:00</td>\n",
              "      <td>4.50</td>\n",
              "      <td>12346.0</td>\n",
              "      <td>United Kingdom</td>\n",
              "      <td>22.50</td>\n",
              "    </tr>\n",
              "    <tr>\n",
              "      <th>39398</th>\n",
              "      <td>492718</td>\n",
              "      <td>TEST001</td>\n",
              "      <td>This is a test product.</td>\n",
              "      <td>5</td>\n",
              "      <td>2009-12-18 10:47:00</td>\n",
              "      <td>4.50</td>\n",
              "      <td>12346.0</td>\n",
              "      <td>United Kingdom</td>\n",
              "      <td>22.50</td>\n",
              "    </tr>\n",
              "    <tr>\n",
              "      <th>39411</th>\n",
              "      <td>492722</td>\n",
              "      <td>TEST002</td>\n",
              "      <td>This is a test product.</td>\n",
              "      <td>1</td>\n",
              "      <td>2009-12-18 10:55:00</td>\n",
              "      <td>1.00</td>\n",
              "      <td>12346.0</td>\n",
              "      <td>United Kingdom</td>\n",
              "      <td>1.00</td>\n",
              "    </tr>\n",
              "    <tr>\n",
              "      <th>45228</th>\n",
              "      <td>493410</td>\n",
              "      <td>TEST001</td>\n",
              "      <td>This is a test product.</td>\n",
              "      <td>5</td>\n",
              "      <td>2010-01-04 09:24:00</td>\n",
              "      <td>4.50</td>\n",
              "      <td>12346.0</td>\n",
              "      <td>United Kingdom</td>\n",
              "      <td>22.50</td>\n",
              "    </tr>\n",
              "    <tr>\n",
              "      <th>45230</th>\n",
              "      <td>493412</td>\n",
              "      <td>TEST001</td>\n",
              "      <td>This is a test product.</td>\n",
              "      <td>5</td>\n",
              "      <td>2010-01-04 09:53:00</td>\n",
              "      <td>4.50</td>\n",
              "      <td>12346.0</td>\n",
              "      <td>United Kingdom</td>\n",
              "      <td>22.50</td>\n",
              "    </tr>\n",
              "    <tr>\n",
              "      <th>56117</th>\n",
              "      <td>494450</td>\n",
              "      <td>TEST001</td>\n",
              "      <td>This is a test product.</td>\n",
              "      <td>5</td>\n",
              "      <td>2010-01-14 13:50:00</td>\n",
              "      <td>4.50</td>\n",
              "      <td>12346.0</td>\n",
              "      <td>United Kingdom</td>\n",
              "      <td>22.50</td>\n",
              "    </tr>\n",
              "    <tr>\n",
              "      <th>66084</th>\n",
              "      <td>495295</td>\n",
              "      <td>TEST001</td>\n",
              "      <td>This is a test product.</td>\n",
              "      <td>5</td>\n",
              "      <td>2010-01-22 13:30:00</td>\n",
              "      <td>4.50</td>\n",
              "      <td>12346.0</td>\n",
              "      <td>United Kingdom</td>\n",
              "      <td>22.50</td>\n",
              "    </tr>\n",
              "    <tr>\n",
              "      <th>107800</th>\n",
              "      <td>499763</td>\n",
              "      <td>20682</td>\n",
              "      <td>RED SPOTTY CHILDS UMBRELLA</td>\n",
              "      <td>1</td>\n",
              "      <td>2010-03-02 13:08:00</td>\n",
              "      <td>3.25</td>\n",
              "      <td>12346.0</td>\n",
              "      <td>United Kingdom</td>\n",
              "      <td>3.25</td>\n",
              "    </tr>\n",
              "    <tr>\n",
              "      <th>107801</th>\n",
              "      <td>499763</td>\n",
              "      <td>20679</td>\n",
              "      <td>EDWARDIAN PARASOL RED</td>\n",
              "      <td>1</td>\n",
              "      <td>2010-03-02 13:08:00</td>\n",
              "      <td>5.95</td>\n",
              "      <td>12346.0</td>\n",
              "      <td>United Kingdom</td>\n",
              "      <td>5.95</td>\n",
              "    </tr>\n",
              "    <tr>\n",
              "      <th>107802</th>\n",
              "      <td>499763</td>\n",
              "      <td>15056N</td>\n",
              "      <td>EDWARDIAN PARASOL NATURAL</td>\n",
              "      <td>1</td>\n",
              "      <td>2010-03-02 13:08:00</td>\n",
              "      <td>5.95</td>\n",
              "      <td>12346.0</td>\n",
              "      <td>United Kingdom</td>\n",
              "      <td>5.95</td>\n",
              "    </tr>\n",
              "    <tr>\n",
              "      <th>107803</th>\n",
              "      <td>499763</td>\n",
              "      <td>15056BL</td>\n",
              "      <td>EDWARDIAN PARASOL BLACK</td>\n",
              "      <td>1</td>\n",
              "      <td>2010-03-02 13:08:00</td>\n",
              "      <td>5.95</td>\n",
              "      <td>12346.0</td>\n",
              "      <td>United Kingdom</td>\n",
              "      <td>5.95</td>\n",
              "    </tr>\n",
              "    <tr>\n",
              "      <th>107804</th>\n",
              "      <td>499763</td>\n",
              "      <td>15056P</td>\n",
              "      <td>EDWARDIAN PARASOL PINK</td>\n",
              "      <td>1</td>\n",
              "      <td>2010-03-02 13:08:00</td>\n",
              "      <td>5.95</td>\n",
              "      <td>12346.0</td>\n",
              "      <td>United Kingdom</td>\n",
              "      <td>5.95</td>\n",
              "    </tr>\n",
              "    <tr>\n",
              "      <th>253028</th>\n",
              "      <td>513774</td>\n",
              "      <td>21524</td>\n",
              "      <td>DOORMAT SPOTTY HOME SWEET HOME</td>\n",
              "      <td>1</td>\n",
              "      <td>2010-06-28 13:53:00</td>\n",
              "      <td>7.49</td>\n",
              "      <td>12346.0</td>\n",
              "      <td>United Kingdom</td>\n",
              "      <td>7.49</td>\n",
              "    </tr>\n",
              "    <tr>\n",
              "      <th>253029</th>\n",
              "      <td>513774</td>\n",
              "      <td>22692</td>\n",
              "      <td>DOORMAT WELCOME TO OUR HOME</td>\n",
              "      <td>1</td>\n",
              "      <td>2010-06-28 13:53:00</td>\n",
              "      <td>7.49</td>\n",
              "      <td>12346.0</td>\n",
              "      <td>United Kingdom</td>\n",
              "      <td>7.49</td>\n",
              "    </tr>\n",
              "    <tr>\n",
              "      <th>253030</th>\n",
              "      <td>513774</td>\n",
              "      <td>22660</td>\n",
              "      <td>DOORMAT I LOVE LONDON</td>\n",
              "      <td>1</td>\n",
              "      <td>2010-06-28 13:53:00</td>\n",
              "      <td>7.49</td>\n",
              "      <td>12346.0</td>\n",
              "      <td>United Kingdom</td>\n",
              "      <td>7.49</td>\n",
              "    </tr>\n",
              "    <tr>\n",
              "      <th>253031</th>\n",
              "      <td>513774</td>\n",
              "      <td>22687</td>\n",
              "      <td>DOORMAT CHRISTMAS VILLAGE</td>\n",
              "      <td>1</td>\n",
              "      <td>2010-06-28 13:53:00</td>\n",
              "      <td>7.49</td>\n",
              "      <td>12346.0</td>\n",
              "      <td>United Kingdom</td>\n",
              "      <td>7.49</td>\n",
              "    </tr>\n",
              "    <tr>\n",
              "      <th>253032</th>\n",
              "      <td>513774</td>\n",
              "      <td>48173C</td>\n",
              "      <td>DOORMAT BLACK FLOCK</td>\n",
              "      <td>1</td>\n",
              "      <td>2010-06-28 13:53:00</td>\n",
              "      <td>7.49</td>\n",
              "      <td>12346.0</td>\n",
              "      <td>United Kingdom</td>\n",
              "      <td>7.49</td>\n",
              "    </tr>\n",
              "    <tr>\n",
              "      <th>253033</th>\n",
              "      <td>513774</td>\n",
              "      <td>22691</td>\n",
              "      <td>DOORMAT WELCOME SUNRISE</td>\n",
              "      <td>1</td>\n",
              "      <td>2010-06-28 13:53:00</td>\n",
              "      <td>7.49</td>\n",
              "      <td>12346.0</td>\n",
              "      <td>United Kingdom</td>\n",
              "      <td>7.49</td>\n",
              "    </tr>\n",
              "    <tr>\n",
              "      <th>253034</th>\n",
              "      <td>513774</td>\n",
              "      <td>48111</td>\n",
              "      <td>DOORMAT 3 SMILEY CATS</td>\n",
              "      <td>1</td>\n",
              "      <td>2010-06-28 13:53:00</td>\n",
              "      <td>7.49</td>\n",
              "      <td>12346.0</td>\n",
              "      <td>United Kingdom</td>\n",
              "      <td>7.49</td>\n",
              "    </tr>\n",
              "    <tr>\n",
              "      <th>253035</th>\n",
              "      <td>513774</td>\n",
              "      <td>22690</td>\n",
              "      <td>DOORMAT HOME SWEET HOME BLUE</td>\n",
              "      <td>1</td>\n",
              "      <td>2010-06-28 13:53:00</td>\n",
              "      <td>7.49</td>\n",
              "      <td>12346.0</td>\n",
              "      <td>United Kingdom</td>\n",
              "      <td>7.49</td>\n",
              "    </tr>\n",
              "    <tr>\n",
              "      <th>253036</th>\n",
              "      <td>513774</td>\n",
              "      <td>21523</td>\n",
              "      <td>DOORMAT FANCY FONT HOME SWEET HOME</td>\n",
              "      <td>1</td>\n",
              "      <td>2010-06-28 13:53:00</td>\n",
              "      <td>7.49</td>\n",
              "      <td>12346.0</td>\n",
              "      <td>United Kingdom</td>\n",
              "      <td>7.49</td>\n",
              "    </tr>\n",
              "    <tr>\n",
              "      <th>253037</th>\n",
              "      <td>513774</td>\n",
              "      <td>48138</td>\n",
              "      <td>DOORMAT UNION FLAG</td>\n",
              "      <td>1</td>\n",
              "      <td>2010-06-28 13:53:00</td>\n",
              "      <td>7.49</td>\n",
              "      <td>12346.0</td>\n",
              "      <td>United Kingdom</td>\n",
              "      <td>7.49</td>\n",
              "    </tr>\n",
              "    <tr>\n",
              "      <th>253038</th>\n",
              "      <td>513774</td>\n",
              "      <td>22689</td>\n",
              "      <td>DOORMAT MERRY CHRISTMAS RED</td>\n",
              "      <td>1</td>\n",
              "      <td>2010-06-28 13:53:00</td>\n",
              "      <td>7.49</td>\n",
              "      <td>12346.0</td>\n",
              "      <td>United Kingdom</td>\n",
              "      <td>7.49</td>\n",
              "    </tr>\n",
              "    <tr>\n",
              "      <th>253039</th>\n",
              "      <td>513774</td>\n",
              "      <td>22365</td>\n",
              "      <td>DOORMAT RESPECTABLE HOUSE</td>\n",
              "      <td>1</td>\n",
              "      <td>2010-06-28 13:53:00</td>\n",
              "      <td>7.49</td>\n",
              "      <td>12346.0</td>\n",
              "      <td>United Kingdom</td>\n",
              "      <td>7.49</td>\n",
              "    </tr>\n",
              "    <tr>\n",
              "      <th>253040</th>\n",
              "      <td>513774</td>\n",
              "      <td>48185</td>\n",
              "      <td>DOORMAT FAIRY CAKE</td>\n",
              "      <td>1</td>\n",
              "      <td>2010-06-28 13:53:00</td>\n",
              "      <td>7.49</td>\n",
              "      <td>12346.0</td>\n",
              "      <td>United Kingdom</td>\n",
              "      <td>7.49</td>\n",
              "    </tr>\n",
              "    <tr>\n",
              "      <th>253041</th>\n",
              "      <td>513774</td>\n",
              "      <td>22688</td>\n",
              "      <td>DOORMAT PEACE ON EARTH BLUE</td>\n",
              "      <td>1</td>\n",
              "      <td>2010-06-28 13:53:00</td>\n",
              "      <td>7.49</td>\n",
              "      <td>12346.0</td>\n",
              "      <td>United Kingdom</td>\n",
              "      <td>7.49</td>\n",
              "    </tr>\n",
              "    <tr>\n",
              "      <th>253042</th>\n",
              "      <td>513774</td>\n",
              "      <td>48188</td>\n",
              "      <td>DOORMAT WELCOME PUPPIES</td>\n",
              "      <td>1</td>\n",
              "      <td>2010-06-28 13:53:00</td>\n",
              "      <td>7.49</td>\n",
              "      <td>12346.0</td>\n",
              "      <td>United Kingdom</td>\n",
              "      <td>7.49</td>\n",
              "    </tr>\n",
              "    <tr>\n",
              "      <th>253043</th>\n",
              "      <td>513774</td>\n",
              "      <td>48187</td>\n",
              "      <td>DOORMAT NEW ENGLAND</td>\n",
              "      <td>1</td>\n",
              "      <td>2010-06-28 13:53:00</td>\n",
              "      <td>7.49</td>\n",
              "      <td>12346.0</td>\n",
              "      <td>United Kingdom</td>\n",
              "      <td>7.49</td>\n",
              "    </tr>\n",
              "    <tr>\n",
              "      <th>253044</th>\n",
              "      <td>513774</td>\n",
              "      <td>22366</td>\n",
              "      <td>DOORMAT AIRMAIL</td>\n",
              "      <td>1</td>\n",
              "      <td>2010-06-28 13:53:00</td>\n",
              "      <td>7.49</td>\n",
              "      <td>12346.0</td>\n",
              "      <td>United Kingdom</td>\n",
              "      <td>7.49</td>\n",
              "    </tr>\n",
              "    <tr>\n",
              "      <th>253045</th>\n",
              "      <td>513774</td>\n",
              "      <td>20685</td>\n",
              "      <td>DOORMAT RED SPOT</td>\n",
              "      <td>1</td>\n",
              "      <td>2010-06-28 13:53:00</td>\n",
              "      <td>7.49</td>\n",
              "      <td>12346.0</td>\n",
              "      <td>United Kingdom</td>\n",
              "      <td>7.49</td>\n",
              "    </tr>\n",
              "    <tr>\n",
              "      <th>253046</th>\n",
              "      <td>513774</td>\n",
              "      <td>21955</td>\n",
              "      <td>DOORMAT UNION JACK GUNS AND ROSES</td>\n",
              "      <td>1</td>\n",
              "      <td>2010-06-28 13:53:00</td>\n",
              "      <td>7.49</td>\n",
              "      <td>12346.0</td>\n",
              "      <td>United Kingdom</td>\n",
              "      <td>7.49</td>\n",
              "    </tr>\n",
              "  </tbody>\n",
              "</table>\n",
              "</div>"
            ],
            "text/plain": [
              "       Invoice StockCode  ...         Country  TotalPrice\n",
              "27994   491725   TEST001  ...  United Kingdom       45.00\n",
              "28251   491742   TEST001  ...  United Kingdom       22.50\n",
              "28254   491744   TEST001  ...  United Kingdom       22.50\n",
              "39398   492718   TEST001  ...  United Kingdom       22.50\n",
              "39411   492722   TEST002  ...  United Kingdom        1.00\n",
              "45228   493410   TEST001  ...  United Kingdom       22.50\n",
              "45230   493412   TEST001  ...  United Kingdom       22.50\n",
              "56117   494450   TEST001  ...  United Kingdom       22.50\n",
              "66084   495295   TEST001  ...  United Kingdom       22.50\n",
              "107800  499763     20682  ...  United Kingdom        3.25\n",
              "107801  499763     20679  ...  United Kingdom        5.95\n",
              "107802  499763    15056N  ...  United Kingdom        5.95\n",
              "107803  499763   15056BL  ...  United Kingdom        5.95\n",
              "107804  499763    15056P  ...  United Kingdom        5.95\n",
              "253028  513774     21524  ...  United Kingdom        7.49\n",
              "253029  513774     22692  ...  United Kingdom        7.49\n",
              "253030  513774     22660  ...  United Kingdom        7.49\n",
              "253031  513774     22687  ...  United Kingdom        7.49\n",
              "253032  513774    48173C  ...  United Kingdom        7.49\n",
              "253033  513774     22691  ...  United Kingdom        7.49\n",
              "253034  513774     48111  ...  United Kingdom        7.49\n",
              "253035  513774     22690  ...  United Kingdom        7.49\n",
              "253036  513774     21523  ...  United Kingdom        7.49\n",
              "253037  513774     48138  ...  United Kingdom        7.49\n",
              "253038  513774     22689  ...  United Kingdom        7.49\n",
              "253039  513774     22365  ...  United Kingdom        7.49\n",
              "253040  513774     48185  ...  United Kingdom        7.49\n",
              "253041  513774     22688  ...  United Kingdom        7.49\n",
              "253042  513774     48188  ...  United Kingdom        7.49\n",
              "253043  513774     48187  ...  United Kingdom        7.49\n",
              "253044  513774     22366  ...  United Kingdom        7.49\n",
              "253045  513774     20685  ...  United Kingdom        7.49\n",
              "253046  513774     21955  ...  United Kingdom        7.49\n",
              "\n",
              "[33 rows x 9 columns]"
            ]
          },
          "metadata": {},
          "output_type": "display_data"
        }
      ],
      "source": [
        "data[data['Customer ID'] ==12346.0]"
      ]
    },
    {
      "cell_type": "code",
      "execution_count": null,
      "metadata": {
        "jupyter": {
          "outputs_hidden": false,
          "source_hidden": false
        },
        "nteract": {
          "transient": {
            "deleting": false
          }
        }
      },
      "outputs": [],
      "source": []
    }
  ],
  "metadata": {
    "description": null,
    "kernelspec": {
      "display_name": "Synapse PySpark",
      "name": "synapse_pyspark"
    },
    "language_info": {
      "name": "python"
    },
    "save_output": true,
    "synapse_widget": {
      "state": {},
      "version": "0.1"
    }
  },
  "nbformat": 4,
  "nbformat_minor": 2
}
