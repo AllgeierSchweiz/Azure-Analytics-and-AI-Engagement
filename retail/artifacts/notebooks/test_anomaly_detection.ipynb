{
  "nbformat": 4,
  "nbformat_minor": 2,
  "cells": [
    {
      "cell_type": "code",
      "execution_count": 1,
      "outputs": [
        {
          "output_type": "display_data",
          "data": {
            "application/vnd.livy.statement-meta+json": {
              "spark_pool": "retailspark2",
              "session_id": 1,
              "statement_id": 1,
              "state": "finished",
              "livy_statement_state": "available",
              "queued_time": "2022-03-11T21:39:28.8116738Z",
              "session_start_time": "2022-03-11T21:39:28.8569936Z",
              "execution_start_time": "2022-03-11T21:41:41.1944728Z",
              "execution_finish_time": "2022-03-11T21:41:57.912349Z"
            },
            "text/plain": "StatementMeta(retailspark2, 1, 1, Finished, Available)"
          },
          "metadata": {}
        },
        {
          "output_type": "display_data",
          "data": {
            "application/vnd.synapse.widget-view+json": {
              "widget_id": "9dac3048-eb43-4a8b-a13f-8ee6de506fd4",
              "widget_type": "Synapse.DataFrame"
            },
            "text/plain": "SynapseWidget(Synapse.DataFrame, 9dac3048-eb43-4a8b-a13f-8ee6de506fd4)"
          },
          "metadata": {}
        }
      ],
      "metadata": {
        "collapsed": false
      },
      "source": [
        "%%pyspark\n",
        "\n",
        "# Read data from Azure Data Explorer table(s)\n",
        "# Full Sample Code available at: https://github.com/Azure/azure-kusto-spark/blob/master/samples/src/main/python/SynapseSample.py\n",
        "\n",
        "kustoDf  = spark.read \\\n",
        "    .format(\"com.microsoft.kusto.spark.synapse.datasource\") \\\n",
        "    .option(\"spark.synapse.linkedService\", \"kustoPool\") \\\n",
        "    .option(\"kustoCluster\", \"https://retaildataexplorer.synretailprod.kusto.azuresynapse.net\") \\\n",
        "    .option(\"kustoDatabase\", \"RetailDB\") \\\n",
        "    .option(\"kustoQuery\", \"Thermostat | take 10\") \\\n",
        "    .load()\n",
        "\n",
        "display(kustoDf)\n",
        ""
      ]
    },
    {
      "cell_type": "code",
      "execution_count": 2,
      "outputs": [
        {
          "output_type": "display_data",
          "data": {
            "application/vnd.livy.statement-meta+json": {
              "spark_pool": "retailspark2",
              "session_id": 1,
              "statement_id": 2,
              "state": "finished",
              "livy_statement_state": "available",
              "queued_time": "2022-03-11T21:39:28.8128727Z",
              "session_start_time": null,
              "execution_start_time": "2022-03-11T21:41:58.0281893Z",
              "execution_finish_time": "2022-03-11T21:41:58.1858479Z"
            },
            "text/plain": "StatementMeta(retailspark2, 1, 2, Finished, Available)"
          },
          "metadata": {}
        }
      ],
      "metadata": {
        "jupyter": {
          "source_hidden": false,
          "outputs_hidden": false
        },
        "nteract": {
          "transient": {
            "deleting": false
          }
        }
      },
      "source": [
        "import pyspark\r\n",
        "spark = pyspark.sql.SparkSession.builder.appName(\"MyApp\") \\\r\n",
        "            .config(\"spark.jars.packages\", \"com.microsoft.azure:synapseml_2.12:0.9.5\") \\\r\n",
        "            .config(\"spark.jars.repositories\", \"https://mmlspark.azureedge.net/maven\") \\\r\n",
        "            .getOrCreate()\r\n",
        ""
      ]
    },
    {
      "cell_type": "code",
      "execution_count": 3,
      "outputs": [
        {
          "output_type": "display_data",
          "data": {
            "application/vnd.livy.statement-meta+json": {
              "spark_pool": "retailspark2",
              "session_id": 1,
              "statement_id": 3,
              "state": "finished",
              "livy_statement_state": "available",
              "queued_time": "2022-03-11T21:39:28.8142424Z",
              "session_start_time": null,
              "execution_start_time": "2022-03-11T21:41:58.2999289Z",
              "execution_finish_time": "2022-03-11T21:41:58.8559638Z"
            },
            "text/plain": "StatementMeta(retailspark2, 1, 3, Finished, Available)"
          },
          "metadata": {}
        }
      ],
      "metadata": {
        "jupyter": {
          "source_hidden": false,
          "outputs_hidden": false
        },
        "nteract": {
          "transient": {
            "deleting": false
          }
        }
      },
      "source": [
        "from mmlspark.isolationforest import *"
      ]
    },
    {
      "cell_type": "code",
      "execution_count": null,
      "outputs": [],
      "metadata": {
        "jupyter": {
          "source_hidden": false,
          "outputs_hidden": false
        },
        "nteract": {
          "transient": {
            "deleting": false
          }
        }
      },
      "source": [
        "help(IsolationForest)"
      ]
    },
    {
      "cell_type": "code",
      "execution_count": 12,
      "outputs": [
        {
          "output_type": "display_data",
          "data": {
            "application/vnd.livy.statement-meta+json": {
              "spark_pool": "retailspark2",
              "session_id": 1,
              "statement_id": 12,
              "state": "finished",
              "livy_statement_state": "available",
              "queued_time": "2022-03-11T22:40:19.5167573Z",
              "session_start_time": null,
              "execution_start_time": "2022-03-11T22:40:19.6719534Z",
              "execution_finish_time": "2022-03-11T22:40:19.8204337Z"
            },
            "text/plain": "StatementMeta(retailspark2, 1, 12, Finished, Available)"
          },
          "metadata": {}
        }
      ],
      "metadata": {
        "jupyter": {
          "source_hidden": false,
          "outputs_hidden": false
        },
        "nteract": {
          "transient": {
            "deleting": false
          }
        }
      },
      "source": [
        "isolationForest = (IsolationForest()\n",
        "      .setNumEstimators(100)\n",
        "      .setBootstrap(False)\n",
        "      .setMaxSamples(256)\n",
        "      .setMaxFeatures(1.0)\n",
        "      .setFeaturesCol(kustoDf[\"Temp\"])\n",
        "      .setPredictionCol(kustoDf[\"Temp_UoM\"])\n",
        "      .setScoreCol(\"outlierScore\")\n",
        "      .setContamination(0.02)\n",
        "      .setContaminationError(0.02 * 0.01)\n",
        "      .setRandomSeed(1))"
      ]
    },
    {
      "cell_type": "code",
      "execution_count": 11,
      "outputs": [
        {
          "output_type": "display_data",
          "data": {
            "application/vnd.livy.statement-meta+json": {
              "spark_pool": "retailspark2",
              "session_id": 1,
              "statement_id": 11,
              "state": "finished",
              "livy_statement_state": "available",
              "queued_time": "2022-03-11T22:36:38.3073181Z",
              "session_start_time": null,
              "execution_start_time": "2022-03-11T22:36:38.4283474Z",
              "execution_finish_time": "2022-03-11T22:36:38.5709814Z"
            },
            "text/plain": "StatementMeta(retailspark2, 1, 11, Finished, Available)"
          },
          "metadata": {}
        },
        {
          "output_type": "display_data",
          "data": {
            "text/plain": "IsolationForest_17fad695eaa4"
          },
          "metadata": {}
        }
      ],
      "metadata": {
        "jupyter": {
          "source_hidden": false,
          "outputs_hidden": false
        },
        "nteract": {
          "transient": {
            "deleting": false
          }
        }
      },
      "source": [
        "isolationForest"
      ]
    },
    {
      "cell_type": "code",
      "execution_count": null,
      "outputs": [],
      "metadata": {
        "jupyter": {
          "source_hidden": false,
          "outputs_hidden": false
        },
        "nteract": {
          "transient": {
            "deleting": false
          }
        }
      },
      "source": [
        ""
      ]
    }
  ],
  "metadata": {
    "description": null,
    "save_output": true,
    "kernelspec": {
      "name": "synapse_pyspark",
      "display_name": "Synapse PySpark"
    },
    "language_info": {
      "name": "python"
    },
    "synapse_widget": {
      "version": "0.1",
      "state": {
        "9dac3048-eb43-4a8b-a13f-8ee6de506fd4": {
          "type": "Synapse.DataFrame",
          "sync_state": {
            "table": {
              "rows": [
                {
                  "0": "TH001",
                  "1": "S001",
                  "2": "2022-03-11 14:57:49.871",
                  "4": "72.5",
                  "5": "F",
                  "6": "Miami"
                },
                {
                  "0": "TH002",
                  "1": "S001",
                  "2": "2022-03-11 14:57:49.871",
                  "4": "73.6",
                  "5": "F",
                  "6": "Miami"
                },
                {
                  "0": "TH003",
                  "1": "S001",
                  "2": "2022-03-11 14:57:49.871",
                  "4": "72.6",
                  "5": "F",
                  "6": "Miami"
                },
                {
                  "0": "TH004",
                  "1": "S001",
                  "2": "2022-03-11 14:57:49.871",
                  "4": "73.7",
                  "5": "F",
                  "6": "Miami"
                },
                {
                  "0": "TH005",
                  "1": "S001",
                  "2": "2022-03-11 14:57:49.871",
                  "4": "72.2",
                  "5": "F",
                  "6": "Miami"
                },
                {
                  "0": "TH006",
                  "1": "S001",
                  "2": "2022-03-11 14:57:49.871",
                  "4": "73.2",
                  "5": "F",
                  "6": "Miami"
                },
                {
                  "0": "TH007",
                  "1": "S001",
                  "2": "2022-03-11 14:57:49.871",
                  "4": "73.4",
                  "5": "F",
                  "6": "Miami"
                },
                {
                  "0": "TH008",
                  "1": "S001",
                  "2": "2022-03-11 14:57:49.871",
                  "4": "73.5",
                  "5": "F",
                  "6": "Miami"
                },
                {
                  "0": "TH009",
                  "1": "S001",
                  "2": "2022-03-11 14:57:49.871",
                  "4": "73.3",
                  "5": "F",
                  "6": "Miami"
                },
                {
                  "0": "TH010",
                  "1": "S001",
                  "2": "2022-03-11 14:57:49.871",
                  "4": "73.4",
                  "5": "F",
                  "6": "Miami"
                }
              ],
              "schema": [
                {
                  "key": "0",
                  "name": "DeviceId",
                  "type": "string"
                },
                {
                  "key": "1",
                  "name": "StoreID",
                  "type": "string"
                },
                {
                  "key": "2",
                  "name": "EnqueuedTimeUTC",
                  "type": "timestamp"
                },
                {
                  "key": "3",
                  "name": "BatteryLevel",
                  "type": "int"
                },
                {
                  "key": "4",
                  "name": "Temp",
                  "type": "double"
                },
                {
                  "key": "5",
                  "name": "Temp_UoM",
                  "type": "string"
                },
                {
                  "key": "6",
                  "name": "City",
                  "type": "string"
                }
              ],
              "truncated": false
            },
            "isSummary": false,
            "language": "scala"
          },
          "persist_state": {
            "view": {
              "type": "details",
              "tableOptions": {},
              "chartOptions": {
                "chartType": "bar",
                "aggregationType": "sum",
                "categoryFieldKeys": [
                  "0"
                ],
                "seriesFieldKeys": [
                  "3"
                ],
                "isStacked": false
              }
            }
          }
        }
      }
    }
  }
}