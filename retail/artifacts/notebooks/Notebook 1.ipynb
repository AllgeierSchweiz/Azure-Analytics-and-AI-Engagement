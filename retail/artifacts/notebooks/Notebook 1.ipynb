{
  "cells": [
    {
      "cell_type": "code",
      "execution_count": 1,
      "metadata": {},
      "outputs": [
        {
          "data": {
            "application/vnd.livy.statement-meta+json": {
              "execution_finish_time": null,
              "execution_start_time": null,
              "livy_statement_state": null,
              "queued_time": "2022-01-14T20:44:19.9586018Z",
              "session_id": null,
              "session_start_time": "2022-01-14T20:44:19.9979301Z",
              "spark_pool": null,
              "state": "session_starting",
              "statement_id": null
            },
            "text/plain": [
              "StatementMeta(, , , SessionStarting, )"
            ]
          },
          "metadata": {},
          "output_type": "display_data"
        }
      ],
      "source": [
        "# ∗∗∗∗∗∗∗∗∗∗ Important – Do not use in production, for demonstration purposes only – please review the legal notices before continuing ∗∗∗∗∗\n",
        "\n",
        "%%pyspark\n",
        "df = spark.read.load('abfss://customer-churn-data@#STORAGE_ACCOUNT_NAME#.dfs.core.windows.net/CustomerChurn.csv', format='csv'\n",
        "## If header exists uncomment line below\n",
        "##, header=True\n",
        ")\n",
        "display(df.limit(10))"
      ]
    },
    {
      "cell_type": "code",
      "execution_count": null,
      "metadata": {
        "jupyter": {
          "outputs_hidden": false,
          "source_hidden": false
        },
        "nteract": {
          "transient": {
            "deleting": false
          }
        }
      },
      "outputs": [],
      "source": []
    }
  ],
  "metadata": {
    "description": null,
    "kernelspec": {
      "display_name": "Synapse PySpark",
      "name": "synapse_pyspark"
    },
    "language_info": {
      "name": "python"
    },
    "save_output": true,
    "synapse_widget": {
      "state": {},
      "version": "0.1"
    }
  },
  "nbformat": 4,
  "nbformat_minor": 2
}
