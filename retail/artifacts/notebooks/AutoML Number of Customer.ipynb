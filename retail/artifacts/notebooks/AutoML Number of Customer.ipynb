{
  "cells": [
    {
      "cell_type": "markdown",
      "metadata": {},
      "source": [
        "## *DISCLAIMER*\n",
        "<p style=\"font-size:16px; color:#117d30;\">\n",
        " By accessing this code, you acknowledge the code is made available for presentation and demonstration purposes only and that the code: (1) is not subject to SOC 1 and SOC 2 compliance audits; (2) is not designed or intended to be a substitute for the professional advice, diagnosis, treatment, or judgment of a certified financial services professional; (3) is not designed, intended or made available as a medical device; and (4) is not designed or intended to be a substitute for professional medical advice, diagnosis, treatment or judgement. Do not use this code to replace, substitute, or provide professional financial advice or judgment, or to replace, substitute or provide medical advice, diagnosis, treatment or judgement. You are solely responsible for ensuring the regulatory, legal, and/or contractual compliance of any use of the code, including obtaining any authorizations or consents, and any solution you choose to build that incorporates this code in whole or in part.\n",
        "</p>"
      ]
    },
    {
      "cell_type": "markdown",
      "metadata": {},
      "source": [
        "<p style=\"font-size:25px; color:black;\"><u><i><b>Predicting the number of customers likely to visit different departments in a store</b></i></u></p>\n",
        "<p style=\"font-size:16px; color:#117d30;\">\n",
        "    Time series forecasting is the use of a model to predict future values based on previously observed values.\n",
        "The AutoML feature of AzureSynapse, in this case uses more than 25 time series forecasting machine learning algorithms to predicts how many customers are likely to visit different departments in a store.\n",
        "</p>\n",
        "Note:\n",
        "</p>\n",
        "<p style=\"font-size:15px; color:#117d30;\">\n",
        " This notebook is written in Scala, and there is interoperability between Scala and Python code.\n",
        "</p>\n",
        "\n",
        "<p style=\"font-size:15px; color:#117d30;\">\n",
        "    <u> Abstract: </u>\n",
        "</p>\n",
        "<p style=\"font-size:16px; color:#117d30;\">\n",
        "1) Ingest  data from Azure Synapse Data Storage account using PySpark.\n",
        "</p>\n",
        "<p style=\"font-size:16px; color:#117d30;\">\n",
        "2) Exploratory Data Analysis \n",
        "</p>\n",
        "<p style=\"font-size:15px; color:#117d30;\">\n",
        "3) Training more than 25 time series forecasting machine learning algorithms.\n",
        "</p>\n",
        "<p style=\"font-size:15px; color:#117d30;\">\n",
        "4) Predict the number of customers likely to visit different departments in a store by choosing the best performing Machine Learning Algorithm..\n",
        "</p>\n"
      ]
    },
    {
      "cell_type": "markdown",
      "metadata": {},
      "source": [
        "## Introduction\n",
        "<p style=\"font-size:16px; color:#117d30;\">\n",
        "\n",
        "\n",
        "### In this notebook we showcased how to:\n",
        "<p style=\"font-size:16px; color:#117d30;\">\n",
        "1. Create an experiment using an existing workspace\n",
        "\n",
        "<p style=\"font-size:16px; color:#117d30;\">\n",
        "2. Configure AutoML using 'AutoMLConfig'\n",
        "\n",
        "<p style=\"font-size:16px; color:#117d30;\">\n",
        "3. Train the model \n",
        "\n",
        "<p style=\"font-size:16px; color:#117d30;\">\n",
        "4. Explore the engineered features and results\n",
        "\n",
        "<p style=\"font-size:16px; color:#117d30;\">\n",
        "5. Configuration and remote run of AutoML for a time-series model with lag and rolling window features\n",
        "\n",
        "<p style=\"font-size:16px; color:#117d30;\">\n",
        "6. Run and explore the forecast\n",
        "\n",
        "<p style=\"font-size:16px; color:#117d30;\">\n",
        "7. Register the model\n",
        "\n",
        "\n",
        "\n"
      ]
    },
    {
      "cell_type": "markdown",
      "metadata": {},
      "source": [
        "### Importing required libraries such as azureml, pandas, pandasql, pyspark, and other supporting libraries.\n",
        "\n"
      ]
    },
    {
      "cell_type": "markdown",
      "metadata": {},
      "source": [
        "## Cell title\n"
      ]
    },
    {
      "cell_type": "code",
      "execution_count": 3,
      "metadata": {
        "microsoft": {
          "language": "python"
        }
      },
      "outputs": [],
      "source": [
        "# ∗∗∗∗∗∗∗∗∗∗ Important – Do not use in production, for demonstration purposes only – please review the legal notices before continuing ∗∗∗∗∗\n",
        "\n",
        "%%pyspark\n",
        "from azureml.train.automl import AutoMLConfig\n",
        "# from azureml.widgets import RunDetails\n",
        "from azureml.core.experiment import Experiment\n",
        "from azureml.core.workspace import Workspace\n",
        "from azureml.train.automl.run import AutoMLRun\n",
        "from sklearn.metrics import mean_squared_error\n",
        "from sklearn.model_selection import train_test_split\n",
        "import math\n",
        "from pyspark.sql.window import Window\n",
        "from azureml.core.webservice import AciWebservice\n",
        "from azureml.core.model import InferenceConfig\n",
        "from azureml.core.model import Model\n",
        "from azureml.core.webservice import Webservice\n",
        "from azureml.core.conda_dependencies import CondaDependencies\n",
        "from azureml.core.environment import Environment\n",
        "\n",
        "import pandas as pd \n",
        "import datetime\n",
        "import matplotlib.pyplot as plt\n",
        "import numpy as np \n",
        "import seaborn as sns \n",
        "import azureml.train.automl.runtime\n",
        "import logging\n",
        "import os, tempfile\n",
        "import pandas as pd \n",
        "from pyspark.sql.functions import *\n",
        "from pyspark.sql.types import *\n",
        "from pyspark import SparkContext\n",
        "\n",
        "os.environ['AZURE_SERVICE']=\"Microsoft.ProjectArcadia\""
      ]
    },
    {
      "cell_type": "markdown",
      "metadata": {},
      "source": [
        "## *Connecting to Azure Synapse Data Warehouse*\n",
        "<p style=\"font-size:16px; color:#117d30;\">\n",
        "    Connection to Azure Synapse Data Warehouse is initiated and the required data is ingested for processing.\n",
        "    The warehouse is connected with a single line of code. Just point to actions in a table, click on a new notebook, and then click on \"Load to DataFrame\".  </p>\n",
        "   <p style=\"font-size:16px; color:#117d30;\"> After providing the necessary details,  the required data is loaded in the form of a Spark dataframe.\n",
        "One magical line of code converts a dataframe from Scala to Python!\n",
        "</p>\n"
      ]
    },
    {
      "cell_type": "code",
      "execution_count": 4,
      "metadata": {
        "microsoft": {
          "language": "python"
        }
      },
      "outputs": [
        {
          "data": {
            "text/plain": [
              "+----------+-----------------+-------------------+------+----+----+-------------+------+\n",
              "|      Date|Accessories_count|Entertainment_count|Gaming|Kids|Mens|Phone_and_GPS|Womens|\n",
              "+----------+-----------------+-------------------+------+----+----+-------------+------+\n",
              "|2015-06-08|              309|                 37|    67|  74|  46|           12|    73|\n",
              "|2020-01-26|              367|                 20|    32|  73|  56|           88|    98|\n",
              "|2019-10-21|              419|                 64|    68|  41|  97|           88|    61|\n",
              "|2019-02-04|              481|                 46|    91|  96|  75|           92|    81|\n",
              "|2017-04-16|              162|                 25|    20|  30|  29|           32|    26|\n",
              "|2015-11-30|              283|                 53|    81|  14|  47|           87|     1|\n",
              "|2016-12-02|              280|                 51|    54|  46|  42|           73|    14|\n",
              "|2018-09-29|              295|                 67|    52|  66|   8|           82|    20|\n",
              "|2020-12-15|              256|                 28|     5|  96|  71|           10|    46|\n",
              "|2017-05-16|              336|                 40|    71|  92|  35|            5|    93|\n",
              "+----------+-----------------+-------------------+------+----+----+-------------+------+\n",
              "only showing top 10 rows"
            ]
          },
          "execution_count": 4,
          "metadata": {},
          "output_type": "execute_result"
        }
      ],
      "source": [
        "%%pyspark\n",
        "department_visits = spark.read.load('abfss://customer-churn-data@#STORAGE_ACCOUNT_NAME#.dfs.core.windows.net/department_visit_customers_latest.csv'\n",
        "    ,format='csv'\n",
        "    ,header=True)\n",
        "department_visits.show(10)"
      ]
    },
    {
      "cell_type": "markdown",
      "metadata": {},
      "source": [
        "# Exploratory Data Analysis\n",
        "\n",
        "<p style=\"font-size:16px; color:#117d30;\">\n",
        "The goal of performing exploratory data analysis is to understand the underlying patterns and correlations among features in the data. \n"
      ]
    },
    {
      "cell_type": "code",
      "execution_count": 5,
      "metadata": {
        "microsoft": {
          "language": "python"
        }
      },
      "outputs": [
        {
          "data": {
            "text/plain": [
              "/home/trusted-service-user/cluster-env/env/lib/python3.6/site-packages/pyarrow/util.py:39: FutureWarning: pyarrow.open_stream is deprecated as of 0.17.0, please use pyarrow.ipc.open_stream instead\n",
              "  warnings.warn(msg, FutureWarning)"
            ]
          },
          "execution_count": 5,
          "metadata": {},
          "output_type": "execute_result"
        }
      ],
      "source": [
        "%%pyspark\n",
        "\n",
        "department_visit_data = department_visits.select(\"*\").toPandas()\n",
        "department_visit_data['Date'] = pd.to_datetime(department_visit_data['Date']).dt.strftime('%m/%d/%y')\n",
        "department_visit_data['Month'] = pd.to_datetime(department_visit_data['Date']).dt.strftime('%m')\n",
        "department_visit_data['DayOfMonth'] = pd.to_datetime(department_visit_data['Date']).dt.strftime('%d')\n",
        "department_visit_data['Year'] = pd.to_datetime(department_visit_data['Date']).dt.strftime('%y')\n",
        "department_visit_data['DayOfWeek'] = pd.to_datetime(department_visit_data['Date']).dt.strftime('%a')\n",
        "department_visit_data[['Accessories_count','Entertainment_count','Gaming','Kids','Mens','Phone_and_GPS','Womens']] = \\\n",
        "    department_visit_data[['Accessories_count','Entertainment_count','Gaming','Kids','Mens','Phone_and_GPS','Womens']].apply(pd.to_numeric)\n",
        "\n",
        "#display(department_visit_data)"
      ]
    },
    {
      "cell_type": "markdown",
      "metadata": {},
      "source": [
        "##  Deriving insights from customer visits data  \n",
        "\n",
        "<p style=\"font-size:16px; color:#117d30;\">\n",
        "1. Heat Map: Thickness of the color indicates the no of customers visiting the section on that particular day. It provides a quick representation of distribution of traffic across days and in various departments. From the graph, we can infer that more number of customers visit the Entertainment department on Wednesdays, Thursdays and Fridays and there is less foot traffic on Mondays and Fridays in the Phone_and_gps department.\n"
      ]
    },
    {
      "cell_type": "code",
      "execution_count": 6,
      "metadata": {},
      "outputs": [
        {
          "data": {
            "text/plain": [
              "Accessories_count  Entertainment_count   ...    Phone_and_GPS  Womens\n",
              "DayOfWeek                                           ...                         \n",
              "Fri                  1712790               293214   ...           290116  280354\n",
              "Mon                  1666042               281208   ...           278190  274172\n",
              "Sat                  1692044               285128   ...           286570  280190\n",
              "Sun                  1620544               264874   ...           271028  270102\n",
              "Thu                  1693190               282844   ...           278942  283104\n",
              "Tue                  1709668               283106   ...           280766  288812\n",
              "Wed                  1777856               292008   ...           294800  296440\n",
              "\n",
              "[7 rows x 7 columns]"
            ]
          },
          "execution_count": 6,
          "metadata": {},
          "output_type": "execute_result"
        }
      ],
      "source": [
        "df_dow = department_visit_data.groupby('DayOfWeek').sum().sort_values(by = 'DayOfWeek', \n",
        "                                                                 ascending=True)\n",
        "df_dow.head(100)"
      ]
    },
    {
      "cell_type": "code",
      "execution_count": 7,
      "metadata": {},
      "outputs": [
        {
          "data": {
            "image/png": "[encoded data removed]"
          },
          "execution_count": 7,
          "metadata": {},
          "output_type": "execute_result"
        }
      ],
      "source": [
        "sns.set()\n",
        "plt.rcParams['font.size'] = 12\n",
        "bg_color = (0.88,0.85,0.95)\n",
        "plt.rcParams['figure.facecolor'] = bg_color\n",
        "plt.rcParams['axes.facecolor'] = bg_color\n",
        "fig, ax = plt.subplots(1)\n",
        "cmap = sns.diverging_palette(10, 150, n=2, as_cmap=True)\n",
        "#cmap = sns.color_palette(\"hls\", 150)\n",
        "\n",
        "p = sns.heatmap(df_dow,\n",
        "                cmap=cmap,\n",
        "                annot=True,\n",
        "                fmt=\"d\",\n",
        "                annot_kws={'size':8},\n",
        "                ax=ax)\n",
        "plt.xlabel('Category')\n",
        "plt.ylabel('Day Of Week')\n",
        "ax.set_ylim((0,7))\n",
        "plt.text(5,7.4, \"Heat Map\", fontsize = 25, color='Black', fontstyle='italic')\n",
        " \n",
        "plt.show()"
      ]
    },
    {
      "cell_type": "markdown",
      "metadata": {},
      "source": [
        "# Data Manipulation  \n",
        "<p style=\"font-size:16px; color:#117d30;\">\n",
        "1. Converting date to a specific format and making date fields relevant for prediction.\n",
        "\n",
        "<p style=\"font-size:16px; color:#117d30;\">\n",
        "2. Converting the data type of the columns to numeric before being passed as input to the model.\n"
      ]
    },
    {
      "cell_type": "code",
      "execution_count": 10,
      "metadata": {
        "microsoft": {
          "language": "python"
        }
      },
      "outputs": [
        {
          "data": {
            "text/plain": [
              "<bound method DataFrame.count of             Date  Accessories_count   ...    Phone_and_GPS  Womens\n",
              "0     2014-12-31                812   ...              176     152\n",
              "1     2015-01-01               3498   ...              492     384\n",
              "2     2015-01-02               6742   ...             1772     952\n",
              "3     2015-01-03               6508   ...              908    1424\n",
              "4     2015-01-04               7248   ...             1582    1260\n",
              "5     2015-01-05               2330   ...              404     374\n",
              "6     2015-01-06               4774   ...              624     676\n",
              "7     2015-01-07               4960   ...              628     834\n",
              "8     2015-01-08               5054   ...             1040     860\n",
              "9     2015-01-09               7292   ...             1312    1154\n",
              "10    2015-01-10               4090   ...              812     356\n",
              "11    2015-01-11               7388   ...              838    1160\n",
              "12    2015-01-12               7078   ...             1208    1006\n",
              "13    2015-01-13               6344   ...             1258     960\n",
              "14    2015-01-14               8678   ...              966    1760\n",
              "15    2015-01-15               4856   ...              804     882\n",
              "16    2015-01-16               7476   ...             1148     842\n",
              "17    2015-01-17               8282   ...             1390    1068\n",
              "18    2015-01-18               8458   ...             1422    1188\n",
              "19    2015-01-19                614   ...               78     100\n",
              "20    2015-01-20               7244   ...              918    1610\n",
              "21    2015-01-21               8660   ...             1536    1222\n",
              "22    2015-01-22               4564   ...              746     936\n",
              "23    2015-01-23               9626   ...             1494    1394\n",
              "24    2015-01-24               4440   ...              734     542\n",
              "25    2015-01-25               4000   ...              706     596\n",
              "26    2015-01-26               3354   ...              614     494\n",
              "27    2015-01-27               3016   ...              360     718\n",
              "28    2015-01-28               7020   ...             1092    1426\n",
              "29    2015-01-29               7990   ...             1302    1286\n",
              "...          ...                ...   ...              ...     ...\n",
              "2163  2020-12-02               5832   ...              772    1194\n",
              "2164  2020-12-03               6266   ...             1048     916\n",
              "2165  2020-12-04               7484   ...             1320     980\n",
              "2166  2020-12-05               5814   ...             1208     698\n",
              "2167  2020-12-06               5280   ...             1044     846\n",
              "2168  2020-12-07               6704   ...              942     918\n",
              "2169  2020-12-08               4410   ...              792     590\n",
              "2170  2020-12-09               5148   ...             1020     642\n",
              "2171  2020-12-10               3334   ...              356     682\n",
              "2172  2020-12-11               2806   ...              492     418\n",
              "2173  2020-12-12               4740   ...              970     714\n",
              "2174  2020-12-13               6096   ...             1166     934\n",
              "2175  2020-12-14               3896   ...              392     626\n",
              "2176  2020-12-15               4746   ...              582     900\n",
              "2177  2020-12-16               6006   ...             1002    1290\n",
              "2178  2020-12-17               5062   ...              866     710\n",
              "2179  2020-12-18               5548   ...             1066     764\n",
              "2180  2020-12-19               4896   ...              576     770\n",
              "2181  2020-12-20               3146   ...              282     744\n",
              "2182  2020-12-21               3364   ...              744     308\n",
              "2183  2020-12-22               3184   ...              448     630\n",
              "2184  2020-12-23               2230   ...              504     358\n",
              "2185  2020-12-24               9236   ...             1446    1488\n",
              "2186  2020-12-25               5952   ...              938     930\n",
              "2187  2020-12-26               6566   ...             1334     978\n",
              "2188  2020-12-27               5782   ...              808     952\n",
              "2189  2020-12-28               7810   ...             1278    1188\n",
              "2190  2020-12-29               3846   ...              746     604\n",
              "2191  2020-12-30               3232   ...              464     712\n",
              "2192  2020-12-31               1308   ...              224     262\n",
              "\n",
              "[2193 rows x 8 columns]>\n",
              "/home/trusted-service-user/cluster-env/env/lib/python3.6/site-packages/pyarrow/util.py:39: FutureWarning: pyarrow.open_stream is deprecated as of 0.17.0, please use pyarrow.ipc.open_stream instead\n",
              "  warnings.warn(msg, FutureWarning)"
            ]
          },
          "execution_count": 10,
          "metadata": {},
          "output_type": "execute_result"
        }
      ],
      "source": [
        "%%pyspark\n",
        "department_visit_data = department_visits.select(\"*\").toPandas()\n",
        "department_visit_data['Date'] = pd.to_datetime(department_visit_data['Date']).dt.strftime('%Y-%m-%d')\n",
        "\n",
        "department_visit_data[['Accessories_count','Entertainment_count','Gaming','Kids','Mens','Phone_and_GPS','Womens']] = \\\n",
        "    department_visit_data[['Accessories_count','Entertainment_count','Gaming','Kids','Mens','Phone_and_GPS','Womens']].apply(pd.to_numeric)\n",
        "\n",
        "grouped_data = department_visit_data.groupby('Date', as_index=False).sum()\n",
        "\n",
        "\n",
        "total_rows = grouped_data.count\n",
        "print(total_rows)"
      ]
    },
    {
      "cell_type": "code",
      "execution_count": 11,
      "metadata": {
        "microsoft": {
          "language": "python"
        }
      },
      "outputs": [
        {
          "data": {
            "text/plain": [
              "Date  Visits   Department\n",
              "0     2014-12-31     812  Accessories\n",
              "1     2015-01-01    3498  Accessories\n",
              "2     2015-01-02    6742  Accessories\n",
              "3     2015-01-03    6508  Accessories\n",
              "4     2015-01-04    7248  Accessories\n",
              "5     2015-01-05    2330  Accessories\n",
              "6     2015-01-06    4774  Accessories\n",
              "7     2015-01-07    4960  Accessories\n",
              "8     2015-01-08    5054  Accessories\n",
              "9     2015-01-09    7292  Accessories\n",
              "10    2015-01-10    4090  Accessories\n",
              "11    2015-01-11    7388  Accessories\n",
              "12    2015-01-12    7078  Accessories\n",
              "13    2015-01-13    6344  Accessories\n",
              "14    2015-01-14    8678  Accessories\n",
              "15    2015-01-15    4856  Accessories\n",
              "16    2015-01-16    7476  Accessories\n",
              "17    2015-01-17    8282  Accessories\n",
              "18    2015-01-18    8458  Accessories\n",
              "19    2015-01-19     614  Accessories\n",
              "20    2015-01-20    7244  Accessories\n",
              "21    2015-01-21    8660  Accessories\n",
              "22    2015-01-22    4564  Accessories\n",
              "23    2015-01-23    9626  Accessories\n",
              "24    2015-01-24    4440  Accessories\n",
              "25    2015-01-25    4000  Accessories\n",
              "26    2015-01-26    3354  Accessories\n",
              "27    2015-01-27    3016  Accessories\n",
              "28    2015-01-28    7020  Accessories\n",
              "29    2015-01-29    7990  Accessories\n",
              "...          ...     ...          ...\n",
              "2163  2020-12-02    1194       Womens\n",
              "2164  2020-12-03     916       Womens\n",
              "2165  2020-12-04     980       Womens\n",
              "2166  2020-12-05     698       Womens\n",
              "2167  2020-12-06     846       Womens\n",
              "2168  2020-12-07     918       Womens\n",
              "2169  2020-12-08     590       Womens\n",
              "2170  2020-12-09     642       Womens\n",
              "2171  2020-12-10     682       Womens\n",
              "2172  2020-12-11     418       Womens\n",
              "2173  2020-12-12     714       Womens\n",
              "2174  2020-12-13     934       Womens\n",
              "2175  2020-12-14     626       Womens\n",
              "2176  2020-12-15     900       Womens\n",
              "2177  2020-12-16    1290       Womens\n",
              "2178  2020-12-17     710       Womens\n",
              "2179  2020-12-18     764       Womens\n",
              "2180  2020-12-19     770       Womens\n",
              "2181  2020-12-20     744       Womens\n",
              "2182  2020-12-21     308       Womens\n",
              "2183  2020-12-22     630       Womens\n",
              "2184  2020-12-23     358       Womens\n",
              "2185  2020-12-24    1488       Womens\n",
              "2186  2020-12-25     930       Womens\n",
              "2187  2020-12-26     978       Womens\n",
              "2188  2020-12-27     952       Womens\n",
              "2189  2020-12-28    1188       Womens\n",
              "2190  2020-12-29     604       Womens\n",
              "2191  2020-12-30     712       Womens\n",
              "2192  2020-12-31     262       Womens\n",
              "\n",
              "[15351 rows x 3 columns]\n",
              "/mnt/var/hadoop/tmp/nm-local-dir/usercache/trusted-service-user/appcache/application_1593198336106_0004/container_1593198336106_0004_01_000001/tmp/2394862134886348493:9: SettingWithCopyWarning: \n",
              "A value is trying to be set on a copy of a slice from a DataFrame.\n",
              "Try using .loc[row_indexer,col_indexer] = value instead\n",
              "\n",
              "See the caveats in the documentation: http://pandas.pydata.org/pandas-docs/stable/indexing.html#indexing-view-versus-copy\n",
              "  #    http://www.apache.org/licenses/LICENSE-2.0\n",
              "/mnt/var/hadoop/tmp/nm-local-dir/usercache/trusted-service-user/appcache/application_1593198336106_0004/container_1593198336106_0004_01_000001/tmp/2394862134886348493:10: SettingWithCopyWarning: \n",
              "A value is trying to be set on a copy of a slice from a DataFrame.\n",
              "Try using .loc[row_indexer,col_indexer] = value instead\n",
              "\n",
              "See the caveats in the documentation: http://pandas.pydata.org/pandas-docs/stable/indexing.html#indexing-view-versus-copy\n",
              "  #\n",
              "/mnt/var/hadoop/tmp/nm-local-dir/usercache/trusted-service-user/appcache/application_1593198336106_0004/container_1593198336106_0004_01_000001/tmp/2394862134886348493:11: SettingWithCopyWarning: \n",
              "A value is trying to be set on a copy of a slice from a DataFrame.\n",
              "Try using .loc[row_indexer,col_indexer] = value instead\n",
              "\n",
              "See the caveats in the documentation: http://pandas.pydata.org/pandas-docs/stable/indexing.html#indexing-view-versus-copy\n",
              "  # Unless required by applicable law or agreed to in writing, software\n",
              "/mnt/var/hadoop/tmp/nm-local-dir/usercache/trusted-service-user/appcache/application_1593198336106_0004/container_1593198336106_0004_01_000001/tmp/2394862134886348493:12: SettingWithCopyWarning: \n",
              "A value is trying to be set on a copy of a slice from a DataFrame.\n",
              "Try using .loc[row_indexer,col_indexer] = value instead\n",
              "\n",
              "See the caveats in the documentation: http://pandas.pydata.org/pandas-docs/stable/indexing.html#indexing-view-versus-copy\n",
              "  # distributed under the License is distributed on an \"AS IS\" BASIS,\n",
              "/mnt/var/hadoop/tmp/nm-local-dir/usercache/trusted-service-user/appcache/application_1593198336106_0004/container_1593198336106_0004_01_000001/tmp/2394862134886348493:13: SettingWithCopyWarning: \n",
              "A value is trying to be set on a copy of a slice from a DataFrame.\n",
              "Try using .loc[row_indexer,col_indexer] = value instead\n",
              "\n",
              "See the caveats in the documentation: http://pandas.pydata.org/pandas-docs/stable/indexing.html#indexing-view-versus-copy\n",
              "  # WITHOUT WARRANTIES OR CONDITIONS OF ANY KIND, either express or implied.\n",
              "/mnt/var/hadoop/tmp/nm-local-dir/usercache/trusted-service-user/appcache/application_1593198336106_0004/container_1593198336106_0004_01_000001/tmp/2394862134886348493:14: SettingWithCopyWarning: \n",
              "A value is trying to be set on a copy of a slice from a DataFrame.\n",
              "Try using .loc[row_indexer,col_indexer] = value instead\n",
              "\n",
              "See the caveats in the documentation: http://pandas.pydata.org/pandas-docs/stable/indexing.html#indexing-view-versus-copy\n",
              "  # See the License for the specific language governing permissions and\n",
              "/mnt/var/hadoop/tmp/nm-local-dir/usercache/trusted-service-user/appcache/application_1593198336106_0004/container_1593198336106_0004_01_000001/tmp/2394862134886348493:15: SettingWithCopyWarning: \n",
              "A value is trying to be set on a copy of a slice from a DataFrame.\n",
              "Try using .loc[row_indexer,col_indexer] = value instead\n",
              "\n",
              "See the caveats in the documentation: http://pandas.pydata.org/pandas-docs/stable/indexing.html#indexing-view-versus-copy\n",
              "  # limitations under the License."
            ]
          },
          "execution_count": 11,
          "metadata": {},
          "output_type": "execute_result"
        }
      ],
      "source": [
        "%%pyspark\n",
        "accessories_data = grouped_data[['Date','Accessories_count']]\n",
        "entertainment_data = grouped_data[['Date','Entertainment_count']]\n",
        "gaming_data = grouped_data[['Date','Gaming']]\n",
        "kids_data = grouped_data[['Date','Kids']]\n",
        "mens_data = grouped_data[['Date','Mens']]\n",
        "phone_and_GPS_data = grouped_data[['Date','Phone_and_GPS']]\n",
        "womens_data = grouped_data[['Date','Womens']]\n",
        "\n",
        "accessories_data['Department']='Accessories'\n",
        "entertainment_data['Department']='Entertainment'\n",
        "gaming_data['Department']='Gaming'\n",
        "kids_data['Department']='Kids'\n",
        "mens_data['Department']='Mens'\n",
        "phone_and_GPS_data['Department']='Phone_and_GPS'\n",
        "womens_data['Department']='Womens'\n",
        "\n",
        "accessories_data= accessories_data.rename(columns={'Accessories_count': 'Visits'})\n",
        "entertainment_data= entertainment_data.rename(columns={ 'Entertainment_count':'Visits'})\n",
        "gaming_data = gaming_data.rename(columns={'Gaming': 'Visits'})\n",
        "kids_data = kids_data.rename(columns={'Kids': 'Visits'})\n",
        "mens_data = mens_data.rename(columns={'Mens': 'Visits'})\n",
        "phone_and_GPS_data = phone_and_GPS_data.rename(columns={'Phone_and_GPS': 'Visits'})\n",
        "womens_data = womens_data.rename(columns={'Womens': 'Visits'})\n",
        "df_customervisits = accessories_data.append( entertainment_data).append(gaming_data).append(kids_data).append(mens_data).append(phone_and_GPS_data).append(womens_data)\n",
        "\n",
        "df_customervisits"
      ]
    },
    {
      "cell_type": "code",
      "execution_count": 12,
      "metadata": {
        "microsoft": {
          "language": "python"
        }
      },
      "outputs": [
        {
          "data": {
            "text/plain": [
              "<bound method DataFrame.count of             Date  Visits   Department\n",
              "0     2014-12-31     812  Accessories\n",
              "1     2015-01-01    3498  Accessories\n",
              "2     2015-01-02    6742  Accessories\n",
              "3     2015-01-03    6508  Accessories\n",
              "4     2015-01-04    7248  Accessories\n",
              "5     2015-01-05    2330  Accessories\n",
              "6     2015-01-06    4774  Accessories\n",
              "7     2015-01-07    4960  Accessories\n",
              "8     2015-01-08    5054  Accessories\n",
              "9     2015-01-09    7292  Accessories\n",
              "10    2015-01-10    4090  Accessories\n",
              "11    2015-01-11    7388  Accessories\n",
              "12    2015-01-12    7078  Accessories\n",
              "13    2015-01-13    6344  Accessories\n",
              "14    2015-01-14    8678  Accessories\n",
              "15    2015-01-15    4856  Accessories\n",
              "16    2015-01-16    7476  Accessories\n",
              "17    2015-01-17    8282  Accessories\n",
              "18    2015-01-18    8458  Accessories\n",
              "19    2015-01-19     614  Accessories\n",
              "20    2015-01-20    7244  Accessories\n",
              "21    2015-01-21    8660  Accessories\n",
              "22    2015-01-22    4564  Accessories\n",
              "23    2015-01-23    9626  Accessories\n",
              "24    2015-01-24    4440  Accessories\n",
              "25    2015-01-25    4000  Accessories\n",
              "26    2015-01-26    3354  Accessories\n",
              "27    2015-01-27    3016  Accessories\n",
              "28    2015-01-28    7020  Accessories\n",
              "29    2015-01-29    7990  Accessories\n",
              "...          ...     ...          ...\n",
              "2163  2020-12-02    1194       Womens\n",
              "2164  2020-12-03     916       Womens\n",
              "2165  2020-12-04     980       Womens\n",
              "2166  2020-12-05     698       Womens\n",
              "2167  2020-12-06     846       Womens\n",
              "2168  2020-12-07     918       Womens\n",
              "2169  2020-12-08     590       Womens\n",
              "2170  2020-12-09     642       Womens\n",
              "2171  2020-12-10     682       Womens\n",
              "2172  2020-12-11     418       Womens\n",
              "2173  2020-12-12     714       Womens\n",
              "2174  2020-12-13     934       Womens\n",
              "2175  2020-12-14     626       Womens\n",
              "2176  2020-12-15     900       Womens\n",
              "2177  2020-12-16    1290       Womens\n",
              "2178  2020-12-17     710       Womens\n",
              "2179  2020-12-18     764       Womens\n",
              "2180  2020-12-19     770       Womens\n",
              "2181  2020-12-20     744       Womens\n",
              "2182  2020-12-21     308       Womens\n",
              "2183  2020-12-22     630       Womens\n",
              "2184  2020-12-23     358       Womens\n",
              "2185  2020-12-24    1488       Womens\n",
              "2186  2020-12-25     930       Womens\n",
              "2187  2020-12-26     978       Womens\n",
              "2188  2020-12-27     952       Womens\n",
              "2189  2020-12-28    1188       Womens\n",
              "2190  2020-12-29     604       Womens\n",
              "2191  2020-12-30     712       Womens\n",
              "2192  2020-12-31     262       Womens\n",
              "\n",
              "[15351 rows x 3 columns]>"
            ]
          },
          "execution_count": 12,
          "metadata": {},
          "output_type": "execute_result"
        }
      ],
      "source": [
        "%%pyspark\n",
        "total_rows = df_customervisits.count\n",
        "print(total_rows)"
      ]
    },
    {
      "cell_type": "markdown",
      "metadata": {},
      "source": [
        "## Train\n",
        "\n",
        "<p style=\"font-size:16px; color:#117d30;\">\n",
        "1. Instantiate an AutoMLConfig object. \n",
        "<p style=\"font-size:16px; color:#117d30;\">\n",
        "2. The configuration below defines the settings and data used to run the experiment. \n"
      ]
    },
    {
      "cell_type": "markdown",
      "metadata": {},
      "source": [
        "## Set AutoML Configuration Parameters\n",
        "\n",
        "<p style=\"font-size:16px; color:#117d30;\">\n",
        "    The forecast horizon is the number of periods into the future that the model should predict. \n",
        "\n",
        "<p style=\"font-size:16px; color:#117d30;\">\n",
        "    It is generally recommended that users set forecast horizons to less than 100 time periods\n",
        "\n",
        "<p style=\"font-size:16px; color:#117d30;\">\n",
        "    Furthermore, AutoML's memory use and computation time increases in proportion to the length of the horizon, so consider carefully how this value is set. \n",
        "\n",
        "<p style=\"font-size:16px; color:#117d30;\">\n",
        "    If a long horizon forecast really is necessary, consider aggregating the series to a coarser time scale.\n"
      ]
    },
    {
      "cell_type": "code",
      "execution_count": 13,
      "metadata": {
        "microsoft": {
          "language": "python"
        }
      },
      "outputs": [],
      "source": [
        "%%pyspark\n",
        "automl_settings = {\n",
        "   'time_column_name':'Date',\n",
        "   'grain_column_names': ['Department'],\n",
        "   'max_horizon': 25\n",
        "}"
      ]
    },
    {
      "cell_type": "code",
      "execution_count": 17,
      "metadata": {
        "microsoft": {
          "language": "python"
        }
      },
      "outputs": [],
      "source": [
        "%%pyspark\n",
        "automl_config = AutoMLConfig( \n",
        "                            #forecasting for time-series tasks\n",
        "                            task='forecasting',\n",
        "                            #measuere for evaluating the performance of the models\n",
        "                            primary_metric='normalized_root_mean_squared_error',\n",
        "                            #Maximum amount of time in minutes that the experiment take before it terminates.\n",
        "                            experiment_timeout_minutes=15,\n",
        "                            enable_early_stopping=True,\n",
        "                            training_data=df_customervisits,#train_data,\n",
        "                            label_column_name='Visits',\n",
        "                            #Rolling Origin Validation is used to split time-series in a temporally consistent way.\n",
        "                            n_cross_validations=4,\n",
        "                            # Flag to enble early termination if the score is not improving in the short term.\n",
        "                            enable_ensembling=False,\n",
        "                            verbosity=logging.INFO,\n",
        "                            **automl_settings)"
      ]
    },
    {
      "cell_type": "code",
      "execution_count": 18,
      "metadata": {
        "microsoft": {
          "language": "python"
        }
      },
      "outputs": [],
      "source": [
        "%%pyspark\n",
        "subscription_id='#SUBSCRIPTION_ID#'\n",
        "resource_group='#RESOURCE_GROUP_NAME#'\n",
        "workspace_name='#AML_WORKSPACE_NAME#'\n",
        "ws = Workspace(subscription_id = subscription_id, resource_group = resource_group, workspace_name = workspace_name)\n",
        "ws.write_config()\n",
        "ws = Workspace.from_config()\n",
        "experiment = Experiment(ws, \"Department_Visit_Count_V3\")"
      ]
    },
    {
      "cell_type": "markdown",
      "metadata": {},
      "source": [
        "## Run The Experiment\n",
        "<p style=\"font-size:16px; color:#117d30;\">\n",
        "Automated ML runs more than 25 Machine Learning Algorithms and grades them according to performance.\n"
      ]
    },
    {
      "cell_type": "code",
      "execution_count": 48,
      "metadata": {
        "microsoft": {
          "language": "python"
        }
      },
      "outputs": [
        {
          "data": {
            "text/plain": [
              "ForecastingPipelineWrapper(pipeline=Pipeline(memory=None,\n",
              "     steps=[('timeseriestransformer', TimeSeriesTransformer(featurization_config=None, logger=None,\n",
              "           pipeline_type=<TimeSeriesPipelineType.FULL: 1>)), ('MaxAbsScaler', MaxAbsScaler(copy=True)), ('DecisionTreeRegressor', DecisionTreeRegressor(criterion='friedman_mse', max_depth=None,\n",
              "           ...       min_weight_fraction_leaf=0.0, presort=False, random_state=None,\n",
              "           splitter='best'))]),\n",
              "              stddev=None)"
            ]
          },
          "execution_count": 48,
          "metadata": {},
          "output_type": "execute_result"
        }
      ],
      "source": [
        "%%pyspark\n",
        "model_name = \"Department-Visits-Forecast-Model\"\n",
        "description = \"Forecasting Machine Learning model to predict department visits\"\n",
        "tags = {'WWI': 'DepartmentVisitsPredictions'}\n",
        "\n",
        "\n",
        "matching_models = Model.list(ws, model_name, latest=True)\n",
        "if len(matching_models) > 0:\n",
        "    run = AutoMLRun(experiment, matching_models[0].run_id)\n",
        "    automl_run = AutoMLRun(experiment, run.parent.id)\n",
        "    best_run, fitted_model = automl_run.get_output()\n",
        "else:\n",
        "    local_run = experiment.submit(automl_config, show_output=True)\n",
        "    best_run, fitted_model = local_run.get_output()\n",
        "    model = local_run.register_model(model_name=model_name, description = description, tags = tags)\n",
        "\n",
        "fitted_model"
      ]
    },
    {
      "cell_type": "code",
      "execution_count": 49,
      "metadata": {
        "microsoft": {
          "language": "python"
        }
      },
      "outputs": [
        {
          "data": {
            "text/plain": [
              "Date     Department\n",
              "0   2021-01-01         Womens\n",
              "1   2021-01-02         Womens\n",
              "2   2021-01-03         Womens\n",
              "3   2021-01-04         Womens\n",
              "4   2021-01-05         Womens\n",
              "5   2021-01-06         Womens\n",
              "6   2021-01-07         Womens\n",
              "7   2021-01-08         Womens\n",
              "8   2021-01-09         Womens\n",
              "9   2021-01-10         Womens\n",
              "10  2021-01-11         Womens\n",
              "11  2021-01-12         Womens\n",
              "12  2021-01-13         Womens\n",
              "13  2021-01-14         Womens\n",
              "14  2021-01-15         Womens\n",
              "15  2021-01-16         Womens\n",
              "16  2021-01-17         Womens\n",
              "17  2021-01-18         Womens\n",
              "18  2021-01-19         Womens\n",
              "19  2021-01-20         Womens\n",
              "20  2021-01-01           Mens\n",
              "21  2021-01-02           Mens\n",
              "22  2021-01-03           Mens\n",
              "23  2021-01-04           Mens\n",
              "24  2021-01-05           Mens\n",
              "25  2021-01-06           Mens\n",
              "26  2021-01-07           Mens\n",
              "27  2021-01-08           Mens\n",
              "28  2021-01-09           Mens\n",
              "29  2021-01-10           Mens\n",
              "..         ...            ...\n",
              "110 2021-01-11    Accessories\n",
              "111 2021-01-12    Accessories\n",
              "112 2021-01-13    Accessories\n",
              "113 2021-01-14    Accessories\n",
              "114 2021-01-15    Accessories\n",
              "115 2021-01-16    Accessories\n",
              "116 2021-01-17    Accessories\n",
              "117 2021-01-18    Accessories\n",
              "118 2021-01-19    Accessories\n",
              "119 2021-01-20    Accessories\n",
              "120 2021-01-01  Phone_and_GPS\n",
              "121 2021-01-02  Phone_and_GPS\n",
              "122 2021-01-03  Phone_and_GPS\n",
              "123 2021-01-04  Phone_and_GPS\n",
              "124 2021-01-05  Phone_and_GPS\n",
              "125 2021-01-06  Phone_and_GPS\n",
              "126 2021-01-07  Phone_and_GPS\n",
              "127 2021-01-08  Phone_and_GPS\n",
              "128 2021-01-09  Phone_and_GPS\n",
              "129 2021-01-10  Phone_and_GPS\n",
              "130 2021-01-11  Phone_and_GPS\n",
              "131 2021-01-12  Phone_and_GPS\n",
              "132 2021-01-13  Phone_and_GPS\n",
              "133 2021-01-14  Phone_and_GPS\n",
              "134 2021-01-15  Phone_and_GPS\n",
              "135 2021-01-16  Phone_and_GPS\n",
              "136 2021-01-17  Phone_and_GPS\n",
              "137 2021-01-18  Phone_and_GPS\n",
              "138 2021-01-19  Phone_and_GPS\n",
              "139 2021-01-20  Phone_and_GPS\n",
              "\n",
              "[140 rows x 2 columns]"
            ]
          },
          "execution_count": 49,
          "metadata": {},
          "output_type": "execute_result"
        }
      ],
      "source": [
        "%%pyspark\n",
        "#future_date =  pd.date_range(start='2015-12-1', end='2015-12-5')\n",
        "#future_data = pd.DataFrame({'Date':future_date, 'Department':'Accessories', 'Visits':0})\n",
        "\n",
        "future_date =  pd.date_range(start='2021-01-01', end='2021-01-20').values\n",
        "future_data = pd.DataFrame({'Date':future_date, 'Department':'Womens'})\n",
        "future_data = future_data.append(pd.DataFrame({'Date':future_date, 'Department':'Mens'}), ignore_index=True)\n",
        "future_data = future_data.append(pd.DataFrame({'Date':future_date, 'Department':'Entertainment'}), ignore_index=True)\n",
        "future_data = future_data.append(pd.DataFrame({'Date':future_date, 'Department':'Gaming'}), ignore_index=True)\n",
        "future_data = future_data.append(pd.DataFrame({'Date':future_date, 'Department':'Kids'}), ignore_index=True)\n",
        "future_data = future_data.append(pd.DataFrame({'Date':future_date, 'Department':'Accessories'}), ignore_index=True)\n",
        "future_data = future_data.append(pd.DataFrame({'Date':future_date, 'Department':'Phone_and_GPS'}), ignore_index=True)\n",
        "\n",
        "future_data"
      ]
    },
    {
      "cell_type": "markdown",
      "metadata": {},
      "source": [
        "## Making future prediction using model that performs best\n"
      ]
    },
    {
      "cell_type": "code",
      "execution_count": 50,
      "metadata": {},
      "outputs": [
        {
          "data": {
            "text/plain": [
              "Date     Department         ...          week  _automl_target_col\n",
              "0   2021-01-01         Womens         ...            53              998.56\n",
              "1   2021-01-02         Womens         ...            53              998.56\n",
              "2   2021-01-03         Womens         ...            53              874.25\n",
              "3   2021-01-04         Womens         ...             1              879.06\n",
              "4   2021-01-05         Womens         ...             1              879.06\n",
              "5   2021-01-06         Womens         ...             1              879.06\n",
              "6   2021-01-07         Womens         ...             1              755.59\n",
              "7   2021-01-08         Womens         ...             1              755.59\n",
              "8   2021-01-09         Womens         ...             1              755.59\n",
              "9   2021-01-10         Womens         ...             1              897.12\n",
              "10  2021-01-11         Womens         ...             2              879.06\n",
              "11  2021-01-12         Womens         ...             2              879.06\n",
              "12  2021-01-13         Womens         ...             2              879.06\n",
              "13  2021-01-14         Womens         ...             2              755.59\n",
              "14  2021-01-15         Womens         ...             2              755.59\n",
              "15  2021-01-16         Womens         ...             2              984.76\n",
              "16  2021-01-17         Womens         ...             2              897.12\n",
              "17  2021-01-18         Womens         ...             3              984.76\n",
              "18  2021-01-19         Womens         ...             3              984.76\n",
              "19  2021-01-20         Womens         ...             3             1068.08\n",
              "20  2021-01-01           Mens         ...            53              998.56\n",
              "21  2021-01-02           Mens         ...            53              998.56\n",
              "22  2021-01-03           Mens         ...            53              874.25\n",
              "23  2021-01-04           Mens         ...             1              879.06\n",
              "24  2021-01-05           Mens         ...             1              879.06\n",
              "25  2021-01-06           Mens         ...             1              879.06\n",
              "26  2021-01-07           Mens         ...             1              755.59\n",
              "27  2021-01-08           Mens         ...             1              755.59\n",
              "28  2021-01-09           Mens         ...             1              755.59\n",
              "29  2021-01-10           Mens         ...             1              897.12\n",
              "..         ...            ...         ...           ...                 ...\n",
              "110 2021-01-11    Accessories         ...             2             5179.76\n",
              "111 2021-01-12    Accessories         ...             2             5179.76\n",
              "112 2021-01-13    Accessories         ...             2             5179.76\n",
              "113 2021-01-14    Accessories         ...             2             5179.76\n",
              "114 2021-01-15    Accessories         ...             2             5179.76\n",
              "115 2021-01-16    Accessories         ...             2             5179.76\n",
              "116 2021-01-17    Accessories         ...             2             5177.46\n",
              "117 2021-01-18    Accessories         ...             3             5179.76\n",
              "118 2021-01-19    Accessories         ...             3             5179.76\n",
              "119 2021-01-20    Accessories         ...             3             5179.76\n",
              "120 2021-01-01  Phone_and_GPS         ...            53              998.56\n",
              "121 2021-01-02  Phone_and_GPS         ...            53              998.56\n",
              "122 2021-01-03  Phone_and_GPS         ...            53              874.25\n",
              "123 2021-01-04  Phone_and_GPS         ...             1              879.06\n",
              "124 2021-01-05  Phone_and_GPS         ...             1              879.06\n",
              "125 2021-01-06  Phone_and_GPS         ...             1              879.06\n",
              "126 2021-01-07  Phone_and_GPS         ...             1              755.59\n",
              "127 2021-01-08  Phone_and_GPS         ...             1              755.59\n",
              "128 2021-01-09  Phone_and_GPS         ...             1              755.59\n",
              "129 2021-01-10  Phone_and_GPS         ...             1              897.12\n",
              "130 2021-01-11  Phone_and_GPS         ...             2              879.06\n",
              "131 2021-01-12  Phone_and_GPS         ...             2              879.06\n",
              "132 2021-01-13  Phone_and_GPS         ...             2              879.06\n",
              "133 2021-01-14  Phone_and_GPS         ...             2              755.59\n",
              "134 2021-01-15  Phone_and_GPS         ...             2              755.59\n",
              "135 2021-01-16  Phone_and_GPS         ...             2              984.76\n",
              "136 2021-01-17  Phone_and_GPS         ...             2              897.12\n",
              "137 2021-01-18  Phone_and_GPS         ...             3              984.76\n",
              "138 2021-01-19  Phone_and_GPS         ...             3              984.76\n",
              "139 2021-01-20  Phone_and_GPS         ...             3             1068.08\n",
              "\n",
              "[140 rows x 12 columns]"
            ]
          },
          "execution_count": 50,
          "metadata": {},
          "output_type": "execute_result"
        }
      ],
      "source": [
        "y_predictions, X_trans = fitted_model.forecast(future_data)\n",
        "X_trans.reset_index(inplace=True)\n",
        "X_trans"
      ]
    },
    {
      "cell_type": "code",
      "execution_count": 58,
      "metadata": {
        "microsoft": {
          "language": "python"
        }
      },
      "outputs": [
        {
          "data": {
            "text/plain": [
              "Department       Date  Accessories   ...    Phone_and_GPS  Womens\n",
              "0          2021-01-01         5378   ...              998     998\n",
              "1          2021-01-02         5378   ...              998     998\n",
              "2          2021-01-03         5177   ...              874     874\n",
              "3          2021-01-04         5179   ...              879     879\n",
              "4          2021-01-05         5179   ...              879     879\n",
              "5          2021-01-06         5179   ...              879     879\n",
              "6          2021-01-07         5179   ...              755     755\n",
              "7          2021-01-08         5179   ...              755     755\n",
              "8          2021-01-09         5179   ...              755     755\n",
              "9          2021-01-10         5177   ...              897     897\n",
              "10         2021-01-11         5179   ...              879     879\n",
              "11         2021-01-12         5179   ...              879     879\n",
              "12         2021-01-13         5179   ...              879     879\n",
              "13         2021-01-14         5179   ...              755     755\n",
              "14         2021-01-15         5179   ...              755     755\n",
              "15         2021-01-16         5179   ...              984     984\n",
              "16         2021-01-17         5177   ...              897     897\n",
              "17         2021-01-18         5179   ...              984     984\n",
              "18         2021-01-19         5179   ...              984     984\n",
              "19         2021-01-20         5179   ...             1068    1068\n",
              "\n",
              "[20 rows x 8 columns]"
            ]
          },
          "execution_count": 58,
          "metadata": {},
          "output_type": "execute_result"
        }
      ],
      "source": [
        "%%pyspark\n",
        "table = pd.pivot_table(X_trans, values=['_automl_target_col'], index=['Date'], columns=['Department'])\n",
        "#table['Date'] = table.index\n",
        "table.columns = table.columns.droplevel()\n",
        "table.reset_index(inplace=True)\n",
        "\n",
        "table = table.astype({'Accessories': 'int32','Entertainment': 'int32','Gaming': 'int32','Kids': 'int32','Mens': 'int32','Phone_and_GPS': 'int32','Womens': 'int32'}, copy=False)\n",
        "\n",
        "table.head(100)"
      ]
    },
    {
      "cell_type": "code",
      "execution_count": 59,
      "metadata": {
        "microsoft": {
          "language": "python"
        }
      },
      "outputs": [],
      "source": [
        "%%pyspark\n",
        "predict_df = spark.createDataFrame(table, ['Date', 'Accessories', 'Entertainment', 'Gaming', 'Kids', 'Mens', 'Phone_and_GPS', 'Womens'])"
      ]
    },
    {
      "cell_type": "code",
      "execution_count": 61,
      "metadata": {
        "microsoft": {
          "language": "python"
        }
      },
      "outputs": [],
      "source": [
        "%%pyspark\n",
        "predict_df \\\n",
        "    .repartition(1) \\\n",
        "    .write.format('csv') \\\n",
        "    .option(\"header\", \"true\") \\\n",
        "    .mode(\"overwrite\") \\\n",
        "    .save('abfss://machine-learning@#DATA_LAKE_NAME#.dfs.core.windows.net/department-visit-predictions.csv')"
      ]
    }
  ],
  "metadata": {
    "description": null,
    "kernelspec": {
      "display_name": "python",
      "name": "synapse_pyspark"
    },
    "language_info": {
      "name": "python"
    },
    "save_output": true,
    "synapse_widget": {
      "state": {},
      "version": "0.1"
    }
  },
  "nbformat": 4,
  "nbformat_minor": 2
}
