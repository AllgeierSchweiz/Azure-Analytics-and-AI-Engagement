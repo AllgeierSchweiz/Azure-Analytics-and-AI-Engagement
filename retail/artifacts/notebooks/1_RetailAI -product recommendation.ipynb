{
  "cells": [
    {
      "cell_type": "markdown",
      "source": [
        "# Azure-Synapse-Retail-Recommender-Solution-Accelerator\r\n",
        "\r\n",
        "_This accelerator is built to provide developers to quickly build a Retail Recommender Solution based on Azure Synapse Analytics Platform._\r\n",
        "\r\n",
        "![image-alt-text](https://d33wubrfki0l68.cloudfront.net/0d75c87ae627b0413623ca5d07c6be5add5a7bb1/052bd/assets/images/posts/carts.jpg)"
      ],
      "metadata": {
        "nteract": {
          "transient": {
            "deleting": false
          }
        }
      }
    },
    {
      "cell_type": "markdown",
      "source": [
        "**Important - Do not use in production, for demonstration purposes only - please review the legal notices before continuing**"
      ],
      "metadata": {
        "nteract": {
          "transient": {
            "deleting": false
          }
        }
      }
    },
    {
      "cell_type": "code",
      "source": [
        "# Check synapse version\n",
        "import sys\n",
        "print(sys.version)"
      ],
      "outputs": [
        {
          "output_type": "display_data",
          "data": {
            "application/vnd.livy.statement-meta+json": {
              "spark_pool": null,
              "session_id": null,
              "statement_id": null,
              "state": "waiting",
              "livy_statement_state": null,
              "queued_time": "2022-04-05T12:50:22.4428036Z",
              "session_start_time": null,
              "execution_start_time": null,
              "execution_finish_time": null
            },
            "text/plain": "StatementMeta(, , , Waiting, )"
          },
          "metadata": {}
        },
        {
          "output_type": "stream",
          "name": "stdout",
          "text": [
            "3.6.11 | packaged by conda-forge | (default, Aug  5 2020, 20:04:48) \n[GCC 7.5.0]"
          ]
        }
      ],
      "execution_count": 111,
      "metadata": {}
    },
    {
      "cell_type": "code",
      "source": [
        "# loading required packages\n",
        "import matplotlib.pyplot as plt\n",
        "from datetime import datetime\n",
        "from dateutil import parser\n",
        "from pyspark.sql.functions import unix_timestamp\n",
        "\n",
        "from pyspark.sql import SparkSession\n",
        "from pyspark.sql.types import *\n",
        "from pyspark.sql.functions import *\n",
        "\n",
        "from pyspark.ml import Pipeline\n",
        "from pyspark.ml import PipelineModel\n",
        "from pyspark.ml.feature import RFormula\n",
        "from pyspark.ml.feature import OneHotEncoder, StringIndexer, VectorIndexer\n",
        "from pyspark.ml.classification import LogisticRegression\n",
        "from pyspark.mllib.evaluation import BinaryClassificationMetrics\n",
        "from pyspark.ml.evaluation import BinaryClassificationEvaluator"
      ],
      "outputs": [
        {
          "output_type": "display_data",
          "data": {
            "application/vnd.livy.statement-meta+json": {
              "spark_pool": null,
              "session_id": null,
              "statement_id": null,
              "state": "waiting",
              "livy_statement_state": null,
              "queued_time": "2022-04-05T12:50:22.6217804Z",
              "session_start_time": null,
              "execution_start_time": null,
              "execution_finish_time": null
            },
            "text/plain": "StatementMeta(, , , Waiting, )"
          },
          "metadata": {}
        }
      ],
      "execution_count": 112,
      "metadata": {}
    },
    {
      "cell_type": "markdown",
      "source": [
        "### Data Ingestion\r\n",
        "###### Read Spark table as a Spark dataframe\r\n",
        "Loading Order, Customer and Product data from WWIRetailLakeDB"
      ],
      "metadata": {
        "nteract": {
          "transient": {
            "deleting": false
          }
        }
      }
    },
    {
      "cell_type": "code",
      "source": [
        "%%pyspark\r\n",
        "spark.sql(\"show databases\").show()\r\n",
        "sqlContext.sql(\"show tables in WWImportersContosoRetailLakeDB\").show()\r\n",
        "df_order = spark.sql(\"SELECT * FROM WWImportersContosoRetailLakeDB.WWImportersContosoOrder\")\r\n",
        "df_order = df_order.drop(\"ItemSku\", \"EntityCode\", \"Brand\")\r\n",
        "print(\"WWImportersContosoOrder =======================================================\")\r\n",
        "print(df_order.columns)\r\n",
        "print(df_order.count())\r\n",
        "\r\n",
        "df_brand = spark.sql(\"SELECT * FROM WWImportersContosoRetailLakeDB.BrandsList\")\r\n",
        "print(\"BrandList =======================================================\")\r\n",
        "print(df_brand.columns)\r\n",
        "print(df_brand.count())\r\n",
        "\r\n",
        "df_customer = spark.sql(\"SELECT * FROM WWImportersContosoRetailLakeDB.WWImporterContosoCustomers\")\r\n",
        "df_customer = df_customer.drop(\"EntityCode\", \"OrderId\")\r\n",
        "print(\"WWImporterContosoCustomers =======================================================\")\r\n",
        "print(df_customer.columns)\r\n",
        "print(df_customer.count())\r\n",
        "\r\n",
        "df_product = spark.sql(\"SELECT * FROM WWImportersContosoRetailLakeDB.ProductsList\")\r\n",
        "print(\"ProductList =======================================================\")\r\n",
        "print(df_product.columns)\r\n",
        "print(df_product.count())"
      ],
      "outputs": [
        {
          "output_type": "display_data",
          "data": {
            "application/vnd.livy.statement-meta+json": {
              "spark_pool": null,
              "session_id": null,
              "statement_id": null,
              "state": "waiting",
              "livy_statement_state": null,
              "queued_time": "2022-04-05T12:50:22.7573903Z",
              "session_start_time": null,
              "execution_start_time": null,
              "execution_finish_time": null
            },
            "text/plain": "StatementMeta(, , , Waiting, )"
          },
          "metadata": {}
        },
        {
          "output_type": "stream",
          "name": "stdout",
          "text": [
            "+--------------------+\n|        databaseName|\n+--------------------+\n|             default|\n|WWImportersContos...|\n+--------------------+\n\n+--------------------+--------------------+-----------+\n|            database|           tableName|isTemporary|\n+--------------------+--------------------+-----------+\n|wwimporterscontos...|WWImportersContos...|      false|\n|wwimporterscontos...|WWImporterContoso...|      false|\n|wwimporterscontos...|        ProductsList|      false|\n|wwimporterscontos...|          BrandsList|      false|\n+--------------------+--------------------+-----------+\n\nWWImportersContosoOrder =======================================================\n['OrderId', 'CustomerId', 'OrderTotalInvoicedAmount', 'ProductSalesPriceAmount', 'ProductListPriceAmount', 'TotalShippingChargeAmount', 'OrderTotalTaxAmount', 'OrderStatus', 'Quantity', 'OrderDate', 'ProductAdjustmentAmount', 'ProductAdjustmentPercentage', 'ProductName', 'ProductId']\n8263\nBrandList =======================================================\n['BrandId', 'BrandName', 'EntityCode']\n7\nWWImporterContosoCustomers =======================================================\n['CustomerId', 'CustomerFirstName', 'CustomerMiddleName', 'CustomerLastName', 'CustomerGender', 'CustomerEmailAddress', 'CustomerFullName', 'CustomerDOB', 'City', 'Country']\n9990\nProductList =======================================================\n['ItemSku', 'ProductCategories', 'ProductName', 'ProductDescription', 'ProductShortDescription', 'ProductId', 'BrandName', 'EntityCode']\n144"
          ]
        }
      ],
      "execution_count": 113,
      "metadata": {
        "jupyter": {
          "source_hidden": false,
          "outputs_hidden": false
        },
        "nteract": {
          "transient": {
            "deleting": false
          }
        },
        "microsoft": {
          "language": "python"
        }
      }
    },
    {
      "cell_type": "code",
      "source": [
        "# Top 5 most bought products\r\n",
        "product_count = df_product.groupBy('ProductId').count()\r\n",
        "product_count.show(5)"
      ],
      "outputs": [
        {
          "output_type": "display_data",
          "data": {
            "application/vnd.livy.statement-meta+json": {
              "spark_pool": null,
              "session_id": null,
              "statement_id": null,
              "state": "waiting",
              "livy_statement_state": null,
              "queued_time": "2022-04-05T12:50:23.0955817Z",
              "session_start_time": null,
              "execution_start_time": null,
              "execution_finish_time": null
            },
            "text/plain": "StatementMeta(, , , Waiting, )"
          },
          "metadata": {}
        },
        {
          "output_type": "stream",
          "name": "stdout",
          "text": [
            "+---------+-----+\n|ProductId|count|\n+---------+-----+\n|      125|    1|\n|        7|    1|\n|       51|    1|\n|      124|    1|\n|       15|    1|\n+---------+-----+\nonly showing top 5 rows"
          ]
        }
      ],
      "execution_count": 114,
      "metadata": {
        "jupyter": {
          "source_hidden": false,
          "outputs_hidden": false
        },
        "nteract": {
          "transient": {
            "deleting": false
          }
        },
        "collapsed": false
      }
    },
    {
      "cell_type": "code",
      "source": [
        "# top 5 brand\r\n",
        "top_brand = df_brand[df_brand[\"EntityCode\"] == 'WideWorldImporters'].groupBy('BrandName').count().sort('count', ascending=False).limit(5) # only keep top 5 categories\r\n",
        "#top_category = top_category.withColumnRenamed(\"category_code\",\"category_code_tmp\")\r\n",
        "display(top_brand)"
      ],
      "outputs": [
        {
          "output_type": "display_data",
          "data": {
            "application/vnd.livy.statement-meta+json": {
              "spark_pool": null,
              "session_id": null,
              "statement_id": null,
              "state": "waiting",
              "livy_statement_state": null,
              "queued_time": "2022-04-05T12:50:23.247817Z",
              "session_start_time": null,
              "execution_start_time": null,
              "execution_finish_time": null
            },
            "text/plain": "StatementMeta(, , , Waiting, )"
          },
          "metadata": {}
        },
        {
          "output_type": "display_data",
          "data": {
            "application/vnd.synapse.widget-view+json": {
              "widget_id": "818611ee-6547-4817-a4cf-ae01eb14e062",
              "widget_type": "Synapse.DataFrame"
            },
            "text/plain": "SynapseWidget(Synapse.DataFrame, 818611ee-6547-4817-a4cf-ae01eb14e062)"
          },
          "metadata": {}
        }
      ],
      "execution_count": 115,
      "metadata": {
        "jupyter": {
          "source_hidden": false,
          "outputs_hidden": false
        },
        "nteract": {
          "transient": {
            "deleting": false
          }
        },
        "collapsed": false
      }
    },
    {
      "cell_type": "code",
      "source": [
        "# Combining customer, order and product data\r\n",
        "df = df_order.join(df_product, on='ProductId')\r\n",
        "df = df.join(df_customer, on='CustomerId')\r\n",
        "\r\n",
        "print(\"Columns: \")\r\n",
        "print(df.columns)\r\n",
        "print(\"No. of rows:\", df.count())"
      ],
      "outputs": [
        {
          "output_type": "stream",
          "name": "stdout",
          "text": [
            "Columns: \n['CustomerId', 'ProductId', 'OrderId', 'OrderTotalInvoicedAmount', 'ProductSalesPriceAmount', 'ProductListPriceAmount', 'TotalShippingChargeAmount', 'OrderTotalTaxAmount', 'OrderStatus', 'Quantity', 'OrderDate', 'ProductAdjustmentAmount', 'ProductAdjustmentPercentage', 'ProductName', 'ItemSku', 'ProductCategories', 'ProductName', 'ProductDescription', 'ProductShortDescription', 'BrandName', 'EntityCode', 'CustomerFirstName', 'CustomerMiddleName', 'CustomerLastName', 'CustomerGender', 'CustomerEmailAddress', 'CustomerFullName', 'CustomerDOB', 'City', 'Country']"
          ]
        },
        {
          "output_type": "display_data",
          "data": {
            "application/vnd.livy.statement-meta+json": {
              "spark_pool": null,
              "session_id": null,
              "statement_id": null,
              "state": "waiting",
              "livy_statement_state": null,
              "queued_time": "2022-04-05T12:50:23.3434316Z",
              "session_start_time": null,
              "execution_start_time": null,
              "execution_finish_time": null
            },
            "text/plain": "StatementMeta(, , , Waiting, )"
          },
          "metadata": {}
        },
        {
          "output_type": "stream",
          "name": "stdout",
          "text": [
            "Columns: \n['CustomerId', 'ProductId', 'OrderId', 'OrderTotalInvoicedAmount', 'ProductSalesPriceAmount', 'ProductListPriceAmount', 'TotalShippingChargeAmount', 'OrderTotalTaxAmount', 'OrderStatus', 'Quantity', 'OrderDate', 'ProductAdjustmentAmount', 'ProductAdjustmentPercentage', 'ProductName', 'ItemSku', 'ProductCategories', 'ProductName', 'ProductDescription', 'ProductShortDescription', 'BrandName', 'EntityCode', 'CustomerFirstName', 'CustomerMiddleName', 'CustomerLastName', 'CustomerGender', 'CustomerEmailAddress', 'CustomerFullName', 'CustomerDOB', 'City', 'Country']\nNo. of rows: 82630"
          ]
        }
      ],
      "execution_count": 116,
      "metadata": {
        "jupyter": {
          "source_hidden": false,
          "outputs_hidden": false
        },
        "nteract": {
          "transient": {
            "deleting": false
          }
        }
      }
    },
    {
      "cell_type": "code",
      "source": [
        "raw_df = df\r\n",
        "\r\n",
        "product_count = df.groupBy('ProductId').count()\r\n",
        "#product_count = product_count.filter(\"count >= 3000\").orderBy('count', ascending=False) #only counts when the product has 20000 views\r\n",
        "\r\n",
        "raw_df = raw_df.withColumnRenamed(\"ProductId\",\"product_id_tmp\")\r\n",
        "raw_df = raw_df.join(product_count, raw_df.product_id_tmp == product_count.ProductId)\r\n",
        "\r\n",
        "user_count = df.groupBy('CustomerId').count()\r\n",
        "#user_count = user_count.filter(\"count >= 20\").orderBy('count', ascending=False) #only counts when the user has 100 clicks\r\n",
        "\r\n",
        "raw_df = raw_df.withColumnRenamed(\"CustomerId\",\"user_id_tmp\")\r\n",
        "raw_df = raw_df.join(user_count, raw_df.user_id_tmp == user_count.CustomerId)\r\n",
        "\r\n",
        "df = raw_df\r\n",
        "\r\n",
        "df = df.where(df.EntityCode == \"Contoso\")\r\n",
        "#df = df.drop(\"event_time\",\"category_code\",\"user_session\",\"price\",\"brand\",\"category_id\")\r\n",
        "df = df.groupBy([df.ProductId, df.CustomerId]).count()\r\n",
        "df.columns"
      ],
      "outputs": [
        {
          "output_type": "display_data",
          "data": {
            "application/vnd.livy.statement-meta+json": {
              "spark_pool": null,
              "session_id": null,
              "statement_id": null,
              "state": "waiting",
              "livy_statement_state": null,
              "queued_time": "2022-04-05T12:50:23.4399633Z",
              "session_start_time": null,
              "execution_start_time": null,
              "execution_finish_time": null
            },
            "text/plain": "StatementMeta(, , , Waiting, )"
          },
          "metadata": {}
        },
        {
          "output_type": "display_data",
          "data": {
            "text/plain": "['ProductId', 'CustomerId', 'count']"
          },
          "metadata": {}
        }
      ],
      "execution_count": 117,
      "metadata": {
        "jupyter": {
          "source_hidden": false,
          "outputs_hidden": false
        },
        "nteract": {
          "transient": {
            "deleting": false
          }
        }
      }
    },
    {
      "cell_type": "code",
      "source": [
        "from pyspark.sql.types import IntegerType\n",
        "df = df.withColumn(\"CustomerId\", df[\"CustomerId\"].cast(IntegerType()))\n",
        "df = df.withColumn(\"ProductId\", df[\"ProductId\"].cast(IntegerType()))\n",
        "df.printSchema()"
      ],
      "outputs": [
        {
          "output_type": "display_data",
          "data": {
            "application/vnd.livy.statement-meta+json": {
              "spark_pool": null,
              "session_id": null,
              "statement_id": null,
              "state": "waiting",
              "livy_statement_state": null,
              "queued_time": "2022-04-05T12:50:23.5348864Z",
              "session_start_time": null,
              "execution_start_time": null,
              "execution_finish_time": null
            },
            "text/plain": "StatementMeta(, , , Waiting, )"
          },
          "metadata": {}
        },
        {
          "output_type": "stream",
          "name": "stdout",
          "text": [
            "root\n |-- ProductId: integer (nullable = true)\n |-- CustomerId: integer (nullable = true)\n |-- count: long (nullable = false)"
          ]
        }
      ],
      "execution_count": 118,
      "metadata": {}
    },
    {
      "cell_type": "code",
      "source": [
        "df.show(5)"
      ],
      "outputs": [
        {
          "output_type": "display_data",
          "data": {
            "application/vnd.livy.statement-meta+json": {
              "spark_pool": null,
              "session_id": null,
              "statement_id": null,
              "state": "waiting",
              "livy_statement_state": null,
              "queued_time": "2022-04-05T12:50:23.650221Z",
              "session_start_time": null,
              "execution_start_time": null,
              "execution_finish_time": null
            },
            "text/plain": "StatementMeta(, , , Waiting, )"
          },
          "metadata": {}
        },
        {
          "output_type": "stream",
          "name": "stdout",
          "text": [
            "+---------+----------+-----+\n|ProductId|CustomerId|count|\n+---------+----------+-----+\n|      112|       296|   10|\n|       96|       296|   10|\n|      120|       296|   10|\n|      104|       296|   10|\n|       88|       296|   10|\n+---------+----------+-----+\nonly showing top 5 rows"
          ]
        }
      ],
      "execution_count": 119,
      "metadata": {
        "jupyter": {
          "source_hidden": false,
          "outputs_hidden": false
        },
        "nteract": {
          "transient": {
            "deleting": false
          }
        },
        "collapsed": false
      }
    },
    {
      "cell_type": "code",
      "source": [
        "#split the data into training and test datatset\n",
        "train,test=df.randomSplit([0.75,0.25])\n",
        "print(\"Training Count:\")\n",
        "train.count()\n",
        "\n",
        "print(\"Test Count:\")\n",
        "test.count()"
      ],
      "outputs": [
        {
          "output_type": "display_data",
          "data": {
            "application/vnd.livy.statement-meta+json": {
              "spark_pool": null,
              "session_id": null,
              "statement_id": null,
              "state": "waiting",
              "livy_statement_state": null,
              "queued_time": "2022-04-05T12:50:23.7885272Z",
              "session_start_time": null,
              "execution_start_time": null,
              "execution_finish_time": null
            },
            "text/plain": "StatementMeta(, , , Waiting, )"
          },
          "metadata": {}
        },
        {
          "output_type": "stream",
          "name": "stdout",
          "text": [
            "Training Count:\nTest Count:\n"
          ]
        },
        {
          "output_type": "display_data",
          "data": {
            "text/plain": "2125"
          },
          "metadata": {}
        }
      ],
      "execution_count": 120,
      "metadata": {}
    },
    {
      "cell_type": "markdown",
      "source": [
        "#### Alternating least square (ALS) Recommender \r\n",
        "\r\n",
        "Apache Spark ML implements ALS for collaborative filtering, a very popular algorithm for making recommendations.\r\n",
        "\r\n",
        "ALS recommender is a matrix factorization algorithm that uses Alternating Least Squares with Weighted-Lamda-Regularization (ALS-WR). It factors the user to item matrix A into the user-to-feature matrix U and the item-to-feature matrix M: It runs the ALS algorithm in a parallel fashion. The ALS algorithm should uncover the latent factors that explain the observed user to item ratings and tries to find optimal factor weights to minimize the least squares between predicted and actual ratings."
      ],
      "metadata": {
        "nteract": {
          "transient": {
            "deleting": false
          }
        }
      }
    },
    {
      "cell_type": "code",
      "source": [
        "#import ALS recommender function from pyspark ml library\n",
        "from pyspark.ml.recommendation import ALS\n",
        "\n",
        "#Training the recommender model using train datatset\n",
        "rec = ALS(maxIter=10,regParam=0.20,implicitPrefs = True, userCol='CustomerId',itemCol='ProductId',\n",
        "            ratingCol='count',nonnegative=True,coldStartStrategy=\"drop\", rank=25)\n",
        "\n",
        "#fit the model on train set\n",
        "rec_model = rec.fit(train)\n",
        "\n",
        "#making predictions on test set \n",
        "predicted_ratings = rec_model.transform(test)\n",
        "\n",
        "#columns in predicted ratings dataframe\n",
        "predicted_ratings.printSchema()"
      ],
      "outputs": [
        {
          "output_type": "display_data",
          "data": {
            "application/vnd.livy.statement-meta+json": {
              "spark_pool": null,
              "session_id": null,
              "statement_id": null,
              "state": "waiting",
              "livy_statement_state": null,
              "queued_time": "2022-04-05T12:50:23.8772154Z",
              "session_start_time": null,
              "execution_start_time": null,
              "execution_finish_time": null
            },
            "text/plain": "StatementMeta(, , , Waiting, )"
          },
          "metadata": {}
        },
        {
          "output_type": "stream",
          "name": "stdout",
          "text": [
            "root\n |-- ProductId: integer (nullable = true)\n |-- CustomerId: integer (nullable = true)\n |-- count: long (nullable = false)\n |-- prediction: float (nullable = false)"
          ]
        }
      ],
      "execution_count": 121,
      "metadata": {}
    },
    {
      "cell_type": "code",
      "source": [
        "#predicted vs actual ratings for test set \n",
        "predicted_ratings.orderBy(rand()).show(10)"
      ],
      "outputs": [
        {
          "output_type": "display_data",
          "data": {
            "application/vnd.livy.statement-meta+json": {
              "spark_pool": null,
              "session_id": null,
              "statement_id": null,
              "state": "waiting",
              "livy_statement_state": null,
              "queued_time": "2022-04-05T12:50:23.9741675Z",
              "session_start_time": null,
              "execution_start_time": null,
              "execution_finish_time": null
            },
            "text/plain": "StatementMeta(, , , Waiting, )"
          },
          "metadata": {}
        },
        {
          "output_type": "stream",
          "name": "stdout",
          "text": [
            "+---------+----------+-----+----------+\n|ProductId|CustomerId|count|prediction|\n+---------+----------+-----+----------+\n|       10|        82|   10|0.73039913|\n|       81|       425|   10| 0.8356221|\n|       76|       676|   10| 0.8442588|\n|      109|       109|   10|0.41283312|\n|       37|        69|   10| 1.0379064|\n|      104|       744|   10|0.73062134|\n|       72|       504|   10| 0.6805226|\n|       43|       203|   10|0.98426527|\n|       43|       835|   10| 0.5193456|\n|      110|       998|   10| 0.9319474|\n+---------+----------+-----+----------+\nonly showing top 10 rows"
          ]
        }
      ],
      "execution_count": 122,
      "metadata": {}
    },
    {
      "cell_type": "code",
      "source": [
        "predicted_ratings_witherr=predicted_ratings.withColumn('err',abs(predicted_ratings[\"prediction\"] - predicted_ratings[\"count\"]))\n",
        "predicted_ratings_witherr.show(5)"
      ],
      "outputs": [
        {
          "output_type": "display_data",
          "data": {
            "application/vnd.livy.statement-meta+json": {
              "spark_pool": null,
              "session_id": null,
              "statement_id": null,
              "state": "waiting",
              "livy_statement_state": null,
              "queued_time": "2022-04-05T12:50:24.2163936Z",
              "session_start_time": null,
              "execution_start_time": null,
              "execution_finish_time": null
            },
            "text/plain": "StatementMeta(, , , Waiting, )"
          },
          "metadata": {}
        },
        {
          "output_type": "stream",
          "name": "stdout",
          "text": [
            "+---------+----------+-----+----------+--------+\n|ProductId|CustomerId|count|prediction|     err|\n+---------+----------+-----+----------+--------+\n|       31|       375|   10| 0.9148947|9.085105|\n|       31|       359|   10| 0.7835939|9.216406|\n|       31|       479|   10|0.97031397|9.029686|\n|       31|       647|   10|  0.939265|9.060735|\n|       31|       191|   10|0.97031397|9.029686|\n+---------+----------+-----+----------+--------+\nonly showing top 5 rows"
          ]
        }
      ],
      "execution_count": 123,
      "metadata": {}
    },
    {
      "cell_type": "code",
      "source": [
        "df.groupBy('count').count().orderBy('count',ascending=True).show(5)"
      ],
      "outputs": [
        {
          "output_type": "display_data",
          "data": {
            "application/vnd.livy.statement-meta+json": {
              "spark_pool": null,
              "session_id": null,
              "statement_id": null,
              "state": "waiting",
              "livy_statement_state": null,
              "queued_time": "2022-04-05T12:50:24.3585729Z",
              "session_start_time": null,
              "execution_start_time": null,
              "execution_finish_time": null
            },
            "text/plain": "StatementMeta(, , , Waiting, )"
          },
          "metadata": {}
        },
        {
          "output_type": "stream",
          "name": "stdout",
          "text": [
            "+-----+-----+\n|count|count|\n+-----+-----+\n|   10| 8263|\n+-----+-----+"
          ]
        }
      ],
      "execution_count": 124,
      "metadata": {}
    },
    {
      "cell_type": "code",
      "source": [
        "predicted_ratings_witherr.groupBy('count').agg({'err':'mean'}).orderBy('count',ascending=True).show(5)"
      ],
      "outputs": [
        {
          "output_type": "display_data",
          "data": {
            "application/vnd.livy.statement-meta+json": {
              "spark_pool": null,
              "session_id": null,
              "statement_id": null,
              "state": "waiting",
              "livy_statement_state": null,
              "queued_time": "2022-04-05T12:50:24.4976546Z",
              "session_start_time": null,
              "execution_start_time": null,
              "execution_finish_time": null
            },
            "text/plain": "StatementMeta(, , , Waiting, )"
          },
          "metadata": {}
        },
        {
          "output_type": "stream",
          "name": "stdout",
          "text": [
            "+-----+----------------+\n|count|        avg(err)|\n+-----+----------------+\n|   10|9.20190873224595|\n+-----+----------------+"
          ]
        }
      ],
      "execution_count": 125,
      "metadata": {}
    },
    {
      "cell_type": "code",
      "source": [
        "#importing Regression Evaluator to measure RMSE\n",
        "from pyspark.ml.evaluation import RegressionEvaluator\n",
        "\n",
        "#create Regressor evaluator object for measuring accuracy\n",
        "evaluator=RegressionEvaluator(metricName='rmse',predictionCol='prediction',labelCol='count')\n",
        "\n",
        "#apply the RE on predictions dataframe to calculate RMSE\n",
        "rmse=evaluator.evaluate(predicted_ratings)\n",
        "print(rmse)"
      ],
      "outputs": [
        {
          "output_type": "display_data",
          "data": {
            "application/vnd.livy.statement-meta+json": {
              "spark_pool": null,
              "session_id": null,
              "statement_id": null,
              "state": "waiting",
              "livy_statement_state": null,
              "queued_time": "2022-04-05T12:50:24.5996762Z",
              "session_start_time": null,
              "execution_start_time": null,
              "execution_finish_time": null
            },
            "text/plain": "StatementMeta(, , , Waiting, )"
          },
          "metadata": {}
        },
        {
          "output_type": "stream",
          "name": "stdout",
          "text": [
            "9.204261970825783"
          ]
        }
      ],
      "execution_count": 126,
      "metadata": {}
    },
    {
      "cell_type": "code",
      "source": [
        "# Save the model\n",
        "rec_model.write().overwrite().save(\"retailai_recommendation_model\")"
      ],
      "outputs": [
        {
          "output_type": "display_data",
          "data": {
            "application/vnd.livy.statement-meta+json": {
              "spark_pool": null,
              "session_id": null,
              "statement_id": null,
              "state": "waiting",
              "livy_statement_state": null,
              "queued_time": "2022-04-05T12:50:24.7982939Z",
              "session_start_time": null,
              "execution_start_time": null,
              "execution_finish_time": null
            },
            "text/plain": "StatementMeta(, , , Waiting, )"
          },
          "metadata": {}
        }
      ],
      "execution_count": 127,
      "metadata": {}
    },
    {
      "cell_type": "markdown",
      "source": [
        "###  Below modules can be used to compute recommendations for targeted customers from the above trained ALS model\r\n"
      ],
      "metadata": {
        "nteract": {
          "transient": {
            "deleting": false
          }
        }
      }
    },
    {
      "cell_type": "code",
      "source": [
        "# loading above trained recommendation model\n",
        "from pyspark.ml.recommendation import ALSModel\n",
        "model_reload = ALSModel.load(\"retailai_recommendation_model\")\n",
        "print(model_reload)"
      ],
      "outputs": [
        {
          "output_type": "display_data",
          "data": {
            "application/vnd.livy.statement-meta+json": {
              "spark_pool": null,
              "session_id": null,
              "statement_id": null,
              "state": "waiting",
              "livy_statement_state": null,
              "queued_time": "2022-04-05T12:50:25.0609935Z",
              "session_start_time": null,
              "execution_start_time": null,
              "execution_finish_time": null
            },
            "text/plain": "StatementMeta(, , , Waiting, )"
          },
          "metadata": {}
        },
        {
          "output_type": "stream",
          "name": "stdout",
          "text": [
            "ALS_2751ffc156c6"
          ]
        }
      ],
      "execution_count": 128,
      "metadata": {}
    },
    {
      "cell_type": "markdown",
      "source": [
        "An item-based recommender model that computes cosine similarity for each item pairs using the item factors matrix generated by Spark MLlib's ALS algorithm and recommends top 5 products based on the selected customers.\r\n",
        "\r\n"
      ],
      "metadata": {
        "nteract": {
          "transient": {
            "deleting": false
          }
        }
      }
    },
    {
      "cell_type": "code",
      "source": [
        "from pyspark.sql import Row\n",
        "from pyspark.sql.functions import col\n",
        "import numpy as np\n",
        "from numpy import linalg as LA\n",
        "from pyspark.ml.recommendation import ALSModel\n",
        "\n",
        "class ItemBasedRecommender():\n",
        "\n",
        "    def __init__(self, model, spark):\n",
        "        self.model = model\n",
        "        self.spark = spark\n",
        "        self.itemFactors = self.model.itemFactors\n",
        "\n",
        "    def compute_similarity(self, item_id):\n",
        "        item = self.itemFactors.where(\n",
        "            col('id') == item_id).select(col('features'))\n",
        "        item_features = item.rdd.map(lambda x: x.features).first()\n",
        "\n",
        "        lol = []\n",
        "        for row in self.itemFactors.rdd.toLocalIterator():\n",
        "            _id = row.__getattr__('id')\n",
        "            features = row.__getattr__('features')\n",
        "            similarity_score = self._cosine_similarity(features, item_features)\n",
        "            if _id != item_id:\n",
        "                lol.append([_id, similarity_score])\n",
        "\n",
        "        R = Row('item_index', 'similarity_score')\n",
        "        self.similar_items_df = self.spark.createDataFrame(\n",
        "            [R(col[0], float(col[1])) for col in lol])\n",
        "        self.similar_items_df = self.similar_items_df.orderBy(\n",
        "            col('similarity_score').desc()).na.drop()\n",
        "        return self.similar_items_df\n",
        "\n",
        "\n",
        "    def _cosine_similarity(self, vector_1, vector_2):\n",
        "        v1 = np.asarray(vector_1)\n",
        "        v2 = np.asarray(vector_2)\n",
        "        cs = v1.dot(v2) / (LA.norm(v1) * LA.norm(v2))\n",
        "        return(cs)"
      ],
      "outputs": [
        {
          "output_type": "display_data",
          "data": {
            "application/vnd.livy.statement-meta+json": {
              "spark_pool": null,
              "session_id": null,
              "statement_id": null,
              "state": "waiting",
              "livy_statement_state": null,
              "queued_time": "2022-04-05T12:50:25.3255723Z",
              "session_start_time": null,
              "execution_start_time": null,
              "execution_finish_time": null
            },
            "text/plain": "StatementMeta(, , , Waiting, )"
          },
          "metadata": {}
        }
      ],
      "execution_count": 129,
      "metadata": {}
    },
    {
      "cell_type": "markdown",
      "source": [
        "### Input the CustomerIDs of the millennials to get the top 5 recommended products"
      ],
      "metadata": {
        "nteract": {
          "transient": {
            "deleting": false
          }
        }
      }
    },
    {
      "cell_type": "code",
      "source": [
        "# CustomerID as input. Note: this is the normalized CustomerID starting from 0.        \r\n",
        "CustomerID = 24\r\n",
        "item_based_rec = ItemBasedRecommender(model_reload, spark)\r\n",
        "ret_df = item_based_rec.compute_similarity(CustomerID)\r\n",
        "\r\n",
        "ret_df.show(5)"
      ],
      "outputs": [
        {
          "output_type": "display_data",
          "data": {
            "application/vnd.livy.statement-meta+json": {
              "spark_pool": null,
              "session_id": null,
              "statement_id": null,
              "state": "waiting",
              "livy_statement_state": null,
              "queued_time": "2022-04-05T12:50:25.5066548Z",
              "session_start_time": null,
              "execution_start_time": null,
              "execution_finish_time": null
            },
            "text/plain": "StatementMeta(, , , Waiting, )"
          },
          "metadata": {}
        },
        {
          "output_type": "stream",
          "name": "stdout",
          "text": [
            "+----------+------------------+\n|item_index|  similarity_score|\n+----------+------------------+\n|        32|0.9874732797016829|\n|        48|0.9762596620788582|\n|        40|0.9738217592468923|\n|        56|0.9552652057133719|\n|        16|0.8694494686183253|\n+----------+------------------+\nonly showing top 5 rows"
          ]
        }
      ],
      "execution_count": 130,
      "metadata": {
        "jupyter": {
          "source_hidden": false,
          "outputs_hidden": false
        },
        "nteract": {
          "transient": {
            "deleting": false
          }
        }
      }
    },
    {
      "cell_type": "markdown",
      "source": [
        "#### For WideWorldImporters, top 5 recommended products\r\n"
      ],
      "metadata": {
        "nteract": {
          "transient": {
            "deleting": false
          }
        }
      }
    },
    {
      "cell_type": "code",
      "source": [
        "df_product_wwi = df_product[df_product[\"EntityCode\"] == 'WideWorldImporters']\r\n",
        "rec_df = df_product_wwi.join(ret_df, (df_product_wwi[\"ProductId\"]==ret_df[\"item_index\"]))\r\n",
        "\r\n",
        "rec_df[[ 'ProductCategories', 'ProductId', 'BrandName', 'EntityCode', \"similarity_score\"]].show(5)"
      ],
      "outputs": [
        {
          "output_type": "display_data",
          "data": {
            "application/vnd.livy.statement-meta+json": {
              "spark_pool": null,
              "session_id": null,
              "statement_id": null,
              "state": "waiting",
              "livy_statement_state": null,
              "queued_time": "2022-04-05T12:50:25.7287894Z",
              "session_start_time": null,
              "execution_start_time": null,
              "execution_finish_time": null
            },
            "text/plain": "StatementMeta(, , , Waiting, )"
          },
          "metadata": {}
        },
        {
          "output_type": "stream",
          "name": "stdout",
          "text": [
            "+-----------------+---------+---------+----------+----------------+\n|ProductCategories|ProductId|BrandName|EntityCode|similarity_score|\n+-----------------+---------+---------+----------+----------------+\n+-----------------+---------+---------+----------+----------------+"
          ]
        }
      ],
      "execution_count": 131,
      "metadata": {
        "jupyter": {
          "source_hidden": false,
          "outputs_hidden": false
        },
        "nteract": {
          "transient": {
            "deleting": false
          }
        },
        "collapsed": false
      }
    }
  ],
  "metadata": {
    "kernelspec": {
      "name": "synapse_pyspark",
      "language": "Python",
      "display_name": "Synapse PySpark"
    },
    "language_info": {
      "name": "python"
    },
    "kernel_info": {
      "name": "synapse_pyspark"
    },
    "description": null,
    "save_output": true,
    "synapse_widget": {
      "version": "0.1",
      "state": {}
    }
  },
  "nbformat": 4,
  "nbformat_minor": 2
}