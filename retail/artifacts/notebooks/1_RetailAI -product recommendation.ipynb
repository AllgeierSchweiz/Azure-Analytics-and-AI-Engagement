{
  "nbformat": 4,
  "nbformat_minor": 2,
  "cells": [
    {
      "cell_type": "markdown",
      "metadata": {
        "nteract": {
          "transient": {
            "deleting": false
          }
        }
      },
      "source": [
        "# Azure-Synapse-Retail-Recommender-Solution-Accelerator\r\n",
        "\r\n",
        "_This accelerator is built to provide developers to quickly build a Retail Recommender Solution based on Azure Synapse Analytics Platform._\r\n",
        "\r\n",
        "![image-alt-text](https://d33wubrfki0l68.cloudfront.net/0d75c87ae627b0413623ca5d07c6be5add5a7bb1/052bd/assets/images/posts/carts.jpg)"
      ]
    },
    {
      "cell_type": "markdown",
      "metadata": {
        "nteract": {
          "transient": {
            "deleting": false
          }
        }
      },
      "source": [
        "**Important – Do not use in production, for demonstration purposes only – please review the legal notices before continuing**"
      ]
    },
    {
      "cell_type": "code",
      "execution_count": 169,
      "outputs": [
        {
          "output_type": "display_data",
          "data": {
            "application/vnd.livy.statement-meta+json": {
              "spark_pool": "RetailSparkPool",
              "session_id": 12,
              "statement_id": 109,
              "state": "finished",
              "livy_statement_state": "available",
              "queued_time": "2022-01-07T16:39:46.5672747Z",
              "session_start_time": null,
              "execution_start_time": "2022-01-07T16:39:46.6838197Z",
              "execution_finish_time": "2022-01-07T16:39:46.6839371Z"
            },
            "text/plain": "StatementMeta(RetailSparkPool, 12, 109, Finished, Available)"
          },
          "metadata": {}
        },
        {
          "output_type": "stream",
          "name": "stdout",
          "text": "3.6.11 | packaged by conda-forge | (default, Aug  5 2020, 20:04:48) \n[GCC 7.5.0]"
        }
      ],
      "metadata": {},
      "source": [
        "# Check synapse version\n",
        "import sys\n",
        "print(sys.version)"
      ]
    },
    {
      "cell_type": "code",
      "execution_count": 170,
      "outputs": [
        {
          "output_type": "display_data",
          "data": {
            "application/vnd.livy.statement-meta+json": {
              "spark_pool": "RetailSparkPool",
              "session_id": 12,
              "statement_id": 110,
              "state": "finished",
              "livy_statement_state": "available",
              "queued_time": "2022-01-07T16:39:47.5966419Z",
              "session_start_time": null,
              "execution_start_time": "2022-01-07T16:39:47.7149295Z",
              "execution_finish_time": "2022-01-07T16:39:47.7151005Z"
            },
            "text/plain": "StatementMeta(RetailSparkPool, 12, 110, Finished, Available)"
          },
          "metadata": {}
        }
      ],
      "metadata": {},
      "source": [
        "# loading required packages\n",
        "import matplotlib.pyplot as plt\n",
        "from datetime import datetime\n",
        "from dateutil import parser\n",
        "from pyspark.sql.functions import unix_timestamp\n",
        "\n",
        "from pyspark.sql import SparkSession\n",
        "from pyspark.sql.types import *\n",
        "from pyspark.sql.functions import *\n",
        "\n",
        "from pyspark.ml import Pipeline\n",
        "from pyspark.ml import PipelineModel\n",
        "from pyspark.ml.feature import RFormula\n",
        "from pyspark.ml.feature import OneHotEncoder, StringIndexer, VectorIndexer\n",
        "from pyspark.ml.classification import LogisticRegression\n",
        "from pyspark.mllib.evaluation import BinaryClassificationMetrics\n",
        "from pyspark.ml.evaluation import BinaryClassificationEvaluator"
      ]
    },
    {
      "cell_type": "markdown",
      "metadata": {
        "nteract": {
          "transient": {
            "deleting": false
          }
        }
      },
      "source": [
        "### Data Ingestion\r\n",
        "###### Read Spark table as a Spark dataframe\r\n",
        "Loading Order, Customer and Product data from WWIRetailLakeDB"
      ]
    },
    {
      "cell_type": "code",
      "execution_count": 171,
      "outputs": [
        {
          "output_type": "display_data",
          "data": {
            "application/vnd.livy.statement-meta+json": {
              "spark_pool": "RetailSparkPool",
              "session_id": 12,
              "statement_id": 111,
              "state": "finished",
              "livy_statement_state": "available",
              "queued_time": "2022-01-07T16:39:47.6416059Z",
              "session_start_time": null,
              "execution_start_time": "2022-01-07T16:39:47.8208848Z",
              "execution_finish_time": "2022-01-07T16:39:50.5881684Z"
            },
            "text/plain": "StatementMeta(RetailSparkPool, 12, 111, Finished, Available)"
          },
          "metadata": {}
        },
        {
          "output_type": "stream",
          "name": "stdout",
          "text": "Order =======================================================\n['OrderId', 'CustomerId', 'ProductSalesPriceAmount', 'ProductListPriceAmount', 'TotalShippingChargeAmount', 'OrderTotalTaxAmount', 'OrderStatus', 'Quantity', 'ProductAdjustmentAmount', 'ProductAdjustmentPercentage', 'ProductId', 'QuantityBooked', 'QuantityBilled']\n98880\nBrand =======================================================\n['BrandName', 'BrandDescription', 'EntityCode', 'BrandId']\n14\nCustomer =======================================================\n['CustomerId', 'CustomerFirstName', 'CustomerMiddleName', 'CustomerLastName', 'CustomerFullName', 'CustomerDOB']\n105916\nProduct =======================================================\n['ProductCategories', 'ProductName', 'ProductId', 'ItemSku', 'ProductShortDescription', 'ProductDescription', 'BrandName', 'EntityCode']\n212"
        }
      ],
      "metadata": {
        "jupyter": {
          "source_hidden": false,
          "outputs_hidden": false
        },
        "nteract": {
          "transient": {
            "deleting": false
          }
        },
        "microsoft": {
          "language": "python"
        }
      },
      "source": [
        "%%pyspark\r\n",
        "df_order = spark.sql(\"SELECT * FROM WWIRetailLakeDB.Order\")\r\n",
        "df_order = df_order.drop(\"ItemSku\", \"EntityCode\", \"Brand\")\r\n",
        "print(\"Order =======================================================\")\r\n",
        "print(df_order.columns)\r\n",
        "print(df_order.count())\r\n",
        "\r\n",
        "df_brand = spark.sql(\"SELECT * FROM WWIRetailLakeDB.Brand\")\r\n",
        "print(\"Brand =======================================================\")\r\n",
        "print(df_brand.columns)\r\n",
        "print(df_brand.count())\r\n",
        "\r\n",
        "df_customer = spark.sql(\"SELECT * FROM WWIRetailLakeDB.Customer\")\r\n",
        "df_customer = df_customer.drop(\"EntityCode\", \"OrderId\")\r\n",
        "print(\"Customer =======================================================\")\r\n",
        "print(df_customer.columns)\r\n",
        "print(df_customer.count())\r\n",
        "\r\n",
        "df_product = spark.sql(\"SELECT * FROM WWIRetailLakeDB.Product\")\r\n",
        "print(\"Product =======================================================\")\r\n",
        "print(df_product.columns)\r\n",
        "print(df_product.count())"
      ]
    },
    {
      "cell_type": "code",
      "execution_count": 172,
      "outputs": [
        {
          "output_type": "display_data",
          "data": {
            "application/vnd.livy.statement-meta+json": {
              "spark_pool": "RetailSparkPool",
              "session_id": 12,
              "statement_id": 112,
              "state": "finished",
              "livy_statement_state": "available",
              "queued_time": "2022-01-07T16:39:47.6516049Z",
              "session_start_time": null,
              "execution_start_time": "2022-01-07T16:39:50.6877904Z",
              "execution_finish_time": "2022-01-07T16:39:50.834558Z"
            },
            "text/plain": "StatementMeta(RetailSparkPool, 12, 112, Finished, Available)"
          },
          "metadata": {}
        },
        {
          "output_type": "stream",
          "name": "stdout",
          "text": "Columns: \n['CustomerId', 'ProductId', 'OrderId', 'ProductSalesPriceAmount', 'ProductListPriceAmount', 'TotalShippingChargeAmount', 'OrderTotalTaxAmount', 'OrderStatus', 'Quantity', 'ProductAdjustmentAmount', 'ProductAdjustmentPercentage', 'QuantityBooked', 'QuantityBilled', 'ProductCategories', 'ProductName', 'ItemSku', 'ProductShortDescription', 'ProductDescription', 'BrandName', 'EntityCode', 'CustomerFirstName', 'CustomerMiddleName', 'CustomerLastName', 'CustomerFullName', 'CustomerDOB']\nNo. of rows: 1594430"
        }
      ],
      "metadata": {
        "jupyter": {
          "source_hidden": false,
          "outputs_hidden": false
        },
        "nteract": {
          "transient": {
            "deleting": false
          }
        }
      },
      "source": [
        "# Combining customer, order and product data\r\n",
        "df = df_order.join(df_product, on='ProductId')\r\n",
        "df = df.join(df_customer, on='CustomerId')\r\n",
        "\r\n",
        "print(\"Columns: \")\r\n",
        "print(df.columns)\r\n",
        "print(\"No. of rows:\", df.count())"
      ]
    },
    {
      "cell_type": "code",
      "execution_count": 173,
      "outputs": [
        {
          "output_type": "display_data",
          "data": {
            "application/vnd.livy.statement-meta+json": {
              "spark_pool": "RetailSparkPool",
              "session_id": 12,
              "statement_id": 113,
              "state": "finished",
              "livy_statement_state": "available",
              "queued_time": "2022-01-07T16:39:47.666242Z",
              "session_start_time": null,
              "execution_start_time": "2022-01-07T16:39:50.9404498Z",
              "execution_finish_time": "2022-01-07T16:39:51.4453881Z"
            },
            "text/plain": "StatementMeta(RetailSparkPool, 12, 113, Finished, Available)"
          },
          "metadata": {}
        },
        {
          "output_type": "display_data",
          "data": {
            "application/vnd.synapse.widget-view+json": {
              "widget_id": "9a302add-850f-499c-acbf-e93a070c3e42",
              "widget_type": "Synapse.DataFrame"
            },
            "text/plain": "SynapseWidget(Synapse.DataFrame, 9a302add-850f-499c-acbf-e93a070c3e42)"
          },
          "metadata": {}
        }
      ],
      "metadata": {
        "jupyter": {
          "source_hidden": false,
          "outputs_hidden": false
        },
        "nteract": {
          "transient": {
            "deleting": false
          }
        },
        "collapsed": false
      },
      "source": [
        "# top 5 brand\r\n",
        "top_brand = df[df[\"EntityCode\"] == 'WideWorldImporters'].groupBy('BrandName').count().sort('count', ascending=False).limit(5) # only keep top 5 categories\r\n",
        "#top_category = top_category.withColumnRenamed(\"category_code\",\"category_code_tmp\")\r\n",
        "display(top_brand)"
      ]
    },
    {
      "cell_type": "code",
      "execution_count": 174,
      "outputs": [
        {
          "output_type": "display_data",
          "data": {
            "application/vnd.livy.statement-meta+json": {
              "spark_pool": "RetailSparkPool",
              "session_id": 12,
              "statement_id": 114,
              "state": "finished",
              "livy_statement_state": "available",
              "queued_time": "2022-01-07T16:39:47.7359336Z",
              "session_start_time": null,
              "execution_start_time": "2022-01-07T16:39:51.558833Z",
              "execution_finish_time": "2022-01-07T16:39:52.0767852Z"
            },
            "text/plain": "StatementMeta(RetailSparkPool, 12, 114, Finished, Available)"
          },
          "metadata": {}
        },
        {
          "output_type": "stream",
          "name": "stdout",
          "text": "+---------+-----+\n|ProductId|count|\n+---------+-----+\n|      125| 7521|\n|      124| 7555|\n|        7|15000|\n|       51|15014|\n|       54|15058|\n+---------+-----+\nonly showing top 5 rows"
        }
      ],
      "metadata": {
        "jupyter": {
          "source_hidden": false,
          "outputs_hidden": false
        },
        "nteract": {
          "transient": {
            "deleting": false
          }
        },
        "collapsed": false
      },
      "source": [
        "# Top 5 most bought products\r\n",
        "product_count = df.groupBy('ProductId').count()\r\n",
        "product_count.show(5)"
      ]
    },
    {
      "cell_type": "code",
      "execution_count": 175,
      "outputs": [
        {
          "output_type": "display_data",
          "data": {
            "application/vnd.livy.statement-meta+json": {
              "spark_pool": "RetailSparkPool",
              "session_id": 12,
              "statement_id": 115,
              "state": "finished",
              "livy_statement_state": "available",
              "queued_time": "2022-01-07T16:39:48.2221945Z",
              "session_start_time": null,
              "execution_start_time": "2022-01-07T16:39:52.1789569Z",
              "execution_finish_time": "2022-01-07T16:39:52.3295518Z"
            },
            "text/plain": "StatementMeta(RetailSparkPool, 12, 115, Finished, Available)"
          },
          "metadata": {}
        },
        {
          "output_type": "display_data",
          "data": {
            "text/plain": "['ProductId', 'CustomerId', 'count']"
          },
          "metadata": {}
        }
      ],
      "metadata": {
        "jupyter": {
          "source_hidden": false,
          "outputs_hidden": false
        },
        "nteract": {
          "transient": {
            "deleting": false
          }
        }
      },
      "source": [
        "raw_df = df\r\n",
        "\r\n",
        "product_count = df.groupBy('ProductId').count()\r\n",
        "#product_count = product_count.filter(\"count >= 3000\").orderBy('count', ascending=False) #only counts when the product has 20000 views\r\n",
        "\r\n",
        "raw_df = raw_df.withColumnRenamed(\"ProductId\",\"product_id_tmp\")\r\n",
        "raw_df = raw_df.join(product_count, raw_df.product_id_tmp == product_count.ProductId)\r\n",
        "\r\n",
        "user_count = df.groupBy('CustomerId').count()\r\n",
        "#user_count = user_count.filter(\"count >= 20\").orderBy('count', ascending=False) #only counts when the user has 100 clicks\r\n",
        "\r\n",
        "raw_df = raw_df.withColumnRenamed(\"CustomerId\",\"user_id_tmp\")\r\n",
        "raw_df = raw_df.join(user_count, raw_df.user_id_tmp == user_count.CustomerId)\r\n",
        "\r\n",
        "df = raw_df\r\n",
        "\r\n",
        "df = df.where(df.EntityCode == \"Contoso\")\r\n",
        "#df = df.drop(\"event_time\",\"category_code\",\"user_session\",\"price\",\"brand\",\"category_id\")\r\n",
        "df = df.groupBy([df.ProductId, df.CustomerId]).count()\r\n",
        "df.columns"
      ]
    },
    {
      "cell_type": "code",
      "execution_count": 176,
      "outputs": [
        {
          "output_type": "display_data",
          "data": {
            "application/vnd.livy.statement-meta+json": {
              "spark_pool": "RetailSparkPool",
              "session_id": 12,
              "statement_id": 116,
              "state": "finished",
              "livy_statement_state": "available",
              "queued_time": "2022-01-07T16:39:48.4168962Z",
              "session_start_time": null,
              "execution_start_time": "2022-01-07T16:39:52.4586236Z",
              "execution_finish_time": "2022-01-07T16:39:52.616855Z"
            },
            "text/plain": "StatementMeta(RetailSparkPool, 12, 116, Finished, Available)"
          },
          "metadata": {}
        },
        {
          "output_type": "stream",
          "name": "stdout",
          "text": "root\n |-- ProductId: integer (nullable = true)\n |-- CustomerId: integer (nullable = true)\n |-- count: long (nullable = false)"
        }
      ],
      "metadata": {},
      "source": [
        "from pyspark.sql.types import IntegerType\n",
        "df = df.withColumn(\"CustomerId\", df[\"CustomerId\"].cast(IntegerType()))\n",
        "df = df.withColumn(\"ProductId\", df[\"ProductId\"].cast(IntegerType()))\n",
        "df.printSchema()"
      ]
    },
    {
      "cell_type": "code",
      "execution_count": 177,
      "outputs": [
        {
          "output_type": "display_data",
          "data": {
            "application/vnd.livy.statement-meta+json": {
              "spark_pool": "RetailSparkPool",
              "session_id": 12,
              "statement_id": 117,
              "state": "finished",
              "livy_statement_state": "available",
              "queued_time": "2022-01-07T16:39:48.8569314Z",
              "session_start_time": null,
              "execution_start_time": "2022-01-07T16:39:52.7211373Z",
              "execution_finish_time": "2022-01-07T16:39:55.4843691Z"
            },
            "text/plain": "StatementMeta(RetailSparkPool, 12, 117, Finished, Available)"
          },
          "metadata": {}
        },
        {
          "output_type": "stream",
          "name": "stdout",
          "text": "+---------+----------+-----+\n|ProductId|CustomerId|count|\n+---------+----------+-----+\n|      125|       296|   11|\n|       15|       296|   11|\n|       54|       296|   22|\n|      101|       296|   11|\n|       29|       296|   11|\n+---------+----------+-----+\nonly showing top 5 rows"
        }
      ],
      "metadata": {
        "jupyter": {
          "source_hidden": false,
          "outputs_hidden": false
        },
        "nteract": {
          "transient": {
            "deleting": false
          }
        },
        "collapsed": false
      },
      "source": [
        "df.show(5)"
      ]
    },
    {
      "cell_type": "code",
      "execution_count": 178,
      "outputs": [
        {
          "output_type": "display_data",
          "data": {
            "application/vnd.livy.statement-meta+json": {
              "spark_pool": "RetailSparkPool",
              "session_id": 12,
              "statement_id": 118,
              "state": "finished",
              "livy_statement_state": "available",
              "queued_time": "2022-01-07T16:39:48.8717597Z",
              "session_start_time": null,
              "execution_start_time": "2022-01-07T16:39:55.5834768Z",
              "execution_finish_time": "2022-01-07T16:40:04.1752843Z"
            },
            "text/plain": "StatementMeta(RetailSparkPool, 12, 118, Finished, Available)"
          },
          "metadata": {}
        },
        {
          "output_type": "stream",
          "name": "stdout",
          "text": "Training Count:\nTest Count:\n"
        },
        {
          "output_type": "display_data",
          "data": {
            "text/plain": "17863"
          },
          "metadata": {}
        }
      ],
      "metadata": {},
      "source": [
        "#split the data into training and test datatset\n",
        "train,test=df.randomSplit([0.75,0.25])\n",
        "print(\"Training Count:\")\n",
        "train.count()\n",
        "\n",
        "print(\"Test Count:\")\n",
        "test.count()"
      ]
    },
    {
      "cell_type": "markdown",
      "metadata": {
        "nteract": {
          "transient": {
            "deleting": false
          }
        }
      },
      "source": [
        "#### Alternating least square (ALS) Recommender \r\n",
        "\r\n",
        "Apache Spark ML implements ALS for collaborative filtering, a very popular algorithm for making recommendations.\r\n",
        "\r\n",
        "ALS recommender is a matrix factorization algorithm that uses Alternating Least Squares with Weighted-Lamda-Regularization (ALS-WR). It factors the user to item matrix A into the user-to-feature matrix U and the item-to-feature matrix M: It runs the ALS algorithm in a parallel fashion. The ALS algorithm should uncover the latent factors that explain the observed user to item ratings and tries to find optimal factor weights to minimize the least squares between predicted and actual ratings."
      ]
    },
    {
      "cell_type": "code",
      "execution_count": 179,
      "outputs": [
        {
          "output_type": "display_data",
          "data": {
            "application/vnd.livy.statement-meta+json": {
              "spark_pool": "RetailSparkPool",
              "session_id": 12,
              "statement_id": 119,
              "state": "finished",
              "livy_statement_state": "available",
              "queued_time": "2022-01-07T16:39:48.9065088Z",
              "session_start_time": null,
              "execution_start_time": "2022-01-07T16:40:04.2882618Z",
              "execution_finish_time": "2022-01-07T16:40:15.4183821Z"
            },
            "text/plain": "StatementMeta(RetailSparkPool, 12, 119, Finished, Available)"
          },
          "metadata": {}
        },
        {
          "output_type": "stream",
          "name": "stdout",
          "text": "root\n |-- ProductId: integer (nullable = true)\n |-- CustomerId: integer (nullable = true)\n |-- count: long (nullable = false)\n |-- prediction: float (nullable = false)"
        }
      ],
      "metadata": {},
      "source": [
        "#import ALS recommender function from pyspark ml library\n",
        "from pyspark.ml.recommendation import ALS\n",
        "\n",
        "#Training the recommender model using train datatset\n",
        "rec = ALS(maxIter=10,regParam=0.20,implicitPrefs = True, userCol='CustomerId',itemCol='ProductId',\n",
        "            ratingCol='count',nonnegative=True,coldStartStrategy=\"drop\", rank=25)\n",
        "\n",
        "#fit the model on train set\n",
        "rec_model = rec.fit(train)\n",
        "\n",
        "#making predictions on test set \n",
        "predicted_ratings = rec_model.transform(test)\n",
        "\n",
        "#columns in predicted ratings dataframe\n",
        "predicted_ratings.printSchema()"
      ]
    },
    {
      "cell_type": "code",
      "execution_count": 180,
      "outputs": [
        {
          "output_type": "display_data",
          "data": {
            "application/vnd.livy.statement-meta+json": {
              "spark_pool": "RetailSparkPool",
              "session_id": 12,
              "statement_id": 120,
              "state": "finished",
              "livy_statement_state": "available",
              "queued_time": "2022-01-07T16:39:49.3368708Z",
              "session_start_time": null,
              "execution_start_time": "2022-01-07T16:40:15.5250106Z",
              "execution_finish_time": "2022-01-07T16:40:22.458495Z"
            },
            "text/plain": "StatementMeta(RetailSparkPool, 12, 120, Finished, Available)"
          },
          "metadata": {}
        },
        {
          "output_type": "stream",
          "name": "stdout",
          "text": "+---------+----------+-----+----------+\n|ProductId|CustomerId|count|prediction|\n+---------+----------+-----+----------+\n|       24|       781|   10|0.63058364|\n|       94|       144|   11|0.81831264|\n|       95|       658|   11|0.68371904|\n|      136|       265|   20|0.83226246|\n|      126|        99|   11| 0.8410328|\n|        4|       501|   33| 0.8276296|\n|      134|       104|   22| 0.7550775|\n|      102|       885|   11| 0.7919355|\n|       26|        97|   11| 0.5906551|\n|       85|       962|   11| 0.8203504|\n+---------+----------+-----+----------+\nonly showing top 10 rows"
        }
      ],
      "metadata": {},
      "source": [
        "#predicted vs actual ratings for test set \n",
        "predicted_ratings.orderBy(rand()).show(10)"
      ]
    },
    {
      "cell_type": "code",
      "execution_count": 181,
      "outputs": [
        {
          "output_type": "display_data",
          "data": {
            "application/vnd.livy.statement-meta+json": {
              "spark_pool": "RetailSparkPool",
              "session_id": 12,
              "statement_id": 121,
              "state": "finished",
              "livy_statement_state": "available",
              "queued_time": "2022-01-07T16:39:49.3382398Z",
              "session_start_time": null,
              "execution_start_time": "2022-01-07T16:40:22.5719434Z",
              "execution_finish_time": "2022-01-07T16:40:29.5584079Z"
            },
            "text/plain": "StatementMeta(RetailSparkPool, 12, 121, Finished, Available)"
          },
          "metadata": {}
        },
        {
          "output_type": "stream",
          "name": "stdout",
          "text": "+---------+----------+-----+----------+---------+\n|ProductId|CustomerId|count|prediction|      err|\n+---------+----------+-----+----------+---------+\n|       31|       243|   22|  0.861669| 21.13833|\n|       31|       623|   11| 0.7423455|10.257654|\n|       31|       137|   11| 0.7694933|10.230507|\n|       31|       796|   11| 0.8146975|10.185303|\n|       31|       300|   33| 0.9350311| 32.06497|\n+---------+----------+-----+----------+---------+\nonly showing top 5 rows"
        }
      ],
      "metadata": {},
      "source": [
        "predicted_ratings_witherr=predicted_ratings.withColumn('err',abs(predicted_ratings[\"prediction\"] - predicted_ratings[\"count\"]))\n",
        "predicted_ratings_witherr.show(5)"
      ]
    },
    {
      "cell_type": "code",
      "execution_count": 182,
      "outputs": [
        {
          "output_type": "display_data",
          "data": {
            "application/vnd.livy.statement-meta+json": {
              "spark_pool": "RetailSparkPool",
              "session_id": 12,
              "statement_id": 122,
              "state": "finished",
              "livy_statement_state": "available",
              "queued_time": "2022-01-07T16:39:49.5868455Z",
              "session_start_time": null,
              "execution_start_time": "2022-01-07T16:40:29.66267Z",
              "execution_finish_time": "2022-01-07T16:40:33.5993769Z"
            },
            "text/plain": "StatementMeta(RetailSparkPool, 12, 122, Finished, Available)"
          },
          "metadata": {}
        },
        {
          "output_type": "stream",
          "name": "stdout",
          "text": "+-----+-----+\n|count|count|\n+-----+-----+\n|   10| 2317|\n|   11|47068|\n|   20|  778|\n|   22|16629|\n|   30|  179|\n+-----+-----+\nonly showing top 5 rows"
        }
      ],
      "metadata": {},
      "source": [
        "df.groupBy('count').count().orderBy('count',ascending=True).show(5)"
      ]
    },
    {
      "cell_type": "code",
      "execution_count": 183,
      "outputs": [
        {
          "output_type": "display_data",
          "data": {
            "application/vnd.livy.statement-meta+json": {
              "spark_pool": "RetailSparkPool",
              "session_id": 12,
              "statement_id": 123,
              "state": "finished",
              "livy_statement_state": "available",
              "queued_time": "2022-01-07T16:39:49.5884222Z",
              "session_start_time": null,
              "execution_start_time": "2022-01-07T16:40:33.7033095Z",
              "execution_finish_time": "2022-01-07T16:40:40.688566Z"
            },
            "text/plain": "StatementMeta(RetailSparkPool, 12, 123, Finished, Available)"
          },
          "metadata": {}
        },
        {
          "output_type": "stream",
          "name": "stdout",
          "text": "+-----+------------------+\n|count|          avg(err)|\n+-----+------------------+\n|   10| 9.202115451683433|\n|   11| 10.18813630941823|\n|   20|19.208826695013485|\n|   22|21.189440337600413|\n|   30|29.209436779930478|\n+-----+------------------+\nonly showing top 5 rows"
        }
      ],
      "metadata": {},
      "source": [
        "predicted_ratings_witherr.groupBy('count').agg({'err':'mean'}).orderBy('count',ascending=True).show(5)"
      ]
    },
    {
      "cell_type": "code",
      "execution_count": 184,
      "outputs": [
        {
          "output_type": "display_data",
          "data": {
            "application/vnd.livy.statement-meta+json": {
              "spark_pool": "RetailSparkPool",
              "session_id": 12,
              "statement_id": 124,
              "state": "finished",
              "livy_statement_state": "available",
              "queued_time": "2022-01-07T16:39:50.1216641Z",
              "session_start_time": null,
              "execution_start_time": "2022-01-07T16:40:40.7917742Z",
              "execution_finish_time": "2022-01-07T16:40:48.0093032Z"
            },
            "text/plain": "StatementMeta(RetailSparkPool, 12, 124, Finished, Available)"
          },
          "metadata": {}
        },
        {
          "output_type": "stream",
          "name": "stdout",
          "text": "15.985428794658388"
        }
      ],
      "metadata": {},
      "source": [
        "#importing Regression Evaluator to measure RMSE\n",
        "from pyspark.ml.evaluation import RegressionEvaluator\n",
        "\n",
        "#create Regressor evaluator object for measuring accuracy\n",
        "evaluator=RegressionEvaluator(metricName='rmse',predictionCol='prediction',labelCol='count')\n",
        "\n",
        "#apply the RE on predictions dataframe to calculate RMSE\n",
        "rmse=evaluator.evaluate(predicted_ratings)\n",
        "print(rmse)"
      ]
    },
    {
      "cell_type": "code",
      "execution_count": 185,
      "outputs": [
        {
          "output_type": "display_data",
          "data": {
            "application/vnd.livy.statement-meta+json": {
              "spark_pool": "RetailSparkPool",
              "session_id": 12,
              "statement_id": 125,
              "state": "finished",
              "livy_statement_state": "available",
              "queued_time": "2022-01-07T16:39:50.1232454Z",
              "session_start_time": null,
              "execution_start_time": "2022-01-07T16:40:48.1054215Z",
              "execution_finish_time": "2022-01-07T16:40:53.4418875Z"
            },
            "text/plain": "StatementMeta(RetailSparkPool, 12, 125, Finished, Available)"
          },
          "metadata": {}
        }
      ],
      "metadata": {},
      "source": [
        "# Save the model\n",
        "rec_model.write().overwrite().save(\"retailai_recommendation_model\")"
      ]
    },
    {
      "cell_type": "markdown",
      "metadata": {
        "nteract": {
          "transient": {
            "deleting": false
          }
        }
      },
      "source": [
        "###  Below modules can be used to compute recommendations for targeted customers from the above trained ALS model\r\n",
        ""
      ]
    },
    {
      "cell_type": "code",
      "execution_count": 186,
      "outputs": [
        {
          "output_type": "display_data",
          "data": {
            "application/vnd.livy.statement-meta+json": {
              "spark_pool": "RetailSparkPool",
              "session_id": 12,
              "statement_id": 126,
              "state": "finished",
              "livy_statement_state": "available",
              "queued_time": "2022-01-07T16:39:50.1510842Z",
              "session_start_time": null,
              "execution_start_time": "2022-01-07T16:40:53.5733259Z",
              "execution_finish_time": "2022-01-07T16:40:54.6395635Z"
            },
            "text/plain": "StatementMeta(RetailSparkPool, 12, 126, Finished, Available)"
          },
          "metadata": {}
        },
        {
          "output_type": "stream",
          "name": "stdout",
          "text": "ALS_a67819b261ab"
        }
      ],
      "metadata": {},
      "source": [
        "# loading above trained recommendation model\n",
        "from pyspark.ml.recommendation import ALSModel\n",
        "model_reload = ALSModel.load(\"retailai_recommendation_model\")\n",
        "print(model_reload)"
      ]
    },
    {
      "cell_type": "markdown",
      "metadata": {
        "nteract": {
          "transient": {
            "deleting": false
          }
        }
      },
      "source": [
        "An item-based recommender model that computes cosine similarity for each item pairs using the item factors matrix generated by Spark MLlib’s ALS algorithm and recommends top 5 products based on the selected customers.\r\n",
        "\r\n",
        ""
      ]
    },
    {
      "cell_type": "code",
      "execution_count": 187,
      "outputs": [
        {
          "output_type": "display_data",
          "data": {
            "application/vnd.livy.statement-meta+json": {
              "spark_pool": "RetailSparkPool",
              "session_id": 12,
              "statement_id": 127,
              "state": "finished",
              "livy_statement_state": "available",
              "queued_time": "2022-01-07T16:39:50.1712166Z",
              "session_start_time": null,
              "execution_start_time": "2022-01-07T16:40:54.7432087Z",
              "execution_finish_time": "2022-01-07T16:40:54.8892988Z"
            },
            "text/plain": "StatementMeta(RetailSparkPool, 12, 127, Finished, Available)"
          },
          "metadata": {}
        }
      ],
      "metadata": {},
      "source": [
        "from pyspark.sql import Row\n",
        "from pyspark.sql.functions import col\n",
        "import numpy as np\n",
        "from numpy import linalg as LA\n",
        "from pyspark.ml.recommendation import ALSModel\n",
        "\n",
        "class ItemBasedRecommender():\n",
        "\n",
        "    def __init__(self, model, spark):\n",
        "        self.model = model\n",
        "        self.spark = spark\n",
        "        self.itemFactors = self.model.itemFactors\n",
        "\n",
        "    def compute_similarity(self, item_id):\n",
        "        item = self.itemFactors.where(\n",
        "            col('id') == item_id).select(col('features'))\n",
        "        item_features = item.rdd.map(lambda x: x.features).first()\n",
        "\n",
        "        lol = []\n",
        "        for row in self.itemFactors.rdd.toLocalIterator():\n",
        "            _id = row.__getattr__('id')\n",
        "            features = row.__getattr__('features')\n",
        "            similarity_score = self._cosine_similarity(features, item_features)\n",
        "            if _id != item_id:\n",
        "                lol.append([_id, similarity_score])\n",
        "\n",
        "        R = Row('item_index', 'similarity_score')\n",
        "        self.similar_items_df = self.spark.createDataFrame(\n",
        "            [R(col[0], float(col[1])) for col in lol])\n",
        "        self.similar_items_df = self.similar_items_df.orderBy(\n",
        "            col('similarity_score').desc()).na.drop()\n",
        "        return self.similar_items_df\n",
        "\n",
        "\n",
        "    def _cosine_similarity(self, vector_1, vector_2):\n",
        "        v1 = np.asarray(vector_1)\n",
        "        v2 = np.asarray(vector_2)\n",
        "        cs = v1.dot(v2) / (LA.norm(v1) * LA.norm(v2))\n",
        "        return(cs)"
      ]
    },
    {
      "cell_type": "markdown",
      "metadata": {
        "nteract": {
          "transient": {
            "deleting": false
          }
        }
      },
      "source": [
        "### Input the CustomerIDs of the millennials to get the top 5 recommended products"
      ]
    },
    {
      "cell_type": "code",
      "execution_count": 240,
      "outputs": [
        {
          "output_type": "display_data",
          "data": {
            "application/vnd.livy.statement-meta+json": {
              "spark_pool": "RetailSparkPool",
              "session_id": 12,
              "statement_id": 180,
              "state": "finished",
              "livy_statement_state": "available",
              "queued_time": "2022-01-07T16:52:39.2317382Z",
              "session_start_time": null,
              "execution_start_time": "2022-01-07T16:52:39.349621Z",
              "execution_finish_time": "2022-01-07T16:52:42.108139Z"
            },
            "text/plain": "StatementMeta(RetailSparkPool, 12, 180, Finished, Available)"
          },
          "metadata": {}
        },
        {
          "output_type": "stream",
          "name": "stdout",
          "text": "+----------+------------------+\n|item_index|  similarity_score|\n+----------+------------------+\n|        13|0.6715755562542827|\n|        25|0.6637896955347723|\n|        75|0.6419629417589321|\n|        18|0.6197625370885771|\n|        77|0.6194915714535928|\n+----------+------------------+\nonly showing top 5 rows"
        }
      ],
      "metadata": {
        "jupyter": {
          "source_hidden": false,
          "outputs_hidden": false
        },
        "nteract": {
          "transient": {
            "deleting": false
          }
        }
      },
      "source": [
        "# CustomerID as input. Note: this is the normalized CustomerID starting from 0.        \r\n",
        "CustomerID = 24\r\n",
        "item_based_rec = ItemBasedRecommender(model_reload, spark)\r\n",
        "ret_df = item_based_rec.compute_similarity(CustomerID)\r\n",
        "\r\n",
        "ret_df.show(5)"
      ]
    },
    {
      "cell_type": "markdown",
      "metadata": {
        "nteract": {
          "transient": {
            "deleting": false
          }
        }
      },
      "source": [
        "#### For WideWorldImporters, top 5 recommended products\r\n",
        ""
      ]
    },
    {
      "cell_type": "code",
      "execution_count": 241,
      "outputs": [
        {
          "output_type": "display_data",
          "data": {
            "application/vnd.livy.statement-meta+json": {
              "spark_pool": "RetailSparkPool",
              "session_id": 12,
              "statement_id": 181,
              "state": "finished",
              "livy_statement_state": "available",
              "queued_time": "2022-01-07T16:52:46.5016817Z",
              "session_start_time": null,
              "execution_start_time": "2022-01-07T16:52:46.6296084Z",
              "execution_finish_time": "2022-01-07T16:52:47.3672312Z"
            },
            "text/plain": "StatementMeta(RetailSparkPool, 12, 181, Finished, Available)"
          },
          "metadata": {}
        },
        {
          "output_type": "stream",
          "name": "stdout",
          "text": "+--------------------+---------+--------------------+------------------+------------------+\n|   ProductCategories|ProductId|           BrandName|        EntityCode|  similarity_score|\n+--------------------+---------+--------------------+------------------+------------------+\n|            Clothing|       13|           Proseware|WideWorldImporters|0.6715755562542827|\n|      Sporting Goods|       25|Cronus International|WideWorldImporters|0.6637896955347723|\n|                Life|       75|              Cpandl|WideWorldImporters|0.6419629417589321|\n|Menswear; Womenswear|       18|           Proseware|WideWorldImporters|0.6197625370885771|\n|                Life|       77|              Cpandl|WideWorldImporters|0.6194915714535928|\n+--------------------+---------+--------------------+------------------+------------------+\nonly showing top 5 rows"
        }
      ],
      "metadata": {
        "jupyter": {
          "source_hidden": false,
          "outputs_hidden": false
        },
        "nteract": {
          "transient": {
            "deleting": false
          }
        },
        "collapsed": false
      },
      "source": [
        "df_product_wwi = df_product[df_product[\"EntityCode\"] == 'WideWorldImporters']\r\n",
        "rec_df = df_product_wwi.join(ret_df, (df_product_wwi[\"ProductId\"]==ret_df[\"item_index\"]))\r\n",
        "\r\n",
        "rec_df[[ 'ProductCategories', 'ProductId', 'BrandName', 'EntityCode', \"similarity_score\"]].show(5)"
      ]
    }
  ],
  "metadata": {
    "description": "notebook",
    "save_output": true,
    "kernelspec": {
      "name": "synapse_pyspark",
      "display_name": "Synapse PySpark"
    },
    "language_info": {
      "name": "python"
    },
    "synapse_widget": {
      "version": "0.1",
      "state": {
        "9a302add-850f-499c-acbf-e93a070c3e42": {
          "type": "Synapse.DataFrame",
          "sync_state": {
            "table": {
              "rows": [
                {
                  "0": "Cpandl",
                  "1": "120437"
                },
                {
                  "0": "Cronus International",
                  "1": "120251"
                },
                {
                  "0": "Terra Firm",
                  "1": "105440"
                },
                {
                  "0": "Fabrikam",
                  "1": "75105"
                },
                {
                  "0": "Proseware",
                  "1": "45008"
                }
              ],
              "schema": [
                {
                  "key": "0",
                  "name": "BrandName",
                  "type": "string"
                },
                {
                  "key": "1",
                  "name": "count",
                  "type": "bigint"
                }
              ],
              "truncated": false
            },
            "isSummary": false,
            "language": "scala"
          },
          "persist_state": {
            "view": {
              "type": "details",
              "tableOptions": {},
              "chartOptions": {
                "chartType": "bar",
                "aggregationType": "sum",
                "categoryFieldKeys": [
                  "0"
                ],
                "seriesFieldKeys": [
                  "1"
                ],
                "isStacked": false
              }
            }
          }
        }
      }
    }
  }
}