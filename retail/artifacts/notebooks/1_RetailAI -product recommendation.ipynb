{
  "cells": [
    {
      "cell_type": "markdown",
      "metadata": {
        "nteract": {
          "transient": {
            "deleting": false
          }
        }
      },
      "source": [
        "# Azure-Synapse-Retail-Recommender-Solution-Accelerator\n",
        "\n",
        "_This accelerator is built to provide developers to quickly build a Retail Recommender Solution based on Azure Synapse Analytics Platform._\n",
        "\n",
        "![image-alt-text](https://d33wubrfki0l68.cloudfront.net/0d75c87ae627b0413623ca5d07c6be5add5a7bb1/052bd/assets/images/posts/carts.jpg)"
      ]
    },
    {
      "cell_type": "code",
      "execution_count": 169,
      "metadata": {},
      "outputs": [
        {
          "data": {
            "application/vnd.livy.statement-meta+json": {
              "execution_finish_time": "2022-01-07T16:39:46.6839371Z",
              "execution_start_time": "2022-01-07T16:39:46.6838197Z",
              "livy_statement_state": "available",
              "queued_time": "2022-01-07T16:39:46.5672747Z",
              "session_id": 12,
              "session_start_time": null,
              "spark_pool": "RetailSparkPool",
              "state": "finished",
              "statement_id": 109
            },
            "text/plain": [
              "StatementMeta(RetailSparkPool, 12, 109, Finished, Available)"
            ]
          },
          "metadata": {},
          "output_type": "display_data"
        },
        {
          "name": "stdout",
          "output_type": "stream",
          "text": [
            "3.6.11 | packaged by conda-forge | (default, Aug  5 2020, 20:04:48) \n",
            "[GCC 7.5.0]"
          ]
        }
      ],
      "source": [
        "# ∗∗∗∗∗∗∗∗∗∗ Important – Do not use in production, for demonstration purposes only – please review the legal notices before continuing ∗∗∗∗∗\n",
        "# Check synapse version\n",
        "import sys\n",
        "print(sys.version)"
      ]
    },
    {
      "cell_type": "code",
      "execution_count": 170,
      "metadata": {},
      "outputs": [
        {
          "data": {
            "application/vnd.livy.statement-meta+json": {
              "execution_finish_time": "2022-01-07T16:39:47.7151005Z",
              "execution_start_time": "2022-01-07T16:39:47.7149295Z",
              "livy_statement_state": "available",
              "queued_time": "2022-01-07T16:39:47.5966419Z",
              "session_id": 12,
              "session_start_time": null,
              "spark_pool": "RetailSparkPool",
              "state": "finished",
              "statement_id": 110
            },
            "text/plain": [
              "StatementMeta(RetailSparkPool, 12, 110, Finished, Available)"
            ]
          },
          "metadata": {},
          "output_type": "display_data"
        }
      ],
      "source": [
        "# loading required packages\n",
        "import matplotlib.pyplot as plt\n",
        "from datetime import datetime\n",
        "from dateutil import parser\n",
        "from pyspark.sql.functions import unix_timestamp\n",
        "\n",
        "from pyspark.sql import SparkSession\n",
        "from pyspark.sql.types import *\n",
        "from pyspark.sql.functions import *\n",
        "\n",
        "from pyspark.ml import Pipeline\n",
        "from pyspark.ml import PipelineModel\n",
        "from pyspark.ml.feature import RFormula\n",
        "from pyspark.ml.feature import OneHotEncoder, StringIndexer, VectorIndexer\n",
        "from pyspark.ml.classification import LogisticRegression\n",
        "from pyspark.mllib.evaluation import BinaryClassificationMetrics\n",
        "from pyspark.ml.evaluation import BinaryClassificationEvaluator"
      ]
    },
    {
      "cell_type": "markdown",
      "metadata": {
        "nteract": {
          "transient": {
            "deleting": false
          }
        }
      },
      "source": [
        "### Data Ingestion\n",
        "###### Read Spark table as a Spark dataframe\n",
        "Loading Order, Customer and Product data from WWIRetailLakeDB"
      ]
    },
    {
      "cell_type": "code",
      "execution_count": 171,
      "metadata": {
        "jupyter": {
          "outputs_hidden": false,
          "source_hidden": false
        },
        "microsoft": {
          "language": "python"
        },
        "nteract": {
          "transient": {
            "deleting": false
          }
        }
      },
      "outputs": [
        {
          "data": {
            "application/vnd.livy.statement-meta+json": {
              "execution_finish_time": "2022-01-07T16:39:50.5881684Z",
              "execution_start_time": "2022-01-07T16:39:47.8208848Z",
              "livy_statement_state": "available",
              "queued_time": "2022-01-07T16:39:47.6416059Z",
              "session_id": 12,
              "session_start_time": null,
              "spark_pool": "RetailSparkPool",
              "state": "finished",
              "statement_id": 111
            },
            "text/plain": [
              "StatementMeta(RetailSparkPool, 12, 111, Finished, Available)"
            ]
          },
          "metadata": {},
          "output_type": "display_data"
        },
        {
          "name": "stdout",
          "output_type": "stream",
          "text": [
            "Order =======================================================\n",
            "['OrderId', 'CustomerId', 'ProductSalesPriceAmount', 'ProductListPriceAmount', 'TotalShippingChargeAmount', 'OrderTotalTaxAmount', 'OrderStatus', 'Quantity', 'ProductAdjustmentAmount', 'ProductAdjustmentPercentage', 'ProductId', 'QuantityBooked', 'QuantityBilled']\n",
            "98880\n",
            "Brand =======================================================\n",
            "['BrandName', 'BrandDescription', 'EntityCode', 'BrandId']\n",
            "14\n",
            "Customer =======================================================\n",
            "['CustomerId', 'CustomerFirstName', 'CustomerMiddleName', 'CustomerLastName', 'CustomerFullName', 'CustomerDOB']\n",
            "105916\n",
            "Product =======================================================\n",
            "['ProductCategories', 'ProductName', 'ProductId', 'ItemSku', 'ProductShortDescription', 'ProductDescription', 'BrandName', 'EntityCode']\n",
            "212"
          ]
        }
      ],
      "source": [
        "%%pyspark\n",
        "df_order = spark.sql(\"SELECT * FROM WWIRetailLakeDB.Order\")\n",
        "df_order = df_order.drop(\"ItemSku\", \"EntityCode\", \"Brand\")\n",
        "print(\"Order =======================================================\")\n",
        "print(df_order.columns)\n",
        "print(df_order.count())\n",
        "\n",
        "df_brand = spark.sql(\"SELECT * FROM WWIRetailLakeDB.Brand\")\n",
        "print(\"Brand =======================================================\")\n",
        "print(df_brand.columns)\n",
        "print(df_brand.count())\n",
        "\n",
        "df_customer = spark.sql(\"SELECT * FROM WWIRetailLakeDB.Customer\")\n",
        "df_customer = df_customer.drop(\"EntityCode\", \"OrderId\")\n",
        "print(\"Customer =======================================================\")\n",
        "print(df_customer.columns)\n",
        "print(df_customer.count())\n",
        "\n",
        "df_product = spark.sql(\"SELECT * FROM WWIRetailLakeDB.Product\")\n",
        "print(\"Product =======================================================\")\n",
        "print(df_product.columns)\n",
        "print(df_product.count())"
      ]
    },
    {
      "cell_type": "code",
      "execution_count": 172,
      "metadata": {
        "jupyter": {
          "outputs_hidden": false,
          "source_hidden": false
        },
        "nteract": {
          "transient": {
            "deleting": false
          }
        }
      },
      "outputs": [
        {
          "data": {
            "application/vnd.livy.statement-meta+json": {
              "execution_finish_time": "2022-01-07T16:39:50.834558Z",
              "execution_start_time": "2022-01-07T16:39:50.6877904Z",
              "livy_statement_state": "available",
              "queued_time": "2022-01-07T16:39:47.6516049Z",
              "session_id": 12,
              "session_start_time": null,
              "spark_pool": "RetailSparkPool",
              "state": "finished",
              "statement_id": 112
            },
            "text/plain": [
              "StatementMeta(RetailSparkPool, 12, 112, Finished, Available)"
            ]
          },
          "metadata": {},
          "output_type": "display_data"
        },
        {
          "name": "stdout",
          "output_type": "stream",
          "text": [
            "Columns: \n",
            "['CustomerId', 'ProductId', 'OrderId', 'ProductSalesPriceAmount', 'ProductListPriceAmount', 'TotalShippingChargeAmount', 'OrderTotalTaxAmount', 'OrderStatus', 'Quantity', 'ProductAdjustmentAmount', 'ProductAdjustmentPercentage', 'QuantityBooked', 'QuantityBilled', 'ProductCategories', 'ProductName', 'ItemSku', 'ProductShortDescription', 'ProductDescription', 'BrandName', 'EntityCode', 'CustomerFirstName', 'CustomerMiddleName', 'CustomerLastName', 'CustomerFullName', 'CustomerDOB']\n",
            "No. of rows: 1594430"
          ]
        }
      ],
      "source": [
        "# Combining customer, order and product data\n",
        "df = df_order.join(df_product, on='ProductId')\n",
        "df = df.join(df_customer, on='CustomerId')\n",
        "\n",
        "print(\"Columns: \")\n",
        "print(df.columns)\n",
        "print(\"No. of rows:\", df.count())"
      ]
    },
    {
      "cell_type": "code",
      "execution_count": 173,
      "metadata": {
        "collapsed": false,
        "jupyter": {
          "outputs_hidden": false,
          "source_hidden": false
        },
        "nteract": {
          "transient": {
            "deleting": false
          }
        }
      },
      "outputs": [
        {
          "data": {
            "application/vnd.livy.statement-meta+json": {
              "execution_finish_time": "2022-01-07T16:39:51.4453881Z",
              "execution_start_time": "2022-01-07T16:39:50.9404498Z",
              "livy_statement_state": "available",
              "queued_time": "2022-01-07T16:39:47.666242Z",
              "session_id": 12,
              "session_start_time": null,
              "spark_pool": "RetailSparkPool",
              "state": "finished",
              "statement_id": 113
            },
            "text/plain": [
              "StatementMeta(RetailSparkPool, 12, 113, Finished, Available)"
            ]
          },
          "metadata": {},
          "output_type": "display_data"
        },
        {
          "data": {
            "application/vnd.synapse.widget-view+json": {
              "widget_id": "9a302add-850f-499c-acbf-e93a070c3e42",
              "widget_type": "Synapse.DataFrame"
            },
            "text/plain": [
              "SynapseWidget(Synapse.DataFrame, 9a302add-850f-499c-acbf-e93a070c3e42)"
            ]
          },
          "metadata": {},
          "output_type": "display_data"
        }
      ],
      "source": [
        "# top 5 brand\n",
        "top_brand = df[df[\"EntityCode\"] == 'WideWorldImporters'].groupBy('BrandName').count().sort('count', ascending=False).limit(5) # only keep top 5 categories\n",
        "#top_category = top_category.withColumnRenamed(\"category_code\",\"category_code_tmp\")\n",
        "display(top_brand)"
      ]
    },
    {
      "cell_type": "code",
      "execution_count": 174,
      "metadata": {
        "collapsed": false,
        "jupyter": {
          "outputs_hidden": false,
          "source_hidden": false
        },
        "nteract": {
          "transient": {
            "deleting": false
          }
        }
      },
      "outputs": [
        {
          "data": {
            "application/vnd.livy.statement-meta+json": {
              "execution_finish_time": "2022-01-07T16:39:52.0767852Z",
              "execution_start_time": "2022-01-07T16:39:51.558833Z",
              "livy_statement_state": "available",
              "queued_time": "2022-01-07T16:39:47.7359336Z",
              "session_id": 12,
              "session_start_time": null,
              "spark_pool": "RetailSparkPool",
              "state": "finished",
              "statement_id": 114
            },
            "text/plain": [
              "StatementMeta(RetailSparkPool, 12, 114, Finished, Available)"
            ]
          },
          "metadata": {},
          "output_type": "display_data"
        },
        {
          "name": "stdout",
          "output_type": "stream",
          "text": [
            "+---------+-----+\n",
            "|ProductId|count|\n",
            "+---------+-----+\n",
            "|      125| 7521|\n",
            "|      124| 7555|\n",
            "|        7|15000|\n",
            "|       51|15014|\n",
            "|       54|15058|\n",
            "+---------+-----+\n",
            "only showing top 5 rows"
          ]
        }
      ],
      "source": [
        "# Top 5 most bought products\n",
        "product_count = df.groupBy('ProductId').count()\n",
        "product_count.show(5)"
      ]
    },
    {
      "cell_type": "code",
      "execution_count": 175,
      "metadata": {
        "jupyter": {
          "outputs_hidden": false,
          "source_hidden": false
        },
        "nteract": {
          "transient": {
            "deleting": false
          }
        }
      },
      "outputs": [
        {
          "data": {
            "application/vnd.livy.statement-meta+json": {
              "execution_finish_time": "2022-01-07T16:39:52.3295518Z",
              "execution_start_time": "2022-01-07T16:39:52.1789569Z",
              "livy_statement_state": "available",
              "queued_time": "2022-01-07T16:39:48.2221945Z",
              "session_id": 12,
              "session_start_time": null,
              "spark_pool": "RetailSparkPool",
              "state": "finished",
              "statement_id": 115
            },
            "text/plain": [
              "StatementMeta(RetailSparkPool, 12, 115, Finished, Available)"
            ]
          },
          "metadata": {},
          "output_type": "display_data"
        },
        {
          "data": {
            "text/plain": [
              "['ProductId', 'CustomerId', 'count']"
            ]
          },
          "metadata": {},
          "output_type": "display_data"
        }
      ],
      "source": [
        "raw_df = df\n",
        "\n",
        "product_count = df.groupBy('ProductId').count()\n",
        "#product_count = product_count.filter(\"count >= 3000\").orderBy('count', ascending=False) #only counts when the product has 20000 views\n",
        "\n",
        "raw_df = raw_df.withColumnRenamed(\"ProductId\",\"product_id_tmp\")\n",
        "raw_df = raw_df.join(product_count, raw_df.product_id_tmp == product_count.ProductId)\n",
        "\n",
        "user_count = df.groupBy('CustomerId').count()\n",
        "#user_count = user_count.filter(\"count >= 20\").orderBy('count', ascending=False) #only counts when the user has 100 clicks\n",
        "\n",
        "raw_df = raw_df.withColumnRenamed(\"CustomerId\",\"user_id_tmp\")\n",
        "raw_df = raw_df.join(user_count, raw_df.user_id_tmp == user_count.CustomerId)\n",
        "\n",
        "df = raw_df\n",
        "\n",
        "df = df.where(df.EntityCode == \"Contoso\")\n",
        "#df = df.drop(\"event_time\",\"category_code\",\"user_session\",\"price\",\"brand\",\"category_id\")\n",
        "df = df.groupBy([df.ProductId, df.CustomerId]).count()\n",
        "df.columns"
      ]
    },
    {
      "cell_type": "code",
      "execution_count": 176,
      "metadata": {},
      "outputs": [
        {
          "data": {
            "application/vnd.livy.statement-meta+json": {
              "execution_finish_time": "2022-01-07T16:39:52.616855Z",
              "execution_start_time": "2022-01-07T16:39:52.4586236Z",
              "livy_statement_state": "available",
              "queued_time": "2022-01-07T16:39:48.4168962Z",
              "session_id": 12,
              "session_start_time": null,
              "spark_pool": "RetailSparkPool",
              "state": "finished",
              "statement_id": 116
            },
            "text/plain": [
              "StatementMeta(RetailSparkPool, 12, 116, Finished, Available)"
            ]
          },
          "metadata": {},
          "output_type": "display_data"
        },
        {
          "name": "stdout",
          "output_type": "stream",
          "text": [
            "root\n",
            " |-- ProductId: integer (nullable = true)\n",
            " |-- CustomerId: integer (nullable = true)\n",
            " |-- count: long (nullable = false)"
          ]
        }
      ],
      "source": [
        "from pyspark.sql.types import IntegerType\n",
        "df = df.withColumn(\"CustomerId\", df[\"CustomerId\"].cast(IntegerType()))\n",
        "df = df.withColumn(\"ProductId\", df[\"ProductId\"].cast(IntegerType()))\n",
        "df.printSchema()"
      ]
    },
    {
      "cell_type": "code",
      "execution_count": 177,
      "metadata": {
        "collapsed": false,
        "jupyter": {
          "outputs_hidden": false,
          "source_hidden": false
        },
        "nteract": {
          "transient": {
            "deleting": false
          }
        }
      },
      "outputs": [
        {
          "data": {
            "application/vnd.livy.statement-meta+json": {
              "execution_finish_time": "2022-01-07T16:39:55.4843691Z",
              "execution_start_time": "2022-01-07T16:39:52.7211373Z",
              "livy_statement_state": "available",
              "queued_time": "2022-01-07T16:39:48.8569314Z",
              "session_id": 12,
              "session_start_time": null,
              "spark_pool": "RetailSparkPool",
              "state": "finished",
              "statement_id": 117
            },
            "text/plain": [
              "StatementMeta(RetailSparkPool, 12, 117, Finished, Available)"
            ]
          },
          "metadata": {},
          "output_type": "display_data"
        },
        {
          "name": "stdout",
          "output_type": "stream",
          "text": [
            "+---------+----------+-----+\n",
            "|ProductId|CustomerId|count|\n",
            "+---------+----------+-----+\n",
            "|      125|       296|   11|\n",
            "|       15|       296|   11|\n",
            "|       54|       296|   22|\n",
            "|      101|       296|   11|\n",
            "|       29|       296|   11|\n",
            "+---------+----------+-----+\n",
            "only showing top 5 rows"
          ]
        }
      ],
      "source": [
        "df.show(5)"
      ]
    },
    {
      "cell_type": "code",
      "execution_count": 178,
      "metadata": {},
      "outputs": [
        {
          "data": {
            "application/vnd.livy.statement-meta+json": {
              "execution_finish_time": "2022-01-07T16:40:04.1752843Z",
              "execution_start_time": "2022-01-07T16:39:55.5834768Z",
              "livy_statement_state": "available",
              "queued_time": "2022-01-07T16:39:48.8717597Z",
              "session_id": 12,
              "session_start_time": null,
              "spark_pool": "RetailSparkPool",
              "state": "finished",
              "statement_id": 118
            },
            "text/plain": [
              "StatementMeta(RetailSparkPool, 12, 118, Finished, Available)"
            ]
          },
          "metadata": {},
          "output_type": "display_data"
        },
        {
          "name": "stdout",
          "output_type": "stream",
          "text": [
            "Training Count:\n",
            "Test Count:\n"
          ]
        },
        {
          "data": {
            "text/plain": [
              "17863"
            ]
          },
          "metadata": {},
          "output_type": "display_data"
        }
      ],
      "source": [
        "#split the data into training and test datatset\n",
        "train,test=df.randomSplit([0.75,0.25])\n",
        "print(\"Training Count:\")\n",
        "train.count()\n",
        "\n",
        "print(\"Test Count:\")\n",
        "test.count()"
      ]
    },
    {
      "cell_type": "markdown",
      "metadata": {
        "nteract": {
          "transient": {
            "deleting": false
          }
        }
      },
      "source": [
        "#### Alternating least square (ALS) Recommender \n",
        "\n",
        "Apache Spark ML implements ALS for collaborative filtering, a very popular algorithm for making recommendations.\n",
        "\n",
        "ALS recommender is a matrix factorization algorithm that uses Alternating Least Squares with Weighted-Lamda-Regularization (ALS-WR). It factors the user to item matrix A into the user-to-feature matrix U and the item-to-feature matrix M: It runs the ALS algorithm in a parallel fashion. The ALS algorithm should uncover the latent factors that explain the observed user to item ratings and tries to find optimal factor weights to minimize the least squares between predicted and actual ratings."
      ]
    },
    {
      "cell_type": "code",
      "execution_count": 179,
      "metadata": {},
      "outputs": [
        {
          "data": {
            "application/vnd.livy.statement-meta+json": {
              "execution_finish_time": "2022-01-07T16:40:15.4183821Z",
              "execution_start_time": "2022-01-07T16:40:04.2882618Z",
              "livy_statement_state": "available",
              "queued_time": "2022-01-07T16:39:48.9065088Z",
              "session_id": 12,
              "session_start_time": null,
              "spark_pool": "RetailSparkPool",
              "state": "finished",
              "statement_id": 119
            },
            "text/plain": [
              "StatementMeta(RetailSparkPool, 12, 119, Finished, Available)"
            ]
          },
          "metadata": {},
          "output_type": "display_data"
        },
        {
          "name": "stdout",
          "output_type": "stream",
          "text": [
            "root\n",
            " |-- ProductId: integer (nullable = true)\n",
            " |-- CustomerId: integer (nullable = true)\n",
            " |-- count: long (nullable = false)\n",
            " |-- prediction: float (nullable = false)"
          ]
        }
      ],
      "source": [
        "#import ALS recommender function from pyspark ml library\n",
        "from pyspark.ml.recommendation import ALS\n",
        "\n",
        "#Training the recommender model using train datatset\n",
        "rec = ALS(maxIter=10,regParam=0.20,implicitPrefs = True, userCol='CustomerId',itemCol='ProductId',\n",
        "            ratingCol='count',nonnegative=True,coldStartStrategy=\"drop\", rank=25)\n",
        "\n",
        "#fit the model on train set\n",
        "rec_model = rec.fit(train)\n",
        "\n",
        "#making predictions on test set \n",
        "predicted_ratings = rec_model.transform(test)\n",
        "\n",
        "#columns in predicted ratings dataframe\n",
        "predicted_ratings.printSchema()"
      ]
    },
    {
      "cell_type": "code",
      "execution_count": 180,
      "metadata": {},
      "outputs": [
        {
          "data": {
            "application/vnd.livy.statement-meta+json": {
              "execution_finish_time": "2022-01-07T16:40:22.458495Z",
              "execution_start_time": "2022-01-07T16:40:15.5250106Z",
              "livy_statement_state": "available",
              "queued_time": "2022-01-07T16:39:49.3368708Z",
              "session_id": 12,
              "session_start_time": null,
              "spark_pool": "RetailSparkPool",
              "state": "finished",
              "statement_id": 120
            },
            "text/plain": [
              "StatementMeta(RetailSparkPool, 12, 120, Finished, Available)"
            ]
          },
          "metadata": {},
          "output_type": "display_data"
        },
        {
          "name": "stdout",
          "output_type": "stream",
          "text": [
            "+---------+----------+-----+----------+\n",
            "|ProductId|CustomerId|count|prediction|\n",
            "+---------+----------+-----+----------+\n",
            "|       24|       781|   10|0.63058364|\n",
            "|       94|       144|   11|0.81831264|\n",
            "|       95|       658|   11|0.68371904|\n",
            "|      136|       265|   20|0.83226246|\n",
            "|      126|        99|   11| 0.8410328|\n",
            "|        4|       501|   33| 0.8276296|\n",
            "|      134|       104|   22| 0.7550775|\n",
            "|      102|       885|   11| 0.7919355|\n",
            "|       26|        97|   11| 0.5906551|\n",
            "|       85|       962|   11| 0.8203504|\n",
            "+---------+----------+-----+----------+\n",
            "only showing top 10 rows"
          ]
        }
      ],
      "source": [
        "#predicted vs actual ratings for test set \n",
        "predicted_ratings.orderBy(rand()).show(10)"
      ]
    },
    {
      "cell_type": "code",
      "execution_count": 181,
      "metadata": {},
      "outputs": [
        {
          "data": {
            "application/vnd.livy.statement-meta+json": {
              "execution_finish_time": "2022-01-07T16:40:29.5584079Z",
              "execution_start_time": "2022-01-07T16:40:22.5719434Z",
              "livy_statement_state": "available",
              "queued_time": "2022-01-07T16:39:49.3382398Z",
              "session_id": 12,
              "session_start_time": null,
              "spark_pool": "RetailSparkPool",
              "state": "finished",
              "statement_id": 121
            },
            "text/plain": [
              "StatementMeta(RetailSparkPool, 12, 121, Finished, Available)"
            ]
          },
          "metadata": {},
          "output_type": "display_data"
        },
        {
          "name": "stdout",
          "output_type": "stream",
          "text": [
            "+---------+----------+-----+----------+---------+\n",
            "|ProductId|CustomerId|count|prediction|      err|\n",
            "+---------+----------+-----+----------+---------+\n",
            "|       31|       243|   22|  0.861669| 21.13833|\n",
            "|       31|       623|   11| 0.7423455|10.257654|\n",
            "|       31|       137|   11| 0.7694933|10.230507|\n",
            "|       31|       796|   11| 0.8146975|10.185303|\n",
            "|       31|       300|   33| 0.9350311| 32.06497|\n",
            "+---------+----------+-----+----------+---------+\n",
            "only showing top 5 rows"
          ]
        }
      ],
      "source": [
        "predicted_ratings_witherr=predicted_ratings.withColumn('err',abs(predicted_ratings[\"prediction\"] - predicted_ratings[\"count\"]))\n",
        "predicted_ratings_witherr.show(5)"
      ]
    },
    {
      "cell_type": "code",
      "execution_count": 182,
      "metadata": {},
      "outputs": [
        {
          "data": {
            "application/vnd.livy.statement-meta+json": {
              "execution_finish_time": "2022-01-07T16:40:33.5993769Z",
              "execution_start_time": "2022-01-07T16:40:29.66267Z",
              "livy_statement_state": "available",
              "queued_time": "2022-01-07T16:39:49.5868455Z",
              "session_id": 12,
              "session_start_time": null,
              "spark_pool": "RetailSparkPool",
              "state": "finished",
              "statement_id": 122
            },
            "text/plain": [
              "StatementMeta(RetailSparkPool, 12, 122, Finished, Available)"
            ]
          },
          "metadata": {},
          "output_type": "display_data"
        },
        {
          "name": "stdout",
          "output_type": "stream",
          "text": [
            "+-----+-----+\n",
            "|count|count|\n",
            "+-----+-----+\n",
            "|   10| 2317|\n",
            "|   11|47068|\n",
            "|   20|  778|\n",
            "|   22|16629|\n",
            "|   30|  179|\n",
            "+-----+-----+\n",
            "only showing top 5 rows"
          ]
        }
      ],
      "source": [
        "df.groupBy('count').count().orderBy('count',ascending=True).show(5)"
      ]
    },
    {
      "cell_type": "code",
      "execution_count": 183,
      "metadata": {},
      "outputs": [
        {
          "data": {
            "application/vnd.livy.statement-meta+json": {
              "execution_finish_time": "2022-01-07T16:40:40.688566Z",
              "execution_start_time": "2022-01-07T16:40:33.7033095Z",
              "livy_statement_state": "available",
              "queued_time": "2022-01-07T16:39:49.5884222Z",
              "session_id": 12,
              "session_start_time": null,
              "spark_pool": "RetailSparkPool",
              "state": "finished",
              "statement_id": 123
            },
            "text/plain": [
              "StatementMeta(RetailSparkPool, 12, 123, Finished, Available)"
            ]
          },
          "metadata": {},
          "output_type": "display_data"
        },
        {
          "name": "stdout",
          "output_type": "stream",
          "text": [
            "+-----+------------------+\n",
            "|count|          avg(err)|\n",
            "+-----+------------------+\n",
            "|   10| 9.202115451683433|\n",
            "|   11| 10.18813630941823|\n",
            "|   20|19.208826695013485|\n",
            "|   22|21.189440337600413|\n",
            "|   30|29.209436779930478|\n",
            "+-----+------------------+\n",
            "only showing top 5 rows"
          ]
        }
      ],
      "source": [
        "predicted_ratings_witherr.groupBy('count').agg({'err':'mean'}).orderBy('count',ascending=True).show(5)"
      ]
    },
    {
      "cell_type": "code",
      "execution_count": 184,
      "metadata": {},
      "outputs": [
        {
          "data": {
            "application/vnd.livy.statement-meta+json": {
              "execution_finish_time": "2022-01-07T16:40:48.0093032Z",
              "execution_start_time": "2022-01-07T16:40:40.7917742Z",
              "livy_statement_state": "available",
              "queued_time": "2022-01-07T16:39:50.1216641Z",
              "session_id": 12,
              "session_start_time": null,
              "spark_pool": "RetailSparkPool",
              "state": "finished",
              "statement_id": 124
            },
            "text/plain": [
              "StatementMeta(RetailSparkPool, 12, 124, Finished, Available)"
            ]
          },
          "metadata": {},
          "output_type": "display_data"
        },
        {
          "name": "stdout",
          "output_type": "stream",
          "text": [
            "15.985428794658388"
          ]
        }
      ],
      "source": [
        "#importing Regression Evaluator to measure RMSE\n",
        "from pyspark.ml.evaluation import RegressionEvaluator\n",
        "\n",
        "#create Regressor evaluator object for measuring accuracy\n",
        "evaluator=RegressionEvaluator(metricName='rmse',predictionCol='prediction',labelCol='count')\n",
        "\n",
        "#apply the RE on predictions dataframe to calculate RMSE\n",
        "rmse=evaluator.evaluate(predicted_ratings)\n",
        "print(rmse)"
      ]
    },
    {
      "cell_type": "code",
      "execution_count": 185,
      "metadata": {},
      "outputs": [
        {
          "data": {
            "application/vnd.livy.statement-meta+json": {
              "execution_finish_time": "2022-01-07T16:40:53.4418875Z",
              "execution_start_time": "2022-01-07T16:40:48.1054215Z",
              "livy_statement_state": "available",
              "queued_time": "2022-01-07T16:39:50.1232454Z",
              "session_id": 12,
              "session_start_time": null,
              "spark_pool": "RetailSparkPool",
              "state": "finished",
              "statement_id": 125
            },
            "text/plain": [
              "StatementMeta(RetailSparkPool, 12, 125, Finished, Available)"
            ]
          },
          "metadata": {},
          "output_type": "display_data"
        }
      ],
      "source": [
        "# Save the model\n",
        "rec_model.write().overwrite().save(\"retailai_recommendation_model\")"
      ]
    },
    {
      "cell_type": "markdown",
      "metadata": {
        "nteract": {
          "transient": {
            "deleting": false
          }
        }
      },
      "source": [
        "###  Below modules can be used to compute recommendations for targeted customers from the above trained ALS model\n"
      ]
    },
    {
      "cell_type": "code",
      "execution_count": 186,
      "metadata": {},
      "outputs": [
        {
          "data": {
            "application/vnd.livy.statement-meta+json": {
              "execution_finish_time": "2022-01-07T16:40:54.6395635Z",
              "execution_start_time": "2022-01-07T16:40:53.5733259Z",
              "livy_statement_state": "available",
              "queued_time": "2022-01-07T16:39:50.1510842Z",
              "session_id": 12,
              "session_start_time": null,
              "spark_pool": "RetailSparkPool",
              "state": "finished",
              "statement_id": 126
            },
            "text/plain": [
              "StatementMeta(RetailSparkPool, 12, 126, Finished, Available)"
            ]
          },
          "metadata": {},
          "output_type": "display_data"
        },
        {
          "name": "stdout",
          "output_type": "stream",
          "text": [
            "ALS_a67819b261ab"
          ]
        }
      ],
      "source": [
        "# loading above trained recommendation model\n",
        "from pyspark.ml.recommendation import ALSModel\n",
        "model_reload = ALSModel.load(\"retailai_recommendation_model\")\n",
        "print(model_reload)"
      ]
    },
    {
      "cell_type": "markdown",
      "metadata": {
        "nteract": {
          "transient": {
            "deleting": false
          }
        }
      },
      "source": [
        "An item-based recommender model that computes cosine similarity for each item pairs using the item factors matrix generated by Spark MLlib’s ALS algorithm and recommends top 5 products based on the selected customers.\n",
        "\n"
      ]
    },
    {
      "cell_type": "code",
      "execution_count": 187,
      "metadata": {},
      "outputs": [
        {
          "data": {
            "application/vnd.livy.statement-meta+json": {
              "execution_finish_time": "2022-01-07T16:40:54.8892988Z",
              "execution_start_time": "2022-01-07T16:40:54.7432087Z",
              "livy_statement_state": "available",
              "queued_time": "2022-01-07T16:39:50.1712166Z",
              "session_id": 12,
              "session_start_time": null,
              "spark_pool": "RetailSparkPool",
              "state": "finished",
              "statement_id": 127
            },
            "text/plain": [
              "StatementMeta(RetailSparkPool, 12, 127, Finished, Available)"
            ]
          },
          "metadata": {},
          "output_type": "display_data"
        }
      ],
      "source": [
        "from pyspark.sql import Row\n",
        "from pyspark.sql.functions import col\n",
        "import numpy as np\n",
        "from numpy import linalg as LA\n",
        "from pyspark.ml.recommendation import ALSModel\n",
        "\n",
        "class ItemBasedRecommender():\n",
        "\n",
        "    def __init__(self, model, spark):\n",
        "        self.model = model\n",
        "        self.spark = spark\n",
        "        self.itemFactors = self.model.itemFactors\n",
        "\n",
        "    def compute_similarity(self, item_id):\n",
        "        item = self.itemFactors.where(\n",
        "            col('id') == item_id).select(col('features'))\n",
        "        item_features = item.rdd.map(lambda x: x.features).first()\n",
        "\n",
        "        lol = []\n",
        "        for row in self.itemFactors.rdd.toLocalIterator():\n",
        "            _id = row.__getattr__('id')\n",
        "            features = row.__getattr__('features')\n",
        "            similarity_score = self._cosine_similarity(features, item_features)\n",
        "            if _id != item_id:\n",
        "                lol.append([_id, similarity_score])\n",
        "\n",
        "        R = Row('item_index', 'similarity_score')\n",
        "        self.similar_items_df = self.spark.createDataFrame(\n",
        "            [R(col[0], float(col[1])) for col in lol])\n",
        "        self.similar_items_df = self.similar_items_df.orderBy(\n",
        "            col('similarity_score').desc()).na.drop()\n",
        "        return self.similar_items_df\n",
        "\n",
        "\n",
        "    def _cosine_similarity(self, vector_1, vector_2):\n",
        "        v1 = np.asarray(vector_1)\n",
        "        v2 = np.asarray(vector_2)\n",
        "        cs = v1.dot(v2) / (LA.norm(v1) * LA.norm(v2))\n",
        "        return(cs)"
      ]
    },
    {
      "cell_type": "markdown",
      "metadata": {
        "nteract": {
          "transient": {
            "deleting": false
          }
        }
      },
      "source": [
        "### Input the CustomerIDs of the millennials to get the top 5 recommended products"
      ]
    },
    {
      "cell_type": "code",
      "execution_count": 240,
      "metadata": {
        "jupyter": {
          "outputs_hidden": false,
          "source_hidden": false
        },
        "nteract": {
          "transient": {
            "deleting": false
          }
        }
      },
      "outputs": [
        {
          "data": {
            "application/vnd.livy.statement-meta+json": {
              "execution_finish_time": "2022-01-07T16:52:42.108139Z",
              "execution_start_time": "2022-01-07T16:52:39.349621Z",
              "livy_statement_state": "available",
              "queued_time": "2022-01-07T16:52:39.2317382Z",
              "session_id": 12,
              "session_start_time": null,
              "spark_pool": "RetailSparkPool",
              "state": "finished",
              "statement_id": 180
            },
            "text/plain": [
              "StatementMeta(RetailSparkPool, 12, 180, Finished, Available)"
            ]
          },
          "metadata": {},
          "output_type": "display_data"
        },
        {
          "name": "stdout",
          "output_type": "stream",
          "text": [
            "+----------+------------------+\n",
            "|item_index|  similarity_score|\n",
            "+----------+------------------+\n",
            "|        13|0.6715755562542827|\n",
            "|        25|0.6637896955347723|\n",
            "|        75|0.6419629417589321|\n",
            "|        18|0.6197625370885771|\n",
            "|        77|0.6194915714535928|\n",
            "+----------+------------------+\n",
            "only showing top 5 rows"
          ]
        }
      ],
      "source": [
        "# CustomerID as input. Note: this is the normalized CustomerID starting from 0.        \n",
        "CustomerID = 24\n",
        "item_based_rec = ItemBasedRecommender(model_reload, spark)\n",
        "ret_df = item_based_rec.compute_similarity(CustomerID)\n",
        "\n",
        "ret_df.show(5)"
      ]
    },
    {
      "cell_type": "markdown",
      "metadata": {
        "nteract": {
          "transient": {
            "deleting": false
          }
        }
      },
      "source": [
        "#### For WideWorldImporters, top 5 recommended products\n"
      ]
    },
    {
      "cell_type": "code",
      "execution_count": 241,
      "metadata": {
        "collapsed": false,
        "jupyter": {
          "outputs_hidden": false,
          "source_hidden": false
        },
        "nteract": {
          "transient": {
            "deleting": false
          }
        }
      },
      "outputs": [
        {
          "data": {
            "application/vnd.livy.statement-meta+json": {
              "execution_finish_time": "2022-01-07T16:52:47.3672312Z",
              "execution_start_time": "2022-01-07T16:52:46.6296084Z",
              "livy_statement_state": "available",
              "queued_time": "2022-01-07T16:52:46.5016817Z",
              "session_id": 12,
              "session_start_time": null,
              "spark_pool": "RetailSparkPool",
              "state": "finished",
              "statement_id": 181
            },
            "text/plain": [
              "StatementMeta(RetailSparkPool, 12, 181, Finished, Available)"
            ]
          },
          "metadata": {},
          "output_type": "display_data"
        },
        {
          "name": "stdout",
          "output_type": "stream",
          "text": [
            "+--------------------+---------+--------------------+------------------+------------------+\n",
            "|   ProductCategories|ProductId|           BrandName|        EntityCode|  similarity_score|\n",
            "+--------------------+---------+--------------------+------------------+------------------+\n",
            "|            Clothing|       13|           Proseware|WideWorldImporters|0.6715755562542827|\n",
            "|      Sporting Goods|       25|Cronus International|WideWorldImporters|0.6637896955347723|\n",
            "|                Life|       75|              Cpandl|WideWorldImporters|0.6419629417589321|\n",
            "|Menswear; Womenswear|       18|           Proseware|WideWorldImporters|0.6197625370885771|\n",
            "|                Life|       77|              Cpandl|WideWorldImporters|0.6194915714535928|\n",
            "+--------------------+---------+--------------------+------------------+------------------+\n",
            "only showing top 5 rows"
          ]
        }
      ],
      "source": [
        "df_product_wwi = df_product[df_product[\"EntityCode\"] == 'WideWorldImporters']\n",
        "rec_df = df_product_wwi.join(ret_df, (df_product_wwi[\"ProductId\"]==ret_df[\"item_index\"]))\n",
        "\n",
        "rec_df[[ 'ProductCategories', 'ProductId', 'BrandName', 'EntityCode', \"similarity_score\"]].show(5)"
      ]
    }
  ],
  "metadata": {
    "description": "notebook",
    "kernelspec": {
      "display_name": "Synapse PySpark",
      "name": "synapse_pyspark"
    },
    "language_info": {
      "name": "python"
    },
    "save_output": true,
    "synapse_widget": {
      "state": {
        "9a302add-850f-499c-acbf-e93a070c3e42": {
          "persist_state": {
            "view": {
              "chartOptions": {
                "aggregationType": "sum",
                "categoryFieldKeys": [
                  "0"
                ],
                "chartType": "bar",
                "isStacked": false,
                "seriesFieldKeys": [
                  "1"
                ]
              },
              "tableOptions": {},
              "type": "details"
            }
          },
          "sync_state": {
            "isSummary": false,
            "language": "scala",
            "table": {
              "rows": [
                {
                  "0": "Cpandl",
                  "1": "120437"
                },
                {
                  "0": "Cronus International",
                  "1": "120251"
                },
                {
                  "0": "Terra Firm",
                  "1": "105440"
                },
                {
                  "0": "Fabrikam",
                  "1": "75105"
                },
                {
                  "0": "Proseware",
                  "1": "45008"
                }
              ],
              "schema": [
                {
                  "key": "0",
                  "name": "BrandName",
                  "type": "string"
                },
                {
                  "key": "1",
                  "name": "count",
                  "type": "bigint"
                }
              ],
              "truncated": false
            }
          },
          "type": "Synapse.DataFrame"
        }
      },
      "version": "0.1"
    }
  },
  "nbformat": 4,
  "nbformat_minor": 2
}
