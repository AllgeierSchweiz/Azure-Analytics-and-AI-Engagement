{
  "metadata": {
    "saveOutput": true,
    "language_info": {
      "name": "python"
    }
  },
  "nbformat": 4,
  "nbformat_minor": 2,
  "cells": [
    {
      "cell_type": "markdown",
      "metadata": {},
      "source": [
        "<p style=\"font-size:25px; color:black;\"><u><i><b>Predicting the number of customers likely to visit different departments in a store</b></i></u></p>\n",
        "<p style=\"font-size:16px; color:#117d30;\">\n",
        "    Time series forecasting is the use of a model to predict future values based on previously observed values.\n",
        "The AutoML feature of AzureSynapse, in this case uses more than 25 time series forecasting machine learning algorithms to predicts how many customers are likely to visit different departments in a store.\n",
        "</p>\n",
        "Note:\n",
        "</p>\n",
        "<p style=\"font-size:15px; color:#117d30;\">\n",
        " This notebook is written in Scala, and there is interoperability between Scala and Python code.\n",
        "</p>\n",
        "\n",
        "<p style=\"font-size:15px; color:#117d30;\">\n",
        "    <u> Abstract: </u>\n",
        "</p>\n",
        "<p style=\"font-size:16px; color:#117d30;\">\n",
        "1) Ingest  data from Azure Synapse Data Storage account using PySpark.\n",
        "</p>\n",
        "<p style=\"font-size:16px; color:#117d30;\">\n",
        "2) Exploratory Data Analysis \n",
        "</p>\n",
        "<p style=\"font-size:15px; color:#117d30;\">\n",
        "3) Training more than 25 time series forecasting machine learning algorithms.\n",
        "</p>\n",
        "<p style=\"font-size:15px; color:#117d30;\">\n",
        "4) Predict the number of customers likely to visit different departments in a store by choosing the best performing Machine Learning Algorithm..\n",
        "</p>\n",
        ""
      ],
      "attachments": {}
    },
    {
      "cell_type": "markdown",
      "metadata": {},
      "source": [
        "## Introduction\n",
        "<p style=\"font-size:16px; color:#117d30;\">\n",
        "\n",
        "\n",
        "### In this notebook we showcased how to:\n",
        "<p style=\"font-size:16px; color:#117d30;\">\n",
        "1. Create an experiment using an existing workspace\n",
        "\n",
        "<p style=\"font-size:16px; color:#117d30;\">\n",
        "2. Configure AutoML using 'AutoMLConfig'\n",
        "\n",
        "<p style=\"font-size:16px; color:#117d30;\">\n",
        "3. Train the model \n",
        "\n",
        "<p style=\"font-size:16px; color:#117d30;\">\n",
        "4. Explore the engineered features and results\n",
        "\n",
        "<p style=\"font-size:16px; color:#117d30;\">\n",
        "5. Configuration and remote run of AutoML for a time-series model with lag and rolling window features\n",
        "\n",
        "<p style=\"font-size:16px; color:#117d30;\">\n",
        "6. Run and explore the forecast\n",
        "\n",
        "<p style=\"font-size:16px; color:#117d30;\">\n",
        "7. Register the model\n",
        "\n",
        "\n",
        "\n",
        ""
      ],
      "attachments": {}
    },
    {
      "cell_type": "markdown",
      "metadata": {},
      "source": [
        "### Importing required libraries such as azureml, pandas, pandasql, pyspark, and other supporting libraries.\n",
        "\n",
        ""
      ],
      "attachments": {}
    },
    {
      "cell_type": "markdown",
      "metadata": {},
      "source": [
        "## Cell title\n",
        ""
      ],
      "attachments": {}
    },
    {
      "cell_type": "code",
      "execution_count": 3,
      "outputs": [],
      "metadata": {},
      "source": [
        "%%pyspark\n",
        "from azureml.train.automl import AutoMLConfig\n",
        "# from azureml.widgets import RunDetails\n",
        "from azureml.core.experiment import Experiment\n",
        "from azureml.core.workspace import Workspace\n",
        "from azureml.train.automl.run import AutoMLRun\n",
        "from sklearn.metrics import mean_squared_error\n",
        "import math\n",
        "from pyspark.sql.window import Window\n",
        "from azureml.core.webservice import AciWebservice\n",
        "from azureml.core.model import InferenceConfig\n",
        "from azureml.core.model import Model\n",
        "from azureml.core.webservice import Webservice\n",
        "from azureml.core.conda_dependencies import CondaDependencies\n",
        "from azureml.core.environment import Environment\n",
        "\n",
        "import pandas as pd \n",
        "import datetime\n",
        "import matplotlib.pyplot as plt\n",
        "import numpy as np \n",
        "import seaborn as sns \n",
        "import azureml.train.automl.runtime\n",
        "import logging\n",
        "import os, tempfile\n",
        "import pandas as pd \n",
        "from pyspark.sql.functions import *\n",
        "from pyspark.sql.types import *\n",
        "from pyspark import SparkContext\n",
        "os.environ['AZURE_SERVICE']=\"Microsoft.ProjectArcadia\""
      ],
      "attachments": {}
    },
    {
      "cell_type": "markdown",
      "metadata": {},
      "source": [
        "## *Connecting to Azure Synapse Data Warehouse*\n",
        "<p style=\"font-size:16px; color:#117d30;\">\n",
        "    Connection to Azure Synapse Data Warehouse is initiated and the required data is ingested for processing.\n",
        "    The warehouse is connected with a single line of code. Just point to actions in a table, click on a new notebook, and then click on \"Load to DataFrame\".  </p>\n",
        "   <p style=\"font-size:16px; color:#117d30;\"> After providing the necessary details,  the required data is loaded in the form of a Spark dataframe.\n",
        "One magical line of code converts a dataframe from Scala to Python!\n",
        "</p>\n",
        ""
      ],
      "attachments": {}
    },
    {
      "cell_type": "code",
      "execution_count": 4,
      "outputs": [
        {
          "output_type": "execute_result",
          "execution_count": 4,
          "data": {
            "text/plain": "df: org.apache.spark.sql.DataFrame = [Date: string, Accessories_count: string ... 6 more fields]"
          },
          "metadata": {}
        }
      ],
      "metadata": {},
      "source": [
        "%%spark\n",
        "val df = spark.read.sqlanalytics(\"SQLPool01.dbo.department_visit_customer\")\n",
        "//Create a Temp view for using the dataframe from Scala to Python\n",
        "  df.createOrReplaceTempView(\"df\")"
      ],
      "attachments": {}
    },
    {
      "cell_type": "code",
      "execution_count": 5,
      "outputs": [
        {
          "output_type": "execute_result",
          "execution_count": 5,
          "data": {
            "application/json": {
              "table": {
                "schema": {
                  "Womens": "string",
                  "Gaming": "string",
                  "Phone_and_GPS": "string",
                  "Kids": "string",
                  "Accessories_count": "string",
                  "Entertainment_count": "string",
                  "Date": "string",
                  "Mens": "string"
                },
                "rows": [
                  {
                    "Womens": "8",
                    "Gaming": "29",
                    "Phone_and_GPS": "10",
                    "Kids": "19",
                    "Accessories_count": "114",
                    "Entertainment_count": "21",
                    "Date": "2019-07-21",
                    "Mens": "27"
                  },
                  {
                    "Womens": "79",
                    "Gaming": "30",
                    "Phone_and_GPS": "25",
                    "Kids": "94",
                    "Accessories_count": "309",
                    "Entertainment_count": "6",
                    "Date": "2016-11-04",
                    "Mens": "75"
                  },
                  {
                    "Womens": "9",
                    "Gaming": "79",
                    "Phone_and_GPS": "77",
                    "Kids": "12",
                    "Accessories_count": "238",
                    "Entertainment_count": "10",
                    "Date": "2017-12-14",
                    "Mens": "51"
                  },
                  {
                    "Womens": "37",
                    "Gaming": "17",
                    "Phone_and_GPS": "25",
                    "Kids": "93",
                    "Accessories_count": "286",
                    "Entertainment_count": "30",
                    "Date": "2016-04-04",
                    "Mens": "84"
                  },
                  {
                    "Womens": "6",
                    "Gaming": "7",
                    "Phone_and_GPS": "76",
                    "Kids": "95",
                    "Accessories_count": "353",
                    "Entertainment_count": "86",
                    "Date": "2018-10-20",
                    "Mens": "83"
                  },
                  {
                    "Womens": "3",
                    "Gaming": "89",
                    "Phone_and_GPS": "22",
                    "Kids": "71",
                    "Accessories_count": "233",
                    "Entertainment_count": "6",
                    "Date": "2017-05-31",
                    "Mens": "42"
                  },
                  {
                    "Womens": "16",
                    "Gaming": "14",
                    "Phone_and_GPS": "79",
                    "Kids": "8",
                    "Accessories_count": "271",
                    "Entertainment_count": "57",
                    "Date": "2018-03-25",
                    "Mens": "97"
                  },
                  {
                    "Womens": "16",
                    "Gaming": "16",
                    "Phone_and_GPS": "46",
                    "Kids": "37",
                    "Accessories_count": "284",
                    "Entertainment_count": "92",
                    "Date": "2020-01-01",
                    "Mens": "77"
                  },
                  {
                    "Womens": "45",
                    "Gaming": "89",
                    "Phone_and_GPS": "59",
                    "Kids": "84",
                    "Accessories_count": "352",
                    "Entertainment_count": "20",
                    "Date": "2016-09-05",
                    "Mens": "55"
                  },
                  {
                    "Womens": "43",
                    "Gaming": "70",
                    "Phone_and_GPS": "29",
                    "Kids": "62",
                    "Accessories_count": "339",
                    "Entertainment_count": "91",
                    "Date": "2015-10-03",
                    "Mens": "44"
                  },
                  {
                    "Womens": "34",
                    "Gaming": "27",
                    "Phone_and_GPS": "81",
                    "Kids": "2",
                    "Accessories_count": "233",
                    "Entertainment_count": "30",
                    "Date": "2020-08-24",
                    "Mens": "59"
                  },
                  {
                    "Womens": "95",
                    "Gaming": "56",
                    "Phone_and_GPS": "85",
                    "Kids": "92",
                    "Accessories_count": "494",
                    "Entertainment_count": "90",
                    "Date": "2015-07-29",
                    "Mens": "76"
                  },
                  {
                    "Womens": "97",
                    "Gaming": "87",
                    "Phone_and_GPS": "85",
                    "Kids": "88",
                    "Accessories_count": "395",
                    "Entertainment_count": "38",
                    "Date": "2015-06-12",
                    "Mens": "0"
                  },
                  {
                    "Womens": "0",
                    "Gaming": "5",
                    "Phone_and_GPS": "22",
                    "Kids": "9",
                    "Accessories_count": "72",
                    "Entertainment_count": "4",
                    "Date": "2015-11-13",
                    "Mens": "32"
                  },
                  {
                    "Womens": "11",
                    "Gaming": "48",
                    "Phone_and_GPS": "32",
                    "Kids": "57",
                    "Accessories_count": "264",
                    "Entertainment_count": "67",
                    "Date": "2020-03-15",
                    "Mens": "49"
                  },
                  {
                    "Womens": "95",
                    "Gaming": "31",
                    "Phone_and_GPS": "46",
                    "Kids": "55",
                    "Accessories_count": "364",
                    "Entertainment_count": "53",
                    "Date": "2016-07-19",
                    "Mens": "84"
                  },
                  {
                    "Womens": "45",
                    "Gaming": "66",
                    "Phone_and_GPS": "13",
                    "Kids": "0",
                    "Accessories_count": "147",
                    "Entertainment_count": "9",
                    "Date": "2016-08-20",
                    "Mens": "14"
                  },
                  {
                    "Womens": "6",
                    "Gaming": "91",
                    "Phone_and_GPS": "52",
                    "Kids": "84",
                    "Accessories_count": "337",
                    "Entertainment_count": "62",
                    "Date": "2015-11-24",
                    "Mens": "42"
                  },
                  {
                    "Womens": "63",
                    "Gaming": "26",
                    "Phone_and_GPS": "95",
                    "Kids": "39",
                    "Accessories_count": "324",
                    "Entertainment_count": "23",
                    "Date": "2020-03-01",
                    "Mens": "78"
                  },
                  {
                    "Womens": "25",
                    "Gaming": "0",
                    "Phone_and_GPS": "75",
                    "Kids": "90",
                    "Accessories_count": "244",
                    "Entertainment_count": "31",
                    "Date": "2015-10-01",
                    "Mens": "23"
                  },
                  {
                    "Womens": "32",
                    "Gaming": "63",
                    "Phone_and_GPS": "92",
                    "Kids": "90",
                    "Accessories_count": "430",
                    "Entertainment_count": "91",
                    "Date": "2016-07-29",
                    "Mens": "62"
                  },
                  {
                    "Womens": "42",
                    "Gaming": "4",
                    "Phone_and_GPS": "44",
                    "Kids": "64",
                    "Accessories_count": "227",
                    "Entertainment_count": "5",
                    "Date": "2019-04-09",
                    "Mens": "68"
                  },
                  {
                    "Womens": "11",
                    "Gaming": "5",
                    "Phone_and_GPS": "91",
                    "Kids": "27",
                    "Accessories_count": "232",
                    "Entertainment_count": "20",
                    "Date": "2019-04-22",
                    "Mens": "78"
                  },
                  {
                    "Womens": "95",
                    "Gaming": "14",
                    "Phone_and_GPS": "73",
                    "Kids": "84",
                    "Accessories_count": "353",
                    "Entertainment_count": "52",
                    "Date": "2020-01-24",
                    "Mens": "35"
                  },
                  {
                    "Womens": "65",
                    "Gaming": "53",
                    "Phone_and_GPS": "82",
                    "Kids": "23",
                    "Accessories_count": "270",
                    "Entertainment_count": "34",
                    "Date": "2017-06-27",
                    "Mens": "13"
                  },
                  {
                    "Womens": "91",
                    "Gaming": "58",
                    "Phone_and_GPS": "7",
                    "Kids": "37",
                    "Accessories_count": "255",
                    "Entertainment_count": "4",
                    "Date": "2018-12-03",
                    "Mens": "58"
                  },
                  {
                    "Womens": "23",
                    "Gaming": "82",
                    "Phone_and_GPS": "43",
                    "Kids": "70",
                    "Accessories_count": "298",
                    "Entertainment_count": "14",
                    "Date": "2015-08-23",
                    "Mens": "66"
                  },
                  {
                    "Womens": "15",
                    "Gaming": "8",
                    "Phone_and_GPS": "59",
                    "Kids": "64",
                    "Accessories_count": "234",
                    "Entertainment_count": "19",
                    "Date": "2016-01-13",
                    "Mens": "69"
                  },
                  {
                    "Womens": "68",
                    "Gaming": "44",
                    "Phone_and_GPS": "36",
                    "Kids": "7",
                    "Accessories_count": "294",
                    "Entertainment_count": "43",
                    "Date": "2018-01-17",
                    "Mens": "96"
                  },
                  {
                    "Womens": "51",
                    "Gaming": "13",
                    "Phone_and_GPS": "89",
                    "Kids": "84",
                    "Accessories_count": "294",
                    "Entertainment_count": "44",
                    "Date": "2016-09-23",
                    "Mens": "13"
                  },
                  {
                    "Womens": "76",
                    "Gaming": "12",
                    "Phone_and_GPS": "55",
                    "Kids": "56",
                    "Accessories_count": "228",
                    "Entertainment_count": "16",
                    "Date": "2017-04-02",
                    "Mens": "13"
                  },
                  {
                    "Womens": "23",
                    "Gaming": "4",
                    "Phone_and_GPS": "66",
                    "Kids": "80",
                    "Accessories_count": "274",
                    "Entertainment_count": "20",
                    "Date": "2019-01-22",
                    "Mens": "81"
                  },
                  {
                    "Womens": "48",
                    "Gaming": "41",
                    "Phone_and_GPS": "16",
                    "Kids": "11",
                    "Accessories_count": "252",
                    "Entertainment_count": "86",
                    "Date": "2018-08-14",
                    "Mens": "50"
                  },
                  {
                    "Womens": "49",
                    "Gaming": "43",
                    "Phone_and_GPS": "38",
                    "Kids": "15",
                    "Accessories_count": "255",
                    "Entertainment_count": "56",
                    "Date": "2020-10-24",
                    "Mens": "54"
                  },
                  {
                    "Womens": "6",
                    "Gaming": "10",
                    "Phone_and_GPS": "34",
                    "Kids": "77",
                    "Accessories_count": "224",
                    "Entertainment_count": "58",
                    "Date": "2020-08-01",
                    "Mens": "39"
                  },
                  {
                    "Womens": "67",
                    "Gaming": "64",
                    "Phone_and_GPS": "17",
                    "Kids": "45",
                    "Accessories_count": "344",
                    "Entertainment_count": "94",
                    "Date": "2017-02-18",
                    "Mens": "57"
                  },
                  {
                    "Womens": "41",
                    "Gaming": "91",
                    "Phone_and_GPS": "39",
                    "Kids": "26",
                    "Accessories_count": "298",
                    "Entertainment_count": "3",
                    "Date": "2019-09-24",
                    "Mens": "98"
                  },
                  {
                    "Womens": "45",
                    "Gaming": "73",
                    "Phone_and_GPS": "79",
                    "Kids": "6",
                    "Accessories_count": "236",
                    "Entertainment_count": "5",
                    "Date": "2016-07-06",
                    "Mens": "28"
                  },
                  {
                    "Womens": "20",
                    "Gaming": "81",
                    "Phone_and_GPS": "1",
                    "Kids": "68",
                    "Accessories_count": "265",
                    "Entertainment_count": "0",
                    "Date": "2016-03-06",
                    "Mens": "95"
                  },
                  {
                    "Womens": "67",
                    "Gaming": "5",
                    "Phone_and_GPS": "38",
                    "Kids": "18",
                    "Accessories_count": "190",
                    "Entertainment_count": "62",
                    "Date": "2015-07-04",
                    "Mens": "0"
                  },
                  {
                    "Womens": "54",
                    "Gaming": "43",
                    "Phone_and_GPS": "84",
                    "Kids": "54",
                    "Accessories_count": "380",
                    "Entertainment_count": "76",
                    "Date": "2016-10-12",
                    "Mens": "69"
                  },
                  {
                    "Womens": "55",
                    "Gaming": "78",
                    "Phone_and_GPS": "75",
                    "Kids": "30",
                    "Accessories_count": "392",
                    "Entertainment_count": "87",
                    "Date": "2015-07-23",
                    "Mens": "67"
                  },
                  {
                    "Womens": "57",
                    "Gaming": "46",
                    "Phone_and_GPS": "46",
                    "Kids": "8",
                    "Accessories_count": "272",
                    "Entertainment_count": "97",
                    "Date": "2017-03-08",
                    "Mens": "18"
                  },
                  {
                    "Womens": "32",
                    "Gaming": "30",
                    "Phone_and_GPS": "43",
                    "Kids": "63",
                    "Accessories_count": "280",
                    "Entertainment_count": "24",
                    "Date": "2018-12-24",
                    "Mens": "88"
                  },
                  {
                    "Womens": "50",
                    "Gaming": "64",
                    "Phone_and_GPS": "59",
                    "Kids": "84",
                    "Accessories_count": "378",
                    "Entertainment_count": "38",
                    "Date": "2020-01-27",
                    "Mens": "83"
                  },
                  {
                    "Womens": "71",
                    "Gaming": "85",
                    "Phone_and_GPS": "94",
                    "Kids": "66",
                    "Accessories_count": "359",
                    "Entertainment_count": "29",
                    "Date": "2015-12-31",
                    "Mens": "14"
                  },
                  {
                    "Womens": "32",
                    "Gaming": "55",
                    "Phone_and_GPS": "85",
                    "Kids": "17",
                    "Accessories_count": "300",
                    "Entertainment_count": "46",
                    "Date": "2017-03-05",
                    "Mens": "65"
                  },
                  {
                    "Womens": "30",
                    "Gaming": "65",
                    "Phone_and_GPS": "44",
                    "Kids": "62",
                    "Accessories_count": "259",
                    "Entertainment_count": "16",
                    "Date": "2020-03-07",
                    "Mens": "42"
                  },
                  {
                    "Womens": "84",
                    "Gaming": "28",
                    "Phone_and_GPS": "84",
                    "Kids": "51",
                    "Accessories_count": "390",
                    "Entertainment_count": "60",
                    "Date": "2018-04-25",
                    "Mens": "83"
                  },
                  {
                    "Womens": "55",
                    "Gaming": "0",
                    "Phone_and_GPS": "63",
                    "Kids": "16",
                    "Accessories_count": "251",
                    "Entertainment_count": "92",
                    "Date": "2019-04-16",
                    "Mens": "25"
                  },
                  {
                    "Womens": "28",
                    "Gaming": "99",
                    "Phone_and_GPS": "98",
                    "Kids": "48",
                    "Accessories_count": "377",
                    "Entertainment_count": "6",
                    "Date": "2018-11-06",
                    "Mens": "98"
                  },
                  {
                    "Womens": "21",
                    "Gaming": "28",
                    "Phone_and_GPS": "61",
                    "Kids": "89",
                    "Accessories_count": "354",
                    "Entertainment_count": "83",
                    "Date": "2020-08-10",
                    "Mens": "72"
                  },
                  {
                    "Womens": "10",
                    "Gaming": "59",
                    "Phone_and_GPS": "74",
                    "Kids": "87",
                    "Accessories_count": "320",
                    "Entertainment_count": "86",
                    "Date": "2015-08-30",
                    "Mens": "4"
                  },
                  {
                    "Womens": "82",
                    "Gaming": "36",
                    "Phone_and_GPS": "55",
                    "Kids": "15",
                    "Accessories_count": "271",
                    "Entertainment_count": "4",
                    "Date": "2019-06-27",
                    "Mens": "79"
                  },
                  {
                    "Womens": "84",
                    "Gaming": "79",
                    "Phone_and_GPS": "21",
                    "Kids": "92",
                    "Accessories_count": "407",
                    "Entertainment_count": "96",
                    "Date": "2016-09-07",
                    "Mens": "35"
                  },
                  {
                    "Womens": "20",
                    "Gaming": "90",
                    "Phone_and_GPS": "67",
                    "Kids": "52",
                    "Accessories_count": "296",
                    "Entertainment_count": "40",
                    "Date": "2019-02-20",
                    "Mens": "27"
                  },
                  {
                    "Womens": "12",
                    "Gaming": "9",
                    "Phone_and_GPS": "32",
                    "Kids": "14",
                    "Accessories_count": "233",
                    "Entertainment_count": "91",
                    "Date": "2018-07-19",
                    "Mens": "75"
                  },
                  {
                    "Womens": "92",
                    "Gaming": "35",
                    "Phone_and_GPS": "32",
                    "Kids": "3",
                    "Accessories_count": "276",
                    "Entertainment_count": "31",
                    "Date": "2019-11-13",
                    "Mens": "83"
                  },
                  {
                    "Womens": "38",
                    "Gaming": "18",
                    "Phone_and_GPS": "46",
                    "Kids": "52",
                    "Accessories_count": "211",
                    "Entertainment_count": "26",
                    "Date": "2019-12-13",
                    "Mens": "31"
                  },
                  {
                    "Womens": "37",
                    "Gaming": "10",
                    "Phone_and_GPS": "60",
                    "Kids": "45",
                    "Accessories_count": "281",
                    "Entertainment_count": "52",
                    "Date": "2020-09-20",
                    "Mens": "77"
                  },
                  {
                    "Womens": "62",
                    "Gaming": "74",
                    "Phone_and_GPS": "30",
                    "Kids": "82",
                    "Accessories_count": "354",
                    "Entertainment_count": "63",
                    "Date": "2016-09-30",
                    "Mens": "43"
                  },
                  {
                    "Womens": "69",
                    "Gaming": "14",
                    "Phone_and_GPS": "83",
                    "Kids": "99",
                    "Accessories_count": "395",
                    "Entertainment_count": "69",
                    "Date": "2019-10-26",
                    "Mens": "61"
                  },
                  {
                    "Womens": "15",
                    "Gaming": "17",
                    "Phone_and_GPS": "87",
                    "Kids": "21",
                    "Accessories_count": "235",
                    "Entertainment_count": "15",
                    "Date": "2018-11-06",
                    "Mens": "80"
                  },
                  {
                    "Womens": "48",
                    "Gaming": "83",
                    "Phone_and_GPS": "92",
                    "Kids": "77",
                    "Accessories_count": "321",
                    "Entertainment_count": "13",
                    "Date": "2018-07-16",
                    "Mens": "8"
                  },
                  {
                    "Womens": "93",
                    "Gaming": "92",
                    "Phone_and_GPS": "60",
                    "Kids": "32",
                    "Accessories_count": "374",
                    "Entertainment_count": "41",
                    "Date": "2020-01-06",
                    "Mens": "56"
                  },
                  {
                    "Womens": "77",
                    "Gaming": "10",
                    "Phone_and_GPS": "14",
                    "Kids": "90",
                    "Accessories_count": "286",
                    "Entertainment_count": "67",
                    "Date": "2019-12-28",
                    "Mens": "28"
                  },
                  {
                    "Womens": "59",
                    "Gaming": "83",
                    "Phone_and_GPS": "72",
                    "Kids": "66",
                    "Accessories_count": "391",
                    "Entertainment_count": "97",
                    "Date": "2016-11-04",
                    "Mens": "14"
                  },
                  {
                    "Womens": "19",
                    "Gaming": "84",
                    "Phone_and_GPS": "69",
                    "Kids": "14",
                    "Accessories_count": "254",
                    "Entertainment_count": "10",
                    "Date": "2020-07-16",
                    "Mens": "58"
                  },
                  {
                    "Womens": "22",
                    "Gaming": "60",
                    "Phone_and_GPS": "76",
                    "Kids": "95",
                    "Accessories_count": "354",
                    "Entertainment_count": "77",
                    "Date": "2018-08-14",
                    "Mens": "24"
                  },
                  {
                    "Womens": "51",
                    "Gaming": "35",
                    "Phone_and_GPS": "70",
                    "Kids": "13",
                    "Accessories_count": "266",
                    "Entertainment_count": "48",
                    "Date": "2020-08-01",
                    "Mens": "49"
                  },
                  {
                    "Womens": "45",
                    "Gaming": "66",
                    "Phone_and_GPS": "11",
                    "Kids": "21",
                    "Accessories_count": "238",
                    "Entertainment_count": "86",
                    "Date": "2020-12-02",
                    "Mens": "9"
                  },
                  {
                    "Womens": "67",
                    "Gaming": "57",
                    "Phone_and_GPS": "28",
                    "Kids": "2",
                    "Accessories_count": "173",
                    "Entertainment_count": "13",
                    "Date": "2016-03-25",
                    "Mens": "6"
                  },
                  {
                    "Womens": "29",
                    "Gaming": "99",
                    "Phone_and_GPS": "52",
                    "Kids": "13",
                    "Accessories_count": "312",
                    "Entertainment_count": "93",
                    "Date": "2020-06-02",
                    "Mens": "26"
                  },
                  {
                    "Womens": "97",
                    "Gaming": "46",
                    "Phone_and_GPS": "33",
                    "Kids": "17",
                    "Accessories_count": "231",
                    "Entertainment_count": "3",
                    "Date": "2018-10-04",
                    "Mens": "35"
                  },
                  {
                    "Womens": "93",
                    "Gaming": "52",
                    "Phone_and_GPS": "91",
                    "Kids": "68",
                    "Accessories_count": "386",
                    "Entertainment_count": "33",
                    "Date": "2020-08-23",
                    "Mens": "49"
                  },
                  {
                    "Womens": "39",
                    "Gaming": "63",
                    "Phone_and_GPS": "60",
                    "Kids": "7",
                    "Accessories_count": "297",
                    "Entertainment_count": "52",
                    "Date": "2015-03-07",
                    "Mens": "76"
                  },
                  {
                    "Womens": "83",
                    "Gaming": "46",
                    "Phone_and_GPS": "49",
                    "Kids": "53",
                    "Accessories_count": "350",
                    "Entertainment_count": "64",
                    "Date": "2017-04-08",
                    "Mens": "55"
                  },
                  {
                    "Womens": "13",
                    "Gaming": "94",
                    "Phone_and_GPS": "8",
                    "Kids": "72",
                    "Accessories_count": "291",
                    "Entertainment_count": "53",
                    "Date": "2020-04-29",
                    "Mens": "51"
                  },
                  {
                    "Womens": "91",
                    "Gaming": "58",
                    "Phone_and_GPS": "14",
                    "Kids": "8",
                    "Accessories_count": "200",
                    "Entertainment_count": "24",
                    "Date": "2015-11-19",
                    "Mens": "5"
                  },
                  {
                    "Womens": "20",
                    "Gaming": "64",
                    "Phone_and_GPS": "5",
                    "Kids": "0",
                    "Accessories_count": "182",
                    "Entertainment_count": "58",
                    "Date": "2018-12-29",
                    "Mens": "35"
                  },
                  {
                    "Womens": "85",
                    "Gaming": "30",
                    "Phone_and_GPS": "51",
                    "Kids": "68",
                    "Accessories_count": "392",
                    "Entertainment_count": "96",
                    "Date": "2017-12-27",
                    "Mens": "62"
                  },
                  {
                    "Womens": "38",
                    "Gaming": "2",
                    "Phone_and_GPS": "66",
                    "Kids": "40",
                    "Accessories_count": "261",
                    "Entertainment_count": "21",
                    "Date": "2018-11-29",
                    "Mens": "94"
                  },
                  {
                    "Womens": "76",
                    "Gaming": "54",
                    "Phone_and_GPS": "14",
                    "Kids": "33",
                    "Accessories_count": "301",
                    "Entertainment_count": "80",
                    "Date": "2019-05-07",
                    "Mens": "44"
                  },
                  {
                    "Womens": "73",
                    "Gaming": "58",
                    "Phone_and_GPS": "47",
                    "Kids": "54",
                    "Accessories_count": "330",
                    "Entertainment_count": "24",
                    "Date": "2015-03-10",
                    "Mens": "74"
                  },
                  {
                    "Womens": "71",
                    "Gaming": "69",
                    "Phone_and_GPS": "93",
                    "Kids": "36",
                    "Accessories_count": "459",
                    "Entertainment_count": "98",
                    "Date": "2017-02-17",
                    "Mens": "92"
                  },
                  {
                    "Womens": "41",
                    "Gaming": "37",
                    "Phone_and_GPS": "63",
                    "Kids": "50",
                    "Accessories_count": "347",
                    "Entertainment_count": "88",
                    "Date": "2017-02-10",
                    "Mens": "68"
                  },
                  {
                    "Womens": "46",
                    "Gaming": "51",
                    "Phone_and_GPS": "44",
                    "Kids": "78",
                    "Accessories_count": "350",
                    "Entertainment_count": "79",
                    "Date": "2016-02-07",
                    "Mens": "52"
                  },
                  {
                    "Womens": "58",
                    "Gaming": "42",
                    "Phone_and_GPS": "46",
                    "Kids": "45",
                    "Accessories_count": "297",
                    "Entertainment_count": "32",
                    "Date": "2019-08-04",
                    "Mens": "74"
                  },
                  {
                    "Womens": "8",
                    "Gaming": "84",
                    "Phone_and_GPS": "61",
                    "Kids": "24",
                    "Accessories_count": "285",
                    "Entertainment_count": "96",
                    "Date": "2020-09-24",
                    "Mens": "12"
                  },
                  {
                    "Womens": "61",
                    "Gaming": "51",
                    "Phone_and_GPS": "24",
                    "Kids": "98",
                    "Accessories_count": "317",
                    "Entertainment_count": "46",
                    "Date": "2020-07-02",
                    "Mens": "37"
                  },
                  {
                    "Womens": "28",
                    "Gaming": "96",
                    "Phone_and_GPS": "47",
                    "Kids": "79",
                    "Accessories_count": "387",
                    "Entertainment_count": "79",
                    "Date": "2017-10-21",
                    "Mens": "58"
                  },
                  {
                    "Womens": "69",
                    "Gaming": "60",
                    "Phone_and_GPS": "49",
                    "Kids": "67",
                    "Accessories_count": "341",
                    "Entertainment_count": "42",
                    "Date": "2015-05-05",
                    "Mens": "54"
                  },
                  {
                    "Womens": "40",
                    "Gaming": "82",
                    "Phone_and_GPS": "3",
                    "Kids": "45",
                    "Accessories_count": "209",
                    "Entertainment_count": "11",
                    "Date": "2017-05-23",
                    "Mens": "28"
                  },
                  {
                    "Womens": "7",
                    "Gaming": "62",
                    "Phone_and_GPS": "41",
                    "Kids": "83",
                    "Accessories_count": "307",
                    "Entertainment_count": "56",
                    "Date": "2017-04-09",
                    "Mens": "58"
                  },
                  {
                    "Womens": "2",
                    "Gaming": "1",
                    "Phone_and_GPS": "74",
                    "Kids": "98",
                    "Accessories_count": "192",
                    "Entertainment_count": "8",
                    "Date": "2017-01-04",
                    "Mens": "9"
                  },
                  {
                    "Womens": "20",
                    "Gaming": "26",
                    "Phone_and_GPS": "25",
                    "Kids": "28",
                    "Accessories_count": "157",
                    "Entertainment_count": "32",
                    "Date": "2017-07-24",
                    "Mens": "26"
                  },
                  {
                    "Womens": "55",
                    "Gaming": "71",
                    "Phone_and_GPS": "99",
                    "Kids": "94",
                    "Accessories_count": "409",
                    "Entertainment_count": "21",
                    "Date": "2019-03-14",
                    "Mens": "69"
                  },
                  {
                    "Womens": "92",
                    "Gaming": "6",
                    "Phone_and_GPS": "76",
                    "Kids": "95",
                    "Accessories_count": "402",
                    "Entertainment_count": "88",
                    "Date": "2017-09-07",
                    "Mens": "45"
                  },
                  {
                    "Womens": "34",
                    "Gaming": "27",
                    "Phone_and_GPS": "2",
                    "Kids": "83",
                    "Accessories_count": "277",
                    "Entertainment_count": "92",
                    "Date": "2017-07-31",
                    "Mens": "39"
                  },
                  {
                    "Womens": "23",
                    "Gaming": "45",
                    "Phone_and_GPS": "37",
                    "Kids": "95",
                    "Accessories_count": "326",
                    "Entertainment_count": "76",
                    "Date": "2017-01-16",
                    "Mens": "50"
                  },
                  {
                    "Womens": "46",
                    "Gaming": "83",
                    "Phone_and_GPS": "77",
                    "Kids": "49",
                    "Accessories_count": "363",
                    "Entertainment_count": "82",
                    "Date": "2020-12-03",
                    "Mens": "26"
                  },
                  {
                    "Womens": "59",
                    "Gaming": "61",
                    "Phone_and_GPS": "3",
                    "Kids": "44",
                    "Accessories_count": "229",
                    "Entertainment_count": "57",
                    "Date": "2019-03-29",
                    "Mens": "5"
                  },
                  {
                    "Womens": "26",
                    "Gaming": "39",
                    "Phone_and_GPS": "58",
                    "Kids": "79",
                    "Accessories_count": "263",
                    "Entertainment_count": "24",
                    "Date": "2015-09-12",
                    "Mens": "37"
                  },
                  {
                    "Womens": "97",
                    "Gaming": "24",
                    "Phone_and_GPS": "47",
                    "Kids": "12",
                    "Accessories_count": "264",
                    "Entertainment_count": "27",
                    "Date": "2020-06-18",
                    "Mens": "57"
                  },
                  {
                    "Womens": "79",
                    "Gaming": "3",
                    "Phone_and_GPS": "42",
                    "Kids": "14",
                    "Accessories_count": "186",
                    "Entertainment_count": "46",
                    "Date": "2020-05-16",
                    "Mens": "2"
                  },
                  {
                    "Womens": "56",
                    "Gaming": "38",
                    "Phone_and_GPS": "50",
                    "Kids": "58",
                    "Accessories_count": "334",
                    "Entertainment_count": "40",
                    "Date": "2020-04-02",
                    "Mens": "92"
                  },
                  {
                    "Womens": "30",
                    "Gaming": "62",
                    "Phone_and_GPS": "88",
                    "Kids": "70",
                    "Accessories_count": "336",
                    "Entertainment_count": "5",
                    "Date": "2016-09-05",
                    "Mens": "81"
                  },
                  {
                    "Womens": "70",
                    "Gaming": "77",
                    "Phone_and_GPS": "32",
                    "Kids": "29",
                    "Accessories_count": "277",
                    "Entertainment_count": "57",
                    "Date": "2017-03-23",
                    "Mens": "12"
                  },
                  {
                    "Womens": "14",
                    "Gaming": "81",
                    "Phone_and_GPS": "63",
                    "Kids": "15",
                    "Accessories_count": "257",
                    "Entertainment_count": "33",
                    "Date": "2018-04-19",
                    "Mens": "51"
                  },
                  {
                    "Womens": "32",
                    "Gaming": "96",
                    "Phone_and_GPS": "18",
                    "Kids": "50",
                    "Accessories_count": "301",
                    "Entertainment_count": "88",
                    "Date": "2015-03-27",
                    "Mens": "17"
                  },
                  {
                    "Womens": "26",
                    "Gaming": "28",
                    "Phone_and_GPS": "87",
                    "Kids": "31",
                    "Accessories_count": "287",
                    "Entertainment_count": "66",
                    "Date": "2019-09-26",
                    "Mens": "49"
                  },
                  {
                    "Womens": "46",
                    "Gaming": "47",
                    "Phone_and_GPS": "92",
                    "Kids": "59",
                    "Accessories_count": "375",
                    "Entertainment_count": "44",
                    "Date": "2018-09-11",
                    "Mens": "87"
                  },
                  {
                    "Womens": "92",
                    "Gaming": "24",
                    "Phone_and_GPS": "53",
                    "Kids": "20",
                    "Accessories_count": "238",
                    "Entertainment_count": "8",
                    "Date": "2016-03-27",
                    "Mens": "41"
                  },
                  {
                    "Womens": "1",
                    "Gaming": "27",
                    "Phone_and_GPS": "94",
                    "Kids": "67",
                    "Accessories_count": "255",
                    "Entertainment_count": "26",
                    "Date": "2019-11-10",
                    "Mens": "40"
                  },
                  {
                    "Womens": "36",
                    "Gaming": "53",
                    "Phone_and_GPS": "7",
                    "Kids": "18",
                    "Accessories_count": "222",
                    "Entertainment_count": "42",
                    "Date": "2018-09-01",
                    "Mens": "66"
                  },
                  {
                    "Womens": "98",
                    "Gaming": "12",
                    "Phone_and_GPS": "62",
                    "Kids": "97",
                    "Accessories_count": "350",
                    "Entertainment_count": "33",
                    "Date": "2020-11-18",
                    "Mens": "48"
                  },
                  {
                    "Womens": "43",
                    "Gaming": "79",
                    "Phone_and_GPS": "38",
                    "Kids": "24",
                    "Accessories_count": "245",
                    "Entertainment_count": "31",
                    "Date": "2017-06-10",
                    "Mens": "30"
                  },
                  {
                    "Womens": "37",
                    "Gaming": "39",
                    "Phone_and_GPS": "5",
                    "Kids": "20",
                    "Accessories_count": "218",
                    "Entertainment_count": "54",
                    "Date": "2015-12-12",
                    "Mens": "63"
                  },
                  {
                    "Womens": "77",
                    "Gaming": "86",
                    "Phone_and_GPS": "30",
                    "Kids": "90",
                    "Accessories_count": "426",
                    "Entertainment_count": "87",
                    "Date": "2018-11-30",
                    "Mens": "56"
                  },
                  {
                    "Womens": "68",
                    "Gaming": "16",
                    "Phone_and_GPS": "11",
                    "Kids": "29",
                    "Accessories_count": "213",
                    "Entertainment_count": "50",
                    "Date": "2017-02-11",
                    "Mens": "39"
                  },
                  {
                    "Womens": "99",
                    "Gaming": "76",
                    "Phone_and_GPS": "45",
                    "Kids": "57",
                    "Accessories_count": "324",
                    "Entertainment_count": "33",
                    "Date": "2015-01-15",
                    "Mens": "14"
                  },
                  {
                    "Womens": "19",
                    "Gaming": "28",
                    "Phone_and_GPS": "74",
                    "Kids": "6",
                    "Accessories_count": "246",
                    "Entertainment_count": "33",
                    "Date": "2019-03-11",
                    "Mens": "86"
                  },
                  {
                    "Womens": "82",
                    "Gaming": "77",
                    "Phone_and_GPS": "27",
                    "Kids": "84",
                    "Accessories_count": "352",
                    "Entertainment_count": "32",
                    "Date": "2016-03-10",
                    "Mens": "50"
                  },
                  {
                    "Womens": "59",
                    "Gaming": "26",
                    "Phone_and_GPS": "51",
                    "Kids": "69",
                    "Accessories_count": "221",
                    "Entertainment_count": "4",
                    "Date": "2017-11-20",
                    "Mens": "12"
                  },
                  {
                    "Womens": "52",
                    "Gaming": "7",
                    "Phone_and_GPS": "65",
                    "Kids": "98",
                    "Accessories_count": "257",
                    "Entertainment_count": "18",
                    "Date": "2015-03-09",
                    "Mens": "17"
                  },
                  {
                    "Womens": "41",
                    "Gaming": "23",
                    "Phone_and_GPS": "6",
                    "Kids": "36",
                    "Accessories_count": "190",
                    "Entertainment_count": "80",
                    "Date": "2016-09-12",
                    "Mens": "4"
                  },
                  {
                    "Womens": "51",
                    "Gaming": "66",
                    "Phone_and_GPS": "11",
                    "Kids": "43",
                    "Accessories_count": "270",
                    "Entertainment_count": "73",
                    "Date": "2020-04-27",
                    "Mens": "26"
                  },
                  {
                    "Womens": "12",
                    "Gaming": "68",
                    "Phone_and_GPS": "46",
                    "Kids": "89",
                    "Accessories_count": "320",
                    "Entertainment_count": "97",
                    "Date": "2016-09-24",
                    "Mens": "8"
                  },
                  {
                    "Womens": "22",
                    "Gaming": "65",
                    "Phone_and_GPS": "12",
                    "Kids": "22",
                    "Accessories_count": "223",
                    "Entertainment_count": "59",
                    "Date": "2017-05-26",
                    "Mens": "43"
                  },
                  {
                    "Womens": "43",
                    "Gaming": "75",
                    "Phone_and_GPS": "8",
                    "Kids": "78",
                    "Accessories_count": "300",
                    "Entertainment_count": "51",
                    "Date": "2016-09-30",
                    "Mens": "45"
                  },
                  {
                    "Womens": "17",
                    "Gaming": "58",
                    "Phone_and_GPS": "81",
                    "Kids": "86",
                    "Accessories_count": "399",
                    "Entertainment_count": "58",
                    "Date": "2018-06-06",
                    "Mens": "99"
                  },
                  {
                    "Womens": "81",
                    "Gaming": "6",
                    "Phone_and_GPS": "65",
                    "Kids": "92",
                    "Accessories_count": "304",
                    "Entertainment_count": "16",
                    "Date": "2020-08-27",
                    "Mens": "44"
                  },
                  {
                    "Womens": "67",
                    "Gaming": "96",
                    "Phone_and_GPS": "13",
                    "Kids": "74",
                    "Accessories_count": "300",
                    "Entertainment_count": "19",
                    "Date": "2018-02-23",
                    "Mens": "31"
                  },
                  {
                    "Womens": "69",
                    "Gaming": "9",
                    "Phone_and_GPS": "6",
                    "Kids": "74",
                    "Accessories_count": "300",
                    "Entertainment_count": "52",
                    "Date": "2020-01-08",
                    "Mens": "90"
                  },
                  {
                    "Womens": "91",
                    "Gaming": "40",
                    "Phone_and_GPS": "22",
                    "Kids": "98",
                    "Accessories_count": "332",
                    "Entertainment_count": "64",
                    "Date": "2015-02-25",
                    "Mens": "17"
                  },
                  {
                    "Womens": "12",
                    "Gaming": "29",
                    "Phone_and_GPS": "89",
                    "Kids": "52",
                    "Accessories_count": "267",
                    "Entertainment_count": "32",
                    "Date": "2020-05-15",
                    "Mens": "53"
                  },
                  {
                    "Womens": "36",
                    "Gaming": "82",
                    "Phone_and_GPS": "95",
                    "Kids": "65",
                    "Accessories_count": "400",
                    "Entertainment_count": "74",
                    "Date": "2020-08-06",
                    "Mens": "48"
                  },
                  {
                    "Womens": "2",
                    "Gaming": "36",
                    "Phone_and_GPS": "61",
                    "Kids": "46",
                    "Accessories_count": "225",
                    "Entertainment_count": "28",
                    "Date": "2020-05-06",
                    "Mens": "52"
                  },
                  {
                    "Womens": "18",
                    "Gaming": "59",
                    "Phone_and_GPS": "90",
                    "Kids": "39",
                    "Accessories_count": "310",
                    "Entertainment_count": "36",
                    "Date": "2017-10-03",
                    "Mens": "68"
                  },
                  {
                    "Womens": "43",
                    "Gaming": "6",
                    "Phone_and_GPS": "46",
                    "Kids": "61",
                    "Accessories_count": "279",
                    "Entertainment_count": "63",
                    "Date": "2017-08-18",
                    "Mens": "60"
                  },
                  {
                    "Womens": "66",
                    "Gaming": "78",
                    "Phone_and_GPS": "89",
                    "Kids": "57",
                    "Accessories_count": "420",
                    "Entertainment_count": "88",
                    "Date": "2016-07-18",
                    "Mens": "42"
                  },
                  {
                    "Womens": "89",
                    "Gaming": "7",
                    "Phone_and_GPS": "42",
                    "Kids": "28",
                    "Accessories_count": "269",
                    "Entertainment_count": "44",
                    "Date": "2019-04-11",
                    "Mens": "59"
                  },
                  {
                    "Womens": "55",
                    "Gaming": "90",
                    "Phone_and_GPS": "40",
                    "Kids": "19",
                    "Accessories_count": "333",
                    "Entertainment_count": "34",
                    "Date": "2020-07-15",
                    "Mens": "95"
                  },
                  {
                    "Womens": "80",
                    "Gaming": "90",
                    "Phone_and_GPS": "15",
                    "Kids": "33",
                    "Accessories_count": "410",
                    "Entertainment_count": "97",
                    "Date": "2015-07-05",
                    "Mens": "95"
                  },
                  {
                    "Womens": "52",
                    "Gaming": "35",
                    "Phone_and_GPS": "24",
                    "Kids": "71",
                    "Accessories_count": "242",
                    "Entertainment_count": "51",
                    "Date": "2019-01-07",
                    "Mens": "9"
                  },
                  {
                    "Womens": "4",
                    "Gaming": "1",
                    "Phone_and_GPS": "17",
                    "Kids": "27",
                    "Accessories_count": "93",
                    "Entertainment_count": "24",
                    "Date": "2020-01-05",
                    "Mens": "20"
                  },
                  {
                    "Womens": "69",
                    "Gaming": "88",
                    "Phone_and_GPS": "7",
                    "Kids": "33",
                    "Accessories_count": "347",
                    "Entertainment_count": "71",
                    "Date": "2019-10-21",
                    "Mens": "79"
                  },
                  {
                    "Womens": "87",
                    "Gaming": "58",
                    "Phone_and_GPS": "10",
                    "Kids": "11",
                    "Accessories_count": "289",
                    "Entertainment_count": "45",
                    "Date": "2017-05-06",
                    "Mens": "78"
                  },
                  {
                    "Womens": "4",
                    "Gaming": "33",
                    "Phone_and_GPS": "69",
                    "Kids": "81",
                    "Accessories_count": "271",
                    "Entertainment_count": "36",
                    "Date": "2018-08-22",
                    "Mens": "48"
                  },
                  {
                    "Womens": "98",
                    "Gaming": "64",
                    "Phone_and_GPS": "82",
                    "Kids": "72",
                    "Accessories_count": "442",
                    "Entertainment_count": "64",
                    "Date": "2019-08-16",
                    "Mens": "62"
                  },
                  {
                    "Womens": "95",
                    "Gaming": "79",
                    "Phone_and_GPS": "70",
                    "Kids": "76",
                    "Accessories_count": "399",
                    "Entertainment_count": "9",
                    "Date": "2019-06-28",
                    "Mens": "70"
                  },
                  {
                    "Womens": "43",
                    "Gaming": "85",
                    "Phone_and_GPS": "6",
                    "Kids": "18",
                    "Accessories_count": "256",
                    "Entertainment_count": "81",
                    "Date": "2015-09-06",
                    "Mens": "23"
                  },
                  {
                    "Womens": "75",
                    "Gaming": "90",
                    "Phone_and_GPS": "54",
                    "Kids": "6",
                    "Accessories_count": "338",
                    "Entertainment_count": "20",
                    "Date": "2016-07-05",
                    "Mens": "93"
                  },
                  {
                    "Womens": "14",
                    "Gaming": "39",
                    "Phone_and_GPS": "56",
                    "Kids": "39",
                    "Accessories_count": "304",
                    "Entertainment_count": "65",
                    "Date": "2017-01-19",
                    "Mens": "91"
                  },
                  {
                    "Womens": "46",
                    "Gaming": "14",
                    "Phone_and_GPS": "99",
                    "Kids": "44",
                    "Accessories_count": "264",
                    "Entertainment_count": "38",
                    "Date": "2020-08-10",
                    "Mens": "23"
                  },
                  {
                    "Womens": "68",
                    "Gaming": "8",
                    "Phone_and_GPS": "15",
                    "Kids": "21",
                    "Accessories_count": "227",
                    "Entertainment_count": "76",
                    "Date": "2018-07-06",
                    "Mens": "39"
                  },
                  {
                    "Womens": "53",
                    "Gaming": "94",
                    "Phone_and_GPS": "99",
                    "Kids": "68",
                    "Accessories_count": "458",
                    "Entertainment_count": "77",
                    "Date": "2018-04-04",
                    "Mens": "67"
                  },
                  {
                    "Womens": "83",
                    "Gaming": "55",
                    "Phone_and_GPS": "38",
                    "Kids": "55",
                    "Accessories_count": "290",
                    "Entertainment_count": "12",
                    "Date": "2017-05-29",
                    "Mens": "47"
                  },
                  {
                    "Womens": "45",
                    "Gaming": "39",
                    "Phone_and_GPS": "38",
                    "Kids": "97",
                    "Accessories_count": "266",
                    "Entertainment_count": "18",
                    "Date": "2019-04-27",
                    "Mens": "29"
                  },
                  {
                    "Womens": "77",
                    "Gaming": "91",
                    "Phone_and_GPS": "17",
                    "Kids": "28",
                    "Accessories_count": "361",
                    "Entertainment_count": "72",
                    "Date": "2016-02-02",
                    "Mens": "76"
                  },
                  {
                    "Womens": "5",
                    "Gaming": "28",
                    "Phone_and_GPS": "88",
                    "Kids": "32",
                    "Accessories_count": "164",
                    "Entertainment_count": "8",
                    "Date": "2016-02-21",
                    "Mens": "3"
                  },
                  {
                    "Womens": "72",
                    "Gaming": "80",
                    "Phone_and_GPS": "69",
                    "Kids": "48",
                    "Accessories_count": "408",
                    "Entertainment_count": "56",
                    "Date": "2020-09-07",
                    "Mens": "83"
                  },
                  {
                    "Womens": "34",
                    "Gaming": "70",
                    "Phone_and_GPS": "37",
                    "Kids": "1",
                    "Accessories_count": "300",
                    "Entertainment_count": "65",
                    "Date": "2016-11-28",
                    "Mens": "93"
                  },
                  {
                    "Womens": "60",
                    "Gaming": "75",
                    "Phone_and_GPS": "52",
                    "Kids": "54",
                    "Accessories_count": "369",
                    "Entertainment_count": "93",
                    "Date": "2020-05-08",
                    "Mens": "35"
                  },
                  {
                    "Womens": "0",
                    "Gaming": "45",
                    "Phone_and_GPS": "74",
                    "Kids": "99",
                    "Accessories_count": "293",
                    "Entertainment_count": "71",
                    "Date": "2018-04-30",
                    "Mens": "4"
                  },
                  {
                    "Womens": "82",
                    "Gaming": "43",
                    "Phone_and_GPS": "95",
                    "Kids": "18",
                    "Accessories_count": "337",
                    "Entertainment_count": "90",
                    "Date": "2017-07-11",
                    "Mens": "9"
                  },
                  {
                    "Womens": "79",
                    "Gaming": "76",
                    "Phone_and_GPS": "94",
                    "Kids": "56",
                    "Accessories_count": "360",
                    "Entertainment_count": "4",
                    "Date": "2016-06-27",
                    "Mens": "51"
                  },
                  {
                    "Womens": "44",
                    "Gaming": "12",
                    "Phone_and_GPS": "32",
                    "Kids": "78",
                    "Accessories_count": "296",
                    "Entertainment_count": "85",
                    "Date": "2018-10-04",
                    "Mens": "45"
                  },
                  {
                    "Womens": "91",
                    "Gaming": "97",
                    "Phone_and_GPS": "29",
                    "Kids": "0",
                    "Accessories_count": "317",
                    "Entertainment_count": "48",
                    "Date": "2018-11-22",
                    "Mens": "52"
                  },
                  {
                    "Womens": "53",
                    "Gaming": "78",
                    "Phone_and_GPS": "41",
                    "Kids": "91",
                    "Accessories_count": "432",
                    "Entertainment_count": "99",
                    "Date": "2018-11-26",
                    "Mens": "70"
                  },
                  {
                    "Womens": "13",
                    "Gaming": "15",
                    "Phone_and_GPS": "12",
                    "Kids": "55",
                    "Accessories_count": "124",
                    "Entertainment_count": "16",
                    "Date": "2017-05-11",
                    "Mens": "13"
                  },
                  {
                    "Womens": "97",
                    "Gaming": "42",
                    "Phone_and_GPS": "80",
                    "Kids": "51",
                    "Accessories_count": "413",
                    "Entertainment_count": "55",
                    "Date": "2018-11-12",
                    "Mens": "88"
                  },
                  {
                    "Womens": "90",
                    "Gaming": "37",
                    "Phone_and_GPS": "46",
                    "Kids": "1",
                    "Accessories_count": "356",
                    "Entertainment_count": "87",
                    "Date": "2015-03-23",
                    "Mens": "95"
                  },
                  {
                    "Womens": "0",
                    "Gaming": "77",
                    "Phone_and_GPS": "55",
                    "Kids": "56",
                    "Accessories_count": "344",
                    "Entertainment_count": "57",
                    "Date": "2015-05-04",
                    "Mens": "99"
                  },
                  {
                    "Womens": "49",
                    "Gaming": "88",
                    "Phone_and_GPS": "40",
                    "Kids": "28",
                    "Accessories_count": "253",
                    "Entertainment_count": "42",
                    "Date": "2018-07-28",
                    "Mens": "6"
                  },
                  {
                    "Womens": "71",
                    "Gaming": "84",
                    "Phone_and_GPS": "2",
                    "Kids": "17",
                    "Accessories_count": "248",
                    "Entertainment_count": "71",
                    "Date": "2018-05-06",
                    "Mens": "3"
                  },
                  {
                    "Womens": "18",
                    "Gaming": "10",
                    "Phone_and_GPS": "62",
                    "Kids": "66",
                    "Accessories_count": "253",
                    "Entertainment_count": "55",
                    "Date": "2018-06-26",
                    "Mens": "42"
                  },
                  {
                    "Womens": "75",
                    "Gaming": "96",
                    "Phone_and_GPS": "9",
                    "Kids": "36",
                    "Accessories_count": "300",
                    "Entertainment_count": "22",
                    "Date": "2020-06-16",
                    "Mens": "62"
                  },
                  {
                    "Womens": "20",
                    "Gaming": "6",
                    "Phone_and_GPS": "35",
                    "Kids": "77",
                    "Accessories_count": "238",
                    "Entertainment_count": "78",
                    "Date": "2017-10-02",
                    "Mens": "22"
                  },
                  {
                    "Womens": "99",
                    "Gaming": "76",
                    "Phone_and_GPS": "75",
                    "Kids": "32",
                    "Accessories_count": "379",
                    "Entertainment_count": "75",
                    "Date": "2019-01-03",
                    "Mens": "22"
                  },
                  {
                    "Womens": "49",
                    "Gaming": "67",
                    "Phone_and_GPS": "6",
                    "Kids": "25",
                    "Accessories_count": "175",
                    "Entertainment_count": "17",
                    "Date": "2019-05-04",
                    "Mens": "11"
                  },
                  {
                    "Womens": "26",
                    "Gaming": "25",
                    "Phone_and_GPS": "96",
                    "Kids": "23",
                    "Accessories_count": "273",
                    "Entertainment_count": "17",
                    "Date": "2016-01-21",
                    "Mens": "86"
                  },
                  {
                    "Womens": "88",
                    "Gaming": "63",
                    "Phone_and_GPS": "14",
                    "Kids": "17",
                    "Accessories_count": "343",
                    "Entertainment_count": "66",
                    "Date": "2016-10-09",
                    "Mens": "95"
                  },
                  {
                    "Womens": "43",
                    "Gaming": "26",
                    "Phone_and_GPS": "55",
                    "Kids": "93",
                    "Accessories_count": "341",
                    "Entertainment_count": "47",
                    "Date": "2016-05-22",
                    "Mens": "77"
                  },
                  {
                    "Womens": "23",
                    "Gaming": "58",
                    "Phone_and_GPS": "26",
                    "Kids": "76",
                    "Accessories_count": "274",
                    "Entertainment_count": "5",
                    "Date": "2020-01-10",
                    "Mens": "86"
                  },
                  {
                    "Womens": "8",
                    "Gaming": "84",
                    "Phone_and_GPS": "50",
                    "Kids": "66",
                    "Accessories_count": "240",
                    "Entertainment_count": "29",
                    "Date": "2019-06-01",
                    "Mens": "3"
                  },
                  {
                    "Womens": "1",
                    "Gaming": "10",
                    "Phone_and_GPS": "18",
                    "Kids": "51",
                    "Accessories_count": "163",
                    "Entertainment_count": "35",
                    "Date": "2016-11-14",
                    "Mens": "48"
                  },
                  {
                    "Womens": "58",
                    "Gaming": "35",
                    "Phone_and_GPS": "6",
                    "Kids": "3",
                    "Accessories_count": "172",
                    "Entertainment_count": "31",
                    "Date": "2020-11-23",
                    "Mens": "39"
                  },
                  {
                    "Womens": "85",
                    "Gaming": "9",
                    "Phone_and_GPS": "71",
                    "Kids": "46",
                    "Accessories_count": "351",
                    "Entertainment_count": "47",
                    "Date": "2018-08-12",
                    "Mens": "93"
                  },
                  {
                    "Womens": "25",
                    "Gaming": "1",
                    "Phone_and_GPS": "78",
                    "Kids": "77",
                    "Accessories_count": "347",
                    "Entertainment_count": "71",
                    "Date": "2015-10-09",
                    "Mens": "95"
                  },
                  {
                    "Womens": "55",
                    "Gaming": "0",
                    "Phone_and_GPS": "89",
                    "Kids": "10",
                    "Accessories_count": "250",
                    "Entertainment_count": "70",
                    "Date": "2016-02-13",
                    "Mens": "26"
                  },
                  {
                    "Womens": "99",
                    "Gaming": "13",
                    "Phone_and_GPS": "80",
                    "Kids": "28",
                    "Accessories_count": "319",
                    "Entertainment_count": "82",
                    "Date": "2016-06-23",
                    "Mens": "17"
                  },
                  {
                    "Womens": "67",
                    "Gaming": "44",
                    "Phone_and_GPS": "72",
                    "Kids": "88",
                    "Accessories_count": "331",
                    "Entertainment_count": "4",
                    "Date": "2018-08-21",
                    "Mens": "56"
                  },
                  {
                    "Womens": "96",
                    "Gaming": "49",
                    "Phone_and_GPS": "52",
                    "Kids": "90",
                    "Accessories_count": "352",
                    "Entertainment_count": "13",
                    "Date": "2015-02-07",
                    "Mens": "52"
                  },
                  {
                    "Womens": "75",
                    "Gaming": "70",
                    "Phone_and_GPS": "36",
                    "Kids": "84",
                    "Accessories_count": "336",
                    "Entertainment_count": "62",
                    "Date": "2017-02-28",
                    "Mens": "9"
                  },
                  {
                    "Womens": "14",
                    "Gaming": "74",
                    "Phone_and_GPS": "7",
                    "Kids": "52",
                    "Accessories_count": "225",
                    "Entertainment_count": "73",
                    "Date": "2015-07-25",
                    "Mens": "5"
                  },
                  {
                    "Womens": "33",
                    "Gaming": "24",
                    "Phone_and_GPS": "30",
                    "Kids": "67",
                    "Accessories_count": "195",
                    "Entertainment_count": "37",
                    "Date": "2016-01-24",
                    "Mens": "4"
                  },
                  {
                    "Womens": "5",
                    "Gaming": "35",
                    "Phone_and_GPS": "9",
                    "Kids": "25",
                    "Accessories_count": "234",
                    "Entertainment_count": "69",
                    "Date": "2015-04-10",
                    "Mens": "91"
                  },
                  {
                    "Womens": "77",
                    "Gaming": "74",
                    "Phone_and_GPS": "71",
                    "Kids": "93",
                    "Accessories_count": "447",
                    "Entertainment_count": "90",
                    "Date": "2020-08-20",
                    "Mens": "42"
                  },
                  {
                    "Womens": "25",
                    "Gaming": "36",
                    "Phone_and_GPS": "94",
                    "Kids": "26",
                    "Accessories_count": "306",
                    "Entertainment_count": "78",
                    "Date": "2020-06-30",
                    "Mens": "47"
                  },
                  {
                    "Womens": "67",
                    "Gaming": "33",
                    "Phone_and_GPS": "12",
                    "Kids": "48",
                    "Accessories_count": "185",
                    "Entertainment_count": "2",
                    "Date": "2015-05-10",
                    "Mens": "23"
                  },
                  {
                    "Womens": "10",
                    "Gaming": "98",
                    "Phone_and_GPS": "16",
                    "Kids": "6",
                    "Accessories_count": "195",
                    "Entertainment_count": "16",
                    "Date": "2016-02-10",
                    "Mens": "49"
                  },
                  {
                    "Womens": "95",
                    "Gaming": "79",
                    "Phone_and_GPS": "1",
                    "Kids": "24",
                    "Accessories_count": "283",
                    "Entertainment_count": "40",
                    "Date": "2015-02-26",
                    "Mens": "44"
                  },
                  {
                    "Womens": "39",
                    "Gaming": "8",
                    "Phone_and_GPS": "31",
                    "Kids": "79",
                    "Accessories_count": "276",
                    "Entertainment_count": "56",
                    "Date": "2018-11-23",
                    "Mens": "63"
                  },
                  {
                    "Womens": "53",
                    "Gaming": "32",
                    "Phone_and_GPS": "7",
                    "Kids": "9",
                    "Accessories_count": "140",
                    "Entertainment_count": "5",
                    "Date": "2019-08-01",
                    "Mens": "34"
                  },
                  {
                    "Womens": "77",
                    "Gaming": "57",
                    "Phone_and_GPS": "39",
                    "Kids": "56",
                    "Accessories_count": "361",
                    "Entertainment_count": "39",
                    "Date": "2017-05-23",
                    "Mens": "93"
                  },
                  {
                    "Womens": "97",
                    "Gaming": "2",
                    "Phone_and_GPS": "36",
                    "Kids": "36",
                    "Accessories_count": "280",
                    "Entertainment_count": "67",
                    "Date": "2020-05-06",
                    "Mens": "42"
                  },
                  {
                    "Womens": "91",
                    "Gaming": "40",
                    "Phone_and_GPS": "77",
                    "Kids": "23",
                    "Accessories_count": "300",
                    "Entertainment_count": "7",
                    "Date": "2015-09-24",
                    "Mens": "62"
                  },
                  {
                    "Womens": "58",
                    "Gaming": "78",
                    "Phone_and_GPS": "1",
                    "Kids": "22",
                    "Accessories_count": "313",
                    "Entertainment_count": "62",
                    "Date": "2018-04-09",
                    "Mens": "92"
                  },
                  {
                    "Womens": "12",
                    "Gaming": "58",
                    "Phone_and_GPS": "82",
                    "Kids": "75",
                    "Accessories_count": "310",
                    "Entertainment_count": "27",
                    "Date": "2015-02-23",
                    "Mens": "56"
                  },
                  {
                    "Womens": "40",
                    "Gaming": "31",
                    "Phone_and_GPS": "64",
                    "Kids": "52",
                    "Accessories_count": "340",
                    "Entertainment_count": "58",
                    "Date": "2015-04-13",
                    "Mens": "95"
                  },
                  {
                    "Womens": "18",
                    "Gaming": "98",
                    "Phone_and_GPS": "31",
                    "Kids": "35",
                    "Accessories_count": "325",
                    "Entertainment_count": "78",
                    "Date": "2015-08-01",
                    "Mens": "65"
                  },
                  {
                    "Womens": "52",
                    "Gaming": "63",
                    "Phone_and_GPS": "78",
                    "Kids": "81",
                    "Accessories_count": "419",
                    "Entertainment_count": "70",
                    "Date": "2018-11-22",
                    "Mens": "75"
                  },
                  {
                    "Womens": "55",
                    "Gaming": "46",
                    "Phone_and_GPS": "12",
                    "Kids": "34",
                    "Accessories_count": "263",
                    "Entertainment_count": "37",
                    "Date": "2015-07-27",
                    "Mens": "79"
                  },
                  {
                    "Womens": "86",
                    "Gaming": "20",
                    "Phone_and_GPS": "82",
                    "Kids": "82",
                    "Accessories_count": "372",
                    "Entertainment_count": "89",
                    "Date": "2019-07-05",
                    "Mens": "13"
                  },
                  {
                    "Womens": "13",
                    "Gaming": "8",
                    "Phone_and_GPS": "85",
                    "Kids": "69",
                    "Accessories_count": "305",
                    "Entertainment_count": "83",
                    "Date": "2015-01-03",
                    "Mens": "47"
                  },
                  {
                    "Womens": "91",
                    "Gaming": "54",
                    "Phone_and_GPS": "32",
                    "Kids": "87",
                    "Accessories_count": "357",
                    "Entertainment_count": "57",
                    "Date": "2017-03-25",
                    "Mens": "36"
                  },
                  {
                    "Womens": "94",
                    "Gaming": "83",
                    "Phone_and_GPS": "85",
                    "Kids": "74",
                    "Accessories_count": "366",
                    "Entertainment_count": "18",
                    "Date": "2018-07-12",
                    "Mens": "12"
                  },
                  {
                    "Womens": "69",
                    "Gaming": "41",
                    "Phone_and_GPS": "17",
                    "Kids": "98",
                    "Accessories_count": "346",
                    "Entertainment_count": "57",
                    "Date": "2020-05-23",
                    "Mens": "64"
                  },
                  {
                    "Womens": "45",
                    "Gaming": "18",
                    "Phone_and_GPS": "20",
                    "Kids": "11",
                    "Accessories_count": "271",
                    "Entertainment_count": "85",
                    "Date": "2018-07-14",
                    "Mens": "92"
                  },
                  {
                    "Womens": "57",
                    "Gaming": "47",
                    "Phone_and_GPS": "55",
                    "Kids": "86",
                    "Accessories_count": "360",
                    "Entertainment_count": "25",
                    "Date": "2015-03-30",
                    "Mens": "90"
                  },
                  {
                    "Womens": "78",
                    "Gaming": "73",
                    "Phone_and_GPS": "12",
                    "Kids": "89",
                    "Accessories_count": "377",
                    "Entertainment_count": "28",
                    "Date": "2018-01-28",
                    "Mens": "97"
                  },
                  {
                    "Womens": "93",
                    "Gaming": "45",
                    "Phone_and_GPS": "44",
                    "Kids": "60",
                    "Accessories_count": "313",
                    "Entertainment_count": "40",
                    "Date": "2016-02-19",
                    "Mens": "31"
                  },
                  {
                    "Womens": "14",
                    "Gaming": "1",
                    "Phone_and_GPS": "7",
                    "Kids": "21",
                    "Accessories_count": "139",
                    "Entertainment_count": "81",
                    "Date": "2018-01-25",
                    "Mens": "15"
                  },
                  {
                    "Womens": "3",
                    "Gaming": "9",
                    "Phone_and_GPS": "32",
                    "Kids": "21",
                    "Accessories_count": "107",
                    "Entertainment_count": "38",
                    "Date": "2020-03-27",
                    "Mens": "4"
                  },
                  {
                    "Womens": "14",
                    "Gaming": "58",
                    "Phone_and_GPS": "98",
                    "Kids": "10",
                    "Accessories_count": "292",
                    "Entertainment_count": "60",
                    "Date": "2015-04-24",
                    "Mens": "52"
                  },
                  {
                    "Womens": "84",
                    "Gaming": "98",
                    "Phone_and_GPS": "18",
                    "Kids": "1",
                    "Accessories_count": "216",
                    "Entertainment_count": "12",
                    "Date": "2016-12-12",
                    "Mens": "3"
                  },
                  {
                    "Womens": "35",
                    "Gaming": "46",
                    "Phone_and_GPS": "8",
                    "Kids": "59",
                    "Accessories_count": "302",
                    "Entertainment_count": "79",
                    "Date": "2015-06-25",
                    "Mens": "75"
                  },
                  {
                    "Womens": "77",
                    "Gaming": "60",
                    "Phone_and_GPS": "28",
                    "Kids": "51",
                    "Accessories_count": "346",
                    "Entertainment_count": "84",
                    "Date": "2017-08-04",
                    "Mens": "46"
                  },
                  {
                    "Womens": "79",
                    "Gaming": "69",
                    "Phone_and_GPS": "70",
                    "Kids": "72",
                    "Accessories_count": "342",
                    "Entertainment_count": "24",
                    "Date": "2016-01-26",
                    "Mens": "28"
                  },
                  {
                    "Womens": "53",
                    "Gaming": "75",
                    "Phone_and_GPS": "62",
                    "Kids": "64",
                    "Accessories_count": "301",
                    "Entertainment_count": "31",
                    "Date": "2020-04-11",
                    "Mens": "16"
                  },
                  {
                    "Womens": "81",
                    "Gaming": "45",
                    "Phone_and_GPS": "15",
                    "Kids": "19",
                    "Accessories_count": "277",
                    "Entertainment_count": "41",
                    "Date": "2019-12-19",
                    "Mens": "76"
                  },
                  {
                    "Womens": "51",
                    "Gaming": "96",
                    "Phone_and_GPS": "10",
                    "Kids": "76",
                    "Accessories_count": "278",
                    "Entertainment_count": "44",
                    "Date": "2016-08-23",
                    "Mens": "1"
                  },
                  {
                    "Womens": "85",
                    "Gaming": "4",
                    "Phone_and_GPS": "36",
                    "Kids": "92",
                    "Accessories_count": "254",
                    "Entertainment_count": "34",
                    "Date": "2020-03-06",
                    "Mens": "3"
                  },
                  {
                    "Womens": "69",
                    "Gaming": "69",
                    "Phone_and_GPS": "24",
                    "Kids": "90",
                    "Accessories_count": "353",
                    "Entertainment_count": "93",
                    "Date": "2015-06-14",
                    "Mens": "8"
                  },
                  {
                    "Womens": "58",
                    "Gaming": "35",
                    "Phone_and_GPS": "38",
                    "Kids": "86",
                    "Accessories_count": "384",
                    "Entertainment_count": "77",
                    "Date": "2019-11-04",
                    "Mens": "90"
                  },
                  {
                    "Womens": "74",
                    "Gaming": "51",
                    "Phone_and_GPS": "59",
                    "Kids": "4",
                    "Accessories_count": "247",
                    "Entertainment_count": "6",
                    "Date": "2015-11-10",
                    "Mens": "53"
                  },
                  {
                    "Womens": "5",
                    "Gaming": "61",
                    "Phone_and_GPS": "22",
                    "Kids": "50",
                    "Accessories_count": "264",
                    "Entertainment_count": "90",
                    "Date": "2019-04-24",
                    "Mens": "36"
                  },
                  {
                    "Womens": "22",
                    "Gaming": "69",
                    "Phone_and_GPS": "0",
                    "Kids": "55",
                    "Accessories_count": "276",
                    "Entertainment_count": "86",
                    "Date": "2016-08-22",
                    "Mens": "44"
                  },
                  {
                    "Womens": "32",
                    "Gaming": "9",
                    "Phone_and_GPS": "32",
                    "Kids": "25",
                    "Accessories_count": "188",
                    "Entertainment_count": "81",
                    "Date": "2017-02-11",
                    "Mens": "9"
                  },
                  {
                    "Womens": "94",
                    "Gaming": "41",
                    "Phone_and_GPS": "73",
                    "Kids": "74",
                    "Accessories_count": "444",
                    "Entertainment_count": "76",
                    "Date": "2019-05-20",
                    "Mens": "86"
                  },
                  {
                    "Womens": "77",
                    "Gaming": "4",
                    "Phone_and_GPS": "24",
                    "Kids": "93",
                    "Accessories_count": "306",
                    "Entertainment_count": "60",
                    "Date": "2019-03-12",
                    "Mens": "48"
                  },
                  {
                    "Womens": "45",
                    "Gaming": "57",
                    "Phone_and_GPS": "23",
                    "Kids": "56",
                    "Accessories_count": "252",
                    "Entertainment_count": "53",
                    "Date": "2018-12-26",
                    "Mens": "18"
                  },
                  {
                    "Womens": "1",
                    "Gaming": "26",
                    "Phone_and_GPS": "12",
                    "Kids": "98",
                    "Accessories_count": "239",
                    "Entertainment_count": "45",
                    "Date": "2018-02-16",
                    "Mens": "57"
                  },
                  {
                    "Womens": "65",
                    "Gaming": "48",
                    "Phone_and_GPS": "11",
                    "Kids": "86",
                    "Accessories_count": "293",
                    "Entertainment_count": "26",
                    "Date": "2019-11-02",
                    "Mens": "57"
                  },
                  {
                    "Womens": "22",
                    "Gaming": "68",
                    "Phone_and_GPS": "79",
                    "Kids": "77",
                    "Accessories_count": "280",
                    "Entertainment_count": "25",
                    "Date": "2018-10-31",
                    "Mens": "9"
                  },
                  {
                    "Womens": "86",
                    "Gaming": "93",
                    "Phone_and_GPS": "53",
                    "Kids": "61",
                    "Accessories_count": "438",
                    "Entertainment_count": "95",
                    "Date": "2019-07-06",
                    "Mens": "50"
                  },
                  {
                    "Womens": "28",
                    "Gaming": "40",
                    "Phone_and_GPS": "75",
                    "Kids": "3",
                    "Accessories_count": "262",
                    "Entertainment_count": "79",
                    "Date": "2017-07-12",
                    "Mens": "37"
                  },
                  {
                    "Womens": "49",
                    "Gaming": "64",
                    "Phone_and_GPS": "85",
                    "Kids": "90",
                    "Accessories_count": "414",
                    "Entertainment_count": "46",
                    "Date": "2018-07-10",
                    "Mens": "80"
                  },
                  {
                    "Womens": "63",
                    "Gaming": "92",
                    "Phone_and_GPS": "76",
                    "Kids": "28",
                    "Accessories_count": "371",
                    "Entertainment_count": "30",
                    "Date": "2019-10-15",
                    "Mens": "82"
                  },
                  {
                    "Womens": "13",
                    "Gaming": "0",
                    "Phone_and_GPS": "32",
                    "Kids": "27",
                    "Accessories_count": "135",
                    "Entertainment_count": "25",
                    "Date": "2015-10-19",
                    "Mens": "38"
                  },
                  {
                    "Womens": "76",
                    "Gaming": "91",
                    "Phone_and_GPS": "64",
                    "Kids": "78",
                    "Accessories_count": "406",
                    "Entertainment_count": "54",
                    "Date": "2017-09-30",
                    "Mens": "43"
                  },
                  {
                    "Womens": "62",
                    "Gaming": "29",
                    "Phone_and_GPS": "84",
                    "Kids": "8",
                    "Accessories_count": "323",
                    "Entertainment_count": "58",
                    "Date": "2019-05-03",
                    "Mens": "82"
                  },
                  {
                    "Womens": "64",
                    "Gaming": "39",
                    "Phone_and_GPS": "8",
                    "Kids": "99",
                    "Accessories_count": "323",
                    "Entertainment_count": "47",
                    "Date": "2016-03-26",
                    "Mens": "66"
                  },
                  {
                    "Womens": "41",
                    "Gaming": "3",
                    "Phone_and_GPS": "67",
                    "Kids": "15",
                    "Accessories_count": "241",
                    "Entertainment_count": "70",
                    "Date": "2017-08-23",
                    "Mens": "45"
                  },
                  {
                    "Womens": "69",
                    "Gaming": "63",
                    "Phone_and_GPS": "66",
                    "Kids": "58",
                    "Accessories_count": "380",
                    "Entertainment_count": "87",
                    "Date": "2018-02-08",
                    "Mens": "37"
                  },
                  {
                    "Womens": "20",
                    "Gaming": "57",
                    "Phone_and_GPS": "59",
                    "Kids": "21",
                    "Accessories_count": "182",
                    "Entertainment_count": "19",
                    "Date": "2019-11-24",
                    "Mens": "6"
                  },
                  {
                    "Womens": "35",
                    "Gaming": "14",
                    "Phone_and_GPS": "99",
                    "Kids": "77",
                    "Accessories_count": "379",
                    "Entertainment_count": "68",
                    "Date": "2018-11-09",
                    "Mens": "86"
                  },
                  {
                    "Womens": "32",
                    "Gaming": "40",
                    "Phone_and_GPS": "14",
                    "Kids": "86",
                    "Accessories_count": "352",
                    "Entertainment_count": "96",
                    "Date": "2017-03-25",
                    "Mens": "84"
                  },
                  {
                    "Womens": "27",
                    "Gaming": "59",
                    "Phone_and_GPS": "58",
                    "Kids": "36",
                    "Accessories_count": "290",
                    "Entertainment_count": "87",
                    "Date": "2017-06-11",
                    "Mens": "23"
                  },
                  {
                    "Womens": "52",
                    "Gaming": "27",
                    "Phone_and_GPS": "1",
                    "Kids": "87",
                    "Accessories_count": "287",
                    "Entertainment_count": "69",
                    "Date": "2016-12-03",
                    "Mens": "51"
                  },
                  {
                    "Womens": "77",
                    "Gaming": "77",
                    "Phone_and_GPS": "10",
                    "Kids": "69",
                    "Accessories_count": "283",
                    "Entertainment_count": "4",
                    "Date": "2015-09-05",
                    "Mens": "46"
                  },
                  {
                    "Womens": "80",
                    "Gaming": "69",
                    "Phone_and_GPS": "38",
                    "Kids": "95",
                    "Accessories_count": "342",
                    "Entertainment_count": "31",
                    "Date": "2018-06-01",
                    "Mens": "29"
                  },
                  {
                    "Womens": "29",
                    "Gaming": "62",
                    "Phone_and_GPS": "15",
                    "Kids": "69",
                    "Accessories_count": "297",
                    "Entertainment_count": "83",
                    "Date": "2018-05-04",
                    "Mens": "39"
                  },
                  {
                    "Womens": "14",
                    "Gaming": "21",
                    "Phone_and_GPS": "90",
                    "Kids": "21",
                    "Accessories_count": "254",
                    "Entertainment_count": "62",
                    "Date": "2016-10-08",
                    "Mens": "46"
                  },
                  {
                    "Womens": "98",
                    "Gaming": "99",
                    "Phone_and_GPS": "28",
                    "Kids": "48",
                    "Accessories_count": "365",
                    "Entertainment_count": "83",
                    "Date": "2020-04-12",
                    "Mens": "9"
                  },
                  {
                    "Womens": "30",
                    "Gaming": "38",
                    "Phone_and_GPS": "6",
                    "Kids": "66",
                    "Accessories_count": "297",
                    "Entertainment_count": "72",
                    "Date": "2020-12-11",
                    "Mens": "85"
                  },
                  {
                    "Womens": "2",
                    "Gaming": "88",
                    "Phone_and_GPS": "92",
                    "Kids": "76",
                    "Accessories_count": "357",
                    "Entertainment_count": "40",
                    "Date": "2017-07-16",
                    "Mens": "59"
                  },
                  {
                    "Womens": "54",
                    "Gaming": "20",
                    "Phone_and_GPS": "78",
                    "Kids": "40",
                    "Accessories_count": "341",
                    "Entertainment_count": "72",
                    "Date": "2016-12-05",
                    "Mens": "77"
                  },
                  {
                    "Womens": "0",
                    "Gaming": "40",
                    "Phone_and_GPS": "5",
                    "Kids": "17",
                    "Accessories_count": "93",
                    "Entertainment_count": "4",
                    "Date": "2019-12-02",
                    "Mens": "27"
                  },
                  {
                    "Womens": "35",
                    "Gaming": "68",
                    "Phone_and_GPS": "22",
                    "Kids": "31",
                    "Accessories_count": "240",
                    "Entertainment_count": "64",
                    "Date": "2016-04-18",
                    "Mens": "20"
                  },
                  {
                    "Womens": "5",
                    "Gaming": "77",
                    "Phone_and_GPS": "10",
                    "Kids": "22",
                    "Accessories_count": "184",
                    "Entertainment_count": "28",
                    "Date": "2018-11-10",
                    "Mens": "42"
                  },
                  {
                    "Womens": "3",
                    "Gaming": "4",
                    "Phone_and_GPS": "90",
                    "Kids": "55",
                    "Accessories_count": "270",
                    "Entertainment_count": "62",
                    "Date": "2017-01-10",
                    "Mens": "56"
                  },
                  {
                    "Womens": "42",
                    "Gaming": "53",
                    "Phone_and_GPS": "51",
                    "Kids": "94",
                    "Accessories_count": "346",
                    "Entertainment_count": "79",
                    "Date": "2017-06-30",
                    "Mens": "27"
                  },
                  {
                    "Womens": "79",
                    "Gaming": "5",
                    "Phone_and_GPS": "9",
                    "Kids": "59",
                    "Accessories_count": "205",
                    "Entertainment_count": "51",
                    "Date": "2018-07-05",
                    "Mens": "2"
                  },
                  {
                    "Womens": "22",
                    "Gaming": "66",
                    "Phone_and_GPS": "58",
                    "Kids": "44",
                    "Accessories_count": "282",
                    "Entertainment_count": "50",
                    "Date": "2017-10-25",
                    "Mens": "42"
                  },
                  {
                    "Womens": "99",
                    "Gaming": "21",
                    "Phone_and_GPS": "24",
                    "Kids": "92",
                    "Accessories_count": "321",
                    "Entertainment_count": "65",
                    "Date": "2015-12-12",
                    "Mens": "20"
                  },
                  {
                    "Womens": "53",
                    "Gaming": "56",
                    "Phone_and_GPS": "23",
                    "Kids": "26",
                    "Accessories_count": "330",
                    "Entertainment_count": "79",
                    "Date": "2018-07-08",
                    "Mens": "93"
                  },
                  {
                    "Womens": "83",
                    "Gaming": "90",
                    "Phone_and_GPS": "39",
                    "Kids": "49",
                    "Accessories_count": "354",
                    "Entertainment_count": "15",
                    "Date": "2016-02-17",
                    "Mens": "78"
                  },
                  {
                    "Womens": "48",
                    "Gaming": "78",
                    "Phone_and_GPS": "39",
                    "Kids": "3",
                    "Accessories_count": "293",
                    "Entertainment_count": "48",
                    "Date": "2015-03-22",
                    "Mens": "77"
                  },
                  {
                    "Womens": "36",
                    "Gaming": "14",
                    "Phone_and_GPS": "35",
                    "Kids": "65",
                    "Accessories_count": "338",
                    "Entertainment_count": "97",
                    "Date": "2018-11-12",
                    "Mens": "91"
                  },
                  {
                    "Womens": "6",
                    "Gaming": "64",
                    "Phone_and_GPS": "44",
                    "Kids": "12",
                    "Accessories_count": "146",
                    "Entertainment_count": "13",
                    "Date": "2018-07-24",
                    "Mens": "7"
                  },
                  {
                    "Womens": "26",
                    "Gaming": "91",
                    "Phone_and_GPS": "85",
                    "Kids": "90",
                    "Accessories_count": "413",
                    "Entertainment_count": "33",
                    "Date": "2020-05-06",
                    "Mens": "88"
                  },
                  {
                    "Womens": "69",
                    "Gaming": "98",
                    "Phone_and_GPS": "82",
                    "Kids": "25",
                    "Accessories_count": "417",
                    "Entertainment_count": "47",
                    "Date": "2017-12-10",
                    "Mens": "96"
                  },
                  {
                    "Womens": "14",
                    "Gaming": "88",
                    "Phone_and_GPS": "56",
                    "Kids": "97",
                    "Accessories_count": "330",
                    "Entertainment_count": "20",
                    "Date": "2015-07-14",
                    "Mens": "55"
                  },
                  {
                    "Womens": "39",
                    "Gaming": "64",
                    "Phone_and_GPS": "41",
                    "Kids": "29",
                    "Accessories_count": "260",
                    "Entertainment_count": "41",
                    "Date": "2018-05-18",
                    "Mens": "46"
                  },
                  {
                    "Womens": "11",
                    "Gaming": "63",
                    "Phone_and_GPS": "82",
                    "Kids": "93",
                    "Accessories_count": "327",
                    "Entertainment_count": "60",
                    "Date": "2018-10-07",
                    "Mens": "18"
                  },
                  {
                    "Womens": "90",
                    "Gaming": "17",
                    "Phone_and_GPS": "91",
                    "Kids": "69",
                    "Accessories_count": "343",
                    "Entertainment_count": "46",
                    "Date": "2020-08-02",
                    "Mens": "30"
                  },
                  {
                    "Womens": "18",
                    "Gaming": "48",
                    "Phone_and_GPS": "42",
                    "Kids": "33",
                    "Accessories_count": "143",
                    "Entertainment_count": "0",
                    "Date": "2019-12-04",
                    "Mens": "2"
                  },
                  {
                    "Womens": "10",
                    "Gaming": "59",
                    "Phone_and_GPS": "86",
                    "Kids": "0",
                    "Accessories_count": "307",
                    "Entertainment_count": "91",
                    "Date": "2019-07-24",
                    "Mens": "61"
                  },
                  {
                    "Womens": "74",
                    "Gaming": "55",
                    "Phone_and_GPS": "94",
                    "Kids": "9",
                    "Accessories_count": "316",
                    "Entertainment_count": "55",
                    "Date": "2016-04-15",
                    "Mens": "29"
                  },
                  {
                    "Womens": "14",
                    "Gaming": "41",
                    "Phone_and_GPS": "96",
                    "Kids": "34",
                    "Accessories_count": "252",
                    "Entertainment_count": "61",
                    "Date": "2016-05-19",
                    "Mens": "6"
                  },
                  {
                    "Womens": "68",
                    "Gaming": "19",
                    "Phone_and_GPS": "25",
                    "Kids": "75",
                    "Accessories_count": "304",
                    "Entertainment_count": "19",
                    "Date": "2019-01-24",
                    "Mens": "98"
                  },
                  {
                    "Womens": "15",
                    "Gaming": "86",
                    "Phone_and_GPS": "44",
                    "Kids": "60",
                    "Accessories_count": "303",
                    "Entertainment_count": "48",
                    "Date": "2015-11-26",
                    "Mens": "50"
                  },
                  {
                    "Womens": "39",
                    "Gaming": "99",
                    "Phone_and_GPS": "6",
                    "Kids": "70",
                    "Accessories_count": "280",
                    "Entertainment_count": "47",
                    "Date": "2015-03-03",
                    "Mens": "19"
                  },
                  {
                    "Womens": "28",
                    "Gaming": "44",
                    "Phone_and_GPS": "7",
                    "Kids": "22",
                    "Accessories_count": "188",
                    "Entertainment_count": "12",
                    "Date": "2018-06-11",
                    "Mens": "75"
                  },
                  {
                    "Womens": "97",
                    "Gaming": "66",
                    "Phone_and_GPS": "57",
                    "Kids": "40",
                    "Accessories_count": "355",
                    "Entertainment_count": "42",
                    "Date": "2018-07-22",
                    "Mens": "53"
                  },
                  {
                    "Womens": "34",
                    "Gaming": "98",
                    "Phone_and_GPS": "37",
                    "Kids": "46",
                    "Accessories_count": "297",
                    "Entertainment_count": "13",
                    "Date": "2020-02-05",
                    "Mens": "69"
                  },
                  {
                    "Womens": "58",
                    "Gaming": "95",
                    "Phone_and_GPS": "42",
                    "Kids": "44",
                    "Accessories_count": "333",
                    "Entertainment_count": "65",
                    "Date": "2016-01-11",
                    "Mens": "29"
                  },
                  {
                    "Womens": "33",
                    "Gaming": "51",
                    "Phone_and_GPS": "98",
                    "Kids": "90",
                    "Accessories_count": "314",
                    "Entertainment_count": "8",
                    "Date": "2019-05-19",
                    "Mens": "34"
                  },
                  {
                    "Womens": "58",
                    "Gaming": "78",
                    "Phone_and_GPS": "50",
                    "Kids": "99",
                    "Accessories_count": "383",
                    "Entertainment_count": "39",
                    "Date": "2020-09-12",
                    "Mens": "59"
                  },
                  {
                    "Womens": "20",
                    "Gaming": "99",
                    "Phone_and_GPS": "60",
                    "Kids": "51",
                    "Accessories_count": "328",
                    "Entertainment_count": "73",
                    "Date": "2016-09-05",
                    "Mens": "25"
                  },
                  {
                    "Womens": "99",
                    "Gaming": "30",
                    "Phone_and_GPS": "70",
                    "Kids": "64",
                    "Accessories_count": "410",
                    "Entertainment_count": "95",
                    "Date": "2017-12-11",
                    "Mens": "52"
                  },
                  {
                    "Womens": "2",
                    "Gaming": "40",
                    "Phone_and_GPS": "97",
                    "Kids": "92",
                    "Accessories_count": "272",
                    "Entertainment_count": "22",
                    "Date": "2018-05-09",
                    "Mens": "19"
                  },
                  {
                    "Womens": "4",
                    "Gaming": "95",
                    "Phone_and_GPS": "59",
                    "Kids": "66",
                    "Accessories_count": "319",
                    "Entertainment_count": "2",
                    "Date": "2015-01-13",
                    "Mens": "93"
                  },
                  {
                    "Womens": "89",
                    "Gaming": "63",
                    "Phone_and_GPS": "87",
                    "Kids": "40",
                    "Accessories_count": "436",
                    "Entertainment_count": "81",
                    "Date": "2015-07-31",
                    "Mens": "76"
                  },
                  {
                    "Womens": "65",
                    "Gaming": "27",
                    "Phone_and_GPS": "16",
                    "Kids": "29",
                    "Accessories_count": "237",
                    "Entertainment_count": "20",
                    "Date": "2017-10-26",
                    "Mens": "80"
                  },
                  {
                    "Womens": "75",
                    "Gaming": "23",
                    "Phone_and_GPS": "32",
                    "Kids": "36",
                    "Accessories_count": "274",
                    "Entertainment_count": "89",
                    "Date": "2020-10-23",
                    "Mens": "19"
                  },
                  {
                    "Womens": "45",
                    "Gaming": "25",
                    "Phone_and_GPS": "18",
                    "Kids": "62",
                    "Accessories_count": "267",
                    "Entertainment_count": "60",
                    "Date": "2017-08-13",
                    "Mens": "57"
                  },
                  {
                    "Womens": "44",
                    "Gaming": "53",
                    "Phone_and_GPS": "25",
                    "Kids": "18",
                    "Accessories_count": "185",
                    "Entertainment_count": "32",
                    "Date": "2018-07-15",
                    "Mens": "13"
                  },
                  {
                    "Womens": "8",
                    "Gaming": "45",
                    "Phone_and_GPS": "30",
                    "Kids": "20",
                    "Accessories_count": "233",
                    "Entertainment_count": "49",
                    "Date": "2015-05-08",
                    "Mens": "81"
                  },
                  {
                    "Womens": "25",
                    "Gaming": "43",
                    "Phone_and_GPS": "9",
                    "Kids": "54",
                    "Accessories_count": "187",
                    "Entertainment_count": "49",
                    "Date": "2017-10-14",
                    "Mens": "7"
                  },
                  {
                    "Womens": "51",
                    "Gaming": "79",
                    "Phone_and_GPS": "91",
                    "Kids": "88",
                    "Accessories_count": "433",
                    "Entertainment_count": "89",
                    "Date": "2016-01-14",
                    "Mens": "35"
                  },
                  {
                    "Womens": "37",
                    "Gaming": "41",
                    "Phone_and_GPS": "32",
                    "Kids": "42",
                    "Accessories_count": "315",
                    "Entertainment_count": "70",
                    "Date": "2018-12-13",
                    "Mens": "93"
                  },
                  {
                    "Womens": "56",
                    "Gaming": "6",
                    "Phone_and_GPS": "82",
                    "Kids": "98",
                    "Accessories_count": "409",
                    "Entertainment_count": "88",
                    "Date": "2020-03-24",
                    "Mens": "79"
                  },
                  {
                    "Womens": "0",
                    "Gaming": "32",
                    "Phone_and_GPS": "20",
                    "Kids": "35",
                    "Accessories_count": "130",
                    "Entertainment_count": "25",
                    "Date": "2018-08-30",
                    "Mens": "18"
                  },
                  {
                    "Womens": "76",
                    "Gaming": "6",
                    "Phone_and_GPS": "96",
                    "Kids": "91",
                    "Accessories_count": "439",
                    "Entertainment_count": "87",
                    "Date": "2018-06-24",
                    "Mens": "83"
                  },
                  {
                    "Womens": "45",
                    "Gaming": "63",
                    "Phone_and_GPS": "19",
                    "Kids": "85",
                    "Accessories_count": "288",
                    "Entertainment_count": "10",
                    "Date": "2017-11-26",
                    "Mens": "66"
                  },
                  {
                    "Womens": "93",
                    "Gaming": "60",
                    "Phone_and_GPS": "72",
                    "Kids": "89",
                    "Accessories_count": "372",
                    "Entertainment_count": "50",
                    "Date": "2018-03-21",
                    "Mens": "8"
                  },
                  {
                    "Womens": "79",
                    "Gaming": "18",
                    "Phone_and_GPS": "85",
                    "Kids": "37",
                    "Accessories_count": "348",
                    "Entertainment_count": "40",
                    "Date": "2018-04-10",
                    "Mens": "89"
                  },
                  {
                    "Womens": "7",
                    "Gaming": "73",
                    "Phone_and_GPS": "97",
                    "Kids": "89",
                    "Accessories_count": "366",
                    "Entertainment_count": "51",
                    "Date": "2015-01-07",
                    "Mens": "49"
                  },
                  {
                    "Womens": "41",
                    "Gaming": "78",
                    "Phone_and_GPS": "2",
                    "Kids": "88",
                    "Accessories_count": "268",
                    "Entertainment_count": "1",
                    "Date": "2020-02-02",
                    "Mens": "58"
                  },
                  {
                    "Womens": "74",
                    "Gaming": "43",
                    "Phone_and_GPS": "1",
                    "Kids": "80",
                    "Accessories_count": "298",
                    "Entertainment_count": "31",
                    "Date": "2016-03-24",
                    "Mens": "69"
                  },
                  {
                    "Womens": "80",
                    "Gaming": "35",
                    "Phone_and_GPS": "74",
                    "Kids": "80",
                    "Accessories_count": "348",
                    "Entertainment_count": "40",
                    "Date": "2017-12-18",
                    "Mens": "39"
                  },
                  {
                    "Womens": "75",
                    "Gaming": "53",
                    "Phone_and_GPS": "10",
                    "Kids": "27",
                    "Accessories_count": "281",
                    "Entertainment_count": "36",
                    "Date": "2020-06-12",
                    "Mens": "80"
                  },
                  {
                    "Womens": "84",
                    "Gaming": "23",
                    "Phone_and_GPS": "89",
                    "Kids": "31",
                    "Accessories_count": "320",
                    "Entertainment_count": "75",
                    "Date": "2015-12-18",
                    "Mens": "18"
                  },
                  {
                    "Womens": "30",
                    "Gaming": "53",
                    "Phone_and_GPS": "10",
                    "Kids": "26",
                    "Accessories_count": "212",
                    "Entertainment_count": "70",
                    "Date": "2016-03-17",
                    "Mens": "23"
                  },
                  {
                    "Womens": "6",
                    "Gaming": "67",
                    "Phone_and_GPS": "28",
                    "Kids": "22",
                    "Accessories_count": "248",
                    "Entertainment_count": "81",
                    "Date": "2017-03-30",
                    "Mens": "44"
                  },
                  {
                    "Womens": "33",
                    "Gaming": "75",
                    "Phone_and_GPS": "5",
                    "Kids": "33",
                    "Accessories_count": "317",
                    "Entertainment_count": "80",
                    "Date": "2016-06-04",
                    "Mens": "91"
                  },
                  {
                    "Womens": "22",
                    "Gaming": "34",
                    "Phone_and_GPS": "96",
                    "Kids": "85",
                    "Accessories_count": "291",
                    "Entertainment_count": "1",
                    "Date": "2019-09-10",
                    "Mens": "53"
                  },
                  {
                    "Womens": "5",
                    "Gaming": "43",
                    "Phone_and_GPS": "58",
                    "Kids": "29",
                    "Accessories_count": "219",
                    "Entertainment_count": "43",
                    "Date": "2016-05-21",
                    "Mens": "41"
                  },
                  {
                    "Womens": "4",
                    "Gaming": "8",
                    "Phone_and_GPS": "21",
                    "Kids": "63",
                    "Accessories_count": "175",
                    "Entertainment_count": "61",
                    "Date": "2017-07-26",
                    "Mens": "18"
                  },
                  {
                    "Womens": "49",
                    "Gaming": "17",
                    "Phone_and_GPS": "73",
                    "Kids": "70",
                    "Accessories_count": "303",
                    "Entertainment_count": "40",
                    "Date": "2019-11-04",
                    "Mens": "54"
                  },
                  {
                    "Womens": "75",
                    "Gaming": "34",
                    "Phone_and_GPS": "73",
                    "Kids": "58",
                    "Accessories_count": "267",
                    "Entertainment_count": "20",
                    "Date": "2017-07-30",
                    "Mens": "7"
                  },
                  {
                    "Womens": "16",
                    "Gaming": "70",
                    "Phone_and_GPS": "87",
                    "Kids": "15",
                    "Accessories_count": "297",
                    "Entertainment_count": "31",
                    "Date": "2017-11-21",
                    "Mens": "78"
                  },
                  {
                    "Womens": "89",
                    "Gaming": "91",
                    "Phone_and_GPS": "32",
                    "Kids": "76",
                    "Accessories_count": "328",
                    "Entertainment_count": "11",
                    "Date": "2015-05-17",
                    "Mens": "29"
                  },
                  {
                    "Womens": "91",
                    "Gaming": "31",
                    "Phone_and_GPS": "15",
                    "Kids": "14",
                    "Accessories_count": "221",
                    "Entertainment_count": "48",
                    "Date": "2018-03-22",
                    "Mens": "22"
                  },
                  {
                    "Womens": "14",
                    "Gaming": "15",
                    "Phone_and_GPS": "83",
                    "Kids": "92",
                    "Accessories_count": "273",
                    "Entertainment_count": "55",
                    "Date": "2015-12-07",
                    "Mens": "14"
                  },
                  {
                    "Womens": "65",
                    "Gaming": "12",
                    "Phone_and_GPS": "12",
                    "Kids": "70",
                    "Accessories_count": "240",
                    "Entertainment_count": "42",
                    "Date": "2017-11-06",
                    "Mens": "39"
                  },
                  {
                    "Womens": "45",
                    "Gaming": "60",
                    "Phone_and_GPS": "34",
                    "Kids": "1",
                    "Accessories_count": "217",
                    "Entertainment_count": "48",
                    "Date": "2015-01-17",
                    "Mens": "29"
                  },
                  {
                    "Womens": "11",
                    "Gaming": "31",
                    "Phone_and_GPS": "88",
                    "Kids": "78",
                    "Accessories_count": "348",
                    "Entertainment_count": "59",
                    "Date": "2019-05-19",
                    "Mens": "81"
                  },
                  {
                    "Womens": "53",
                    "Gaming": "55",
                    "Phone_and_GPS": "14",
                    "Kids": "69",
                    "Accessories_count": "275",
                    "Entertainment_count": "18",
                    "Date": "2018-07-16",
                    "Mens": "66"
                  },
                  {
                    "Womens": "8",
                    "Gaming": "21",
                    "Phone_and_GPS": "2",
                    "Kids": "33",
                    "Accessories_count": "234",
                    "Entertainment_count": "87",
                    "Date": "2016-12-28",
                    "Mens": "83"
                  },
                  {
                    "Womens": "58",
                    "Gaming": "1",
                    "Phone_and_GPS": "72",
                    "Kids": "19",
                    "Accessories_count": "296",
                    "Entertainment_count": "66",
                    "Date": "2015-07-31",
                    "Mens": "80"
                  },
                  {
                    "Womens": "53",
                    "Gaming": "8",
                    "Phone_and_GPS": "98",
                    "Kids": "46",
                    "Accessories_count": "324",
                    "Entertainment_count": "41",
                    "Date": "2020-11-27",
                    "Mens": "78"
                  },
                  {
                    "Womens": "63",
                    "Gaming": "29",
                    "Phone_and_GPS": "21",
                    "Kids": "8",
                    "Accessories_count": "213",
                    "Entertainment_count": "12",
                    "Date": "2018-05-08",
                    "Mens": "80"
                  },
                  {
                    "Womens": "24",
                    "Gaming": "33",
                    "Phone_and_GPS": "16",
                    "Kids": "36",
                    "Accessories_count": "136",
                    "Entertainment_count": "7",
                    "Date": "2017-11-11",
                    "Mens": "20"
                  },
                  {
                    "Womens": "66",
                    "Gaming": "34",
                    "Phone_and_GPS": "48",
                    "Kids": "24",
                    "Accessories_count": "286",
                    "Entertainment_count": "76",
                    "Date": "2017-03-26",
                    "Mens": "38"
                  },
                  {
                    "Womens": "98",
                    "Gaming": "33",
                    "Phone_and_GPS": "28",
                    "Kids": "83",
                    "Accessories_count": "384",
                    "Entertainment_count": "46",
                    "Date": "2020-07-26",
                    "Mens": "96"
                  },
                  {
                    "Womens": "61",
                    "Gaming": "9",
                    "Phone_and_GPS": "54",
                    "Kids": "31",
                    "Accessories_count": "189",
                    "Entertainment_count": "22",
                    "Date": "2015-07-02",
                    "Mens": "12"
                  },
                  {
                    "Womens": "80",
                    "Gaming": "75",
                    "Phone_and_GPS": "76",
                    "Kids": "17",
                    "Accessories_count": "290",
                    "Entertainment_count": "11",
                    "Date": "2020-07-19",
                    "Mens": "31"
                  },
                  {
                    "Womens": "34",
                    "Gaming": "26",
                    "Phone_and_GPS": "95",
                    "Kids": "27",
                    "Accessories_count": "260",
                    "Entertainment_count": "16",
                    "Date": "2015-07-10",
                    "Mens": "62"
                  },
                  {
                    "Womens": "4",
                    "Gaming": "13",
                    "Phone_and_GPS": "73",
                    "Kids": "78",
                    "Accessories_count": "321",
                    "Entertainment_count": "76",
                    "Date": "2015-11-02",
                    "Mens": "77"
                  },
                  {
                    "Womens": "68",
                    "Gaming": "52",
                    "Phone_and_GPS": "38",
                    "Kids": "88",
                    "Accessories_count": "372",
                    "Entertainment_count": "88",
                    "Date": "2016-12-09",
                    "Mens": "38"
                  },
                  {
                    "Womens": "74",
                    "Gaming": "80",
                    "Phone_and_GPS": "9",
                    "Kids": "51",
                    "Accessories_count": "281",
                    "Entertainment_count": "24",
                    "Date": "2016-09-05",
                    "Mens": "43"
                  },
                  {
                    "Womens": "20",
                    "Gaming": "45",
                    "Phone_and_GPS": "39",
                    "Kids": "74",
                    "Accessories_count": "275",
                    "Entertainment_count": "72",
                    "Date": "2018-11-10",
                    "Mens": "25"
                  },
                  {
                    "Womens": "53",
                    "Gaming": "29",
                    "Phone_and_GPS": "4",
                    "Kids": "11",
                    "Accessories_count": "195",
                    "Entertainment_count": "68",
                    "Date": "2015-04-15",
                    "Mens": "30"
                  },
                  {
                    "Womens": "73",
                    "Gaming": "7",
                    "Phone_and_GPS": "7",
                    "Kids": "82",
                    "Accessories_count": "234",
                    "Entertainment_count": "42",
                    "Date": "2016-09-28",
                    "Mens": "23"
                  },
                  {
                    "Womens": "94",
                    "Gaming": "65",
                    "Phone_and_GPS": "37",
                    "Kids": "86",
                    "Accessories_count": "384",
                    "Entertainment_count": "82",
                    "Date": "2016-03-12",
                    "Mens": "20"
                  },
                  {
                    "Womens": "4",
                    "Gaming": "17",
                    "Phone_and_GPS": "75",
                    "Kids": "27",
                    "Accessories_count": "248",
                    "Entertainment_count": "91",
                    "Date": "2017-09-27",
                    "Mens": "34"
                  },
                  {
                    "Womens": "89",
                    "Gaming": "27",
                    "Phone_and_GPS": "89",
                    "Kids": "65",
                    "Accessories_count": "355",
                    "Entertainment_count": "28",
                    "Date": "2020-05-14",
                    "Mens": "57"
                  },
                  {
                    "Womens": "45",
                    "Gaming": "19",
                    "Phone_and_GPS": "13",
                    "Kids": "30",
                    "Accessories_count": "195",
                    "Entertainment_count": "79",
                    "Date": "2017-01-09",
                    "Mens": "9"
                  },
                  {
                    "Womens": "42",
                    "Gaming": "85",
                    "Phone_and_GPS": "15",
                    "Kids": "81",
                    "Accessories_count": "339",
                    "Entertainment_count": "56",
                    "Date": "2016-07-16",
                    "Mens": "60"
                  },
                  {
                    "Womens": "20",
                    "Gaming": "96",
                    "Phone_and_GPS": "68",
                    "Kids": "85",
                    "Accessories_count": "317",
                    "Entertainment_count": "8",
                    "Date": "2016-10-27",
                    "Mens": "40"
                  },
                  {
                    "Womens": "46",
                    "Gaming": "65",
                    "Phone_and_GPS": "75",
                    "Kids": "40",
                    "Accessories_count": "383",
                    "Entertainment_count": "67",
                    "Date": "2017-01-10",
                    "Mens": "90"
                  },
                  {
                    "Womens": "0",
                    "Gaming": "13",
                    "Phone_and_GPS": "88",
                    "Kids": "75",
                    "Accessories_count": "265",
                    "Entertainment_count": "31",
                    "Date": "2017-09-01",
                    "Mens": "58"
                  },
                  {
                    "Womens": "77",
                    "Gaming": "76",
                    "Phone_and_GPS": "80",
                    "Kids": "78",
                    "Accessories_count": "416",
                    "Entertainment_count": "29",
                    "Date": "2018-01-29",
                    "Mens": "76"
                  },
                  {
                    "Womens": "10",
                    "Gaming": "28",
                    "Phone_and_GPS": "58",
                    "Kids": "47",
                    "Accessories_count": "221",
                    "Entertainment_count": "36",
                    "Date": "2016-03-19",
                    "Mens": "42"
                  },
                  {
                    "Womens": "28",
                    "Gaming": "8",
                    "Phone_and_GPS": "60",
                    "Kids": "41",
                    "Accessories_count": "247",
                    "Entertainment_count": "84",
                    "Date": "2016-06-20",
                    "Mens": "26"
                  },
                  {
                    "Womens": "80",
                    "Gaming": "93",
                    "Phone_and_GPS": "84",
                    "Kids": "15",
                    "Accessories_count": "377",
                    "Entertainment_count": "94",
                    "Date": "2017-04-15",
                    "Mens": "11"
                  },
                  {
                    "Womens": "6",
                    "Gaming": "60",
                    "Phone_and_GPS": "45",
                    "Kids": "33",
                    "Accessories_count": "299",
                    "Entertainment_count": "65",
                    "Date": "2015-02-21",
                    "Mens": "90"
                  },
                  {
                    "Womens": "11",
                    "Gaming": "92",
                    "Phone_and_GPS": "62",
                    "Kids": "81",
                    "Accessories_count": "291",
                    "Entertainment_count": "2",
                    "Date": "2016-04-04",
                    "Mens": "43"
                  },
                  {
                    "Womens": "3",
                    "Gaming": "64",
                    "Phone_and_GPS": "79",
                    "Kids": "35",
                    "Accessories_count": "326",
                    "Entertainment_count": "57",
                    "Date": "2015-12-30",
                    "Mens": "88"
                  },
                  {
                    "Womens": "77",
                    "Gaming": "20",
                    "Phone_and_GPS": "69",
                    "Kids": "99",
                    "Accessories_count": "358",
                    "Entertainment_count": "47",
                    "Date": "2019-01-02",
                    "Mens": "46"
                  },
                  {
                    "Womens": "18",
                    "Gaming": "35",
                    "Phone_and_GPS": "11",
                    "Kids": "32",
                    "Accessories_count": "145",
                    "Entertainment_count": "0",
                    "Date": "2016-08-16",
                    "Mens": "49"
                  },
                  {
                    "Womens": "97",
                    "Gaming": "57",
                    "Phone_and_GPS": "67",
                    "Kids": "30",
                    "Accessories_count": "339",
                    "Entertainment_count": "35",
                    "Date": "2019-06-19",
                    "Mens": "53"
                  },
                  {
                    "Womens": "21",
                    "Gaming": "84",
                    "Phone_and_GPS": "18",
                    "Kids": "92",
                    "Accessories_count": "314",
                    "Entertainment_count": "61",
                    "Date": "2017-04-29",
                    "Mens": "38"
                  },
                  {
                    "Womens": "80",
                    "Gaming": "7",
                    "Phone_and_GPS": "52",
                    "Kids": "4",
                    "Accessories_count": "247",
                    "Entertainment_count": "86",
                    "Date": "2019-04-01",
                    "Mens": "18"
                  },
                  {
                    "Womens": "98",
                    "Gaming": "85",
                    "Phone_and_GPS": "89",
                    "Kids": "88",
                    "Accessories_count": "451",
                    "Entertainment_count": "35",
                    "Date": "2016-10-07",
                    "Mens": "56"
                  },
                  {
                    "Womens": "73",
                    "Gaming": "65",
                    "Phone_and_GPS": "54",
                    "Kids": "32",
                    "Accessories_count": "297",
                    "Entertainment_count": "43",
                    "Date": "2017-08-09",
                    "Mens": "30"
                  },
                  {
                    "Womens": "3",
                    "Gaming": "66",
                    "Phone_and_GPS": "51",
                    "Kids": "40",
                    "Accessories_count": "232",
                    "Entertainment_count": "33",
                    "Date": "2017-07-15",
                    "Mens": "39"
                  },
                  {
                    "Womens": "84",
                    "Gaming": "57",
                    "Phone_and_GPS": "17",
                    "Kids": "30",
                    "Accessories_count": "273",
                    "Entertainment_count": "23",
                    "Date": "2019-05-22",
                    "Mens": "62"
                  },
                  {
                    "Womens": "84",
                    "Gaming": "22",
                    "Phone_and_GPS": "28",
                    "Kids": "50",
                    "Accessories_count": "254",
                    "Entertainment_count": "53",
                    "Date": "2017-06-07",
                    "Mens": "17"
                  },
                  {
                    "Womens": "61",
                    "Gaming": "34",
                    "Phone_and_GPS": "49",
                    "Kids": "86",
                    "Accessories_count": "302",
                    "Entertainment_count": "55",
                    "Date": "2019-09-20",
                    "Mens": "17"
                  },
                  {
                    "Womens": "82",
                    "Gaming": "86",
                    "Phone_and_GPS": "22",
                    "Kids": "34",
                    "Accessories_count": "294",
                    "Entertainment_count": "14",
                    "Date": "2019-11-19",
                    "Mens": "56"
                  },
                  {
                    "Womens": "82",
                    "Gaming": "33",
                    "Phone_and_GPS": "46",
                    "Kids": "18",
                    "Accessories_count": "283",
                    "Entertainment_count": "94",
                    "Date": "2016-04-10",
                    "Mens": "10"
                  },
                  {
                    "Womens": "49",
                    "Gaming": "72",
                    "Phone_and_GPS": "51",
                    "Kids": "41",
                    "Accessories_count": "313",
                    "Entertainment_count": "44",
                    "Date": "2016-08-01",
                    "Mens": "56"
                  },
                  {
                    "Womens": "63",
                    "Gaming": "36",
                    "Phone_and_GPS": "24",
                    "Kids": "41",
                    "Accessories_count": "236",
                    "Entertainment_count": "26",
                    "Date": "2018-10-19",
                    "Mens": "46"
                  },
                  {
                    "Womens": "31",
                    "Gaming": "90",
                    "Phone_and_GPS": "19",
                    "Kids": "54",
                    "Accessories_count": "248",
                    "Entertainment_count": "47",
                    "Date": "2018-02-08",
                    "Mens": "7"
                  },
                  {
                    "Womens": "26",
                    "Gaming": "48",
                    "Phone_and_GPS": "9",
                    "Kids": "59",
                    "Accessories_count": "246",
                    "Entertainment_count": "57",
                    "Date": "2016-11-23",
                    "Mens": "47"
                  },
                  {
                    "Womens": "7",
                    "Gaming": "57",
                    "Phone_and_GPS": "31",
                    "Kids": "53",
                    "Accessories_count": "250",
                    "Entertainment_count": "25",
                    "Date": "2019-12-15",
                    "Mens": "77"
                  },
                  {
                    "Womens": "67",
                    "Gaming": "17",
                    "Phone_and_GPS": "89",
                    "Kids": "86",
                    "Accessories_count": "330",
                    "Entertainment_count": "71",
                    "Date": "2020-05-05",
                    "Mens": "0"
                  },
                  {
                    "Womens": "11",
                    "Gaming": "13",
                    "Phone_and_GPS": "19",
                    "Kids": "31",
                    "Accessories_count": "180",
                    "Entertainment_count": "55",
                    "Date": "2019-11-21",
                    "Mens": "51"
                  },
                  {
                    "Womens": "64",
                    "Gaming": "72",
                    "Phone_and_GPS": "94",
                    "Kids": "89",
                    "Accessories_count": "351",
                    "Entertainment_count": "29",
                    "Date": "2020-07-30",
                    "Mens": "3"
                  },
                  {
                    "Womens": "56",
                    "Gaming": "94",
                    "Phone_and_GPS": "97",
                    "Kids": "1",
                    "Accessories_count": "327",
                    "Entertainment_count": "40",
                    "Date": "2016-07-22",
                    "Mens": "39"
                  },
                  {
                    "Womens": "96",
                    "Gaming": "74",
                    "Phone_and_GPS": "80",
                    "Kids": "59",
                    "Accessories_count": "359",
                    "Entertainment_count": "0",
                    "Date": "2020-07-13",
                    "Mens": "50"
                  },
                  {
                    "Womens": "79",
                    "Gaming": "21",
                    "Phone_and_GPS": "59",
                    "Kids": "19",
                    "Accessories_count": "321",
                    "Entertainment_count": "59",
                    "Date": "2017-11-30",
                    "Mens": "84"
                  },
                  {
                    "Womens": "49",
                    "Gaming": "24",
                    "Phone_and_GPS": "47",
                    "Kids": "86",
                    "Accessories_count": "266",
                    "Entertainment_count": "23",
                    "Date": "2018-12-21",
                    "Mens": "37"
                  },
                  {
                    "Womens": "15",
                    "Gaming": "21",
                    "Phone_and_GPS": "92",
                    "Kids": "21",
                    "Accessories_count": "214",
                    "Entertainment_count": "64",
                    "Date": "2016-01-12",
                    "Mens": "1"
                  },
                  {
                    "Womens": "58",
                    "Gaming": "92",
                    "Phone_and_GPS": "77",
                    "Kids": "74",
                    "Accessories_count": "428",
                    "Entertainment_count": "84",
                    "Date": "2015-08-29",
                    "Mens": "43"
                  },
                  {
                    "Womens": "30",
                    "Gaming": "56",
                    "Phone_and_GPS": "6",
                    "Kids": "75",
                    "Accessories_count": "336",
                    "Entertainment_count": "90",
                    "Date": "2015-01-18",
                    "Mens": "79"
                  },
                  {
                    "Womens": "7",
                    "Gaming": "59",
                    "Phone_and_GPS": "8",
                    "Kids": "11",
                    "Accessories_count": "124",
                    "Entertainment_count": "19",
                    "Date": "2016-03-03",
                    "Mens": "20"
                  },
                  {
                    "Womens": "91",
                    "Gaming": "31",
                    "Phone_and_GPS": "83",
                    "Kids": "23",
                    "Accessories_count": "376",
                    "Entertainment_count": "70",
                    "Date": "2018-08-06",
                    "Mens": "78"
                  },
                  {
                    "Womens": "19",
                    "Gaming": "34",
                    "Phone_and_GPS": "96",
                    "Kids": "47",
                    "Accessories_count": "256",
                    "Entertainment_count": "55",
                    "Date": "2016-02-15",
                    "Mens": "5"
                  },
                  {
                    "Womens": "31",
                    "Gaming": "45",
                    "Phone_and_GPS": "62",
                    "Kids": "99",
                    "Accessories_count": "382",
                    "Entertainment_count": "92",
                    "Date": "2019-05-18",
                    "Mens": "53"
                  },
                  {
                    "Womens": "36",
                    "Gaming": "0",
                    "Phone_and_GPS": "31",
                    "Kids": "39",
                    "Accessories_count": "240",
                    "Entertainment_count": "86",
                    "Date": "2017-05-20",
                    "Mens": "48"
                  },
                  {
                    "Womens": "49",
                    "Gaming": "17",
                    "Phone_and_GPS": "71",
                    "Kids": "78",
                    "Accessories_count": "307",
                    "Entertainment_count": "32",
                    "Date": "2019-03-19",
                    "Mens": "60"
                  },
                  {
                    "Womens": "32",
                    "Gaming": "29",
                    "Phone_and_GPS": "41",
                    "Kids": "8",
                    "Accessories_count": "238",
                    "Entertainment_count": "59",
                    "Date": "2015-02-20",
                    "Mens": "69"
                  },
                  {
                    "Womens": "37",
                    "Gaming": "53",
                    "Phone_and_GPS": "32",
                    "Kids": "81",
                    "Accessories_count": "268",
                    "Entertainment_count": "54",
                    "Date": "2015-06-26",
                    "Mens": "11"
                  },
                  {
                    "Womens": "79",
                    "Gaming": "99",
                    "Phone_and_GPS": "98",
                    "Kids": "70",
                    "Accessories_count": "462",
                    "Entertainment_count": "21",
                    "Date": "2017-12-10",
                    "Mens": "95"
                  },
                  {
                    "Womens": "16",
                    "Gaming": "74",
                    "Phone_and_GPS": "85",
                    "Kids": "57",
                    "Accessories_count": "387",
                    "Entertainment_count": "70",
                    "Date": "2020-08-22",
                    "Mens": "85"
                  },
                  {
                    "Womens": "15",
                    "Gaming": "20",
                    "Phone_and_GPS": "24",
                    "Kids": "81",
                    "Accessories_count": "294",
                    "Entertainment_count": "72",
                    "Date": "2018-03-24",
                    "Mens": "82"
                  },
                  {
                    "Womens": "94",
                    "Gaming": "12",
                    "Phone_and_GPS": "15",
                    "Kids": "78",
                    "Accessories_count": "337",
                    "Entertainment_count": "80",
                    "Date": "2019-04-02",
                    "Mens": "58"
                  },
                  {
                    "Womens": "54",
                    "Gaming": "11",
                    "Phone_and_GPS": "41",
                    "Kids": "58",
                    "Accessories_count": "241",
                    "Entertainment_count": "65",
                    "Date": "2017-10-16",
                    "Mens": "12"
                  },
                  {
                    "Womens": "78",
                    "Gaming": "66",
                    "Phone_and_GPS": "9",
                    "Kids": "1",
                    "Accessories_count": "281",
                    "Entertainment_count": "88",
                    "Date": "2018-06-12",
                    "Mens": "39"
                  },
                  {
                    "Womens": "95",
                    "Gaming": "11",
                    "Phone_and_GPS": "19",
                    "Kids": "4",
                    "Accessories_count": "245",
                    "Entertainment_count": "32",
                    "Date": "2017-08-31",
                    "Mens": "84"
                  },
                  {
                    "Womens": "68",
                    "Gaming": "43",
                    "Phone_and_GPS": "46",
                    "Kids": "33",
                    "Accessories_count": "298",
                    "Entertainment_count": "95",
                    "Date": "2015-10-21",
                    "Mens": "13"
                  },
                  {
                    "Womens": "22",
                    "Gaming": "54",
                    "Phone_and_GPS": "25",
                    "Kids": "17",
                    "Accessories_count": "250",
                    "Entertainment_count": "95",
                    "Date": "2020-04-19",
                    "Mens": "37"
                  },
                  {
                    "Womens": "11",
                    "Gaming": "92",
                    "Phone_and_GPS": "71",
                    "Kids": "51",
                    "Accessories_count": "318",
                    "Entertainment_count": "17",
                    "Date": "2016-03-27",
                    "Mens": "76"
                  },
                  {
                    "Womens": "38",
                    "Gaming": "60",
                    "Phone_and_GPS": "90",
                    "Kids": "7",
                    "Accessories_count": "270",
                    "Entertainment_count": "37",
                    "Date": "2016-02-27",
                    "Mens": "38"
                  },
                  {
                    "Womens": "53",
                    "Gaming": "77",
                    "Phone_and_GPS": "94",
                    "Kids": "35",
                    "Accessories_count": "349",
                    "Entertainment_count": "48",
                    "Date": "2020-07-08",
                    "Mens": "42"
                  },
                  {
                    "Womens": "6",
                    "Gaming": "31",
                    "Phone_and_GPS": "32",
                    "Kids": "3",
                    "Accessories_count": "189",
                    "Entertainment_count": "26",
                    "Date": "2018-06-20",
                    "Mens": "91"
                  },
                  {
                    "Womens": "75",
                    "Gaming": "99",
                    "Phone_and_GPS": "51",
                    "Kids": "32",
                    "Accessories_count": "361",
                    "Entertainment_count": "19",
                    "Date": "2020-11-06",
                    "Mens": "85"
                  },
                  {
                    "Womens": "84",
                    "Gaming": "78",
                    "Phone_and_GPS": "99",
                    "Kids": "1",
                    "Accessories_count": "304",
                    "Entertainment_count": "17",
                    "Date": "2016-05-12",
                    "Mens": "25"
                  },
                  {
                    "Womens": "70",
                    "Gaming": "90",
                    "Phone_and_GPS": "5",
                    "Kids": "42",
                    "Accessories_count": "311",
                    "Entertainment_count": "18",
                    "Date": "2019-08-10",
                    "Mens": "86"
                  },
                  {
                    "Womens": "51",
                    "Gaming": "5",
                    "Phone_and_GPS": "55",
                    "Kids": "51",
                    "Accessories_count": "195",
                    "Entertainment_count": "3",
                    "Date": "2019-04-18",
                    "Mens": "30"
                  },
                  {
                    "Womens": "65",
                    "Gaming": "47",
                    "Phone_and_GPS": "34",
                    "Kids": "3",
                    "Accessories_count": "197",
                    "Entertainment_count": "13",
                    "Date": "2015-10-22",
                    "Mens": "35"
                  },
                  {
                    "Womens": "20",
                    "Gaming": "59",
                    "Phone_and_GPS": "27",
                    "Kids": "93",
                    "Accessories_count": "316",
                    "Entertainment_count": "59",
                    "Date": "2019-03-10",
                    "Mens": "58"
                  },
                  {
                    "Womens": "1",
                    "Gaming": "46",
                    "Phone_and_GPS": "32",
                    "Kids": "13",
                    "Accessories_count": "151",
                    "Entertainment_count": "26",
                    "Date": "2016-06-24",
                    "Mens": "33"
                  },
                  {
                    "Womens": "98",
                    "Gaming": "65",
                    "Phone_and_GPS": "9",
                    "Kids": "99",
                    "Accessories_count": "439",
                    "Entertainment_count": "98",
                    "Date": "2017-10-15",
                    "Mens": "70"
                  },
                  {
                    "Womens": "15",
                    "Gaming": "34",
                    "Phone_and_GPS": "29",
                    "Kids": "43",
                    "Accessories_count": "200",
                    "Entertainment_count": "22",
                    "Date": "2020-04-28",
                    "Mens": "57"
                  },
                  {
                    "Womens": "56",
                    "Gaming": "79",
                    "Phone_and_GPS": "54",
                    "Kids": "55",
                    "Accessories_count": "350",
                    "Entertainment_count": "16",
                    "Date": "2020-09-22",
                    "Mens": "90"
                  },
                  {
                    "Womens": "22",
                    "Gaming": "41",
                    "Phone_and_GPS": "83",
                    "Kids": "27",
                    "Accessories_count": "339",
                    "Entertainment_count": "87",
                    "Date": "2020-07-16",
                    "Mens": "79"
                  },
                  {
                    "Womens": "47",
                    "Gaming": "56",
                    "Phone_and_GPS": "88",
                    "Kids": "49",
                    "Accessories_count": "270",
                    "Entertainment_count": "10",
                    "Date": "2020-06-07",
                    "Mens": "20"
                  },
                  {
                    "Womens": "99",
                    "Gaming": "96",
                    "Phone_and_GPS": "98",
                    "Kids": "10",
                    "Accessories_count": "403",
                    "Entertainment_count": "57",
                    "Date": "2020-01-07",
                    "Mens": "43"
                  },
                  {
                    "Womens": "11",
                    "Gaming": "35",
                    "Phone_and_GPS": "9",
                    "Kids": "99",
                    "Accessories_count": "308",
                    "Entertainment_count": "79",
                    "Date": "2017-05-01",
                    "Mens": "75"
                  },
                  {
                    "Womens": "22",
                    "Gaming": "51",
                    "Phone_and_GPS": "65",
                    "Kids": "67",
                    "Accessories_count": "329",
                    "Entertainment_count": "54",
                    "Date": "2015-09-22",
                    "Mens": "70"
                  },
                  {
                    "Womens": "80",
                    "Gaming": "32",
                    "Phone_and_GPS": "60",
                    "Kids": "34",
                    "Accessories_count": "304",
                    "Entertainment_count": "76",
                    "Date": "2020-06-11",
                    "Mens": "22"
                  },
                  {
                    "Womens": "41",
                    "Gaming": "66",
                    "Phone_and_GPS": "40",
                    "Kids": "10",
                    "Accessories_count": "244",
                    "Entertainment_count": "31",
                    "Date": "2020-06-03",
                    "Mens": "56"
                  },
                  {
                    "Womens": "2",
                    "Gaming": "90",
                    "Phone_and_GPS": "84",
                    "Kids": "72",
                    "Accessories_count": "392",
                    "Entertainment_count": "93",
                    "Date": "2016-10-07",
                    "Mens": "51"
                  },
                  {
                    "Womens": "10",
                    "Gaming": "67",
                    "Phone_and_GPS": "68",
                    "Kids": "91",
                    "Accessories_count": "324",
                    "Entertainment_count": "5",
                    "Date": "2016-10-09",
                    "Mens": "83"
                  },
                  {
                    "Womens": "32",
                    "Gaming": "65",
                    "Phone_and_GPS": "57",
                    "Kids": "66",
                    "Accessories_count": "268",
                    "Entertainment_count": "16",
                    "Date": "2016-07-13",
                    "Mens": "32"
                  },
                  {
                    "Womens": "41",
                    "Gaming": "46",
                    "Phone_and_GPS": "51",
                    "Kids": "66",
                    "Accessories_count": "280",
                    "Entertainment_count": "49",
                    "Date": "2017-09-22",
                    "Mens": "27"
                  },
                  {
                    "Womens": "98",
                    "Gaming": "8",
                    "Phone_and_GPS": "8",
                    "Kids": "50",
                    "Accessories_count": "248",
                    "Entertainment_count": "50",
                    "Date": "2017-02-22",
                    "Mens": "34"
                  },
                  {
                    "Womens": "16",
                    "Gaming": "29",
                    "Phone_and_GPS": "82",
                    "Kids": "4",
                    "Accessories_count": "292",
                    "Entertainment_count": "99",
                    "Date": "2020-04-28",
                    "Mens": "62"
                  },
                  {
                    "Womens": "15",
                    "Gaming": "24",
                    "Phone_and_GPS": "64",
                    "Kids": "32",
                    "Accessories_count": "178",
                    "Entertainment_count": "30",
                    "Date": "2016-10-12",
                    "Mens": "13"
                  },
                  {
                    "Womens": "10",
                    "Gaming": "12",
                    "Phone_and_GPS": "14",
                    "Kids": "68",
                    "Accessories_count": "208",
                    "Entertainment_count": "46",
                    "Date": "2019-01-17",
                    "Mens": "58"
                  },
                  {
                    "Womens": "42",
                    "Gaming": "47",
                    "Phone_and_GPS": "7",
                    "Kids": "4",
                    "Accessories_count": "247",
                    "Entertainment_count": "67",
                    "Date": "2017-12-27",
                    "Mens": "80"
                  },
                  {
                    "Womens": "15",
                    "Gaming": "22",
                    "Phone_and_GPS": "68",
                    "Kids": "85",
                    "Accessories_count": "302",
                    "Entertainment_count": "53",
                    "Date": "2017-02-09",
                    "Mens": "59"
                  },
                  {
                    "Womens": "34",
                    "Gaming": "90",
                    "Phone_and_GPS": "7",
                    "Kids": "10",
                    "Accessories_count": "245",
                    "Entertainment_count": "18",
                    "Date": "2017-07-07",
                    "Mens": "86"
                  },
                  {
                    "Womens": "45",
                    "Gaming": "9",
                    "Phone_and_GPS": "21",
                    "Kids": "34",
                    "Accessories_count": "152",
                    "Entertainment_count": "19",
                    "Date": "2018-02-27",
                    "Mens": "24"
                  },
                  {
                    "Womens": "70",
                    "Gaming": "32",
                    "Phone_and_GPS": "49",
                    "Kids": "45",
                    "Accessories_count": "243",
                    "Entertainment_count": "27",
                    "Date": "2015-11-07",
                    "Mens": "20"
                  },
                  {
                    "Womens": "6",
                    "Gaming": "96",
                    "Phone_and_GPS": "58",
                    "Kids": "73",
                    "Accessories_count": "354",
                    "Entertainment_count": "88",
                    "Date": "2018-07-22",
                    "Mens": "33"
                  },
                  {
                    "Womens": "95",
                    "Gaming": "99",
                    "Phone_and_GPS": "86",
                    "Kids": "34",
                    "Accessories_count": "366",
                    "Entertainment_count": "9",
                    "Date": "2017-05-09",
                    "Mens": "43"
                  },
                  {
                    "Womens": "48",
                    "Gaming": "42",
                    "Phone_and_GPS": "96",
                    "Kids": "38",
                    "Accessories_count": "342",
                    "Entertainment_count": "25",
                    "Date": "2018-05-05",
                    "Mens": "93"
                  },
                  {
                    "Womens": "86",
                    "Gaming": "40",
                    "Phone_and_GPS": "18",
                    "Kids": "48",
                    "Accessories_count": "334",
                    "Entertainment_count": "79",
                    "Date": "2017-09-03",
                    "Mens": "63"
                  },
                  {
                    "Womens": "94",
                    "Gaming": "68",
                    "Phone_and_GPS": "22",
                    "Kids": "45",
                    "Accessories_count": "319",
                    "Entertainment_count": "69",
                    "Date": "2018-03-20",
                    "Mens": "21"
                  },
                  {
                    "Womens": "80",
                    "Gaming": "2",
                    "Phone_and_GPS": "44",
                    "Kids": "69",
                    "Accessories_count": "299",
                    "Entertainment_count": "10",
                    "Date": "2020-12-15",
                    "Mens": "94"
                  },
                  {
                    "Womens": "50",
                    "Gaming": "65",
                    "Phone_and_GPS": "42",
                    "Kids": "22",
                    "Accessories_count": "289",
                    "Entertainment_count": "53",
                    "Date": "2019-03-26",
                    "Mens": "57"
                  },
                  {
                    "Womens": "29",
                    "Gaming": "64",
                    "Phone_and_GPS": "47",
                    "Kids": "23",
                    "Accessories_count": "263",
                    "Entertainment_count": "33",
                    "Date": "2016-07-27",
                    "Mens": "67"
                  },
                  {
                    "Womens": "15",
                    "Gaming": "30",
                    "Phone_and_GPS": "40",
                    "Kids": "69",
                    "Accessories_count": "221",
                    "Entertainment_count": "41",
                    "Date": "2019-05-31",
                    "Mens": "26"
                  },
                  {
                    "Womens": "92",
                    "Gaming": "4",
                    "Phone_and_GPS": "63",
                    "Kids": "22",
                    "Accessories_count": "264",
                    "Entertainment_count": "75",
                    "Date": "2019-07-18",
                    "Mens": "8"
                  },
                  {
                    "Womens": "3",
                    "Gaming": "19",
                    "Phone_and_GPS": "78",
                    "Kids": "84",
                    "Accessories_count": "283",
                    "Entertainment_count": "22",
                    "Date": "2017-07-02",
                    "Mens": "77"
                  },
                  {
                    "Womens": "29",
                    "Gaming": "52",
                    "Phone_and_GPS": "94",
                    "Kids": "41",
                    "Accessories_count": "300",
                    "Entertainment_count": "40",
                    "Date": "2020-10-01",
                    "Mens": "44"
                  },
                  {
                    "Womens": "10",
                    "Gaming": "91",
                    "Phone_and_GPS": "30",
                    "Kids": "77",
                    "Accessories_count": "296",
                    "Entertainment_count": "23",
                    "Date": "2017-12-24",
                    "Mens": "65"
                  },
                  {
                    "Womens": "86",
                    "Gaming": "46",
                    "Phone_and_GPS": "8",
                    "Kids": "38",
                    "Accessories_count": "242",
                    "Entertainment_count": "59",
                    "Date": "2020-12-02",
                    "Mens": "5"
                  },
                  {
                    "Womens": "48",
                    "Gaming": "4",
                    "Phone_and_GPS": "73",
                    "Kids": "86",
                    "Accessories_count": "284",
                    "Entertainment_count": "41",
                    "Date": "2015-02-18",
                    "Mens": "32"
                  },
                  {
                    "Womens": "95",
                    "Gaming": "73",
                    "Phone_and_GPS": "66",
                    "Kids": "35",
                    "Accessories_count": "350",
                    "Entertainment_count": "51",
                    "Date": "2017-01-31",
                    "Mens": "30"
                  },
                  {
                    "Womens": "57",
                    "Gaming": "55",
                    "Phone_and_GPS": "58",
                    "Kids": "52",
                    "Accessories_count": "365",
                    "Entertainment_count": "62",
                    "Date": "2015-01-02",
                    "Mens": "81"
                  },
                  {
                    "Womens": "73",
                    "Gaming": "90",
                    "Phone_and_GPS": "64",
                    "Kids": "85",
                    "Accessories_count": "387",
                    "Entertainment_count": "68",
                    "Date": "2017-02-12",
                    "Mens": "7"
                  },
                  {
                    "Womens": "93",
                    "Gaming": "70",
                    "Phone_and_GPS": "25",
                    "Kids": "15",
                    "Accessories_count": "302",
                    "Entertainment_count": "93",
                    "Date": "2019-09-15",
                    "Mens": "6"
                  },
                  {
                    "Womens": "76",
                    "Gaming": "38",
                    "Phone_and_GPS": "62",
                    "Kids": "79",
                    "Accessories_count": "412",
                    "Entertainment_count": "88",
                    "Date": "2017-07-01",
                    "Mens": "69"
                  },
                  {
                    "Womens": "2",
                    "Gaming": "89",
                    "Phone_and_GPS": "23",
                    "Kids": "11",
                    "Accessories_count": "170",
                    "Entertainment_count": "12",
                    "Date": "2017-06-29",
                    "Mens": "33"
                  },
                  {
                    "Womens": "31",
                    "Gaming": "21",
                    "Phone_and_GPS": "76",
                    "Kids": "83",
                    "Accessories_count": "316",
                    "Entertainment_count": "81",
                    "Date": "2020-10-13",
                    "Mens": "24"
                  },
                  {
                    "Womens": "9",
                    "Gaming": "57",
                    "Phone_and_GPS": "98",
                    "Kids": "71",
                    "Accessories_count": "300",
                    "Entertainment_count": "12",
                    "Date": "2016-08-06",
                    "Mens": "53"
                  },
                  {
                    "Womens": "38",
                    "Gaming": "82",
                    "Phone_and_GPS": "79",
                    "Kids": "98",
                    "Accessories_count": "348",
                    "Entertainment_count": "2",
                    "Date": "2019-07-19",
                    "Mens": "49"
                  },
                  {
                    "Womens": "97",
                    "Gaming": "4",
                    "Phone_and_GPS": "3",
                    "Kids": "21",
                    "Accessories_count": "205",
                    "Entertainment_count": "58",
                    "Date": "2018-12-22",
                    "Mens": "22"
                  },
                  {
                    "Womens": "98",
                    "Gaming": "57",
                    "Phone_and_GPS": "12",
                    "Kids": "32",
                    "Accessories_count": "318",
                    "Entertainment_count": "20",
                    "Date": "2019-11-02",
                    "Mens": "99"
                  },
                  {
                    "Womens": "13",
                    "Gaming": "52",
                    "Phone_and_GPS": "92",
                    "Kids": "91",
                    "Accessories_count": "330",
                    "Entertainment_count": "25",
                    "Date": "2019-08-14",
                    "Mens": "57"
                  },
                  {
                    "Womens": "89",
                    "Gaming": "64",
                    "Phone_and_GPS": "27",
                    "Kids": "28",
                    "Accessories_count": "330",
                    "Entertainment_count": "67",
                    "Date": "2017-10-25",
                    "Mens": "55"
                  },
                  {
                    "Womens": "22",
                    "Gaming": "36",
                    "Phone_and_GPS": "20",
                    "Kids": "88",
                    "Accessories_count": "224",
                    "Entertainment_count": "39",
                    "Date": "2016-05-04",
                    "Mens": "19"
                  },
                  {
                    "Womens": "22",
                    "Gaming": "7",
                    "Phone_and_GPS": "39",
                    "Kids": "21",
                    "Accessories_count": "156",
                    "Entertainment_count": "5",
                    "Date": "2015-01-02",
                    "Mens": "62"
                  },
                  {
                    "Womens": "70",
                    "Gaming": "18",
                    "Phone_and_GPS": "77",
                    "Kids": "46",
                    "Accessories_count": "312",
                    "Entertainment_count": "23",
                    "Date": "2016-04-19",
                    "Mens": "78"
                  },
                  {
                    "Womens": "94",
                    "Gaming": "83",
                    "Phone_and_GPS": "82",
                    "Kids": "63",
                    "Accessories_count": "435",
                    "Entertainment_count": "22",
                    "Date": "2018-08-08",
                    "Mens": "91"
                  },
                  {
                    "Womens": "38",
                    "Gaming": "13",
                    "Phone_and_GPS": "99",
                    "Kids": "76",
                    "Accessories_count": "268",
                    "Entertainment_count": "37",
                    "Date": "2015-04-26",
                    "Mens": "5"
                  },
                  {
                    "Womens": "71",
                    "Gaming": "92",
                    "Phone_and_GPS": "80",
                    "Kids": "37",
                    "Accessories_count": "383",
                    "Entertainment_count": "28",
                    "Date": "2020-01-29",
                    "Mens": "75"
                  },
                  {
                    "Womens": "35",
                    "Gaming": "40",
                    "Phone_and_GPS": "85",
                    "Kids": "51",
                    "Accessories_count": "323",
                    "Entertainment_count": "20",
                    "Date": "2017-08-30",
                    "Mens": "92"
                  },
                  {
                    "Womens": "60",
                    "Gaming": "36",
                    "Phone_and_GPS": "32",
                    "Kids": "16",
                    "Accessories_count": "183",
                    "Entertainment_count": "15",
                    "Date": "2016-08-30",
                    "Mens": "24"
                  },
                  {
                    "Womens": "3",
                    "Gaming": "13",
                    "Phone_and_GPS": "94",
                    "Kids": "61",
                    "Accessories_count": "239",
                    "Entertainment_count": "41",
                    "Date": "2019-02-02",
                    "Mens": "27"
                  },
                  {
                    "Womens": "47",
                    "Gaming": "59",
                    "Phone_and_GPS": "83",
                    "Kids": "73",
                    "Accessories_count": "403",
                    "Entertainment_count": "90",
                    "Date": "2017-12-25",
                    "Mens": "51"
                  },
                  {
                    "Womens": "22",
                    "Gaming": "65",
                    "Phone_and_GPS": "33",
                    "Kids": "90",
                    "Accessories_count": "271",
                    "Entertainment_count": "49",
                    "Date": "2020-02-10",
                    "Mens": "12"
                  },
                  {
                    "Womens": "72",
                    "Gaming": "29",
                    "Phone_and_GPS": "52",
                    "Kids": "57",
                    "Accessories_count": "379",
                    "Entertainment_count": "73",
                    "Date": "2017-05-20",
                    "Mens": "96"
                  },
                  {
                    "Womens": "60",
                    "Gaming": "28",
                    "Phone_and_GPS": "5",
                    "Kids": "99",
                    "Accessories_count": "268",
                    "Entertainment_count": "23",
                    "Date": "2016-10-04",
                    "Mens": "53"
                  },
                  {
                    "Womens": "28",
                    "Gaming": "57",
                    "Phone_and_GPS": "73",
                    "Kids": "27",
                    "Accessories_count": "232",
                    "Entertainment_count": "14",
                    "Date": "2015-08-14",
                    "Mens": "33"
                  },
                  {
                    "Womens": "15",
                    "Gaming": "5",
                    "Phone_and_GPS": "56",
                    "Kids": "79",
                    "Accessories_count": "196",
                    "Entertainment_count": "33",
                    "Date": "2019-10-29",
                    "Mens": "8"
                  },
                  {
                    "Womens": "96",
                    "Gaming": "76",
                    "Phone_and_GPS": "37",
                    "Kids": "57",
                    "Accessories_count": "405",
                    "Entertainment_count": "62",
                    "Date": "2017-03-08",
                    "Mens": "77"
                  },
                  {
                    "Womens": "61",
                    "Gaming": "79",
                    "Phone_and_GPS": "50",
                    "Kids": "72",
                    "Accessories_count": "383",
                    "Entertainment_count": "99",
                    "Date": "2016-09-20",
                    "Mens": "22"
                  },
                  {
                    "Womens": "30",
                    "Gaming": "76",
                    "Phone_and_GPS": "52",
                    "Kids": "73",
                    "Accessories_count": "320",
                    "Entertainment_count": "51",
                    "Date": "2019-08-11",
                    "Mens": "38"
                  },
                  {
                    "Womens": "50",
                    "Gaming": "31",
                    "Phone_and_GPS": "33",
                    "Kids": "54",
                    "Accessories_count": "276",
                    "Entertainment_count": "69",
                    "Date": "2019-04-25",
                    "Mens": "39"
                  },
                  {
                    "Womens": "3",
                    "Gaming": "57",
                    "Phone_and_GPS": "42",
                    "Kids": "3",
                    "Accessories_count": "254",
                    "Entertainment_count": "59",
                    "Date": "2016-04-28",
                    "Mens": "90"
                  },
                  {
                    "Womens": "80",
                    "Gaming": "75",
                    "Phone_and_GPS": "50",
                    "Kids": "14",
                    "Accessories_count": "326",
                    "Entertainment_count": "24",
                    "Date": "2015-10-28",
                    "Mens": "83"
                  },
                  {
                    "Womens": "28",
                    "Gaming": "26",
                    "Phone_and_GPS": "98",
                    "Kids": "16",
                    "Accessories_count": "274",
                    "Entertainment_count": "38",
                    "Date": "2016-02-14",
                    "Mens": "68"
                  },
                  {
                    "Womens": "60",
                    "Gaming": "35",
                    "Phone_and_GPS": "4",
                    "Kids": "66",
                    "Accessories_count": "265",
                    "Entertainment_count": "60",
                    "Date": "2015-03-16",
                    "Mens": "40"
                  },
                  {
                    "Womens": "50",
                    "Gaming": "13",
                    "Phone_and_GPS": "50",
                    "Kids": "30",
                    "Accessories_count": "290",
                    "Entertainment_count": "75",
                    "Date": "2019-05-25",
                    "Mens": "72"
                  },
                  {
                    "Womens": "1",
                    "Gaming": "11",
                    "Phone_and_GPS": "18",
                    "Kids": "68",
                    "Accessories_count": "159",
                    "Entertainment_count": "50",
                    "Date": "2015-05-02",
                    "Mens": "11"
                  },
                  {
                    "Womens": "64",
                    "Gaming": "21",
                    "Phone_and_GPS": "94",
                    "Kids": "85",
                    "Accessories_count": "389",
                    "Entertainment_count": "68",
                    "Date": "2016-06-02",
                    "Mens": "57"
                  },
                  {
                    "Womens": "63",
                    "Gaming": "82",
                    "Phone_and_GPS": "70",
                    "Kids": "73",
                    "Accessories_count": "376",
                    "Entertainment_count": "53",
                    "Date": "2016-11-19",
                    "Mens": "35"
                  },
                  {
                    "Womens": "42",
                    "Gaming": "51",
                    "Phone_and_GPS": "60",
                    "Kids": "27",
                    "Accessories_count": "226",
                    "Entertainment_count": "39",
                    "Date": "2015-10-07",
                    "Mens": "7"
                  },
                  {
                    "Womens": "13",
                    "Gaming": "72",
                    "Phone_and_GPS": "62",
                    "Kids": "94",
                    "Accessories_count": "339",
                    "Entertainment_count": "73",
                    "Date": "2018-08-21",
                    "Mens": "25"
                  },
                  {
                    "Womens": "32",
                    "Gaming": "68",
                    "Phone_and_GPS": "36",
                    "Kids": "62",
                    "Accessories_count": "274",
                    "Entertainment_count": "53",
                    "Date": "2019-03-23",
                    "Mens": "23"
                  },
                  {
                    "Womens": "94",
                    "Gaming": "83",
                    "Phone_and_GPS": "55",
                    "Kids": "29",
                    "Accessories_count": "384",
                    "Entertainment_count": "48",
                    "Date": "2016-11-29",
                    "Mens": "75"
                  },
                  {
                    "Womens": "69",
                    "Gaming": "87",
                    "Phone_and_GPS": "4",
                    "Kids": "34",
                    "Accessories_count": "291",
                    "Entertainment_count": "3",
                    "Date": "2016-02-20",
                    "Mens": "94"
                  },
                  {
                    "Womens": "26",
                    "Gaming": "20",
                    "Phone_and_GPS": "99",
                    "Kids": "81",
                    "Accessories_count": "391",
                    "Entertainment_count": "67",
                    "Date": "2019-10-12",
                    "Mens": "98"
                  },
                  {
                    "Womens": "28",
                    "Gaming": "88",
                    "Phone_and_GPS": "58",
                    "Kids": "60",
                    "Accessories_count": "367",
                    "Entertainment_count": "92",
                    "Date": "2017-10-18",
                    "Mens": "41"
                  },
                  {
                    "Womens": "18",
                    "Gaming": "0",
                    "Phone_and_GPS": "19",
                    "Kids": "99",
                    "Accessories_count": "207",
                    "Entertainment_count": "44",
                    "Date": "2016-03-17",
                    "Mens": "27"
                  },
                  {
                    "Womens": "95",
                    "Gaming": "10",
                    "Phone_and_GPS": "53",
                    "Kids": "45",
                    "Accessories_count": "254",
                    "Entertainment_count": "1",
                    "Date": "2018-03-15",
                    "Mens": "50"
                  },
                  {
                    "Womens": "19",
                    "Gaming": "18",
                    "Phone_and_GPS": "66",
                    "Kids": "25",
                    "Accessories_count": "247",
                    "Entertainment_count": "81",
                    "Date": "2016-12-07",
                    "Mens": "38"
                  },
                  {
                    "Womens": "27",
                    "Gaming": "45",
                    "Phone_and_GPS": "66",
                    "Kids": "86",
                    "Accessories_count": "368",
                    "Entertainment_count": "52",
                    "Date": "2019-06-18",
                    "Mens": "92"
                  },
                  {
                    "Womens": "90",
                    "Gaming": "19",
                    "Phone_and_GPS": "18",
                    "Kids": "49",
                    "Accessories_count": "292",
                    "Entertainment_count": "30",
                    "Date": "2015-11-04",
                    "Mens": "86"
                  },
                  {
                    "Womens": "97",
                    "Gaming": "67",
                    "Phone_and_GPS": "66",
                    "Kids": "83",
                    "Accessories_count": "359",
                    "Entertainment_count": "20",
                    "Date": "2019-08-25",
                    "Mens": "26"
                  },
                  {
                    "Womens": "89",
                    "Gaming": "94",
                    "Phone_and_GPS": "17",
                    "Kids": "95",
                    "Accessories_count": "438",
                    "Entertainment_count": "52",
                    "Date": "2018-12-24",
                    "Mens": "91"
                  },
                  {
                    "Womens": "41",
                    "Gaming": "28",
                    "Phone_and_GPS": "36",
                    "Kids": "54",
                    "Accessories_count": "263",
                    "Entertainment_count": "16",
                    "Date": "2016-01-04",
                    "Mens": "88"
                  },
                  {
                    "Womens": "83",
                    "Gaming": "7",
                    "Phone_and_GPS": "24",
                    "Kids": "74",
                    "Accessories_count": "287",
                    "Entertainment_count": "41",
                    "Date": "2019-11-15",
                    "Mens": "58"
                  },
                  {
                    "Womens": "54",
                    "Gaming": "77",
                    "Phone_and_GPS": "44",
                    "Kids": "11",
                    "Accessories_count": "274",
                    "Entertainment_count": "74",
                    "Date": "2020-04-01",
                    "Mens": "14"
                  },
                  {
                    "Womens": "4",
                    "Gaming": "27",
                    "Phone_and_GPS": "16",
                    "Kids": "67",
                    "Accessories_count": "269",
                    "Entertainment_count": "75",
                    "Date": "2017-08-07",
                    "Mens": "80"
                  },
                  {
                    "Womens": "95",
                    "Gaming": "41",
                    "Phone_and_GPS": "62",
                    "Kids": "61",
                    "Accessories_count": "271",
                    "Entertainment_count": "6",
                    "Date": "2018-12-05",
                    "Mens": "6"
                  },
                  {
                    "Womens": "93",
                    "Gaming": "75",
                    "Phone_and_GPS": "2",
                    "Kids": "7",
                    "Accessories_count": "236",
                    "Entertainment_count": "59",
                    "Date": "2020-05-20",
                    "Mens": "0"
                  },
                  {
                    "Womens": "66",
                    "Gaming": "85",
                    "Phone_and_GPS": "15",
                    "Kids": "71",
                    "Accessories_count": "350",
                    "Entertainment_count": "19",
                    "Date": "2016-04-15",
                    "Mens": "94"
                  },
                  {
                    "Womens": "36",
                    "Gaming": "86",
                    "Phone_and_GPS": "67",
                    "Kids": "43",
                    "Accessories_count": "389",
                    "Entertainment_count": "62",
                    "Date": "2018-02-06",
                    "Mens": "95"
                  },
                  {
                    "Womens": "16",
                    "Gaming": "2",
                    "Phone_and_GPS": "51",
                    "Kids": "18",
                    "Accessories_count": "167",
                    "Entertainment_count": "1",
                    "Date": "2019-05-28",
                    "Mens": "79"
                  },
                  {
                    "Womens": "46",
                    "Gaming": "45",
                    "Phone_and_GPS": "32",
                    "Kids": "17",
                    "Accessories_count": "234",
                    "Entertainment_count": "78",
                    "Date": "2016-06-17",
                    "Mens": "16"
                  },
                  {
                    "Womens": "16",
                    "Gaming": "42",
                    "Phone_and_GPS": "21",
                    "Kids": "73",
                    "Accessories_count": "230",
                    "Entertainment_count": "36",
                    "Date": "2015-01-17",
                    "Mens": "42"
                  },
                  {
                    "Womens": "50",
                    "Gaming": "90",
                    "Phone_and_GPS": "7",
                    "Kids": "46",
                    "Accessories_count": "261",
                    "Entertainment_count": "20",
                    "Date": "2016-10-20",
                    "Mens": "48"
                  },
                  {
                    "Womens": "43",
                    "Gaming": "74",
                    "Phone_and_GPS": "37",
                    "Kids": "27",
                    "Accessories_count": "277",
                    "Entertainment_count": "61",
                    "Date": "2020-12-14",
                    "Mens": "35"
                  },
                  {
                    "Womens": "21",
                    "Gaming": "1",
                    "Phone_and_GPS": "86",
                    "Kids": "57",
                    "Accessories_count": "278",
                    "Entertainment_count": "63",
                    "Date": "2020-01-23",
                    "Mens": "50"
                  },
                  {
                    "Womens": "10",
                    "Gaming": "3",
                    "Phone_and_GPS": "11",
                    "Kids": "93",
                    "Accessories_count": "213",
                    "Entertainment_count": "93",
                    "Date": "2017-05-25",
                    "Mens": "3"
                  },
                  {
                    "Womens": "66",
                    "Gaming": "58",
                    "Phone_and_GPS": "55",
                    "Kids": "12",
                    "Accessories_count": "286",
                    "Entertainment_count": "3",
                    "Date": "2018-02-20",
                    "Mens": "92"
                  },
                  {
                    "Womens": "37",
                    "Gaming": "28",
                    "Phone_and_GPS": "95",
                    "Kids": "15",
                    "Accessories_count": "288",
                    "Entertainment_count": "73",
                    "Date": "2016-11-02",
                    "Mens": "40"
                  },
                  {
                    "Womens": "82",
                    "Gaming": "21",
                    "Phone_and_GPS": "74",
                    "Kids": "31",
                    "Accessories_count": "250",
                    "Entertainment_count": "10",
                    "Date": "2020-04-21",
                    "Mens": "32"
                  },
                  {
                    "Womens": "31",
                    "Gaming": "21",
                    "Phone_and_GPS": "63",
                    "Kids": "67",
                    "Accessories_count": "348",
                    "Entertainment_count": "88",
                    "Date": "2015-09-28",
                    "Mens": "78"
                  },
                  {
                    "Womens": "3",
                    "Gaming": "38",
                    "Phone_and_GPS": "27",
                    "Kids": "36",
                    "Accessories_count": "163",
                    "Entertainment_count": "25",
                    "Date": "2018-01-03",
                    "Mens": "34"
                  },
                  {
                    "Womens": "34",
                    "Gaming": "50",
                    "Phone_and_GPS": "19",
                    "Kids": "33",
                    "Accessories_count": "267",
                    "Entertainment_count": "85",
                    "Date": "2020-05-12",
                    "Mens": "46"
                  },
                  {
                    "Womens": "10",
                    "Gaming": "63",
                    "Phone_and_GPS": "22",
                    "Kids": "43",
                    "Accessories_count": "197",
                    "Entertainment_count": "34",
                    "Date": "2020-05-29",
                    "Mens": "25"
                  },
                  {
                    "Womens": "76",
                    "Gaming": "74",
                    "Phone_and_GPS": "14",
                    "Kids": "71",
                    "Accessories_count": "303",
                    "Entertainment_count": "58",
                    "Date": "2015-02-19",
                    "Mens": "10"
                  },
                  {
                    "Womens": "88",
                    "Gaming": "39",
                    "Phone_and_GPS": "55",
                    "Kids": "72",
                    "Accessories_count": "306",
                    "Entertainment_count": "47",
                    "Date": "2016-11-28",
                    "Mens": "5"
                  },
                  {
                    "Womens": "91",
                    "Gaming": "7",
                    "Phone_and_GPS": "50",
                    "Kids": "64",
                    "Accessories_count": "351",
                    "Entertainment_count": "61",
                    "Date": "2019-11-04",
                    "Mens": "78"
                  },
                  {
                    "Womens": "50",
                    "Gaming": "13",
                    "Phone_and_GPS": "14",
                    "Kids": "47",
                    "Accessories_count": "224",
                    "Entertainment_count": "99",
                    "Date": "2020-07-13",
                    "Mens": "1"
                  },
                  {
                    "Womens": "47",
                    "Gaming": "30",
                    "Phone_and_GPS": "48",
                    "Kids": "98",
                    "Accessories_count": "354",
                    "Entertainment_count": "42",
                    "Date": "2015-06-09",
                    "Mens": "89"
                  },
                  {
                    "Womens": "85",
                    "Gaming": "28",
                    "Phone_and_GPS": "43",
                    "Kids": "53",
                    "Accessories_count": "306",
                    "Entertainment_count": "59",
                    "Date": "2017-08-01",
                    "Mens": "38"
                  },
                  {
                    "Womens": "0",
                    "Gaming": "99",
                    "Phone_and_GPS": "23",
                    "Kids": "56",
                    "Accessories_count": "324",
                    "Entertainment_count": "68",
                    "Date": "2020-11-24",
                    "Mens": "78"
                  },
                  {
                    "Womens": "15",
                    "Gaming": "56",
                    "Phone_and_GPS": "88",
                    "Kids": "36",
                    "Accessories_count": "246",
                    "Entertainment_count": "40",
                    "Date": "2015-12-30",
                    "Mens": "11"
                  },
                  {
                    "Womens": "66",
                    "Gaming": "16",
                    "Phone_and_GPS": "47",
                    "Kids": "10",
                    "Accessories_count": "317",
                    "Entertainment_count": "93",
                    "Date": "2016-04-29",
                    "Mens": "85"
                  },
                  {
                    "Womens": "13",
                    "Gaming": "30",
                    "Phone_and_GPS": "71",
                    "Kids": "91",
                    "Accessories_count": "299",
                    "Entertainment_count": "35",
                    "Date": "2015-06-14",
                    "Mens": "59"
                  },
                  {
                    "Womens": "6",
                    "Gaming": "99",
                    "Phone_and_GPS": "42",
                    "Kids": "10",
                    "Accessories_count": "277",
                    "Entertainment_count": "90",
                    "Date": "2019-08-07",
                    "Mens": "30"
                  },
                  {
                    "Womens": "10",
                    "Gaming": "16",
                    "Phone_and_GPS": "69",
                    "Kids": "85",
                    "Accessories_count": "252",
                    "Entertainment_count": "24",
                    "Date": "2020-11-09",
                    "Mens": "48"
                  },
                  {
                    "Womens": "23",
                    "Gaming": "68",
                    "Phone_and_GPS": "18",
                    "Kids": "6",
                    "Accessories_count": "251",
                    "Entertainment_count": "79",
                    "Date": "2015-08-06",
                    "Mens": "57"
                  },
                  {
                    "Womens": "77",
                    "Gaming": "10",
                    "Phone_and_GPS": "4",
                    "Kids": "44",
                    "Accessories_count": "234",
                    "Entertainment_count": "79",
                    "Date": "2016-04-02",
                    "Mens": "20"
                  },
                  {
                    "Womens": "79",
                    "Gaming": "84",
                    "Phone_and_GPS": "22",
                    "Kids": "37",
                    "Accessories_count": "365",
                    "Entertainment_count": "56",
                    "Date": "2020-06-28",
                    "Mens": "87"
                  },
                  {
                    "Womens": "5",
                    "Gaming": "50",
                    "Phone_and_GPS": "65",
                    "Kids": "88",
                    "Accessories_count": "341",
                    "Entertainment_count": "35",
                    "Date": "2015-08-11",
                    "Mens": "98"
                  },
                  {
                    "Womens": "86",
                    "Gaming": "35",
                    "Phone_and_GPS": "69",
                    "Kids": "64",
                    "Accessories_count": "321",
                    "Entertainment_count": "50",
                    "Date": "2016-04-11",
                    "Mens": "17"
                  },
                  {
                    "Womens": "31",
                    "Gaming": "89",
                    "Phone_and_GPS": "63",
                    "Kids": "97",
                    "Accessories_count": "421",
                    "Entertainment_count": "85",
                    "Date": "2018-06-16",
                    "Mens": "56"
                  },
                  {
                    "Womens": "89",
                    "Gaming": "48",
                    "Phone_and_GPS": "39",
                    "Kids": "86",
                    "Accessories_count": "351",
                    "Entertainment_count": "5",
                    "Date": "2017-08-16",
                    "Mens": "84"
                  },
                  {
                    "Womens": "87",
                    "Gaming": "39",
                    "Phone_and_GPS": "61",
                    "Kids": "49",
                    "Accessories_count": "293",
                    "Entertainment_count": "50",
                    "Date": "2017-12-01",
                    "Mens": "7"
                  },
                  {
                    "Womens": "67",
                    "Gaming": "94",
                    "Phone_and_GPS": "61",
                    "Kids": "63",
                    "Accessories_count": "308",
                    "Entertainment_count": "23",
                    "Date": "2019-09-09",
                    "Mens": "0"
                  },
                  {
                    "Womens": "77",
                    "Gaming": "23",
                    "Phone_and_GPS": "67",
                    "Kids": "68",
                    "Accessories_count": "347",
                    "Entertainment_count": "28",
                    "Date": "2020-04-11",
                    "Mens": "84"
                  },
                  {
                    "Womens": "51",
                    "Gaming": "75",
                    "Phone_and_GPS": "27",
                    "Kids": "2",
                    "Accessories_count": "272",
                    "Entertainment_count": "40",
                    "Date": "2018-05-06",
                    "Mens": "77"
                  },
                  {
                    "Womens": "92",
                    "Gaming": "0",
                    "Phone_and_GPS": "59",
                    "Kids": "36",
                    "Accessories_count": "285",
                    "Entertainment_count": "23",
                    "Date": "2016-02-19",
                    "Mens": "75"
                  },
                  {
                    "Womens": "35",
                    "Gaming": "13",
                    "Phone_and_GPS": "94",
                    "Kids": "49",
                    "Accessories_count": "314",
                    "Entertainment_count": "30",
                    "Date": "2017-02-18",
                    "Mens": "93"
                  },
                  {
                    "Womens": "19",
                    "Gaming": "67",
                    "Phone_and_GPS": "94",
                    "Kids": "48",
                    "Accessories_count": "238",
                    "Entertainment_count": "9",
                    "Date": "2019-04-16",
                    "Mens": "1"
                  },
                  {
                    "Womens": "26",
                    "Gaming": "51",
                    "Phone_and_GPS": "44",
                    "Kids": "30",
                    "Accessories_count": "220",
                    "Entertainment_count": "38",
                    "Date": "2017-06-13",
                    "Mens": "31"
                  },
                  {
                    "Womens": "99",
                    "Gaming": "79",
                    "Phone_and_GPS": "7",
                    "Kids": "41",
                    "Accessories_count": "333",
                    "Entertainment_count": "11",
                    "Date": "2020-10-11",
                    "Mens": "96"
                  },
                  {
                    "Womens": "35",
                    "Gaming": "69",
                    "Phone_and_GPS": "44",
                    "Kids": "22",
                    "Accessories_count": "302",
                    "Entertainment_count": "43",
                    "Date": "2017-11-05",
                    "Mens": "89"
                  },
                  {
                    "Womens": "56",
                    "Gaming": "62",
                    "Phone_and_GPS": "74",
                    "Kids": "9",
                    "Accessories_count": "297",
                    "Entertainment_count": "88",
                    "Date": "2015-05-26",
                    "Mens": "8"
                  },
                  {
                    "Womens": "30",
                    "Gaming": "2",
                    "Phone_and_GPS": "28",
                    "Kids": "28",
                    "Accessories_count": "217",
                    "Entertainment_count": "62",
                    "Date": "2015-08-12",
                    "Mens": "67"
                  },
                  {
                    "Womens": "99",
                    "Gaming": "58",
                    "Phone_and_GPS": "43",
                    "Kids": "12",
                    "Accessories_count": "254",
                    "Entertainment_count": "2",
                    "Date": "2018-01-08",
                    "Mens": "40"
                  },
                  {
                    "Womens": "63",
                    "Gaming": "88",
                    "Phone_and_GPS": "72",
                    "Kids": "59",
                    "Accessories_count": "401",
                    "Entertainment_count": "80",
                    "Date": "2016-01-14",
                    "Mens": "39"
                  },
                  {
                    "Womens": "83",
                    "Gaming": "83",
                    "Phone_and_GPS": "21",
                    "Kids": "71",
                    "Accessories_count": "443",
                    "Entertainment_count": "98",
                    "Date": "2018-06-12",
                    "Mens": "87"
                  },
                  {
                    "Womens": "26",
                    "Gaming": "53",
                    "Phone_and_GPS": "59",
                    "Kids": "66",
                    "Accessories_count": "265",
                    "Entertainment_count": "14",
                    "Date": "2020-08-04",
                    "Mens": "47"
                  },
                  {
                    "Womens": "32",
                    "Gaming": "27",
                    "Phone_and_GPS": "45",
                    "Kids": "38",
                    "Accessories_count": "218",
                    "Entertainment_count": "28",
                    "Date": "2015-01-04",
                    "Mens": "48"
                  },
                  {
                    "Womens": "91",
                    "Gaming": "65",
                    "Phone_and_GPS": "75",
                    "Kids": "93",
                    "Accessories_count": "390",
                    "Entertainment_count": "66",
                    "Date": "2016-05-18",
                    "Mens": "0"
                  },
                  {
                    "Womens": "62",
                    "Gaming": "38",
                    "Phone_and_GPS": "55",
                    "Kids": "4",
                    "Accessories_count": "270",
                    "Entertainment_count": "67",
                    "Date": "2016-10-08",
                    "Mens": "44"
                  },
                  {
                    "Womens": "49",
                    "Gaming": "82",
                    "Phone_and_GPS": "78",
                    "Kids": "91",
                    "Accessories_count": "437",
                    "Entertainment_count": "59",
                    "Date": "2020-08-30",
                    "Mens": "78"
                  },
                  {
                    "Womens": "44",
                    "Gaming": "10",
                    "Phone_and_GPS": "80",
                    "Kids": "94",
                    "Accessories_count": "295",
                    "Entertainment_count": "62",
                    "Date": "2020-07-11",
                    "Mens": "5"
                  },
                  {
                    "Womens": "82",
                    "Gaming": "97",
                    "Phone_and_GPS": "84",
                    "Kids": "69",
                    "Accessories_count": "378",
                    "Entertainment_count": "27",
                    "Date": "2016-12-21",
                    "Mens": "19"
                  },
                  {
                    "Womens": "81",
                    "Gaming": "56",
                    "Phone_and_GPS": "87",
                    "Kids": "34",
                    "Accessories_count": "292",
                    "Entertainment_count": "9",
                    "Date": "2015-04-19",
                    "Mens": "25"
                  },
                  {
                    "Womens": "97",
                    "Gaming": "43",
                    "Phone_and_GPS": "59",
                    "Kids": "34",
                    "Accessories_count": "359",
                    "Entertainment_count": "98",
                    "Date": "2015-11-17",
                    "Mens": "28"
                  },
                  {
                    "Womens": "88",
                    "Gaming": "25",
                    "Phone_and_GPS": "0",
                    "Kids": "77",
                    "Accessories_count": "298",
                    "Entertainment_count": "39",
                    "Date": "2017-08-31",
                    "Mens": "69"
                  },
                  {
                    "Womens": "7",
                    "Gaming": "75",
                    "Phone_and_GPS": "21",
                    "Kids": "50",
                    "Accessories_count": "302",
                    "Entertainment_count": "93",
                    "Date": "2016-08-06",
                    "Mens": "56"
                  },
                  {
                    "Womens": "88",
                    "Gaming": "2",
                    "Phone_and_GPS": "25",
                    "Kids": "26",
                    "Accessories_count": "232",
                    "Entertainment_count": "47",
                    "Date": "2019-09-19",
                    "Mens": "44"
                  },
                  {
                    "Womens": "10",
                    "Gaming": "65",
                    "Phone_and_GPS": "59",
                    "Kids": "18",
                    "Accessories_count": "248",
                    "Entertainment_count": "96",
                    "Date": "2020-12-07",
                    "Mens": "0"
                  },
                  {
                    "Womens": "0",
                    "Gaming": "41",
                    "Phone_and_GPS": "50",
                    "Kids": "68",
                    "Accessories_count": "221",
                    "Entertainment_count": "38",
                    "Date": "2015-12-14",
                    "Mens": "24"
                  },
                  {
                    "Womens": "41",
                    "Gaming": "22",
                    "Phone_and_GPS": "35",
                    "Kids": "6",
                    "Accessories_count": "198",
                    "Entertainment_count": "49",
                    "Date": "2018-06-25",
                    "Mens": "45"
                  },
                  {
                    "Womens": "79",
                    "Gaming": "94",
                    "Phone_and_GPS": "98",
                    "Kids": "57",
                    "Accessories_count": "403",
                    "Entertainment_count": "3",
                    "Date": "2015-05-05",
                    "Mens": "72"
                  },
                  {
                    "Womens": "48",
                    "Gaming": "21",
                    "Phone_and_GPS": "52",
                    "Kids": "72",
                    "Accessories_count": "269",
                    "Entertainment_count": "23",
                    "Date": "2016-03-01",
                    "Mens": "53"
                  },
                  {
                    "Womens": "74",
                    "Gaming": "51",
                    "Phone_and_GPS": "62",
                    "Kids": "70",
                    "Accessories_count": "316",
                    "Entertainment_count": "12",
                    "Date": "2018-01-17",
                    "Mens": "47"
                  },
                  {
                    "Womens": "37",
                    "Gaming": "37",
                    "Phone_and_GPS": "79",
                    "Kids": "16",
                    "Accessories_count": "258",
                    "Entertainment_count": "47",
                    "Date": "2015-03-10",
                    "Mens": "42"
                  },
                  {
                    "Womens": "6",
                    "Gaming": "55",
                    "Phone_and_GPS": "38",
                    "Kids": "9",
                    "Accessories_count": "243",
                    "Entertainment_count": "36",
                    "Date": "2016-06-17",
                    "Mens": "99"
                  },
                  {
                    "Womens": "58",
                    "Gaming": "28",
                    "Phone_and_GPS": "10",
                    "Kids": "77",
                    "Accessories_count": "294",
                    "Entertainment_count": "71",
                    "Date": "2019-04-13",
                    "Mens": "50"
                  },
                  {
                    "Womens": "46",
                    "Gaming": "34",
                    "Phone_and_GPS": "45",
                    "Kids": "9",
                    "Accessories_count": "209",
                    "Entertainment_count": "23",
                    "Date": "2017-09-09",
                    "Mens": "52"
                  },
                  {
                    "Womens": "7",
                    "Gaming": "94",
                    "Phone_and_GPS": "8",
                    "Kids": "19",
                    "Accessories_count": "281",
                    "Entertainment_count": "84",
                    "Date": "2015-12-30",
                    "Mens": "69"
                  },
                  {
                    "Womens": "45",
                    "Gaming": "45",
                    "Phone_and_GPS": "47",
                    "Kids": "70",
                    "Accessories_count": "318",
                    "Entertainment_count": "26",
                    "Date": "2017-08-26",
                    "Mens": "85"
                  },
                  {
                    "Womens": "66",
                    "Gaming": "11",
                    "Phone_and_GPS": "53",
                    "Kids": "72",
                    "Accessories_count": "311",
                    "Entertainment_count": "28",
                    "Date": "2018-11-15",
                    "Mens": "81"
                  },
                  {
                    "Womens": "31",
                    "Gaming": "29",
                    "Phone_and_GPS": "38",
                    "Kids": "21",
                    "Accessories_count": "249",
                    "Entertainment_count": "79",
                    "Date": "2019-03-22",
                    "Mens": "51"
                  },
                  {
                    "Womens": "47",
                    "Gaming": "55",
                    "Phone_and_GPS": "68",
                    "Kids": "91",
                    "Accessories_count": "269",
                    "Entertainment_count": "7",
                    "Date": "2017-07-09",
                    "Mens": "1"
                  },
                  {
                    "Womens": "49",
                    "Gaming": "28",
                    "Phone_and_GPS": "77",
                    "Kids": "93",
                    "Accessories_count": "302",
                    "Entertainment_count": "47",
                    "Date": "2016-07-20",
                    "Mens": "8"
                  },
                  {
                    "Womens": "51",
                    "Gaming": "44",
                    "Phone_and_GPS": "91",
                    "Kids": "87",
                    "Accessories_count": "285",
                    "Entertainment_count": "4",
                    "Date": "2015-04-21",
                    "Mens": "8"
                  },
                  {
                    "Womens": "54",
                    "Gaming": "91",
                    "Phone_and_GPS": "65",
                    "Kids": "53",
                    "Accessories_count": "445",
                    "Entertainment_count": "92",
                    "Date": "2016-05-20",
                    "Mens": "90"
                  },
                  {
                    "Womens": "14",
                    "Gaming": "45",
                    "Phone_and_GPS": "50",
                    "Kids": "65",
                    "Accessories_count": "216",
                    "Entertainment_count": "4",
                    "Date": "2019-11-03",
                    "Mens": "38"
                  },
                  {
                    "Womens": "94",
                    "Gaming": "20",
                    "Phone_and_GPS": "1",
                    "Kids": "94",
                    "Accessories_count": "286",
                    "Entertainment_count": "11",
                    "Date": "2018-03-05",
                    "Mens": "66"
                  },
                  {
                    "Womens": "67",
                    "Gaming": "41",
                    "Phone_and_GPS": "16",
                    "Kids": "71",
                    "Accessories_count": "257",
                    "Entertainment_count": "18",
                    "Date": "2020-05-07",
                    "Mens": "44"
                  },
                  {
                    "Womens": "27",
                    "Gaming": "81",
                    "Phone_and_GPS": "44",
                    "Kids": "47",
                    "Accessories_count": "333",
                    "Entertainment_count": "70",
                    "Date": "2018-01-27",
                    "Mens": "64"
                  },
                  {
                    "Womens": "70",
                    "Gaming": "63",
                    "Phone_and_GPS": "24",
                    "Kids": "76",
                    "Accessories_count": "372",
                    "Entertainment_count": "64",
                    "Date": "2018-11-06",
                    "Mens": "75"
                  },
                  {
                    "Womens": "71",
                    "Gaming": "8",
                    "Phone_and_GPS": "92",
                    "Kids": "68",
                    "Accessories_count": "331",
                    "Entertainment_count": "74",
                    "Date": "2018-04-19",
                    "Mens": "18"
                  },
                  {
                    "Womens": "98",
                    "Gaming": "45",
                    "Phone_and_GPS": "66",
                    "Kids": "85",
                    "Accessories_count": "462",
                    "Entertainment_count": "86",
                    "Date": "2018-05-31",
                    "Mens": "82"
                  },
                  {
                    "Womens": "56",
                    "Gaming": "12",
                    "Phone_and_GPS": "14",
                    "Kids": "2",
                    "Accessories_count": "141",
                    "Entertainment_count": "5",
                    "Date": "2017-11-02",
                    "Mens": "52"
                  },
                  {
                    "Womens": "8",
                    "Gaming": "55",
                    "Phone_and_GPS": "54",
                    "Kids": "30",
                    "Accessories_count": "208",
                    "Entertainment_count": "49",
                    "Date": "2016-06-13",
                    "Mens": "12"
                  },
                  {
                    "Womens": "17",
                    "Gaming": "79",
                    "Phone_and_GPS": "65",
                    "Kids": "18",
                    "Accessories_count": "264",
                    "Entertainment_count": "12",
                    "Date": "2016-06-28",
                    "Mens": "73"
                  },
                  {
                    "Womens": "31",
                    "Gaming": "40",
                    "Phone_and_GPS": "50",
                    "Kids": "3",
                    "Accessories_count": "227",
                    "Entertainment_count": "75",
                    "Date": "2020-09-16",
                    "Mens": "28"
                  },
                  {
                    "Womens": "39",
                    "Gaming": "90",
                    "Phone_and_GPS": "52",
                    "Kids": "65",
                    "Accessories_count": "358",
                    "Entertainment_count": "93",
                    "Date": "2018-04-28",
                    "Mens": "19"
                  },
                  {
                    "Womens": "29",
                    "Gaming": "77",
                    "Phone_and_GPS": "9",
                    "Kids": "74",
                    "Accessories_count": "214",
                    "Entertainment_count": "12",
                    "Date": "2017-09-24",
                    "Mens": "13"
                  },
                  {
                    "Womens": "89",
                    "Gaming": "21",
                    "Phone_and_GPS": "26",
                    "Kids": "82",
                    "Accessories_count": "342",
                    "Entertainment_count": "97",
                    "Date": "2016-03-18",
                    "Mens": "27"
                  },
                  {
                    "Womens": "67",
                    "Gaming": "3",
                    "Phone_and_GPS": "58",
                    "Kids": "29",
                    "Accessories_count": "202",
                    "Entertainment_count": "30",
                    "Date": "2018-04-13",
                    "Mens": "15"
                  },
                  {
                    "Womens": "81",
                    "Gaming": "8",
                    "Phone_and_GPS": "8",
                    "Kids": "75",
                    "Accessories_count": "267",
                    "Entertainment_count": "68",
                    "Date": "2015-12-07",
                    "Mens": "27"
                  },
                  {
                    "Womens": "55",
                    "Gaming": "26",
                    "Phone_and_GPS": "89",
                    "Kids": "48",
                    "Accessories_count": "319",
                    "Entertainment_count": "89",
                    "Date": "2018-07-09",
                    "Mens": "12"
                  },
                  {
                    "Womens": "28",
                    "Gaming": "99",
                    "Phone_and_GPS": "13",
                    "Kids": "16",
                    "Accessories_count": "246",
                    "Entertainment_count": "63",
                    "Date": "2020-04-19",
                    "Mens": "27"
                  },
                  {
                    "Womens": "94",
                    "Gaming": "62",
                    "Phone_and_GPS": "22",
                    "Kids": "17",
                    "Accessories_count": "220",
                    "Entertainment_count": "8",
                    "Date": "2015-05-15",
                    "Mens": "17"
                  },
                  {
                    "Womens": "53",
                    "Gaming": "54",
                    "Phone_and_GPS": "64",
                    "Kids": "0",
                    "Accessories_count": "241",
                    "Entertainment_count": "1",
                    "Date": "2020-03-12",
                    "Mens": "69"
                  },
                  {
                    "Womens": "39",
                    "Gaming": "55",
                    "Phone_and_GPS": "9",
                    "Kids": "7",
                    "Accessories_count": "140",
                    "Entertainment_count": "16",
                    "Date": "2015-12-06",
                    "Mens": "14"
                  },
                  {
                    "Womens": "21",
                    "Gaming": "76",
                    "Phone_and_GPS": "40",
                    "Kids": "67",
                    "Accessories_count": "277",
                    "Entertainment_count": "1",
                    "Date": "2020-04-14",
                    "Mens": "72"
                  },
                  {
                    "Womens": "90",
                    "Gaming": "99",
                    "Phone_and_GPS": "29",
                    "Kids": "73",
                    "Accessories_count": "346",
                    "Entertainment_count": "5",
                    "Date": "2015-03-10",
                    "Mens": "50"
                  },
                  {
                    "Womens": "15",
                    "Gaming": "2",
                    "Phone_and_GPS": "81",
                    "Kids": "29",
                    "Accessories_count": "304",
                    "Entertainment_count": "82",
                    "Date": "2017-03-17",
                    "Mens": "95"
                  },
                  {
                    "Womens": "31",
                    "Gaming": "68",
                    "Phone_and_GPS": "43",
                    "Kids": "93",
                    "Accessories_count": "324",
                    "Entertainment_count": "2",
                    "Date": "2017-09-16",
                    "Mens": "87"
                  },
                  {
                    "Womens": "61",
                    "Gaming": "31",
                    "Phone_and_GPS": "14",
                    "Kids": "94",
                    "Accessories_count": "328",
                    "Entertainment_count": "82",
                    "Date": "2016-01-18",
                    "Mens": "46"
                  },
                  {
                    "Womens": "86",
                    "Gaming": "55",
                    "Phone_and_GPS": "53",
                    "Kids": "33",
                    "Accessories_count": "300",
                    "Entertainment_count": "40",
                    "Date": "2019-10-11",
                    "Mens": "33"
                  },
                  {
                    "Womens": "82",
                    "Gaming": "47",
                    "Phone_and_GPS": "80",
                    "Kids": "82",
                    "Accessories_count": "349",
                    "Entertainment_count": "16",
                    "Date": "2017-01-15",
                    "Mens": "42"
                  },
                  {
                    "Womens": "97",
                    "Gaming": "96",
                    "Phone_and_GPS": "25",
                    "Kids": "33",
                    "Accessories_count": "276",
                    "Entertainment_count": "24",
                    "Date": "2018-06-11",
                    "Mens": "1"
                  },
                  {
                    "Womens": "36",
                    "Gaming": "15",
                    "Phone_and_GPS": "91",
                    "Kids": "76",
                    "Accessories_count": "362",
                    "Entertainment_count": "99",
                    "Date": "2019-10-31",
                    "Mens": "45"
                  },
                  {
                    "Womens": "67",
                    "Gaming": "93",
                    "Phone_and_GPS": "67",
                    "Kids": "16",
                    "Accessories_count": "368",
                    "Entertainment_count": "90",
                    "Date": "2015-01-18",
                    "Mens": "35"
                  },
                  {
                    "Womens": "87",
                    "Gaming": "17",
                    "Phone_and_GPS": "79",
                    "Kids": "7",
                    "Accessories_count": "353",
                    "Entertainment_count": "75",
                    "Date": "2020-12-29",
                    "Mens": "88"
                  },
                  {
                    "Womens": "70",
                    "Gaming": "57",
                    "Phone_and_GPS": "96",
                    "Kids": "38",
                    "Accessories_count": "381",
                    "Entertainment_count": "57",
                    "Date": "2019-04-17",
                    "Mens": "63"
                  },
                  {
                    "Womens": "43",
                    "Gaming": "23",
                    "Phone_and_GPS": "12",
                    "Kids": "61",
                    "Accessories_count": "246",
                    "Entertainment_count": "84",
                    "Date": "2019-05-06",
                    "Mens": "23"
                  },
                  {
                    "Womens": "69",
                    "Gaming": "69",
                    "Phone_and_GPS": "64",
                    "Kids": "29",
                    "Accessories_count": "319",
                    "Entertainment_count": "29",
                    "Date": "2020-11-27",
                    "Mens": "59"
                  },
                  {
                    "Womens": "38",
                    "Gaming": "86",
                    "Phone_and_GPS": "19",
                    "Kids": "81",
                    "Accessories_count": "324",
                    "Entertainment_count": "34",
                    "Date": "2015-01-30",
                    "Mens": "66"
                  },
                  {
                    "Womens": "55",
                    "Gaming": "90",
                    "Phone_and_GPS": "46",
                    "Kids": "8",
                    "Accessories_count": "304",
                    "Entertainment_count": "60",
                    "Date": "2019-12-04",
                    "Mens": "45"
                  },
                  {
                    "Womens": "95",
                    "Gaming": "75",
                    "Phone_and_GPS": "91",
                    "Kids": "30",
                    "Accessories_count": "412",
                    "Entertainment_count": "68",
                    "Date": "2017-03-08",
                    "Mens": "53"
                  },
                  {
                    "Womens": "45",
                    "Gaming": "8",
                    "Phone_and_GPS": "72",
                    "Kids": "48",
                    "Accessories_count": "274",
                    "Entertainment_count": "76",
                    "Date": "2018-11-02",
                    "Mens": "25"
                  },
                  {
                    "Womens": "79",
                    "Gaming": "92",
                    "Phone_and_GPS": "68",
                    "Kids": "66",
                    "Accessories_count": "337",
                    "Entertainment_count": "15",
                    "Date": "2015-04-28",
                    "Mens": "17"
                  },
                  {
                    "Womens": "7",
                    "Gaming": "37",
                    "Phone_and_GPS": "24",
                    "Kids": "90",
                    "Accessories_count": "259",
                    "Entertainment_count": "36",
                    "Date": "2019-11-03",
                    "Mens": "65"
                  },
                  {
                    "Womens": "3",
                    "Gaming": "29",
                    "Phone_and_GPS": "99",
                    "Kids": "44",
                    "Accessories_count": "264",
                    "Entertainment_count": "7",
                    "Date": "2015-07-06",
                    "Mens": "82"
                  },
                  {
                    "Womens": "35",
                    "Gaming": "74",
                    "Phone_and_GPS": "75",
                    "Kids": "97",
                    "Accessories_count": "327",
                    "Entertainment_count": "30",
                    "Date": "2019-11-05",
                    "Mens": "16"
                  },
                  {
                    "Womens": "74",
                    "Gaming": "45",
                    "Phone_and_GPS": "92",
                    "Kids": "97",
                    "Accessories_count": "356",
                    "Entertainment_count": "30",
                    "Date": "2015-08-06",
                    "Mens": "18"
                  },
                  {
                    "Womens": "65",
                    "Gaming": "7",
                    "Phone_and_GPS": "83",
                    "Kids": "57",
                    "Accessories_count": "244",
                    "Entertainment_count": "27",
                    "Date": "2020-07-24",
                    "Mens": "5"
                  },
                  {
                    "Womens": "25",
                    "Gaming": "27",
                    "Phone_and_GPS": "73",
                    "Kids": "53",
                    "Accessories_count": "246",
                    "Entertainment_count": "9",
                    "Date": "2015-07-22",
                    "Mens": "59"
                  },
                  {
                    "Womens": "36",
                    "Gaming": "51",
                    "Phone_and_GPS": "42",
                    "Kids": "55",
                    "Accessories_count": "318",
                    "Entertainment_count": "50",
                    "Date": "2017-04-28",
                    "Mens": "84"
                  },
                  {
                    "Womens": "52",
                    "Gaming": "35",
                    "Phone_and_GPS": "36",
                    "Kids": "67",
                    "Accessories_count": "259",
                    "Entertainment_count": "68",
                    "Date": "2020-03-28",
                    "Mens": "1"
                  },
                  {
                    "Womens": "13",
                    "Gaming": "7",
                    "Phone_and_GPS": "5",
                    "Kids": "16",
                    "Accessories_count": "135",
                    "Entertainment_count": "76",
                    "Date": "2019-07-11",
                    "Mens": "18"
                  },
                  {
                    "Womens": "93",
                    "Gaming": "26",
                    "Phone_and_GPS": "58",
                    "Kids": "18",
                    "Accessories_count": "274",
                    "Entertainment_count": "34",
                    "Date": "2016-07-19",
                    "Mens": "45"
                  },
                  {
                    "Womens": "21",
                    "Gaming": "75",
                    "Phone_and_GPS": "22",
                    "Kids": "47",
                    "Accessories_count": "261",
                    "Entertainment_count": "21",
                    "Date": "2017-02-06",
                    "Mens": "75"
                  },
                  {
                    "Womens": "85",
                    "Gaming": "41",
                    "Phone_and_GPS": "27",
                    "Kids": "48",
                    "Accessories_count": "316",
                    "Entertainment_count": "68",
                    "Date": "2015-03-29",
                    "Mens": "47"
                  },
                  {
                    "Womens": "80",
                    "Gaming": "52",
                    "Phone_and_GPS": "86",
                    "Kids": "6",
                    "Accessories_count": "347",
                    "Entertainment_count": "76",
                    "Date": "2016-01-28",
                    "Mens": "47"
                  },
                  {
                    "Womens": "69",
                    "Gaming": "95",
                    "Phone_and_GPS": "92",
                    "Kids": "99",
                    "Accessories_count": "478",
                    "Entertainment_count": "69",
                    "Date": "2015-02-01",
                    "Mens": "54"
                  },
                  {
                    "Womens": "17",
                    "Gaming": "90",
                    "Phone_and_GPS": "45",
                    "Kids": "45",
                    "Accessories_count": "201",
                    "Entertainment_count": "4",
                    "Date": "2019-02-03",
                    "Mens": "0"
                  },
                  {
                    "Womens": "28",
                    "Gaming": "44",
                    "Phone_and_GPS": "28",
                    "Kids": "81",
                    "Accessories_count": "297",
                    "Entertainment_count": "72",
                    "Date": "2019-05-16",
                    "Mens": "44"
                  },
                  {
                    "Womens": "5",
                    "Gaming": "2",
                    "Phone_and_GPS": "79",
                    "Kids": "75",
                    "Accessories_count": "231",
                    "Entertainment_count": "2",
                    "Date": "2018-09-05",
                    "Mens": "68"
                  },
                  {
                    "Womens": "49",
                    "Gaming": "75",
                    "Phone_and_GPS": "67",
                    "Kids": "4",
                    "Accessories_count": "264",
                    "Entertainment_count": "55",
                    "Date": "2019-04-08",
                    "Mens": "14"
                  },
                  {
                    "Womens": "49",
                    "Gaming": "42",
                    "Phone_and_GPS": "95",
                    "Kids": "74",
                    "Accessories_count": "332",
                    "Entertainment_count": "26",
                    "Date": "2020-01-21",
                    "Mens": "46"
                  },
                  {
                    "Womens": "73",
                    "Gaming": "33",
                    "Phone_and_GPS": "24",
                    "Kids": "23",
                    "Accessories_count": "224",
                    "Entertainment_count": "19",
                    "Date": "2018-12-12",
                    "Mens": "52"
                  },
                  {
                    "Womens": "46",
                    "Gaming": "12",
                    "Phone_and_GPS": "10",
                    "Kids": "25",
                    "Accessories_count": "136",
                    "Entertainment_count": "37",
                    "Date": "2020-04-20",
                    "Mens": "6"
                  },
                  {
                    "Womens": "36",
                    "Gaming": "82",
                    "Phone_and_GPS": "49",
                    "Kids": "91",
                    "Accessories_count": "363",
                    "Entertainment_count": "15",
                    "Date": "2015-05-04",
                    "Mens": "90"
                  },
                  {
                    "Womens": "50",
                    "Gaming": "54",
                    "Phone_and_GPS": "86",
                    "Kids": "6",
                    "Accessories_count": "209",
                    "Entertainment_count": "2",
                    "Date": "2019-01-27",
                    "Mens": "11"
                  },
                  {
                    "Womens": "4",
                    "Gaming": "9",
                    "Phone_and_GPS": "19",
                    "Kids": "42",
                    "Accessories_count": "164",
                    "Entertainment_count": "28",
                    "Date": "2015-02-16",
                    "Mens": "62"
                  },
                  {
                    "Womens": "23",
                    "Gaming": "84",
                    "Phone_and_GPS": "41",
                    "Kids": "25",
                    "Accessories_count": "246",
                    "Entertainment_count": "39",
                    "Date": "2017-11-10",
                    "Mens": "34"
                  },
                  {
                    "Womens": "88",
                    "Gaming": "4",
                    "Phone_and_GPS": "64",
                    "Kids": "40",
                    "Accessories_count": "291",
                    "Entertainment_count": "68",
                    "Date": "2017-10-22",
                    "Mens": "27"
                  },
                  {
                    "Womens": "48",
                    "Gaming": "64",
                    "Phone_and_GPS": "65",
                    "Kids": "71",
                    "Accessories_count": "376",
                    "Entertainment_count": "56",
                    "Date": "2019-11-24",
                    "Mens": "72"
                  },
                  {
                    "Womens": "45",
                    "Gaming": "64",
                    "Phone_and_GPS": "75",
                    "Kids": "41",
                    "Accessories_count": "302",
                    "Entertainment_count": "70",
                    "Date": "2015-01-22",
                    "Mens": "7"
                  },
                  {
                    "Womens": "23",
                    "Gaming": "72",
                    "Phone_and_GPS": "4",
                    "Kids": "90",
                    "Accessories_count": "274",
                    "Entertainment_count": "10",
                    "Date": "2016-06-29",
                    "Mens": "75"
                  },
                  {
                    "Womens": "17",
                    "Gaming": "68",
                    "Phone_and_GPS": "50",
                    "Kids": "19",
                    "Accessories_count": "321",
                    "Entertainment_count": "83",
                    "Date": "2020-09-13",
                    "Mens": "84"
                  },
                  {
                    "Womens": "97",
                    "Gaming": "45",
                    "Phone_and_GPS": "28",
                    "Kids": "46",
                    "Accessories_count": "331",
                    "Entertainment_count": "83",
                    "Date": "2018-09-29",
                    "Mens": "32"
                  },
                  {
                    "Womens": "12",
                    "Gaming": "0",
                    "Phone_and_GPS": "48",
                    "Kids": "39",
                    "Accessories_count": "202",
                    "Entertainment_count": "63",
                    "Date": "2019-05-10",
                    "Mens": "40"
                  },
                  {
                    "Womens": "36",
                    "Gaming": "27",
                    "Phone_and_GPS": "93",
                    "Kids": "13",
                    "Accessories_count": "312",
                    "Entertainment_count": "63",
                    "Date": "2016-09-24",
                    "Mens": "80"
                  },
                  {
                    "Womens": "85",
                    "Gaming": "77",
                    "Phone_and_GPS": "14",
                    "Kids": "6",
                    "Accessories_count": "257",
                    "Entertainment_count": "41",
                    "Date": "2020-10-31",
                    "Mens": "34"
                  },
                  {
                    "Womens": "70",
                    "Gaming": "37",
                    "Phone_and_GPS": "15",
                    "Kids": "17",
                    "Accessories_count": "269",
                    "Entertainment_count": "88",
                    "Date": "2016-06-24",
                    "Mens": "42"
                  },
                  {
                    "Womens": "94",
                    "Gaming": "73",
                    "Phone_and_GPS": "45",
                    "Kids": "49",
                    "Accessories_count": "360",
                    "Entertainment_count": "35",
                    "Date": "2016-05-20",
                    "Mens": "64"
                  },
                  {
                    "Womens": "56",
                    "Gaming": "51",
                    "Phone_and_GPS": "78",
                    "Kids": "97",
                    "Accessories_count": "344",
                    "Entertainment_count": "14",
                    "Date": "2019-08-29",
                    "Mens": "48"
                  },
                  {
                    "Womens": "31",
                    "Gaming": "6",
                    "Phone_and_GPS": "58",
                    "Kids": "0",
                    "Accessories_count": "155",
                    "Entertainment_count": "25",
                    "Date": "2018-04-03",
                    "Mens": "35"
                  },
                  {
                    "Womens": "17",
                    "Gaming": "14",
                    "Phone_and_GPS": "76",
                    "Kids": "43",
                    "Accessories_count": "285",
                    "Entertainment_count": "63",
                    "Date": "2018-09-20",
                    "Mens": "72"
                  },
                  {
                    "Womens": "47",
                    "Gaming": "79",
                    "Phone_and_GPS": "31",
                    "Kids": "2",
                    "Accessories_count": "248",
                    "Entertainment_count": "86",
                    "Date": "2016-11-30",
                    "Mens": "3"
                  },
                  {
                    "Womens": "84",
                    "Gaming": "69",
                    "Phone_and_GPS": "59",
                    "Kids": "7",
                    "Accessories_count": "331",
                    "Entertainment_count": "42",
                    "Date": "2018-12-28",
                    "Mens": "70"
                  },
                  {
                    "Womens": "65",
                    "Gaming": "70",
                    "Phone_and_GPS": "40",
                    "Kids": "44",
                    "Accessories_count": "310",
                    "Entertainment_count": "85",
                    "Date": "2019-01-22",
                    "Mens": "6"
                  },
                  {
                    "Womens": "31",
                    "Gaming": "84",
                    "Phone_and_GPS": "2",
                    "Kids": "2",
                    "Accessories_count": "168",
                    "Entertainment_count": "7",
                    "Date": "2015-01-12",
                    "Mens": "42"
                  },
                  {
                    "Womens": "5",
                    "Gaming": "78",
                    "Phone_and_GPS": "33",
                    "Kids": "46",
                    "Accessories_count": "270",
                    "Entertainment_count": "98",
                    "Date": "2019-07-24",
                    "Mens": "10"
                  },
                  {
                    "Womens": "48",
                    "Gaming": "74",
                    "Phone_and_GPS": "78",
                    "Kids": "25",
                    "Accessories_count": "312",
                    "Entertainment_count": "50",
                    "Date": "2019-05-20",
                    "Mens": "37"
                  },
                  {
                    "Womens": "71",
                    "Gaming": "91",
                    "Phone_and_GPS": "35",
                    "Kids": "89",
                    "Accessories_count": "421",
                    "Entertainment_count": "82",
                    "Date": "2018-07-01",
                    "Mens": "53"
                  },
                  {
                    "Womens": "49",
                    "Gaming": "38",
                    "Phone_and_GPS": "40",
                    "Kids": "46",
                    "Accessories_count": "317",
                    "Entertainment_count": "88",
                    "Date": "2019-04-30",
                    "Mens": "56"
                  },
                  {
                    "Womens": "33",
                    "Gaming": "17",
                    "Phone_and_GPS": "47",
                    "Kids": "81",
                    "Accessories_count": "272",
                    "Entertainment_count": "66",
                    "Date": "2017-07-30",
                    "Mens": "28"
                  },
                  {
                    "Womens": "95",
                    "Gaming": "71",
                    "Phone_and_GPS": "69",
                    "Kids": "61",
                    "Accessories_count": "373",
                    "Entertainment_count": "77",
                    "Date": "2020-02-21",
                    "Mens": "0"
                  },
                  {
                    "Womens": "83",
                    "Gaming": "34",
                    "Phone_and_GPS": "26",
                    "Kids": "43",
                    "Accessories_count": "239",
                    "Entertainment_count": "39",
                    "Date": "2019-03-19",
                    "Mens": "14"
                  },
                  {
                    "Womens": "11",
                    "Gaming": "20",
                    "Phone_and_GPS": "14",
                    "Kids": "67",
                    "Accessories_count": "280",
                    "Entertainment_count": "74",
                    "Date": "2018-08-11",
                    "Mens": "94"
                  },
                  {
                    "Womens": "18",
                    "Gaming": "28",
                    "Phone_and_GPS": "47",
                    "Kids": "14",
                    "Accessories_count": "283",
                    "Entertainment_count": "99",
                    "Date": "2015-10-31",
                    "Mens": "77"
                  },
                  {
                    "Womens": "60",
                    "Gaming": "73",
                    "Phone_and_GPS": "50",
                    "Kids": "29",
                    "Accessories_count": "391",
                    "Entertainment_count": "99",
                    "Date": "2016-07-29",
                    "Mens": "80"
                  },
                  {
                    "Womens": "94",
                    "Gaming": "75",
                    "Phone_and_GPS": "82",
                    "Kids": "10",
                    "Accessories_count": "350",
                    "Entertainment_count": "86",
                    "Date": "2017-04-23",
                    "Mens": "3"
                  },
                  {
                    "Womens": "14",
                    "Gaming": "24",
                    "Phone_and_GPS": "74",
                    "Kids": "68",
                    "Accessories_count": "311",
                    "Entertainment_count": "36",
                    "Date": "2018-09-03",
                    "Mens": "95"
                  },
                  {
                    "Womens": "41",
                    "Gaming": "46",
                    "Phone_and_GPS": "96",
                    "Kids": "68",
                    "Accessories_count": "344",
                    "Entertainment_count": "9",
                    "Date": "2018-07-21",
                    "Mens": "84"
                  },
                  {
                    "Womens": "90",
                    "Gaming": "55",
                    "Phone_and_GPS": "4",
                    "Kids": "74",
                    "Accessories_count": "321",
                    "Entertainment_count": "65",
                    "Date": "2016-05-01",
                    "Mens": "33"
                  },
                  {
                    "Womens": "11",
                    "Gaming": "75",
                    "Phone_and_GPS": "18",
                    "Kids": "63",
                    "Accessories_count": "235",
                    "Entertainment_count": "23",
                    "Date": "2017-12-04",
                    "Mens": "45"
                  },
                  {
                    "Womens": "64",
                    "Gaming": "99",
                    "Phone_and_GPS": "67",
                    "Kids": "68",
                    "Accessories_count": "402",
                    "Entertainment_count": "25",
                    "Date": "2019-09-13",
                    "Mens": "79"
                  },
                  {
                    "Womens": "3",
                    "Gaming": "31",
                    "Phone_and_GPS": "56",
                    "Kids": "11",
                    "Accessories_count": "245",
                    "Entertainment_count": "65",
                    "Date": "2015-04-28",
                    "Mens": "79"
                  },
                  {
                    "Womens": "95",
                    "Gaming": "65",
                    "Phone_and_GPS": "43",
                    "Kids": "11",
                    "Accessories_count": "295",
                    "Entertainment_count": "81",
                    "Date": "2016-09-01",
                    "Mens": "0"
                  },
                  {
                    "Womens": "93",
                    "Gaming": "64",
                    "Phone_and_GPS": "45",
                    "Kids": "77",
                    "Accessories_count": "388",
                    "Entertainment_count": "87",
                    "Date": "2016-06-01",
                    "Mens": "22"
                  },
                  {
                    "Womens": "98",
                    "Gaming": "99",
                    "Phone_and_GPS": "62",
                    "Kids": "73",
                    "Accessories_count": "404",
                    "Entertainment_count": "64",
                    "Date": "2015-12-09",
                    "Mens": "8"
                  },
                  {
                    "Womens": "10",
                    "Gaming": "88",
                    "Phone_and_GPS": "58",
                    "Kids": "30",
                    "Accessories_count": "300",
                    "Entertainment_count": "74",
                    "Date": "2016-10-20",
                    "Mens": "40"
                  },
                  {
                    "Womens": "29",
                    "Gaming": "8",
                    "Phone_and_GPS": "86",
                    "Kids": "97",
                    "Accessories_count": "357",
                    "Entertainment_count": "86",
                    "Date": "2016-11-07",
                    "Mens": "51"
                  },
                  {
                    "Womens": "28",
                    "Gaming": "56",
                    "Phone_and_GPS": "2",
                    "Kids": "25",
                    "Accessories_count": "258",
                    "Entertainment_count": "52",
                    "Date": "2017-10-11",
                    "Mens": "95"
                  },
                  {
                    "Womens": "58",
                    "Gaming": "42",
                    "Phone_and_GPS": "18",
                    "Kids": "46",
                    "Accessories_count": "254",
                    "Entertainment_count": "51",
                    "Date": "2016-07-01",
                    "Mens": "39"
                  },
                  {
                    "Womens": "28",
                    "Gaming": "17",
                    "Phone_and_GPS": "15",
                    "Kids": "97",
                    "Accessories_count": "225",
                    "Entertainment_count": "23",
                    "Date": "2020-11-09",
                    "Mens": "45"
                  },
                  {
                    "Womens": "25",
                    "Gaming": "59",
                    "Phone_and_GPS": "54",
                    "Kids": "93",
                    "Accessories_count": "370",
                    "Entertainment_count": "43",
                    "Date": "2018-04-13",
                    "Mens": "96"
                  },
                  {
                    "Womens": "52",
                    "Gaming": "59",
                    "Phone_and_GPS": "78",
                    "Kids": "54",
                    "Accessories_count": "366",
                    "Entertainment_count": "59",
                    "Date": "2019-10-01",
                    "Mens": "64"
                  },
                  {
                    "Womens": "52",
                    "Gaming": "26",
                    "Phone_and_GPS": "78",
                    "Kids": "42",
                    "Accessories_count": "298",
                    "Entertainment_count": "56",
                    "Date": "2015-12-12",
                    "Mens": "44"
                  },
                  {
                    "Womens": "73",
                    "Gaming": "70",
                    "Phone_and_GPS": "59",
                    "Kids": "2",
                    "Accessories_count": "298",
                    "Entertainment_count": "71",
                    "Date": "2020-09-15",
                    "Mens": "23"
                  },
                  {
                    "Womens": "77",
                    "Gaming": "95",
                    "Phone_and_GPS": "21",
                    "Kids": "89",
                    "Accessories_count": "348",
                    "Entertainment_count": "29",
                    "Date": "2018-10-18",
                    "Mens": "37"
                  },
                  {
                    "Womens": "36",
                    "Gaming": "6",
                    "Phone_and_GPS": "71",
                    "Kids": "59",
                    "Accessories_count": "275",
                    "Entertainment_count": "9",
                    "Date": "2020-01-09",
                    "Mens": "94"
                  },
                  {
                    "Womens": "14",
                    "Gaming": "56",
                    "Phone_and_GPS": "42",
                    "Kids": "34",
                    "Accessories_count": "165",
                    "Entertainment_count": "12",
                    "Date": "2019-03-19",
                    "Mens": "7"
                  },
                  {
                    "Womens": "63",
                    "Gaming": "27",
                    "Phone_and_GPS": "8",
                    "Kids": "59",
                    "Accessories_count": "335",
                    "Entertainment_count": "79",
                    "Date": "2020-01-09",
                    "Mens": "99"
                  },
                  {
                    "Womens": "24",
                    "Gaming": "87",
                    "Phone_and_GPS": "45",
                    "Kids": "15",
                    "Accessories_count": "222",
                    "Entertainment_count": "15",
                    "Date": "2018-08-08",
                    "Mens": "36"
                  },
                  {
                    "Womens": "82",
                    "Gaming": "65",
                    "Phone_and_GPS": "82",
                    "Kids": "31",
                    "Accessories_count": "329",
                    "Entertainment_count": "20",
                    "Date": "2015-04-05",
                    "Mens": "49"
                  },
                  {
                    "Womens": "64",
                    "Gaming": "1",
                    "Phone_and_GPS": "97",
                    "Kids": "25",
                    "Accessories_count": "262",
                    "Entertainment_count": "0",
                    "Date": "2020-03-27",
                    "Mens": "75"
                  },
                  {
                    "Womens": "47",
                    "Gaming": "12",
                    "Phone_and_GPS": "75",
                    "Kids": "42",
                    "Accessories_count": "337",
                    "Entertainment_count": "91",
                    "Date": "2016-01-06",
                    "Mens": "70"
                  },
                  {
                    "Womens": "84",
                    "Gaming": "1",
                    "Phone_and_GPS": "48",
                    "Kids": "85",
                    "Accessories_count": "320",
                    "Entertainment_count": "84",
                    "Date": "2016-08-05",
                    "Mens": "18"
                  },
                  {
                    "Womens": "83",
                    "Gaming": "92",
                    "Phone_and_GPS": "15",
                    "Kids": "63",
                    "Accessories_count": "293",
                    "Entertainment_count": "30",
                    "Date": "2018-01-31",
                    "Mens": "10"
                  },
                  {
                    "Womens": "97",
                    "Gaming": "3",
                    "Phone_and_GPS": "54",
                    "Kids": "22",
                    "Accessories_count": "320",
                    "Entertainment_count": "91",
                    "Date": "2020-06-24",
                    "Mens": "53"
                  },
                  {
                    "Womens": "85",
                    "Gaming": "14",
                    "Phone_and_GPS": "34",
                    "Kids": "5",
                    "Accessories_count": "252",
                    "Entertainment_count": "38",
                    "Date": "2020-03-31",
                    "Mens": "76"
                  },
                  {
                    "Womens": "36",
                    "Gaming": "44",
                    "Phone_and_GPS": "31",
                    "Kids": "53",
                    "Accessories_count": "276",
                    "Entertainment_count": "22",
                    "Date": "2020-07-29",
                    "Mens": "90"
                  },
                  {
                    "Womens": "75",
                    "Gaming": "51",
                    "Phone_and_GPS": "21",
                    "Kids": "53",
                    "Accessories_count": "317",
                    "Entertainment_count": "32",
                    "Date": "2017-05-24",
                    "Mens": "85"
                  },
                  {
                    "Womens": "51",
                    "Gaming": "72",
                    "Phone_and_GPS": "56",
                    "Kids": "15",
                    "Accessories_count": "253",
                    "Entertainment_count": "40",
                    "Date": "2017-09-13",
                    "Mens": "19"
                  },
                  {
                    "Womens": "89",
                    "Gaming": "14",
                    "Phone_and_GPS": "49",
                    "Kids": "36",
                    "Accessories_count": "362",
                    "Entertainment_count": "92",
                    "Date": "2015-05-27",
                    "Mens": "82"
                  },
                  {
                    "Womens": "90",
                    "Gaming": "75",
                    "Phone_and_GPS": "81",
                    "Kids": "47",
                    "Accessories_count": "371",
                    "Entertainment_count": "3",
                    "Date": "2019-10-30",
                    "Mens": "75"
                  },
                  {
                    "Womens": "25",
                    "Gaming": "96",
                    "Phone_and_GPS": "16",
                    "Kids": "63",
                    "Accessories_count": "231",
                    "Entertainment_count": "15",
                    "Date": "2017-07-12",
                    "Mens": "16"
                  },
                  {
                    "Womens": "17",
                    "Gaming": "95",
                    "Phone_and_GPS": "48",
                    "Kids": "36",
                    "Accessories_count": "293",
                    "Entertainment_count": "24",
                    "Date": "2016-08-23",
                    "Mens": "73"
                  },
                  {
                    "Womens": "91",
                    "Gaming": "99",
                    "Phone_and_GPS": "5",
                    "Kids": "0",
                    "Accessories_count": "351",
                    "Entertainment_count": "91",
                    "Date": "2016-05-24",
                    "Mens": "65"
                  },
                  {
                    "Womens": "78",
                    "Gaming": "27",
                    "Phone_and_GPS": "60",
                    "Kids": "68",
                    "Accessories_count": "345",
                    "Entertainment_count": "33",
                    "Date": "2018-09-06",
                    "Mens": "79"
                  },
                  {
                    "Womens": "53",
                    "Gaming": "6",
                    "Phone_and_GPS": "50",
                    "Kids": "64",
                    "Accessories_count": "210",
                    "Entertainment_count": "18",
                    "Date": "2020-08-09",
                    "Mens": "19"
                  },
                  {
                    "Womens": "36",
                    "Gaming": "52",
                    "Phone_and_GPS": "34",
                    "Kids": "78",
                    "Accessories_count": "294",
                    "Entertainment_count": "67",
                    "Date": "2016-12-26",
                    "Mens": "27"
                  },
                  {
                    "Womens": "46",
                    "Gaming": "8",
                    "Phone_and_GPS": "42",
                    "Kids": "39",
                    "Accessories_count": "168",
                    "Entertainment_count": "20",
                    "Date": "2018-11-11",
                    "Mens": "13"
                  },
                  {
                    "Womens": "51",
                    "Gaming": "20",
                    "Phone_and_GPS": "64",
                    "Kids": "20",
                    "Accessories_count": "230",
                    "Entertainment_count": "15",
                    "Date": "2020-12-13",
                    "Mens": "60"
                  },
                  {
                    "Womens": "18",
                    "Gaming": "63",
                    "Phone_and_GPS": "14",
                    "Kids": "23",
                    "Accessories_count": "218",
                    "Entertainment_count": "17",
                    "Date": "2019-07-16",
                    "Mens": "83"
                  },
                  {
                    "Womens": "55",
                    "Gaming": "36",
                    "Phone_and_GPS": "78",
                    "Kids": "64",
                    "Accessories_count": "382",
                    "Entertainment_count": "60",
                    "Date": "2015-04-29",
                    "Mens": "89"
                  },
                  {
                    "Womens": "87",
                    "Gaming": "48",
                    "Phone_and_GPS": "58",
                    "Kids": "90",
                    "Accessories_count": "359",
                    "Entertainment_count": "28",
                    "Date": "2018-11-20",
                    "Mens": "48"
                  },
                  {
                    "Womens": "49",
                    "Gaming": "45",
                    "Phone_and_GPS": "50",
                    "Kids": "67",
                    "Accessories_count": "306",
                    "Entertainment_count": "82",
                    "Date": "2018-12-02",
                    "Mens": "13"
                  },
                  {
                    "Womens": "26",
                    "Gaming": "52",
                    "Phone_and_GPS": "59",
                    "Kids": "46",
                    "Accessories_count": "281",
                    "Entertainment_count": "31",
                    "Date": "2015-03-22",
                    "Mens": "67"
                  },
                  {
                    "Womens": "37",
                    "Gaming": "30",
                    "Phone_and_GPS": "98",
                    "Kids": "82",
                    "Accessories_count": "351",
                    "Entertainment_count": "81",
                    "Date": "2019-12-03",
                    "Mens": "23"
                  },
                  {
                    "Womens": "18",
                    "Gaming": "23",
                    "Phone_and_GPS": "78",
                    "Kids": "31",
                    "Accessories_count": "193",
                    "Entertainment_count": "39",
                    "Date": "2016-09-28",
                    "Mens": "4"
                  },
                  {
                    "Womens": "50",
                    "Gaming": "18",
                    "Phone_and_GPS": "22",
                    "Kids": "55",
                    "Accessories_count": "184",
                    "Entertainment_count": "16",
                    "Date": "2018-05-12",
                    "Mens": "23"
                  },
                  {
                    "Womens": "88",
                    "Gaming": "27",
                    "Phone_and_GPS": "94",
                    "Kids": "31",
                    "Accessories_count": "332",
                    "Entertainment_count": "63",
                    "Date": "2020-01-02",
                    "Mens": "29"
                  },
                  {
                    "Womens": "95",
                    "Gaming": "50",
                    "Phone_and_GPS": "87",
                    "Kids": "96",
                    "Accessories_count": "406",
                    "Entertainment_count": "48",
                    "Date": "2018-01-21",
                    "Mens": "30"
                  },
                  {
                    "Womens": "6",
                    "Gaming": "47",
                    "Phone_and_GPS": "85",
                    "Kids": "63",
                    "Accessories_count": "324",
                    "Entertainment_count": "50",
                    "Date": "2015-09-08",
                    "Mens": "73"
                  },
                  {
                    "Womens": "53",
                    "Gaming": "16",
                    "Phone_and_GPS": "36",
                    "Kids": "16",
                    "Accessories_count": "267",
                    "Entertainment_count": "95",
                    "Date": "2020-11-19",
                    "Mens": "51"
                  },
                  {
                    "Womens": "23",
                    "Gaming": "38",
                    "Phone_and_GPS": "79",
                    "Kids": "34",
                    "Accessories_count": "252",
                    "Entertainment_count": "9",
                    "Date": "2018-04-14",
                    "Mens": "69"
                  },
                  {
                    "Womens": "52",
                    "Gaming": "92",
                    "Phone_and_GPS": "84",
                    "Kids": "57",
                    "Accessories_count": "338",
                    "Entertainment_count": "40",
                    "Date": "2020-12-26",
                    "Mens": "13"
                  },
                  {
                    "Womens": "84",
                    "Gaming": "71",
                    "Phone_and_GPS": "57",
                    "Kids": "97",
                    "Accessories_count": "404",
                    "Entertainment_count": "72",
                    "Date": "2018-08-25",
                    "Mens": "23"
                  },
                  {
                    "Womens": "90",
                    "Gaming": "64",
                    "Phone_and_GPS": "22",
                    "Kids": "42",
                    "Accessories_count": "331",
                    "Entertainment_count": "75",
                    "Date": "2015-01-16",
                    "Mens": "38"
                  },
                  {
                    "Womens": "18",
                    "Gaming": "5",
                    "Phone_and_GPS": "25",
                    "Kids": "73",
                    "Accessories_count": "230",
                    "Entertainment_count": "50",
                    "Date": "2020-01-24",
                    "Mens": "59"
                  },
                  {
                    "Womens": "67",
                    "Gaming": "66",
                    "Phone_and_GPS": "4",
                    "Kids": "92",
                    "Accessories_count": "346",
                    "Entertainment_count": "24",
                    "Date": "2020-05-17",
                    "Mens": "93"
                  },
                  {
                    "Womens": "14",
                    "Gaming": "54",
                    "Phone_and_GPS": "49",
                    "Kids": "47",
                    "Accessories_count": "220",
                    "Entertainment_count": "5",
                    "Date": "2017-12-25",
                    "Mens": "51"
                  },
                  {
                    "Womens": "83",
                    "Gaming": "99",
                    "Phone_and_GPS": "98",
                    "Kids": "53",
                    "Accessories_count": "415",
                    "Entertainment_count": "71",
                    "Date": "2015-05-03",
                    "Mens": "11"
                  },
                  {
                    "Womens": "4",
                    "Gaming": "75",
                    "Phone_and_GPS": "47",
                    "Kids": "48",
                    "Accessories_count": "255",
                    "Entertainment_count": "21",
                    "Date": "2017-03-20",
                    "Mens": "60"
                  },
                  {
                    "Womens": "44",
                    "Gaming": "5",
                    "Phone_and_GPS": "83",
                    "Kids": "58",
                    "Accessories_count": "361",
                    "Entertainment_count": "99",
                    "Date": "2017-10-03",
                    "Mens": "72"
                  },
                  {
                    "Womens": "0",
                    "Gaming": "6",
                    "Phone_and_GPS": "97",
                    "Kids": "77",
                    "Accessories_count": "285",
                    "Entertainment_count": "58",
                    "Date": "2015-06-04",
                    "Mens": "47"
                  },
                  {
                    "Womens": "77",
                    "Gaming": "4",
                    "Phone_and_GPS": "77",
                    "Kids": "83",
                    "Accessories_count": "348",
                    "Entertainment_count": "67",
                    "Date": "2016-07-23",
                    "Mens": "40"
                  },
                  {
                    "Womens": "98",
                    "Gaming": "46",
                    "Phone_and_GPS": "89",
                    "Kids": "19",
                    "Accessories_count": "306",
                    "Entertainment_count": "44",
                    "Date": "2015-01-07",
                    "Mens": "10"
                  },
                  {
                    "Womens": "3",
                    "Gaming": "97",
                    "Phone_and_GPS": "85",
                    "Kids": "77",
                    "Accessories_count": "318",
                    "Entertainment_count": "55",
                    "Date": "2017-10-23",
                    "Mens": "1"
                  },
                  {
                    "Womens": "94",
                    "Gaming": "10",
                    "Phone_and_GPS": "12",
                    "Kids": "75",
                    "Accessories_count": "363",
                    "Entertainment_count": "99",
                    "Date": "2019-06-15",
                    "Mens": "73"
                  },
                  {
                    "Womens": "69",
                    "Gaming": "94",
                    "Phone_and_GPS": "3",
                    "Kids": "43",
                    "Accessories_count": "249",
                    "Entertainment_count": "20",
                    "Date": "2016-02-15",
                    "Mens": "20"
                  },
                  {
                    "Womens": "49",
                    "Gaming": "65",
                    "Phone_and_GPS": "79",
                    "Kids": "76",
                    "Accessories_count": "348",
                    "Entertainment_count": "74",
                    "Date": "2019-02-14",
                    "Mens": "5"
                  },
                  {
                    "Womens": "38",
                    "Gaming": "92",
                    "Phone_and_GPS": "85",
                    "Kids": "79",
                    "Accessories_count": "444",
                    "Entertainment_count": "66",
                    "Date": "2020-08-05",
                    "Mens": "84"
                  },
                  {
                    "Womens": "53",
                    "Gaming": "67",
                    "Phone_and_GPS": "89",
                    "Kids": "9",
                    "Accessories_count": "339",
                    "Entertainment_count": "37",
                    "Date": "2018-09-29",
                    "Mens": "84"
                  },
                  {
                    "Womens": "27",
                    "Gaming": "5",
                    "Phone_and_GPS": "42",
                    "Kids": "71",
                    "Accessories_count": "319",
                    "Entertainment_count": "91",
                    "Date": "2016-11-17",
                    "Mens": "83"
                  },
                  {
                    "Womens": "52",
                    "Gaming": "28",
                    "Phone_and_GPS": "95",
                    "Kids": "73",
                    "Accessories_count": "344",
                    "Entertainment_count": "12",
                    "Date": "2018-06-23",
                    "Mens": "84"
                  },
                  {
                    "Womens": "98",
                    "Gaming": "13",
                    "Phone_and_GPS": "61",
                    "Kids": "65",
                    "Accessories_count": "379",
                    "Entertainment_count": "99",
                    "Date": "2019-03-25",
                    "Mens": "43"
                  },
                  {
                    "Womens": "24",
                    "Gaming": "26",
                    "Phone_and_GPS": "56",
                    "Kids": "54",
                    "Accessories_count": "269",
                    "Entertainment_count": "89",
                    "Date": "2017-10-08",
                    "Mens": "20"
                  },
                  {
                    "Womens": "19",
                    "Gaming": "43",
                    "Phone_and_GPS": "6",
                    "Kids": "55",
                    "Accessories_count": "162",
                    "Entertainment_count": "30",
                    "Date": "2019-03-16",
                    "Mens": "9"
                  },
                  {
                    "Womens": "68",
                    "Gaming": "65",
                    "Phone_and_GPS": "39",
                    "Kids": "14",
                    "Accessories_count": "315",
                    "Entertainment_count": "99",
                    "Date": "2015-01-07",
                    "Mens": "30"
                  },
                  {
                    "Womens": "24",
                    "Gaming": "75",
                    "Phone_and_GPS": "4",
                    "Kids": "0",
                    "Accessories_count": "111",
                    "Entertainment_count": "5",
                    "Date": "2017-01-18",
                    "Mens": "3"
                  },
                  {
                    "Womens": "32",
                    "Gaming": "69",
                    "Phone_and_GPS": "92",
                    "Kids": "14",
                    "Accessories_count": "314",
                    "Entertainment_count": "30",
                    "Date": "2016-11-22",
                    "Mens": "77"
                  },
                  {
                    "Womens": "56",
                    "Gaming": "10",
                    "Phone_and_GPS": "21",
                    "Kids": "33",
                    "Accessories_count": "136",
                    "Entertainment_count": "7",
                    "Date": "2020-08-04",
                    "Mens": "9"
                  },
                  {
                    "Womens": "7",
                    "Gaming": "69",
                    "Phone_and_GPS": "39",
                    "Kids": "11",
                    "Accessories_count": "251",
                    "Entertainment_count": "96",
                    "Date": "2019-10-12",
                    "Mens": "29"
                  },
                  {
                    "Womens": "8",
                    "Gaming": "5",
                    "Phone_and_GPS": "23",
                    "Kids": "5",
                    "Accessories_count": "62",
                    "Entertainment_count": "11",
                    "Date": "2017-10-23",
                    "Mens": "10"
                  },
                  {
                    "Womens": "4",
                    "Gaming": "6",
                    "Phone_and_GPS": "2",
                    "Kids": "58",
                    "Accessories_count": "86",
                    "Entertainment_count": "13",
                    "Date": "2018-01-18",
                    "Mens": "3"
                  },
                  {
                    "Womens": "99",
                    "Gaming": "87",
                    "Phone_and_GPS": "92",
                    "Kids": "22",
                    "Accessories_count": "358",
                    "Entertainment_count": "50",
                    "Date": "2016-10-18",
                    "Mens": "8"
                  },
                  {
                    "Womens": "4",
                    "Gaming": "46",
                    "Phone_and_GPS": "18",
                    "Kids": "26",
                    "Accessories_count": "148",
                    "Entertainment_count": "18",
                    "Date": "2019-09-30",
                    "Mens": "36"
                  },
                  {
                    "Womens": "47",
                    "Gaming": "7",
                    "Phone_and_GPS": "34",
                    "Kids": "15",
                    "Accessories_count": "125",
                    "Entertainment_count": "3",
                    "Date": "2017-09-25",
                    "Mens": "19"
                  },
                  {
                    "Womens": "4",
                    "Gaming": "83",
                    "Phone_and_GPS": "72",
                    "Kids": "23",
                    "Accessories_count": "308",
                    "Entertainment_count": "95",
                    "Date": "2016-01-06",
                    "Mens": "31"
                  },
                  {
                    "Womens": "38",
                    "Gaming": "66",
                    "Phone_and_GPS": "72",
                    "Kids": "49",
                    "Accessories_count": "264",
                    "Entertainment_count": "20",
                    "Date": "2019-08-22",
                    "Mens": "19"
                  },
                  {
                    "Womens": "74",
                    "Gaming": "98",
                    "Phone_and_GPS": "94",
                    "Kids": "80",
                    "Accessories_count": "479",
                    "Entertainment_count": "59",
                    "Date": "2018-08-28",
                    "Mens": "74"
                  },
                  {
                    "Womens": "13",
                    "Gaming": "89",
                    "Phone_and_GPS": "4",
                    "Kids": "90",
                    "Accessories_count": "331",
                    "Entertainment_count": "86",
                    "Date": "2015-12-23",
                    "Mens": "49"
                  },
                  {
                    "Womens": "43",
                    "Gaming": "76",
                    "Phone_and_GPS": "80",
                    "Kids": "50",
                    "Accessories_count": "307",
                    "Entertainment_count": "18",
                    "Date": "2018-02-06",
                    "Mens": "40"
                  },
                  {
                    "Womens": "75",
                    "Gaming": "72",
                    "Phone_and_GPS": "82",
                    "Kids": "39",
                    "Accessories_count": "393",
                    "Entertainment_count": "35",
                    "Date": "2017-05-07",
                    "Mens": "90"
                  },
                  {
                    "Womens": "78",
                    "Gaming": "88",
                    "Phone_and_GPS": "9",
                    "Kids": "71",
                    "Accessories_count": "315",
                    "Entertainment_count": "55",
                    "Date": "2017-04-03",
                    "Mens": "14"
                  },
                  {
                    "Womens": "48",
                    "Gaming": "44",
                    "Phone_and_GPS": "89",
                    "Kids": "22",
                    "Accessories_count": "295",
                    "Entertainment_count": "45",
                    "Date": "2018-12-20",
                    "Mens": "47"
                  },
                  {
                    "Womens": "48",
                    "Gaming": "76",
                    "Phone_and_GPS": "60",
                    "Kids": "72",
                    "Accessories_count": "389",
                    "Entertainment_count": "82",
                    "Date": "2017-03-15",
                    "Mens": "51"
                  },
                  {
                    "Womens": "19",
                    "Gaming": "94",
                    "Phone_and_GPS": "66",
                    "Kids": "33",
                    "Accessories_count": "325",
                    "Entertainment_count": "72",
                    "Date": "2015-08-23",
                    "Mens": "41"
                  },
                  {
                    "Womens": "62",
                    "Gaming": "61",
                    "Phone_and_GPS": "25",
                    "Kids": "76",
                    "Accessories_count": "338",
                    "Entertainment_count": "47",
                    "Date": "2020-02-05",
                    "Mens": "67"
                  },
                  {
                    "Womens": "91",
                    "Gaming": "31",
                    "Phone_and_GPS": "43",
                    "Kids": "97",
                    "Accessories_count": "345",
                    "Entertainment_count": "2",
                    "Date": "2017-06-19",
                    "Mens": "81"
                  },
                  {
                    "Womens": "86",
                    "Gaming": "1",
                    "Phone_and_GPS": "8",
                    "Kids": "36",
                    "Accessories_count": "186",
                    "Entertainment_count": "13",
                    "Date": "2019-07-14",
                    "Mens": "42"
                  },
                  {
                    "Womens": "44",
                    "Gaming": "30",
                    "Phone_and_GPS": "43",
                    "Kids": "26",
                    "Accessories_count": "195",
                    "Entertainment_count": "23",
                    "Date": "2017-09-11",
                    "Mens": "29"
                  },
                  {
                    "Womens": "8",
                    "Gaming": "6",
                    "Phone_and_GPS": "61",
                    "Kids": "68",
                    "Accessories_count": "232",
                    "Entertainment_count": "11",
                    "Date": "2017-05-15",
                    "Mens": "78"
                  },
                  {
                    "Womens": "66",
                    "Gaming": "32",
                    "Phone_and_GPS": "49",
                    "Kids": "60",
                    "Accessories_count": "351",
                    "Entertainment_count": "50",
                    "Date": "2018-02-14",
                    "Mens": "94"
                  },
                  {
                    "Womens": "57",
                    "Gaming": "76",
                    "Phone_and_GPS": "0",
                    "Kids": "41",
                    "Accessories_count": "352",
                    "Entertainment_count": "98",
                    "Date": "2015-07-23",
                    "Mens": "80"
                  },
                  {
                    "Womens": "35",
                    "Gaming": "85",
                    "Phone_and_GPS": "61",
                    "Kids": "94",
                    "Accessories_count": "431",
                    "Entertainment_count": "93",
                    "Date": "2019-02-21",
                    "Mens": "63"
                  },
                  {
                    "Womens": "40",
                    "Gaming": "46",
                    "Phone_and_GPS": "4",
                    "Kids": "82",
                    "Accessories_count": "270",
                    "Entertainment_count": "76",
                    "Date": "2018-02-27",
                    "Mens": "22"
                  },
                  {
                    "Womens": "50",
                    "Gaming": "25",
                    "Phone_and_GPS": "35",
                    "Kids": "86",
                    "Accessories_count": "318",
                    "Entertainment_count": "47",
                    "Date": "2019-08-29",
                    "Mens": "75"
                  },
                  {
                    "Womens": "10",
                    "Gaming": "59",
                    "Phone_and_GPS": "37",
                    "Kids": "48",
                    "Accessories_count": "281",
                    "Entertainment_count": "71",
                    "Date": "2017-09-25",
                    "Mens": "56"
                  },
                  {
                    "Womens": "69",
                    "Gaming": "26",
                    "Phone_and_GPS": "69",
                    "Kids": "55",
                    "Accessories_count": "364",
                    "Entertainment_count": "92",
                    "Date": "2016-07-13",
                    "Mens": "53"
                  },
                  {
                    "Womens": "5",
                    "Gaming": "60",
                    "Phone_and_GPS": "80",
                    "Kids": "88",
                    "Accessories_count": "276",
                    "Entertainment_count": "24",
                    "Date": "2019-06-04",
                    "Mens": "19"
                  },
                  {
                    "Womens": "9",
                    "Gaming": "12",
                    "Phone_and_GPS": "58",
                    "Kids": "30",
                    "Accessories_count": "204",
                    "Entertainment_count": "41",
                    "Date": "2019-07-20",
                    "Mens": "54"
                  },
                  {
                    "Womens": "91",
                    "Gaming": "21",
                    "Phone_and_GPS": "55",
                    "Kids": "94",
                    "Accessories_count": "369",
                    "Entertainment_count": "98",
                    "Date": "2020-12-02",
                    "Mens": "10"
                  },
                  {
                    "Womens": "14",
                    "Gaming": "37",
                    "Phone_and_GPS": "2",
                    "Kids": "90",
                    "Accessories_count": "198",
                    "Entertainment_count": "37",
                    "Date": "2019-09-10",
                    "Mens": "18"
                  },
                  {
                    "Womens": "88",
                    "Gaming": "87",
                    "Phone_and_GPS": "4",
                    "Kids": "95",
                    "Accessories_count": "344",
                    "Entertainment_count": "13",
                    "Date": "2020-12-17",
                    "Mens": "57"
                  },
                  {
                    "Womens": "27",
                    "Gaming": "59",
                    "Phone_and_GPS": "4",
                    "Kids": "87",
                    "Accessories_count": "238",
                    "Entertainment_count": "1",
                    "Date": "2018-01-05",
                    "Mens": "60"
                  },
                  {
                    "Womens": "60",
                    "Gaming": "28",
                    "Phone_and_GPS": "42",
                    "Kids": "69",
                    "Accessories_count": "343",
                    "Entertainment_count": "71",
                    "Date": "2016-09-28",
                    "Mens": "73"
                  },
                  {
                    "Womens": "32",
                    "Gaming": "72",
                    "Phone_and_GPS": "80",
                    "Kids": "24",
                    "Accessories_count": "334",
                    "Entertainment_count": "69",
                    "Date": "2019-06-28",
                    "Mens": "57"
                  },
                  {
                    "Womens": "34",
                    "Gaming": "90",
                    "Phone_and_GPS": "76",
                    "Kids": "86",
                    "Accessories_count": "360",
                    "Entertainment_count": "59",
                    "Date": "2016-12-29",
                    "Mens": "15"
                  },
                  {
                    "Womens": "50",
                    "Gaming": "92",
                    "Phone_and_GPS": "84",
                    "Kids": "49",
                    "Accessories_count": "392",
                    "Entertainment_count": "29",
                    "Date": "2015-04-28",
                    "Mens": "88"
                  },
                  {
                    "Womens": "64",
                    "Gaming": "74",
                    "Phone_and_GPS": "6",
                    "Kids": "80",
                    "Accessories_count": "304",
                    "Entertainment_count": "66",
                    "Date": "2020-04-08",
                    "Mens": "14"
                  },
                  {
                    "Womens": "43",
                    "Gaming": "48",
                    "Phone_and_GPS": "55",
                    "Kids": "47",
                    "Accessories_count": "247",
                    "Entertainment_count": "25",
                    "Date": "2018-09-29",
                    "Mens": "29"
                  },
                  {
                    "Womens": "7",
                    "Gaming": "85",
                    "Phone_and_GPS": "96",
                    "Kids": "23",
                    "Accessories_count": "359",
                    "Entertainment_count": "88",
                    "Date": "2018-12-21",
                    "Mens": "60"
                  },
                  {
                    "Womens": "96",
                    "Gaming": "16",
                    "Phone_and_GPS": "0",
                    "Kids": "72",
                    "Accessories_count": "274",
                    "Entertainment_count": "5",
                    "Date": "2019-03-29",
                    "Mens": "85"
                  },
                  {
                    "Womens": "86",
                    "Gaming": "41",
                    "Phone_and_GPS": "8",
                    "Kids": "15",
                    "Accessories_count": "273",
                    "Entertainment_count": "33",
                    "Date": "2020-09-16",
                    "Mens": "90"
                  },
                  {
                    "Womens": "34",
                    "Gaming": "46",
                    "Phone_and_GPS": "42",
                    "Kids": "84",
                    "Accessories_count": "319",
                    "Entertainment_count": "22",
                    "Date": "2015-09-07",
                    "Mens": "91"
                  },
                  {
                    "Womens": "38",
                    "Gaming": "70",
                    "Phone_and_GPS": "41",
                    "Kids": "55",
                    "Accessories_count": "344",
                    "Entertainment_count": "67",
                    "Date": "2015-05-31",
                    "Mens": "73"
                  },
                  {
                    "Womens": "59",
                    "Gaming": "90",
                    "Phone_and_GPS": "91",
                    "Kids": "0",
                    "Accessories_count": "416",
                    "Entertainment_count": "80",
                    "Date": "2017-10-17",
                    "Mens": "96"
                  },
                  {
                    "Womens": "29",
                    "Gaming": "37",
                    "Phone_and_GPS": "28",
                    "Kids": "72",
                    "Accessories_count": "252",
                    "Entertainment_count": "14",
                    "Date": "2017-10-10",
                    "Mens": "72"
                  },
                  {
                    "Womens": "19",
                    "Gaming": "34",
                    "Phone_and_GPS": "95",
                    "Kids": "52",
                    "Accessories_count": "276",
                    "Entertainment_count": "47",
                    "Date": "2015-03-28",
                    "Mens": "29"
                  },
                  {
                    "Womens": "24",
                    "Gaming": "44",
                    "Phone_and_GPS": "91",
                    "Kids": "7",
                    "Accessories_count": "255",
                    "Entertainment_count": "64",
                    "Date": "2019-02-25",
                    "Mens": "25"
                  },
                  {
                    "Womens": "66",
                    "Gaming": "43",
                    "Phone_and_GPS": "27",
                    "Kids": "35",
                    "Accessories_count": "341",
                    "Entertainment_count": "92",
                    "Date": "2015-03-05",
                    "Mens": "78"
                  },
                  {
                    "Womens": "15",
                    "Gaming": "51",
                    "Phone_and_GPS": "96",
                    "Kids": "97",
                    "Accessories_count": "327",
                    "Entertainment_count": "27",
                    "Date": "2017-10-14",
                    "Mens": "41"
                  },
                  {
                    "Womens": "87",
                    "Gaming": "98",
                    "Phone_and_GPS": "35",
                    "Kids": "78",
                    "Accessories_count": "437",
                    "Entertainment_count": "62",
                    "Date": "2017-01-26",
                    "Mens": "77"
                  },
                  {
                    "Womens": "53",
                    "Gaming": "9",
                    "Phone_and_GPS": "46",
                    "Kids": "75",
                    "Accessories_count": "227",
                    "Entertainment_count": "24",
                    "Date": "2015-07-24",
                    "Mens": "20"
                  },
                  {
                    "Womens": "85",
                    "Gaming": "63",
                    "Phone_and_GPS": "39",
                    "Kids": "64",
                    "Accessories_count": "331",
                    "Entertainment_count": "73",
                    "Date": "2018-09-06",
                    "Mens": "7"
                  },
                  {
                    "Womens": "83",
                    "Gaming": "64",
                    "Phone_and_GPS": "40",
                    "Kids": "24",
                    "Accessories_count": "257",
                    "Entertainment_count": "17",
                    "Date": "2018-11-18",
                    "Mens": "29"
                  },
                  {
                    "Womens": "50",
                    "Gaming": "29",
                    "Phone_and_GPS": "53",
                    "Kids": "50",
                    "Accessories_count": "313",
                    "Entertainment_count": "68",
                    "Date": "2019-02-21",
                    "Mens": "63"
                  },
                  {
                    "Womens": "52",
                    "Gaming": "17",
                    "Phone_and_GPS": "15",
                    "Kids": "56",
                    "Accessories_count": "298",
                    "Entertainment_count": "81",
                    "Date": "2017-10-25",
                    "Mens": "77"
                  },
                  {
                    "Womens": "86",
                    "Gaming": "73",
                    "Phone_and_GPS": "16",
                    "Kids": "89",
                    "Accessories_count": "339",
                    "Entertainment_count": "18",
                    "Date": "2015-01-13",
                    "Mens": "57"
                  },
                  {
                    "Womens": "21",
                    "Gaming": "98",
                    "Phone_and_GPS": "27",
                    "Kids": "61",
                    "Accessories_count": "313",
                    "Entertainment_count": "83",
                    "Date": "2018-04-29",
                    "Mens": "23"
                  },
                  {
                    "Womens": "1",
                    "Gaming": "77",
                    "Phone_and_GPS": "11",
                    "Kids": "5",
                    "Accessories_count": "227",
                    "Entertainment_count": "67",
                    "Date": "2018-02-07",
                    "Mens": "66"
                  },
                  {
                    "Womens": "74",
                    "Gaming": "24",
                    "Phone_and_GPS": "49",
                    "Kids": "65",
                    "Accessories_count": "331",
                    "Entertainment_count": "92",
                    "Date": "2016-07-31",
                    "Mens": "27"
                  },
                  {
                    "Womens": "20",
                    "Gaming": "95",
                    "Phone_and_GPS": "86",
                    "Kids": "50",
                    "Accessories_count": "380",
                    "Entertainment_count": "59",
                    "Date": "2016-02-17",
                    "Mens": "70"
                  },
                  {
                    "Womens": "35",
                    "Gaming": "43",
                    "Phone_and_GPS": "29",
                    "Kids": "71",
                    "Accessories_count": "301",
                    "Entertainment_count": "90",
                    "Date": "2017-02-21",
                    "Mens": "33"
                  },
                  {
                    "Womens": "70",
                    "Gaming": "77",
                    "Phone_and_GPS": "33",
                    "Kids": "76",
                    "Accessories_count": "365",
                    "Entertainment_count": "86",
                    "Date": "2019-05-02",
                    "Mens": "23"
                  },
                  {
                    "Womens": "47",
                    "Gaming": "36",
                    "Phone_and_GPS": "86",
                    "Kids": "99",
                    "Accessories_count": "350",
                    "Entertainment_count": "41",
                    "Date": "2019-12-19",
                    "Mens": "41"
                  },
                  {
                    "Womens": "19",
                    "Gaming": "54",
                    "Phone_and_GPS": "71",
                    "Kids": "19",
                    "Accessories_count": "321",
                    "Entertainment_count": "90",
                    "Date": "2019-06-23",
                    "Mens": "68"
                  },
                  {
                    "Womens": "12",
                    "Gaming": "25",
                    "Phone_and_GPS": "9",
                    "Kids": "38",
                    "Accessories_count": "176",
                    "Entertainment_count": "15",
                    "Date": "2017-01-04",
                    "Mens": "77"
                  },
                  {
                    "Womens": "16",
                    "Gaming": "55",
                    "Phone_and_GPS": "6",
                    "Kids": "97",
                    "Accessories_count": "221",
                    "Entertainment_count": "30",
                    "Date": "2017-11-10",
                    "Mens": "17"
                  },
                  {
                    "Womens": "43",
                    "Gaming": "25",
                    "Phone_and_GPS": "98",
                    "Kids": "37",
                    "Accessories_count": "309",
                    "Entertainment_count": "11",
                    "Date": "2016-05-23",
                    "Mens": "95"
                  },
                  {
                    "Womens": "90",
                    "Gaming": "19",
                    "Phone_and_GPS": "41",
                    "Kids": "64",
                    "Accessories_count": "324",
                    "Entertainment_count": "70",
                    "Date": "2019-08-25",
                    "Mens": "40"
                  },
                  {
                    "Womens": "40",
                    "Gaming": "24",
                    "Phone_and_GPS": "42",
                    "Kids": "61",
                    "Accessories_count": "227",
                    "Entertainment_count": "60",
                    "Date": "2016-08-16",
                    "Mens": "0"
                  },
                  {
                    "Womens": "59",
                    "Gaming": "50",
                    "Phone_and_GPS": "6",
                    "Kids": "53",
                    "Accessories_count": "244",
                    "Entertainment_count": "70",
                    "Date": "2020-07-21",
                    "Mens": "6"
                  },
                  {
                    "Womens": "87",
                    "Gaming": "89",
                    "Phone_and_GPS": "40",
                    "Kids": "28",
                    "Accessories_count": "281",
                    "Entertainment_count": "32",
                    "Date": "2016-08-24",
                    "Mens": "5"
                  },
                  {
                    "Womens": "86",
                    "Gaming": "41",
                    "Phone_and_GPS": "47",
                    "Kids": "28",
                    "Accessories_count": "294",
                    "Entertainment_count": "35",
                    "Date": "2015-07-04",
                    "Mens": "57"
                  },
                  {
                    "Womens": "62",
                    "Gaming": "7",
                    "Phone_and_GPS": "45",
                    "Kids": "62",
                    "Accessories_count": "262",
                    "Entertainment_count": "76",
                    "Date": "2015-04-28",
                    "Mens": "10"
                  },
                  {
                    "Womens": "20",
                    "Gaming": "38",
                    "Phone_and_GPS": "59",
                    "Kids": "3",
                    "Accessories_count": "285",
                    "Entertainment_count": "91",
                    "Date": "2015-03-04",
                    "Mens": "74"
                  },
                  {
                    "Womens": "73",
                    "Gaming": "13",
                    "Phone_and_GPS": "74",
                    "Kids": "57",
                    "Accessories_count": "265",
                    "Entertainment_count": "11",
                    "Date": "2015-07-13",
                    "Mens": "37"
                  },
                  {
                    "Womens": "58",
                    "Gaming": "4",
                    "Phone_and_GPS": "3",
                    "Kids": "32",
                    "Accessories_count": "259",
                    "Entertainment_count": "95",
                    "Date": "2017-08-14",
                    "Mens": "67"
                  },
                  {
                    "Womens": "85",
                    "Gaming": "12",
                    "Phone_and_GPS": "17",
                    "Kids": "72",
                    "Accessories_count": "304",
                    "Entertainment_count": "20",
                    "Date": "2019-05-22",
                    "Mens": "98"
                  },
                  {
                    "Womens": "97",
                    "Gaming": "84",
                    "Phone_and_GPS": "60",
                    "Kids": "42",
                    "Accessories_count": "343",
                    "Entertainment_count": "13",
                    "Date": "2015-05-18",
                    "Mens": "47"
                  },
                  {
                    "Womens": "94",
                    "Gaming": "17",
                    "Phone_and_GPS": "49",
                    "Kids": "65",
                    "Accessories_count": "296",
                    "Entertainment_count": "1",
                    "Date": "2015-03-04",
                    "Mens": "70"
                  },
                  {
                    "Womens": "19",
                    "Gaming": "71",
                    "Phone_and_GPS": "63",
                    "Kids": "78",
                    "Accessories_count": "323",
                    "Entertainment_count": "87",
                    "Date": "2018-01-10",
                    "Mens": "5"
                  },
                  {
                    "Womens": "48",
                    "Gaming": "43",
                    "Phone_and_GPS": "14",
                    "Kids": "21",
                    "Accessories_count": "189",
                    "Entertainment_count": "2",
                    "Date": "2017-09-12",
                    "Mens": "61"
                  },
                  {
                    "Womens": "0",
                    "Gaming": "91",
                    "Phone_and_GPS": "9",
                    "Kids": "55",
                    "Accessories_count": "316",
                    "Entertainment_count": "96",
                    "Date": "2016-12-31",
                    "Mens": "65"
                  },
                  {
                    "Womens": "54",
                    "Gaming": "3",
                    "Phone_and_GPS": "74",
                    "Kids": "29",
                    "Accessories_count": "273",
                    "Entertainment_count": "85",
                    "Date": "2018-08-14",
                    "Mens": "28"
                  },
                  {
                    "Womens": "96",
                    "Gaming": "42",
                    "Phone_and_GPS": "99",
                    "Kids": "98",
                    "Accessories_count": "414",
                    "Entertainment_count": "77",
                    "Date": "2020-07-26",
                    "Mens": "2"
                  },
                  {
                    "Womens": "80",
                    "Gaming": "8",
                    "Phone_and_GPS": "49",
                    "Kids": "50",
                    "Accessories_count": "209",
                    "Entertainment_count": "15",
                    "Date": "2019-01-27",
                    "Mens": "7"
                  },
                  {
                    "Womens": "61",
                    "Gaming": "99",
                    "Phone_and_GPS": "83",
                    "Kids": "23",
                    "Accessories_count": "305",
                    "Entertainment_count": "3",
                    "Date": "2019-10-07",
                    "Mens": "36"
                  },
                  {
                    "Womens": "46",
                    "Gaming": "45",
                    "Phone_and_GPS": "36",
                    "Kids": "96",
                    "Accessories_count": "374",
                    "Entertainment_count": "80",
                    "Date": "2017-04-14",
                    "Mens": "71"
                  },
                  {
                    "Womens": "62",
                    "Gaming": "63",
                    "Phone_and_GPS": "46",
                    "Kids": "33",
                    "Accessories_count": "321",
                    "Entertainment_count": "40",
                    "Date": "2019-06-20",
                    "Mens": "77"
                  },
                  {
                    "Womens": "93",
                    "Gaming": "1",
                    "Phone_and_GPS": "64",
                    "Kids": "28",
                    "Accessories_count": "307",
                    "Entertainment_count": "26",
                    "Date": "2020-12-17",
                    "Mens": "95"
                  },
                  {
                    "Womens": "73",
                    "Gaming": "5",
                    "Phone_and_GPS": "80",
                    "Kids": "49",
                    "Accessories_count": "362",
                    "Entertainment_count": "71",
                    "Date": "2016-11-26",
                    "Mens": "84"
                  },
                  {
                    "Womens": "82",
                    "Gaming": "29",
                    "Phone_and_GPS": "4",
                    "Kids": "49",
                    "Accessories_count": "236",
                    "Entertainment_count": "71",
                    "Date": "2020-05-08",
                    "Mens": "1"
                  },
                  {
                    "Womens": "8",
                    "Gaming": "10",
                    "Phone_and_GPS": "74",
                    "Kids": "16",
                    "Accessories_count": "165",
                    "Entertainment_count": "48",
                    "Date": "2018-12-20",
                    "Mens": "9"
                  },
                  {
                    "Womens": "14",
                    "Gaming": "75",
                    "Phone_and_GPS": "62",
                    "Kids": "32",
                    "Accessories_count": "368",
                    "Entertainment_count": "95",
                    "Date": "2020-04-17",
                    "Mens": "90"
                  },
                  {
                    "Womens": "41",
                    "Gaming": "33",
                    "Phone_and_GPS": "93",
                    "Kids": "25",
                    "Accessories_count": "272",
                    "Entertainment_count": "52",
                    "Date": "2017-08-07",
                    "Mens": "28"
                  },
                  {
                    "Womens": "28",
                    "Gaming": "55",
                    "Phone_and_GPS": "61",
                    "Kids": "84",
                    "Accessories_count": "343",
                    "Entertainment_count": "80",
                    "Date": "2018-01-23",
                    "Mens": "35"
                  },
                  {
                    "Womens": "14",
                    "Gaming": "0",
                    "Phone_and_GPS": "89",
                    "Kids": "63",
                    "Accessories_count": "203",
                    "Entertainment_count": "11",
                    "Date": "2019-05-08",
                    "Mens": "26"
                  },
                  {
                    "Womens": "81",
                    "Gaming": "27",
                    "Phone_and_GPS": "10",
                    "Kids": "88",
                    "Accessories_count": "336",
                    "Entertainment_count": "93",
                    "Date": "2015-02-06",
                    "Mens": "37"
                  },
                  {
                    "Womens": "18",
                    "Gaming": "67",
                    "Phone_and_GPS": "49",
                    "Kids": "85",
                    "Accessories_count": "298",
                    "Entertainment_count": "77",
                    "Date": "2018-05-18",
                    "Mens": "2"
                  },
                  {
                    "Womens": "11",
                    "Gaming": "95",
                    "Phone_and_GPS": "32",
                    "Kids": "65",
                    "Accessories_count": "342",
                    "Entertainment_count": "53",
                    "Date": "2015-01-10",
                    "Mens": "86"
                  },
                  {
                    "Womens": "31",
                    "Gaming": "73",
                    "Phone_and_GPS": "13",
                    "Kids": "51",
                    "Accessories_count": "231",
                    "Entertainment_count": "50",
                    "Date": "2016-09-02",
                    "Mens": "13"
                  },
                  {
                    "Womens": "73",
                    "Gaming": "13",
                    "Phone_and_GPS": "20",
                    "Kids": "60",
                    "Accessories_count": "311",
                    "Entertainment_count": "73",
                    "Date": "2017-03-15",
                    "Mens": "72"
                  },
                  {
                    "Womens": "94",
                    "Gaming": "10",
                    "Phone_and_GPS": "72",
                    "Kids": "76",
                    "Accessories_count": "369",
                    "Entertainment_count": "73",
                    "Date": "2019-05-05",
                    "Mens": "44"
                  },
                  {
                    "Womens": "88",
                    "Gaming": "71",
                    "Phone_and_GPS": "92",
                    "Kids": "96",
                    "Accessories_count": "469",
                    "Entertainment_count": "26",
                    "Date": "2020-02-23",
                    "Mens": "96"
                  },
                  {
                    "Womens": "48",
                    "Gaming": "96",
                    "Phone_and_GPS": "88",
                    "Kids": "45",
                    "Accessories_count": "366",
                    "Entertainment_count": "52",
                    "Date": "2017-12-07",
                    "Mens": "37"
                  },
                  {
                    "Womens": "31",
                    "Gaming": "55",
                    "Phone_and_GPS": "15",
                    "Kids": "56",
                    "Accessories_count": "252",
                    "Entertainment_count": "35",
                    "Date": "2020-09-01",
                    "Mens": "60"
                  },
                  {
                    "Womens": "81",
                    "Gaming": "50",
                    "Phone_and_GPS": "53",
                    "Kids": "52",
                    "Accessories_count": "329",
                    "Entertainment_count": "11",
                    "Date": "2016-06-16",
                    "Mens": "82"
                  },
                  {
                    "Womens": "63",
                    "Gaming": "28",
                    "Phone_and_GPS": "46",
                    "Kids": "21",
                    "Accessories_count": "297",
                    "Entertainment_count": "61",
                    "Date": "2015-11-08",
                    "Mens": "78"
                  },
                  {
                    "Womens": "47",
                    "Gaming": "58",
                    "Phone_and_GPS": "16",
                    "Kids": "33",
                    "Accessories_count": "255",
                    "Entertainment_count": "94",
                    "Date": "2020-09-02",
                    "Mens": "7"
                  },
                  {
                    "Womens": "8",
                    "Gaming": "82",
                    "Phone_and_GPS": "46",
                    "Kids": "66",
                    "Accessories_count": "237",
                    "Entertainment_count": "30",
                    "Date": "2016-05-29",
                    "Mens": "5"
                  },
                  {
                    "Womens": "0",
                    "Gaming": "58",
                    "Phone_and_GPS": "20",
                    "Kids": "45",
                    "Accessories_count": "232",
                    "Entertainment_count": "98",
                    "Date": "2016-04-02",
                    "Mens": "11"
                  },
                  {
                    "Womens": "27",
                    "Gaming": "61",
                    "Phone_and_GPS": "16",
                    "Kids": "50",
                    "Accessories_count": "311",
                    "Entertainment_count": "58",
                    "Date": "2020-03-07",
                    "Mens": "99"
                  },
                  {
                    "Womens": "16",
                    "Gaming": "39",
                    "Phone_and_GPS": "81",
                    "Kids": "17",
                    "Accessories_count": "287",
                    "Entertainment_count": "79",
                    "Date": "2020-10-09",
                    "Mens": "55"
                  },
                  {
                    "Womens": "6",
                    "Gaming": "93",
                    "Phone_and_GPS": "68",
                    "Kids": "82",
                    "Accessories_count": "298",
                    "Entertainment_count": "35",
                    "Date": "2015-12-31",
                    "Mens": "14"
                  },
                  {
                    "Womens": "12",
                    "Gaming": "61",
                    "Phone_and_GPS": "7",
                    "Kids": "55",
                    "Accessories_count": "215",
                    "Entertainment_count": "39",
                    "Date": "2019-02-25",
                    "Mens": "41"
                  },
                  {
                    "Womens": "10",
                    "Gaming": "64",
                    "Phone_and_GPS": "0",
                    "Kids": "46",
                    "Accessories_count": "237",
                    "Entertainment_count": "71",
                    "Date": "2017-11-20",
                    "Mens": "46"
                  },
                  {
                    "Womens": "5",
                    "Gaming": "23",
                    "Phone_and_GPS": "88",
                    "Kids": "86",
                    "Accessories_count": "218",
                    "Entertainment_count": "6",
                    "Date": "2017-04-15",
                    "Mens": "10"
                  },
                  {
                    "Womens": "34",
                    "Gaming": "11",
                    "Phone_and_GPS": "38",
                    "Kids": "65",
                    "Accessories_count": "306",
                    "Entertainment_count": "69",
                    "Date": "2015-12-06",
                    "Mens": "89"
                  },
                  {
                    "Womens": "17",
                    "Gaming": "81",
                    "Phone_and_GPS": "19",
                    "Kids": "56",
                    "Accessories_count": "352",
                    "Entertainment_count": "91",
                    "Date": "2019-09-29",
                    "Mens": "88"
                  },
                  {
                    "Womens": "37",
                    "Gaming": "31",
                    "Phone_and_GPS": "0",
                    "Kids": "24",
                    "Accessories_count": "182",
                    "Entertainment_count": "82",
                    "Date": "2019-03-13",
                    "Mens": "8"
                  },
                  {
                    "Womens": "82",
                    "Gaming": "81",
                    "Phone_and_GPS": "68",
                    "Kids": "25",
                    "Accessories_count": "408",
                    "Entertainment_count": "97",
                    "Date": "2018-03-19",
                    "Mens": "55"
                  },
                  {
                    "Womens": "25",
                    "Gaming": "49",
                    "Phone_and_GPS": "51",
                    "Kids": "33",
                    "Accessories_count": "263",
                    "Entertainment_count": "76",
                    "Date": "2016-04-23",
                    "Mens": "29"
                  },
                  {
                    "Womens": "7",
                    "Gaming": "46",
                    "Phone_and_GPS": "52",
                    "Kids": "45",
                    "Accessories_count": "171",
                    "Entertainment_count": "1",
                    "Date": "2020-05-10",
                    "Mens": "20"
                  },
                  {
                    "Womens": "69",
                    "Gaming": "3",
                    "Phone_and_GPS": "12",
                    "Kids": "23",
                    "Accessories_count": "268",
                    "Entertainment_count": "89",
                    "Date": "2015-10-30",
                    "Mens": "72"
                  },
                  {
                    "Womens": "85",
                    "Gaming": "27",
                    "Phone_and_GPS": "71",
                    "Kids": "95",
                    "Accessories_count": "330",
                    "Entertainment_count": "26",
                    "Date": "2015-05-12",
                    "Mens": "26"
                  },
                  {
                    "Womens": "19",
                    "Gaming": "92",
                    "Phone_and_GPS": "79",
                    "Kids": "12",
                    "Accessories_count": "264",
                    "Entertainment_count": "32",
                    "Date": "2015-09-30",
                    "Mens": "30"
                  },
                  {
                    "Womens": "25",
                    "Gaming": "43",
                    "Phone_and_GPS": "7",
                    "Kids": "28",
                    "Accessories_count": "202",
                    "Entertainment_count": "3",
                    "Date": "2020-04-09",
                    "Mens": "96"
                  },
                  {
                    "Womens": "26",
                    "Gaming": "1",
                    "Phone_and_GPS": "82",
                    "Kids": "14",
                    "Accessories_count": "190",
                    "Entertainment_count": "33",
                    "Date": "2020-06-20",
                    "Mens": "34"
                  },
                  {
                    "Womens": "27",
                    "Gaming": "33",
                    "Phone_and_GPS": "70",
                    "Kids": "73",
                    "Accessories_count": "379",
                    "Entertainment_count": "95",
                    "Date": "2017-01-29",
                    "Mens": "81"
                  },
                  {
                    "Womens": "42",
                    "Gaming": "3",
                    "Phone_and_GPS": "38",
                    "Kids": "39",
                    "Accessories_count": "147",
                    "Entertainment_count": "8",
                    "Date": "2020-03-10",
                    "Mens": "17"
                  },
                  {
                    "Womens": "18",
                    "Gaming": "19",
                    "Phone_and_GPS": "0",
                    "Kids": "38",
                    "Accessories_count": "103",
                    "Entertainment_count": "4",
                    "Date": "2017-12-30",
                    "Mens": "24"
                  },
                  {
                    "Womens": "92",
                    "Gaming": "73",
                    "Phone_and_GPS": "77",
                    "Kids": "26",
                    "Accessories_count": "362",
                    "Entertainment_count": "46",
                    "Date": "2017-12-07",
                    "Mens": "48"
                  },
                  {
                    "Womens": "56",
                    "Gaming": "60",
                    "Phone_and_GPS": "4",
                    "Kids": "43",
                    "Accessories_count": "260",
                    "Entertainment_count": "43",
                    "Date": "2018-08-21",
                    "Mens": "54"
                  },
                  {
                    "Womens": "49",
                    "Gaming": "53",
                    "Phone_and_GPS": "65",
                    "Kids": "20",
                    "Accessories_count": "289",
                    "Entertainment_count": "27",
                    "Date": "2016-01-04",
                    "Mens": "75"
                  },
                  {
                    "Womens": "1",
                    "Gaming": "91",
                    "Phone_and_GPS": "71",
                    "Kids": "13",
                    "Accessories_count": "255",
                    "Entertainment_count": "8",
                    "Date": "2015-12-26",
                    "Mens": "71"
                  },
                  {
                    "Womens": "93",
                    "Gaming": "87",
                    "Phone_and_GPS": "56",
                    "Kids": "79",
                    "Accessories_count": "451",
                    "Entertainment_count": "68",
                    "Date": "2020-10-29",
                    "Mens": "68"
                  },
                  {
                    "Womens": "10",
                    "Gaming": "48",
                    "Phone_and_GPS": "53",
                    "Kids": "96",
                    "Accessories_count": "287",
                    "Entertainment_count": "10",
                    "Date": "2015-02-27",
                    "Mens": "70"
                  },
                  {
                    "Womens": "2",
                    "Gaming": "57",
                    "Phone_and_GPS": "98",
                    "Kids": "67",
                    "Accessories_count": "303",
                    "Entertainment_count": "46",
                    "Date": "2019-02-27",
                    "Mens": "33"
                  },
                  {
                    "Womens": "78",
                    "Gaming": "66",
                    "Phone_and_GPS": "18",
                    "Kids": "39",
                    "Accessories_count": "286",
                    "Entertainment_count": "49",
                    "Date": "2020-05-30",
                    "Mens": "36"
                  },
                  {
                    "Womens": "50",
                    "Gaming": "76",
                    "Phone_and_GPS": "48",
                    "Kids": "41",
                    "Accessories_count": "353",
                    "Entertainment_count": "41",
                    "Date": "2016-09-18",
                    "Mens": "97"
                  },
                  {
                    "Womens": "56",
                    "Gaming": "50",
                    "Phone_and_GPS": "77",
                    "Kids": "50",
                    "Accessories_count": "260",
                    "Entertainment_count": "3",
                    "Date": "2017-10-13",
                    "Mens": "24"
                  },
                  {
                    "Womens": "6",
                    "Gaming": "79",
                    "Phone_and_GPS": "22",
                    "Kids": "2",
                    "Accessories_count": "276",
                    "Entertainment_count": "98",
                    "Date": "2020-09-09",
                    "Mens": "69"
                  },
                  {
                    "Womens": "89",
                    "Gaming": "66",
                    "Phone_and_GPS": "27",
                    "Kids": "98",
                    "Accessories_count": "360",
                    "Entertainment_count": "74",
                    "Date": "2018-09-04",
                    "Mens": "6"
                  },
                  {
                    "Womens": "43",
                    "Gaming": "54",
                    "Phone_and_GPS": "2",
                    "Kids": "42",
                    "Accessories_count": "206",
                    "Entertainment_count": "21",
                    "Date": "2015-02-23",
                    "Mens": "44"
                  },
                  {
                    "Womens": "74",
                    "Gaming": "81",
                    "Phone_and_GPS": "83",
                    "Kids": "19",
                    "Accessories_count": "356",
                    "Entertainment_count": "99",
                    "Date": "2020-04-10",
                    "Mens": "0"
                  },
                  {
                    "Womens": "26",
                    "Gaming": "53",
                    "Phone_and_GPS": "92",
                    "Kids": "93",
                    "Accessories_count": "355",
                    "Entertainment_count": "14",
                    "Date": "2016-05-11",
                    "Mens": "77"
                  },
                  {
                    "Womens": "22",
                    "Gaming": "32",
                    "Phone_and_GPS": "75",
                    "Kids": "1",
                    "Accessories_count": "219",
                    "Entertainment_count": "54",
                    "Date": "2017-08-10",
                    "Mens": "35"
                  },
                  {
                    "Womens": "78",
                    "Gaming": "17",
                    "Phone_and_GPS": "71",
                    "Kids": "98",
                    "Accessories_count": "334",
                    "Entertainment_count": "40",
                    "Date": "2015-12-10",
                    "Mens": "30"
                  },
                  {
                    "Womens": "24",
                    "Gaming": "63",
                    "Phone_and_GPS": "63",
                    "Kids": "10",
                    "Accessories_count": "249",
                    "Entertainment_count": "17",
                    "Date": "2020-09-12",
                    "Mens": "72"
                  },
                  {
                    "Womens": "43",
                    "Gaming": "10",
                    "Phone_and_GPS": "9",
                    "Kids": "7",
                    "Accessories_count": "204",
                    "Entertainment_count": "76",
                    "Date": "2015-03-25",
                    "Mens": "59"
                  },
                  {
                    "Womens": "20",
                    "Gaming": "11",
                    "Phone_and_GPS": "29",
                    "Kids": "8",
                    "Accessories_count": "198",
                    "Entertainment_count": "89",
                    "Date": "2019-11-30",
                    "Mens": "41"
                  },
                  {
                    "Womens": "33",
                    "Gaming": "7",
                    "Phone_and_GPS": "96",
                    "Kids": "37",
                    "Accessories_count": "259",
                    "Entertainment_count": "1",
                    "Date": "2020-07-18",
                    "Mens": "85"
                  },
                  {
                    "Womens": "5",
                    "Gaming": "98",
                    "Phone_and_GPS": "30",
                    "Kids": "11",
                    "Accessories_count": "284",
                    "Entertainment_count": "67",
                    "Date": "2016-06-29",
                    "Mens": "73"
                  },
                  {
                    "Womens": "58",
                    "Gaming": "5",
                    "Phone_and_GPS": "29",
                    "Kids": "64",
                    "Accessories_count": "187",
                    "Entertainment_count": "19",
                    "Date": "2019-08-28",
                    "Mens": "12"
                  },
                  {
                    "Womens": "40",
                    "Gaming": "38",
                    "Phone_and_GPS": "37",
                    "Kids": "12",
                    "Accessories_count": "259",
                    "Entertainment_count": "54",
                    "Date": "2015-06-19",
                    "Mens": "78"
                  },
                  {
                    "Womens": "83",
                    "Gaming": "42",
                    "Phone_and_GPS": "26",
                    "Kids": "9",
                    "Accessories_count": "266",
                    "Entertainment_count": "51",
                    "Date": "2015-04-18",
                    "Mens": "55"
                  },
                  {
                    "Womens": "18",
                    "Gaming": "10",
                    "Phone_and_GPS": "73",
                    "Kids": "24",
                    "Accessories_count": "195",
                    "Entertainment_count": "18",
                    "Date": "2019-12-06",
                    "Mens": "52"
                  },
                  {
                    "Womens": "31",
                    "Gaming": "13",
                    "Phone_and_GPS": "93",
                    "Kids": "41",
                    "Accessories_count": "274",
                    "Entertainment_count": "94",
                    "Date": "2016-04-11",
                    "Mens": "2"
                  },
                  {
                    "Womens": "79",
                    "Gaming": "98",
                    "Phone_and_GPS": "55",
                    "Kids": "44",
                    "Accessories_count": "312",
                    "Entertainment_count": "2",
                    "Date": "2019-09-17",
                    "Mens": "34"
                  },
                  {
                    "Womens": "66",
                    "Gaming": "60",
                    "Phone_and_GPS": "76",
                    "Kids": "2",
                    "Accessories_count": "276",
                    "Entertainment_count": "29",
                    "Date": "2016-03-30",
                    "Mens": "43"
                  },
                  {
                    "Womens": "45",
                    "Gaming": "81",
                    "Phone_and_GPS": "21",
                    "Kids": "70",
                    "Accessories_count": "342",
                    "Entertainment_count": "64",
                    "Date": "2019-09-30",
                    "Mens": "61"
                  },
                  {
                    "Womens": "96",
                    "Gaming": "5",
                    "Phone_and_GPS": "31",
                    "Kids": "28",
                    "Accessories_count": "200",
                    "Entertainment_count": "2",
                    "Date": "2019-01-09",
                    "Mens": "38"
                  },
                  {
                    "Womens": "43",
                    "Gaming": "68",
                    "Phone_and_GPS": "52",
                    "Kids": "77",
                    "Accessories_count": "325",
                    "Entertainment_count": "82",
                    "Date": "2018-06-19",
                    "Mens": "3"
                  },
                  {
                    "Womens": "40",
                    "Gaming": "0",
                    "Phone_and_GPS": "89",
                    "Kids": "79",
                    "Accessories_count": "244",
                    "Entertainment_count": "12",
                    "Date": "2017-06-10",
                    "Mens": "24"
                  },
                  {
                    "Womens": "80",
                    "Gaming": "89",
                    "Phone_and_GPS": "73",
                    "Kids": "65",
                    "Accessories_count": "386",
                    "Entertainment_count": "15",
                    "Date": "2019-11-19",
                    "Mens": "64"
                  },
                  {
                    "Womens": "64",
                    "Gaming": "87",
                    "Phone_and_GPS": "15",
                    "Kids": "57",
                    "Accessories_count": "300",
                    "Entertainment_count": "27",
                    "Date": "2018-02-18",
                    "Mens": "50"
                  },
                  {
                    "Womens": "23",
                    "Gaming": "71",
                    "Phone_and_GPS": "3",
                    "Kids": "96",
                    "Accessories_count": "303",
                    "Entertainment_count": "71",
                    "Date": "2015-02-13",
                    "Mens": "39"
                  },
                  {
                    "Womens": "88",
                    "Gaming": "9",
                    "Phone_and_GPS": "69",
                    "Kids": "7",
                    "Accessories_count": "250",
                    "Entertainment_count": "68",
                    "Date": "2018-12-11",
                    "Mens": "9"
                  },
                  {
                    "Womens": "18",
                    "Gaming": "93",
                    "Phone_and_GPS": "23",
                    "Kids": "11",
                    "Accessories_count": "243",
                    "Entertainment_count": "75",
                    "Date": "2016-09-09",
                    "Mens": "23"
                  },
                  {
                    "Womens": "17",
                    "Gaming": "96",
                    "Phone_and_GPS": "66",
                    "Kids": "99",
                    "Accessories_count": "348",
                    "Entertainment_count": "6",
                    "Date": "2019-06-18",
                    "Mens": "64"
                  },
                  {
                    "Womens": "35",
                    "Gaming": "39",
                    "Phone_and_GPS": "50",
                    "Kids": "33",
                    "Accessories_count": "281",
                    "Entertainment_count": "56",
                    "Date": "2016-02-07",
                    "Mens": "68"
                  },
                  {
                    "Womens": "29",
                    "Gaming": "50",
                    "Phone_and_GPS": "8",
                    "Kids": "64",
                    "Accessories_count": "227",
                    "Entertainment_count": "76",
                    "Date": "2015-07-05",
                    "Mens": "0"
                  },
                  {
                    "Womens": "60",
                    "Gaming": "10",
                    "Phone_and_GPS": "38",
                    "Kids": "99",
                    "Accessories_count": "357",
                    "Entertainment_count": "93",
                    "Date": "2019-12-29",
                    "Mens": "57"
                  },
                  {
                    "Womens": "35",
                    "Gaming": "66",
                    "Phone_and_GPS": "48",
                    "Kids": "69",
                    "Accessories_count": "376",
                    "Entertainment_count": "72",
                    "Date": "2018-08-25",
                    "Mens": "86"
                  },
                  {
                    "Womens": "40",
                    "Gaming": "79",
                    "Phone_and_GPS": "94",
                    "Kids": "19",
                    "Accessories_count": "319",
                    "Entertainment_count": "12",
                    "Date": "2016-07-24",
                    "Mens": "75"
                  },
                  {
                    "Womens": "27",
                    "Gaming": "76",
                    "Phone_and_GPS": "72",
                    "Kids": "68",
                    "Accessories_count": "344",
                    "Entertainment_count": "82",
                    "Date": "2018-04-16",
                    "Mens": "19"
                  },
                  {
                    "Womens": "85",
                    "Gaming": "94",
                    "Phone_and_GPS": "34",
                    "Kids": "61",
                    "Accessories_count": "357",
                    "Entertainment_count": "21",
                    "Date": "2018-01-22",
                    "Mens": "62"
                  },
                  {
                    "Womens": "99",
                    "Gaming": "56",
                    "Phone_and_GPS": "47",
                    "Kids": "18",
                    "Accessories_count": "348",
                    "Entertainment_count": "47",
                    "Date": "2019-05-03",
                    "Mens": "81"
                  },
                  {
                    "Womens": "71",
                    "Gaming": "97",
                    "Phone_and_GPS": "7",
                    "Kids": "28",
                    "Accessories_count": "291",
                    "Entertainment_count": "40",
                    "Date": "2016-03-16",
                    "Mens": "48"
                  },
                  {
                    "Womens": "3",
                    "Gaming": "66",
                    "Phone_and_GPS": "43",
                    "Kids": "3",
                    "Accessories_count": "261",
                    "Entertainment_count": "68",
                    "Date": "2020-06-18",
                    "Mens": "78"
                  },
                  {
                    "Womens": "77",
                    "Gaming": "26",
                    "Phone_and_GPS": "39",
                    "Kids": "84",
                    "Accessories_count": "311",
                    "Entertainment_count": "5",
                    "Date": "2017-01-30",
                    "Mens": "80"
                  },
                  {
                    "Womens": "87",
                    "Gaming": "0",
                    "Phone_and_GPS": "60",
                    "Kids": "87",
                    "Accessories_count": "355",
                    "Entertainment_count": "24",
                    "Date": "2017-01-12",
                    "Mens": "97"
                  },
                  {
                    "Womens": "55",
                    "Gaming": "60",
                    "Phone_and_GPS": "57",
                    "Kids": "51",
                    "Accessories_count": "267",
                    "Entertainment_count": "14",
                    "Date": "2018-07-31",
                    "Mens": "30"
                  },
                  {
                    "Womens": "36",
                    "Gaming": "59",
                    "Phone_and_GPS": "26",
                    "Kids": "5",
                    "Accessories_count": "232",
                    "Entertainment_count": "99",
                    "Date": "2017-04-11",
                    "Mens": "7"
                  },
                  {
                    "Womens": "70",
                    "Gaming": "61",
                    "Phone_and_GPS": "98",
                    "Kids": "5",
                    "Accessories_count": "279",
                    "Entertainment_count": "6",
                    "Date": "2015-04-24",
                    "Mens": "39"
                  },
                  {
                    "Womens": "82",
                    "Gaming": "45",
                    "Phone_and_GPS": "50",
                    "Kids": "15",
                    "Accessories_count": "290",
                    "Entertainment_count": "73",
                    "Date": "2018-02-23",
                    "Mens": "25"
                  },
                  {
                    "Womens": "15",
                    "Gaming": "27",
                    "Phone_and_GPS": "62",
                    "Kids": "77",
                    "Accessories_count": "249",
                    "Entertainment_count": "26",
                    "Date": "2016-07-20",
                    "Mens": "42"
                  },
                  {
                    "Womens": "99",
                    "Gaming": "35",
                    "Phone_and_GPS": "66",
                    "Kids": "79",
                    "Accessories_count": "454",
                    "Entertainment_count": "86",
                    "Date": "2020-09-20",
                    "Mens": "89"
                  },
                  {
                    "Womens": "76",
                    "Gaming": "55",
                    "Phone_and_GPS": "37",
                    "Kids": "29",
                    "Accessories_count": "266",
                    "Entertainment_count": "11",
                    "Date": "2017-01-09",
                    "Mens": "58"
                  },
                  {
                    "Womens": "96",
                    "Gaming": "46",
                    "Phone_and_GPS": "14",
                    "Kids": "21",
                    "Accessories_count": "279",
                    "Entertainment_count": "15",
                    "Date": "2015-02-19",
                    "Mens": "87"
                  },
                  {
                    "Womens": "35",
                    "Gaming": "8",
                    "Phone_and_GPS": "58",
                    "Kids": "87",
                    "Accessories_count": "281",
                    "Entertainment_count": "20",
                    "Date": "2015-01-07",
                    "Mens": "73"
                  },
                  {
                    "Womens": "17",
                    "Gaming": "48",
                    "Phone_and_GPS": "60",
                    "Kids": "46",
                    "Accessories_count": "309",
                    "Entertainment_count": "73",
                    "Date": "2019-07-17",
                    "Mens": "65"
                  },
                  {
                    "Womens": "52",
                    "Gaming": "76",
                    "Phone_and_GPS": "47",
                    "Kids": "30",
                    "Accessories_count": "296",
                    "Entertainment_count": "57",
                    "Date": "2015-09-18",
                    "Mens": "34"
                  },
                  {
                    "Womens": "49",
                    "Gaming": "66",
                    "Phone_and_GPS": "86",
                    "Kids": "40",
                    "Accessories_count": "381",
                    "Entertainment_count": "93",
                    "Date": "2015-02-14",
                    "Mens": "47"
                  },
                  {
                    "Womens": "74",
                    "Gaming": "82",
                    "Phone_and_GPS": "66",
                    "Kids": "27",
                    "Accessories_count": "375",
                    "Entertainment_count": "51",
                    "Date": "2017-04-28",
                    "Mens": "75"
                  },
                  {
                    "Womens": "89",
                    "Gaming": "78",
                    "Phone_and_GPS": "23",
                    "Kids": "30",
                    "Accessories_count": "329",
                    "Entertainment_count": "64",
                    "Date": "2019-11-11",
                    "Mens": "45"
                  },
                  {
                    "Womens": "20",
                    "Gaming": "73",
                    "Phone_and_GPS": "32",
                    "Kids": "18",
                    "Accessories_count": "252",
                    "Entertainment_count": "75",
                    "Date": "2019-11-19",
                    "Mens": "34"
                  },
                  {
                    "Womens": "21",
                    "Gaming": "14",
                    "Phone_and_GPS": "26",
                    "Kids": "79",
                    "Accessories_count": "253",
                    "Entertainment_count": "84",
                    "Date": "2017-09-26",
                    "Mens": "29"
                  },
                  {
                    "Womens": "89",
                    "Gaming": "5",
                    "Phone_and_GPS": "20",
                    "Kids": "63",
                    "Accessories_count": "266",
                    "Entertainment_count": "43",
                    "Date": "2019-07-09",
                    "Mens": "46"
                  },
                  {
                    "Womens": "15",
                    "Gaming": "31",
                    "Phone_and_GPS": "60",
                    "Kids": "40",
                    "Accessories_count": "239",
                    "Entertainment_count": "47",
                    "Date": "2015-03-09",
                    "Mens": "46"
                  },
                  {
                    "Womens": "14",
                    "Gaming": "54",
                    "Phone_and_GPS": "74",
                    "Kids": "37",
                    "Accessories_count": "274",
                    "Entertainment_count": "68",
                    "Date": "2018-03-09",
                    "Mens": "27"
                  },
                  {
                    "Womens": "51",
                    "Gaming": "19",
                    "Phone_and_GPS": "52",
                    "Kids": "60",
                    "Accessories_count": "333",
                    "Entertainment_count": "56",
                    "Date": "2020-03-31",
                    "Mens": "95"
                  },
                  {
                    "Womens": "61",
                    "Gaming": "20",
                    "Phone_and_GPS": "24",
                    "Kids": "34",
                    "Accessories_count": "245",
                    "Entertainment_count": "23",
                    "Date": "2019-04-29",
                    "Mens": "83"
                  },
                  {
                    "Womens": "7",
                    "Gaming": "2",
                    "Phone_and_GPS": "7",
                    "Kids": "4",
                    "Accessories_count": "155",
                    "Entertainment_count": "69",
                    "Date": "2019-07-01",
                    "Mens": "66"
                  },
                  {
                    "Womens": "30",
                    "Gaming": "48",
                    "Phone_and_GPS": "78",
                    "Kids": "76",
                    "Accessories_count": "313",
                    "Entertainment_count": "40",
                    "Date": "2020-07-09",
                    "Mens": "41"
                  },
                  {
                    "Womens": "97",
                    "Gaming": "32",
                    "Phone_and_GPS": "99",
                    "Kids": "76",
                    "Accessories_count": "386",
                    "Entertainment_count": "22",
                    "Date": "2018-06-09",
                    "Mens": "60"
                  },
                  {
                    "Womens": "48",
                    "Gaming": "1",
                    "Phone_and_GPS": "33",
                    "Kids": "40",
                    "Accessories_count": "220",
                    "Entertainment_count": "82",
                    "Date": "2015-04-13",
                    "Mens": "16"
                  },
                  {
                    "Womens": "62",
                    "Gaming": "95",
                    "Phone_and_GPS": "86",
                    "Kids": "58",
                    "Accessories_count": "391",
                    "Entertainment_count": "76",
                    "Date": "2020-09-18",
                    "Mens": "14"
                  },
                  {
                    "Womens": "47",
                    "Gaming": "15",
                    "Phone_and_GPS": "38",
                    "Kids": "27",
                    "Accessories_count": "170",
                    "Entertainment_count": "23",
                    "Date": "2020-10-01",
                    "Mens": "20"
                  },
                  {
                    "Womens": "17",
                    "Gaming": "45",
                    "Phone_and_GPS": "32",
                    "Kids": "32",
                    "Accessories_count": "157",
                    "Entertainment_count": "3",
                    "Date": "2018-02-05",
                    "Mens": "28"
                  },
                  {
                    "Womens": "65",
                    "Gaming": "12",
                    "Phone_and_GPS": "69",
                    "Kids": "91",
                    "Accessories_count": "276",
                    "Entertainment_count": "26",
                    "Date": "2020-01-27",
                    "Mens": "13"
                  },
                  {
                    "Womens": "37",
                    "Gaming": "13",
                    "Phone_and_GPS": "71",
                    "Kids": "81",
                    "Accessories_count": "235",
                    "Entertainment_count": "32",
                    "Date": "2017-05-27",
                    "Mens": "1"
                  },
                  {
                    "Womens": "31",
                    "Gaming": "88",
                    "Phone_and_GPS": "25",
                    "Kids": "78",
                    "Accessories_count": "404",
                    "Entertainment_count": "92",
                    "Date": "2017-08-26",
                    "Mens": "90"
                  },
                  {
                    "Womens": "72",
                    "Gaming": "38",
                    "Phone_and_GPS": "81",
                    "Kids": "91",
                    "Accessories_count": "402",
                    "Entertainment_count": "45",
                    "Date": "2020-08-26",
                    "Mens": "75"
                  },
                  {
                    "Womens": "27",
                    "Gaming": "39",
                    "Phone_and_GPS": "26",
                    "Kids": "49",
                    "Accessories_count": "225",
                    "Entertainment_count": "81",
                    "Date": "2019-09-26",
                    "Mens": "3"
                  },
                  {
                    "Womens": "84",
                    "Gaming": "80",
                    "Phone_and_GPS": "64",
                    "Kids": "85",
                    "Accessories_count": "394",
                    "Entertainment_count": "12",
                    "Date": "2019-12-24",
                    "Mens": "69"
                  }
                ]
              },
              "isSummary": false,
              "language": "scala"
            }
          },
          "metadata": {}
        }
      ],
      "metadata": {
        "diagram": {
          "activateDiagramType": 1,
          "chartConfig": {
            "category": "bar",
            "keys": [
              "Womens"
            ],
            "values": [
              "Womens"
            ],
            "yLabel": "Womens",
            "xLabel": "Womens",
            "aggregation": "COUNT",
            "aggByBackend": false
          },
          "aggData": {
            "Womens": {
              "0": 11,
              "1": 7,
              "2": 7,
              "3": 13,
              "4": 12,
              "5": 11,
              "6": 13,
              "7": 11,
              "8": 10,
              "9": 3,
              "10": 15,
              "11": 11,
              "12": 7,
              "13": 9,
              "14": 17,
              "15": 15,
              "16": 9,
              "17": 10,
              "18": 14,
              "19": 11,
              "20": 14,
              "21": 7,
              "22": 13,
              "23": 9,
              "24": 6,
              "25": 9,
              "26": 11,
              "27": 9,
              "28": 13,
              "29": 8,
              "30": 8,
              "31": 14,
              "32": 12,
              "33": 5,
              "34": 10,
              "35": 12,
              "36": 13,
              "37": 10,
              "38": 9,
              "39": 6,
              "40": 7,
              "41": 11,
              "42": 6,
              "43": 14,
              "44": 5,
              "45": 16,
              "46": 10,
              "47": 10,
              "48": 13,
              "49": 17,
              "50": 12,
              "51": 11,
              "52": 11,
              "53": 14,
              "54": 6,
              "55": 10,
              "56": 10,
              "57": 4,
              "58": 12,
              "59": 5,
              "60": 7,
              "61": 7,
              "62": 7,
              "63": 8,
              "64": 7,
              "65": 8,
              "66": 9,
              "67": 12,
              "68": 7,
              "69": 14,
              "70": 9,
              "71": 7,
              "72": 3,
              "73": 9,
              "74": 10,
              "75": 9,
              "76": 7,
              "77": 15,
              "78": 6,
              "79": 12,
              "80": 12,
              "81": 6,
              "82": 12,
              "83": 10,
              "84": 11,
              "85": 11,
              "86": 10,
              "87": 7,
              "88": 9,
              "89": 12,
              "90": 8,
              "91": 13,
              "92": 6,
              "93": 10,
              "94": 14,
              "95": 14,
              "96": 7,
              "97": 15,
              "98": 12,
              "99": 11
            }
          },
          "isSummary": false,
          "previewData": {
            "filter": null
          },
          "isSql": false
        }
      },
      "source": [
        "%%spark\n",
        "display(df)"
      ],
      "attachments": {}
    },
    {
      "cell_type": "markdown",
      "metadata": {},
      "source": [
        "# Exploratory Data Analysis\n",
        "\n",
        "<p style=\"font-size:16px; color:#117d30;\">\n",
        "The goal of performing exploratory data analysis is to understand the underlying patterns and correlations among features in the data. \n",
        ""
      ],
      "attachments": {}
    },
    {
      "cell_type": "code",
      "execution_count": 6,
      "outputs": [
        {
          "output_type": "execute_result",
          "execution_count": 6,
          "data": {
            "text/plain": "/home/trusted-service-user/cluster-env/env/lib/python3.6/site-packages/pyarrow/util.py:39: FutureWarning: pyarrow.open_stream is deprecated as of 0.17.0, please use pyarrow.ipc.open_stream instead\n  warnings.warn(msg, FutureWarning)"
          },
          "metadata": {}
        }
      ],
      "metadata": {},
      "source": [
        "%%pyspark\n",
        "#Calling the dataframe df created in Scala to Python\n",
        "df = sqlContext.table(\"df\")\n",
        "# *********************\n",
        "department_visit_data = df.select(\"*\").toPandas()\n",
        "department_visit_data['Date'] = pd.to_datetime(department_visit_data['Date']).dt.strftime('%m/%d/%y')\n",
        "department_visit_data['Month'] = pd.to_datetime(department_visit_data['Date']).dt.strftime('%m')\n",
        "department_visit_data['DayOfMonth'] = pd.to_datetime(department_visit_data['Date']).dt.strftime('%d')\n",
        "department_visit_data['Year'] = pd.to_datetime(department_visit_data['Date']).dt.strftime('%y')\n",
        "department_visit_data['DayOfWeek'] = pd.to_datetime(department_visit_data['Date']).dt.strftime('%a')\n",
        "department_visit_data[['Accessories_count','Entertainment_count','Gaming','Kids','Mens','Phone_and_GPS','Womens']] = department_visit_data[['Accessories_count','Entertainment_count','Gaming','Kids','Mens','Phone_and_GPS','Womens']].apply(pd.to_numeric)\n",
        "\n",
        "#display(department_visit_data)"
      ],
      "attachments": {}
    },
    {
      "cell_type": "code",
      "execution_count": 7,
      "outputs": [
        {
          "output_type": "execute_result",
          "execution_count": 7,
          "data": {
            "text/plain": "Date  Accessories_count    ...      Year  DayOfWeek\n0      07/21/19                114    ...        19        Sun\n1      11/04/16                309    ...        16        Fri\n2      12/14/17                238    ...        17        Thu\n3      04/04/16                286    ...        16        Mon\n4      10/20/18                353    ...        18        Sat\n5      05/31/17                233    ...        17        Wed\n6      03/25/18                271    ...        18        Sun\n7      01/01/20                284    ...        20        Wed\n8      09/05/16                352    ...        16        Mon\n9      10/03/15                339    ...        15        Sat\n10     08/24/20                233    ...        20        Mon\n11     07/29/15                494    ...        15        Wed\n12     06/12/15                395    ...        15        Fri\n13     11/13/15                 72    ...        15        Fri\n14     03/15/20                264    ...        20        Sun\n15     07/19/16                364    ...        16        Tue\n16     08/20/16                147    ...        16        Sat\n17     11/24/15                337    ...        15        Tue\n18     03/01/20                324    ...        20        Sun\n19     10/01/15                244    ...        15        Thu\n20     07/29/16                430    ...        16        Fri\n21     04/09/19                227    ...        19        Tue\n22     04/22/19                232    ...        19        Mon\n23     01/24/20                353    ...        20        Fri\n24     06/27/17                270    ...        17        Tue\n25     12/03/18                255    ...        18        Mon\n26     08/23/15                298    ...        15        Sun\n27     01/13/16                234    ...        16        Wed\n28     01/17/18                294    ...        18        Wed\n29     09/23/16                294    ...        16        Fri\n...         ...                ...    ...       ...        ...\n19970  04/09/18                394    ...        18        Mon\n19971  05/29/18                364    ...        18        Tue\n19972  06/21/17                295    ...        17        Wed\n19973  09/02/15                375    ...        15        Wed\n19974  09/09/17                337    ...        17        Sat\n19975  11/18/15                286    ...        15        Wed\n19976  09/03/19                242    ...        19        Tue\n19977  06/06/18                185    ...        18        Wed\n19978  11/17/18                226    ...        18        Sat\n19979  03/10/19                397    ...        19        Sun\n19980  12/18/16                272    ...        16        Sun\n19981  02/03/19                255    ...        19        Sun\n19982  09/17/19                384    ...        19        Tue\n19983  08/26/19                342    ...        19        Mon\n19984  09/27/16                255    ...        16        Tue\n19985  05/06/18                162    ...        18        Sun\n19986  02/03/16                324    ...        16        Wed\n19987  07/28/20                210    ...        20        Tue\n19988  04/10/15                226    ...        15        Fri\n19989  02/25/18                232    ...        18        Sun\n19990  05/13/16                244    ...        16        Fri\n19991  09/26/19                320    ...        19        Thu\n19992  12/06/18                164    ...        18        Thu\n19993  06/17/20                364    ...        20        Wed\n19994  12/24/19                151    ...        19        Tue\n19995  02/16/16                252    ...        16        Tue\n19996  03/30/16                258    ...        16        Wed\n19997  06/27/15                328    ...        15        Sat\n19998  03/18/20                241    ...        20        Wed\n19999  07/28/15                269    ...        15        Tue\n\n[20000 rows x 12 columns]"
          },
          "metadata": {}
        }
      ],
      "metadata": {},
      "source": [
        "#display(department_visit_data)\n",
        "department_visit_data"
      ],
      "attachments": {}
    },
    {
      "cell_type": "markdown",
      "metadata": {},
      "source": [
        "##  Deriving insights from customer visits data  \n",
        "\n",
        "<p style=\"font-size:16px; color:#117d30;\">\n",
        "1. Heat Map: Thickness of the color indicates the no of customers visiting the section on that particular day. It provides a quick representation of distribution of traffic across days and in various departments. From the graph, we can infer that more number of customers visit the Entertainment department on Wednesdays, Thursdays and Fridays and there is less foot traffic on Mondays and Fridays in the Phone_and_gps department.\n",
        ""
      ],
      "attachments": {}
    },
    {
      "cell_type": "code",
      "execution_count": 8,
      "outputs": [
        {
          "output_type": "execute_result",
          "execution_count": 8,
          "data": {
            "text/plain": "Mens  Womens      ...        Accessories  Phone_and_GPS\nDayOfWeek                      ...                                  \nFri        140344  140177      ...             856395         145058\nMon        138747  137086      ...             833021         139095\nSat        141426  140095      ...             846022         143285\nSun        135679  135051      ...             810272         135514\nThu        139177  141552      ...             846595         139471\nTue        140676  144406      ...             854834         140383\nWed        149323  148220      ...             888928         147400\n\n[7 rows x 7 columns]"
          },
          "metadata": {}
        }
      ],
      "metadata": {},
      "source": [
        "%%pyspark\n",
        "df_dow = pd.DataFrame(department_visit_data.groupby('DayOfWeek')[['Mens']].sum().sort_values(by = 'DayOfWeek', \n",
        "                                                                 ascending=True))\n",
        "\n",
        "df_dow['Mens'] = pd.DataFrame(department_visit_data.groupby('DayOfWeek')[['Mens']].sum().sort_values(by = 'DayOfWeek', \n",
        "                                                                 ascending=True))\n",
        "\n",
        "df_dow['Womens'] = pd.DataFrame(department_visit_data.groupby('DayOfWeek')[['Womens']].sum().sort_values(by = 'DayOfWeek', \n",
        "                                                                 ascending=True))\n",
        "\n",
        "df_dow['Kids'] = pd.DataFrame(department_visit_data.groupby('DayOfWeek')[['Kids']].sum().sort_values(by = 'DayOfWeek', \n",
        "                                                                 ascending=True))\n",
        "\n",
        "df_dow['Gaming'] = pd.DataFrame(department_visit_data.groupby('DayOfWeek')[['Gaming']].sum().sort_values(by = 'DayOfWeek', \n",
        "                                                                 ascending=True))\n",
        "\n",
        "df_dow['Entertainment'] = pd.DataFrame(department_visit_data.groupby('DayOfWeek')[['Entertainment_count']].sum().sort_values(by = 'DayOfWeek', \n",
        "                                                                 ascending=True))\n",
        "\n",
        "df_dow['Accessories'] = pd.DataFrame(department_visit_data.groupby('DayOfWeek')[['Accessories_count']].sum().sort_values(by = 'DayOfWeek', \n",
        "                                                                 ascending=True))\n",
        "\n",
        "df_dow['Phone_and_GPS'] = pd.DataFrame(department_visit_data.groupby('DayOfWeek')[['Phone_and_GPS']].sum().sort_values(by = 'DayOfWeek', \n",
        "                                                                 ascending=True))\n",
        "\n",
        "\n",
        "df_dow.head(10)\n",
        ""
      ],
      "attachments": {}
    },
    {
      "cell_type": "code",
      "execution_count": 9,
      "outputs": [],
      "metadata": {},
      "source": [
        "#import pkg_resources\n",
        "#pkg_resources.get_distribution(\"seaborn\").version\n",
        "#it should print version '0.10.1'"
      ],
      "attachments": {}
    },
    {
      "cell_type": "code",
      "execution_count": 10,
      "outputs": [
        {
          "output_type": "execute_result",
          "execution_count": 10,
          "data": {
            "image/png": "data:image/png;base64,iVBORw0KGgoAAAANSUhEUgAAAkYAAAJUCAYAAADww+n8AAAABHNCSVQICAgIfAhkiAAAAAlwSFlz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\niwojQgghhJBa/wNzY48f1ORzwQAAAABJRU5ErkJggg=="
          },
          "metadata": {}
        }
      ],
      "metadata": {},
      "source": [
        "sns.set()\n",
        "plt.rcParams['font.size'] = 12\n",
        "bg_color = (0.88,0.85,0.95)\n",
        "plt.rcParams['figure.facecolor'] = bg_color\n",
        "plt.rcParams['axes.facecolor'] = bg_color\n",
        "fig, ax = plt.subplots(1)\n",
        "cmap = sns.diverging_palette(10, 150, n=2, as_cmap=True)\n",
        "#cmap = sns.color_palette(\"hls\", 150)\n",
        "\n",
        "p = sns.heatmap(df_dow,\n",
        "                cmap=cmap,\n",
        "                annot=True,\n",
        "                fmt=\"d\",\n",
        "                annot_kws={'size':8},\n",
        "                ax=ax)\n",
        "plt.xlabel('Category')\n",
        "plt.ylabel('Day Of Week')\n",
        "ax.set_ylim((0,7))\n",
        "plt.text(5,7.4, \"Heat Map\", fontsize = 25, color='Black', fontstyle='italic')\n",
        " \n",
        "plt.show()"
      ],
      "attachments": {}
    },
    {
      "cell_type": "markdown",
      "metadata": {},
      "source": [
        "# Data Manipulation  \n",
        "<p style=\"font-size:16px; color:#117d30;\">\n",
        "1. Converting date to a specific format and making date fields relevant for prediction.\n",
        "\n",
        "<p style=\"font-size:16px; color:#117d30;\">\n",
        "2. Converting the data type of the columns to numeric before being passed as input to the model.\n",
        ""
      ],
      "attachments": {}
    },
    {
      "cell_type": "code",
      "execution_count": 11,
      "outputs": [
        {
          "output_type": "execute_result",
          "execution_count": 11,
          "data": {
            "text/plain": "<bound method DataFrame.count of             Date  Accessories_count   ...    Phone_and_GPS  Womens\n0     2014-12-31                406   ...               88      76\n1     2015-01-01               1749   ...              246     192\n2     2015-01-02               3371   ...              886     476\n3     2015-01-03               3254   ...              454     712\n4     2015-01-04               3624   ...              791     630\n5     2015-01-05               1165   ...              202     187\n6     2015-01-06               2387   ...              312     338\n7     2015-01-07               2480   ...              314     417\n8     2015-01-08               2527   ...              520     430\n9     2015-01-09               3646   ...              656     577\n10    2015-01-10               2045   ...              406     178\n11    2015-01-11               3694   ...              419     580\n12    2015-01-12               3539   ...              604     503\n13    2015-01-13               3172   ...              629     480\n14    2015-01-14               4339   ...              483     880\n15    2015-01-15               2428   ...              402     441\n16    2015-01-16               3738   ...              574     421\n17    2015-01-17               4141   ...              695     534\n18    2015-01-18               4229   ...              711     594\n19    2015-01-19                307   ...               39      50\n20    2015-01-20               3622   ...              459     805\n21    2015-01-21               4330   ...              768     611\n22    2015-01-22               2282   ...              373     468\n23    2015-01-23               4813   ...              747     697\n24    2015-01-24               2220   ...              367     271\n25    2015-01-25               2000   ...              353     298\n26    2015-01-26               1677   ...              307     247\n27    2015-01-27               1508   ...              180     359\n28    2015-01-28               3510   ...              546     713\n29    2015-01-29               3995   ...              651     643\n...          ...                ...   ...              ...     ...\n2163  2020-12-02               2916   ...              386     597\n2164  2020-12-03               3133   ...              524     458\n2165  2020-12-04               3742   ...              660     490\n2166  2020-12-05               2907   ...              604     349\n2167  2020-12-06               2640   ...              522     423\n2168  2020-12-07               3352   ...              471     459\n2169  2020-12-08               2205   ...              396     295\n2170  2020-12-09               2574   ...              510     321\n2171  2020-12-10               1667   ...              178     341\n2172  2020-12-11               1403   ...              246     209\n2173  2020-12-12               2370   ...              485     357\n2174  2020-12-13               3048   ...              583     467\n2175  2020-12-14               1948   ...              196     313\n2176  2020-12-15               2373   ...              291     450\n2177  2020-12-16               3003   ...              501     645\n2178  2020-12-17               2531   ...              433     355\n2179  2020-12-18               2774   ...              533     382\n2180  2020-12-19               2448   ...              288     385\n2181  2020-12-20               1573   ...              141     372\n2182  2020-12-21               1682   ...              372     154\n2183  2020-12-22               1592   ...              224     315\n2184  2020-12-23               1115   ...              252     179\n2185  2020-12-24               4618   ...              723     744\n2186  2020-12-25               2976   ...              469     465\n2187  2020-12-26               3283   ...              667     489\n2188  2020-12-27               2891   ...              404     476\n2189  2020-12-28               3905   ...              639     594\n2190  2020-12-29               1923   ...              373     302\n2191  2020-12-30               1616   ...              232     356\n2192  2020-12-31                654   ...              112     131\n\n[2193 rows x 8 columns]>\n/home/trusted-service-user/cluster-env/env/lib/python3.6/site-packages/pyarrow/util.py:39: FutureWarning: pyarrow.open_stream is deprecated as of 0.17.0, please use pyarrow.ipc.open_stream instead\n  warnings.warn(msg, FutureWarning)"
          },
          "metadata": {}
        }
      ],
      "metadata": {},
      "source": [
        "%%pyspark\n",
        "department_visit_data = df.select(\"*\").toPandas()\n",
        "department_visit_data['Date'] = pd.to_datetime(department_visit_data['Date']).dt.strftime('%Y-%m-%d')\n",
        "\n",
        "department_visit_data[['Accessories_count','Entertainment_count','Gaming','Kids','Mens','Phone_and_GPS','Womens']] = department_visit_data[['Accessories_count','Entertainment_count','Gaming','Kids','Mens','Phone_and_GPS','Womens']].apply(pd.to_numeric)\n",
        "\n",
        "grouped_data = department_visit_data.groupby('Date', as_index=False).sum()\n",
        "\n",
        "\n",
        "total_rows = grouped_data.count\n",
        "print(total_rows)"
      ],
      "attachments": {}
    },
    {
      "cell_type": "code",
      "execution_count": 12,
      "outputs": [
        {
          "output_type": "execute_result",
          "execution_count": 12,
          "data": {
            "text/plain": "Date  Accessories_count\n0     2014-12-31                406\n1     2015-01-01               1749\n2     2015-01-02               3371\n3     2015-01-03               3254\n4     2015-01-04               3624\n5     2015-01-05               1165\n6     2015-01-06               2387\n7     2015-01-07               2480\n8     2015-01-08               2527\n9     2015-01-09               3646\n10    2015-01-10               2045\n11    2015-01-11               3694\n12    2015-01-12               3539\n13    2015-01-13               3172\n14    2015-01-14               4339\n15    2015-01-15               2428\n16    2015-01-16               3738\n17    2015-01-17               4141\n18    2015-01-18               4229\n19    2015-01-19                307\n20    2015-01-20               3622\n21    2015-01-21               4330\n22    2015-01-22               2282\n23    2015-01-23               4813\n24    2015-01-24               2220\n25    2015-01-25               2000\n26    2015-01-26               1677\n27    2015-01-27               1508\n28    2015-01-28               3510\n29    2015-01-29               3995\n...          ...                ...\n2163  2020-12-02               2916\n2164  2020-12-03               3133\n2165  2020-12-04               3742\n2166  2020-12-05               2907\n2167  2020-12-06               2640\n2168  2020-12-07               3352\n2169  2020-12-08               2205\n2170  2020-12-09               2574\n2171  2020-12-10               1667\n2172  2020-12-11               1403\n2173  2020-12-12               2370\n2174  2020-12-13               3048\n2175  2020-12-14               1948\n2176  2020-12-15               2373\n2177  2020-12-16               3003\n2178  2020-12-17               2531\n2179  2020-12-18               2774\n2180  2020-12-19               2448\n2181  2020-12-20               1573\n2182  2020-12-21               1682\n2183  2020-12-22               1592\n2184  2020-12-23               1115\n2185  2020-12-24               4618\n2186  2020-12-25               2976\n2187  2020-12-26               3283\n2188  2020-12-27               2891\n2189  2020-12-28               3905\n2190  2020-12-29               1923\n2191  2020-12-30               1616\n2192  2020-12-31                654\n\n[2193 rows x 2 columns]"
          },
          "metadata": {}
        }
      ],
      "metadata": {},
      "source": [
        "%%pyspark\n",
        "accessories_data = grouped_data[['Date','Accessories_count']]\n",
        "accessories_data"
      ],
      "attachments": {}
    },
    {
      "cell_type": "code",
      "execution_count": 13,
      "outputs": [
        {
          "output_type": "execute_result",
          "execution_count": 13,
          "data": {
            "text/plain": "<bound method DataFrame.count of             Date  Accessories_count\n0     2014-12-31                406\n1     2015-01-01               1749\n2     2015-01-02               3371\n3     2015-01-03               3254\n4     2015-01-04               3624\n5     2015-01-05               1165\n6     2015-01-06               2387\n7     2015-01-07               2480\n8     2015-01-08               2527\n9     2015-01-09               3646\n10    2015-01-10               2045\n11    2015-01-11               3694\n12    2015-01-12               3539\n13    2015-01-13               3172\n14    2015-01-14               4339\n15    2015-01-15               2428\n16    2015-01-16               3738\n17    2015-01-17               4141\n18    2015-01-18               4229\n19    2015-01-19                307\n20    2015-01-20               3622\n21    2015-01-21               4330\n22    2015-01-22               2282\n23    2015-01-23               4813\n24    2015-01-24               2220\n25    2015-01-25               2000\n26    2015-01-26               1677\n27    2015-01-27               1508\n28    2015-01-28               3510\n29    2015-01-29               3995\n...          ...                ...\n2163  2020-12-02               2916\n2164  2020-12-03               3133\n2165  2020-12-04               3742\n2166  2020-12-05               2907\n2167  2020-12-06               2640\n2168  2020-12-07               3352\n2169  2020-12-08               2205\n2170  2020-12-09               2574\n2171  2020-12-10               1667\n2172  2020-12-11               1403\n2173  2020-12-12               2370\n2174  2020-12-13               3048\n2175  2020-12-14               1948\n2176  2020-12-15               2373\n2177  2020-12-16               3003\n2178  2020-12-17               2531\n2179  2020-12-18               2774\n2180  2020-12-19               2448\n2181  2020-12-20               1573\n2182  2020-12-21               1682\n2183  2020-12-22               1592\n2184  2020-12-23               1115\n2185  2020-12-24               4618\n2186  2020-12-25               2976\n2187  2020-12-26               3283\n2188  2020-12-27               2891\n2189  2020-12-28               3905\n2190  2020-12-29               1923\n2191  2020-12-30               1616\n2192  2020-12-31                654\n\n[2193 rows x 2 columns]>"
          },
          "metadata": {}
        }
      ],
      "metadata": {},
      "source": [
        "%%pyspark\n",
        "total_rows = accessories_data.count\n",
        "print(total_rows)"
      ],
      "attachments": {}
    },
    {
      "cell_type": "markdown",
      "metadata": {},
      "source": [
        "## Split data into train and test set\n",
        ""
      ],
      "attachments": {}
    },
    {
      "cell_type": "code",
      "execution_count": 14,
      "outputs": [],
      "metadata": {},
      "source": [
        "%%pyspark\n",
        "train_data = pd.DataFrame()\n",
        "test_data = pd.DataFrame()\n",
        "\n",
        "if accessories_data.shape[0] > 55: # len(df) > 10 would also work\n",
        "    train_data = accessories_data[:55]\n",
        "    test_data = accessories_data[55:]"
      ],
      "attachments": {}
    },
    {
      "cell_type": "code",
      "execution_count": 15,
      "outputs": [
        {
          "output_type": "execute_result",
          "execution_count": 15,
          "data": {
            "text/plain": "Date  Accessories_count\n55    2015-02-24               4764\n56    2015-02-25               2008\n57    2015-02-26               3025\n58    2015-02-27               3079\n59    2015-02-28               2467\n60    2015-03-01               3723\n61    2015-03-02               2363\n62    2015-03-03               2817\n63    2015-03-04               3890\n64    2015-03-05               3461\n65    2015-03-06               2611\n66    2015-03-07               3249\n67    2015-03-08               1921\n68    2015-03-09               6007\n69    2015-03-10               3343\n70    2015-03-11               2446\n71    2015-03-12               2806\n72    2015-03-13               1910\n73    2015-03-14               1834\n74    2015-03-15               1716\n75    2015-03-16               1427\n76    2015-03-17               3392\n77    2015-03-18               3483\n78    2015-03-19               3331\n79    2015-03-20               2199\n80    2015-03-21                768\n81    2015-03-22               3658\n82    2015-03-23               3574\n83    2015-03-24               1949\n84    2015-03-25               1578\n...          ...                ...\n2163  2020-12-02               2916\n2164  2020-12-03               3133\n2165  2020-12-04               3742\n2166  2020-12-05               2907\n2167  2020-12-06               2640\n2168  2020-12-07               3352\n2169  2020-12-08               2205\n2170  2020-12-09               2574\n2171  2020-12-10               1667\n2172  2020-12-11               1403\n2173  2020-12-12               2370\n2174  2020-12-13               3048\n2175  2020-12-14               1948\n2176  2020-12-15               2373\n2177  2020-12-16               3003\n2178  2020-12-17               2531\n2179  2020-12-18               2774\n2180  2020-12-19               2448\n2181  2020-12-20               1573\n2182  2020-12-21               1682\n2183  2020-12-22               1592\n2184  2020-12-23               1115\n2185  2020-12-24               4618\n2186  2020-12-25               2976\n2187  2020-12-26               3283\n2188  2020-12-27               2891\n2189  2020-12-28               3905\n2190  2020-12-29               1923\n2191  2020-12-30               1616\n2192  2020-12-31                654\n\n[2138 rows x 2 columns]"
          },
          "metadata": {}
        }
      ],
      "metadata": {},
      "source": [
        "%%pyspark\n",
        "test_data"
      ],
      "attachments": {}
    },
    {
      "cell_type": "markdown",
      "metadata": {},
      "source": [
        "## Train\n",
        "\n",
        "<p style=\"font-size:16px; color:#117d30;\">\n",
        "1. Instantiate an AutoMLConfig object. \n",
        "<p style=\"font-size:16px; color:#117d30;\">\n",
        "2. The configuration below defines the settings and data used to run the experiment. \n",
        ""
      ],
      "attachments": {}
    },
    {
      "cell_type": "markdown",
      "metadata": {},
      "source": [
        "## Set AutoML Configuration Parameters\n",
        "\n",
        "<p style=\"font-size:16px; color:#117d30;\">\n",
        "    The forecast horizon is the number of periods into the future that the model should predict. \n",
        "\n",
        "<p style=\"font-size:16px; color:#117d30;\">\n",
        "    It is generally recommended that users set forecast horizons to less than 100 time periods\n",
        "\n",
        "<p style=\"font-size:16px; color:#117d30;\">\n",
        "    Furthermore, AutoML's memory use and computation time increases in proportion to the length of the horizon, so consider carefully how this value is set. \n",
        "\n",
        "<p style=\"font-size:16px; color:#117d30;\">\n",
        "    If a long horizon forecast really is necessary, consider aggregating the series to a coarser time scale.\n",
        ""
      ],
      "attachments": {}
    },
    {
      "cell_type": "code",
      "execution_count": 16,
      "outputs": [],
      "metadata": {},
      "source": [
        "%%pyspark\n",
        "automl_settings = {\n",
        "   'time_column_name':'Date',\n",
        "   'max_horizon': 25\n",
        "}"
      ],
      "attachments": {}
    },
    {
      "cell_type": "code",
      "execution_count": 17,
      "outputs": [],
      "metadata": {},
      "source": [
        "%%pyspark\n",
        "automl_config = AutoMLConfig( \n",
        "                            #forecasting for time-series tasks\n",
        "                            task='forecasting',\n",
        "                            #measuere for evaluating the performance of the models\n",
        "                            primary_metric='normalized_root_mean_squared_error',\n",
        "                            #Maximum amount of time in minutes that the experiment take before it terminates.\n",
        "                            experiment_timeout_minutes=15,\n",
        "                            enable_early_stopping=True,\n",
        "                            training_data=train_data,\n",
        "                            label_column_name='Accessories_count',\n",
        "                            #Rolling Origin Validation is used to split time-series in a temporally consistent way.\n",
        "                            n_cross_validations=4,\n",
        "                            # Flag to enble early termination if the score is not improving in the short term.\n",
        "                            enable_ensembling=False,\n",
        "                            verbosity=logging.INFO,\n",
        "                            **automl_settings)"
      ],
      "attachments": {}
    },
    {
      "cell_type": "code",
      "execution_count": 18,
      "outputs": [],
      "metadata": {},
      "source": [
        "%%pyspark\n",
        "subscription_id='#SUBSCRIPTION_ID#'\n",
        "resource_group='Synapse-WWI-Lab'\n",
        "workspace_name='#AML_WORKSPACE_NAME#'\n",
        "ws = Workspace(subscription_id = subscription_id, resource_group = resource_group, workspace_name = workspace_name)\n",
        "ws.write_config()\n",
        "ws = Workspace.from_config()\n",
        "experiment = Experiment(ws, \"Department_Visit_Count_20thFeb_3\")"
      ],
      "attachments": {}
    },
    {
      "cell_type": "markdown",
      "metadata": {},
      "source": [
        "## Run The Experiment\n",
        "<p style=\"font-size:16px; color:#117d30;\">\n",
        "Automated ML runs more than 25 Machine Learning Algorithms and grades them according to performance.\n",
        ""
      ],
      "attachments": {}
    },
    {
      "cell_type": "code",
      "execution_count": 19,
      "outputs": [
        {
          "output_type": "execute_result",
          "execution_count": 19,
          "data": {
            "text/plain": "Running on local machine\nParent Run ID: AutoML_07e5388c-f6d0-4e14-9bfc-68156dc1ff3f\n\n\rCurrent status: DatasetFeaturization. Beginning to featurize the dataset.\n\rCurrent status: DatasetFeaturizationCompleted. Completed featurizing the dataset.\n\rCurrent status: DatasetCrossValidationSplit. Generating individually featurized CV splits.\n\rCurrent status: DatasetFeaturization. Beginning to featurize the CV split.\n\rCurrent status: DatasetFeaturizationCompleted. Completed featurizing the CV split.\n\rCurrent status: DatasetFeaturization. Beginning to featurize the CV split.\n\rCurrent status: DatasetFeaturizationCompleted. Completed featurizing the CV split.\n\rCurrent status: DatasetFeaturization. Beginning to featurize the CV split.\n\rCurrent status: DatasetFeaturizationCompleted. Completed featurizing the CV split.\n\rCurrent status: DatasetFeaturization. Beginning to featurize the CV split.\n\rCurrent status: DatasetFeaturizationCompleted. Completed featurizing the CV split.\n\n****************************************************************************************************\nDATA GUARDRAILS: \n\nTYPE:         Frequency detection\nSTATUS:       PASSED\nDESCRIPTION:  The time series was analyzed, all data points are aligned with detected frequency.\n              \n\nTYPE:         Missing feature values imputation\nSTATUS:       PASSED\nDESCRIPTION:  No feature missing values were detected in the training data.\n              Learn more about missing value imputation: https://aka.ms/AutomatedMLFeaturization\n\n****************************************************************************************************\n\rCurrent status: ModelSelection. Beginning model selection.\n\n****************************************************************************************************\nITERATION: The iteration being evaluated.\nPIPELINE: A summary description of the pipeline being evaluated.\nDURATION: Time taken for the current iteration.\nMETRIC: The result of computing score on the fitted pipeline.\nBEST: The best observed score thus far.\n****************************************************************************************************\n\n ITERATION   PIPELINE                                       DURATION      METRIC      BEST\n         0                                                  0:00:23          nan       nan\nERROR: Run AutoML_07e5388c-f6d0-4e14-9bfc-68156dc1ff3f_0 failed with exception of type: KeyError\n         1                                                  0:00:20          nan       nan\nERROR: Run AutoML_07e5388c-f6d0-4e14-9bfc-68156dc1ff3f_1 failed with exception of type: KeyError\n         2                                                  0:00:17          nan       nan\nERROR: Run AutoML_07e5388c-f6d0-4e14-9bfc-68156dc1ff3f_2 failed with exception of type: KeyError\n         3                                                  0:00:20          nan       nan\nERROR: Run AutoML_07e5388c-f6d0-4e14-9bfc-68156dc1ff3f_3 failed with exception of type: KeyError\n         4                                                  0:00:26          nan       nan\nERROR: Run AutoML_07e5388c-f6d0-4e14-9bfc-68156dc1ff3f_4 failed with exception of type: KeyError\n         5                                                  0:00:21          nan       nan\nERROR: Run AutoML_07e5388c-f6d0-4e14-9bfc-68156dc1ff3f_5 failed with exception of type: KeyError\n         6                                                  0:00:19          nan       nan\nERROR: Run AutoML_07e5388c-f6d0-4e14-9bfc-68156dc1ff3f_6 failed with exception of type: KeyError\n         7                                                  0:01:33          nan       nan\nERROR: Run AutoML_07e5388c-f6d0-4e14-9bfc-68156dc1ff3f_7 failed with exception of type: KeyError\n         8                                                  0:00:18          nan       nan\nERROR: Run AutoML_07e5388c-f6d0-4e14-9bfc-68156dc1ff3f_8 failed with exception of type: KeyError\n         9                                                  0:00:26          nan       nan\nERROR: Run AutoML_07e5388c-f6d0-4e14-9bfc-68156dc1ff3f_9 failed with exception of type: KeyError\n        10                                                  0:00:24          nan       nan\nERROR: Run AutoML_07e5388c-f6d0-4e14-9bfc-68156dc1ff3f_10 failed with exception of type: KeyError\n        11                                                  0:00:23          nan       nan\nERROR: Run AutoML_07e5388c-f6d0-4e14-9bfc-68156dc1ff3f_11 failed with exception of type: KeyError\n        12                                                  0:00:23          nan       nan\nERROR: Run AutoML_07e5388c-f6d0-4e14-9bfc-68156dc1ff3f_12 failed with exception of type: KeyError\n        13                                                  0:01:57          nan       nan\nERROR: Run AutoML_07e5388c-f6d0-4e14-9bfc-68156dc1ff3f_13 failed with exception of type: KeyError\n        14                                                  0:04:08          nan       nan\nERROR: Run AutoML_07e5388c-f6d0-4e14-9bfc-68156dc1ff3f_14 failed with exception of type: KeyError\n        15                                                  0:03:54          nan       nan\nERROR: Run AutoML_07e5388c-f6d0-4e14-9bfc-68156dc1ff3f_15 failed with exception of type: KeyError\nStopping criteria reached at iteration 16. Ending experiment.\n****************************************************************************************************\n\rCurrent status: BestRunExplainModel. Best run model explanations started\n\rCurrent status: ModelExplanationDataSetSetup. Model explanations data setup completed\n\rCurrent status: PickSurrogateModel. Choosing LightGBM as the surrogate model for explanations\n\rCurrent status: EngineeredFeatureExplanations. Computation of engineered features started\n\rCurrent status: EngineeredFeatureExplanations. Computation of engineered features completed\n\rCurrent status: BestRunExplainModel. Best run model explanations completed\n****************************************************************************************************\n----------------------------------------\nException happened during processing of request from ('127.0.0.1', 52794)\nTraceback (most recent call last):\n  File \"/home/trusted-service-user/cluster-env/env/lib/python3.6/socketserver.py\", line 317, in _handle_request_noblock\n    self.process_request(request, client_address)\n  File \"/home/trusted-service-user/cluster-env/env/lib/python3.6/socketserver.py\", line 348, in process_request\n    self.finish_request(request, client_address)\n  File \"/home/trusted-service-user/cluster-env/env/lib/python3.6/socketserver.py\", line 361, in finish_request\n    self.RequestHandlerClass(request, client_address, self)\n  File \"/home/trusted-service-user/cluster-env/env/lib/python3.6/socketserver.py\", line 696, in __init__\n    self.handle()\n  File \"/opt/spark/python/lib/pyspark.zip/pyspark/accumulators.py\", line 267, in handle\n    poll(authenticate_and_accum_updates)\n  File \"/opt/spark/python/lib/pyspark.zip/pyspark/accumulators.py\", line 241, in poll\n    if func():\n  File \"/opt/spark/python/lib/pyspark.zip/pyspark/accumulators.py\", line 263, in authenticate_and_accum_updates\n    \"The value of the provided token to the AccumulatorServer is not correct.\")\nException: The value of the provided token to the AccumulatorServer is not correct.\n----------------------------------------\n----------------------------------------\nException happened during processing of request from ('127.0.0.1', 52796)\nTraceback (most recent call last):\n  File \"/home/trusted-service-user/cluster-env/env/lib/python3.6/socketserver.py\", line 317, in _handle_request_noblock\n    self.process_request(request, client_address)\n  File \"/home/trusted-service-user/cluster-env/env/lib/python3.6/socketserver.py\", line 348, in process_request\n    self.finish_request(request, client_address)\n  File \"/home/trusted-service-user/cluster-env/env/lib/python3.6/socketserver.py\", line 361, in finish_request\n    self.RequestHandlerClass(request, client_address, self)\n  File \"/home/trusted-service-user/cluster-env/env/lib/python3.6/socketserver.py\", line 696, in __init__\n    self.handle()\n  File \"/opt/spark/python/lib/pyspark.zip/pyspark/accumulators.py\", line 267, in handle\n    poll(authenticate_and_accum_updates)\n  File \"/opt/spark/python/lib/pyspark.zip/pyspark/accumulators.py\", line 241, in poll\n    if func():\n  File \"/opt/spark/python/lib/pyspark.zip/pyspark/accumulators.py\", line 256, in authenticate_and_accum_updates\n    received_token = received_token.decode(\"utf-8\")\nUnicodeDecodeError: 'utf-8' codec can't decode byte 0xe4 in position 4: invalid continuation byte\n----------------------------------------\n----------------------------------------\nException happened during processing of request from ('127.0.0.1', 52798)\nTraceback (most recent call last):\n  File \"/home/trusted-service-user/cluster-env/env/lib/python3.6/socketserver.py\", line 317, in _handle_request_noblock\n    self.process_request(request, client_address)\n  File \"/home/trusted-service-user/cluster-env/env/lib/python3.6/socketserver.py\", line 348, in process_request\n    self.finish_request(request, client_address)\n  File \"/home/trusted-service-user/cluster-env/env/lib/python3.6/socketserver.py\", line 361, in finish_request\n    self.RequestHandlerClass(request, client_address, self)\n  File \"/home/trusted-service-user/cluster-env/env/lib/python3.6/socketserver.py\", line 696, in __init__\n    self.handle()\n  File \"/opt/spark/python/lib/pyspark.zip/pyspark/accumulators.py\", line 267, in handle\n    poll(authenticate_and_accum_updates)\n  File \"/opt/spark/python/lib/pyspark.zip/pyspark/accumulators.py\", line 241, in poll\n    if func():\n  File \"/opt/spark/python/lib/pyspark.zip/pyspark/accumulators.py\", line 256, in authenticate_and_accum_updates\n    received_token = received_token.decode(\"utf-8\")\nUnicodeDecodeError: 'utf-8' codec can't decode byte 0xe4 in position 4: invalid continuation byte\n----------------------------------------\n----------------------------------------\nException happened during processing of request from ('127.0.0.1', 52800)\nTraceback (most recent call last):\n  File \"/home/trusted-service-user/cluster-env/env/lib/python3.6/socketserver.py\", line 317, in _handle_request_noblock\n    self.process_request(request, client_address)\n  File \"/home/trusted-service-user/cluster-env/env/lib/python3.6/socketserver.py\", line 348, in process_request\n    self.finish_request(request, client_address)\n  File \"/home/trusted-service-user/cluster-env/env/lib/python3.6/socketserver.py\", line 361, in finish_request\n    self.RequestHandlerClass(request, client_address, self)\n  File \"/home/trusted-service-user/cluster-env/env/lib/python3.6/socketserver.py\", line 696, in __init__\n    self.handle()\n  File \"/opt/spark/python/lib/pyspark.zip/pyspark/accumulators.py\", line 267, in handle\n    poll(authenticate_and_accum_updates)\n  File \"/opt/spark/python/lib/pyspark.zip/pyspark/accumulators.py\", line 241, in poll\n    if func():\n  File \"/opt/spark/python/lib/pyspark.zip/pyspark/accumulators.py\", line 256, in authenticate_and_accum_updates\n    received_token = received_token.decode(\"utf-8\")\nUnicodeDecodeError: 'utf-8' codec can't decode byte 0x97 in position 13: invalid start byte\n----------------------------------------\n----------------------------------------\nException happened during processing of request from ('127.0.0.1', 52802)\nTraceback (most recent call last):\n  File \"/home/trusted-service-user/cluster-env/env/lib/python3.6/socketserver.py\", line 317, in _handle_request_noblock\n    self.process_request(request, client_address)\n  File \"/home/trusted-service-user/cluster-env/env/lib/python3.6/socketserver.py\", line 348, in process_request\n    self.finish_request(request, client_address)\n  File \"/home/trusted-service-user/cluster-env/env/lib/python3.6/socketserver.py\", line 361, in finish_request\n    self.RequestHandlerClass(request, client_address, self)\n  File \"/home/trusted-service-user/cluster-env/env/lib/python3.6/socketserver.py\", line 696, in __init__\n    self.handle()\n  File \"/opt/spark/python/lib/pyspark.zip/pyspark/accumulators.py\", line 267, in handle\n    poll(authenticate_and_accum_updates)\n  File \"/opt/spark/python/lib/pyspark.zip/pyspark/accumulators.py\", line 241, in poll\n    if func():\n  File \"/opt/spark/python/lib/pyspark.zip/pyspark/accumulators.py\", line 256, in authenticate_and_accum_updates\n    received_token = received_token.decode(\"utf-8\")\nUnicodeDecodeError: 'utf-8' codec can't decode byte 0xd0 in position 12: invalid continuation byte\n----------------------------------------\n----------------------------------------\nException happened during processing of request from ('127.0.0.1', 52804)\nTraceback (most recent call last):\n  File \"/home/trusted-service-user/cluster-env/env/lib/python3.6/socketserver.py\", line 317, in _handle_request_noblock\n    self.process_request(request, client_address)\n  File \"/home/trusted-service-user/cluster-env/env/lib/python3.6/socketserver.py\", line 348, in process_request\n    self.finish_request(request, client_address)\n  File \"/home/trusted-service-user/cluster-env/env/lib/python3.6/socketserver.py\", line 361, in finish_request\n    self.RequestHandlerClass(request, client_address, self)\n  File \"/home/trusted-service-user/cluster-env/env/lib/python3.6/socketserver.py\", line 696, in __init__\n    self.handle()\n  File \"/opt/spark/python/lib/pyspark.zip/pyspark/accumulators.py\", line 267, in handle\n    poll(authenticate_and_accum_updates)\n  File \"/opt/spark/python/lib/pyspark.zip/pyspark/accumulators.py\", line 241, in poll\n    if func():\n  File \"/opt/spark/python/lib/pyspark.zip/pyspark/accumulators.py\", line 256, in authenticate_and_accum_updates\n    received_token = received_token.decode(\"utf-8\")\nUnicodeDecodeError: 'utf-8' codec can't decode byte 0xaf in position 4: invalid start byte\n----------------------------------------\n----------------------------------------\nException happened during processing of request from ('127.0.0.1', 52806)\nTraceback (most recent call last):\n  File \"/home/trusted-service-user/cluster-env/env/lib/python3.6/socketserver.py\", line 317, in _handle_request_noblock\n    self.process_request(request, client_address)\n  File \"/home/trusted-service-user/cluster-env/env/lib/python3.6/socketserver.py\", line 348, in process_request\n    self.finish_request(request, client_address)\n  File \"/home/trusted-service-user/cluster-env/env/lib/python3.6/socketserver.py\", line 361, in finish_request\n    self.RequestHandlerClass(request, client_address, self)\n  File \"/home/trusted-service-user/cluster-env/env/lib/python3.6/socketserver.py\", line 696, in __init__\n    self.handle()\n  File \"/opt/spark/python/lib/pyspark.zip/pyspark/accumulators.py\", line 267, in handle\n    poll(authenticate_and_accum_updates)\n  File \"/opt/spark/python/lib/pyspark.zip/pyspark/accumulators.py\", line 241, in poll\n    if func():\n  File \"/opt/spark/python/lib/pyspark.zip/pyspark/accumulators.py\", line 256, in authenticate_and_accum_updates\n    received_token = received_token.decode(\"utf-8\")\nUnicodeDecodeError: 'utf-8' codec can't decode byte 0xe3 in position 11: invalid continuation byte\n----------------------------------------\n----------------------------------------\nException happened during processing of request from ('127.0.0.1', 52808)\nTraceback (most recent call last):\n  File \"/home/trusted-service-user/cluster-env/env/lib/python3.6/socketserver.py\", line 317, in _handle_request_noblock\n    self.process_request(request, client_address)\n  File \"/home/trusted-service-user/cluster-env/env/lib/python3.6/socketserver.py\", line 348, in process_request\n    self.finish_request(request, client_address)\n  File \"/home/trusted-service-user/cluster-env/env/lib/python3.6/socketserver.py\", line 361, in finish_request\n    self.RequestHandlerClass(request, client_address, self)\n  File \"/home/trusted-service-user/cluster-env/env/lib/python3.6/socketserver.py\", line 696, in __init__\n    self.handle()\n  File \"/opt/spark/python/lib/pyspark.zip/pyspark/accumulators.py\", line 267, in handle\n    poll(authenticate_and_accum_updates)\n  File \"/opt/spark/python/lib/pyspark.zip/pyspark/accumulators.py\", line 241, in poll\n    if func():\n  File \"/opt/spark/python/lib/pyspark.zip/pyspark/accumulators.py\", line 256, in authenticate_and_accum_updates\n    received_token = received_token.decode(\"utf-8\")\nUnicodeDecodeError: 'utf-8' codec can't decode byte 0xaf in position 4: invalid start byte\n----------------------------------------\n----------------------------------------\nException happened during processing of request from ('127.0.0.1', 52810)\nTraceback (most recent call last):\n  File \"/home/trusted-service-user/cluster-env/env/lib/python3.6/socketserver.py\", line 317, in _handle_request_noblock\n    self.process_request(request, client_address)\n  File \"/home/trusted-service-user/cluster-env/env/lib/python3.6/socketserver.py\", line 348, in process_request\n    self.finish_request(request, client_address)\n  File \"/home/trusted-service-user/cluster-env/env/lib/python3.6/socketserver.py\", line 361, in finish_request\n    self.RequestHandlerClass(request, client_address, self)\n  File \"/home/trusted-service-user/cluster-env/env/lib/python3.6/socketserver.py\", line 696, in __init__\n    self.handle()\n  File \"/opt/spark/python/lib/pyspark.zip/pyspark/accumulators.py\", line 267, in handle\n    poll(authenticate_and_accum_updates)\n  File \"/opt/spark/python/lib/pyspark.zip/pyspark/accumulators.py\", line 241, in poll\n    if func():\n  File \"/opt/spark/python/lib/pyspark.zip/pyspark/accumulators.py\", line 256, in authenticate_and_accum_updates\n    received_token = received_token.decode(\"utf-8\")\nUnicodeDecodeError: 'utf-8' codec can't decode byte 0x8c in position 12: invalid start byte\n----------------------------------------\n----------------------------------------\nException happened during processing of request from ('127.0.0.1', 52812)\nTraceback (most recent call last):\n  File \"/home/trusted-service-user/cluster-env/env/lib/python3.6/socketserver.py\", line 317, in _handle_request_noblock\n    self.process_request(request, client_address)\n  File \"/home/trusted-service-user/cluster-env/env/lib/python3.6/socketserver.py\", line 348, in process_request\n    self.finish_request(request, client_address)\n  File \"/home/trusted-service-user/cluster-env/env/lib/python3.6/socketserver.py\", line 361, in finish_request\n    self.RequestHandlerClass(request, client_address, self)\n  File \"/home/trusted-service-user/cluster-env/env/lib/python3.6/socketserver.py\", line 696, in __init__\n    self.handle()\n  File \"/opt/spark/python/lib/pyspark.zip/pyspark/accumulators.py\", line 267, in handle\n    poll(authenticate_and_accum_updates)\n  File \"/opt/spark/python/lib/pyspark.zip/pyspark/accumulators.py\", line 241, in poll\n    if func():\n  File \"/opt/spark/python/lib/pyspark.zip/pyspark/accumulators.py\", line 256, in authenticate_and_accum_updates\n    received_token = received_token.decode(\"utf-8\")\nUnicodeDecodeError: 'utf-8' codec can't decode byte 0x8c in position 13: invalid start byte\n----------------------------------------\n----------------------------------------\nException happened during processing of request from ('127.0.0.1', 52814)\nTraceback (most recent call last):\n  File \"/home/trusted-service-user/cluster-env/env/lib/python3.6/socketserver.py\", line 317, in _handle_request_noblock\n    self.process_request(request, client_address)\n  File \"/home/trusted-service-user/cluster-env/env/lib/python3.6/socketserver.py\", line 348, in process_request\n    self.finish_request(request, client_address)\n  File \"/home/trusted-service-user/cluster-env/env/lib/python3.6/socketserver.py\", line 361, in finish_request\n    self.RequestHandlerClass(request, client_address, self)\n  File \"/home/trusted-service-user/cluster-env/env/lib/python3.6/socketserver.py\", line 696, in __init__\n    self.handle()\n  File \"/opt/spark/python/lib/pyspark.zip/pyspark/accumulators.py\", line 267, in handle\n    poll(authenticate_and_accum_updates)\n  File \"/opt/spark/python/lib/pyspark.zip/pyspark/accumulators.py\", line 241, in poll\n    if func():\n  File \"/opt/spark/python/lib/pyspark.zip/pyspark/accumulators.py\", line 256, in authenticate_and_accum_updates\n    received_token = received_token.decode(\"utf-8\")\nUnicodeDecodeError: 'utf-8' codec can't decode byte 0xce in position 4: invalid continuation byte\n----------------------------------------\n----------------------------------------\nException happened during processing of request from ('127.0.0.1', 52816)\nTraceback (most recent call last):\n  File \"/home/trusted-service-user/cluster-env/env/lib/python3.6/socketserver.py\", line 317, in _handle_request_noblock\n    self.process_request(request, client_address)\n  File \"/home/trusted-service-user/cluster-env/env/lib/python3.6/socketserver.py\", line 348, in process_request\n    self.finish_request(request, client_address)\n  File \"/home/trusted-service-user/cluster-env/env/lib/python3.6/socketserver.py\", line 361, in finish_request\n    self.RequestHandlerClass(request, client_address, self)\n  File \"/home/trusted-service-user/cluster-env/env/lib/python3.6/socketserver.py\", line 696, in __init__\n    self.handle()\n  File \"/opt/spark/python/lib/pyspark.zip/pyspark/accumulators.py\", line 267, in handle\n    poll(authenticate_and_accum_updates)\n  File \"/opt/spark/python/lib/pyspark.zip/pyspark/accumulators.py\", line 241, in poll\n    if func():\n  File \"/opt/spark/python/lib/pyspark.zip/pyspark/accumulators.py\", line 256, in authenticate_and_accum_updates\n    received_token = received_token.decode(\"utf-8\")\nUnicodeDecodeError: 'utf-8' codec can't decode byte 0xef in position 11: invalid continuation byte\n----------------------------------------\n----------------------------------------\nException happened during processing of request from ('127.0.0.1', 52818)\nTraceback (most recent call last):\n  File \"/home/trusted-service-user/cluster-env/env/lib/python3.6/socketserver.py\", line 317, in _handle_request_noblock\n    self.process_request(request, client_address)\n  File \"/home/trusted-service-user/cluster-env/env/lib/python3.6/socketserver.py\", line 348, in process_request\n    self.finish_request(request, client_address)\n  File \"/home/trusted-service-user/cluster-env/env/lib/python3.6/socketserver.py\", line 361, in finish_request\n    self.RequestHandlerClass(request, client_address, self)\n  File \"/home/trusted-service-user/cluster-env/env/lib/python3.6/socketserver.py\", line 696, in __init__\n    self.handle()\n  File \"/opt/spark/python/lib/pyspark.zip/pyspark/accumulators.py\", line 267, in handle\n    poll(authenticate_and_accum_updates)\n  File \"/opt/spark/python/lib/pyspark.zip/pyspark/accumulators.py\", line 241, in poll\n    if func():\n  File \"/opt/spark/python/lib/pyspark.zip/pyspark/accumulators.py\", line 256, in authenticate_and_accum_updates\n    received_token = received_token.decode(\"utf-8\")\nUnicodeDecodeError: 'utf-8' codec can't decode byte 0x89 in position 4: invalid start byte\n----------------------------------------"
          },
          "metadata": {}
        }
      ],
      "metadata": {},
      "source": [
        "%%pyspark\n",
        "local_run = experiment.submit(automl_config, show_output=True)"
      ],
      "attachments": {}
    },
    {
      "cell_type": "markdown",
      "metadata": {},
      "source": [
        "## Retrieve the Best Model\n",
        ""
      ],
      "attachments": {}
    },
    {
      "cell_type": "code",
      "execution_count": 20,
      "outputs": [],
      "metadata": {},
      "source": [
        "%%pyspark\n",
        "best_run, fitted_model = local_run.get_output()"
      ],
      "attachments": {}
    },
    {
      "cell_type": "code",
      "execution_count": 21,
      "outputs": [
        {
          "output_type": "execute_result",
          "execution_count": 21,
          "data": {
            "text/plain": "Run(Experiment: Department_Visit_Count_20thFeb_3,\nId: AutoML_07e5388c-f6d0-4e14-9bfc-68156dc1ff3f_6,\nType: None,\nStatus: Completed)"
          },
          "metadata": {}
        }
      ],
      "metadata": {},
      "source": [
        "%%pyspark\n",
        "print(best_run)"
      ],
      "attachments": {}
    },
    {
      "cell_type": "code",
      "execution_count": 22,
      "outputs": [
        {
          "output_type": "execute_result",
          "execution_count": 22,
          "data": {
            "text/plain": "ForecastingPipelineWrapper(pipeline=Pipeline(memory=None,\n     steps=[('timeseriestransformer', TimeSeriesTransformer(featurization_config=None, logger=None,\n           pipeline_type=<TimeSeriesPipelineType.FULL: 1>)), ('StandardScalerWrapper', <azureml.automl.runtime.shared.model_wrappers.StandardScalerWrapper object at 0x7fc0ec21c438>), ('RandomForestRegresso...timators=25, n_jobs=1,\n           oob_score=False, random_state=None, verbose=0, warm_start=False))]),\n              stddev=None)"
          },
          "metadata": {}
        }
      ],
      "metadata": {},
      "source": [
        "%%pyspark\n",
        "print(fitted_model)"
      ],
      "attachments": {}
    },
    {
      "cell_type": "markdown",
      "metadata": {},
      "source": [
        "# Evaluate the Model Performance\n",
        "<p style=\"font-size:16px; color:#117d30;\">Here we have used Root Mean Squared Error (RMSE) for evaluation.</p>\n",
        ""
      ],
      "attachments": {}
    },
    {
      "cell_type": "code",
      "execution_count": 23,
      "outputs": [],
      "metadata": {},
      "source": [
        "%%pyspark\n",
        "test_labels = test_data.pop(\"Accessories_count\").values\n",
        "predict_labels = fitted_model.predict(test_data)\n",
        "actual_labels = test_labels.flatten()"
      ],
      "attachments": {}
    },
    {
      "cell_type": "code",
      "execution_count": 24,
      "outputs": [
        {
          "output_type": "execute_result",
          "execution_count": 24,
          "data": {
            "text/plain": "1093.0785912945564"
          },
          "metadata": {}
        }
      ],
      "metadata": {},
      "source": [
        "%%pyspark\n",
        "rmse = math.sqrt(mean_squared_error(actual_labels,predict_labels))\n",
        "rmse"
      ],
      "attachments": {}
    },
    {
      "cell_type": "code",
      "execution_count": 25,
      "outputs": [
        {
          "output_type": "execute_result",
          "execution_count": 25,
          "data": {
            "text/plain": "Model MAPE:\n0.31736684838093515\n\nModel Accuracy:\n0.6826331516190649"
          },
          "metadata": {}
        }
      ],
      "metadata": {},
      "source": [
        "%%pyspark\n",
        "sum_actuals = sum_errors = 0\n",
        "\n",
        "for actual_val, predict_val in zip(actual_labels,predict_labels):\n",
        "    abs_error = actual_val - predict_val\n",
        "    if abs_error < 0:\n",
        "        abs_error = abs_error * -1\n",
        "\n",
        "    sum_errors = sum_errors + abs_error\n",
        "    sum_actuals = sum_actuals + actual_val\n",
        "\n",
        "mean_abs_percent_error = sum_errors / sum_actuals\n",
        "print(\"Model MAPE:\")\n",
        "print(mean_abs_percent_error)\n",
        "print()\n",
        "print(\"Model Accuracy:\")\n",
        "print(1 - mean_abs_percent_error)"
      ],
      "attachments": {}
    },
    {
      "cell_type": "code",
      "execution_count": 26,
      "outputs": [
        {
          "output_type": "execute_result",
          "execution_count": 26,
          "data": {
            "text/plain": "actual_value  predicted_value  Error_Rate %\n0             4764          2402.20         49.58\n1             2008          2578.56        -28.41\n2             3025          2589.04         14.41\n3             3079          2430.48         21.06\n4             2467          2324.44          5.78\n5             3723          2484.52         33.27\n6             2363          2378.16         -0.64\n7             2817          2519.72         10.55\n8             3890          2826.72         27.33\n9             3461          2988.64         13.65\n10            2611          2731.24         -4.61\n11            3249          2649.16         18.46\n12            1921          2524.84        -31.43\n13            6007          2797.04         53.44\n14            3343          2663.92         20.31\n15            2446          2722.28        -11.30\n16            2806          2842.00         -1.28\n17            1910          2671.92        -39.89\n18            1834          2404.76        -31.12\n19            1716          2138.32        -24.61\n20            1427          2663.00        -86.62\n21            3392          2478.80         26.92\n22            3483          2448.28         29.71\n23            3331          2522.52         24.27\n24            2199          2377.84         -8.13\n25             768          2403.76       -212.99\n26            3658          2033.40         44.41\n27            3574          2469.00         30.92\n28            1949          2085.72         -7.01\n29            1578          2137.92        -35.48\n...            ...              ...           ...\n2108          2916          2007.16         31.17\n2109          3133          2170.80         30.71\n2110          3742          2221.04         40.65\n2111          2907          2213.88         23.84\n2112          2640          1999.12         24.28\n2113          3352          2165.84         35.39\n2114          2205          2109.72          4.32\n2115          2574          2126.96         17.37\n2116          1667          2239.04        -34.32\n2117          1403          2074.40        -47.85\n2118          2370          1792.68         24.36\n2119          3048          1704.36         44.08\n2120          1948          2020.96         -3.75\n2121          2373          1831.44         22.82\n2122          3003          1775.24         40.88\n2123          2531          1914.92         24.34\n2124          2774          1786.28         35.61\n2125          2448          1668.48         31.84\n2126          1573          1576.20         -0.20\n2127          1682          1836.44         -9.18\n2128          1592          1642.56         -3.18\n2129          1115          1659.36        -48.82\n2130          4618          1682.28         63.57\n2131          2976          1601.68         46.18\n2132          3283          1486.88         54.71\n2133          2891          1395.36         51.73\n2134          3905          1685.36         56.84\n2135          1923          1571.12         18.30\n2136          1616          1414.52         12.47\n2137           654          1174.64        -79.61\n\n[2138 rows x 3 columns]"
          },
          "metadata": {}
        }
      ],
      "metadata": {},
      "source": [
        "%%pyspark\n",
        "predicted_value = fitted_model.predict(test_data)\n",
        "actual_value = test_labels.flatten() \n",
        "actual_value = actual_value.tolist()\n",
        "predicted_value = predicted_value.tolist()\n",
        "output_df= pd.DataFrame({'actual_value':actual_value,'predicted_value':predicted_value})\n",
        "output_df['Error_Rate %'] = 100*((output_df['actual_value']-output_df['predicted_value'])/(output_df['actual_value']))\n",
        "\n",
        "output_df"
      ],
      "attachments": {}
    },
    {
      "cell_type": "code",
      "execution_count": 27,
      "outputs": [
        {
          "output_type": "execute_result",
          "execution_count": 27,
          "data": {
            "text/plain": "Date  Accessories_count\n0 2015-12-01                  0\n1 2015-12-02                  0\n2 2015-12-03                  0\n3 2015-12-04                  0\n4 2015-12-05                  0"
          },
          "metadata": {}
        }
      ],
      "metadata": {},
      "source": [
        "%%pyspark\n",
        "future_date =  pd.date_range(start='2015-12-1', end='2015-12-5')\n",
        "future_data = pd.DataFrame({'Date':future_date, 'Accessories_count':0})\n",
        "\n",
        "future_data"
      ],
      "attachments": {}
    },
    {
      "cell_type": "code",
      "execution_count": 28,
      "outputs": [
        {
          "output_type": "execute_result",
          "execution_count": 28,
          "data": {
            "text/plain": "Date  Accessories_count\n0  2015-12-01                  0\n1  2015-12-02                  0\n2  2015-12-03                  0\n3  2015-12-04                  0\n4  2015-12-05                  0"
          },
          "metadata": {}
        }
      ],
      "metadata": {},
      "source": [
        "%%pyspark\n",
        "future_data['Date'] = pd.to_datetime(future_data['Date']).dt.strftime('%Y-%m-%d')\n",
        "\n",
        "future_data"
      ],
      "attachments": {}
    },
    {
      "cell_type": "markdown",
      "metadata": {},
      "source": [
        "## Making future prediction using model that performs best\n",
        ""
      ],
      "attachments": {}
    },
    {
      "cell_type": "code",
      "execution_count": 29,
      "outputs": [
        {
          "output_type": "execute_result",
          "execution_count": 29,
          "data": {
            "text/plain": "Date  Accessories_Customer_count\n0  2015-12-01                     1959.00\n1  2015-12-02                     2007.00\n2  2015-12-03                     2171.00\n3  2015-12-04                     2221.00\n4  2015-12-05                     2214.00"
          },
          "metadata": {}
        }
      ],
      "metadata": {},
      "source": [
        "%%pyspark\n",
        "future_value = fitted_model.predict(future_data)\n",
        "temp_df =  pd.DataFrame({'Accessories_count':future_value})\n",
        "temp_df['Accessories_count'] = temp_df['Accessories_count'].round(0)\n",
        "future_data['Accessories_Customer_count'] = temp_df['Accessories_count']\n",
        "future_data.drop({'Accessories_count'},axis=1,inplace=True)\n",
        "future_data['Date'] = pd.to_datetime(future_data['Date']).dt.strftime('%Y-%m-%d')\n",
        "\n",
        "future_data"
      ],
      "attachments": {}
    },
    {
      "cell_type": "code",
      "execution_count": 30,
      "outputs": [],
      "metadata": {},
      "source": [
        "%%pyspark\n",
        "output = spark.createDataFrame(future_data)"
      ],
      "attachments": {}
    },
    {
      "cell_type": "markdown",
      "metadata": {},
      "source": [
        "## **Registering Model**\n",
        ""
      ],
      "attachments": {}
    },
    {
      "cell_type": "code",
      "execution_count": 31,
      "outputs": [
        {
          "output_type": "execute_result",
          "execution_count": 31,
          "data": {
            "text/plain": "'AutoML07e5388cf6'"
          },
          "metadata": {}
        }
      ],
      "metadata": {},
      "source": [
        "%%pyspark\n",
        "#register model\n",
        "#model_name = \"my_model_20th\"\n",
        "description = \"Forecast Model\"\n",
        "tags = None\n",
        "model = local_run.register_model(description = description, tags = tags)\n",
        "local_run.model_id"
      ],
      "attachments": {}
    },
    {
      "cell_type": "code",
      "execution_count": 32,
      "outputs": [],
      "metadata": {
        "inputCollapsed": true
      },
      "source": [
        "%%pyspark\n",
        "#saving scoring and conda file\n",
        "script_file_name = 'inference/score.py'\n",
        "conda_env_file_name = 'inference/env.yml'\n",
        "#/content/azureml_automl.log\n",
        "best_run.download_file('outputs/scoring_file_v_1_0_0.py', 'inference/score.py')\n",
        "best_run.download_file('outputs/conda_env_v_1_0_0.yml', 'inference/env.yml')"
      ],
      "attachments": {}
    },
    {
      "cell_type": "markdown",
      "metadata": {},
      "source": [
        "## Checking the progress of the experiment in Azure portal\n",
        "<p style=\"font-size:16px; color:#117d30;\">Here the URL is retrieved by the following command.</p>\n",
        "\n",
        ""
      ],
      "attachments": {}
    },
    {
      "cell_type": "code",
      "execution_count": 33,
      "outputs": [
        {
          "output_type": "execute_result",
          "execution_count": 33,
          "data": {
            "text/plain": "https://ml.azure.com/experiments/Department_Visit_Count_20thFeb_3/runs/AutoML_07e5388c-f6d0-4e14-9bfc-68156dc1ff3f?wsid=/subscriptions/fef31e52-6ea1-46c7-9494-2b5901e9af2b/resourcegroups/Synapse-WWI-Lab/workspaces/amlworkspacedaron12"
          },
          "metadata": {}
        }
      ],
      "metadata": {},
      "source": [
        "%%pyspark\n",
        "print(local_run.get_portal_url())"
      ],
      "attachments": {}
    },
    {
      "cell_type": "markdown",
      "metadata": {},
      "source": [
        "## Consuming REST EndPoint API\n",
        ""
      ],
      "attachments": {}
    },
    {
      "cell_type": "code",
      "execution_count": 34,
      "outputs": [
        {
          "output_type": "execute_result",
          "execution_count": 34,
          "data": {
            "text/plain": "{'Results': {'WebServiceOutput0': [{'Accessories_count': 18,\n                                    'Date': '2020-04-20 00:00:00',\n                                    'Entertainment_count': 28,\n                                    'Gaming': 5,\n                                    'Kids': 14,\n                                    'Mens': 14,\n                                    'Phone_and_GPS': 36,\n                                    'Scored Labels': 14,\n                                    'Scored Probabilities_0': 0.0,\n                                    'Scored Probabilities_14': 0.125,\n                                    'Scored Probabilities_16': 0.0,\n                                    'Scored Probabilities_21': 0.125,\n                                    'Scored Probabilities_22': 0.0,\n                                    'Scored Probabilities_23': 0.125,\n                                    'Scored Probabilities_25': 0.125,\n                                    'Scored Probabilities_29': 0.0,\n                                    'Scored Probabilities_30': 0.0,\n                                    'Scored Probabilities_33': 0.0,\n                                    'Scored Probabilities_34': 0.0,\n                                    'Scored Probabilities_37': 0.125,\n                                    'Scored Probabilities_38': 0.125,\n                                    'Scored Probabilities_39': 0.0,\n                                    'Scored Probabilities_40': 0.0,\n                                    'Scored Probabilities_42': 0.0,\n                                    'Scored Probabilities_43': 0.125,\n                                    'Scored Probabilities_45': 0.0,\n                                    'Scored Probabilities_46': 0.125,\n                                    'Scored Probabilities_47': 0.0,\n                                    'Scored Probabilities_48': 0.0,\n                                    'Scored Probabilities_49': 0.0,\n                                    'Scored Probabilities_52': 0.0,\n                                    'Womens': 30}]}}"
          },
          "metadata": {}
        }
      ],
      "metadata": {},
      "source": [
        "%%pyspark\n",
        "import urllib.request\n",
        "import json\n",
        "import os\n",
        "import ssl\n",
        "import pprint\n",
        "\n",
        "def allowSelfSignedHttps(allowed):\n",
        "    # bypass the server certificate verification on client side\n",
        "    if allowed and not os.environ.get('PYTHONHTTPSVERIFY', '') and getattr(ssl, '_create_unverified_context', None):\n",
        "        ssl._create_default_https_context = ssl._create_unverified_context\n",
        "\n",
        "allowSelfSignedHttps(True) # this line is needed if you use self-signed certificate in your scoring service.\n",
        "\n",
        "data = {\n",
        "    \"Inputs\": {\n",
        "          \"WebServiceInput0\":\n",
        "          [\n",
        "              {\n",
        "                    'Date': \"2020-04-20T00:00:00Z\",\n",
        "                    'Accessories_count': \"18\",\n",
        "                    'Entertainment_count': \"28\",\n",
        "                    'Gaming': \"5\",\n",
        "                    'Kids': \"14\",\n",
        "                    'Mens': \"14\",\n",
        "                    'Phone_and_GPS': \"36\",\n",
        "                    'Womens': \"30\",\n",
        "              },\n",
        "          ],\n",
        "    },\n",
        "    \"GlobalParameters\":  {\n",
        "    }\n",
        "}\n",
        "\n",
        "body = str.encode(json.dumps(data))\n",
        "\n",
        "url = 'http://13.68.210.52:80/api/v1/service/retail-realtime-inference/score'\n",
        "api_key = 'wRx4zkptjIjKq41jPFmw9UO3LfZ7CLE6' # Replace this with the API key for the web service\n",
        "headers = {'Content-Type':'application/json', 'Authorization':('Bearer '+ api_key)}\n",
        "\n",
        "req = urllib.request.Request(url, body, headers)\n",
        "\n",
        "try:\n",
        "    response = urllib.request.urlopen(req)\n",
        "\n",
        "    result = response.read()\n",
        "    #print(result)\n",
        "    pprint.pprint(json.loads(result))\n",
        "except urllib.error.HTTPError as error:\n",
        "    print(\"The request failed with status code: \" + str(error.code))\n",
        "\n",
        "    # Print the headers - they include the requert ID and the timestamp, which are useful for debugging the failure\n",
        "    print(error.info())\n",
        "    print(json.loads(error.read().decode(\"utf8\", 'ignore')))\n",
        ""
      ],
      "attachments": {}
    },
    {
      "cell_type": "code",
      "execution_count": 35,
      "outputs": [],
      "metadata": {},
      "source": [
        ""
      ],
      "attachments": {}
    }
  ]
}