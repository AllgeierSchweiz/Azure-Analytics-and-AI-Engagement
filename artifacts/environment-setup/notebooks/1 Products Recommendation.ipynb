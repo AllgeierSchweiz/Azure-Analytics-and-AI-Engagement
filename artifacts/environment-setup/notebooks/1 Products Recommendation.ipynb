{
  "metadata": {
    "language_info": {
      "name": "scala"
    },
    "sessionKeepAliveTimeout": 30
  },
  "nbformat": 4,
  "nbformat_minor": 2,
  "cells": [
    {
      "cell_type": "markdown",
      "metadata": {},
      "source": [
        "<p style=\"font-size:25px; color:black;\"><u><i><b>Product Recommendations</b></i></u></p>\n",
        "<p style=\"font-size:16px; color:#117d30;\">\n",
        "    Product recommendations is a filtering system that predicts and shows the items that a user would likely purchase based on their purchase history.\n",
        "</p>\n",
        "\n",
        "<p style=\"font-size:15px; color:#318f50;\">\n",
        "Note:\n",
        "</p>\n",
        "<p style=\"font-size:15px; color:#117d30;\">\n",
        " This notebook is written in Scala, and there is interoperability between Scala and Python code.\n",
        "</p>\n",
        "<p style=\"font-size:15px; color:#117d30;\">\n",
        "    <u> Steps: </u>\n",
        "</p>\n",
        "<p style=\"font-size:15px; color:#117d30;\">\n",
        "1) Data is ingested from Azure Synapse Data Warehouse using PySpark.\n",
        "</p>\n",
        "<p style=\"font-size:15px; color:#117d30;\">\n",
        "2) The model is trained using the PySpark ML-Lib recommendations module.\n",
        "</p>\n",
        "<p style=\"font-size:15px; color:#117d30;\">\n",
        "3) Product recommendations are generated for the user.\n",
        "</p>"
      ],
      "attachments": {}
    },
    {
      "cell_type": "markdown",
      "metadata": {},
      "source": [
        "## *Importing Libraries*\n",
        "<p style=\"font-size:16px; color:#117d30;\">\n",
        "    The required libraries i.e pandas, pyspark are imported required for pre-processing of data and making recommendations.\n",
        "</p>"
      ],
      "attachments": {}
    },
    {
      "cell_type": "code",
      "execution_count": 3,
      "outputs": [],
      "metadata": {},
      "source": [
        "%%pyspark\n",
        "import os\n",
        "import sys\n",
        "import pandas as pd \n",
        "import numpy as np\n",
        "import re\n",
        "import pandas as pd\n",
        "from IPython.display import display\n",
        "from pyspark.sql.functions import *\n",
        "from pyspark.sql.types import *\n",
        "from pyspark.sql.window import Window\n",
        "from pyspark.mllib.recommendation import ALS, MatrixFactorizationModel, Rating\n",
        "from pyspark import SparkContext\n",
        "\n",
        "import traceback"
      ],
      "attachments": {}
    },
    {
      "cell_type": "markdown",
      "metadata": {},
      "source": [
        "## *Connecting to Azure Synapse Data Warehouse*\n",
        "<p style=\"font-size:16px; color:#117d30;\">\n",
        "    Connection to Azure Synapse Data Warehouse is initiated and the required data is ingested for processing.\n",
        "    The warehouse is connected with a single line of code. Just point to actions in a table, click on a new notebook, and then click on \"Load to DataFrame\".  </p>\n",
        "   <p style=\"font-size:16px; color:#117d30;\"> After providing the necessary details,  the required data is loaded in the form of a Spark dataframe.\n",
        "One magical line of code converts a dataframe from Scala to Python!\n",
        "</p>"
      ],
      "attachments": {}
    },
    {
      "cell_type": "code",
      "execution_count": 4,
      "outputs": [
        {
          "execution_count": 4,
          "output_type": "execute_result",
          "data": {
            "text/plain": "df: org.apache.spark.sql.DataFrame = [customer_id: int, product_id: int ... 3 more fields]\nres1: Array[org.apache.spark.sql.Row] = Array([32228,26,Black Shoes,4,5], [32229,2,Retro surfboard,2,1], [32229,31,Blue Shoes,3,3], [32229,32,Beach Shoes,2,1], [32230,13,Brown Coaster,2,1], [32230,14,Designer Coaster,1,0], [32230,15,Brown Cupholders,4,5], [32230,16,Turkish Lira,2,1], [32231,14,Designer Coaster,2,1], [32231,15,Brown Cupholders,2,1])"
          },
          "metadata": {}
        }
      ],
      "metadata": {},
      "source": [
        "val df = spark.read.sqlanalytics(\"AzureSynapseDW.dbo.Customer_SalesLatest\") \n",
        "  df.head(10)\n",
        "  //Create a Temp view for using the dataframe from Scala to Python\n",
        "  df.createTempView(\"df\")"
      ],
      "attachments": {}
    },
    {
      "cell_type": "code",
      "execution_count": 5,
      "outputs": [
        {
          "execution_count": 5,
          "output_type": "execute_result",
          "data": {
            "text/plain": "[customer_id: int, product_id: int ... 3 more fields]"
          },
          "metadata": {}
        }
      ],
      "metadata": {},
      "source": [
        "print(df)"
      ],
      "attachments": {}
    },
    {
      "cell_type": "code",
      "execution_count": 6,
      "outputs": [
        {
          "execution_count": 6,
          "output_type": "execute_result",
          "data": {
            "application/json": {
              "table": {
                "schema": {
                  "customer_id": "int",
                  "rating": "int",
                  "product_name": "string",
                  "product_id": "int",
                  "total_quantity": "int"
                },
                "rows": [
                  {
                    "customer_id": 56052,
                    "rating": 1,
                    "product_name": "Black Shoes",
                    "product_id": 26,
                    "total_quantity": 2
                  },
                  {
                    "customer_id": 56052,
                    "rating": 0,
                    "product_name": "Pink Shoes",
                    "product_id": 27,
                    "total_quantity": 1
                  },
                  {
                    "customer_id": 56053,
                    "rating": 1,
                    "product_name": "Retro surfboard",
                    "product_id": 2,
                    "total_quantity": 2
                  },
                  {
                    "customer_id": 56053,
                    "rating": 3,
                    "product_name": "Blue Surf Board ",
                    "product_id": 3,
                    "total_quantity": 3
                  },
                  {
                    "customer_id": 56053,
                    "rating": 3,
                    "product_name": "Brown SurfBoard",
                    "product_id": 4,
                    "total_quantity": 3
                  },
                  {
                    "customer_id": 56053,
                    "rating": 0,
                    "product_name": "Orange SurfBoard",
                    "product_id": 5,
                    "total_quantity": 1
                  },
                  {
                    "customer_id": 56053,
                    "rating": 0,
                    "product_name": "Blue Stripped SurfBoard",
                    "product_id": 6,
                    "total_quantity": 1
                  },
                  {
                    "customer_id": 56053,
                    "rating": 1,
                    "product_name": "Red Surfboard",
                    "product_id": 7,
                    "total_quantity": 2
                  },
                  {
                    "customer_id": 56053,
                    "rating": 5,
                    "product_name": "Red Corkscrew",
                    "product_id": 8,
                    "total_quantity": 4
                  },
                  {
                    "customer_id": 56053,
                    "rating": 1,
                    "product_name": "Wine corkscrew",
                    "product_id": 9,
                    "total_quantity": 2
                  },
                  {
                    "customer_id": 56053,
                    "rating": 0,
                    "product_name": "Steel corkscrew",
                    "product_id": 10,
                    "total_quantity": 1
                  },
                  {
                    "customer_id": 56053,
                    "rating": 0,
                    "product_name": "Black corkscrew",
                    "product_id": 11,
                    "total_quantity": 1
                  },
                  {
                    "customer_id": 56053,
                    "rating": 3,
                    "product_name": "Blue Coaster",
                    "product_id": 12,
                    "total_quantity": 3
                  },
                  {
                    "customer_id": 56053,
                    "rating": 3,
                    "product_name": "Brown Coaster",
                    "product_id": 13,
                    "total_quantity": 3
                  },
                  {
                    "customer_id": 56053,
                    "rating": 1,
                    "product_name": "Designer Coaster",
                    "product_id": 14,
                    "total_quantity": 2
                  },
                  {
                    "customer_id": 56053,
                    "rating": 5,
                    "product_name": "Brown Cupholders",
                    "product_id": 15,
                    "total_quantity": 4
                  },
                  {
                    "customer_id": 56053,
                    "rating": 0,
                    "product_name": "Turkish Lira",
                    "product_id": 16,
                    "total_quantity": 1
                  },
                  {
                    "customer_id": 56053,
                    "rating": 3,
                    "product_name": "Wood and Cork Coaster",
                    "product_id": 17,
                    "total_quantity": 3
                  },
                  {
                    "customer_id": 56053,
                    "rating": 3,
                    "product_name": "French cheese",
                    "product_id": 18,
                    "total_quantity": 3
                  },
                  {
                    "customer_id": 56053,
                    "rating": 3,
                    "product_name": "Yellow mature Dutch cheese ",
                    "product_id": 19,
                    "total_quantity": 3
                  },
                  {
                    "customer_id": 56053,
                    "rating": 1,
                    "product_name": "Cheese chunk",
                    "product_id": 20,
                    "total_quantity": 2
                  },
                  {
                    "customer_id": 56053,
                    "rating": 1,
                    "product_name": "Beach Shoes",
                    "product_id": 32,
                    "total_quantity": 2
                  },
                  {
                    "customer_id": 56054,
                    "rating": 5,
                    "product_name": "Retro surfboard",
                    "product_id": 2,
                    "total_quantity": 4
                  },
                  {
                    "customer_id": 56054,
                    "rating": 1,
                    "product_name": "Blue Surf Board ",
                    "product_id": 3,
                    "total_quantity": 2
                  },
                  {
                    "customer_id": 56054,
                    "rating": 1,
                    "product_name": "Brown SurfBoard",
                    "product_id": 4,
                    "total_quantity": 2
                  },
                  {
                    "customer_id": 56054,
                    "rating": 0,
                    "product_name": "Blue Shoes",
                    "product_id": 31,
                    "total_quantity": 1
                  },
                  {
                    "customer_id": 56054,
                    "rating": 3,
                    "product_name": "Beach Shoes",
                    "product_id": 32,
                    "total_quantity": 3
                  },
                  {
                    "customer_id": 56055,
                    "rating": 1,
                    "product_name": "Black corkscrew",
                    "product_id": 11,
                    "total_quantity": 2
                  },
                  {
                    "customer_id": 56055,
                    "rating": 0,
                    "product_name": "Blue Coaster",
                    "product_id": 12,
                    "total_quantity": 1
                  },
                  {
                    "customer_id": 56055,
                    "rating": 1,
                    "product_name": "Brown Coaster",
                    "product_id": 13,
                    "total_quantity": 2
                  },
                  {
                    "customer_id": 56055,
                    "rating": 0,
                    "product_name": "Designer Coaster",
                    "product_id": 14,
                    "total_quantity": 1
                  },
                  {
                    "customer_id": 56055,
                    "rating": 0,
                    "product_name": "Brown Cupholders",
                    "product_id": 15,
                    "total_quantity": 1
                  },
                  {
                    "customer_id": 56055,
                    "rating": 1,
                    "product_name": "Turkish Lira",
                    "product_id": 16,
                    "total_quantity": 2
                  },
                  {
                    "customer_id": 56055,
                    "rating": 3,
                    "product_name": "Wood and Cork Coaster",
                    "product_id": 17,
                    "total_quantity": 3
                  },
                  {
                    "customer_id": 56055,
                    "rating": 3,
                    "product_name": "French cheese",
                    "product_id": 18,
                    "total_quantity": 3
                  },
                  {
                    "customer_id": 56055,
                    "rating": 5,
                    "product_name": "Yellow mature Dutch cheese ",
                    "product_id": 19,
                    "total_quantity": 4
                  },
                  {
                    "customer_id": 56055,
                    "rating": 3,
                    "product_name": "Cheese chunk",
                    "product_id": 20,
                    "total_quantity": 3
                  },
                  {
                    "customer_id": 56055,
                    "rating": 0,
                    "product_name": "Cheese circle",
                    "product_id": 21,
                    "total_quantity": 1
                  },
                  {
                    "customer_id": 56055,
                    "rating": 3,
                    "product_name": "Wineglass ",
                    "product_id": 22,
                    "total_quantity": 3
                  },
                  {
                    "customer_id": 56055,
                    "rating": 3,
                    "product_name": "Crystal Wineglass",
                    "product_id": 23,
                    "total_quantity": 3
                  },
                  {
                    "customer_id": 56055,
                    "rating": 5,
                    "product_name": "Unbreakable wineglass",
                    "product_id": 24,
                    "total_quantity": 4
                  },
                  {
                    "customer_id": 56055,
                    "rating": 1,
                    "product_name": "White Shoes",
                    "product_id": 25,
                    "total_quantity": 2
                  },
                  {
                    "customer_id": 56055,
                    "rating": 1,
                    "product_name": "Black Shoes",
                    "product_id": 26,
                    "total_quantity": 2
                  },
                  {
                    "customer_id": 56055,
                    "rating": 0,
                    "product_name": "Pink Shoes",
                    "product_id": 27,
                    "total_quantity": 1
                  },
                  {
                    "customer_id": 56055,
                    "rating": 1,
                    "product_name": "Black with red sole shoes",
                    "product_id": 28,
                    "total_quantity": 2
                  },
                  {
                    "customer_id": 56055,
                    "rating": 0,
                    "product_name": "Gray with white sole shoes",
                    "product_id": 29,
                    "total_quantity": 1
                  },
                  {
                    "customer_id": 56055,
                    "rating": 5,
                    "product_name": "Brown Shoes",
                    "product_id": 30,
                    "total_quantity": 4
                  },
                  {
                    "customer_id": 56055,
                    "rating": 5,
                    "product_name": "Blue Shoes",
                    "product_id": 31,
                    "total_quantity": 4
                  },
                  {
                    "customer_id": 56055,
                    "rating": 3,
                    "product_name": "Beach Shoes",
                    "product_id": 32,
                    "total_quantity": 3
                  },
                  {
                    "customer_id": 56056,
                    "rating": 3,
                    "product_name": "Retro surfboard",
                    "product_id": 2,
                    "total_quantity": 3
                  },
                  {
                    "customer_id": 56056,
                    "rating": 3,
                    "product_name": "Beach Shoes",
                    "product_id": 32,
                    "total_quantity": 3
                  },
                  {
                    "customer_id": 56057,
                    "rating": 1,
                    "product_name": "Retro surfboard",
                    "product_id": 2,
                    "total_quantity": 2
                  },
                  {
                    "customer_id": 56057,
                    "rating": 0,
                    "product_name": "Blue Surf Board ",
                    "product_id": 3,
                    "total_quantity": 1
                  },
                  {
                    "customer_id": 56057,
                    "rating": 1,
                    "product_name": "Brown SurfBoard",
                    "product_id": 4,
                    "total_quantity": 2
                  },
                  {
                    "customer_id": 56057,
                    "rating": 0,
                    "product_name": "Orange SurfBoard",
                    "product_id": 5,
                    "total_quantity": 1
                  },
                  {
                    "customer_id": 56057,
                    "rating": 0,
                    "product_name": "Blue Stripped SurfBoard",
                    "product_id": 6,
                    "total_quantity": 1
                  },
                  {
                    "customer_id": 56057,
                    "rating": 3,
                    "product_name": "Red Surfboard",
                    "product_id": 7,
                    "total_quantity": 3
                  },
                  {
                    "customer_id": 56057,
                    "rating": 0,
                    "product_name": "Red Corkscrew",
                    "product_id": 8,
                    "total_quantity": 1
                  },
                  {
                    "customer_id": 56057,
                    "rating": 0,
                    "product_name": "Wine corkscrew",
                    "product_id": 9,
                    "total_quantity": 1
                  },
                  {
                    "customer_id": 56057,
                    "rating": 5,
                    "product_name": "Steel corkscrew",
                    "product_id": 10,
                    "total_quantity": 4
                  },
                  {
                    "customer_id": 56057,
                    "rating": 0,
                    "product_name": "Black corkscrew",
                    "product_id": 11,
                    "total_quantity": 1
                  },
                  {
                    "customer_id": 56057,
                    "rating": 5,
                    "product_name": "Blue Coaster",
                    "product_id": 12,
                    "total_quantity": 4
                  },
                  {
                    "customer_id": 56057,
                    "rating": 0,
                    "product_name": "Brown Coaster",
                    "product_id": 13,
                    "total_quantity": 1
                  },
                  {
                    "customer_id": 56057,
                    "rating": 5,
                    "product_name": "Designer Coaster",
                    "product_id": 14,
                    "total_quantity": 4
                  },
                  {
                    "customer_id": 56057,
                    "rating": 3,
                    "product_name": "Brown Cupholders",
                    "product_id": 15,
                    "total_quantity": 3
                  },
                  {
                    "customer_id": 56057,
                    "rating": 3,
                    "product_name": "Turkish Lira",
                    "product_id": 16,
                    "total_quantity": 3
                  },
                  {
                    "customer_id": 56057,
                    "rating": 1,
                    "product_name": "Unbreakable wineglass",
                    "product_id": 24,
                    "total_quantity": 2
                  },
                  {
                    "customer_id": 56057,
                    "rating": 3,
                    "product_name": "White Shoes",
                    "product_id": 25,
                    "total_quantity": 3
                  },
                  {
                    "customer_id": 56057,
                    "rating": 5,
                    "product_name": "Black Shoes",
                    "product_id": 26,
                    "total_quantity": 4
                  },
                  {
                    "customer_id": 56057,
                    "rating": 3,
                    "product_name": "Pink Shoes",
                    "product_id": 27,
                    "total_quantity": 3
                  },
                  {
                    "customer_id": 56057,
                    "rating": 1,
                    "product_name": "Black with red sole shoes",
                    "product_id": 28,
                    "total_quantity": 2
                  },
                  {
                    "customer_id": 56057,
                    "rating": 5,
                    "product_name": "Gray with white sole shoes",
                    "product_id": 29,
                    "total_quantity": 4
                  },
                  {
                    "customer_id": 56057,
                    "rating": 3,
                    "product_name": "Brown Shoes",
                    "product_id": 30,
                    "total_quantity": 3
                  },
                  {
                    "customer_id": 56057,
                    "rating": 5,
                    "product_name": "Blue Shoes",
                    "product_id": 31,
                    "total_quantity": 4
                  },
                  {
                    "customer_id": 56057,
                    "rating": 0,
                    "product_name": "Beach Shoes",
                    "product_id": 32,
                    "total_quantity": 1
                  },
                  {
                    "customer_id": 56058,
                    "rating": 0,
                    "product_name": "Blue Coaster",
                    "product_id": 12,
                    "total_quantity": 1
                  },
                  {
                    "customer_id": 56058,
                    "rating": 5,
                    "product_name": "Brown Coaster",
                    "product_id": 13,
                    "total_quantity": 4
                  },
                  {
                    "customer_id": 56058,
                    "rating": 3,
                    "product_name": "Designer Coaster",
                    "product_id": 14,
                    "total_quantity": 3
                  },
                  {
                    "customer_id": 56058,
                    "rating": 1,
                    "product_name": "Brown Cupholders",
                    "product_id": 15,
                    "total_quantity": 2
                  },
                  {
                    "customer_id": 56058,
                    "rating": 0,
                    "product_name": "Turkish Lira",
                    "product_id": 16,
                    "total_quantity": 1
                  },
                  {
                    "customer_id": 56058,
                    "rating": 5,
                    "product_name": "Wood and Cork Coaster",
                    "product_id": 17,
                    "total_quantity": 4
                  },
                  {
                    "customer_id": 56058,
                    "rating": 5,
                    "product_name": "French cheese",
                    "product_id": 18,
                    "total_quantity": 4
                  },
                  {
                    "customer_id": 56058,
                    "rating": 1,
                    "product_name": "Yellow mature Dutch cheese ",
                    "product_id": 19,
                    "total_quantity": 2
                  },
                  {
                    "customer_id": 56058,
                    "rating": 3,
                    "product_name": "Cheese chunk",
                    "product_id": 20,
                    "total_quantity": 3
                  },
                  {
                    "customer_id": 56058,
                    "rating": 5,
                    "product_name": "Cheese circle",
                    "product_id": 21,
                    "total_quantity": 4
                  },
                  {
                    "customer_id": 56058,
                    "rating": 0,
                    "product_name": "Wineglass ",
                    "product_id": 22,
                    "total_quantity": 1
                  },
                  {
                    "customer_id": 56058,
                    "rating": 3,
                    "product_name": "Crystal Wineglass",
                    "product_id": 23,
                    "total_quantity": 3
                  },
                  {
                    "customer_id": 56058,
                    "rating": 0,
                    "product_name": "Unbreakable wineglass",
                    "product_id": 24,
                    "total_quantity": 1
                  },
                  {
                    "customer_id": 56058,
                    "rating": 5,
                    "product_name": "White Shoes",
                    "product_id": 25,
                    "total_quantity": 4
                  },
                  {
                    "customer_id": 56058,
                    "rating": 1,
                    "product_name": "Black Shoes",
                    "product_id": 26,
                    "total_quantity": 2
                  },
                  {
                    "customer_id": 56058,
                    "rating": 1,
                    "product_name": "Pink Shoes",
                    "product_id": 27,
                    "total_quantity": 2
                  },
                  {
                    "customer_id": 56058,
                    "rating": 1,
                    "product_name": "Black with red sole shoes",
                    "product_id": 28,
                    "total_quantity": 2
                  },
                  {
                    "customer_id": 56059,
                    "rating": 5,
                    "product_name": "Turkish Lira",
                    "product_id": 16,
                    "total_quantity": 4
                  },
                  {
                    "customer_id": 56059,
                    "rating": 5,
                    "product_name": "Wood and Cork Coaster",
                    "product_id": 17,
                    "total_quantity": 4
                  },
                  {
                    "customer_id": 56060,
                    "rating": 0,
                    "product_name": "Orange SurfBoard",
                    "product_id": 5,
                    "total_quantity": 1
                  },
                  {
                    "customer_id": 56060,
                    "rating": 3,
                    "product_name": "Blue Stripped SurfBoard",
                    "product_id": 6,
                    "total_quantity": 3
                  },
                  {
                    "customer_id": 56060,
                    "rating": 5,
                    "product_name": "Red Surfboard",
                    "product_id": 7,
                    "total_quantity": 4
                  },
                  {
                    "customer_id": 56060,
                    "rating": 1,
                    "product_name": "Red Corkscrew",
                    "product_id": 8,
                    "total_quantity": 2
                  },
                  {
                    "customer_id": 56060,
                    "rating": 0,
                    "product_name": "Wine corkscrew",
                    "product_id": 9,
                    "total_quantity": 1
                  },
                  {
                    "customer_id": 56060,
                    "rating": 0,
                    "product_name": "Steel corkscrew",
                    "product_id": 10,
                    "total_quantity": 1
                  },
                  {
                    "customer_id": 56060,
                    "rating": 0,
                    "product_name": "Black corkscrew",
                    "product_id": 11,
                    "total_quantity": 1
                  },
                  {
                    "customer_id": 56060,
                    "rating": 1,
                    "product_name": "Blue Coaster",
                    "product_id": 12,
                    "total_quantity": 2
                  },
                  {
                    "customer_id": 56060,
                    "rating": 1,
                    "product_name": "Brown Coaster",
                    "product_id": 13,
                    "total_quantity": 2
                  },
                  {
                    "customer_id": 56060,
                    "rating": 3,
                    "product_name": "Designer Coaster",
                    "product_id": 14,
                    "total_quantity": 3
                  },
                  {
                    "customer_id": 56060,
                    "rating": 0,
                    "product_name": "Brown Cupholders",
                    "product_id": 15,
                    "total_quantity": 1
                  },
                  {
                    "customer_id": 56060,
                    "rating": 5,
                    "product_name": "Turkish Lira",
                    "product_id": 16,
                    "total_quantity": 4
                  },
                  {
                    "customer_id": 56060,
                    "rating": 0,
                    "product_name": "Wood and Cork Coaster",
                    "product_id": 17,
                    "total_quantity": 1
                  },
                  {
                    "customer_id": 56060,
                    "rating": 1,
                    "product_name": "French cheese",
                    "product_id": 18,
                    "total_quantity": 2
                  },
                  {
                    "customer_id": 56060,
                    "rating": 1,
                    "product_name": "Yellow mature Dutch cheese ",
                    "product_id": 19,
                    "total_quantity": 2
                  },
                  {
                    "customer_id": 56060,
                    "rating": 0,
                    "product_name": "Cheese chunk",
                    "product_id": 20,
                    "total_quantity": 1
                  },
                  {
                    "customer_id": 56060,
                    "rating": 0,
                    "product_name": "Cheese circle",
                    "product_id": 21,
                    "total_quantity": 1
                  },
                  {
                    "customer_id": 56060,
                    "rating": 0,
                    "product_name": "Wineglass ",
                    "product_id": 22,
                    "total_quantity": 1
                  },
                  {
                    "customer_id": 56060,
                    "rating": 3,
                    "product_name": "Crystal Wineglass",
                    "product_id": 23,
                    "total_quantity": 3
                  },
                  {
                    "customer_id": 56060,
                    "rating": 0,
                    "product_name": "Unbreakable wineglass",
                    "product_id": 24,
                    "total_quantity": 1
                  },
                  {
                    "customer_id": 56060,
                    "rating": 5,
                    "product_name": "White Shoes",
                    "product_id": 25,
                    "total_quantity": 4
                  },
                  {
                    "customer_id": 56060,
                    "rating": 1,
                    "product_name": "Black Shoes",
                    "product_id": 26,
                    "total_quantity": 2
                  },
                  {
                    "customer_id": 56060,
                    "rating": 3,
                    "product_name": "Pink Shoes",
                    "product_id": 27,
                    "total_quantity": 3
                  },
                  {
                    "customer_id": 56061,
                    "rating": 3,
                    "product_name": "Wood and Cork Coaster",
                    "product_id": 17,
                    "total_quantity": 3
                  },
                  {
                    "customer_id": 56061,
                    "rating": 3,
                    "product_name": "French cheese",
                    "product_id": 18,
                    "total_quantity": 3
                  },
                  {
                    "customer_id": 56061,
                    "rating": 1,
                    "product_name": "Yellow mature Dutch cheese ",
                    "product_id": 19,
                    "total_quantity": 2
                  },
                  {
                    "customer_id": 56061,
                    "rating": 5,
                    "product_name": "Cheese chunk",
                    "product_id": 20,
                    "total_quantity": 4
                  },
                  {
                    "customer_id": 56061,
                    "rating": 0,
                    "product_name": "Cheese circle",
                    "product_id": 21,
                    "total_quantity": 1
                  },
                  {
                    "customer_id": 56061,
                    "rating": 0,
                    "product_name": "Wineglass ",
                    "product_id": 22,
                    "total_quantity": 1
                  },
                  {
                    "customer_id": 56061,
                    "rating": 3,
                    "product_name": "Crystal Wineglass",
                    "product_id": 23,
                    "total_quantity": 3
                  },
                  {
                    "customer_id": 56061,
                    "rating": 1,
                    "product_name": "Unbreakable wineglass",
                    "product_id": 24,
                    "total_quantity": 2
                  },
                  {
                    "customer_id": 56062,
                    "rating": 5,
                    "product_name": "Blue Coaster",
                    "product_id": 12,
                    "total_quantity": 4
                  },
                  {
                    "customer_id": 56062,
                    "rating": 1,
                    "product_name": "Brown Coaster",
                    "product_id": 13,
                    "total_quantity": 2
                  },
                  {
                    "customer_id": 56062,
                    "rating": 1,
                    "product_name": "Designer Coaster",
                    "product_id": 14,
                    "total_quantity": 2
                  },
                  {
                    "customer_id": 56062,
                    "rating": 0,
                    "product_name": "Brown Cupholders",
                    "product_id": 15,
                    "total_quantity": 1
                  },
                  {
                    "customer_id": 56062,
                    "rating": 0,
                    "product_name": "Turkish Lira",
                    "product_id": 16,
                    "total_quantity": 1
                  },
                  {
                    "customer_id": 56062,
                    "rating": 3,
                    "product_name": "Wood and Cork Coaster",
                    "product_id": 17,
                    "total_quantity": 3
                  },
                  {
                    "customer_id": 56062,
                    "rating": 0,
                    "product_name": "French cheese",
                    "product_id": 18,
                    "total_quantity": 1
                  },
                  {
                    "customer_id": 56063,
                    "rating": 3,
                    "product_name": "Retro surfboard",
                    "product_id": 2,
                    "total_quantity": 3
                  },
                  {
                    "customer_id": 56063,
                    "rating": 1,
                    "product_name": "Blue Surf Board ",
                    "product_id": 3,
                    "total_quantity": 2
                  },
                  {
                    "customer_id": 56063,
                    "rating": 0,
                    "product_name": "Brown SurfBoard",
                    "product_id": 4,
                    "total_quantity": 1
                  },
                  {
                    "customer_id": 56063,
                    "rating": 0,
                    "product_name": "Orange SurfBoard",
                    "product_id": 5,
                    "total_quantity": 1
                  },
                  {
                    "customer_id": 56063,
                    "rating": 0,
                    "product_name": "Blue Stripped SurfBoard",
                    "product_id": 6,
                    "total_quantity": 1
                  },
                  {
                    "customer_id": 56063,
                    "rating": 5,
                    "product_name": "Red Surfboard",
                    "product_id": 7,
                    "total_quantity": 4
                  },
                  {
                    "customer_id": 56063,
                    "rating": 1,
                    "product_name": "Red Corkscrew",
                    "product_id": 8,
                    "total_quantity": 2
                  },
                  {
                    "customer_id": 56063,
                    "rating": 0,
                    "product_name": "Wine corkscrew",
                    "product_id": 9,
                    "total_quantity": 1
                  },
                  {
                    "customer_id": 56063,
                    "rating": 5,
                    "product_name": "Steel corkscrew",
                    "product_id": 10,
                    "total_quantity": 4
                  },
                  {
                    "customer_id": 56063,
                    "rating": 0,
                    "product_name": "Black corkscrew",
                    "product_id": 11,
                    "total_quantity": 1
                  },
                  {
                    "customer_id": 56063,
                    "rating": 5,
                    "product_name": "Blue Coaster",
                    "product_id": 12,
                    "total_quantity": 4
                  },
                  {
                    "customer_id": 56063,
                    "rating": 5,
                    "product_name": "Brown Coaster",
                    "product_id": 13,
                    "total_quantity": 4
                  },
                  {
                    "customer_id": 56063,
                    "rating": 0,
                    "product_name": "Designer Coaster",
                    "product_id": 14,
                    "total_quantity": 1
                  },
                  {
                    "customer_id": 56063,
                    "rating": 3,
                    "product_name": "Brown Cupholders",
                    "product_id": 15,
                    "total_quantity": 3
                  },
                  {
                    "customer_id": 56063,
                    "rating": 5,
                    "product_name": "Turkish Lira",
                    "product_id": 16,
                    "total_quantity": 4
                  },
                  {
                    "customer_id": 56063,
                    "rating": 5,
                    "product_name": "Wood and Cork Coaster",
                    "product_id": 17,
                    "total_quantity": 4
                  },
                  {
                    "customer_id": 56063,
                    "rating": 3,
                    "product_name": "French cheese",
                    "product_id": 18,
                    "total_quantity": 3
                  },
                  {
                    "customer_id": 56063,
                    "rating": 3,
                    "product_name": "Yellow mature Dutch cheese ",
                    "product_id": 19,
                    "total_quantity": 3
                  },
                  {
                    "customer_id": 56063,
                    "rating": 0,
                    "product_name": "Cheese chunk",
                    "product_id": 20,
                    "total_quantity": 1
                  },
                  {
                    "customer_id": 56063,
                    "rating": 1,
                    "product_name": "Black Shoes",
                    "product_id": 26,
                    "total_quantity": 2
                  },
                  {
                    "customer_id": 56063,
                    "rating": 5,
                    "product_name": "Pink Shoes",
                    "product_id": 27,
                    "total_quantity": 4
                  },
                  {
                    "customer_id": 56063,
                    "rating": 3,
                    "product_name": "Black with red sole shoes",
                    "product_id": 28,
                    "total_quantity": 3
                  },
                  {
                    "customer_id": 56063,
                    "rating": 5,
                    "product_name": "Gray with white sole shoes",
                    "product_id": 29,
                    "total_quantity": 4
                  },
                  {
                    "customer_id": 56063,
                    "rating": 1,
                    "product_name": "Brown Shoes",
                    "product_id": 30,
                    "total_quantity": 2
                  },
                  {
                    "customer_id": 56063,
                    "rating": 1,
                    "product_name": "Blue Shoes",
                    "product_id": 31,
                    "total_quantity": 2
                  },
                  {
                    "customer_id": 56063,
                    "rating": 1,
                    "product_name": "Beach Shoes",
                    "product_id": 32,
                    "total_quantity": 2
                  },
                  {
                    "customer_id": 56064,
                    "rating": 1,
                    "product_name": "Retro surfboard",
                    "product_id": 2,
                    "total_quantity": 2
                  },
                  {
                    "customer_id": 56064,
                    "rating": 0,
                    "product_name": "Blue Surf Board ",
                    "product_id": 3,
                    "total_quantity": 1
                  },
                  {
                    "customer_id": 56064,
                    "rating": 0,
                    "product_name": "Brown SurfBoard",
                    "product_id": 4,
                    "total_quantity": 1
                  },
                  {
                    "customer_id": 56064,
                    "rating": 3,
                    "product_name": "Orange SurfBoard",
                    "product_id": 5,
                    "total_quantity": 3
                  },
                  {
                    "customer_id": 56064,
                    "rating": 1,
                    "product_name": "Blue Stripped SurfBoard",
                    "product_id": 6,
                    "total_quantity": 2
                  },
                  {
                    "customer_id": 56064,
                    "rating": 3,
                    "product_name": "Red Surfboard",
                    "product_id": 7,
                    "total_quantity": 3
                  },
                  {
                    "customer_id": 56064,
                    "rating": 1,
                    "product_name": "Red Corkscrew",
                    "product_id": 8,
                    "total_quantity": 2
                  },
                  {
                    "customer_id": 56064,
                    "rating": 3,
                    "product_name": "Wine corkscrew",
                    "product_id": 9,
                    "total_quantity": 3
                  },
                  {
                    "customer_id": 56064,
                    "rating": 0,
                    "product_name": "Steel corkscrew",
                    "product_id": 10,
                    "total_quantity": 1
                  },
                  {
                    "customer_id": 56064,
                    "rating": 3,
                    "product_name": "Black corkscrew",
                    "product_id": 11,
                    "total_quantity": 3
                  },
                  {
                    "customer_id": 56064,
                    "rating": 0,
                    "product_name": "Blue Coaster",
                    "product_id": 12,
                    "total_quantity": 1
                  },
                  {
                    "customer_id": 56064,
                    "rating": 0,
                    "product_name": "Brown Coaster",
                    "product_id": 13,
                    "total_quantity": 1
                  },
                  {
                    "customer_id": 56064,
                    "rating": 0,
                    "product_name": "Designer Coaster",
                    "product_id": 14,
                    "total_quantity": 1
                  },
                  {
                    "customer_id": 56064,
                    "rating": 1,
                    "product_name": "Brown Cupholders",
                    "product_id": 15,
                    "total_quantity": 2
                  },
                  {
                    "customer_id": 56064,
                    "rating": 0,
                    "product_name": "Turkish Lira",
                    "product_id": 16,
                    "total_quantity": 1
                  },
                  {
                    "customer_id": 56064,
                    "rating": 5,
                    "product_name": "Wood and Cork Coaster",
                    "product_id": 17,
                    "total_quantity": 4
                  },
                  {
                    "customer_id": 56064,
                    "rating": 0,
                    "product_name": "French cheese",
                    "product_id": 18,
                    "total_quantity": 1
                  },
                  {
                    "customer_id": 56064,
                    "rating": 5,
                    "product_name": "Yellow mature Dutch cheese ",
                    "product_id": 19,
                    "total_quantity": 4
                  },
                  {
                    "customer_id": 56064,
                    "rating": 5,
                    "product_name": "Crystal Wineglass",
                    "product_id": 23,
                    "total_quantity": 4
                  },
                  {
                    "customer_id": 56064,
                    "rating": 5,
                    "product_name": "Unbreakable wineglass",
                    "product_id": 24,
                    "total_quantity": 4
                  },
                  {
                    "customer_id": 56064,
                    "rating": 1,
                    "product_name": "White Shoes",
                    "product_id": 25,
                    "total_quantity": 2
                  },
                  {
                    "customer_id": 56064,
                    "rating": 3,
                    "product_name": "Black Shoes",
                    "product_id": 26,
                    "total_quantity": 3
                  },
                  {
                    "customer_id": 56064,
                    "rating": 0,
                    "product_name": "Pink Shoes",
                    "product_id": 27,
                    "total_quantity": 1
                  },
                  {
                    "customer_id": 56064,
                    "rating": 5,
                    "product_name": "Black with red sole shoes",
                    "product_id": 28,
                    "total_quantity": 4
                  },
                  {
                    "customer_id": 56064,
                    "rating": 0,
                    "product_name": "Gray with white sole shoes",
                    "product_id": 29,
                    "total_quantity": 1
                  },
                  {
                    "customer_id": 56064,
                    "rating": 3,
                    "product_name": "Brown Shoes",
                    "product_id": 30,
                    "total_quantity": 3
                  },
                  {
                    "customer_id": 56064,
                    "rating": 5,
                    "product_name": "Blue Shoes",
                    "product_id": 31,
                    "total_quantity": 4
                  },
                  {
                    "customer_id": 56064,
                    "rating": 1,
                    "product_name": "Beach Shoes",
                    "product_id": 32,
                    "total_quantity": 2
                  },
                  {
                    "customer_id": 56065,
                    "rating": 0,
                    "product_name": "Wine corkscrew",
                    "product_id": 9,
                    "total_quantity": 1
                  },
                  {
                    "customer_id": 56066,
                    "rating": 0,
                    "product_name": "Retro surfboard",
                    "product_id": 2,
                    "total_quantity": 1
                  },
                  {
                    "customer_id": 56066,
                    "rating": 0,
                    "product_name": "Blue Surf Board ",
                    "product_id": 3,
                    "total_quantity": 1
                  },
                  {
                    "customer_id": 56066,
                    "rating": 1,
                    "product_name": "Brown SurfBoard",
                    "product_id": 4,
                    "total_quantity": 2
                  },
                  {
                    "customer_id": 56066,
                    "rating": 5,
                    "product_name": "Orange SurfBoard",
                    "product_id": 5,
                    "total_quantity": 4
                  },
                  {
                    "customer_id": 56066,
                    "rating": 1,
                    "product_name": "Blue Stripped SurfBoard",
                    "product_id": 6,
                    "total_quantity": 2
                  },
                  {
                    "customer_id": 56066,
                    "rating": 3,
                    "product_name": "Red Surfboard",
                    "product_id": 7,
                    "total_quantity": 3
                  },
                  {
                    "customer_id": 56066,
                    "rating": 5,
                    "product_name": "Red Corkscrew",
                    "product_id": 8,
                    "total_quantity": 4
                  },
                  {
                    "customer_id": 56066,
                    "rating": 0,
                    "product_name": "Wine corkscrew",
                    "product_id": 9,
                    "total_quantity": 1
                  },
                  {
                    "customer_id": 56066,
                    "rating": 1,
                    "product_name": "Steel corkscrew",
                    "product_id": 10,
                    "total_quantity": 2
                  },
                  {
                    "customer_id": 56066,
                    "rating": 5,
                    "product_name": "French cheese",
                    "product_id": 18,
                    "total_quantity": 4
                  },
                  {
                    "customer_id": 56066,
                    "rating": 3,
                    "product_name": "Yellow mature Dutch cheese ",
                    "product_id": 19,
                    "total_quantity": 3
                  },
                  {
                    "customer_id": 56066,
                    "rating": 0,
                    "product_name": "Cheese chunk",
                    "product_id": 20,
                    "total_quantity": 1
                  },
                  {
                    "customer_id": 56066,
                    "rating": 0,
                    "product_name": "Cheese circle",
                    "product_id": 21,
                    "total_quantity": 1
                  },
                  {
                    "customer_id": 56066,
                    "rating": 3,
                    "product_name": "Wineglass ",
                    "product_id": 22,
                    "total_quantity": 3
                  },
                  {
                    "customer_id": 56066,
                    "rating": 5,
                    "product_name": "Crystal Wineglass",
                    "product_id": 23,
                    "total_quantity": 4
                  },
                  {
                    "customer_id": 56066,
                    "rating": 5,
                    "product_name": "Unbreakable wineglass",
                    "product_id": 24,
                    "total_quantity": 4
                  },
                  {
                    "customer_id": 56066,
                    "rating": 0,
                    "product_name": "White Shoes",
                    "product_id": 25,
                    "total_quantity": 1
                  },
                  {
                    "customer_id": 56066,
                    "rating": 0,
                    "product_name": "Black Shoes",
                    "product_id": 26,
                    "total_quantity": 1
                  },
                  {
                    "customer_id": 56066,
                    "rating": 3,
                    "product_name": "Pink Shoes",
                    "product_id": 27,
                    "total_quantity": 3
                  },
                  {
                    "customer_id": 56066,
                    "rating": 1,
                    "product_name": "Black with red sole shoes",
                    "product_id": 28,
                    "total_quantity": 2
                  },
                  {
                    "customer_id": 56066,
                    "rating": 3,
                    "product_name": "Gray with white sole shoes",
                    "product_id": 29,
                    "total_quantity": 3
                  },
                  {
                    "customer_id": 56066,
                    "rating": 0,
                    "product_name": "Brown Shoes",
                    "product_id": 30,
                    "total_quantity": 1
                  },
                  {
                    "customer_id": 56066,
                    "rating": 1,
                    "product_name": "Blue Shoes",
                    "product_id": 31,
                    "total_quantity": 2
                  },
                  {
                    "customer_id": 56066,
                    "rating": 3,
                    "product_name": "Beach Shoes",
                    "product_id": 32,
                    "total_quantity": 3
                  },
                  {
                    "customer_id": 56067,
                    "rating": 1,
                    "product_name": "Retro surfboard",
                    "product_id": 2,
                    "total_quantity": 2
                  },
                  {
                    "customer_id": 56067,
                    "rating": 0,
                    "product_name": "Blue Surf Board ",
                    "product_id": 3,
                    "total_quantity": 1
                  },
                  {
                    "customer_id": 56067,
                    "rating": 5,
                    "product_name": "Brown SurfBoard",
                    "product_id": 4,
                    "total_quantity": 4
                  },
                  {
                    "customer_id": 56067,
                    "rating": 5,
                    "product_name": "Orange SurfBoard",
                    "product_id": 5,
                    "total_quantity": 4
                  },
                  {
                    "customer_id": 56067,
                    "rating": 1,
                    "product_name": "Blue Stripped SurfBoard",
                    "product_id": 6,
                    "total_quantity": 2
                  },
                  {
                    "customer_id": 56067,
                    "rating": 5,
                    "product_name": "Crystal Wineglass",
                    "product_id": 23,
                    "total_quantity": 4
                  },
                  {
                    "customer_id": 56067,
                    "rating": 0,
                    "product_name": "Unbreakable wineglass",
                    "product_id": 24,
                    "total_quantity": 1
                  },
                  {
                    "customer_id": 56067,
                    "rating": 1,
                    "product_name": "White Shoes",
                    "product_id": 25,
                    "total_quantity": 2
                  },
                  {
                    "customer_id": 56067,
                    "rating": 1,
                    "product_name": "Black Shoes",
                    "product_id": 26,
                    "total_quantity": 2
                  },
                  {
                    "customer_id": 56067,
                    "rating": 3,
                    "product_name": "Pink Shoes",
                    "product_id": 27,
                    "total_quantity": 3
                  },
                  {
                    "customer_id": 56067,
                    "rating": 3,
                    "product_name": "Black with red sole shoes",
                    "product_id": 28,
                    "total_quantity": 3
                  },
                  {
                    "customer_id": 56320,
                    "rating": 1,
                    "product_name": "Brown Coaster",
                    "product_id": 13,
                    "total_quantity": 2
                  },
                  {
                    "customer_id": 56320,
                    "rating": 0,
                    "product_name": "Designer Coaster",
                    "product_id": 14,
                    "total_quantity": 1
                  },
                  {
                    "customer_id": 56320,
                    "rating": 0,
                    "product_name": "Brown Cupholders",
                    "product_id": 15,
                    "total_quantity": 1
                  },
                  {
                    "customer_id": 56320,
                    "rating": 0,
                    "product_name": "Turkish Lira",
                    "product_id": 16,
                    "total_quantity": 1
                  },
                  {
                    "customer_id": 56320,
                    "rating": 5,
                    "product_name": "Wood and Cork Coaster",
                    "product_id": 17,
                    "total_quantity": 4
                  },
                  {
                    "customer_id": 56320,
                    "rating": 5,
                    "product_name": "French cheese",
                    "product_id": 18,
                    "total_quantity": 4
                  },
                  {
                    "customer_id": 56320,
                    "rating": 3,
                    "product_name": "Yellow mature Dutch cheese ",
                    "product_id": 19,
                    "total_quantity": 3
                  },
                  {
                    "customer_id": 56320,
                    "rating": 3,
                    "product_name": "Cheese chunk",
                    "product_id": 20,
                    "total_quantity": 3
                  },
                  {
                    "customer_id": 56320,
                    "rating": 5,
                    "product_name": "Cheese circle",
                    "product_id": 21,
                    "total_quantity": 4
                  },
                  {
                    "customer_id": 56320,
                    "rating": 1,
                    "product_name": "Wineglass ",
                    "product_id": 22,
                    "total_quantity": 2
                  },
                  {
                    "customer_id": 56320,
                    "rating": 1,
                    "product_name": "Crystal Wineglass",
                    "product_id": 23,
                    "total_quantity": 2
                  },
                  {
                    "customer_id": 56320,
                    "rating": 1,
                    "product_name": "Unbreakable wineglass",
                    "product_id": 24,
                    "total_quantity": 2
                  },
                  {
                    "customer_id": 56320,
                    "rating": 1,
                    "product_name": "White Shoes",
                    "product_id": 25,
                    "total_quantity": 2
                  },
                  {
                    "customer_id": 56320,
                    "rating": 3,
                    "product_name": "Black Shoes",
                    "product_id": 26,
                    "total_quantity": 3
                  },
                  {
                    "customer_id": 56320,
                    "rating": 3,
                    "product_name": "Pink Shoes",
                    "product_id": 27,
                    "total_quantity": 3
                  },
                  {
                    "customer_id": 56320,
                    "rating": 1,
                    "product_name": "Black with red sole shoes",
                    "product_id": 28,
                    "total_quantity": 2
                  },
                  {
                    "customer_id": 56320,
                    "rating": 3,
                    "product_name": "Gray with white sole shoes",
                    "product_id": 29,
                    "total_quantity": 3
                  },
                  {
                    "customer_id": 56320,
                    "rating": 0,
                    "product_name": "Brown Shoes",
                    "product_id": 30,
                    "total_quantity": 1
                  },
                  {
                    "customer_id": 56320,
                    "rating": 0,
                    "product_name": "Blue Shoes",
                    "product_id": 31,
                    "total_quantity": 1
                  },
                  {
                    "customer_id": 56320,
                    "rating": 0,
                    "product_name": "Beach Shoes",
                    "product_id": 32,
                    "total_quantity": 1
                  },
                  {
                    "customer_id": 56321,
                    "rating": 1,
                    "product_name": "Retro surfboard",
                    "product_id": 2,
                    "total_quantity": 2
                  },
                  {
                    "customer_id": 56321,
                    "rating": 0,
                    "product_name": "Blue Surf Board ",
                    "product_id": 3,
                    "total_quantity": 1
                  },
                  {
                    "customer_id": 56321,
                    "rating": 1,
                    "product_name": "Brown SurfBoard",
                    "product_id": 4,
                    "total_quantity": 2
                  },
                  {
                    "customer_id": 56321,
                    "rating": 5,
                    "product_name": "Orange SurfBoard",
                    "product_id": 5,
                    "total_quantity": 4
                  },
                  {
                    "customer_id": 56321,
                    "rating": 1,
                    "product_name": "Blue Stripped SurfBoard",
                    "product_id": 6,
                    "total_quantity": 2
                  },
                  {
                    "customer_id": 56321,
                    "rating": 5,
                    "product_name": "Red Surfboard",
                    "product_id": 7,
                    "total_quantity": 4
                  },
                  {
                    "customer_id": 56321,
                    "rating": 5,
                    "product_name": "Red Corkscrew",
                    "product_id": 8,
                    "total_quantity": 4
                  },
                  {
                    "customer_id": 56321,
                    "rating": 0,
                    "product_name": "Wine corkscrew",
                    "product_id": 9,
                    "total_quantity": 1
                  },
                  {
                    "customer_id": 56321,
                    "rating": 1,
                    "product_name": "Steel corkscrew",
                    "product_id": 10,
                    "total_quantity": 2
                  },
                  {
                    "customer_id": 56321,
                    "rating": 3,
                    "product_name": "Black corkscrew",
                    "product_id": 11,
                    "total_quantity": 3
                  },
                  {
                    "customer_id": 56321,
                    "rating": 3,
                    "product_name": "Beach Shoes",
                    "product_id": 32,
                    "total_quantity": 3
                  },
                  {
                    "customer_id": 56322,
                    "rating": 0,
                    "product_name": "Brown SurfBoard",
                    "product_id": 4,
                    "total_quantity": 1
                  },
                  {
                    "customer_id": 56322,
                    "rating": 5,
                    "product_name": "Orange SurfBoard",
                    "product_id": 5,
                    "total_quantity": 4
                  },
                  {
                    "customer_id": 56322,
                    "rating": 5,
                    "product_name": "Blue Stripped SurfBoard",
                    "product_id": 6,
                    "total_quantity": 4
                  },
                  {
                    "customer_id": 56322,
                    "rating": 3,
                    "product_name": "Red Surfboard",
                    "product_id": 7,
                    "total_quantity": 3
                  },
                  {
                    "customer_id": 56322,
                    "rating": 0,
                    "product_name": "Red Corkscrew",
                    "product_id": 8,
                    "total_quantity": 1
                  },
                  {
                    "customer_id": 56323,
                    "rating": 1,
                    "product_name": "French cheese",
                    "product_id": 18,
                    "total_quantity": 2
                  },
                  {
                    "customer_id": 56323,
                    "rating": 5,
                    "product_name": "Yellow mature Dutch cheese ",
                    "product_id": 19,
                    "total_quantity": 4
                  },
                  {
                    "customer_id": 56323,
                    "rating": 5,
                    "product_name": "Cheese chunk",
                    "product_id": 20,
                    "total_quantity": 4
                  },
                  {
                    "customer_id": 56323,
                    "rating": 1,
                    "product_name": "Cheese circle",
                    "product_id": 21,
                    "total_quantity": 2
                  },
                  {
                    "customer_id": 56323,
                    "rating": 1,
                    "product_name": "Wineglass ",
                    "product_id": 22,
                    "total_quantity": 2
                  },
                  {
                    "customer_id": 56323,
                    "rating": 1,
                    "product_name": "Crystal Wineglass",
                    "product_id": 23,
                    "total_quantity": 2
                  },
                  {
                    "customer_id": 56323,
                    "rating": 1,
                    "product_name": "Unbreakable wineglass",
                    "product_id": 24,
                    "total_quantity": 2
                  },
                  {
                    "customer_id": 56323,
                    "rating": 0,
                    "product_name": "White Shoes",
                    "product_id": 25,
                    "total_quantity": 1
                  },
                  {
                    "customer_id": 56323,
                    "rating": 0,
                    "product_name": "Black Shoes",
                    "product_id": 26,
                    "total_quantity": 1
                  },
                  {
                    "customer_id": 56324,
                    "rating": 1,
                    "product_name": "Steel corkscrew",
                    "product_id": 10,
                    "total_quantity": 2
                  },
                  {
                    "customer_id": 56324,
                    "rating": 3,
                    "product_name": "Black corkscrew",
                    "product_id": 11,
                    "total_quantity": 3
                  },
                  {
                    "customer_id": 56324,
                    "rating": 1,
                    "product_name": "Blue Coaster",
                    "product_id": 12,
                    "total_quantity": 2
                  },
                  {
                    "customer_id": 56324,
                    "rating": 3,
                    "product_name": "Brown Coaster",
                    "product_id": 13,
                    "total_quantity": 3
                  },
                  {
                    "customer_id": 56324,
                    "rating": 0,
                    "product_name": "Designer Coaster",
                    "product_id": 14,
                    "total_quantity": 1
                  },
                  {
                    "customer_id": 56325,
                    "rating": 1,
                    "product_name": "Black corkscrew",
                    "product_id": 11,
                    "total_quantity": 2
                  },
                  {
                    "customer_id": 56325,
                    "rating": 3,
                    "product_name": "Blue Coaster",
                    "product_id": 12,
                    "total_quantity": 3
                  },
                  {
                    "customer_id": 56325,
                    "rating": 1,
                    "product_name": "Brown Coaster",
                    "product_id": 13,
                    "total_quantity": 2
                  },
                  {
                    "customer_id": 56325,
                    "rating": 1,
                    "product_name": "Designer Coaster",
                    "product_id": 14,
                    "total_quantity": 2
                  },
                  {
                    "customer_id": 56325,
                    "rating": 5,
                    "product_name": "Brown Cupholders",
                    "product_id": 15,
                    "total_quantity": 4
                  },
                  {
                    "customer_id": 56325,
                    "rating": 3,
                    "product_name": "Turkish Lira",
                    "product_id": 16,
                    "total_quantity": 3
                  },
                  {
                    "customer_id": 56325,
                    "rating": 3,
                    "product_name": "Wood and Cork Coaster",
                    "product_id": 17,
                    "total_quantity": 3
                  },
                  {
                    "customer_id": 56325,
                    "rating": 0,
                    "product_name": "French cheese",
                    "product_id": 18,
                    "total_quantity": 1
                  },
                  {
                    "customer_id": 56325,
                    "rating": 3,
                    "product_name": "Yellow mature Dutch cheese ",
                    "product_id": 19,
                    "total_quantity": 3
                  },
                  {
                    "customer_id": 56325,
                    "rating": 5,
                    "product_name": "Cheese chunk",
                    "product_id": 20,
                    "total_quantity": 4
                  },
                  {
                    "customer_id": 56326,
                    "rating": 1,
                    "product_name": "Retro surfboard",
                    "product_id": 2,
                    "total_quantity": 2
                  },
                  {
                    "customer_id": 56326,
                    "rating": 5,
                    "product_name": "Blue Surf Board ",
                    "product_id": 3,
                    "total_quantity": 4
                  },
                  {
                    "customer_id": 56326,
                    "rating": 1,
                    "product_name": "Brown SurfBoard",
                    "product_id": 4,
                    "total_quantity": 2
                  },
                  {
                    "customer_id": 56326,
                    "rating": 0,
                    "product_name": "Orange SurfBoard",
                    "product_id": 5,
                    "total_quantity": 1
                  },
                  {
                    "customer_id": 56326,
                    "rating": 1,
                    "product_name": "Blue Stripped SurfBoard",
                    "product_id": 6,
                    "total_quantity": 2
                  },
                  {
                    "customer_id": 56326,
                    "rating": 3,
                    "product_name": "Blue Shoes",
                    "product_id": 31,
                    "total_quantity": 3
                  },
                  {
                    "customer_id": 56326,
                    "rating": 5,
                    "product_name": "Beach Shoes",
                    "product_id": 32,
                    "total_quantity": 4
                  },
                  {
                    "customer_id": 56327,
                    "rating": 0,
                    "product_name": "Red Surfboard",
                    "product_id": 7,
                    "total_quantity": 1
                  },
                  {
                    "customer_id": 56327,
                    "rating": 1,
                    "product_name": "Red Corkscrew",
                    "product_id": 8,
                    "total_quantity": 2
                  },
                  {
                    "customer_id": 56327,
                    "rating": 5,
                    "product_name": "Wine corkscrew",
                    "product_id": 9,
                    "total_quantity": 4
                  },
                  {
                    "customer_id": 56327,
                    "rating": 1,
                    "product_name": "Steel corkscrew",
                    "product_id": 10,
                    "total_quantity": 2
                  },
                  {
                    "customer_id": 56327,
                    "rating": 3,
                    "product_name": "Black corkscrew",
                    "product_id": 11,
                    "total_quantity": 3
                  },
                  {
                    "customer_id": 56327,
                    "rating": 5,
                    "product_name": "Blue Coaster",
                    "product_id": 12,
                    "total_quantity": 4
                  },
                  {
                    "customer_id": 56327,
                    "rating": 3,
                    "product_name": "Brown Coaster",
                    "product_id": 13,
                    "total_quantity": 3
                  },
                  {
                    "customer_id": 56327,
                    "rating": 5,
                    "product_name": "Designer Coaster",
                    "product_id": 14,
                    "total_quantity": 4
                  },
                  {
                    "customer_id": 56327,
                    "rating": 0,
                    "product_name": "Brown Cupholders",
                    "product_id": 15,
                    "total_quantity": 1
                  },
                  {
                    "customer_id": 56327,
                    "rating": 0,
                    "product_name": "Turkish Lira",
                    "product_id": 16,
                    "total_quantity": 1
                  },
                  {
                    "customer_id": 56327,
                    "rating": 3,
                    "product_name": "Wood and Cork Coaster",
                    "product_id": 17,
                    "total_quantity": 3
                  },
                  {
                    "customer_id": 56327,
                    "rating": 3,
                    "product_name": "French cheese",
                    "product_id": 18,
                    "total_quantity": 3
                  },
                  {
                    "customer_id": 56328,
                    "rating": 0,
                    "product_name": "Brown Shoes",
                    "product_id": 30,
                    "total_quantity": 1
                  },
                  {
                    "customer_id": 56328,
                    "rating": 5,
                    "product_name": "Blue Shoes",
                    "product_id": 31,
                    "total_quantity": 4
                  },
                  {
                    "customer_id": 56329,
                    "rating": 3,
                    "product_name": "Retro surfboard",
                    "product_id": 2,
                    "total_quantity": 3
                  },
                  {
                    "customer_id": 56329,
                    "rating": 5,
                    "product_name": "Blue Surf Board ",
                    "product_id": 3,
                    "total_quantity": 4
                  },
                  {
                    "customer_id": 56329,
                    "rating": 1,
                    "product_name": "Brown SurfBoard",
                    "product_id": 4,
                    "total_quantity": 2
                  },
                  {
                    "customer_id": 56329,
                    "rating": 5,
                    "product_name": "Orange SurfBoard",
                    "product_id": 5,
                    "total_quantity": 4
                  },
                  {
                    "customer_id": 56329,
                    "rating": 5,
                    "product_name": "Blue Stripped SurfBoard",
                    "product_id": 6,
                    "total_quantity": 4
                  },
                  {
                    "customer_id": 56329,
                    "rating": 5,
                    "product_name": "Red Surfboard",
                    "product_id": 7,
                    "total_quantity": 4
                  },
                  {
                    "customer_id": 56329,
                    "rating": 3,
                    "product_name": "Red Corkscrew",
                    "product_id": 8,
                    "total_quantity": 3
                  },
                  {
                    "customer_id": 56329,
                    "rating": 5,
                    "product_name": "Wine corkscrew",
                    "product_id": 9,
                    "total_quantity": 4
                  },
                  {
                    "customer_id": 56329,
                    "rating": 0,
                    "product_name": "Steel corkscrew",
                    "product_id": 10,
                    "total_quantity": 1
                  },
                  {
                    "customer_id": 56329,
                    "rating": 3,
                    "product_name": "Black corkscrew",
                    "product_id": 11,
                    "total_quantity": 3
                  },
                  {
                    "customer_id": 56329,
                    "rating": 5,
                    "product_name": "Pink Shoes",
                    "product_id": 27,
                    "total_quantity": 4
                  },
                  {
                    "customer_id": 56329,
                    "rating": 5,
                    "product_name": "Black with red sole shoes",
                    "product_id": 28,
                    "total_quantity": 4
                  },
                  {
                    "customer_id": 56329,
                    "rating": 3,
                    "product_name": "Gray with white sole shoes",
                    "product_id": 29,
                    "total_quantity": 3
                  },
                  {
                    "customer_id": 56329,
                    "rating": 5,
                    "product_name": "Brown Shoes",
                    "product_id": 30,
                    "total_quantity": 4
                  },
                  {
                    "customer_id": 56329,
                    "rating": 1,
                    "product_name": "Blue Shoes",
                    "product_id": 31,
                    "total_quantity": 2
                  },
                  {
                    "customer_id": 56329,
                    "rating": 5,
                    "product_name": "Beach Shoes",
                    "product_id": 32,
                    "total_quantity": 4
                  },
                  {
                    "customer_id": 56330,
                    "rating": 0,
                    "product_name": "Brown SurfBoard",
                    "product_id": 4,
                    "total_quantity": 1
                  },
                  {
                    "customer_id": 56330,
                    "rating": 0,
                    "product_name": "Orange SurfBoard",
                    "product_id": 5,
                    "total_quantity": 1
                  },
                  {
                    "customer_id": 56330,
                    "rating": 0,
                    "product_name": "Blue Stripped SurfBoard",
                    "product_id": 6,
                    "total_quantity": 1
                  },
                  {
                    "customer_id": 56330,
                    "rating": 3,
                    "product_name": "Red Surfboard",
                    "product_id": 7,
                    "total_quantity": 3
                  },
                  {
                    "customer_id": 56330,
                    "rating": 5,
                    "product_name": "Red Corkscrew",
                    "product_id": 8,
                    "total_quantity": 4
                  },
                  {
                    "customer_id": 56330,
                    "rating": 3,
                    "product_name": "Wine corkscrew",
                    "product_id": 9,
                    "total_quantity": 3
                  },
                  {
                    "customer_id": 56330,
                    "rating": 1,
                    "product_name": "Steel corkscrew",
                    "product_id": 10,
                    "total_quantity": 2
                  },
                  {
                    "customer_id": 56330,
                    "rating": 5,
                    "product_name": "Black corkscrew",
                    "product_id": 11,
                    "total_quantity": 4
                  },
                  {
                    "customer_id": 56330,
                    "rating": 5,
                    "product_name": "Blue Coaster",
                    "product_id": 12,
                    "total_quantity": 4
                  },
                  {
                    "customer_id": 56330,
                    "rating": 1,
                    "product_name": "Brown Coaster",
                    "product_id": 13,
                    "total_quantity": 2
                  },
                  {
                    "customer_id": 56330,
                    "rating": 5,
                    "product_name": "Designer Coaster",
                    "product_id": 14,
                    "total_quantity": 4
                  },
                  {
                    "customer_id": 63913,
                    "rating": 5,
                    "product_name": "Black corkscrew",
                    "product_id": 11,
                    "total_quantity": 4
                  },
                  {
                    "customer_id": 63913,
                    "rating": 0,
                    "product_name": "Blue Coaster",
                    "product_id": 12,
                    "total_quantity": 1
                  },
                  {
                    "customer_id": 63913,
                    "rating": 0,
                    "product_name": "Brown Coaster",
                    "product_id": 13,
                    "total_quantity": 1
                  },
                  {
                    "customer_id": 63913,
                    "rating": 5,
                    "product_name": "Cheese circle",
                    "product_id": 21,
                    "total_quantity": 4
                  },
                  {
                    "customer_id": 63913,
                    "rating": 5,
                    "product_name": "Wineglass ",
                    "product_id": 22,
                    "total_quantity": 4
                  },
                  {
                    "customer_id": 63913,
                    "rating": 0,
                    "product_name": "Crystal Wineglass",
                    "product_id": 23,
                    "total_quantity": 1
                  },
                  {
                    "customer_id": 63913,
                    "rating": 3,
                    "product_name": "Unbreakable wineglass",
                    "product_id": 24,
                    "total_quantity": 3
                  },
                  {
                    "customer_id": 63913,
                    "rating": 5,
                    "product_name": "White Shoes",
                    "product_id": 25,
                    "total_quantity": 4
                  },
                  {
                    "customer_id": 63913,
                    "rating": 3,
                    "product_name": "Black Shoes",
                    "product_id": 26,
                    "total_quantity": 3
                  },
                  {
                    "customer_id": 63913,
                    "rating": 5,
                    "product_name": "Pink Shoes",
                    "product_id": 27,
                    "total_quantity": 4
                  },
                  {
                    "customer_id": 63913,
                    "rating": 3,
                    "product_name": "Black with red sole shoes",
                    "product_id": 28,
                    "total_quantity": 3
                  },
                  {
                    "customer_id": 63913,
                    "rating": 0,
                    "product_name": "Gray with white sole shoes",
                    "product_id": 29,
                    "total_quantity": 1
                  },
                  {
                    "customer_id": 63913,
                    "rating": 0,
                    "product_name": "Brown Shoes",
                    "product_id": 30,
                    "total_quantity": 1
                  },
                  {
                    "customer_id": 63913,
                    "rating": 3,
                    "product_name": "Blue Shoes",
                    "product_id": 31,
                    "total_quantity": 3
                  },
                  {
                    "customer_id": 63913,
                    "rating": 0,
                    "product_name": "Beach Shoes",
                    "product_id": 32,
                    "total_quantity": 1
                  },
                  {
                    "customer_id": 63914,
                    "rating": 3,
                    "product_name": "Turkish Lira",
                    "product_id": 16,
                    "total_quantity": 3
                  },
                  {
                    "customer_id": 63914,
                    "rating": 3,
                    "product_name": "Wood and Cork Coaster",
                    "product_id": 17,
                    "total_quantity": 3
                  },
                  {
                    "customer_id": 63914,
                    "rating": 1,
                    "product_name": "French cheese",
                    "product_id": 18,
                    "total_quantity": 2
                  },
                  {
                    "customer_id": 63914,
                    "rating": 1,
                    "product_name": "Yellow mature Dutch cheese ",
                    "product_id": 19,
                    "total_quantity": 2
                  },
                  {
                    "customer_id": 63914,
                    "rating": 0,
                    "product_name": "Cheese chunk",
                    "product_id": 20,
                    "total_quantity": 1
                  },
                  {
                    "customer_id": 63914,
                    "rating": 5,
                    "product_name": "Cheese circle",
                    "product_id": 21,
                    "total_quantity": 4
                  },
                  {
                    "customer_id": 63914,
                    "rating": 3,
                    "product_name": "Wineglass ",
                    "product_id": 22,
                    "total_quantity": 3
                  },
                  {
                    "customer_id": 63914,
                    "rating": 1,
                    "product_name": "Crystal Wineglass",
                    "product_id": 23,
                    "total_quantity": 2
                  },
                  {
                    "customer_id": 63914,
                    "rating": 3,
                    "product_name": "Unbreakable wineglass",
                    "product_id": 24,
                    "total_quantity": 3
                  },
                  {
                    "customer_id": 63914,
                    "rating": 0,
                    "product_name": "White Shoes",
                    "product_id": 25,
                    "total_quantity": 1
                  },
                  {
                    "customer_id": 63914,
                    "rating": 1,
                    "product_name": "Black Shoes",
                    "product_id": 26,
                    "total_quantity": 2
                  },
                  {
                    "customer_id": 63914,
                    "rating": 0,
                    "product_name": "Pink Shoes",
                    "product_id": 27,
                    "total_quantity": 1
                  },
                  {
                    "customer_id": 63914,
                    "rating": 5,
                    "product_name": "Black with red sole shoes",
                    "product_id": 28,
                    "total_quantity": 4
                  },
                  {
                    "customer_id": 63915,
                    "rating": 3,
                    "product_name": "Turkish Lira",
                    "product_id": 16,
                    "total_quantity": 3
                  },
                  {
                    "customer_id": 63915,
                    "rating": 1,
                    "product_name": "Wood and Cork Coaster",
                    "product_id": 17,
                    "total_quantity": 2
                  },
                  {
                    "customer_id": 63915,
                    "rating": 0,
                    "product_name": "French cheese",
                    "product_id": 18,
                    "total_quantity": 1
                  },
                  {
                    "customer_id": 63915,
                    "rating": 1,
                    "product_name": "Yellow mature Dutch cheese ",
                    "product_id": 19,
                    "total_quantity": 2
                  },
                  {
                    "customer_id": 63915,
                    "rating": 3,
                    "product_name": "Cheese chunk",
                    "product_id": 20,
                    "total_quantity": 3
                  },
                  {
                    "customer_id": 63915,
                    "rating": 5,
                    "product_name": "Cheese circle",
                    "product_id": 21,
                    "total_quantity": 4
                  },
                  {
                    "customer_id": 63915,
                    "rating": 1,
                    "product_name": "Wineglass ",
                    "product_id": 22,
                    "total_quantity": 2
                  },
                  {
                    "customer_id": 63916,
                    "rating": 0,
                    "product_name": "Black with red sole shoes",
                    "product_id": 28,
                    "total_quantity": 1
                  },
                  {
                    "customer_id": 63916,
                    "rating": 5,
                    "product_name": "Gray with white sole shoes",
                    "product_id": 29,
                    "total_quantity": 4
                  },
                  {
                    "customer_id": 63917,
                    "rating": 0,
                    "product_name": "Brown SurfBoard",
                    "product_id": 4,
                    "total_quantity": 1
                  },
                  {
                    "customer_id": 63917,
                    "rating": 3,
                    "product_name": "Orange SurfBoard",
                    "product_id": 5,
                    "total_quantity": 3
                  },
                  {
                    "customer_id": 63917,
                    "rating": 5,
                    "product_name": "Blue Stripped SurfBoard",
                    "product_id": 6,
                    "total_quantity": 4
                  },
                  {
                    "customer_id": 63917,
                    "rating": 5,
                    "product_name": "Red Surfboard",
                    "product_id": 7,
                    "total_quantity": 4
                  },
                  {
                    "customer_id": 63917,
                    "rating": 5,
                    "product_name": "Red Corkscrew",
                    "product_id": 8,
                    "total_quantity": 4
                  },
                  {
                    "customer_id": 63917,
                    "rating": 0,
                    "product_name": "Wine corkscrew",
                    "product_id": 9,
                    "total_quantity": 1
                  },
                  {
                    "customer_id": 63917,
                    "rating": 3,
                    "product_name": "Steel corkscrew",
                    "product_id": 10,
                    "total_quantity": 3
                  },
                  {
                    "customer_id": 63917,
                    "rating": 5,
                    "product_name": "Black corkscrew",
                    "product_id": 11,
                    "total_quantity": 4
                  },
                  {
                    "customer_id": 63917,
                    "rating": 3,
                    "product_name": "Blue Coaster",
                    "product_id": 12,
                    "total_quantity": 3
                  },
                  {
                    "customer_id": 63917,
                    "rating": 3,
                    "product_name": "Brown Coaster",
                    "product_id": 13,
                    "total_quantity": 3
                  },
                  {
                    "customer_id": 63917,
                    "rating": 5,
                    "product_name": "Designer Coaster",
                    "product_id": 14,
                    "total_quantity": 4
                  },
                  {
                    "customer_id": 63917,
                    "rating": 5,
                    "product_name": "Brown Cupholders",
                    "product_id": 15,
                    "total_quantity": 4
                  },
                  {
                    "customer_id": 63917,
                    "rating": 0,
                    "product_name": "Turkish Lira",
                    "product_id": 16,
                    "total_quantity": 1
                  },
                  {
                    "customer_id": 63917,
                    "rating": 1,
                    "product_name": "Wood and Cork Coaster",
                    "product_id": 17,
                    "total_quantity": 2
                  },
                  {
                    "customer_id": 63918,
                    "rating": 3,
                    "product_name": "Retro surfboard",
                    "product_id": 2,
                    "total_quantity": 3
                  },
                  {
                    "customer_id": 63918,
                    "rating": 3,
                    "product_name": "Blue Surf Board ",
                    "product_id": 3,
                    "total_quantity": 3
                  },
                  {
                    "customer_id": 63918,
                    "rating": 1,
                    "product_name": "Brown SurfBoard",
                    "product_id": 4,
                    "total_quantity": 2
                  },
                  {
                    "customer_id": 63918,
                    "rating": 1,
                    "product_name": "Orange SurfBoard",
                    "product_id": 5,
                    "total_quantity": 2
                  },
                  {
                    "customer_id": 63918,
                    "rating": 0,
                    "product_name": "Blue Stripped SurfBoard",
                    "product_id": 6,
                    "total_quantity": 1
                  },
                  {
                    "customer_id": 63918,
                    "rating": 3,
                    "product_name": "Red Surfboard",
                    "product_id": 7,
                    "total_quantity": 3
                  },
                  {
                    "customer_id": 63918,
                    "rating": 1,
                    "product_name": "Red Corkscrew",
                    "product_id": 8,
                    "total_quantity": 2
                  },
                  {
                    "customer_id": 63918,
                    "rating": 1,
                    "product_name": "Wine corkscrew",
                    "product_id": 9,
                    "total_quantity": 2
                  },
                  {
                    "customer_id": 63918,
                    "rating": 3,
                    "product_name": "Steel corkscrew",
                    "product_id": 10,
                    "total_quantity": 3
                  },
                  {
                    "customer_id": 63918,
                    "rating": 3,
                    "product_name": "Black corkscrew",
                    "product_id": 11,
                    "total_quantity": 3
                  },
                  {
                    "customer_id": 63918,
                    "rating": 3,
                    "product_name": "Blue Coaster",
                    "product_id": 12,
                    "total_quantity": 3
                  },
                  {
                    "customer_id": 63918,
                    "rating": 0,
                    "product_name": "Wood and Cork Coaster",
                    "product_id": 17,
                    "total_quantity": 1
                  },
                  {
                    "customer_id": 63918,
                    "rating": 0,
                    "product_name": "French cheese",
                    "product_id": 18,
                    "total_quantity": 1
                  },
                  {
                    "customer_id": 63918,
                    "rating": 0,
                    "product_name": "Yellow mature Dutch cheese ",
                    "product_id": 19,
                    "total_quantity": 1
                  },
                  {
                    "customer_id": 63918,
                    "rating": 5,
                    "product_name": "Cheese chunk",
                    "product_id": 20,
                    "total_quantity": 4
                  },
                  {
                    "customer_id": 63918,
                    "rating": 0,
                    "product_name": "Cheese circle",
                    "product_id": 21,
                    "total_quantity": 1
                  },
                  {
                    "customer_id": 63918,
                    "rating": 1,
                    "product_name": "Wineglass ",
                    "product_id": 22,
                    "total_quantity": 2
                  },
                  {
                    "customer_id": 63918,
                    "rating": 1,
                    "product_name": "Crystal Wineglass",
                    "product_id": 23,
                    "total_quantity": 2
                  },
                  {
                    "customer_id": 63918,
                    "rating": 3,
                    "product_name": "Unbreakable wineglass",
                    "product_id": 24,
                    "total_quantity": 3
                  },
                  {
                    "customer_id": 63918,
                    "rating": 0,
                    "product_name": "White Shoes",
                    "product_id": 25,
                    "total_quantity": 1
                  },
                  {
                    "customer_id": 63918,
                    "rating": 3,
                    "product_name": "Black Shoes",
                    "product_id": 26,
                    "total_quantity": 3
                  },
                  {
                    "customer_id": 63918,
                    "rating": 5,
                    "product_name": "Pink Shoes",
                    "product_id": 27,
                    "total_quantity": 4
                  },
                  {
                    "customer_id": 63918,
                    "rating": 1,
                    "product_name": "Black with red sole shoes",
                    "product_id": 28,
                    "total_quantity": 2
                  },
                  {
                    "customer_id": 63918,
                    "rating": 3,
                    "product_name": "Gray with white sole shoes",
                    "product_id": 29,
                    "total_quantity": 3
                  },
                  {
                    "customer_id": 63918,
                    "rating": 1,
                    "product_name": "Brown Shoes",
                    "product_id": 30,
                    "total_quantity": 2
                  },
                  {
                    "customer_id": 63918,
                    "rating": 5,
                    "product_name": "Blue Shoes",
                    "product_id": 31,
                    "total_quantity": 4
                  },
                  {
                    "customer_id": 63918,
                    "rating": 3,
                    "product_name": "Beach Shoes",
                    "product_id": 32,
                    "total_quantity": 3
                  },
                  {
                    "customer_id": 63919,
                    "rating": 1,
                    "product_name": "Retro surfboard",
                    "product_id": 2,
                    "total_quantity": 2
                  },
                  {
                    "customer_id": 63919,
                    "rating": 3,
                    "product_name": "Blue Surf Board ",
                    "product_id": 3,
                    "total_quantity": 3
                  },
                  {
                    "customer_id": 63919,
                    "rating": 3,
                    "product_name": "Brown SurfBoard",
                    "product_id": 4,
                    "total_quantity": 3
                  },
                  {
                    "customer_id": 63919,
                    "rating": 1,
                    "product_name": "Crystal Wineglass",
                    "product_id": 23,
                    "total_quantity": 2
                  },
                  {
                    "customer_id": 63919,
                    "rating": 1,
                    "product_name": "Unbreakable wineglass",
                    "product_id": 24,
                    "total_quantity": 2
                  },
                  {
                    "customer_id": 63919,
                    "rating": 5,
                    "product_name": "White Shoes",
                    "product_id": 25,
                    "total_quantity": 4
                  },
                  {
                    "customer_id": 63919,
                    "rating": 5,
                    "product_name": "Black Shoes",
                    "product_id": 26,
                    "total_quantity": 4
                  },
                  {
                    "customer_id": 63919,
                    "rating": 1,
                    "product_name": "Pink Shoes",
                    "product_id": 27,
                    "total_quantity": 2
                  },
                  {
                    "customer_id": 63919,
                    "rating": 3,
                    "product_name": "Black with red sole shoes",
                    "product_id": 28,
                    "total_quantity": 3
                  },
                  {
                    "customer_id": 63919,
                    "rating": 0,
                    "product_name": "Gray with white sole shoes",
                    "product_id": 29,
                    "total_quantity": 1
                  },
                  {
                    "customer_id": 63919,
                    "rating": 3,
                    "product_name": "Brown Shoes",
                    "product_id": 30,
                    "total_quantity": 3
                  },
                  {
                    "customer_id": 63919,
                    "rating": 5,
                    "product_name": "Blue Shoes",
                    "product_id": 31,
                    "total_quantity": 4
                  },
                  {
                    "customer_id": 63919,
                    "rating": 1,
                    "product_name": "Beach Shoes",
                    "product_id": 32,
                    "total_quantity": 2
                  },
                  {
                    "customer_id": 63920,
                    "rating": 1,
                    "product_name": "Retro surfboard",
                    "product_id": 2,
                    "total_quantity": 2
                  },
                  {
                    "customer_id": 63920,
                    "rating": 3,
                    "product_name": "Blue Surf Board ",
                    "product_id": 3,
                    "total_quantity": 3
                  },
                  {
                    "customer_id": 63920,
                    "rating": 3,
                    "product_name": "Brown SurfBoard",
                    "product_id": 4,
                    "total_quantity": 3
                  },
                  {
                    "customer_id": 63920,
                    "rating": 0,
                    "product_name": "Beach Shoes",
                    "product_id": 32,
                    "total_quantity": 1
                  },
                  {
                    "customer_id": 63921,
                    "rating": 3,
                    "product_name": "Orange SurfBoard",
                    "product_id": 5,
                    "total_quantity": 3
                  },
                  {
                    "customer_id": 63921,
                    "rating": 5,
                    "product_name": "Blue Stripped SurfBoard",
                    "product_id": 6,
                    "total_quantity": 4
                  },
                  {
                    "customer_id": 63921,
                    "rating": 0,
                    "product_name": "Red Surfboard",
                    "product_id": 7,
                    "total_quantity": 1
                  },
                  {
                    "customer_id": 63921,
                    "rating": 5,
                    "product_name": "Red Corkscrew",
                    "product_id": 8,
                    "total_quantity": 4
                  },
                  {
                    "customer_id": 63921,
                    "rating": 3,
                    "product_name": "Wine corkscrew",
                    "product_id": 9,
                    "total_quantity": 3
                  },
                  {
                    "customer_id": 63921,
                    "rating": 3,
                    "product_name": "Steel corkscrew",
                    "product_id": 10,
                    "total_quantity": 3
                  },
                  {
                    "customer_id": 63921,
                    "rating": 0,
                    "product_name": "Black corkscrew",
                    "product_id": 11,
                    "total_quantity": 1
                  },
                  {
                    "customer_id": 63921,
                    "rating": 5,
                    "product_name": "Blue Coaster",
                    "product_id": 12,
                    "total_quantity": 4
                  },
                  {
                    "customer_id": 63921,
                    "rating": 5,
                    "product_name": "Brown Coaster",
                    "product_id": 13,
                    "total_quantity": 4
                  },
                  {
                    "customer_id": 63921,
                    "rating": 0,
                    "product_name": "Designer Coaster",
                    "product_id": 14,
                    "total_quantity": 1
                  },
                  {
                    "customer_id": 63921,
                    "rating": 0,
                    "product_name": "Brown Cupholders",
                    "product_id": 15,
                    "total_quantity": 1
                  },
                  {
                    "customer_id": 63921,
                    "rating": 3,
                    "product_name": "Turkish Lira",
                    "product_id": 16,
                    "total_quantity": 3
                  },
                  {
                    "customer_id": 63922,
                    "rating": 0,
                    "product_name": "Retro surfboard",
                    "product_id": 2,
                    "total_quantity": 1
                  },
                  {
                    "customer_id": 63922,
                    "rating": 5,
                    "product_name": "Gray with white sole shoes",
                    "product_id": 29,
                    "total_quantity": 4
                  },
                  {
                    "customer_id": 63922,
                    "rating": 3,
                    "product_name": "Brown Shoes",
                    "product_id": 30,
                    "total_quantity": 3
                  },
                  {
                    "customer_id": 63922,
                    "rating": 1,
                    "product_name": "Blue Shoes",
                    "product_id": 31,
                    "total_quantity": 2
                  },
                  {
                    "customer_id": 63922,
                    "rating": 1,
                    "product_name": "Beach Shoes",
                    "product_id": 32,
                    "total_quantity": 2
                  },
                  {
                    "customer_id": 63923,
                    "rating": 3,
                    "product_name": "Designer Coaster",
                    "product_id": 14,
                    "total_quantity": 3
                  },
                  {
                    "customer_id": 63924,
                    "rating": 1,
                    "product_name": "Retro surfboard",
                    "product_id": 2,
                    "total_quantity": 2
                  },
                  {
                    "customer_id": 63924,
                    "rating": 1,
                    "product_name": "Blue Surf Board ",
                    "product_id": 3,
                    "total_quantity": 2
                  },
                  {
                    "customer_id": 63924,
                    "rating": 3,
                    "product_name": "Brown SurfBoard",
                    "product_id": 4,
                    "total_quantity": 3
                  },
                  {
                    "customer_id": 63924,
                    "rating": 0,
                    "product_name": "Orange SurfBoard",
                    "product_id": 5,
                    "total_quantity": 1
                  },
                  {
                    "customer_id": 63924,
                    "rating": 3,
                    "product_name": "Blue Stripped SurfBoard",
                    "product_id": 6,
                    "total_quantity": 3
                  },
                  {
                    "customer_id": 63924,
                    "rating": 3,
                    "product_name": "Red Surfboard",
                    "product_id": 7,
                    "total_quantity": 3
                  },
                  {
                    "customer_id": 63924,
                    "rating": 5,
                    "product_name": "Cheese circle",
                    "product_id": 21,
                    "total_quantity": 4
                  },
                  {
                    "customer_id": 63924,
                    "rating": 1,
                    "product_name": "Wineglass ",
                    "product_id": 22,
                    "total_quantity": 2
                  },
                  {
                    "customer_id": 63924,
                    "rating": 3,
                    "product_name": "Crystal Wineglass",
                    "product_id": 23,
                    "total_quantity": 3
                  },
                  {
                    "customer_id": 63924,
                    "rating": 0,
                    "product_name": "Unbreakable wineglass",
                    "product_id": 24,
                    "total_quantity": 1
                  },
                  {
                    "customer_id": 63924,
                    "rating": 3,
                    "product_name": "White Shoes",
                    "product_id": 25,
                    "total_quantity": 3
                  },
                  {
                    "customer_id": 63924,
                    "rating": 0,
                    "product_name": "Black Shoes",
                    "product_id": 26,
                    "total_quantity": 1
                  },
                  {
                    "customer_id": 63924,
                    "rating": 3,
                    "product_name": "Pink Shoes",
                    "product_id": 27,
                    "total_quantity": 3
                  },
                  {
                    "customer_id": 63924,
                    "rating": 1,
                    "product_name": "Black with red sole shoes",
                    "product_id": 28,
                    "total_quantity": 2
                  },
                  {
                    "customer_id": 63924,
                    "rating": 0,
                    "product_name": "Gray with white sole shoes",
                    "product_id": 29,
                    "total_quantity": 1
                  },
                  {
                    "customer_id": 63924,
                    "rating": 3,
                    "product_name": "Brown Shoes",
                    "product_id": 30,
                    "total_quantity": 3
                  },
                  {
                    "customer_id": 63924,
                    "rating": 5,
                    "product_name": "Blue Shoes",
                    "product_id": 31,
                    "total_quantity": 4
                  },
                  {
                    "customer_id": 63924,
                    "rating": 0,
                    "product_name": "Beach Shoes",
                    "product_id": 32,
                    "total_quantity": 1
                  },
                  {
                    "customer_id": 63925,
                    "rating": 3,
                    "product_name": "Pink Shoes",
                    "product_id": 27,
                    "total_quantity": 3
                  },
                  {
                    "customer_id": 63925,
                    "rating": 0,
                    "product_name": "Black with red sole shoes",
                    "product_id": 28,
                    "total_quantity": 1
                  },
                  {
                    "customer_id": 63925,
                    "rating": 1,
                    "product_name": "Gray with white sole shoes",
                    "product_id": 29,
                    "total_quantity": 2
                  },
                  {
                    "customer_id": 63926,
                    "rating": 0,
                    "product_name": "Red Surfboard",
                    "product_id": 7,
                    "total_quantity": 1
                  },
                  {
                    "customer_id": 63926,
                    "rating": 0,
                    "product_name": "Red Corkscrew",
                    "product_id": 8,
                    "total_quantity": 1
                  },
                  {
                    "customer_id": 63926,
                    "rating": 5,
                    "product_name": "Wine corkscrew",
                    "product_id": 9,
                    "total_quantity": 4
                  },
                  {
                    "customer_id": 63926,
                    "rating": 5,
                    "product_name": "Steel corkscrew",
                    "product_id": 10,
                    "total_quantity": 4
                  },
                  {
                    "customer_id": 63926,
                    "rating": 1,
                    "product_name": "Black corkscrew",
                    "product_id": 11,
                    "total_quantity": 2
                  },
                  {
                    "customer_id": 63926,
                    "rating": 3,
                    "product_name": "Blue Coaster",
                    "product_id": 12,
                    "total_quantity": 3
                  },
                  {
                    "customer_id": 63926,
                    "rating": 0,
                    "product_name": "Brown Coaster",
                    "product_id": 13,
                    "total_quantity": 1
                  },
                  {
                    "customer_id": 63926,
                    "rating": 0,
                    "product_name": "Designer Coaster",
                    "product_id": 14,
                    "total_quantity": 1
                  },
                  {
                    "customer_id": 63926,
                    "rating": 1,
                    "product_name": "Brown Cupholders",
                    "product_id": 15,
                    "total_quantity": 2
                  },
                  {
                    "customer_id": 63926,
                    "rating": 0,
                    "product_name": "Turkish Lira",
                    "product_id": 16,
                    "total_quantity": 1
                  },
                  {
                    "customer_id": 63926,
                    "rating": 0,
                    "product_name": "Wood and Cork Coaster",
                    "product_id": 17,
                    "total_quantity": 1
                  },
                  {
                    "customer_id": 63926,
                    "rating": 1,
                    "product_name": "French cheese",
                    "product_id": 18,
                    "total_quantity": 2
                  },
                  {
                    "customer_id": 63926,
                    "rating": 0,
                    "product_name": "Yellow mature Dutch cheese ",
                    "product_id": 19,
                    "total_quantity": 1
                  },
                  {
                    "customer_id": 63926,
                    "rating": 5,
                    "product_name": "Cheese chunk",
                    "product_id": 20,
                    "total_quantity": 4
                  },
                  {
                    "customer_id": 63926,
                    "rating": 0,
                    "product_name": "Cheese circle",
                    "product_id": 21,
                    "total_quantity": 1
                  },
                  {
                    "customer_id": 63926,
                    "rating": 0,
                    "product_name": "Wineglass ",
                    "product_id": 22,
                    "total_quantity": 1
                  },
                  {
                    "customer_id": 63926,
                    "rating": 0,
                    "product_name": "Crystal Wineglass",
                    "product_id": 23,
                    "total_quantity": 1
                  },
                  {
                    "customer_id": 63927,
                    "rating": 5,
                    "product_name": "Turkish Lira",
                    "product_id": 16,
                    "total_quantity": 4
                  },
                  {
                    "customer_id": 63927,
                    "rating": 5,
                    "product_name": "Wood and Cork Coaster",
                    "product_id": 17,
                    "total_quantity": 4
                  },
                  {
                    "customer_id": 63928,
                    "rating": 0,
                    "product_name": "Retro surfboard",
                    "product_id": 2,
                    "total_quantity": 1
                  },
                  {
                    "customer_id": 63928,
                    "rating": 5,
                    "product_name": "Blue Surf Board ",
                    "product_id": 3,
                    "total_quantity": 4
                  },
                  {
                    "customer_id": 63928,
                    "rating": 1,
                    "product_name": "Brown SurfBoard",
                    "product_id": 4,
                    "total_quantity": 2
                  },
                  {
                    "customer_id": 63928,
                    "rating": 0,
                    "product_name": "Orange SurfBoard",
                    "product_id": 5,
                    "total_quantity": 1
                  },
                  {
                    "customer_id": 63928,
                    "rating": 5,
                    "product_name": "Blue Stripped SurfBoard",
                    "product_id": 6,
                    "total_quantity": 4
                  },
                  {
                    "customer_id": 63928,
                    "rating": 3,
                    "product_name": "Red Surfboard",
                    "product_id": 7,
                    "total_quantity": 3
                  },
                  {
                    "customer_id": 63928,
                    "rating": 0,
                    "product_name": "Red Corkscrew",
                    "product_id": 8,
                    "total_quantity": 1
                  },
                  {
                    "customer_id": 63928,
                    "rating": 1,
                    "product_name": "Wine corkscrew",
                    "product_id": 9,
                    "total_quantity": 2
                  },
                  {
                    "customer_id": 63928,
                    "rating": 3,
                    "product_name": "Steel corkscrew",
                    "product_id": 10,
                    "total_quantity": 3
                  },
                  {
                    "customer_id": 63928,
                    "rating": 5,
                    "product_name": "Black corkscrew",
                    "product_id": 11,
                    "total_quantity": 4
                  },
                  {
                    "customer_id": 63928,
                    "rating": 3,
                    "product_name": "Blue Coaster",
                    "product_id": 12,
                    "total_quantity": 3
                  },
                  {
                    "customer_id": 63928,
                    "rating": 3,
                    "product_name": "Crystal Wineglass",
                    "product_id": 23,
                    "total_quantity": 3
                  },
                  {
                    "customer_id": 63928,
                    "rating": 0,
                    "product_name": "Unbreakable wineglass",
                    "product_id": 24,
                    "total_quantity": 1
                  },
                  {
                    "customer_id": 63928,
                    "rating": 5,
                    "product_name": "White Shoes",
                    "product_id": 25,
                    "total_quantity": 4
                  },
                  {
                    "customer_id": 63928,
                    "rating": 5,
                    "product_name": "Black Shoes",
                    "product_id": 26,
                    "total_quantity": 4
                  },
                  {
                    "customer_id": 63928,
                    "rating": 5,
                    "product_name": "Pink Shoes",
                    "product_id": 27,
                    "total_quantity": 4
                  },
                  {
                    "customer_id": 63928,
                    "rating": 3,
                    "product_name": "Black with red sole shoes",
                    "product_id": 28,
                    "total_quantity": 3
                  },
                  {
                    "customer_id": 63928,
                    "rating": 3,
                    "product_name": "Gray with white sole shoes",
                    "product_id": 29,
                    "total_quantity": 3
                  },
                  {
                    "customer_id": 63928,
                    "rating": 5,
                    "product_name": "Brown Shoes",
                    "product_id": 30,
                    "total_quantity": 4
                  },
                  {
                    "customer_id": 63928,
                    "rating": 5,
                    "product_name": "Blue Shoes",
                    "product_id": 31,
                    "total_quantity": 4
                  },
                  {
                    "customer_id": 63928,
                    "rating": 0,
                    "product_name": "Beach Shoes",
                    "product_id": 32,
                    "total_quantity": 1
                  },
                  {
                    "customer_id": 63929,
                    "rating": 3,
                    "product_name": "Brown Cupholders",
                    "product_id": 15,
                    "total_quantity": 3
                  },
                  {
                    "customer_id": 63929,
                    "rating": 1,
                    "product_name": "Turkish Lira",
                    "product_id": 16,
                    "total_quantity": 2
                  },
                  {
                    "customer_id": 63929,
                    "rating": 5,
                    "product_name": "Wood and Cork Coaster",
                    "product_id": 17,
                    "total_quantity": 4
                  },
                  {
                    "customer_id": 63929,
                    "rating": 3,
                    "product_name": "French cheese",
                    "product_id": 18,
                    "total_quantity": 3
                  },
                  {
                    "customer_id": 63929,
                    "rating": 1,
                    "product_name": "Yellow mature Dutch cheese ",
                    "product_id": 19,
                    "total_quantity": 2
                  },
                  {
                    "customer_id": 63929,
                    "rating": 3,
                    "product_name": "Cheese chunk",
                    "product_id": 20,
                    "total_quantity": 3
                  },
                  {
                    "customer_id": 63929,
                    "rating": 1,
                    "product_name": "Cheese circle",
                    "product_id": 21,
                    "total_quantity": 2
                  },
                  {
                    "customer_id": 63929,
                    "rating": 5,
                    "product_name": "Wineglass ",
                    "product_id": 22,
                    "total_quantity": 4
                  },
                  {
                    "customer_id": 63929,
                    "rating": 0,
                    "product_name": "Crystal Wineglass",
                    "product_id": 23,
                    "total_quantity": 1
                  },
                  {
                    "customer_id": 63929,
                    "rating": 3,
                    "product_name": "Unbreakable wineglass",
                    "product_id": 24,
                    "total_quantity": 3
                  },
                  {
                    "customer_id": 63930,
                    "rating": 1,
                    "product_name": "Retro surfboard",
                    "product_id": 2,
                    "total_quantity": 2
                  },
                  {
                    "customer_id": 63930,
                    "rating": 1,
                    "product_name": "Blue Surf Board ",
                    "product_id": 3,
                    "total_quantity": 2
                  },
                  {
                    "customer_id": 63930,
                    "rating": 0,
                    "product_name": "Brown SurfBoard",
                    "product_id": 4,
                    "total_quantity": 1
                  },
                  {
                    "customer_id": 63930,
                    "rating": 5,
                    "product_name": "Orange SurfBoard",
                    "product_id": 5,
                    "total_quantity": 4
                  },
                  {
                    "customer_id": 63930,
                    "rating": 3,
                    "product_name": "Blue Stripped SurfBoard",
                    "product_id": 6,
                    "total_quantity": 3
                  },
                  {
                    "customer_id": 63930,
                    "rating": 3,
                    "product_name": "Red Surfboard",
                    "product_id": 7,
                    "total_quantity": 3
                  },
                  {
                    "customer_id": 63930,
                    "rating": 5,
                    "product_name": "Red Corkscrew",
                    "product_id": 8,
                    "total_quantity": 4
                  },
                  {
                    "customer_id": 63930,
                    "rating": 3,
                    "product_name": "Wine corkscrew",
                    "product_id": 9,
                    "total_quantity": 3
                  },
                  {
                    "customer_id": 63930,
                    "rating": 3,
                    "product_name": "Brown Coaster",
                    "product_id": 13,
                    "total_quantity": 3
                  },
                  {
                    "customer_id": 63930,
                    "rating": 0,
                    "product_name": "Designer Coaster",
                    "product_id": 14,
                    "total_quantity": 1
                  },
                  {
                    "customer_id": 63930,
                    "rating": 1,
                    "product_name": "Brown Cupholders",
                    "product_id": 15,
                    "total_quantity": 2
                  },
                  {
                    "customer_id": 63930,
                    "rating": 1,
                    "product_name": "Turkish Lira",
                    "product_id": 16,
                    "total_quantity": 2
                  },
                  {
                    "customer_id": 63930,
                    "rating": 5,
                    "product_name": "Wood and Cork Coaster",
                    "product_id": 17,
                    "total_quantity": 4
                  },
                  {
                    "customer_id": 63930,
                    "rating": 3,
                    "product_name": "French cheese",
                    "product_id": 18,
                    "total_quantity": 3
                  },
                  {
                    "customer_id": 63930,
                    "rating": 5,
                    "product_name": "Yellow mature Dutch cheese ",
                    "product_id": 19,
                    "total_quantity": 4
                  },
                  {
                    "customer_id": 63930,
                    "rating": 1,
                    "product_name": "Cheese chunk",
                    "product_id": 20,
                    "total_quantity": 2
                  },
                  {
                    "customer_id": 63930,
                    "rating": 5,
                    "product_name": "Cheese circle",
                    "product_id": 21,
                    "total_quantity": 4
                  },
                  {
                    "customer_id": 63930,
                    "rating": 1,
                    "product_name": "Wineglass ",
                    "product_id": 22,
                    "total_quantity": 2
                  },
                  {
                    "customer_id": 63930,
                    "rating": 3,
                    "product_name": "Crystal Wineglass",
                    "product_id": 23,
                    "total_quantity": 3
                  },
                  {
                    "customer_id": 63930,
                    "rating": 0,
                    "product_name": "Unbreakable wineglass",
                    "product_id": 24,
                    "total_quantity": 1
                  },
                  {
                    "customer_id": 63930,
                    "rating": 0,
                    "product_name": "White Shoes",
                    "product_id": 25,
                    "total_quantity": 1
                  },
                  {
                    "customer_id": 63930,
                    "rating": 5,
                    "product_name": "Black Shoes",
                    "product_id": 26,
                    "total_quantity": 4
                  },
                  {
                    "customer_id": 63930,
                    "rating": 3,
                    "product_name": "Pink Shoes",
                    "product_id": 27,
                    "total_quantity": 3
                  },
                  {
                    "customer_id": 63930,
                    "rating": 3,
                    "product_name": "Black with red sole shoes",
                    "product_id": 28,
                    "total_quantity": 3
                  },
                  {
                    "customer_id": 63930,
                    "rating": 0,
                    "product_name": "Gray with white sole shoes",
                    "product_id": 29,
                    "total_quantity": 1
                  },
                  {
                    "customer_id": 63930,
                    "rating": 0,
                    "product_name": "Brown Shoes",
                    "product_id": 30,
                    "total_quantity": 1
                  },
                  {
                    "customer_id": 63930,
                    "rating": 0,
                    "product_name": "Blue Shoes",
                    "product_id": 31,
                    "total_quantity": 1
                  },
                  {
                    "customer_id": 63930,
                    "rating": 3,
                    "product_name": "Beach Shoes",
                    "product_id": 32,
                    "total_quantity": 3
                  },
                  {
                    "customer_id": 63931,
                    "rating": 0,
                    "product_name": "Black Shoes",
                    "product_id": 26,
                    "total_quantity": 1
                  },
                  {
                    "customer_id": 63932,
                    "rating": 0,
                    "product_name": "Brown Coaster",
                    "product_id": 13,
                    "total_quantity": 1
                  },
                  {
                    "customer_id": 63932,
                    "rating": 0,
                    "product_name": "Designer Coaster",
                    "product_id": 14,
                    "total_quantity": 1
                  },
                  {
                    "customer_id": 63932,
                    "rating": 1,
                    "product_name": "Brown Cupholders",
                    "product_id": 15,
                    "total_quantity": 2
                  },
                  {
                    "customer_id": 63932,
                    "rating": 5,
                    "product_name": "Turkish Lira",
                    "product_id": 16,
                    "total_quantity": 4
                  },
                  {
                    "customer_id": 63932,
                    "rating": 0,
                    "product_name": "Wood and Cork Coaster",
                    "product_id": 17,
                    "total_quantity": 1
                  },
                  {
                    "customer_id": 63932,
                    "rating": 1,
                    "product_name": "French cheese",
                    "product_id": 18,
                    "total_quantity": 2
                  },
                  {
                    "customer_id": 63932,
                    "rating": 5,
                    "product_name": "Yellow mature Dutch cheese ",
                    "product_id": 19,
                    "total_quantity": 4
                  },
                  {
                    "customer_id": 63932,
                    "rating": 3,
                    "product_name": "Cheese chunk",
                    "product_id": 20,
                    "total_quantity": 3
                  },
                  {
                    "customer_id": 63932,
                    "rating": 3,
                    "product_name": "Cheese circle",
                    "product_id": 21,
                    "total_quantity": 3
                  },
                  {
                    "customer_id": 63932,
                    "rating": 0,
                    "product_name": "Wineglass ",
                    "product_id": 22,
                    "total_quantity": 1
                  },
                  {
                    "customer_id": 63932,
                    "rating": 1,
                    "product_name": "Crystal Wineglass",
                    "product_id": 23,
                    "total_quantity": 2
                  },
                  {
                    "customer_id": 63933,
                    "rating": 1,
                    "product_name": "Retro surfboard",
                    "product_id": 2,
                    "total_quantity": 2
                  },
                  {
                    "customer_id": 63933,
                    "rating": 5,
                    "product_name": "Blue Surf Board ",
                    "product_id": 3,
                    "total_quantity": 4
                  },
                  {
                    "customer_id": 63933,
                    "rating": 0,
                    "product_name": "Brown SurfBoard",
                    "product_id": 4,
                    "total_quantity": 1
                  },
                  {
                    "customer_id": 63933,
                    "rating": 5,
                    "product_name": "Orange SurfBoard",
                    "product_id": 5,
                    "total_quantity": 4
                  },
                  {
                    "customer_id": 63933,
                    "rating": 0,
                    "product_name": "Blue Stripped SurfBoard",
                    "product_id": 6,
                    "total_quantity": 1
                  },
                  {
                    "customer_id": 63933,
                    "rating": 0,
                    "product_name": "Red Surfboard",
                    "product_id": 7,
                    "total_quantity": 1
                  },
                  {
                    "customer_id": 63933,
                    "rating": 5,
                    "product_name": "Red Corkscrew",
                    "product_id": 8,
                    "total_quantity": 4
                  },
                  {
                    "customer_id": 63933,
                    "rating": 3,
                    "product_name": "Wine corkscrew",
                    "product_id": 9,
                    "total_quantity": 3
                  },
                  {
                    "customer_id": 63933,
                    "rating": 0,
                    "product_name": "Steel corkscrew",
                    "product_id": 10,
                    "total_quantity": 1
                  },
                  {
                    "customer_id": 63933,
                    "rating": 5,
                    "product_name": "Black corkscrew",
                    "product_id": 11,
                    "total_quantity": 4
                  },
                  {
                    "customer_id": 63933,
                    "rating": 1,
                    "product_name": "Blue Coaster",
                    "product_id": 12,
                    "total_quantity": 2
                  },
                  {
                    "customer_id": 63933,
                    "rating": 1,
                    "product_name": "Brown Coaster",
                    "product_id": 13,
                    "total_quantity": 2
                  },
                  {
                    "customer_id": 63933,
                    "rating": 5,
                    "product_name": "Designer Coaster",
                    "product_id": 14,
                    "total_quantity": 4
                  },
                  {
                    "customer_id": 63933,
                    "rating": 5,
                    "product_name": "Unbreakable wineglass",
                    "product_id": 24,
                    "total_quantity": 4
                  },
                  {
                    "customer_id": 63933,
                    "rating": 1,
                    "product_name": "White Shoes",
                    "product_id": 25,
                    "total_quantity": 2
                  },
                  {
                    "customer_id": 63933,
                    "rating": 3,
                    "product_name": "Black Shoes",
                    "product_id": 26,
                    "total_quantity": 3
                  },
                  {
                    "customer_id": 63933,
                    "rating": 0,
                    "product_name": "Pink Shoes",
                    "product_id": 27,
                    "total_quantity": 1
                  },
                  {
                    "customer_id": 63933,
                    "rating": 5,
                    "product_name": "Black with red sole shoes",
                    "product_id": 28,
                    "total_quantity": 4
                  },
                  {
                    "customer_id": 63933,
                    "rating": 3,
                    "product_name": "Gray with white sole shoes",
                    "product_id": 29,
                    "total_quantity": 3
                  },
                  {
                    "customer_id": 63933,
                    "rating": 5,
                    "product_name": "Brown Shoes",
                    "product_id": 30,
                    "total_quantity": 4
                  },
                  {
                    "customer_id": 63933,
                    "rating": 5,
                    "product_name": "Blue Shoes",
                    "product_id": 31,
                    "total_quantity": 4
                  },
                  {
                    "customer_id": 63933,
                    "rating": 0,
                    "product_name": "Beach Shoes",
                    "product_id": 32,
                    "total_quantity": 1
                  },
                  {
                    "customer_id": 63934,
                    "rating": 5,
                    "product_name": "Retro surfboard",
                    "product_id": 2,
                    "total_quantity": 4
                  },
                  {
                    "customer_id": 63934,
                    "rating": 3,
                    "product_name": "Blue Surf Board ",
                    "product_id": 3,
                    "total_quantity": 3
                  },
                  {
                    "customer_id": 63934,
                    "rating": 3,
                    "product_name": "Cheese chunk",
                    "product_id": 20,
                    "total_quantity": 3
                  },
                  {
                    "customer_id": 63934,
                    "rating": 3,
                    "product_name": "Cheese circle",
                    "product_id": 21,
                    "total_quantity": 3
                  },
                  {
                    "customer_id": 63934,
                    "rating": 3,
                    "product_name": "Wineglass ",
                    "product_id": 22,
                    "total_quantity": 3
                  },
                  {
                    "customer_id": 63934,
                    "rating": 3,
                    "product_name": "Crystal Wineglass",
                    "product_id": 23,
                    "total_quantity": 3
                  },
                  {
                    "customer_id": 63934,
                    "rating": 1,
                    "product_name": "Unbreakable wineglass",
                    "product_id": 24,
                    "total_quantity": 2
                  },
                  {
                    "customer_id": 63934,
                    "rating": 5,
                    "product_name": "White Shoes",
                    "product_id": 25,
                    "total_quantity": 4
                  },
                  {
                    "customer_id": 63934,
                    "rating": 5,
                    "product_name": "Black Shoes",
                    "product_id": 26,
                    "total_quantity": 4
                  },
                  {
                    "customer_id": 63934,
                    "rating": 3,
                    "product_name": "Pink Shoes",
                    "product_id": 27,
                    "total_quantity": 3
                  },
                  {
                    "customer_id": 63934,
                    "rating": 5,
                    "product_name": "Black with red sole shoes",
                    "product_id": 28,
                    "total_quantity": 4
                  },
                  {
                    "customer_id": 63934,
                    "rating": 5,
                    "product_name": "Gray with white sole shoes",
                    "product_id": 29,
                    "total_quantity": 4
                  },
                  {
                    "customer_id": 63934,
                    "rating": 0,
                    "product_name": "Brown Shoes",
                    "product_id": 30,
                    "total_quantity": 1
                  },
                  {
                    "customer_id": 63934,
                    "rating": 1,
                    "product_name": "Blue Shoes",
                    "product_id": 31,
                    "total_quantity": 2
                  },
                  {
                    "customer_id": 63934,
                    "rating": 1,
                    "product_name": "Beach Shoes",
                    "product_id": 32,
                    "total_quantity": 2
                  },
                  {
                    "customer_id": 63935,
                    "rating": 5,
                    "product_name": "Designer Coaster",
                    "product_id": 14,
                    "total_quantity": 4
                  },
                  {
                    "customer_id": 63935,
                    "rating": 0,
                    "product_name": "Brown Cupholders",
                    "product_id": 15,
                    "total_quantity": 1
                  },
                  {
                    "customer_id": 63935,
                    "rating": 1,
                    "product_name": "Turkish Lira",
                    "product_id": 16,
                    "total_quantity": 2
                  },
                  {
                    "customer_id": 63935,
                    "rating": 3,
                    "product_name": "Wood and Cork Coaster",
                    "product_id": 17,
                    "total_quantity": 3
                  },
                  {
                    "customer_id": 63935,
                    "rating": 5,
                    "product_name": "French cheese",
                    "product_id": 18,
                    "total_quantity": 4
                  },
                  {
                    "customer_id": 63935,
                    "rating": 3,
                    "product_name": "Yellow mature Dutch cheese ",
                    "product_id": 19,
                    "total_quantity": 3
                  },
                  {
                    "customer_id": 63935,
                    "rating": 0,
                    "product_name": "Cheese chunk",
                    "product_id": 20,
                    "total_quantity": 1
                  },
                  {
                    "customer_id": 63935,
                    "rating": 3,
                    "product_name": "Cheese circle",
                    "product_id": 21,
                    "total_quantity": 3
                  },
                  {
                    "customer_id": 63935,
                    "rating": 1,
                    "product_name": "Wineglass ",
                    "product_id": 22,
                    "total_quantity": 2
                  },
                  {
                    "customer_id": 63935,
                    "rating": 0,
                    "product_name": "Crystal Wineglass",
                    "product_id": 23,
                    "total_quantity": 1
                  },
                  {
                    "customer_id": 63935,
                    "rating": 5,
                    "product_name": "Unbreakable wineglass",
                    "product_id": 24,
                    "total_quantity": 4
                  },
                  {
                    "customer_id": 63935,
                    "rating": 0,
                    "product_name": "White Shoes",
                    "product_id": 25,
                    "total_quantity": 1
                  },
                  {
                    "customer_id": 63935,
                    "rating": 3,
                    "product_name": "Black Shoes",
                    "product_id": 26,
                    "total_quantity": 3
                  },
                  {
                    "customer_id": 63935,
                    "rating": 0,
                    "product_name": "Pink Shoes",
                    "product_id": 27,
                    "total_quantity": 1
                  },
                  {
                    "customer_id": 63935,
                    "rating": 3,
                    "product_name": "Black with red sole shoes",
                    "product_id": 28,
                    "total_quantity": 3
                  },
                  {
                    "customer_id": 63935,
                    "rating": 5,
                    "product_name": "Gray with white sole shoes",
                    "product_id": 29,
                    "total_quantity": 4
                  },
                  {
                    "customer_id": 63935,
                    "rating": 3,
                    "product_name": "Brown Shoes",
                    "product_id": 30,
                    "total_quantity": 3
                  },
                  {
                    "customer_id": 63935,
                    "rating": 3,
                    "product_name": "Blue Shoes",
                    "product_id": 31,
                    "total_quantity": 3
                  },
                  {
                    "customer_id": 63935,
                    "rating": 3,
                    "product_name": "Beach Shoes",
                    "product_id": 32,
                    "total_quantity": 3
                  },
                  {
                    "customer_id": 63936,
                    "rating": 5,
                    "product_name": "Brown Cupholders",
                    "product_id": 15,
                    "total_quantity": 4
                  },
                  {
                    "customer_id": 63936,
                    "rating": 0,
                    "product_name": "Turkish Lira",
                    "product_id": 16,
                    "total_quantity": 1
                  },
                  {
                    "customer_id": 63936,
                    "rating": 1,
                    "product_name": "Wood and Cork Coaster",
                    "product_id": 17,
                    "total_quantity": 2
                  },
                  {
                    "customer_id": 63936,
                    "rating": 1,
                    "product_name": "French cheese",
                    "product_id": 18,
                    "total_quantity": 2
                  },
                  {
                    "customer_id": 63936,
                    "rating": 1,
                    "product_name": "Yellow mature Dutch cheese ",
                    "product_id": 19,
                    "total_quantity": 2
                  },
                  {
                    "customer_id": 63936,
                    "rating": 3,
                    "product_name": "Cheese chunk",
                    "product_id": 20,
                    "total_quantity": 3
                  },
                  {
                    "customer_id": 63936,
                    "rating": 5,
                    "product_name": "Cheese circle",
                    "product_id": 21,
                    "total_quantity": 4
                  },
                  {
                    "customer_id": 63936,
                    "rating": 1,
                    "product_name": "Wineglass ",
                    "product_id": 22,
                    "total_quantity": 2
                  },
                  {
                    "customer_id": 63936,
                    "rating": 1,
                    "product_name": "Crystal Wineglass",
                    "product_id": 23,
                    "total_quantity": 2
                  },
                  {
                    "customer_id": 63936,
                    "rating": 5,
                    "product_name": "Unbreakable wineglass",
                    "product_id": 24,
                    "total_quantity": 4
                  },
                  {
                    "customer_id": 63936,
                    "rating": 3,
                    "product_name": "White Shoes",
                    "product_id": 25,
                    "total_quantity": 3
                  },
                  {
                    "customer_id": 63936,
                    "rating": 5,
                    "product_name": "Black Shoes",
                    "product_id": 26,
                    "total_quantity": 4
                  },
                  {
                    "customer_id": 63936,
                    "rating": 1,
                    "product_name": "Pink Shoes",
                    "product_id": 27,
                    "total_quantity": 2
                  },
                  {
                    "customer_id": 63936,
                    "rating": 5,
                    "product_name": "Black with red sole shoes",
                    "product_id": 28,
                    "total_quantity": 4
                  },
                  {
                    "customer_id": 63936,
                    "rating": 0,
                    "product_name": "Gray with white sole shoes",
                    "product_id": 29,
                    "total_quantity": 1
                  },
                  {
                    "customer_id": 63936,
                    "rating": 1,
                    "product_name": "Brown Shoes",
                    "product_id": 30,
                    "total_quantity": 2
                  },
                  {
                    "customer_id": 63936,
                    "rating": 5,
                    "product_name": "Blue Shoes",
                    "product_id": 31,
                    "total_quantity": 4
                  },
                  {
                    "customer_id": 63937,
                    "rating": 1,
                    "product_name": "Retro surfboard",
                    "product_id": 2,
                    "total_quantity": 2
                  },
                  {
                    "customer_id": 63937,
                    "rating": 1,
                    "product_name": "Blue Surf Board ",
                    "product_id": 3,
                    "total_quantity": 2
                  },
                  {
                    "customer_id": 63937,
                    "rating": 0,
                    "product_name": "Brown SurfBoard",
                    "product_id": 4,
                    "total_quantity": 1
                  },
                  {
                    "customer_id": 63937,
                    "rating": 5,
                    "product_name": "Orange SurfBoard",
                    "product_id": 5,
                    "total_quantity": 4
                  },
                  {
                    "customer_id": 63937,
                    "rating": 5,
                    "product_name": "Blue Stripped SurfBoard",
                    "product_id": 6,
                    "total_quantity": 4
                  },
                  {
                    "customer_id": 63937,
                    "rating": 1,
                    "product_name": "Red Surfboard",
                    "product_id": 7,
                    "total_quantity": 2
                  },
                  {
                    "customer_id": 63937,
                    "rating": 1,
                    "product_name": "Red Corkscrew",
                    "product_id": 8,
                    "total_quantity": 2
                  },
                  {
                    "customer_id": 63937,
                    "rating": 0,
                    "product_name": "Wine corkscrew",
                    "product_id": 9,
                    "total_quantity": 1
                  },
                  {
                    "customer_id": 63937,
                    "rating": 5,
                    "product_name": "Steel corkscrew",
                    "product_id": 10,
                    "total_quantity": 4
                  },
                  {
                    "customer_id": 63937,
                    "rating": 5,
                    "product_name": "Black Shoes",
                    "product_id": 26,
                    "total_quantity": 4
                  },
                  {
                    "customer_id": 63937,
                    "rating": 1,
                    "product_name": "Pink Shoes",
                    "product_id": 27,
                    "total_quantity": 2
                  },
                  {
                    "customer_id": 63937,
                    "rating": 1,
                    "product_name": "Black with red sole shoes",
                    "product_id": 28,
                    "total_quantity": 2
                  },
                  {
                    "customer_id": 63937,
                    "rating": 3,
                    "product_name": "Gray with white sole shoes",
                    "product_id": 29,
                    "total_quantity": 3
                  },
                  {
                    "customer_id": 63937,
                    "rating": 5,
                    "product_name": "Brown Shoes",
                    "product_id": 30,
                    "total_quantity": 4
                  },
                  {
                    "customer_id": 63937,
                    "rating": 0,
                    "product_name": "Blue Shoes",
                    "product_id": 31,
                    "total_quantity": 1
                  },
                  {
                    "customer_id": 63937,
                    "rating": 5,
                    "product_name": "Beach Shoes",
                    "product_id": 32,
                    "total_quantity": 4
                  },
                  {
                    "customer_id": 63938,
                    "rating": 1,
                    "product_name": "Retro surfboard",
                    "product_id": 2,
                    "total_quantity": 2
                  },
                  {
                    "customer_id": 63938,
                    "rating": 3,
                    "product_name": "Blue Surf Board ",
                    "product_id": 3,
                    "total_quantity": 3
                  },
                  {
                    "customer_id": 63938,
                    "rating": 1,
                    "product_name": "Brown SurfBoard",
                    "product_id": 4,
                    "total_quantity": 2
                  },
                  {
                    "customer_id": 63938,
                    "rating": 5,
                    "product_name": "Orange SurfBoard",
                    "product_id": 5,
                    "total_quantity": 4
                  },
                  {
                    "customer_id": 63938,
                    "rating": 5,
                    "product_name": "Blue Stripped SurfBoard",
                    "product_id": 6,
                    "total_quantity": 4
                  },
                  {
                    "customer_id": 63938,
                    "rating": 3,
                    "product_name": "Red Surfboard",
                    "product_id": 7,
                    "total_quantity": 3
                  },
                  {
                    "customer_id": 63938,
                    "rating": 1,
                    "product_name": "Red Corkscrew",
                    "product_id": 8,
                    "total_quantity": 2
                  },
                  {
                    "customer_id": 63938,
                    "rating": 5,
                    "product_name": "Wine corkscrew",
                    "product_id": 9,
                    "total_quantity": 4
                  },
                  {
                    "customer_id": 63938,
                    "rating": 5,
                    "product_name": "Steel corkscrew",
                    "product_id": 10,
                    "total_quantity": 4
                  },
                  {
                    "customer_id": 63938,
                    "rating": 5,
                    "product_name": "Black corkscrew",
                    "product_id": 11,
                    "total_quantity": 4
                  },
                  {
                    "customer_id": 63938,
                    "rating": 0,
                    "product_name": "Blue Coaster",
                    "product_id": 12,
                    "total_quantity": 1
                  },
                  {
                    "customer_id": 63938,
                    "rating": 5,
                    "product_name": "Brown Coaster",
                    "product_id": 13,
                    "total_quantity": 4
                  },
                  {
                    "customer_id": 63938,
                    "rating": 3,
                    "product_name": "Designer Coaster",
                    "product_id": 14,
                    "total_quantity": 3
                  },
                  {
                    "customer_id": 63938,
                    "rating": 1,
                    "product_name": "Brown Cupholders",
                    "product_id": 15,
                    "total_quantity": 2
                  },
                  {
                    "customer_id": 63938,
                    "rating": 3,
                    "product_name": "Turkish Lira",
                    "product_id": 16,
                    "total_quantity": 3
                  },
                  {
                    "customer_id": 63938,
                    "rating": 0,
                    "product_name": "Wood and Cork Coaster",
                    "product_id": 17,
                    "total_quantity": 1
                  },
                  {
                    "customer_id": 63938,
                    "rating": 1,
                    "product_name": "French cheese",
                    "product_id": 18,
                    "total_quantity": 2
                  },
                  {
                    "customer_id": 63938,
                    "rating": 5,
                    "product_name": "Yellow mature Dutch cheese ",
                    "product_id": 19,
                    "total_quantity": 4
                  },
                  {
                    "customer_id": 63938,
                    "rating": 0,
                    "product_name": "Cheese chunk",
                    "product_id": 20,
                    "total_quantity": 1
                  },
                  {
                    "customer_id": 63938,
                    "rating": 0,
                    "product_name": "Cheese circle",
                    "product_id": 21,
                    "total_quantity": 1
                  },
                  {
                    "customer_id": 63939,
                    "rating": 3,
                    "product_name": "Cheese chunk",
                    "product_id": 20,
                    "total_quantity": 3
                  },
                  {
                    "customer_id": 63939,
                    "rating": 1,
                    "product_name": "Cheese circle",
                    "product_id": 21,
                    "total_quantity": 2
                  },
                  {
                    "customer_id": 63939,
                    "rating": 5,
                    "product_name": "Wineglass ",
                    "product_id": 22,
                    "total_quantity": 4
                  },
                  {
                    "customer_id": 63939,
                    "rating": 5,
                    "product_name": "Crystal Wineglass",
                    "product_id": 23,
                    "total_quantity": 4
                  },
                  {
                    "customer_id": 63939,
                    "rating": 1,
                    "product_name": "Unbreakable wineglass",
                    "product_id": 24,
                    "total_quantity": 2
                  },
                  {
                    "customer_id": 63939,
                    "rating": 0,
                    "product_name": "White Shoes",
                    "product_id": 25,
                    "total_quantity": 1
                  },
                  {
                    "customer_id": 63939,
                    "rating": 0,
                    "product_name": "Black Shoes",
                    "product_id": 26,
                    "total_quantity": 1
                  },
                  {
                    "customer_id": 63939,
                    "rating": 0,
                    "product_name": "Pink Shoes",
                    "product_id": 27,
                    "total_quantity": 1
                  },
                  {
                    "customer_id": 63940,
                    "rating": 5,
                    "product_name": "Brown Cupholders",
                    "product_id": 15,
                    "total_quantity": 4
                  },
                  {
                    "customer_id": 63940,
                    "rating": 1,
                    "product_name": "Turkish Lira",
                    "product_id": 16,
                    "total_quantity": 2
                  },
                  {
                    "customer_id": 63940,
                    "rating": 1,
                    "product_name": "Wood and Cork Coaster",
                    "product_id": 17,
                    "total_quantity": 2
                  },
                  {
                    "customer_id": 63940,
                    "rating": 0,
                    "product_name": "French cheese",
                    "product_id": 18,
                    "total_quantity": 1
                  },
                  {
                    "customer_id": 63940,
                    "rating": 1,
                    "product_name": "Yellow mature Dutch cheese ",
                    "product_id": 19,
                    "total_quantity": 2
                  },
                  {
                    "customer_id": 63940,
                    "rating": 1,
                    "product_name": "Cheese chunk",
                    "product_id": 20,
                    "total_quantity": 2
                  },
                  {
                    "customer_id": 63940,
                    "rating": 5,
                    "product_name": "Cheese circle",
                    "product_id": 21,
                    "total_quantity": 4
                  },
                  {
                    "customer_id": 63940,
                    "rating": 0,
                    "product_name": "Wineglass ",
                    "product_id": 22,
                    "total_quantity": 1
                  },
                  {
                    "customer_id": 63940,
                    "rating": 0,
                    "product_name": "Crystal Wineglass",
                    "product_id": 23,
                    "total_quantity": 1
                  },
                  {
                    "customer_id": 63940,
                    "rating": 5,
                    "product_name": "Unbreakable wineglass",
                    "product_id": 24,
                    "total_quantity": 4
                  },
                  {
                    "customer_id": 63940,
                    "rating": 1,
                    "product_name": "White Shoes",
                    "product_id": 25,
                    "total_quantity": 2
                  },
                  {
                    "customer_id": 63940,
                    "rating": 1,
                    "product_name": "Black Shoes",
                    "product_id": 26,
                    "total_quantity": 2
                  },
                  {
                    "customer_id": 63940,
                    "rating": 1,
                    "product_name": "Pink Shoes",
                    "product_id": 27,
                    "total_quantity": 2
                  },
                  {
                    "customer_id": 63940,
                    "rating": 1,
                    "product_name": "Black with red sole shoes",
                    "product_id": 28,
                    "total_quantity": 2
                  },
                  {
                    "customer_id": 63940,
                    "rating": 1,
                    "product_name": "Gray with white sole shoes",
                    "product_id": 29,
                    "total_quantity": 2
                  },
                  {
                    "customer_id": 63940,
                    "rating": 5,
                    "product_name": "Brown Shoes",
                    "product_id": 30,
                    "total_quantity": 4
                  },
                  {
                    "customer_id": 63940,
                    "rating": 1,
                    "product_name": "Blue Shoes",
                    "product_id": 31,
                    "total_quantity": 2
                  },
                  {
                    "customer_id": 63940,
                    "rating": 3,
                    "product_name": "Beach Shoes",
                    "product_id": 32,
                    "total_quantity": 3
                  },
                  {
                    "customer_id": 63941,
                    "rating": 3,
                    "product_name": "Retro surfboard",
                    "product_id": 2,
                    "total_quantity": 3
                  },
                  {
                    "customer_id": 63941,
                    "rating": 5,
                    "product_name": "Blue Surf Board ",
                    "product_id": 3,
                    "total_quantity": 4
                  },
                  {
                    "customer_id": 63941,
                    "rating": 0,
                    "product_name": "Turkish Lira",
                    "product_id": 16,
                    "total_quantity": 1
                  },
                  {
                    "customer_id": 63941,
                    "rating": 0,
                    "product_name": "Wood and Cork Coaster",
                    "product_id": 17,
                    "total_quantity": 1
                  },
                  {
                    "customer_id": 63941,
                    "rating": 5,
                    "product_name": "French cheese",
                    "product_id": 18,
                    "total_quantity": 4
                  },
                  {
                    "customer_id": 14922,
                    "rating": 5,
                    "product_name": "Pink Shoes",
                    "product_id": 27,
                    "total_quantity": 4
                  },
                  {
                    "customer_id": 14922,
                    "rating": 1,
                    "product_name": "Black with red sole shoes",
                    "product_id": 28,
                    "total_quantity": 2
                  },
                  {
                    "customer_id": 14922,
                    "rating": 0,
                    "product_name": "Gray with white sole shoes",
                    "product_id": 29,
                    "total_quantity": 1
                  },
                  {
                    "customer_id": 14922,
                    "rating": 1,
                    "product_name": "Brown Shoes",
                    "product_id": 30,
                    "total_quantity": 2
                  },
                  {
                    "customer_id": 14922,
                    "rating": 5,
                    "product_name": "Blue Shoes",
                    "product_id": 31,
                    "total_quantity": 4
                  },
                  {
                    "customer_id": 14922,
                    "rating": 0,
                    "product_name": "Beach Shoes",
                    "product_id": 32,
                    "total_quantity": 1
                  },
                  {
                    "customer_id": 14923,
                    "rating": 0,
                    "product_name": "Brown SurfBoard",
                    "product_id": 4,
                    "total_quantity": 1
                  },
                  {
                    "customer_id": 14923,
                    "rating": 3,
                    "product_name": "Orange SurfBoard",
                    "product_id": 5,
                    "total_quantity": 3
                  },
                  {
                    "customer_id": 14923,
                    "rating": 5,
                    "product_name": "Blue Stripped SurfBoard",
                    "product_id": 6,
                    "total_quantity": 4
                  },
                  {
                    "customer_id": 14923,
                    "rating": 5,
                    "product_name": "Red Surfboard",
                    "product_id": 7,
                    "total_quantity": 4
                  },
                  {
                    "customer_id": 14923,
                    "rating": 5,
                    "product_name": "Red Corkscrew",
                    "product_id": 8,
                    "total_quantity": 4
                  },
                  {
                    "customer_id": 14923,
                    "rating": 5,
                    "product_name": "Wine corkscrew",
                    "product_id": 9,
                    "total_quantity": 4
                  },
                  {
                    "customer_id": 14923,
                    "rating": 5,
                    "product_name": "Steel corkscrew",
                    "product_id": 10,
                    "total_quantity": 4
                  },
                  {
                    "customer_id": 14923,
                    "rating": 0,
                    "product_name": "Black corkscrew",
                    "product_id": 11,
                    "total_quantity": 1
                  },
                  {
                    "customer_id": 14923,
                    "rating": 1,
                    "product_name": "Blue Coaster",
                    "product_id": 12,
                    "total_quantity": 2
                  },
                  {
                    "customer_id": 14923,
                    "rating": 0,
                    "product_name": "Brown Coaster",
                    "product_id": 13,
                    "total_quantity": 1
                  },
                  {
                    "customer_id": 14923,
                    "rating": 5,
                    "product_name": "Designer Coaster",
                    "product_id": 14,
                    "total_quantity": 4
                  },
                  {
                    "customer_id": 14923,
                    "rating": 3,
                    "product_name": "Brown Cupholders",
                    "product_id": 15,
                    "total_quantity": 3
                  },
                  {
                    "customer_id": 14923,
                    "rating": 5,
                    "product_name": "Turkish Lira",
                    "product_id": 16,
                    "total_quantity": 4
                  },
                  {
                    "customer_id": 14923,
                    "rating": 5,
                    "product_name": "Wood and Cork Coaster",
                    "product_id": 17,
                    "total_quantity": 4
                  },
                  {
                    "customer_id": 14923,
                    "rating": 1,
                    "product_name": "French cheese",
                    "product_id": 18,
                    "total_quantity": 2
                  },
                  {
                    "customer_id": 14923,
                    "rating": 3,
                    "product_name": "Yellow mature Dutch cheese ",
                    "product_id": 19,
                    "total_quantity": 3
                  },
                  {
                    "customer_id": 14923,
                    "rating": 1,
                    "product_name": "Cheese chunk",
                    "product_id": 20,
                    "total_quantity": 2
                  },
                  {
                    "customer_id": 14923,
                    "rating": 5,
                    "product_name": "Cheese circle",
                    "product_id": 21,
                    "total_quantity": 4
                  },
                  {
                    "customer_id": 14923,
                    "rating": 0,
                    "product_name": "Wineglass ",
                    "product_id": 22,
                    "total_quantity": 1
                  },
                  {
                    "customer_id": 14923,
                    "rating": 3,
                    "product_name": "Crystal Wineglass",
                    "product_id": 23,
                    "total_quantity": 3
                  },
                  {
                    "customer_id": 14923,
                    "rating": 1,
                    "product_name": "Unbreakable wineglass",
                    "product_id": 24,
                    "total_quantity": 2
                  },
                  {
                    "customer_id": 14923,
                    "rating": 5,
                    "product_name": "White Shoes",
                    "product_id": 25,
                    "total_quantity": 4
                  },
                  {
                    "customer_id": 14923,
                    "rating": 3,
                    "product_name": "Black Shoes",
                    "product_id": 26,
                    "total_quantity": 3
                  },
                  {
                    "customer_id": 14923,
                    "rating": 1,
                    "product_name": "Pink Shoes",
                    "product_id": 27,
                    "total_quantity": 2
                  },
                  {
                    "customer_id": 14924,
                    "rating": 0,
                    "product_name": "Retro surfboard",
                    "product_id": 2,
                    "total_quantity": 1
                  },
                  {
                    "customer_id": 14924,
                    "rating": 3,
                    "product_name": "Blue Surf Board ",
                    "product_id": 3,
                    "total_quantity": 3
                  },
                  {
                    "customer_id": 14924,
                    "rating": 0,
                    "product_name": "Brown SurfBoard",
                    "product_id": 4,
                    "total_quantity": 1
                  },
                  {
                    "customer_id": 14924,
                    "rating": 1,
                    "product_name": "Orange SurfBoard",
                    "product_id": 5,
                    "total_quantity": 2
                  },
                  {
                    "customer_id": 14924,
                    "rating": 5,
                    "product_name": "Blue Stripped SurfBoard",
                    "product_id": 6,
                    "total_quantity": 4
                  },
                  {
                    "customer_id": 14924,
                    "rating": 0,
                    "product_name": "Red Surfboard",
                    "product_id": 7,
                    "total_quantity": 1
                  },
                  {
                    "customer_id": 14924,
                    "rating": 0,
                    "product_name": "Red Corkscrew",
                    "product_id": 8,
                    "total_quantity": 1
                  },
                  {
                    "customer_id": 14924,
                    "rating": 3,
                    "product_name": "Crystal Wineglass",
                    "product_id": 23,
                    "total_quantity": 3
                  },
                  {
                    "customer_id": 14924,
                    "rating": 3,
                    "product_name": "Unbreakable wineglass",
                    "product_id": 24,
                    "total_quantity": 3
                  },
                  {
                    "customer_id": 14924,
                    "rating": 1,
                    "product_name": "White Shoes",
                    "product_id": 25,
                    "total_quantity": 2
                  },
                  {
                    "customer_id": 14924,
                    "rating": 3,
                    "product_name": "Black Shoes",
                    "product_id": 26,
                    "total_quantity": 3
                  },
                  {
                    "customer_id": 14924,
                    "rating": 0,
                    "product_name": "Pink Shoes",
                    "product_id": 27,
                    "total_quantity": 1
                  },
                  {
                    "customer_id": 14924,
                    "rating": 0,
                    "product_name": "Black with red sole shoes",
                    "product_id": 28,
                    "total_quantity": 1
                  },
                  {
                    "customer_id": 14924,
                    "rating": 0,
                    "product_name": "Gray with white sole shoes",
                    "product_id": 29,
                    "total_quantity": 1
                  },
                  {
                    "customer_id": 14924,
                    "rating": 3,
                    "product_name": "Brown Shoes",
                    "product_id": 30,
                    "total_quantity": 3
                  },
                  {
                    "customer_id": 14924,
                    "rating": 1,
                    "product_name": "Blue Shoes",
                    "product_id": 31,
                    "total_quantity": 2
                  },
                  {
                    "customer_id": 14924,
                    "rating": 5,
                    "product_name": "Beach Shoes",
                    "product_id": 32,
                    "total_quantity": 4
                  },
                  {
                    "customer_id": 14925,
                    "rating": 0,
                    "product_name": "Brown Coaster",
                    "product_id": 13,
                    "total_quantity": 1
                  },
                  {
                    "customer_id": 14926,
                    "rating": 3,
                    "product_name": "Retro surfboard",
                    "product_id": 2,
                    "total_quantity": 3
                  },
                  {
                    "customer_id": 14926,
                    "rating": 0,
                    "product_name": "Blue Surf Board ",
                    "product_id": 3,
                    "total_quantity": 1
                  },
                  {
                    "customer_id": 92662,
                    "rating": 1,
                    "product_name": "Retro surfboard",
                    "product_id": 2,
                    "total_quantity": 2
                  },
                  {
                    "customer_id": 92662,
                    "rating": 3,
                    "product_name": "Blue Surf Board ",
                    "product_id": 3,
                    "total_quantity": 3
                  },
                  {
                    "customer_id": 92662,
                    "rating": 5,
                    "product_name": "Brown SurfBoard",
                    "product_id": 4,
                    "total_quantity": 4
                  },
                  {
                    "customer_id": 92662,
                    "rating": 5,
                    "product_name": "Orange SurfBoard",
                    "product_id": 5,
                    "total_quantity": 4
                  },
                  {
                    "customer_id": 92662,
                    "rating": 0,
                    "product_name": "Blue Stripped SurfBoard",
                    "product_id": 6,
                    "total_quantity": 1
                  },
                  {
                    "customer_id": 92662,
                    "rating": 0,
                    "product_name": "Red Surfboard",
                    "product_id": 7,
                    "total_quantity": 1
                  },
                  {
                    "customer_id": 92662,
                    "rating": 3,
                    "product_name": "Red Corkscrew",
                    "product_id": 8,
                    "total_quantity": 3
                  },
                  {
                    "customer_id": 92662,
                    "rating": 3,
                    "product_name": "Wine corkscrew",
                    "product_id": 9,
                    "total_quantity": 3
                  },
                  {
                    "customer_id": 92662,
                    "rating": 1,
                    "product_name": "Steel corkscrew",
                    "product_id": 10,
                    "total_quantity": 2
                  },
                  {
                    "customer_id": 92662,
                    "rating": 3,
                    "product_name": "Black corkscrew",
                    "product_id": 11,
                    "total_quantity": 3
                  },
                  {
                    "customer_id": 92662,
                    "rating": 0,
                    "product_name": "Blue Coaster",
                    "product_id": 12,
                    "total_quantity": 1
                  },
                  {
                    "customer_id": 92662,
                    "rating": 0,
                    "product_name": "Brown Coaster",
                    "product_id": 13,
                    "total_quantity": 1
                  },
                  {
                    "customer_id": 92662,
                    "rating": 0,
                    "product_name": "Designer Coaster",
                    "product_id": 14,
                    "total_quantity": 1
                  },
                  {
                    "customer_id": 92662,
                    "rating": 3,
                    "product_name": "Brown Cupholders",
                    "product_id": 15,
                    "total_quantity": 3
                  },
                  {
                    "customer_id": 92662,
                    "rating": 0,
                    "product_name": "Turkish Lira",
                    "product_id": 16,
                    "total_quantity": 1
                  },
                  {
                    "customer_id": 92662,
                    "rating": 1,
                    "product_name": "Wood and Cork Coaster",
                    "product_id": 17,
                    "total_quantity": 2
                  },
                  {
                    "customer_id": 92662,
                    "rating": 0,
                    "product_name": "French cheese",
                    "product_id": 18,
                    "total_quantity": 1
                  },
                  {
                    "customer_id": 92662,
                    "rating": 5,
                    "product_name": "Yellow mature Dutch cheese ",
                    "product_id": 19,
                    "total_quantity": 4
                  },
                  {
                    "customer_id": 92662,
                    "rating": 5,
                    "product_name": "Cheese chunk",
                    "product_id": 20,
                    "total_quantity": 4
                  },
                  {
                    "customer_id": 92662,
                    "rating": 5,
                    "product_name": "Cheese circle",
                    "product_id": 21,
                    "total_quantity": 4
                  },
                  {
                    "customer_id": 92662,
                    "rating": 5,
                    "product_name": "Wineglass ",
                    "product_id": 22,
                    "total_quantity": 4
                  },
                  {
                    "customer_id": 92662,
                    "rating": 1,
                    "product_name": "Crystal Wineglass",
                    "product_id": 23,
                    "total_quantity": 2
                  },
                  {
                    "customer_id": 92662,
                    "rating": 1,
                    "product_name": "Unbreakable wineglass",
                    "product_id": 24,
                    "total_quantity": 2
                  },
                  {
                    "customer_id": 92662,
                    "rating": 5,
                    "product_name": "White Shoes",
                    "product_id": 25,
                    "total_quantity": 4
                  },
                  {
                    "customer_id": 92662,
                    "rating": 5,
                    "product_name": "Black Shoes",
                    "product_id": 26,
                    "total_quantity": 4
                  },
                  {
                    "customer_id": 92662,
                    "rating": 1,
                    "product_name": "Pink Shoes",
                    "product_id": 27,
                    "total_quantity": 2
                  },
                  {
                    "customer_id": 92662,
                    "rating": 1,
                    "product_name": "Black with red sole shoes",
                    "product_id": 28,
                    "total_quantity": 2
                  },
                  {
                    "customer_id": 92662,
                    "rating": 5,
                    "product_name": "Gray with white sole shoes",
                    "product_id": 29,
                    "total_quantity": 4
                  },
                  {
                    "customer_id": 92662,
                    "rating": 3,
                    "product_name": "Brown Shoes",
                    "product_id": 30,
                    "total_quantity": 3
                  },
                  {
                    "customer_id": 92663,
                    "rating": 3,
                    "product_name": "Retro surfboard",
                    "product_id": 2,
                    "total_quantity": 3
                  },
                  {
                    "customer_id": 92663,
                    "rating": 5,
                    "product_name": "Blue Surf Board ",
                    "product_id": 3,
                    "total_quantity": 4
                  },
                  {
                    "customer_id": 92663,
                    "rating": 3,
                    "product_name": "Brown SurfBoard",
                    "product_id": 4,
                    "total_quantity": 3
                  },
                  {
                    "customer_id": 92663,
                    "rating": 0,
                    "product_name": "Orange SurfBoard",
                    "product_id": 5,
                    "total_quantity": 1
                  },
                  {
                    "customer_id": 92663,
                    "rating": 0,
                    "product_name": "Blue Stripped SurfBoard",
                    "product_id": 6,
                    "total_quantity": 1
                  },
                  {
                    "customer_id": 92663,
                    "rating": 1,
                    "product_name": "Red Surfboard",
                    "product_id": 7,
                    "total_quantity": 2
                  },
                  {
                    "customer_id": 92663,
                    "rating": 5,
                    "product_name": "Red Corkscrew",
                    "product_id": 8,
                    "total_quantity": 4
                  },
                  {
                    "customer_id": 92663,
                    "rating": 0,
                    "product_name": "Wine corkscrew",
                    "product_id": 9,
                    "total_quantity": 1
                  },
                  {
                    "customer_id": 92663,
                    "rating": 0,
                    "product_name": "Steel corkscrew",
                    "product_id": 10,
                    "total_quantity": 1
                  },
                  {
                    "customer_id": 92663,
                    "rating": 3,
                    "product_name": "Black corkscrew",
                    "product_id": 11,
                    "total_quantity": 3
                  },
                  {
                    "customer_id": 92663,
                    "rating": 5,
                    "product_name": "Blue Coaster",
                    "product_id": 12,
                    "total_quantity": 4
                  },
                  {
                    "customer_id": 92663,
                    "rating": 5,
                    "product_name": "Brown Coaster",
                    "product_id": 13,
                    "total_quantity": 4
                  },
                  {
                    "customer_id": 92663,
                    "rating": 3,
                    "product_name": "Gray with white sole shoes",
                    "product_id": 29,
                    "total_quantity": 3
                  },
                  {
                    "customer_id": 92663,
                    "rating": 0,
                    "product_name": "Brown Shoes",
                    "product_id": 30,
                    "total_quantity": 1
                  },
                  {
                    "customer_id": 92663,
                    "rating": 1,
                    "product_name": "Blue Shoes",
                    "product_id": 31,
                    "total_quantity": 2
                  },
                  {
                    "customer_id": 92663,
                    "rating": 0,
                    "product_name": "Beach Shoes",
                    "product_id": 32,
                    "total_quantity": 1
                  },
                  {
                    "customer_id": 92664,
                    "rating": 0,
                    "product_name": "Retro surfboard",
                    "product_id": 2,
                    "total_quantity": 1
                  },
                  {
                    "customer_id": 92664,
                    "rating": 3,
                    "product_name": "Blue Surf Board ",
                    "product_id": 3,
                    "total_quantity": 3
                  },
                  {
                    "customer_id": 92664,
                    "rating": 3,
                    "product_name": "Gray with white sole shoes",
                    "product_id": 29,
                    "total_quantity": 3
                  },
                  {
                    "customer_id": 92664,
                    "rating": 5,
                    "product_name": "Brown Shoes",
                    "product_id": 30,
                    "total_quantity": 4
                  },
                  {
                    "customer_id": 92664,
                    "rating": 5,
                    "product_name": "Blue Shoes",
                    "product_id": 31,
                    "total_quantity": 4
                  },
                  {
                    "customer_id": 92664,
                    "rating": 1,
                    "product_name": "Beach Shoes",
                    "product_id": 32,
                    "total_quantity": 2
                  },
                  {
                    "customer_id": 92665,
                    "rating": 3,
                    "product_name": "Turkish Lira",
                    "product_id": 16,
                    "total_quantity": 3
                  },
                  {
                    "customer_id": 92665,
                    "rating": 1,
                    "product_name": "Wood and Cork Coaster",
                    "product_id": 17,
                    "total_quantity": 2
                  },
                  {
                    "customer_id": 92665,
                    "rating": 1,
                    "product_name": "French cheese",
                    "product_id": 18,
                    "total_quantity": 2
                  },
                  {
                    "customer_id": 92665,
                    "rating": 1,
                    "product_name": "Yellow mature Dutch cheese ",
                    "product_id": 19,
                    "total_quantity": 2
                  },
                  {
                    "customer_id": 92665,
                    "rating": 5,
                    "product_name": "Cheese chunk",
                    "product_id": 20,
                    "total_quantity": 4
                  },
                  {
                    "customer_id": 92665,
                    "rating": 0,
                    "product_name": "Cheese circle",
                    "product_id": 21,
                    "total_quantity": 1
                  },
                  {
                    "customer_id": 92665,
                    "rating": 3,
                    "product_name": "Wineglass ",
                    "product_id": 22,
                    "total_quantity": 3
                  },
                  {
                    "customer_id": 92666,
                    "rating": 3,
                    "product_name": "Red Corkscrew",
                    "product_id": 8,
                    "total_quantity": 3
                  },
                  {
                    "customer_id": 92667,
                    "rating": 5,
                    "product_name": "Brown Coaster",
                    "product_id": 13,
                    "total_quantity": 4
                  },
                  {
                    "customer_id": 92667,
                    "rating": 3,
                    "product_name": "Designer Coaster",
                    "product_id": 14,
                    "total_quantity": 3
                  },
                  {
                    "customer_id": 92667,
                    "rating": 1,
                    "product_name": "Brown Cupholders",
                    "product_id": 15,
                    "total_quantity": 2
                  },
                  {
                    "customer_id": 92667,
                    "rating": 3,
                    "product_name": "Turkish Lira",
                    "product_id": 16,
                    "total_quantity": 3
                  },
                  {
                    "customer_id": 92667,
                    "rating": 0,
                    "product_name": "Wood and Cork Coaster",
                    "product_id": 17,
                    "total_quantity": 1
                  },
                  {
                    "customer_id": 92667,
                    "rating": 0,
                    "product_name": "French cheese",
                    "product_id": 18,
                    "total_quantity": 1
                  },
                  {
                    "customer_id": 92667,
                    "rating": 5,
                    "product_name": "Yellow mature Dutch cheese ",
                    "product_id": 19,
                    "total_quantity": 4
                  },
                  {
                    "customer_id": 93329,
                    "rating": 3,
                    "product_name": "Pink Shoes",
                    "product_id": 27,
                    "total_quantity": 3
                  },
                  {
                    "customer_id": 93329,
                    "rating": 0,
                    "product_name": "Black with red sole shoes",
                    "product_id": 28,
                    "total_quantity": 1
                  },
                  {
                    "customer_id": 93329,
                    "rating": 1,
                    "product_name": "Gray with white sole shoes",
                    "product_id": 29,
                    "total_quantity": 2
                  },
                  {
                    "customer_id": 93329,
                    "rating": 3,
                    "product_name": "Brown Shoes",
                    "product_id": 30,
                    "total_quantity": 3
                  },
                  {
                    "customer_id": 93329,
                    "rating": 3,
                    "product_name": "Blue Shoes",
                    "product_id": 31,
                    "total_quantity": 3
                  },
                  {
                    "customer_id": 93329,
                    "rating": 3,
                    "product_name": "Beach Shoes",
                    "product_id": 32,
                    "total_quantity": 3
                  },
                  {
                    "customer_id": 93330,
                    "rating": 3,
                    "product_name": "Retro surfboard",
                    "product_id": 2,
                    "total_quantity": 3
                  },
                  {
                    "customer_id": 93330,
                    "rating": 1,
                    "product_name": "Blue Surf Board ",
                    "product_id": 3,
                    "total_quantity": 2
                  },
                  {
                    "customer_id": 93330,
                    "rating": 1,
                    "product_name": "Brown SurfBoard",
                    "product_id": 4,
                    "total_quantity": 2
                  },
                  {
                    "customer_id": 93330,
                    "rating": 1,
                    "product_name": "Orange SurfBoard",
                    "product_id": 5,
                    "total_quantity": 2
                  },
                  {
                    "customer_id": 93330,
                    "rating": 0,
                    "product_name": "Blue Stripped SurfBoard",
                    "product_id": 6,
                    "total_quantity": 1
                  },
                  {
                    "customer_id": 93330,
                    "rating": 3,
                    "product_name": "Red Surfboard",
                    "product_id": 7,
                    "total_quantity": 3
                  },
                  {
                    "customer_id": 93330,
                    "rating": 5,
                    "product_name": "Red Corkscrew",
                    "product_id": 8,
                    "total_quantity": 4
                  },
                  {
                    "customer_id": 93330,
                    "rating": 3,
                    "product_name": "Wine corkscrew",
                    "product_id": 9,
                    "total_quantity": 3
                  },
                  {
                    "customer_id": 93330,
                    "rating": 1,
                    "product_name": "Steel corkscrew",
                    "product_id": 10,
                    "total_quantity": 2
                  },
                  {
                    "customer_id": 93330,
                    "rating": 0,
                    "product_name": "Black corkscrew",
                    "product_id": 11,
                    "total_quantity": 1
                  },
                  {
                    "customer_id": 93330,
                    "rating": 1,
                    "product_name": "Blue Coaster",
                    "product_id": 12,
                    "total_quantity": 2
                  },
                  {
                    "customer_id": 93330,
                    "rating": 1,
                    "product_name": "Turkish Lira",
                    "product_id": 16,
                    "total_quantity": 2
                  },
                  {
                    "customer_id": 93330,
                    "rating": 1,
                    "product_name": "Wood and Cork Coaster",
                    "product_id": 17,
                    "total_quantity": 2
                  },
                  {
                    "customer_id": 93330,
                    "rating": 0,
                    "product_name": "French cheese",
                    "product_id": 18,
                    "total_quantity": 1
                  },
                  {
                    "customer_id": 93330,
                    "rating": 5,
                    "product_name": "Yellow mature Dutch cheese ",
                    "product_id": 19,
                    "total_quantity": 4
                  },
                  {
                    "customer_id": 93330,
                    "rating": 0,
                    "product_name": "Cheese chunk",
                    "product_id": 20,
                    "total_quantity": 1
                  },
                  {
                    "customer_id": 93330,
                    "rating": 5,
                    "product_name": "Cheese circle",
                    "product_id": 21,
                    "total_quantity": 4
                  },
                  {
                    "customer_id": 93330,
                    "rating": 1,
                    "product_name": "Wineglass ",
                    "product_id": 22,
                    "total_quantity": 2
                  },
                  {
                    "customer_id": 93330,
                    "rating": 3,
                    "product_name": "Crystal Wineglass",
                    "product_id": 23,
                    "total_quantity": 3
                  },
                  {
                    "customer_id": 93330,
                    "rating": 5,
                    "product_name": "Unbreakable wineglass",
                    "product_id": 24,
                    "total_quantity": 4
                  },
                  {
                    "customer_id": 93330,
                    "rating": 5,
                    "product_name": "White Shoes",
                    "product_id": 25,
                    "total_quantity": 4
                  },
                  {
                    "customer_id": 93330,
                    "rating": 3,
                    "product_name": "Black Shoes",
                    "product_id": 26,
                    "total_quantity": 3
                  },
                  {
                    "customer_id": 93330,
                    "rating": 1,
                    "product_name": "Pink Shoes",
                    "product_id": 27,
                    "total_quantity": 2
                  },
                  {
                    "customer_id": 93330,
                    "rating": 5,
                    "product_name": "Black with red sole shoes",
                    "product_id": 28,
                    "total_quantity": 4
                  },
                  {
                    "customer_id": 93330,
                    "rating": 0,
                    "product_name": "Gray with white sole shoes",
                    "product_id": 29,
                    "total_quantity": 1
                  },
                  {
                    "customer_id": 93330,
                    "rating": 5,
                    "product_name": "Brown Shoes",
                    "product_id": 30,
                    "total_quantity": 4
                  },
                  {
                    "customer_id": 93330,
                    "rating": 3,
                    "product_name": "Blue Shoes",
                    "product_id": 31,
                    "total_quantity": 3
                  },
                  {
                    "customer_id": 93330,
                    "rating": 5,
                    "product_name": "Beach Shoes",
                    "product_id": 32,
                    "total_quantity": 4
                  },
                  {
                    "customer_id": 93331,
                    "rating": 1,
                    "product_name": "Black Shoes",
                    "product_id": 26,
                    "total_quantity": 2
                  },
                  {
                    "customer_id": 93332,
                    "rating": 0,
                    "product_name": "Yellow mature Dutch cheese ",
                    "product_id": 19,
                    "total_quantity": 1
                  },
                  {
                    "customer_id": 93332,
                    "rating": 5,
                    "product_name": "Cheese chunk",
                    "product_id": 20,
                    "total_quantity": 4
                  },
                  {
                    "customer_id": 93332,
                    "rating": 1,
                    "product_name": "Cheese circle",
                    "product_id": 21,
                    "total_quantity": 2
                  },
                  {
                    "customer_id": 93332,
                    "rating": 3,
                    "product_name": "Wineglass ",
                    "product_id": 22,
                    "total_quantity": 3
                  },
                  {
                    "customer_id": 93332,
                    "rating": 0,
                    "product_name": "Crystal Wineglass",
                    "product_id": 23,
                    "total_quantity": 1
                  },
                  {
                    "customer_id": 93332,
                    "rating": 5,
                    "product_name": "Unbreakable wineglass",
                    "product_id": 24,
                    "total_quantity": 4
                  },
                  {
                    "customer_id": 93332,
                    "rating": 1,
                    "product_name": "White Shoes",
                    "product_id": 25,
                    "total_quantity": 2
                  },
                  {
                    "customer_id": 93332,
                    "rating": 5,
                    "product_name": "Black Shoes",
                    "product_id": 26,
                    "total_quantity": 4
                  },
                  {
                    "customer_id": 93332,
                    "rating": 1,
                    "product_name": "Pink Shoes",
                    "product_id": 27,
                    "total_quantity": 2
                  },
                  {
                    "customer_id": 93332,
                    "rating": 5,
                    "product_name": "Black with red sole shoes",
                    "product_id": 28,
                    "total_quantity": 4
                  },
                  {
                    "customer_id": 93332,
                    "rating": 0,
                    "product_name": "Gray with white sole shoes",
                    "product_id": 29,
                    "total_quantity": 1
                  },
                  {
                    "customer_id": 93332,
                    "rating": 1,
                    "product_name": "Brown Shoes",
                    "product_id": 30,
                    "total_quantity": 2
                  },
                  {
                    "customer_id": 93332,
                    "rating": 0,
                    "product_name": "Blue Shoes",
                    "product_id": 31,
                    "total_quantity": 1
                  },
                  {
                    "customer_id": 93332,
                    "rating": 3,
                    "product_name": "Beach Shoes",
                    "product_id": 32,
                    "total_quantity": 3
                  },
                  {
                    "customer_id": 93333,
                    "rating": 5,
                    "product_name": "Crystal Wineglass",
                    "product_id": 23,
                    "total_quantity": 4
                  },
                  {
                    "customer_id": 93333,
                    "rating": 0,
                    "product_name": "Unbreakable wineglass",
                    "product_id": 24,
                    "total_quantity": 1
                  },
                  {
                    "customer_id": 93333,
                    "rating": 3,
                    "product_name": "White Shoes",
                    "product_id": 25,
                    "total_quantity": 3
                  },
                  {
                    "customer_id": 93333,
                    "rating": 0,
                    "product_name": "Black Shoes",
                    "product_id": 26,
                    "total_quantity": 1
                  },
                  {
                    "customer_id": 93333,
                    "rating": 1,
                    "product_name": "Pink Shoes",
                    "product_id": 27,
                    "total_quantity": 2
                  },
                  {
                    "customer_id": 93333,
                    "rating": 0,
                    "product_name": "Black with red sole shoes",
                    "product_id": 28,
                    "total_quantity": 1
                  },
                  {
                    "customer_id": 93333,
                    "rating": 3,
                    "product_name": "Gray with white sole shoes",
                    "product_id": 29,
                    "total_quantity": 3
                  },
                  {
                    "customer_id": 93333,
                    "rating": 1,
                    "product_name": "Brown Shoes",
                    "product_id": 30,
                    "total_quantity": 2
                  },
                  {
                    "customer_id": 93333,
                    "rating": 5,
                    "product_name": "Blue Shoes",
                    "product_id": 31,
                    "total_quantity": 4
                  },
                  {
                    "customer_id": 93334,
                    "rating": 3,
                    "product_name": "Retro surfboard",
                    "product_id": 2,
                    "total_quantity": 3
                  },
                  {
                    "customer_id": 93334,
                    "rating": 1,
                    "product_name": "Blue Surf Board ",
                    "product_id": 3,
                    "total_quantity": 2
                  },
                  {
                    "customer_id": 93334,
                    "rating": 0,
                    "product_name": "Brown SurfBoard",
                    "product_id": 4,
                    "total_quantity": 1
                  },
                  {
                    "customer_id": 93334,
                    "rating": 1,
                    "product_name": "Orange SurfBoard",
                    "product_id": 5,
                    "total_quantity": 2
                  },
                  {
                    "customer_id": 93334,
                    "rating": 3,
                    "product_name": "Blue Stripped SurfBoard",
                    "product_id": 6,
                    "total_quantity": 3
                  },
                  {
                    "customer_id": 93334,
                    "rating": 3,
                    "product_name": "Red Surfboard",
                    "product_id": 7,
                    "total_quantity": 3
                  },
                  {
                    "customer_id": 93334,
                    "rating": 1,
                    "product_name": "Red Corkscrew",
                    "product_id": 8,
                    "total_quantity": 2
                  },
                  {
                    "customer_id": 93334,
                    "rating": 0,
                    "product_name": "Wine corkscrew",
                    "product_id": 9,
                    "total_quantity": 1
                  },
                  {
                    "customer_id": 93334,
                    "rating": 5,
                    "product_name": "Steel corkscrew",
                    "product_id": 10,
                    "total_quantity": 4
                  },
                  {
                    "customer_id": 93334,
                    "rating": 1,
                    "product_name": "Black corkscrew",
                    "product_id": 11,
                    "total_quantity": 2
                  },
                  {
                    "customer_id": 93334,
                    "rating": 5,
                    "product_name": "Blue Coaster",
                    "product_id": 12,
                    "total_quantity": 4
                  },
                  {
                    "customer_id": 93334,
                    "rating": 1,
                    "product_name": "Brown Coaster",
                    "product_id": 13,
                    "total_quantity": 2
                  },
                  {
                    "customer_id": 93334,
                    "rating": 5,
                    "product_name": "Designer Coaster",
                    "product_id": 14,
                    "total_quantity": 4
                  },
                  {
                    "customer_id": 93334,
                    "rating": 3,
                    "product_name": "Brown Cupholders",
                    "product_id": 15,
                    "total_quantity": 3
                  },
                  {
                    "customer_id": 93334,
                    "rating": 1,
                    "product_name": "Turkish Lira",
                    "product_id": 16,
                    "total_quantity": 2
                  },
                  {
                    "customer_id": 93334,
                    "rating": 1,
                    "product_name": "Wood and Cork Coaster",
                    "product_id": 17,
                    "total_quantity": 2
                  },
                  {
                    "customer_id": 93334,
                    "rating": 5,
                    "product_name": "French cheese",
                    "product_id": 18,
                    "total_quantity": 4
                  },
                  {
                    "customer_id": 93334,
                    "rating": 0,
                    "product_name": "Yellow mature Dutch cheese ",
                    "product_id": 19,
                    "total_quantity": 1
                  },
                  {
                    "customer_id": 93334,
                    "rating": 0,
                    "product_name": "Wineglass ",
                    "product_id": 22,
                    "total_quantity": 1
                  },
                  {
                    "customer_id": 93334,
                    "rating": 3,
                    "product_name": "Crystal Wineglass",
                    "product_id": 23,
                    "total_quantity": 3
                  },
                  {
                    "customer_id": 93334,
                    "rating": 3,
                    "product_name": "Unbreakable wineglass",
                    "product_id": 24,
                    "total_quantity": 3
                  },
                  {
                    "customer_id": 93334,
                    "rating": 1,
                    "product_name": "White Shoes",
                    "product_id": 25,
                    "total_quantity": 2
                  },
                  {
                    "customer_id": 93334,
                    "rating": 1,
                    "product_name": "Black Shoes",
                    "product_id": 26,
                    "total_quantity": 2
                  },
                  {
                    "customer_id": 93334,
                    "rating": 3,
                    "product_name": "Pink Shoes",
                    "product_id": 27,
                    "total_quantity": 3
                  },
                  {
                    "customer_id": 93334,
                    "rating": 3,
                    "product_name": "Black with red sole shoes",
                    "product_id": 28,
                    "total_quantity": 3
                  },
                  {
                    "customer_id": 93334,
                    "rating": 1,
                    "product_name": "Gray with white sole shoes",
                    "product_id": 29,
                    "total_quantity": 2
                  },
                  {
                    "customer_id": 93334,
                    "rating": 5,
                    "product_name": "Brown Shoes",
                    "product_id": 30,
                    "total_quantity": 4
                  },
                  {
                    "customer_id": 93334,
                    "rating": 3,
                    "product_name": "Blue Shoes",
                    "product_id": 31,
                    "total_quantity": 3
                  },
                  {
                    "customer_id": 93334,
                    "rating": 1,
                    "product_name": "Beach Shoes",
                    "product_id": 32,
                    "total_quantity": 2
                  },
                  {
                    "customer_id": 93335,
                    "rating": 0,
                    "product_name": "Retro surfboard",
                    "product_id": 2,
                    "total_quantity": 1
                  },
                  {
                    "customer_id": 93335,
                    "rating": 5,
                    "product_name": "Blue Surf Board ",
                    "product_id": 3,
                    "total_quantity": 4
                  },
                  {
                    "customer_id": 93335,
                    "rating": 5,
                    "product_name": "Brown SurfBoard",
                    "product_id": 4,
                    "total_quantity": 4
                  },
                  {
                    "customer_id": 93335,
                    "rating": 1,
                    "product_name": "Orange SurfBoard",
                    "product_id": 5,
                    "total_quantity": 2
                  },
                  {
                    "customer_id": 93335,
                    "rating": 3,
                    "product_name": "Blue Stripped SurfBoard",
                    "product_id": 6,
                    "total_quantity": 3
                  },
                  {
                    "customer_id": 93335,
                    "rating": 1,
                    "product_name": "Red Surfboard",
                    "product_id": 7,
                    "total_quantity": 2
                  },
                  {
                    "customer_id": 93335,
                    "rating": 1,
                    "product_name": "Red Corkscrew",
                    "product_id": 8,
                    "total_quantity": 2
                  },
                  {
                    "customer_id": 93335,
                    "rating": 3,
                    "product_name": "Wine corkscrew",
                    "product_id": 9,
                    "total_quantity": 3
                  },
                  {
                    "customer_id": 93335,
                    "rating": 0,
                    "product_name": "Cheese chunk",
                    "product_id": 20,
                    "total_quantity": 1
                  },
                  {
                    "customer_id": 1612,
                    "rating": 0,
                    "product_name": "Wood and Cork Coaster",
                    "product_id": 17,
                    "total_quantity": 1
                  },
                  {
                    "customer_id": 1612,
                    "rating": 5,
                    "product_name": "French cheese",
                    "product_id": 18,
                    "total_quantity": 4
                  },
                  {
                    "customer_id": 1612,
                    "rating": 0,
                    "product_name": "Yellow mature Dutch cheese ",
                    "product_id": 19,
                    "total_quantity": 1
                  },
                  {
                    "customer_id": 1612,
                    "rating": 0,
                    "product_name": "Cheese chunk",
                    "product_id": 20,
                    "total_quantity": 1
                  },
                  {
                    "customer_id": 1612,
                    "rating": 3,
                    "product_name": "Cheese circle",
                    "product_id": 21,
                    "total_quantity": 3
                  },
                  {
                    "customer_id": 1612,
                    "rating": 3,
                    "product_name": "Wineglass ",
                    "product_id": 22,
                    "total_quantity": 3
                  },
                  {
                    "customer_id": 1612,
                    "rating": 3,
                    "product_name": "Crystal Wineglass",
                    "product_id": 23,
                    "total_quantity": 3
                  },
                  {
                    "customer_id": 1612,
                    "rating": 3,
                    "product_name": "Unbreakable wineglass",
                    "product_id": 24,
                    "total_quantity": 3
                  },
                  {
                    "customer_id": 1612,
                    "rating": 1,
                    "product_name": "White Shoes",
                    "product_id": 25,
                    "total_quantity": 2
                  },
                  {
                    "customer_id": 1612,
                    "rating": 3,
                    "product_name": "Black Shoes",
                    "product_id": 26,
                    "total_quantity": 3
                  },
                  {
                    "customer_id": 1612,
                    "rating": 5,
                    "product_name": "Pink Shoes",
                    "product_id": 27,
                    "total_quantity": 4
                  },
                  {
                    "customer_id": 1612,
                    "rating": 0,
                    "product_name": "Black with red sole shoes",
                    "product_id": 28,
                    "total_quantity": 1
                  },
                  {
                    "customer_id": 1612,
                    "rating": 1,
                    "product_name": "Gray with white sole shoes",
                    "product_id": 29,
                    "total_quantity": 2
                  },
                  {
                    "customer_id": 1612,
                    "rating": 3,
                    "product_name": "Brown Shoes",
                    "product_id": 30,
                    "total_quantity": 3
                  },
                  {
                    "customer_id": 1612,
                    "rating": 5,
                    "product_name": "Blue Shoes",
                    "product_id": 31,
                    "total_quantity": 4
                  },
                  {
                    "customer_id": 1612,
                    "rating": 5,
                    "product_name": "Beach Shoes",
                    "product_id": 32,
                    "total_quantity": 4
                  },
                  {
                    "customer_id": 1613,
                    "rating": 5,
                    "product_name": "Black Shoes",
                    "product_id": 26,
                    "total_quantity": 4
                  },
                  {
                    "customer_id": 1613,
                    "rating": 3,
                    "product_name": "Pink Shoes",
                    "product_id": 27,
                    "total_quantity": 3
                  },
                  {
                    "customer_id": 1614,
                    "rating": 3,
                    "product_name": "Retro surfboard",
                    "product_id": 2,
                    "total_quantity": 3
                  },
                  {
                    "customer_id": 1614,
                    "rating": 0,
                    "product_name": "Blue Surf Board ",
                    "product_id": 3,
                    "total_quantity": 1
                  },
                  {
                    "customer_id": 1614,
                    "rating": 3,
                    "product_name": "Brown SurfBoard",
                    "product_id": 4,
                    "total_quantity": 3
                  },
                  {
                    "customer_id": 1614,
                    "rating": 5,
                    "product_name": "Orange SurfBoard",
                    "product_id": 5,
                    "total_quantity": 4
                  },
                  {
                    "customer_id": 1614,
                    "rating": 1,
                    "product_name": "Blue Stripped SurfBoard",
                    "product_id": 6,
                    "total_quantity": 2
                  },
                  {
                    "customer_id": 1614,
                    "rating": 1,
                    "product_name": "Red Surfboard",
                    "product_id": 7,
                    "total_quantity": 2
                  },
                  {
                    "customer_id": 1614,
                    "rating": 5,
                    "product_name": "Red Corkscrew",
                    "product_id": 8,
                    "total_quantity": 4
                  },
                  {
                    "customer_id": 1614,
                    "rating": 1,
                    "product_name": "Wine corkscrew",
                    "product_id": 9,
                    "total_quantity": 2
                  },
                  {
                    "customer_id": 1614,
                    "rating": 0,
                    "product_name": "Steel corkscrew",
                    "product_id": 10,
                    "total_quantity": 1
                  },
                  {
                    "customer_id": 1614,
                    "rating": 3,
                    "product_name": "Black corkscrew",
                    "product_id": 11,
                    "total_quantity": 3
                  },
                  {
                    "customer_id": 1614,
                    "rating": 0,
                    "product_name": "Blue Coaster",
                    "product_id": 12,
                    "total_quantity": 1
                  },
                  {
                    "customer_id": 1614,
                    "rating": 1,
                    "product_name": "Brown Coaster",
                    "product_id": 13,
                    "total_quantity": 2
                  },
                  {
                    "customer_id": 1614,
                    "rating": 3,
                    "product_name": "Designer Coaster",
                    "product_id": 14,
                    "total_quantity": 3
                  },
                  {
                    "customer_id": 1614,
                    "rating": 3,
                    "product_name": "Brown Cupholders",
                    "product_id": 15,
                    "total_quantity": 3
                  },
                  {
                    "customer_id": 1614,
                    "rating": 5,
                    "product_name": "Turkish Lira",
                    "product_id": 16,
                    "total_quantity": 4
                  },
                  {
                    "customer_id": 1614,
                    "rating": 0,
                    "product_name": "Wood and Cork Coaster",
                    "product_id": 17,
                    "total_quantity": 1
                  },
                  {
                    "customer_id": 1614,
                    "rating": 5,
                    "product_name": "French cheese",
                    "product_id": 18,
                    "total_quantity": 4
                  },
                  {
                    "customer_id": 1614,
                    "rating": 0,
                    "product_name": "Blue Shoes",
                    "product_id": 31,
                    "total_quantity": 1
                  },
                  {
                    "customer_id": 1614,
                    "rating": 5,
                    "product_name": "Beach Shoes",
                    "product_id": 32,
                    "total_quantity": 4
                  },
                  {
                    "customer_id": 1615,
                    "rating": 3,
                    "product_name": "Retro surfboard",
                    "product_id": 2,
                    "total_quantity": 3
                  },
                  {
                    "customer_id": 1615,
                    "rating": 1,
                    "product_name": "Blue Surf Board ",
                    "product_id": 3,
                    "total_quantity": 2
                  },
                  {
                    "customer_id": 1615,
                    "rating": 5,
                    "product_name": "Cheese circle",
                    "product_id": 21,
                    "total_quantity": 4
                  },
                  {
                    "customer_id": 1615,
                    "rating": 5,
                    "product_name": "Wineglass ",
                    "product_id": 22,
                    "total_quantity": 4
                  },
                  {
                    "customer_id": 1615,
                    "rating": 0,
                    "product_name": "Crystal Wineglass",
                    "product_id": 23,
                    "total_quantity": 1
                  },
                  {
                    "customer_id": 1615,
                    "rating": 1,
                    "product_name": "Unbreakable wineglass",
                    "product_id": 24,
                    "total_quantity": 2
                  },
                  {
                    "customer_id": 1615,
                    "rating": 3,
                    "product_name": "White Shoes",
                    "product_id": 25,
                    "total_quantity": 3
                  },
                  {
                    "customer_id": 1615,
                    "rating": 1,
                    "product_name": "Black Shoes",
                    "product_id": 26,
                    "total_quantity": 2
                  },
                  {
                    "customer_id": 1615,
                    "rating": 1,
                    "product_name": "Pink Shoes",
                    "product_id": 27,
                    "total_quantity": 2
                  },
                  {
                    "customer_id": 1615,
                    "rating": 3,
                    "product_name": "Black with red sole shoes",
                    "product_id": 28,
                    "total_quantity": 3
                  },
                  {
                    "customer_id": 1615,
                    "rating": 3,
                    "product_name": "Gray with white sole shoes",
                    "product_id": 29,
                    "total_quantity": 3
                  },
                  {
                    "customer_id": 1615,
                    "rating": 5,
                    "product_name": "Brown Shoes",
                    "product_id": 30,
                    "total_quantity": 4
                  },
                  {
                    "customer_id": 1615,
                    "rating": 1,
                    "product_name": "Blue Shoes",
                    "product_id": 31,
                    "total_quantity": 2
                  },
                  {
                    "customer_id": 1615,
                    "rating": 1,
                    "product_name": "Beach Shoes",
                    "product_id": 32,
                    "total_quantity": 2
                  },
                  {
                    "customer_id": 1616,
                    "rating": 0,
                    "product_name": "Black corkscrew",
                    "product_id": 11,
                    "total_quantity": 1
                  },
                  {
                    "customer_id": 1616,
                    "rating": 0,
                    "product_name": "Blue Coaster",
                    "product_id": 12,
                    "total_quantity": 1
                  },
                  {
                    "customer_id": 1616,
                    "rating": 5,
                    "product_name": "Brown Coaster",
                    "product_id": 13,
                    "total_quantity": 4
                  },
                  {
                    "customer_id": 1616,
                    "rating": 5,
                    "product_name": "Designer Coaster",
                    "product_id": 14,
                    "total_quantity": 4
                  },
                  {
                    "customer_id": 1616,
                    "rating": 1,
                    "product_name": "Brown Cupholders",
                    "product_id": 15,
                    "total_quantity": 2
                  },
                  {
                    "customer_id": 1616,
                    "rating": 3,
                    "product_name": "Turkish Lira",
                    "product_id": 16,
                    "total_quantity": 3
                  },
                  {
                    "customer_id": 1616,
                    "rating": 3,
                    "product_name": "Wood and Cork Coaster",
                    "product_id": 17,
                    "total_quantity": 3
                  },
                  {
                    "customer_id": 1616,
                    "rating": 1,
                    "product_name": "French cheese",
                    "product_id": 18,
                    "total_quantity": 2
                  },
                  {
                    "customer_id": 1616,
                    "rating": 5,
                    "product_name": "Yellow mature Dutch cheese ",
                    "product_id": 19,
                    "total_quantity": 4
                  },
                  {
                    "customer_id": 1616,
                    "rating": 5,
                    "product_name": "Cheese chunk",
                    "product_id": 20,
                    "total_quantity": 4
                  },
                  {
                    "customer_id": 1616,
                    "rating": 3,
                    "product_name": "Cheese circle",
                    "product_id": 21,
                    "total_quantity": 3
                  },
                  {
                    "customer_id": 1616,
                    "rating": 1,
                    "product_name": "Wineglass ",
                    "product_id": 22,
                    "total_quantity": 2
                  },
                  {
                    "customer_id": 1616,
                    "rating": 1,
                    "product_name": "Crystal Wineglass",
                    "product_id": 23,
                    "total_quantity": 2
                  },
                  {
                    "customer_id": 1616,
                    "rating": 5,
                    "product_name": "Unbreakable wineglass",
                    "product_id": 24,
                    "total_quantity": 4
                  },
                  {
                    "customer_id": 1616,
                    "rating": 1,
                    "product_name": "White Shoes",
                    "product_id": 25,
                    "total_quantity": 2
                  },
                  {
                    "customer_id": 1616,
                    "rating": 5,
                    "product_name": "Black Shoes",
                    "product_id": 26,
                    "total_quantity": 4
                  },
                  {
                    "customer_id": 1617,
                    "rating": 0,
                    "product_name": "Retro surfboard",
                    "product_id": 2,
                    "total_quantity": 1
                  },
                  {
                    "customer_id": 1617,
                    "rating": 0,
                    "product_name": "Blue Surf Board ",
                    "product_id": 3,
                    "total_quantity": 1
                  },
                  {
                    "customer_id": 1617,
                    "rating": 3,
                    "product_name": "Brown SurfBoard",
                    "product_id": 4,
                    "total_quantity": 3
                  },
                  {
                    "customer_id": 1617,
                    "rating": 3,
                    "product_name": "Orange SurfBoard",
                    "product_id": 5,
                    "total_quantity": 3
                  },
                  {
                    "customer_id": 1617,
                    "rating": 3,
                    "product_name": "Blue Stripped SurfBoard",
                    "product_id": 6,
                    "total_quantity": 3
                  },
                  {
                    "customer_id": 1617,
                    "rating": 1,
                    "product_name": "Red Surfboard",
                    "product_id": 7,
                    "total_quantity": 2
                  },
                  {
                    "customer_id": 1617,
                    "rating": 0,
                    "product_name": "Red Corkscrew",
                    "product_id": 8,
                    "total_quantity": 1
                  },
                  {
                    "customer_id": 1617,
                    "rating": 1,
                    "product_name": "Wine corkscrew",
                    "product_id": 9,
                    "total_quantity": 2
                  },
                  {
                    "customer_id": 1617,
                    "rating": 0,
                    "product_name": "Steel corkscrew",
                    "product_id": 10,
                    "total_quantity": 1
                  },
                  {
                    "customer_id": 1617,
                    "rating": 1,
                    "product_name": "Black corkscrew",
                    "product_id": 11,
                    "total_quantity": 2
                  },
                  {
                    "customer_id": 1617,
                    "rating": 3,
                    "product_name": "Blue Coaster",
                    "product_id": 12,
                    "total_quantity": 3
                  },
                  {
                    "customer_id": 1617,
                    "rating": 0,
                    "product_name": "Brown Coaster",
                    "product_id": 13,
                    "total_quantity": 1
                  },
                  {
                    "customer_id": 1617,
                    "rating": 3,
                    "product_name": "Designer Coaster",
                    "product_id": 14,
                    "total_quantity": 3
                  },
                  {
                    "customer_id": 1617,
                    "rating": 3,
                    "product_name": "Brown Cupholders",
                    "product_id": 15,
                    "total_quantity": 3
                  },
                  {
                    "customer_id": 1617,
                    "rating": 5,
                    "product_name": "Turkish Lira",
                    "product_id": 16,
                    "total_quantity": 4
                  },
                  {
                    "customer_id": 1617,
                    "rating": 1,
                    "product_name": "Wood and Cork Coaster",
                    "product_id": 17,
                    "total_quantity": 2
                  },
                  {
                    "customer_id": 1617,
                    "rating": 3,
                    "product_name": "French cheese",
                    "product_id": 18,
                    "total_quantity": 3
                  },
                  {
                    "customer_id": 1617,
                    "rating": 5,
                    "product_name": "Yellow mature Dutch cheese ",
                    "product_id": 19,
                    "total_quantity": 4
                  },
                  {
                    "customer_id": 1617,
                    "rating": 1,
                    "product_name": "Cheese chunk",
                    "product_id": 20,
                    "total_quantity": 2
                  },
                  {
                    "customer_id": 1617,
                    "rating": 0,
                    "product_name": "Cheese circle",
                    "product_id": 21,
                    "total_quantity": 1
                  },
                  {
                    "customer_id": 1617,
                    "rating": 3,
                    "product_name": "Wineglass ",
                    "product_id": 22,
                    "total_quantity": 3
                  },
                  {
                    "customer_id": 1617,
                    "rating": 1,
                    "product_name": "Blue Shoes",
                    "product_id": 31,
                    "total_quantity": 2
                  },
                  {
                    "customer_id": 1617,
                    "rating": 0,
                    "product_name": "Beach Shoes",
                    "product_id": 32,
                    "total_quantity": 1
                  },
                  {
                    "customer_id": 1618,
                    "rating": 1,
                    "product_name": "Black with red sole shoes",
                    "product_id": 28,
                    "total_quantity": 2
                  },
                  {
                    "customer_id": 1618,
                    "rating": 5,
                    "product_name": "Gray with white sole shoes",
                    "product_id": 29,
                    "total_quantity": 4
                  },
                  {
                    "customer_id": 1618,
                    "rating": 1,
                    "product_name": "Brown Shoes",
                    "product_id": 30,
                    "total_quantity": 2
                  },
                  {
                    "customer_id": 1618,
                    "rating": 1,
                    "product_name": "Blue Shoes",
                    "product_id": 31,
                    "total_quantity": 2
                  },
                  {
                    "customer_id": 1618,
                    "rating": 3,
                    "product_name": "Beach Shoes",
                    "product_id": 32,
                    "total_quantity": 3
                  }
                ]
              },
              "isSummary": false,
              "language": "scala"
            }
          },
          "metadata": {}
        }
      ],
      "metadata": {
        "diagram": {
          "activateDiagramType": 1,
          "chartConfig": {
            "category": "bar",
            "keys": [
              "rating"
            ],
            "values": [
              "customer_id"
            ],
            "yLabel": "customer_id",
            "xLabel": "rating",
            "aggregation": "SUM",
            "aggByBackend": false
          },
          "aggData": {
            "customer_id": {
              "0": 14464145,
              "1": 14532495,
              "3": 14386313,
              "5": 14390494
            }
          },
          "isSummary": false,
          "previewData": {
            "filter": null
          },
          "isSql": false
        }
      },
      "source": [
        "display(df)"
      ],
      "attachments": {}
    },
    {
      "cell_type": "code",
      "execution_count": 7,
      "outputs": [
        {
          "execution_count": 7,
          "output_type": "execute_result",
          "data": {
            "text/plain": "2.4.4.dev0\nNone"
          },
          "metadata": {}
        }
      ],
      "metadata": {},
      "source": [
        "%%pyspark\n",
        "import pyspark \n",
        "print(print(pyspark.__version__)) "
      ],
      "attachments": {}
    },
    {
      "cell_type": "code",
      "execution_count": 8,
      "outputs": [],
      "metadata": {},
      "source": [
        "%%pyspark\n",
        "import os\n",
        "import sys\n",
        "import pandas as pd \n",
        "import numpy as np\n",
        "import re\n",
        "import pandas as pd\n",
        "from IPython.display import display\n",
        "from pyspark.sql.functions import *\n",
        "from pyspark.sql.types import *\n",
        "from pyspark.sql.window import Window\n",
        "from pyspark.mllib.recommendation import ALS, MatrixFactorizationModel, Rating\n",
        "from pyspark import SparkContext\n",
        "\n",
        "import traceback"
      ],
      "attachments": {}
    },
    {
      "cell_type": "code",
      "execution_count": 9,
      "outputs": [
        {
          "execution_count": 9,
          "output_type": "execute_result",
          "data": {
            "text/plain": "/home/trusted-service-user/cluster-env/env/lib/python3.6/site-packages/pyarrow/__init__.py:152: UserWarning: pyarrow.open_stream is deprecated, please use pyarrow.ipc.open_stream\n  warnings.warn(\"pyarrow.open_stream is deprecated, please use \""
          },
          "metadata": {}
        }
      ],
      "metadata": {},
      "source": [
        "%%pyspark\n",
        "#Calling the dataframe df created in Scala to Python\n",
        "df = sqlContext.table(\"df\")\n",
        "# *********************\n",
        "\n",
        "\n",
        "Customer_data = df.select(\"customer_id\", \"product_id\", \"rating\")\n",
        "\n",
        "_toExplore = df.select(\"*\").toPandas()\n",
        "\n",
        "unique_users = _toExplore.customer_id.unique()"
      ],
      "attachments": {}
    },
    {
      "cell_type": "code",
      "execution_count": 10,
      "outputs": [
        {
          "execution_count": 10,
          "output_type": "execute_result",
          "data": {
            "text/plain": "customer_id  product_id                product_name  rating\n1285614        84107           7               Red Surfboard       1\n772988         83820          11             Black corkscrew       1\n1325612        97433          29  Gray with white sole shoes       3\n122416         17367          31                  Blue Shoes       1\n71134          68204          13               Brown Coaster       0\n840861         47303          26                 Black Shoes       3\n892428         50764          16                Turkish Lira       0\n366435         51933          17       Wood and Cork Coaster       0\n1393679         5165          17       Wood and Cork Coaster       1\n882626         94185          23           Crystal Wineglass       1"
          },
          "metadata": {}
        }
      ],
      "metadata": {},
      "source": [
        "%%pyspark\n",
        "display(_toExplore[['customer_id', 'product_id', 'product_name', 'rating']].sample(n=10))"
      ],
      "attachments": {}
    },
    {
      "cell_type": "markdown",
      "metadata": {},
      "source": [
        "## ***Training the model***\n",
        "<p style=\"font-size:16px; color:#117d30;\">\n",
        "    \n",
        "    The machine learning model used is the recommendation module present in\n",
        "    pyspark.mllib.\n",
        "</p>\n",
        "<p style=\"font-size:16px; color:#117d30;\">\n",
        "    Using the ALS (alternating least square) method, we can train the model, which takes a list of tuples consisting mainly of \"userID\", \"productID\" and \"rating\".\n",
        "</p>\n",
        "<p style=\"font-size:16px; color:#117d30;\">\n",
        "    The parameters passed in training the model are a list of tuples, no. of iterations, and rank.\n",
        "</p>\n",
        "<!-- <p style=\"font-size:16px; color:#117d30;\">\n",
        "    Rank is the no. of features to use while training the model.\n",
        "</p> -->\n",
        ""
      ],
      "attachments": {}
    },
    {
      "cell_type": "code",
      "execution_count": 11,
      "outputs": [],
      "metadata": {},
      "source": [
        "%%pyspark\n",
        "\n",
        "def train_model():\n",
        "  \"\"\"\n",
        "    Training model for predicting the recommendation on given set of input\n",
        "  \"\"\"\n",
        "  try:\n",
        "    rank = 5\n",
        "    numIterations = 10\n",
        "    print(\"Training model.........\")\n",
        "    \n",
        "    model = ALS.train(Customer_data, rank, numIterations, seed=30)\n",
        "    # model.save(sc, PATH)\n",
        "    return model\n",
        "  except:\n",
        "    traceback.print_exc()\n",
        "    return \"Error while loading model\""
      ],
      "attachments": {}
    },
    {
      "cell_type": "code",
      "execution_count": 12,
      "outputs": [
        {
          "execution_count": 12,
          "output_type": "execute_result",
          "data": {
            "text/plain": "Training model........."
          },
          "metadata": {}
        }
      ],
      "metadata": {},
      "source": [
        "%%pyspark\n",
        "trained_model = train_model()"
      ],
      "attachments": {}
    },
    {
      "cell_type": "markdown",
      "metadata": {},
      "source": [
        "## *** Loading the model***\n",
        "<p style=\"font-size:16px; color:#117d30;\">\n",
        "    Once the model is trained, it is saved on the required path for loading the weights generated after training the model. \n",
        "</p>\n",
        "<p style=\"font-size:16px; color:#117d30;\">\n",
        "    Using the loaded model, we can generate product recommendations for customers. \n",
        "</p>\n",
        ""
      ],
      "attachments": {}
    },
    {
      "cell_type": "code",
      "execution_count": 13,
      "outputs": [],
      "metadata": {},
      "source": [
        "%%pyspark\n",
        "def load_model():\n",
        "  try:\n",
        "    saved_model = MatrixFactorizationModel.load(sc, PATH)\n",
        "    return saved_model\n",
        "  except:\n",
        "    return \"Model not loaded\""
      ],
      "attachments": {}
    },
    {
      "cell_type": "markdown",
      "metadata": {},
      "source": [
        "## ***Product Recommender***\n",
        "<p style=\"font-size:16px; color:#117d30;\">\n",
        "    The \"recommend_products\" method is a main wrapper function which consists of certain other methods to  recommend items to the user\". \n",
        "</p>\n",
        ""
      ],
      "attachments": {}
    },
    {
      "cell_type": "code",
      "execution_count": 14,
      "outputs": [],
      "metadata": {},
      "source": [
        "%%pyspark\n",
        "def recommend_products(user_id, num):\n",
        "  \"\"\"\n",
        "    Function for recommending products to user\n",
        "    \n",
        "    Parameters:\n",
        "      user_id    : int\n",
        "      no of product to recommend : int \n",
        "  \"\"\"\n",
        "  try:\n",
        "    user_id = int(user_id)\n",
        "      \n",
        "    check_user = validate_user(user_id)\n",
        "    \n",
        "    if len(check_user) == 0: return \"User does not exist\"\n",
        "        #       products = top_products()\n",
        "        #       return products\n",
        "        \n",
        "    data = trained_model.recommendProducts(user_id ,num)\n",
        "    result = map_products(data)\n",
        "    return result\n",
        "  except:\n",
        "    traceback.print_exc()\n",
        "    return \"Error while recommending product\""
      ],
      "attachments": {}
    },
    {
      "cell_type": "markdown",
      "metadata": {},
      "source": [
        "## ***Validate user***\n",
        "<p style=\"font-size:16px; color:#117d30;\">\n",
        "    The \"validate_user\" method is used to verify if a particualar user_id exists in the database.\n",
        "</p>\n",
        ""
      ],
      "attachments": {}
    },
    {
      "cell_type": "code",
      "execution_count": 15,
      "outputs": [],
      "metadata": {},
      "source": [
        "%%pyspark\n",
        "def validate_user(user_id):\n",
        "  \"\"\"\n",
        "    Checks if user exist in database\n",
        "    \n",
        "    Parameters:\n",
        "    \n",
        "      user_id : int\n",
        "  \"\"\"\n",
        "  try:\n",
        "    if user_id is not None:\n",
        "      user = df.filter(df.customer_id == user_id).collect()\n",
        "      return user\n",
        "    else:\n",
        "      return \"Please pass user_id\"\n",
        "  except:\n",
        "    traceback.print_exc()\n",
        "    return \"Error\""
      ],
      "attachments": {}
    },
    {
      "cell_type": "markdown",
      "metadata": {},
      "source": [
        "## ***Verify products***\n",
        "<p style=\"font-size:16px; color:#117d30;\">\n",
        "    The \"verify_product\" method is used for checking if a product exists in the database.\n",
        "</p>"
      ],
      "attachments": {}
    },
    {
      "cell_type": "code",
      "execution_count": 16,
      "outputs": [],
      "metadata": {},
      "source": [
        "%%pyspark\n",
        "def verify_product(product):\n",
        "  \"\"\"\n",
        "    Validating if product exist in database\n",
        "  \"\"\"\n",
        "  try:\n",
        "    prod = df.filter(df.product_id == product).collect()\n",
        "    return prod\n",
        "  except:\n",
        "    traceback.print_exc()\n",
        "    return \"Error\""
      ],
      "attachments": {}
    },
    {
      "cell_type": "markdown",
      "metadata": {},
      "source": [
        "## ***Map products***\n",
        "<p style=\"font-size:16px; color:#117d30;\">\n",
        "    The \"map_products\" method is used to map a  product id with a product name.\n",
        "</p>"
      ],
      "attachments": {}
    },
    {
      "cell_type": "code",
      "execution_count": 17,
      "outputs": [],
      "metadata": {},
      "source": [
        "%%pyspark\n",
        "def map_products(data):\n",
        "  try:\n",
        "    dataFrame = pd.DataFrame(data)\n",
        "    dataFrame = dataFrame[['product', 'rating']]\n",
        "    dataFrame = pd.DataFrame(dataFrame)\n",
        "    # temp_dict = _toExplore.set_index('product_id').to_dict()['product_name']\n",
        "    # mapped_prod = dataFrame.replace(temp_dict)\n",
        "    dataFrame.rename(columns={'product':'Recommended-Products','rating':'Rating'}, inplace=True)\n",
        "    dataFrame.index.name = None\n",
        "    return dataFrame.sample(n=5)\n",
        "  except:\n",
        "    traceback.print_exc()\n",
        "    return \"Error\"\n",
        ""
      ],
      "attachments": {}
    },
    {
      "cell_type": "code",
      "execution_count": 19,
      "outputs": [],
      "metadata": {},
      "source": [
        "%%pyspark\n",
        "new = trained_model.recommendProductsForUsers(5)"
      ],
      "attachments": {}
    },
    {
      "cell_type": "code",
      "execution_count": 20,
      "outputs": [
        {
          "execution_count": 20,
          "output_type": "execute_result",
          "data": {
            "text/plain": "userid Recommendation1       ...       Recommendation4 Recommendation5\n0   18624              12       ...                     5               9\n1   80704              26       ...                    32              12\n2    3456              10       ...                     5              31\n3    6400              12       ...                     5              10\n4   24384              30       ...                    10              15\n5   29696              20       ...                     8              13\n6   61696              24       ...                    29               4\n7   20160              24       ...                    19              22\n8   59200              10       ...                    16               9\n9   74816               7       ...                    24               4\n10  66112              24       ...                    21               4\n11  83904              10       ...                    31              30\n12  33920              31       ...                     3              19\n13  64960              30       ...                    19              22\n14  88704              10       ...                    31              30\n15   4992              12       ...                     8              20\n16  79680              24       ...                     4               2\n17  66368              24       ...                     4              17\n18  58240              29       ...                     4               6\n19  58880              12       ...                    32              26\n20  62912              10       ...                    12              30\n21   4224              18       ...                    15              29\n22  75456              16       ...                    27              22\n23  59456              24       ...                    21              27\n24  64320              31       ...                     3              10\n\n[25 rows x 6 columns]"
          },
          "metadata": {}
        }
      ],
      "metadata": {},
      "source": [
        "%%pyspark\n",
        "data=new.collect()\n",
        "allproduct=[]\n",
        "alluser=[]\n",
        "for  h in data:\n",
        "    t=str(h)\n",
        "    res=re.split('[\\W]+', t)\n",
        "    userid=[]\n",
        "    product=[]\n",
        "    for w in range(0,len(res)):\n",
        "        if res[w]=='user':\n",
        "            userid.append(res[w+1])\n",
        "        elif res[w]=='product':\n",
        "            product.append(res[w+1])\n",
        "    allproduct.append(product)\n",
        "    alluser.append(userid[0])\n",
        "recomm_df1=pd.DataFrame(alluser,columns=['userid'])\n",
        "recomm_df2=pd.DataFrame(allproduct,columns=['Recommendation1','Recommendation2','Recommendation3','Recommendation4','Recommendation5'])\n",
        "\n",
        "FinalData=pd.concat([recomm_df1,recomm_df2],sort=True,axis=1)\n",
        "# print(FinalData)\n",
        "FinalData.head(n=25)"
      ],
      "attachments": {}
    },
    {
      "cell_type": "markdown",
      "metadata": {},
      "source": [
        "<p style=\"font-size:16px; color:#117d30;\">\n",
        "    Finally, call the main function and pass the two parameters \"user_id\" and \"product_id\" to generate product recommendations.\n",
        "</p>\n",
        ""
      ],
      "attachments": {}
    },
    {
      "cell_type": "code",
      "execution_count": 21,
      "outputs": [
        {
          "execution_count": 21,
          "output_type": "execute_result",
          "data": {
            "text/plain": "Recommended-Products    Rating\n3                    30  4.708153\n6                    25  4.364865\n1                    19  5.346928\n4                     5  4.520149\n5                    16  4.458258"
          },
          "metadata": {}
        }
      ],
      "metadata": {},
      "source": [
        "%%pyspark\n",
        "output = recommend_products(user_id=1533, num=7)\n",
        "output"
      ],
      "attachments": {}
    },
    {
      "cell_type": "code",
      "execution_count": 22,
      "outputs": [
        {
          "execution_count": 22,
          "output_type": "execute_result",
          "data": {
            "text/plain": "+----------+--------------------+----------+----------+----------+--------------------+--------------------+---------------------+--------+------------+------------------+---------------------+-----------+--------------------+\n| epochTime|      stringDateTime|vibrationX|vibrationY|vibrationZ|               jobId|            deviceId|syntheticPartitionKey|   zAxis|spindleSpeed|coolantTemperature|EventProcessedUtcTime|PartitionId|EventEnqueuedUtcTime|\n+----------+--------------------+----------+----------+----------+--------------------+--------------------+---------------------+--------+------------+------------------+---------------------+-----------+--------------------+\n|1585831177|2020-04-03T12:39:...|  -0.63684|   0.12273|   0.11928|PECK_DRILL_2020_0...|MIA-GRND-FLOOR-AR...| MIA_GRND_FLOOR_AR...|-0.49375|        5000|               112| 2020-04-03T19:39:...|          2|2020-04-03T19:39:...|\n|1585831178|2020-04-03T12:39:...|   0.43724|   0.03857|  -0.67158|PECK_DRILL_2020_0...|MIA-GRND-FLOOR-AR...| MIA_GRND_FLOOR_AR...|-0.50417|        5000|               112| 2020-04-03T19:39:...|          2|2020-04-03T19:39:...|\n|1585831179|2020-04-03T12:39:...|   0.39533|  -0.50902|  -0.70212|PECK_DRILL_2020_0...|MIA-GRND-FLOOR-AR...| MIA_GRND_FLOOR_AR...|-0.51458|        5000|               112| 2020-04-03T19:39:...|          2|2020-04-03T19:39:...|\n|1585831180|2020-04-03T12:39:...|   0.77349|   0.76936|   0.50908|PECK_DRILL_2020_0...|MIA-GRND-FLOOR-AR...| MIA_GRND_FLOOR_AR...|  -0.525|        5000|               112| 2020-04-03T19:39:...|          2|2020-04-03T19:39:...|\n|1585831181|2020-04-03T12:39:...|  -0.54543|  -0.25932|   0.65334|PECK_DRILL_2020_0...|MIA-GRND-FLOOR-AR...| MIA_GRND_FLOOR_AR...|     0.1|        5000|               112| 2020-04-03T19:39:...|          2|2020-04-03T19:39:...|\n|1585831182|2020-04-03T12:39:...|   0.81768|  -0.65663|   0.09358|PECK_DRILL_2020_0...|MIA-GRND-FLOOR-AR...| MIA_GRND_FLOOR_AR...|     0.1|        5000|               112| 2020-04-03T19:39:...|          2|2020-04-03T19:39:...|\n|1585831183|2020-04-03T12:39:...|    -0.847|  -0.51046|   -0.8716|PECK_DRILL_2020_0...|MIA-GRND-FLOOR-AR...| MIA_GRND_FLOOR_AR...|     0.1|        5000|               112| 2020-04-03T19:39:...|          2|2020-04-03T19:39:...|\n|1585831184|2020-04-03T12:39:...|   0.94116|   0.16307|  -0.26515|PECK_DRILL_2020_0...|MIA-GRND-FLOOR-AR...| MIA_GRND_FLOOR_AR...|     0.1|        5000|               112| 2020-04-03T19:39:...|          2|2020-04-03T19:39:...|\n|1585831185|2020-04-03T12:39:...|   0.74621|   0.24545|  -0.55452|PECK_DRILL_2020_0...|MIA-GRND-FLOOR-AR...| MIA_GRND_FLOOR_AR...|     0.1|        5000|               112| 2020-04-03T19:39:...|          2|2020-04-03T19:39:...|\n|1585831186|2020-04-03T12:39:...|  -0.17443|   0.04241|  -0.30147|PECK_DRILL_2020_0...|MIA-GRND-FLOOR-AR...| MIA_GRND_FLOOR_AR...| 0.08958|        5000|               112| 2020-04-03T19:39:...|          2|2020-04-03T19:39:...|\n|1585831187|2020-04-03T12:39:...|   0.93268|   -0.8778|  -0.56394|PECK_DRILL_2020_0...|MIA-GRND-FLOOR-AR...| MIA_GRND_FLOOR_AR...| 0.07917|        5000|               112| 2020-04-03T19:39:...|          2|2020-04-03T19:39:...|\n|1585831188|2020-04-03T12:39:...|   0.31448|  -0.74431|  -0.60161|PECK_DRILL_2020_0...|MIA-GRND-FLOOR-AR...| MIA_GRND_FLOOR_AR...| 0.06875|        5000|               112| 2020-04-03T19:39:...|          2|2020-04-03T19:39:...|\n|1585831189|2020-04-03T12:39:...|   0.89134|  -0.30829|  -0.56161|PECK_DRILL_2020_0...|MIA-GRND-FLOOR-AR...| MIA_GRND_FLOOR_AR...| 0.05833|        5000|               112| 2020-04-03T19:39:...|          2|2020-04-03T19:39:...|\n|1585831190|2020-04-03T12:39:...|   0.37803|  -0.88992|   0.24259|PECK_DRILL_2020_0...|MIA-GRND-FLOOR-AR...| MIA_GRND_FLOOR_AR...| 0.04792|        5000|               112| 2020-04-03T19:39:...|          2|2020-04-03T19:39:...|\n|1585831191|2020-04-03T12:39:...|  -0.41246|   0.32265|  -0.93781|PECK_DRILL_2020_0...|MIA-GRND-FLOOR-AR...| MIA_GRND_FLOOR_AR...|  0.0375|        5000|               112| 2020-04-03T19:39:...|          2|2020-04-03T19:39:...|\n+----------+--------------------+----------+----------+----------+--------------------+--------------------+---------------------+--------+------------+------------------+---------------------+-----------+--------------------+"
          },
          "metadata": {}
        }
      ],
      "metadata": {},
      "source": [
        "%%pyspark\n",
        "##### Other Demos ####\n",
        "\n",
        "data_path = spark.read.load('abfss://mfg-iot-data@labworkspace123654.dfs.core.windows.net/1421481884_0094ddce00f84efca4a72c6d87d77eae_1.parquet', format='parquet')\n",
        "data_path.show(100)"
      ],
      "attachments": {}
    }
  ]
}