{
  "metadata": {
    "language_info": {
      "name": "scala"
    },
    "sessionKeepAliveTimeout": 30
  },
  "nbformat": 4,
  "nbformat_minor": 2,
  "cells": [
    {
      "cell_type": "markdown",
      "metadata": {},
      "source": [
        "<p style=\"font-size:25px; color:black;\"><u><i><b>Predicting the number of customers likely to visit different departments in a store</b></i></u></p>\n",
        "<p style=\"font-size:16px; color:#117d30;\">\n",
        "    Time series forecasting is the use of a model to predict future values based on previously observed values.\n",
        "The AutoML feature of AzureSynapse, in this case uses more than 25 time series forecasting machine learning algorithms to predicts how many customers are likely to visit different departments in a store.\n",
        "</p>\n",
        "Note:\n",
        "</p>\n",
        "<p style=\"font-size:15px; color:#117d30;\">\n",
        " This notebook is written in Scala, and there is interoperability between Scala and Python code.\n",
        "</p>\n",
        "\n",
        "<p style=\"font-size:15px; color:#117d30;\">\n",
        "    <u> Abstract: </u>\n",
        "</p>\n",
        "<p style=\"font-size:16px; color:#117d30;\">\n",
        "1) Ingest  data from Azure Synapse Data Storage account using PySpark.\n",
        "</p>\n",
        "<p style=\"font-size:16px; color:#117d30;\">\n",
        "2) Exploratory Data Analysis \n",
        "</p>\n",
        "<p style=\"font-size:15px; color:#117d30;\">\n",
        "3) Training more than 25 time series forecasting machine learning algorithms.\n",
        "</p>\n",
        "<p style=\"font-size:15px; color:#117d30;\">\n",
        "4) Predict the number of customers likely to visit different departments in a store by choosing the best performing Machine Learning Algorithm..\n",
        "</p>\n",
        ""
      ],
      "attachments": {}
    },
    {
      "cell_type": "markdown",
      "metadata": {},
      "source": [
        "## Introduction\n",
        "<p style=\"font-size:16px; color:#117d30;\">\n",
        "\n",
        "\n",
        "### In this notebook we showcased how to:\n",
        "<p style=\"font-size:16px; color:#117d30;\">\n",
        "1. Create an experiment using an existing workspace\n",
        "\n",
        "<p style=\"font-size:16px; color:#117d30;\">\n",
        "2. Configure AutoML using 'AutoMLConfig'\n",
        "\n",
        "<p style=\"font-size:16px; color:#117d30;\">\n",
        "3. Train the model \n",
        "\n",
        "<p style=\"font-size:16px; color:#117d30;\">\n",
        "4. Explore the engineered features and results\n",
        "\n",
        "<p style=\"font-size:16px; color:#117d30;\">\n",
        "5. Configuration and remote run of AutoML for a time-series model with lag and rolling window features\n",
        "\n",
        "<p style=\"font-size:16px; color:#117d30;\">\n",
        "6. Run and explore the forecast\n",
        "\n",
        "<p style=\"font-size:16px; color:#117d30;\">\n",
        "7. Register the model\n",
        "\n",
        "\n",
        "\n",
        ""
      ],
      "attachments": {}
    },
    {
      "cell_type": "markdown",
      "metadata": {},
      "source": [
        "### Importing required libraries such as azureml, pandas, pandasql, pyspark, and other supporting libraries.\n",
        "\n",
        ""
      ],
      "attachments": {}
    },
    {
      "cell_type": "code",
      "execution_count": 3,
      "outputs": [],
      "metadata": {},
      "source": [
        "%%pyspark\n",
        "from azureml.train.automl import AutoMLConfig\n",
        "# from azureml.widgets import RunDetails\n",
        "from azureml.core.experiment import Experiment\n",
        "from azureml.core.workspace import Workspace\n",
        "from azureml.train.automl.run import AutoMLRun\n",
        "from sklearn.metrics import mean_squared_error\n",
        "import math\n",
        "from pyspark.sql.window import Window\n",
        "from azureml.core.webservice import AciWebservice\n",
        "from azureml.core.model import InferenceConfig\n",
        "from azureml.core.model import Model\n",
        "from azureml.core.webservice import Webservice\n",
        "from azureml.core.conda_dependencies import CondaDependencies\n",
        "from azureml.core.environment import Environment\n",
        "\n",
        "import pandas as pd \n",
        "import datetime\n",
        "import matplotlib.pyplot as plt\n",
        "import numpy as np \n",
        "import seaborn as sns \n",
        "import azureml.train.automl.runtime\n",
        "import logging\n",
        "import os, tempfile\n",
        "import pandas as pd \n",
        "from pyspark.sql.functions import *\n",
        "from pyspark.sql.types import *\n",
        "from pyspark import SparkContext\n",
        "os.environ['AZURE_SERVICE']=\"Microsoft.ProjectArcadia\""
      ],
      "attachments": {}
    },
    {
      "cell_type": "markdown",
      "metadata": {},
      "source": [
        "## *Connecting to Azure Synapse Data Warehouse*\n",
        "<p style=\"font-size:16px; color:#117d30;\">\n",
        "    Connection to Azure Synapse Data Warehouse is initiated and the required data is ingested for processing.\n",
        "    The warehouse is connected with a single line of code. Just point to actions in a table, click on a new notebook, and then click on \"Load to DataFrame\".  </p>\n",
        "   <p style=\"font-size:16px; color:#117d30;\"> After providing the necessary details,  the required data is loaded in the form of a Spark dataframe.\n",
        "One magical line of code converts a dataframe from Scala to Python!\n",
        "</p>\n",
        ""
      ],
      "attachments": {}
    },
    {
      "cell_type": "code",
      "execution_count": null,
      "outputs": [],
      "metadata": {},
      "source": [
        "val df = spark.read.sqlanalytics(\"AzureSynapseDW.dbo.department_visit_customer\")\n",
        "//Create a Temp view for using the dataframe from Scala to Python\n",
        "  df.createTempView(\"df\")"
      ],
      "attachments": {}
    },
    {
      "cell_type": "code",
      "execution_count": null,
      "outputs": [],
      "metadata": {},
      "source": [
        "\n",
        "display(df)"
      ],
      "attachments": {}
    },
    {
      "cell_type": "markdown",
      "metadata": {},
      "source": [
        "# Exploratory Data Analysis\n",
        "\n",
        "<p style=\"font-size:16px; color:#117d30;\">\n",
        "The goal of performing exploratory data analysis is to understand the underlying patterns and correlations among features in the data. \n",
        ""
      ],
      "attachments": {}
    },
    {
      "cell_type": "code",
      "execution_count": null,
      "outputs": [],
      "metadata": {},
      "source": [
        "%%pyspark\n",
        "#Calling the dataframe df created in Scala to Python\n",
        "df = sqlContext.table(\"df\")\n",
        "# *********************\n",
        "department_visit_data = df.select(\"*\").toPandas()\n",
        "department_visit_data['Date'] = pd.to_datetime(department_visit_data['Date']).dt.strftime('%m/%d/%y')\n",
        "department_visit_data['Month'] = pd.to_datetime(department_visit_data['Date']).dt.strftime('%m')\n",
        "department_visit_data['DayOfMonth'] = pd.to_datetime(department_visit_data['Date']).dt.strftime('%d')\n",
        "department_visit_data['Year'] = pd.to_datetime(department_visit_data['Date']).dt.strftime('%y')\n",
        "department_visit_data['DayOfWeek'] = pd.to_datetime(department_visit_data['Date']).dt.strftime('%a')\n",
        "department_visit_data[['Accessories_count','Entertainment_count','Gaming','Kids','Mens','Phone_and_GPS','Womens']] = department_visit_data[['Accessories_count','Entertainment_count','Gaming','Kids','Mens','Phone_and_GPS','Womens']].apply(pd.to_numeric)\n",
        "\n",
        "#display(department_visit_data)"
      ],
      "attachments": {}
    },
    {
      "cell_type": "markdown",
      "metadata": {},
      "source": [
        "##  Deriving insights from customer visits data  \n",
        "\n",
        "<p style=\"font-size:16px; color:#117d30;\">\n",
        "1. Heat Map: Thickness of the color indicates the no of customers visiting the section on that particular day. It provides a quick representation of distribution of traffic across days and in various departments. From the graph, we can infer that more number of customers visit the Entertainment department on Wednesdays, Thursdays and Fridays and there is less foot traffic on Mondays and Fridays in the Phone_and_gps department.\n",
        ""
      ],
      "attachments": {}
    },
    {
      "cell_type": "code",
      "execution_count": null,
      "outputs": [],
      "metadata": {},
      "source": [
        "%%pyspark\n",
        "df_dow = pd.DataFrame(department_visit_data.groupby('DayOfWeek')[['Mens']].sum().sort_values(by = 'DayOfWeek', \n",
        "                                                                 ascending=True))\n",
        "\n",
        "df_dow['Mens'] = pd.DataFrame(department_visit_data.groupby('DayOfWeek')[['Mens']].sum().sort_values(by = 'DayOfWeek', \n",
        "                                                                 ascending=True))\n",
        "\n",
        "df_dow['Womens'] = pd.DataFrame(department_visit_data.groupby('DayOfWeek')[['Womens']].sum().sort_values(by = 'DayOfWeek', \n",
        "                                                                 ascending=True))\n",
        "\n",
        "df_dow['Kids'] = pd.DataFrame(department_visit_data.groupby('DayOfWeek')[['Kids']].sum().sort_values(by = 'DayOfWeek', \n",
        "                                                                 ascending=True))\n",
        "\n",
        "df_dow['Gaming'] = pd.DataFrame(department_visit_data.groupby('DayOfWeek')[['Gaming']].sum().sort_values(by = 'DayOfWeek', \n",
        "                                                                 ascending=True))\n",
        "\n",
        "df_dow['Entertainment'] = pd.DataFrame(department_visit_data.groupby('DayOfWeek')[['Entertainment_count']].sum().sort_values(by = 'DayOfWeek', \n",
        "                                                                 ascending=True))\n",
        "\n",
        "df_dow['Accessories'] = pd.DataFrame(department_visit_data.groupby('DayOfWeek')[['Accessories_count']].sum().sort_values(by = 'DayOfWeek', \n",
        "                                                                 ascending=True))\n",
        "\n",
        "df_dow['Phone_and_GPS'] = pd.DataFrame(department_visit_data.groupby('DayOfWeek')[['Phone_and_GPS']].sum().sort_values(by = 'DayOfWeek', \n",
        "                                                                 ascending=True))\n",
        "\n",
        "\n",
        "df_dow.head(10)\n",
        "\n",
        "sns.set()\n",
        "plt.rcParams['font.size'] = 20\n",
        "bg_color = (0.88,0.85,0.95)\n",
        "plt.rcParams['figure.facecolor'] = bg_color\n",
        "plt.rcParams['axes.facecolor'] = bg_color\n",
        "fig, ax = plt.subplots(1)\n",
        "cmap = sns.diverging_palette(10, 150, n=2, as_cmap=True)\n",
        "#cmap = sns.color_palette(\"hls\", 3)\n",
        "\n",
        "p = sns.heatmap(df_dow,\n",
        "                cmap=cmap,\n",
        "                annot=True,\n",
        "                fmt=\"d\",\n",
        "                annot_kws={'size':16},\n",
        "                ax=ax)\n",
        "plt.xlabel('Category')\n",
        "plt.ylabel('Day Of Week')\n",
        "ax.set_ylim((0,7))\n",
        "plt.text(5,7.4, \"Heat Map\", fontsize = 25, color='Black', fontstyle='italic')\n",
        " \n",
        "plt.show()\n",
        ""
      ],
      "attachments": {}
    },
    {
      "cell_type": "markdown",
      "metadata": {},
      "source": [
        "# Data Manipulation  \n",
        "<p style=\"font-size:16px; color:#117d30;\">\n",
        "1. Converting date to a specific format and making date fields relevant for prediction.\n",
        "\n",
        "<p style=\"font-size:16px; color:#117d30;\">\n",
        "2. Converting the data type of the columns to numeric before being passed as input to the model.\n",
        ""
      ],
      "attachments": {}
    },
    {
      "cell_type": "code",
      "execution_count": null,
      "outputs": [],
      "metadata": {},
      "source": [
        "%%pyspark\n",
        "department_visit_data = df.select(\"*\").toPandas()\n",
        "department_visit_data['Date'] = pd.to_datetime(department_visit_data['Date']).dt.strftime('%Y-%m-%d')\n",
        "\n",
        "department_visit_data[['Accessories_count','Entertainment_count','Gaming','Kids','Mens','Phone_and_GPS','Womens']] = department_visit_data[['Accessories_count','Entertainment_count','Gaming','Kids','Mens','Phone_and_GPS','Womens']].apply(pd.to_numeric)\n",
        "\n",
        "grouped_data = department_visit_data.groupby('Date', as_index=False).sum()\n",
        "\n",
        "display(grouped_data)\n",
        "total_rows = grouped_data.count\n",
        "print(total_rows)"
      ],
      "attachments": {}
    },
    {
      "cell_type": "code",
      "execution_count": null,
      "outputs": [],
      "metadata": {},
      "source": [
        "%%pyspark\n",
        "accessories_data = grouped_data[['Date','Accessories_count']]\n",
        "display(accessories_data)"
      ],
      "attachments": {}
    },
    {
      "cell_type": "code",
      "execution_count": null,
      "outputs": [],
      "metadata": {},
      "source": [
        "%%pyspark\n",
        "total_rows = accessories_data.count\n",
        "print(total_rows)"
      ],
      "attachments": {}
    },
    {
      "cell_type": "markdown",
      "metadata": {},
      "source": [
        "## Split data into train and test set\n",
        ""
      ],
      "attachments": {}
    },
    {
      "cell_type": "code",
      "execution_count": 11,
      "outputs": [],
      "metadata": {},
      "source": [
        "%%pyspark\n",
        "train_data = pd.DataFrame()\n",
        "test_data = pd.DataFrame()\n",
        "\n",
        "if accessories_data.shape[0] > 55: # len(df) > 10 would also work\n",
        "    train_data = accessories_data[:55]\n",
        "    test_data = accessories_data[55:]"
      ],
      "attachments": {}
    },
    {
      "cell_type": "code",
      "execution_count": null,
      "outputs": [],
      "metadata": {},
      "source": [
        "%%pyspark\n",
        "display(test_data)"
      ],
      "attachments": {}
    },
    {
      "cell_type": "markdown",
      "metadata": {},
      "source": [
        "## Train\n",
        "\n",
        "<p style=\"font-size:16px; color:#117d30;\">\n",
        "1. Instantiate an AutoMLConfig object. \n",
        "<p style=\"font-size:16px; color:#117d30;\">\n",
        "2. The configuration below defines the settings and data used to run the experiment. \n",
        ""
      ],
      "attachments": {}
    },
    {
      "cell_type": "markdown",
      "metadata": {},
      "source": [
        "## Set AutoML Configuration Parameters\n",
        "\n",
        "<p style=\"font-size:16px; color:#117d30;\">\n",
        "    The forecast horizon is the number of periods into the future that the model should predict. \n",
        "\n",
        "<p style=\"font-size:16px; color:#117d30;\">\n",
        "    It is generally recommended that users set forecast horizons to less than 100 time periods\n",
        "\n",
        "<p style=\"font-size:16px; color:#117d30;\">\n",
        "    Furthermore, AutoML's memory use and computation time increases in proportion to the length of the horizon, so consider carefully how this value is set. \n",
        "\n",
        "<p style=\"font-size:16px; color:#117d30;\">\n",
        "    If a long horizon forecast really is necessary, consider aggregating the series to a coarser time scale.\n",
        ""
      ],
      "attachments": {}
    },
    {
      "cell_type": "code",
      "execution_count": 13,
      "outputs": [],
      "metadata": {},
      "source": [
        "%%pyspark\n",
        "automl_settings = {\n",
        "   'time_column_name':'Date',\n",
        "   'max_horizon': 25\n",
        "}"
      ],
      "attachments": {}
    },
    {
      "cell_type": "code",
      "execution_count": 14,
      "outputs": [],
      "metadata": {},
      "source": [
        "%%pyspark\n",
        "automl_config = AutoMLConfig( \n",
        "                            #forecasting for time-series tasks\n",
        "                            task='forecasting',\n",
        "                            #measuere for evaluating the performance of the models\n",
        "                            primary_metric='normalized_root_mean_squared_error',\n",
        "                            #Maximum amount of time in minutes that the experiment take before it terminates.\n",
        "                            experiment_timeout_minutes=15,\n",
        "                            enable_early_stopping=True,\n",
        "                            training_data=train_data,\n",
        "                            label_column_name='Accessories_count',\n",
        "                            #Rolling Origin Validation is used to split time-series in a temporally consistent way.\n",
        "                            n_cross_validations=4,\n",
        "                            # Flag to enble early termination if the score is not improving in the short term.\n",
        "                            enable_ensembling=False,\n",
        "                            verbosity=logging.INFO,\n",
        "                            **automl_settings)"
      ],
      "attachments": {}
    },
    {
      "cell_type": "code",
      "execution_count": 15,
      "outputs": [],
      "metadata": {},
      "source": [
        "%%pyspark\n",
        "subscription_id='49d66a68-7c00-43c3-93ae-602ee60e1eb6'\n",
        "resource_group='CDP-VISION-DEMO-RG'\n",
        "workspace_name='Auto-ML-2'\n",
        "ws = Workspace(subscription_id = subscription_id, resource_group = resource_group, workspace_name = workspace_name)\n",
        "ws.write_config()\n",
        "ws = Workspace.from_config()\n",
        "experiment = Experiment(ws, \"Department_Visit_Count_20thFeb\")"
      ],
      "attachments": {}
    },
    {
      "cell_type": "markdown",
      "metadata": {},
      "source": [
        "## Run The Experiment\n",
        "<p style=\"font-size:16px; color:#117d30;\">\n",
        "Automated ML runs more than 25 Machine Learning Algorithms and grades them according to performance.\n",
        ""
      ],
      "attachments": {}
    },
    {
      "cell_type": "code",
      "execution_count": null,
      "outputs": [],
      "metadata": {},
      "source": [
        "%%pyspark\n",
        "local_run = experiment.submit(automl_config, show_output=True)"
      ],
      "attachments": {}
    },
    {
      "cell_type": "markdown",
      "metadata": {},
      "source": [
        "## Retrieve the Best Model\n",
        ""
      ],
      "attachments": {}
    },
    {
      "cell_type": "code",
      "execution_count": 17,
      "outputs": [],
      "metadata": {},
      "source": [
        "%%pyspark\n",
        "best_run, fitted_model = local_run.get_output()"
      ],
      "attachments": {}
    },
    {
      "cell_type": "code",
      "execution_count": null,
      "outputs": [],
      "metadata": {},
      "source": [
        "%%pyspark\n",
        "print(best_run)"
      ],
      "attachments": {}
    },
    {
      "cell_type": "code",
      "execution_count": null,
      "outputs": [],
      "metadata": {},
      "source": [
        "%%pyspark\n",
        "print(fitted_model)"
      ],
      "attachments": {}
    },
    {
      "cell_type": "markdown",
      "metadata": {},
      "source": [
        "# Evaluate the Model Performance\n",
        "<p style=\"font-size:16px; color:#117d30;\">Here we have used Root Mean Squared Error (RMSE) for evaluation.</p>\n",
        ""
      ],
      "attachments": {}
    },
    {
      "cell_type": "code",
      "execution_count": 20,
      "outputs": [],
      "metadata": {},
      "source": [
        "%%pyspark\n",
        "test_labels = test_data.pop(\"Accessories_count\").values\n",
        "predict_labels = fitted_model.predict(test_data)\n",
        "actual_labels = test_labels.flatten()"
      ],
      "attachments": {}
    },
    {
      "cell_type": "code",
      "execution_count": null,
      "outputs": [],
      "metadata": {},
      "source": [
        "%%pyspark\n",
        "rmse = math.sqrt(mean_squared_error(actual_labels,predict_labels))\n",
        "rmse"
      ],
      "attachments": {}
    },
    {
      "cell_type": "code",
      "execution_count": null,
      "outputs": [],
      "metadata": {},
      "source": [
        "%%pyspark\n",
        "sum_actuals = sum_errors = 0\n",
        "\n",
        "for actual_val, predict_val in zip(actual_labels,predict_labels):\n",
        "    abs_error = actual_val - predict_val\n",
        "    if abs_error < 0:\n",
        "        abs_error = abs_error * -1\n",
        "\n",
        "    sum_errors = sum_errors + abs_error\n",
        "    sum_actuals = sum_actuals + actual_val\n",
        "\n",
        "mean_abs_percent_error = sum_errors / sum_actuals\n",
        "print(\"Model MAPE:\")\n",
        "print(mean_abs_percent_error)\n",
        "print()\n",
        "print(\"Model Accuracy:\")\n",
        "print(1 - mean_abs_percent_error)"
      ],
      "attachments": {}
    },
    {
      "cell_type": "code",
      "execution_count": null,
      "outputs": [],
      "metadata": {},
      "source": [
        "%%pyspark\n",
        "predicted_value = fitted_model.predict(test_data)\n",
        "actual_value = test_labels.flatten() \n",
        "actual_value = actual_value.tolist()\n",
        "predicted_value = predicted_value.tolist()\n",
        "output_df= pd.DataFrame({'actual_value':actual_value,'predicted_value':predicted_value})\n",
        "output_df['Error_Rate %'] = 100*((output_df['actual_value']-output_df['predicted_value'])/(output_df['actual_value']))\n",
        "display(output_df)"
      ],
      "attachments": {}
    },
    {
      "cell_type": "code",
      "execution_count": null,
      "outputs": [],
      "metadata": {},
      "source": [
        "%%pyspark\n",
        "future_date =  pd.date_range(start='2015-12-1', end='2015-12-5')\n",
        "future_data = pd.DataFrame({'Date':future_date, 'Accessories_count':0})\n",
        "display(future_data)"
      ],
      "attachments": {}
    },
    {
      "cell_type": "code",
      "execution_count": null,
      "outputs": [],
      "metadata": {},
      "source": [
        "%%pyspark\n",
        "future_data['Date'] = pd.to_datetime(future_data['Date']).dt.strftime('%Y-%m-%d')\n",
        "display(future_data)"
      ],
      "attachments": {}
    },
    {
      "cell_type": "markdown",
      "metadata": {},
      "source": [
        "## Making future prediction using model that performs best\n",
        ""
      ],
      "attachments": {}
    },
    {
      "cell_type": "code",
      "execution_count": null,
      "outputs": [],
      "metadata": {},
      "source": [
        "%%pyspark\n",
        "future_value = fitted_model.predict(future_data)\n",
        "temp_df =  pd.DataFrame({'Accessories_count':future_value})\n",
        "temp_df['Accessories_count'] = temp_df['Accessories_count'].round(0)\n",
        "future_data['Accessories_Customer_count'] = temp_df['Accessories_count']\n",
        "future_data.drop({'Accessories_count'},axis=1,inplace=True)\n",
        "future_data['Date'] = pd.to_datetime(future_data['Date']).dt.strftime('%Y-%m-%d')\n",
        "display(future_data)"
      ],
      "attachments": {}
    },
    {
      "cell_type": "code",
      "execution_count": 27,
      "outputs": [],
      "metadata": {},
      "source": [
        "%%pyspark\n",
        "output = spark.createDataFrame(future_data)"
      ],
      "attachments": {}
    },
    {
      "cell_type": "markdown",
      "metadata": {},
      "source": [
        "## **Registering Model**\n",
        ""
      ],
      "attachments": {}
    },
    {
      "cell_type": "code",
      "execution_count": null,
      "outputs": [],
      "metadata": {},
      "source": [
        "%%pyspark\n",
        "#register model\n",
        "#model_name = \"my_model_20th\"\n",
        "description = \"Forecast Model\"\n",
        "tags = None\n",
        "model = local_run.register_model(description = description, tags = tags)\n",
        "local_run.model_id"
      ],
      "attachments": {}
    },
    {
      "cell_type": "code",
      "execution_count": 29,
      "outputs": [],
      "metadata": {},
      "source": [
        "%%pyspark\n",
        "#saving scoring and conda file\n",
        "script_file_name = 'inference/score.py'\n",
        "conda_env_file_name = 'inference/env.yml'\n",
        "#/content/azureml_automl.log\n",
        "best_run.download_file('outputs/scoring_file_v_1_0_0.py', 'inference/score.py')\n",
        "best_run.download_file('outputs/conda_env_v_1_0_0.yml', 'inference/env.yml')"
      ],
      "attachments": {}
    },
    {
      "cell_type": "markdown",
      "metadata": {},
      "source": [
        "## Checking the progress of the experiment in Azure portal\n",
        "<p style=\"font-size:16px; color:#117d30;\">Here the URL is retrieved by the following command.</p>\n",
        "\n",
        ""
      ],
      "attachments": {}
    },
    {
      "cell_type": "code",
      "execution_count": null,
      "outputs": [],
      "metadata": {},
      "source": [
        "%%pyspark\n",
        "print(local_run.get_portal_url())"
      ],
      "attachments": {}
    },
    {
      "cell_type": "markdown",
      "metadata": {},
      "source": [
        "## Consuming REST EndPoint API\n",
        ""
      ],
      "attachments": {}
    },
    {
      "cell_type": "code",
      "execution_count": null,
      "outputs": [],
      "metadata": {},
      "source": [
        "%%pyspark\n",
        "import urllib.request\n",
        "import json\n",
        "import os\n",
        "import ssl\n",
        "import pprint\n",
        "\n",
        "def allowSelfSignedHttps(allowed):\n",
        "    # bypass the server certificate verification on client side\n",
        "    if allowed and not os.environ.get('PYTHONHTTPSVERIFY', '') and getattr(ssl, '_create_unverified_context', None):\n",
        "        ssl._create_default_https_context = ssl._create_unverified_context\n",
        "\n",
        "allowSelfSignedHttps(True) # this line is needed if you use self-signed certificate in your scoring service.\n",
        "\n",
        "data = {\n",
        "    \"Inputs\": {\n",
        "          \"WebServiceInput0\":\n",
        "          [\n",
        "              {\n",
        "                    'Date': \"2020-04-20T00:00:00Z\",\n",
        "                    'Accessories_count': \"18\",\n",
        "                    'Entertainment_count': \"28\",\n",
        "                    'Gaming': \"5\",\n",
        "                    'Kids': \"14\",\n",
        "                    'Mens': \"14\",\n",
        "                    'Phone_and_GPS': \"36\",\n",
        "                    'Womens': \"30\",\n",
        "              },\n",
        "          ],\n",
        "    },\n",
        "    \"GlobalParameters\":  {\n",
        "    }\n",
        "}\n",
        "\n",
        "body = str.encode(json.dumps(data))\n",
        "\n",
        "url = 'http://13.68.210.52:80/api/v1/service/retail-realtime-inference/score'\n",
        "api_key = 'wRx4zkptjIjKq41jPFmw9UO3LfZ7CLE6' # Replace this with the API key for the web service\n",
        "headers = {'Content-Type':'application/json', 'Authorization':('Bearer '+ api_key)}\n",
        "\n",
        "req = urllib.request.Request(url, body, headers)\n",
        "\n",
        "try:\n",
        "    response = urllib.request.urlopen(req)\n",
        "\n",
        "    result = response.read()\n",
        "    #print(result)\n",
        "    pprint.pprint(json.loads(result))\n",
        "except urllib.error.HTTPError as error:\n",
        "    print(\"The request failed with status code: \" + str(error.code))\n",
        "\n",
        "    # Print the headers - they include the requert ID and the timestamp, which are useful for debugging the failure\n",
        "    print(error.info())\n",
        "    print(json.loads(error.read().decode(\"utf8\", 'ignore')))\n",
        ""
      ],
      "attachments": {}
    },
    {
      "cell_type": "code",
      "execution_count": 32,
      "outputs": [],
      "metadata": {},
      "source": [
        ""
      ],
      "attachments": {}
    }
  ]
}