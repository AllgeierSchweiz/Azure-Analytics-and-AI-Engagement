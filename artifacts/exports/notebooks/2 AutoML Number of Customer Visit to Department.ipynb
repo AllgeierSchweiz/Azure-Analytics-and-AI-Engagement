{
  "metadata": {
    "saveOutput": true,
    "language_info": {
      "name": "python"
    }
  },
  "nbformat": 4,
  "nbformat_minor": 2,
  "cells": [
    {
      "cell_type": "markdown",
      "metadata": {},
      "source": [
        "<p style=\"font-size:25px; color:black;\"><u><i><b>Predicting the number of customers likely to visit different departments in a store</b></i></u></p>\n",
        "<p style=\"font-size:16px; color:#117d30;\">\n",
        "    Time series forecasting is the use of a model to predict future values based on previously observed values.\n",
        "The AutoML feature of AzureSynapse, in this case uses more than 25 time series forecasting machine learning algorithms to predicts how many customers are likely to visit different departments in a store.\n",
        "</p>\n",
        "Note:\n",
        "</p>\n",
        "<p style=\"font-size:15px; color:#117d30;\">\n",
        " This notebook is written in Scala, and there is interoperability between Scala and Python code.\n",
        "</p>\n",
        "\n",
        "<p style=\"font-size:15px; color:#117d30;\">\n",
        "    <u> Abstract: </u>\n",
        "</p>\n",
        "<p style=\"font-size:16px; color:#117d30;\">\n",
        "1) Ingest  data from Azure Synapse Data Storage account using PySpark.\n",
        "</p>\n",
        "<p style=\"font-size:16px; color:#117d30;\">\n",
        "2) Exploratory Data Analysis \n",
        "</p>\n",
        "<p style=\"font-size:15px; color:#117d30;\">\n",
        "3) Training more than 25 time series forecasting machine learning algorithms.\n",
        "</p>\n",
        "<p style=\"font-size:15px; color:#117d30;\">\n",
        "4) Predict the number of customers likely to visit different departments in a store by choosing the best performing Machine Learning Algorithm..\n",
        "</p>\n",
        ""
      ],
      "attachments": {}
    },
    {
      "cell_type": "markdown",
      "metadata": {},
      "source": [
        "## Introduction\n",
        "<p style=\"font-size:16px; color:#117d30;\">\n",
        "\n",
        "\n",
        "### In this notebook we showcased how to:\n",
        "<p style=\"font-size:16px; color:#117d30;\">\n",
        "1. Create an experiment using an existing workspace\n",
        "\n",
        "<p style=\"font-size:16px; color:#117d30;\">\n",
        "2. Configure AutoML using 'AutoMLConfig'\n",
        "\n",
        "<p style=\"font-size:16px; color:#117d30;\">\n",
        "3. Train the model \n",
        "\n",
        "<p style=\"font-size:16px; color:#117d30;\">\n",
        "4. Explore the engineered features and results\n",
        "\n",
        "<p style=\"font-size:16px; color:#117d30;\">\n",
        "5. Configuration and remote run of AutoML for a time-series model with lag and rolling window features\n",
        "\n",
        "<p style=\"font-size:16px; color:#117d30;\">\n",
        "6. Run and explore the forecast\n",
        "\n",
        "<p style=\"font-size:16px; color:#117d30;\">\n",
        "7. Register the model\n",
        "\n",
        "\n",
        "\n",
        ""
      ],
      "attachments": {}
    },
    {
      "cell_type": "markdown",
      "metadata": {},
      "source": [
        "### Importing required libraries such as azureml, pandas, pandasql, pyspark, and other supporting libraries.\n",
        "\n",
        ""
      ],
      "attachments": {}
    },
    {
      "cell_type": "markdown",
      "metadata": {},
      "source": [
        "## Cell title\n"
      ],
      "attachments": {}
    },
    {
      "cell_type": "code",
      "execution_count": 13,
      "outputs": [],
      "metadata": {},
      "source": [
        "%%pyspark\n",
        "from azureml.train.automl import AutoMLConfig\n",
        "# from azureml.widgets import RunDetails\n",
        "from azureml.core.experiment import Experiment\n",
        "from azureml.core.workspace import Workspace\n",
        "from azureml.train.automl.run import AutoMLRun\n",
        "from sklearn.metrics import mean_squared_error\n",
        "import math\n",
        "from pyspark.sql.window import Window\n",
        "from azureml.core.webservice import AciWebservice\n",
        "from azureml.core.model import InferenceConfig\n",
        "from azureml.core.model import Model\n",
        "from azureml.core.webservice import Webservice\n",
        "from azureml.core.conda_dependencies import CondaDependencies\n",
        "from azureml.core.environment import Environment\n",
        "\n",
        "import pandas as pd \n",
        "import datetime\n",
        "import matplotlib.pyplot as plt\n",
        "import numpy as np \n",
        "import seaborn as sns \n",
        "import azureml.train.automl.runtime\n",
        "import logging\n",
        "import os, tempfile\n",
        "import pandas as pd \n",
        "from pyspark.sql.functions import *\n",
        "from pyspark.sql.types import *\n",
        "from pyspark import SparkContext\n",
        "os.environ['AZURE_SERVICE']=\"Microsoft.ProjectArcadia\""
      ],
      "attachments": {}
    },
    {
      "cell_type": "markdown",
      "metadata": {},
      "source": [
        "## *Connecting to Azure Synapse Data Warehouse*\n",
        "<p style=\"font-size:16px; color:#117d30;\">\n",
        "    Connection to Azure Synapse Data Warehouse is initiated and the required data is ingested for processing.\n",
        "    The warehouse is connected with a single line of code. Just point to actions in a table, click on a new notebook, and then click on \"Load to DataFrame\".  </p>\n",
        "   <p style=\"font-size:16px; color:#117d30;\"> After providing the necessary details,  the required data is loaded in the form of a Spark dataframe.\n",
        "One magical line of code converts a dataframe from Scala to Python!\n",
        "</p>\n",
        ""
      ],
      "attachments": {}
    },
    {
      "cell_type": "code",
      "execution_count": 20,
      "outputs": [
        {
          "output_type": "execute_result",
          "execution_count": 20,
          "data": {
            "text/plain": "df: org.apache.spark.sql.DataFrame = [Date: string, Accessories_count: string ... 6 more fields]"
          },
          "metadata": {}
        }
      ],
      "metadata": {},
      "source": [
        "val df = spark.read.sqlanalytics(\"AzureSynapseDW.dbo.department_visit_customer\")\n",
        "//Create a Temp view for using the dataframe from Scala to Python\n",
        "  df.createTempView(\"df\")"
      ],
      "attachments": {}
    },
    {
      "cell_type": "code",
      "execution_count": 35,
      "outputs": [
        {
          "output_type": "execute_result",
          "execution_count": 35,
          "data": {
            "application/json": {
              "table": {
                "schema": {
                  "Womens": "string",
                  "Gaming": "string",
                  "Phone_and_GPS": "string",
                  "Kids": "string",
                  "Accessories_count": "string",
                  "Entertainment_count": "string",
                  "Date": "string",
                  "Mens": "string"
                },
                "rows": [
                  {
                    "Womens": "50",
                    "Gaming": "21",
                    "Phone_and_GPS": "34",
                    "Kids": "26",
                    "Accessories_count": "231",
                    "Entertainment_count": "52",
                    "Date": "2016-03-08",
                    "Mens": "48"
                  },
                  {
                    "Womens": "88",
                    "Gaming": "56",
                    "Phone_and_GPS": "83",
                    "Kids": "8",
                    "Accessories_count": "309",
                    "Entertainment_count": "53",
                    "Date": "2017-11-05",
                    "Mens": "21"
                  },
                  {
                    "Womens": "82",
                    "Gaming": "97",
                    "Phone_and_GPS": "84",
                    "Kids": "69",
                    "Accessories_count": "378",
                    "Entertainment_count": "27",
                    "Date": "2016-12-21",
                    "Mens": "19"
                  },
                  {
                    "Womens": "66",
                    "Gaming": "94",
                    "Phone_and_GPS": "96",
                    "Kids": "71",
                    "Accessories_count": "395",
                    "Entertainment_count": "19",
                    "Date": "2015-04-19",
                    "Mens": "49"
                  },
                  {
                    "Womens": "54",
                    "Gaming": "38",
                    "Phone_and_GPS": "37",
                    "Kids": "93",
                    "Accessories_count": "239",
                    "Entertainment_count": "6",
                    "Date": "2019-07-07",
                    "Mens": "11"
                  },
                  {
                    "Womens": "70",
                    "Gaming": "19",
                    "Phone_and_GPS": "52",
                    "Kids": "77",
                    "Accessories_count": "307",
                    "Entertainment_count": "4",
                    "Date": "2019-10-06",
                    "Mens": "85"
                  },
                  {
                    "Womens": "47",
                    "Gaming": "10",
                    "Phone_and_GPS": "7",
                    "Kids": "2",
                    "Accessories_count": "208",
                    "Entertainment_count": "98",
                    "Date": "2020-12-01",
                    "Mens": "44"
                  },
                  {
                    "Womens": "59",
                    "Gaming": "74",
                    "Phone_and_GPS": "68",
                    "Kids": "46",
                    "Accessories_count": "327",
                    "Entertainment_count": "73",
                    "Date": "2018-04-21",
                    "Mens": "7"
                  },
                  {
                    "Womens": "58",
                    "Gaming": "25",
                    "Phone_and_GPS": "6",
                    "Kids": "66",
                    "Accessories_count": "268",
                    "Entertainment_count": "62",
                    "Date": "2018-11-22",
                    "Mens": "51"
                  },
                  {
                    "Womens": "16",
                    "Gaming": "92",
                    "Phone_and_GPS": "40",
                    "Kids": "42",
                    "Accessories_count": "245",
                    "Entertainment_count": "40",
                    "Date": "2016-12-24",
                    "Mens": "15"
                  },
                  {
                    "Womens": "81",
                    "Gaming": "56",
                    "Phone_and_GPS": "87",
                    "Kids": "34",
                    "Accessories_count": "292",
                    "Entertainment_count": "9",
                    "Date": "2015-04-19",
                    "Mens": "25"
                  },
                  {
                    "Womens": "42",
                    "Gaming": "58",
                    "Phone_and_GPS": "61",
                    "Kids": "77",
                    "Accessories_count": "299",
                    "Entertainment_count": "29",
                    "Date": "2019-04-08",
                    "Mens": "32"
                  },
                  {
                    "Womens": "48",
                    "Gaming": "9",
                    "Phone_and_GPS": "75",
                    "Kids": "30",
                    "Accessories_count": "239",
                    "Entertainment_count": "74",
                    "Date": "2020-02-03",
                    "Mens": "3"
                  },
                  {
                    "Womens": "89",
                    "Gaming": "39",
                    "Phone_and_GPS": "93",
                    "Kids": "79",
                    "Accessories_count": "459",
                    "Entertainment_count": "88",
                    "Date": "2018-05-24",
                    "Mens": "71"
                  },
                  {
                    "Womens": "41",
                    "Gaming": "4",
                    "Phone_and_GPS": "91",
                    "Kids": "53",
                    "Accessories_count": "311",
                    "Entertainment_count": "71",
                    "Date": "2016-03-07",
                    "Mens": "51"
                  },
                  {
                    "Womens": "19",
                    "Gaming": "86",
                    "Phone_and_GPS": "41",
                    "Kids": "18",
                    "Accessories_count": "263",
                    "Entertainment_count": "90",
                    "Date": "2016-11-22",
                    "Mens": "9"
                  },
                  {
                    "Womens": "76",
                    "Gaming": "31",
                    "Phone_and_GPS": "56",
                    "Kids": "52",
                    "Accessories_count": "307",
                    "Entertainment_count": "89",
                    "Date": "2015-05-26",
                    "Mens": "3"
                  },
                  {
                    "Womens": "36",
                    "Gaming": "57",
                    "Phone_and_GPS": "96",
                    "Kids": "97",
                    "Accessories_count": "393",
                    "Entertainment_count": "13",
                    "Date": "2015-11-27",
                    "Mens": "94"
                  },
                  {
                    "Womens": "97",
                    "Gaming": "43",
                    "Phone_and_GPS": "59",
                    "Kids": "34",
                    "Accessories_count": "359",
                    "Entertainment_count": "98",
                    "Date": "2015-11-17",
                    "Mens": "28"
                  },
                  {
                    "Womens": "77",
                    "Gaming": "23",
                    "Phone_and_GPS": "4",
                    "Kids": "17",
                    "Accessories_count": "206",
                    "Entertainment_count": "39",
                    "Date": "2015-10-03",
                    "Mens": "46"
                  },
                  {
                    "Womens": "96",
                    "Gaming": "69",
                    "Phone_and_GPS": "35",
                    "Kids": "52",
                    "Accessories_count": "329",
                    "Entertainment_count": "36",
                    "Date": "2018-06-07",
                    "Mens": "41"
                  },
                  {
                    "Womens": "31",
                    "Gaming": "92",
                    "Phone_and_GPS": "45",
                    "Kids": "13",
                    "Accessories_count": "263",
                    "Entertainment_count": "74",
                    "Date": "2016-11-06",
                    "Mens": "8"
                  },
                  {
                    "Womens": "23",
                    "Gaming": "67",
                    "Phone_and_GPS": "18",
                    "Kids": "28",
                    "Accessories_count": "262",
                    "Entertainment_count": "70",
                    "Date": "2019-12-20",
                    "Mens": "56"
                  },
                  {
                    "Womens": "93",
                    "Gaming": "94",
                    "Phone_and_GPS": "8",
                    "Kids": "62",
                    "Accessories_count": "381",
                    "Entertainment_count": "98",
                    "Date": "2018-04-23",
                    "Mens": "26"
                  },
                  {
                    "Womens": "28",
                    "Gaming": "55",
                    "Phone_and_GPS": "85",
                    "Kids": "7",
                    "Accessories_count": "259",
                    "Entertainment_count": "66",
                    "Date": "2016-10-03",
                    "Mens": "18"
                  },
                  {
                    "Womens": "81",
                    "Gaming": "65",
                    "Phone_and_GPS": "26",
                    "Kids": "3",
                    "Accessories_count": "200",
                    "Entertainment_count": "6",
                    "Date": "2017-08-04",
                    "Mens": "19"
                  },
                  {
                    "Womens": "88",
                    "Gaming": "25",
                    "Phone_and_GPS": "0",
                    "Kids": "77",
                    "Accessories_count": "298",
                    "Entertainment_count": "39",
                    "Date": "2017-08-31",
                    "Mens": "69"
                  },
                  {
                    "Womens": "68",
                    "Gaming": "53",
                    "Phone_and_GPS": "92",
                    "Kids": "47",
                    "Accessories_count": "357",
                    "Entertainment_count": "70",
                    "Date": "2015-05-11",
                    "Mens": "27"
                  },
                  {
                    "Womens": "94",
                    "Gaming": "48",
                    "Phone_and_GPS": "58",
                    "Kids": "66",
                    "Accessories_count": "358",
                    "Entertainment_count": "61",
                    "Date": "2018-07-16",
                    "Mens": "31"
                  },
                  {
                    "Womens": "48",
                    "Gaming": "46",
                    "Phone_and_GPS": "89",
                    "Kids": "76",
                    "Accessories_count": "340",
                    "Entertainment_count": "17",
                    "Date": "2016-11-16",
                    "Mens": "64"
                  },
                  {
                    "Womens": "66",
                    "Gaming": "10",
                    "Phone_and_GPS": "44",
                    "Kids": "84",
                    "Accessories_count": "299",
                    "Entertainment_count": "60",
                    "Date": "2019-08-14",
                    "Mens": "35"
                  },
                  {
                    "Womens": "71",
                    "Gaming": "6",
                    "Phone_and_GPS": "20",
                    "Kids": "42",
                    "Accessories_count": "226",
                    "Entertainment_count": "1",
                    "Date": "2019-12-15",
                    "Mens": "86"
                  },
                  {
                    "Womens": "37",
                    "Gaming": "31",
                    "Phone_and_GPS": "64",
                    "Kids": "45",
                    "Accessories_count": "266",
                    "Entertainment_count": "19",
                    "Date": "2020-07-13",
                    "Mens": "70"
                  },
                  {
                    "Womens": "83",
                    "Gaming": "29",
                    "Phone_and_GPS": "13",
                    "Kids": "79",
                    "Accessories_count": "327",
                    "Entertainment_count": "91",
                    "Date": "2020-06-05",
                    "Mens": "32"
                  },
                  {
                    "Womens": "7",
                    "Gaming": "75",
                    "Phone_and_GPS": "21",
                    "Kids": "50",
                    "Accessories_count": "302",
                    "Entertainment_count": "93",
                    "Date": "2016-08-06",
                    "Mens": "56"
                  },
                  {
                    "Womens": "18",
                    "Gaming": "86",
                    "Phone_and_GPS": "60",
                    "Kids": "1",
                    "Accessories_count": "193",
                    "Entertainment_count": "5",
                    "Date": "2017-07-04",
                    "Mens": "23"
                  },
                  {
                    "Womens": "66",
                    "Gaming": "53",
                    "Phone_and_GPS": "86",
                    "Kids": "50",
                    "Accessories_count": "334",
                    "Entertainment_count": "8",
                    "Date": "2019-03-10",
                    "Mens": "71"
                  },
                  {
                    "Womens": "1",
                    "Gaming": "21",
                    "Phone_and_GPS": "88",
                    "Kids": "96",
                    "Accessories_count": "315",
                    "Entertainment_count": "94",
                    "Date": "2015-03-31",
                    "Mens": "15"
                  },
                  {
                    "Womens": "5",
                    "Gaming": "72",
                    "Phone_and_GPS": "23",
                    "Kids": "88",
                    "Accessories_count": "265",
                    "Entertainment_count": "63",
                    "Date": "2015-11-22",
                    "Mens": "14"
                  },
                  {
                    "Womens": "56",
                    "Gaming": "65",
                    "Phone_and_GPS": "21",
                    "Kids": "40",
                    "Accessories_count": "354",
                    "Entertainment_count": "99",
                    "Date": "2015-10-18",
                    "Mens": "73"
                  },
                  {
                    "Womens": "78",
                    "Gaming": "15",
                    "Phone_and_GPS": "64",
                    "Kids": "76",
                    "Accessories_count": "363",
                    "Entertainment_count": "81",
                    "Date": "2017-05-03",
                    "Mens": "49"
                  },
                  {
                    "Womens": "47",
                    "Gaming": "44",
                    "Phone_and_GPS": "39",
                    "Kids": "76",
                    "Accessories_count": "272",
                    "Entertainment_count": "59",
                    "Date": "2015-04-25",
                    "Mens": "7"
                  },
                  {
                    "Womens": "88",
                    "Gaming": "2",
                    "Phone_and_GPS": "25",
                    "Kids": "26",
                    "Accessories_count": "232",
                    "Entertainment_count": "47",
                    "Date": "2019-09-19",
                    "Mens": "44"
                  },
                  {
                    "Womens": "8",
                    "Gaming": "87",
                    "Phone_and_GPS": "87",
                    "Kids": "74",
                    "Accessories_count": "355",
                    "Entertainment_count": "67",
                    "Date": "2019-10-03",
                    "Mens": "32"
                  },
                  {
                    "Womens": "71",
                    "Gaming": "31",
                    "Phone_and_GPS": "85",
                    "Kids": "73",
                    "Accessories_count": "358",
                    "Entertainment_count": "49",
                    "Date": "2019-01-06",
                    "Mens": "49"
                  },
                  {
                    "Womens": "33",
                    "Gaming": "91",
                    "Phone_and_GPS": "82",
                    "Kids": "49",
                    "Accessories_count": "384",
                    "Entertainment_count": "73",
                    "Date": "2019-10-08",
                    "Mens": "56"
                  },
                  {
                    "Womens": "30",
                    "Gaming": "44",
                    "Phone_and_GPS": "4",
                    "Kids": "54",
                    "Accessories_count": "269",
                    "Entertainment_count": "39",
                    "Date": "2016-08-17",
                    "Mens": "98"
                  },
                  {
                    "Womens": "24",
                    "Gaming": "56",
                    "Phone_and_GPS": "41",
                    "Kids": "79",
                    "Accessories_count": "276",
                    "Entertainment_count": "55",
                    "Date": "2019-07-09",
                    "Mens": "21"
                  },
                  {
                    "Womens": "2",
                    "Gaming": "73",
                    "Phone_and_GPS": "57",
                    "Kids": "46",
                    "Accessories_count": "186",
                    "Entertainment_count": "0",
                    "Date": "2020-09-27",
                    "Mens": "8"
                  },
                  {
                    "Womens": "24",
                    "Gaming": "38",
                    "Phone_and_GPS": "33",
                    "Kids": "33",
                    "Accessories_count": "263",
                    "Entertainment_count": "47",
                    "Date": "2015-02-20",
                    "Mens": "88"
                  },
                  {
                    "Womens": "10",
                    "Gaming": "65",
                    "Phone_and_GPS": "59",
                    "Kids": "18",
                    "Accessories_count": "248",
                    "Entertainment_count": "96",
                    "Date": "2020-12-07",
                    "Mens": "0"
                  },
                  {
                    "Womens": "28",
                    "Gaming": "50",
                    "Phone_and_GPS": "38",
                    "Kids": "18",
                    "Accessories_count": "200",
                    "Entertainment_count": "20",
                    "Date": "2020-12-12",
                    "Mens": "46"
                  },
                  {
                    "Womens": "62",
                    "Gaming": "20",
                    "Phone_and_GPS": "34",
                    "Kids": "98",
                    "Accessories_count": "350",
                    "Entertainment_count": "37",
                    "Date": "2018-03-21",
                    "Mens": "99"
                  },
                  {
                    "Womens": "9",
                    "Gaming": "56",
                    "Phone_and_GPS": "49",
                    "Kids": "24",
                    "Accessories_count": "233",
                    "Entertainment_count": "43",
                    "Date": "2020-05-21",
                    "Mens": "52"
                  },
                  {
                    "Womens": "50",
                    "Gaming": "16",
                    "Phone_and_GPS": "78",
                    "Kids": "49",
                    "Accessories_count": "221",
                    "Entertainment_count": "0",
                    "Date": "2019-03-23",
                    "Mens": "28"
                  },
                  {
                    "Womens": "93",
                    "Gaming": "95",
                    "Phone_and_GPS": "1",
                    "Kids": "27",
                    "Accessories_count": "248",
                    "Entertainment_count": "30",
                    "Date": "2020-02-25",
                    "Mens": "2"
                  },
                  {
                    "Womens": "92",
                    "Gaming": "5",
                    "Phone_and_GPS": "21",
                    "Kids": "4",
                    "Accessories_count": "275",
                    "Entertainment_count": "98",
                    "Date": "2020-10-16",
                    "Mens": "55"
                  },
                  {
                    "Womens": "65",
                    "Gaming": "13",
                    "Phone_and_GPS": "52",
                    "Kids": "27",
                    "Accessories_count": "270",
                    "Entertainment_count": "72",
                    "Date": "2017-01-21",
                    "Mens": "41"
                  },
                  {
                    "Womens": "0",
                    "Gaming": "41",
                    "Phone_and_GPS": "50",
                    "Kids": "68",
                    "Accessories_count": "221",
                    "Entertainment_count": "38",
                    "Date": "2015-12-14",
                    "Mens": "24"
                  },
                  {
                    "Womens": "75",
                    "Gaming": "51",
                    "Phone_and_GPS": "2",
                    "Kids": "33",
                    "Accessories_count": "275",
                    "Entertainment_count": "32",
                    "Date": "2016-06-25",
                    "Mens": "82"
                  },
                  {
                    "Womens": "44",
                    "Gaming": "60",
                    "Phone_and_GPS": "55",
                    "Kids": "78",
                    "Accessories_count": "360",
                    "Entertainment_count": "26",
                    "Date": "2017-02-23",
                    "Mens": "97"
                  },
                  {
                    "Womens": "70",
                    "Gaming": "49",
                    "Phone_and_GPS": "3",
                    "Kids": "66",
                    "Accessories_count": "362",
                    "Entertainment_count": "80",
                    "Date": "2017-05-03",
                    "Mens": "94"
                  },
                  {
                    "Womens": "34",
                    "Gaming": "96",
                    "Phone_and_GPS": "43",
                    "Kids": "70",
                    "Accessories_count": "272",
                    "Entertainment_count": "11",
                    "Date": "2016-04-20",
                    "Mens": "18"
                  },
                  {
                    "Womens": "44",
                    "Gaming": "82",
                    "Phone_and_GPS": "91",
                    "Kids": "25",
                    "Accessories_count": "257",
                    "Entertainment_count": "2",
                    "Date": "2017-02-25",
                    "Mens": "13"
                  },
                  {
                    "Womens": "36",
                    "Gaming": "37",
                    "Phone_and_GPS": "88",
                    "Kids": "87",
                    "Accessories_count": "282",
                    "Entertainment_count": "0",
                    "Date": "2019-01-26",
                    "Mens": "34"
                  },
                  {
                    "Womens": "4",
                    "Gaming": "14",
                    "Phone_and_GPS": "85",
                    "Kids": "91",
                    "Accessories_count": "358",
                    "Entertainment_count": "92",
                    "Date": "2019-04-25",
                    "Mens": "72"
                  },
                  {
                    "Womens": "41",
                    "Gaming": "22",
                    "Phone_and_GPS": "35",
                    "Kids": "6",
                    "Accessories_count": "198",
                    "Entertainment_count": "49",
                    "Date": "2018-06-25",
                    "Mens": "45"
                  },
                  {
                    "Womens": "31",
                    "Gaming": "83",
                    "Phone_and_GPS": "10",
                    "Kids": "37",
                    "Accessories_count": "250",
                    "Entertainment_count": "52",
                    "Date": "2018-12-01",
                    "Mens": "37"
                  },
                  {
                    "Womens": "9",
                    "Gaming": "71",
                    "Phone_and_GPS": "48",
                    "Kids": "44",
                    "Accessories_count": "178",
                    "Entertainment_count": "1",
                    "Date": "2016-04-20",
                    "Mens": "5"
                  },
                  {
                    "Womens": "17",
                    "Gaming": "7",
                    "Phone_and_GPS": "82",
                    "Kids": "7",
                    "Accessories_count": "190",
                    "Entertainment_count": "44",
                    "Date": "2017-01-27",
                    "Mens": "33"
                  },
                  {
                    "Womens": "22",
                    "Gaming": "55",
                    "Phone_and_GPS": "20",
                    "Kids": "17",
                    "Accessories_count": "189",
                    "Entertainment_count": "39",
                    "Date": "2020-12-19",
                    "Mens": "36"
                  },
                  {
                    "Womens": "22",
                    "Gaming": "66",
                    "Phone_and_GPS": "48",
                    "Kids": "35",
                    "Accessories_count": "215",
                    "Entertainment_count": "41",
                    "Date": "2016-07-07",
                    "Mens": "3"
                  },
                  {
                    "Womens": "41",
                    "Gaming": "24",
                    "Phone_and_GPS": "96",
                    "Kids": "80",
                    "Accessories_count": "331",
                    "Entertainment_count": "20",
                    "Date": "2015-09-16",
                    "Mens": "70"
                  },
                  {
                    "Womens": "13",
                    "Gaming": "71",
                    "Phone_and_GPS": "87",
                    "Kids": "32",
                    "Accessories_count": "375",
                    "Entertainment_count": "94",
                    "Date": "2015-11-09",
                    "Mens": "78"
                  },
                  {
                    "Womens": "79",
                    "Gaming": "94",
                    "Phone_and_GPS": "98",
                    "Kids": "57",
                    "Accessories_count": "403",
                    "Entertainment_count": "3",
                    "Date": "2015-05-05",
                    "Mens": "72"
                  },
                  {
                    "Womens": "86",
                    "Gaming": "41",
                    "Phone_and_GPS": "66",
                    "Kids": "47",
                    "Accessories_count": "387",
                    "Entertainment_count": "60",
                    "Date": "2019-10-05",
                    "Mens": "87"
                  },
                  {
                    "Womens": "62",
                    "Gaming": "49",
                    "Phone_and_GPS": "13",
                    "Kids": "65",
                    "Accessories_count": "307",
                    "Entertainment_count": "28",
                    "Date": "2016-03-03",
                    "Mens": "90"
                  },
                  {
                    "Womens": "20",
                    "Gaming": "15",
                    "Phone_and_GPS": "62",
                    "Kids": "33",
                    "Accessories_count": "233",
                    "Entertainment_count": "13",
                    "Date": "2018-02-16",
                    "Mens": "90"
                  },
                  {
                    "Womens": "27",
                    "Gaming": "90",
                    "Phone_and_GPS": "40",
                    "Kids": "38",
                    "Accessories_count": "325",
                    "Entertainment_count": "62",
                    "Date": "2015-03-24",
                    "Mens": "68"
                  },
                  {
                    "Womens": "15",
                    "Gaming": "22",
                    "Phone_and_GPS": "0",
                    "Kids": "81",
                    "Accessories_count": "256",
                    "Entertainment_count": "45",
                    "Date": "2019-01-06",
                    "Mens": "93"
                  },
                  {
                    "Womens": "17",
                    "Gaming": "68",
                    "Phone_and_GPS": "88",
                    "Kids": "34",
                    "Accessories_count": "304",
                    "Entertainment_count": "61",
                    "Date": "2020-11-23",
                    "Mens": "36"
                  },
                  {
                    "Womens": "94",
                    "Gaming": "52",
                    "Phone_and_GPS": "20",
                    "Kids": "37",
                    "Accessories_count": "267",
                    "Entertainment_count": "54",
                    "Date": "2018-02-03",
                    "Mens": "10"
                  },
                  {
                    "Womens": "48",
                    "Gaming": "21",
                    "Phone_and_GPS": "52",
                    "Kids": "72",
                    "Accessories_count": "269",
                    "Entertainment_count": "23",
                    "Date": "2016-03-01",
                    "Mens": "53"
                  },
                  {
                    "Womens": "74",
                    "Gaming": "0",
                    "Phone_and_GPS": "96",
                    "Kids": "0",
                    "Accessories_count": "254",
                    "Entertainment_count": "78",
                    "Date": "2020-01-04",
                    "Mens": "6"
                  },
                  {
                    "Womens": "30",
                    "Gaming": "59",
                    "Phone_and_GPS": "58",
                    "Kids": "9",
                    "Accessories_count": "242",
                    "Entertainment_count": "75",
                    "Date": "2020-01-26",
                    "Mens": "11"
                  },
                  {
                    "Womens": "31",
                    "Gaming": "88",
                    "Phone_and_GPS": "62",
                    "Kids": "89",
                    "Accessories_count": "397",
                    "Entertainment_count": "56",
                    "Date": "2016-04-16",
                    "Mens": "71"
                  },
                  {
                    "Womens": "79",
                    "Gaming": "9",
                    "Phone_and_GPS": "88",
                    "Kids": "71",
                    "Accessories_count": "349",
                    "Entertainment_count": "37",
                    "Date": "2017-02-05",
                    "Mens": "65"
                  },
                  {
                    "Womens": "78",
                    "Gaming": "48",
                    "Phone_and_GPS": "60",
                    "Kids": "9",
                    "Accessories_count": "231",
                    "Entertainment_count": "33",
                    "Date": "2020-02-27",
                    "Mens": "3"
                  },
                  {
                    "Womens": "81",
                    "Gaming": "27",
                    "Phone_and_GPS": "51",
                    "Kids": "0",
                    "Accessories_count": "285",
                    "Entertainment_count": "88",
                    "Date": "2019-04-25",
                    "Mens": "38"
                  },
                  {
                    "Womens": "90",
                    "Gaming": "38",
                    "Phone_and_GPS": "7",
                    "Kids": "76",
                    "Accessories_count": "367",
                    "Entertainment_count": "93",
                    "Date": "2020-03-18",
                    "Mens": "63"
                  },
                  {
                    "Womens": "74",
                    "Gaming": "51",
                    "Phone_and_GPS": "62",
                    "Kids": "70",
                    "Accessories_count": "316",
                    "Entertainment_count": "12",
                    "Date": "2018-01-17",
                    "Mens": "47"
                  },
                  {
                    "Womens": "18",
                    "Gaming": "4",
                    "Phone_and_GPS": "40",
                    "Kids": "63",
                    "Accessories_count": "184",
                    "Entertainment_count": "26",
                    "Date": "2017-10-09",
                    "Mens": "33"
                  },
                  {
                    "Womens": "72",
                    "Gaming": "57",
                    "Phone_and_GPS": "26",
                    "Kids": "52",
                    "Accessories_count": "226",
                    "Entertainment_count": "5",
                    "Date": "2019-09-24",
                    "Mens": "14"
                  },
                  {
                    "Womens": "85",
                    "Gaming": "76",
                    "Phone_and_GPS": "56",
                    "Kids": "38",
                    "Accessories_count": "388",
                    "Entertainment_count": "72",
                    "Date": "2018-03-20",
                    "Mens": "61"
                  },
                  {
                    "Womens": "3",
                    "Gaming": "67",
                    "Phone_and_GPS": "98",
                    "Kids": "83",
                    "Accessories_count": "265",
                    "Entertainment_count": "12",
                    "Date": "2020-07-29",
                    "Mens": "2"
                  },
                  {
                    "Womens": "17",
                    "Gaming": "62",
                    "Phone_and_GPS": "14",
                    "Kids": "70",
                    "Accessories_count": "212",
                    "Entertainment_count": "8",
                    "Date": "2015-03-18",
                    "Mens": "41"
                  },
                  {
                    "Womens": "65",
                    "Gaming": "90",
                    "Phone_and_GPS": "93",
                    "Kids": "79",
                    "Accessories_count": "450",
                    "Entertainment_count": "67",
                    "Date": "2015-09-28",
                    "Mens": "56"
                  },
                  {
                    "Womens": "29",
                    "Gaming": "50",
                    "Phone_and_GPS": "91",
                    "Kids": "2",
                    "Accessories_count": "263",
                    "Entertainment_count": "89",
                    "Date": "2019-12-06",
                    "Mens": "2"
                  },
                  {
                    "Womens": "37",
                    "Gaming": "37",
                    "Phone_and_GPS": "79",
                    "Kids": "16",
                    "Accessories_count": "258",
                    "Entertainment_count": "47",
                    "Date": "2015-03-10",
                    "Mens": "42"
                  },
                  {
                    "Womens": "72",
                    "Gaming": "29",
                    "Phone_and_GPS": "48",
                    "Kids": "93",
                    "Accessories_count": "284",
                    "Entertainment_count": "36",
                    "Date": "2020-03-10",
                    "Mens": "6"
                  },
                  {
                    "Womens": "88",
                    "Gaming": "35",
                    "Phone_and_GPS": "50",
                    "Kids": "54",
                    "Accessories_count": "329",
                    "Entertainment_count": "61",
                    "Date": "2015-10-10",
                    "Mens": "41"
                  },
                  {
                    "Womens": "26",
                    "Gaming": "65",
                    "Phone_and_GPS": "73",
                    "Kids": "84",
                    "Accessories_count": "307",
                    "Entertainment_count": "18",
                    "Date": "2015-05-26",
                    "Mens": "41"
                  },
                  {
                    "Womens": "50",
                    "Gaming": "22",
                    "Phone_and_GPS": "35",
                    "Kids": "38",
                    "Accessories_count": "238",
                    "Entertainment_count": "91",
                    "Date": "2019-04-05",
                    "Mens": "2"
                  },
                  {
                    "Womens": "10",
                    "Gaming": "82",
                    "Phone_and_GPS": "16",
                    "Kids": "25",
                    "Accessories_count": "272",
                    "Entertainment_count": "81",
                    "Date": "2015-07-05",
                    "Mens": "58"
                  },
                  {
                    "Womens": "0",
                    "Gaming": "35",
                    "Phone_and_GPS": "41",
                    "Kids": "25",
                    "Accessories_count": "133",
                    "Entertainment_count": "7",
                    "Date": "2020-07-24",
                    "Mens": "25"
                  },
                  {
                    "Womens": "83",
                    "Gaming": "85",
                    "Phone_and_GPS": "91",
                    "Kids": "89",
                    "Accessories_count": "466",
                    "Entertainment_count": "72",
                    "Date": "2015-12-08",
                    "Mens": "46"
                  },
                  {
                    "Womens": "6",
                    "Gaming": "55",
                    "Phone_and_GPS": "38",
                    "Kids": "9",
                    "Accessories_count": "243",
                    "Entertainment_count": "36",
                    "Date": "2016-06-17",
                    "Mens": "99"
                  },
                  {
                    "Womens": "63",
                    "Gaming": "99",
                    "Phone_and_GPS": "22",
                    "Kids": "88",
                    "Accessories_count": "357",
                    "Entertainment_count": "27",
                    "Date": "2016-10-02",
                    "Mens": "58"
                  },
                  {
                    "Womens": "88",
                    "Gaming": "77",
                    "Phone_and_GPS": "81",
                    "Kids": "12",
                    "Accessories_count": "280",
                    "Entertainment_count": "1",
                    "Date": "2019-04-28",
                    "Mens": "21"
                  },
                  {
                    "Womens": "16",
                    "Gaming": "30",
                    "Phone_and_GPS": "7",
                    "Kids": "22",
                    "Accessories_count": "169",
                    "Entertainment_count": "60",
                    "Date": "2017-01-15",
                    "Mens": "34"
                  },
                  {
                    "Womens": "82",
                    "Gaming": "38",
                    "Phone_and_GPS": "80",
                    "Kids": "90",
                    "Accessories_count": "367",
                    "Entertainment_count": "62",
                    "Date": "2016-10-06",
                    "Mens": "15"
                  },
                  {
                    "Womens": "58",
                    "Gaming": "4",
                    "Phone_and_GPS": "95",
                    "Kids": "3",
                    "Accessories_count": "269",
                    "Entertainment_count": "23",
                    "Date": "2017-04-07",
                    "Mens": "86"
                  },
                  {
                    "Womens": "55",
                    "Gaming": "96",
                    "Phone_and_GPS": "18",
                    "Kids": "48",
                    "Accessories_count": "303",
                    "Entertainment_count": "74",
                    "Date": "2016-01-19",
                    "Mens": "12"
                  },
                  {
                    "Womens": "11",
                    "Gaming": "60",
                    "Phone_and_GPS": "70",
                    "Kids": "78",
                    "Accessories_count": "345",
                    "Entertainment_count": "77",
                    "Date": "2017-07-23",
                    "Mens": "49"
                  },
                  {
                    "Womens": "58",
                    "Gaming": "28",
                    "Phone_and_GPS": "10",
                    "Kids": "77",
                    "Accessories_count": "294",
                    "Entertainment_count": "71",
                    "Date": "2019-04-13",
                    "Mens": "50"
                  },
                  {
                    "Womens": "76",
                    "Gaming": "91",
                    "Phone_and_GPS": "46",
                    "Kids": "56",
                    "Accessories_count": "357",
                    "Entertainment_count": "74",
                    "Date": "2018-04-13",
                    "Mens": "14"
                  },
                  {
                    "Womens": "53",
                    "Gaming": "36",
                    "Phone_and_GPS": "49",
                    "Kids": "25",
                    "Accessories_count": "317",
                    "Entertainment_count": "88",
                    "Date": "2016-05-14",
                    "Mens": "66"
                  },
                  {
                    "Womens": "40",
                    "Gaming": "33",
                    "Phone_and_GPS": "49",
                    "Kids": "83",
                    "Accessories_count": "394",
                    "Entertainment_count": "90",
                    "Date": "2019-02-22",
                    "Mens": "99"
                  },
                  {
                    "Womens": "57",
                    "Gaming": "26",
                    "Phone_and_GPS": "78",
                    "Kids": "23",
                    "Accessories_count": "250",
                    "Entertainment_count": "1",
                    "Date": "2020-08-06",
                    "Mens": "65"
                  },
                  {
                    "Womens": "28",
                    "Gaming": "43",
                    "Phone_and_GPS": "67",
                    "Kids": "69",
                    "Accessories_count": "293",
                    "Entertainment_count": "62",
                    "Date": "2020-03-25",
                    "Mens": "24"
                  },
                  {
                    "Womens": "72",
                    "Gaming": "47",
                    "Phone_and_GPS": "65",
                    "Kids": "63",
                    "Accessories_count": "380",
                    "Entertainment_count": "82",
                    "Date": "2016-08-28",
                    "Mens": "51"
                  },
                  {
                    "Womens": "10",
                    "Gaming": "13",
                    "Phone_and_GPS": "90",
                    "Kids": "14",
                    "Accessories_count": "187",
                    "Entertainment_count": "25",
                    "Date": "2015-09-14",
                    "Mens": "35"
                  },
                  {
                    "Womens": "46",
                    "Gaming": "34",
                    "Phone_and_GPS": "45",
                    "Kids": "9",
                    "Accessories_count": "209",
                    "Entertainment_count": "23",
                    "Date": "2017-09-09",
                    "Mens": "52"
                  },
                  {
                    "Womens": "68",
                    "Gaming": "59",
                    "Phone_and_GPS": "17",
                    "Kids": "55",
                    "Accessories_count": "282",
                    "Entertainment_count": "4",
                    "Date": "2016-07-30",
                    "Mens": "79"
                  },
                  {
                    "Womens": "10",
                    "Gaming": "12",
                    "Phone_and_GPS": "7",
                    "Kids": "86",
                    "Accessories_count": "265",
                    "Entertainment_count": "78",
                    "Date": "2019-12-13",
                    "Mens": "72"
                  },
                  {
                    "Womens": "20",
                    "Gaming": "70",
                    "Phone_and_GPS": "47",
                    "Kids": "28",
                    "Accessories_count": "241",
                    "Entertainment_count": "46",
                    "Date": "2018-01-05",
                    "Mens": "30"
                  },
                  {
                    "Womens": "5",
                    "Gaming": "48",
                    "Phone_and_GPS": "62",
                    "Kids": "18",
                    "Accessories_count": "285",
                    "Entertainment_count": "78",
                    "Date": "2015-11-20",
                    "Mens": "74"
                  },
                  {
                    "Womens": "73",
                    "Gaming": "76",
                    "Phone_and_GPS": "71",
                    "Kids": "8",
                    "Accessories_count": "295",
                    "Entertainment_count": "48",
                    "Date": "2019-11-19",
                    "Mens": "19"
                  },
                  {
                    "Womens": "47",
                    "Gaming": "81",
                    "Phone_and_GPS": "47",
                    "Kids": "27",
                    "Accessories_count": "390",
                    "Entertainment_count": "95",
                    "Date": "2018-07-15",
                    "Mens": "93"
                  },
                  {
                    "Womens": "49",
                    "Gaming": "81",
                    "Phone_and_GPS": "1",
                    "Kids": "45",
                    "Accessories_count": "346",
                    "Entertainment_count": "89",
                    "Date": "2015-03-09",
                    "Mens": "81"
                  },
                  {
                    "Womens": "7",
                    "Gaming": "94",
                    "Phone_and_GPS": "8",
                    "Kids": "19",
                    "Accessories_count": "281",
                    "Entertainment_count": "84",
                    "Date": "2015-12-30",
                    "Mens": "69"
                  },
                  {
                    "Womens": "38",
                    "Gaming": "44",
                    "Phone_and_GPS": "25",
                    "Kids": "85",
                    "Accessories_count": "208",
                    "Entertainment_count": "13",
                    "Date": "2016-01-08",
                    "Mens": "3"
                  },
                  {
                    "Womens": "27",
                    "Gaming": "29",
                    "Phone_and_GPS": "36",
                    "Kids": "53",
                    "Accessories_count": "233",
                    "Entertainment_count": "27",
                    "Date": "2015-06-06",
                    "Mens": "61"
                  },
                  {
                    "Womens": "20",
                    "Gaming": "18",
                    "Phone_and_GPS": "81",
                    "Kids": "95",
                    "Accessories_count": "247",
                    "Entertainment_count": "26",
                    "Date": "2016-12-25",
                    "Mens": "7"
                  },
                  {
                    "Womens": "30",
                    "Gaming": "96",
                    "Phone_and_GPS": "78",
                    "Kids": "37",
                    "Accessories_count": "341",
                    "Entertainment_count": "80",
                    "Date": "2019-12-14",
                    "Mens": "20"
                  },
                  {
                    "Womens": "15",
                    "Gaming": "21",
                    "Phone_and_GPS": "34",
                    "Kids": "37",
                    "Accessories_count": "236",
                    "Entertainment_count": "99",
                    "Date": "2015-04-08",
                    "Mens": "30"
                  },
                  {
                    "Womens": "20",
                    "Gaming": "25",
                    "Phone_and_GPS": "23",
                    "Kids": "6",
                    "Accessories_count": "155",
                    "Entertainment_count": "21",
                    "Date": "2019-11-16",
                    "Mens": "60"
                  },
                  {
                    "Womens": "20",
                    "Gaming": "48",
                    "Phone_and_GPS": "75",
                    "Kids": "23",
                    "Accessories_count": "308",
                    "Entertainment_count": "99",
                    "Date": "2019-04-21",
                    "Mens": "43"
                  },
                  {
                    "Womens": "45",
                    "Gaming": "45",
                    "Phone_and_GPS": "47",
                    "Kids": "70",
                    "Accessories_count": "318",
                    "Entertainment_count": "26",
                    "Date": "2017-08-26",
                    "Mens": "85"
                  },
                  {
                    "Womens": "12",
                    "Gaming": "3",
                    "Phone_and_GPS": "93",
                    "Kids": "6",
                    "Accessories_count": "178",
                    "Entertainment_count": "62",
                    "Date": "2020-05-10",
                    "Mens": "2"
                  },
                  {
                    "Womens": "42",
                    "Gaming": "22",
                    "Phone_and_GPS": "3",
                    "Kids": "47",
                    "Accessories_count": "179",
                    "Entertainment_count": "10",
                    "Date": "2015-02-18",
                    "Mens": "55"
                  },
                  {
                    "Womens": "98",
                    "Gaming": "83",
                    "Phone_and_GPS": "93",
                    "Kids": "33",
                    "Accessories_count": "453",
                    "Entertainment_count": "69",
                    "Date": "2019-05-17",
                    "Mens": "77"
                  },
                  {
                    "Womens": "20",
                    "Gaming": "71",
                    "Phone_and_GPS": "77",
                    "Kids": "58",
                    "Accessories_count": "343",
                    "Entertainment_count": "81",
                    "Date": "2015-09-28",
                    "Mens": "36"
                  },
                  {
                    "Womens": "60",
                    "Gaming": "6",
                    "Phone_and_GPS": "45",
                    "Kids": "6",
                    "Accessories_count": "270",
                    "Entertainment_count": "58",
                    "Date": "2018-09-10",
                    "Mens": "95"
                  },
                  {
                    "Womens": "10",
                    "Gaming": "2",
                    "Phone_and_GPS": "22",
                    "Kids": "30",
                    "Accessories_count": "176",
                    "Entertainment_count": "40",
                    "Date": "2016-05-21",
                    "Mens": "72"
                  },
                  {
                    "Womens": "82",
                    "Gaming": "17",
                    "Phone_and_GPS": "91",
                    "Kids": "19",
                    "Accessories_count": "306",
                    "Entertainment_count": "88",
                    "Date": "2017-05-19",
                    "Mens": "9"
                  },
                  {
                    "Womens": "66",
                    "Gaming": "11",
                    "Phone_and_GPS": "53",
                    "Kids": "72",
                    "Accessories_count": "311",
                    "Entertainment_count": "28",
                    "Date": "2018-11-15",
                    "Mens": "81"
                  },
                  {
                    "Womens": "16",
                    "Gaming": "65",
                    "Phone_and_GPS": "73",
                    "Kids": "51",
                    "Accessories_count": "260",
                    "Entertainment_count": "6",
                    "Date": "2019-09-04",
                    "Mens": "49"
                  },
                  {
                    "Womens": "95",
                    "Gaming": "11",
                    "Phone_and_GPS": "10",
                    "Kids": "45",
                    "Accessories_count": "267",
                    "Entertainment_count": "18",
                    "Date": "2018-11-01",
                    "Mens": "88"
                  },
                  {
                    "Womens": "86",
                    "Gaming": "28",
                    "Phone_and_GPS": "87",
                    "Kids": "83",
                    "Accessories_count": "340",
                    "Entertainment_count": "5",
                    "Date": "2017-11-23",
                    "Mens": "51"
                  },
                  {
                    "Womens": "56",
                    "Gaming": "45",
                    "Phone_and_GPS": "32",
                    "Kids": "18",
                    "Accessories_count": "233",
                    "Entertainment_count": "7",
                    "Date": "2015-09-06",
                    "Mens": "75"
                  },
                  {
                    "Womens": "52",
                    "Gaming": "89",
                    "Phone_and_GPS": "0",
                    "Kids": "34",
                    "Accessories_count": "243",
                    "Entertainment_count": "36",
                    "Date": "2019-08-16",
                    "Mens": "32"
                  },
                  {
                    "Womens": "14",
                    "Gaming": "96",
                    "Phone_and_GPS": "72",
                    "Kids": "16",
                    "Accessories_count": "282",
                    "Entertainment_count": "73",
                    "Date": "2017-08-15",
                    "Mens": "11"
                  },
                  {
                    "Womens": "97",
                    "Gaming": "78",
                    "Phone_and_GPS": "23",
                    "Kids": "66",
                    "Accessories_count": "371",
                    "Entertainment_count": "65",
                    "Date": "2018-01-24",
                    "Mens": "42"
                  },
                  {
                    "Womens": "31",
                    "Gaming": "29",
                    "Phone_and_GPS": "38",
                    "Kids": "21",
                    "Accessories_count": "249",
                    "Entertainment_count": "79",
                    "Date": "2019-03-22",
                    "Mens": "51"
                  },
                  {
                    "Womens": "61",
                    "Gaming": "41",
                    "Phone_and_GPS": "31",
                    "Kids": "2",
                    "Accessories_count": "295",
                    "Entertainment_count": "94",
                    "Date": "2016-05-02",
                    "Mens": "66"
                  },
                  {
                    "Womens": "53",
                    "Gaming": "4",
                    "Phone_and_GPS": "94",
                    "Kids": "43",
                    "Accessories_count": "260",
                    "Entertainment_count": "30",
                    "Date": "2020-09-09",
                    "Mens": "36"
                  },
                  {
                    "Womens": "9",
                    "Gaming": "89",
                    "Phone_and_GPS": "12",
                    "Kids": "90",
                    "Accessories_count": "321",
                    "Entertainment_count": "50",
                    "Date": "2020-09-11",
                    "Mens": "71"
                  },
                  {
                    "Womens": "73",
                    "Gaming": "72",
                    "Phone_and_GPS": "62",
                    "Kids": "31",
                    "Accessories_count": "378",
                    "Entertainment_count": "71",
                    "Date": "2017-06-15",
                    "Mens": "69"
                  },
                  {
                    "Womens": "29",
                    "Gaming": "35",
                    "Phone_and_GPS": "24",
                    "Kids": "24",
                    "Accessories_count": "191",
                    "Entertainment_count": "2",
                    "Date": "2015-03-14",
                    "Mens": "77"
                  },
                  {
                    "Womens": "76",
                    "Gaming": "46",
                    "Phone_and_GPS": "35",
                    "Kids": "48",
                    "Accessories_count": "335",
                    "Entertainment_count": "76",
                    "Date": "2019-04-23",
                    "Mens": "54"
                  },
                  {
                    "Womens": "28",
                    "Gaming": "85",
                    "Phone_and_GPS": "28",
                    "Kids": "40",
                    "Accessories_count": "276",
                    "Entertainment_count": "72",
                    "Date": "2020-06-05",
                    "Mens": "23"
                  },
                  {
                    "Womens": "47",
                    "Gaming": "55",
                    "Phone_and_GPS": "68",
                    "Kids": "91",
                    "Accessories_count": "269",
                    "Entertainment_count": "7",
                    "Date": "2017-07-09",
                    "Mens": "1"
                  },
                  {
                    "Womens": "45",
                    "Gaming": "34",
                    "Phone_and_GPS": "97",
                    "Kids": "11",
                    "Accessories_count": "284",
                    "Entertainment_count": "25",
                    "Date": "2016-01-03",
                    "Mens": "72"
                  },
                  {
                    "Womens": "44",
                    "Gaming": "60",
                    "Phone_and_GPS": "66",
                    "Kids": "8",
                    "Accessories_count": "297",
                    "Entertainment_count": "31",
                    "Date": "2019-01-21",
                    "Mens": "88"
                  },
                  {
                    "Womens": "60",
                    "Gaming": "1",
                    "Phone_and_GPS": "46",
                    "Kids": "83",
                    "Accessories_count": "320",
                    "Entertainment_count": "59",
                    "Date": "2018-07-29",
                    "Mens": "71"
                  },
                  {
                    "Womens": "31",
                    "Gaming": "59",
                    "Phone_and_GPS": "79",
                    "Kids": "30",
                    "Accessories_count": "387",
                    "Entertainment_count": "97",
                    "Date": "2016-11-05",
                    "Mens": "91"
                  },
                  {
                    "Womens": "65",
                    "Gaming": "85",
                    "Phone_and_GPS": "73",
                    "Kids": "13",
                    "Accessories_count": "258",
                    "Entertainment_count": "1",
                    "Date": "2018-09-01",
                    "Mens": "21"
                  },
                  {
                    "Womens": "6",
                    "Gaming": "25",
                    "Phone_and_GPS": "7",
                    "Kids": "88",
                    "Accessories_count": "284",
                    "Entertainment_count": "59",
                    "Date": "2016-06-01",
                    "Mens": "99"
                  },
                  {
                    "Womens": "4",
                    "Gaming": "27",
                    "Phone_and_GPS": "83",
                    "Kids": "21",
                    "Accessories_count": "240",
                    "Entertainment_count": "40",
                    "Date": "2017-01-08",
                    "Mens": "65"
                  },
                  {
                    "Womens": "49",
                    "Gaming": "28",
                    "Phone_and_GPS": "77",
                    "Kids": "93",
                    "Accessories_count": "302",
                    "Entertainment_count": "47",
                    "Date": "2016-07-20",
                    "Mens": "8"
                  },
                  {
                    "Womens": "25",
                    "Gaming": "54",
                    "Phone_and_GPS": "5",
                    "Kids": "23",
                    "Accessories_count": "247",
                    "Entertainment_count": "78",
                    "Date": "2019-11-04",
                    "Mens": "62"
                  },
                  {
                    "Womens": "41",
                    "Gaming": "48",
                    "Phone_and_GPS": "52",
                    "Kids": "3",
                    "Accessories_count": "222",
                    "Entertainment_count": "38",
                    "Date": "2019-11-13",
                    "Mens": "40"
                  },
                  {
                    "Womens": "53",
                    "Gaming": "39",
                    "Phone_and_GPS": "48",
                    "Kids": "54",
                    "Accessories_count": "253",
                    "Entertainment_count": "24",
                    "Date": "2018-01-05",
                    "Mens": "35"
                  },
                  {
                    "Womens": "8",
                    "Gaming": "91",
                    "Phone_and_GPS": "72",
                    "Kids": "21",
                    "Accessories_count": "343",
                    "Entertainment_count": "83",
                    "Date": "2016-07-22",
                    "Mens": "68"
                  },
                  {
                    "Womens": "63",
                    "Gaming": "19",
                    "Phone_and_GPS": "90",
                    "Kids": "64",
                    "Accessories_count": "254",
                    "Entertainment_count": "5",
                    "Date": "2019-02-05",
                    "Mens": "13"
                  },
                  {
                    "Womens": "75",
                    "Gaming": "15",
                    "Phone_and_GPS": "79",
                    "Kids": "5",
                    "Accessories_count": "247",
                    "Entertainment_count": "38",
                    "Date": "2015-11-14",
                    "Mens": "35"
                  },
                  {
                    "Womens": "99",
                    "Gaming": "33",
                    "Phone_and_GPS": "41",
                    "Kids": "2",
                    "Accessories_count": "226",
                    "Entertainment_count": "30",
                    "Date": "2016-06-12",
                    "Mens": "21"
                  },
                  {
                    "Womens": "51",
                    "Gaming": "44",
                    "Phone_and_GPS": "91",
                    "Kids": "87",
                    "Accessories_count": "285",
                    "Entertainment_count": "4",
                    "Date": "2015-04-21",
                    "Mens": "8"
                  },
                  {
                    "Womens": "43",
                    "Gaming": "21",
                    "Phone_and_GPS": "13",
                    "Kids": "51",
                    "Accessories_count": "262",
                    "Entertainment_count": "41",
                    "Date": "2017-10-15",
                    "Mens": "93"
                  },
                  {
                    "Womens": "27",
                    "Gaming": "89",
                    "Phone_and_GPS": "6",
                    "Kids": "96",
                    "Accessories_count": "256",
                    "Entertainment_count": "24",
                    "Date": "2018-09-23",
                    "Mens": "14"
                  },
                  {
                    "Womens": "62",
                    "Gaming": "36",
                    "Phone_and_GPS": "5",
                    "Kids": "74",
                    "Accessories_count": "281",
                    "Entertainment_count": "93",
                    "Date": "2018-04-26",
                    "Mens": "11"
                  },
                  {
                    "Womens": "90",
                    "Gaming": "78",
                    "Phone_and_GPS": "20",
                    "Kids": "23",
                    "Accessories_count": "300",
                    "Entertainment_count": "46",
                    "Date": "2017-03-02",
                    "Mens": "43"
                  },
                  {
                    "Womens": "1",
                    "Gaming": "53",
                    "Phone_and_GPS": "39",
                    "Kids": "57",
                    "Accessories_count": "261",
                    "Entertainment_count": "73",
                    "Date": "2015-05-02",
                    "Mens": "38"
                  },
                  {
                    "Womens": "98",
                    "Gaming": "67",
                    "Phone_and_GPS": "63",
                    "Kids": "86",
                    "Accessories_count": "469",
                    "Entertainment_count": "96",
                    "Date": "2015-05-28",
                    "Mens": "59"
                  },
                  {
                    "Womens": "13",
                    "Gaming": "72",
                    "Phone_and_GPS": "6",
                    "Kids": "7",
                    "Accessories_count": "229",
                    "Entertainment_count": "79",
                    "Date": "2015-03-30",
                    "Mens": "52"
                  },
                  {
                    "Womens": "54",
                    "Gaming": "91",
                    "Phone_and_GPS": "65",
                    "Kids": "53",
                    "Accessories_count": "445",
                    "Entertainment_count": "92",
                    "Date": "2016-05-20",
                    "Mens": "90"
                  },
                  {
                    "Womens": "1",
                    "Gaming": "40",
                    "Phone_and_GPS": "25",
                    "Kids": "99",
                    "Accessories_count": "255",
                    "Entertainment_count": "16",
                    "Date": "2019-01-05",
                    "Mens": "74"
                  },
                  {
                    "Womens": "12",
                    "Gaming": "45",
                    "Phone_and_GPS": "19",
                    "Kids": "15",
                    "Accessories_count": "263",
                    "Entertainment_count": "82",
                    "Date": "2019-06-26",
                    "Mens": "90"
                  },
                  {
                    "Womens": "76",
                    "Gaming": "97",
                    "Phone_and_GPS": "38",
                    "Kids": "3",
                    "Accessories_count": "318",
                    "Entertainment_count": "99",
                    "Date": "2017-01-15",
                    "Mens": "5"
                  },
                  {
                    "Womens": "30",
                    "Gaming": "5",
                    "Phone_and_GPS": "17",
                    "Kids": "7",
                    "Accessories_count": "198",
                    "Entertainment_count": "56",
                    "Date": "2019-02-22",
                    "Mens": "83"
                  },
                  {
                    "Womens": "5",
                    "Gaming": "37",
                    "Phone_and_GPS": "38",
                    "Kids": "10",
                    "Accessories_count": "145",
                    "Entertainment_count": "39",
                    "Date": "2016-03-28",
                    "Mens": "16"
                  },
                  {
                    "Womens": "3",
                    "Gaming": "84",
                    "Phone_and_GPS": "28",
                    "Kids": "72",
                    "Accessories_count": "380",
                    "Entertainment_count": "98",
                    "Date": "2016-12-04",
                    "Mens": "95"
                  },
                  {
                    "Womens": "51",
                    "Gaming": "42",
                    "Phone_and_GPS": "91",
                    "Kids": "95",
                    "Accessories_count": "418",
                    "Entertainment_count": "70",
                    "Date": "2019-06-24",
                    "Mens": "69"
                  },
                  {
                    "Womens": "14",
                    "Gaming": "45",
                    "Phone_and_GPS": "50",
                    "Kids": "65",
                    "Accessories_count": "216",
                    "Entertainment_count": "4",
                    "Date": "2019-11-03",
                    "Mens": "38"
                  },
                  {
                    "Womens": "14",
                    "Gaming": "71",
                    "Phone_and_GPS": "32",
                    "Kids": "84",
                    "Accessories_count": "310",
                    "Entertainment_count": "77",
                    "Date": "2019-11-25",
                    "Mens": "32"
                  },
                  {
                    "Womens": "49",
                    "Gaming": "93",
                    "Phone_and_GPS": "94",
                    "Kids": "31",
                    "Accessories_count": "364",
                    "Entertainment_count": "8",
                    "Date": "2019-07-06",
                    "Mens": "89"
                  },
                  {
                    "Womens": "87",
                    "Gaming": "14",
                    "Phone_and_GPS": "68",
                    "Kids": "52",
                    "Accessories_count": "355",
                    "Entertainment_count": "98",
                    "Date": "2015-04-09",
                    "Mens": "36"
                  },
                  {
                    "Womens": "24",
                    "Gaming": "2",
                    "Phone_and_GPS": "25",
                    "Kids": "45",
                    "Accessories_count": "212",
                    "Entertainment_count": "75",
                    "Date": "2015-12-23",
                    "Mens": "41"
                  },
                  {
                    "Womens": "31",
                    "Gaming": "77",
                    "Phone_and_GPS": "9",
                    "Kids": "11",
                    "Accessories_count": "260",
                    "Entertainment_count": "69",
                    "Date": "2016-09-04",
                    "Mens": "63"
                  },
                  {
                    "Womens": "90",
                    "Gaming": "15",
                    "Phone_and_GPS": "92",
                    "Kids": "44",
                    "Accessories_count": "365",
                    "Entertainment_count": "62",
                    "Date": "2016-05-12",
                    "Mens": "62"
                  },
                  {
                    "Womens": "9",
                    "Gaming": "61",
                    "Phone_and_GPS": "32",
                    "Kids": "75",
                    "Accessories_count": "264",
                    "Entertainment_count": "66",
                    "Date": "2018-12-09",
                    "Mens": "21"
                  },
                  {
                    "Womens": "94",
                    "Gaming": "20",
                    "Phone_and_GPS": "1",
                    "Kids": "94",
                    "Accessories_count": "286",
                    "Entertainment_count": "11",
                    "Date": "2018-03-05",
                    "Mens": "66"
                  },
                  {
                    "Womens": "35",
                    "Gaming": "92",
                    "Phone_and_GPS": "47",
                    "Kids": "10",
                    "Accessories_count": "317",
                    "Entertainment_count": "46",
                    "Date": "2020-12-02",
                    "Mens": "87"
                  },
                  {
                    "Womens": "26",
                    "Gaming": "76",
                    "Phone_and_GPS": "92",
                    "Kids": "70",
                    "Accessories_count": "417",
                    "Entertainment_count": "83",
                    "Date": "2019-03-07",
                    "Mens": "70"
                  },
                  {
                    "Womens": "97",
                    "Gaming": "91",
                    "Phone_and_GPS": "7",
                    "Kids": "31",
                    "Accessories_count": "319",
                    "Entertainment_count": "56",
                    "Date": "2016-12-06",
                    "Mens": "37"
                  },
                  {
                    "Womens": "43",
                    "Gaming": "20",
                    "Phone_and_GPS": "42",
                    "Kids": "44",
                    "Accessories_count": "266",
                    "Entertainment_count": "36",
                    "Date": "2019-02-18",
                    "Mens": "81"
                  },
                  {
                    "Womens": "21",
                    "Gaming": "33",
                    "Phone_and_GPS": "23",
                    "Kids": "2",
                    "Accessories_count": "201",
                    "Entertainment_count": "76",
                    "Date": "2015-01-29",
                    "Mens": "46"
                  },
                  {
                    "Womens": "20",
                    "Gaming": "5",
                    "Phone_and_GPS": "3",
                    "Kids": "71",
                    "Accessories_count": "282",
                    "Entertainment_count": "95",
                    "Date": "2016-06-21",
                    "Mens": "88"
                  },
                  {
                    "Womens": "9",
                    "Gaming": "61",
                    "Phone_and_GPS": "19",
                    "Kids": "86",
                    "Accessories_count": "269",
                    "Entertainment_count": "35",
                    "Date": "2019-10-17",
                    "Mens": "59"
                  },
                  {
                    "Womens": "67",
                    "Gaming": "41",
                    "Phone_and_GPS": "16",
                    "Kids": "71",
                    "Accessories_count": "257",
                    "Entertainment_count": "18",
                    "Date": "2020-05-07",
                    "Mens": "44"
                  },
                  {
                    "Womens": "70",
                    "Gaming": "86",
                    "Phone_and_GPS": "0",
                    "Kids": "77",
                    "Accessories_count": "378",
                    "Entertainment_count": "86",
                    "Date": "2020-08-31",
                    "Mens": "59"
                  },
                  {
                    "Womens": "64",
                    "Gaming": "90",
                    "Phone_and_GPS": "34",
                    "Kids": "43",
                    "Accessories_count": "400",
                    "Entertainment_count": "81",
                    "Date": "2017-08-23",
                    "Mens": "88"
                  },
                  {
                    "Womens": "66",
                    "Gaming": "91",
                    "Phone_and_GPS": "86",
                    "Kids": "86",
                    "Accessories_count": "468",
                    "Entertainment_count": "66",
                    "Date": "2017-04-12",
                    "Mens": "73"
                  },
                  {
                    "Womens": "20",
                    "Gaming": "30",
                    "Phone_and_GPS": "89",
                    "Kids": "11",
                    "Accessories_count": "268",
                    "Entertainment_count": "96",
                    "Date": "2016-05-26",
                    "Mens": "22"
                  },
                  {
                    "Womens": "98",
                    "Gaming": "15",
                    "Phone_and_GPS": "7",
                    "Kids": "58",
                    "Accessories_count": "239",
                    "Entertainment_count": "23",
                    "Date": "2017-09-22",
                    "Mens": "38"
                  },
                  {
                    "Womens": "87",
                    "Gaming": "45",
                    "Phone_and_GPS": "13",
                    "Kids": "6",
                    "Accessories_count": "192",
                    "Entertainment_count": "30",
                    "Date": "2017-11-02",
                    "Mens": "11"
                  },
                  {
                    "Womens": "98",
                    "Gaming": "68",
                    "Phone_and_GPS": "97",
                    "Kids": "2",
                    "Accessories_count": "356",
                    "Entertainment_count": "82",
                    "Date": "2017-06-25",
                    "Mens": "9"
                  },
                  {
                    "Womens": "27",
                    "Gaming": "81",
                    "Phone_and_GPS": "44",
                    "Kids": "47",
                    "Accessories_count": "333",
                    "Entertainment_count": "70",
                    "Date": "2018-01-27",
                    "Mens": "64"
                  },
                  {
                    "Womens": "16",
                    "Gaming": "84",
                    "Phone_and_GPS": "60",
                    "Kids": "12",
                    "Accessories_count": "304",
                    "Entertainment_count": "38",
                    "Date": "2020-06-14",
                    "Mens": "94"
                  },
                  {
                    "Womens": "27",
                    "Gaming": "15",
                    "Phone_and_GPS": "86",
                    "Kids": "61",
                    "Accessories_count": "262",
                    "Entertainment_count": "9",
                    "Date": "2020-04-26",
                    "Mens": "64"
                  },
                  {
                    "Womens": "47",
                    "Gaming": "77",
                    "Phone_and_GPS": "4",
                    "Kids": "86",
                    "Accessories_count": "343",
                    "Entertainment_count": "56",
                    "Date": "2019-02-18",
                    "Mens": "73"
                  },
                  {
                    "Womens": "31",
                    "Gaming": "2",
                    "Phone_and_GPS": "7",
                    "Kids": "9",
                    "Accessories_count": "85",
                    "Entertainment_count": "33",
                    "Date": "2015-11-15",
                    "Mens": "3"
                  },
                  {
                    "Womens": "1",
                    "Gaming": "68",
                    "Phone_and_GPS": "37",
                    "Kids": "80",
                    "Accessories_count": "249",
                    "Entertainment_count": "50",
                    "Date": "2015-04-20",
                    "Mens": "13"
                  },
                  {
                    "Womens": "24",
                    "Gaming": "96",
                    "Phone_and_GPS": "91",
                    "Kids": "64",
                    "Accessories_count": "391",
                    "Entertainment_count": "41",
                    "Date": "2015-11-13",
                    "Mens": "75"
                  },
                  {
                    "Womens": "72",
                    "Gaming": "97",
                    "Phone_and_GPS": "69",
                    "Kids": "26",
                    "Accessories_count": "306",
                    "Entertainment_count": "26",
                    "Date": "2020-06-06",
                    "Mens": "16"
                  },
                  {
                    "Womens": "70",
                    "Gaming": "63",
                    "Phone_and_GPS": "24",
                    "Kids": "76",
                    "Accessories_count": "372",
                    "Entertainment_count": "64",
                    "Date": "2018-11-06",
                    "Mens": "75"
                  },
                  {
                    "Womens": "35",
                    "Gaming": "61",
                    "Phone_and_GPS": "43",
                    "Kids": "7",
                    "Accessories_count": "237",
                    "Entertainment_count": "66",
                    "Date": "2015-05-22",
                    "Mens": "25"
                  },
                  {
                    "Womens": "68",
                    "Gaming": "38",
                    "Phone_and_GPS": "63",
                    "Kids": "5",
                    "Accessories_count": "284",
                    "Entertainment_count": "48",
                    "Date": "2018-09-01",
                    "Mens": "62"
                  },
                  {
                    "Womens": "37",
                    "Gaming": "19",
                    "Phone_and_GPS": "6",
                    "Kids": "51",
                    "Accessories_count": "208",
                    "Entertainment_count": "92",
                    "Date": "2015-02-05",
                    "Mens": "3"
                  },
                  {
                    "Womens": "3",
                    "Gaming": "28",
                    "Phone_and_GPS": "70",
                    "Kids": "47",
                    "Accessories_count": "293",
                    "Entertainment_count": "95",
                    "Date": "2020-08-16",
                    "Mens": "50"
                  },
                  {
                    "Womens": "47",
                    "Gaming": "28",
                    "Phone_and_GPS": "92",
                    "Kids": "68",
                    "Accessories_count": "363",
                    "Entertainment_count": "47",
                    "Date": "2018-12-27",
                    "Mens": "81"
                  },
                  {
                    "Womens": "95",
                    "Gaming": "44",
                    "Phone_and_GPS": "45",
                    "Kids": "42",
                    "Accessories_count": "237",
                    "Entertainment_count": "0",
                    "Date": "2015-08-07",
                    "Mens": "11"
                  },
                  {
                    "Womens": "60",
                    "Gaming": "16",
                    "Phone_and_GPS": "37",
                    "Kids": "81",
                    "Accessories_count": "328",
                    "Entertainment_count": "54",
                    "Date": "2019-01-17",
                    "Mens": "80"
                  },
                  {
                    "Womens": "71",
                    "Gaming": "8",
                    "Phone_and_GPS": "92",
                    "Kids": "68",
                    "Accessories_count": "331",
                    "Entertainment_count": "74",
                    "Date": "2018-04-19",
                    "Mens": "18"
                  },
                  {
                    "Womens": "15",
                    "Gaming": "76",
                    "Phone_and_GPS": "38",
                    "Kids": "52",
                    "Accessories_count": "306",
                    "Entertainment_count": "63",
                    "Date": "2016-08-19",
                    "Mens": "62"
                  },
                  {
                    "Womens": "73",
                    "Gaming": "90",
                    "Phone_and_GPS": "33",
                    "Kids": "96",
                    "Accessories_count": "375",
                    "Entertainment_count": "9",
                    "Date": "2017-10-14",
                    "Mens": "74"
                  },
                  {
                    "Womens": "84",
                    "Gaming": "91",
                    "Phone_and_GPS": "60",
                    "Kids": "20",
                    "Accessories_count": "272",
                    "Entertainment_count": "16",
                    "Date": "2020-01-21",
                    "Mens": "1"
                  },
                  {
                    "Womens": "21",
                    "Gaming": "1",
                    "Phone_and_GPS": "77",
                    "Kids": "75",
                    "Accessories_count": "311",
                    "Entertainment_count": "97",
                    "Date": "2018-07-31",
                    "Mens": "40"
                  },
                  {
                    "Womens": "45",
                    "Gaming": "51",
                    "Phone_and_GPS": "6",
                    "Kids": "97",
                    "Accessories_count": "291",
                    "Entertainment_count": "17",
                    "Date": "2018-01-27",
                    "Mens": "75"
                  },
                  {
                    "Womens": "3",
                    "Gaming": "28",
                    "Phone_and_GPS": "13",
                    "Kids": "83",
                    "Accessories_count": "227",
                    "Entertainment_count": "49",
                    "Date": "2020-12-24",
                    "Mens": "51"
                  },
                  {
                    "Womens": "3",
                    "Gaming": "23",
                    "Phone_and_GPS": "48",
                    "Kids": "35",
                    "Accessories_count": "179",
                    "Entertainment_count": "31",
                    "Date": "2018-11-30",
                    "Mens": "39"
                  },
                  {
                    "Womens": "98",
                    "Gaming": "45",
                    "Phone_and_GPS": "66",
                    "Kids": "85",
                    "Accessories_count": "462",
                    "Entertainment_count": "86",
                    "Date": "2018-05-31",
                    "Mens": "82"
                  },
                  {
                    "Womens": "42",
                    "Gaming": "10",
                    "Phone_and_GPS": "68",
                    "Kids": "75",
                    "Accessories_count": "301",
                    "Entertainment_count": "76",
                    "Date": "2018-04-25",
                    "Mens": "30"
                  },
                  {
                    "Womens": "0",
                    "Gaming": "47",
                    "Phone_and_GPS": "23",
                    "Kids": "57",
                    "Accessories_count": "234",
                    "Entertainment_count": "23",
                    "Date": "2020-06-27",
                    "Mens": "84"
                  },
                  {
                    "Womens": "74",
                    "Gaming": "11",
                    "Phone_and_GPS": "80",
                    "Kids": "10",
                    "Accessories_count": "243",
                    "Entertainment_count": "52",
                    "Date": "2018-11-28",
                    "Mens": "16"
                  },
                  {
                    "Womens": "83",
                    "Gaming": "62",
                    "Phone_and_GPS": "33",
                    "Kids": "76",
                    "Accessories_count": "342",
                    "Entertainment_count": "36",
                    "Date": "2018-07-11",
                    "Mens": "52"
                  },
                  {
                    "Womens": "77",
                    "Gaming": "51",
                    "Phone_and_GPS": "31",
                    "Kids": "18",
                    "Accessories_count": "307",
                    "Entertainment_count": "97",
                    "Date": "2018-01-04",
                    "Mens": "33"
                  },
                  {
                    "Womens": "38",
                    "Gaming": "34",
                    "Phone_and_GPS": "47",
                    "Kids": "22",
                    "Accessories_count": "211",
                    "Entertainment_count": "3",
                    "Date": "2016-01-02",
                    "Mens": "67"
                  },
                  {
                    "Womens": "54",
                    "Gaming": "39",
                    "Phone_and_GPS": "0",
                    "Kids": "8",
                    "Accessories_count": "154",
                    "Entertainment_count": "22",
                    "Date": "2017-11-08",
                    "Mens": "31"
                  },
                  {
                    "Womens": "56",
                    "Gaming": "12",
                    "Phone_and_GPS": "14",
                    "Kids": "2",
                    "Accessories_count": "141",
                    "Entertainment_count": "5",
                    "Date": "2017-11-02",
                    "Mens": "52"
                  },
                  {
                    "Womens": "29",
                    "Gaming": "39",
                    "Phone_and_GPS": "93",
                    "Kids": "2",
                    "Accessories_count": "247",
                    "Entertainment_count": "3",
                    "Date": "2015-03-16",
                    "Mens": "81"
                  },
                  {
                    "Womens": "98",
                    "Gaming": "91",
                    "Phone_and_GPS": "26",
                    "Kids": "23",
                    "Accessories_count": "306",
                    "Entertainment_count": "29",
                    "Date": "2020-10-14",
                    "Mens": "39"
                  },
                  {
                    "Womens": "17",
                    "Gaming": "15",
                    "Phone_and_GPS": "19",
                    "Kids": "12",
                    "Accessories_count": "139",
                    "Entertainment_count": "55",
                    "Date": "2015-12-19",
                    "Mens": "21"
                  },
                  {
                    "Womens": "0",
                    "Gaming": "43",
                    "Phone_and_GPS": "76",
                    "Kids": "64",
                    "Accessories_count": "320",
                    "Entertainment_count": "73",
                    "Date": "2015-01-17",
                    "Mens": "64"
                  },
                  {
                    "Womens": "49",
                    "Gaming": "29",
                    "Phone_and_GPS": "99",
                    "Kids": "52",
                    "Accessories_count": "366",
                    "Entertainment_count": "67",
                    "Date": "2015-01-29",
                    "Mens": "70"
                  },
                  {
                    "Womens": "23",
                    "Gaming": "99",
                    "Phone_and_GPS": "2",
                    "Kids": "82",
                    "Accessories_count": "344",
                    "Entertainment_count": "77",
                    "Date": "2015-10-11",
                    "Mens": "61"
                  },
                  {
                    "Womens": "78",
                    "Gaming": "57",
                    "Phone_and_GPS": "49",
                    "Kids": "18",
                    "Accessories_count": "318",
                    "Entertainment_count": "55",
                    "Date": "2020-09-13",
                    "Mens": "61"
                  },
                  {
                    "Womens": "8",
                    "Gaming": "55",
                    "Phone_and_GPS": "54",
                    "Kids": "30",
                    "Accessories_count": "208",
                    "Entertainment_count": "49",
                    "Date": "2016-06-13",
                    "Mens": "12"
                  },
                  {
                    "Womens": "80",
                    "Gaming": "66",
                    "Phone_and_GPS": "53",
                    "Kids": "18",
                    "Accessories_count": "255",
                    "Entertainment_count": "8",
                    "Date": "2020-11-05",
                    "Mens": "30"
                  },
                  {
                    "Womens": "57",
                    "Gaming": "15",
                    "Phone_and_GPS": "18",
                    "Kids": "64",
                    "Accessories_count": "253",
                    "Entertainment_count": "25",
                    "Date": "2020-02-23",
                    "Mens": "74"
                  },
                  {
                    "Womens": "10",
                    "Gaming": "6",
                    "Phone_and_GPS": "68",
                    "Kids": "40",
                    "Accessories_count": "201",
                    "Entertainment_count": "59",
                    "Date": "2019-02-21",
                    "Mens": "18"
                  },
                  {
                    "Womens": "39",
                    "Gaming": "80",
                    "Phone_and_GPS": "92",
                    "Kids": "23",
                    "Accessories_count": "393",
                    "Entertainment_count": "86",
                    "Date": "2016-03-19",
                    "Mens": "73"
                  },
                  {
                    "Womens": "28",
                    "Gaming": "45",
                    "Phone_and_GPS": "77",
                    "Kids": "23",
                    "Accessories_count": "266",
                    "Entertainment_count": "52",
                    "Date": "2016-06-20",
                    "Mens": "41"
                  },
                  {
                    "Womens": "69",
                    "Gaming": "53",
                    "Phone_and_GPS": "9",
                    "Kids": "58",
                    "Accessories_count": "240",
                    "Entertainment_count": "33",
                    "Date": "2015-12-18",
                    "Mens": "18"
                  },
                  {
                    "Womens": "99",
                    "Gaming": "2",
                    "Phone_and_GPS": "18",
                    "Kids": "2",
                    "Accessories_count": "219",
                    "Entertainment_count": "45",
                    "Date": "2016-05-31",
                    "Mens": "53"
                  },
                  {
                    "Womens": "17",
                    "Gaming": "79",
                    "Phone_and_GPS": "65",
                    "Kids": "18",
                    "Accessories_count": "264",
                    "Entertainment_count": "12",
                    "Date": "2016-06-28",
                    "Mens": "73"
                  },
                  {
                    "Womens": "8",
                    "Gaming": "89",
                    "Phone_and_GPS": "44",
                    "Kids": "98",
                    "Accessories_count": "319",
                    "Entertainment_count": "29",
                    "Date": "2019-10-10",
                    "Mens": "51"
                  },
                  {
                    "Womens": "76",
                    "Gaming": "52",
                    "Phone_and_GPS": "80",
                    "Kids": "33",
                    "Accessories_count": "359",
                    "Entertainment_count": "50",
                    "Date": "2017-02-10",
                    "Mens": "68"
                  },
                  {
                    "Womens": "48",
                    "Gaming": "30",
                    "Phone_and_GPS": "68",
                    "Kids": "17",
                    "Accessories_count": "231",
                    "Entertainment_count": "46",
                    "Date": "2019-02-27",
                    "Mens": "22"
                  },
                  {
                    "Womens": "99",
                    "Gaming": "69",
                    "Phone_and_GPS": "4",
                    "Kids": "86",
                    "Accessories_count": "374",
                    "Entertainment_count": "22",
                    "Date": "2018-07-07",
                    "Mens": "94"
                  },
                  {
                    "Womens": "63",
                    "Gaming": "14",
                    "Phone_and_GPS": "4",
                    "Kids": "43",
                    "Accessories_count": "232",
                    "Entertainment_count": "20",
                    "Date": "2018-03-18",
                    "Mens": "88"
                  },
                  {
                    "Womens": "51",
                    "Gaming": "40",
                    "Phone_and_GPS": "66",
                    "Kids": "83",
                    "Accessories_count": "305",
                    "Entertainment_count": "6",
                    "Date": "2016-02-07",
                    "Mens": "59"
                  },
                  {
                    "Womens": "40",
                    "Gaming": "98",
                    "Phone_and_GPS": "84",
                    "Kids": "97",
                    "Accessories_count": "458",
                    "Entertainment_count": "85",
                    "Date": "2016-08-09",
                    "Mens": "54"
                  },
                  {
                    "Womens": "31",
                    "Gaming": "40",
                    "Phone_and_GPS": "50",
                    "Kids": "3",
                    "Accessories_count": "227",
                    "Entertainment_count": "75",
                    "Date": "2020-09-16",
                    "Mens": "28"
                  },
                  {
                    "Womens": "4",
                    "Gaming": "37",
                    "Phone_and_GPS": "52",
                    "Kids": "36",
                    "Accessories_count": "186",
                    "Entertainment_count": "18",
                    "Date": "2020-08-11",
                    "Mens": "39"
                  },
                  {
                    "Womens": "57",
                    "Gaming": "10",
                    "Phone_and_GPS": "39",
                    "Kids": "81",
                    "Accessories_count": "294",
                    "Entertainment_count": "97",
                    "Date": "2016-10-19",
                    "Mens": "10"
                  },
                  {
                    "Womens": "37",
                    "Gaming": "19",
                    "Phone_and_GPS": "91",
                    "Kids": "42",
                    "Accessories_count": "288",
                    "Entertainment_count": "53",
                    "Date": "2020-07-27",
                    "Mens": "46"
                  },
                  {
                    "Womens": "27",
                    "Gaming": "41",
                    "Phone_and_GPS": "67",
                    "Kids": "90",
                    "Accessories_count": "282",
                    "Entertainment_count": "1",
                    "Date": "2019-02-28",
                    "Mens": "56"
                  },
                  {
                    "Womens": "78",
                    "Gaming": "55",
                    "Phone_and_GPS": "44",
                    "Kids": "13",
                    "Accessories_count": "283",
                    "Entertainment_count": "14",
                    "Date": "2020-03-14",
                    "Mens": "79"
                  },
                  {
                    "Womens": "39",
                    "Gaming": "34",
                    "Phone_and_GPS": "68",
                    "Kids": "1",
                    "Accessories_count": "231",
                    "Entertainment_count": "37",
                    "Date": "2018-12-21",
                    "Mens": "52"
                  },
                  {
                    "Womens": "65",
                    "Gaming": "21",
                    "Phone_and_GPS": "51",
                    "Kids": "20",
                    "Accessories_count": "281",
                    "Entertainment_count": "41",
                    "Date": "2020-09-27",
                    "Mens": "83"
                  },
                  {
                    "Womens": "39",
                    "Gaming": "90",
                    "Phone_and_GPS": "52",
                    "Kids": "65",
                    "Accessories_count": "358",
                    "Entertainment_count": "93",
                    "Date": "2018-04-28",
                    "Mens": "19"
                  },
                  {
                    "Womens": "43",
                    "Gaming": "60",
                    "Phone_and_GPS": "84",
                    "Kids": "74",
                    "Accessories_count": "315",
                    "Entertainment_count": "7",
                    "Date": "2019-01-10",
                    "Mens": "47"
                  },
                  {
                    "Womens": "47",
                    "Gaming": "96",
                    "Phone_and_GPS": "29",
                    "Kids": "12",
                    "Accessories_count": "243",
                    "Entertainment_count": "40",
                    "Date": "2019-04-12",
                    "Mens": "19"
                  },
                  {
                    "Womens": "16",
                    "Gaming": "42",
                    "Phone_and_GPS": "45",
                    "Kids": "18",
                    "Accessories_count": "225",
                    "Entertainment_count": "58",
                    "Date": "2020-02-17",
                    "Mens": "46"
                  },
                  {
                    "Womens": "95",
                    "Gaming": "62",
                    "Phone_and_GPS": "96",
                    "Kids": "81",
                    "Accessories_count": "411",
                    "Entertainment_count": "44",
                    "Date": "2018-11-18",
                    "Mens": "33"
                  },
                  {
                    "Womens": "11",
                    "Gaming": "68",
                    "Phone_and_GPS": "30",
                    "Kids": "52",
                    "Accessories_count": "308",
                    "Entertainment_count": "95",
                    "Date": "2018-07-24",
                    "Mens": "52"
                  },
                  {
                    "Womens": "87",
                    "Gaming": "27",
                    "Phone_and_GPS": "53",
                    "Kids": "86",
                    "Accessories_count": "330",
                    "Entertainment_count": "52",
                    "Date": "2016-08-17",
                    "Mens": "25"
                  },
                  {
                    "Womens": "61",
                    "Gaming": "77",
                    "Phone_and_GPS": "7",
                    "Kids": "22",
                    "Accessories_count": "232",
                    "Entertainment_count": "56",
                    "Date": "2018-04-20",
                    "Mens": "9"
                  },
                  {
                    "Womens": "29",
                    "Gaming": "77",
                    "Phone_and_GPS": "9",
                    "Kids": "74",
                    "Accessories_count": "214",
                    "Entertainment_count": "12",
                    "Date": "2017-09-24",
                    "Mens": "13"
                  },
                  {
                    "Womens": "63",
                    "Gaming": "46",
                    "Phone_and_GPS": "56",
                    "Kids": "27",
                    "Accessories_count": "246",
                    "Entertainment_count": "36",
                    "Date": "2019-10-30",
                    "Mens": "18"
                  },
                  {
                    "Womens": "12",
                    "Gaming": "57",
                    "Phone_and_GPS": "77",
                    "Kids": "12",
                    "Accessories_count": "285",
                    "Entertainment_count": "39",
                    "Date": "2018-04-23",
                    "Mens": "88"
                  },
                  {
                    "Womens": "36",
                    "Gaming": "20",
                    "Phone_and_GPS": "95",
                    "Kids": "72",
                    "Accessories_count": "287",
                    "Entertainment_count": "19",
                    "Date": "2019-11-13",
                    "Mens": "45"
                  },
                  {
                    "Womens": "42",
                    "Gaming": "39",
                    "Phone_and_GPS": "56",
                    "Kids": "56",
                    "Accessories_count": "318",
                    "Entertainment_count": "90",
                    "Date": "2015-11-05",
                    "Mens": "35"
                  },
                  {
                    "Womens": "62",
                    "Gaming": "11",
                    "Phone_and_GPS": "7",
                    "Kids": "64",
                    "Accessories_count": "338",
                    "Entertainment_count": "96",
                    "Date": "2019-10-01",
                    "Mens": "98"
                  },
                  {
                    "Womens": "13",
                    "Gaming": "19",
                    "Phone_and_GPS": "39",
                    "Kids": "21",
                    "Accessories_count": "141",
                    "Entertainment_count": "38",
                    "Date": "2018-11-03",
                    "Mens": "11"
                  },
                  {
                    "Womens": "64",
                    "Gaming": "68",
                    "Phone_and_GPS": "93",
                    "Kids": "17",
                    "Accessories_count": "342",
                    "Entertainment_count": "52",
                    "Date": "2016-02-13",
                    "Mens": "48"
                  },
                  {
                    "Womens": "89",
                    "Gaming": "21",
                    "Phone_and_GPS": "26",
                    "Kids": "82",
                    "Accessories_count": "342",
                    "Entertainment_count": "97",
                    "Date": "2016-03-18",
                    "Mens": "27"
                  },
                  {
                    "Womens": "72",
                    "Gaming": "66",
                    "Phone_and_GPS": "38",
                    "Kids": "65",
                    "Accessories_count": "365",
                    "Entertainment_count": "50",
                    "Date": "2016-01-19",
                    "Mens": "74"
                  },
                  {
                    "Womens": "33",
                    "Gaming": "65",
                    "Phone_and_GPS": "6",
                    "Kids": "2",
                    "Accessories_count": "168",
                    "Entertainment_count": "3",
                    "Date": "2016-10-29",
                    "Mens": "59"
                  },
                  {
                    "Womens": "26",
                    "Gaming": "82",
                    "Phone_and_GPS": "16",
                    "Kids": "40",
                    "Accessories_count": "290",
                    "Entertainment_count": "64",
                    "Date": "2019-10-02",
                    "Mens": "62"
                  },
                  {
                    "Womens": "34",
                    "Gaming": "54",
                    "Phone_and_GPS": "98",
                    "Kids": "44",
                    "Accessories_count": "285",
                    "Entertainment_count": "45",
                    "Date": "2020-08-14",
                    "Mens": "10"
                  },
                  {
                    "Womens": "31",
                    "Gaming": "62",
                    "Phone_and_GPS": "77",
                    "Kids": "51",
                    "Accessories_count": "329",
                    "Entertainment_count": "92",
                    "Date": "2019-02-15",
                    "Mens": "16"
                  },
                  {
                    "Womens": "56",
                    "Gaming": "85",
                    "Phone_and_GPS": "42",
                    "Kids": "49",
                    "Accessories_count": "323",
                    "Entertainment_count": "59",
                    "Date": "2019-05-16",
                    "Mens": "32"
                  },
                  {
                    "Womens": "63",
                    "Gaming": "5",
                    "Phone_and_GPS": "8",
                    "Kids": "86",
                    "Accessories_count": "217",
                    "Entertainment_count": "10",
                    "Date": "2015-02-28",
                    "Mens": "45"
                  },
                  {
                    "Womens": "67",
                    "Gaming": "3",
                    "Phone_and_GPS": "58",
                    "Kids": "29",
                    "Accessories_count": "202",
                    "Entertainment_count": "30",
                    "Date": "2018-04-13",
                    "Mens": "15"
                  },
                  {
                    "Womens": "96",
                    "Gaming": "4",
                    "Phone_and_GPS": "63",
                    "Kids": "91",
                    "Accessories_count": "341",
                    "Entertainment_count": "32",
                    "Date": "2015-11-28",
                    "Mens": "55"
                  },
                  {
                    "Womens": "29",
                    "Gaming": "47",
                    "Phone_and_GPS": "13",
                    "Kids": "91",
                    "Accessories_count": "329",
                    "Entertainment_count": "90",
                    "Date": "2018-01-25",
                    "Mens": "59"
                  },
                  {
                    "Womens": "38",
                    "Gaming": "80",
                    "Phone_and_GPS": "61",
                    "Kids": "80",
                    "Accessories_count": "294",
                    "Entertainment_count": "10",
                    "Date": "2020-04-16",
                    "Mens": "25"
                  },
                  {
                    "Womens": "56",
                    "Gaming": "12",
                    "Phone_and_GPS": "39",
                    "Kids": "59",
                    "Accessories_count": "272",
                    "Entertainment_count": "22",
                    "Date": "2019-11-08",
                    "Mens": "84"
                  },
                  {
                    "Womens": "89",
                    "Gaming": "80",
                    "Phone_and_GPS": "21",
                    "Kids": "37",
                    "Accessories_count": "342",
                    "Entertainment_count": "72",
                    "Date": "2016-05-19",
                    "Mens": "43"
                  },
                  {
                    "Womens": "31",
                    "Gaming": "90",
                    "Phone_and_GPS": "15",
                    "Kids": "66",
                    "Accessories_count": "316",
                    "Entertainment_count": "78",
                    "Date": "2015-06-21",
                    "Mens": "36"
                  },
                  {
                    "Womens": "99",
                    "Gaming": "24",
                    "Phone_and_GPS": "62",
                    "Kids": "19",
                    "Accessories_count": "332",
                    "Entertainment_count": "75",
                    "Date": "2016-03-26",
                    "Mens": "53"
                  },
                  {
                    "Womens": "81",
                    "Gaming": "8",
                    "Phone_and_GPS": "8",
                    "Kids": "75",
                    "Accessories_count": "267",
                    "Entertainment_count": "68",
                    "Date": "2015-12-07",
                    "Mens": "27"
                  },
                  {
                    "Womens": "75",
                    "Gaming": "8",
                    "Phone_and_GPS": "83",
                    "Kids": "70",
                    "Accessories_count": "286",
                    "Entertainment_count": "50",
                    "Date": "2017-09-05",
                    "Mens": "0"
                  },
                  {
                    "Womens": "66",
                    "Gaming": "2",
                    "Phone_and_GPS": "79",
                    "Kids": "71",
                    "Accessories_count": "247",
                    "Entertainment_count": "21",
                    "Date": "2015-02-19",
                    "Mens": "8"
                  },
                  {
                    "Womens": "97",
                    "Gaming": "2",
                    "Phone_and_GPS": "76",
                    "Kids": "14",
                    "Accessories_count": "284",
                    "Entertainment_count": "33",
                    "Date": "2016-07-20",
                    "Mens": "62"
                  },
                  {
                    "Womens": "2",
                    "Gaming": "27",
                    "Phone_and_GPS": "81",
                    "Kids": "36",
                    "Accessories_count": "253",
                    "Entertainment_count": "69",
                    "Date": "2019-04-09",
                    "Mens": "38"
                  },
                  {
                    "Womens": "11",
                    "Gaming": "82",
                    "Phone_and_GPS": "48",
                    "Kids": "24",
                    "Accessories_count": "282",
                    "Entertainment_count": "78",
                    "Date": "2020-05-17",
                    "Mens": "39"
                  },
                  {
                    "Womens": "75",
                    "Gaming": "18",
                    "Phone_and_GPS": "0",
                    "Kids": "6",
                    "Accessories_count": "156",
                    "Entertainment_count": "22",
                    "Date": "2018-07-13",
                    "Mens": "35"
                  },
                  {
                    "Womens": "85",
                    "Gaming": "76",
                    "Phone_and_GPS": "88",
                    "Kids": "27",
                    "Accessories_count": "369",
                    "Entertainment_count": "0",
                    "Date": "2016-12-07",
                    "Mens": "93"
                  },
                  {
                    "Womens": "55",
                    "Gaming": "26",
                    "Phone_and_GPS": "89",
                    "Kids": "48",
                    "Accessories_count": "319",
                    "Entertainment_count": "89",
                    "Date": "2018-07-09",
                    "Mens": "12"
                  },
                  {
                    "Womens": "56",
                    "Gaming": "34",
                    "Phone_and_GPS": "42",
                    "Kids": "50",
                    "Accessories_count": "273",
                    "Entertainment_count": "9",
                    "Date": "2015-11-27",
                    "Mens": "82"
                  },
                  {
                    "Womens": "63",
                    "Gaming": "54",
                    "Phone_and_GPS": "65",
                    "Kids": "74",
                    "Accessories_count": "386",
                    "Entertainment_count": "53",
                    "Date": "2017-03-25",
                    "Mens": "77"
                  },
                  {
                    "Womens": "43",
                    "Gaming": "12",
                    "Phone_and_GPS": "62",
                    "Kids": "22",
                    "Accessories_count": "206",
                    "Entertainment_count": "63",
                    "Date": "2015-10-08",
                    "Mens": "4"
                  },
                  {
                    "Womens": "38",
                    "Gaming": "98",
                    "Phone_and_GPS": "13",
                    "Kids": "18",
                    "Accessories_count": "228",
                    "Entertainment_count": "23",
                    "Date": "2020-04-26",
                    "Mens": "38"
                  },
                  {
                    "Womens": "53",
                    "Gaming": "66",
                    "Phone_and_GPS": "92",
                    "Kids": "93",
                    "Accessories_count": "352",
                    "Entertainment_count": "44",
                    "Date": "2020-02-10",
                    "Mens": "4"
                  },
                  {
                    "Womens": "29",
                    "Gaming": "87",
                    "Phone_and_GPS": "90",
                    "Kids": "6",
                    "Accessories_count": "329",
                    "Entertainment_count": "35",
                    "Date": "2016-05-01",
                    "Mens": "82"
                  },
                  {
                    "Womens": "82",
                    "Gaming": "5",
                    "Phone_and_GPS": "30",
                    "Kids": "30",
                    "Accessories_count": "193",
                    "Entertainment_count": "18",
                    "Date": "2017-11-28",
                    "Mens": "28"
                  },
                  {
                    "Womens": "28",
                    "Gaming": "99",
                    "Phone_and_GPS": "13",
                    "Kids": "16",
                    "Accessories_count": "246",
                    "Entertainment_count": "63",
                    "Date": "2020-04-19",
                    "Mens": "27"
                  },
                  {
                    "Womens": "12",
                    "Gaming": "82",
                    "Phone_and_GPS": "41",
                    "Kids": "8",
                    "Accessories_count": "234",
                    "Entertainment_count": "23",
                    "Date": "2018-05-07",
                    "Mens": "68"
                  },
                  {
                    "Womens": "79",
                    "Gaming": "10",
                    "Phone_and_GPS": "31",
                    "Kids": "67",
                    "Accessories_count": "288",
                    "Entertainment_count": "22",
                    "Date": "2016-09-28",
                    "Mens": "79"
                  },
                  {
                    "Womens": "69",
                    "Gaming": "61",
                    "Phone_and_GPS": "31",
                    "Kids": "61",
                    "Accessories_count": "282",
                    "Entertainment_count": "29",
                    "Date": "2019-04-27",
                    "Mens": "31"
                  },
                  {
                    "Womens": "72",
                    "Gaming": "18",
                    "Phone_and_GPS": "66",
                    "Kids": "1",
                    "Accessories_count": "271",
                    "Entertainment_count": "33",
                    "Date": "2019-07-06",
                    "Mens": "81"
                  },
                  {
                    "Womens": "23",
                    "Gaming": "41",
                    "Phone_and_GPS": "37",
                    "Kids": "78",
                    "Accessories_count": "194",
                    "Entertainment_count": "10",
                    "Date": "2018-04-22",
                    "Mens": "5"
                  },
                  {
                    "Womens": "78",
                    "Gaming": "62",
                    "Phone_and_GPS": "3",
                    "Kids": "27",
                    "Accessories_count": "307",
                    "Entertainment_count": "42",
                    "Date": "2017-05-10",
                    "Mens": "95"
                  },
                  {
                    "Womens": "91",
                    "Gaming": "99",
                    "Phone_and_GPS": "79",
                    "Kids": "32",
                    "Accessories_count": "338",
                    "Entertainment_count": "24",
                    "Date": "2019-12-12",
                    "Mens": "13"
                  },
                  {
                    "Womens": "94",
                    "Gaming": "62",
                    "Phone_and_GPS": "22",
                    "Kids": "17",
                    "Accessories_count": "220",
                    "Entertainment_count": "8",
                    "Date": "2015-05-15",
                    "Mens": "17"
                  },
                  {
                    "Womens": "23",
                    "Gaming": "19",
                    "Phone_and_GPS": "8",
                    "Kids": "21",
                    "Accessories_count": "173",
                    "Entertainment_count": "47",
                    "Date": "2018-07-19",
                    "Mens": "55"
                  },
                  {
                    "Womens": "53",
                    "Gaming": "42",
                    "Phone_and_GPS": "40",
                    "Kids": "41",
                    "Accessories_count": "261",
                    "Entertainment_count": "68",
                    "Date": "2017-05-18",
                    "Mens": "17"
                  },
                  {
                    "Womens": "46",
                    "Gaming": "96",
                    "Phone_and_GPS": "99",
                    "Kids": "78",
                    "Accessories_count": "360",
                    "Entertainment_count": "23",
                    "Date": "2018-11-19",
                    "Mens": "18"
                  },
                  {
                    "Womens": "39",
                    "Gaming": "86",
                    "Phone_and_GPS": "83",
                    "Kids": "0",
                    "Accessories_count": "357",
                    "Entertainment_count": "74",
                    "Date": "2016-04-17",
                    "Mens": "75"
                  },
                  {
                    "Womens": "40",
                    "Gaming": "41",
                    "Phone_and_GPS": "18",
                    "Kids": "5",
                    "Accessories_count": "244",
                    "Entertainment_count": "58",
                    "Date": "2017-06-07",
                    "Mens": "82"
                  },
                  {
                    "Womens": "26",
                    "Gaming": "54",
                    "Phone_and_GPS": "66",
                    "Kids": "83",
                    "Accessories_count": "306",
                    "Entertainment_count": "39",
                    "Date": "2020-12-17",
                    "Mens": "38"
                  },
                  {
                    "Womens": "14",
                    "Gaming": "14",
                    "Phone_and_GPS": "45",
                    "Kids": "70",
                    "Accessories_count": "301",
                    "Entertainment_count": "85",
                    "Date": "2015-06-22",
                    "Mens": "73"
                  },
                  {
                    "Womens": "53",
                    "Gaming": "54",
                    "Phone_and_GPS": "64",
                    "Kids": "0",
                    "Accessories_count": "241",
                    "Entertainment_count": "1",
                    "Date": "2020-03-12",
                    "Mens": "69"
                  },
                  {
                    "Womens": "43",
                    "Gaming": "21",
                    "Phone_and_GPS": "61",
                    "Kids": "38",
                    "Accessories_count": "244",
                    "Entertainment_count": "47",
                    "Date": "2015-06-04",
                    "Mens": "34"
                  },
                  {
                    "Womens": "74",
                    "Gaming": "76",
                    "Phone_and_GPS": "49",
                    "Kids": "38",
                    "Accessories_count": "316",
                    "Entertainment_count": "25",
                    "Date": "2015-11-30",
                    "Mens": "54"
                  },
                  {
                    "Womens": "37",
                    "Gaming": "58",
                    "Phone_and_GPS": "12",
                    "Kids": "57",
                    "Accessories_count": "269",
                    "Entertainment_count": "38",
                    "Date": "2018-10-04",
                    "Mens": "67"
                  },
                  {
                    "Womens": "96",
                    "Gaming": "76",
                    "Phone_and_GPS": "7",
                    "Kids": "95",
                    "Accessories_count": "334",
                    "Entertainment_count": "31",
                    "Date": "2017-03-25",
                    "Mens": "29"
                  },
                  {
                    "Womens": "32",
                    "Gaming": "80",
                    "Phone_and_GPS": "85",
                    "Kids": "70",
                    "Accessories_count": "312",
                    "Entertainment_count": "27",
                    "Date": "2017-08-03",
                    "Mens": "18"
                  },
                  {
                    "Womens": "39",
                    "Gaming": "42",
                    "Phone_and_GPS": "43",
                    "Kids": "8",
                    "Accessories_count": "298",
                    "Entertainment_count": "91",
                    "Date": "2020-09-24",
                    "Mens": "75"
                  },
                  {
                    "Womens": "57",
                    "Gaming": "38",
                    "Phone_and_GPS": "93",
                    "Kids": "37",
                    "Accessories_count": "383",
                    "Entertainment_count": "99",
                    "Date": "2015-06-08",
                    "Mens": "59"
                  },
                  {
                    "Womens": "39",
                    "Gaming": "55",
                    "Phone_and_GPS": "9",
                    "Kids": "7",
                    "Accessories_count": "140",
                    "Entertainment_count": "16",
                    "Date": "2015-12-06",
                    "Mens": "14"
                  },
                  {
                    "Womens": "35",
                    "Gaming": "7",
                    "Phone_and_GPS": "59",
                    "Kids": "49",
                    "Accessories_count": "236",
                    "Entertainment_count": "80",
                    "Date": "2016-09-18",
                    "Mens": "6"
                  },
                  {
                    "Womens": "57",
                    "Gaming": "19",
                    "Phone_and_GPS": "82",
                    "Kids": "12",
                    "Accessories_count": "284",
                    "Entertainment_count": "61",
                    "Date": "2019-02-11",
                    "Mens": "53"
                  },
                  {
                    "Womens": "12",
                    "Gaming": "90",
                    "Phone_and_GPS": "17",
                    "Kids": "91",
                    "Accessories_count": "257",
                    "Entertainment_count": "7",
                    "Date": "2016-05-02",
                    "Mens": "40"
                  },
                  {
                    "Womens": "93",
                    "Gaming": "45",
                    "Phone_and_GPS": "55",
                    "Kids": "50",
                    "Accessories_count": "298",
                    "Entertainment_count": "32",
                    "Date": "2016-01-14",
                    "Mens": "23"
                  },
                  {
                    "Womens": "68",
                    "Gaming": "85",
                    "Phone_and_GPS": "67",
                    "Kids": "70",
                    "Accessories_count": "471",
                    "Entertainment_count": "98",
                    "Date": "2020-09-25",
                    "Mens": "83"
                  },
                  {
                    "Womens": "72",
                    "Gaming": "81",
                    "Phone_and_GPS": "27",
                    "Kids": "7",
                    "Accessories_count": "281",
                    "Entertainment_count": "57",
                    "Date": "2020-08-27",
                    "Mens": "37"
                  },
                  {
                    "Womens": "47",
                    "Gaming": "62",
                    "Phone_and_GPS": "3",
                    "Kids": "97",
                    "Accessories_count": "316",
                    "Entertainment_count": "46",
                    "Date": "2015-12-06",
                    "Mens": "61"
                  },
                  {
                    "Womens": "21",
                    "Gaming": "76",
                    "Phone_and_GPS": "40",
                    "Kids": "67",
                    "Accessories_count": "277",
                    "Entertainment_count": "1",
                    "Date": "2020-04-14",
                    "Mens": "72"
                  },
                  {
                    "Womens": "70",
                    "Gaming": "48",
                    "Phone_and_GPS": "81",
                    "Kids": "59",
                    "Accessories_count": "297",
                    "Entertainment_count": "26",
                    "Date": "2016-04-09",
                    "Mens": "13"
                  },
                  {
                    "Womens": "28",
                    "Gaming": "96",
                    "Phone_and_GPS": "65",
                    "Kids": "49",
                    "Accessories_count": "321",
                    "Entertainment_count": "45",
                    "Date": "2016-03-04",
                    "Mens": "38"
                  },
                  {
                    "Womens": "49",
                    "Gaming": "28",
                    "Phone_and_GPS": "87",
                    "Kids": "96",
                    "Accessories_count": "367",
                    "Entertainment_count": "58",
                    "Date": "2016-12-13",
                    "Mens": "49"
                  },
                  {
                    "Womens": "46",
                    "Gaming": "2",
                    "Phone_and_GPS": "46",
                    "Kids": "65",
                    "Accessories_count": "179",
                    "Entertainment_count": "9",
                    "Date": "2016-12-10",
                    "Mens": "11"
                  },
                  {
                    "Womens": "66",
                    "Gaming": "56",
                    "Phone_and_GPS": "68",
                    "Kids": "78",
                    "Accessories_count": "405",
                    "Entertainment_count": "63",
                    "Date": "2016-07-16",
                    "Mens": "74"
                  },
                  {
                    "Womens": "57",
                    "Gaming": "22",
                    "Phone_and_GPS": "49",
                    "Kids": "15",
                    "Accessories_count": "253",
                    "Entertainment_count": "57",
                    "Date": "2019-09-06",
                    "Mens": "53"
                  },
                  {
                    "Womens": "45",
                    "Gaming": "34",
                    "Phone_and_GPS": "14",
                    "Kids": "98",
                    "Accessories_count": "312",
                    "Entertainment_count": "66",
                    "Date": "2015-06-22",
                    "Mens": "55"
                  },
                  {
                    "Womens": "90",
                    "Gaming": "99",
                    "Phone_and_GPS": "29",
                    "Kids": "73",
                    "Accessories_count": "346",
                    "Entertainment_count": "5",
                    "Date": "2015-03-10",
                    "Mens": "50"
                  },
                  {
                    "Womens": "87",
                    "Gaming": "99",
                    "Phone_and_GPS": "58",
                    "Kids": "9",
                    "Accessories_count": "419",
                    "Entertainment_count": "84",
                    "Date": "2016-12-30",
                    "Mens": "82"
                  },
                  {
                    "Womens": "89",
                    "Gaming": "78",
                    "Phone_and_GPS": "91",
                    "Kids": "13",
                    "Accessories_count": "403",
                    "Entertainment_count": "70",
                    "Date": "2018-06-07",
                    "Mens": "62"
                  },
                  {
                    "Womens": "57",
                    "Gaming": "64",
                    "Phone_and_GPS": "88",
                    "Kids": "65",
                    "Accessories_count": "317",
                    "Entertainment_count": "10",
                    "Date": "2017-02-26",
                    "Mens": "33"
                  },
                  {
                    "Womens": "98",
                    "Gaming": "69",
                    "Phone_and_GPS": "68",
                    "Kids": "25",
                    "Accessories_count": "434",
                    "Entertainment_count": "86",
                    "Date": "2017-01-11",
                    "Mens": "88"
                  },
                  {
                    "Womens": "33",
                    "Gaming": "37",
                    "Phone_and_GPS": "71",
                    "Kids": "83",
                    "Accessories_count": "316",
                    "Entertainment_count": "27",
                    "Date": "2015-12-13",
                    "Mens": "65"
                  },
                  {
                    "Womens": "19",
                    "Gaming": "75",
                    "Phone_and_GPS": "85",
                    "Kids": "37",
                    "Accessories_count": "343",
                    "Entertainment_count": "78",
                    "Date": "2018-01-15",
                    "Mens": "49"
                  },
                  {
                    "Womens": "49",
                    "Gaming": "90",
                    "Phone_and_GPS": "32",
                    "Kids": "52",
                    "Accessories_count": "284",
                    "Entertainment_count": "12",
                    "Date": "2015-09-24",
                    "Mens": "49"
                  },
                  {
                    "Womens": "15",
                    "Gaming": "2",
                    "Phone_and_GPS": "81",
                    "Kids": "29",
                    "Accessories_count": "304",
                    "Entertainment_count": "82",
                    "Date": "2017-03-17",
                    "Mens": "95"
                  },
                  {
                    "Womens": "61",
                    "Gaming": "48",
                    "Phone_and_GPS": "51",
                    "Kids": "9",
                    "Accessories_count": "305",
                    "Entertainment_count": "58",
                    "Date": "2020-08-26",
                    "Mens": "78"
                  },
                  {
                    "Womens": "16",
                    "Gaming": "79",
                    "Phone_and_GPS": "59",
                    "Kids": "94",
                    "Accessories_count": "364",
                    "Entertainment_count": "22",
                    "Date": "2015-02-15",
                    "Mens": "94"
                  },
                  {
                    "Womens": "83",
                    "Gaming": "3",
                    "Phone_and_GPS": "81",
                    "Kids": "18",
                    "Accessories_count": "261",
                    "Entertainment_count": "37",
                    "Date": "2019-10-19",
                    "Mens": "39"
                  },
                  {
                    "Womens": "60",
                    "Gaming": "73",
                    "Phone_and_GPS": "24",
                    "Kids": "34",
                    "Accessories_count": "268",
                    "Entertainment_count": "13",
                    "Date": "2019-07-20",
                    "Mens": "64"
                  },
                  {
                    "Womens": "48",
                    "Gaming": "25",
                    "Phone_and_GPS": "51",
                    "Kids": "51",
                    "Accessories_count": "333",
                    "Entertainment_count": "95",
                    "Date": "2017-07-08",
                    "Mens": "63"
                  },
                  {
                    "Womens": "99",
                    "Gaming": "89",
                    "Phone_and_GPS": "14",
                    "Kids": "17",
                    "Accessories_count": "241",
                    "Entertainment_count": "17",
                    "Date": "2016-02-11",
                    "Mens": "5"
                  },
                  {
                    "Womens": "65",
                    "Gaming": "28",
                    "Phone_and_GPS": "35",
                    "Kids": "47",
                    "Accessories_count": "324",
                    "Entertainment_count": "82",
                    "Date": "2017-07-10",
                    "Mens": "67"
                  },
                  {
                    "Womens": "31",
                    "Gaming": "68",
                    "Phone_and_GPS": "43",
                    "Kids": "93",
                    "Accessories_count": "324",
                    "Entertainment_count": "2",
                    "Date": "2017-09-16",
                    "Mens": "87"
                  },
                  {
                    "Womens": "27",
                    "Gaming": "63",
                    "Phone_and_GPS": "56",
                    "Kids": "26",
                    "Accessories_count": "240",
                    "Entertainment_count": "40",
                    "Date": "2016-12-25",
                    "Mens": "28"
                  },
                  {
                    "Womens": "48",
                    "Gaming": "64",
                    "Phone_and_GPS": "17",
                    "Kids": "28",
                    "Accessories_count": "186",
                    "Entertainment_count": "29",
                    "Date": "2016-07-19",
                    "Mens": "0"
                  },
                  {
                    "Womens": "1",
                    "Gaming": "80",
                    "Phone_and_GPS": "49",
                    "Kids": "89",
                    "Accessories_count": "325",
                    "Entertainment_count": "9",
                    "Date": "2015-03-04",
                    "Mens": "97"
                  },
                  {
                    "Womens": "38",
                    "Gaming": "30",
                    "Phone_and_GPS": "75",
                    "Kids": "17",
                    "Accessories_count": "281",
                    "Entertainment_count": "31",
                    "Date": "2019-08-21",
                    "Mens": "90"
                  },
                  {
                    "Womens": "54",
                    "Gaming": "89",
                    "Phone_and_GPS": "95",
                    "Kids": "53",
                    "Accessories_count": "313",
                    "Entertainment_count": "21",
                    "Date": "2017-06-27",
                    "Mens": "1"
                  },
                  {
                    "Womens": "42",
                    "Gaming": "10",
                    "Phone_and_GPS": "9",
                    "Kids": "48",
                    "Accessories_count": "140",
                    "Entertainment_count": "13",
                    "Date": "2016-09-24",
                    "Mens": "18"
                  },
                  {
                    "Womens": "81",
                    "Gaming": "3",
                    "Phone_and_GPS": "72",
                    "Kids": "98",
                    "Accessories_count": "301",
                    "Entertainment_count": "14",
                    "Date": "2018-02-23",
                    "Mens": "33"
                  },
                  {
                    "Womens": "61",
                    "Gaming": "31",
                    "Phone_and_GPS": "14",
                    "Kids": "94",
                    "Accessories_count": "328",
                    "Entertainment_count": "82",
                    "Date": "2016-01-18",
                    "Mens": "46"
                  },
                  {
                    "Womens": "6",
                    "Gaming": "90",
                    "Phone_and_GPS": "26",
                    "Kids": "63",
                    "Accessories_count": "297",
                    "Entertainment_count": "23",
                    "Date": "2020-10-13",
                    "Mens": "89"
                  },
                  {
                    "Womens": "88",
                    "Gaming": "32",
                    "Phone_and_GPS": "64",
                    "Kids": "19",
                    "Accessories_count": "322",
                    "Entertainment_count": "58",
                    "Date": "2020-03-25",
                    "Mens": "61"
                  },
                  {
                    "Womens": "48",
                    "Gaming": "53",
                    "Phone_and_GPS": "45",
                    "Kids": "64",
                    "Accessories_count": "261",
                    "Entertainment_count": "40",
                    "Date": "2016-08-17",
                    "Mens": "11"
                  },
                  {
                    "Womens": "45",
                    "Gaming": "61",
                    "Phone_and_GPS": "18",
                    "Kids": "74",
                    "Accessories_count": "352",
                    "Entertainment_count": "55",
                    "Date": "2015-07-20",
                    "Mens": "99"
                  },
                  {
                    "Womens": "64",
                    "Gaming": "43",
                    "Phone_and_GPS": "76",
                    "Kids": "31",
                    "Accessories_count": "308",
                    "Entertainment_count": "24",
                    "Date": "2016-06-16",
                    "Mens": "70"
                  },
                  {
                    "Womens": "27",
                    "Gaming": "49",
                    "Phone_and_GPS": "69",
                    "Kids": "8",
                    "Accessories_count": "183",
                    "Entertainment_count": "10",
                    "Date": "2019-08-27",
                    "Mens": "20"
                  },
                  {
                    "Womens": "80",
                    "Gaming": "81",
                    "Phone_and_GPS": "46",
                    "Kids": "39",
                    "Accessories_count": "346",
                    "Entertainment_count": "12",
                    "Date": "2020-07-27",
                    "Mens": "88"
                  },
                  {
                    "Womens": "86",
                    "Gaming": "55",
                    "Phone_and_GPS": "53",
                    "Kids": "33",
                    "Accessories_count": "300",
                    "Entertainment_count": "40",
                    "Date": "2019-10-11",
                    "Mens": "33"
                  },
                  {
                    "Womens": "99",
                    "Gaming": "20",
                    "Phone_and_GPS": "21",
                    "Kids": "92",
                    "Accessories_count": "335",
                    "Entertainment_count": "14",
                    "Date": "2017-09-29",
                    "Mens": "89"
                  },
                  {
                    "Womens": "5",
                    "Gaming": "8",
                    "Phone_and_GPS": "74",
                    "Kids": "60",
                    "Accessories_count": "277",
                    "Entertainment_count": "39",
                    "Date": "2016-06-22",
                    "Mens": "91"
                  },
                  {
                    "Womens": "23",
                    "Gaming": "69",
                    "Phone_and_GPS": "80",
                    "Kids": "40",
                    "Accessories_count": "227",
                    "Entertainment_count": "5",
                    "Date": "2015-11-06",
                    "Mens": "10"
                  },
                  {
                    "Womens": "38",
                    "Gaming": "67",
                    "Phone_and_GPS": "99",
                    "Kids": "47",
                    "Accessories_count": "335",
                    "Entertainment_count": "47",
                    "Date": "2020-08-14",
                    "Mens": "37"
                  },
                  {
                    "Womens": "52",
                    "Gaming": "63",
                    "Phone_and_GPS": "22",
                    "Kids": "99",
                    "Accessories_count": "289",
                    "Entertainment_count": "12",
                    "Date": "2018-09-15",
                    "Mens": "41"
                  },
                  {
                    "Womens": "27",
                    "Gaming": "25",
                    "Phone_and_GPS": "52",
                    "Kids": "52",
                    "Accessories_count": "246",
                    "Entertainment_count": "62",
                    "Date": "2020-04-08",
                    "Mens": "28"
                  },
                  {
                    "Womens": "3",
                    "Gaming": "71",
                    "Phone_and_GPS": "65",
                    "Kids": "90",
                    "Accessories_count": "354",
                    "Entertainment_count": "53",
                    "Date": "2016-07-04",
                    "Mens": "72"
                  },
                  {
                    "Womens": "82",
                    "Gaming": "47",
                    "Phone_and_GPS": "80",
                    "Kids": "82",
                    "Accessories_count": "349",
                    "Entertainment_count": "16",
                    "Date": "2017-01-15",
                    "Mens": "42"
                  },
                  {
                    "Womens": "95",
                    "Gaming": "62",
                    "Phone_and_GPS": "95",
                    "Kids": "53",
                    "Accessories_count": "402",
                    "Entertainment_count": "27",
                    "Date": "2016-01-01",
                    "Mens": "70"
                  },
                  {
                    "Womens": "22",
                    "Gaming": "32",
                    "Phone_and_GPS": "52",
                    "Kids": "0",
                    "Accessories_count": "284",
                    "Entertainment_count": "96",
                    "Date": "2017-06-03",
                    "Mens": "82"
                  },
                  {
                    "Womens": "94",
                    "Gaming": "48",
                    "Phone_and_GPS": "33",
                    "Kids": "49",
                    "Accessories_count": "316",
                    "Entertainment_count": "41",
                    "Date": "2018-07-24",
                    "Mens": "51"
                  },
                  {
                    "Womens": "49",
                    "Gaming": "14",
                    "Phone_and_GPS": "96",
                    "Kids": "49",
                    "Accessories_count": "309",
                    "Entertainment_count": "59",
                    "Date": "2017-04-12",
                    "Mens": "42"
                  },
                  {
                    "Womens": "28",
                    "Gaming": "94",
                    "Phone_and_GPS": "9",
                    "Kids": "8",
                    "Accessories_count": "326",
                    "Entertainment_count": "90",
                    "Date": "2017-08-24",
                    "Mens": "97"
                  },
                  {
                    "Womens": "25",
                    "Gaming": "25",
                    "Phone_and_GPS": "76",
                    "Kids": "93",
                    "Accessories_count": "289",
                    "Entertainment_count": "14",
                    "Date": "2020-11-12",
                    "Mens": "56"
                  },
                  {
                    "Womens": "62",
                    "Gaming": "18",
                    "Phone_and_GPS": "84",
                    "Kids": "70",
                    "Accessories_count": "328",
                    "Entertainment_count": "32",
                    "Date": "2015-05-10",
                    "Mens": "62"
                  },
                  {
                    "Womens": "97",
                    "Gaming": "96",
                    "Phone_and_GPS": "25",
                    "Kids": "33",
                    "Accessories_count": "276",
                    "Entertainment_count": "24",
                    "Date": "2018-06-11",
                    "Mens": "1"
                  },
                  {
                    "Womens": "38",
                    "Gaming": "54",
                    "Phone_and_GPS": "86",
                    "Kids": "26",
                    "Accessories_count": "343",
                    "Entertainment_count": "85",
                    "Date": "2016-05-02",
                    "Mens": "54"
                  },
                  {
                    "Womens": "89",
                    "Gaming": "31",
                    "Phone_and_GPS": "0",
                    "Kids": "24",
                    "Accessories_count": "218",
                    "Entertainment_count": "62",
                    "Date": "2015-04-12",
                    "Mens": "12"
                  },
                  {
                    "Womens": "26",
                    "Gaming": "28",
                    "Phone_and_GPS": "14",
                    "Kids": "8",
                    "Accessories_count": "175",
                    "Entertainment_count": "59",
                    "Date": "2016-01-21",
                    "Mens": "40"
                  },
                  {
                    "Womens": "52",
                    "Gaming": "94",
                    "Phone_and_GPS": "81",
                    "Kids": "22",
                    "Accessories_count": "351",
                    "Entertainment_count": "25",
                    "Date": "2020-10-18",
                    "Mens": "77"
                  },
                  {
                    "Womens": "48",
                    "Gaming": "51",
                    "Phone_and_GPS": "25",
                    "Kids": "93",
                    "Accessories_count": "254",
                    "Entertainment_count": "25",
                    "Date": "2015-08-20",
                    "Mens": "12"
                  },
                  {
                    "Womens": "58",
                    "Gaming": "50",
                    "Phone_and_GPS": "53",
                    "Kids": "3",
                    "Accessories_count": "272",
                    "Entertainment_count": "26",
                    "Date": "2019-04-23",
                    "Mens": "82"
                  },
                  {
                    "Womens": "74",
                    "Gaming": "74",
                    "Phone_and_GPS": "7",
                    "Kids": "29",
                    "Accessories_count": "187",
                    "Entertainment_count": "3",
                    "Date": "2020-01-10",
                    "Mens": "0"
                  },
                  {
                    "Womens": "36",
                    "Gaming": "15",
                    "Phone_and_GPS": "91",
                    "Kids": "76",
                    "Accessories_count": "362",
                    "Entertainment_count": "99",
                    "Date": "2019-10-31",
                    "Mens": "45"
                  },
                  {
                    "Womens": "60",
                    "Gaming": "89",
                    "Phone_and_GPS": "54",
                    "Kids": "13",
                    "Accessories_count": "373",
                    "Entertainment_count": "76",
                    "Date": "2018-06-24",
                    "Mens": "81"
                  },
                  {
                    "Womens": "28",
                    "Gaming": "70",
                    "Phone_and_GPS": "31",
                    "Kids": "65",
                    "Accessories_count": "259",
                    "Entertainment_count": "28",
                    "Date": "2016-04-12",
                    "Mens": "37"
                  },
                  {
                    "Womens": "10",
                    "Gaming": "64",
                    "Phone_and_GPS": "84",
                    "Kids": "1",
                    "Accessories_count": "291",
                    "Entertainment_count": "44",
                    "Date": "2016-09-05",
                    "Mens": "88"
                  },
                  {
                    "Womens": "88",
                    "Gaming": "24",
                    "Phone_and_GPS": "92",
                    "Kids": "21",
                    "Accessories_count": "324",
                    "Entertainment_count": "30",
                    "Date": "2020-12-13",
                    "Mens": "69"
                  },
                  {
                    "Womens": "52",
                    "Gaming": "91",
                    "Phone_and_GPS": "28",
                    "Kids": "57",
                    "Accessories_count": "275",
                    "Entertainment_count": "31",
                    "Date": "2015-11-28",
                    "Mens": "16"
                  },
                  {
                    "Womens": "88",
                    "Gaming": "55",
                    "Phone_and_GPS": "55",
                    "Kids": "88",
                    "Accessories_count": "328",
                    "Entertainment_count": "7",
                    "Date": "2018-09-08",
                    "Mens": "35"
                  },
                  {
                    "Womens": "83",
                    "Gaming": "65",
                    "Phone_and_GPS": "49",
                    "Kids": "20",
                    "Accessories_count": "298",
                    "Entertainment_count": "49",
                    "Date": "2017-09-16",
                    "Mens": "32"
                  },
                  {
                    "Womens": "67",
                    "Gaming": "93",
                    "Phone_and_GPS": "67",
                    "Kids": "16",
                    "Accessories_count": "368",
                    "Entertainment_count": "90",
                    "Date": "2015-01-18",
                    "Mens": "35"
                  },
                  {
                    "Womens": "1",
                    "Gaming": "9",
                    "Phone_and_GPS": "44",
                    "Kids": "16",
                    "Accessories_count": "137",
                    "Entertainment_count": "7",
                    "Date": "2017-12-21",
                    "Mens": "60"
                  },
                  {
                    "Womens": "87",
                    "Gaming": "79",
                    "Phone_and_GPS": "5",
                    "Kids": "2",
                    "Accessories_count": "345",
                    "Entertainment_count": "96",
                    "Date": "2019-06-09",
                    "Mens": "76"
                  },
                  {
                    "Womens": "9",
                    "Gaming": "48",
                    "Phone_and_GPS": "15",
                    "Kids": "87",
                    "Accessories_count": "275",
                    "Entertainment_count": "52",
                    "Date": "2015-05-26",
                    "Mens": "64"
                  },
                  {
                    "Womens": "0",
                    "Gaming": "98",
                    "Phone_and_GPS": "62",
                    "Kids": "75",
                    "Accessories_count": "312",
                    "Entertainment_count": "6",
                    "Date": "2018-04-03",
                    "Mens": "71"
                  },
                  {
                    "Womens": "30",
                    "Gaming": "19",
                    "Phone_and_GPS": "93",
                    "Kids": "72",
                    "Accessories_count": "303",
                    "Entertainment_count": "12",
                    "Date": "2015-03-05",
                    "Mens": "77"
                  },
                  {
                    "Womens": "23",
                    "Gaming": "39",
                    "Phone_and_GPS": "12",
                    "Kids": "99",
                    "Accessories_count": "316",
                    "Entertainment_count": "61",
                    "Date": "2017-05-24",
                    "Mens": "82"
                  },
                  {
                    "Womens": "36",
                    "Gaming": "49",
                    "Phone_and_GPS": "30",
                    "Kids": "73",
                    "Accessories_count": "277",
                    "Entertainment_count": "14",
                    "Date": "2020-09-01",
                    "Mens": "75"
                  },
                  {
                    "Womens": "87",
                    "Gaming": "17",
                    "Phone_and_GPS": "79",
                    "Kids": "7",
                    "Accessories_count": "353",
                    "Entertainment_count": "75",
                    "Date": "2020-12-29",
                    "Mens": "88"
                  },
                  {
                    "Womens": "33",
                    "Gaming": "8",
                    "Phone_and_GPS": "25",
                    "Kids": "68",
                    "Accessories_count": "179",
                    "Entertainment_count": "13",
                    "Date": "2019-06-17",
                    "Mens": "32"
                  },
                  {
                    "Womens": "55",
                    "Gaming": "32",
                    "Phone_and_GPS": "91",
                    "Kids": "55",
                    "Accessories_count": "375",
                    "Entertainment_count": "76",
                    "Date": "2020-09-18",
                    "Mens": "66"
                  },
                  {
                    "Womens": "52",
                    "Gaming": "73",
                    "Phone_and_GPS": "83",
                    "Kids": "11",
                    "Accessories_count": "374",
                    "Entertainment_count": "63",
                    "Date": "2019-01-13",
                    "Mens": "92"
                  },
                  {
                    "Womens": "37",
                    "Gaming": "96",
                    "Phone_and_GPS": "28",
                    "Kids": "6",
                    "Accessories_count": "327",
                    "Entertainment_count": "80",
                    "Date": "2016-10-27",
                    "Mens": "80"
                  },
                  {
                    "Womens": "8",
                    "Gaming": "25",
                    "Phone_and_GPS": "41",
                    "Kids": "1",
                    "Accessories_count": "175",
                    "Entertainment_count": "83",
                    "Date": "2020-07-14",
                    "Mens": "17"
                  },
                  {
                    "Womens": "37",
                    "Gaming": "88",
                    "Phone_and_GPS": "20",
                    "Kids": "61",
                    "Accessories_count": "270",
                    "Entertainment_count": "53",
                    "Date": "2016-02-21",
                    "Mens": "11"
                  },
                  {
                    "Womens": "52",
                    "Gaming": "64",
                    "Phone_and_GPS": "80",
                    "Kids": "1",
                    "Accessories_count": "275",
                    "Entertainment_count": "42",
                    "Date": "2018-07-15",
                    "Mens": "36"
                  },
                  {
                    "Womens": "70",
                    "Gaming": "57",
                    "Phone_and_GPS": "96",
                    "Kids": "38",
                    "Accessories_count": "381",
                    "Entertainment_count": "57",
                    "Date": "2019-04-17",
                    "Mens": "63"
                  },
                  {
                    "Womens": "52",
                    "Gaming": "6",
                    "Phone_and_GPS": "37",
                    "Kids": "55",
                    "Accessories_count": "219",
                    "Entertainment_count": "0",
                    "Date": "2020-01-19",
                    "Mens": "69"
                  },
                  {
                    "Womens": "30",
                    "Gaming": "73",
                    "Phone_and_GPS": "38",
                    "Kids": "41",
                    "Accessories_count": "353",
                    "Entertainment_count": "75",
                    "Date": "2018-11-15",
                    "Mens": "96"
                  },
                  {
                    "Womens": "49",
                    "Gaming": "97",
                    "Phone_and_GPS": "76",
                    "Kids": "51",
                    "Accessories_count": "425",
                    "Entertainment_count": "79",
                    "Date": "2020-11-01",
                    "Mens": "73"
                  },
                  {
                    "Womens": "20",
                    "Gaming": "29",
                    "Phone_and_GPS": "19",
                    "Kids": "35",
                    "Accessories_count": "204",
                    "Entertainment_count": "83",
                    "Date": "2018-05-20",
                    "Mens": "18"
                  },
                  {
                    "Womens": "28",
                    "Gaming": "66",
                    "Phone_and_GPS": "6",
                    "Kids": "52",
                    "Accessories_count": "192",
                    "Entertainment_count": "32",
                    "Date": "2015-09-15",
                    "Mens": "8"
                  },
                  {
                    "Womens": "37",
                    "Gaming": "88",
                    "Phone_and_GPS": "65",
                    "Kids": "84",
                    "Accessories_count": "377",
                    "Entertainment_count": "90",
                    "Date": "2016-07-22",
                    "Mens": "13"
                  },
                  {
                    "Womens": "43",
                    "Gaming": "49",
                    "Phone_and_GPS": "0",
                    "Kids": "9",
                    "Accessories_count": "203",
                    "Entertainment_count": "24",
                    "Date": "2016-10-01",
                    "Mens": "78"
                  },
                  {
                    "Womens": "43",
                    "Gaming": "23",
                    "Phone_and_GPS": "12",
                    "Kids": "61",
                    "Accessories_count": "246",
                    "Entertainment_count": "84",
                    "Date": "2019-05-06",
                    "Mens": "23"
                  },
                  {
                    "Womens": "60",
                    "Gaming": "29",
                    "Phone_and_GPS": "62",
                    "Kids": "29",
                    "Accessories_count": "206",
                    "Entertainment_count": "16",
                    "Date": "2019-01-10",
                    "Mens": "10"
                  },
                  {
                    "Womens": "30",
                    "Gaming": "3",
                    "Phone_and_GPS": "4",
                    "Kids": "46",
                    "Accessories_count": "168",
                    "Entertainment_count": "78",
                    "Date": "2016-05-09",
                    "Mens": "7"
                  },
                  {
                    "Womens": "53",
                    "Gaming": "62",
                    "Phone_and_GPS": "72",
                    "Kids": "69",
                    "Accessories_count": "379",
                    "Entertainment_count": "98",
                    "Date": "2016-05-22",
                    "Mens": "25"
                  },
                  {
                    "Womens": "86",
                    "Gaming": "24",
                    "Phone_and_GPS": "2",
                    "Kids": "96",
                    "Accessories_count": "229",
                    "Entertainment_count": "0",
                    "Date": "2015-08-06",
                    "Mens": "21"
                  },
                  {
                    "Womens": "58",
                    "Gaming": "23",
                    "Phone_and_GPS": "57",
                    "Kids": "49",
                    "Accessories_count": "304",
                    "Entertainment_count": "96",
                    "Date": "2019-06-10",
                    "Mens": "21"
                  },
                  {
                    "Womens": "34",
                    "Gaming": "55",
                    "Phone_and_GPS": "10",
                    "Kids": "87",
                    "Accessories_count": "305",
                    "Entertainment_count": "51",
                    "Date": "2018-01-23",
                    "Mens": "68"
                  },
                  {
                    "Womens": "81",
                    "Gaming": "23",
                    "Phone_and_GPS": "56",
                    "Kids": "92",
                    "Accessories_count": "363",
                    "Entertainment_count": "90",
                    "Date": "2019-11-06",
                    "Mens": "21"
                  },
                  {
                    "Womens": "69",
                    "Gaming": "69",
                    "Phone_and_GPS": "64",
                    "Kids": "29",
                    "Accessories_count": "319",
                    "Entertainment_count": "29",
                    "Date": "2020-11-27",
                    "Mens": "59"
                  },
                  {
                    "Womens": "35",
                    "Gaming": "63",
                    "Phone_and_GPS": "67",
                    "Kids": "72",
                    "Accessories_count": "298",
                    "Entertainment_count": "51",
                    "Date": "2019-06-11",
                    "Mens": "10"
                  },
                  {
                    "Womens": "73",
                    "Gaming": "47",
                    "Phone_and_GPS": "71",
                    "Kids": "65",
                    "Accessories_count": "317",
                    "Entertainment_count": "56",
                    "Date": "2015-07-11",
                    "Mens": "5"
                  },
                  {
                    "Womens": "11",
                    "Gaming": "26",
                    "Phone_and_GPS": "32",
                    "Kids": "74",
                    "Accessories_count": "269",
                    "Entertainment_count": "70",
                    "Date": "2017-11-14",
                    "Mens": "56"
                  },
                  {
                    "Womens": "91",
                    "Gaming": "68",
                    "Phone_and_GPS": "86",
                    "Kids": "77",
                    "Accessories_count": "392",
                    "Entertainment_count": "12",
                    "Date": "2015-01-23",
                    "Mens": "58"
                  },
                  {
                    "Womens": "91",
                    "Gaming": "65",
                    "Phone_and_GPS": "92",
                    "Kids": "43",
                    "Accessories_count": "433",
                    "Entertainment_count": "43",
                    "Date": "2018-08-21",
                    "Mens": "99"
                  },
                  {
                    "Womens": "18",
                    "Gaming": "41",
                    "Phone_and_GPS": "17",
                    "Kids": "52",
                    "Accessories_count": "153",
                    "Entertainment_count": "8",
                    "Date": "2019-12-21",
                    "Mens": "17"
                  },
                  {
                    "Womens": "16",
                    "Gaming": "17",
                    "Phone_and_GPS": "34",
                    "Kids": "39",
                    "Accessories_count": "133",
                    "Entertainment_count": "21",
                    "Date": "2018-05-26",
                    "Mens": "6"
                  },
                  {
                    "Womens": "38",
                    "Gaming": "86",
                    "Phone_and_GPS": "19",
                    "Kids": "81",
                    "Accessories_count": "324",
                    "Entertainment_count": "34",
                    "Date": "2015-01-30",
                    "Mens": "66"
                  },
                  {
                    "Womens": "66",
                    "Gaming": "0",
                    "Phone_and_GPS": "28",
                    "Kids": "88",
                    "Accessories_count": "187",
                    "Entertainment_count": "2",
                    "Date": "2020-04-21",
                    "Mens": "3"
                  },
                  {
                    "Womens": "65",
                    "Gaming": "83",
                    "Phone_and_GPS": "7",
                    "Kids": "56",
                    "Accessories_count": "273",
                    "Entertainment_count": "35",
                    "Date": "2015-10-01",
                    "Mens": "27"
                  },
                  {
                    "Womens": "62",
                    "Gaming": "5",
                    "Phone_and_GPS": "86",
                    "Kids": "41",
                    "Accessories_count": "235",
                    "Entertainment_count": "18",
                    "Date": "2017-02-28",
                    "Mens": "23"
                  },
                  {
                    "Womens": "35",
                    "Gaming": "2",
                    "Phone_and_GPS": "52",
                    "Kids": "44",
                    "Accessories_count": "269",
                    "Entertainment_count": "93",
                    "Date": "2017-10-17",
                    "Mens": "43"
                  },
                  {
                    "Womens": "15",
                    "Gaming": "45",
                    "Phone_and_GPS": "52",
                    "Kids": "61",
                    "Accessories_count": "338",
                    "Entertainment_count": "89",
                    "Date": "2020-02-11",
                    "Mens": "76"
                  },
                  {
                    "Womens": "67",
                    "Gaming": "21",
                    "Phone_and_GPS": "69",
                    "Kids": "41",
                    "Accessories_count": "293",
                    "Entertainment_count": "76",
                    "Date": "2019-10-22",
                    "Mens": "19"
                  },
                  {
                    "Womens": "1",
                    "Gaming": "8",
                    "Phone_and_GPS": "4",
                    "Kids": "8",
                    "Accessories_count": "69",
                    "Entertainment_count": "10",
                    "Date": "2019-12-25",
                    "Mens": "38"
                  },
                  {
                    "Womens": "55",
                    "Gaming": "90",
                    "Phone_and_GPS": "46",
                    "Kids": "8",
                    "Accessories_count": "304",
                    "Entertainment_count": "60",
                    "Date": "2019-12-04",
                    "Mens": "45"
                  },
                  {
                    "Womens": "12",
                    "Gaming": "13",
                    "Phone_and_GPS": "84",
                    "Kids": "16",
                    "Accessories_count": "289",
                    "Entertainment_count": "87",
                    "Date": "2016-09-25",
                    "Mens": "77"
                  },
                  {
                    "Womens": "35",
                    "Gaming": "57",
                    "Phone_and_GPS": "56",
                    "Kids": "57",
                    "Accessories_count": "383",
                    "Entertainment_count": "94",
                    "Date": "2017-09-13",
                    "Mens": "84"
                  },
                  {
                    "Womens": "61",
                    "Gaming": "75",
                    "Phone_and_GPS": "59",
                    "Kids": "79",
                    "Accessories_count": "375",
                    "Entertainment_count": "13",
                    "Date": "2017-02-23",
                    "Mens": "88"
                  },
                  {
                    "Womens": "81",
                    "Gaming": "57",
                    "Phone_and_GPS": "59",
                    "Kids": "75",
                    "Accessories_count": "310",
                    "Entertainment_count": "20",
                    "Date": "2020-07-14",
                    "Mens": "18"
                  },
                  {
                    "Womens": "27",
                    "Gaming": "31",
                    "Phone_and_GPS": "56",
                    "Kids": "40",
                    "Accessories_count": "164",
                    "Entertainment_count": "2",
                    "Date": "2016-11-21",
                    "Mens": "8"
                  },
                  {
                    "Womens": "35",
                    "Gaming": "41",
                    "Phone_and_GPS": "32",
                    "Kids": "6",
                    "Accessories_count": "208",
                    "Entertainment_count": "91",
                    "Date": "2017-01-19",
                    "Mens": "3"
                  },
                  {
                    "Womens": "55",
                    "Gaming": "53",
                    "Phone_and_GPS": "66",
                    "Kids": "54",
                    "Accessories_count": "329",
                    "Entertainment_count": "96",
                    "Date": "2015-07-11",
                    "Mens": "5"
                  },
                  {
                    "Womens": "95",
                    "Gaming": "75",
                    "Phone_and_GPS": "91",
                    "Kids": "30",
                    "Accessories_count": "412",
                    "Entertainment_count": "68",
                    "Date": "2017-03-08",
                    "Mens": "53"
                  },
                  {
                    "Womens": "55",
                    "Gaming": "68",
                    "Phone_and_GPS": "44",
                    "Kids": "83",
                    "Accessories_count": "359",
                    "Entertainment_count": "35",
                    "Date": "2017-02-15",
                    "Mens": "74"
                  },
                  {
                    "Womens": "8",
                    "Gaming": "32",
                    "Phone_and_GPS": "16",
                    "Kids": "29",
                    "Accessories_count": "156",
                    "Entertainment_count": "22",
                    "Date": "2015-04-17",
                    "Mens": "49"
                  },
                  {
                    "Womens": "19",
                    "Gaming": "35",
                    "Phone_and_GPS": "1",
                    "Kids": "59",
                    "Accessories_count": "235",
                    "Entertainment_count": "69",
                    "Date": "2015-03-24",
                    "Mens": "52"
                  },
                  {
                    "Womens": "81",
                    "Gaming": "54",
                    "Phone_and_GPS": "22",
                    "Kids": "14",
                    "Accessories_count": "347",
                    "Entertainment_count": "81",
                    "Date": "2017-08-01",
                    "Mens": "95"
                  },
                  {
                    "Womens": "93",
                    "Gaming": "84",
                    "Phone_and_GPS": "64",
                    "Kids": "13",
                    "Accessories_count": "280",
                    "Entertainment_count": "17",
                    "Date": "2020-10-07",
                    "Mens": "9"
                  },
                  {
                    "Womens": "29",
                    "Gaming": "87",
                    "Phone_and_GPS": "32",
                    "Kids": "37",
                    "Accessories_count": "274",
                    "Entertainment_count": "77",
                    "Date": "2020-03-30",
                    "Mens": "12"
                  },
                  {
                    "Womens": "69",
                    "Gaming": "67",
                    "Phone_and_GPS": "90",
                    "Kids": "2",
                    "Accessories_count": "276",
                    "Entertainment_count": "46",
                    "Date": "2016-01-19",
                    "Mens": "2"
                  },
                  {
                    "Womens": "45",
                    "Gaming": "8",
                    "Phone_and_GPS": "72",
                    "Kids": "48",
                    "Accessories_count": "274",
                    "Entertainment_count": "76",
                    "Date": "2018-11-02",
                    "Mens": "25"
                  },
                  {
                    "Womens": "28",
                    "Gaming": "75",
                    "Phone_and_GPS": "44",
                    "Kids": "9",
                    "Accessories_count": "250",
                    "Entertainment_count": "23",
                    "Date": "2020-08-02",
                    "Mens": "71"
                  },
                  {
                    "Womens": "16",
                    "Gaming": "69",
                    "Phone_and_GPS": "37",
                    "Kids": "12",
                    "Accessories_count": "151",
                    "Entertainment_count": "1",
                    "Date": "2020-07-21",
                    "Mens": "16"
                  },
                  {
                    "Womens": "88",
                    "Gaming": "2",
                    "Phone_and_GPS": "93",
                    "Kids": "56",
                    "Accessories_count": "340",
                    "Entertainment_count": "94",
                    "Date": "2017-03-03",
                    "Mens": "7"
                  },
                  {
                    "Womens": "40",
                    "Gaming": "31",
                    "Phone_and_GPS": "64",
                    "Kids": "52",
                    "Accessories_count": "340",
                    "Entertainment_count": "58",
                    "Date": "2015-04-13",
                    "Mens": "95"
                  },
                  {
                    "Womens": "75",
                    "Gaming": "13",
                    "Phone_and_GPS": "91",
                    "Kids": "68",
                    "Accessories_count": "301",
                    "Entertainment_count": "46",
                    "Date": "2015-12-23",
                    "Mens": "8"
                  },
                  {
                    "Womens": "94",
                    "Gaming": "55",
                    "Phone_and_GPS": "81",
                    "Kids": "52",
                    "Accessories_count": "396",
                    "Entertainment_count": "69",
                    "Date": "2016-11-30",
                    "Mens": "45"
                  },
                  {
                    "Womens": "62",
                    "Gaming": "63",
                    "Phone_and_GPS": "88",
                    "Kids": "72",
                    "Accessories_count": "346",
                    "Entertainment_count": "19",
                    "Date": "2020-06-23",
                    "Mens": "42"
                  },
                  {
                    "Womens": "4",
                    "Gaming": "64",
                    "Phone_and_GPS": "75",
                    "Kids": "20",
                    "Accessories_count": "313",
                    "Entertainment_count": "64",
                    "Date": "2017-08-18",
                    "Mens": "86"
                  },
                  {
                    "Womens": "39",
                    "Gaming": "10",
                    "Phone_and_GPS": "75",
                    "Kids": "16",
                    "Accessories_count": "182",
                    "Entertainment_count": "34",
                    "Date": "2017-08-21",
                    "Mens": "8"
                  },
                  {
                    "Womens": "45",
                    "Gaming": "36",
                    "Phone_and_GPS": "6",
                    "Kids": "95",
                    "Accessories_count": "248",
                    "Entertainment_count": "54",
                    "Date": "2016-10-01",
                    "Mens": "12"
                  },
                  {
                    "Womens": "44",
                    "Gaming": "91",
                    "Phone_and_GPS": "0",
                    "Kids": "42",
                    "Accessories_count": "286",
                    "Entertainment_count": "36",
                    "Date": "2019-09-10",
                    "Mens": "73"
                  },
                  {
                    "Womens": "18",
                    "Gaming": "98",
                    "Phone_and_GPS": "31",
                    "Kids": "35",
                    "Accessories_count": "325",
                    "Entertainment_count": "78",
                    "Date": "2015-08-01",
                    "Mens": "65"
                  },
                  {
                    "Womens": "2",
                    "Gaming": "88",
                    "Phone_and_GPS": "56",
                    "Kids": "78",
                    "Accessories_count": "335",
                    "Entertainment_count": "72",
                    "Date": "2018-01-31",
                    "Mens": "39"
                  },
                  {
                    "Womens": "6",
                    "Gaming": "55",
                    "Phone_and_GPS": "95",
                    "Kids": "66",
                    "Accessories_count": "350",
                    "Entertainment_count": "49",
                    "Date": "2017-03-01",
                    "Mens": "79"
                  },
                  {
                    "Womens": "56",
                    "Gaming": "13",
                    "Phone_and_GPS": "56",
                    "Kids": "15",
                    "Accessories_count": "252",
                    "Entertainment_count": "36",
                    "Date": "2018-08-04",
                    "Mens": "76"
                  },
                  {
                    "Womens": "87",
                    "Gaming": "29",
                    "Phone_and_GPS": "67",
                    "Kids": "9",
                    "Accessories_count": "270",
                    "Entertainment_count": "49",
                    "Date": "2015-09-27",
                    "Mens": "29"
                  },
                  {
                    "Womens": "85",
                    "Gaming": "40",
                    "Phone_and_GPS": "59",
                    "Kids": "84",
                    "Accessories_count": "361",
                    "Entertainment_count": "19",
                    "Date": "2015-08-07",
                    "Mens": "74"
                  },
                  {
                    "Womens": "96",
                    "Gaming": "61",
                    "Phone_and_GPS": "62",
                    "Kids": "75",
                    "Accessories_count": "451",
                    "Entertainment_count": "87",
                    "Date": "2017-08-16",
                    "Mens": "70"
                  },
                  {
                    "Womens": "40",
                    "Gaming": "25",
                    "Phone_and_GPS": "40",
                    "Kids": "45",
                    "Accessories_count": "199",
                    "Entertainment_count": "18",
                    "Date": "2020-10-25",
                    "Mens": "31"
                  },
                  {
                    "Womens": "52",
                    "Gaming": "63",
                    "Phone_and_GPS": "78",
                    "Kids": "81",
                    "Accessories_count": "419",
                    "Entertainment_count": "70",
                    "Date": "2018-11-22",
                    "Mens": "75"
                  },
                  {
                    "Womens": "29",
                    "Gaming": "43",
                    "Phone_and_GPS": "22",
                    "Kids": "73",
                    "Accessories_count": "275",
                    "Entertainment_count": "14",
                    "Date": "2016-09-12",
                    "Mens": "94"
                  },
                  {
                    "Womens": "54",
                    "Gaming": "90",
                    "Phone_and_GPS": "57",
                    "Kids": "12",
                    "Accessories_count": "284",
                    "Entertainment_count": "1",
                    "Date": "2019-10-14",
                    "Mens": "70"
                  },
                  {
                    "Womens": "68",
                    "Gaming": "59",
                    "Phone_and_GPS": "13",
                    "Kids": "39",
                    "Accessories_count": "350",
                    "Entertainment_count": "87",
                    "Date": "2020-04-15",
                    "Mens": "84"
                  },
                  {
                    "Womens": "18",
                    "Gaming": "93",
                    "Phone_and_GPS": "51",
                    "Kids": "61",
                    "Accessories_count": "352",
                    "Entertainment_count": "41",
                    "Date": "2017-10-15",
                    "Mens": "88"
                  },
                  {
                    "Womens": "94",
                    "Gaming": "32",
                    "Phone_and_GPS": "57",
                    "Kids": "73",
                    "Accessories_count": "352",
                    "Entertainment_count": "30",
                    "Date": "2015-06-22",
                    "Mens": "66"
                  },
                  {
                    "Womens": "61",
                    "Gaming": "75",
                    "Phone_and_GPS": "89",
                    "Kids": "84",
                    "Accessories_count": "373",
                    "Entertainment_count": "52",
                    "Date": "2019-10-23",
                    "Mens": "12"
                  },
                  {
                    "Womens": "61",
                    "Gaming": "51",
                    "Phone_and_GPS": "41",
                    "Kids": "67",
                    "Accessories_count": "336",
                    "Entertainment_count": "19",
                    "Date": "2020-03-19",
                    "Mens": "97"
                  },
                  {
                    "Womens": "55",
                    "Gaming": "46",
                    "Phone_and_GPS": "12",
                    "Kids": "34",
                    "Accessories_count": "263",
                    "Entertainment_count": "37",
                    "Date": "2015-07-27",
                    "Mens": "79"
                  },
                  {
                    "Womens": "97",
                    "Gaming": "59",
                    "Phone_and_GPS": "9",
                    "Kids": "87",
                    "Accessories_count": "386",
                    "Entertainment_count": "85",
                    "Date": "2017-08-15",
                    "Mens": "49"
                  },
                  {
                    "Womens": "71",
                    "Gaming": "51",
                    "Phone_and_GPS": "98",
                    "Kids": "3",
                    "Accessories_count": "301",
                    "Entertainment_count": "40",
                    "Date": "2019-07-07",
                    "Mens": "38"
                  },
                  {
                    "Womens": "26",
                    "Gaming": "72",
                    "Phone_and_GPS": "39",
                    "Kids": "66",
                    "Accessories_count": "325",
                    "Entertainment_count": "48",
                    "Date": "2020-04-16",
                    "Mens": "74"
                  },
                  {
                    "Womens": "62",
                    "Gaming": "31",
                    "Phone_and_GPS": "8",
                    "Kids": "53",
                    "Accessories_count": "310",
                    "Entertainment_count": "69",
                    "Date": "2017-08-16",
                    "Mens": "87"
                  },
                  {
                    "Womens": "12",
                    "Gaming": "69",
                    "Phone_and_GPS": "44",
                    "Kids": "87",
                    "Accessories_count": "318",
                    "Entertainment_count": "69",
                    "Date": "2016-10-18",
                    "Mens": "37"
                  },
                  {
                    "Womens": "87",
                    "Gaming": "28",
                    "Phone_and_GPS": "69",
                    "Kids": "4",
                    "Accessories_count": "313",
                    "Entertainment_count": "50",
                    "Date": "2016-06-15",
                    "Mens": "75"
                  },
                  {
                    "Womens": "20",
                    "Gaming": "61",
                    "Phone_and_GPS": "46",
                    "Kids": "74",
                    "Accessories_count": "344",
                    "Entertainment_count": "55",
                    "Date": "2015-06-05",
                    "Mens": "88"
                  },
                  {
                    "Womens": "86",
                    "Gaming": "20",
                    "Phone_and_GPS": "82",
                    "Kids": "82",
                    "Accessories_count": "372",
                    "Entertainment_count": "89",
                    "Date": "2019-07-05",
                    "Mens": "13"
                  },
                  {
                    "Womens": "59",
                    "Gaming": "17",
                    "Phone_and_GPS": "71",
                    "Kids": "74",
                    "Accessories_count": "304",
                    "Entertainment_count": "83",
                    "Date": "2017-12-19",
                    "Mens": "0"
                  },
                  {
                    "Womens": "79",
                    "Gaming": "38",
                    "Phone_and_GPS": "27",
                    "Kids": "28",
                    "Accessories_count": "302",
                    "Entertainment_count": "84",
                    "Date": "2015-04-23",
                    "Mens": "46"
                  },
                  {
                    "Womens": "67",
                    "Gaming": "21",
                    "Phone_and_GPS": "38",
                    "Kids": "8",
                    "Accessories_count": "270",
                    "Entertainment_count": "86",
                    "Date": "2020-05-30",
                    "Mens": "50"
                  },
                  {
                    "Womens": "72",
                    "Gaming": "17",
                    "Phone_and_GPS": "92",
                    "Kids": "40",
                    "Accessories_count": "322",
                    "Entertainment_count": "85",
                    "Date": "2015-05-21",
                    "Mens": "16"
                  },
                  {
                    "Womens": "15",
                    "Gaming": "94",
                    "Phone_and_GPS": "69",
                    "Kids": "80",
                    "Accessories_count": "349",
                    "Entertainment_count": "36",
                    "Date": "2019-07-25",
                    "Mens": "55"
                  },
                  {
                    "Womens": "0",
                    "Gaming": "33",
                    "Phone_and_GPS": "8",
                    "Kids": "67",
                    "Accessories_count": "249",
                    "Entertainment_count": "73",
                    "Date": "2019-05-05",
                    "Mens": "68"
                  },
                  {
                    "Womens": "35",
                    "Gaming": "72",
                    "Phone_and_GPS": "16",
                    "Kids": "0",
                    "Accessories_count": "289",
                    "Entertainment_count": "71",
                    "Date": "2019-05-09",
                    "Mens": "95"
                  },
                  {
                    "Womens": "13",
                    "Gaming": "8",
                    "Phone_and_GPS": "85",
                    "Kids": "69",
                    "Accessories_count": "305",
                    "Entertainment_count": "83",
                    "Date": "2015-01-03",
                    "Mens": "47"
                  },
                  {
                    "Womens": "19",
                    "Gaming": "93",
                    "Phone_and_GPS": "34",
                    "Kids": "91",
                    "Accessories_count": "372",
                    "Entertainment_count": "80",
                    "Date": "2018-12-06",
                    "Mens": "55"
                  },
                  {
                    "Womens": "1",
                    "Gaming": "73",
                    "Phone_and_GPS": "4",
                    "Kids": "80",
                    "Accessories_count": "266",
                    "Entertainment_count": "42",
                    "Date": "2019-01-18",
                    "Mens": "66"
                  },
                  {
                    "Womens": "16",
                    "Gaming": "43",
                    "Phone_and_GPS": "46",
                    "Kids": "63",
                    "Accessories_count": "297",
                    "Entertainment_count": "46",
                    "Date": "2018-06-05",
                    "Mens": "83"
                  },
                  {
                    "Womens": "56",
                    "Gaming": "75",
                    "Phone_and_GPS": "82",
                    "Kids": "34",
                    "Accessories_count": "272",
                    "Entertainment_count": "3",
                    "Date": "2016-03-15",
                    "Mens": "22"
                  },
                  {
                    "Womens": "5",
                    "Gaming": "89",
                    "Phone_and_GPS": "10",
                    "Kids": "0",
                    "Accessories_count": "180",
                    "Entertainment_count": "8",
                    "Date": "2018-12-15",
                    "Mens": "68"
                  },
                  {
                    "Womens": "89",
                    "Gaming": "42",
                    "Phone_and_GPS": "77",
                    "Kids": "41",
                    "Accessories_count": "334",
                    "Entertainment_count": "34",
                    "Date": "2019-02-18",
                    "Mens": "51"
                  },
                  {
                    "Womens": "93",
                    "Gaming": "77",
                    "Phone_and_GPS": "6",
                    "Kids": "63",
                    "Accessories_count": "325",
                    "Entertainment_count": "43",
                    "Date": "2017-08-14",
                    "Mens": "43"
                  },
                  {
                    "Womens": "91",
                    "Gaming": "54",
                    "Phone_and_GPS": "32",
                    "Kids": "87",
                    "Accessories_count": "357",
                    "Entertainment_count": "57",
                    "Date": "2017-03-25",
                    "Mens": "36"
                  },
                  {
                    "Womens": "17",
                    "Gaming": "18",
                    "Phone_and_GPS": "92",
                    "Kids": "45",
                    "Accessories_count": "292",
                    "Entertainment_count": "45",
                    "Date": "2015-07-09",
                    "Mens": "75"
                  },
                  {
                    "Womens": "79",
                    "Gaming": "97",
                    "Phone_and_GPS": "95",
                    "Kids": "13",
                    "Accessories_count": "375",
                    "Entertainment_count": "65",
                    "Date": "2017-12-01",
                    "Mens": "26"
                  },
                  {
                    "Womens": "9",
                    "Gaming": "11",
                    "Phone_and_GPS": "79",
                    "Kids": "49",
                    "Accessories_count": "254",
                    "Entertainment_count": "72",
                    "Date": "2020-02-12",
                    "Mens": "34"
                  },
                  {
                    "Womens": "18",
                    "Gaming": "37",
                    "Phone_and_GPS": "84",
                    "Kids": "51",
                    "Accessories_count": "291",
                    "Entertainment_count": "11",
                    "Date": "2018-04-30",
                    "Mens": "90"
                  },
                  {
                    "Womens": "18",
                    "Gaming": "35",
                    "Phone_and_GPS": "48",
                    "Kids": "11",
                    "Accessories_count": "206",
                    "Entertainment_count": "3",
                    "Date": "2015-04-01",
                    "Mens": "91"
                  },
                  {
                    "Womens": "12",
                    "Gaming": "33",
                    "Phone_and_GPS": "94",
                    "Kids": "2",
                    "Accessories_count": "213",
                    "Entertainment_count": "22",
                    "Date": "2018-04-27",
                    "Mens": "50"
                  },
                  {
                    "Womens": "50",
                    "Gaming": "11",
                    "Phone_and_GPS": "95",
                    "Kids": "86",
                    "Accessories_count": "316",
                    "Entertainment_count": "59",
                    "Date": "2019-07-27",
                    "Mens": "15"
                  },
                  {
                    "Womens": "94",
                    "Gaming": "83",
                    "Phone_and_GPS": "85",
                    "Kids": "74",
                    "Accessories_count": "366",
                    "Entertainment_count": "18",
                    "Date": "2018-07-12",
                    "Mens": "12"
                  },
                  {
                    "Womens": "94",
                    "Gaming": "34",
                    "Phone_and_GPS": "63",
                    "Kids": "42",
                    "Accessories_count": "418",
                    "Entertainment_count": "95",
                    "Date": "2015-05-23",
                    "Mens": "90"
                  },
                  {
                    "Womens": "56",
                    "Gaming": "60",
                    "Phone_and_GPS": "0",
                    "Kids": "11",
                    "Accessories_count": "289",
                    "Entertainment_count": "80",
                    "Date": "2017-05-10",
                    "Mens": "82"
                  },
                  {
                    "Womens": "66",
                    "Gaming": "58",
                    "Phone_and_GPS": "73",
                    "Kids": "58",
                    "Accessories_count": "313",
                    "Entertainment_count": "20",
                    "Date": "2020-01-13",
                    "Mens": "38"
                  },
                  {
                    "Womens": "15",
                    "Gaming": "86",
                    "Phone_and_GPS": "40",
                    "Kids": "52",
                    "Accessories_count": "306",
                    "Entertainment_count": "60",
                    "Date": "2018-07-22",
                    "Mens": "53"
                  },
                  {
                    "Womens": "39",
                    "Gaming": "38",
                    "Phone_and_GPS": "10",
                    "Kids": "41",
                    "Accessories_count": "201",
                    "Entertainment_count": "14",
                    "Date": "2015-10-07",
                    "Mens": "59"
                  },
                  {
                    "Womens": "30",
                    "Gaming": "33",
                    "Phone_and_GPS": "42",
                    "Kids": "17",
                    "Accessories_count": "220",
                    "Entertainment_count": "92",
                    "Date": "2019-05-30",
                    "Mens": "6"
                  },
                  {
                    "Womens": "22",
                    "Gaming": "21",
                    "Phone_and_GPS": "93",
                    "Kids": "47",
                    "Accessories_count": "346",
                    "Entertainment_count": "81",
                    "Date": "2020-07-29",
                    "Mens": "82"
                  },
                  {
                    "Womens": "69",
                    "Gaming": "41",
                    "Phone_and_GPS": "17",
                    "Kids": "98",
                    "Accessories_count": "346",
                    "Entertainment_count": "57",
                    "Date": "2020-05-23",
                    "Mens": "64"
                  },
                  {
                    "Womens": "93",
                    "Gaming": "50",
                    "Phone_and_GPS": "29",
                    "Kids": "78",
                    "Accessories_count": "306",
                    "Entertainment_count": "27",
                    "Date": "2016-07-21",
                    "Mens": "29"
                  },
                  {
                    "Womens": "82",
                    "Gaming": "76",
                    "Phone_and_GPS": "81",
                    "Kids": "86",
                    "Accessories_count": "424",
                    "Entertainment_count": "65",
                    "Date": "2015-11-28",
                    "Mens": "34"
                  },
                  {
                    "Womens": "29",
                    "Gaming": "70",
                    "Phone_and_GPS": "66",
                    "Kids": "77",
                    "Accessories_count": "399",
                    "Entertainment_count": "95",
                    "Date": "2015-12-28",
                    "Mens": "62"
                  },
                  {
                    "Womens": "77",
                    "Gaming": "16",
                    "Phone_and_GPS": "68",
                    "Kids": "72",
                    "Accessories_count": "359",
                    "Entertainment_count": "31",
                    "Date": "2019-01-03",
                    "Mens": "95"
                  },
                  {
                    "Womens": "85",
                    "Gaming": "92",
                    "Phone_and_GPS": "97",
                    "Kids": "6",
                    "Accessories_count": "378",
                    "Entertainment_count": "65",
                    "Date": "2016-02-21",
                    "Mens": "33"
                  },
                  {
                    "Womens": "48",
                    "Gaming": "91",
                    "Phone_and_GPS": "50",
                    "Kids": "1",
                    "Accessories_count": "286",
                    "Entertainment_count": "71",
                    "Date": "2015-10-10",
                    "Mens": "25"
                  },
                  {
                    "Womens": "23",
                    "Gaming": "2",
                    "Phone_and_GPS": "72",
                    "Kids": "16",
                    "Accessories_count": "197",
                    "Entertainment_count": "53",
                    "Date": "2015-02-24",
                    "Mens": "31"
                  },
                  {
                    "Womens": "45",
                    "Gaming": "18",
                    "Phone_and_GPS": "20",
                    "Kids": "11",
                    "Accessories_count": "271",
                    "Entertainment_count": "85",
                    "Date": "2018-07-14",
                    "Mens": "92"
                  },
                  {
                    "Womens": "80",
                    "Gaming": "91",
                    "Phone_and_GPS": "69",
                    "Kids": "38",
                    "Accessories_count": "412",
                    "Entertainment_count": "95",
                    "Date": "2017-07-10",
                    "Mens": "39"
                  },
                  {
                    "Womens": "43",
                    "Gaming": "96",
                    "Phone_and_GPS": "53",
                    "Kids": "40",
                    "Accessories_count": "274",
                    "Entertainment_count": "33",
                    "Date": "2018-10-03",
                    "Mens": "9"
                  },
                  {
                    "Womens": "2",
                    "Gaming": "64",
                    "Phone_and_GPS": "68",
                    "Kids": "59",
                    "Accessories_count": "292",
                    "Entertainment_count": "62",
                    "Date": "2015-12-19",
                    "Mens": "37"
                  },
                  {
                    "Womens": "23",
                    "Gaming": "18",
                    "Phone_and_GPS": "83",
                    "Kids": "64",
                    "Accessories_count": "340",
                    "Entertainment_count": "78",
                    "Date": "2016-11-25",
                    "Mens": "74"
                  },
                  {
                    "Womens": "80",
                    "Gaming": "39",
                    "Phone_and_GPS": "47",
                    "Kids": "53",
                    "Accessories_count": "381",
                    "Entertainment_count": "78",
                    "Date": "2019-09-24",
                    "Mens": "84"
                  },
                  {
                    "Womens": "80",
                    "Gaming": "30",
                    "Phone_and_GPS": "83",
                    "Kids": "8",
                    "Accessories_count": "291",
                    "Entertainment_count": "89",
                    "Date": "2020-09-30",
                    "Mens": "1"
                  },
                  {
                    "Womens": "91",
                    "Gaming": "45",
                    "Phone_and_GPS": "70",
                    "Kids": "46",
                    "Accessories_count": "394",
                    "Entertainment_count": "96",
                    "Date": "2020-06-18",
                    "Mens": "46"
                  },
                  {
                    "Womens": "57",
                    "Gaming": "47",
                    "Phone_and_GPS": "55",
                    "Kids": "86",
                    "Accessories_count": "360",
                    "Entertainment_count": "25",
                    "Date": "2015-03-30",
                    "Mens": "90"
                  },
                  {
                    "Womens": "88",
                    "Gaming": "9",
                    "Phone_and_GPS": "22",
                    "Kids": "9",
                    "Accessories_count": "228",
                    "Entertainment_count": "86",
                    "Date": "2020-03-31",
                    "Mens": "14"
                  },
                  {
                    "Womens": "39",
                    "Gaming": "62",
                    "Phone_and_GPS": "26",
                    "Kids": "97",
                    "Accessories_count": "359",
                    "Entertainment_count": "74",
                    "Date": "2018-03-19",
                    "Mens": "61"
                  },
                  {
                    "Womens": "33",
                    "Gaming": "19",
                    "Phone_and_GPS": "47",
                    "Kids": "18",
                    "Accessories_count": "228",
                    "Entertainment_count": "60",
                    "Date": "2016-09-07",
                    "Mens": "51"
                  },
                  {
                    "Womens": "88",
                    "Gaming": "15",
                    "Phone_and_GPS": "46",
                    "Kids": "94",
                    "Accessories_count": "311",
                    "Entertainment_count": "22",
                    "Date": "2018-01-18",
                    "Mens": "46"
                  },
                  {
                    "Womens": "34",
                    "Gaming": "57",
                    "Phone_and_GPS": "1",
                    "Kids": "70",
                    "Accessories_count": "173",
                    "Entertainment_count": "5",
                    "Date": "2016-10-02",
                    "Mens": "6"
                  },
                  {
                    "Womens": "11",
                    "Gaming": "66",
                    "Phone_and_GPS": "84",
                    "Kids": "83",
                    "Accessories_count": "294",
                    "Entertainment_count": "50",
                    "Date": "2019-09-21",
                    "Mens": "0"
                  },
                  {
                    "Womens": "31",
                    "Gaming": "48",
                    "Phone_and_GPS": "91",
                    "Kids": "95",
                    "Accessories_count": "409",
                    "Entertainment_count": "83",
                    "Date": "2017-10-27",
                    "Mens": "61"
                  },
                  {
                    "Womens": "78",
                    "Gaming": "73",
                    "Phone_and_GPS": "12",
                    "Kids": "89",
                    "Accessories_count": "377",
                    "Entertainment_count": "28",
                    "Date": "2018-01-28",
                    "Mens": "97"
                  },
                  {
                    "Womens": "68",
                    "Gaming": "51",
                    "Phone_and_GPS": "75",
                    "Kids": "92",
                    "Accessories_count": "379",
                    "Entertainment_count": "0",
                    "Date": "2020-02-16",
                    "Mens": "93"
                  },
                  {
                    "Womens": "17",
                    "Gaming": "14",
                    "Phone_and_GPS": "28",
                    "Kids": "6",
                    "Accessories_count": "183",
                    "Entertainment_count": "68",
                    "Date": "2020-07-03",
                    "Mens": "50"
                  },
                  {
                    "Womens": "86",
                    "Gaming": "52",
                    "Phone_and_GPS": "84",
                    "Kids": "21",
                    "Accessories_count": "358",
                    "Entertainment_count": "19",
                    "Date": "2015-07-03",
                    "Mens": "96"
                  },
                  {
                    "Womens": "97",
                    "Gaming": "71",
                    "Phone_and_GPS": "13",
                    "Kids": "18",
                    "Accessories_count": "299",
                    "Entertainment_count": "6",
                    "Date": "2016-09-02",
                    "Mens": "94"
                  },
                  {
                    "Womens": "0",
                    "Gaming": "54",
                    "Phone_and_GPS": "78",
                    "Kids": "75",
                    "Accessories_count": "275",
                    "Entertainment_count": "27",
                    "Date": "2019-01-10",
                    "Mens": "41"
                  },
                  {
                    "Womens": "81",
                    "Gaming": "45",
                    "Phone_and_GPS": "92",
                    "Kids": "37",
                    "Accessories_count": "354",
                    "Entertainment_count": "32",
                    "Date": "2016-11-18",
                    "Mens": "67"
                  },
                  {
                    "Womens": "39",
                    "Gaming": "10",
                    "Phone_and_GPS": "27",
                    "Kids": "56",
                    "Accessories_count": "300",
                    "Entertainment_count": "69",
                    "Date": "2020-10-30",
                    "Mens": "99"
                  },
                  {
                    "Womens": "93",
                    "Gaming": "45",
                    "Phone_and_GPS": "44",
                    "Kids": "60",
                    "Accessories_count": "313",
                    "Entertainment_count": "40",
                    "Date": "2016-02-19",
                    "Mens": "31"
                  },
                  {
                    "Womens": "48",
                    "Gaming": "91",
                    "Phone_and_GPS": "26",
                    "Kids": "18",
                    "Accessories_count": "358",
                    "Entertainment_count": "86",
                    "Date": "2017-11-02",
                    "Mens": "89"
                  },
                  {
                    "Womens": "78",
                    "Gaming": "7",
                    "Phone_and_GPS": "31",
                    "Kids": "52",
                    "Accessories_count": "325",
                    "Entertainment_count": "83",
                    "Date": "2017-11-01",
                    "Mens": "74"
                  },
                  {
                    "Womens": "78",
                    "Gaming": "12",
                    "Phone_and_GPS": "40",
                    "Kids": "20",
                    "Accessories_count": "257",
                    "Entertainment_count": "40",
                    "Date": "2016-06-14",
                    "Mens": "67"
                  },
                  {
                    "Womens": "21",
                    "Gaming": "62",
                    "Phone_and_GPS": "86",
                    "Kids": "39",
                    "Accessories_count": "276",
                    "Entertainment_count": "34",
                    "Date": "2015-05-02",
                    "Mens": "34"
                  },
                  {
                    "Womens": "76",
                    "Gaming": "85",
                    "Phone_and_GPS": "4",
                    "Kids": "94",
                    "Accessories_count": "383",
                    "Entertainment_count": "49",
                    "Date": "2017-07-07",
                    "Mens": "75"
                  },
                  {
                    "Womens": "61",
                    "Gaming": "12",
                    "Phone_and_GPS": "83",
                    "Kids": "54",
                    "Accessories_count": "258",
                    "Entertainment_count": "41",
                    "Date": "2015-12-22",
                    "Mens": "7"
                  },
                  {
                    "Womens": "48",
                    "Gaming": "9",
                    "Phone_and_GPS": "52",
                    "Kids": "48",
                    "Accessories_count": "308",
                    "Entertainment_count": "84",
                    "Date": "2015-11-13",
                    "Mens": "67"
                  },
                  {
                    "Womens": "14",
                    "Gaming": "1",
                    "Phone_and_GPS": "7",
                    "Kids": "21",
                    "Accessories_count": "139",
                    "Entertainment_count": "81",
                    "Date": "2018-01-25",
                    "Mens": "15"
                  },
                  {
                    "Womens": "57",
                    "Gaming": "97",
                    "Phone_and_GPS": "78",
                    "Kids": "93",
                    "Accessories_count": "458",
                    "Entertainment_count": "71",
                    "Date": "2018-01-12",
                    "Mens": "62"
                  },
                  {
                    "Womens": "3",
                    "Gaming": "55",
                    "Phone_and_GPS": "0",
                    "Kids": "37",
                    "Accessories_count": "186",
                    "Entertainment_count": "91",
                    "Date": "2020-04-23",
                    "Mens": "0"
                  },
                  {
                    "Womens": "82",
                    "Gaming": "23",
                    "Phone_and_GPS": "26",
                    "Kids": "25",
                    "Accessories_count": "251",
                    "Entertainment_count": "78",
                    "Date": "2015-07-18",
                    "Mens": "17"
                  },
                  {
                    "Womens": "54",
                    "Gaming": "64",
                    "Phone_and_GPS": "4",
                    "Kids": "92",
                    "Accessories_count": "309",
                    "Entertainment_count": "10",
                    "Date": "2016-08-09",
                    "Mens": "85"
                  },
                  {
                    "Womens": "18",
                    "Gaming": "47",
                    "Phone_and_GPS": "25",
                    "Kids": "43",
                    "Accessories_count": "229",
                    "Entertainment_count": "91",
                    "Date": "2016-11-08",
                    "Mens": "5"
                  },
                  {
                    "Womens": "52",
                    "Gaming": "20",
                    "Phone_and_GPS": "17",
                    "Kids": "25",
                    "Accessories_count": "227",
                    "Entertainment_count": "39",
                    "Date": "2020-06-24",
                    "Mens": "74"
                  },
                  {
                    "Womens": "65",
                    "Gaming": "3",
                    "Phone_and_GPS": "23",
                    "Kids": "37",
                    "Accessories_count": "223",
                    "Entertainment_count": "46",
                    "Date": "2019-07-21",
                    "Mens": "49"
                  },
                  {
                    "Womens": "3",
                    "Gaming": "9",
                    "Phone_and_GPS": "32",
                    "Kids": "21",
                    "Accessories_count": "107",
                    "Entertainment_count": "38",
                    "Date": "2020-03-27",
                    "Mens": "4"
                  },
                  {
                    "Womens": "62",
                    "Gaming": "83",
                    "Phone_and_GPS": "92",
                    "Kids": "18",
                    "Accessories_count": "353",
                    "Entertainment_count": "45",
                    "Date": "2017-02-06",
                    "Mens": "53"
                  },
                  {
                    "Womens": "27",
                    "Gaming": "10",
                    "Phone_and_GPS": "4",
                    "Kids": "34",
                    "Accessories_count": "112",
                    "Entertainment_count": "16",
                    "Date": "2017-06-05",
                    "Mens": "21"
                  },
                  {
                    "Womens": "91",
                    "Gaming": "2",
                    "Phone_and_GPS": "73",
                    "Kids": "21",
                    "Accessories_count": "232",
                    "Entertainment_count": "19",
                    "Date": "2019-04-08",
                    "Mens": "26"
                  },
                  {
                    "Womens": "0",
                    "Gaming": "83",
                    "Phone_and_GPS": "83",
                    "Kids": "94",
                    "Accessories_count": "422",
                    "Entertainment_count": "92",
                    "Date": "2020-03-15",
                    "Mens": "70"
                  },
                  {
                    "Womens": "86",
                    "Gaming": "25",
                    "Phone_and_GPS": "35",
                    "Kids": "0",
                    "Accessories_count": "222",
                    "Entertainment_count": "47",
                    "Date": "2015-07-05",
                    "Mens": "29"
                  },
                  {
                    "Womens": "40",
                    "Gaming": "93",
                    "Phone_and_GPS": "53",
                    "Kids": "37",
                    "Accessories_count": "384",
                    "Entertainment_count": "65",
                    "Date": "2019-11-23",
                    "Mens": "96"
                  },
                  {
                    "Womens": "23",
                    "Gaming": "0",
                    "Phone_and_GPS": "38",
                    "Kids": "5",
                    "Accessories_count": "168",
                    "Entertainment_count": "83",
                    "Date": "2017-08-26",
                    "Mens": "19"
                  },
                  {
                    "Womens": "14",
                    "Gaming": "58",
                    "Phone_and_GPS": "98",
                    "Kids": "10",
                    "Accessories_count": "292",
                    "Entertainment_count": "60",
                    "Date": "2015-04-24",
                    "Mens": "52"
                  },
                  {
                    "Womens": "60",
                    "Gaming": "37",
                    "Phone_and_GPS": "58",
                    "Kids": "70",
                    "Accessories_count": "356",
                    "Entertainment_count": "55",
                    "Date": "2017-09-06",
                    "Mens": "76"
                  },
                  {
                    "Womens": "80",
                    "Gaming": "75",
                    "Phone_and_GPS": "46",
                    "Kids": "1",
                    "Accessories_count": "289",
                    "Entertainment_count": "81",
                    "Date": "2018-06-27",
                    "Mens": "6"
                  },
                  {
                    "Womens": "88",
                    "Gaming": "22",
                    "Phone_and_GPS": "72",
                    "Kids": "85",
                    "Accessories_count": "303",
                    "Entertainment_count": "30",
                    "Date": "2019-03-21",
                    "Mens": "6"
                  },
                  {
                    "Womens": "35",
                    "Gaming": "82",
                    "Phone_and_GPS": "96",
                    "Kids": "49",
                    "Accessories_count": "341",
                    "Entertainment_count": "38",
                    "Date": "2017-09-13",
                    "Mens": "41"
                  },
                  {
                    "Womens": "49",
                    "Gaming": "58",
                    "Phone_and_GPS": "43",
                    "Kids": "58",
                    "Accessories_count": "334",
                    "Entertainment_count": "77",
                    "Date": "2017-01-09",
                    "Mens": "49"
                  },
                  {
                    "Womens": "85",
                    "Gaming": "14",
                    "Phone_and_GPS": "92",
                    "Kids": "18",
                    "Accessories_count": "375",
                    "Entertainment_count": "69",
                    "Date": "2018-01-11",
                    "Mens": "97"
                  },
                  {
                    "Womens": "89",
                    "Gaming": "59",
                    "Phone_and_GPS": "21",
                    "Kids": "93",
                    "Accessories_count": "441",
                    "Entertainment_count": "96",
                    "Date": "2016-05-18",
                    "Mens": "83"
                  },
                  {
                    "Womens": "84",
                    "Gaming": "98",
                    "Phone_and_GPS": "18",
                    "Kids": "1",
                    "Accessories_count": "216",
                    "Entertainment_count": "12",
                    "Date": "2016-12-12",
                    "Mens": "3"
                  },
                  {
                    "Womens": "72",
                    "Gaming": "31",
                    "Phone_and_GPS": "71",
                    "Kids": "48",
                    "Accessories_count": "341",
                    "Entertainment_count": "83",
                    "Date": "2020-05-17",
                    "Mens": "36"
                  },
                  {
                    "Womens": "76",
                    "Gaming": "42",
                    "Phone_and_GPS": "88",
                    "Kids": "85",
                    "Accessories_count": "406",
                    "Entertainment_count": "65",
                    "Date": "2014-12-31",
                    "Mens": "50"
                  },
                  {
                    "Womens": "7",
                    "Gaming": "67",
                    "Phone_and_GPS": "98",
                    "Kids": "12",
                    "Accessories_count": "255",
                    "Entertainment_count": "9",
                    "Date": "2015-03-22",
                    "Mens": "62"
                  },
                  {
                    "Womens": "20",
                    "Gaming": "96",
                    "Phone_and_GPS": "3",
                    "Kids": "8",
                    "Accessories_count": "197",
                    "Entertainment_count": "66",
                    "Date": "2015-07-12",
                    "Mens": "4"
                  },
                  {
                    "Womens": "29",
                    "Gaming": "49",
                    "Phone_and_GPS": "97",
                    "Kids": "20",
                    "Accessories_count": "205",
                    "Entertainment_count": "9",
                    "Date": "2019-06-19",
                    "Mens": "1"
                  },
                  {
                    "Womens": "78",
                    "Gaming": "26",
                    "Phone_and_GPS": "76",
                    "Kids": "76",
                    "Accessories_count": "269",
                    "Entertainment_count": "8",
                    "Date": "2020-02-11",
                    "Mens": "5"
                  },
                  {
                    "Womens": "3",
                    "Gaming": "62",
                    "Phone_and_GPS": "11",
                    "Kids": "97",
                    "Accessories_count": "253",
                    "Entertainment_count": "51",
                    "Date": "2015-12-17",
                    "Mens": "29"
                  },
                  {
                    "Womens": "35",
                    "Gaming": "46",
                    "Phone_and_GPS": "8",
                    "Kids": "59",
                    "Accessories_count": "302",
                    "Entertainment_count": "79",
                    "Date": "2015-06-25",
                    "Mens": "75"
                  },
                  {
                    "Womens": "79",
                    "Gaming": "71",
                    "Phone_and_GPS": "83",
                    "Kids": "36",
                    "Accessories_count": "303",
                    "Entertainment_count": "15",
                    "Date": "2016-02-05",
                    "Mens": "19"
                  },
                  {
                    "Womens": "92",
                    "Gaming": "5",
                    "Phone_and_GPS": "12",
                    "Kids": "76",
                    "Accessories_count": "244",
                    "Entertainment_count": "35",
                    "Date": "2020-03-31",
                    "Mens": "24"
                  },
                  {
                    "Womens": "87",
                    "Gaming": "41",
                    "Phone_and_GPS": "34",
                    "Kids": "29",
                    "Accessories_count": "298",
                    "Entertainment_count": "64",
                    "Date": "2020-05-11",
                    "Mens": "43"
                  },
                  {
                    "Womens": "70",
                    "Gaming": "13",
                    "Phone_and_GPS": "21",
                    "Kids": "50",
                    "Accessories_count": "220",
                    "Entertainment_count": "56",
                    "Date": "2015-03-17",
                    "Mens": "10"
                  },
                  {
                    "Womens": "80",
                    "Gaming": "62",
                    "Phone_and_GPS": "67",
                    "Kids": "23",
                    "Accessories_count": "335",
                    "Entertainment_count": "64",
                    "Date": "2016-06-03",
                    "Mens": "39"
                  },
                  {
                    "Womens": "8",
                    "Gaming": "57",
                    "Phone_and_GPS": "72",
                    "Kids": "44",
                    "Accessories_count": "302",
                    "Entertainment_count": "49",
                    "Date": "2020-02-24",
                    "Mens": "72"
                  },
                  {
                    "Womens": "41",
                    "Gaming": "49",
                    "Phone_and_GPS": "12",
                    "Kids": "72",
                    "Accessories_count": "221",
                    "Entertainment_count": "27",
                    "Date": "2018-04-26",
                    "Mens": "20"
                  },
                  {
                    "Womens": "77",
                    "Gaming": "60",
                    "Phone_and_GPS": "28",
                    "Kids": "51",
                    "Accessories_count": "346",
                    "Entertainment_count": "84",
                    "Date": "2017-08-04",
                    "Mens": "46"
                  },
                  {
                    "Womens": "91",
                    "Gaming": "34",
                    "Phone_and_GPS": "89",
                    "Kids": "74",
                    "Accessories_count": "408",
                    "Entertainment_count": "95",
                    "Date": "2020-01-02",
                    "Mens": "25"
                  },
                  {
                    "Womens": "63",
                    "Gaming": "34",
                    "Phone_and_GPS": "70",
                    "Kids": "51",
                    "Accessories_count": "400",
                    "Entertainment_count": "89",
                    "Date": "2020-02-21",
                    "Mens": "93"
                  },
                  {
                    "Womens": "2",
                    "Gaming": "65",
                    "Phone_and_GPS": "16",
                    "Kids": "39",
                    "Accessories_count": "152",
                    "Entertainment_count": "20",
                    "Date": "2016-07-19",
                    "Mens": "10"
                  },
                  {
                    "Womens": "44",
                    "Gaming": "72",
                    "Phone_and_GPS": "48",
                    "Kids": "77",
                    "Accessories_count": "337",
                    "Entertainment_count": "91",
                    "Date": "2020-09-05",
                    "Mens": "5"
                  },
                  {
                    "Womens": "73",
                    "Gaming": "99",
                    "Phone_and_GPS": "9",
                    "Kids": "99",
                    "Accessories_count": "417",
                    "Entertainment_count": "61",
                    "Date": "2017-12-26",
                    "Mens": "76"
                  },
                  {
                    "Womens": "5",
                    "Gaming": "16",
                    "Phone_and_GPS": "3",
                    "Kids": "42",
                    "Accessories_count": "167",
                    "Entertainment_count": "94",
                    "Date": "2019-08-09",
                    "Mens": "7"
                  },
                  {
                    "Womens": "95",
                    "Gaming": "38",
                    "Phone_and_GPS": "34",
                    "Kids": "83",
                    "Accessories_count": "398",
                    "Entertainment_count": "89",
                    "Date": "2018-02-20",
                    "Mens": "59"
                  },
                  {
                    "Womens": "79",
                    "Gaming": "69",
                    "Phone_and_GPS": "70",
                    "Kids": "72",
                    "Accessories_count": "342",
                    "Entertainment_count": "24",
                    "Date": "2016-01-26",
                    "Mens": "28"
                  },
                  {
                    "Womens": "83",
                    "Gaming": "66",
                    "Phone_and_GPS": "16",
                    "Kids": "50",
                    "Accessories_count": "262",
                    "Entertainment_count": "15",
                    "Date": "2015-04-16",
                    "Mens": "32"
                  },
                  {
                    "Womens": "33",
                    "Gaming": "48",
                    "Phone_and_GPS": "29",
                    "Kids": "35",
                    "Accessories_count": "211",
                    "Entertainment_count": "19",
                    "Date": "2016-12-15",
                    "Mens": "47"
                  },
                  {
                    "Womens": "50",
                    "Gaming": "53",
                    "Phone_and_GPS": "53",
                    "Kids": "91",
                    "Accessories_count": "322",
                    "Entertainment_count": "47",
                    "Date": "2018-02-25",
                    "Mens": "28"
                  },
                  {
                    "Womens": "24",
                    "Gaming": "56",
                    "Phone_and_GPS": "30",
                    "Kids": "15",
                    "Accessories_count": "158",
                    "Entertainment_count": "7",
                    "Date": "2018-12-29",
                    "Mens": "26"
                  },
                  {
                    "Womens": "88",
                    "Gaming": "18",
                    "Phone_and_GPS": "52",
                    "Kids": "66",
                    "Accessories_count": "355",
                    "Entertainment_count": "84",
                    "Date": "2019-07-09",
                    "Mens": "47"
                  },
                  {
                    "Womens": "48",
                    "Gaming": "59",
                    "Phone_and_GPS": "96",
                    "Kids": "31",
                    "Accessories_count": "310",
                    "Entertainment_count": "23",
                    "Date": "2019-04-10",
                    "Mens": "53"
                  },
                  {
                    "Womens": "59",
                    "Gaming": "14",
                    "Phone_and_GPS": "60",
                    "Kids": "52",
                    "Accessories_count": "328",
                    "Entertainment_count": "99",
                    "Date": "2020-04-01",
                    "Mens": "44"
                  },
                  {
                    "Womens": "53",
                    "Gaming": "75",
                    "Phone_and_GPS": "62",
                    "Kids": "64",
                    "Accessories_count": "301",
                    "Entertainment_count": "31",
                    "Date": "2020-04-11",
                    "Mens": "16"
                  },
                  {
                    "Womens": "42",
                    "Gaming": "31",
                    "Phone_and_GPS": "28",
                    "Kids": "28",
                    "Accessories_count": "297",
                    "Entertainment_count": "81",
                    "Date": "2020-09-24",
                    "Mens": "87"
                  },
                  {
                    "Womens": "14",
                    "Gaming": "85",
                    "Phone_and_GPS": "93",
                    "Kids": "45",
                    "Accessories_count": "413",
                    "Entertainment_count": "80",
                    "Date": "2019-06-04",
                    "Mens": "96"
                  },
                  {
                    "Womens": "18",
                    "Gaming": "25",
                    "Phone_and_GPS": "55",
                    "Kids": "86",
                    "Accessories_count": "222",
                    "Entertainment_count": "26",
                    "Date": "2017-07-29",
                    "Mens": "12"
                  },
                  {
                    "Womens": "13",
                    "Gaming": "78",
                    "Phone_and_GPS": "46",
                    "Kids": "75",
                    "Accessories_count": "331",
                    "Entertainment_count": "73",
                    "Date": "2019-04-04",
                    "Mens": "46"
                  },
                  {
                    "Womens": "96",
                    "Gaming": "67",
                    "Phone_and_GPS": "48",
                    "Kids": "25",
                    "Accessories_count": "355",
                    "Entertainment_count": "29",
                    "Date": "2018-03-03",
                    "Mens": "90"
                  },
                  {
                    "Womens": "81",
                    "Gaming": "27",
                    "Phone_and_GPS": "12",
                    "Kids": "68",
                    "Accessories_count": "229",
                    "Entertainment_count": "12",
                    "Date": "2016-09-16",
                    "Mens": "29"
                  },
                  {
                    "Womens": "24",
                    "Gaming": "12",
                    "Phone_and_GPS": "23",
                    "Kids": "66",
                    "Accessories_count": "169",
                    "Entertainment_count": "7",
                    "Date": "2019-10-08",
                    "Mens": "37"
                  },
                  {
                    "Womens": "81",
                    "Gaming": "45",
                    "Phone_and_GPS": "15",
                    "Kids": "19",
                    "Accessories_count": "277",
                    "Entertainment_count": "41",
                    "Date": "2019-12-19",
                    "Mens": "76"
                  },
                  {
                    "Womens": "35",
                    "Gaming": "7",
                    "Phone_and_GPS": "8",
                    "Kids": "15",
                    "Accessories_count": "70",
                    "Entertainment_count": "5",
                    "Date": "2020-01-28",
                    "Mens": "0"
                  },
                  {
                    "Womens": "42",
                    "Gaming": "3",
                    "Phone_and_GPS": "22",
                    "Kids": "14",
                    "Accessories_count": "183",
                    "Entertainment_count": "42",
                    "Date": "2020-07-26",
                    "Mens": "60"
                  },
                  {
                    "Womens": "22",
                    "Gaming": "51",
                    "Phone_and_GPS": "92",
                    "Kids": "64",
                    "Accessories_count": "305",
                    "Entertainment_count": "61",
                    "Date": "2016-03-02",
                    "Mens": "15"
                  },
                  {
                    "Womens": "40",
                    "Gaming": "11",
                    "Phone_and_GPS": "51",
                    "Kids": "80",
                    "Accessories_count": "320",
                    "Entertainment_count": "93",
                    "Date": "2018-03-09",
                    "Mens": "45"
                  },
                  {
                    "Womens": "79",
                    "Gaming": "62",
                    "Phone_and_GPS": "22",
                    "Kids": "77",
                    "Accessories_count": "314",
                    "Entertainment_count": "72",
                    "Date": "2018-06-13",
                    "Mens": "2"
                  },
                  {
                    "Womens": "98",
                    "Gaming": "0",
                    "Phone_and_GPS": "91",
                    "Kids": "71",
                    "Accessories_count": "371",
                    "Entertainment_count": "57",
                    "Date": "2020-05-15",
                    "Mens": "54"
                  },
                  {
                    "Womens": "16",
                    "Gaming": "7",
                    "Phone_and_GPS": "14",
                    "Kids": "11",
                    "Accessories_count": "155",
                    "Entertainment_count": "37",
                    "Date": "2017-08-17",
                    "Mens": "70"
                  },
                  {
                    "Womens": "51",
                    "Gaming": "96",
                    "Phone_and_GPS": "10",
                    "Kids": "76",
                    "Accessories_count": "278",
                    "Entertainment_count": "44",
                    "Date": "2016-08-23",
                    "Mens": "1"
                  },
                  {
                    "Womens": "47",
                    "Gaming": "9",
                    "Phone_and_GPS": "54",
                    "Kids": "95",
                    "Accessories_count": "330",
                    "Entertainment_count": "92",
                    "Date": "2018-02-02",
                    "Mens": "33"
                  },
                  {
                    "Womens": "27",
                    "Gaming": "23",
                    "Phone_and_GPS": "13",
                    "Kids": "31",
                    "Accessories_count": "143",
                    "Entertainment_count": "41",
                    "Date": "2015-02-10",
                    "Mens": "8"
                  },
                  {
                    "Womens": "9",
                    "Gaming": "69",
                    "Phone_and_GPS": "2",
                    "Kids": "33",
                    "Accessories_count": "244",
                    "Entertainment_count": "58",
                    "Date": "2015-05-17",
                    "Mens": "73"
                  },
                  {
                    "Womens": "82",
                    "Gaming": "27",
                    "Phone_and_GPS": "36",
                    "Kids": "61",
                    "Accessories_count": "286",
                    "Entertainment_count": "70",
                    "Date": "2020-06-30",
                    "Mens": "10"
                  },
                  {
                    "Womens": "37",
                    "Gaming": "57",
                    "Phone_and_GPS": "59",
                    "Kids": "6",
                    "Accessories_count": "184",
                    "Entertainment_count": "15",
                    "Date": "2016-01-07",
                    "Mens": "10"
                  },
                  {
                    "Womens": "9",
                    "Gaming": "12",
                    "Phone_and_GPS": "70",
                    "Kids": "90",
                    "Accessories_count": "291",
                    "Entertainment_count": "80",
                    "Date": "2015-04-22",
                    "Mens": "30"
                  },
                  {
                    "Womens": "60",
                    "Gaming": "53",
                    "Phone_and_GPS": "20",
                    "Kids": "53",
                    "Accessories_count": "275",
                    "Entertainment_count": "39",
                    "Date": "2016-04-06",
                    "Mens": "50"
                  },
                  {
                    "Womens": "85",
                    "Gaming": "4",
                    "Phone_and_GPS": "36",
                    "Kids": "92",
                    "Accessories_count": "254",
                    "Entertainment_count": "34",
                    "Date": "2020-03-06",
                    "Mens": "3"
                  },
                  {
                    "Womens": "50",
                    "Gaming": "4",
                    "Phone_and_GPS": "91",
                    "Kids": "66",
                    "Accessories_count": "296",
                    "Entertainment_count": "46",
                    "Date": "2020-06-16",
                    "Mens": "39"
                  },
                  {
                    "Womens": "22",
                    "Gaming": "58",
                    "Phone_and_GPS": "54",
                    "Kids": "38",
                    "Accessories_count": "244",
                    "Entertainment_count": "13",
                    "Date": "2018-01-28",
                    "Mens": "59"
                  },
                  {
                    "Womens": "51",
                    "Gaming": "11",
                    "Phone_and_GPS": "12",
                    "Kids": "6",
                    "Accessories_count": "174",
                    "Entertainment_count": "65",
                    "Date": "2016-07-12",
                    "Mens": "29"
                  },
                  {
                    "Womens": "0",
                    "Gaming": "21",
                    "Phone_and_GPS": "42",
                    "Kids": "55",
                    "Accessories_count": "169",
                    "Entertainment_count": "1",
                    "Date": "2017-07-13",
                    "Mens": "50"
                  },
                  {
                    "Womens": "75",
                    "Gaming": "27",
                    "Phone_and_GPS": "81",
                    "Kids": "39",
                    "Accessories_count": "323",
                    "Entertainment_count": "17",
                    "Date": "2020-08-21",
                    "Mens": "84"
                  },
                  {
                    "Womens": "54",
                    "Gaming": "39",
                    "Phone_and_GPS": "33",
                    "Kids": "66",
                    "Accessories_count": "283",
                    "Entertainment_count": "64",
                    "Date": "2018-02-26",
                    "Mens": "27"
                  },
                  {
                    "Womens": "76",
                    "Gaming": "17",
                    "Phone_and_GPS": "93",
                    "Kids": "39",
                    "Accessories_count": "378",
                    "Entertainment_count": "56",
                    "Date": "2015-06-07",
                    "Mens": "97"
                  },
                  {
                    "Womens": "69",
                    "Gaming": "69",
                    "Phone_and_GPS": "24",
                    "Kids": "90",
                    "Accessories_count": "353",
                    "Entertainment_count": "93",
                    "Date": "2015-06-14",
                    "Mens": "8"
                  },
                  {
                    "Womens": "39",
                    "Gaming": "31",
                    "Phone_and_GPS": "80",
                    "Kids": "45",
                    "Accessories_count": "274",
                    "Entertainment_count": "72",
                    "Date": "2017-04-16",
                    "Mens": "7"
                  },
                  {
                    "Womens": "74",
                    "Gaming": "54",
                    "Phone_and_GPS": "44",
                    "Kids": "46",
                    "Accessories_count": "343",
                    "Entertainment_count": "98",
                    "Date": "2016-05-20",
                    "Mens": "27"
                  },
                  {
                    "Womens": "56",
                    "Gaming": "2",
                    "Phone_and_GPS": "97",
                    "Kids": "61",
                    "Accessories_count": "324",
                    "Entertainment_count": "72",
                    "Date": "2018-07-01",
                    "Mens": "36"
                  },
                  {
                    "Womens": "83",
                    "Gaming": "59",
                    "Phone_and_GPS": "17",
                    "Kids": "83",
                    "Accessories_count": "260",
                    "Entertainment_count": "8",
                    "Date": "2020-07-25",
                    "Mens": "10"
                  },
                  {
                    "Womens": "85",
                    "Gaming": "47",
                    "Phone_and_GPS": "82",
                    "Kids": "78",
                    "Accessories_count": "361",
                    "Entertainment_count": "40",
                    "Date": "2017-10-19",
                    "Mens": "29"
                  },
                  {
                    "Womens": "84",
                    "Gaming": "91",
                    "Phone_and_GPS": "10",
                    "Kids": "81",
                    "Accessories_count": "300",
                    "Entertainment_count": "34",
                    "Date": "2020-06-16",
                    "Mens": "0"
                  },
                  {
                    "Womens": "98",
                    "Gaming": "59",
                    "Phone_and_GPS": "66",
                    "Kids": "0",
                    "Accessories_count": "312",
                    "Entertainment_count": "23",
                    "Date": "2018-10-23",
                    "Mens": "66"
                  },
                  {
                    "Womens": "58",
                    "Gaming": "35",
                    "Phone_and_GPS": "38",
                    "Kids": "86",
                    "Accessories_count": "384",
                    "Entertainment_count": "77",
                    "Date": "2019-11-04",
                    "Mens": "90"
                  },
                  {
                    "Womens": "80",
                    "Gaming": "13",
                    "Phone_and_GPS": "47",
                    "Kids": "58",
                    "Accessories_count": "252",
                    "Entertainment_count": "47",
                    "Date": "2019-06-26",
                    "Mens": "7"
                  },
                  {
                    "Womens": "4",
                    "Gaming": "62",
                    "Phone_and_GPS": "84",
                    "Kids": "61",
                    "Accessories_count": "303",
                    "Entertainment_count": "45",
                    "Date": "2015-02-10",
                    "Mens": "47"
                  },
                  {
                    "Womens": "9",
                    "Gaming": "70",
                    "Phone_and_GPS": "46",
                    "Kids": "38",
                    "Accessories_count": "326",
                    "Entertainment_count": "74",
                    "Date": "2018-04-23",
                    "Mens": "89"
                  },
                  {
                    "Womens": "57",
                    "Gaming": "51",
                    "Phone_and_GPS": "9",
                    "Kids": "50",
                    "Accessories_count": "222",
                    "Entertainment_count": "46",
                    "Date": "2019-02-25",
                    "Mens": "9"
                  },
                  {
                    "Womens": "56",
                    "Gaming": "67",
                    "Phone_and_GPS": "12",
                    "Kids": "21",
                    "Accessories_count": "216",
                    "Entertainment_count": "55",
                    "Date": "2020-11-11",
                    "Mens": "5"
                  },
                  {
                    "Womens": "75",
                    "Gaming": "78",
                    "Phone_and_GPS": "48",
                    "Kids": "82",
                    "Accessories_count": "311",
                    "Entertainment_count": "11",
                    "Date": "2019-02-19",
                    "Mens": "17"
                  },
                  {
                    "Womens": "38",
                    "Gaming": "33",
                    "Phone_and_GPS": "42",
                    "Kids": "85",
                    "Accessories_count": "302",
                    "Entertainment_count": "18",
                    "Date": "2017-04-30",
                    "Mens": "86"
                  },
                  {
                    "Womens": "74",
                    "Gaming": "51",
                    "Phone_and_GPS": "59",
                    "Kids": "4",
                    "Accessories_count": "247",
                    "Entertainment_count": "6",
                    "Date": "2015-11-10",
                    "Mens": "53"
                  },
                  {
                    "Womens": "33",
                    "Gaming": "0",
                    "Phone_and_GPS": "54",
                    "Kids": "14",
                    "Accessories_count": "198",
                    "Entertainment_count": "40",
                    "Date": "2018-12-31",
                    "Mens": "57"
                  },
                  {
                    "Womens": "80",
                    "Gaming": "37",
                    "Phone_and_GPS": "52",
                    "Kids": "46",
                    "Accessories_count": "335",
                    "Entertainment_count": "88",
                    "Date": "2018-10-29",
                    "Mens": "32"
                  },
                  {
                    "Womens": "82",
                    "Gaming": "59",
                    "Phone_and_GPS": "23",
                    "Kids": "57",
                    "Accessories_count": "303",
                    "Entertainment_count": "25",
                    "Date": "2016-05-22",
                    "Mens": "57"
                  },
                  {
                    "Womens": "22",
                    "Gaming": "34",
                    "Phone_and_GPS": "21",
                    "Kids": "1",
                    "Accessories_count": "216",
                    "Entertainment_count": "92",
                    "Date": "2017-07-29",
                    "Mens": "46"
                  },
                  {
                    "Womens": "62",
                    "Gaming": "24",
                    "Phone_and_GPS": "36",
                    "Kids": "3",
                    "Accessories_count": "135",
                    "Entertainment_count": "2",
                    "Date": "2017-11-01",
                    "Mens": "8"
                  },
                  {
                    "Womens": "22",
                    "Gaming": "66",
                    "Phone_and_GPS": "30",
                    "Kids": "76",
                    "Accessories_count": "249",
                    "Entertainment_count": "48",
                    "Date": "2019-10-08",
                    "Mens": "7"
                  },
                  {
                    "Womens": "65",
                    "Gaming": "32",
                    "Phone_and_GPS": "76",
                    "Kids": "30",
                    "Accessories_count": "287",
                    "Entertainment_count": "19",
                    "Date": "2016-10-13",
                    "Mens": "65"
                  },
                  {
                    "Womens": "5",
                    "Gaming": "61",
                    "Phone_and_GPS": "22",
                    "Kids": "50",
                    "Accessories_count": "264",
                    "Entertainment_count": "90",
                    "Date": "2019-04-24",
                    "Mens": "36"
                  },
                  {
                    "Womens": "34",
                    "Gaming": "61",
                    "Phone_and_GPS": "53",
                    "Kids": "43",
                    "Accessories_count": "346",
                    "Entertainment_count": "76",
                    "Date": "2020-12-04",
                    "Mens": "79"
                  },
                  {
                    "Womens": "64",
                    "Gaming": "35",
                    "Phone_and_GPS": "86",
                    "Kids": "16",
                    "Accessories_count": "272",
                    "Entertainment_count": "21",
                    "Date": "2016-11-12",
                    "Mens": "50"
                  },
                  {
                    "Womens": "49",
                    "Gaming": "68",
                    "Phone_and_GPS": "67",
                    "Kids": "85",
                    "Accessories_count": "312",
                    "Entertainment_count": "14",
                    "Date": "2015-07-05",
                    "Mens": "29"
                  },
                  {
                    "Womens": "38",
                    "Gaming": "24",
                    "Phone_and_GPS": "24",
                    "Kids": "96",
                    "Accessories_count": "297",
                    "Entertainment_count": "91",
                    "Date": "2018-04-14",
                    "Mens": "24"
                  },
                  {
                    "Womens": "80",
                    "Gaming": "84",
                    "Phone_and_GPS": "5",
                    "Kids": "35",
                    "Accessories_count": "309",
                    "Entertainment_count": "97",
                    "Date": "2018-04-27",
                    "Mens": "8"
                  },
                  {
                    "Womens": "76",
                    "Gaming": "20",
                    "Phone_and_GPS": "13",
                    "Kids": "28",
                    "Accessories_count": "172",
                    "Entertainment_count": "34",
                    "Date": "2018-04-11",
                    "Mens": "1"
                  },
                  {
                    "Womens": "96",
                    "Gaming": "85",
                    "Phone_and_GPS": "63",
                    "Kids": "64",
                    "Accessories_count": "387",
                    "Entertainment_count": "32",
                    "Date": "2020-01-27",
                    "Mens": "47"
                  },
                  {
                    "Womens": "22",
                    "Gaming": "69",
                    "Phone_and_GPS": "0",
                    "Kids": "55",
                    "Accessories_count": "276",
                    "Entertainment_count": "86",
                    "Date": "2016-08-22",
                    "Mens": "44"
                  },
                  {
                    "Womens": "69",
                    "Gaming": "88",
                    "Phone_and_GPS": "61",
                    "Kids": "79",
                    "Accessories_count": "460",
                    "Entertainment_count": "72",
                    "Date": "2019-04-12",
                    "Mens": "91"
                  },
                  {
                    "Womens": "98",
                    "Gaming": "35",
                    "Phone_and_GPS": "92",
                    "Kids": "88",
                    "Accessories_count": "426",
                    "Entertainment_count": "44",
                    "Date": "2015-11-07",
                    "Mens": "69"
                  },
                  {
                    "Womens": "97",
                    "Gaming": "36",
                    "Phone_and_GPS": "19",
                    "Kids": "12",
                    "Accessories_count": "215",
                    "Entertainment_count": "29",
                    "Date": "2019-12-21",
                    "Mens": "22"
                  },
                  {
                    "Womens": "93",
                    "Gaming": "57",
                    "Phone_and_GPS": "90",
                    "Kids": "22",
                    "Accessories_count": "323",
                    "Entertainment_count": "22",
                    "Date": "2017-11-27",
                    "Mens": "39"
                  },
                  {
                    "Womens": "88",
                    "Gaming": "28",
                    "Phone_and_GPS": "40",
                    "Kids": "90",
                    "Accessories_count": "336",
                    "Entertainment_count": "85",
                    "Date": "2019-08-20",
                    "Mens": "5"
                  },
                  {
                    "Womens": "20",
                    "Gaming": "36",
                    "Phone_and_GPS": "91",
                    "Kids": "4",
                    "Accessories_count": "183",
                    "Entertainment_count": "18",
                    "Date": "2016-11-17",
                    "Mens": "14"
                  },
                  {
                    "Womens": "45",
                    "Gaming": "37",
                    "Phone_and_GPS": "31",
                    "Kids": "36",
                    "Accessories_count": "281",
                    "Entertainment_count": "76",
                    "Date": "2020-01-07",
                    "Mens": "56"
                  },
                  {
                    "Womens": "32",
                    "Gaming": "9",
                    "Phone_and_GPS": "32",
                    "Kids": "25",
                    "Accessories_count": "188",
                    "Entertainment_count": "81",
                    "Date": "2017-02-11",
                    "Mens": "9"
                  },
                  {
                    "Womens": "24",
                    "Gaming": "58",
                    "Phone_and_GPS": "65",
                    "Kids": "54",
                    "Accessories_count": "268",
                    "Entertainment_count": "18",
                    "Date": "2016-10-03",
                    "Mens": "49"
                  },
                  {
                    "Womens": "83",
                    "Gaming": "62",
                    "Phone_and_GPS": "75",
                    "Kids": "13",
                    "Accessories_count": "310",
                    "Entertainment_count": "3",
                    "Date": "2015-08-01",
                    "Mens": "74"
                  },
                  {
                    "Womens": "88",
                    "Gaming": "58",
                    "Phone_and_GPS": "19",
                    "Kids": "62",
                    "Accessories_count": "284",
                    "Entertainment_count": "49",
                    "Date": "2019-07-15",
                    "Mens": "8"
                  },
                  {
                    "Womens": "99",
                    "Gaming": "73",
                    "Phone_and_GPS": "4",
                    "Kids": "17",
                    "Accessories_count": "312",
                    "Entertainment_count": "41",
                    "Date": "2017-07-31",
                    "Mens": "78"
                  },
                  {
                    "Womens": "98",
                    "Gaming": "69",
                    "Phone_and_GPS": "44",
                    "Kids": "18",
                    "Accessories_count": "325",
                    "Entertainment_count": "89",
                    "Date": "2019-10-02",
                    "Mens": "7"
                  },
                  {
                    "Womens": "43",
                    "Gaming": "65",
                    "Phone_and_GPS": "82",
                    "Kids": "9",
                    "Accessories_count": "246",
                    "Entertainment_count": "27",
                    "Date": "2019-11-18",
                    "Mens": "20"
                  },
                  {
                    "Womens": "75",
                    "Gaming": "79",
                    "Phone_and_GPS": "7",
                    "Kids": "51",
                    "Accessories_count": "371",
                    "Entertainment_count": "61",
                    "Date": "2018-04-07",
                    "Mens": "98"
                  },
                  {
                    "Womens": "94",
                    "Gaming": "41",
                    "Phone_and_GPS": "73",
                    "Kids": "74",
                    "Accessories_count": "444",
                    "Entertainment_count": "76",
                    "Date": "2019-05-20",
                    "Mens": "86"
                  },
                  {
                    "Womens": "45",
                    "Gaming": "11",
                    "Phone_and_GPS": "6",
                    "Kids": "55",
                    "Accessories_count": "209",
                    "Entertainment_count": "27",
                    "Date": "2016-07-12",
                    "Mens": "65"
                  },
                  {
                    "Womens": "74",
                    "Gaming": "90",
                    "Phone_and_GPS": "67",
                    "Kids": "55",
                    "Accessories_count": "384",
                    "Entertainment_count": "60",
                    "Date": "2018-02-11",
                    "Mens": "38"
                  },
                  {
                    "Womens": "56",
                    "Gaming": "35",
                    "Phone_and_GPS": "84",
                    "Kids": "58",
                    "Accessories_count": "300",
                    "Entertainment_count": "43",
                    "Date": "2018-10-20",
                    "Mens": "24"
                  },
                  {
                    "Womens": "68",
                    "Gaming": "98",
                    "Phone_and_GPS": "52",
                    "Kids": "81",
                    "Accessories_count": "432",
                    "Entertainment_count": "69",
                    "Date": "2020-08-12",
                    "Mens": "64"
                  },
                  {
                    "Womens": "46",
                    "Gaming": "64",
                    "Phone_and_GPS": "22",
                    "Kids": "96",
                    "Accessories_count": "351",
                    "Entertainment_count": "73",
                    "Date": "2016-08-10",
                    "Mens": "50"
                  },
                  {
                    "Womens": "21",
                    "Gaming": "67",
                    "Phone_and_GPS": "3",
                    "Kids": "8",
                    "Accessories_count": "175",
                    "Entertainment_count": "18",
                    "Date": "2016-05-28",
                    "Mens": "58"
                  },
                  {
                    "Womens": "11",
                    "Gaming": "21",
                    "Phone_and_GPS": "72",
                    "Kids": "37",
                    "Accessories_count": "225",
                    "Entertainment_count": "43",
                    "Date": "2017-08-16",
                    "Mens": "41"
                  },
                  {
                    "Womens": "77",
                    "Gaming": "4",
                    "Phone_and_GPS": "24",
                    "Kids": "93",
                    "Accessories_count": "306",
                    "Entertainment_count": "60",
                    "Date": "2019-03-12",
                    "Mens": "48"
                  },
                  {
                    "Womens": "72",
                    "Gaming": "86",
                    "Phone_and_GPS": "22",
                    "Kids": "17",
                    "Accessories_count": "217",
                    "Entertainment_count": "12",
                    "Date": "2018-02-19",
                    "Mens": "8"
                  },
                  {
                    "Womens": "89",
                    "Gaming": "46",
                    "Phone_and_GPS": "56",
                    "Kids": "44",
                    "Accessories_count": "266",
                    "Entertainment_count": "9",
                    "Date": "2017-01-24",
                    "Mens": "22"
                  },
                  {
                    "Womens": "4",
                    "Gaming": "26",
                    "Phone_and_GPS": "58",
                    "Kids": "69",
                    "Accessories_count": "264",
                    "Entertainment_count": "94",
                    "Date": "2016-05-18",
                    "Mens": "13"
                  },
                  {
                    "Womens": "83",
                    "Gaming": "12",
                    "Phone_and_GPS": "82",
                    "Kids": "77",
                    "Accessories_count": "332",
                    "Entertainment_count": "25",
                    "Date": "2019-10-08",
                    "Mens": "53"
                  },
                  {
                    "Womens": "40",
                    "Gaming": "64",
                    "Phone_and_GPS": "45",
                    "Kids": "9",
                    "Accessories_count": "305",
                    "Entertainment_count": "53",
                    "Date": "2020-12-25",
                    "Mens": "94"
                  },
                  {
                    "Womens": "45",
                    "Gaming": "61",
                    "Phone_and_GPS": "81",
                    "Kids": "21",
                    "Accessories_count": "314",
                    "Entertainment_count": "23",
                    "Date": "2018-06-12",
                    "Mens": "83"
                  },
                  {
                    "Womens": "96",
                    "Gaming": "44",
                    "Phone_and_GPS": "20",
                    "Kids": "0",
                    "Accessories_count": "272",
                    "Entertainment_count": "38",
                    "Date": "2020-01-03",
                    "Mens": "74"
                  },
                  {
                    "Womens": "45",
                    "Gaming": "57",
                    "Phone_and_GPS": "23",
                    "Kids": "56",
                    "Accessories_count": "252",
                    "Entertainment_count": "53",
                    "Date": "2018-12-26",
                    "Mens": "18"
                  },
                  {
                    "Womens": "96",
                    "Gaming": "92",
                    "Phone_and_GPS": "52",
                    "Kids": "7",
                    "Accessories_count": "316",
                    "Entertainment_count": "56",
                    "Date": "2017-06-29",
                    "Mens": "13"
                  },
                  {
                    "Womens": "78",
                    "Gaming": "42",
                    "Phone_and_GPS": "4",
                    "Kids": "29",
                    "Accessories_count": "253",
                    "Entertainment_count": "50",
                    "Date": "2018-11-30",
                    "Mens": "50"
                  },
                  {
                    "Womens": "41",
                    "Gaming": "55",
                    "Phone_and_GPS": "60",
                    "Kids": "95",
                    "Accessories_count": "339",
                    "Entertainment_count": "43",
                    "Date": "2018-11-12",
                    "Mens": "45"
                  },
                  {
                    "Womens": "53",
                    "Gaming": "35",
                    "Phone_and_GPS": "99",
                    "Kids": "0",
                    "Accessories_count": "235",
                    "Entertainment_count": "15",
                    "Date": "2016-05-04",
                    "Mens": "33"
                  },
                  {
                    "Womens": "56",
                    "Gaming": "53",
                    "Phone_and_GPS": "19",
                    "Kids": "31",
                    "Accessories_count": "216",
                    "Entertainment_count": "38",
                    "Date": "2019-06-08",
                    "Mens": "19"
                  },
                  {
                    "Womens": "73",
                    "Gaming": "74",
                    "Phone_and_GPS": "97",
                    "Kids": "75",
                    "Accessories_count": "420",
                    "Entertainment_count": "25",
                    "Date": "2015-01-25",
                    "Mens": "76"
                  },
                  {
                    "Womens": "67",
                    "Gaming": "80",
                    "Phone_and_GPS": "53",
                    "Kids": "93",
                    "Accessories_count": "362",
                    "Entertainment_count": "56",
                    "Date": "2015-03-18",
                    "Mens": "13"
                  },
                  {
                    "Womens": "1",
                    "Gaming": "26",
                    "Phone_and_GPS": "12",
                    "Kids": "98",
                    "Accessories_count": "239",
                    "Entertainment_count": "45",
                    "Date": "2018-02-16",
                    "Mens": "57"
                  },
                  {
                    "Womens": "85",
                    "Gaming": "87",
                    "Phone_and_GPS": "26",
                    "Kids": "62",
                    "Accessories_count": "321",
                    "Entertainment_count": "3",
                    "Date": "2020-12-02",
                    "Mens": "58"
                  },
                  {
                    "Womens": "31",
                    "Gaming": "10",
                    "Phone_and_GPS": "10",
                    "Kids": "96",
                    "Accessories_count": "222",
                    "Entertainment_count": "40",
                    "Date": "2018-11-21",
                    "Mens": "35"
                  },
                  {
                    "Womens": "13",
                    "Gaming": "52",
                    "Phone_and_GPS": "24",
                    "Kids": "54",
                    "Accessories_count": "262",
                    "Entertainment_count": "88",
                    "Date": "2018-08-21",
                    "Mens": "31"
                  },
                  {
                    "Womens": "36",
                    "Gaming": "96",
                    "Phone_and_GPS": "58",
                    "Kids": "4",
                    "Accessories_count": "250",
                    "Entertainment_count": "8",
                    "Date": "2017-04-12",
                    "Mens": "48"
                  },
                  {
                    "Womens": "9",
                    "Gaming": "18",
                    "Phone_and_GPS": "59",
                    "Kids": "36",
                    "Accessories_count": "244",
                    "Entertainment_count": "77",
                    "Date": "2018-04-06",
                    "Mens": "45"
                  },
                  {
                    "Womens": "91",
                    "Gaming": "93",
                    "Phone_and_GPS": "2",
                    "Kids": "73",
                    "Accessories_count": "300",
                    "Entertainment_count": "28",
                    "Date": "2016-08-25",
                    "Mens": "13"
                  },
                  {
                    "Womens": "77",
                    "Gaming": "34",
                    "Phone_and_GPS": "93",
                    "Kids": "77",
                    "Accessories_count": "409",
                    "Entertainment_count": "79",
                    "Date": "2015-05-22",
                    "Mens": "49"
                  },
                  {
                    "Womens": "65",
                    "Gaming": "48",
                    "Phone_and_GPS": "11",
                    "Kids": "86",
                    "Accessories_count": "293",
                    "Entertainment_count": "26",
                    "Date": "2019-11-02",
                    "Mens": "57"
                  },
                  {
                    "Womens": "6",
                    "Gaming": "37",
                    "Phone_and_GPS": "28",
                    "Kids": "73",
                    "Accessories_count": "207",
                    "Entertainment_count": "12",
                    "Date": "2018-05-12",
                    "Mens": "51"
                  },
                  {
                    "Womens": "44",
                    "Gaming": "1",
                    "Phone_and_GPS": "2",
                    "Kids": "28",
                    "Accessories_count": "182",
                    "Entertainment_count": "79",
                    "Date": "2016-10-22",
                    "Mens": "28"
                  },
                  {
                    "Womens": "66",
                    "Gaming": "71",
                    "Phone_and_GPS": "96",
                    "Kids": "64",
                    "Accessories_count": "417",
                    "Entertainment_count": "43",
                    "Date": "2017-05-21",
                    "Mens": "77"
                  },
                  {
                    "Womens": "86",
                    "Gaming": "18",
                    "Phone_and_GPS": "11",
                    "Kids": "10",
                    "Accessories_count": "189",
                    "Entertainment_count": "55",
                    "Date": "2017-10-18",
                    "Mens": "9"
                  },
                  {
                    "Womens": "97",
                    "Gaming": "50",
                    "Phone_and_GPS": "85",
                    "Kids": "94",
                    "Accessories_count": "400",
                    "Entertainment_count": "47",
                    "Date": "2019-09-01",
                    "Mens": "27"
                  },
                  {
                    "Womens": "83",
                    "Gaming": "25",
                    "Phone_and_GPS": "80",
                    "Kids": "38",
                    "Accessories_count": "352",
                    "Entertainment_count": "48",
                    "Date": "2016-11-28",
                    "Mens": "78"
                  },
                  {
                    "Womens": "71",
                    "Gaming": "38",
                    "Phone_and_GPS": "92",
                    "Kids": "98",
                    "Accessories_count": "451",
                    "Entertainment_count": "70",
                    "Date": "2015-02-17",
                    "Mens": "82"
                  },
                  {
                    "Womens": "22",
                    "Gaming": "68",
                    "Phone_and_GPS": "79",
                    "Kids": "77",
                    "Accessories_count": "280",
                    "Entertainment_count": "25",
                    "Date": "2018-10-31",
                    "Mens": "9"
                  },
                  {
                    "Womens": "10",
                    "Gaming": "39",
                    "Phone_and_GPS": "93",
                    "Kids": "52",
                    "Accessories_count": "372",
                    "Entertainment_count": "81",
                    "Date": "2019-07-22",
                    "Mens": "97"
                  },
                  {
                    "Womens": "45",
                    "Gaming": "94",
                    "Phone_and_GPS": "67",
                    "Kids": "56",
                    "Accessories_count": "387",
                    "Entertainment_count": "66",
                    "Date": "2016-04-20",
                    "Mens": "59"
                  },
                  {
                    "Womens": "33",
                    "Gaming": "14",
                    "Phone_and_GPS": "53",
                    "Kids": "71",
                    "Accessories_count": "246",
                    "Entertainment_count": "51",
                    "Date": "2020-03-25",
                    "Mens": "24"
                  },
                  {
                    "Womens": "83",
                    "Gaming": "5",
                    "Phone_and_GPS": "5",
                    "Kids": "73",
                    "Accessories_count": "191",
                    "Entertainment_count": "14",
                    "Date": "2020-10-09",
                    "Mens": "11"
                  },
                  {
                    "Womens": "84",
                    "Gaming": "28",
                    "Phone_and_GPS": "77",
                    "Kids": "24",
                    "Accessories_count": "331",
                    "Entertainment_count": "73",
                    "Date": "2017-05-19",
                    "Mens": "45"
                  },
                  {
                    "Womens": "33",
                    "Gaming": "59",
                    "Phone_and_GPS": "70",
                    "Kids": "10",
                    "Accessories_count": "293",
                    "Entertainment_count": "73",
                    "Date": "2017-12-06",
                    "Mens": "48"
                  },
                  {
                    "Womens": "31",
                    "Gaming": "94",
                    "Phone_and_GPS": "7",
                    "Kids": "30",
                    "Accessories_count": "218",
                    "Entertainment_count": "30",
                    "Date": "2020-12-03",
                    "Mens": "26"
                  },
                  {
                    "Womens": "86",
                    "Gaming": "93",
                    "Phone_and_GPS": "53",
                    "Kids": "61",
                    "Accessories_count": "438",
                    "Entertainment_count": "95",
                    "Date": "2019-07-06",
                    "Mens": "50"
                  },
                  {
                    "Womens": "48",
                    "Gaming": "88",
                    "Phone_and_GPS": "38",
                    "Kids": "20",
                    "Accessories_count": "287",
                    "Entertainment_count": "55",
                    "Date": "2015-10-16",
                    "Mens": "38"
                  },
                  {
                    "Womens": "19",
                    "Gaming": "59",
                    "Phone_and_GPS": "68",
                    "Kids": "44",
                    "Accessories_count": "288",
                    "Entertainment_count": "73",
                    "Date": "2019-05-05",
                    "Mens": "25"
                  },
                  {
                    "Womens": "82",
                    "Gaming": "50",
                    "Phone_and_GPS": "34",
                    "Kids": "78",
                    "Accessories_count": "285",
                    "Entertainment_count": "1",
                    "Date": "2017-08-15",
                    "Mens": "40"
                  },
                  {
                    "Womens": "78",
                    "Gaming": "40",
                    "Phone_and_GPS": "25",
                    "Kids": "44",
                    "Accessories_count": "294",
                    "Entertainment_count": "78",
                    "Date": "2019-07-31",
                    "Mens": "29"
                  },
                  {
                    "Womens": "16",
                    "Gaming": "36",
                    "Phone_and_GPS": "50",
                    "Kids": "26",
                    "Accessories_count": "164",
                    "Entertainment_count": "25",
                    "Date": "2016-05-23",
                    "Mens": "11"
                  },
                  {
                    "Womens": "37",
                    "Gaming": "4",
                    "Phone_and_GPS": "96",
                    "Kids": "64",
                    "Accessories_count": "267",
                    "Entertainment_count": "12",
                    "Date": "2019-10-19",
                    "Mens": "54"
                  },
                  {
                    "Womens": "93",
                    "Gaming": "66",
                    "Phone_and_GPS": "54",
                    "Kids": "61",
                    "Accessories_count": "375",
                    "Entertainment_count": "35",
                    "Date": "2016-06-21",
                    "Mens": "66"
                  },
                  {
                    "Womens": "28",
                    "Gaming": "40",
                    "Phone_and_GPS": "75",
                    "Kids": "3",
                    "Accessories_count": "262",
                    "Entertainment_count": "79",
                    "Date": "2017-07-12",
                    "Mens": "37"
                  },
                  {
                    "Womens": "71",
                    "Gaming": "50",
                    "Phone_and_GPS": "51",
                    "Kids": "75",
                    "Accessories_count": "319",
                    "Entertainment_count": "5",
                    "Date": "2015-02-28",
                    "Mens": "67"
                  },
                  {
                    "Womens": "74",
                    "Gaming": "73",
                    "Phone_and_GPS": "44",
                    "Kids": "77",
                    "Accessories_count": "417",
                    "Entertainment_count": "58",
                    "Date": "2018-07-21",
                    "Mens": "91"
                  },
                  {
                    "Womens": "12",
                    "Gaming": "71",
                    "Phone_and_GPS": "15",
                    "Kids": "34",
                    "Accessories_count": "231",
                    "Entertainment_count": "91",
                    "Date": "2018-08-14",
                    "Mens": "8"
                  },
                  {
                    "Womens": "80",
                    "Gaming": "92",
                    "Phone_and_GPS": "94",
                    "Kids": "38",
                    "Accessories_count": "433",
                    "Entertainment_count": "41",
                    "Date": "2018-08-27",
                    "Mens": "88"
                  },
                  {
                    "Womens": "49",
                    "Gaming": "7",
                    "Phone_and_GPS": "22",
                    "Kids": "47",
                    "Accessories_count": "203",
                    "Entertainment_count": "5",
                    "Date": "2020-07-09",
                    "Mens": "73"
                  },
                  {
                    "Womens": "15",
                    "Gaming": "7",
                    "Phone_and_GPS": "42",
                    "Kids": "97",
                    "Accessories_count": "307",
                    "Entertainment_count": "55",
                    "Date": "2018-03-12",
                    "Mens": "91"
                  },
                  {
                    "Womens": "78",
                    "Gaming": "20",
                    "Phone_and_GPS": "96",
                    "Kids": "46",
                    "Accessories_count": "353",
                    "Entertainment_count": "18",
                    "Date": "2018-02-06",
                    "Mens": "95"
                  },
                  {
                    "Womens": "49",
                    "Gaming": "64",
                    "Phone_and_GPS": "85",
                    "Kids": "90",
                    "Accessories_count": "414",
                    "Entertainment_count": "46",
                    "Date": "2018-07-10",
                    "Mens": "80"
                  },
                  {
                    "Womens": "27",
                    "Gaming": "84",
                    "Phone_and_GPS": "28",
                    "Kids": "3",
                    "Accessories_count": "247",
                    "Entertainment_count": "64",
                    "Date": "2015-04-21",
                    "Mens": "41"
                  },
                  {
                    "Womens": "9",
                    "Gaming": "11",
                    "Phone_and_GPS": "68",
                    "Kids": "56",
                    "Accessories_count": "174",
                    "Entertainment_count": "7",
                    "Date": "2017-06-22",
                    "Mens": "23"
                  },
                  {
                    "Womens": "19",
                    "Gaming": "24",
                    "Phone_and_GPS": "97",
                    "Kids": "84",
                    "Accessories_count": "391",
                    "Entertainment_count": "96",
                    "Date": "2016-09-11",
                    "Mens": "71"
                  },
                  {
                    "Womens": "19",
                    "Gaming": "58",
                    "Phone_and_GPS": "88",
                    "Kids": "14",
                    "Accessories_count": "280",
                    "Entertainment_count": "80",
                    "Date": "2018-10-27",
                    "Mens": "21"
                  },
                  {
                    "Womens": "73",
                    "Gaming": "55",
                    "Phone_and_GPS": "97",
                    "Kids": "71",
                    "Accessories_count": "384",
                    "Entertainment_count": "12",
                    "Date": "2019-08-13",
                    "Mens": "76"
                  },
                  {
                    "Womens": "81",
                    "Gaming": "70",
                    "Phone_and_GPS": "51",
                    "Kids": "14",
                    "Accessories_count": "370",
                    "Entertainment_count": "93",
                    "Date": "2015-08-19",
                    "Mens": "61"
                  },
                  {
                    "Womens": "30",
                    "Gaming": "2",
                    "Phone_and_GPS": "85",
                    "Kids": "5",
                    "Accessories_count": "193",
                    "Entertainment_count": "42",
                    "Date": "2018-12-27",
                    "Mens": "29"
                  },
                  {
                    "Womens": "63",
                    "Gaming": "92",
                    "Phone_and_GPS": "76",
                    "Kids": "28",
                    "Accessories_count": "371",
                    "Entertainment_count": "30",
                    "Date": "2019-10-15",
                    "Mens": "82"
                  },
                  {
                    "Womens": "61",
                    "Gaming": "71",
                    "Phone_and_GPS": "26",
                    "Kids": "34",
                    "Accessories_count": "246",
                    "Entertainment_count": "18",
                    "Date": "2016-06-21",
                    "Mens": "36"
                  },
                  {
                    "Womens": "63",
                    "Gaming": "66",
                    "Phone_and_GPS": "60",
                    "Kids": "93",
                    "Accessories_count": "384",
                    "Entertainment_count": "12",
                    "Date": "2016-05-06",
                    "Mens": "90"
                  },
                  {
                    "Womens": "35",
                    "Gaming": "77",
                    "Phone_and_GPS": "80",
                    "Kids": "39",
                    "Accessories_count": "413",
                    "Entertainment_count": "84",
                    "Date": "2019-11-21",
                    "Mens": "98"
                  },
                  {
                    "Womens": "71",
                    "Gaming": "95",
                    "Phone_and_GPS": "24",
                    "Kids": "32",
                    "Accessories_count": "320",
                    "Entertainment_count": "33",
                    "Date": "2020-12-01",
                    "Mens": "65"
                  },
                  {
                    "Womens": "57",
                    "Gaming": "30",
                    "Phone_and_GPS": "39",
                    "Kids": "18",
                    "Accessories_count": "278",
                    "Entertainment_count": "81",
                    "Date": "2020-10-11",
                    "Mens": "53"
                  },
                  {
                    "Womens": "80",
                    "Gaming": "75",
                    "Phone_and_GPS": "92",
                    "Kids": "91",
                    "Accessories_count": "439",
                    "Entertainment_count": "85",
                    "Date": "2016-09-01",
                    "Mens": "16"
                  },
                  {
                    "Womens": "83",
                    "Gaming": "37",
                    "Phone_and_GPS": "43",
                    "Kids": "56",
                    "Accessories_count": "386",
                    "Entertainment_count": "93",
                    "Date": "2017-02-18",
                    "Mens": "74"
                  },
                  {
                    "Womens": "13",
                    "Gaming": "0",
                    "Phone_and_GPS": "32",
                    "Kids": "27",
                    "Accessories_count": "135",
                    "Entertainment_count": "25",
                    "Date": "2015-10-19",
                    "Mens": "38"
                  },
                  {
                    "Womens": "57",
                    "Gaming": "76",
                    "Phone_and_GPS": "61",
                    "Kids": "88",
                    "Accessories_count": "316",
                    "Entertainment_count": "20",
                    "Date": "2019-02-22",
                    "Mens": "14"
                  },
                  {
                    "Womens": "9",
                    "Gaming": "46",
                    "Phone_and_GPS": "41",
                    "Kids": "93",
                    "Accessories_count": "286",
                    "Entertainment_count": "21",
                    "Date": "2018-09-05",
                    "Mens": "76"
                  },
                  {
                    "Womens": "27",
                    "Gaming": "35",
                    "Phone_and_GPS": "89",
                    "Kids": "75",
                    "Accessories_count": "355",
                    "Entertainment_count": "44",
                    "Date": "2017-06-04",
                    "Mens": "85"
                  },
                  {
                    "Womens": "57",
                    "Gaming": "82",
                    "Phone_and_GPS": "9",
                    "Kids": "44",
                    "Accessories_count": "299",
                    "Entertainment_count": "86",
                    "Date": "2019-12-01",
                    "Mens": "21"
                  },
                  {
                    "Womens": "85",
                    "Gaming": "73",
                    "Phone_and_GPS": "75",
                    "Kids": "11",
                    "Accessories_count": "363",
                    "Entertainment_count": "86",
                    "Date": "2015-08-13",
                    "Mens": "33"
                  },
                  {
                    "Womens": "13",
                    "Gaming": "31",
                    "Phone_and_GPS": "23",
                    "Kids": "88",
                    "Accessories_count": "223",
                    "Entertainment_count": "35",
                    "Date": "2020-12-25",
                    "Mens": "33"
                  },
                  {
                    "Womens": "52",
                    "Gaming": "74",
                    "Phone_and_GPS": "22",
                    "Kids": "17",
                    "Accessories_count": "297",
                    "Entertainment_count": "49",
                    "Date": "2020-09-02",
                    "Mens": "83"
                  },
                  {
                    "Womens": "76",
                    "Gaming": "91",
                    "Phone_and_GPS": "64",
                    "Kids": "78",
                    "Accessories_count": "406",
                    "Entertainment_count": "54",
                    "Date": "2017-09-30",
                    "Mens": "43"
                  },
                  {
                    "Womens": "38",
                    "Gaming": "48",
                    "Phone_and_GPS": "20",
                    "Kids": "73",
                    "Accessories_count": "239",
                    "Entertainment_count": "39",
                    "Date": "2017-10-05",
                    "Mens": "21"
                  },
                  {
                    "Womens": "95",
                    "Gaming": "63",
                    "Phone_and_GPS": "80",
                    "Kids": "45",
                    "Accessories_count": "360",
                    "Entertainment_count": "68",
                    "Date": "2019-08-11",
                    "Mens": "9"
                  },
                  {
                    "Womens": "21",
                    "Gaming": "65",
                    "Phone_and_GPS": "23",
                    "Kids": "25",
                    "Accessories_count": "208",
                    "Entertainment_count": "50",
                    "Date": "2015-03-31",
                    "Mens": "24"
                  },
                  {
                    "Womens": "35",
                    "Gaming": "69",
                    "Phone_and_GPS": "39",
                    "Kids": "52",
                    "Accessories_count": "285",
                    "Entertainment_count": "34",
                    "Date": "2018-08-20",
                    "Mens": "56"
                  },
                  {
                    "Womens": "32",
                    "Gaming": "8",
                    "Phone_and_GPS": "85",
                    "Kids": "94",
                    "Accessories_count": "303",
                    "Entertainment_count": "38",
                    "Date": "2015-10-10",
                    "Mens": "46"
                  },
                  {
                    "Womens": "56",
                    "Gaming": "75",
                    "Phone_and_GPS": "89",
                    "Kids": "26",
                    "Accessories_count": "346",
                    "Entertainment_count": "45",
                    "Date": "2018-01-28",
                    "Mens": "55"
                  },
                  {
                    "Womens": "94",
                    "Gaming": "45",
                    "Phone_and_GPS": "86",
                    "Kids": "69",
                    "Accessories_count": "381",
                    "Entertainment_count": "45",
                    "Date": "2019-02-11",
                    "Mens": "42"
                  },
                  {
                    "Womens": "62",
                    "Gaming": "29",
                    "Phone_and_GPS": "84",
                    "Kids": "8",
                    "Accessories_count": "323",
                    "Entertainment_count": "58",
                    "Date": "2019-05-03",
                    "Mens": "82"
                  },
                  {
                    "Womens": "51",
                    "Gaming": "42",
                    "Phone_and_GPS": "80",
                    "Kids": "95",
                    "Accessories_count": "308",
                    "Entertainment_count": "8",
                    "Date": "2015-12-08",
                    "Mens": "32"
                  },
                  {
                    "Womens": "36",
                    "Gaming": "3",
                    "Phone_and_GPS": "47",
                    "Kids": "23",
                    "Accessories_count": "132",
                    "Entertainment_count": "1",
                    "Date": "2020-12-15",
                    "Mens": "22"
                  },
                  {
                    "Womens": "38",
                    "Gaming": "92",
                    "Phone_and_GPS": "48",
                    "Kids": "73",
                    "Accessories_count": "311",
                    "Entertainment_count": "28",
                    "Date": "2020-10-11",
                    "Mens": "32"
                  },
                  {
                    "Womens": "44",
                    "Gaming": "0",
                    "Phone_and_GPS": "25",
                    "Kids": "49",
                    "Accessories_count": "169",
                    "Entertainment_count": "46",
                    "Date": "2017-02-10",
                    "Mens": "5"
                  },
                  {
                    "Womens": "70",
                    "Gaming": "28",
                    "Phone_and_GPS": "72",
                    "Kids": "79",
                    "Accessories_count": "289",
                    "Entertainment_count": "31",
                    "Date": "2017-05-14",
                    "Mens": "9"
                  },
                  {
                    "Womens": "68",
                    "Gaming": "63",
                    "Phone_and_GPS": "32",
                    "Kids": "62",
                    "Accessories_count": "382",
                    "Entertainment_count": "83",
                    "Date": "2015-04-15",
                    "Mens": "74"
                  },
                  {
                    "Womens": "2",
                    "Gaming": "71",
                    "Phone_and_GPS": "76",
                    "Kids": "83",
                    "Accessories_count": "311",
                    "Entertainment_count": "3",
                    "Date": "2017-12-25",
                    "Mens": "76"
                  },
                  {
                    "Womens": "64",
                    "Gaming": "39",
                    "Phone_and_GPS": "8",
                    "Kids": "99",
                    "Accessories_count": "323",
                    "Entertainment_count": "47",
                    "Date": "2016-03-26",
                    "Mens": "66"
                  },
                  {
                    "Womens": "64",
                    "Gaming": "94",
                    "Phone_and_GPS": "30",
                    "Kids": "88",
                    "Accessories_count": "369",
                    "Entertainment_count": "41",
                    "Date": "2017-06-22",
                    "Mens": "52"
                  },
                  {
                    "Womens": "48",
                    "Gaming": "48",
                    "Phone_and_GPS": "15",
                    "Kids": "57",
                    "Accessories_count": "315",
                    "Entertainment_count": "81",
                    "Date": "2015-08-09",
                    "Mens": "66"
                  },
                  {
                    "Womens": "27",
                    "Gaming": "66",
                    "Phone_and_GPS": "1",
                    "Kids": "11",
                    "Accessories_count": "219",
                    "Entertainment_count": "44",
                    "Date": "2020-01-23",
                    "Mens": "70"
                  },
                  {
                    "Womens": "61",
                    "Gaming": "25",
                    "Phone_and_GPS": "83",
                    "Kids": "15",
                    "Accessories_count": "220",
                    "Entertainment_count": "32",
                    "Date": "2015-09-17",
                    "Mens": "4"
                  },
                  {
                    "Womens": "20",
                    "Gaming": "81",
                    "Phone_and_GPS": "19",
                    "Kids": "57",
                    "Accessories_count": "228",
                    "Entertainment_count": "3",
                    "Date": "2016-01-28",
                    "Mens": "48"
                  },
                  {
                    "Womens": "15",
                    "Gaming": "21",
                    "Phone_and_GPS": "65",
                    "Kids": "27",
                    "Accessories_count": "186",
                    "Entertainment_count": "43",
                    "Date": "2015-03-05",
                    "Mens": "15"
                  },
                  {
                    "Womens": "84",
                    "Gaming": "59",
                    "Phone_and_GPS": "78",
                    "Kids": "79",
                    "Accessories_count": "409",
                    "Entertainment_count": "39",
                    "Date": "2020-04-04",
                    "Mens": "70"
                  },
                  {
                    "Womens": "41",
                    "Gaming": "3",
                    "Phone_and_GPS": "67",
                    "Kids": "15",
                    "Accessories_count": "241",
                    "Entertainment_count": "70",
                    "Date": "2017-08-23",
                    "Mens": "45"
                  },
                  {
                    "Womens": "13",
                    "Gaming": "21",
                    "Phone_and_GPS": "74",
                    "Kids": "5",
                    "Accessories_count": "141",
                    "Entertainment_count": "26",
                    "Date": "2018-08-17",
                    "Mens": "2"
                  },
                  {
                    "Womens": "53",
                    "Gaming": "59",
                    "Phone_and_GPS": "25",
                    "Kids": "49",
                    "Accessories_count": "299",
                    "Entertainment_count": "70",
                    "Date": "2016-08-31",
                    "Mens": "43"
                  },
                  {
                    "Womens": "46",
                    "Gaming": "50",
                    "Phone_and_GPS": "72",
                    "Kids": "89",
                    "Accessories_count": "397",
                    "Entertainment_count": "65",
                    "Date": "2019-04-01",
                    "Mens": "75"
                  },
                  {
                    "Womens": "60",
                    "Gaming": "72",
                    "Phone_and_GPS": "54",
                    "Kids": "4",
                    "Accessories_count": "303",
                    "Entertainment_count": "52",
                    "Date": "2019-10-31",
                    "Mens": "61"
                  },
                  {
                    "Womens": "81",
                    "Gaming": "91",
                    "Phone_and_GPS": "32",
                    "Kids": "96",
                    "Accessories_count": "424",
                    "Entertainment_count": "27",
                    "Date": "2016-07-24",
                    "Mens": "97"
                  },
                  {
                    "Womens": "1",
                    "Gaming": "3",
                    "Phone_and_GPS": "0",
                    "Kids": "92",
                    "Accessories_count": "160",
                    "Entertainment_count": "48",
                    "Date": "2019-01-04",
                    "Mens": "16"
                  },
                  {
                    "Womens": "68",
                    "Gaming": "43",
                    "Phone_and_GPS": "89",
                    "Kids": "55",
                    "Accessories_count": "330",
                    "Entertainment_count": "69",
                    "Date": "2019-12-26",
                    "Mens": "6"
                  },
                  {
                    "Womens": "69",
                    "Gaming": "63",
                    "Phone_and_GPS": "66",
                    "Kids": "58",
                    "Accessories_count": "380",
                    "Entertainment_count": "87",
                    "Date": "2018-02-08",
                    "Mens": "37"
                  },
                  {
                    "Womens": "95",
                    "Gaming": "92",
                    "Phone_and_GPS": "74",
                    "Kids": "34",
                    "Accessories_count": "446",
                    "Entertainment_count": "77",
                    "Date": "2018-09-29",
                    "Mens": "74"
                  },
                  {
                    "Womens": "45",
                    "Gaming": "94",
                    "Phone_and_GPS": "57",
                    "Kids": "32",
                    "Accessories_count": "403",
                    "Entertainment_count": "88",
                    "Date": "2016-10-10",
                    "Mens": "87"
                  },
                  {
                    "Womens": "73",
                    "Gaming": "39",
                    "Phone_and_GPS": "52",
                    "Kids": "12",
                    "Accessories_count": "219",
                    "Entertainment_count": "32",
                    "Date": "2015-12-01",
                    "Mens": "11"
                  },
                  {
                    "Womens": "67",
                    "Gaming": "10",
                    "Phone_and_GPS": "58",
                    "Kids": "42",
                    "Accessories_count": "251",
                    "Entertainment_count": "52",
                    "Date": "2020-03-25",
                    "Mens": "22"
                  },
                  {
                    "Womens": "77",
                    "Gaming": "45",
                    "Phone_and_GPS": "71",
                    "Kids": "54",
                    "Accessories_count": "323",
                    "Entertainment_count": "11",
                    "Date": "2015-05-09",
                    "Mens": "65"
                  },
                  {
                    "Womens": "83",
                    "Gaming": "31",
                    "Phone_and_GPS": "40",
                    "Kids": "52",
                    "Accessories_count": "265",
                    "Entertainment_count": "11",
                    "Date": "2017-11-04",
                    "Mens": "48"
                  },
                  {
                    "Womens": "77",
                    "Gaming": "71",
                    "Phone_and_GPS": "82",
                    "Kids": "29",
                    "Accessories_count": "346",
                    "Entertainment_count": "33",
                    "Date": "2018-10-12",
                    "Mens": "54"
                  },
                  {
                    "Womens": "20",
                    "Gaming": "57",
                    "Phone_and_GPS": "59",
                    "Kids": "21",
                    "Accessories_count": "182",
                    "Entertainment_count": "19",
                    "Date": "2019-11-24",
                    "Mens": "6"
                  },
                  {
                    "Womens": "31",
                    "Gaming": "4",
                    "Phone_and_GPS": "90",
                    "Kids": "18",
                    "Accessories_count": "204",
                    "Entertainment_count": "2",
                    "Date": "2016-06-25",
                    "Mens": "59"
                  },
                  {
                    "Womens": "41",
                    "Gaming": "98",
                    "Phone_and_GPS": "55",
                    "Kids": "58",
                    "Accessories_count": "373",
                    "Entertainment_count": "62",
                    "Date": "2016-11-05",
                    "Mens": "59"
                  },
                  {
                    "Womens": "3",
                    "Gaming": "27",
                    "Phone_and_GPS": "36",
                    "Kids": "90",
                    "Accessories_count": "223",
                    "Entertainment_count": "22",
                    "Date": "2015-07-29",
                    "Mens": "45"
                  },
                  {
                    "Womens": "91",
                    "Gaming": "86",
                    "Phone_and_GPS": "42",
                    "Kids": "88",
                    "Accessories_count": "390",
                    "Entertainment_count": "73",
                    "Date": "2017-05-04",
                    "Mens": "10"
                  },
                  {
                    "Womens": "31",
                    "Gaming": "89",
                    "Phone_and_GPS": "28",
                    "Kids": "20",
                    "Accessories_count": "255",
                    "Entertainment_count": "51",
                    "Date": "2020-03-22",
                    "Mens": "36"
                  },
                  {
                    "Womens": "23",
                    "Gaming": "98",
                    "Phone_and_GPS": "72",
                    "Kids": "34",
                    "Accessories_count": "341",
                    "Entertainment_count": "40",
                    "Date": "2018-02-01",
                    "Mens": "74"
                  },
                  {
                    "Womens": "40",
                    "Gaming": "70",
                    "Phone_and_GPS": "28",
                    "Kids": "36",
                    "Accessories_count": "256",
                    "Entertainment_count": "0",
                    "Date": "2018-08-30",
                    "Mens": "82"
                  },
                  {
                    "Womens": "35",
                    "Gaming": "14",
                    "Phone_and_GPS": "99",
                    "Kids": "77",
                    "Accessories_count": "379",
                    "Entertainment_count": "68",
                    "Date": "2018-11-09",
                    "Mens": "86"
                  },
                  {
                    "Womens": "32",
                    "Gaming": "3",
                    "Phone_and_GPS": "89",
                    "Kids": "60",
                    "Accessories_count": "261",
                    "Entertainment_count": "5",
                    "Date": "2019-12-01",
                    "Mens": "72"
                  },
                  {
                    "Womens": "1",
                    "Gaming": "21",
                    "Phone_and_GPS": "7",
                    "Kids": "55",
                    "Accessories_count": "200",
                    "Entertainment_count": "35",
                    "Date": "2015-02-21",
                    "Mens": "81"
                  },
                  {
                    "Womens": "65",
                    "Gaming": "49",
                    "Phone_and_GPS": "79",
                    "Kids": "79",
                    "Accessories_count": "386",
                    "Entertainment_count": "41",
                    "Date": "2017-06-07",
                    "Mens": "73"
                  },
                  {
                    "Womens": "69",
                    "Gaming": "74",
                    "Phone_and_GPS": "90",
                    "Kids": "73",
                    "Accessories_count": "411",
                    "Entertainment_count": "41",
                    "Date": "2019-02-24",
                    "Mens": "64"
                  },
                  {
                    "Womens": "25",
                    "Gaming": "98",
                    "Phone_and_GPS": "7",
                    "Kids": "57",
                    "Accessories_count": "248",
                    "Entertainment_count": "56",
                    "Date": "2018-11-24",
                    "Mens": "5"
                  },
                  {
                    "Womens": "42",
                    "Gaming": "55",
                    "Phone_and_GPS": "35",
                    "Kids": "84",
                    "Accessories_count": "324",
                    "Entertainment_count": "96",
                    "Date": "2018-10-20",
                    "Mens": "12"
                  },
                  {
                    "Womens": "19",
                    "Gaming": "59",
                    "Phone_and_GPS": "33",
                    "Kids": "30",
                    "Accessories_count": "220",
                    "Entertainment_count": "75",
                    "Date": "2019-03-07",
                    "Mens": "4"
                  },
                  {
                    "Womens": "32",
                    "Gaming": "40",
                    "Phone_and_GPS": "14",
                    "Kids": "86",
                    "Accessories_count": "352",
                    "Entertainment_count": "96",
                    "Date": "2017-03-25",
                    "Mens": "84"
                  },
                  {
                    "Womens": "6",
                    "Gaming": "20",
                    "Phone_and_GPS": "45",
                    "Kids": "20",
                    "Accessories_count": "178",
                    "Entertainment_count": "79",
                    "Date": "2020-01-31",
                    "Mens": "8"
                  },
                  {
                    "Womens": "18",
                    "Gaming": "50",
                    "Phone_and_GPS": "23",
                    "Kids": "95",
                    "Accessories_count": "356",
                    "Entertainment_count": "81",
                    "Date": "2016-07-13",
                    "Mens": "89"
                  },
                  {
                    "Womens": "88",
                    "Gaming": "65",
                    "Phone_and_GPS": "98",
                    "Kids": "98",
                    "Accessories_count": "472",
                    "Entertainment_count": "57",
                    "Date": "2017-07-24",
                    "Mens": "66"
                  },
                  {
                    "Womens": "68",
                    "Gaming": "28",
                    "Phone_and_GPS": "7",
                    "Kids": "66",
                    "Accessories_count": "234",
                    "Entertainment_count": "22",
                    "Date": "2017-05-25",
                    "Mens": "43"
                  },
                  {
                    "Womens": "81",
                    "Gaming": "61",
                    "Phone_and_GPS": "33",
                    "Kids": "68",
                    "Accessories_count": "384",
                    "Entertainment_count": "66",
                    "Date": "2019-10-11",
                    "Mens": "75"
                  },
                  {
                    "Womens": "24",
                    "Gaming": "40",
                    "Phone_and_GPS": "26",
                    "Kids": "90",
                    "Accessories_count": "326",
                    "Entertainment_count": "77",
                    "Date": "2018-05-28",
                    "Mens": "69"
                  },
                  {
                    "Womens": "79",
                    "Gaming": "5",
                    "Phone_and_GPS": "6",
                    "Kids": "21",
                    "Accessories_count": "171",
                    "Entertainment_count": "45",
                    "Date": "2020-01-06",
                    "Mens": "15"
                  },
                  {
                    "Womens": "27",
                    "Gaming": "59",
                    "Phone_and_GPS": "58",
                    "Kids": "36",
                    "Accessories_count": "290",
                    "Entertainment_count": "87",
                    "Date": "2017-06-11",
                    "Mens": "23"
                  },
                  {
                    "Womens": "27",
                    "Gaming": "0",
                    "Phone_and_GPS": "88",
                    "Kids": "72",
                    "Accessories_count": "304",
                    "Entertainment_count": "95",
                    "Date": "2015-06-06",
                    "Mens": "22"
                  },
                  {
                    "Womens": "78",
                    "Gaming": "93",
                    "Phone_and_GPS": "50",
                    "Kids": "22",
                    "Accessories_count": "417",
                    "Entertainment_count": "94",
                    "Date": "2020-09-25",
                    "Mens": "80"
                  },
                  {
                    "Womens": "49",
                    "Gaming": "45",
                    "Phone_and_GPS": "59",
                    "Kids": "63",
                    "Accessories_count": "247",
                    "Entertainment_count": "3",
                    "Date": "2017-05-19",
                    "Mens": "28"
                  },
                  {
                    "Womens": "77",
                    "Gaming": "6",
                    "Phone_and_GPS": "93",
                    "Kids": "51",
                    "Accessories_count": "342",
                    "Entertainment_count": "47",
                    "Date": "2020-06-23",
                    "Mens": "68"
                  },
                  {
                    "Womens": "31",
                    "Gaming": "52",
                    "Phone_and_GPS": "53",
                    "Kids": "58",
                    "Accessories_count": "204",
                    "Entertainment_count": "8",
                    "Date": "2019-10-02",
                    "Mens": "2"
                  },
                  {
                    "Womens": "86",
                    "Gaming": "91",
                    "Phone_and_GPS": "3",
                    "Kids": "25",
                    "Accessories_count": "322",
                    "Entertainment_count": "45",
                    "Date": "2015-02-23",
                    "Mens": "72"
                  },
                  {
                    "Womens": "22",
                    "Gaming": "74",
                    "Phone_and_GPS": "86",
                    "Kids": "88",
                    "Accessories_count": "381",
                    "Entertainment_count": "79",
                    "Date": "2015-02-13",
                    "Mens": "32"
                  },
                  {
                    "Womens": "52",
                    "Gaming": "27",
                    "Phone_and_GPS": "1",
                    "Kids": "87",
                    "Accessories_count": "287",
                    "Entertainment_count": "69",
                    "Date": "2016-12-03",
                    "Mens": "51"
                  },
                  {
                    "Womens": "28",
                    "Gaming": "78",
                    "Phone_and_GPS": "18",
                    "Kids": "0",
                    "Accessories_count": "216",
                    "Entertainment_count": "51",
                    "Date": "2016-12-26",
                    "Mens": "41"
                  },
                  {
                    "Womens": "26",
                    "Gaming": "43",
                    "Phone_and_GPS": "67",
                    "Kids": "96",
                    "Accessories_count": "271",
                    "Entertainment_count": "32",
                    "Date": "2020-02-25",
                    "Mens": "7"
                  },
                  {
                    "Womens": "39",
                    "Gaming": "21",
                    "Phone_and_GPS": "11",
                    "Kids": "4",
                    "Accessories_count": "254",
                    "Entertainment_count": "82",
                    "Date": "2020-12-22",
                    "Mens": "97"
                  },
                  {
                    "Womens": "71",
                    "Gaming": "87",
                    "Phone_and_GPS": "93",
                    "Kids": "87",
                    "Accessories_count": "434",
                    "Entertainment_count": "37",
                    "Date": "2017-10-21",
                    "Mens": "59"
                  },
                  {
                    "Womens": "66",
                    "Gaming": "9",
                    "Phone_and_GPS": "94",
                    "Kids": "8",
                    "Accessories_count": "250",
                    "Entertainment_count": "25",
                    "Date": "2015-10-03",
                    "Mens": "48"
                  },
                  {
                    "Womens": "63",
                    "Gaming": "53",
                    "Phone_and_GPS": "78",
                    "Kids": "40",
                    "Accessories_count": "320",
                    "Entertainment_count": "28",
                    "Date": "2016-01-19",
                    "Mens": "58"
                  },
                  {
                    "Womens": "80",
                    "Gaming": "45",
                    "Phone_and_GPS": "37",
                    "Kids": "36",
                    "Accessories_count": "242",
                    "Entertainment_count": "11",
                    "Date": "2016-10-20",
                    "Mens": "33"
                  },
                  {
                    "Womens": "77",
                    "Gaming": "77",
                    "Phone_and_GPS": "10",
                    "Kids": "69",
                    "Accessories_count": "283",
                    "Entertainment_count": "4",
                    "Date": "2015-09-05",
                    "Mens": "46"
                  },
                  {
                    "Womens": "28",
                    "Gaming": "57",
                    "Phone_and_GPS": "59",
                    "Kids": "53",
                    "Accessories_count": "333",
                    "Entertainment_count": "92",
                    "Date": "2018-01-24",
                    "Mens": "44"
                  },
                  {
                    "Womens": "12",
                    "Gaming": "31",
                    "Phone_and_GPS": "49",
                    "Kids": "79",
                    "Accessories_count": "305",
                    "Entertainment_count": "65",
                    "Date": "2019-12-12",
                    "Mens": "69"
                  },
                  {
                    "Womens": "21",
                    "Gaming": "24",
                    "Phone_and_GPS": "68",
                    "Kids": "28",
                    "Accessories_count": "174",
                    "Entertainment_count": "25",
                    "Date": "2015-01-22",
                    "Mens": "8"
                  },
                  {
                    "Womens": "72",
                    "Gaming": "69",
                    "Phone_and_GPS": "13",
                    "Kids": "48",
                    "Accessories_count": "355",
                    "Entertainment_count": "88",
                    "Date": "2017-04-20",
                    "Mens": "65"
                  },
                  {
                    "Womens": "37",
                    "Gaming": "95",
                    "Phone_and_GPS": "16",
                    "Kids": "75",
                    "Accessories_count": "292",
                    "Entertainment_count": "64",
                    "Date": "2016-05-14",
                    "Mens": "5"
                  },
                  {
                    "Womens": "13",
                    "Gaming": "63",
                    "Phone_and_GPS": "74",
                    "Kids": "5",
                    "Accessories_count": "315",
                    "Entertainment_count": "89",
                    "Date": "2019-01-04",
                    "Mens": "71"
                  },
                  {
                    "Womens": "36",
                    "Gaming": "65",
                    "Phone_and_GPS": "31",
                    "Kids": "91",
                    "Accessories_count": "323",
                    "Entertainment_count": "13",
                    "Date": "2015-12-22",
                    "Mens": "87"
                  },
                  {
                    "Womens": "80",
                    "Gaming": "69",
                    "Phone_and_GPS": "38",
                    "Kids": "95",
                    "Accessories_count": "342",
                    "Entertainment_count": "31",
                    "Date": "2018-06-01",
                    "Mens": "29"
                  },
                  {
                    "Womens": "69",
                    "Gaming": "66",
                    "Phone_and_GPS": "76",
                    "Kids": "91",
                    "Accessories_count": "459",
                    "Entertainment_count": "69",
                    "Date": "2015-08-29",
                    "Mens": "88"
                  },
                  {
                    "Womens": "96",
                    "Gaming": "55",
                    "Phone_and_GPS": "41",
                    "Kids": "88",
                    "Accessories_count": "405",
                    "Entertainment_count": "49",
                    "Date": "2020-06-05",
                    "Mens": "76"
                  },
                  {
                    "Womens": "89",
                    "Gaming": "4",
                    "Phone_and_GPS": "33",
                    "Kids": "97",
                    "Accessories_count": "334",
                    "Entertainment_count": "88",
                    "Date": "2017-04-11",
                    "Mens": "23"
                  },
                  {
                    "Womens": "89",
                    "Gaming": "16",
                    "Phone_and_GPS": "14",
                    "Kids": "38",
                    "Accessories_count": "232",
                    "Entertainment_count": "43",
                    "Date": "2020-02-11",
                    "Mens": "32"
                  },
                  {
                    "Womens": "71",
                    "Gaming": "5",
                    "Phone_and_GPS": "61",
                    "Kids": "70",
                    "Accessories_count": "356",
                    "Entertainment_count": "74",
                    "Date": "2016-12-29",
                    "Mens": "75"
                  },
                  {
                    "Womens": "50",
                    "Gaming": "82",
                    "Phone_and_GPS": "73",
                    "Kids": "50",
                    "Accessories_count": "381",
                    "Entertainment_count": "60",
                    "Date": "2015-11-29",
                    "Mens": "66"
                  },
                  {
                    "Womens": "13",
                    "Gaming": "39",
                    "Phone_and_GPS": "89",
                    "Kids": "32",
                    "Accessories_count": "189",
                    "Entertainment_count": "4",
                    "Date": "2019-04-30",
                    "Mens": "12"
                  },
                  {
                    "Womens": "29",
                    "Gaming": "62",
                    "Phone_and_GPS": "15",
                    "Kids": "69",
                    "Accessories_count": "297",
                    "Entertainment_count": "83",
                    "Date": "2018-05-04",
                    "Mens": "39"
                  },
                  {
                    "Womens": "54",
                    "Gaming": "34",
                    "Phone_and_GPS": "52",
                    "Kids": "93",
                    "Accessories_count": "370",
                    "Entertainment_count": "53",
                    "Date": "2019-05-29",
                    "Mens": "84"
                  },
                  {
                    "Womens": "4",
                    "Gaming": "42",
                    "Phone_and_GPS": "89",
                    "Kids": "93",
                    "Accessories_count": "355",
                    "Entertainment_count": "57",
                    "Date": "2020-09-03",
                    "Mens": "70"
                  },
                  {
                    "Womens": "7",
                    "Gaming": "42",
                    "Phone_and_GPS": "9",
                    "Kids": "27",
                    "Accessories_count": "249",
                    "Entertainment_count": "81",
                    "Date": "2017-12-23",
                    "Mens": "83"
                  },
                  {
                    "Womens": "87",
                    "Gaming": "1",
                    "Phone_and_GPS": "76",
                    "Kids": "22",
                    "Accessories_count": "259",
                    "Entertainment_count": "8",
                    "Date": "2018-09-05",
                    "Mens": "65"
                  },
                  {
                    "Womens": "1",
                    "Gaming": "74",
                    "Phone_and_GPS": "74",
                    "Kids": "97",
                    "Accessories_count": "358",
                    "Entertainment_count": "53",
                    "Date": "2020-06-22",
                    "Mens": "59"
                  },
                  {
                    "Womens": "84",
                    "Gaming": "77",
                    "Phone_and_GPS": "47",
                    "Kids": "90",
                    "Accessories_count": "429",
                    "Entertainment_count": "66",
                    "Date": "2018-05-05",
                    "Mens": "65"
                  },
                  {
                    "Womens": "86",
                    "Gaming": "91",
                    "Phone_and_GPS": "17",
                    "Kids": "90",
                    "Accessories_count": "363",
                    "Entertainment_count": "22",
                    "Date": "2020-11-02",
                    "Mens": "57"
                  },
                  {
                    "Womens": "14",
                    "Gaming": "21",
                    "Phone_and_GPS": "90",
                    "Kids": "21",
                    "Accessories_count": "254",
                    "Entertainment_count": "62",
                    "Date": "2016-10-08",
                    "Mens": "46"
                  },
                  {
                    "Womens": "81",
                    "Gaming": "49",
                    "Phone_and_GPS": "83",
                    "Kids": "77",
                    "Accessories_count": "378",
                    "Entertainment_count": "68",
                    "Date": "2020-04-24",
                    "Mens": "20"
                  },
                  {
                    "Womens": "8",
                    "Gaming": "67",
                    "Phone_and_GPS": "99",
                    "Kids": "14",
                    "Accessories_count": "346",
                    "Entertainment_count": "69",
                    "Date": "2019-08-05",
                    "Mens": "89"
                  },
                  {
                    "Womens": "74",
                    "Gaming": "41",
                    "Phone_and_GPS": "74",
                    "Kids": "32",
                    "Accessories_count": "273",
                    "Entertainment_count": "48",
                    "Date": "2016-05-10",
                    "Mens": "4"
                  },
                  {
                    "Womens": "51",
                    "Gaming": "72",
                    "Phone_and_GPS": "65",
                    "Kids": "36",
                    "Accessories_count": "267",
                    "Entertainment_count": "18",
                    "Date": "2015-12-02",
                    "Mens": "25"
                  },
                  {
                    "Womens": "45",
                    "Gaming": "92",
                    "Phone_and_GPS": "5",
                    "Kids": "44",
                    "Accessories_count": "243",
                    "Entertainment_count": "46",
                    "Date": "2019-06-25",
                    "Mens": "11"
                  },
                  {
                    "Womens": "23",
                    "Gaming": "6",
                    "Phone_and_GPS": "89",
                    "Kids": "97",
                    "Accessories_count": "328",
                    "Entertainment_count": "22",
                    "Date": "2017-06-13",
                    "Mens": "91"
                  },
                  {
                    "Womens": "36",
                    "Gaming": "5",
                    "Phone_and_GPS": "26",
                    "Kids": "30",
                    "Accessories_count": "191",
                    "Entertainment_count": "82",
                    "Date": "2017-05-05",
                    "Mens": "12"
                  },
                  {
                    "Womens": "98",
                    "Gaming": "99",
                    "Phone_and_GPS": "28",
                    "Kids": "48",
                    "Accessories_count": "365",
                    "Entertainment_count": "83",
                    "Date": "2020-04-12",
                    "Mens": "9"
                  },
                  {
                    "Womens": "32",
                    "Gaming": "31",
                    "Phone_and_GPS": "66",
                    "Kids": "86",
                    "Accessories_count": "339",
                    "Entertainment_count": "53",
                    "Date": "2017-06-02",
                    "Mens": "71"
                  },
                  {
                    "Womens": "65",
                    "Gaming": "46",
                    "Phone_and_GPS": "10",
                    "Kids": "23",
                    "Accessories_count": "219",
                    "Entertainment_count": "56",
                    "Date": "2016-11-03",
                    "Mens": "19"
                  },
                  {
                    "Womens": "83",
                    "Gaming": "77",
                    "Phone_and_GPS": "61",
                    "Kids": "30",
                    "Accessories_count": "324",
                    "Entertainment_count": "34",
                    "Date": "2019-10-24",
                    "Mens": "39"
                  },
                  {
                    "Womens": "68",
                    "Gaming": "30",
                    "Phone_and_GPS": "90",
                    "Kids": "70",
                    "Accessories_count": "277",
                    "Entertainment_count": "4",
                    "Date": "2015-06-20",
                    "Mens": "15"
                  },
                  {
                    "Womens": "88",
                    "Gaming": "79",
                    "Phone_and_GPS": "68",
                    "Kids": "5",
                    "Accessories_count": "340",
                    "Entertainment_count": "78",
                    "Date": "2017-02-07",
                    "Mens": "22"
                  },
                  {
                    "Womens": "94",
                    "Gaming": "23",
                    "Phone_and_GPS": "17",
                    "Kids": "65",
                    "Accessories_count": "278",
                    "Entertainment_count": "73",
                    "Date": "2016-01-13",
                    "Mens": "6"
                  },
                  {
                    "Womens": "10",
                    "Gaming": "87",
                    "Phone_and_GPS": "19",
                    "Kids": "54",
                    "Accessories_count": "275",
                    "Entertainment_count": "32",
                    "Date": "2020-11-08",
                    "Mens": "73"
                  },
                  {
                    "Womens": "30",
                    "Gaming": "38",
                    "Phone_and_GPS": "6",
                    "Kids": "66",
                    "Accessories_count": "297",
                    "Entertainment_count": "72",
                    "Date": "2020-12-11",
                    "Mens": "85"
                  },
                  {
                    "Womens": "99",
                    "Gaming": "97",
                    "Phone_and_GPS": "72",
                    "Kids": "16",
                    "Accessories_count": "391",
                    "Entertainment_count": "71",
                    "Date": "2019-03-14",
                    "Mens": "36"
                  },
                  {
                    "Womens": "14",
                    "Gaming": "81",
                    "Phone_and_GPS": "48",
                    "Kids": "32",
                    "Accessories_count": "274",
                    "Entertainment_count": "63",
                    "Date": "2020-02-12",
                    "Mens": "36"
                  },
                  {
                    "Womens": "87",
                    "Gaming": "74",
                    "Phone_and_GPS": "10",
                    "Kids": "31",
                    "Accessories_count": "268",
                    "Entertainment_count": "63",
                    "Date": "2020-04-29",
                    "Mens": "3"
                  },
                  {
                    "Womens": "58",
                    "Gaming": "75",
                    "Phone_and_GPS": "80",
                    "Kids": "42",
                    "Accessories_count": "279",
                    "Entertainment_count": "6",
                    "Date": "2015-08-06",
                    "Mens": "18"
                  },
                  {
                    "Womens": "95",
                    "Gaming": "38",
                    "Phone_and_GPS": "51",
                    "Kids": "63",
                    "Accessories_count": "363",
                    "Entertainment_count": "80",
                    "Date": "2016-05-23",
                    "Mens": "36"
                  },
                  {
                    "Womens": "5",
                    "Gaming": "52",
                    "Phone_and_GPS": "5",
                    "Kids": "22",
                    "Accessories_count": "193",
                    "Entertainment_count": "82",
                    "Date": "2016-09-26",
                    "Mens": "27"
                  },
                  {
                    "Womens": "48",
                    "Gaming": "31",
                    "Phone_and_GPS": "59",
                    "Kids": "89",
                    "Accessories_count": "274",
                    "Entertainment_count": "36",
                    "Date": "2015-03-05",
                    "Mens": "11"
                  },
                  {
                    "Womens": "2",
                    "Gaming": "88",
                    "Phone_and_GPS": "92",
                    "Kids": "76",
                    "Accessories_count": "357",
                    "Entertainment_count": "40",
                    "Date": "2017-07-16",
                    "Mens": "59"
                  },
                  {
                    "Womens": "72",
                    "Gaming": "61",
                    "Phone_and_GPS": "55",
                    "Kids": "68",
                    "Accessories_count": "413",
                    "Entertainment_count": "84",
                    "Date": "2019-01-19",
                    "Mens": "73"
                  },
                  {
                    "Womens": "12",
                    "Gaming": "43",
                    "Phone_and_GPS": "23",
                    "Kids": "33",
                    "Accessories_count": "197",
                    "Entertainment_count": "2",
                    "Date": "2017-09-06",
                    "Mens": "84"
                  },
                  {
                    "Womens": "57",
                    "Gaming": "17",
                    "Phone_and_GPS": "8",
                    "Kids": "14",
                    "Accessories_count": "193",
                    "Entertainment_count": "42",
                    "Date": "2020-01-22",
                    "Mens": "55"
                  },
                  {
                    "Womens": "87",
                    "Gaming": "30",
                    "Phone_and_GPS": "96",
                    "Kids": "74",
                    "Accessories_count": "361",
                    "Entertainment_count": "39",
                    "Date": "2020-09-16",
                    "Mens": "35"
                  },
                  {
                    "Womens": "97",
                    "Gaming": "5",
                    "Phone_and_GPS": "85",
                    "Kids": "4",
                    "Accessories_count": "353",
                    "Entertainment_count": "84",
                    "Date": "2015-03-06",
                    "Mens": "78"
                  },
                  {
                    "Womens": "31",
                    "Gaming": "53",
                    "Phone_and_GPS": "43",
                    "Kids": "41",
                    "Accessories_count": "301",
                    "Entertainment_count": "63",
                    "Date": "2020-01-28",
                    "Mens": "70"
                  },
                  {
                    "Womens": "84",
                    "Gaming": "58",
                    "Phone_and_GPS": "42",
                    "Kids": "42",
                    "Accessories_count": "294",
                    "Entertainment_count": "2",
                    "Date": "2015-02-15",
                    "Mens": "66"
                  },
                  {
                    "Womens": "54",
                    "Gaming": "20",
                    "Phone_and_GPS": "78",
                    "Kids": "40",
                    "Accessories_count": "341",
                    "Entertainment_count": "72",
                    "Date": "2016-12-05",
                    "Mens": "77"
                  },
                  {
                    "Womens": "29",
                    "Gaming": "62",
                    "Phone_and_GPS": "46",
                    "Kids": "17",
                    "Accessories_count": "211",
                    "Entertainment_count": "8",
                    "Date": "2018-03-28",
                    "Mens": "49"
                  },
                  {
                    "Womens": "2",
                    "Gaming": "95",
                    "Phone_and_GPS": "90",
                    "Kids": "70",
                    "Accessories_count": "363",
                    "Entertainment_count": "33",
                    "Date": "2020-03-20",
                    "Mens": "73"
                  },
                  {
                    "Womens": "67",
                    "Gaming": "79",
                    "Phone_and_GPS": "25",
                    "Kids": "36",
                    "Accessories_count": "299",
                    "Entertainment_count": "20",
                    "Date": "2018-08-16",
                    "Mens": "72"
                  },
                  {
                    "Womens": "71",
                    "Gaming": "58",
                    "Phone_and_GPS": "52",
                    "Kids": "65",
                    "Accessories_count": "303",
                    "Entertainment_count": "47",
                    "Date": "2019-02-23",
                    "Mens": "10"
                  },
                  {
                    "Womens": "15",
                    "Gaming": "77",
                    "Phone_and_GPS": "33",
                    "Kids": "97",
                    "Accessories_count": "317",
                    "Entertainment_count": "27",
                    "Date": "2018-01-31",
                    "Mens": "68"
                  },
                  {
                    "Womens": "84",
                    "Gaming": "87",
                    "Phone_and_GPS": "73",
                    "Kids": "32",
                    "Accessories_count": "337",
                    "Entertainment_count": "0",
                    "Date": "2016-05-24",
                    "Mens": "61"
                  },
                  {
                    "Womens": "39",
                    "Gaming": "98",
                    "Phone_and_GPS": "65",
                    "Kids": "27",
                    "Accessories_count": "313",
                    "Entertainment_count": "62",
                    "Date": "2020-11-16",
                    "Mens": "22"
                  },
                  {
                    "Womens": "0",
                    "Gaming": "40",
                    "Phone_and_GPS": "5",
                    "Kids": "17",
                    "Accessories_count": "93",
                    "Entertainment_count": "4",
                    "Date": "2019-12-02",
                    "Mens": "27"
                  },
                  {
                    "Womens": "99",
                    "Gaming": "0",
                    "Phone_and_GPS": "84",
                    "Kids": "42",
                    "Accessories_count": "251",
                    "Entertainment_count": "0",
                    "Date": "2015-10-03",
                    "Mens": "26"
                  },
                  {
                    "Womens": "98",
                    "Gaming": "86",
                    "Phone_and_GPS": "89",
                    "Kids": "24",
                    "Accessories_count": "434",
                    "Entertainment_count": "81",
                    "Date": "2019-04-16",
                    "Mens": "56"
                  },
                  {
                    "Womens": "63",
                    "Gaming": "20",
                    "Phone_and_GPS": "32",
                    "Kids": "25",
                    "Accessories_count": "271",
                    "Entertainment_count": "81",
                    "Date": "2018-01-14",
                    "Mens": "50"
                  },
                  {
                    "Womens": "76",
                    "Gaming": "24",
                    "Phone_and_GPS": "67",
                    "Kids": "52",
                    "Accessories_count": "298",
                    "Entertainment_count": "59",
                    "Date": "2017-09-19",
                    "Mens": "20"
                  },
                  {
                    "Womens": "35",
                    "Gaming": "20",
                    "Phone_and_GPS": "96",
                    "Kids": "94",
                    "Accessories_count": "361",
                    "Entertainment_count": "91",
                    "Date": "2015-09-15",
                    "Mens": "25"
                  },
                  {
                    "Womens": "70",
                    "Gaming": "51",
                    "Phone_and_GPS": "64",
                    "Kids": "33",
                    "Accessories_count": "349",
                    "Entertainment_count": "67",
                    "Date": "2017-05-09",
                    "Mens": "64"
                  },
                  {
                    "Womens": "38",
                    "Gaming": "12",
                    "Phone_and_GPS": "14",
                    "Kids": "43",
                    "Accessories_count": "220",
                    "Entertainment_count": "22",
                    "Date": "2020-11-11",
                    "Mens": "91"
                  },
                  {
                    "Womens": "35",
                    "Gaming": "68",
                    "Phone_and_GPS": "22",
                    "Kids": "31",
                    "Accessories_count": "240",
                    "Entertainment_count": "64",
                    "Date": "2016-04-18",
                    "Mens": "20"
                  },
                  {
                    "Womens": "4",
                    "Gaming": "82",
                    "Phone_and_GPS": "98",
                    "Kids": "81",
                    "Accessories_count": "358",
                    "Entertainment_count": "15",
                    "Date": "2019-12-19",
                    "Mens": "78"
                  },
                  {
                    "Womens": "29",
                    "Gaming": "4",
                    "Phone_and_GPS": "35",
                    "Kids": "18",
                    "Accessories_count": "158",
                    "Entertainment_count": "11",
                    "Date": "2016-11-15",
                    "Mens": "61"
                  },
                  {
                    "Womens": "85",
                    "Gaming": "15",
                    "Phone_and_GPS": "84",
                    "Kids": "88",
                    "Accessories_count": "348",
                    "Entertainment_count": "38",
                    "Date": "2017-05-29",
                    "Mens": "38"
                  },
                  {
                    "Womens": "88",
                    "Gaming": "11",
                    "Phone_and_GPS": "31",
                    "Kids": "13",
                    "Accessories_count": "205",
                    "Entertainment_count": "62",
                    "Date": "2016-10-03",
                    "Mens": "0"
                  },
                  {
                    "Womens": "67",
                    "Gaming": "24",
                    "Phone_and_GPS": "94",
                    "Kids": "83",
                    "Accessories_count": "315",
                    "Entertainment_count": "18",
                    "Date": "2015-01-24",
                    "Mens": "29"
                  },
                  {
                    "Womens": "99",
                    "Gaming": "42",
                    "Phone_and_GPS": "8",
                    "Kids": "5",
                    "Accessories_count": "289",
                    "Entertainment_count": "66",
                    "Date": "2016-09-19",
                    "Mens": "69"
                  },
                  {
                    "Womens": "51",
                    "Gaming": "96",
                    "Phone_and_GPS": "42",
                    "Kids": "36",
                    "Accessories_count": "404",
                    "Entertainment_count": "88",
                    "Date": "2020-06-09",
                    "Mens": "91"
                  },
                  {
                    "Womens": "5",
                    "Gaming": "77",
                    "Phone_and_GPS": "10",
                    "Kids": "22",
                    "Accessories_count": "184",
                    "Entertainment_count": "28",
                    "Date": "2018-11-10",
                    "Mens": "42"
                  },
                  {
                    "Womens": "21",
                    "Gaming": "76",
                    "Phone_and_GPS": "62",
                    "Kids": "2",
                    "Accessories_count": "266",
                    "Entertainment_count": "97",
                    "Date": "2016-07-24",
                    "Mens": "8"
                  },
                  {
                    "Womens": "88",
                    "Gaming": "81",
                    "Phone_and_GPS": "67",
                    "Kids": "45",
                    "Accessories_count": "305",
                    "Entertainment_count": "8",
                    "Date": "2015-11-02",
                    "Mens": "16"
                  },
                  {
                    "Womens": "2",
                    "Gaming": "78",
                    "Phone_and_GPS": "44",
                    "Kids": "35",
                    "Accessories_count": "323",
                    "Entertainment_count": "83",
                    "Date": "2020-11-29",
                    "Mens": "81"
                  },
                  {
                    "Womens": "37",
                    "Gaming": "23",
                    "Phone_and_GPS": "8",
                    "Kids": "25",
                    "Accessories_count": "176",
                    "Entertainment_count": "18",
                    "Date": "2016-10-03",
                    "Mens": "65"
                  },
                  {
                    "Womens": "21",
                    "Gaming": "59",
                    "Phone_and_GPS": "87",
                    "Kids": "38",
                    "Accessories_count": "280",
                    "Entertainment_count": "74",
                    "Date": "2015-09-07",
                    "Mens": "1"
                  },
                  {
                    "Womens": "74",
                    "Gaming": "92",
                    "Phone_and_GPS": "92",
                    "Kids": "40",
                    "Accessories_count": "389",
                    "Entertainment_count": "4",
                    "Date": "2016-07-21",
                    "Mens": "87"
                  },
                  {
                    "Womens": "41",
                    "Gaming": "82",
                    "Phone_and_GPS": "62",
                    "Kids": "43",
                    "Accessories_count": "292",
                    "Entertainment_count": "47",
                    "Date": "2017-06-28",
                    "Mens": "17"
                  },
                  {
                    "Womens": "8",
                    "Gaming": "82",
                    "Phone_and_GPS": "46",
                    "Kids": "66",
                    "Accessories_count": "237",
                    "Entertainment_count": "30",
                    "Date": "2016-05-29",
                    "Mens": "5"
                  },
                  {
                    "Womens": "57",
                    "Gaming": "92",
                    "Phone_and_GPS": "95",
                    "Kids": "86",
                    "Accessories_count": "492",
                    "Entertainment_count": "95",
                    "Date": "2017-08-19",
                    "Mens": "67"
                  },
                  {
                    "Womens": "12",
                    "Gaming": "18",
                    "Phone_and_GPS": "91",
                    "Kids": "2",
                    "Accessories_count": "247",
                    "Entertainment_count": "66",
                    "Date": "2016-02-28",
                    "Mens": "58"
                  }
                ]
              },
              "isSummary": false,
              "language": "scala"
            }
          },
          "metadata": {}
        }
      ],
      "metadata": {
        "diagram": {
          "activateDiagramType": 1,
          "chartConfig": {
            "category": "bar",
            "keys": [
              "Womens"
            ],
            "values": [
              "Womens"
            ],
            "yLabel": "Womens",
            "xLabel": "Womens",
            "aggregation": "COUNT",
            "aggByBackend": false
          },
          "aggData": {
            "Womens": {
              "0": 10,
              "1": 12,
              "2": 9,
              "3": 10,
              "4": 8,
              "5": 9,
              "6": 6,
              "7": 4,
              "8": 9,
              "9": 13,
              "10": 9,
              "11": 6,
              "12": 12,
              "13": 11,
              "14": 9,
              "15": 10,
              "16": 11,
              "17": 7,
              "18": 10,
              "19": 8,
              "20": 14,
              "21": 9,
              "22": 11,
              "23": 11,
              "24": 8,
              "25": 3,
              "26": 7,
              "27": 17,
              "28": 14,
              "29": 13,
              "30": 10,
              "31": 18,
              "32": 6,
              "33": 9,
              "34": 5,
              "35": 16,
              "36": 9,
              "37": 12,
              "38": 13,
              "39": 13,
              "40": 9,
              "41": 9,
              "42": 8,
              "43": 9,
              "44": 7,
              "45": 15,
              "46": 5,
              "47": 9,
              "48": 15,
              "49": 13,
              "50": 7,
              "51": 8,
              "52": 11,
              "53": 10,
              "54": 9,
              "55": 7,
              "56": 14,
              "57": 15,
              "58": 7,
              "59": 3,
              "60": 9,
              "61": 10,
              "62": 11,
              "63": 11,
              "64": 6,
              "65": 11,
              "66": 11,
              "67": 9,
              "68": 11,
              "69": 10,
              "70": 9,
              "71": 10,
              "72": 12,
              "73": 8,
              "74": 11,
              "75": 8,
              "76": 11,
              "77": 10,
              "78": 13,
              "79": 9,
              "80": 14,
              "81": 15,
              "82": 10,
              "83": 14,
              "84": 8,
              "85": 10,
              "86": 11,
              "87": 12,
              "88": 19,
              "89": 10,
              "90": 4,
              "91": 9,
              "92": 2,
              "93": 9,
              "94": 12,
              "95": 9,
              "96": 9,
              "97": 10,
              "98": 13,
              "99": 10
            }
          },
          "isSummary": false,
          "previewData": {
            "filter": null
          },
          "isSql": false
        }
      },
      "source": [
        "\n",
        "display(df)"
      ],
      "attachments": {}
    },
    {
      "cell_type": "markdown",
      "metadata": {},
      "source": [
        "# Exploratory Data Analysis\n",
        "\n",
        "<p style=\"font-size:16px; color:#117d30;\">\n",
        "The goal of performing exploratory data analysis is to understand the underlying patterns and correlations among features in the data. \n",
        ""
      ],
      "attachments": {}
    },
    {
      "cell_type": "code",
      "execution_count": 21,
      "outputs": [
        {
          "output_type": "execute_result",
          "execution_count": 21,
          "data": {
            "text/plain": "/home/trusted-service-user/cluster-env/env/lib/python3.6/site-packages/pyarrow/__init__.py:152: UserWarning: pyarrow.open_stream is deprecated, please use pyarrow.ipc.open_stream\n  warnings.warn(\"pyarrow.open_stream is deprecated, please use \""
          },
          "metadata": {}
        }
      ],
      "metadata": {},
      "source": [
        "%%pyspark\n",
        "#Calling the dataframe df created in Scala to Python\n",
        "df = sqlContext.table(\"df\")\n",
        "# *********************\n",
        "department_visit_data = df.select(\"*\").toPandas()\n",
        "department_visit_data['Date'] = pd.to_datetime(department_visit_data['Date']).dt.strftime('%m/%d/%y')\n",
        "department_visit_data['Month'] = pd.to_datetime(department_visit_data['Date']).dt.strftime('%m')\n",
        "department_visit_data['DayOfMonth'] = pd.to_datetime(department_visit_data['Date']).dt.strftime('%d')\n",
        "department_visit_data['Year'] = pd.to_datetime(department_visit_data['Date']).dt.strftime('%y')\n",
        "department_visit_data['DayOfWeek'] = pd.to_datetime(department_visit_data['Date']).dt.strftime('%a')\n",
        "department_visit_data[['Accessories_count','Entertainment_count','Gaming','Kids','Mens','Phone_and_GPS','Womens']] = department_visit_data[['Accessories_count','Entertainment_count','Gaming','Kids','Mens','Phone_and_GPS','Womens']].apply(pd.to_numeric)\n",
        "\n",
        "#display(department_visit_data)"
      ],
      "attachments": {}
    },
    {
      "cell_type": "markdown",
      "metadata": {},
      "source": [
        "##  Deriving insights from customer visits data  \n",
        "\n",
        "<p style=\"font-size:16px; color:#117d30;\">\n",
        "1. Heat Map: Thickness of the color indicates the no of customers visiting the section on that particular day. It provides a quick representation of distribution of traffic across days and in various departments. From the graph, we can infer that more number of customers visit the Entertainment department on Wednesdays, Thursdays and Fridays and there is less foot traffic on Mondays and Fridays in the Phone_and_gps department.\n",
        ""
      ],
      "attachments": {}
    },
    {
      "cell_type": "code",
      "execution_count": 37,
      "outputs": [
        {
          "output_type": "execute_result",
          "execution_count": 37,
          "data": {
            "image/png": "data:image/png;base64,iVBORw0KGgoAAAANSUhEUgAAAkYAAAJUCAYAAADww+n8AAAABHNCSVQICAgIfAhkiAAAAAlwSFlz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\nukJTN40AAAAASUVORK5CYII="
          },
          "metadata": {}
        }
      ],
      "metadata": {},
      "source": [
        "%%pyspark\n",
        "df_dow = pd.DataFrame(department_visit_data.groupby('DayOfWeek')[['Mens']].sum().sort_values(by = 'DayOfWeek', \n",
        "                                                                 ascending=True))\n",
        "\n",
        "df_dow['Mens'] = pd.DataFrame(department_visit_data.groupby('DayOfWeek')[['Mens']].sum().sort_values(by = 'DayOfWeek', \n",
        "                                                                 ascending=True))\n",
        "\n",
        "df_dow['Womens'] = pd.DataFrame(department_visit_data.groupby('DayOfWeek')[['Womens']].sum().sort_values(by = 'DayOfWeek', \n",
        "                                                                 ascending=True))\n",
        "\n",
        "df_dow['Kids'] = pd.DataFrame(department_visit_data.groupby('DayOfWeek')[['Kids']].sum().sort_values(by = 'DayOfWeek', \n",
        "                                                                 ascending=True))\n",
        "\n",
        "df_dow['Gaming'] = pd.DataFrame(department_visit_data.groupby('DayOfWeek')[['Gaming']].sum().sort_values(by = 'DayOfWeek', \n",
        "                                                                 ascending=True))\n",
        "\n",
        "df_dow['Entertainment'] = pd.DataFrame(department_visit_data.groupby('DayOfWeek')[['Entertainment_count']].sum().sort_values(by = 'DayOfWeek', \n",
        "                                                                 ascending=True))\n",
        "\n",
        "df_dow['Accessories'] = pd.DataFrame(department_visit_data.groupby('DayOfWeek')[['Accessories_count']].sum().sort_values(by = 'DayOfWeek', \n",
        "                                                                 ascending=True))\n",
        "\n",
        "df_dow['Phone_and_GPS'] = pd.DataFrame(department_visit_data.groupby('DayOfWeek')[['Phone_and_GPS']].sum().sort_values(by = 'DayOfWeek', \n",
        "                                                                 ascending=True))\n",
        "\n",
        "\n",
        "df_dow.head(10)\n",
        "\n",
        "sns.set()\n",
        "plt.rcParams['font.size'] = 20\n",
        "bg_color = (0.88,0.85,0.95)\n",
        "plt.rcParams['figure.facecolor'] = bg_color\n",
        "plt.rcParams['axes.facecolor'] = bg_color\n",
        "fig, ax = plt.subplots(1)\n",
        "cmap = sns.diverging_palette(10, 150, n=2, as_cmap=True)\n",
        "#cmap = sns.color_palette(\"hls\", 3)\n",
        "\n",
        "p = sns.heatmap(df_dow,\n",
        "                cmap=cmap,\n",
        "                annot=True,\n",
        "                fmt=\"d\",\n",
        "                annot_kws={'size':16},\n",
        "                ax=ax)\n",
        "plt.xlabel('Category')\n",
        "plt.ylabel('Day Of Week')\n",
        "ax.set_ylim((0,7))\n",
        "plt.text(5,7.4, \"Heat Map\", fontsize = 25, color='Black', fontstyle='italic')\n",
        " \n",
        "plt.show()\n",
        ""
      ],
      "attachments": {}
    },
    {
      "cell_type": "markdown",
      "metadata": {},
      "source": [
        "# Data Manipulation  \n",
        "<p style=\"font-size:16px; color:#117d30;\">\n",
        "1. Converting date to a specific format and making date fields relevant for prediction.\n",
        "\n",
        "<p style=\"font-size:16px; color:#117d30;\">\n",
        "2. Converting the data type of the columns to numeric before being passed as input to the model.\n",
        ""
      ],
      "attachments": {}
    },
    {
      "cell_type": "code",
      "execution_count": 22,
      "outputs": [
        {
          "output_type": "execute_result",
          "execution_count": 22,
          "data": {
            "text/plain": "<bound method DataFrame.count of             Date  Accessories_count   ...    Phone_and_GPS  Womens\n0     2014-12-31                406   ...               88      76\n1     2015-01-01               1749   ...              246     192\n2     2015-01-02               3371   ...              886     476\n3     2015-01-03               3254   ...              454     712\n4     2015-01-04               3624   ...              791     630\n5     2015-01-05               1165   ...              202     187\n6     2015-01-06               2387   ...              312     338\n7     2015-01-07               2480   ...              314     417\n8     2015-01-08               2527   ...              520     430\n9     2015-01-09               3646   ...              656     577\n10    2015-01-10               2045   ...              406     178\n11    2015-01-11               3694   ...              419     580\n12    2015-01-12               3539   ...              604     503\n13    2015-01-13               3172   ...              629     480\n14    2015-01-14               4339   ...              483     880\n15    2015-01-15               2428   ...              402     441\n16    2015-01-16               3738   ...              574     421\n17    2015-01-17               4141   ...              695     534\n18    2015-01-18               4229   ...              711     594\n19    2015-01-19                307   ...               39      50\n20    2015-01-20               3622   ...              459     805\n21    2015-01-21               4330   ...              768     611\n22    2015-01-22               2282   ...              373     468\n23    2015-01-23               4813   ...              747     697\n24    2015-01-24               2220   ...              367     271\n25    2015-01-25               2000   ...              353     298\n26    2015-01-26               1677   ...              307     247\n27    2015-01-27               1508   ...              180     359\n28    2015-01-28               3510   ...              546     713\n29    2015-01-29               3995   ...              651     643\n...          ...                ...   ...              ...     ...\n2163  2020-12-02               2916   ...              386     597\n2164  2020-12-03               3133   ...              524     458\n2165  2020-12-04               3742   ...              660     490\n2166  2020-12-05               2907   ...              604     349\n2167  2020-12-06               2640   ...              522     423\n2168  2020-12-07               3352   ...              471     459\n2169  2020-12-08               2205   ...              396     295\n2170  2020-12-09               2574   ...              510     321\n2171  2020-12-10               1667   ...              178     341\n2172  2020-12-11               1403   ...              246     209\n2173  2020-12-12               2370   ...              485     357\n2174  2020-12-13               3048   ...              583     467\n2175  2020-12-14               1948   ...              196     313\n2176  2020-12-15               2373   ...              291     450\n2177  2020-12-16               3003   ...              501     645\n2178  2020-12-17               2531   ...              433     355\n2179  2020-12-18               2774   ...              533     382\n2180  2020-12-19               2448   ...              288     385\n2181  2020-12-20               1573   ...              141     372\n2182  2020-12-21               1682   ...              372     154\n2183  2020-12-22               1592   ...              224     315\n2184  2020-12-23               1115   ...              252     179\n2185  2020-12-24               4618   ...              723     744\n2186  2020-12-25               2976   ...              469     465\n2187  2020-12-26               3283   ...              667     489\n2188  2020-12-27               2891   ...              404     476\n2189  2020-12-28               3905   ...              639     594\n2190  2020-12-29               1923   ...              373     302\n2191  2020-12-30               1616   ...              232     356\n2192  2020-12-31                654   ...              112     131\n\n[2193 rows x 8 columns]>\n/opt/spark/python/lib/pyspark.zip/pyspark/sql/session.py:714: UserWarning: createDataFrame attempted Arrow optimization because 'spark.sql.execution.arrow.enabled' is set to true; however, failed by the reason below:\n  'JavaPackage' object is not callable\nAttempting non-optimization as 'spark.sql.execution.arrow.fallback.enabled' is set to true.\n  warnings.warn(msg)"
          },
          "metadata": {}
        }
      ],
      "metadata": {},
      "source": [
        "%%pyspark\n",
        "department_visit_data = df.select(\"*\").toPandas()\n",
        "department_visit_data['Date'] = pd.to_datetime(department_visit_data['Date']).dt.strftime('%Y-%m-%d')\n",
        "\n",
        "department_visit_data[['Accessories_count','Entertainment_count','Gaming','Kids','Mens','Phone_and_GPS','Womens']] = department_visit_data[['Accessories_count','Entertainment_count','Gaming','Kids','Mens','Phone_and_GPS','Womens']].apply(pd.to_numeric)\n",
        "\n",
        "grouped_data = department_visit_data.groupby('Date', as_index=False).sum()\n",
        "\n",
        "display(grouped_data)\n",
        "total_rows = grouped_data.count\n",
        "print(total_rows)"
      ],
      "attachments": {}
    },
    {
      "cell_type": "code",
      "execution_count": 23,
      "outputs": [],
      "metadata": {},
      "source": [
        "%%pyspark\n",
        "accessories_data = grouped_data[['Date','Accessories_count']]\n",
        "display(accessories_data)"
      ],
      "attachments": {}
    },
    {
      "cell_type": "code",
      "execution_count": 24,
      "outputs": [
        {
          "output_type": "execute_result",
          "execution_count": 24,
          "data": {
            "text/plain": "<bound method DataFrame.count of             Date  Accessories_count\n0     2014-12-31                406\n1     2015-01-01               1749\n2     2015-01-02               3371\n3     2015-01-03               3254\n4     2015-01-04               3624\n5     2015-01-05               1165\n6     2015-01-06               2387\n7     2015-01-07               2480\n8     2015-01-08               2527\n9     2015-01-09               3646\n10    2015-01-10               2045\n11    2015-01-11               3694\n12    2015-01-12               3539\n13    2015-01-13               3172\n14    2015-01-14               4339\n15    2015-01-15               2428\n16    2015-01-16               3738\n17    2015-01-17               4141\n18    2015-01-18               4229\n19    2015-01-19                307\n20    2015-01-20               3622\n21    2015-01-21               4330\n22    2015-01-22               2282\n23    2015-01-23               4813\n24    2015-01-24               2220\n25    2015-01-25               2000\n26    2015-01-26               1677\n27    2015-01-27               1508\n28    2015-01-28               3510\n29    2015-01-29               3995\n...          ...                ...\n2163  2020-12-02               2916\n2164  2020-12-03               3133\n2165  2020-12-04               3742\n2166  2020-12-05               2907\n2167  2020-12-06               2640\n2168  2020-12-07               3352\n2169  2020-12-08               2205\n2170  2020-12-09               2574\n2171  2020-12-10               1667\n2172  2020-12-11               1403\n2173  2020-12-12               2370\n2174  2020-12-13               3048\n2175  2020-12-14               1948\n2176  2020-12-15               2373\n2177  2020-12-16               3003\n2178  2020-12-17               2531\n2179  2020-12-18               2774\n2180  2020-12-19               2448\n2181  2020-12-20               1573\n2182  2020-12-21               1682\n2183  2020-12-22               1592\n2184  2020-12-23               1115\n2185  2020-12-24               4618\n2186  2020-12-25               2976\n2187  2020-12-26               3283\n2188  2020-12-27               2891\n2189  2020-12-28               3905\n2190  2020-12-29               1923\n2191  2020-12-30               1616\n2192  2020-12-31                654\n\n[2193 rows x 2 columns]>"
          },
          "metadata": {}
        }
      ],
      "metadata": {},
      "source": [
        "%%pyspark\n",
        "total_rows = accessories_data.count\n",
        "print(total_rows)"
      ],
      "attachments": {}
    },
    {
      "cell_type": "markdown",
      "metadata": {},
      "source": [
        "## Split data into train and test set\n",
        ""
      ],
      "attachments": {}
    },
    {
      "cell_type": "code",
      "execution_count": 25,
      "outputs": [],
      "metadata": {},
      "source": [
        "%%pyspark\n",
        "train_data = pd.DataFrame()\n",
        "test_data = pd.DataFrame()\n",
        "\n",
        "if accessories_data.shape[0] > 55: # len(df) > 10 would also work\n",
        "    train_data = accessories_data[:55]\n",
        "    test_data = accessories_data[55:]"
      ],
      "attachments": {}
    },
    {
      "cell_type": "code",
      "execution_count": 26,
      "outputs": [],
      "metadata": {},
      "source": [
        "%%pyspark\n",
        "display(test_data)"
      ],
      "attachments": {}
    },
    {
      "cell_type": "markdown",
      "metadata": {},
      "source": [
        "## Train\n",
        "\n",
        "<p style=\"font-size:16px; color:#117d30;\">\n",
        "1. Instantiate an AutoMLConfig object. \n",
        "<p style=\"font-size:16px; color:#117d30;\">\n",
        "2. The configuration below defines the settings and data used to run the experiment. \n",
        ""
      ],
      "attachments": {}
    },
    {
      "cell_type": "markdown",
      "metadata": {},
      "source": [
        "## Set AutoML Configuration Parameters\n",
        "\n",
        "<p style=\"font-size:16px; color:#117d30;\">\n",
        "    The forecast horizon is the number of periods into the future that the model should predict. \n",
        "\n",
        "<p style=\"font-size:16px; color:#117d30;\">\n",
        "    It is generally recommended that users set forecast horizons to less than 100 time periods\n",
        "\n",
        "<p style=\"font-size:16px; color:#117d30;\">\n",
        "    Furthermore, AutoML's memory use and computation time increases in proportion to the length of the horizon, so consider carefully how this value is set. \n",
        "\n",
        "<p style=\"font-size:16px; color:#117d30;\">\n",
        "    If a long horizon forecast really is necessary, consider aggregating the series to a coarser time scale.\n",
        ""
      ],
      "attachments": {}
    },
    {
      "cell_type": "code",
      "execution_count": 27,
      "outputs": [],
      "metadata": {},
      "source": [
        "%%pyspark\n",
        "automl_settings = {\n",
        "   'time_column_name':'Date',\n",
        "   'max_horizon': 25\n",
        "}"
      ],
      "attachments": {}
    },
    {
      "cell_type": "code",
      "execution_count": 28,
      "outputs": [],
      "metadata": {},
      "source": [
        "%%pyspark\n",
        "automl_config = AutoMLConfig( \n",
        "                            #forecasting for time-series tasks\n",
        "                            task='forecasting',\n",
        "                            #measuere for evaluating the performance of the models\n",
        "                            primary_metric='normalized_root_mean_squared_error',\n",
        "                            #Maximum amount of time in minutes that the experiment take before it terminates.\n",
        "                            experiment_timeout_minutes=15,\n",
        "                            enable_early_stopping=True,\n",
        "                            training_data=train_data,\n",
        "                            label_column_name='Accessories_count',\n",
        "                            #Rolling Origin Validation is used to split time-series in a temporally consistent way.\n",
        "                            n_cross_validations=4,\n",
        "                            # Flag to enble early termination if the score is not improving in the short term.\n",
        "                            enable_ensembling=False,\n",
        "                            verbosity=logging.INFO,\n",
        "                            **automl_settings)"
      ],
      "attachments": {}
    },
    {
      "cell_type": "code",
      "execution_count": 29,
      "outputs": [],
      "metadata": {},
      "source": [
        "%%pyspark\n",
        "subscription_id='49d66a68-7c00-43c3-93ae-602ee60e1eb6'\n",
        "resource_group='CDP-VISION-DEMO-RG'\n",
        "workspace_name='Auto-ML-2'\n",
        "ws = Workspace(subscription_id = subscription_id, resource_group = resource_group, workspace_name = workspace_name)\n",
        "ws.write_config()\n",
        "ws = Workspace.from_config()\n",
        "experiment = Experiment(ws, \"Department_Visit_Count_20thFeb\")"
      ],
      "attachments": {}
    },
    {
      "cell_type": "markdown",
      "metadata": {},
      "source": [
        "## Run The Experiment\n",
        "<p style=\"font-size:16px; color:#117d30;\">\n",
        "Automated ML runs more than 25 Machine Learning Algorithms and grades them according to performance.\n",
        ""
      ],
      "attachments": {}
    },
    {
      "cell_type": "code",
      "execution_count": 30,
      "outputs": [
        {
          "output_type": "execute_result",
          "execution_count": 30,
          "data": {
            "text/plain": "Running on local machine\nParent Run ID: AutoML_9d46d988-e1a7-4803-974b-e2452362d8e4\n\n\rCurrent status: DatasetFeaturization. Beginning to featurize the dataset.\n\rCurrent status: DatasetFeaturizationCompleted. Completed featurizing the dataset.\n\rCurrent status: DatasetCrossValidationSplit. Generating individually featurized CV splits.\n\rCurrent status: DatasetFeaturization. Beginning to featurize the CV split.\n\rCurrent status: DatasetFeaturizationCompleted. Completed featurizing the CV split.\n\rCurrent status: DatasetFeaturization. Beginning to featurize the CV split.\n\rCurrent status: DatasetFeaturizationCompleted. Completed featurizing the CV split.\n\rCurrent status: DatasetFeaturization. Beginning to featurize the CV split.\n\rCurrent status: DatasetFeaturizationCompleted. Completed featurizing the CV split.\n\rCurrent status: DatasetFeaturization. Beginning to featurize the CV split.\n\rCurrent status: DatasetFeaturizationCompleted. Completed featurizing the CV split.\n\n****************************************************************************************************\nDATA GUARDRAILS: \n\nTYPE:         Frequency detection\nSTATUS:       PASSED\nDESCRIPTION:  The time series was analyzed, all data points are aligned with detected frequency.\n\n****************************************************************************************************\n\rCurrent status: ModelSelection. Beginning model selection.\n\n****************************************************************************************************\nITERATION: The iteration being evaluated.\nPIPELINE: A summary description of the pipeline being evaluated.\nDURATION: Time taken for the current iteration.\nMETRIC: The result of computing score on the fitted pipeline.\nBEST: The best observed score thus far.\n****************************************************************************************************\n\n ITERATION   PIPELINE                                       DURATION      METRIC      BEST\n         0   StandardScalerWrapper ElasticNet               0:00:19       0.2193    0.2193\n         1   StandardScalerWrapper ElasticNet               0:00:14       0.2150    0.2150\n         2   RobustScaler ElasticNet                        0:00:14       0.2246    0.2150\n         3   StandardScalerWrapper ElasticNet               0:00:13       0.2079    0.2079\n         4   StandardScalerWrapper ElasticNet               0:00:18       0.2129    0.2079\n         5   StandardScalerWrapper ElasticNet               0:00:16       0.2144    0.2079\n         6   StandardScalerWrapper RandomForest             0:00:13       0.1942    0.1942\n         7   StandardScalerWrapper LightGBM                 0:00:16       0.2020    0.1942\n         8   StandardScalerWrapper LassoLars                0:00:14       0.2203    0.1942\n         9   MinMaxScaler DecisionTree                      0:00:14       0.3403    0.1942\n        10   MaxAbsScaler RandomForest                      0:00:13       0.2149    0.1942\n        11   MaxAbsScaler DecisionTree                      0:00:13       0.3624    0.1942\n        12   MinMaxScaler DecisionTree                      0:00:13       0.3399    0.1942\n        13   StandardScalerWrapper ElasticNet               0:00:14       0.2271    0.1942\n        14   StandardScalerWrapper DecisionTree             0:00:13       0.3487    0.1942\n        15   MaxAbsScaler DecisionTree                      0:00:13       0.3155    0.1942\n        16   MinMaxScaler ExtremeRandomTrees                0:00:14       0.2361    0.1942\n        17   MinMaxScaler ExtremeRandomTrees                0:00:13       0.1927    0.1927\n        18   MinMaxScaler RandomForest                      0:00:13       0.1879    0.1879\n        19   StandardScalerWrapper ElasticNet               0:00:13       0.2145    0.1879\n        20   MinMaxScaler RandomForest                      0:00:14       0.2223    0.1879\n        21   StandardScalerWrapper ExtremeRandomTrees       0:00:20       0.1949    0.1879\n        22   RobustScaler ExtremeRandomTrees                0:00:14       0.2042    0.1879\n        23   StandardScalerWrapper ElasticNet               0:00:14       0.2083    0.1879\n        24   StandardScalerWrapper ElasticNet               0:00:14       0.2080    0.1879\n        25   StandardScalerWrapper RandomForest             0:00:13       0.2469    0.1879\n        26   StandardScalerWrapper LightGBM                 0:00:14       0.2758    0.1879\n        27   RobustScaler RandomForest                      0:00:14       0.2057    0.1879\n        28   StandardScalerWrapper ExtremeRandomTrees       0:00:16       0.1965    0.1879\n        29   MinMaxScaler LightGBM                          0:00:14       0.2494    0.1879\nStopping criteria reached at iteration 30. Ending experiment.\n****************************************************************************************************\n\rCurrent status: BestRunExplainModel. Best run model explanations started\n\rCurrent status: ModelExplanationDataSetSetup. Model explanations data setup completed\n\rCurrent status: EngineeredFeatureExplanations. Computation of engineered features started\n\rCurrent status: EngineeredFeatureExplanations. Computation of engineered features completed\n\rCurrent status: BestRunExplainModel. Best run model explanations completed\n****************************************************************************************************"
          },
          "metadata": {}
        }
      ],
      "metadata": {},
      "source": [
        "%%pyspark\n",
        "local_run = experiment.submit(automl_config, show_output=True)"
      ],
      "attachments": {}
    },
    {
      "cell_type": "markdown",
      "metadata": {},
      "source": [
        "## Retrieve the Best Model\n",
        ""
      ],
      "attachments": {}
    },
    {
      "cell_type": "code",
      "execution_count": 31,
      "outputs": [],
      "metadata": {},
      "source": [
        "%%pyspark\n",
        "best_run, fitted_model = local_run.get_output()"
      ],
      "attachments": {}
    },
    {
      "cell_type": "code",
      "execution_count": 32,
      "outputs": [
        {
          "output_type": "execute_result",
          "execution_count": 32,
          "data": {
            "text/plain": "Run(Experiment: Department_Visit_Count_20thFeb,\nId: AutoML_9d46d988-e1a7-4803-974b-e2452362d8e4_18,\nType: None,\nStatus: Completed)"
          },
          "metadata": {}
        }
      ],
      "metadata": {},
      "source": [
        "%%pyspark\n",
        "print(best_run)"
      ],
      "attachments": {}
    },
    {
      "cell_type": "code",
      "execution_count": 33,
      "outputs": [
        {
          "output_type": "execute_result",
          "execution_count": 33,
          "data": {
            "text/plain": "ForecastingPipelineWrapper(pipeline=Pipeline(memory=None,\n     steps=[('timeseriestransformer', TimeSeriesTransformer(featurization_config=None, logger=None,\n           pipeline_type=<TimeSeriesPipelineType.FULL: 1>)), ('MinMaxScaler', MinMaxScaler(copy=True, feature_range=(0, 1))), ('RandomForestRegressor', RandomForestRegressor(bootstrap=True, criterion='mse'...timators=10, n_jobs=1,\n           oob_score=False, random_state=None, verbose=0, warm_start=False))]),\n              stddev=None)"
          },
          "metadata": {}
        }
      ],
      "metadata": {},
      "source": [
        "%%pyspark\n",
        "print(fitted_model)"
      ],
      "attachments": {}
    },
    {
      "cell_type": "markdown",
      "metadata": {},
      "source": [
        "# Evaluate the Model Performance\n",
        "<p style=\"font-size:16px; color:#117d30;\">Here we have used Root Mean Squared Error (RMSE) for evaluation.</p>\n",
        ""
      ],
      "attachments": {}
    },
    {
      "cell_type": "code",
      "execution_count": 34,
      "outputs": [],
      "metadata": {},
      "source": [
        "%%pyspark\n",
        "test_labels = test_data.pop(\"Accessories_count\").values\n",
        "predict_labels = fitted_model.predict(test_data)\n",
        "actual_labels = test_labels.flatten()"
      ],
      "attachments": {}
    },
    {
      "cell_type": "code",
      "execution_count": 35,
      "outputs": [
        {
          "output_type": "execute_result",
          "execution_count": 35,
          "data": {
            "text/plain": "1039.8702542330673"
          },
          "metadata": {}
        }
      ],
      "metadata": {},
      "source": [
        "%%pyspark\n",
        "rmse = math.sqrt(mean_squared_error(actual_labels,predict_labels))\n",
        "rmse"
      ],
      "attachments": {}
    },
    {
      "cell_type": "code",
      "execution_count": 36,
      "outputs": [
        {
          "output_type": "execute_result",
          "execution_count": 36,
          "data": {
            "text/plain": "Model MAPE:\n0.3029047353412851\n\nModel Accuracy:\n0.697095264658715"
          },
          "metadata": {}
        }
      ],
      "metadata": {},
      "source": [
        "%%pyspark\n",
        "sum_actuals = sum_errors = 0\n",
        "\n",
        "for actual_val, predict_val in zip(actual_labels,predict_labels):\n",
        "    abs_error = actual_val - predict_val\n",
        "    if abs_error < 0:\n",
        "        abs_error = abs_error * -1\n",
        "\n",
        "    sum_errors = sum_errors + abs_error\n",
        "    sum_actuals = sum_actuals + actual_val\n",
        "\n",
        "mean_abs_percent_error = sum_errors / sum_actuals\n",
        "print(\"Model MAPE:\")\n",
        "print(mean_abs_percent_error)\n",
        "print()\n",
        "print(\"Model Accuracy:\")\n",
        "print(1 - mean_abs_percent_error)"
      ],
      "attachments": {}
    },
    {
      "cell_type": "code",
      "execution_count": 37,
      "outputs": [],
      "metadata": {},
      "source": [
        "%%pyspark\n",
        "predicted_value = fitted_model.predict(test_data)\n",
        "actual_value = test_labels.flatten() \n",
        "actual_value = actual_value.tolist()\n",
        "predicted_value = predicted_value.tolist()\n",
        "output_df= pd.DataFrame({'actual_value':actual_value,'predicted_value':predicted_value})\n",
        "output_df['Error_Rate %'] = 100*((output_df['actual_value']-output_df['predicted_value'])/(output_df['actual_value']))\n",
        "display(output_df)"
      ],
      "attachments": {}
    },
    {
      "cell_type": "code",
      "execution_count": 49,
      "outputs": [],
      "metadata": {},
      "source": [
        "%%pyspark\n",
        "future_date =  pd.date_range(start='2015-12-1', end='2015-12-5')\n",
        "future_data = pd.DataFrame({'Date':future_date, 'Accessories_count':0})\n",
        "display(future_data)"
      ],
      "attachments": {}
    },
    {
      "cell_type": "code",
      "execution_count": 43,
      "outputs": [],
      "metadata": {},
      "source": [
        "%%pyspark\n",
        "future_data['Date'] = pd.to_datetime(future_data['Date']).dt.strftime('%Y-%m-%d')\n",
        "display(future_data)"
      ],
      "attachments": {}
    },
    {
      "cell_type": "markdown",
      "metadata": {},
      "source": [
        "## Making future prediction using model that performs best\n",
        ""
      ],
      "attachments": {}
    },
    {
      "cell_type": "code",
      "execution_count": 50,
      "outputs": [],
      "metadata": {},
      "source": [
        "%%pyspark\n",
        "future_value = fitted_model.predict(future_data)\n",
        "temp_df =  pd.DataFrame({'Accessories_count':future_value})\n",
        "temp_df['Accessories_count'] = temp_df['Accessories_count'].round(0)\n",
        "future_data['Accessories_Customer_count'] = temp_df['Accessories_count']\n",
        "future_data.drop({'Accessories_count'},axis=1,inplace=True)\n",
        "future_data['Date'] = pd.to_datetime(future_data['Date']).dt.strftime('%Y-%m-%d')\n",
        "display(future_data)"
      ],
      "attachments": {}
    },
    {
      "cell_type": "code",
      "execution_count": 41,
      "outputs": [],
      "metadata": {},
      "source": [
        "%%pyspark\n",
        "output = spark.createDataFrame(future_data)"
      ],
      "attachments": {}
    },
    {
      "cell_type": "markdown",
      "metadata": {},
      "source": [
        "## **Registering Model**\n",
        ""
      ],
      "attachments": {}
    },
    {
      "cell_type": "code",
      "execution_count": 45,
      "outputs": [
        {
          "output_type": "execute_result",
          "execution_count": 45,
          "data": {
            "text/plain": "'AutoML9d46d988e18'"
          },
          "metadata": {}
        }
      ],
      "metadata": {},
      "source": [
        "%%pyspark\n",
        "#register model\n",
        "#model_name = \"my_model_20th\"\n",
        "description = \"Forecast Model\"\n",
        "tags = None\n",
        "model = local_run.register_model(description = description, tags = tags)\n",
        "local_run.model_id"
      ],
      "attachments": {}
    },
    {
      "cell_type": "code",
      "execution_count": 46,
      "outputs": [],
      "metadata": {},
      "source": [
        "%%pyspark\n",
        "#saving scoring and conda file\n",
        "script_file_name = 'inference/score.py'\n",
        "conda_env_file_name = 'inference/env.yml'\n",
        "#/content/azureml_automl.log\n",
        "best_run.download_file('outputs/scoring_file_v_1_0_0.py', 'inference/score.py')\n",
        "best_run.download_file('outputs/conda_env_v_1_0_0.yml', 'inference/env.yml')"
      ],
      "attachments": {}
    },
    {
      "cell_type": "markdown",
      "metadata": {},
      "source": [
        "## Checking the progress of the experiment in Azure portal\n",
        "<p style=\"font-size:16px; color:#117d30;\">Here the URL is retrieved by the following command.</p>\n",
        "\n",
        ""
      ],
      "attachments": {}
    },
    {
      "cell_type": "code",
      "execution_count": 47,
      "outputs": [
        {
          "output_type": "execute_result",
          "execution_count": 47,
          "data": {
            "text/plain": "https://ml.azure.com/experiments/Department_Visit_Count_20thFeb/runs/AutoML_9d46d988-e1a7-4803-974b-e2452362d8e4?wsid=/subscriptions/49d66a68-7c00-43c3-93ae-602ee60e1eb6/resourcegroups/CDP-VISION-DEMO-RG/workspaces/Auto-ML-2"
          },
          "metadata": {}
        }
      ],
      "metadata": {},
      "source": [
        "%%pyspark\n",
        "print(local_run.get_portal_url())"
      ],
      "attachments": {}
    },
    {
      "cell_type": "markdown",
      "metadata": {},
      "source": [
        "## Consuming REST EndPoint API\n",
        ""
      ],
      "attachments": {}
    },
    {
      "cell_type": "code",
      "execution_count": 48,
      "outputs": [
        {
          "output_type": "execute_result",
          "execution_count": 48,
          "data": {
            "text/plain": "{'Results': {'WebServiceOutput0': [{'Accessories_count': 18,\n                                    'Date': '2020-04-20 00:00:00',\n                                    'Entertainment_count': 28,\n                                    'Gaming': 5,\n                                    'Kids': 14,\n                                    'Mens': 14,\n                                    'Phone_and_GPS': 36,\n                                    'Scored Labels': 14,\n                                    'Scored Probabilities_0': 0.0,\n                                    'Scored Probabilities_14': 0.125,\n                                    'Scored Probabilities_16': 0.0,\n                                    'Scored Probabilities_21': 0.125,\n                                    'Scored Probabilities_22': 0.0,\n                                    'Scored Probabilities_23': 0.125,\n                                    'Scored Probabilities_25': 0.125,\n                                    'Scored Probabilities_29': 0.0,\n                                    'Scored Probabilities_30': 0.0,\n                                    'Scored Probabilities_33': 0.0,\n                                    'Scored Probabilities_34': 0.0,\n                                    'Scored Probabilities_37': 0.125,\n                                    'Scored Probabilities_38': 0.125,\n                                    'Scored Probabilities_39': 0.0,\n                                    'Scored Probabilities_40': 0.0,\n                                    'Scored Probabilities_42': 0.0,\n                                    'Scored Probabilities_43': 0.125,\n                                    'Scored Probabilities_45': 0.0,\n                                    'Scored Probabilities_46': 0.125,\n                                    'Scored Probabilities_47': 0.0,\n                                    'Scored Probabilities_48': 0.0,\n                                    'Scored Probabilities_49': 0.0,\n                                    'Scored Probabilities_52': 0.0,\n                                    'Womens': 30}]}}"
          },
          "metadata": {}
        }
      ],
      "metadata": {},
      "source": [
        "%%pyspark\n",
        "import urllib.request\n",
        "import json\n",
        "import os\n",
        "import ssl\n",
        "import pprint\n",
        "\n",
        "def allowSelfSignedHttps(allowed):\n",
        "    # bypass the server certificate verification on client side\n",
        "    if allowed and not os.environ.get('PYTHONHTTPSVERIFY', '') and getattr(ssl, '_create_unverified_context', None):\n",
        "        ssl._create_default_https_context = ssl._create_unverified_context\n",
        "\n",
        "allowSelfSignedHttps(True) # this line is needed if you use self-signed certificate in your scoring service.\n",
        "\n",
        "data = {\n",
        "    \"Inputs\": {\n",
        "          \"WebServiceInput0\":\n",
        "          [\n",
        "              {\n",
        "                    'Date': \"2020-04-20T00:00:00Z\",\n",
        "                    'Accessories_count': \"18\",\n",
        "                    'Entertainment_count': \"28\",\n",
        "                    'Gaming': \"5\",\n",
        "                    'Kids': \"14\",\n",
        "                    'Mens': \"14\",\n",
        "                    'Phone_and_GPS': \"36\",\n",
        "                    'Womens': \"30\",\n",
        "              },\n",
        "          ],\n",
        "    },\n",
        "    \"GlobalParameters\":  {\n",
        "    }\n",
        "}\n",
        "\n",
        "body = str.encode(json.dumps(data))\n",
        "\n",
        "url = 'http://13.68.210.52:80/api/v1/service/retail-realtime-inference/score'\n",
        "api_key = 'wRx4zkptjIjKq41jPFmw9UO3LfZ7CLE6' # Replace this with the API key for the web service\n",
        "headers = {'Content-Type':'application/json', 'Authorization':('Bearer '+ api_key)}\n",
        "\n",
        "req = urllib.request.Request(url, body, headers)\n",
        "\n",
        "try:\n",
        "    response = urllib.request.urlopen(req)\n",
        "\n",
        "    result = response.read()\n",
        "    #print(result)\n",
        "    pprint.pprint(json.loads(result))\n",
        "except urllib.error.HTTPError as error:\n",
        "    print(\"The request failed with status code: \" + str(error.code))\n",
        "\n",
        "    # Print the headers - they include the requert ID and the timestamp, which are useful for debugging the failure\n",
        "    print(error.info())\n",
        "    print(json.loads(error.read().decode(\"utf8\", 'ignore')))\n",
        ""
      ],
      "attachments": {}
    },
    {
      "cell_type": "code",
      "execution_count": 32,
      "outputs": [],
      "metadata": {},
      "source": [
        ""
      ],
      "attachments": {}
    }
  ]
}