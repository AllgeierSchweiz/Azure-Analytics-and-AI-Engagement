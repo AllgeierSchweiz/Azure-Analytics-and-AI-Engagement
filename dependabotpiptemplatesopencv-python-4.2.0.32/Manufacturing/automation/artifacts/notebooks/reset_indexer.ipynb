{
  "nbformat": 4,
  "nbformat_minor": 0,
  "metadata": {
    "kernelspec": {
      "display_name": "Python 3",
      "language": "python",
      "name": "python3"
    },
    "language_info": {
      "codemirror_mode": {
        "name": "ipython",
        "version": 3
      },
      "file_extension": ".py",
      "mimetype": "text/x-python",
      "name": "python",
      "nbconvert_exporter": "python",
      "pygments_lexer": "ipython3",
      "version": "3.7.9"
    },
    "colab": {
      "name": "delete_document_from_index.ipynb",
      "provenance": []
    }
  },
  "cells": [
   {
      "cell_type": "markdown",
      "metadata": {},
      "source": [
        "## *DISCLAIMER*\n",
        "<p style=\"font-size:16px; color:#117d30;\">\n",
        " By accessing this code, you acknowledge the code is made available for presentation and demonstration purposes only and that the code: (1) is not subject to SOC 1 and SOC 2 compliance audits; (2) is not designed or intended to be a substitute for the professional advice, diagnosis, treatment, or judgment of a certified financial services professional; (3) is not designed, intended or made available as a medical device; and (4) is not designed or intended to be a substitute for professional medical advice, diagnosis, treatment or judgement. Do not use this code to replace, substitute, or provide professional financial advice or judgment, or to replace, substitute or provide medical advice, diagnosis, treatment or judgement. You are solely responsible for ensuring the regulatory, legal, and/or contractual compliance of any use of the code, including obtaining any authorizations or consents, and any solution you choose to build that incorporates this code in whole or in part.\n",
        "</p>"
      ],
      "attachments": {}
    },
    {
      "cell_type": "markdown",
      "metadata": {
        "id": "-87fVEEz23gT"
      },
      "source": [
        "### Initial Setup"
      ]
    },
    {
      "cell_type": "markdown",
      "metadata": {
        "id": "AYbneeSu23gU"
      },
      "source": [
        "Please follow this documentation for finding out your api-key for your search engine.\n",
        "https://docs.microsoft.com/en-us/azure/search/search-security-api-keys"
      ]
    },
    {
      "cell_type": "markdown",
      "metadata": {
        "id": "bMaaGNb-23gV"
      },
      "source": [
        "### Import all the required libraries"
      ]
    },
    {
      "cell_type": "code",
      "metadata": {
        "id": "Xq0cTmAF23gW"
      },
      "source": [
        "import requests\n",
        "import json\n",
        "import base64"
      ],
      "execution_count": 3,
      "outputs": []
    },
    {
      "cell_type": "markdown",
      "metadata": {
        "id": "wMtt4jpD23gY"
      },
      "source": [
        "### Define all the parameters"
      ]
    },
    {
      "cell_type": "code",
      "metadata": {
        "id": "g3SgQ4sk23gZ"
      },
      "source": [
        "# Define all the parameters\n",
        "blob_file_path = \"https://#STORAGE_ACCOUNT_NAME#.blob.core.windows.net/formrecogoutput/212045001.json\"\n",
        "api_key = '#SEARCH_KEY#'\n",
        "service_name = \"#SEARCH_NAME#\"\n",
        "index_name = \"osha-final-index\"\n",
        "api_version=\"2020-06-30\""
      ],
      "execution_count": 1,
      "outputs": []
    },
    {
      "cell_type": "code",
      "metadata": {
        "id": "10WhN2MD23gd",
        "outputId": "48acce51-41f6-46d3-f2ec-e1dde3075784",
        "colab": {
          "base_uri": "https://localhost:8080/",
          "height": 34
        }
      },
      "source": [
        "# Encode the json file to be deleted from the index. \n",
        "fpath = f'{blob_file_path}'\n",
        "en_bpath = base64.b64encode(bytes(fpath, 'utf-8'))\n",
        "en_spath = en_bpath.decode('utf-8')\n",
        "en_spath =en_spath.replace(\"==\", \"2\")\n",
        "print(en_spath)"
      ],
      "execution_count": 4,
      "outputs": [
        {
          "output_type": "stream",
          "text": [
            "aHR0cHM6Ly9kcmVhbWRlbW9zdHJnZ2VuMm9jdDhzeTUuYmxvYi5jb3JlLndpbmRvd3MubmV0L2Zvcm1yZWNvZ291dHB1dC8yMDIwNDUwMDMuanNvbg2\n"
          ],
          "name": "stdout"
        }
      ]
    },
    {
      "cell_type": "code",
      "metadata": {
        "id": "qX7C6fZN23gk"
      },
      "source": [
        "data = {\n",
        "  \"value\": [\n",
        "    { \n",
        "        \"@search.action\": \"delete\", \"metadata_storage_path\": en_spath, \"source\": \"tractor\" \n",
        "     }\n",
        "  ]\n",
        "}"
      ],
      "execution_count": 5,
      "outputs": []
    },
    {
      "cell_type": "code",
      "metadata": {
        "id": "kbI93tgu23gm",
        "outputId": "eba0f0ba-0956-4c8d-e350-875701ebe87d",
        "colab": {
          "base_uri": "https://localhost:8080/",
          "height": 54
        }
      },
      "source": [
        "jdata = json.dumps(data)\n",
        "print(jdata)"
      ],
      "execution_count": 6,
      "outputs": [
        {
          "output_type": "stream",
          "text": [
            "{\"value\": [{\"@search.action\": \"delete\", \"metadata_storage_path\": \"aHR0cHM6Ly9kcmVhbWRlbW9zdHJnZ2VuMm9jdDhzeTUuYmxvYi5jb3JlLndpbmRvd3MubmV0L2Zvcm1yZWNvZ291dHB1dC8yMDIwNDUwMDMuanNvbg2\", \"final_narrative\": \"freight\"}]}\n"
          ],
          "name": "stdout"
        }
      ]
    },
    {
      "cell_type": "markdown",
      "metadata": {
        "id": "-a4uiAWe23gp"
      },
      "source": [
        "### Making an API Call for deleting from the index\n",
        "The status code should be 200."
      ]
    },
    {
      "cell_type": "code",
      "metadata": {
        "id": "jeYwAcag23gq",
        "outputId": "12c8d819-2fbf-4ffa-fd88-09c9f1644efe",
        "colab": {
          "base_uri": "https://localhost:8080/",
          "height": 34
        }
      },
      "source": [
        "url = f'https://{service_name}.search.windows.net/indexes/{index_name}/docs/index?api-version={api_version}'\n",
        "\n",
        "headers = {\n",
        "    'api-key': api_key,\n",
        "    'Content-Type': 'application/json',\n",
        "}\n",
        "response = requests.post(url, headers=headers, data=jdata)\n",
        "print(response.status_code)"
      ],
      "execution_count": 7,
      "outputs": [
        {
          "output_type": "stream",
          "text": [
            "200\n"
          ],
          "name": "stdout"
        }
      ]
    },
    {
      "cell_type": "code",
      "metadata": {
        "id": "EazcFxB923gt",
        "outputId": "f34e91ea-e5e7-4b57-e0f7-78a8b9724655",
        "colab": {
          "base_uri": "https://localhost:8080/"
        }
      },
      "source": [
        "print(response.text)"
      ],
      "execution_count": null,
      "outputs": [
        {
          "output_type": "stream",
          "text": [
            "{\"@odata.context\":\"https://testsearch-5efnluzwwze6m-oct7.search.windows.net/indexes('osha-final-index')/$metadata#Collection(Microsoft.Azure.Search.V2020_06_30.IndexResult)\",\"value\":[{\"key\":\"aHR0cHM6Ly90ZXN0c3RvcmFnZXNlYXJjaC5ibG9iLmNvcmUud2luZG93cy5uZXQvZm9ybXJlY29nb3V0cHV0LzIwMjA0NTAwMS5qc29uNQ==\",\"status\":true,\"errorMessage\":null,\"statusCode\":200}]}\n"
          ],
          "name": "stdout"
        }
      ]
    }
  ]
}