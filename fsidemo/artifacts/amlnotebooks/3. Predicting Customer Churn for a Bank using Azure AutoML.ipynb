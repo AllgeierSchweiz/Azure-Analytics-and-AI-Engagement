{
  "cells": [
    {
      "cell_type": "markdown",
      "source": [
        "# Predicting Customer Churn For Retail Banking\n",
        "<h3><span style=\"color: #117d30;\"> Predicting whether a retail banking customer is likely to churn</span></h3>\n"
      ],
      "metadata": {}
    },
    {
      "cell_type": "markdown",
      "source": [
        "## Disclaimer\n",
        "\n",
        "By accessing this code, you acknowledge the code is made available for presentation and demonstration purposes only and that the code (1) is not subject to SOC 1 and SOC 2 compliance audits, and (2) is not designed or intended to be a substitute for the professional advice, diagnosis, treatment, or judgment of a certified financial services professional. Do not use this code to replace, substitute, or provide professional financial advice, or judgement. You are solely responsible for ensuring the regulatory, legal, and/or contractual compliance of any use of the code, including obtaining any authorizations or consents, and any solution you choose to build that incorporates this code in whole or in part.\n",
        "\n",
        "© 2021 Microsoft Corporation. All rights reserved"
      ],
      "metadata": {
        "nteract": {
          "transient": {
            "deleting": false
          }
        }
      }
    },
    {
      "cell_type": "markdown",
      "source": [
        "### Introduction\n",
        "In this example we use historical retail banking data to build an AutoML classification model to predict whether a retail banking customer is likely to churn or not. The objective is to predict **Churn Ratio** for the retail banking business, which is defined as the proportion of all retail banking customers that are likely to churn, in near future.  "
      ],
      "metadata": {}
    },
    {
      "cell_type": "markdown",
      "source": [
        "### Importing required libraries and dependencies\n",
        "\n"
      ],
      "metadata": {}
    },
    {
      "cell_type": "code",
      "source": [
        "## Importing required libraries \n",
        "import azureml.core\n",
        "from azureml.core import Workspace, Datastore, Dataset, Experiment\n",
        "from azureml.data import DataType\n",
        "from azureml.data.datapath import DataPath\n",
        "\n",
        "## Importing libraries specific to AutoML  \n",
        "from azureml.core.compute import AmlCompute\n",
        "from azureml.train.automl import AutoMLConfig\n",
        "from azureml.train.automl.run import AutoMLRun\n",
        "\n",
        "## We will be reading data as a Pandas dataframe   \n",
        "import pandas as pd\n",
        "## Python SDK version \n",
        "print(\"SDK Version:\", azureml.core.VERSION)"
      ],
      "outputs": [
        {
          "output_type": "stream",
          "name": "stdout",
          "text": [
            "SDK Version: 1.32.0\n"
          ]
        }
      ],
      "execution_count": 1,
      "metadata": {
        "gather": {
          "logged": 1627417192538
        }
      }
    },
    {
      "cell_type": "code",
      "source": [
        "import GlobalVariables "
      ],
      "outputs": [],
      "execution_count": 2,
      "metadata": {}
    },
    {
      "cell_type": "code",
      "source": [
        "## Printing the ML workspace details    \n",
        "import os\n",
        "\n",
        "\n",
        "ws = Workspace(subscription_id= \"#SUBSCRIPTION_ID#\",\n",
        "                resource_group= \"#RESOURCE_GROUP_NAME#\",\n",
        "                workspace_name= \"#WORKSPACE_NAME#\")\n",
        "ws\n"
      ],
      "outputs": [
        {
          "output_type": "execute_result",
          "execution_count": 3,
          "data": {
            "text/plain": "Workspace.create(name='#WORKSPACE_NAME#', subscription_id='#SUBSCRIPTION_ID#', resource_group='#RESOURCE_GROUP_NAME#')"
          },
          "metadata": {}
        }
      ],
      "execution_count": 3,
      "metadata": {
        "gather": {
          "logged": 1627416824757
        }
      }
    },
    {
      "cell_type": "markdown",
      "source": [
        "### Pre-processing the data"
      ],
      "metadata": {}
    },
    {
      "cell_type": "markdown",
      "source": [
        "#### Loading  the data\n",
        "Load the historical retail banking customer dataset\n",
        " "
      ],
      "metadata": {}
    },
    {
      "cell_type": "code",
      "source": [
        "## Data is already registered in ML workspace, as a tabular data     \n",
        "churndata = ws.datasets['customer_churn']"
      ],
      "outputs": [],
      "execution_count": 4,
      "metadata": {
        "gather": {
          "logged": 1627416831691
        }
      }
    },
    {
      "cell_type": "markdown",
      "source": [
        "#### Convert to Pandas dataframe "
      ],
      "metadata": {}
    },
    {
      "cell_type": "code",
      "source": [
        "## Converting the tabular data to a pandas dataframe \n",
        "churndata_pd = churndata.to_pandas_dataframe()\n",
        "churndata_pd.head()"
      ],
      "outputs": [
        {
          "output_type": "execute_result",
          "execution_count": 5,
          "data": {
            "text/html": "<div>\n<style scoped>\n    .dataframe tbody tr th:only-of-type {\n        vertical-align: middle;\n    }\n\n    .dataframe tbody tr th {\n        vertical-align: top;\n    }\n\n    .dataframe thead th {\n        text-align: right;\n    }\n</style>\n<table border=\"1\" class=\"dataframe\">\n  <thead>\n    <tr style=\"text-align: right;\">\n      <th></th>\n      <th>Column1</th>\n      <th>age</th>\n      <th>marital</th>\n      <th>housing</th>\n      <th>loan</th>\n      <th>contact</th>\n      <th>pdays</th>\n      <th>previous</th>\n      <th>emp.var.rate</th>\n      <th>cons.price.idx</th>\n      <th>...</th>\n      <th>job_admin.</th>\n      <th>job_blue-collar</th>\n      <th>job_entrepreneur</th>\n      <th>job_management</th>\n      <th>job_retired</th>\n      <th>job_self-employed</th>\n      <th>job_services</th>\n      <th>job_student</th>\n      <th>job_technician</th>\n      <th>job_unemployed</th>\n    </tr>\n  </thead>\n  <tbody>\n    <tr>\n      <th>0</th>\n      <td>0</td>\n      <td>56</td>\n      <td>1</td>\n      <td>1</td>\n      <td>1</td>\n      <td>1</td>\n      <td>999</td>\n      <td>0</td>\n      <td>1.1</td>\n      <td>93.994</td>\n      <td>...</td>\n      <td>0</td>\n      <td>0</td>\n      <td>0</td>\n      <td>0</td>\n      <td>0</td>\n      <td>0</td>\n      <td>0</td>\n      <td>0</td>\n      <td>0</td>\n      <td>0</td>\n    </tr>\n    <tr>\n      <th>1</th>\n      <td>1</td>\n      <td>57</td>\n      <td>1</td>\n      <td>1</td>\n      <td>1</td>\n      <td>1</td>\n      <td>999</td>\n      <td>0</td>\n      <td>1.1</td>\n      <td>93.994</td>\n      <td>...</td>\n      <td>0</td>\n      <td>0</td>\n      <td>0</td>\n      <td>0</td>\n      <td>0</td>\n      <td>0</td>\n      <td>1</td>\n      <td>0</td>\n      <td>0</td>\n      <td>0</td>\n    </tr>\n    <tr>\n      <th>2</th>\n      <td>2</td>\n      <td>37</td>\n      <td>1</td>\n      <td>2</td>\n      <td>1</td>\n      <td>1</td>\n      <td>999</td>\n      <td>0</td>\n      <td>1.1</td>\n      <td>93.994</td>\n      <td>...</td>\n      <td>0</td>\n      <td>0</td>\n      <td>0</td>\n      <td>0</td>\n      <td>0</td>\n      <td>0</td>\n      <td>1</td>\n      <td>0</td>\n      <td>0</td>\n      <td>0</td>\n    </tr>\n    <tr>\n      <th>3</th>\n      <td>3</td>\n      <td>40</td>\n      <td>1</td>\n      <td>1</td>\n      <td>1</td>\n      <td>1</td>\n      <td>999</td>\n      <td>0</td>\n      <td>1.1</td>\n      <td>93.994</td>\n      <td>...</td>\n      <td>1</td>\n      <td>0</td>\n      <td>0</td>\n      <td>0</td>\n      <td>0</td>\n      <td>0</td>\n      <td>0</td>\n      <td>0</td>\n      <td>0</td>\n      <td>0</td>\n    </tr>\n    <tr>\n      <th>4</th>\n      <td>4</td>\n      <td>56</td>\n      <td>1</td>\n      <td>1</td>\n      <td>2</td>\n      <td>1</td>\n      <td>999</td>\n      <td>0</td>\n      <td>1.1</td>\n      <td>93.994</td>\n      <td>...</td>\n      <td>0</td>\n      <td>0</td>\n      <td>0</td>\n      <td>0</td>\n      <td>0</td>\n      <td>0</td>\n      <td>1</td>\n      <td>0</td>\n      <td>0</td>\n      <td>0</td>\n    </tr>\n  </tbody>\n</table>\n<p>5 rows × 33 columns</p>\n</div>",
            "text/plain": "   Column1  age  marital  housing  loan  contact  pdays  previous  \\\n0        0   56        1        1     1        1    999         0   \n1        1   57        1        1     1        1    999         0   \n2        2   37        1        2     1        1    999         0   \n3        3   40        1        1     1        1    999         0   \n4        4   56        1        1     2        1    999         0   \n\n   emp.var.rate  cons.price.idx  ...  job_admin.  job_blue-collar  \\\n0           1.1          93.994  ...           0                0   \n1           1.1          93.994  ...           0                0   \n2           1.1          93.994  ...           0                0   \n3           1.1          93.994  ...           1                0   \n4           1.1          93.994  ...           0                0   \n\n   job_entrepreneur  job_management  job_retired  job_self-employed  \\\n0                 0               0            0                  0   \n1                 0               0            0                  0   \n2                 0               0            0                  0   \n3                 0               0            0                  0   \n4                 0               0            0                  0   \n\n   job_services  job_student  job_technician  job_unemployed  \n0             0            0               0               0  \n1             1            0               0               0  \n2             1            0               0               0  \n3             0            0               0               0  \n4             1            0               0               0  \n\n[5 rows x 33 columns]"
          },
          "metadata": {}
        }
      ],
      "execution_count": 5,
      "metadata": {
        "gather": {
          "logged": 1626296139963
        }
      }
    },
    {
      "cell_type": "code",
      "source": [
        "# View info to see what the column names and types are\n",
        "churndata_pd.info()"
      ],
      "outputs": [
        {
          "output_type": "stream",
          "name": "stdout",
          "text": [
            "<class 'pandas.core.frame.DataFrame'>\n",
            "RangeIndex: 41188 entries, 0 to 41187\n",
            "Data columns (total 33 columns):\n",
            "Column1                          41188 non-null int64\n",
            "age                              41188 non-null int64\n",
            "marital                          41188 non-null int64\n",
            "housing                          41188 non-null int64\n",
            "loan                             41188 non-null int64\n",
            "contact                          41188 non-null int64\n",
            "pdays                            41188 non-null int64\n",
            "previous                         41188 non-null int64\n",
            "emp.var.rate                     41188 non-null float64\n",
            "cons.price.idx                   41188 non-null float64\n",
            "cons.conf.idx                    41188 non-null float64\n",
            "euribor3m                        41188 non-null float64\n",
            "nr.employed                      41188 non-null float64\n",
            "y                                41188 non-null int64\n",
            "education_basic.4y               41188 non-null int64\n",
            "education_basic.6y               41188 non-null int64\n",
            "education_basic.9y               41188 non-null int64\n",
            "education_high.school            41188 non-null int64\n",
            "education_professional.course    41188 non-null int64\n",
            "education_university.degree      41188 non-null int64\n",
            "poutcome_failure                 41188 non-null int64\n",
            "poutcome_nonexistent             41188 non-null int64\n",
            "poutcome_success                 41188 non-null int64\n",
            "job_admin.                       41188 non-null int64\n",
            "job_blue-collar                  41188 non-null int64\n",
            "job_entrepreneur                 41188 non-null int64\n",
            "job_management                   41188 non-null int64\n",
            "job_retired                      41188 non-null int64\n",
            "job_self-employed                41188 non-null int64\n",
            "job_services                     41188 non-null int64\n",
            "job_student                      41188 non-null int64\n",
            "job_technician                   41188 non-null int64\n",
            "job_unemployed                   41188 non-null int64\n",
            "dtypes: float64(5), int64(28)\n",
            "memory usage: 10.4 MB\n"
          ]
        }
      ],
      "execution_count": 6,
      "metadata": {
        "gather": {
          "logged": 1624997329347
        }
      }
    },
    {
      "cell_type": "markdown",
      "source": [
        "#### Set up AutoML Experiment "
      ],
      "metadata": {}
    },
    {
      "cell_type": "code",
      "source": [
        "# select compute\n",
        "compute = AmlCompute(ws, GlobalVariables.COMPUTE_AIML)\n",
        "\n",
        "# choose a name for experiment\n",
        "experiment_name = 'automl_churn_experiment'\n",
        "experiment = Experiment(ws, experiment_name)\n",
        "print(experiment)"
      ],
      "outputs": [
        {
          "output_type": "stream",
          "name": "stdout",
          "text": [
            "Experiment(Name: automl_churn_experiment,\n",
            "Workspace: #WORKSPACE_NAME#)\n"
          ]
        }
      ],
      "execution_count": 7,
      "metadata": {
        "gather": {
          "logged": 1624997329879
        }
      }
    },
    {
      "cell_type": "markdown",
      "source": [
        "#### Set up AutoML Configuration"
      ],
      "metadata": {}
    },
    {
      "cell_type": "code",
      "source": [
        "## Define the target variable or the label \n",
        "label= 'y'  \n",
        "\n",
        "## Setting up AutoML configuration\n",
        "automl_config = AutoMLConfig(task='classification',\n",
        "                            primary_metric='AUC_weighted',   \n",
        "                            debug_log='automl_errors.log',\n",
        "                            iteration_timeout_minutes = 15,\n",
        "                            experiment_timeout_minutes = 15,\n",
        "                            label_column_name=label,\n",
        "                            enable_early_stopping=True,\n",
        "                            compute_target=compute,\n",
        "                            training_data=churndata,\n",
        "                            n_cross_validations=5,\n",
        "                            model_explainability=True)"
      ],
      "outputs": [],
      "execution_count": 8,
      "metadata": {
        "gather": {
          "logged": 1624997330170
        }
      }
    },
    {
      "cell_type": "markdown",
      "source": [
        "#### Configure the AutoML model and run it"
      ],
      "metadata": {}
    },
    {
      "cell_type": "code",
      "source": [
        "## Run experiment\n",
        "## This code clock takes approx.25-30 minutes  \n",
        "training_run = experiment.submit(automl_config, show_output = True)"
      ],
      "outputs": [
        {
          "output_type": "stream",
          "name": "stdout",
          "text": [
            "Submitting remote run.\n",
            "No run_configuration provided, running on fsi-compute-prod with default configuration\n",
            "Running on remote compute: fsi-compute-prod\n"
          ]
        },
        {
          "output_type": "display_data",
          "data": {
            "text/html": "<table style=\"width:100%\"><tr><th>Experiment</th><th>Id</th><th>Type</th><th>Status</th><th>Details Page</th><th>Docs Page</th></tr><tr><td>automl_churn_experiment</td><td>AutoML_f92635f6-21f5-4bd9-9cbd-522c550681e5</td><td>automl</td><td>NotStarted</td><td><a href=\"https://ml.azure.com/runs/AutoML_f92635f6-21f5-4bd9-9cbd-522c550681e5?wsid=/subscriptions/#SUBSCRIPTION_ID#/resourcegroups/#RESOURCE_GROUP_NAME#/workspaces/#WORKSPACE_NAME#&amp;tid=f94768c8-8714-4abe-8e2d-37a64b18216a\" target=\"_blank\" rel=\"noopener\">Link to Azure Machine Learning studio</a></td><td><a href=\"https://docs.microsoft.com/en-us/python/api/overview/azure/ml/intro?view=azure-ml-py\" target=\"_blank\" rel=\"noopener\">Link to Documentation</a></td></tr></table>",
            "text/plain": "<IPython.core.display.HTML object>"
          },
          "metadata": {}
        },
        {
          "output_type": "stream",
          "name": "stdout",
          "text": [
            "\n",
            "Current status: FeaturesGeneration. Generating features for the dataset.\n",
            "Current status: DatasetFeaturization. Beginning to fit featurizers and featurize the dataset.\n",
            "Current status: DatasetCrossValidationSplit. Generating individually featurized CV splits.\n",
            "Current status: ModelSelection. Beginning model selection.\n",
            "\n",
            "****************************************************************************************************\n",
            "DATA GUARDRAILS: \n",
            "\n",
            "TYPE:         Class balancing detection\n",
            "STATUS:       ALERTED\n",
            "DESCRIPTION:  To decrease model bias, please cancel the current run and fix balancing problem.\n",
            "              Learn more about imbalanced data: https://aka.ms/AutomatedMLImbalancedData\n",
            "DETAILS:      Imbalanced data can lead to a falsely perceived positive effect of a model's accuracy because the input data has bias towards one class.\n",
            "+---------------------------------+---------------------------------+--------------------------------------+\n",
            "|Size of the smallest class       |Name/Label of the smallest class |Number of samples in the training data|\n",
            "+=================================+=================================+======================================+\n",
            "|4640                             |1                                |41188                                 |\n",
            "+---------------------------------+---------------------------------+--------------------------------------+\n",
            "\n",
            "****************************************************************************************************\n",
            "\n",
            "TYPE:         Missing feature values imputation\n",
            "STATUS:       PASSED\n",
            "DESCRIPTION:  No feature missing values were detected in the training data.\n",
            "              Learn more about missing value imputation: https://aka.ms/AutomatedMLFeaturization\n",
            "\n",
            "****************************************************************************************************\n",
            "\n",
            "TYPE:         High cardinality feature detection\n",
            "STATUS:       PASSED\n",
            "DESCRIPTION:  Your inputs were analyzed, and no high cardinality features were detected.\n",
            "              Learn more about high cardinality feature handling: https://aka.ms/AutomatedMLFeaturization\n",
            "\n",
            "****************************************************************************************************\n",
            "\n",
            "****************************************************************************************************\n",
            "ITERATION: The iteration being evaluated.\n",
            "PIPELINE: A summary description of the pipeline being evaluated.\n",
            "DURATION: Time taken for the current iteration.\n",
            "METRIC: The result of computing score on the fitted pipeline.\n",
            "BEST: The best observed score thus far.\n",
            "****************************************************************************************************\n",
            "\n",
            " ITERATION   PIPELINE                                       DURATION      METRIC      BEST\n",
            "         0   MaxAbsScaler LightGBM                          0:02:21       0.7991    0.7991\n",
            "         1   MaxAbsScaler XGBoostClassifier                 0:01:02       0.8016    0.8016\n",
            "         2   MaxAbsScaler RandomForest                      0:00:53       0.7870    0.8016\n",
            "         3   MaxAbsScaler RandomForest                      0:00:55       0.7880    0.8016\n",
            "         4   MaxAbsScaler RandomForest                      0:00:49       0.7773    0.8016\n",
            "         5   MaxAbsScaler ExtremeRandomTrees                0:00:54       0.7809    0.8016\n",
            "         6   MaxAbsScaler ExtremeRandomTrees                0:01:14       0.7890    0.8016\n",
            "         7   MaxAbsScaler ExtremeRandomTrees                0:00:50       0.7801    0.8016\n",
            "         8   MaxAbsScaler RandomForest                      0:00:49       0.7734    0.8016\n",
            "         9   MaxAbsScaler ExtremeRandomTrees                0:02:22       0.7781    0.8016\n",
            "        10   MaxAbsScaler RandomForest                      0:00:52       0.7793    0.8016\n",
            "        11    VotingEnsemble                                0:00:55       0.8011    0.8016\n",
            "        12    StackEnsemble                                 0:02:22       0.7993    0.8016\n"
          ]
        }
      ],
      "execution_count": 9,
      "metadata": {
        "gather": {
          "logged": 1624998786694
        },
        "jupyter": {
          "outputs_hidden": true
        }
      }
    },
    {
      "cell_type": "markdown",
      "source": [
        "### Results"
      ],
      "metadata": {}
    },
    {
      "cell_type": "markdown",
      "source": [
        "#### Monitor Runs"
      ],
      "metadata": {}
    },
    {
      "cell_type": "code",
      "source": [
        "# Print training runs\n",
        "from azureml.widgets import RunDetails\n",
        "RunDetails(training_run).show()"
      ],
      "outputs": [
        {
          "output_type": "display_data",
          "data": {
            "application/vnd.jupyter.widget-view+json": {
              "model_id": "1e8f12dc96fb4b148401003dfd4973f0",
              "version_major": 2,
              "version_minor": 0
            },
            "text/plain": "_AutoMLWidget(widget_settings={'childWidgetDisplay': 'popup', 'send_telemetry': False, 'log_level': 'INFO', 's…"
          },
          "metadata": {}
        },
        {
          "output_type": "display_data",
          "data": {
            "application/aml.mini.widget.v1": "{\"status\": \"Completed\", \"workbench_run_details_uri\": \"https://ml.azure.com/runs/AutoML_f92635f6-21f5-4bd9-9cbd-522c550681e5?wsid=/subscriptions/#SUBSCRIPTION_ID#/resourcegroups/#RESOURCE_GROUP_NAME#/workspaces/#WORKSPACE_NAME#&tid=f94768c8-8714-4abe-8e2d-37a64b18216a\", \"run_id\": \"AutoML_f92635f6-21f5-4bd9-9cbd-522c550681e5\", \"run_properties\": {\"run_id\": \"AutoML_f92635f6-21f5-4bd9-9cbd-522c550681e5\", \"created_utc\": \"2021-07-27T22:03:26.625015Z\", \"properties\": {\"num_iterations\": \"1000\", \"training_type\": \"TrainFull\", \"acquisition_function\": \"EI\", \"primary_metric\": \"AUC_weighted\", \"train_split\": \"0\", \"acquisition_parameter\": \"0\", \"num_cross_validation\": \"5\", \"target\": \"fsi-compute-prod\", \"AMLSettingsJsonString\": \"{\\\"path\\\":null,\\\"name\\\":\\\"automl_churn_experiment\\\",\\\"subscription_id\\\":\\\"#SUBSCRIPTION_ID#\\\",\\\"resource_group\\\":\\\"#RESOURCE_GROUP_NAME#\\\",\\\"workspace_name\\\":\\\"#WORKSPACE_NAME#\\\",\\\"region\\\":\\\"westus2\\\",\\\"compute_target\\\":\\\"fsi-compute-prod\\\",\\\"spark_service\\\":null,\\\"azure_service\\\":\\\"remote\\\",\\\"many_models\\\":false,\\\"pipeline_fetch_max_batch_size\\\":1,\\\"enable_batch_run\\\":false,\\\"enable_run_restructure\\\":false,\\\"start_auxiliary_runs_before_parent_complete\\\":false,\\\"enable_code_generation\\\":false,\\\"iterations\\\":1000,\\\"primary_metric\\\":\\\"AUC_weighted\\\",\\\"task_type\\\":\\\"classification\\\",\\\"data_script\\\":null,\\\"test_size\\\":0.0,\\\"validation_size\\\":0.0,\\\"n_cross_validations\\\":5,\\\"y_min\\\":null,\\\"y_max\\\":null,\\\"num_classes\\\":null,\\\"featurization\\\":\\\"auto\\\",\\\"_ignore_package_version_incompatibilities\\\":false,\\\"is_timeseries\\\":false,\\\"max_cores_per_iteration\\\":1,\\\"max_concurrent_iterations\\\":1,\\\"iteration_timeout_minutes\\\":15,\\\"mem_in_mb\\\":null,\\\"enforce_time_on_windows\\\":false,\\\"experiment_timeout_minutes\\\":15,\\\"experiment_exit_score\\\":null,\\\"whitelist_models\\\":null,\\\"blacklist_algos\\\":[\\\"TensorFlowLinearClassifier\\\",\\\"TensorFlowDNN\\\"],\\\"supported_models\\\":[\\\"SVM\\\",\\\"LinearSVM\\\",\\\"BernoulliNaiveBayes\\\",\\\"MultinomialNaiveBayes\\\",\\\"DecisionTree\\\",\\\"XGBoostClassifier\\\",\\\"TensorFlowDNN\\\",\\\"AveragedPerceptronClassifier\\\",\\\"GradientBoosting\\\",\\\"SGD\\\",\\\"KNN\\\",\\\"LightGBM\\\",\\\"TensorFlowLinearClassifier\\\",\\\"RandomForest\\\",\\\"LogisticRegression\\\",\\\"ExtremeRandomTrees\\\"],\\\"private_models\\\":[],\\\"auto_blacklist\\\":true,\\\"blacklist_samples_reached\\\":false,\\\"exclude_nan_labels\\\":true,\\\"verbosity\\\":20,\\\"_debug_log\\\":\\\"azureml_automl.log\\\",\\\"show_warnings\\\":false,\\\"model_explainability\\\":true,\\\"service_url\\\":null,\\\"sdk_url\\\":null,\\\"sdk_packages\\\":null,\\\"enable_onnx_compatible_models\\\":false,\\\"enable_split_onnx_featurizer_estimator_models\\\":false,\\\"vm_type\\\":\\\"STANDARD_DS2_V2\\\",\\\"telemetry_verbosity\\\":20,\\\"send_telemetry\\\":true,\\\"enable_dnn\\\":false,\\\"scenario\\\":\\\"SDK-1.13.0\\\",\\\"environment_label\\\":null,\\\"save_mlflow\\\":false,\\\"force_text_dnn\\\":false,\\\"enable_feature_sweeping\\\":true,\\\"enable_early_stopping\\\":true,\\\"early_stopping_n_iters\\\":10,\\\"metrics\\\":null,\\\"enable_metric_confidence\\\":false,\\\"enable_ensembling\\\":true,\\\"enable_stack_ensembling\\\":true,\\\"ensemble_iterations\\\":15,\\\"enable_tf\\\":false,\\\"enable_subsampling\\\":null,\\\"subsample_seed\\\":null,\\\"enable_nimbusml\\\":false,\\\"enable_streaming\\\":false,\\\"force_streaming\\\":false,\\\"track_child_runs\\\":true,\\\"allowed_private_models\\\":[],\\\"label_column_name\\\":\\\"y\\\",\\\"weight_column_name\\\":null,\\\"cv_split_column_names\\\":null,\\\"enable_local_managed\\\":false,\\\"_local_managed_run_id\\\":null,\\\"cost_mode\\\":1,\\\"lag_length\\\":0,\\\"metric_operation\\\":\\\"maximize\\\",\\\"preprocess\\\":true}\", \"DataPrepJsonString\": \"{\\\\\\\"training_data\\\\\\\": {\\\\\\\"datasetId\\\\\\\": \\\\\\\"151d6ac3-8773-4480-a6af-8b8a0de81672\\\\\\\"}, \\\\\\\"datasets\\\\\\\": 0}\", \"EnableSubsampling\": null, \"runTemplate\": \"AutoML\", \"azureml.runsource\": \"automl\", \"display_task_type\": \"classification\", \"dependencies_versions\": \"{\\\"azureml-widgets\\\": \\\"1.31.0\\\", \\\"azureml-train\\\": \\\"1.31.0\\\", \\\"azureml-train-restclients-hyperdrive\\\": \\\"1.31.0\\\", \\\"azureml-train-core\\\": \\\"1.31.0\\\", \\\"azureml-train-automl\\\": \\\"1.31.0\\\", \\\"azureml-train-automl-runtime\\\": \\\"1.31.0\\\", \\\"azureml-train-automl-client\\\": \\\"1.31.0\\\", \\\"azureml-tensorboard\\\": \\\"1.31.0\\\", \\\"azureml-telemetry\\\": \\\"1.31.0\\\", \\\"azureml-sdk\\\": \\\"1.31.0\\\", \\\"azureml-samples\\\": \\\"0+unknown\\\", \\\"azureml-responsibleai\\\": \\\"1.31.0\\\", \\\"azureml-pipeline\\\": \\\"1.31.0\\\", \\\"azureml-pipeline-steps\\\": \\\"1.31.0\\\", \\\"azureml-pipeline-core\\\": \\\"1.31.0\\\", \\\"azureml-opendatasets\\\": \\\"1.31.0\\\", \\\"azureml-model-management-sdk\\\": \\\"1.0.1b6.post1\\\", \\\"azureml-mlflow\\\": \\\"1.31.0\\\", \\\"azureml-interpret\\\": \\\"1.31.0\\\", \\\"azureml-explain-model\\\": \\\"1.31.0\\\", \\\"azureml-defaults\\\": \\\"1.31.0\\\", \\\"azureml-dataset-runtime\\\": \\\"1.31.0\\\", \\\"azureml-dataprep\\\": \\\"2.18.0\\\", \\\"azureml-dataprep-rslex\\\": \\\"1.16.1\\\", \\\"azureml-dataprep-native\\\": \\\"36.0.0\\\", \\\"azureml-datadrift\\\": \\\"1.31.0\\\", \\\"azureml-core\\\": \\\"1.32.0\\\", \\\"azureml-contrib-services\\\": \\\"1.31.0\\\", \\\"azureml-contrib-server\\\": \\\"1.31.0\\\", \\\"azureml-contrib-reinforcementlearning\\\": \\\"1.31.0\\\", \\\"azureml-contrib-pipeline-steps\\\": \\\"1.31.0\\\", \\\"azureml-contrib-notebook\\\": \\\"1.31.0\\\", \\\"azureml-contrib-fairness\\\": \\\"1.31.0\\\", \\\"azureml-contrib-dataset\\\": \\\"1.31.0\\\", \\\"azureml-cli-common\\\": \\\"1.31.0\\\", \\\"azureml-automl-runtime\\\": \\\"1.31.0\\\", \\\"azureml-automl-dnn-nlp\\\": \\\"1.31.0\\\", \\\"azureml-automl-core\\\": \\\"1.31.0\\\", \\\"azureml-accel-models\\\": \\\"1.31.0\\\"}\", \"_aml_system_scenario_identification\": \"Remote.Parent\", \"ClientType\": \"SDK\", \"environment_cpu_name\": \"AzureML-AutoML\", \"environment_cpu_label\": \"prod\", \"environment_gpu_name\": \"AzureML-AutoML-GPU\", \"environment_gpu_label\": \"prod\", \"root_attribution\": \"automl\", \"attribution\": \"AutoML\", \"Orchestrator\": \"AutoML\", \"CancelUri\": \"https://westus2.api.azureml.ms/jasmine/v1.0/subscriptions/#SUBSCRIPTION_ID#/resourceGroups/#RESOURCE_GROUP_NAME#/providers/Microsoft.MachineLearningServices/workspaces/#WORKSPACE_NAME#/experimentids/c4224836-3ff7-433a-9714-0f4e12c386df/cancel/AutoML_f92635f6-21f5-4bd9-9cbd-522c550681e5\", \"ClientSdkVersion\": \"1.32.0\", \"snapshotId\": \"00000000-0000-0000-0000-000000000000\", \"SetupRunId\": \"AutoML_f92635f6-21f5-4bd9-9cbd-522c550681e5_setup\", \"SetupRunContainerId\": \"dcid.AutoML_f92635f6-21f5-4bd9-9cbd-522c550681e5_setup\", \"FeaturizationRunJsonPath\": \"featurizer_container.json\", \"FeaturizationRunId\": \"AutoML_f92635f6-21f5-4bd9-9cbd-522c550681e5_featurize\", \"ProblemInfoJsonString\": \"{\\\"dataset_num_categorical\\\": 0, \\\"is_sparse\\\": true, \\\"subsampling\\\": false, \\\"has_extra_col\\\": true, \\\"dataset_classes\\\": 2, \\\"dataset_features\\\": 72, \\\"dataset_samples\\\": 41188, \\\"single_frequency_class_detected\\\": false}\", \"ModelExplainRunId\": \"AutoML_f92635f6-21f5-4bd9-9cbd-522c550681e5_ModelExplain\"}, \"tags\": {\"model_explain_run\": \"best_run\", \"_aml_system_azureml.automlComponent\": \"AutoML\", \"pipeline_id\": \"\", \"score\": \"\", \"predicted_cost\": \"\", \"fit_time\": \"\", \"training_percent\": \"\", \"iteration\": \"\", \"run_preprocessor\": \"\", \"run_algorithm\": \"\", \"automl_best_child_run_id\": \"AutoML_f92635f6-21f5-4bd9-9cbd-522c550681e5_1\", \"model_explain_best_run_child_id\": \"AutoML_f92635f6-21f5-4bd9-9cbd-522c550681e5_1\"}, \"end_time_utc\": \"2021-07-27T22:28:38.356032Z\", \"status\": \"Completed\", \"log_files\": {}, \"log_groups\": [], \"run_duration\": \"0:25:11\", \"run_number\": \"20\", \"run_queued_details\": {\"status\": \"Completed\", \"details\": null}}, \"child_runs\": [{\"run_id\": \"AutoML_f92635f6-21f5-4bd9-9cbd-522c550681e5_0\", \"run_number\": 24, \"metric\": null, \"status\": \"Completed\", \"run_type\": \"azureml.scriptrun\", \"training_percent\": \"100\", \"start_time\": \"2021-07-27T22:09:08.798103Z\", \"end_time\": \"2021-07-27T22:11:30.101468Z\", \"created_time\": \"2021-07-27T22:09:00.185613Z\", \"created_time_dt\": \"2021-07-27T22:09:00.185613Z\", \"duration\": \"0:02:29\", \"iteration\": \"0\", \"goal\": \"AUC_weighted_max\", \"run_name\": \"MaxAbsScaler, LightGBM\", \"run_properties\": \"copy=True\", \"primary_metric\": 0.79913071, \"best_metric\": 0.79913071}, {\"run_id\": \"AutoML_f92635f6-21f5-4bd9-9cbd-522c550681e5_1\", \"run_number\": 25, \"metric\": null, \"status\": \"Completed\", \"run_type\": \"azureml.scriptrun\", \"training_percent\": \"100\", \"start_time\": \"2021-07-27T22:11:46.076555Z\", \"end_time\": \"2021-07-27T22:12:48.224072Z\", \"created_time\": \"2021-07-27T22:11:32.000533Z\", \"created_time_dt\": \"2021-07-27T22:11:32.000533Z\", \"duration\": \"0:01:16\", \"iteration\": \"1\", \"goal\": \"AUC_weighted_max\", \"run_name\": \"MaxAbsScaler, XGBoostClassifier\", \"run_properties\": \"copy=True\", \"primary_metric\": 0.80157615, \"best_metric\": 0.80157615}, {\"run_id\": \"AutoML_f92635f6-21f5-4bd9-9cbd-522c550681e5_2\", \"run_number\": 26, \"metric\": null, \"status\": \"Completed\", \"run_type\": \"azureml.scriptrun\", \"training_percent\": \"100\", \"start_time\": \"2021-07-27T22:13:00.948349Z\", \"end_time\": \"2021-07-27T22:13:53.823339Z\", \"created_time\": \"2021-07-27T22:12:49.32597Z\", \"created_time_dt\": \"2021-07-27T22:12:49.32597Z\", \"duration\": \"0:01:04\", \"iteration\": \"2\", \"goal\": \"AUC_weighted_max\", \"run_name\": \"MaxAbsScaler, RandomForest\", \"run_properties\": \"copy=True\", \"primary_metric\": 0.78702467, \"best_metric\": 0.80157615}, {\"run_id\": \"AutoML_f92635f6-21f5-4bd9-9cbd-522c550681e5_3\", \"run_number\": 27, \"metric\": null, \"status\": \"Completed\", \"run_type\": \"azureml.scriptrun\", \"training_percent\": \"100\", \"start_time\": \"2021-07-27T22:14:11.799053Z\", \"end_time\": \"2021-07-27T22:15:06.759255Z\", \"created_time\": \"2021-07-27T22:13:56.192008Z\", \"created_time_dt\": \"2021-07-27T22:13:56.192008Z\", \"duration\": \"0:01:10\", \"iteration\": \"3\", \"goal\": \"AUC_weighted_max\", \"run_name\": \"MaxAbsScaler, RandomForest\", \"run_properties\": \"copy=True\", \"primary_metric\": 0.78796996, \"best_metric\": 0.80157615}, {\"run_id\": \"AutoML_f92635f6-21f5-4bd9-9cbd-522c550681e5_4\", \"run_number\": 28, \"metric\": null, \"status\": \"Completed\", \"run_type\": \"azureml.scriptrun\", \"training_percent\": \"100\", \"start_time\": \"2021-07-27T22:15:23.411805Z\", \"end_time\": \"2021-07-27T22:16:11.982831Z\", \"created_time\": \"2021-07-27T22:15:08.981419Z\", \"created_time_dt\": \"2021-07-27T22:15:08.981419Z\", \"duration\": \"0:01:03\", \"iteration\": \"4\", \"goal\": \"AUC_weighted_max\", \"run_name\": \"MaxAbsScaler, RandomForest\", \"run_properties\": \"copy=True\", \"primary_metric\": 0.77727058, \"best_metric\": 0.80157615}, {\"run_id\": \"AutoML_f92635f6-21f5-4bd9-9cbd-522c550681e5_5\", \"run_number\": 29, \"metric\": null, \"status\": \"Completed\", \"run_type\": \"azureml.scriptrun\", \"training_percent\": \"100\", \"start_time\": \"2021-07-27T22:16:27.783276Z\", \"end_time\": \"2021-07-27T22:17:21.858397Z\", \"created_time\": \"2021-07-27T22:16:13.908111Z\", \"created_time_dt\": \"2021-07-27T22:16:13.908111Z\", \"duration\": \"0:01:07\", \"iteration\": \"5\", \"goal\": \"AUC_weighted_max\", \"run_name\": \"MaxAbsScaler, ExtremeRandomTrees\", \"run_properties\": \"copy=True\", \"primary_metric\": 0.78094692, \"best_metric\": 0.80157615}, {\"run_id\": \"AutoML_f92635f6-21f5-4bd9-9cbd-522c550681e5_6\", \"run_number\": 30, \"metric\": null, \"status\": \"Completed\", \"run_type\": \"azureml.scriptrun\", \"training_percent\": \"100\", \"start_time\": \"2021-07-27T22:17:38.229313Z\", \"end_time\": \"2021-07-27T22:18:51.809897Z\", \"created_time\": \"2021-07-27T22:17:23.83233Z\", \"created_time_dt\": \"2021-07-27T22:17:23.83233Z\", \"duration\": \"0:01:27\", \"iteration\": \"6\", \"goal\": \"AUC_weighted_max\", \"run_name\": \"MaxAbsScaler, ExtremeRandomTrees\", \"run_properties\": \"copy=True\", \"primary_metric\": 0.78897715, \"best_metric\": 0.80157615}, {\"run_id\": \"AutoML_f92635f6-21f5-4bd9-9cbd-522c550681e5_7\", \"run_number\": 31, \"metric\": null, \"status\": \"Completed\", \"run_type\": \"azureml.scriptrun\", \"training_percent\": \"100\", \"start_time\": \"2021-07-27T22:19:06.259038Z\", \"end_time\": \"2021-07-27T22:19:56.658856Z\", \"created_time\": \"2021-07-27T22:18:53.926542Z\", \"created_time_dt\": \"2021-07-27T22:18:53.926542Z\", \"duration\": \"0:01:02\", \"iteration\": \"7\", \"goal\": \"AUC_weighted_max\", \"run_name\": \"MaxAbsScaler, ExtremeRandomTrees\", \"run_properties\": \"copy=True\", \"primary_metric\": 0.78013392, \"best_metric\": 0.80157615}, {\"run_id\": \"AutoML_f92635f6-21f5-4bd9-9cbd-522c550681e5_8\", \"run_number\": 32, \"metric\": null, \"status\": \"Completed\", \"run_type\": \"azureml.scriptrun\", \"training_percent\": \"100\", \"start_time\": \"2021-07-27T22:20:14.686929Z\", \"end_time\": \"2021-07-27T22:21:03.275169Z\", \"created_time\": \"2021-07-27T22:19:59.078793Z\", \"created_time_dt\": \"2021-07-27T22:19:59.078793Z\", \"duration\": \"0:01:04\", \"iteration\": \"8\", \"goal\": \"AUC_weighted_max\", \"run_name\": \"MaxAbsScaler, RandomForest\", \"run_properties\": \"copy=True\", \"primary_metric\": 0.77343941, \"best_metric\": 0.80157615}, {\"run_id\": \"AutoML_f92635f6-21f5-4bd9-9cbd-522c550681e5_9\", \"run_number\": 33, \"metric\": null, \"status\": \"Completed\", \"run_type\": \"azureml.scriptrun\", \"training_percent\": \"100\", \"start_time\": \"2021-07-27T22:21:19.685369Z\", \"end_time\": \"2021-07-27T22:23:41.498636Z\", \"created_time\": \"2021-07-27T22:21:05.167548Z\", \"created_time_dt\": \"2021-07-27T22:21:05.167548Z\", \"duration\": \"0:02:36\", \"iteration\": \"9\", \"goal\": \"AUC_weighted_max\", \"run_name\": \"MaxAbsScaler, ExtremeRandomTrees\", \"run_properties\": \"copy=True\", \"primary_metric\": 0.77807334, \"best_metric\": 0.80157615}, {\"run_id\": \"AutoML_f92635f6-21f5-4bd9-9cbd-522c550681e5_10\", \"run_number\": 34, \"metric\": null, \"status\": \"Completed\", \"run_type\": \"azureml.scriptrun\", \"training_percent\": \"100\", \"start_time\": \"2021-07-27T22:23:59.123948Z\", \"end_time\": \"2021-07-27T22:24:50.859918Z\", \"created_time\": \"2021-07-27T22:23:43.707951Z\", \"created_time_dt\": \"2021-07-27T22:23:43.707951Z\", \"duration\": \"0:01:07\", \"iteration\": \"10\", \"goal\": \"AUC_weighted_max\", \"run_name\": \"MaxAbsScaler, RandomForest\", \"run_properties\": \"copy=True\", \"primary_metric\": 0.77928614, \"best_metric\": 0.80157615}, {\"run_id\": \"AutoML_f92635f6-21f5-4bd9-9cbd-522c550681e5_11\", \"run_number\": 35, \"metric\": null, \"status\": \"Completed\", \"run_type\": \"azureml.scriptrun\", \"training_percent\": \"100\", \"start_time\": \"2021-07-27T22:25:08.373588Z\", \"end_time\": \"2021-07-27T22:26:03.74716Z\", \"created_time\": \"2021-07-27T22:24:51.695035Z\", \"created_time_dt\": \"2021-07-27T22:24:51.695035Z\", \"duration\": \"0:01:12\", \"iteration\": \"11\", \"goal\": \"AUC_weighted_max\", \"run_name\": \"VotingEnsemble\", \"run_properties\": \"\\n    estimators=[('1', Pipeline(memory=None,\\n             steps=[('maxabsscaler', MaxAbsScaler(copy=True\", \"primary_metric\": 0.80105533, \"best_metric\": 0.80157615}, {\"run_id\": \"AutoML_f92635f6-21f5-4bd9-9cbd-522c550681e5_12\", \"run_number\": 36, \"metric\": null, \"status\": \"Completed\", \"run_type\": \"azureml.scriptrun\", \"training_percent\": \"100\", \"start_time\": \"2021-07-27T22:26:14.142199Z\", \"end_time\": \"2021-07-27T22:28:36.535315Z\", \"created_time\": \"2021-07-27T22:26:04.857585Z\", \"created_time_dt\": \"2021-07-27T22:26:04.857585Z\", \"duration\": \"0:02:31\", \"iteration\": \"12\", \"goal\": \"AUC_weighted_max\", \"run_name\": \"StackEnsemble\", \"run_properties\": \"\\n    base_learners=[('1', Pipeline(memory=None,\\n             steps=[('maxabsscaler', MaxAbsScaler(copy=True\", \"primary_metric\": 0.79928776, \"best_metric\": 0.80157615}], \"children_metrics\": {\"categories\": [0], \"series\": {\"f1_score_micro\": [{\"categories\": [\"0\", \"1\", \"2\", \"3\", \"4\", \"5\", \"6\", \"7\", \"8\", \"9\", \"10\", \"11\", \"12\"], \"mode\": \"markers\", \"name\": \"f1_score_micro\", \"stepped\": false, \"type\": \"scatter\", \"data\": [0.900165107477104, 0.90026219484716, 0.8975429320556707, 0.7763678612745861, 0.8873458579577587, 0.898732638448314, 0.89946096762036, 0.8881471146585629, 0.8873458579577587, 0.7156944297934082, 0.7301648484006065, 0.9008692001754411, 0.9007963492790939]}, {\"categories\": [\"0\", \"1\", \"2\", \"3\", \"4\", \"5\", \"6\", \"7\", \"8\", \"9\", \"10\", \"11\", \"12\"], \"mode\": \"lines\", \"name\": \"f1_score_micro_max\", \"stepped\": true, \"type\": \"scatter\", \"data\": [0.900165107477104, 0.90026219484716, 0.90026219484716, 0.90026219484716, 0.90026219484716, 0.90026219484716, 0.90026219484716, 0.90026219484716, 0.90026219484716, 0.90026219484716, 0.90026219484716, 0.9008692001754411, 0.9008692001754411]}], \"precision_score_micro\": [{\"categories\": [\"0\", \"1\", \"2\", \"3\", \"4\", \"5\", \"6\", \"7\", \"8\", \"9\", \"10\", \"11\", \"12\"], \"mode\": \"markers\", \"name\": \"precision_score_micro\", \"stepped\": false, \"type\": \"scatter\", \"data\": [0.900165107477104, 0.90026219484716, 0.8975429320556707, 0.7763678612745861, 0.8873458579577586, 0.898732638448314, 0.8994609676203599, 0.8881471146585629, 0.8873458579577586, 0.7156944297934082, 0.7301648484006065, 0.9008692001754411, 0.9007963492790939]}, {\"categories\": [\"0\", \"1\", \"2\", \"3\", \"4\", \"5\", \"6\", \"7\", \"8\", \"9\", \"10\", \"11\", \"12\"], \"mode\": \"lines\", \"name\": \"precision_score_micro_max\", \"stepped\": true, \"type\": \"scatter\", \"data\": [0.900165107477104, 0.90026219484716, 0.90026219484716, 0.90026219484716, 0.90026219484716, 0.90026219484716, 0.90026219484716, 0.90026219484716, 0.90026219484716, 0.90026219484716, 0.90026219484716, 0.9008692001754411, 0.9008692001754411]}], \"AUC_weighted\": [{\"categories\": [\"0\", \"1\", \"2\", \"3\", \"4\", \"5\", \"6\", \"7\", \"8\", \"9\", \"10\", \"11\", \"12\"], \"mode\": \"markers\", \"name\": \"AUC_weighted\", \"stepped\": false, \"type\": \"scatter\", \"data\": [0.7991307083748619, 0.8015761463234593, 0.7870246742835392, 0.7879699573718408, 0.7772705788178124, 0.7809469181393371, 0.7889771466844118, 0.7801339204979258, 0.7734394113117851, 0.7780733395688191, 0.7792861411990396, 0.8010553266768964, 0.7992877554620927]}, {\"categories\": [\"0\", \"1\", \"2\", \"3\", \"4\", \"5\", \"6\", \"7\", \"8\", \"9\", \"10\", \"11\", \"12\"], \"mode\": \"lines\", \"name\": \"AUC_weighted_max\", \"stepped\": true, \"type\": \"scatter\", \"data\": [0.7991307083748619, 0.8015761463234593, 0.8015761463234593, 0.8015761463234593, 0.8015761463234593, 0.8015761463234593, 0.8015761463234593, 0.8015761463234593, 0.8015761463234593, 0.8015761463234593, 0.8015761463234593, 0.8015761463234593, 0.8015761463234593]}], \"f1_score_macro\": [{\"categories\": [\"0\", \"1\", \"2\", \"3\", \"4\", \"5\", \"6\", \"7\", \"8\", \"9\", \"10\", \"11\", \"12\"], \"mode\": \"markers\", \"name\": \"f1_score_macro\", \"stepped\": false, \"type\": \"scatter\", \"data\": [0.6612653885051152, 0.6430817083308021, 0.5899525235477864, 0.6336873682338716, 0.4701551648125668, 0.6196233944833133, 0.6140358924783069, 0.47916958214384814, 0.4701551648125668, 0.5891950389725948, 0.5991337058563376, 0.6540286930967165, 0.6589210754177436]}, {\"categories\": [\"0\", \"1\", \"2\", \"3\", \"4\", \"5\", \"6\", \"7\", \"8\", \"9\", \"10\", \"11\", \"12\"], \"mode\": \"lines\", \"name\": \"f1_score_macro_max\", \"stepped\": true, \"type\": \"scatter\", \"data\": [0.6612653885051152, 0.6612653885051152, 0.6612653885051152, 0.6612653885051152, 0.6612653885051152, 0.6612653885051152, 0.6612653885051152, 0.6612653885051152, 0.6612653885051152, 0.6612653885051152, 0.6612653885051152, 0.6612653885051152, 0.6612653885051152]}], \"AUC_micro\": [{\"categories\": [\"0\", \"1\", \"2\", \"3\", \"4\", \"5\", \"6\", \"7\", \"8\", \"9\", \"10\", \"11\", \"12\"], \"mode\": \"markers\", \"name\": \"AUC_micro\", \"stepped\": false, \"type\": \"scatter\", \"data\": [0.9481203248298022, 0.9486993391179634, 0.945077234094686, 0.8205105172127976, 0.9427817905918765, 0.9439296328781841, 0.9455628512033257, 0.9433641016538857, 0.942019068880603, 0.8127203948798198, 0.8100052618112334, 0.948610692650082, 0.9482255426851269]}, {\"categories\": [\"0\", \"1\", \"2\", \"3\", \"4\", \"5\", \"6\", \"7\", \"8\", \"9\", \"10\", \"11\", \"12\"], \"mode\": \"lines\", \"name\": \"AUC_micro_max\", \"stepped\": true, \"type\": \"scatter\", \"data\": [0.9481203248298022, 0.9486993391179634, 0.9486993391179634, 0.9486993391179634, 0.9486993391179634, 0.9486993391179634, 0.9486993391179634, 0.9486993391179634, 0.9486993391179634, 0.9486993391179634, 0.9486993391179634, 0.9486993391179634, 0.9486993391179634]}], \"matthews_correlation\": [{\"categories\": [\"0\", \"1\", \"2\", \"3\", \"4\", \"5\", \"6\", \"7\", \"8\", \"9\", \"10\", \"11\", \"12\"], \"mode\": \"markers\", \"name\": \"matthews_correlation\", \"stepped\": false, \"type\": \"scatter\", \"data\": [0.3690916324864681, 0.35154517207029873, 0.2915004996230353, 0.33360507679146884, 0.0, 0.3228421258823713, 0.32278841575923056, 0.05571762320712177, 0.0, 0.2882559484442752, 0.2970769089147522, 0.36464062263449687, 0.36918785387065134]}, {\"categories\": [\"0\", \"1\", \"2\", \"3\", \"4\", \"5\", \"6\", \"7\", \"8\", \"9\", \"10\", \"11\", \"12\"], \"mode\": \"lines\", \"name\": \"matthews_correlation_max\", \"stepped\": true, \"type\": \"scatter\", \"data\": [0.3690916324864681, 0.3690916324864681, 0.3690916324864681, 0.3690916324864681, 0.3690916324864681, 0.3690916324864681, 0.3690916324864681, 0.3690916324864681, 0.3690916324864681, 0.3690916324864681, 0.3690916324864681, 0.3690916324864681, 0.36918785387065134]}], \"average_precision_score_macro\": [{\"categories\": [\"0\", \"1\", \"2\", \"3\", \"4\", \"5\", \"6\", \"7\", \"8\", \"9\", \"10\", \"11\", \"12\"], \"mode\": \"markers\", \"name\": \"average_precision_score_macro\", \"stepped\": false, \"type\": \"scatter\", \"data\": [0.7082570554062924, 0.7112217113378778, 0.6936247574600842, 0.6943503257831622, 0.6606793757779, 0.6765263241010802, 0.6972941245991867, 0.6908241903946244, 0.6776281595791989, 0.6857769903297017, 0.6782508941921963, 0.7110197093904723, 0.7093754112738013]}, {\"categories\": [\"0\", \"1\", \"2\", \"3\", \"4\", \"5\", \"6\", \"7\", \"8\", \"9\", \"10\", \"11\", \"12\"], \"mode\": \"lines\", \"name\": \"average_precision_score_macro_max\", \"stepped\": true, \"type\": \"scatter\", \"data\": [0.7082570554062924, 0.7112217113378778, 0.7112217113378778, 0.7112217113378778, 0.7112217113378778, 0.7112217113378778, 0.7112217113378778, 0.7112217113378778, 0.7112217113378778, 0.7112217113378778, 0.7112217113378778, 0.7112217113378778, 0.7112217113378778]}], \"average_precision_score_weighted\": [{\"categories\": [\"0\", \"1\", \"2\", \"3\", \"4\", \"5\", \"6\", \"7\", \"8\", \"9\", \"10\", \"11\", \"12\"], \"mode\": \"markers\", \"name\": \"average_precision_score_weighted\", \"stepped\": false, \"type\": \"scatter\", \"data\": [0.9022028614539368, 0.9031202901183761, 0.8970876119248796, 0.8978887915102639, 0.8879062053122139, 0.8915722609044276, 0.8985523868833916, 0.8953216601392961, 0.890788626032742, 0.894490506924335, 0.8922537457779465, 0.9031504830402005, 0.9026386733194729]}, {\"categories\": [\"0\", \"1\", \"2\", \"3\", \"4\", \"5\", \"6\", \"7\", \"8\", \"9\", \"10\", \"11\", \"12\"], \"mode\": \"lines\", \"name\": \"average_precision_score_weighted_max\", \"stepped\": true, \"type\": \"scatter\", \"data\": [0.9022028614539368, 0.9031202901183761, 0.9031202901183761, 0.9031202901183761, 0.9031202901183761, 0.9031202901183761, 0.9031202901183761, 0.9031202901183761, 0.9031202901183761, 0.9031202901183761, 0.9031202901183761, 0.9031504830402005, 0.9031504830402005]}], \"balanced_accuracy\": [{\"categories\": [\"0\", \"1\", \"2\", \"3\", \"4\", \"5\", \"6\", \"7\", \"8\", \"9\", \"10\", \"11\", \"12\"], \"mode\": \"markers\", \"name\": \"balanced_accuracy\", \"stepped\": false, \"type\": \"scatter\", \"data\": [0.6242330007990009, 0.6069007838316087, 0.5674205250567981, 0.731695324789786, 0.5, 0.5883790323457987, 0.5834466973364706, 0.5044097917324863, 0.5, 0.714645319761489, 0.7180505367254097, 0.6165521488104677, 0.6213950226184887]}, {\"categories\": [\"0\", \"1\", \"2\", \"3\", \"4\", \"5\", \"6\", \"7\", \"8\", \"9\", \"10\", \"11\", \"12\"], \"mode\": \"lines\", \"name\": \"balanced_accuracy_max\", \"stepped\": true, \"type\": \"scatter\", \"data\": [0.6242330007990009, 0.6242330007990009, 0.6242330007990009, 0.731695324789786, 0.731695324789786, 0.731695324789786, 0.731695324789786, 0.731695324789786, 0.731695324789786, 0.731695324789786, 0.731695324789786, 0.731695324789786, 0.731695324789786]}], \"AUC_macro\": [{\"categories\": [\"0\", \"1\", \"2\", \"3\", \"4\", \"5\", \"6\", \"7\", \"8\", \"9\", \"10\", \"11\", \"12\"], \"mode\": \"markers\", \"name\": \"AUC_macro\", \"stepped\": false, \"type\": \"scatter\", \"data\": [0.7991307083748619, 0.8015761295728063, 0.7870246742835392, 0.7879699573718408, 0.7772705788178124, 0.7809469181393371, 0.7889771466844118, 0.7801339204979257, 0.7734394113117851, 0.7780733395688191, 0.7792861411990396, 0.8010553266768964, 0.7992877554620927]}, {\"categories\": [\"0\", \"1\", \"2\", \"3\", \"4\", \"5\", \"6\", \"7\", \"8\", \"9\", \"10\", \"11\", \"12\"], \"mode\": \"lines\", \"name\": \"AUC_macro_max\", \"stepped\": true, \"type\": \"scatter\", \"data\": [0.7991307083748619, 0.8015761295728063, 0.8015761295728063, 0.8015761295728063, 0.8015761295728063, 0.8015761295728063, 0.8015761295728063, 0.8015761295728063, 0.8015761295728063, 0.8015761295728063, 0.8015761295728063, 0.8015761295728063, 0.8015761295728063]}], \"average_precision_score_micro\": [{\"categories\": [\"0\", \"1\", \"2\", \"3\", \"4\", \"5\", \"6\", \"7\", \"8\", \"9\", \"10\", \"11\", \"12\"], \"mode\": \"markers\", \"name\": \"average_precision_score_micro\", \"stepped\": false, \"type\": \"scatter\", \"data\": [0.940306154293482, 0.9407784385264139, 0.9368543057732429, 0.7647473527896875, 0.9339579944665573, 0.9335819820753264, 0.9378114018463137, 0.934912779137011, 0.9327833888879246, 0.7846188635095369, 0.7544858107734805, 0.9408685722173524, 0.9405848467524006]}, {\"categories\": [\"0\", \"1\", \"2\", \"3\", \"4\", \"5\", \"6\", \"7\", \"8\", \"9\", \"10\", \"11\", \"12\"], \"mode\": \"lines\", \"name\": \"average_precision_score_micro_max\", \"stepped\": true, \"type\": \"scatter\", \"data\": [0.940306154293482, 0.9407784385264139, 0.9407784385264139, 0.9407784385264139, 0.9407784385264139, 0.9407784385264139, 0.9407784385264139, 0.9407784385264139, 0.9407784385264139, 0.9407784385264139, 0.9407784385264139, 0.9408685722173524, 0.9408685722173524]}], \"log_loss\": [{\"categories\": [\"0\", \"1\", \"2\", \"3\", \"4\", \"5\", \"6\", \"7\", \"8\", \"9\", \"10\", \"11\", \"12\"], \"mode\": \"markers\", \"name\": \"log_loss\", \"stepped\": false, \"type\": \"scatter\", \"data\": [0.27274565675806256, 0.27172077324090554, 0.2833635202018132, 0.5346705790470399, 0.2944134230575402, 0.2860580507263052, 0.28250254545385944, 0.29132623049836137, 0.3030533105061927, 0.5683862684655521, 0.5500831063951374, 0.27460579034455673, 0.2726863507984906]}, {\"categories\": [\"0\", \"1\", \"2\", \"3\", \"4\", \"5\", \"6\", \"7\", \"8\", \"9\", \"10\", \"11\", \"12\"], \"mode\": \"lines\", \"name\": \"log_loss_min\", \"stepped\": true, \"type\": \"scatter\", \"data\": [0.27274565675806256, 0.27172077324090554, 0.27172077324090554, 0.27172077324090554, 0.27172077324090554, 0.27172077324090554, 0.27172077324090554, 0.27172077324090554, 0.27172077324090554, 0.27172077324090554, 0.27172077324090554, 0.27172077324090554, 0.27172077324090554]}], \"recall_score_micro\": [{\"categories\": [\"0\", \"1\", \"2\", \"3\", \"4\", \"5\", \"6\", \"7\", \"8\", \"9\", \"10\", \"11\", \"12\"], \"mode\": \"markers\", \"name\": \"recall_score_micro\", \"stepped\": false, \"type\": \"scatter\", \"data\": [0.900165107477104, 0.90026219484716, 0.8975429320556707, 0.7763678612745861, 0.8873458579577586, 0.898732638448314, 0.8994609676203599, 0.8881471146585629, 0.8873458579577586, 0.7156944297934082, 0.7301648484006065, 0.9008692001754411, 0.9007963492790939]}, {\"categories\": [\"0\", \"1\", \"2\", \"3\", \"4\", \"5\", \"6\", \"7\", \"8\", \"9\", \"10\", \"11\", \"12\"], \"mode\": \"lines\", \"name\": \"recall_score_micro_max\", \"stepped\": true, \"type\": \"scatter\", \"data\": [0.900165107477104, 0.90026219484716, 0.90026219484716, 0.90026219484716, 0.90026219484716, 0.90026219484716, 0.90026219484716, 0.90026219484716, 0.90026219484716, 0.90026219484716, 0.90026219484716, 0.9008692001754411, 0.9008692001754411]}], \"recall_score_macro\": [{\"categories\": [\"0\", \"1\", \"2\", \"3\", \"4\", \"5\", \"6\", \"7\", \"8\", \"9\", \"10\", \"11\", \"12\"], \"mode\": \"markers\", \"name\": \"recall_score_macro\", \"stepped\": false, \"type\": \"scatter\", \"data\": [0.6242330007990009, 0.6069007838316087, 0.5674205250567981, 0.731695324789786, 0.5, 0.5883790323457987, 0.5834466973364706, 0.5044097917324863, 0.5, 0.714645319761489, 0.7180505367254097, 0.6165521488104677, 0.6213950226184887]}, {\"categories\": [\"0\", \"1\", \"2\", \"3\", \"4\", \"5\", \"6\", \"7\", \"8\", \"9\", \"10\", \"11\", \"12\"], \"mode\": \"lines\", \"name\": \"recall_score_macro_max\", \"stepped\": true, \"type\": \"scatter\", \"data\": [0.6242330007990009, 0.6242330007990009, 0.6242330007990009, 0.731695324789786, 0.731695324789786, 0.731695324789786, 0.731695324789786, 0.731695324789786, 0.731695324789786, 0.731695324789786, 0.731695324789786, 0.731695324789786, 0.731695324789786]}], \"weighted_accuracy\": [{\"categories\": [\"0\", \"1\", \"2\", \"3\", \"4\", \"5\", \"6\", \"7\", \"8\", \"9\", \"10\", \"11\", \"12\"], \"mode\": \"markers\", \"name\": \"weighted_accuracy\", \"stepped\": false, \"type\": \"scatter\", \"data\": [0.9691103774235078, 0.973566827681718, 0.9800249700434568, 0.7875116986341062, 0.9841348210258957, 0.9762662606554564, 0.9784148283118437, 0.9840359139658874, 0.9841348210258957, 0.71594639252918, 0.7331609005515137, 0.9719125132163116, 0.9706093935361204]}, {\"categories\": [\"0\", \"1\", \"2\", \"3\", \"4\", \"5\", \"6\", \"7\", \"8\", \"9\", \"10\", \"11\", \"12\"], \"mode\": \"lines\", \"name\": \"weighted_accuracy_max\", \"stepped\": true, \"type\": \"scatter\", \"data\": [0.9691103774235078, 0.973566827681718, 0.9800249700434568, 0.9800249700434568, 0.9841348210258957, 0.9841348210258957, 0.9841348210258957, 0.9841348210258957, 0.9841348210258957, 0.9841348210258957, 0.9841348210258957, 0.9841348210258957, 0.9841348210258957]}], \"precision_score_weighted\": [{\"categories\": [\"0\", \"1\", \"2\", \"3\", \"4\", \"5\", \"6\", \"7\", \"8\", \"9\", \"10\", \"11\", \"12\"], \"mode\": \"markers\", \"name\": \"precision_score_weighted\", \"stepped\": false, \"type\": \"scatter\", \"data\": [0.8821091222534599, 0.8824970196736125, 0.883272895652975, 0.8758309926266321, 0.7873842919336952, 0.8810181998424914, 0.8837858521536666, 0.8396026996270998, 0.7873842919336952, 0.8716778047896451, 0.8722182591686474, 0.8832641655120058, 0.8831052319090913]}, {\"categories\": [\"0\", \"1\", \"2\", \"3\", \"4\", \"5\", \"6\", \"7\", \"8\", \"9\", \"10\", \"11\", \"12\"], \"mode\": \"lines\", \"name\": \"precision_score_weighted_max\", \"stepped\": true, \"type\": \"scatter\", \"data\": [0.8821091222534599, 0.8824970196736125, 0.883272895652975, 0.883272895652975, 0.883272895652975, 0.883272895652975, 0.8837858521536666, 0.8837858521536666, 0.8837858521536666, 0.8837858521536666, 0.8837858521536666, 0.8837858521536666, 0.8837858521536666]}], \"recall_score_weighted\": [{\"categories\": [\"0\", \"1\", \"2\", \"3\", \"4\", \"5\", \"6\", \"7\", \"8\", \"9\", \"10\", \"11\", \"12\"], \"mode\": \"markers\", \"name\": \"recall_score_weighted\", \"stepped\": false, \"type\": \"scatter\", \"data\": [0.900165107477104, 0.90026219484716, 0.8975429320556707, 0.7763678612745861, 0.8873458579577586, 0.898732638448314, 0.8994609676203599, 0.8881471146585629, 0.8873458579577586, 0.7156944297934082, 0.7301648484006065, 0.9008692001754411, 0.9007963492790939]}, {\"categories\": [\"0\", \"1\", \"2\", \"3\", \"4\", \"5\", \"6\", \"7\", \"8\", \"9\", \"10\", \"11\", \"12\"], \"mode\": \"lines\", \"name\": \"recall_score_weighted_max\", \"stepped\": true, \"type\": \"scatter\", \"data\": [0.900165107477104, 0.90026219484716, 0.90026219484716, 0.90026219484716, 0.90026219484716, 0.90026219484716, 0.90026219484716, 0.90026219484716, 0.90026219484716, 0.90026219484716, 0.90026219484716, 0.9008692001754411, 0.9008692001754411]}], \"norm_macro_recall\": [{\"categories\": [\"0\", \"1\", \"2\", \"3\", \"4\", \"5\", \"6\", \"7\", \"8\", \"9\", \"10\", \"11\", \"12\"], \"mode\": \"markers\", \"name\": \"norm_macro_recall\", \"stepped\": false, \"type\": \"scatter\", \"data\": [0.24846600159800195, 0.21380156766321728, 0.13484105011359623, 0.46339064957957204, 0.0, 0.17675806469159738, 0.16689339467294134, 0.008819583464972825, 0.0, 0.42929063952297797, 0.43610107345081967, 0.23310429762093543, 0.24279004523697728]}, {\"categories\": [\"0\", \"1\", \"2\", \"3\", \"4\", \"5\", \"6\", \"7\", \"8\", \"9\", \"10\", \"11\", \"12\"], \"mode\": \"lines\", \"name\": \"norm_macro_recall_max\", \"stepped\": true, \"type\": \"scatter\", \"data\": [0.24846600159800195, 0.24846600159800195, 0.24846600159800195, 0.46339064957957204, 0.46339064957957204, 0.46339064957957204, 0.46339064957957204, 0.46339064957957204, 0.46339064957957204, 0.46339064957957204, 0.46339064957957204, 0.46339064957957204, 0.46339064957957204]}], \"accuracy\": [{\"categories\": [\"0\", \"1\", \"2\", \"3\", \"4\", \"5\", \"6\", \"7\", \"8\", \"9\", \"10\", \"11\", \"12\"], \"mode\": \"markers\", \"name\": \"accuracy\", \"stepped\": false, \"type\": \"scatter\", \"data\": [0.900165107477104, 0.90026219484716, 0.8975429320556707, 0.7763678612745861, 0.8873458579577586, 0.898732638448314, 0.8994609676203599, 0.8881471146585629, 0.8873458579577586, 0.7156944297934082, 0.7301648484006065, 0.9008692001754411, 0.9007963492790939]}, {\"categories\": [\"0\", \"1\", \"2\", \"3\", \"4\", \"5\", \"6\", \"7\", \"8\", \"9\", \"10\", \"11\", \"12\"], \"mode\": \"lines\", \"name\": \"accuracy_max\", \"stepped\": true, \"type\": \"scatter\", \"data\": [0.900165107477104, 0.90026219484716, 0.90026219484716, 0.90026219484716, 0.90026219484716, 0.90026219484716, 0.90026219484716, 0.90026219484716, 0.90026219484716, 0.90026219484716, 0.90026219484716, 0.9008692001754411, 0.9008692001754411]}], \"precision_score_macro\": [{\"categories\": [\"0\", \"1\", \"2\", \"3\", \"4\", \"5\", \"6\", \"7\", \"8\", \"9\", \"10\", \"11\", \"12\"], \"mode\": \"markers\", \"name\": \"precision_score_macro\", \"stepped\": false, \"type\": \"scatter\", \"data\": [0.7743080188941288, 0.789232648264207, 0.821697002974291, 0.6201464669875811, 0.4436729289788793, 0.7965312287621427, 0.812417662874752, 0.6736600634368104, 0.4436729289788793, 0.5967824630466245, 0.601199196061286, 0.7854108122944957, 0.7809971390492645]}, {\"categories\": [\"0\", \"1\", \"2\", \"3\", \"4\", \"5\", \"6\", \"7\", \"8\", \"9\", \"10\", \"11\", \"12\"], \"mode\": \"lines\", \"name\": \"precision_score_macro_max\", \"stepped\": true, \"type\": \"scatter\", \"data\": [0.7743080188941288, 0.789232648264207, 0.821697002974291, 0.821697002974291, 0.821697002974291, 0.821697002974291, 0.821697002974291, 0.821697002974291, 0.821697002974291, 0.821697002974291, 0.821697002974291, 0.821697002974291, 0.821697002974291]}], \"f1_score_weighted\": [{\"categories\": [\"0\", \"1\", \"2\", \"3\", \"4\", \"5\", \"6\", \"7\", \"8\", \"9\", \"10\", \"11\", \"12\"], \"mode\": \"markers\", \"name\": \"f1_score_weighted\", \"stepped\": false, \"type\": \"scatter\", \"data\": [0.8816506641169685, 0.8777974044910856, 0.8650852009588667, 0.8107062852137623, 0.8343813862903835, 0.8720565245901355, 0.8711791755298378, 0.8367084768277511, 0.8343813862903835, 0.7657690017483331, 0.7765953602952254, 0.8804239738818064, 0.8814384649415798]}, {\"categories\": [\"0\", \"1\", \"2\", \"3\", \"4\", \"5\", \"6\", \"7\", \"8\", \"9\", \"10\", \"11\", \"12\"], \"mode\": \"lines\", \"name\": \"f1_score_weighted_max\", \"stepped\": true, \"type\": \"scatter\", \"data\": [0.8816506641169685, 0.8816506641169685, 0.8816506641169685, 0.8816506641169685, 0.8816506641169685, 0.8816506641169685, 0.8816506641169685, 0.8816506641169685, 0.8816506641169685, 0.8816506641169685, 0.8816506641169685, 0.8816506641169685, 0.8816506641169685]}]}, \"metricName\": null, \"primaryMetricName\": \"AUC_weighted\", \"showLegend\": false}, \"run_metrics\": [{\"name\": \"experiment_status\", \"run_id\": \"AutoML_f92635f6-21f5-4bd9-9cbd-522c550681e5\", \"categories\": [0, 1, 2, 3, 4, 5, 6, 7, 8, 9, 10, 11, 12, 13, 14], \"series\": [{\"data\": [\"DatasetEvaluation\", \"FeaturesGeneration\", \"DatasetFeaturization\", \"DatasetFeaturizationCompleted\", \"DatasetBalancing\", \"DatasetCrossValidationSplit\", \"ModelSelection\", \"BestRunExplainModel\", \"ModelExplanationDataSetSetup\", \"PickSurrogateModel\", \"EngineeredFeatureExplanations\", \"EngineeredFeatureExplanations\", \"RawFeaturesExplanations\", \"RawFeaturesExplanations\", \"BestRunExplainModel\"]}]}, {\"name\": \"experiment_status_description\", \"run_id\": \"AutoML_f92635f6-21f5-4bd9-9cbd-522c550681e5\", \"categories\": [0, 1, 2, 3, 4, 5, 6, 7, 8, 9, 10, 11, 12, 13, 14], \"series\": [{\"data\": [\"Gathering dataset statistics.\", \"Generating features for the dataset.\", \"Beginning to fit featurizers and featurize the dataset.\", \"Completed fit featurizers and featurizing the dataset.\", \"Performing class balancing sweeping\", \"Generating individually featurized CV splits.\", \"Beginning model selection.\", \"Best run model explanations started\", \"Model explanations data setup completed\", \"Choosing LightGBM as the surrogate model for explanations\", \"Computation of engineered features started\", \"Computation of engineered features completed\", \"Computation of raw features started\", \"Computation of raw features completed\", \"Best run model explanations completed\"]}]}, {\"name\": \"weighted_accuracy\", \"run_id\": \"AutoML_f92635f6-21f5-4bd9-9cbd-522c550681e5\", \"categories\": [0], \"series\": [{\"data\": [0.973566827681718]}]}, {\"name\": \"f1_score_weighted\", \"run_id\": \"AutoML_f92635f6-21f5-4bd9-9cbd-522c550681e5\", \"categories\": [0], \"series\": [{\"data\": [0.8777974044910856]}]}, {\"name\": \"AUC_micro\", \"run_id\": \"AutoML_f92635f6-21f5-4bd9-9cbd-522c550681e5\", \"categories\": [0], \"series\": [{\"data\": [0.9486993391179634]}]}, {\"name\": \"norm_macro_recall\", \"run_id\": \"AutoML_f92635f6-21f5-4bd9-9cbd-522c550681e5\", \"categories\": [0], \"series\": [{\"data\": [0.21380156766321728]}]}, {\"name\": \"recall_score_macro\", \"run_id\": \"AutoML_f92635f6-21f5-4bd9-9cbd-522c550681e5\", \"categories\": [0], \"series\": [{\"data\": [0.6069007838316087]}]}, {\"name\": \"accuracy\", \"run_id\": \"AutoML_f92635f6-21f5-4bd9-9cbd-522c550681e5\", \"categories\": [0], \"series\": [{\"data\": [0.90026219484716]}]}, {\"name\": \"average_precision_score_micro\", \"run_id\": \"AutoML_f92635f6-21f5-4bd9-9cbd-522c550681e5\", \"categories\": [0], \"series\": [{\"data\": [0.9407784385264139]}]}, {\"name\": \"recall_score_micro\", \"run_id\": \"AutoML_f92635f6-21f5-4bd9-9cbd-522c550681e5\", \"categories\": [0], \"series\": [{\"data\": [0.90026219484716]}]}, {\"name\": \"f1_score_macro\", \"run_id\": \"AutoML_f92635f6-21f5-4bd9-9cbd-522c550681e5\", \"categories\": [0], \"series\": [{\"data\": [0.6430817083308021]}]}, {\"name\": \"balanced_accuracy\", \"run_id\": \"AutoML_f92635f6-21f5-4bd9-9cbd-522c550681e5\", \"categories\": [0], \"series\": [{\"data\": [0.6069007838316087]}]}, {\"name\": \"AUC_macro\", \"run_id\": \"AutoML_f92635f6-21f5-4bd9-9cbd-522c550681e5\", \"categories\": [0], \"series\": [{\"data\": [0.8015761295728063]}]}, {\"name\": \"recall_score_weighted\", \"run_id\": \"AutoML_f92635f6-21f5-4bd9-9cbd-522c550681e5\", \"categories\": [0], \"series\": [{\"data\": [0.90026219484716]}]}, {\"name\": \"AUC_weighted\", \"run_id\": \"AutoML_f92635f6-21f5-4bd9-9cbd-522c550681e5\", \"categories\": [0], \"series\": [{\"data\": [0.8015761463234593]}]}, {\"name\": \"average_precision_score_weighted\", \"run_id\": \"AutoML_f92635f6-21f5-4bd9-9cbd-522c550681e5\", \"categories\": [0], \"series\": [{\"data\": [0.9031202901183761]}]}, {\"name\": \"precision_score_micro\", \"run_id\": \"AutoML_f92635f6-21f5-4bd9-9cbd-522c550681e5\", \"categories\": [0], \"series\": [{\"data\": [0.90026219484716]}]}, {\"name\": \"precision_score_weighted\", \"run_id\": \"AutoML_f92635f6-21f5-4bd9-9cbd-522c550681e5\", \"categories\": [0], \"series\": [{\"data\": [0.8824970196736125]}]}, {\"name\": \"average_precision_score_macro\", \"run_id\": \"AutoML_f92635f6-21f5-4bd9-9cbd-522c550681e5\", \"categories\": [0], \"series\": [{\"data\": [0.7112217113378778]}]}, {\"name\": \"f1_score_micro\", \"run_id\": \"AutoML_f92635f6-21f5-4bd9-9cbd-522c550681e5\", \"categories\": [0], \"series\": [{\"data\": [0.90026219484716]}]}, {\"name\": \"matthews_correlation\", \"run_id\": \"AutoML_f92635f6-21f5-4bd9-9cbd-522c550681e5\", \"categories\": [0], \"series\": [{\"data\": [0.35154517207029873]}]}, {\"name\": \"log_loss\", \"run_id\": \"AutoML_f92635f6-21f5-4bd9-9cbd-522c550681e5\", \"categories\": [0], \"series\": [{\"data\": [0.27172077324090554]}]}, {\"name\": \"precision_score_macro\", \"run_id\": \"AutoML_f92635f6-21f5-4bd9-9cbd-522c550681e5\", \"categories\": [0], \"series\": [{\"data\": [0.789232648264207]}]}], \"run_logs\": \"\\nRun is completed.\", \"graph\": {}, \"widget_settings\": {\"childWidgetDisplay\": \"popup\", \"send_telemetry\": false, \"log_level\": \"INFO\", \"sdk_version\": \"1.32.0\"}, \"loading\": false}"
          },
          "metadata": {}
        }
      ],
      "execution_count": 10,
      "metadata": {
        "gather": {
          "logged": 1624998788245
        }
      }
    },
    {
      "cell_type": "code",
      "source": [
        "## Show training run outputs\n",
        "training_run.wait_for_completion(show_output=False)"
      ],
      "outputs": [
        {
          "output_type": "execute_result",
          "execution_count": 11,
          "data": {
            "text/plain": "{'runId': 'AutoML_f92635f6-21f5-4bd9-9cbd-522c550681e5',\n 'target': 'fsi-compute-prod',\n 'status': 'Completed',\n 'startTimeUtc': '2021-07-27T22:03:41.791237Z',\n 'endTimeUtc': '2021-07-27T22:28:38.356032Z',\n 'properties': {'num_iterations': '1000',\n  'training_type': 'TrainFull',\n  'acquisition_function': 'EI',\n  'primary_metric': 'AUC_weighted',\n  'train_split': '0',\n  'acquisition_parameter': '0',\n  'num_cross_validation': '5',\n  'target': 'fsi-compute-prod',\n  'AMLSettingsJsonString': '{\"path\":null,\"name\":\"automl_churn_experiment\",\"subscription_id\":\"#SUBSCRIPTION_ID#\",\"resource_group\":\"#RESOURCE_GROUP_NAME#\",\"workspace_name\":\"#WORKSPACE_NAME#\",\"region\":\"westus2\",\"compute_target\":\"fsi-compute-prod\",\"spark_service\":null,\"azure_service\":\"remote\",\"many_models\":false,\"pipeline_fetch_max_batch_size\":1,\"enable_batch_run\":false,\"enable_run_restructure\":false,\"start_auxiliary_runs_before_parent_complete\":false,\"enable_code_generation\":false,\"iterations\":1000,\"primary_metric\":\"AUC_weighted\",\"task_type\":\"classification\",\"data_script\":null,\"test_size\":0.0,\"validation_size\":0.0,\"n_cross_validations\":5,\"y_min\":null,\"y_max\":null,\"num_classes\":null,\"featurization\":\"auto\",\"_ignore_package_version_incompatibilities\":false,\"is_timeseries\":false,\"max_cores_per_iteration\":1,\"max_concurrent_iterations\":1,\"iteration_timeout_minutes\":15,\"mem_in_mb\":null,\"enforce_time_on_windows\":false,\"experiment_timeout_minutes\":15,\"experiment_exit_score\":null,\"whitelist_models\":null,\"blacklist_algos\":[\"TensorFlowLinearClassifier\",\"TensorFlowDNN\"],\"supported_models\":[\"SVM\",\"LinearSVM\",\"BernoulliNaiveBayes\",\"MultinomialNaiveBayes\",\"DecisionTree\",\"XGBoostClassifier\",\"TensorFlowDNN\",\"AveragedPerceptronClassifier\",\"GradientBoosting\",\"SGD\",\"KNN\",\"LightGBM\",\"TensorFlowLinearClassifier\",\"RandomForest\",\"LogisticRegression\",\"ExtremeRandomTrees\"],\"private_models\":[],\"auto_blacklist\":true,\"blacklist_samples_reached\":false,\"exclude_nan_labels\":true,\"verbosity\":20,\"_debug_log\":\"azureml_automl.log\",\"show_warnings\":false,\"model_explainability\":true,\"service_url\":null,\"sdk_url\":null,\"sdk_packages\":null,\"enable_onnx_compatible_models\":false,\"enable_split_onnx_featurizer_estimator_models\":false,\"vm_type\":\"STANDARD_DS2_V2\",\"telemetry_verbosity\":20,\"send_telemetry\":true,\"enable_dnn\":false,\"scenario\":\"SDK-1.13.0\",\"environment_label\":null,\"save_mlflow\":false,\"force_text_dnn\":false,\"enable_feature_sweeping\":true,\"enable_early_stopping\":true,\"early_stopping_n_iters\":10,\"metrics\":null,\"enable_metric_confidence\":false,\"enable_ensembling\":true,\"enable_stack_ensembling\":true,\"ensemble_iterations\":15,\"enable_tf\":false,\"enable_subsampling\":null,\"subsample_seed\":null,\"enable_nimbusml\":false,\"enable_streaming\":false,\"force_streaming\":false,\"track_child_runs\":true,\"allowed_private_models\":[],\"label_column_name\":\"y\",\"weight_column_name\":null,\"cv_split_column_names\":null,\"enable_local_managed\":false,\"_local_managed_run_id\":null,\"cost_mode\":1,\"lag_length\":0,\"metric_operation\":\"maximize\",\"preprocess\":true}',\n  'DataPrepJsonString': '{\\\\\"training_data\\\\\": {\\\\\"datasetId\\\\\": \\\\\"151d6ac3-8773-4480-a6af-8b8a0de81672\\\\\"}, \\\\\"datasets\\\\\": 0}',\n  'EnableSubsampling': None,\n  'runTemplate': 'AutoML',\n  'azureml.runsource': 'automl',\n  'display_task_type': 'classification',\n  'dependencies_versions': '{\"azureml-widgets\": \"1.31.0\", \"azureml-train\": \"1.31.0\", \"azureml-train-restclients-hyperdrive\": \"1.31.0\", \"azureml-train-core\": \"1.31.0\", \"azureml-train-automl\": \"1.31.0\", \"azureml-train-automl-runtime\": \"1.31.0\", \"azureml-train-automl-client\": \"1.31.0\", \"azureml-tensorboard\": \"1.31.0\", \"azureml-telemetry\": \"1.31.0\", \"azureml-sdk\": \"1.31.0\", \"azureml-samples\": \"0+unknown\", \"azureml-responsibleai\": \"1.31.0\", \"azureml-pipeline\": \"1.31.0\", \"azureml-pipeline-steps\": \"1.31.0\", \"azureml-pipeline-core\": \"1.31.0\", \"azureml-opendatasets\": \"1.31.0\", \"azureml-model-management-sdk\": \"1.0.1b6.post1\", \"azureml-mlflow\": \"1.31.0\", \"azureml-interpret\": \"1.31.0\", \"azureml-explain-model\": \"1.31.0\", \"azureml-defaults\": \"1.31.0\", \"azureml-dataset-runtime\": \"1.31.0\", \"azureml-dataprep\": \"2.18.0\", \"azureml-dataprep-rslex\": \"1.16.1\", \"azureml-dataprep-native\": \"36.0.0\", \"azureml-datadrift\": \"1.31.0\", \"azureml-core\": \"1.32.0\", \"azureml-contrib-services\": \"1.31.0\", \"azureml-contrib-server\": \"1.31.0\", \"azureml-contrib-reinforcementlearning\": \"1.31.0\", \"azureml-contrib-pipeline-steps\": \"1.31.0\", \"azureml-contrib-notebook\": \"1.31.0\", \"azureml-contrib-fairness\": \"1.31.0\", \"azureml-contrib-dataset\": \"1.31.0\", \"azureml-cli-common\": \"1.31.0\", \"azureml-automl-runtime\": \"1.31.0\", \"azureml-automl-dnn-nlp\": \"1.31.0\", \"azureml-automl-core\": \"1.31.0\", \"azureml-accel-models\": \"1.31.0\"}',\n  '_aml_system_scenario_identification': 'Remote.Parent',\n  'ClientType': 'SDK',\n  'environment_cpu_name': 'AzureML-AutoML',\n  'environment_cpu_label': 'prod',\n  'environment_gpu_name': 'AzureML-AutoML-GPU',\n  'environment_gpu_label': 'prod',\n  'root_attribution': 'automl',\n  'attribution': 'AutoML',\n  'Orchestrator': 'AutoML',\n  'CancelUri': 'https://westus2.api.azureml.ms/jasmine/v1.0/subscriptions/#SUBSCRIPTION_ID#/resourceGroups/#RESOURCE_GROUP_NAME#/providers/Microsoft.MachineLearningServices/workspaces/#WORKSPACE_NAME#/experimentids/c4224836-3ff7-433a-9714-0f4e12c386df/cancel/AutoML_f92635f6-21f5-4bd9-9cbd-522c550681e5',\n  'ClientSdkVersion': '1.32.0',\n  'snapshotId': '00000000-0000-0000-0000-000000000000',\n  'SetupRunId': 'AutoML_f92635f6-21f5-4bd9-9cbd-522c550681e5_setup',\n  'SetupRunContainerId': 'dcid.AutoML_f92635f6-21f5-4bd9-9cbd-522c550681e5_setup',\n  'FeaturizationRunJsonPath': 'featurizer_container.json',\n  'FeaturizationRunId': 'AutoML_f92635f6-21f5-4bd9-9cbd-522c550681e5_featurize',\n  'ProblemInfoJsonString': '{\"dataset_num_categorical\": 0, \"is_sparse\": true, \"subsampling\": false, \"has_extra_col\": true, \"dataset_classes\": 2, \"dataset_features\": 72, \"dataset_samples\": 41188, \"single_frequency_class_detected\": false}',\n  'ModelExplainRunId': 'AutoML_f92635f6-21f5-4bd9-9cbd-522c550681e5_ModelExplain'},\n 'inputDatasets': [{'dataset': {'id': '151d6ac3-8773-4480-a6af-8b8a0de81672'}, 'consumptionDetails': {'type': 'RunInput', 'inputName': 'training_data', 'mechanism': 'Direct'}}],\n 'outputDatasets': [],\n 'logFiles': {},\n 'submittedBy': 'Demo FSI User'}"
          },
          "metadata": {}
        }
      ],
      "execution_count": 11,
      "metadata": {
        "gather": {
          "logged": 1624998790045
        },
        "jupyter": {
          "outputs_hidden": true
        }
      }
    },
    {
      "cell_type": "markdown",
      "source": [
        "### Retrieve the Best Model from AutoML Run"
      ],
      "metadata": {}
    },
    {
      "cell_type": "code",
      "source": [
        "best_run, fitted_model = training_run.get_output()\n",
        "fitted_model"
      ],
      "outputs": [
        {
          "output_type": "stream",
          "name": "stderr",
          "text": [
            "WARNING:root:The version of the SDK does not match the version the model was trained on.\n",
            "WARNING:root:The consistency in the result may not be guaranteed.\n",
            "WARNING:root:Package:azureml-automl-core, training version:1.32.0, current version:1.31.0\n",
            "Package:azureml-automl-runtime, training version:1.32.0, current version:1.31.0\n",
            "Package:azureml-dataset-runtime, training version:1.32.0, current version:1.31.0\n",
            "Package:azureml-defaults, training version:1.32.0, current version:1.31.0\n",
            "Package:azureml-interpret, training version:1.32.0, current version:1.31.0\n",
            "Package:azureml-mlflow, training version:1.32.0, current version:1.31.0\n",
            "Package:azureml-pipeline-core, training version:1.32.0, current version:1.31.0\n",
            "Package:azureml-telemetry, training version:1.32.0, current version:1.31.0\n",
            "Package:azureml-train-automl-client, training version:1.32.0, current version:1.31.0\n",
            "Package:azureml-train-automl-runtime, training version:1.32.0, current version:1.31.0\n",
            "WARNING:root:Please ensure the version of your local conda dependencies match the version on which your model was trained in order to properly retrieve your model.\n"
          ]
        },
        {
          "output_type": "execute_result",
          "execution_count": 12,
          "data": {
            "text/plain": "Pipeline(memory=None,\n         steps=[('datatransformer',\n                 DataTransformer(enable_dnn=False, enable_feature_sweeping=True, feature_sweeping_config={}, feature_sweeping_timeout=86400, featurization_config=None, force_text_dnn=False, is_cross_validation=True, is_onnx_compatible=False, observer=None, task='classification', working_dir='/mnt/batch/tasks/shared/LS_root/mount...\n    subsampling_schedule='hyperband_clip',\n    cost_mode_param=None,\n    iteration_timeout_mode=0,\n    iteration_timeout_param=None,\n    feature_column_names=None,\n    label_column_name=None,\n    weight_column_name=None,\n    cv_split_column_names=None,\n    enable_streaming=None,\n    timeseries_param_dict=None,\n    gpu_training_param_dict={'processing_unit_type': 'cpu'}\n), random_state=0, tree_method='auto'))],\n         verbose=False)"
          },
          "metadata": {}
        }
      ],
      "execution_count": 12,
      "metadata": {
        "gather": {
          "logged": 1624998805523
        },
        "jupyter": {
          "outputs_hidden": true
        }
      }
    },
    {
      "cell_type": "markdown",
      "source": [
        "### Calculate metrics for the prediction\n",
        "\n",
        "Now visualize the data on a scatter plot to show what our actual values are compared to the predicted values \n",
        "from the trained model that was returned."
      ],
      "metadata": {}
    },
    {
      "cell_type": "code",
      "source": [
        "# We'll get prediction for complete dataset as test   \n",
        "X_test_df = churndata.drop_columns(columns=['y']).to_pandas_dataframe()\n",
        "y_test_df = churndata.keep_columns(columns=['y'], validate=True).to_pandas_dataframe()"
      ],
      "outputs": [],
      "execution_count": 13,
      "metadata": {
        "gather": {
          "logged": 1624998806408
        },
        "jupyter": {
          "outputs_hidden": false
        }
      }
    },
    {
      "cell_type": "code",
      "source": [
        "# call the predict functions on the model\n",
        "y_pred = fitted_model.predict(X_test_df)\n",
        "y_pred"
      ],
      "outputs": [
        {
          "output_type": "execute_result",
          "execution_count": 14,
          "data": {
            "text/plain": "array([0, 0, 0, ..., 0, 0, 0])"
          },
          "metadata": {}
        }
      ],
      "execution_count": 14,
      "metadata": {
        "gather": {
          "logged": 1624998808469
        }
      }
    },
    {
      "cell_type": "code",
      "source": [
        "from matplotlib import pyplot as plt\n",
        "from sklearn.metrics import confusion_matrix\n",
        "import numpy as np\n",
        "import itertools\n",
        "\n",
        "cf =confusion_matrix(y_test_df.values,y_pred)\n",
        "plt.imshow(cf,cmap=plt.cm.Blues,interpolation='nearest')\n",
        "plt.colorbar()\n",
        "plt.title('Confusion Matrix')\n",
        "plt.xlabel('Predicted')\n",
        "plt.ylabel('Actual')\n",
        "class_labels = ['False','True']\n",
        "tick_marks = np.arange(len(class_labels))\n",
        "plt.xticks(tick_marks,class_labels)\n",
        "plt.yticks([-0.5,0,1,1.5],['','False','True',''])\n",
        "# plotting text value inside cells\n",
        "thresh = cf.max() / 2.\n",
        "for i,j in itertools.product(range(cf.shape[0]),range(cf.shape[1])):\n",
        "    plt.text(j,i,format(cf[i,j],'d'),horizontalalignment='center',color='white' if cf[i,j] >thresh else 'black')\n",
        "plt.show()"
      ],
      "outputs": [
        {
          "output_type": "display_data",
          "data": {
            "image/png": "[encoded data removed]",
            "text/plain": "<Figure size 432x288 with 2 Axes>"
          },
          "metadata": {
            "needs_background": "light"
          }
        }
      ],
      "execution_count": 15,
      "metadata": {
        "gather": {
          "logged": 1624998809095
        }
      }
    },
    {
      "cell_type": "markdown",
      "source": [
        "## Calculate the Churn Ratio \n",
        "\n",
        "Churn ratio is defined here as the percentage of all the retail customers who are likely to churn "
      ],
      "metadata": {}
    },
    {
      "cell_type": "code",
      "source": [
        "# Churn Ratio \n",
        "churn_predicted = pd.DataFrame(y_pred, columns = ['Churn_Predicted'])\n",
        "(churn_predicted['Churn_Predicted'].value_counts()/churn_predicted['Churn_Predicted'].count())*100"
      ],
      "outputs": [
        {
          "output_type": "execute_result",
          "execution_count": 16,
          "data": {
            "text/plain": "0   95.97\n1    4.03\nName: Churn_Predicted, dtype: float64"
          },
          "metadata": {}
        }
      ],
      "execution_count": 16,
      "metadata": {
        "gather": {
          "logged": 1624998809586
        }
      }
    },
    {
      "cell_type": "markdown",
      "source": [
        "## Predicted Churn Ratio is 4.03% "
      ],
      "metadata": {}
    },
    {
      "cell_type": "code",
      "source": [],
      "outputs": [],
      "execution_count": null,
      "metadata": {}
    }
  ],
  "metadata": {
    "index_order": 5,
    "nbconvert_exporter": "python",
    "exclude_from_index": false,
    "pygments_lexer": "ipython3",
    "task": "Classification",
    "deployment": [
      "None"
    ],
    "authors": [
      {
        "name": "ratanase"
      }
    ],
    "name": "python",
    "microsoft": {
      "host": {
        "AzureML": {
          "notebookHasBeenCompleted": true
        }
      }
    },
    "mimetype": "text/x-python",
    "kernel_info": {
      "name": "python38-azureml"
    },
    "language_info": {
      "name": "python",
      "version": "3.8.1",
      "mimetype": "text/x-python",
      "codemirror_mode": {
        "name": "ipython",
        "version": 3
      },
      "pygments_lexer": "ipython3",
      "nbconvert_exporter": "python",
      "file_extension": ".py"
    },
    "compute": [
      "AML Compute"
    ],
    "version": "3.6.7",
    "kernelspec": {
      "name": "python38-azureml",
      "language": "python",
      "display_name": "Python 3.8 - AzureML"
    },
    "tags": [
      "remote_run",
      "AutomatedML"
    ],
    "datasets": [
      "Creditcard"
    ],
    "file_extension": ".py",
    "category": "tutorial",
    "framework": [
      "None"
    ],
    "friendly_name": "Classification of credit card fraudulent transactions using Automated ML",
    "nteract": {
      "version": "nteract-front-end@1.0.0"
    }
  },
  "nbformat": 4,
  "nbformat_minor": 2
}