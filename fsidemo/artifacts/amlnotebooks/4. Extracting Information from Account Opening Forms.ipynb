{
  "cells": [
    {
      "cell_type": "markdown",
      "source": [
        "# Information Extraction from Account Opening forms - Automatic Form Recognition \n",
        "<h3><span style=\"color: #117d30;\"> Using Azure Form Recognizer</span></h3>"
      ],
      "metadata": {}
    },
    {
      "cell_type": "markdown",
      "source": [
        "## Disclaimer\n",
        "\n",
        "By accessing this code, you acknowledge the code is made available for presentation and demonstration purposes only and that the code (1) is not subject to SOC 1 and SOC 2 compliance audits, and (2) is not designed or intended to be a substitute for the professional advice, diagnosis, treatment, or judgment of a certified financial services professional. Do not use this code to replace, substitute, or provide professional financial advice, or judgement. You are solely responsible for ensuring the regulatory, legal, and/or contractual compliance of any use of the code, including obtaining any authorizations or consents, and any solution you choose to build that incorporates this code in whole or in part.\n",
        "\n",
        "© 2021 Microsoft Corporation. All rights reserved\n",
        "\n",
        "## Azure Form Recognizer\n",
        "\n",
        "Azure Form Recognizer is a cognitive service that uses machine learning technology to identify and extract key-value pairs and table data from form documents. It then outputs structured data that includes the relationships in the original file."
      ],
      "metadata": {}
    },
    {
      "cell_type": "markdown",
      "source": [
        "## Scenario Overview\n",
        "\n",
        "\n",
        "Azure Form Recognizer is a cognitive service that uses machine learning technology to identify and extract key-value pairs and table data from form documents. It then outputs structured data that includes the relationships in the original file.\n",
        "\n",
        "Account Opening Form Dataset: Raw unstructured data is fed into the pipeline in the form of electronically generated PDFs. This data consists of forms submitted at the time of opening a corporate account with the bank.\n",
        "\n",
        "### Notebook Organization\n",
        "\n",
        "- Fetch the account opening PDF files from a container under an azure storage account.\n",
        "- Convert the PDF files to JSON by querying the azure trained form recognizer model using the REST API.\n",
        "- Preprocess the JSON files to extract only relevant information.\n",
        "- Push the JSON files to a container under an azure storage account."
      ],
      "metadata": {}
    },
    {
      "cell_type": "markdown",
      "source": [
        "## Disclaimer\n",
        "\n",
        "By accessing this code, you acknowledge the code is made available for presentation and demonstration purposes only and that the code (1) is not subject to SOC 1 and SOC 2 compliance audits, and (2) is not designed or intended to be a substitute for the professional advice, diagnosis, treatment, or judgment of a certified financial services professional. Do not use this code to replace, substitute, or provide professional financial advice, or judgement. You are solely responsible for ensuring the regulatory, legal, and/or contractual compliance of any use of the code, including obtaining any authorizations or consents, and any solution you choose to build that incorporates this code in whole or in part.\n",
        "\n",
        "© 2021 Microsoft Corporation. All rights reserved"
      ],
      "metadata": {
        "nteract": {
          "transient": {
            "deleting": false
          }
        }
      }
    },
    {
      "cell_type": "markdown",
      "source": [
        "## Importing required libraries"
      ],
      "metadata": {}
    },
    {
      "cell_type": "code",
      "source": [
        "import json\n",
        "import time\n",
        "import requests\n",
        "import os\n",
        "from azure.storage.blob import ContainerClient\n",
        "import pprint\n",
        "import json\n",
        "from os import listdir\n",
        "from os.path import isfile, join\n",
        "import shutil\n",
        "import time"
      ],
      "outputs": [],
      "execution_count": 1,
      "metadata": {
        "gather": {
          "logged": 1624574016793
        }
      }
    },
    {
      "cell_type": "code",
      "source": [
        "import os\n",
        "os.getcwd()"
      ],
      "outputs": [
        {
          "output_type": "execute_result",
          "execution_count": 2,
          "data": {
            "text/plain": "'/mnt/batch/tasks/shared/LS_root/mounts/clusters/fsi-compute-prod/code/Users/demo-fsi-user/notebooks'"
          },
          "metadata": {}
        }
      ],
      "execution_count": 2,
      "metadata": {
        "gather": {
          "logged": 1624574020193
        }
      }
    },
    {
      "cell_type": "markdown",
      "source": [
        "## Creating local directories"
      ],
      "metadata": {}
    },
    {
      "cell_type": "code",
      "source": [
        "# Create local directories if they don't exist\n",
        "\n",
        "# *input_forms* contains all the pdf files\n",
        "input_path = os.getcwd()+\"/input_forms\"\n",
        "output_path = os.getcwd()+\"/output_json\"\n",
        "\n",
        "if (not os.path.isdir(input_path)):\n",
        "    os.makedirs(input_path)\n",
        "\n",
        "# *output_json* will contain all the converted json files\n",
        "if (not os.path.isdir(output_path)):\n",
        "    os.makedirs(output_path)"
      ],
      "outputs": [],
      "execution_count": 3,
      "metadata": {
        "gather": {
          "logged": 1624573180185
        }
      }
    },
    {
      "cell_type": "markdown",
      "source": [
        "## Establishing connection to Azure blob storage"
      ],
      "metadata": {}
    },
    {
      "cell_type": "code",
      "source": [
        "import GlobalVariables"
      ],
      "outputs": [],
      "execution_count": 4,
      "metadata": {
        "gather": {
          "logged": 1624574026095
        }
      }
    },
    {
      "cell_type": "code",
      "source": [
        "CONNECTION_STRING = GlobalVariables.STORAGE_ACCOUNT_CONNECTION_STRING\n",
        "CONTAINER_NAME = GlobalVariables.ACC_OPEN_CONTAINER_NAME\n",
        "\n",
        "# creating blob service object and list blobs inside input_folder\n",
        "\n",
        "container_client = ContainerClient.from_connection_string(conn_str=CONNECTION_STRING, container_name=CONTAINER_NAME)\n",
        "blobs_list = container_client.list_blobs()\n",
        "\n",
        "# initializing several lists that will be used in the following cells\n",
        "blob_client_list=[]\n",
        "blob_file_list = []\n",
        "\n",
        "# getting the blob clients and appending them to a list\n",
        "for c in blobs_list:\n",
        "    blob_client = container_client.get_blob_client(c)\n",
        "    blob_file_list.append(c.name)\n",
        "    blob_client_list.append(blob_client)\n",
        "\n",
        "for filename, blob_client in zip(blob_file_list, blob_client_list):\n",
        "    fname = os.path.join(input_path,filename)\n",
        "    with open(fname, \"wb\") as blob_file:\n",
        "        download_stream = blob_client.download_blob()\n",
        "        download_stream.readinto(blob_file)\n"
      ],
      "outputs": [],
      "execution_count": 5,
      "metadata": {
        "gather": {
          "logged": 1624573267819
        },
        "jupyter": {
          "outputs_hidden": false,
          "source_hidden": false
        },
        "nteract": {
          "transient": {
            "deleting": false
          }
        }
      }
    },
    {
      "cell_type": "markdown",
      "source": [
        "## Running Azure Form Recognizer service on forms\n",
        "\n",
        "We will now send the forms downloaded from Azure Blob Storage to the Form Recognizer service. "
      ],
      "metadata": {}
    },
    {
      "cell_type": "code",
      "source": [
        "%%time\n",
        "files = [f for f in listdir(os.getcwd()+\"/input_forms\") if isfile(join(os.getcwd()+\"/input_forms\", f))]\n",
        "\n",
        "# Endpoint parameters for querying the customer trained form-recognizer model to return the processed JSON\n",
        "# Processes PDF files one by one and return JSON files\n",
        "endpoint = GlobalVariables.FORM_RECOGNIZER_ENDPOINT\n",
        "apim_key = GlobalVariables.ACC_OPEN_API_KEY\n",
        "model_id = \"ff158ae7-e3a6-40b3-abd6-a24e9a0e83e3\"\n",
        "post_url = endpoint + \"/formrecognizer/v2.1-preview.3/custom/models/%s/analyze\" % model_id\n",
        "params = {\"includeTextDetails\": True}\n",
        "headers = {'Content-Type': 'image/jpg', 'Ocp-Apim-Subscription-Key': apim_key}\n",
        "\n",
        "local_path = input_path\n",
        "\n",
        "\n",
        "for file in files:\n",
        "    if not file.lower().endswith(('.png', '.jpg', '.jpeg','.pdf')):\n",
        "        continue\n",
        "    \n",
        "    with open(os.path.join(local_path,file), \"rb\") as f:\n",
        "        data_bytes = f.read()\n",
        "        \n",
        "    try:\n",
        "        resp = requests.post(url = post_url, data = data_bytes, headers = headers, params = params)\n",
        "        print('resp',resp)\n",
        "        if resp.status_code != 202:\n",
        "            print(\"POST analyze failed:\\n%s\" % json.dumps(resp.json()))\n",
        "            quit()\n",
        "        print(\"POST analyze succeeded:\\n%s\" % resp.headers)\n",
        "        get_url = resp.headers[\"operation-location\"]\n",
        "    except Exception as e:\n",
        "        print(\"POST analyze failed:\\n%s\" % str(e))\n",
        "        quit()\n",
        "     \n",
        "    n_tries = 10\n",
        "    n_try = 0\n",
        "    wait_sec = 5\n",
        "    max_wait_sec = 60\n",
        "    while n_try < n_tries:\n",
        "        try:\n",
        "            resp = requests.get(url = get_url, headers = {\"Ocp-Apim-Subscription-Key\": apim_key})\n",
        "            resp_json = resp.json()\n",
        "            if resp.status_code != 200:\n",
        "                print(\"GET analyze results failed:\\n%s\" % json.dumps(resp_json))\n",
        "                quit()\n",
        "            status = resp_json[\"status\"]\n",
        "#             print(status)\n",
        "            output = json.dumps(resp_json)\n",
        "            \n",
        "            if status == \"succeeded\":\n",
        "                output_dict = json.loads(output)\n",
        "                        \n",
        "                print(\"Analysis succeeded:\\n%s \\n\" % file[:-4])\n",
        "                \n",
        "                form_inputs = resp_json['analyzeResult']['documentResults'][0]['fields']\n",
        "                tags = list(form_inputs.keys())\n",
        "\n",
        "                temp = {}\n",
        "                types= ''\n",
        "                \n",
        "                for tag in tags: \n",
        "                    if form_inputs[tag] != None:\n",
        "                        types = form_inputs[tag]['type']\n",
        "                        data = form_inputs[tag]['text']\n",
        "                        if types == 'selectionMark':\n",
        "                            if data == 'selected':\n",
        "                                field = tag.split('_')\n",
        "                                field_name = field[0]\n",
        "                                option_chosen = field[-1]\n",
        "                                \n",
        "                                if field_name in temp: \n",
        "                                    temp_data = temp[field_name]\n",
        "                                    temp_data.append(option_chosen)\n",
        "                                    temp[field_name] = temp_data\n",
        "                                else:\n",
        "                                \n",
        "                                    temp[field_name] = [option_chosen]\n",
        "                            else: \n",
        "                                continue\n",
        "                        else: \n",
        "                            temp[tag] = data\n",
        "                            \n",
        "                \n",
        "                    with open(os.path.join(output_path,file[:-4]+\".json\"), 'w') as outfile:\n",
        "                        json.dump(temp, outfile)\n",
        "                break\n",
        "            if status == \"failed\":\n",
        "                print(\"Analysis failed:\\n%s\" % json.dumps(resp_json))\n",
        "                quit()\n",
        "            # Analysis still running. Wait and retry.\n",
        "            time.sleep(wait_sec)\n",
        "            n_try += 1\n",
        "            wait_sec = min(2*wait_sec, max_wait_sec)     \n",
        "        except Exception as e:\n",
        "            msg = \"GET analyze results failed:\\n%s\" % str(e)\n",
        "            print(msg)\n",
        "            quit()"
      ],
      "outputs": [
        {
          "output_type": "stream",
          "name": "stdout",
          "text": [
            "resp <Response [202]>\n",
            "POST analyze succeeded:\n",
            "{'Content-Length': '0', 'Operation-Location': 'https://fsiformrecognizerprod.cognitiveservices.azure.com/formrecognizer/v2.1-preview.3/custom/models/ff158ae7-e3a6-40b3-abd6-a24e9a0e83e3/analyzeresults/7baa3a53-0562-40e9-8899-1258f975da21', 'x-envoy-upstream-service-time': '362', 'apim-request-id': '992c7827-716d-4a46-b63c-a33a88f2286c', 'Strict-Transport-Security': 'max-age=31536000; includeSubDomains; preload', 'x-content-type-options': 'nosniff', 'Date': 'Mon, 28 Jun 2021 23:40:12 GMT'}\n",
            "Analysis succeeded:\n",
            "Final Test Form 1 \n",
            "\n",
            "CPU times: user 73.7 ms, sys: 12.5 ms, total: 86.3 ms\n",
            "Wall time: 20.3 s\n"
          ]
        }
      ],
      "execution_count": 6,
      "metadata": {
        "gather": {
          "logged": 1624574026095
        }
      }
    },
    {
      "cell_type": "markdown",
      "source": [
        "\n",
        "\n",
        "\n",
        "## Connection parameters for uploading to Azure blob storage"
      ],
      "metadata": {}
    },
    {
      "cell_type": "code",
      "source": [
        "# Connection paramters for uploading JSON files to blob storage\n",
        "CONNECTION_STRING = GlobalVariables.STORAGE_ACCOUNT_CONNECTION_STRING\n",
        "CONTAINER_NAME = GlobalVariables.ACC_OPEN_OUTPUT_CONTAINER\n",
        "\n",
        "container_client_upload = ContainerClient.from_connection_string(conn_str=CONNECTION_STRING, container_name=CONTAINER_NAME)\n"
      ],
      "outputs": [],
      "execution_count": 7,
      "metadata": {
        "gather": {
          "logged": 1624552632082
        }
      }
    },
    {
      "cell_type": "markdown",
      "source": [
        "## Uploading JSON files to Azure blob storage"
      ],
      "metadata": {}
    },
    {
      "cell_type": "code",
      "source": [
        "# Upload JSON files from local folder *output_json* to the container *azure-ml-output-accountopeningforms*\n",
        "\n",
        "for pth, dirs, files in os.walk(output_path):\n",
        "    for filename in files:\n",
        "        if not filename.lower().endswith(('.json')):\n",
        "            continue\n",
        "        \n",
        "        with open (os.path.join(output_path,filename),'rb') as json_file: \n",
        "            blob_client =  container_client_upload.upload_blob(name=filename, data=json_file,overwrite=True)\n",
        "    "
      ],
      "outputs": [],
      "execution_count": 8,
      "metadata": {
        "gather": {
          "logged": 1624552632573
        }
      }
    },
    {
      "cell_type": "code",
      "source": [],
      "outputs": [],
      "execution_count": null,
      "metadata": {}
    },
    {
      "cell_type": "code",
      "source": [],
      "outputs": [],
      "execution_count": null,
      "metadata": {}
    }
  ],
  "metadata": {
    "kernel_info": {
      "name": "python3-azureml"
    },
    "kernelspec": {
      "display_name": "Python 3.6 - AzureML",
      "language": "python",
      "name": "python3-azureml"
    },
    "language_info": {
      "codemirror_mode": {
        "name": "ipython",
        "version": 3
      },
      "file_extension": ".py",
      "mimetype": "text/x-python",
      "name": "python",
      "nbconvert_exporter": "python",
      "pygments_lexer": "ipython3",
      "version": "3.6.9"
    },
    "microsoft": {
      "host": {
        "AzureML": {
          "notebookHasBeenCompleted": true
        }
      }
    },
    "nteract": {
      "version": "nteract-front-end@1.0.0"
    }
  },
  "nbformat": 4,
  "nbformat_minor": 4
}