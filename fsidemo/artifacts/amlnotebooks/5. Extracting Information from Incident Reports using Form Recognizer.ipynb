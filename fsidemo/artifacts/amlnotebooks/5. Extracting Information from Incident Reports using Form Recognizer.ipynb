{
 "cells": [
  {
   "cell_type": "markdown",
   "metadata": {},
   "source": [
    "# Information Extraction from Documents for a Bank - Automatic Form Recognition \n",
    "<h3><span style=\"color: #117d30;\"> Using Azure Form Recognizer</span></h3>"
   ]
  },
  {
   "cell_type": "markdown",
   "metadata": {},
   "source": [
    "## Azure Form Recognizer\n",
    "\n",
    "Azure Form Recognizer is a cognitive service that uses machine learning technology to identify and extract key-value pairs and table data from form documents. It then outputs structured data that includes the relationships in the original file."
   ]
  },
  {
   "cell_type": "markdown",
   "metadata": {},
   "source": [
    "## Scenario Overview\n",
    "\n",
    "\n",
    "Azure Form Recognizer is a cognitive service that uses machine learning technology to identify and extract key-value pairs and table data from form documents. It then outputs structured data that includes the relationships in the original file.\n",
    "\n",
    "Bank Incidents Form Dataset: Raw unstructured data is fed into the pipeline in the form of electronically generated PDFs. These reports contain information about injuries that occurred at different bank locations.\n",
    "\n",
    "### Notebook Organization\n",
    "\n",
    "- Fetch the bank incident  PDF files from a container under an azure storage account.\n",
    "- Convert the PDF files to JSON by querying the azure trained form recognizer model using the REST API.\n",
    "- Preprocess the JSON files to extract only relevant information.\n",
    "- Push the JSON files to a container under an azure storage account."
   ]
  },
  {
   "cell_type": "markdown",
   "metadata": {
    "nteract": {
     "transient": {
      "deleting": false
     }
    }
   },
   "source": [
    "## Disclaimer\n",
    "\n",
    "By accessing this code, you acknowledge the code is made available for presentation and demonstration purposes only and that the code (1) is not subject to SOC 1 and SOC 2 compliance audits, and (2) is not designed or intended to be a substitute for the professional advice, diagnosis, treatment, or judgment of a certified financial services professional. Do not use this code to replace, substitute, or provide professional financial advice, or judgement. You are solely responsible for ensuring the regulatory, legal, and/or contractual compliance of any use of the code, including obtaining any authorizations or consents, and any solution you choose to build that incorporates this code in whole or in part.\n",
    "\n",
    "© 2021 Microsoft Corporation. All rights reserved"
   ]
  },
  {
   "cell_type": "markdown",
   "metadata": {},
   "source": [
    "## Importing required libraries"
   ]
  },
  {
   "cell_type": "code",
   "execution_count": 1,
   "metadata": {
    "gather": {
     "logged": 1627419447069
    }
   },
   "outputs": [],
   "source": [
    "import json\n",
    "import time\n",
    "import requests\n",
    "import os\n",
    "from azure.storage.blob import ContainerClient\n",
    "import pprint\n",
    "import json\n",
    "from os import listdir\n",
    "from os.path import isfile, join\n",
    "import shutil\n",
    "import time"
   ]
  },
  {
   "cell_type": "code",
   "execution_count": 2,
   "metadata": {
    "gather": {
     "logged": 1627419447305
    }
   },
   "outputs": [
    {
     "data": {
      "text/plain": [
       "'/mnt/batch/tasks/shared/LS_root/mounts/clusters/demo-fsi-user-b4release/code/Users/demo-fsi-user/notebooks'"
      ]
     },
     "execution_count": 2,
     "metadata": {},
     "output_type": "execute_result"
    }
   ],
   "source": [
    "import os\n",
    "os.getcwd()"
   ]
  },
  {
   "cell_type": "markdown",
   "metadata": {},
   "source": [
    "## Creating local directories"
   ]
  },
  {
   "cell_type": "code",
   "execution_count": 3,
   "metadata": {
    "gather": {
     "logged": 1627419447698
    }
   },
   "outputs": [],
   "source": [
    "# Create local directories if they don't exist\n",
    "\n",
    "# *input_forms* contains all the pdf files\n",
    "input_path = os.getcwd()+\"/incident_forms\"\n",
    "output_path = os.getcwd()+\"/incident_jsons\"\n",
    "\n",
    "if (not os.path.isdir(input_path)):\n",
    "    os.makedirs(input_path)\n",
    "\n",
    "# *output_json* will contain all the converted json files\n",
    "if (not os.path.isdir(output_path)):\n",
    "    os.makedirs(output_path)"
   ]
  },
  {
   "cell_type": "markdown",
   "metadata": {},
   "source": [
    "## Establishing connection to Azure blob storage"
   ]
  },
  {
   "cell_type": "code",
   "execution_count": 4,
   "metadata": {
    "gather": {
     "logged": 1627419447916
    }
   },
   "outputs": [],
   "source": [
    "import GlobalVariables"
   ]
  },
  {
   "cell_type": "code",
   "execution_count": 5,
   "metadata": {
    "gather": {
     "logged": 1627419450814
    },
    "jupyter": {
     "outputs_hidden": false,
     "source_hidden": false
    },
    "nteract": {
     "transient": {
      "deleting": false
     }
    }
   },
   "outputs": [],
   "source": [
    "CONNECTION_STRING = GlobalVariables.STORAGE_ACCOUNT_CONNECTION_STRING_INCIDENT_FORMS\n",
    "CONTAINER_NAME = GlobalVariables.INCIDENT_CONTAINER_NAME\n",
    "\n",
    "# creating blob service object and list blobs inside input_folder\n",
    "\n",
    "container_client = ContainerClient.from_connection_string(conn_str=CONNECTION_STRING, container_name=CONTAINER_NAME)\n",
    "blobs_list = container_client.list_blobs()\n",
    "\n",
    "# initializing several lists that will be used in the following cells\n",
    "blob_client_list=[]\n",
    "blob_file_list = []\n",
    "\n",
    "# getting the blob clients and appending them to a list\n",
    "for c in blobs_list:\n",
    "    blob_client = container_client.get_blob_client(c)\n",
    "    blob_file_list.append(c.name)\n",
    "    blob_client_list.append(blob_client)\n",
    "\n",
    "for filename, blob_client in zip(blob_file_list, blob_client_list):\n",
    "    fname = os.path.join(input_path,filename)\n",
    "    with open(fname, \"wb\") as blob_file:\n",
    "        download_stream = blob_client.download_blob()\n",
    "        download_stream.readinto(blob_file)"
   ]
  },
  {
   "cell_type": "markdown",
   "metadata": {},
   "source": [
    "## Running Azure Form Recognizer service on forms"
   ]
  },
  {
   "cell_type": "code",
   "execution_count": null,
   "metadata": {
    "gather": {
     "logged": 1627416245035
    },
    "jupyter": {
     "outputs_hidden": false,
     "source_hidden": false
    },
    "nteract": {
     "transient": {
      "deleting": false
     }
    }
   },
   "outputs": [
    {
     "name": "stdout",
     "output_type": "stream",
     "text": [
      "resp <Response [202]>\n",
      "POST analyze succeeded:\n",
      "{'Content-Length': '0', 'Operation-Location': 'https://fsiformrecognizerprod.cognitiveservices.azure.com/formrecognizer/v2.1-preview.3/custom/models/30ed7876-aae4-4dd7-b2c6-c8f6e6b5e68a/analyzeresults/5482727d-bb5b-4df2-be03-a11aa35a266b', 'x-envoy-upstream-service-time': '212', 'apim-request-id': 'e6e2415b-e9c8-4800-a309-c22752e24a4f', 'Strict-Transport-Security': 'max-age=31536000; includeSubDomains; preload', 'x-content-type-options': 'nosniff', 'Date': 'Wed, 28 Jul 2021 00:00:40 GMT'}\n",
      "https://fsiformrecognizerprod.cognitiveservices.azure.com/formrecognizer/v2.1-preview.3/custom/models/30ed7876-aae4-4dd7-b2c6-c8f6e6b5e68a/analyzeresults/5482727d-bb5b-4df2-be03-a11aa35a266b\n",
      "resp <Response [202]>\n",
      "POST analyze succeeded:\n",
      "{'Content-Length': '0', 'Operation-Location': 'https://fsiformrecognizerprod.cognitiveservices.azure.com/formrecognizer/v2.1-preview.3/custom/models/30ed7876-aae4-4dd7-b2c6-c8f6e6b5e68a/analyzeresults/d6c7a29c-8f22-4ab0-ba51-93ef93daf0ae', 'x-envoy-upstream-service-time': '289', 'apim-request-id': '925c87c9-6220-4296-8b9c-977a59030770', 'Strict-Transport-Security': 'max-age=31536000; includeSubDomains; preload', 'x-content-type-options': 'nosniff', 'Date': 'Wed, 28 Jul 2021 00:00:52 GMT'}\n",
      "https://fsiformrecognizerprod.cognitiveservices.azure.com/formrecognizer/v2.1-preview.3/custom/models/30ed7876-aae4-4dd7-b2c6-c8f6e6b5e68a/analyzeresults/d6c7a29c-8f22-4ab0-ba51-93ef93daf0ae\n",
      "resp <Response [202]>\n",
      "POST analyze succeeded:\n",
      "{'Content-Length': '0', 'Operation-Location': 'https://fsiformrecognizerprod.cognitiveservices.azure.com/formrecognizer/v2.1-preview.3/custom/models/30ed7876-aae4-4dd7-b2c6-c8f6e6b5e68a/analyzeresults/428e6c2d-f129-49d9-93c8-748ddeb312e7', 'x-envoy-upstream-service-time': '111', 'apim-request-id': '7ba102c9-78ec-40a1-b8f0-b8747a6bf00f', 'Strict-Transport-Security': 'max-age=31536000; includeSubDomains; preload', 'x-content-type-options': 'nosniff', 'Date': 'Wed, 28 Jul 2021 00:01:02 GMT'}\n",
      "https://fsiformrecognizerprod.cognitiveservices.azure.com/formrecognizer/v2.1-preview.3/custom/models/30ed7876-aae4-4dd7-b2c6-c8f6e6b5e68a/analyzeresults/428e6c2d-f129-49d9-93c8-748ddeb312e7\n",
      "resp <Response [202]>\n",
      "POST analyze succeeded:\n",
      "{'Content-Length': '0', 'Operation-Location': 'https://fsiformrecognizerprod.cognitiveservices.azure.com/formrecognizer/v2.1-preview.3/custom/models/30ed7876-aae4-4dd7-b2c6-c8f6e6b5e68a/analyzeresults/546dbed0-a823-4757-98f9-89a5679d5046', 'x-envoy-upstream-service-time': '79', 'apim-request-id': 'de3dc222-7cac-4881-9564-84ab52e4d01e', 'Strict-Transport-Security': 'max-age=31536000; includeSubDomains; preload', 'x-content-type-options': 'nosniff', 'Date': 'Wed, 28 Jul 2021 00:01:13 GMT'}\n",
      "https://fsiformrecognizerprod.cognitiveservices.azure.com/formrecognizer/v2.1-preview.3/custom/models/30ed7876-aae4-4dd7-b2c6-c8f6e6b5e68a/analyzeresults/546dbed0-a823-4757-98f9-89a5679d5046\n",
      "resp <Response [202]>\n",
      "POST analyze succeeded:\n",
      "{'Content-Length': '0', 'Operation-Location': 'https://fsiformrecognizerprod.cognitiveservices.azure.com/formrecognizer/v2.1-preview.3/custom/models/30ed7876-aae4-4dd7-b2c6-c8f6e6b5e68a/analyzeresults/b4a1ab07-6001-4511-861c-34b4a617d47f', 'x-envoy-upstream-service-time': '81', 'apim-request-id': '4344764c-a60d-4455-a9ba-4f3dd08de5f6', 'Strict-Transport-Security': 'max-age=31536000; includeSubDomains; preload', 'x-content-type-options': 'nosniff', 'Date': 'Wed, 28 Jul 2021 00:01:24 GMT'}\n",
      "https://fsiformrecognizerprod.cognitiveservices.azure.com/formrecognizer/v2.1-preview.3/custom/models/30ed7876-aae4-4dd7-b2c6-c8f6e6b5e68a/analyzeresults/b4a1ab07-6001-4511-861c-34b4a617d47f\n",
      "resp <Response [202]>\n",
      "POST analyze succeeded:\n",
      "{'Content-Length': '0', 'Operation-Location': 'https://fsiformrecognizerprod.cognitiveservices.azure.com/formrecognizer/v2.1-preview.3/custom/models/30ed7876-aae4-4dd7-b2c6-c8f6e6b5e68a/analyzeresults/00e7dcf3-95c2-4d0b-a64f-ea2c9aa1ab73', 'x-envoy-upstream-service-time': '98', 'apim-request-id': '40123347-f67b-4ef7-b63a-0be1795f86b1', 'Strict-Transport-Security': 'max-age=31536000; includeSubDomains; preload', 'x-content-type-options': 'nosniff', 'Date': 'Wed, 28 Jul 2021 00:01:35 GMT'}\n",
      "https://fsiformrecognizerprod.cognitiveservices.azure.com/formrecognizer/v2.1-preview.3/custom/models/30ed7876-aae4-4dd7-b2c6-c8f6e6b5e68a/analyzeresults/00e7dcf3-95c2-4d0b-a64f-ea2c9aa1ab73\n",
      "resp <Response [202]>\n",
      "POST analyze succeeded:\n",
      "{'Content-Length': '0', 'Operation-Location': 'https://fsiformrecognizerprod.cognitiveservices.azure.com/formrecognizer/v2.1-preview.3/custom/models/30ed7876-aae4-4dd7-b2c6-c8f6e6b5e68a/analyzeresults/938b8535-3979-40a9-9fe2-81057cae646f', 'x-envoy-upstream-service-time': '147', 'apim-request-id': 'a2aac064-9640-4b6d-9adc-fc40ec6a038b', 'Strict-Transport-Security': 'max-age=31536000; includeSubDomains; preload', 'x-content-type-options': 'nosniff', 'Date': 'Wed, 28 Jul 2021 00:01:46 GMT'}\n",
      "https://fsiformrecognizerprod.cognitiveservices.azure.com/formrecognizer/v2.1-preview.3/custom/models/30ed7876-aae4-4dd7-b2c6-c8f6e6b5e68a/analyzeresults/938b8535-3979-40a9-9fe2-81057cae646f\n",
      "resp <Response [202]>\n",
      "POST analyze succeeded:\n",
      "{'Content-Length': '0', 'Operation-Location': 'https://fsiformrecognizerprod.cognitiveservices.azure.com/formrecognizer/v2.1-preview.3/custom/models/30ed7876-aae4-4dd7-b2c6-c8f6e6b5e68a/analyzeresults/f98264a3-3e7c-4aba-81f8-ac7683cbd404', 'x-envoy-upstream-service-time': '179', 'apim-request-id': '998dce65-5c0f-4a91-b7f6-53dc104aa81d', 'Strict-Transport-Security': 'max-age=31536000; includeSubDomains; preload', 'x-content-type-options': 'nosniff', 'Date': 'Wed, 28 Jul 2021 00:02:00 GMT'}\n",
      "https://fsiformrecognizerprod.cognitiveservices.azure.com/formrecognizer/v2.1-preview.3/custom/models/30ed7876-aae4-4dd7-b2c6-c8f6e6b5e68a/analyzeresults/f98264a3-3e7c-4aba-81f8-ac7683cbd404\n",
      "resp <Response [202]>\n",
      "POST analyze succeeded:\n",
      "{'Content-Length': '0', 'Operation-Location': 'https://fsiformrecognizerprod.cognitiveservices.azure.com/formrecognizer/v2.1-preview.3/custom/models/30ed7876-aae4-4dd7-b2c6-c8f6e6b5e68a/analyzeresults/818303b3-3a54-47df-b414-de707451a34d', 'x-envoy-upstream-service-time': '236', 'apim-request-id': '25522eec-2ff0-4f4b-961e-377384b63854', 'Strict-Transport-Security': 'max-age=31536000; includeSubDomains; preload', 'x-content-type-options': 'nosniff', 'Date': 'Wed, 28 Jul 2021 00:02:13 GMT'}\n",
      "https://fsiformrecognizerprod.cognitiveservices.azure.com/formrecognizer/v2.1-preview.3/custom/models/30ed7876-aae4-4dd7-b2c6-c8f6e6b5e68a/analyzeresults/818303b3-3a54-47df-b414-de707451a34d\n"
     ]
    }
   ],
   "source": [
    "%%time\n",
    "files = [f for f in listdir(os.getcwd()+\"/incident_forms\") if isfile(join(os.getcwd()+\"/incident_forms\", f))]\n",
    "\n",
    "# Endpoint parameters for querying the customer trained form-recognizer model to return the processed JSON\n",
    "# Processes PDF files one by one and return JSON files\n",
    "endpoint = GlobalVariables.FORM_RECOGNIZER_ENDPOINT\n",
    "apim_key = GlobalVariables.FORM_RECOGNIZER_API_KEY\n",
    "model_id = GlobalVariables.INCIDENT_FORM_RECOGNIZER_MODEL_ID\n",
    "post_url = endpoint + \"/formrecognizer/v2.1-preview.3/custom/models/%s/analyze\" % model_id\n",
    "params = {\"includeTextDetails\": True}\n",
    "headers = {'Content-Type': 'application/pdf', 'Ocp-Apim-Subscription-Key': apim_key}\n",
    "\n",
    "local_path = input_path\n",
    "\n",
    "for file in files:\n",
    "    if not file.lower().endswith(('.png', '.jpg', '.jpeg','.pdf')):\n",
    "        continue\n",
    "    \n",
    "    with open(os.path.join(local_path,file), \"rb\") as f:\n",
    "        data_bytes = f.read()\n",
    "        \n",
    "    try:\n",
    "        resp = requests.post(url = post_url, data = data_bytes, headers = headers, params = params)\n",
    "        print('resp',resp)\n",
    "        if resp.status_code != 202:\n",
    "            print(\"POST analyze failed:\\n%s\" % json.dumps(resp.json()))\n",
    "            quit()\n",
    "        print(\"POST analyze succeeded:\\n%s\" % resp.headers)\n",
    "        get_url = resp.headers[\"operation-location\"]\n",
    "        print (get_url)\n",
    "    except Exception as e:\n",
    "        print(\"POST analyze failed:\\n%s\" % str(e))\n",
    "        quit()\n",
    "   \n",
    "    time.sleep (10)\n",
    "    resp = requests.get(url = get_url, headers = {\"Ocp-Apim-Subscription-Key\": apim_key})\n",
    "    resp_json = resp.json()\n",
    "    status = resp_json[\"status\"]\n",
    "#             print(status)\n",
    "    output = json.dumps(resp_json)\n",
    "    output_dict = json.loads(output)\n",
    "    with open(os.path.join(output_path,file[:-4]+\".json\"), 'w') as outfile:\n",
    "        json.dump(output_dict, outfile)"
   ]
  },
  {
   "cell_type": "markdown",
   "metadata": {},
   "source": [
    "\n",
    "\n",
    "\n",
    "## Connection parameters for uploading to Azure blob storage"
   ]
  },
  {
   "cell_type": "code",
   "execution_count": null,
   "metadata": {
    "gather": {
     "logged": 1627419567918
    }
   },
   "outputs": [],
   "source": [
    "# Connection paramters for uploading JSON files to blob storage\n",
    "CONNECTION_STRING = GlobalVariables.STORAGE_ACCOUNT_CONNECTION_STRING\n",
    "CONTAINER_NAME = GlobalVariables.OUTPUT_CONTAINER_NAME\n",
    "\n",
    "container_client_upload = ContainerClient.from_connection_string(conn_str=CONNECTION_STRING, container_name=CONTAINER_NAME)\n"
   ]
  },
  {
   "cell_type": "markdown",
   "metadata": {},
   "source": [
    "## Uploading JSON files to Azure blob storage"
   ]
  },
  {
   "cell_type": "code",
   "execution_count": null,
   "metadata": {
    "gather": {
     "logged": 1627419569545
    }
   },
   "outputs": [],
   "source": [
    "# Upload JSON files from local folder *output_json* to the container *formrecogoutput*\n",
    "\n",
    "for pth, dirs, files in os.walk(output_path):\n",
    "    for filename in files:\n",
    "        with open (os.path.join(output_path,filename),'rb') as json_file: \n",
    "            blob_client =  container_client_upload.upload_blob(name=filename, data=json_file,overwrite=True)\n",
    "    "
   ]
  },
  {
   "cell_type": "code",
   "execution_count": null,
   "metadata": {},
   "outputs": [],
   "source": []
  }
 ],
 "metadata": {
  "kernel_info": {
   "name": "python38-azureml"
  },
  "kernelspec": {
   "display_name": "Python 3.8 - AzureML",
   "language": "python",
   "name": "python38-azureml"
  },
  "language_info": {
   "codemirror_mode": {
    "name": "ipython",
    "version": 3
   },
   "file_extension": ".py",
   "mimetype": "text/x-python",
   "name": "python",
   "nbconvert_exporter": "python",
   "pygments_lexer": "ipython3",
   "version": "3.8.1"
  },
  "microsoft": {
   "host": {
    "AzureML": {
     "notebookHasBeenCompleted": true
    }
   }
  },
  "nteract": {
   "version": "nteract-front-end@1.0.0"
  }
 },
 "nbformat": 4,
 "nbformat_minor": 4
}
