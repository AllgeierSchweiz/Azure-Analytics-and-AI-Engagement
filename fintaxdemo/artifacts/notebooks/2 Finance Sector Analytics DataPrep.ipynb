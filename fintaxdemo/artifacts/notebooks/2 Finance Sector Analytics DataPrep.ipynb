{
  "cells": [
    {
      "cell_type": "markdown",
      "metadata": {
        "nteract": {
          "transient": {
            "deleting": false
          }
        }
      },
      "source": [
        "## Please don't run / don't click \"Run all\" the notebook:\n",
        "At the time of writing of this document, the current core limit is 200 cores per workspace and depending upon number of concurrent users, you may end up with core capacity being exceeded or maximum number of parallel jobs being exceeded error. \n",
        "## Fetch Marketing Campaigns data into DataFrame and Calculate VAT Variance        "
      ]
    },
    {
      "cell_type": "code",
      "execution_count": 2,
      "metadata": {
        "jupyter": {
          "outputs_hidden": false,
          "source_hidden": false
        },
        "microsoft": {
          "language": "python"
        },
        "nteract": {
          "transient": {
            "deleting": false
          }
        }
      },
      "outputs": [
        {
          "data": {
            "application/vnd.livy.statement-meta+json": {
              "execution_finish_time": "2021-11-10T21:32:39.8207774Z",
              "execution_start_time": "2021-11-10T21:32:32.973243Z",
              "livy_statement_state": "available",
              "queued_time": "2021-11-10T21:32:32.8648094Z",
              "session_id": 6,
              "session_start_time": null,
              "spark_pool": "demofintaxuser",
              "state": "finished",
              "statement_id": 2
            },
            "text/plain": [
              "StatementMeta(demofintaxuser, 6, 2, Finished, Available)"
            ]
          },
          "metadata": {},
          "output_type": "display_data"
        },
        {
          "name": "stdout",
          "output_type": "stream",
          "text": [
            "+---------+-------+---------+-----------+-----------+---------+------+\n",
            "|   Region|Country|   Sector|        VAT| VAT_Target|    State|RoleID|\n",
            "+---------+-------+---------+-----------+-----------+---------+------+\n",
            "|  Statiso|  South|   Retail|$11,564.00 |$19,306.00 |  Statiso|  NULL|\n",
            "|Sur Datum|  South|Financial| $6,497.00 | $6,147.00 |Sur Datum|  NULL|\n",
            "|  Statiso|  South|   Retail|$11,620.00 |$17,230.00 |  Statiso|    20|\n",
            "|  Statiso|  South|   Retail| $9,963.00 |$18,377.00 |  Statiso|  NULL|\n",
            "|Sur Datum|  South|Financial|$16,850.00 |$15,753.00 |Sur Datum|  NULL|\n",
            "|  Statiso|  South|   Retail| $5,333.00 | $7,346.00 |  Statiso|    20|\n",
            "|  Statiso|  South|   Retail|$17,488.00 | $9,941.00 |  Statiso|  NULL|\n",
            "|Sur Datum|  South|Financial| $7,264.00 | $9,868.00 |Sur Datum|  NULL|\n",
            "|  Statiso|  South|   Retail|$14,114.00 |$15,482.00 |  Statiso|    20|\n",
            "|  Statiso|  South|   Retail| $8,628.00 |$12,622.00 |  Statiso|  NULL|\n",
            "+---------+-------+---------+-----------+-----------+---------+------+\n",
            "only showing top 10 rows"
          ]
        }
      ],
      "source": [
        "%%pyspark\n",
        "data_path = spark.read.load('abfss://file1@#STORAGE_ACCOUNT_NAME#.dfs.core.windows.net/PublicGov-data/PublicGovData.csv', format='csv',header=True)\n",
        "data_path.show(10)"
      ]
    },
    {
      "cell_type": "markdown",
      "metadata": {
        "nteract": {
          "transient": {
            "deleting": false
          }
        }
      },
      "source": [
        "## Load into Pandas and Perform Cleansing Operations\n"
      ]
    },
    {
      "cell_type": "code",
      "execution_count": 3,
      "metadata": {
        "jupyter": {
          "outputs_hidden": false,
          "source_hidden": false
        },
        "microsoft": {
          "language": "python"
        },
        "nteract": {
          "transient": {
            "deleting": false
          }
        }
      },
      "outputs": [
        {
          "data": {
            "application/vnd.livy.statement-meta+json": {
              "execution_finish_time": "2021-11-10T21:33:00.4621034Z",
              "execution_start_time": "2021-11-10T21:32:56.5747573Z",
              "livy_statement_state": "available",
              "queued_time": "2021-11-10T21:32:56.481915Z",
              "session_id": 6,
              "session_start_time": null,
              "spark_pool": "demofintaxuser",
              "state": "finished",
              "statement_id": 3
            },
            "text/plain": [
              "StatementMeta(demofintaxuser, 6, 3, Finished, Available)"
            ]
          },
          "metadata": {},
          "output_type": "display_data"
        }
      ],
      "source": [
        "%%pyspark\n",
        "from pyspark.sql.functions import *\n",
        "from pyspark.sql.types import *\n",
        "\n",
        "import numpy as np\n",
        "\n",
        "pd_df = data_path.select(\"*\").toPandas()\n",
        "\n",
        "'''Cleansing Operations: \n",
        "1. Columns VAT, VAT_Target: Remove '$' symbol and convert datatype to float\n",
        "2. Columns VAT, VAT_Target: Replace null values with 0\n",
        "3. Columns Region, Country, Sector, Sector: Convert columns to Camel Case\n",
        "'''\n",
        "pd_df['VAT']= pd_df['VAT'].replace('[\\$,]', '', regex=True).astype(float)\n",
        "pd_df['VAT_Target']= pd_df['VAT_Target'].replace('[\\$,]', '', regex=True).astype(float)\n",
        "pd_df['VAT'].fillna(value=0, inplace=True)\n",
        "pd_df['VAT_Target'].fillna(value=0, inplace=True)\n",
        "\n",
        "pd_df['Region'] = pd_df.Region.str.title()\n",
        "pd_df['Country'] = pd_df.Country.str.title()\n",
        "\n",
        "pd_df['Sector'] = pd_df.Sector.str.title()"
      ]
    },
    {
      "cell_type": "markdown",
      "metadata": {
        "nteract": {
          "transient": {
            "deleting": false
          }
        }
      },
      "source": [
        "## Data Transformation - Calculate VAT Variance"
      ]
    },
    {
      "cell_type": "code",
      "execution_count": 5,
      "metadata": {
        "jupyter": {
          "outputs_hidden": false,
          "source_hidden": false
        },
        "nteract": {
          "transient": {
            "deleting": false
          }
        }
      },
      "outputs": [
        {
          "data": {
            "application/vnd.livy.statement-meta+json": {
              "execution_finish_time": "2021-11-10T21:33:10.1667578Z",
              "execution_start_time": "2021-11-10T21:33:10.0204002Z",
              "livy_statement_state": "available",
              "queued_time": "2021-11-10T21:33:09.92821Z",
              "session_id": 6,
              "session_start_time": null,
              "spark_pool": "demofintaxuser",
              "state": "finished",
              "statement_id": 5
            },
            "text/plain": [
              "StatementMeta(demofintaxuser, 6, 5, Finished, Available)"
            ]
          },
          "metadata": {},
          "output_type": "display_data"
        },
        {
          "name": "stdout",
          "output_type": "stream",
          "text": [
            "      Region Country     Sector  ...      State  RoleID VAT_Variance\n",
            "1  Sur Datum   South  Financial  ...  Sur Datum    NULL       -350.0\n",
            "2    Statiso   South     Retail  ...    Statiso      20       5610.0\n",
            "3    Statiso   South     Retail  ...    Statiso    NULL       8414.0\n",
            "4  Sur Datum   South  Financial  ...  Sur Datum    NULL      -1097.0\n",
            "\n",
            "[4 rows x 8 columns]"
          ]
        }
      ],
      "source": [
        "#Create new column\n",
        "pd_df['VAT_Variance'] = pd_df['VAT_Target'] - pd_df['VAT']\n",
        "\n",
        "print(pd_df[1:5])"
      ]
    },
    {
      "cell_type": "markdown",
      "metadata": {
        "nteract": {
          "transient": {
            "deleting": false
          }
        }
      },
      "source": [
        "## Move data to Azure Data Lake Gen2\n"
      ]
    },
    {
      "cell_type": "code",
      "execution_count": 6,
      "metadata": {
        "jupyter": {
          "outputs_hidden": false,
          "source_hidden": false
        },
        "microsoft": {
          "language": "python"
        },
        "nteract": {
          "transient": {
            "deleting": false
          }
        }
      },
      "outputs": [
        {
          "data": {
            "application/vnd.livy.statement-meta+json": {
              "execution_finish_time": "2021-11-10T21:33:53.6284287Z",
              "execution_start_time": "2021-11-10T21:33:41.0702426Z",
              "livy_statement_state": "available",
              "queued_time": "2021-11-10T21:33:40.9695137Z",
              "session_id": 6,
              "session_start_time": null,
              "spark_pool": "demofintaxuser",
              "state": "finished",
              "statement_id": 6
            },
            "text/plain": [
              "StatementMeta(demofintaxuser, 6, 6, Finished, Available)"
            ]
          },
          "metadata": {},
          "output_type": "display_data"
        },
        {
          "name": "stdout",
          "output_type": "stream",
          "text": [
            "+---------+-------+---------+-------+----------+---------+------+------------+\n",
            "|   Region|Country|   Sector|    VAT|VAT_Target|    State|RoleID|VAT_Variance|\n",
            "+---------+-------+---------+-------+----------+---------+------+------------+\n",
            "|  Statiso|  South|   Retail|11564.0|   19306.0|  Statiso|  NULL|      7742.0|\n",
            "|Sur Datum|  South|Financial| 6497.0|    6147.0|Sur Datum|  NULL|      -350.0|\n",
            "|  Statiso|  South|   Retail|11620.0|   17230.0|  Statiso|    20|      5610.0|\n",
            "|  Statiso|  South|   Retail| 9963.0|   18377.0|  Statiso|  NULL|      8414.0|\n",
            "|Sur Datum|  South|Financial|16850.0|   15753.0|Sur Datum|  NULL|     -1097.0|\n",
            "+---------+-------+---------+-------+----------+---------+------+------------+\n",
            "only showing top 5 rows\n",
            "\n",
            "/opt/spark/python/lib/pyspark.zip/pyspark/sql/session.py:714: UserWarning: createDataFrame attempted Arrow optimization because 'spark.sql.execution.arrow.enabled' is set to true; however, failed by the reason below:\n",
            "  'JavaPackage' object is not callable\n",
            "Attempting non-optimization as 'spark.sql.execution.arrow.fallback.enabled' is set to true."
          ]
        }
      ],
      "source": [
        "%%pyspark\n",
        "df = spark.createDataFrame(pd_df)\n",
        "df.show(5)\n",
        "\n",
        "(df\n",
        " .coalesce(1)\n",
        " .write\n",
        " .mode(\"overwrite\")\n",
        " .option(\"header\", \"true\")\n",
        " .format(\"com.databricks.spark.csv\")\n",
        " .save('abfss://file1@#STORAGE_ACCOUNT_NAME#.dfs.core.windows.net/PublicGov-data/PublicGovData/'))"
      ]
    }
  ],
  "metadata": {
    "description": null,
    "kernelspec": {
      "display_name": "Synapse PySpark",
      "name": "synapse_pyspark"
    },
    "language_info": {
      "name": "python"
    },
    "save_output": true,
    "synapse_widget": {
      "state": {},
      "version": "0.1"
    }
  },
  "nbformat": 4,
  "nbformat_minor": 2
}
