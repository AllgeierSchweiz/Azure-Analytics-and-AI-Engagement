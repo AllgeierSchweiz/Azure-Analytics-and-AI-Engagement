{
 "cells": [
  {
   "cell_type": "code",
   "execution_count": null,
   "metadata": {
    "application/vnd.databricks.v1+cell": {
     "cellMetadata": {
      "byteLimit": 2048000,
      "rowLimit": 10000
     },
     "inputWidgets": {},
     "nuid": "cbde7ad2-b23d-45dd-93db-ee9421578007",
     "showTitle": true,
     "title": "Configs Details"
    }
   },
   "outputs": [],
   "source": [
    "ad = '#TENANT_ID#'\n",
    "sp = '#APP_ID#'\n",
    "se = '#SECRET_KEY#'"
   ]
  },
  {
   "cell_type": "code",
   "execution_count": null,
   "metadata": {
    "application/vnd.databricks.v1+cell": {
     "cellMetadata": {
      "byteLimit": 2048000,
      "rowLimit": 10000
     },
     "inputWidgets": {},
     "nuid": "a77c04fd-68d7-490f-a09e-cdfd777d055a",
     "showTitle": true,
     "title": "OneLake Path"
    }
   },
   "outputs": [],
   "source": [
    "datasource_bronze_point =\"abfss://#WORKSPACE_NAME#@onelake.dfs.fabric.microsoft.com/lakehouseBronze.Lakehouse/Files\"\n",
    "dest_mount_silver_point = \"abfss://#WORKSPACE_NAME#@onelake.dfs.fabric.microsoft.com/lakehouseSilver.Lakehouse\"\n",
    "dest_mount_gold_point = \"abfss://#WORKSPACE_NAME#@onelake.dfs.fabric.microsoft.com/lakehouseGold.Lakehouse\""
   ]
  },
  {
   "cell_type": "code",
   "execution_count": null,
   "metadata": {
    "application/vnd.databricks.v1+cell": {
     "cellMetadata": {
      "byteLimit": 2048000,
      "rowLimit": 10000
     },
     "inputWidgets": {},
     "nuid": "ee1eae36-c387-422b-8818-a64c4156e0e1",
     "showTitle": false,
     "title": ""
    }
   },
   "outputs": [],
   "source": [
    "configsonelake = {\"fs.azure.account.auth.type\": \"OAuth\",\n",
    "            \"fs.azure.account.oauth.provider.type\": \"org.apache.hadoop.fs.azurebfs.oauth2.ClientCredsTokenProvider\",\n",
    "            \"fs.azure.account.oauth2.client.id\": sp,\n",
    "           \"fs.azure.account.oauth2.client.secret\": se,\n",
    "           \"fs.azure.account.oauth2.client.endpoint\": \"https://login.microsoftonline.com/\" + ad + \"/oauth2/token\"}"
   ]
  },
  {
   "cell_type": "code",
   "execution_count": null,
   "metadata": {
    "application/vnd.databricks.v1+cell": {
     "cellMetadata": {
      "byteLimit": 2048000,
      "rowLimit": 10000
     },
     "inputWidgets": {},
     "nuid": "0466cb19-0db3-43c4-b7c5-99fd310ecf74",
     "showTitle": true,
     "title": "Mount OneLake-Lakehouse Bronze"
    }
   },
   "outputs": [
    {
     "name": "stdout",
     "output_type": "stream",
     "text": [
      "Mount point already exists.\n"
     ]
    }
   ],
   "source": [
    "if not any(mount.mountPoint == \"/mnt/datasource-onelake-bronze\" for mount in dbutils.fs.mounts()):\n",
    "    dbutils.fs.mount(\n",
    "      source = datasource_bronze_point,\n",
    "      mount_point = \"/mnt/datasource-onelake-bronze\",\n",
    "      extra_configs = configsonelake)\n",
    "else:\n",
    "    print(\"Mount point already exists.\")"
   ]
  },
  {
   "cell_type": "code",
   "execution_count": null,
   "metadata": {
    "application/vnd.databricks.v1+cell": {
     "cellMetadata": {
      "byteLimit": 2048000,
      "rowLimit": 10000
     },
     "inputWidgets": {},
     "nuid": "46b30a26-b2ba-4f9e-be80-e5cb6b28850d",
     "showTitle": true,
     "title": "Mount OneLake-Lakehouse Silver"
    }
   },
   "outputs": [
    {
     "name": "stdout",
     "output_type": "stream",
     "text": [
      "Mount point already exists.\n"
     ]
    }
   ],
   "source": [
    "if not any(mount.mountPoint == \"/mnt/OneLake_Silver/Tables\" for mount in dbutils.fs.mounts()):\n",
    "    dbutils.fs.mount(\n",
    "      source = dest_mount_silver_point,\n",
    "      mount_point = \"/mnt/OneLake_Silver/Tables\",\n",
    "      extra_configs = configsonelake)\n",
    "else:\n",
    "    print(\"Mount point already exists.\")"
   ]
  },
  {
   "cell_type": "code",
   "execution_count": null,
   "metadata": {
    "application/vnd.databricks.v1+cell": {
     "cellMetadata": {
      "byteLimit": 2048000,
      "rowLimit": 10000
     },
     "inputWidgets": {},
     "nuid": "7449055d-475e-4ed1-83b3-8560b06963ce",
     "showTitle": true,
     "title": "Mount OneLake-Lakehouse Gold"
    }
   },
   "outputs": [
    {
     "name": "stdout",
     "output_type": "stream",
     "text": [
      "Mount point already exists.\n"
     ]
    }
   ],
   "source": [
    "if not any(mount.mountPoint == \"/mnt/OneLake_Gold/Tables\" for mount in dbutils.fs.mounts()):\n",
    "    dbutils.fs.mount(\n",
    "      source = dest_mount_gold_point,\n",
    "      mount_point = \"/mnt/OneLake_Gold/Tables\",\n",
    "      extra_configs = configsonelake)\n",
    "else:\n",
    "    print(\"Mount point already exists.\")"
   ]
  },
  {
   "cell_type": "code",
   "execution_count": null,
   "metadata": {
    "application/vnd.databricks.v1+cell": {
     "cellMetadata": {
      "byteLimit": 2048000,
      "rowLimit": 10000
     },
     "inputWidgets": {},
     "nuid": "9733d9a0-4aad-44ab-b293-24effe84ce00",
     "showTitle": true,
     "title": "Lists of files in Lakehouse 'Bronze'"
    }
   },
   "outputs": [
    {
     "data": {
      "text/html": [
       "<style scoped>\n",
       "  .table-result-container {\n",
       "    max-height: 300px;\n",
       "    overflow: auto;\n",
       "  }\n",
       "  table, th, td {\n",
       "    border: 1px solid black;\n",
       "    border-collapse: collapse;\n",
       "  }\n",
       "  th, td {\n",
       "    padding: 5px;\n",
       "  }\n",
       "  th {\n",
       "    text-align: left;\n",
       "  }\n",
       "</style><div class='table-result-container'><table class='table-result'><thead style='background-color: white'><tr><th>path</th><th>name</th><th>size</th><th>modificationTime</th></tr></thead><tbody><tr><td>dbfs:/mnt/datasource-onelake-bronze/data/</td><td>data/</td><td>0</td><td>1696344797000</td></tr><tr><td>dbfs:/mnt/datasource-onelake-bronze/sales-transaction-litware/</td><td>sales-transaction-litware/</td><td>0</td><td>1696345292000</td></tr></tbody></table></div>"
      ]
     },
     "metadata": {
      "application/vnd.databricks.v1+output": {
       "addedWidgets": {},
       "aggData": [],
       "aggError": "",
       "aggOverflow": false,
       "aggSchema": [],
       "aggSeriesLimitReached": false,
       "aggType": "",
       "arguments": {},
       "columnCustomDisplayInfos": {},
       "data": [
        [
         "dbfs:/mnt/datasource-onelake-bronze/data/",
         "data/",
         0,
         1696344797000
        ],
        [
         "dbfs:/mnt/datasource-onelake-bronze/sales-transaction-litware/",
         "sales-transaction-litware/",
         0,
         1696345292000
        ]
       ],
       "datasetInfos": [],
       "dbfsResultPath": null,
       "isJsonSchema": true,
       "metadata": {
        "isDbfsCommandResult": false
       },
       "overflow": false,
       "plotOptions": {
        "customPlotOptions": {},
        "displayType": "table",
        "pivotAggregation": null,
        "pivotColumns": null,
        "xColumns": null,
        "yColumns": null
       },
       "removedWidgets": [],
       "schema": [
        {
         "metadata": "{}",
         "name": "path",
         "type": "\"string\""
        },
        {
         "metadata": "{}",
         "name": "name",
         "type": "\"string\""
        },
        {
         "metadata": "{}",
         "name": "size",
         "type": "\"long\""
        },
        {
         "metadata": "{}",
         "name": "modificationTime",
         "type": "\"long\""
        }
       ],
       "type": "table"
      }
     },
     "output_type": "display_data"
    }
   ],
   "source": [
    "%fs\n",
    "ls /mnt/datasource-onelake-bronze"
   ]
  },
  {
   "cell_type": "code",
   "execution_count": null,
   "metadata": {
    "application/vnd.databricks.v1+cell": {
     "cellMetadata": {
      "byteLimit": 2048000,
      "rowLimit": 10000
     },
     "inputWidgets": {},
     "nuid": "07bd3aee-5aac-4f05-aa95-a437875c3c90",
     "showTitle": true,
     "title": "Lists of Delta Tables in Lakehouse 'Silver'"
    }
   },
   "outputs": [
    {
     "data": {
      "text/html": [
       "<style scoped>\n",
       "  .table-result-container {\n",
       "    max-height: 300px;\n",
       "    overflow: auto;\n",
       "  }\n",
       "  table, th, td {\n",
       "    border: 1px solid black;\n",
       "    border-collapse: collapse;\n",
       "  }\n",
       "  th, td {\n",
       "    padding: 5px;\n",
       "  }\n",
       "  th {\n",
       "    text-align: left;\n",
       "  }\n",
       "</style><div class='table-result-container'><table class='table-result'><thead style='background-color: white'><tr><th>path</th><th>name</th><th>size</th><th>modificationTime</th></tr></thead><tbody><tr><td>dbfs:/mnt/OneLake_Silver/Tables/Files/</td><td>Files/</td><td>0</td><td>1696330378000</td></tr><tr><td>dbfs:/mnt/OneLake_Silver/Tables/System/</td><td>System/</td><td>0</td><td>1696330378000</td></tr><tr><td>dbfs:/mnt/OneLake_Silver/Tables/Tables/</td><td>Tables/</td><td>0</td><td>1696330378000</td></tr><tr><td>dbfs:/mnt/OneLake_Silver/Tables/WarehouseSystem/</td><td>WarehouseSystem/</td><td>0</td><td>1696330381000</td></tr></tbody></table></div>"
      ]
     },
     "metadata": {
      "application/vnd.databricks.v1+output": {
       "addedWidgets": {},
       "aggData": [],
       "aggError": "",
       "aggOverflow": false,
       "aggSchema": [],
       "aggSeriesLimitReached": false,
       "aggType": "",
       "arguments": {},
       "columnCustomDisplayInfos": {},
       "data": [
        [
         "dbfs:/mnt/OneLake_Silver/Tables/Files/",
         "Files/",
         0,
         1696330378000
        ],
        [
         "dbfs:/mnt/OneLake_Silver/Tables/System/",
         "System/",
         0,
         1696330378000
        ],
        [
         "dbfs:/mnt/OneLake_Silver/Tables/Tables/",
         "Tables/",
         0,
         1696330378000
        ],
        [
         "dbfs:/mnt/OneLake_Silver/Tables/WarehouseSystem/",
         "WarehouseSystem/",
         0,
         1696330381000
        ]
       ],
       "datasetInfos": [],
       "dbfsResultPath": null,
       "isJsonSchema": true,
       "metadata": {
        "isDbfsCommandResult": false
       },
       "overflow": false,
       "plotOptions": {
        "customPlotOptions": {},
        "displayType": "table",
        "pivotAggregation": null,
        "pivotColumns": null,
        "xColumns": null,
        "yColumns": null
       },
       "removedWidgets": [],
       "schema": [
        {
         "metadata": "{}",
         "name": "path",
         "type": "\"string\""
        },
        {
         "metadata": "{}",
         "name": "name",
         "type": "\"string\""
        },
        {
         "metadata": "{}",
         "name": "size",
         "type": "\"long\""
        },
        {
         "metadata": "{}",
         "name": "modificationTime",
         "type": "\"long\""
        }
       ],
       "type": "table"
      }
     },
     "output_type": "display_data"
    }
   ],
   "source": [
    "%fs\n",
    "ls /mnt/OneLake_Silver/Tables"
   ]
  },
  {
   "cell_type": "code",
   "execution_count": null,
   "metadata": {
    "application/vnd.databricks.v1+cell": {
     "cellMetadata": {
      "byteLimit": 2048000,
      "rowLimit": 10000
     },
     "inputWidgets": {},
     "nuid": "44351e5b-a824-46cc-afd3-01f55ace9410",
     "showTitle": true,
     "title": "Lists of Delta Tables in Lakehouse 'Gold'"
    }
   },
   "outputs": [
    {
     "data": {
      "text/html": [
       "<style scoped>\n",
       "  .table-result-container {\n",
       "    max-height: 300px;\n",
       "    overflow: auto;\n",
       "  }\n",
       "  table, th, td {\n",
       "    border: 1px solid black;\n",
       "    border-collapse: collapse;\n",
       "  }\n",
       "  th, td {\n",
       "    padding: 5px;\n",
       "  }\n",
       "  th {\n",
       "    text-align: left;\n",
       "  }\n",
       "</style><div class='table-result-container'><table class='table-result'><thead style='background-color: white'><tr><th>path</th><th>name</th><th>size</th><th>modificationTime</th></tr></thead><tbody><tr><td>dbfs:/mnt/OneLake_Gold/Tables/Files/</td><td>Files/</td><td>0</td><td>1696330398000</td></tr><tr><td>dbfs:/mnt/OneLake_Gold/Tables/System/</td><td>System/</td><td>0</td><td>1696330398000</td></tr><tr><td>dbfs:/mnt/OneLake_Gold/Tables/Tables/</td><td>Tables/</td><td>0</td><td>1696330398000</td></tr><tr><td>dbfs:/mnt/OneLake_Gold/Tables/WarehouseSystem/</td><td>WarehouseSystem/</td><td>0</td><td>1696330401000</td></tr></tbody></table></div>"
      ]
     },
     "metadata": {
      "application/vnd.databricks.v1+output": {
       "addedWidgets": {},
       "aggData": [],
       "aggError": "",
       "aggOverflow": false,
       "aggSchema": [],
       "aggSeriesLimitReached": false,
       "aggType": "",
       "arguments": {},
       "columnCustomDisplayInfos": {},
       "data": [
        [
         "dbfs:/mnt/OneLake_Gold/Tables/Files/",
         "Files/",
         0,
         1696330398000
        ],
        [
         "dbfs:/mnt/OneLake_Gold/Tables/System/",
         "System/",
         0,
         1696330398000
        ],
        [
         "dbfs:/mnt/OneLake_Gold/Tables/Tables/",
         "Tables/",
         0,
         1696330398000
        ],
        [
         "dbfs:/mnt/OneLake_Gold/Tables/WarehouseSystem/",
         "WarehouseSystem/",
         0,
         1696330401000
        ]
       ],
       "datasetInfos": [],
       "dbfsResultPath": null,
       "isJsonSchema": true,
       "metadata": {
        "isDbfsCommandResult": false
       },
       "overflow": false,
       "plotOptions": {
        "customPlotOptions": {},
        "displayType": "table",
        "pivotAggregation": null,
        "pivotColumns": null,
        "xColumns": null,
        "yColumns": null
       },
       "removedWidgets": [],
       "schema": [
        {
         "metadata": "{}",
         "name": "path",
         "type": "\"string\""
        },
        {
         "metadata": "{}",
         "name": "name",
         "type": "\"string\""
        },
        {
         "metadata": "{}",
         "name": "size",
         "type": "\"long\""
        },
        {
         "metadata": "{}",
         "name": "modificationTime",
         "type": "\"long\""
        }
       ],
       "type": "table"
      }
     },
     "output_type": "display_data"
    }
   ],
   "source": [
    "%fs\n",
    "ls /mnt/OneLake_Gold/Tables"
   ]
  },
  {
   "cell_type": "code",
   "execution_count": null,
   "metadata": {
    "application/vnd.databricks.v1+cell": {
     "cellMetadata": {
      "byteLimit": 2048000,
      "rowLimit": 10000
     },
     "inputWidgets": {},
     "nuid": "b43b9c21-2e39-44e1-bf71-eca9c2a47ebf",
     "showTitle": false,
     "title": ""
    }
   },
   "outputs": [],
   "source": [
    "#dbutils.fs.unmount('/mnt/datasource-onelake-bronze')\n",
    "#dbutils.fs.unmount('/mnt/OneLake_Silver/Tables')\n",
    "#dbutils.fs.unmount('/mnt/OneLake_Gold/Tables') "
   ]
  }
 ],
 "metadata": {
  "application/vnd.databricks.v1+notebook": {
   "dashboards": [],
   "language": "python",
   "notebookMetadata": {
    "mostRecentlyExecutedCommandWithImplicitDF": {
     "commandId": 2040590746815753,
     "dataframes": [
      "_sqldf"
     ]
    },
    "pythonIndentUnit": 4
   },
   "notebookName": "01_Setup-OneLake(Lakehouse_Bronze)Mount_With_SP.ipynb",
   "widgets": {}
  },
  "language_info": {
   "name": "python"
  }
 },
 "nbformat": 4,
 "nbformat_minor": 0
}
