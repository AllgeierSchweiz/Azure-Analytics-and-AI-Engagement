{
  "metadata": {
    "language_info": {
      "name": "python"
    },
    "sessionKeepAliveTimeout": 30
  },
  "nbformat": 4,
  "nbformat_minor": 2,
  "cells": [
   {
      "cell_type": "markdown",
      "metadata": {},
      "source": [
        "## *DISCLAIMER*\n",
        "<p style=\"font-size:16px; color:#117d30;\">\n",
        " By accessing this code, you acknowledge the code is made available for presentation and demonstration purposes only and that the code: (1) is not subject to SOC 1 and SOC 2 compliance audits; (2) is not designed or intended to be a substitute for the professional advice, diagnosis, treatment, or judgment of a certified financial services professional; (3) is not designed, intended or made available as a medical device; and (4) is not designed or intended to be a substitute for professional medical advice, diagnosis, treatment or judgement. Do not use this code to replace, substitute, or provide professional financial advice or judgment, or to replace, substitute or provide medical advice, diagnosis, treatment or judgement. You are solely responsible for ensuring the regulatory, legal, and/or contractual compliance of any use of the code, including obtaining any authorizations or consents, and any solution you choose to build that incorporates this code in whole or in part.\n",
        "</p>"
      ],
      "attachments": {}
    },
    {
      "cell_type": "markdown",
      "metadata": {},
      "source": [
        "## Initial Setup\n",
        ""
      ],
      "attachments": {}
    },
    {
      "cell_type": "markdown",
      "metadata": {},
      "source": [
        "## Please follow this documentation for finding out your api-key for your search engine.\n",
        "https://docs.microsoft.com/en-us/azure/search/search-security-api-keys\n",
        ""
      ],
      "attachments": {}
    },
    {
      "cell_type": "markdown",
      "metadata": {},
      "source": [
        "## Import all the required libraries\n",
        ""
      ],
      "attachments": {}
    },
    {
      "cell_type": "code",
      "execution_count": null,
      "outputs": [],
      "metadata": {},
      "source": [
        "import requests\n",
        "import json"
      ],
      "attachments": {}
    },
    {
      "cell_type": "markdown",
      "metadata": {},
      "source": [
        "## Define all the parameters\n",
        ""
      ],
      "attachments": {}
    },
    {
      "cell_type": "code",
      "execution_count": null,
      "outputs": [],
      "metadata": {},
      "source": [
        "# Define all the parameters\n",
        "api_key = '#SEARCH_KEY#'\n",
        "service_name = \"#SEARCH_NAME#\"\n",
        "indexer_name = \"osha-final\"\n",
        "api_version=\"2020-06-30\""
      ],
      "attachments": {}
    },
    {
      "cell_type": "markdown",
      "metadata": {},
      "source": [
        "## Making an API Call for running the indexer on demand\n",
        "The status code should be 202.\n",
        ""
      ],
      "attachments": {}
    },
    {
      "cell_type": "code",
      "execution_count": null,
      "outputs": [],
      "metadata": {},
      "source": [
        "url = f'https://{service_name}.search.windows.net/indexers/{indexer_name}/run?api-version={api_version}'\n",
        "headers = {\n",
        "    'api-key': api_key,\n",
        "    'Content-Type': 'application/json',\n",
        "}\n",
        "response = requests.post(url, headers=headers)\n",
        "print(response.status_code)"
      ],
      "attachments": {}
    }
  ]
}