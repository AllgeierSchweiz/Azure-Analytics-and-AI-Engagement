{
  "cells": [
  {
      "cell_type": "markdown",
      "source": [
        "# Disclaimer\n",
        "By accessing this code, you acknowledge the code is made available for presentation and demonstration purposes only and that the code: (1) is not subject to SOC 1 and SOC 2 compliance audits; (2) is not designed or intended to be a substitute for the professional advice, diagnosis, treatment, or judgment of a certified financial services professional; (3) is not designed, intended or made available as a medical device; and (4) is not designed or intended to be a substitute for professional medical advice, diagnosis, treatment or judgement. Do not use this code to replace, substitute, or provide professional financial advice or judgment, or to replace, substitute or provide medical advice, diagnosis, treatment or judgement. You are solely responsible for ensuring the regulatory, legal, and/or contractual compliance of any use of the code, including obtaining any authorizations or consents, and any solution you choose to build that incorporates this code in whole or in part."
      ],
      "metadata": {}
    },
    {
      "cell_type": "code",
      "source": [
        "import webvtt\n",
        "import os\n",
        "import nltk\n",
        "from nltk.corpus import stopwords\n",
        "import string\n",
        "from sklearn.feature_extraction.text import TfidfVectorizer\n",
        "from scipy.sparse import find\n",
        "from scipy.spatial.distance import cosine\n",
        "from sklearn.metrics.pairwise import cosine_similarity\n",
        "import numpy as np\n",
        "from nltk.stem import WordNetLemmatizer \n",
        "import pandas as pd"
      ],
      "outputs": [],
      "execution_count": 1,
      "metadata": {
        "gather": {
          "logged": 1613501192029
        }
      }
    },
    {
      "cell_type": "code",
      "source": [
        "# You only need to run this line once\n",
        "lemmatizer = WordNetLemmatizer() \n",
        "nltk.download(\"stopwords\")\n",
        "nltk.download('punkt')\n",
        "nltk.download('wordnet')\n",
        "nltk.download('averaged_perceptron_tagger')\n",
        "transcripts_location = os.path.join(os.getcwd(),'transcripts')\n",
        "transcripts_location"
      ],
      "outputs": [
        {
          "output_type": "stream",
          "name": "stderr",
          "text": [
            "[nltk_data] Downloading package stopwords to\n",
            "[nltk_data]     /home/azureuser/nltk_data...\n",
            "[nltk_data]   Unzipping corpora/stopwords.zip.\n",
            "[nltk_data] Downloading package punkt to /home/azureuser/nltk_data...\n",
            "[nltk_data]   Unzipping tokenizers/punkt.zip.\n",
            "[nltk_data] Downloading package wordnet to\n",
            "[nltk_data]     /home/azureuser/nltk_data...\n",
            "[nltk_data]   Unzipping corpora/wordnet.zip.\n",
            "[nltk_data] Downloading package averaged_perceptron_tagger to\n",
            "[nltk_data]     /home/azureuser/nltk_data...\n",
            "[nltk_data]   Unzipping taggers/averaged_perceptron_tagger.zip.\n"
          ]
        },
        {
          "output_type": "execute_result",
          "execution_count": 2,
          "data": {
            "text/plain": "'/mnt/batch/tasks/shared/LS_root/mounts/clusters/mediademo/code/Users/demo-mediaindexer/transcripts'"
          },
          "metadata": {}
        }
      ],
      "execution_count": 2,
      "metadata": {
        "gather": {
          "logged": 1613501193142
        }
      }
    },
    {
      "cell_type": "code",
      "source": [
        "# Define function for tokenizing documents\n",
        "def tokenize(text):\n",
        "    tokens = nltk.word_tokenize(text)\n",
        "    # tags = nltk.pos_tag(text)\n",
        "    stems = []\n",
        "    for item in tokens:\n",
        "        stems.append(nltk.PorterStemmer().stem(item))\n",
        "        # lematized = lemmatizer.lemmatize(item)\n",
        "    #print (stems)\n",
        "    return stems"
      ],
      "outputs": [],
      "execution_count": 3,
      "metadata": {
        "gather": {
          "logged": 1613501193309
        }
      }
    },
    {
      "cell_type": "code",
      "source": [
        "_,_,file_names = next(os.walk(transcripts_location))\n",
        "transcript_files = {}\n",
        "raw_text = []\n",
        "file_index_mapping = {}\n",
        "original_transcript = []\n",
        "index = 0\n",
        "for fname in file_names:\n",
        "    transcript = os.path.join(transcripts_location,fname)\n",
        "    text = '' \n",
        "    for captions in webvtt.read(transcript): \n",
        "        text = text + ' ' + captions.text\n",
        "    words = text.split()\n",
        "    transcript_files[fname] = words\n",
        "    raw_text.append(words)\n",
        "    original_transcript.append(text)\n",
        "    file_index_mapping[index] = fname\n",
        "    index = index+1"
      ],
      "outputs": [],
      "execution_count": 4,
      "metadata": {
        "gather": {
          "logged": 1613501193810
        }
      }
    },
    {
      "cell_type": "code",
      "source": [
        "# Remove stopwords from the corpus\n",
        "stopwords_english = stopwords.words('english')\n",
        "\n",
        "for i in range(len(raw_text)):\n",
        "    raw_text[i] = [word.lower() for word in raw_text[i]]\n",
        "    raw_text[i] = [word for word in raw_text[i] if word not in string.punctuation]\n",
        "    raw_text[i] = [word for word in raw_text[i] if word not in stopwords_english]\n",
        "    corresponding_file = file_index_mapping[i]\n",
        "    transcript_files[corresponding_file] = raw_text[i]\n",
        "raw_text = [' '.join(i) for i in raw_text]\n",
        "# text_df = text_df.rename(columns={0:\"Transcript\"})\n",
        "# text_df['Name'] = transcript_files.keys()\n",
        "# text_df = text_df.set_index('Name')"
      ],
      "outputs": [],
      "execution_count": 5,
      "metadata": {
        "gather": {
          "logged": 1613501194029
        }
      }
    },
    {
      "cell_type": "code",
      "source": [
        "tfidf = TfidfVectorizer(tokenizer=tokenize)\n",
        "video_tfidf = tfidf.fit_transform(raw_text)"
      ],
      "outputs": [],
      "execution_count": 6,
      "metadata": {
        "gather": {
          "logged": 1613501194183
        }
      }
    },
    {
      "cell_type": "code",
      "source": [
        "cos_sim = cosine_similarity(video_tfidf, video_tfidf) \n",
        "cos_sim[1]"
      ],
      "outputs": [
        {
          "output_type": "execute_result",
          "execution_count": 7,
          "data": {
            "text/plain": "array([0.30085629, 1.        , 0.35033709, 0.32551995, 0.30104254,\n       0.24232403, 0.23522395, 0.29497551, 0.29244448, 0.25126093,\n       0.27271283, 0.29541464, 0.21819794, 0.        , 0.29569872,\n       0.22034301, 0.20746902, 0.25595316, 0.29272317, 0.28113713])"
          },
          "metadata": {}
        }
      ],
      "execution_count": 7,
      "metadata": {
        "gather": {
          "logged": 1613501194344
        }
      }
    },
    {
      "cell_type": "code",
      "source": [
        "cos_sim"
      ],
      "outputs": [
        {
          "output_type": "execute_result",
          "execution_count": 8,
          "data": {
            "text/plain": "array([[1.        , 0.30085629, 0.40716687, 0.37959107, 0.31846248,\n        0.36651929, 0.28148613, 0.33283196, 0.31771419, 0.35003581,\n        0.353921  , 0.32560239, 0.23050719, 0.        , 0.34291042,\n        0.27034158, 0.23972531, 0.28328704, 0.35955563, 0.35430028],\n       [0.30085629, 1.        , 0.35033709, 0.32551995, 0.30104254,\n        0.24232403, 0.23522395, 0.29497551, 0.29244448, 0.25126093,\n        0.27271283, 0.29541464, 0.21819794, 0.        , 0.29569872,\n        0.22034301, 0.20746902, 0.25595316, 0.29272317, 0.28113713],\n       [0.40716687, 0.35033709, 1.        , 0.66707715, 0.46774908,\n        0.42825236, 0.38415916, 0.51462359, 0.467955  , 0.41069052,\n        0.48326853, 0.39749981, 0.39957707, 0.        , 0.4728905 ,\n        0.35522039, 0.38886387, 0.32923308, 0.4713265 , 0.60785704],\n       [0.37959107, 0.32551995, 0.66707715, 1.        , 0.43404526,\n        0.38231549, 0.33982094, 0.46730646, 0.41767856, 0.37570504,\n        0.42138429, 0.33941949, 0.34488915, 0.        , 0.4270028 ,\n        0.30522174, 0.47365381, 0.32229168, 0.41848898, 0.59710935],\n       [0.31846248, 0.30104254, 0.46774908, 0.43404526, 1.        ,\n        0.39747095, 0.29269715, 0.42230556, 0.38691853, 0.34473565,\n        0.39507048, 0.30600476, 0.30571721, 0.        , 0.37814969,\n        0.26409776, 0.25324815, 0.27742926, 0.36729069, 0.36742766],\n       [0.36651929, 0.24232403, 0.42825236, 0.38231549, 0.39747095,\n        1.        , 0.278448  , 0.35124275, 0.33187249, 0.31352941,\n        0.35170119, 0.28771474, 0.30261915, 0.        , 0.38077574,\n        0.28920798, 0.28355411, 0.29380734, 0.36252103, 0.36125995],\n       [0.28148613, 0.23522395, 0.38415916, 0.33982094, 0.29269715,\n        0.278448  , 1.        , 0.29311745, 0.26049897, 0.28642139,\n        0.24467419, 0.210583  , 0.28214517, 0.        , 0.29900796,\n        0.20437004, 0.21368168, 0.24055073, 0.27470186, 0.30501463],\n       [0.33283196, 0.29497551, 0.51462359, 0.46730646, 0.42230556,\n        0.35124275, 0.29311745, 1.        , 0.37192292, 0.30713128,\n        0.33242807, 0.33244082, 0.28374542, 0.        , 0.38173141,\n        0.30909338, 0.25790566, 0.28707596, 0.37639818, 0.37969187],\n       [0.31771419, 0.29244448, 0.467955  , 0.41767856, 0.38691853,\n        0.33187249, 0.26049897, 0.37192292, 1.        , 0.35853639,\n        0.34763083, 0.37750432, 0.29036882, 0.        , 0.39422946,\n        0.25180661, 0.25881064, 0.24649498, 0.33101376, 0.38919369],\n       [0.35003581, 0.25126093, 0.41069052, 0.37570504, 0.34473565,\n        0.31352941, 0.28642139, 0.30713128, 0.35853639, 1.        ,\n        0.3142255 , 0.26796564, 0.2665858 , 0.        , 0.29891703,\n        0.26619169, 0.23710412, 0.33794311, 0.31392533, 0.35405848],\n       [0.353921  , 0.27271283, 0.48326853, 0.42138429, 0.39507048,\n        0.35170119, 0.24467419, 0.33242807, 0.34763083, 0.3142255 ,\n        1.        , 0.32364435, 0.25287011, 0.        , 0.40223834,\n        0.27401986, 0.30441585, 0.28264441, 0.3761011 , 0.44037811],\n       [0.32560239, 0.29541464, 0.39749981, 0.33941949, 0.30600476,\n        0.28771474, 0.210583  , 0.33244082, 0.37750432, 0.26796564,\n        0.32364435, 1.        , 0.21051403, 0.        , 0.38960389,\n        0.22894689, 0.25583628, 0.17728035, 0.40445096, 0.36418935],\n       [0.23050719, 0.21819794, 0.39957707, 0.34488915, 0.30571721,\n        0.30261915, 0.28214517, 0.28374542, 0.29036882, 0.2665858 ,\n        0.25287011, 0.21051403, 1.        , 0.        , 0.24468313,\n        0.27513314, 0.23420055, 0.22415964, 0.26326815, 0.32144405],\n       [0.        , 0.        , 0.        , 0.        , 0.        ,\n        0.        , 0.        , 0.        , 0.        , 0.        ,\n        0.        , 0.        , 0.        , 0.        , 0.        ,\n        0.        , 0.        , 0.        , 0.        , 0.        ],\n       [0.34291042, 0.29569872, 0.4728905 , 0.4270028 , 0.37814969,\n        0.38077574, 0.29900796, 0.38173141, 0.39422946, 0.29891703,\n        0.40223834, 0.38960389, 0.24468313, 0.        , 1.        ,\n        0.25902276, 0.27649373, 0.25814426, 0.41339874, 0.40967586],\n       [0.27034158, 0.22034301, 0.35522039, 0.30522174, 0.26409776,\n        0.28920798, 0.20437004, 0.30909338, 0.25180661, 0.26619169,\n        0.27401986, 0.22894689, 0.27513314, 0.        , 0.25902276,\n        1.        , 0.16299561, 0.19156695, 0.25184306, 0.2892417 ],\n       [0.23972531, 0.20746902, 0.38886387, 0.47365381, 0.25324815,\n        0.28355411, 0.21368168, 0.25790566, 0.25881064, 0.23710412,\n        0.30441585, 0.25583628, 0.23420055, 0.        , 0.27649373,\n        0.16299561, 1.        , 0.25481905, 0.32239819, 0.49090295],\n       [0.28328704, 0.25595316, 0.32923308, 0.32229168, 0.27742926,\n        0.29380734, 0.24055073, 0.28707596, 0.24649498, 0.33794311,\n        0.28264441, 0.17728035, 0.22415964, 0.        , 0.25814426,\n        0.19156695, 0.25481905, 1.        , 0.28514457, 0.30213294],\n       [0.35955563, 0.29272317, 0.4713265 , 0.41848898, 0.36729069,\n        0.36252103, 0.27470186, 0.37639818, 0.33101376, 0.31392533,\n        0.3761011 , 0.40445096, 0.26326815, 0.        , 0.41339874,\n        0.25184306, 0.32239819, 0.28514457, 1.        , 0.39355972],\n       [0.35430028, 0.28113713, 0.60785704, 0.59710935, 0.36742766,\n        0.36125995, 0.30501463, 0.37969187, 0.38919369, 0.35405848,\n        0.44037811, 0.36418935, 0.32144405, 0.        , 0.40967586,\n        0.2892417 , 0.49090295, 0.30213294, 0.39355972, 1.        ]])"
          },
          "metadata": {}
        }
      ],
      "execution_count": 8,
      "metadata": {
        "gather": {
          "logged": 1613501194614
        }
      }
    },
    {
      "cell_type": "code",
      "source": [
        "def recomender(index,similarity = cos_sim,topk=3):\n",
        "    # sims = pd.DataFrame(similarity[index])\n",
        "    recommended = []\n",
        "    inds = np.argsort(-1*cos_sim[index])[:topk+1]     \n",
        "    for i in inds: \n",
        "        recommended.append(file_index_mapping[i])\n",
        "    return recommended[1:]\n"
      ],
      "outputs": [],
      "execution_count": 9,
      "metadata": {
        "gather": {
          "logged": 1613501194767
        }
      }
    },
    {
      "cell_type": "code",
      "source": [
        "id_to_search = 19    # Change this to change the video \n",
        "print(\"Video that is being used to recommend: \", file_index_mapping[id_to_search])\n",
        "recomendations = recomender(id_to_search)\n",
        "recomendations"
      ],
      "outputs": [
        {
          "output_type": "stream",
          "name": "stdout",
          "text": [
            "Video that is being used to recommend:  What_is_Azure_Synapse_Analytics-_Generally_Available_Today..vtt\n"
          ]
        },
        {
          "output_type": "execute_result",
          "execution_count": 10,
          "data": {
            "text/plain": "['Azure_Synapse_Analytics_-_Introduction_to_Azure_Purview.vtt',\n 'Azure_Synapse_Analytics_Now_in_GA_and_the_Public_Preview_of_Azure_Purview.vtt',\n 'Shape_Your_Future_with_Azure_Data_and_Analytics.vtt']"
          },
          "metadata": {}
        }
      ],
      "execution_count": 10,
      "metadata": {
        "gather": {
          "logged": 1613501194940
        }
      }
    },
    {
      "cell_type": "code",
      "source": [
        "import pandas as pd \n",
        "pd.DataFrame(cos_sim).to_csv(\"similarity.csv\")"
      ],
      "outputs": [],
      "execution_count": 11,
      "metadata": {
        "gather": {
          "logged": 1613501195124
        }
      }
    },
    {
      "cell_type": "code",
      "source": [],
      "outputs": [],
      "execution_count": null,
      "metadata": {}
    }
  ],
  "metadata": {
    "kernelspec": {
      "name": "python3",
      "language": "python",
      "display_name": "Python 3"
    },
    "language_info": {
      "name": "python",
      "version": "3.6.9",
      "mimetype": "text/x-python",
      "codemirror_mode": {
        "name": "ipython",
        "version": 3
      },
      "pygments_lexer": "ipython3",
      "nbconvert_exporter": "python",
      "file_extension": ".py"
    },
    "kernel_info": {
      "name": "python3"
    },
    "nteract": {
      "version": "nteract-front-end@1.0.0"
    },
    "microsoft": {
      "host": {
        "AzureML": {
          "notebookHasBeenCompleted": true
        }
      }
    }
  },
  "nbformat": 4,
  "nbformat_minor": 2
}