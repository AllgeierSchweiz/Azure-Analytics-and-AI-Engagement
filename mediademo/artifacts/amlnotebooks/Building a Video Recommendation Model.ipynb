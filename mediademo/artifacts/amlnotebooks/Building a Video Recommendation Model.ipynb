{
  "cells": [
    {
      "cell_type": "markdown",
      "source": [
        "# Building a Video Recommender Model\n",
        "### This notebook builds a video recommendation model using video transcripts"
      ],
      "metadata": {}
    },
    {
      "cell_type": "markdown",
      "source": [
        "#### Importing required libraries"
      ],
      "metadata": {}
    },
    {
      "cell_type": "code",
      "source": [
        "import os\n",
        "import nltk\n",
        "from nltk.corpus import stopwords\n",
        "import string\n",
        "from sklearn.feature_extraction.text import TfidfVectorizer\n",
        "from scipy.sparse import find\n",
        "from scipy.spatial.distance import cosine\n",
        "from sklearn.metrics.pairwise import cosine_similarity\n",
        "import numpy as np\n",
        "import json\n",
        "from nltk.stem import WordNetLemmatizer \n",
        "import pandas as pd"
      ],
      "outputs": [],
      "execution_count": 1,
      "metadata": {
        "gather": {
          "logged": 1615406149988
        }
      }
    },
    {
      "cell_type": "markdown",
      "source": [
        "#### Downloading required datasets for cleaning our data"
      ],
      "metadata": {}
    },
    {
      "cell_type": "code",
      "source": [
        "# You only need to run this line once\n",
        "nltk.download(\"stopwords\")\n",
        "nltk.download('punkt')\n",
        "nltk.download('wordnet')\n",
        "nltk.download('averaged_perceptron_tagger')\n",
        "transcripts_location = os.path.join(os.getcwd(),'video_files')\n",
        "transcripts_location"
      ],
      "outputs": [
        {
          "output_type": "stream",
          "name": "stderr",
          "text": [
            "[nltk_data] Downloading package stopwords to\n",
            "[nltk_data]     /home/azureuser/nltk_data...\n",
            "[nltk_data]   Package stopwords is already up-to-date!\n",
            "[nltk_data] Downloading package punkt to /home/azureuser/nltk_data...\n",
            "[nltk_data]   Package punkt is already up-to-date!\n",
            "[nltk_data] Downloading package wordnet to\n",
            "[nltk_data]     /home/azureuser/nltk_data...\n",
            "[nltk_data]   Package wordnet is already up-to-date!\n",
            "[nltk_data] Downloading package averaged_perceptron_tagger to\n",
            "[nltk_data]     /home/azureuser/nltk_data...\n",
            "[nltk_data]   Package averaged_perceptron_tagger is already up-to-\n",
            "[nltk_data]       date!\n"
          ]
        },
        {
          "output_type": "execute_result",
          "execution_count": 2,
          "data": {
            "text/plain": "'/mnt/batch/tasks/shared/LS_root/mounts/clusters/mediademo/code/Users/demo-mediaindexer/video_files'"
          },
          "metadata": {}
        }
      ],
      "execution_count": 2,
      "metadata": {
        "gather": {
          "logged": 1615406150358
        }
      }
    },
    {
      "cell_type": "markdown",
      "source": [
        "#### Define function for tokenizing documents"
      ],
      "metadata": {}
    },
    {
      "cell_type": "code",
      "source": [
        "def tokenize(text):\n",
        "    tokens = nltk.word_tokenize(text)\n",
        "    stems = []\n",
        "    for item in tokens:\n",
        "        stems.append(nltk.PorterStemmer().stem(item))\n",
        "    return stems"
      ],
      "outputs": [],
      "execution_count": 3,
      "metadata": {
        "gather": {
          "logged": 1615406150469
        }
      }
    },
    {
      "cell_type": "markdown",
      "source": [
        "#### Indexing all files with video data "
      ],
      "metadata": {}
    },
    {
      "cell_type": "code",
      "source": [
        "_,_,file_names = next(os.walk(transcripts_location))\n",
        "transcript_files = {}\n",
        "raw_text = []\n",
        "file_index_mapping = {}\n",
        "original_transcript = []\n",
        "ids = []\n",
        "\n",
        "# Going over all files in the chosen directory\n",
        "for fname in file_names:\n",
        "    json_file = os.path.join(transcripts_location,fname)\n",
        "    text = '' \n",
        "    \n",
        "    with open(json_file) as f: \n",
        "        json_obj = json.load(f)\n",
        "\n",
        "    text = json_obj['transcript']\n",
        "    words = text.split()\n",
        "    transcript_files[fname] = words\n",
        "    raw_text.append(words)\n",
        "    original_transcript.append(text)\n",
        "    file_index_mapping[json_obj['video_id']] = fname\n",
        "    ids.append(json_obj['video_id'])"
      ],
      "outputs": [],
      "execution_count": 4,
      "metadata": {
        "gather": {
          "logged": 1615406151284
        }
      }
    },
    {
      "cell_type": "markdown",
      "source": [
        "#### Remove stopwords from the corpus"
      ],
      "metadata": {}
    },
    {
      "cell_type": "code",
      "source": [
        "stopwords_english = stopwords.words('english')\n",
        "\n",
        "# Removing stop words from video transcripts\n",
        "for i in range(len(ids)):\n",
        "    raw_text[i] = [word.lower() for word in raw_text[i]]\n",
        "    raw_text[i] = [word for word in raw_text[i] if word not in string.punctuation]\n",
        "    raw_text[i] = [word for word in raw_text[i] if word not in stopwords_english]\n",
        "    corresponding_file = file_index_mapping[ids[i]]\n",
        "    transcript_files[corresponding_file] = raw_text[i]\n",
        "raw_text = [' '.join(i) for i in raw_text]\n"
      ],
      "outputs": [],
      "execution_count": 5,
      "metadata": {
        "gather": {
          "logged": 1615406151620
        }
      }
    },
    {
      "cell_type": "markdown",
      "source": [
        "#### Building the model using video transcript data"
      ],
      "metadata": {}
    },
    {
      "cell_type": "code",
      "source": [
        "tfidf = TfidfVectorizer(tokenizer=tokenize)\n",
        "video_tfidf = tfidf.fit_transform(raw_text)\n",
        "cos_sim = cosine_similarity(video_tfidf, video_tfidf) \n",
        "cos_sim.shape"
      ],
      "outputs": [
        {
          "output_type": "execute_result",
          "execution_count": 6,
          "data": {
            "text/plain": "(100, 100)"
          },
          "metadata": {}
        }
      ],
      "execution_count": 6,
      "metadata": {
        "gather": {
          "logged": 1615406154402
        }
      }
    },
    {
      "cell_type": "markdown",
      "source": [
        "#### Defining recommmender function"
      ],
      "metadata": {}
    },
    {
      "cell_type": "code",
      "source": [
        "def recomender(index,similarity = cos_sim,topk=5):\n",
        "    recommended = []\n",
        "    inds = np.argsort(-1*cos_sim[index])[:topk+1]     \n",
        "    for i in inds: \n",
        "        recommended.append(file_index_mapping[ids[i]])\n",
        "    return recommended[1:]\n"
      ],
      "outputs": [],
      "execution_count": 7,
      "metadata": {
        "gather": {
          "logged": 1615406154462
        }
      }
    },
    {
      "cell_type": "markdown",
      "source": [
        "#### Testing recommender model"
      ],
      "metadata": {}
    },
    {
      "cell_type": "code",
      "source": [
        "id_to_search = \"142ff2d9ee\"    # Change this to change the video being searched\n",
        "index_in_list = ids.index(id_to_search) \n",
        "print(\"Video that is being used to recommend: \", file_index_mapping[id_to_search])\n",
        "recomendations = recomender(index_in_list)\n",
        "recomendations"
      ],
      "outputs": [
        {
          "output_type": "stream",
          "name": "stdout",
          "text": [
            "Video that is being used to recommend:  142ff2d9ee.json\n"
          ]
        },
        {
          "output_type": "execute_result",
          "execution_count": 8,
          "data": {
            "text/plain": "['fa037522de.json',\n 'c09058fc83.json',\n '0c50dddfb4.json',\n 'bf7a658f13.json',\n '55d2981fbb.json']"
          },
          "metadata": {}
        }
      ],
      "execution_count": 8,
      "metadata": {
        "collapsed": true,
        "jupyter": {
          "source_hidden": false,
          "outputs_hidden": false
        },
        "nteract": {
          "transient": {
            "deleting": false
          }
        },
        "gather": {
          "logged": 1615406154727
        }
      }
    },
    {
      "cell_type": "markdown",
      "source": [
        "#### Exporting model to a file"
      ],
      "metadata": {}
    },
    {
      "cell_type": "code",
      "source": [
        "pd.DataFrame(cos_sim).to_csv('similarity.csv',header=ids,index=False)"
      ],
      "outputs": [],
      "execution_count": 9,
      "metadata": {
        "gather": {
          "logged": 1615406154787
        }
      }
    }
  ],
  "metadata": {
    "kernel_info": {
      "name": "python3"
    },
    "kernelspec": {
      "name": "python3",
      "language": "python",
      "display_name": "Python 3"
    },
    "language_info": {
      "name": "python",
      "version": "3.6.9",
      "mimetype": "text/x-python",
      "codemirror_mode": {
        "name": "ipython",
        "version": 3
      },
      "pygments_lexer": "ipython3",
      "nbconvert_exporter": "python",
      "file_extension": ".py"
    },
    "nteract": {
      "version": "nteract-front-end@1.0.0"
    },
    "microsoft": {
      "host": {
        "AzureML": {
          "notebookHasBeenCompleted": true
        }
      }
    }
  },
  "nbformat": 4,
  "nbformat_minor": 2
}