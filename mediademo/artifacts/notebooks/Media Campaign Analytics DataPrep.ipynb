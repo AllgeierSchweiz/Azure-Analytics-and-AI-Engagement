{
  "nbformat": 4,
  "nbformat_minor": 2,
  "cells": [
    {
      "cell_type": "markdown",
      "metadata": {},
      "source": [
        "## *****For Demonstration purpose only, Please customize as per your enterprise security needs and compliances*****  "
      ],
      "attachments": {}
    },
    {
      "cell_type": "markdown",
      "metadata": {},
      "source": [
        "## Please don't run / don't click \"Run all\" the notebook:\n",
        "At the time of writing of this document, the current core limit is 200 cores per workspace and depending upon number of concurrent users, you may end up with core capacity being exceeded or maximum number of parallel jobs being exceeded error. \n",
        "## Fetch Marketing Campaigns data into DataFrame and Calculate Revenue Variance        "
      ],
      "attachments": {}
    },
    {
      "cell_type": "code",
      "execution_count": 1,
      "outputs": [
        {
          "output_type": "execute_result",
          "data": {
            "application/json": {
              "table": {
                "rows": [
                  {
                    "RoleID": "NULL",
                    "Country": "US",
                    "Region": "South East",
                    "Revenue": "$11,564.00 ",
                    "Revenue_Target": "$19,306.00 ",
                    "Campaign_Name": "Patient Stories",
                    "City": "Miami",
                    "State": "Florida"
                  },
                  {
                    "RoleID": "NULL",
                    "Country": "US",
                    "Region": "Southern California",
                    "Revenue": "$6,497.00 ",
                    "Revenue_Target": "$6,147.00 ",
                    "Campaign_Name": "For Your Life",
                    "City": "Los Angeles",
                    "State": "California"
                  },
                  {
                    "RoleID": "20",
                    "Country": "US",
                    "Region": "South East",
                    "Revenue": "$11,620.00 ",
                    "Revenue_Target": "$17,230.00 ",
                    "Campaign_Name": "Hit the track",
                    "City": "Miami",
                    "State": "Florida"
                  },
                  {
                    "RoleID": "NULL",
                    "Country": "US",
                    "Region": "South East",
                    "Revenue": "$9,963.00 ",
                    "Revenue_Target": "$18,377.00 ",
                    "Campaign_Name": "Patient Stories",
                    "City": "Miami",
                    "State": "Florida"
                  },
                  {
                    "RoleID": "NULL",
                    "Country": "US",
                    "Region": "Southern California",
                    "Revenue": "$16,850.00 ",
                    "Revenue_Target": "$15,753.00 ",
                    "Campaign_Name": "For Your Life",
                    "City": "Los Angeles",
                    "State": "California"
                  },
                  {
                    "RoleID": "20",
                    "Country": "US",
                    "Region": "South East",
                    "Revenue": "$5,333.00 ",
                    "Revenue_Target": "$7,346.00 ",
                    "Campaign_Name": "Hit the track",
                    "City": "Miami",
                    "State": "Florida"
                  },
                  {
                    "RoleID": "NULL",
                    "Country": "US",
                    "Region": "South East",
                    "Revenue": "$17,488.00 ",
                    "Revenue_Target": "$9,941.00 ",
                    "Campaign_Name": "Patient Stories",
                    "City": "Miami",
                    "State": "Florida"
                  },
                  {
                    "RoleID": "NULL",
                    "Country": "US",
                    "Region": "Southern California",
                    "Revenue": "$7,264.00 ",
                    "Revenue_Target": "$9,868.00 ",
                    "Campaign_Name": "For Your Life",
                    "City": "Los Angeles",
                    "State": "California"
                  },
                  {
                    "RoleID": "20",
                    "Country": "US",
                    "Region": "South East",
                    "Revenue": "$14,114.00 ",
                    "Revenue_Target": "$15,482.00 ",
                    "Campaign_Name": "Hit the track",
                    "City": "Miami",
                    "State": "Florida"
                  },
                  {
                    "RoleID": "NULL",
                    "Country": "US",
                    "Region": "South East",
                    "Revenue": "$8,628.00 ",
                    "Revenue_Target": "$12,622.00 ",
                    "Campaign_Name": "Patient Stories",
                    "City": "Miami",
                    "State": "Florida"
                  }
                ],
                "schema": {
                  "Region": "string",
                  "Country": "string",
                  "Campaign_Name": "string",
                  "Revenue": "string",
                  "Revenue_Target": "string",
                  "City": "string",
                  "State": "string",
                  "RoleID": "string"
                }
              },
              "isSummary": false,
              "language": "scala"
            }
          },
          "execution_count": 1,
          "metadata": {}
        }
      ],
      "metadata": {
        "diagram": {
          "activateDiagramType": 1,
          "chartConfig": {
            "category": "bar",
            "keys": [
              "Region"
            ],
            "values": [
              "Region"
            ],
            "yLabel": "Region",
            "xLabel": "Region",
            "aggregation": "COUNT",
            "aggByBackend": false
          },
          "aggData": "{\"Region\":{\"South East\":7,\"Southern California\":3}}",
          "isSummary": false,
          "previewData": {
            "filter": null
          },
          "isSql": false
        }
      },
      "source": [
        "%%pyspark\n",
        "data_path = spark.read.load('abfss://marketing-data@#STORAGE_ACCOUNT_NAME#.dfs.core.windows.net/CampaignData.csv', format='csv',header=True)\n",
        "display(data_path.limit(10))"
      ],
      "attachments": {}
    },
    {
      "cell_type": "markdown",
      "metadata": {},
      "source": [
        "## Load into Pandas and Perform Cleansing Operations\n",
        ""
      ],
      "attachments": {}
    },
    {
      "cell_type": "code",
      "execution_count": 2,
      "outputs": [],
      "metadata": {},
      "source": [
        "%%pyspark\n",
        "from pyspark.sql.functions import *\n",
        "from pyspark.sql.types import *\n",
        "\n",
        "import numpy as np\n",
        "\n",
        "pd_df = data_path.select(\"*\").toPandas()\n",
        "\n",
        "'''Cleansing Operations: \n",
        "1. Columns Revenue, Revenue_Target: Remove '$' symbol and convert datatype to float\n",
        "2. Columns Revenue, Revenue_Target: Replace null values with 0\n",
        "3. Columns Region, Country, Product_Category, Campaign_Name: Convert columns to Camel Case\n",
        "'''\n",
        "pd_df['Revenue']= pd_df['Revenue'].replace('[\\$,]', '', regex=True).astype(float)\n",
        "pd_df['Revenue_Target']= pd_df['Revenue_Target'].replace('[\\$,]', '', regex=True).astype(float)\n",
        "pd_df['Revenue'].fillna(value=0, inplace=True)\n",
        "pd_df['Revenue_Target'].fillna(value=0, inplace=True)\n",
        "\n",
        "pd_df['Region'] = pd_df.Region.str.title()\n",
        "pd_df['Country'] = pd_df.Country.str.title()\n",
        "\n",
        "pd_df['Campaign_Name'] = pd_df.Campaign_Name.str.title()"
      ],
      "attachments": {}
    },
    {
      "cell_type": "markdown",
      "metadata": {},
      "source": [
        "## Data Transformation - Calculate Revenue Variance\n",
        ""
      ],
      "attachments": {}
    },
    {
      "cell_type": "code",
      "execution_count": 3,
      "outputs": [
        {
          "output_type": "execute_result",
          "data": {
            "text/plain": "Region Country  ... RoleID  Revenue_Variance\n1  Southern California      Us  ...   NULL            -350.0\n2           South East      Us  ...     20            5610.0\n3           South East      Us  ...   NULL            8414.0\n4  Southern California      Us  ...   NULL           -1097.0\n\n[4 rows x 9 columns]"
          },
          "execution_count": 3,
          "metadata": {}
        }
      ],
      "metadata": {},
      "source": [
        "#Create new column\n",
        "pd_df['Revenue_Variance'] = pd_df['Revenue_Target'] - pd_df['Revenue']\n",
        "\n",
        "print(pd_df[1:5])"
      ],
      "attachments": {}
    },
    {
      "cell_type": "markdown",
      "metadata": {},
      "source": [
        "## Move data to Azure Data Lake Gen2\n",
        ""
      ],
      "attachments": {}
    },
    {
      "cell_type": "code",
      "execution_count": 5,
      "outputs": [
        {
          "output_type": "execute_result",
          "data": {
            "text/plain": "+-------------------+-------+---------------+-------+--------------+-----------+----------+------+----------------+\n|             Region|Country|  Campaign_Name|Revenue|Revenue_Target|       City|     State|RoleID|Revenue_Variance|\n+-------------------+-------+---------------+-------+--------------+-----------+----------+------+----------------+\n|         South East|     Us|Patient Stories|11564.0|       19306.0|      Miami|   Florida|  NULL|          7742.0|\n|Southern California|     Us|  For Your Life| 6497.0|        6147.0|Los Angeles|California|  NULL|          -350.0|\n|         South East|     Us|  Hit The Track|11620.0|       17230.0|      Miami|   Florida|    20|          5610.0|\n|         South East|     Us|Patient Stories| 9963.0|       18377.0|      Miami|   Florida|  NULL|          8414.0|\n|Southern California|     Us|  For Your Life|16850.0|       15753.0|Los Angeles|California|  NULL|         -1097.0|\n+-------------------+-------+---------------+-------+--------------+-----------+----------+------+----------------+\nonly showing top 5 rows"
          },
          "execution_count": 5,
          "metadata": {}
        }
      ],
      "metadata": {},
      "source": [
        "%%pyspark\n",
        "df = spark.createDataFrame(pd_df)\n",
        "df.show(5)\n",
        "\n",
        "(df\n",
        " .coalesce(1)\n",
        " .write\n",
        " .mode(\"overwrite\")\n",
        " .option(\"header\", \"true\")\n",
        " .format(\"com.databricks.spark.csv\")\n",
        " .save('abfss://marketing-data@mediademostorage.dfs.core.windows.net/Campaignsdata'))"
      ],
      "attachments": {}
    }
  ],
  "metadata": {
    "save_output": true,
    "language_info": {
      "name": "python"
    }
  }
}