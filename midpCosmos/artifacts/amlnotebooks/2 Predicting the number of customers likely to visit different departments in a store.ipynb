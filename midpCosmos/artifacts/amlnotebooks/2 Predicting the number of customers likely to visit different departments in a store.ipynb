{
  "cells": [
    {
      "cell_type": "markdown",
      "source": [
        "**Important - Do not use in production, for demonstration purposes only - please review the legal notices before continuing**"
      ],
      "metadata": {
        "nteract": {
          "transient": {
            "deleting": false
          }
        }
      }
    },
    {
      "cell_type": "markdown",
      "source": [
        "<p style=\"font-size:25px; color:black;\"><b>Predicting the number of customers likely to visit different departments in a store</b></i></u></p>\n",
        "<p style=\"font-size:16px; color:#117d30;\">\n",
        "    Time series forecasting is used on a model to predict future values based on previously observed values.\n",
        "The AutoML feature of Azure ML, in this case uses more than 25 time series forecasting machine learning algorithms to predicts how many customers are likely to visit different departments in a store.\n",
        "\n",
        "<p style=\"font-size:15px; color:#117d30;\">\n",
        "    <u> Abstract: </u>\n",
        "</p>\n",
        "</p>\n",
        "<p style=\"font-size:16px; color:#117d30;\">\n",
        "1) Exploratory Data Analysis \n",
        "</p>\n",
        "<p style=\"font-size:15px; color:#117d30;\">\n",
        "2) Training more than 25 time series forecasting machine learning algorithms.\n",
        "</p>\n",
        "<p style=\"font-size:15px; color:#117d30;\">\n",
        "3) Predict the number of customers likely to visit different departments in a store by choosing the best performing Machine Learning Algorithm.\n",
        "</p>\n"
      ],
      "metadata": {}
    },
    {
      "cell_type": "markdown",
      "source": [
        "## Introduction\n",
        "<p style=\"font-size:16px; color:#117d30;\">\n",
        "\n",
        "\n",
        "### In this notebook we showcased how to:\n",
        "<p style=\"font-size:16px; color:#117d30;\">\n",
        "1. Create an experiment using an existing workspace\n",
        "\n",
        "<p style=\"font-size:16px; color:#117d30;\">\n",
        "2. Configure AutoML using 'AutoMLConfig'\n",
        "\n",
        "<p style=\"font-size:16px; color:#117d30;\">\n",
        "3. Train the model \n",
        "\n",
        "<p style=\"font-size:16px; color:#117d30;\">\n",
        "4. Explore the engineered features and results\n",
        "\n",
        "<p style=\"font-size:16px; color:#117d30;\">\n",
        "5. Configure and remote run AutoML for a time-series model with lag and rolling window features\n",
        "\n",
        "<p style=\"font-size:16px; color:#117d30;\">\n",
        "6. Run and explore the forecast\n",
        "\n",
        "<p style=\"font-size:16px; color:#117d30;\">\n",
        "7. Register the model\n",
        "\n",
        "\n",
        "\n"
      ],
      "metadata": {}
    },
    {
      "cell_type": "markdown",
      "source": [
        "### Importing required libraries such as azureml, pandas, and other supporting libraries.\n",
        "\n"
      ],
      "metadata": {}
    },
    {
      "cell_type": "code",
      "source": [
        "#%pip install certifi==2022.9.24"
      ],
      "outputs": [],
      "execution_count": null,
      "metadata": {
        "jupyter": {
          "source_hidden": false,
          "outputs_hidden": false
        },
        "nteract": {
          "transient": {
            "deleting": false
          }
        }
      }
    },
    {
      "cell_type": "code",
      "source": [
        "import pandas as pd \n",
        "import datetime\n",
        "import matplotlib.pyplot as plt\n",
        "import numpy as np \n",
        "import seaborn as sns \n",
        "import azureml.train.automl.runtime\n",
        "import logging\n",
        "import os, tempfile\n",
        "\n",
        "from azureml.train.automl import AutoMLConfig\n",
        "# from azureml.widgets import RunDetails\n",
        "from azureml.core.experiment import Experiment\n",
        "from azureml.core.workspace import Workspace\n",
        "from azureml.train.automl.run import AutoMLRun\n",
        "from sklearn.metrics import mean_squared_error\n",
        "from sklearn.model_selection import train_test_split\n",
        "import math\n",
        "from azureml.core.webservice import AciWebservice\n",
        "from azureml.core.model import InferenceConfig\n",
        "from azureml.core.model import Model\n",
        "from azureml.core.webservice import Webservice\n",
        "from azureml.core.conda_dependencies import CondaDependencies\n",
        "from azureml.core.environment import Environment\n",
        "\n",
        "os.environ['AZURE_SERVICE']=\"Microsoft.ProjectArcadia\""
      ],
      "outputs": [],
      "execution_count": 1,
      "metadata": {
        "microsoft": {
          "language": "python"
        },
        "gather": {
          "logged": 1675356009653
        }
      }
    },
    {
      "cell_type": "markdown",
      "source": [
        "## Loading Data"
      ],
      "metadata": {
        "nteract": {
          "transient": {
            "deleting": false
          }
        }
      }
    },
    {
      "cell_type": "code",
      "source": [
        "department_visits = pd.read_csv(\"department_visit_customer.csv\")\r\n",
        "department_visits.head()"
      ],
      "outputs": [
        {
          "output_type": "execute_result",
          "execution_count": 2,
          "data": {
            "text/plain": "         Date  Accessories_count  Entertainment_count  Gaming  Kids  Mens  \\\n0  08-06-2015                309                   37      67    74    46   \n1  26-01-2020                367                   20      32    73    56   \n2  21-10-2019                419                   64      68    41    97   \n3  04-02-2019                481                   46      91    96    75   \n4  16-04-2017                162                   25      20    30    29   \n\n   Phone_and_GPS  Womens  \n0             12      73  \n1             88      98  \n2             88      61  \n3             92      81  \n4             32      26  ",
            "text/html": "<div>\n<style scoped>\n    .dataframe tbody tr th:only-of-type {\n        vertical-align: middle;\n    }\n\n    .dataframe tbody tr th {\n        vertical-align: top;\n    }\n\n    .dataframe thead th {\n        text-align: right;\n    }\n</style>\n<table border=\"1\" class=\"dataframe\">\n  <thead>\n    <tr style=\"text-align: right;\">\n      <th></th>\n      <th>Date</th>\n      <th>Accessories_count</th>\n      <th>Entertainment_count</th>\n      <th>Gaming</th>\n      <th>Kids</th>\n      <th>Mens</th>\n      <th>Phone_and_GPS</th>\n      <th>Womens</th>\n    </tr>\n  </thead>\n  <tbody>\n    <tr>\n      <th>0</th>\n      <td>08-06-2015</td>\n      <td>309</td>\n      <td>37</td>\n      <td>67</td>\n      <td>74</td>\n      <td>46</td>\n      <td>12</td>\n      <td>73</td>\n    </tr>\n    <tr>\n      <th>1</th>\n      <td>26-01-2020</td>\n      <td>367</td>\n      <td>20</td>\n      <td>32</td>\n      <td>73</td>\n      <td>56</td>\n      <td>88</td>\n      <td>98</td>\n    </tr>\n    <tr>\n      <th>2</th>\n      <td>21-10-2019</td>\n      <td>419</td>\n      <td>64</td>\n      <td>68</td>\n      <td>41</td>\n      <td>97</td>\n      <td>88</td>\n      <td>61</td>\n    </tr>\n    <tr>\n      <th>3</th>\n      <td>04-02-2019</td>\n      <td>481</td>\n      <td>46</td>\n      <td>91</td>\n      <td>96</td>\n      <td>75</td>\n      <td>92</td>\n      <td>81</td>\n    </tr>\n    <tr>\n      <th>4</th>\n      <td>16-04-2017</td>\n      <td>162</td>\n      <td>25</td>\n      <td>20</td>\n      <td>30</td>\n      <td>29</td>\n      <td>32</td>\n      <td>26</td>\n    </tr>\n  </tbody>\n</table>\n</div>"
          },
          "metadata": {}
        }
      ],
      "execution_count": 2,
      "metadata": {
        "jupyter": {
          "source_hidden": false,
          "outputs_hidden": false
        },
        "nteract": {
          "transient": {
            "deleting": false
          }
        },
        "gather": {
          "logged": 1675356009902
        }
      }
    },
    {
      "cell_type": "markdown",
      "source": [
        "# Exploratory Data Analysis\n",
        "\n",
        "<p style=\"font-size:16px; color:#117d30;\">\n",
        "The goal of performing exploratory data analysis is to understand the underlying patterns and correlations among features in the data. \n"
      ],
      "metadata": {}
    },
    {
      "cell_type": "code",
      "source": [
        "department_visit_data = department_visits\n",
        "department_visit_data['Date'] = pd.to_datetime(department_visit_data['Date']).dt.strftime('%m/%d/%y')\n",
        "department_visit_data['Month'] = pd.to_datetime(department_visit_data['Date']).dt.strftime('%m')\n",
        "department_visit_data['DayOfMonth'] = pd.to_datetime(department_visit_data['Date']).dt.strftime('%d')\n",
        "department_visit_data['Year'] = pd.to_datetime(department_visit_data['Date']).dt.strftime('%y')\n",
        "department_visit_data['DayOfWeek'] = pd.to_datetime(department_visit_data['Date']).dt.strftime('%a')\n",
        "department_visit_data[['Accessories_count','Entertainment_count','Gaming','Kids','Mens','Phone_and_GPS','Womens']] = \\\n",
        "department_visit_data[['Accessories_count','Entertainment_count','Gaming','Kids','Mens','Phone_and_GPS','Womens']].apply(pd.to_numeric)\n",
        "\n",
        "department_visit_data.head()"
      ],
      "outputs": [
        {
          "output_type": "execute_result",
          "execution_count": 3,
          "data": {
            "text/plain": "       Date  Accessories_count  Entertainment_count  Gaming  Kids  Mens  \\\n0  08/06/15                309                   37      67    74    46   \n1  01/26/20                367                   20      32    73    56   \n2  10/21/19                419                   64      68    41    97   \n3  04/02/19                481                   46      91    96    75   \n4  04/16/17                162                   25      20    30    29   \n\n   Phone_and_GPS  Womens Month DayOfMonth Year DayOfWeek  \n0             12      73    08         06   15       Thu  \n1             88      98    01         26   20       Sun  \n2             88      61    10         21   19       Mon  \n3             92      81    04         02   19       Tue  \n4             32      26    04         16   17       Sun  ",
            "text/html": "<div>\n<style scoped>\n    .dataframe tbody tr th:only-of-type {\n        vertical-align: middle;\n    }\n\n    .dataframe tbody tr th {\n        vertical-align: top;\n    }\n\n    .dataframe thead th {\n        text-align: right;\n    }\n</style>\n<table border=\"1\" class=\"dataframe\">\n  <thead>\n    <tr style=\"text-align: right;\">\n      <th></th>\n      <th>Date</th>\n      <th>Accessories_count</th>\n      <th>Entertainment_count</th>\n      <th>Gaming</th>\n      <th>Kids</th>\n      <th>Mens</th>\n      <th>Phone_and_GPS</th>\n      <th>Womens</th>\n      <th>Month</th>\n      <th>DayOfMonth</th>\n      <th>Year</th>\n      <th>DayOfWeek</th>\n    </tr>\n  </thead>\n  <tbody>\n    <tr>\n      <th>0</th>\n      <td>08/06/15</td>\n      <td>309</td>\n      <td>37</td>\n      <td>67</td>\n      <td>74</td>\n      <td>46</td>\n      <td>12</td>\n      <td>73</td>\n      <td>08</td>\n      <td>06</td>\n      <td>15</td>\n      <td>Thu</td>\n    </tr>\n    <tr>\n      <th>1</th>\n      <td>01/26/20</td>\n      <td>367</td>\n      <td>20</td>\n      <td>32</td>\n      <td>73</td>\n      <td>56</td>\n      <td>88</td>\n      <td>98</td>\n      <td>01</td>\n      <td>26</td>\n      <td>20</td>\n      <td>Sun</td>\n    </tr>\n    <tr>\n      <th>2</th>\n      <td>10/21/19</td>\n      <td>419</td>\n      <td>64</td>\n      <td>68</td>\n      <td>41</td>\n      <td>97</td>\n      <td>88</td>\n      <td>61</td>\n      <td>10</td>\n      <td>21</td>\n      <td>19</td>\n      <td>Mon</td>\n    </tr>\n    <tr>\n      <th>3</th>\n      <td>04/02/19</td>\n      <td>481</td>\n      <td>46</td>\n      <td>91</td>\n      <td>96</td>\n      <td>75</td>\n      <td>92</td>\n      <td>81</td>\n      <td>04</td>\n      <td>02</td>\n      <td>19</td>\n      <td>Tue</td>\n    </tr>\n    <tr>\n      <th>4</th>\n      <td>04/16/17</td>\n      <td>162</td>\n      <td>25</td>\n      <td>20</td>\n      <td>30</td>\n      <td>29</td>\n      <td>32</td>\n      <td>26</td>\n      <td>04</td>\n      <td>16</td>\n      <td>17</td>\n      <td>Sun</td>\n    </tr>\n  </tbody>\n</table>\n</div>"
          },
          "metadata": {}
        }
      ],
      "execution_count": 3,
      "metadata": {
        "microsoft": {
          "language": "python"
        },
        "gather": {
          "logged": 1675356020013
        }
      }
    },
    {
      "cell_type": "markdown",
      "source": [
        "##  Deriving insights from customer visits data  \n",
        "\n",
        "<p style=\"font-size:16px; color:#117d30;\">\n",
        "1. Heat Map: Thickness of the color indicates the number of customers visiting that section of the store on that particular day. It provides a quick representation of distribution of traffic across days and in various departments. From the graph, we can infer that more number of customers visit the Entertainment department on Wednesdays, Thursdays and Fridays and there is less foot traffic on Mondays and Fridays in the Phone_and_gps department.\n"
      ],
      "metadata": {}
    },
    {
      "cell_type": "code",
      "source": [
        "df_dow = department_visit_data.groupby('DayOfWeek').sum().sort_values(by = 'DayOfWeek', \n",
        "                                                                 ascending=True)\n",
        "df_dow.head(10)"
      ],
      "outputs": [
        {
          "output_type": "execute_result",
          "execution_count": 4,
          "data": {
            "text/plain": "           Accessories_count  Entertainment_count  Gaming    Kids    Mens  \\\nDayOfWeek                                                                   \nFri                  1735168               292512  291304  284494  289628   \nMon                  1654732               276280  276628  275770  275914   \nSat                  1671634               282086  275620  278434  278682   \nSun                  1641284               270682  272712  280374  272804   \nThu                  1696822               285508  282752  285338  281692   \nTue                  1709624               286698  285580  286570  280482   \nWed                  1762870               288616  292746  297100  291542   \n\n           Phone_and_GPS  Womens  \nDayOfWeek                         \nFri               292888  284342  \nMon               277680  272460  \nSat               282354  274458  \nSun               273192  271520  \nThu               279558  281974  \nTue               280896  289398  \nWed               293844  299022  ",
            "text/html": "<div>\n<style scoped>\n    .dataframe tbody tr th:only-of-type {\n        vertical-align: middle;\n    }\n\n    .dataframe tbody tr th {\n        vertical-align: top;\n    }\n\n    .dataframe thead th {\n        text-align: right;\n    }\n</style>\n<table border=\"1\" class=\"dataframe\">\n  <thead>\n    <tr style=\"text-align: right;\">\n      <th></th>\n      <th>Accessories_count</th>\n      <th>Entertainment_count</th>\n      <th>Gaming</th>\n      <th>Kids</th>\n      <th>Mens</th>\n      <th>Phone_and_GPS</th>\n      <th>Womens</th>\n    </tr>\n    <tr>\n      <th>DayOfWeek</th>\n      <th></th>\n      <th></th>\n      <th></th>\n      <th></th>\n      <th></th>\n      <th></th>\n      <th></th>\n    </tr>\n  </thead>\n  <tbody>\n    <tr>\n      <th>Fri</th>\n      <td>1735168</td>\n      <td>292512</td>\n      <td>291304</td>\n      <td>284494</td>\n      <td>289628</td>\n      <td>292888</td>\n      <td>284342</td>\n    </tr>\n    <tr>\n      <th>Mon</th>\n      <td>1654732</td>\n      <td>276280</td>\n      <td>276628</td>\n      <td>275770</td>\n      <td>275914</td>\n      <td>277680</td>\n      <td>272460</td>\n    </tr>\n    <tr>\n      <th>Sat</th>\n      <td>1671634</td>\n      <td>282086</td>\n      <td>275620</td>\n      <td>278434</td>\n      <td>278682</td>\n      <td>282354</td>\n      <td>274458</td>\n    </tr>\n    <tr>\n      <th>Sun</th>\n      <td>1641284</td>\n      <td>270682</td>\n      <td>272712</td>\n      <td>280374</td>\n      <td>272804</td>\n      <td>273192</td>\n      <td>271520</td>\n    </tr>\n    <tr>\n      <th>Thu</th>\n      <td>1696822</td>\n      <td>285508</td>\n      <td>282752</td>\n      <td>285338</td>\n      <td>281692</td>\n      <td>279558</td>\n      <td>281974</td>\n    </tr>\n    <tr>\n      <th>Tue</th>\n      <td>1709624</td>\n      <td>286698</td>\n      <td>285580</td>\n      <td>286570</td>\n      <td>280482</td>\n      <td>280896</td>\n      <td>289398</td>\n    </tr>\n    <tr>\n      <th>Wed</th>\n      <td>1762870</td>\n      <td>288616</td>\n      <td>292746</td>\n      <td>297100</td>\n      <td>291542</td>\n      <td>293844</td>\n      <td>299022</td>\n    </tr>\n  </tbody>\n</table>\n</div>"
          },
          "metadata": {}
        }
      ],
      "execution_count": 4,
      "metadata": {
        "gather": {
          "logged": 1675356020297
        }
      }
    },
    {
      "cell_type": "code",
      "source": [
        "sns.set()\n",
        "plt.rcParams['font.size'] = 12\n",
        "bg_color = (0.88,0.85,0.95)\n",
        "plt.rcParams['figure.facecolor'] = bg_color\n",
        "plt.rcParams['axes.facecolor'] = bg_color\n",
        "fig, ax = plt.subplots(1)\n",
        "cmap = sns.diverging_palette(10, 150, n=2, as_cmap=True)\n",
        "#cmap = sns.color_palette(\"hls\", 150)\n",
        "\n",
        "p = sns.heatmap(df_dow,\n",
        "                cmap=cmap,\n",
        "                annot=True,\n",
        "                fmt=\"d\",\n",
        "                annot_kws={'size':8},\n",
        "                ax=ax)\n",
        "plt.xlabel('Category')\n",
        "plt.ylabel('Day Of Week')\n",
        "ax.set_ylim((0,7))\n",
        "plt.text(5,7.4, \"Heat Map\", fontsize = 25, color='Black', fontstyle='italic')\n",
        " \n",
        "plt.show()"
      ],
      "outputs": [
        {
          "output_type": "display_data",
          "data": {
            "text/plain": "<Figure size 640x480 with 2 Axes>",
            "image/png": "[encoded data removed]"
          },
          "metadata": {}
        }
      ],
      "execution_count": 5,
      "metadata": {
        "gather": {
          "logged": 1675356021214
        }
      }
    },
    {
      "cell_type": "markdown",
      "source": [
        "# Data Manipulation  \n",
        "<p style=\"font-size:16px; color:#117d30;\">\n",
        "1. Converting date to a specific format and making date fields relevant for prediction.\n",
        "\n",
        "<p style=\"font-size:16px; color:#117d30;\">\n",
        "2. Converting the data type of the columns to numeric before being passed as input to the model.\n"
      ],
      "metadata": {}
    },
    {
      "cell_type": "code",
      "source": [
        "department_visit_data = department_visits\n",
        "department_visit_data['Date'] = pd.to_datetime(department_visit_data['Date']).dt.strftime('%Y-%m-%d')\n",
        "\n",
        "department_visit_data[['Accessories_count','Entertainment_count','Gaming','Kids','Mens','Phone_and_GPS','Womens']] = \\\n",
        "    department_visit_data[['Accessories_count','Entertainment_count','Gaming','Kids','Mens','Phone_and_GPS','Womens']].apply(pd.to_numeric)\n",
        "\n",
        "grouped_data = department_visit_data.groupby('Date', as_index=False).sum()\n",
        "\n",
        "\n",
        "total_rows = grouped_data.count\n",
        "total_rows = grouped_data.count\n",
        "total_rows"
      ],
      "outputs": [
        {
          "output_type": "execute_result",
          "execution_count": 6,
          "data": {
            "text/plain": "<bound method DataFrame.count of             Date  Accessories_count  Entertainment_count  Gaming  Kids  Mens  \\\n0     2014-12-31                812                  130      84   170   100   \n1     2015-01-01               3498                  664     616   718   624   \n2     2015-01-02               4090                  580     730   616   522   \n3     2015-01-03               7446                 1264    1206  1102  1284   \n4     2015-01-04               8152                 1248    1456  1394  1324   \n...          ...                ...                  ...     ...   ...   ...   \n2188  2020-12-27               5782                 1228     716  1180   898   \n2189  2020-12-28               7810                 1468    1608   988  1280   \n2190  2020-12-29               3846                  636     486   510   864   \n2191  2020-12-30               3232                  572     394   528   562   \n2192  2020-12-31               1308                  258     270   188   106   \n\n      Phone_and_GPS  Womens  \n0               176     152  \n1               492     384  \n2               856     786  \n3              1346    1244  \n4              1534    1196  \n...             ...     ...  \n2188            808     952  \n2189           1278    1188  \n2190            746     604  \n2191            464     712  \n2192            224     262  \n\n[2193 rows x 8 columns]>"
          },
          "metadata": {}
        }
      ],
      "execution_count": 6,
      "metadata": {
        "microsoft": {
          "language": "python"
        },
        "gather": {
          "logged": 1675356023050
        }
      }
    },
    {
      "cell_type": "code",
      "source": [
        "accessories_data = grouped_data[['Date','Accessories_count']]\n",
        "entertainment_data = grouped_data[['Date','Entertainment_count']]\n",
        "gaming_data = grouped_data[['Date','Gaming']]\n",
        "kids_data = grouped_data[['Date','Kids']]\n",
        "mens_data = grouped_data[['Date','Mens']]\n",
        "phone_and_GPS_data = grouped_data[['Date','Phone_and_GPS']]\n",
        "womens_data = grouped_data[['Date','Womens']]\n",
        "\n",
        "accessories_data['Department']='Accessories'\n",
        "entertainment_data['Department']='Entertainment'\n",
        "gaming_data['Department']='Gaming'\n",
        "kids_data['Department']='Kids'\n",
        "mens_data['Department']='Mens'\n",
        "phone_and_GPS_data['Department']='Phone_and_GPS'\n",
        "womens_data['Department']='Womens'\n",
        "\n",
        "accessories_data= accessories_data.rename(columns={'Accessories_count': 'Visits'})\n",
        "entertainment_data= entertainment_data.rename(columns={ 'Entertainment_count':'Visits'})\n",
        "gaming_data = gaming_data.rename(columns={'Gaming': 'Visits'})\n",
        "kids_data = kids_data.rename(columns={'Kids': 'Visits'})\n",
        "mens_data = mens_data.rename(columns={'Mens': 'Visits'})\n",
        "phone_and_GPS_data = phone_and_GPS_data.rename(columns={'Phone_and_GPS': 'Visits'})\n",
        "womens_data = womens_data.rename(columns={'Womens': 'Visits'})\n",
        "df_customervisits = accessories_data.append( entertainment_data).append(gaming_data).append(kids_data).append(mens_data).append(phone_and_GPS_data).append(womens_data)\n",
        "\n",
        "df_customervisits"
      ],
      "outputs": [
        {
          "output_type": "stream",
          "name": "stderr",
          "text": "/tmp/ipykernel_26807/922381925.py:9: SettingWithCopyWarning: \nA value is trying to be set on a copy of a slice from a DataFrame.\nTry using .loc[row_indexer,col_indexer] = value instead\n\nSee the caveats in the documentation: https://pandas.pydata.org/pandas-docs/stable/user_guide/indexing.html#returning-a-view-versus-a-copy\n  accessories_data['Department']='Accessories'\n/tmp/ipykernel_26807/922381925.py:10: SettingWithCopyWarning: \nA value is trying to be set on a copy of a slice from a DataFrame.\nTry using .loc[row_indexer,col_indexer] = value instead\n\nSee the caveats in the documentation: https://pandas.pydata.org/pandas-docs/stable/user_guide/indexing.html#returning-a-view-versus-a-copy\n  entertainment_data['Department']='Entertainment'\n/tmp/ipykernel_26807/922381925.py:11: SettingWithCopyWarning: \nA value is trying to be set on a copy of a slice from a DataFrame.\nTry using .loc[row_indexer,col_indexer] = value instead\n\nSee the caveats in the documentation: https://pandas.pydata.org/pandas-docs/stable/user_guide/indexing.html#returning-a-view-versus-a-copy\n  gaming_data['Department']='Gaming'\n/tmp/ipykernel_26807/922381925.py:12: SettingWithCopyWarning: \nA value is trying to be set on a copy of a slice from a DataFrame.\nTry using .loc[row_indexer,col_indexer] = value instead\n\nSee the caveats in the documentation: https://pandas.pydata.org/pandas-docs/stable/user_guide/indexing.html#returning-a-view-versus-a-copy\n  kids_data['Department']='Kids'\n/tmp/ipykernel_26807/922381925.py:13: SettingWithCopyWarning: \nA value is trying to be set on a copy of a slice from a DataFrame.\nTry using .loc[row_indexer,col_indexer] = value instead\n\nSee the caveats in the documentation: https://pandas.pydata.org/pandas-docs/stable/user_guide/indexing.html#returning-a-view-versus-a-copy\n  mens_data['Department']='Mens'\n/tmp/ipykernel_26807/922381925.py:14: SettingWithCopyWarning: \nA value is trying to be set on a copy of a slice from a DataFrame.\nTry using .loc[row_indexer,col_indexer] = value instead\n\nSee the caveats in the documentation: https://pandas.pydata.org/pandas-docs/stable/user_guide/indexing.html#returning-a-view-versus-a-copy\n  phone_and_GPS_data['Department']='Phone_and_GPS'\n/tmp/ipykernel_26807/922381925.py:15: SettingWithCopyWarning: \nA value is trying to be set on a copy of a slice from a DataFrame.\nTry using .loc[row_indexer,col_indexer] = value instead\n\nSee the caveats in the documentation: https://pandas.pydata.org/pandas-docs/stable/user_guide/indexing.html#returning-a-view-versus-a-copy\n  womens_data['Department']='Womens'\n"
        },
        {
          "output_type": "execute_result",
          "execution_count": 7,
          "data": {
            "text/plain": "            Date  Visits   Department\n0     2014-12-31     812  Accessories\n1     2015-01-01    3498  Accessories\n2     2015-01-02    4090  Accessories\n3     2015-01-03    7446  Accessories\n4     2015-01-04    8152  Accessories\n...          ...     ...          ...\n2188  2020-12-27     952       Womens\n2189  2020-12-28    1188       Womens\n2190  2020-12-29     604       Womens\n2191  2020-12-30     712       Womens\n2192  2020-12-31     262       Womens\n\n[15351 rows x 3 columns]",
            "text/html": "<div>\n<style scoped>\n    .dataframe tbody tr th:only-of-type {\n        vertical-align: middle;\n    }\n\n    .dataframe tbody tr th {\n        vertical-align: top;\n    }\n\n    .dataframe thead th {\n        text-align: right;\n    }\n</style>\n<table border=\"1\" class=\"dataframe\">\n  <thead>\n    <tr style=\"text-align: right;\">\n      <th></th>\n      <th>Date</th>\n      <th>Visits</th>\n      <th>Department</th>\n    </tr>\n  </thead>\n  <tbody>\n    <tr>\n      <th>0</th>\n      <td>2014-12-31</td>\n      <td>812</td>\n      <td>Accessories</td>\n    </tr>\n    <tr>\n      <th>1</th>\n      <td>2015-01-01</td>\n      <td>3498</td>\n      <td>Accessories</td>\n    </tr>\n    <tr>\n      <th>2</th>\n      <td>2015-01-02</td>\n      <td>4090</td>\n      <td>Accessories</td>\n    </tr>\n    <tr>\n      <th>3</th>\n      <td>2015-01-03</td>\n      <td>7446</td>\n      <td>Accessories</td>\n    </tr>\n    <tr>\n      <th>4</th>\n      <td>2015-01-04</td>\n      <td>8152</td>\n      <td>Accessories</td>\n    </tr>\n    <tr>\n      <th>...</th>\n      <td>...</td>\n      <td>...</td>\n      <td>...</td>\n    </tr>\n    <tr>\n      <th>2188</th>\n      <td>2020-12-27</td>\n      <td>952</td>\n      <td>Womens</td>\n    </tr>\n    <tr>\n      <th>2189</th>\n      <td>2020-12-28</td>\n      <td>1188</td>\n      <td>Womens</td>\n    </tr>\n    <tr>\n      <th>2190</th>\n      <td>2020-12-29</td>\n      <td>604</td>\n      <td>Womens</td>\n    </tr>\n    <tr>\n      <th>2191</th>\n      <td>2020-12-30</td>\n      <td>712</td>\n      <td>Womens</td>\n    </tr>\n    <tr>\n      <th>2192</th>\n      <td>2020-12-31</td>\n      <td>262</td>\n      <td>Womens</td>\n    </tr>\n  </tbody>\n</table>\n<p>15351 rows × 3 columns</p>\n</div>"
          },
          "metadata": {}
        }
      ],
      "execution_count": 7,
      "metadata": {
        "microsoft": {
          "language": "python"
        },
        "gather": {
          "logged": 1675356023323
        }
      }
    },
    {
      "cell_type": "code",
      "source": [
        "total_rows = df_customervisits.count\n",
        "total_rows"
      ],
      "outputs": [
        {
          "output_type": "execute_result",
          "execution_count": 8,
          "data": {
            "text/plain": "<bound method DataFrame.count of             Date  Visits   Department\n0     2014-12-31     812  Accessories\n1     2015-01-01    3498  Accessories\n2     2015-01-02    4090  Accessories\n3     2015-01-03    7446  Accessories\n4     2015-01-04    8152  Accessories\n...          ...     ...          ...\n2188  2020-12-27     952       Womens\n2189  2020-12-28    1188       Womens\n2190  2020-12-29     604       Womens\n2191  2020-12-30     712       Womens\n2192  2020-12-31     262       Womens\n\n[15351 rows x 3 columns]>"
          },
          "metadata": {}
        }
      ],
      "execution_count": 8,
      "metadata": {
        "microsoft": {
          "language": "python"
        },
        "gather": {
          "logged": 1675356023514
        }
      }
    },
    {
      "cell_type": "markdown",
      "source": [
        "## Train\n",
        "\n",
        "<p style=\"font-size:16px; color:#117d30;\">\n",
        "1. Instantiate an AutoMLConfig object. \n",
        "<p style=\"font-size:16px; color:#117d30;\">\n",
        "2. The configuration below defines the settings and data used to run the experiment. \n"
      ],
      "metadata": {}
    },
    {
      "cell_type": "markdown",
      "source": [
        "## Set AutoML Configuration Parameters\n",
        "\n",
        "<p style=\"font-size:16px; color:#117d30;\">\n",
        "    The forecast horizon is the number of periods into the future that the model should predict. \n",
        "\n",
        "<p style=\"font-size:16px; color:#117d30;\">\n",
        "    It is generally recommended that users set forecast horizons to less than 100 time periods.\n",
        "\n",
        "<p style=\"font-size:16px; color:#117d30;\">\n",
        "    Furthermore, AutoML's memory use and computation time increases in proportion to the length of the horizon, so consider carefully how this value is set. \n",
        "\n",
        "<p style=\"font-size:16px; color:#117d30;\">\n",
        "    If a long horizon forecast is absolutely necessary, consider aggregating the series to a coarser time scale.\n"
      ],
      "metadata": {}
    },
    {
      "cell_type": "code",
      "source": [
        "#Azure ML\n",
        "ws = Workspace.from_config()\n",
        "\n",
        "# choose a name for the run history container in the workspace\n",
        "experiment_name = \"Department_Visit_Count_Prediction\"\n",
        "\n",
        "experiment = Experiment(ws, experiment_name)\n",
        "\n",
        "output = {}\n",
        "output[\"Subscription ID\"] = ws.subscription_id\n",
        "output[\"Workspace\"] = ws.name\n",
        "output[\"SKU\"] = ws.sku\n",
        "output[\"Resource Group\"] = ws.resource_group\n",
        "output[\"Location\"] = ws.location\n",
        "output[\"Run History Name\"] = experiment_name\n",
        "output[\"SDK Version\"] = azureml.core.VERSION\n",
        "pd.set_option(\"display.max_colwidth\", None)\n",
        "outputDf = pd.DataFrame(data=output, index=[\"\"])\n",
        "outputDf.T"
      ],
      "outputs": [
        {
          "output_type": "execute_result",
          "execution_count": 11,
          "data": {
            "text/plain": "                                                      \nSubscription ID   506e86fc-853c-4557-a6e5-ad72114efd2b\nWorkspace                                   amlws-midp\nSKU                                              Basic\nResource Group             rg-midpwithazurecosmos-prod\nLocation                                       eastus2\nRun History Name     Department_Visit_Count_Prediction\nSDK Version                                     1.48.0",
            "text/html": "<div>\n<style scoped>\n    .dataframe tbody tr th:only-of-type {\n        vertical-align: middle;\n    }\n\n    .dataframe tbody tr th {\n        vertical-align: top;\n    }\n\n    .dataframe thead th {\n        text-align: right;\n    }\n</style>\n<table border=\"1\" class=\"dataframe\">\n  <thead>\n    <tr style=\"text-align: right;\">\n      <th></th>\n      <th></th>\n    </tr>\n  </thead>\n  <tbody>\n    <tr>\n      <th>Subscription ID</th>\n      <td>506e86fc-853c-4557-a6e5-ad72114efd2b</td>\n    </tr>\n    <tr>\n      <th>Workspace</th>\n      <td>amlws-midp</td>\n    </tr>\n    <tr>\n      <th>SKU</th>\n      <td>Basic</td>\n    </tr>\n    <tr>\n      <th>Resource Group</th>\n      <td>rg-midpwithazurecosmos-prod</td>\n    </tr>\n    <tr>\n      <th>Location</th>\n      <td>eastus2</td>\n    </tr>\n    <tr>\n      <th>Run History Name</th>\n      <td>Department_Visit_Count_Prediction</td>\n    </tr>\n    <tr>\n      <th>SDK Version</th>\n      <td>1.48.0</td>\n    </tr>\n  </tbody>\n</table>\n</div>"
          },
          "metadata": {}
        }
      ],
      "execution_count": 11,
      "metadata": {
        "microsoft": {
          "language": "python"
        },
        "gather": {
          "logged": 1675356024038
        }
      }
    },
    {
      "cell_type": "code",
      "source": [
        "automl_settings = {\n",
        "   'time_column_name':'Date',\n",
        "   'grain_column_names': ['Department'],\n",
        "   'max_horizon': 25\n",
        "}"
      ],
      "outputs": [],
      "execution_count": 9,
      "metadata": {
        "microsoft": {
          "language": "python"
        },
        "gather": {
          "logged": 1675356023671
        }
      }
    },
    {
      "cell_type": "code",
      "source": [
        "automl_config = AutoMLConfig( \n",
        "                            #forecasting for time-series tasks\n",
        "                            task='forecasting',\n",
        "                            #measuere for evaluating the performance of the models\n",
        "                            primary_metric='normalized_root_mean_squared_error',\n",
        "                            #Maximum amount of time in minutes that the experiment takes before it terminates.\n",
        "                            experiment_timeout_minutes=15,\n",
        "                            enable_early_stopping=True,\n",
        "                            training_data=df_customervisits,#train_data,\n",
        "                            label_column_name='Visits',\n",
        "                            #Rolling Origin Validation is used to split time-series in a temporally consistent way.\n",
        "                            n_cross_validations=4,\n",
        "                            # Flag to enable early termination if the score is not improving in the short term.\n",
        "                            enable_ensembling=False,\n",
        "                            verbosity=logging.INFO,\n",
        "                            **automl_settings)"
      ],
      "outputs": [],
      "execution_count": 10,
      "metadata": {
        "microsoft": {
          "language": "python"
        },
        "gather": {
          "logged": 1675356023839
        }
      }
    },
    {
      "cell_type": "markdown",
      "source": [
        "## Run The Experiment\n",
        "<p style=\"font-size:16px; color:#117d30;\">\n",
        "Automated ML runs more than 25 Machine Learning Algorithms and grades them according to performance.\n"
      ],
      "metadata": {}
    },
    {
      "cell_type": "code",
      "source": [
        "model_name = \"Department-Visits-Forecast-Model\"\n",
        "description = \"Forecasting Machine Learning model to predict department visits\"\n",
        "tags = {'WWI': 'DepartmentVisitsPredictions'}\n",
        "\n",
        "\n",
        "matching_models = Model.list(ws, model_name, latest=True)\n",
        "if len(matching_models) > 0:\n",
        "    run = AutoMLRun(experiment, matching_models[0].run_id)\n",
        "    automl_run = AutoMLRun(experiment, run.parent.id)\n",
        "    best_run, fitted_model = automl_run.get_output()\n",
        "else:\n",
        "    local_run = experiment.submit(automl_config, show_output=True)\n",
        "    best_run, fitted_model = local_run.get_output()\n",
        "    model = local_run.register_model(model_name=model_name, description = description, tags = tags)\n",
        "\n",
        "fitted_model"
      ],
      "outputs": [
        {
          "output_type": "stream",
          "name": "stdout",
          "text": "No run_configuration provided, running on local with default configuration\nRunning in the active local environment.\n"
        },
        {
          "output_type": "display_data",
          "data": {
            "text/plain": "<IPython.core.display.HTML object>",
            "text/html": "<table style=\"width:100%\"><tr><th>Experiment</th><th>Id</th><th>Type</th><th>Status</th><th>Details Page</th><th>Docs Page</th></tr><tr><td>Department_Visit_Count_Prediction</td><td>AutoML_e5baf738-669c-44f1-8d32-ad04234b05b3</td><td>automl</td><td>Preparing</td><td><a href=\"https://ml.azure.com/runs/AutoML_e5baf738-669c-44f1-8d32-ad04234b05b3?wsid=/subscriptions/506e86fc-853c-4557-a6e5-ad72114efd2b/resourcegroups/rg-midpwithazurecosmos-prod/workspaces/amlws-midp&amp;tid=f94768c8-8714-4abe-8e2d-37a64b18216a\" target=\"_blank\" rel=\"noopener\">Link to Azure Machine Learning studio</a></td><td><a href=\"https://docs.microsoft.com/en-us/python/api/overview/azure/ml/intro?view=azure-ml-py\" target=\"_blank\" rel=\"noopener\">Link to Documentation</a></td></tr></table>"
          },
          "metadata": {}
        },
        {
          "output_type": "stream",
          "name": "stdout",
          "text": "Current status: DatasetFeaturization. Beginning to featurize the dataset.\nCurrent status: DatasetFeaturizationCompleted. Completed featurizing the dataset.\nCurrent status: DatasetCrossValidationSplit. Generating individually featurized CV splits.\nCurrent status: DatasetFeaturization. Beginning to featurize the CV split.\nCurrent status: DatasetFeaturizationCompleted. Completed featurizing the CV split.\nCurrent status: DatasetFeaturization. Beginning to featurize the CV split.\nCurrent status: DatasetFeaturizationCompleted. Completed featurizing the CV split.\nCurrent status: DatasetFeaturization. Beginning to featurize the CV split.\nCurrent status: DatasetFeaturizationCompleted. Completed featurizing the CV split.\nCurrent status: DatasetFeaturization. Beginning to featurize the CV split.\nCurrent status: DatasetFeaturizationCompleted. Completed featurizing the CV split.\n\n********************************************************************************************\nDATA GUARDRAILS: \n\nTYPE:         Time Series ID detection\nSTATUS:       PASSED\nDESCRIPTION:  The data set was analyzed, and no duplicate time index were detected.\n              Learn more about time-series forecasting configurations: https://aka.ms/AutomatedMLForecastingConfiguration\n\n********************************************************************************************\n\nTYPE:         Frequency detection\nSTATUS:       PASSED\nDESCRIPTION:  The time series was analyzed, all data points are aligned with detected frequency.\n              Learn more about data preparation for time-series forecasting: https://aka.ms/AutomatedMLDataPreparation\n\n********************************************************************************************\n\nTYPE:         Missing feature values imputation\nSTATUS:       PASSED\nDESCRIPTION:  No feature missing values were detected in the training data.\n              Learn more about missing value imputation: https://aka.ms/AutomatedMLFeaturization\n\n********************************************************************************************\n\nTYPE:         Short series handling\nSTATUS:       PASSED\nDESCRIPTION:  Automated ML detected enough data points for each series in the input data to continue with training.\n              Learn more about short series handling: https://aka.ms/AutomatedMLShortSeriesHandling\n\n********************************************************************************************\n\nTYPE:         Automatic cross validation\nSTATUS:       DONE\nDESCRIPTION:  Cross validation parameter(s) were automatically set for your dataset.\n              Learn more about time-series forecasting configurations: https://aka.ms/AutomatedMLForecastingConfiguration\nDETAILS:      If n_cross_validations and/or cv_step_size is not specified, Automated ML will determine those cross validation parameters automatically for you.\n+----------------------------------------------------------------+\n|Number of periods between two consecutive cross validation folds|\n+================================================================+\n|25                                                              |\n+----------------------------------------------------------------+\n\n********************************************************************************************\nCurrent status: ModelSelection. Beginning model selection.\n\n********************************************************************************************\nITER: The iteration being evaluated.\nPIPELINE: A summary description of the pipeline being evaluated.\nDURATION: Time taken for the current iteration.\nMETRIC: The result of computing score on the fitted pipeline.\nBEST: The best observed score thus far.\n********************************************************************************************\n\n ITER   PIPELINE                                       DURATION            METRIC      BEST\n    0   Naive                                          0:00:27             0.2026    0.2026\n    1   SeasonalNaive                                  0:00:28             0.2538    0.2026\n    2   Average                                        0:00:28             0.1693    0.1693\n    3   SeasonalAverage                                0:00:27             0.1705    0.1693\n    4   ExponentialSmoothing                           0:02:31             0.1693    0.1693\n    5   AutoArima                                      0:03:32             0.1694    0.1693\n    6   ProphetModel                                   0:00:50             0.1662    0.1662\n    7   StandardScalerWrapper LightGBM                 0:00:27             0.1795    0.1662\n    8   StandardScalerWrapper XGBoostRegressor         0:00:34             0.2152    0.1662\n    9   MaxAbsScaler ElasticNet                        0:00:26             0.3811    0.1662\n   10   RobustScaler ElasticNet                        0:00:28             0.3825    0.1662\n   11   MinMaxScaler ElasticNet                        0:00:30             0.3822    0.1662\n   12   StandardScalerWrapper ElasticNet               0:00:27             0.3825    0.1662\n   13   MinMaxScaler RandomForest                      0:00:26             0.1766    0.1662\n   14   MaxAbsScaler ElasticNet                        0:00:27             0.3813    0.1662\n   15   StandardScalerWrapper ElasticNet               0:00:27             0.3825    0.1662\n   16   MaxAbsScaler ElasticNet                        0:00:27             0.3823    0.1662\n   17   StandardScalerWrapper ElasticNet               0:00:26             0.3825    0.1662\n   18   MinMaxScaler ExtremeRandomTrees                0:00:28             0.1689    0.1662\n   19   MinMaxScaler RandomForest                      0:00:29             0.1698    0.1662\nStopping criteria reached at iteration 20. Ending experiment.\n********************************************************************************************\nCurrent status: BestRunExplainModel. Best run model explanations started\nCurrent status: ModelExplanationDataSetSetup. Model explanations data setup completed\nCurrent status: PickSurrogateModel. Choosing LightGBM as the surrogate model for explanations\nCurrent status: EngineeredFeatureExplanations. Computation of engineered features started\nCurrent status: EngineeredFeatureExplanations. Computation of engineered features completed\nCurrent status: RawFeaturesExplanations. Computation of raw features started\nCurrent status: RawFeaturesExplanations. Computation of raw features completed\nCurrent status: BestRunExplainModel. Best run model explanations completed\n********************************************************************************************\n"
        },
        {
          "output_type": "stream",
          "name": "stderr",
          "text": "2023/02/02 16:40:41 WARNING mlflow.sklearn: Model was missing function: predict. Not logging python_function flavor!\n"
        },
        {
          "output_type": "execute_result",
          "execution_count": 12,
          "data": {
            "text/plain": "ForecastingPipelineWrapper(pipeline=Pipeline(memory=None,\n                                             steps=[('timeseriestransformer',\n                                                     TimeSeriesTransformer(country_or_region=None, drop_column_names=[], featurization_config=FeaturizationConfig(blocked_transformers=None, column_purposes=None, dataset_language=None, prediction_transform_type=None, transformer_params=None), force_time_index_features=Non...\n                                                     ProphetModel(prophet_param_dict={'uncertainty_samples': 0}, timeseries_param_dict={'time_column_name': 'Date', 'grain_column_names': ['Department'], 'target_column_name': 'Visits', 'drop_column_names': [], 'overwrite_columns': True, 'dropna': False, 'transform_dictionary': {'min': '_automl_target_col', 'max': '_automl_target_col', 'mean': '_automl_target_col'}, 'max_horizon': 25, 'origin_time_colname': 'origin', 'country_or_region': None, 'n_cross_validations': 4, 'short_series_handling': True, 'max_cores_per_iteration': 1, 'feature_lags': None, 'target_aggregation_function': None, 'cv_step_size': 25, 'seasonality': 7, 'use_stl': None, 'freq': 'D', 'short_series_handling_configuration': 'auto', 'target_lags': [0], 'target_rolling_window_size': 0, 'arimax_raw_columns': ['Department', 'Date']}))],\n                                             verbose=False),\n                           stddev=[841.4010515593461])"
          },
          "metadata": {}
        }
      ],
      "execution_count": 12,
      "metadata": {
        "microsoft": {
          "language": "python"
        },
        "gather": {
          "logged": 1675357006020
        }
      }
    },
    {
      "cell_type": "code",
      "source": [
        "#future_date =  pd.date_range(start='2015-12-1', end='2015-12-5')\n",
        "#future_data = pd.DataFrame({'Date':future_date, 'Department':'Accessories', 'Visits':0})\n",
        "\n",
        "future_date =  pd.date_range(start='2021-01-01', end='2021-01-20').values\n",
        "future_data = pd.DataFrame({'Date':future_date, 'Department':'Womens'})\n",
        "future_data = future_data.append(pd.DataFrame({'Date':future_date, 'Department':'Mens'}), ignore_index=True)\n",
        "future_data = future_data.append(pd.DataFrame({'Date':future_date, 'Department':'Entertainment'}), ignore_index=True)\n",
        "future_data = future_data.append(pd.DataFrame({'Date':future_date, 'Department':'Gaming'}), ignore_index=True)\n",
        "future_data = future_data.append(pd.DataFrame({'Date':future_date, 'Department':'Kids'}), ignore_index=True)\n",
        "future_data = future_data.append(pd.DataFrame({'Date':future_date, 'Department':'Accessories'}), ignore_index=True)\n",
        "future_data = future_data.append(pd.DataFrame({'Date':future_date, 'Department':'Phone_and_GPS'}), ignore_index=True)\n",
        "\n",
        "future_data"
      ],
      "outputs": [
        {
          "output_type": "execute_result",
          "execution_count": 13,
          "data": {
            "text/plain": "          Date     Department\n0   2021-01-01         Womens\n1   2021-01-02         Womens\n2   2021-01-03         Womens\n3   2021-01-04         Womens\n4   2021-01-05         Womens\n..         ...            ...\n135 2021-01-16  Phone_and_GPS\n136 2021-01-17  Phone_and_GPS\n137 2021-01-18  Phone_and_GPS\n138 2021-01-19  Phone_and_GPS\n139 2021-01-20  Phone_and_GPS\n\n[140 rows x 2 columns]",
            "text/html": "<div>\n<style scoped>\n    .dataframe tbody tr th:only-of-type {\n        vertical-align: middle;\n    }\n\n    .dataframe tbody tr th {\n        vertical-align: top;\n    }\n\n    .dataframe thead th {\n        text-align: right;\n    }\n</style>\n<table border=\"1\" class=\"dataframe\">\n  <thead>\n    <tr style=\"text-align: right;\">\n      <th></th>\n      <th>Date</th>\n      <th>Department</th>\n    </tr>\n  </thead>\n  <tbody>\n    <tr>\n      <th>0</th>\n      <td>2021-01-01</td>\n      <td>Womens</td>\n    </tr>\n    <tr>\n      <th>1</th>\n      <td>2021-01-02</td>\n      <td>Womens</td>\n    </tr>\n    <tr>\n      <th>2</th>\n      <td>2021-01-03</td>\n      <td>Womens</td>\n    </tr>\n    <tr>\n      <th>3</th>\n      <td>2021-01-04</td>\n      <td>Womens</td>\n    </tr>\n    <tr>\n      <th>4</th>\n      <td>2021-01-05</td>\n      <td>Womens</td>\n    </tr>\n    <tr>\n      <th>...</th>\n      <td>...</td>\n      <td>...</td>\n    </tr>\n    <tr>\n      <th>135</th>\n      <td>2021-01-16</td>\n      <td>Phone_and_GPS</td>\n    </tr>\n    <tr>\n      <th>136</th>\n      <td>2021-01-17</td>\n      <td>Phone_and_GPS</td>\n    </tr>\n    <tr>\n      <th>137</th>\n      <td>2021-01-18</td>\n      <td>Phone_and_GPS</td>\n    </tr>\n    <tr>\n      <th>138</th>\n      <td>2021-01-19</td>\n      <td>Phone_and_GPS</td>\n    </tr>\n    <tr>\n      <th>139</th>\n      <td>2021-01-20</td>\n      <td>Phone_and_GPS</td>\n    </tr>\n  </tbody>\n</table>\n<p>140 rows × 2 columns</p>\n</div>"
          },
          "metadata": {}
        }
      ],
      "execution_count": 13,
      "metadata": {
        "microsoft": {
          "language": "python"
        },
        "gather": {
          "logged": 1675357006231
        }
      }
    },
    {
      "cell_type": "markdown",
      "source": [
        "## Making future prediction using model that performs best\n"
      ],
      "metadata": {}
    },
    {
      "cell_type": "code",
      "source": [
        "y_predictions, X_trans = fitted_model.forecast(future_data)\n",
        "X_trans.reset_index(inplace=True)\n",
        "X_trans"
      ],
      "outputs": [
        {
          "output_type": "execute_result",
          "execution_count": 14,
          "data": {
            "text/plain": "          Date     Department  _automl_target_col_WASNULL  grain_Department  \\\n0   2021-01-01         Womens                           0                 6   \n1   2021-01-02         Womens                           0                 6   \n2   2021-01-03         Womens                           0                 6   \n3   2021-01-04         Womens                           0                 6   \n4   2021-01-05         Womens                           0                 6   \n..         ...            ...                         ...               ...   \n135 2021-01-16  Phone_and_GPS                           0                 5   \n136 2021-01-17  Phone_and_GPS                           0                 5   \n137 2021-01-18  Phone_and_GPS                           0                 5   \n138 2021-01-19  Phone_and_GPS                           0                 5   \n139 2021-01-20  Phone_and_GPS                           0                 5   \n\n     _automl_year  _automl_half  _automl_quarter  _automl_month  _automl_day  \\\n0            2021             1                1              1            1   \n1            2021             1                1              1            2   \n2            2021             1                1              1            3   \n3            2021             1                1              1            4   \n4            2021             1                1              1            5   \n..            ...           ...              ...            ...          ...   \n135          2021             1                1              1           16   \n136          2021             1                1              1           17   \n137          2021             1                1              1           18   \n138          2021             1                1              1           19   \n139          2021             1                1              1           20   \n\n     _automl_wday  _automl_qday  _automl_week  _automl_target_col  \n0               4             1            53              878.37  \n1               5             2            53              850.93  \n2               6             3            53              845.81  \n3               0             4             1              853.16  \n4               1             5             1              911.67  \n..            ...           ...           ...                 ...  \n135             5            16             2              879.16  \n136             6            17             2              850.55  \n137             0            18             3              865.94  \n138             1            19             3              877.64  \n139             2            20             3              917.93  \n\n[140 rows x 13 columns]",
            "text/html": "<div>\n<style scoped>\n    .dataframe tbody tr th:only-of-type {\n        vertical-align: middle;\n    }\n\n    .dataframe tbody tr th {\n        vertical-align: top;\n    }\n\n    .dataframe thead th {\n        text-align: right;\n    }\n</style>\n<table border=\"1\" class=\"dataframe\">\n  <thead>\n    <tr style=\"text-align: right;\">\n      <th></th>\n      <th>Date</th>\n      <th>Department</th>\n      <th>_automl_target_col_WASNULL</th>\n      <th>grain_Department</th>\n      <th>_automl_year</th>\n      <th>_automl_half</th>\n      <th>_automl_quarter</th>\n      <th>_automl_month</th>\n      <th>_automl_day</th>\n      <th>_automl_wday</th>\n      <th>_automl_qday</th>\n      <th>_automl_week</th>\n      <th>_automl_target_col</th>\n    </tr>\n  </thead>\n  <tbody>\n    <tr>\n      <th>0</th>\n      <td>2021-01-01</td>\n      <td>Womens</td>\n      <td>0</td>\n      <td>6</td>\n      <td>2021</td>\n      <td>1</td>\n      <td>1</td>\n      <td>1</td>\n      <td>1</td>\n      <td>4</td>\n      <td>1</td>\n      <td>53</td>\n      <td>878.37</td>\n    </tr>\n    <tr>\n      <th>1</th>\n      <td>2021-01-02</td>\n      <td>Womens</td>\n      <td>0</td>\n      <td>6</td>\n      <td>2021</td>\n      <td>1</td>\n      <td>1</td>\n      <td>1</td>\n      <td>2</td>\n      <td>5</td>\n      <td>2</td>\n      <td>53</td>\n      <td>850.93</td>\n    </tr>\n    <tr>\n      <th>2</th>\n      <td>2021-01-03</td>\n      <td>Womens</td>\n      <td>0</td>\n      <td>6</td>\n      <td>2021</td>\n      <td>1</td>\n      <td>1</td>\n      <td>1</td>\n      <td>3</td>\n      <td>6</td>\n      <td>3</td>\n      <td>53</td>\n      <td>845.81</td>\n    </tr>\n    <tr>\n      <th>3</th>\n      <td>2021-01-04</td>\n      <td>Womens</td>\n      <td>0</td>\n      <td>6</td>\n      <td>2021</td>\n      <td>1</td>\n      <td>1</td>\n      <td>1</td>\n      <td>4</td>\n      <td>0</td>\n      <td>4</td>\n      <td>1</td>\n      <td>853.16</td>\n    </tr>\n    <tr>\n      <th>4</th>\n      <td>2021-01-05</td>\n      <td>Womens</td>\n      <td>0</td>\n      <td>6</td>\n      <td>2021</td>\n      <td>1</td>\n      <td>1</td>\n      <td>1</td>\n      <td>5</td>\n      <td>1</td>\n      <td>5</td>\n      <td>1</td>\n      <td>911.67</td>\n    </tr>\n    <tr>\n      <th>...</th>\n      <td>...</td>\n      <td>...</td>\n      <td>...</td>\n      <td>...</td>\n      <td>...</td>\n      <td>...</td>\n      <td>...</td>\n      <td>...</td>\n      <td>...</td>\n      <td>...</td>\n      <td>...</td>\n      <td>...</td>\n      <td>...</td>\n    </tr>\n    <tr>\n      <th>135</th>\n      <td>2021-01-16</td>\n      <td>Phone_and_GPS</td>\n      <td>0</td>\n      <td>5</td>\n      <td>2021</td>\n      <td>1</td>\n      <td>1</td>\n      <td>1</td>\n      <td>16</td>\n      <td>5</td>\n      <td>16</td>\n      <td>2</td>\n      <td>879.16</td>\n    </tr>\n    <tr>\n      <th>136</th>\n      <td>2021-01-17</td>\n      <td>Phone_and_GPS</td>\n      <td>0</td>\n      <td>5</td>\n      <td>2021</td>\n      <td>1</td>\n      <td>1</td>\n      <td>1</td>\n      <td>17</td>\n      <td>6</td>\n      <td>17</td>\n      <td>2</td>\n      <td>850.55</td>\n    </tr>\n    <tr>\n      <th>137</th>\n      <td>2021-01-18</td>\n      <td>Phone_and_GPS</td>\n      <td>0</td>\n      <td>5</td>\n      <td>2021</td>\n      <td>1</td>\n      <td>1</td>\n      <td>1</td>\n      <td>18</td>\n      <td>0</td>\n      <td>18</td>\n      <td>3</td>\n      <td>865.94</td>\n    </tr>\n    <tr>\n      <th>138</th>\n      <td>2021-01-19</td>\n      <td>Phone_and_GPS</td>\n      <td>0</td>\n      <td>5</td>\n      <td>2021</td>\n      <td>1</td>\n      <td>1</td>\n      <td>1</td>\n      <td>19</td>\n      <td>1</td>\n      <td>19</td>\n      <td>3</td>\n      <td>877.64</td>\n    </tr>\n    <tr>\n      <th>139</th>\n      <td>2021-01-20</td>\n      <td>Phone_and_GPS</td>\n      <td>0</td>\n      <td>5</td>\n      <td>2021</td>\n      <td>1</td>\n      <td>1</td>\n      <td>1</td>\n      <td>20</td>\n      <td>2</td>\n      <td>20</td>\n      <td>3</td>\n      <td>917.93</td>\n    </tr>\n  </tbody>\n</table>\n<p>140 rows × 13 columns</p>\n</div>"
          },
          "metadata": {}
        }
      ],
      "execution_count": 14,
      "metadata": {
        "gather": {
          "logged": 1675357006447
        }
      }
    },
    {
      "cell_type": "code",
      "source": [
        "table = pd.pivot_table(X_trans, values=['_automl_target_col'], index=['Date'], columns=['Department'])\n",
        "#table['Date'] = table.index\n",
        "table.columns = table.columns.droplevel()\n",
        "table.reset_index(inplace=True)\n",
        "\n",
        "table = table.astype({'Accessories': 'int32','Entertainment': 'int32','Gaming': 'int32','Kids': 'int32','Mens': 'int32','Phone_and_GPS': 'int32','Womens': 'int32'}, copy=False)\n",
        "\n",
        "table.head(100)"
      ],
      "outputs": [
        {
          "output_type": "execute_result",
          "execution_count": 15,
          "data": {
            "text/plain": "Department       Date  Accessories  Entertainment  Gaming  Kids  Mens  \\\n0          2021-01-01         5406            942     894   860   912   \n1          2021-01-02         5212            906     847   843   880   \n2          2021-01-03         5123            866     840   851   864   \n3          2021-01-04         5172            879     855   837   877   \n4          2021-01-05         5353            908     885   873   894   \n5          2021-01-06         5510            907     906   905   929   \n6          2021-01-07         5302            893     876   868   900   \n7          2021-01-08         5444            914     906   869   930   \n8          2021-01-09         5243            877     856   850   897   \n9          2021-01-10         5148            838     847   856   879   \n10         2021-01-11         5192            853     859   842   890   \n11         2021-01-12         5370            885     888   877   905   \n12         2021-01-13         5525            887     907   908   938   \n13         2021-01-14         5317            878     875   871   907   \n14         2021-01-15         5461            904     904   872   934   \n15         2021-01-16         5263            873     854   854   899   \n16         2021-01-17         5173            839     844   861   880   \n17         2021-01-18         5223            861     857   848   889   \n18         2021-01-19         5408            899     885   885   903   \n19         2021-01-20         5572            908     906   918   935   \n\nDepartment  Phone_and_GPS  Womens  \n0                     918     878  \n1                     885     850  \n2                     855     845  \n3                     870     853  \n4                     879     911  \n5                     917     943  \n6                     871     893  \n7                     916     908  \n8                     881     881  \n9                     851     875  \n10                    865     882  \n11                    874     940  \n12                    912     971  \n13                    867     920  \n14                    912     933  \n15                    879     904  \n16                    850     897  \n17                    865     902  \n18                    877     958  \n19                    917     987  ",
            "text/html": "<div>\n<style scoped>\n    .dataframe tbody tr th:only-of-type {\n        vertical-align: middle;\n    }\n\n    .dataframe tbody tr th {\n        vertical-align: top;\n    }\n\n    .dataframe thead th {\n        text-align: right;\n    }\n</style>\n<table border=\"1\" class=\"dataframe\">\n  <thead>\n    <tr style=\"text-align: right;\">\n      <th>Department</th>\n      <th>Date</th>\n      <th>Accessories</th>\n      <th>Entertainment</th>\n      <th>Gaming</th>\n      <th>Kids</th>\n      <th>Mens</th>\n      <th>Phone_and_GPS</th>\n      <th>Womens</th>\n    </tr>\n  </thead>\n  <tbody>\n    <tr>\n      <th>0</th>\n      <td>2021-01-01</td>\n      <td>5406</td>\n      <td>942</td>\n      <td>894</td>\n      <td>860</td>\n      <td>912</td>\n      <td>918</td>\n      <td>878</td>\n    </tr>\n    <tr>\n      <th>1</th>\n      <td>2021-01-02</td>\n      <td>5212</td>\n      <td>906</td>\n      <td>847</td>\n      <td>843</td>\n      <td>880</td>\n      <td>885</td>\n      <td>850</td>\n    </tr>\n    <tr>\n      <th>2</th>\n      <td>2021-01-03</td>\n      <td>5123</td>\n      <td>866</td>\n      <td>840</td>\n      <td>851</td>\n      <td>864</td>\n      <td>855</td>\n      <td>845</td>\n    </tr>\n    <tr>\n      <th>3</th>\n      <td>2021-01-04</td>\n      <td>5172</td>\n      <td>879</td>\n      <td>855</td>\n      <td>837</td>\n      <td>877</td>\n      <td>870</td>\n      <td>853</td>\n    </tr>\n    <tr>\n      <th>4</th>\n      <td>2021-01-05</td>\n      <td>5353</td>\n      <td>908</td>\n      <td>885</td>\n      <td>873</td>\n      <td>894</td>\n      <td>879</td>\n      <td>911</td>\n    </tr>\n    <tr>\n      <th>5</th>\n      <td>2021-01-06</td>\n      <td>5510</td>\n      <td>907</td>\n      <td>906</td>\n      <td>905</td>\n      <td>929</td>\n      <td>917</td>\n      <td>943</td>\n    </tr>\n    <tr>\n      <th>6</th>\n      <td>2021-01-07</td>\n      <td>5302</td>\n      <td>893</td>\n      <td>876</td>\n      <td>868</td>\n      <td>900</td>\n      <td>871</td>\n      <td>893</td>\n    </tr>\n    <tr>\n      <th>7</th>\n      <td>2021-01-08</td>\n      <td>5444</td>\n      <td>914</td>\n      <td>906</td>\n      <td>869</td>\n      <td>930</td>\n      <td>916</td>\n      <td>908</td>\n    </tr>\n    <tr>\n      <th>8</th>\n      <td>2021-01-09</td>\n      <td>5243</td>\n      <td>877</td>\n      <td>856</td>\n      <td>850</td>\n      <td>897</td>\n      <td>881</td>\n      <td>881</td>\n    </tr>\n    <tr>\n      <th>9</th>\n      <td>2021-01-10</td>\n      <td>5148</td>\n      <td>838</td>\n      <td>847</td>\n      <td>856</td>\n      <td>879</td>\n      <td>851</td>\n      <td>875</td>\n    </tr>\n    <tr>\n      <th>10</th>\n      <td>2021-01-11</td>\n      <td>5192</td>\n      <td>853</td>\n      <td>859</td>\n      <td>842</td>\n      <td>890</td>\n      <td>865</td>\n      <td>882</td>\n    </tr>\n    <tr>\n      <th>11</th>\n      <td>2021-01-12</td>\n      <td>5370</td>\n      <td>885</td>\n      <td>888</td>\n      <td>877</td>\n      <td>905</td>\n      <td>874</td>\n      <td>940</td>\n    </tr>\n    <tr>\n      <th>12</th>\n      <td>2021-01-13</td>\n      <td>5525</td>\n      <td>887</td>\n      <td>907</td>\n      <td>908</td>\n      <td>938</td>\n      <td>912</td>\n      <td>971</td>\n    </tr>\n    <tr>\n      <th>13</th>\n      <td>2021-01-14</td>\n      <td>5317</td>\n      <td>878</td>\n      <td>875</td>\n      <td>871</td>\n      <td>907</td>\n      <td>867</td>\n      <td>920</td>\n    </tr>\n    <tr>\n      <th>14</th>\n      <td>2021-01-15</td>\n      <td>5461</td>\n      <td>904</td>\n      <td>904</td>\n      <td>872</td>\n      <td>934</td>\n      <td>912</td>\n      <td>933</td>\n    </tr>\n    <tr>\n      <th>15</th>\n      <td>2021-01-16</td>\n      <td>5263</td>\n      <td>873</td>\n      <td>854</td>\n      <td>854</td>\n      <td>899</td>\n      <td>879</td>\n      <td>904</td>\n    </tr>\n    <tr>\n      <th>16</th>\n      <td>2021-01-17</td>\n      <td>5173</td>\n      <td>839</td>\n      <td>844</td>\n      <td>861</td>\n      <td>880</td>\n      <td>850</td>\n      <td>897</td>\n    </tr>\n    <tr>\n      <th>17</th>\n      <td>2021-01-18</td>\n      <td>5223</td>\n      <td>861</td>\n      <td>857</td>\n      <td>848</td>\n      <td>889</td>\n      <td>865</td>\n      <td>902</td>\n    </tr>\n    <tr>\n      <th>18</th>\n      <td>2021-01-19</td>\n      <td>5408</td>\n      <td>899</td>\n      <td>885</td>\n      <td>885</td>\n      <td>903</td>\n      <td>877</td>\n      <td>958</td>\n    </tr>\n    <tr>\n      <th>19</th>\n      <td>2021-01-20</td>\n      <td>5572</td>\n      <td>908</td>\n      <td>906</td>\n      <td>918</td>\n      <td>935</td>\n      <td>917</td>\n      <td>987</td>\n    </tr>\n  </tbody>\n</table>\n</div>"
          },
          "metadata": {}
        }
      ],
      "execution_count": 15,
      "metadata": {
        "microsoft": {
          "language": "python"
        },
        "gather": {
          "logged": 1675357006659
        }
      }
    },
    {
      "cell_type": "code",
      "source": [
        "predict_df = pd.DataFrame(table, ['Date', 'Accessories', 'Entertainment', 'Gaming', 'Kids', 'Mens', 'Phone_and_GPS', 'Womens'])\r\n",
        "predict_df.to_csv('dept_visit_customer_prediction.csv', index = False)"
      ],
      "outputs": [],
      "execution_count": 16,
      "metadata": {
        "microsoft": {
          "language": "python"
        },
        "gather": {
          "logged": 1675357006867
        }
      }
    }
  ],
  "metadata": {
    "language_info": {
      "name": "python",
      "version": "3.8.10",
      "mimetype": "text/x-python",
      "codemirror_mode": {
        "name": "ipython",
        "version": 3
      },
      "pygments_lexer": "ipython3",
      "nbconvert_exporter": "python",
      "file_extension": ".py"
    },
    "kernelspec": {
      "name": "python38-azureml",
      "language": "python",
      "display_name": "Python 3.8 - AzureML"
    },
    "description": null,
    "save_output": true,
    "synapse_widget": {
      "version": "0.1",
      "state": {}
    },
    "kernel_info": {
      "name": "python38-azureml"
    },
    "nteract": {
      "version": "nteract-front-end@1.0.0"
    },
    "microsoft": {
      "host": {
        "AzureML": {
          "notebookHasBeenCompleted": true
        }
      }
    }
  },
  "nbformat": 4,
  "nbformat_minor": 2
}