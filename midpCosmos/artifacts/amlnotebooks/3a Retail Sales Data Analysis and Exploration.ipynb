{
  "cells": [
    {
      "cell_type": "markdown",
      "source": [
        "****Important – Do not use in production, for demonstration purposes only – please review the legal notices before continuing****"
      ],
      "metadata": {
        "nteract": {
          "transient": {
            "deleting": false
          }
        }
      }
    },
    {
      "cell_type": "markdown",
      "source": [
        "# Retail Sales Data Analysis and Exploration\n",
        "<!-- <h3><span style=\"color: #117d30;\"> Exploratory Data Analysis and Feature Engineering in Azure ML</span></h3> -->\n"
      ],
      "metadata": {
        "nteract": {
          "transient": {
            "deleting": false
          }
        }
      }
    },
    {
      "cell_type": "markdown",
      "source": [
        "Retail stores frequently experience supply and demand challenges, which leads to understocking or overstocking situations. This notebook will demonstrate exploratory data analysis, data preparation, and feature engineering for retail sales forecasting."
      ],
      "metadata": {
        "nteract": {
          "transient": {
            "deleting": false
          }
        }
      }
    },
    {
      "cell_type": "markdown",
      "source": [
        "### Retail Data Dictionary\n",
        "- store - store number \n",
        "- brand - brand indicator\n",
        "- week - week number\n",
        "- logmove - log of units sold\n",
        "- price - price of a single unit\n",
        "- feat - feature advertisement\n",
        "- age60 - percentage of the population that is aged 60 or older\n",
        "- educucation - percentage of the population that has a college degree\n",
        "- ethinicity - percent of the population that is black or Hispanic\n",
        "- income - median income\n",
        "- hhlarge - percentage of households with 5 or more persons\n",
        "- workwom - percentage of women with full-time jobs\n",
        "- hval150 - percentage of households worth more than $150,000\n",
        "- sstrdist - distance to the nearest warehouse store\n",
        "- sstrvol - ratio of sales of this store to the nearest warehouse store\n",
        "- cpdist5 - average distance in miles to the nearest 5 supermarkets\n",
        "- cpwvol5 - ratio of sales of this store to the average of the nearest five store"
      ],
      "metadata": {
        "nteract": {
          "transient": {
            "deleting": false
          }
        }
      }
    },
    {
      "cell_type": "markdown",
      "source": [
        "### Importing Libraries "
      ],
      "metadata": {}
    },
    {
      "cell_type": "code",
      "source": [
        "import pandas as pd\n",
        "import numpy as np\n",
        "import matplotlib.pyplot as plt\n",
        "import seaborn as sns"
      ],
      "outputs": [],
      "execution_count": 1,
      "metadata": {
        "gather": {
          "logged": 1675342112526
        }
      }
    },
    {
      "cell_type": "markdown",
      "source": [
        "### Reading Data "
      ],
      "metadata": {}
    },
    {
      "cell_type": "code",
      "source": [
        "# Read data and store it in a dataframe\n",
        "data = pd.read_csv(\"retail_sales_dataset.csv\")"
      ],
      "outputs": [],
      "execution_count": 2,
      "metadata": {
        "gather": {
          "logged": 1675342112678
        },
        "jupyter": {
          "outputs_hidden": false,
          "source_hidden": false
        },
        "nteract": {
          "transient": {
            "deleting": false
          }
        }
      }
    },
    {
      "cell_type": "code",
      "source": [
        "data.head()"
      ],
      "outputs": [
        {
          "output_type": "execute_result",
          "execution_count": 3,
          "data": {
            "text/plain": "   store    brand  week   logmove  feat  price     age60  education  \\\n0      2  Brand A    40  9.018695     0   3.87  0.232865   0.248935   \n1      2  Brand A    46  8.723231     0   3.87  0.232865   0.248935   \n2      2  Brand A    47  8.253228     0   3.87  0.232865   0.248935   \n3      2  Brand A    48  8.987197     0   3.87  0.232865   0.248935   \n4      2  Brand A    50  9.093357     0   3.87  0.232865   0.248935   \n\n   ethnicity     income   hhlarge   workwom   hval150  sstrdist   sstrvol  \\\n0    0.11428  10.553205  0.103953  0.303585  0.463887  2.110122  1.142857   \n1    0.11428  10.553205  0.103953  0.303585  0.463887  2.110122  1.142857   \n2    0.11428  10.553205  0.103953  0.303585  0.463887  2.110122  1.142857   \n3    0.11428  10.553205  0.103953  0.303585  0.463887  2.110122  1.142857   \n4    0.11428  10.553205  0.103953  0.303585  0.463887  2.110122  1.142857   \n\n   cpdists   cpwvol5  \n0  1.92728  0.376927  \n1  1.92728  0.376927  \n2  1.92728  0.376927  \n3  1.92728  0.376927  \n4  1.92728  0.376927  ",
            "text/html": "<div>\n<style scoped>\n    .dataframe tbody tr th:only-of-type {\n        vertical-align: middle;\n    }\n\n    .dataframe tbody tr th {\n        vertical-align: top;\n    }\n\n    .dataframe thead th {\n        text-align: right;\n    }\n</style>\n<table border=\"1\" class=\"dataframe\">\n  <thead>\n    <tr style=\"text-align: right;\">\n      <th></th>\n      <th>store</th>\n      <th>brand</th>\n      <th>week</th>\n      <th>logmove</th>\n      <th>feat</th>\n      <th>price</th>\n      <th>age60</th>\n      <th>education</th>\n      <th>ethnicity</th>\n      <th>income</th>\n      <th>hhlarge</th>\n      <th>workwom</th>\n      <th>hval150</th>\n      <th>sstrdist</th>\n      <th>sstrvol</th>\n      <th>cpdists</th>\n      <th>cpwvol5</th>\n    </tr>\n  </thead>\n  <tbody>\n    <tr>\n      <th>0</th>\n      <td>2</td>\n      <td>Brand A</td>\n      <td>40</td>\n      <td>9.018695</td>\n      <td>0</td>\n      <td>3.87</td>\n      <td>0.232865</td>\n      <td>0.248935</td>\n      <td>0.11428</td>\n      <td>10.553205</td>\n      <td>0.103953</td>\n      <td>0.303585</td>\n      <td>0.463887</td>\n      <td>2.110122</td>\n      <td>1.142857</td>\n      <td>1.92728</td>\n      <td>0.376927</td>\n    </tr>\n    <tr>\n      <th>1</th>\n      <td>2</td>\n      <td>Brand A</td>\n      <td>46</td>\n      <td>8.723231</td>\n      <td>0</td>\n      <td>3.87</td>\n      <td>0.232865</td>\n      <td>0.248935</td>\n      <td>0.11428</td>\n      <td>10.553205</td>\n      <td>0.103953</td>\n      <td>0.303585</td>\n      <td>0.463887</td>\n      <td>2.110122</td>\n      <td>1.142857</td>\n      <td>1.92728</td>\n      <td>0.376927</td>\n    </tr>\n    <tr>\n      <th>2</th>\n      <td>2</td>\n      <td>Brand A</td>\n      <td>47</td>\n      <td>8.253228</td>\n      <td>0</td>\n      <td>3.87</td>\n      <td>0.232865</td>\n      <td>0.248935</td>\n      <td>0.11428</td>\n      <td>10.553205</td>\n      <td>0.103953</td>\n      <td>0.303585</td>\n      <td>0.463887</td>\n      <td>2.110122</td>\n      <td>1.142857</td>\n      <td>1.92728</td>\n      <td>0.376927</td>\n    </tr>\n    <tr>\n      <th>3</th>\n      <td>2</td>\n      <td>Brand A</td>\n      <td>48</td>\n      <td>8.987197</td>\n      <td>0</td>\n      <td>3.87</td>\n      <td>0.232865</td>\n      <td>0.248935</td>\n      <td>0.11428</td>\n      <td>10.553205</td>\n      <td>0.103953</td>\n      <td>0.303585</td>\n      <td>0.463887</td>\n      <td>2.110122</td>\n      <td>1.142857</td>\n      <td>1.92728</td>\n      <td>0.376927</td>\n    </tr>\n    <tr>\n      <th>4</th>\n      <td>2</td>\n      <td>Brand A</td>\n      <td>50</td>\n      <td>9.093357</td>\n      <td>0</td>\n      <td>3.87</td>\n      <td>0.232865</td>\n      <td>0.248935</td>\n      <td>0.11428</td>\n      <td>10.553205</td>\n      <td>0.103953</td>\n      <td>0.303585</td>\n      <td>0.463887</td>\n      <td>2.110122</td>\n      <td>1.142857</td>\n      <td>1.92728</td>\n      <td>0.376927</td>\n    </tr>\n  </tbody>\n</table>\n</div>"
          },
          "metadata": {}
        }
      ],
      "execution_count": 3,
      "metadata": {
        "gather": {
          "logged": 1675342112847
        },
        "jupyter": {
          "outputs_hidden": false,
          "source_hidden": false
        },
        "nteract": {
          "transient": {
            "deleting": false
          }
        }
      }
    },
    {
      "cell_type": "markdown",
      "source": [
        "### Exploratory data analysis (EDA)\n",
        "Exploratory Data Analysis is an approach that can reduce the challenges of extract, transform, load (ETL) operations. It focuses first on generating business insights and then turns to solving the modeling and ETL tasks.\n",
        "\n",
        "This is the initial step in data analysis. We are going to explore the data set find missing values and data types of the variables to uncover initial patterns, characteristics, and points of interest."
      ],
      "metadata": {
        "nteract": {
          "transient": {
            "deleting": false
          }
        }
      }
    },
    {
      "cell_type": "code",
      "source": [
        "#Summary Statistics\n",
        "data.describe"
      ],
      "outputs": [
        {
          "output_type": "execute_result",
          "execution_count": 4,
          "data": {
            "text/plain": "<bound method NDFrame.describe of        store    brand  week    logmove  feat  price     age60  education  \\\n0          2  Brand A    40   9.018695     0   3.87  0.232865   0.248935   \n1          2  Brand A    46   8.723231     0   3.87  0.232865   0.248935   \n2          2  Brand A    47   8.253228     0   3.87  0.232865   0.248935   \n3          2  Brand A    48   8.987197     0   3.87  0.232865   0.248935   \n4          2  Brand A    50   9.093357     0   3.87  0.232865   0.248935   \n...      ...      ...   ...        ...   ...    ...       ...        ...   \n28942    137  Brand B   156   7.987524     0   2.00  0.209602   0.528362   \n28943    137  Brand B   157   8.502689     0   1.94  0.209602   0.528362   \n28944    137  Brand B   158   9.505991     0   1.59  0.209602   0.528362   \n28945    137  Brand B   159  10.927376     0   1.49  0.209602   0.528362   \n28946    137  Brand B   160   8.859363     0   1.75  0.209602   0.528362   \n\n       ethnicity     income   hhlarge   workwom   hval150  sstrdist   sstrvol  \\\n0        0.11428  10.553205  0.103953  0.303585  0.463887  2.110122  1.142857   \n1        0.11428  10.553205  0.103953  0.303585  0.463887  2.110122  1.142857   \n2        0.11428  10.553205  0.103953  0.303585  0.463887  2.110122  1.142857   \n3        0.11428  10.553205  0.103953  0.303585  0.463887  2.110122  1.142857   \n4        0.11428  10.553205  0.103953  0.303585  0.463887  2.110122  1.142857   \n...          ...        ...       ...       ...       ...       ...       ...   \n28942    0.11325  10.966490  0.092996  0.330293  0.860739  6.026484  0.705882   \n28943    0.11325  10.966490  0.092996  0.330293  0.860739  6.026484  0.705882   \n28944    0.11325  10.966490  0.092996  0.330293  0.860739  6.026484  0.705882   \n28945    0.11325  10.966490  0.092996  0.330293  0.860739  6.026484  0.705882   \n28946    0.11325  10.966490  0.092996  0.330293  0.860739  6.026484  0.705882   \n\n       cpdists   cpwvol5  \n0      1.92728  0.376927  \n1      1.92728  0.376927  \n2      1.92728  0.376927  \n3      1.92728  0.376927  \n4      1.92728  0.376927  \n...        ...       ...  \n28942  0.77253  0.333761  \n28943  0.77253  0.333761  \n28944  0.77253  0.333761  \n28945  0.77253  0.333761  \n28946  0.77253  0.333761  \n\n[28947 rows x 17 columns]>"
          },
          "metadata": {}
        }
      ],
      "execution_count": 4,
      "metadata": {
        "gather": {
          "logged": 1675342113009
        },
        "jupyter": {
          "outputs_hidden": false,
          "source_hidden": false
        },
        "nteract": {
          "transient": {
            "deleting": false
          }
        }
      }
    },
    {
      "cell_type": "code",
      "source": [
        "# Get information about data including null values\n",
        "data.info()"
      ],
      "outputs": [
        {
          "output_type": "stream",
          "name": "stdout",
          "text": "<class 'pandas.core.frame.DataFrame'>\nRangeIndex: 28947 entries, 0 to 28946\nData columns (total 17 columns):\n #   Column     Non-Null Count  Dtype  \n---  ------     --------------  -----  \n 0   store      28947 non-null  int64  \n 1   brand      28947 non-null  object \n 2   week       28947 non-null  int64  \n 3   logmove    28947 non-null  float64\n 4   feat       28947 non-null  int64  \n 5   price      28947 non-null  float64\n 6   age60      28947 non-null  float64\n 7   education  28947 non-null  float64\n 8   ethnicity  28947 non-null  float64\n 9   income     28947 non-null  float64\n 10  hhlarge    28947 non-null  float64\n 11  workwom    28947 non-null  float64\n 12  hval150    28947 non-null  float64\n 13  sstrdist   28947 non-null  float64\n 14  sstrvol    28947 non-null  float64\n 15  cpdists    28947 non-null  float64\n 16  cpwvol5    28947 non-null  float64\ndtypes: float64(13), int64(3), object(1)\nmemory usage: 3.8+ MB\n"
        }
      ],
      "execution_count": 5,
      "metadata": {
        "gather": {
          "logged": 1675342113159
        },
        "jupyter": {
          "outputs_hidden": false,
          "source_hidden": false
        },
        "nteract": {
          "transient": {
            "deleting": false
          }
        }
      }
    },
    {
      "cell_type": "markdown",
      "source": [
        "### Data visualization"
      ],
      "metadata": {
        "nteract": {
          "transient": {
            "deleting": false
          }
        }
      }
    },
    {
      "cell_type": "code",
      "source": [
        "# Visualize distribution of different prices\n",
        "s = data.price.value_counts()\n",
        "plt.figure(figsize=(15,8))\n",
        "s.nlargest(7).sort_index().plot(kind='barh').set_title(\"Quantity of top 7 prices\")\n",
        "plt.xlabel(\"Quantity\")\n",
        "plt.ylabel(\"Price ($)\")"
      ],
      "outputs": [
        {
          "output_type": "execute_result",
          "execution_count": 6,
          "data": {
            "text/plain": "Text(0, 0.5, 'Price ($)')"
          },
          "metadata": {}
        },
        {
          "output_type": "display_data",
          "data": {
            "text/plain": "<Figure size 1500x800 with 1 Axes>",
            "image/png": "[encoded data removed]"
          },
          "metadata": {}
        }
      ],
      "execution_count": 6,
      "metadata": {
        "gather": {
          "logged": 1675342113330
        },
        "jupyter": {
          "outputs_hidden": false,
          "source_hidden": false
        },
        "nteract": {
          "transient": {
            "deleting": false
          }
        }
      }
    },
    {
      "cell_type": "code",
      "source": [
        "#Visualize the prices for all 3 brands\n",
        "plt.figure(figsize=(15,8))\n",
        "sns.boxplot(x=data[\"brand\"], y= data['price'])"
      ],
      "outputs": [
        {
          "output_type": "execute_result",
          "execution_count": 7,
          "data": {
            "text/plain": "<matplotlib.axes._subplots.AxesSubplot at 0x7f01bb5e30a0>"
          },
          "metadata": {}
        },
        {
          "output_type": "display_data",
          "data": {
            "text/plain": "<Figure size 1500x800 with 1 Axes>",
            "image/png": "[encoded data removed]"
          },
          "metadata": {}
        }
      ],
      "execution_count": 7,
      "metadata": {
        "gather": {
          "logged": 1675342113568
        },
        "jupyter": {
          "outputs_hidden": false,
          "source_hidden": false
        },
        "nteract": {
          "transient": {
            "deleting": false
          }
        }
      }
    },
    {
      "cell_type": "code",
      "source": [
        "# Was the product featured on an advertisement?\n",
        "GroupedData=data.groupby(by='feat').size()\n",
        "plt.figure(figsize=(15,8))\n",
        "GroupedData.plot(kind='bar', color=(0.2, 0.6, 0.4, 0.6))\n",
        "plt.xlabel(\"Feature Advertisement\")\n",
        "plt.show()"
      ],
      "outputs": [
        {
          "output_type": "display_data",
          "data": {
            "text/plain": "<Figure size 1500x800 with 1 Axes>",
            "image/png": "[encoded data removed]"
          },
          "metadata": {}
        }
      ],
      "execution_count": 8,
      "metadata": {
        "gather": {
          "logged": 1675342113746
        },
        "jupyter": {
          "outputs_hidden": false,
          "source_hidden": false
        },
        "nteract": {
          "transient": {
            "deleting": false
          }
        }
      }
    },
    {
      "cell_type": "code",
      "source": [
        "#Check quantity of each brand\n",
        "brands = data['brand'].value_counts()\n",
        "brands"
      ],
      "outputs": [
        {
          "output_type": "execute_result",
          "execution_count": 9,
          "data": {
            "text/plain": "Brand A    9649\nBrand B    9649\nBrand C    9649\nName: brand, dtype: int64"
          },
          "metadata": {}
        }
      ],
      "execution_count": 9,
      "metadata": {
        "gather": {
          "logged": 1675342113918
        },
        "jupyter": {
          "outputs_hidden": false,
          "source_hidden": false
        },
        "nteract": {
          "transient": {
            "deleting": false
          }
        }
      }
    },
    {
      "cell_type": "markdown",
      "source": [
        "### Calculating date and time\n",
        "Converting week number into a valid date and time for each purchase to build a forecasting model"
      ],
      "metadata": {
        "nteract": {
          "transient": {
            "deleting": false
          }
        }
      }
    },
    {
      "cell_type": "code",
      "source": [
        "weeks2 = data['week']\n",
        "weeks = []\n",
        "for week in weeks2:\n",
        "    temp = week - 15\n",
        "    weeks.append(temp)"
      ],
      "outputs": [],
      "execution_count": 10,
      "metadata": {
        "gather": {
          "logged": 1675342114087
        },
        "jupyter": {
          "outputs_hidden": false,
          "source_hidden": false
        },
        "nteract": {
          "transient": {
            "deleting": false
          }
        }
      }
    },
    {
      "cell_type": "code",
      "source": [
        "max(weeks2)"
      ],
      "outputs": [
        {
          "output_type": "execute_result",
          "execution_count": 11,
          "data": {
            "text/plain": "160"
          },
          "metadata": {}
        }
      ],
      "execution_count": 11,
      "metadata": {
        "gather": {
          "logged": 1675342114261
        },
        "jupyter": {
          "outputs_hidden": false,
          "source_hidden": false
        },
        "nteract": {
          "transient": {
            "deleting": false
          }
        }
      }
    },
    {
      "cell_type": "code",
      "source": [
        "# Converting week number into a relevant datetime format\n",
        "import datetime\n",
        "datetimeformat = []\n",
        "for week in weeks:\n",
        "    if week < 53:\n",
        "        d = \"2018-W\" + str(week)\n",
        "    elif week > 52 and week < 105:\n",
        "        week = week - 52\n",
        "        d = \"2019-W\" + str(week)\n",
        "    elif week > 104 and week < 157:\n",
        "        week = week - 104\n",
        "        d = \"2020-W\" + str(week)\n",
        "    else:\n",
        "        week = week - 156\n",
        "        d = \"2021-W\" + str(week)\n",
        "\n",
        "    r = datetime.datetime.strptime(d + '-1', \"%Y-W%W-%w\")\n",
        "    datetimeformat.append(r)"
      ],
      "outputs": [],
      "execution_count": 12,
      "metadata": {
        "gather": {
          "logged": 1675342114441
        },
        "jupyter": {
          "outputs_hidden": false,
          "source_hidden": false
        },
        "nteract": {
          "transient": {
            "deleting": false
          }
        }
      }
    },
    {
      "cell_type": "code",
      "source": [
        "#Add datetime column as 'time'\n",
        "data['time'] = datetimeformat\n",
        "data.head()"
      ],
      "outputs": [
        {
          "output_type": "execute_result",
          "execution_count": 13,
          "data": {
            "text/plain": "   store    brand  week   logmove  feat  price     age60  education  \\\n0      2  Brand A    40  9.018695     0   3.87  0.232865   0.248935   \n1      2  Brand A    46  8.723231     0   3.87  0.232865   0.248935   \n2      2  Brand A    47  8.253228     0   3.87  0.232865   0.248935   \n3      2  Brand A    48  8.987197     0   3.87  0.232865   0.248935   \n4      2  Brand A    50  9.093357     0   3.87  0.232865   0.248935   \n\n   ethnicity     income   hhlarge   workwom   hval150  sstrdist   sstrvol  \\\n0    0.11428  10.553205  0.103953  0.303585  0.463887  2.110122  1.142857   \n1    0.11428  10.553205  0.103953  0.303585  0.463887  2.110122  1.142857   \n2    0.11428  10.553205  0.103953  0.303585  0.463887  2.110122  1.142857   \n3    0.11428  10.553205  0.103953  0.303585  0.463887  2.110122  1.142857   \n4    0.11428  10.553205  0.103953  0.303585  0.463887  2.110122  1.142857   \n\n   cpdists   cpwvol5       time  \n0  1.92728  0.376927 2018-06-18  \n1  1.92728  0.376927 2018-07-30  \n2  1.92728  0.376927 2018-08-06  \n3  1.92728  0.376927 2018-08-13  \n4  1.92728  0.376927 2018-08-27  ",
            "text/html": "<div>\n<style scoped>\n    .dataframe tbody tr th:only-of-type {\n        vertical-align: middle;\n    }\n\n    .dataframe tbody tr th {\n        vertical-align: top;\n    }\n\n    .dataframe thead th {\n        text-align: right;\n    }\n</style>\n<table border=\"1\" class=\"dataframe\">\n  <thead>\n    <tr style=\"text-align: right;\">\n      <th></th>\n      <th>store</th>\n      <th>brand</th>\n      <th>week</th>\n      <th>logmove</th>\n      <th>feat</th>\n      <th>price</th>\n      <th>age60</th>\n      <th>education</th>\n      <th>ethnicity</th>\n      <th>income</th>\n      <th>hhlarge</th>\n      <th>workwom</th>\n      <th>hval150</th>\n      <th>sstrdist</th>\n      <th>sstrvol</th>\n      <th>cpdists</th>\n      <th>cpwvol5</th>\n      <th>time</th>\n    </tr>\n  </thead>\n  <tbody>\n    <tr>\n      <th>0</th>\n      <td>2</td>\n      <td>Brand A</td>\n      <td>40</td>\n      <td>9.018695</td>\n      <td>0</td>\n      <td>3.87</td>\n      <td>0.232865</td>\n      <td>0.248935</td>\n      <td>0.11428</td>\n      <td>10.553205</td>\n      <td>0.103953</td>\n      <td>0.303585</td>\n      <td>0.463887</td>\n      <td>2.110122</td>\n      <td>1.142857</td>\n      <td>1.92728</td>\n      <td>0.376927</td>\n      <td>2018-06-18</td>\n    </tr>\n    <tr>\n      <th>1</th>\n      <td>2</td>\n      <td>Brand A</td>\n      <td>46</td>\n      <td>8.723231</td>\n      <td>0</td>\n      <td>3.87</td>\n      <td>0.232865</td>\n      <td>0.248935</td>\n      <td>0.11428</td>\n      <td>10.553205</td>\n      <td>0.103953</td>\n      <td>0.303585</td>\n      <td>0.463887</td>\n      <td>2.110122</td>\n      <td>1.142857</td>\n      <td>1.92728</td>\n      <td>0.376927</td>\n      <td>2018-07-30</td>\n    </tr>\n    <tr>\n      <th>2</th>\n      <td>2</td>\n      <td>Brand A</td>\n      <td>47</td>\n      <td>8.253228</td>\n      <td>0</td>\n      <td>3.87</td>\n      <td>0.232865</td>\n      <td>0.248935</td>\n      <td>0.11428</td>\n      <td>10.553205</td>\n      <td>0.103953</td>\n      <td>0.303585</td>\n      <td>0.463887</td>\n      <td>2.110122</td>\n      <td>1.142857</td>\n      <td>1.92728</td>\n      <td>0.376927</td>\n      <td>2018-08-06</td>\n    </tr>\n    <tr>\n      <th>3</th>\n      <td>2</td>\n      <td>Brand A</td>\n      <td>48</td>\n      <td>8.987197</td>\n      <td>0</td>\n      <td>3.87</td>\n      <td>0.232865</td>\n      <td>0.248935</td>\n      <td>0.11428</td>\n      <td>10.553205</td>\n      <td>0.103953</td>\n      <td>0.303585</td>\n      <td>0.463887</td>\n      <td>2.110122</td>\n      <td>1.142857</td>\n      <td>1.92728</td>\n      <td>0.376927</td>\n      <td>2018-08-13</td>\n    </tr>\n    <tr>\n      <th>4</th>\n      <td>2</td>\n      <td>Brand A</td>\n      <td>50</td>\n      <td>9.093357</td>\n      <td>0</td>\n      <td>3.87</td>\n      <td>0.232865</td>\n      <td>0.248935</td>\n      <td>0.11428</td>\n      <td>10.553205</td>\n      <td>0.103953</td>\n      <td>0.303585</td>\n      <td>0.463887</td>\n      <td>2.110122</td>\n      <td>1.142857</td>\n      <td>1.92728</td>\n      <td>0.376927</td>\n      <td>2018-08-27</td>\n    </tr>\n  </tbody>\n</table>\n</div>"
          },
          "metadata": {}
        }
      ],
      "execution_count": 13,
      "metadata": {
        "gather": {
          "logged": 1675342114660
        },
        "jupyter": {
          "outputs_hidden": false,
          "source_hidden": false
        },
        "nteract": {
          "transient": {
            "deleting": false
          }
        }
      }
    },
    {
      "cell_type": "code",
      "source": [
        "#Save to a new dataset\n",
        "data.to_csv(r'retail_sales_datasetv2.csv', index = False)"
      ],
      "outputs": [],
      "execution_count": 14,
      "metadata": {
        "gather": {
          "logged": 1675342114859
        },
        "jupyter": {
          "outputs_hidden": false,
          "source_hidden": false
        },
        "nteract": {
          "transient": {
            "deleting": false
          }
        }
      }
    }
  ],
  "metadata": {
    "kernel_info": {
      "name": "python38-azureml"
    },
    "kernelspec": {
      "name": "python38-azureml",
      "language": "python",
      "display_name": "Python 3.8 - AzureML"
    },
    "language_info": {
      "name": "python",
      "version": "3.8.10",
      "mimetype": "text/x-python",
      "codemirror_mode": {
        "name": "ipython",
        "version": 3
      },
      "pygments_lexer": "ipython3",
      "nbconvert_exporter": "python",
      "file_extension": ".py"
    },
    "microsoft": {
      "host": {
        "AzureML": {
          "notebookHasBeenCompleted": true
        }
      }
    },
    "nteract": {
      "version": "nteract-front-end@1.0.0"
    }
  },
  "nbformat": 4,
  "nbformat_minor": 2
}