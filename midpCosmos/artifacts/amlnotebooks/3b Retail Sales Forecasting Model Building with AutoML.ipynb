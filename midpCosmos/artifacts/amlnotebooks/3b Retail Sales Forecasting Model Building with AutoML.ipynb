{
  "cells": [
    {
      "cell_type": "markdown",
      "source": [
        "****Important – Do not use in production, for demonstration purposes only – please review the legal notices before continuing****"
      ],
      "metadata": {
        "nteract": {
          "transient": {
            "deleting": false
          }
        }
      }
    },
    {
      "cell_type": "markdown",
      "source": [
        "## Retail Sales Forecasting Model Building with AutoML"
      ],
      "metadata": {
        "nteract": {
          "transient": {
            "deleting": false
          }
        }
      }
    },
    {
      "cell_type": "markdown",
      "source": [
        "Using AutoML, we will train and evaluate a retail forecasting model in this notebook."
      ],
      "metadata": {
        "nteract": {
          "transient": {
            "deleting": false
          }
        }
      }
    },
    {
      "cell_type": "markdown",
      "source": [
        "### Retail Data Dictionary\n",
        "- store - store number \n",
        "- brand - brand indicator\n",
        "- week - week number\n",
        "- logmove - log of units sold\n",
        "- price - price of a single unit\n",
        "- feat - feature advertisement\n",
        "- age60 - percentage of the population that is aged 60 or older\n",
        "- educucation - percentage of the population that has a college degree\n",
        "- ethinicity - percent of the population that is black or Hispanic\n",
        "- income - median income\n",
        "- hhlarge - percentage of households with 5 or more persons\n",
        "- workwom - percentage of women with full-time jobs\n",
        "- hval150 - percentage of households worth more than $150,000\n",
        "- sstrdist - distance to the nearest warehouse store\n",
        "- sstrvol - ratio of sales of this store to the nearest warehouse store\n",
        "- cpdist5 - average distance in miles to the nearest 5 supermarkets\n",
        "- cpwvol5 - ratio of sales of this store to the average of the nearest five store\n",
        "- time - Date and time"
      ],
      "metadata": {
        "nteract": {
          "transient": {
            "deleting": false
          }
        }
      }
    },
    {
      "cell_type": "markdown",
      "source": [
        "### Importing libraries"
      ],
      "metadata": {
        "nteract": {
          "transient": {
            "deleting": false
          }
        }
      }
    },
    {
      "cell_type": "code",
      "source": [
        "#%pip install certifi==2022.9.24"
      ],
      "outputs": [],
      "execution_count": 1,
      "metadata": {
        "jupyter": {
          "source_hidden": false,
          "outputs_hidden": false
        },
        "nteract": {
          "transient": {
            "deleting": false
          }
        },
        "gather": {
          "logged": 1675354382066
        }
      }
    },
    {
      "cell_type": "code",
      "source": [
        "import azureml.core\n",
        "import pandas as pd\n",
        "from azureml.core import Experiment, Workspace, Dataset, Datastore\n",
        "from azureml.train.automl import AutoMLConfig\n",
        "from azureml.automl.core.forecasting_parameters import ForecastingParameters\n",
        "import mlflow\n",
        "\n",
        "import logging"
      ],
      "outputs": [],
      "execution_count": 2,
      "metadata": {
        "gather": {
          "logged": 1675354382712
        }
      }
    },
    {
      "cell_type": "markdown",
      "source": [
        "### Configuring Workspace and Experiment"
      ],
      "metadata": {
        "nteract": {
          "transient": {
            "deleting": false
          }
        }
      }
    },
    {
      "cell_type": "code",
      "source": [
        "ws = Workspace.from_config()\n",
        "\n",
        "# choose a name for the run history container in the workspace\n",
        "experiment_name = \"aml_retail_sales_forecasting\"\n",
        "\n",
        "experiment = Experiment(ws, experiment_name)\n",
        "\n",
        "output = {}\n",
        "output[\"Subscription ID\"] = ws.subscription_id\n",
        "output[\"Workspace\"] = ws.name\n",
        "output[\"SKU\"] = ws.sku\n",
        "output[\"Resource Group\"] = ws.resource_group\n",
        "output[\"Location\"] = ws.location\n",
        "output[\"Run History Name\"] = experiment_name\n",
        "output[\"SDK Version\"] = azureml.core.VERSION\n",
        "pd.set_option(\"display.max_colwidth\", None)\n",
        "outputDf = pd.DataFrame(data=output, index=[\"\"])\n",
        "outputDf.T"
      ],
      "outputs": [
        {
          "output_type": "execute_result",
          "execution_count": 3,
          "data": {
            "text/plain": "                                                      \nSubscription ID   506e86fc-853c-4557-a6e5-ad72114efd2b\nWorkspace                                   amlws-midp\nSKU                                              Basic\nResource Group             rg-midpwithazurecosmos-prod\nLocation                                       eastus2\nRun History Name          aml_retail_sales_forecasting\nSDK Version                                     1.48.0",
            "text/html": "<div>\n<style scoped>\n    .dataframe tbody tr th:only-of-type {\n        vertical-align: middle;\n    }\n\n    .dataframe tbody tr th {\n        vertical-align: top;\n    }\n\n    .dataframe thead th {\n        text-align: right;\n    }\n</style>\n<table border=\"1\" class=\"dataframe\">\n  <thead>\n    <tr style=\"text-align: right;\">\n      <th></th>\n      <th></th>\n    </tr>\n  </thead>\n  <tbody>\n    <tr>\n      <th>Subscription ID</th>\n      <td>506e86fc-853c-4557-a6e5-ad72114efd2b</td>\n    </tr>\n    <tr>\n      <th>Workspace</th>\n      <td>amlws-midp</td>\n    </tr>\n    <tr>\n      <th>SKU</th>\n      <td>Basic</td>\n    </tr>\n    <tr>\n      <th>Resource Group</th>\n      <td>rg-midpwithazurecosmos-prod</td>\n    </tr>\n    <tr>\n      <th>Location</th>\n      <td>eastus2</td>\n    </tr>\n    <tr>\n      <th>Run History Name</th>\n      <td>aml_retail_sales_forecasting</td>\n    </tr>\n    <tr>\n      <th>SDK Version</th>\n      <td>1.48.0</td>\n    </tr>\n  </tbody>\n</table>\n</div>"
          },
          "metadata": {}
        }
      ],
      "execution_count": 3,
      "metadata": {
        "gather": {
          "logged": 1675354383323
        }
      }
    },
    {
      "cell_type": "markdown",
      "source": [
        "### Creating the dataset for Azure Machine Learning"
      ],
      "metadata": {
        "nteract": {
          "transient": {
            "deleting": false
          }
        }
      }
    },
    {
      "cell_type": "code",
      "source": [
        "df = pd.read_csv(\"retail_sales_datasetv2.csv\")\n",
        "datastore = Datastore.get_default(ws)\n",
        "dataset = Dataset.Tabular.register_pandas_dataframe(df, datastore, \"dataset_from_pandas_df\", show_progress=True)"
      ],
      "outputs": [
        {
          "output_type": "stream",
          "name": "stdout",
          "text": "Validating arguments.\nArguments validated.\nSuccessfully obtained datastore reference and path.\nUploading file to managed-dataset/4b3f6576-db1c-4433-884b-c7d72fce888a/\nSuccessfully uploaded file to datastore.\nCreating and registering a new dataset.\nSuccessfully created and registered a new dataset.\n"
        }
      ],
      "execution_count": 5,
      "metadata": {
        "gather": {
          "logged": 1675354387583
        }
      }
    },
    {
      "cell_type": "markdown",
      "source": [
        "### Model Configuration"
      ],
      "metadata": {
        "nteract": {
          "transient": {
            "deleting": false
          }
        }
      }
    },
    {
      "cell_type": "code",
      "source": [
        "forecasting_parameters = ForecastingParameters(\n",
        "    time_column_name = \"time\",\n",
        "    forecast_horizon = \"auto\",\n",
        "    time_series_id_column_names = [\"store\",\"brand\"],\n",
        ")\n",
        "\n",
        "automl_config = AutoMLConfig(\n",
        "                             task = \"forecasting\",\n",
        "                             training_data = dataset,\n",
        "                             label_column_name = \"logmove\",\n",
        "                             primary_metric = \"normalized_root_mean_squared_error\",\n",
        "                             experiment_timeout_hours = 0.3,\n",
        "                             max_concurrent_iterations = 2,\n",
        "                             #compute_target=compute_target,\n",
        "                             enable_early_stopping=True,\n",
        "                             n_cross_validations=\"auto\",  # Feel free to set to a small integer (>=2) if runtime is an issue.\n",
        "                             max_cores_per_iteration=-1,\n",
        "                             verbosity=logging.INFO,\n",
        "                             forecasting_parameters=forecasting_parameters,)\n",
        "\n",
        "run = experiment.submit(automl_config, show_output=True)                            "
      ],
      "outputs": [
        {
          "output_type": "stream",
          "name": "stdout",
          "text": "No run_configuration provided, running on local with default configuration\nRunning in the active local environment.\n"
        },
        {
          "output_type": "display_data",
          "data": {
            "text/plain": "<IPython.core.display.HTML object>",
            "text/html": "<table style=\"width:100%\"><tr><th>Experiment</th><th>Id</th><th>Type</th><th>Status</th><th>Details Page</th><th>Docs Page</th></tr><tr><td>aml_retail_sales_forecasting</td><td>AutoML_55f03bef-c576-4c29-b7f8-95c76c2a2b18</td><td>automl</td><td>Preparing</td><td><a href=\"https://ml.azure.com/runs/AutoML_55f03bef-c576-4c29-b7f8-95c76c2a2b18?wsid=/subscriptions/506e86fc-853c-4557-a6e5-ad72114efd2b/resourcegroups/rg-midpwithazurecosmos-prod/workspaces/amlws-midp&amp;tid=f94768c8-8714-4abe-8e2d-37a64b18216a\" target=\"_blank\" rel=\"noopener\">Link to Azure Machine Learning studio</a></td><td><a href=\"https://docs.microsoft.com/en-us/python/api/overview/azure/ml/intro?view=azure-ml-py\" target=\"_blank\" rel=\"noopener\">Link to Documentation</a></td></tr></table>"
          },
          "metadata": {}
        },
        {
          "output_type": "stream",
          "name": "stdout",
          "text": "Current status: DatasetFeaturization. Beginning to featurize the dataset.\nCurrent status: DatasetFeaturizationCompleted. Completed featurizing the dataset.\nCurrent status: DatasetCrossValidationSplit. Generating individually featurized CV splits.\nCurrent status: DatasetFeaturization. Beginning to featurize the CV split.\nCurrent status: DatasetFeaturizationCompleted. Completed featurizing the CV split.\nCurrent status: DatasetFeaturization. Beginning to featurize the CV split.\nCurrent status: DatasetFeaturizationCompleted. Completed featurizing the CV split.\nCurrent status: DatasetFeaturization. Beginning to featurize the CV split.\nCurrent status: DatasetFeaturizationCompleted. Completed featurizing the CV split.\nCurrent status: DatasetFeaturization. Beginning to featurize the CV split.\nCurrent status: DatasetFeaturizationCompleted. Completed featurizing the CV split.\nCurrent status: DatasetFeaturization. Beginning to featurize the CV split.\nCurrent status: DatasetFeaturizationCompleted. Completed featurizing the CV split.\n\n********************************************************************************************\nDATA GUARDRAILS: \n\nTYPE:         Time Series ID detection\nSTATUS:       PASSED\nDESCRIPTION:  The data set was analyzed, and no duplicate time index were detected.\n              Learn more about time-series forecasting configurations: https://aka.ms/AutomatedMLForecastingConfiguration\n\n********************************************************************************************\n\nTYPE:         Frequency detection\nSTATUS:       PASSED\nDESCRIPTION:  The time series was analyzed, all data points are aligned with detected frequency.\n              Learn more about data preparation for time-series forecasting: https://aka.ms/AutomatedMLDataPreparation\n\n********************************************************************************************\n\nTYPE:         Missing feature values imputation\nSTATUS:       PASSED\nDESCRIPTION:  No feature missing values were detected in the training data.\n              Learn more about missing value imputation: https://aka.ms/AutomatedMLFeaturization\n\n********************************************************************************************\n\nTYPE:         Short series handling\nSTATUS:       PASSED\nDESCRIPTION:  Automated ML detected enough data points for each series in the input data to continue with training.\n              Learn more about short series handling: https://aka.ms/AutomatedMLShortSeriesHandling\n\n********************************************************************************************\n\nTYPE:         Automatic cross validation\nSTATUS:       DONE\nDESCRIPTION:  Cross validation parameter(s) were automatically set for your dataset.\n              Learn more about time-series forecasting configurations: https://aka.ms/AutomatedMLForecastingConfiguration\nDETAILS:      If n_cross_validations and/or cv_step_size is not specified, Automated ML will determine those cross validation parameters automatically for you.\n+--------------------------------+----------------------------------------------------------------+\n|Number of cross validation folds|Number of periods between two consecutive cross validation folds|\n+================================+================================================================+\n|5                               |1                                                               |\n+--------------------------------+----------------------------------------------------------------+\n\n********************************************************************************************\nCurrent status: ModelSelection. Beginning model selection.\n\n********************************************************************************************\nITER: The iteration being evaluated.\nPIPELINE: A summary description of the pipeline being evaluated.\nDURATION: Time taken for the current iteration.\nMETRIC: The result of computing score on the fitted pipeline.\nBEST: The best observed score thus far.\n********************************************************************************************\n\n ITER   PIPELINE                                       DURATION            METRIC      BEST\n    0   Naive                                          0:00:46             0.2396    0.2396\n    1   SeasonalNaive                                  0:00:45             0.2517    0.2396\n    2   Average                                        0:00:46             0.1771    0.1771\n    3   SeasonalAverage                                0:00:47             0.2036    0.1771\n    4   ExponentialSmoothing                           0:10:27             0.1857    0.1771\n    5   Arimax                                         0:04:56             0.1123    0.1123\n    6   VotingEnsemble                                 0:02:04             0.1123    0.1123\nStopping criteria reached at iteration 7. Ending experiment.\n********************************************************************************************\nCurrent status: BestRunExplainModel. Best run model explanations started\nCurrent status: ModelExplanationDataSetSetup. Model explanations data setup completed\nCurrent status: PickSurrogateModel. Choosing LightGBM as the surrogate model for explanations\nCurrent status: EngineeredFeatureExplanations. Computation of engineered features started\nCurrent status: EngineeredFeatureExplanations. Computation of engineered features completed\nCurrent status: RawFeaturesExplanations. Computation of raw features started\nCurrent status: RawFeaturesExplanations. Computation of raw features completed\nCurrent status: BestRunExplainModel. Best run model explanations completed\n********************************************************************************************\n"
        },
        {
          "output_type": "stream",
          "name": "stderr",
          "text": "2023/02/02 16:15:12 WARNING mlflow.sklearn: Model was missing function: predict. Not logging python_function flavor!\nINFO:interpret_community.common.explanation_utils:Using default datastore for uploads\n"
        }
      ],
      "execution_count": 7,
      "metadata": {
        "gather": {
          "logged": 1675355793877
        }
      }
    },
    {
      "cell_type": "markdown",
      "source": [
        "### Submitting Experiment"
      ],
      "metadata": {
        "nteract": {
          "transient": {
            "deleting": false
          }
        }
      }
    },
    {
      "cell_type": "code",
      "source": [
        "# Get best model from automl run\n",
        "best_run, non_onnx_model = run.get_output()\n",
        "\n",
        "experiment_name = 'aml_retail_sales_forecasting'\n",
        "artifact_path = experiment_name + \"_artifact\""
      ],
      "outputs": [],
      "execution_count": 8,
      "metadata": {
        "gather": {
          "logged": 1675355796855
        }
      }
    },
    {
      "cell_type": "markdown",
      "source": [
        "### Registering the best model using mlflow"
      ],
      "metadata": {}
    },
    {
      "cell_type": "code",
      "source": [
        "mlflow.set_tracking_uri(ws.get_mlflow_tracking_uri())\n",
        "mlflow.set_experiment(experiment_name)\n",
        "\n",
        "with mlflow.start_run() as run:\n",
        "    # Save the model to the outputs directory for capture\n",
        "    mlflow.sklearn.log_model(non_onnx_model, artifact_path)\n",
        "\n",
        "    # Register the model to AML model registry\n",
        "    mlflow.register_model(\"runs:/\" + run.info.run_id + \"/\" + artifact_path, \"nrf-RetailSalesForecast\")"
      ],
      "outputs": [
        {
          "output_type": "stream",
          "name": "stderr",
          "text": "Successfully registered model 'nrf-RetailSalesForecast'.\n2023/02/02 16:36:54 INFO mlflow.tracking._model_registry.client: Waiting up to 300 seconds for model version to finish creation.                     Model name: nrf-RetailSalesForecast, version 1\nCreated version '1' of model 'nrf-RetailSalesForecast'.\n"
        }
      ],
      "execution_count": 9,
      "metadata": {
        "gather": {
          "logged": 1675355815048
        }
      }
    }
  ],
  "metadata": {
    "kernel_info": {
      "name": "python38-azureml"
    },
    "kernelspec": {
      "name": "python38-azureml",
      "language": "python",
      "display_name": "Python 3.8 - AzureML"
    },
    "language_info": {
      "name": "python",
      "version": "3.8.10",
      "mimetype": "text/x-python",
      "codemirror_mode": {
        "name": "ipython",
        "version": 3
      },
      "pygments_lexer": "ipython3",
      "nbconvert_exporter": "python",
      "file_extension": ".py"
    },
    "microsoft": {
      "host": {
        "AzureML": {
          "notebookHasBeenCompleted": true
        }
      }
    },
    "nteract": {
      "version": "nteract-front-end@1.0.0"
    },
    "save_output": true,
    "synapse_widget": {
      "state": {},
      "version": "0.1"
    }
  },
  "nbformat": 4,
  "nbformat_minor": 2
}