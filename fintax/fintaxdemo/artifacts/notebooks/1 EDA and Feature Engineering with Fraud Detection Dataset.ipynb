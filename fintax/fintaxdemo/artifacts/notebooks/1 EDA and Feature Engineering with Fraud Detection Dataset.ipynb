{
  "cells": [
    {
      "cell_type": "markdown",
      "metadata": {
        "nteract": {
          "transient": {
            "deleting": false
          }
        }
      },
      "source": [
        "## Please don't run / don't click \"Run all\" the notebook:</br>\n",
        "At the time of writing of this document, the current core limit per workspace is limited and depending upon number of concurrent users, you may end up with core capacity being exceeded or maximum number of parallel jobs being exceeded error."
      ]
    },
    {
      "cell_type": "markdown",
      "metadata": {
        "nteract": {
          "transient": {
            "deleting": false
          }
        }
      },
      "source": [
        "# Exploratory Data Analysis (EDA) and Feature Engineering with Tax Fraud Detection Dataset"
      ]
    },
    {
      "cell_type": "markdown",
      "metadata": {
        "nteract": {
          "transient": {
            "deleting": false
          }
        }
      },
      "source": [
        "### Introduction\n",
        "\n",
        "In this notebook we show how to do **exploratory data analysis**, **data preparation** and **feature engineering** on tax fraud dataset. At the end \n",
        "of this notebook, we are saving the processed dataset in ADLSGen2 to be used for building fraud detection model."
      ]
    },
    {
      "cell_type": "markdown",
      "metadata": {
        "nteract": {
          "transient": {
            "deleting": false
          }
        }
      },
      "source": [
        "<h3>Description of Data</h3> <br>\n",
        "\n",
        "The tax fraud dataset contains a total of 663276 records and 31 data fields. Within the 31 data fields,\n",
        "there are 13 numerical data fields and 18 categorical data fields. Summary tables for the numerical and\n",
        "categorical data fields can be seen in the Table. "
      ]
    },
    {
      "cell_type": "markdown",
      "metadata": {
        "nteract": {
          "transient": {
            "deleting": false
          }
        }
      },
      "source": [
        "|LABEL         |FORMAT          |DESCRIPTION   |\n",
        "|:---:          | :----:         | ---:   |\n",
        "|BBLE\t       |Text\t        |one field with bble in text format&emsp;|\n",
        "|B\t           |Byte\t        |borough valid values 1-5&emsp;|\n",
        "|BLOCK\t       |&emsp;Long Integer&emsp;\t|   |\n",
        "|LOT\t       |&emsp;Long Integer\t&emsp;|   |\n",
        "|EASEMENT      |Text\t        |   |\n",
        "|OWNER\t       |Text\t        |owner name&emsp;|\n",
        "|BLDGCL\t       |Text\t        |building class&emsp;|\n",
        "|TAXCLASS      |Text\t        |tax class&emsp;|\n",
        "|LTFRONT\t   |Text\t        |lot width&emsp;|\n",
        "|LTDEP\t       |Text\t        |lot depth&emsp;|\n",
        "|EXT\t       |Text     \t    |extension indicator&emsp;|\n",
        "|STORIES\t   |Text\t        |number of stories in building&emsp;|\n",
        "|FULLVAL\t   |Double\t        |market value&emsp;|\n",
        "|AVLAND\t       |Double\t        |actual land value&emsp;|\n",
        "|AVTOT\t       |Double\t        |actual total value&emsp;|\n",
        "|EXLAND\t       |Double\t        |actual exempt land value&emsp;|\n",
        "|EXTOT\t       |Double\t        |actual exemtp land total&emsp;|\n",
        "|EXCD1\t       |Text\t        |exemption code 1&emsp;|\n",
        "|STADDR\t       |Text\t        |street address&emsp;|\n",
        "|ZIP\t       |Text\t        |zip code&emsp;|\n",
        "|EXMPTCL\t   |Text\t        |exempt class&emsp;|\n",
        "|BLDFRONT      |Text\t        |building width&emsp;|\n",
        "|BLDDEPTH      |Text\t        |building depth&emsp;|\n",
        "|AVLAND2\t   |Double\t        |transitional land value&emsp;|\n",
        "|AVTOT2\t       |Double\t        |transitional total value&emsp;|\n",
        "|EXLAND2\t   |Double\t        |transitional exempt land value&emsp;|\n",
        "|EXTOT2\t       |Double\t        |transitional exempt land total&emsp;|\n",
        "|EXCD2\t       |Text\t        |exemption code 2&emsp;|\n",
        "|PERIOD\t       |Text\t        |&emsp;assessment period when file was created&emsp;|\n",
        "|YEAR\t       |Text\t        |assessment year&emsp;|\n"
      ]
    },
    {
      "cell_type": "markdown",
      "metadata": {
        "nteract": {
          "transient": {
            "deleting": false
          }
        }
      },
      "source": [
        "<h2>Importing libraries</h2>"
      ]
    },
    {
      "cell_type": "code",
      "execution_count": 1,
      "metadata": {},
      "outputs": [
        {
          "data": {
            "application/vnd.livy.statement-meta+json": {
              "execution_finish_time": "2021-09-29T21:51:14.4611143Z",
              "execution_start_time": "2021-09-29T21:51:03.8197777Z",
              "livy_statement_state": "available",
              "queued_time": "2021-09-29T21:48:21.5568406Z",
              "session_id": 42,
              "session_start_time": "2021-09-29T21:48:21.6056812Z",
              "spark_pool": "#SPARK_POOL_NAME#",
              "state": "finished",
              "statement_id": 1
            },
            "text/plain": [
              "StatementMeta(#SPARK_POOL_NAME#, 42, 1, Finished, Available)"
            ]
          },
          "metadata": {},
          "output_type": "display_data"
        }
      ],
      "source": [
        "from pyspark.sql import SparkSession\n",
        "import matplotlib.pyplot as plt \n",
        "import seaborn as sns\n",
        "import numpy as np\n",
        "from azure.storage.blob import ContainerClient, BlobClient\n",
        "import pandas as pd\n",
        "from io import BytesIO\n",
        "from copy import deepcopy"
      ]
    },
    {
      "cell_type": "markdown",
      "metadata": {
        "nteract": {
          "transient": {
            "deleting": false
          }
        }
      },
      "source": [
        "<h2> Creating connection & reading data  </h2>"
      ]
    },
    {
      "cell_type": "code",
      "execution_count": 2,
      "metadata": {
        "collapsed": true,
        "jupyter": {
          "outputs_hidden": false,
          "source_hidden": false
        },
        "nteract": {
          "transient": {
            "deleting": false
          }
        }
      },
      "outputs": [
        {
          "data": {
            "application/vnd.livy.statement-meta+json": {
              "execution_finish_time": "2021-09-29T21:51:21.4207069Z",
              "execution_start_time": "2021-09-29T21:51:14.5676566Z",
              "livy_statement_state": "available",
              "queued_time": "2021-09-29T21:48:21.5605411Z",
              "session_id": 42,
              "session_start_time": null,
              "spark_pool": "#SPARK_POOL_NAME#",
              "state": "finished",
              "statement_id": 2
            },
            "text/plain": [
              "StatementMeta(#SPARK_POOL_NAME#, 42, 2, Finished, Available)"
            ]
          },
          "metadata": {},
          "output_type": "display_data"
        }
      ],
      "source": [
        "CONNECTIONSTRING = 'DefaultEndpointsProtocol=https;AccountName=#STORAGE_ACCOUNT_NAME#;AccountKey=#STORAGE_ACCOUNT_KEY#;EndpointSuffix=core.windows.net'\n",
        "CONTAINER_NAME = 'fraud-detection-sample-nyrealestate'\n",
        "\n",
        "BLOBNAME = 'Fraud_Detection_NYC_Data.csv'\n",
        "blob = BlobClient.from_connection_string(conn_str=CONNECTIONSTRING, container_name=CONTAINER_NAME, blob_name=BLOBNAME)\n",
        "blob_data = blob.download_blob()\n",
        "BytesIO(blob_data.content_as_bytes())\n",
        "data = pd.read_csv(BytesIO(blob_data.content_as_bytes()))"
      ]
    },
    {
      "cell_type": "markdown",
      "metadata": {
        "nteract": {
          "transient": {
            "deleting": false
          }
        }
      },
      "source": [
        "<h2>Describing Data</h2>"
      ]
    },
    {
      "cell_type": "code",
      "execution_count": 3,
      "metadata": {
        "collapsed": true,
        "jupyter": {
          "outputs_hidden": false,
          "source_hidden": false
        },
        "nteract": {
          "transient": {
            "deleting": false
          }
        }
      },
      "outputs": [
        {
          "data": {
            "application/vnd.livy.statement-meta+json": {
              "execution_finish_time": "2021-09-29T21:51:26.815157Z",
              "execution_start_time": "2021-09-29T21:51:21.5271185Z",
              "livy_statement_state": "available",
              "queued_time": "2021-09-29T21:48:21.563669Z",
              "session_id": 42,
              "session_start_time": null,
              "spark_pool": "#SPARK_POOL_NAME#",
              "state": "finished",
              "statement_id": 3
            },
            "text/plain": [
              "StatementMeta(#SPARK_POOL_NAME#, 42, 3, Finished, Available)"
            ]
          },
          "metadata": {},
          "output_type": "display_data"
        },
        {
          "data": {
            "text/html": [
              "<div>\n",
              "<style scoped>\n",
              "    .dataframe tbody tr th:only-of-type {\n",
              "        vertical-align: middle;\n",
              "    }\n",
              "\n",
              "    .dataframe tbody tr th {\n",
              "        vertical-align: top;\n",
              "    }\n",
              "\n",
              "    .dataframe thead th {\n",
              "        text-align: right;\n",
              "    }\n",
              "</style>\n",
              "<table border=\"1\" class=\"dataframe\">\n",
              "  <thead>\n",
              "    <tr style=\"text-align: right;\">\n",
              "      <th></th>\n",
              "      <th>BBLE</th>\n",
              "      <th>B</th>\n",
              "      <th>BLOCK</th>\n",
              "      <th>LOT</th>\n",
              "      <th>EASEMENT</th>\n",
              "      <th>OWNER</th>\n",
              "      <th>BLDGCL</th>\n",
              "      <th>TAXCLASS</th>\n",
              "      <th>LTFRONT</th>\n",
              "      <th>LTDEPTH</th>\n",
              "      <th>EXT</th>\n",
              "      <th>STORIES</th>\n",
              "      <th>FULLVAL</th>\n",
              "      <th>AVLAND</th>\n",
              "      <th>AVTOT</th>\n",
              "      <th>EXLAND</th>\n",
              "      <th>EXTOT</th>\n",
              "      <th>EXCD1</th>\n",
              "      <th>STADDR</th>\n",
              "      <th>ZIP</th>\n",
              "      <th>EXMPTCL</th>\n",
              "      <th>BLDFRONT</th>\n",
              "      <th>BLDDEPTH</th>\n",
              "      <th>AVLAND2</th>\n",
              "      <th>AVTOT2</th>\n",
              "      <th>EXLAND2</th>\n",
              "      <th>EXTOT2</th>\n",
              "      <th>EXCD2</th>\n",
              "      <th>PERIOD</th>\n",
              "      <th>YEAR</th>\n",
              "      <th>VALTYPE</th>\n",
              "    </tr>\n",
              "  </thead>\n",
              "  <tbody>\n",
              "    <tr>\n",
              "      <th>count</th>\n",
              "      <td>663276</td>\n",
              "      <td>663276.000000</td>\n",
              "      <td>663276.000000</td>\n",
              "      <td>663276.000000</td>\n",
              "      <td>2010</td>\n",
              "      <td>638014</td>\n",
              "      <td>663276</td>\n",
              "      <td>663276</td>\n",
              "      <td>663276.000000</td>\n",
              "      <td>663276.000000</td>\n",
              "      <td>149682</td>\n",
              "      <td>631947.000000</td>\n",
              "      <td>6.632760e+05</td>\n",
              "      <td>6.632760e+05</td>\n",
              "      <td>6.632760e+05</td>\n",
              "      <td>6.632760e+05</td>\n",
              "      <td>6.632760e+05</td>\n",
              "      <td>364432.000000</td>\n",
              "      <td>662887</td>\n",
              "      <td>650945.000000</td>\n",
              "      <td>10287</td>\n",
              "      <td>663275.000000</td>\n",
              "      <td>663275.000000</td>\n",
              "      <td>2.423170e+05</td>\n",
              "      <td>2.423170e+05</td>\n",
              "      <td>7.389700e+04</td>\n",
              "      <td>1.143670e+05</td>\n",
              "      <td>48224.000000</td>\n",
              "      <td>663275</td>\n",
              "      <td>663275</td>\n",
              "      <td>663275</td>\n",
              "    </tr>\n",
              "    <tr>\n",
              "      <th>unique</th>\n",
              "      <td>663276</td>\n",
              "      <td>NaN</td>\n",
              "      <td>NaN</td>\n",
              "      <td>NaN</td>\n",
              "      <td>12</td>\n",
              "      <td>525355</td>\n",
              "      <td>199</td>\n",
              "      <td>11</td>\n",
              "      <td>NaN</td>\n",
              "      <td>NaN</td>\n",
              "      <td>3</td>\n",
              "      <td>NaN</td>\n",
              "      <td>NaN</td>\n",
              "      <td>NaN</td>\n",
              "      <td>NaN</td>\n",
              "      <td>NaN</td>\n",
              "      <td>NaN</td>\n",
              "      <td>NaN</td>\n",
              "      <td>475418</td>\n",
              "      <td>NaN</td>\n",
              "      <td>12</td>\n",
              "      <td>NaN</td>\n",
              "      <td>NaN</td>\n",
              "      <td>NaN</td>\n",
              "      <td>NaN</td>\n",
              "      <td>NaN</td>\n",
              "      <td>NaN</td>\n",
              "      <td>NaN</td>\n",
              "      <td>1</td>\n",
              "      <td>1</td>\n",
              "      <td>1</td>\n",
              "    </tr>\n",
              "    <tr>\n",
              "      <th>top</th>\n",
              "      <td>3065720025</td>\n",
              "      <td>NaN</td>\n",
              "      <td>NaN</td>\n",
              "      <td>NaN</td>\n",
              "      <td>E</td>\n",
              "      <td>PARKCHESTER PRESERVAT</td>\n",
              "      <td>R4</td>\n",
              "      <td>1</td>\n",
              "      <td>NaN</td>\n",
              "      <td>NaN</td>\n",
              "      <td>G</td>\n",
              "      <td>NaN</td>\n",
              "      <td>NaN</td>\n",
              "      <td>NaN</td>\n",
              "      <td>NaN</td>\n",
              "      <td>NaN</td>\n",
              "      <td>NaN</td>\n",
              "      <td>NaN</td>\n",
              "      <td>501 SURF AVENUE</td>\n",
              "      <td>NaN</td>\n",
              "      <td>X1</td>\n",
              "      <td>NaN</td>\n",
              "      <td>NaN</td>\n",
              "      <td>NaN</td>\n",
              "      <td>NaN</td>\n",
              "      <td>NaN</td>\n",
              "      <td>NaN</td>\n",
              "      <td>NaN</td>\n",
              "      <td>FINAL</td>\n",
              "      <td>2010/11</td>\n",
              "      <td>AC-TR</td>\n",
              "    </tr>\n",
              "    <tr>\n",
              "      <th>freq</th>\n",
              "      <td>1</td>\n",
              "      <td>NaN</td>\n",
              "      <td>NaN</td>\n",
              "      <td>NaN</td>\n",
              "      <td>1783</td>\n",
              "      <td>6021</td>\n",
              "      <td>128039</td>\n",
              "      <td>330829</td>\n",
              "      <td>NaN</td>\n",
              "      <td>NaN</td>\n",
              "      <td>102451</td>\n",
              "      <td>NaN</td>\n",
              "      <td>NaN</td>\n",
              "      <td>NaN</td>\n",
              "      <td>NaN</td>\n",
              "      <td>NaN</td>\n",
              "      <td>NaN</td>\n",
              "      <td>NaN</td>\n",
              "      <td>902</td>\n",
              "      <td>NaN</td>\n",
              "      <td>4257</td>\n",
              "      <td>NaN</td>\n",
              "      <td>NaN</td>\n",
              "      <td>NaN</td>\n",
              "      <td>NaN</td>\n",
              "      <td>NaN</td>\n",
              "      <td>NaN</td>\n",
              "      <td>NaN</td>\n",
              "      <td>663275</td>\n",
              "      <td>663275</td>\n",
              "      <td>663275</td>\n",
              "    </tr>\n",
              "    <tr>\n",
              "      <th>mean</th>\n",
              "      <td>NaN</td>\n",
              "      <td>2.527798</td>\n",
              "      <td>3348.236095</td>\n",
              "      <td>485.042637</td>\n",
              "      <td>NaN</td>\n",
              "      <td>NaN</td>\n",
              "      <td>NaN</td>\n",
              "      <td>NaN</td>\n",
              "      <td>33.547953</td>\n",
              "      <td>81.905905</td>\n",
              "      <td>NaN</td>\n",
              "      <td>6.651435</td>\n",
              "      <td>1.065319e+06</td>\n",
              "      <td>1.090647e+05</td>\n",
              "      <td>3.110277e+05</td>\n",
              "      <td>4.232230e+04</td>\n",
              "      <td>1.161502e+05</td>\n",
              "      <td>1856.263509</td>\n",
              "      <td>NaN</td>\n",
              "      <td>10845.295941</td>\n",
              "      <td>NaN</td>\n",
              "      <td>23.598804</td>\n",
              "      <td>42.215892</td>\n",
              "      <td>2.415923e+05</td>\n",
              "      <td>7.273416e+05</td>\n",
              "      <td>3.078764e+05</td>\n",
              "      <td>6.009875e+05</td>\n",
              "      <td>1620.465059</td>\n",
              "      <td>NaN</td>\n",
              "      <td>NaN</td>\n",
              "      <td>NaN</td>\n",
              "    </tr>\n",
              "    <tr>\n",
              "      <th>std</th>\n",
              "      <td>NaN</td>\n",
              "      <td>0.975214</td>\n",
              "      <td>2457.713935</td>\n",
              "      <td>994.998348</td>\n",
              "      <td>NaN</td>\n",
              "      <td>NaN</td>\n",
              "      <td>NaN</td>\n",
              "      <td>NaN</td>\n",
              "      <td>71.902216</td>\n",
              "      <td>71.575187</td>\n",
              "      <td>NaN</td>\n",
              "      <td>10.152613</td>\n",
              "      <td>1.434205e+07</td>\n",
              "      <td>4.502345e+06</td>\n",
              "      <td>6.449744e+06</td>\n",
              "      <td>4.394188e+06</td>\n",
              "      <td>5.808737e+06</td>\n",
              "      <td>1596.386664</td>\n",
              "      <td>NaN</td>\n",
              "      <td>518.713258</td>\n",
              "      <td>NaN</td>\n",
              "      <td>41.945919</td>\n",
              "      <td>48.675277</td>\n",
              "      <td>5.666181e+06</td>\n",
              "      <td>8.517242e+06</td>\n",
              "      <td>9.870334e+06</td>\n",
              "      <td>1.068026e+07</td>\n",
              "      <td>1384.181130</td>\n",
              "      <td>NaN</td>\n",
              "      <td>NaN</td>\n",
              "      <td>NaN</td>\n",
              "    </tr>\n",
              "    <tr>\n",
              "      <th>min</th>\n",
              "      <td>NaN</td>\n",
              "      <td>1.000000</td>\n",
              "      <td>1.000000</td>\n",
              "      <td>1.000000</td>\n",
              "      <td>NaN</td>\n",
              "      <td>NaN</td>\n",
              "      <td>NaN</td>\n",
              "      <td>NaN</td>\n",
              "      <td>0.000000</td>\n",
              "      <td>0.000000</td>\n",
              "      <td>NaN</td>\n",
              "      <td>1.000000</td>\n",
              "      <td>0.000000e+00</td>\n",
              "      <td>0.000000e+00</td>\n",
              "      <td>0.000000e+00</td>\n",
              "      <td>0.000000e+00</td>\n",
              "      <td>0.000000e+00</td>\n",
              "      <td>1010.000000</td>\n",
              "      <td>NaN</td>\n",
              "      <td>10001.000000</td>\n",
              "      <td>NaN</td>\n",
              "      <td>0.000000</td>\n",
              "      <td>0.000000</td>\n",
              "      <td>4.000000e+00</td>\n",
              "      <td>1.300000e+01</td>\n",
              "      <td>1.000000e+00</td>\n",
              "      <td>7.000000e+00</td>\n",
              "      <td>1011.000000</td>\n",
              "      <td>NaN</td>\n",
              "      <td>NaN</td>\n",
              "      <td>NaN</td>\n",
              "    </tr>\n",
              "    <tr>\n",
              "      <th>25%</th>\n",
              "      <td>NaN</td>\n",
              "      <td>2.000000</td>\n",
              "      <td>1243.000000</td>\n",
              "      <td>25.000000</td>\n",
              "      <td>NaN</td>\n",
              "      <td>NaN</td>\n",
              "      <td>NaN</td>\n",
              "      <td>NaN</td>\n",
              "      <td>16.000000</td>\n",
              "      <td>59.000000</td>\n",
              "      <td>NaN</td>\n",
              "      <td>2.000000</td>\n",
              "      <td>2.437985e+05</td>\n",
              "      <td>8.174000e+03</td>\n",
              "      <td>1.948800e+04</td>\n",
              "      <td>0.000000e+00</td>\n",
              "      <td>0.000000e+00</td>\n",
              "      <td>1017.000000</td>\n",
              "      <td>NaN</td>\n",
              "      <td>10459.000000</td>\n",
              "      <td>NaN</td>\n",
              "      <td>0.000000</td>\n",
              "      <td>0.000000</td>\n",
              "      <td>6.341000e+03</td>\n",
              "      <td>3.794300e+04</td>\n",
              "      <td>2.090000e+03</td>\n",
              "      <td>2.971000e+03</td>\n",
              "      <td>1017.000000</td>\n",
              "      <td>NaN</td>\n",
              "      <td>NaN</td>\n",
              "      <td>NaN</td>\n",
              "    </tr>\n",
              "    <tr>\n",
              "      <th>50%</th>\n",
              "      <td>NaN</td>\n",
              "      <td>3.000000</td>\n",
              "      <td>2702.000000</td>\n",
              "      <td>54.000000</td>\n",
              "      <td>NaN</td>\n",
              "      <td>NaN</td>\n",
              "      <td>NaN</td>\n",
              "      <td>NaN</td>\n",
              "      <td>21.000000</td>\n",
              "      <td>100.000000</td>\n",
              "      <td>NaN</td>\n",
              "      <td>3.000000</td>\n",
              "      <td>4.670000e+05</td>\n",
              "      <td>1.424900e+04</td>\n",
              "      <td>2.904000e+04</td>\n",
              "      <td>0.000000e+00</td>\n",
              "      <td>1.620000e+03</td>\n",
              "      <td>1017.000000</td>\n",
              "      <td>NaN</td>\n",
              "      <td>11207.000000</td>\n",
              "      <td>NaN</td>\n",
              "      <td>20.000000</td>\n",
              "      <td>41.000000</td>\n",
              "      <td>2.047000e+04</td>\n",
              "      <td>8.309200e+04</td>\n",
              "      <td>3.027000e+03</td>\n",
              "      <td>3.792900e+04</td>\n",
              "      <td>1017.000000</td>\n",
              "      <td>NaN</td>\n",
              "      <td>NaN</td>\n",
              "      <td>NaN</td>\n",
              "    </tr>\n",
              "    <tr>\n",
              "      <th>75%</th>\n",
              "      <td>NaN</td>\n",
              "      <td>3.000000</td>\n",
              "      <td>5331.000000</td>\n",
              "      <td>1008.000000</td>\n",
              "      <td>NaN</td>\n",
              "      <td>NaN</td>\n",
              "      <td>NaN</td>\n",
              "      <td>NaN</td>\n",
              "      <td>30.000000</td>\n",
              "      <td>100.000000</td>\n",
              "      <td>NaN</td>\n",
              "      <td>5.000000</td>\n",
              "      <td>6.790000e+05</td>\n",
              "      <td>2.288525e+04</td>\n",
              "      <td>7.331100e+04</td>\n",
              "      <td>1.620000e+03</td>\n",
              "      <td>2.650000e+03</td>\n",
              "      <td>1920.000000</td>\n",
              "      <td>NaN</td>\n",
              "      <td>11228.000000</td>\n",
              "      <td>NaN</td>\n",
              "      <td>22.000000</td>\n",
              "      <td>55.000000</td>\n",
              "      <td>6.003000e+04</td>\n",
              "      <td>2.444380e+05</td>\n",
              "      <td>2.836800e+04</td>\n",
              "      <td>1.032960e+05</td>\n",
              "      <td>1017.000000</td>\n",
              "      <td>NaN</td>\n",
              "      <td>NaN</td>\n",
              "      <td>NaN</td>\n",
              "    </tr>\n",
              "    <tr>\n",
              "      <th>max</th>\n",
              "      <td>NaN</td>\n",
              "      <td>4.000000</td>\n",
              "      <td>8955.000000</td>\n",
              "      <td>9978.000000</td>\n",
              "      <td>NaN</td>\n",
              "      <td>NaN</td>\n",
              "      <td>NaN</td>\n",
              "      <td>NaN</td>\n",
              "      <td>9999.000000</td>\n",
              "      <td>9999.000000</td>\n",
              "      <td>NaN</td>\n",
              "      <td>119.000000</td>\n",
              "      <td>6.150000e+09</td>\n",
              "      <td>2.668500e+09</td>\n",
              "      <td>2.767500e+09</td>\n",
              "      <td>2.668500e+09</td>\n",
              "      <td>2.767500e+09</td>\n",
              "      <td>7170.000000</td>\n",
              "      <td>NaN</td>\n",
              "      <td>33803.000000</td>\n",
              "      <td>NaN</td>\n",
              "      <td>7575.000000</td>\n",
              "      <td>9393.000000</td>\n",
              "      <td>2.371005e+09</td>\n",
              "      <td>2.465055e+09</td>\n",
              "      <td>2.371005e+09</td>\n",
              "      <td>2.465055e+09</td>\n",
              "      <td>7160.000000</td>\n",
              "      <td>NaN</td>\n",
              "      <td>NaN</td>\n",
              "      <td>NaN</td>\n",
              "    </tr>\n",
              "  </tbody>\n",
              "</table>\n",
              "</div>"
            ],
            "text/plain": [
              "              BBLE              B          BLOCK  ...  PERIOD     YEAR VALTYPE\n",
              "count       663276  663276.000000  663276.000000  ...  663275   663275  663275\n",
              "unique      663276            NaN            NaN  ...       1        1       1\n",
              "top     3065720025            NaN            NaN  ...   FINAL  2010/11   AC-TR\n",
              "freq             1            NaN            NaN  ...  663275   663275  663275\n",
              "mean           NaN       2.527798    3348.236095  ...     NaN      NaN     NaN\n",
              "std            NaN       0.975214    2457.713935  ...     NaN      NaN     NaN\n",
              "min            NaN       1.000000       1.000000  ...     NaN      NaN     NaN\n",
              "25%            NaN       2.000000    1243.000000  ...     NaN      NaN     NaN\n",
              "50%            NaN       3.000000    2702.000000  ...     NaN      NaN     NaN\n",
              "75%            NaN       3.000000    5331.000000  ...     NaN      NaN     NaN\n",
              "max            NaN       4.000000    8955.000000  ...     NaN      NaN     NaN\n",
              "\n",
              "[11 rows x 31 columns]"
            ]
          },
          "metadata": {},
          "output_type": "display_data"
        }
      ],
      "source": [
        "data.describe(include = 'all')"
      ]
    },
    {
      "cell_type": "markdown",
      "metadata": {
        "nteract": {
          "transient": {
            "deleting": false
          }
        }
      },
      "source": [
        "&emsp;&emsp;&emsp;&emsp;  *The following shows the number of null values in the data split for each column*"
      ]
    },
    {
      "cell_type": "code",
      "execution_count": 4,
      "metadata": {
        "collapsed": true,
        "jupyter": {
          "outputs_hidden": false,
          "source_hidden": false
        },
        "nteract": {
          "transient": {
            "deleting": false
          }
        }
      },
      "outputs": [
        {
          "data": {
            "application/vnd.livy.statement-meta+json": {
              "execution_finish_time": "2021-09-29T21:51:27.4514711Z",
              "execution_start_time": "2021-09-29T21:51:26.9363579Z",
              "livy_statement_state": "available",
              "queued_time": "2021-09-29T21:48:21.5673113Z",
              "session_id": 42,
              "session_start_time": null,
              "spark_pool": "#SPARK_POOL_NAME#",
              "state": "finished",
              "statement_id": 4
            },
            "text/plain": [
              "StatementMeta(#SPARK_POOL_NAME#, 42, 4, Finished, Available)"
            ]
          },
          "metadata": {},
          "output_type": "display_data"
        },
        {
          "data": {
            "text/plain": [
              "BBLE             0\n",
              "B                0\n",
              "BLOCK            0\n",
              "LOT              0\n",
              "EASEMENT    661266\n",
              "OWNER        25262\n",
              "BLDGCL           0\n",
              "TAXCLASS         0\n",
              "LTFRONT          0\n",
              "LTDEPTH          0\n",
              "EXT         513594\n",
              "STORIES      31329\n",
              "FULLVAL          0\n",
              "AVLAND           0\n",
              "AVTOT            0\n",
              "EXLAND           0\n",
              "EXTOT            0\n",
              "EXCD1       298844\n",
              "STADDR         389\n",
              "ZIP          12331\n",
              "EXMPTCL     652989\n",
              "BLDFRONT         1\n",
              "BLDDEPTH         1\n",
              "AVLAND2     420959\n",
              "AVTOT2      420959\n",
              "EXLAND2     589379\n",
              "EXTOT2      548909\n",
              "EXCD2       615052\n",
              "PERIOD           1\n",
              "YEAR             1\n",
              "VALTYPE          1\n",
              "dtype: int64"
            ]
          },
          "metadata": {},
          "output_type": "display_data"
        }
      ],
      "source": [
        "data.isnull().sum() "
      ]
    },
    {
      "cell_type": "markdown",
      "metadata": {
        "nteract": {
          "transient": {
            "deleting": false
          }
        }
      },
      "source": [
        "&emsp;&emsp;&emsp;&emsp; *Describe the data dimensions for the dataset*"
      ]
    },
    {
      "cell_type": "code",
      "execution_count": 5,
      "metadata": {
        "collapsed": true,
        "jupyter": {
          "outputs_hidden": false,
          "source_hidden": false
        },
        "nteract": {
          "transient": {
            "deleting": false
          }
        }
      },
      "outputs": [
        {
          "data": {
            "application/vnd.livy.statement-meta+json": {
              "execution_finish_time": "2021-09-29T21:51:27.7200201Z",
              "execution_start_time": "2021-09-29T21:51:27.5605669Z",
              "livy_statement_state": "available",
              "queued_time": "2021-09-29T21:48:21.5729983Z",
              "session_id": 42,
              "session_start_time": null,
              "spark_pool": "#SPARK_POOL_NAME#",
              "state": "finished",
              "statement_id": 5
            },
            "text/plain": [
              "StatementMeta(#SPARK_POOL_NAME#, 42, 5, Finished, Available)"
            ]
          },
          "metadata": {},
          "output_type": "display_data"
        },
        {
          "data": {
            "text/plain": [
              "(663276, 31)"
            ]
          },
          "metadata": {},
          "output_type": "display_data"
        }
      ],
      "source": [
        "data.shape"
      ]
    },
    {
      "cell_type": "markdown",
      "metadata": {
        "nteract": {
          "transient": {
            "deleting": false
          }
        }
      },
      "source": [
        "&emsp;&emsp;&emsp;&emsp; *Describe the data types for the dataset*"
      ]
    },
    {
      "cell_type": "code",
      "execution_count": 6,
      "metadata": {
        "collapsed": true,
        "jupyter": {
          "outputs_hidden": false,
          "source_hidden": false
        },
        "nteract": {
          "transient": {
            "deleting": false
          }
        }
      },
      "outputs": [
        {
          "data": {
            "application/vnd.livy.statement-meta+json": {
              "execution_finish_time": "2021-09-29T21:51:27.9859732Z",
              "execution_start_time": "2021-09-29T21:51:27.8324562Z",
              "livy_statement_state": "available",
              "queued_time": "2021-09-29T21:48:21.5747937Z",
              "session_id": 42,
              "session_start_time": null,
              "spark_pool": "#SPARK_POOL_NAME#",
              "state": "finished",
              "statement_id": 6
            },
            "text/plain": [
              "StatementMeta(#SPARK_POOL_NAME#, 42, 6, Finished, Available)"
            ]
          },
          "metadata": {},
          "output_type": "display_data"
        },
        {
          "data": {
            "text/plain": [
              "BBLE         object\n",
              "B             int64\n",
              "BLOCK         int64\n",
              "LOT           int64\n",
              "EASEMENT     object\n",
              "OWNER        object\n",
              "BLDGCL       object\n",
              "TAXCLASS     object\n",
              "LTFRONT       int64\n",
              "LTDEPTH       int64\n",
              "EXT          object\n",
              "STORIES     float64\n",
              "FULLVAL     float64\n",
              "AVLAND      float64\n",
              "AVTOT       float64\n",
              "EXLAND      float64\n",
              "EXTOT       float64\n",
              "EXCD1       float64\n",
              "STADDR       object\n",
              "ZIP         float64\n",
              "EXMPTCL      object\n",
              "BLDFRONT    float64\n",
              "BLDDEPTH    float64\n",
              "AVLAND2     float64\n",
              "AVTOT2      float64\n",
              "EXLAND2     float64\n",
              "EXTOT2      float64\n",
              "EXCD2       float64\n",
              "PERIOD       object\n",
              "YEAR         object\n",
              "VALTYPE      object\n",
              "dtype: object"
            ]
          },
          "metadata": {},
          "output_type": "display_data"
        }
      ],
      "source": [
        "data.dtypes"
      ]
    },
    {
      "cell_type": "markdown",
      "metadata": {
        "nteract": {
          "transient": {
            "deleting": false
          }
        }
      },
      "source": [
        "# **Data Cleaning**"
      ]
    },
    {
      "cell_type": "code",
      "execution_count": 7,
      "metadata": {
        "collapsed": true,
        "jupyter": {
          "outputs_hidden": false,
          "source_hidden": false
        },
        "nteract": {
          "transient": {
            "deleting": false
          }
        }
      },
      "outputs": [
        {
          "data": {
            "application/vnd.livy.statement-meta+json": {
              "execution_finish_time": "2021-09-29T21:51:28.6179413Z",
              "execution_start_time": "2021-09-29T21:51:28.1184089Z",
              "livy_statement_state": "available",
              "queued_time": "2021-09-29T21:48:21.5782801Z",
              "session_id": 42,
              "session_start_time": null,
              "spark_pool": "#SPARK_POOL_NAME#",
              "state": "finished",
              "statement_id": 7
            },
            "text/plain": [
              "StatementMeta(#SPARK_POOL_NAME#, 42, 7, Finished, Available)"
            ]
          },
          "metadata": {},
          "output_type": "display_data"
        }
      ],
      "source": [
        "# Defining numerical and catagorical columns\n",
        "numData = deepcopy(data)\n",
        "catData = deepcopy(data)\n",
        "\n",
        "\n",
        "#transform the columns into a list of string\n",
        "allCols = data.columns.tolist()\n",
        "\n",
        "\n",
        "\n",
        "#creating a list of variable names as a list\n",
        "catCols = ['BBLE','B','BLOCK','LOT','EASEMENT',\n",
        "            'OWNER','BLDGCL','TAXCLASS','EXT','EXCD1',\n",
        "            'STADDR','ZIP','EXMPTCL','EXCD2','PERIOD','YEAR','VALTYPE']\n",
        "\n",
        "numCols = list(set(allCols) - set(catCols))\n",
        "\n",
        "numData = numData.drop(columns=catCols)\n",
        "catData = catData.drop(columns=numCols)\n",
        "\n",
        "\n",
        "#numData consists of a dataframe with all subsequent data after dropping catCols columns\n",
        "\n",
        "#catData consists of a dataframe with all subsequent data after dropping the columns that are not in catCols"
      ]
    },
    {
      "cell_type": "markdown",
      "metadata": {
        "nteract": {
          "transient": {
            "deleting": false
          }
        }
      },
      "source": [
        "<h1> &emsp; Handling Missing Values<h1>"
      ]
    },
    {
      "cell_type": "markdown",
      "metadata": {
        "nteract": {
          "transient": {
            "deleting": false
          }
        }
      },
      "source": [
        "#### &emsp;&emsp;&emsp;DATA IMPUTATION FOR ZIP Code"
      ]
    },
    {
      "cell_type": "code",
      "execution_count": 8,
      "metadata": {
        "collapsed": true,
        "jupyter": {
          "outputs_hidden": false,
          "source_hidden": false
        },
        "nteract": {
          "transient": {
            "deleting": false
          }
        }
      },
      "outputs": [
        {
          "data": {
            "application/vnd.livy.statement-meta+json": {
              "execution_finish_time": "2021-09-29T21:51:29.2335224Z",
              "execution_start_time": "2021-09-29T21:51:28.7180219Z",
              "livy_statement_state": "available",
              "queued_time": "2021-09-29T21:48:21.5804885Z",
              "session_id": 42,
              "session_start_time": null,
              "spark_pool": "#SPARK_POOL_NAME#",
              "state": "finished",
              "statement_id": 8
            },
            "text/plain": [
              "StatementMeta(#SPARK_POOL_NAME#, 42, 8, Finished, Available)"
            ]
          },
          "metadata": {},
          "output_type": "display_data"
        }
      ],
      "source": [
        "# Copy dataframe to keep the df in the original form.\n",
        "df2 = deepcopy(data)\n",
        "dropCols_impute = ['BBLE','PERIOD','YEAR','VALTYPE','LOT','EASEMENT','OWNER','EXT','EXCD1','EXMPTCL','EXCD2','AVLAND2','AVTOT2','EXLAND2','EXTOT2']\n",
        "df2 = df2.drop(columns=dropCols_impute)"
      ]
    },
    {
      "cell_type": "markdown",
      "metadata": {
        "nteract": {
          "transient": {
            "deleting": false
          }
        }
      },
      "source": [
        "#### &emsp;&emsp;&emsp; Filling in missing values in a column"
      ]
    },
    {
      "cell_type": "markdown",
      "metadata": {
        "nteract": {
          "transient": {
            "deleting": false
          }
        }
      },
      "source": [
        "&emsp;&emsp;&emsp;&emsp;'STADDR' is heavily populated with only 389 property records missing a value, as seen above in cell 4\n",
        "\n",
        "&emsp;&emsp;&emsp;&emsp;This is an important data field,  we will fill the missing values based on location related data fields from the dataset."
      ]
    },
    {
      "cell_type": "code",
      "execution_count": 9,
      "metadata": {
        "collapsed": true,
        "jupyter": {
          "outputs_hidden": false,
          "source_hidden": false
        },
        "nteract": {
          "transient": {
            "deleting": false
          }
        }
      },
      "outputs": [
        {
          "data": {
            "application/vnd.livy.statement-meta+json": {
              "execution_finish_time": "2021-09-29T21:51:30.4356912Z",
              "execution_start_time": "2021-09-29T21:51:29.33856Z",
              "livy_statement_state": "available",
              "queued_time": "2021-09-29T21:48:21.5832305Z",
              "session_id": 42,
              "session_start_time": null,
              "spark_pool": "#SPARK_POOL_NAME#",
              "state": "finished",
              "statement_id": 9
            },
            "text/plain": [
              "StatementMeta(#SPARK_POOL_NAME#, 42, 9, Finished, Available)"
            ]
          },
          "metadata": {},
          "output_type": "display_data"
        },
        {
          "data": {
            "text/html": [
              "<div>\n",
              "<style scoped>\n",
              "    .dataframe tbody tr th:only-of-type {\n",
              "        vertical-align: middle;\n",
              "    }\n",
              "\n",
              "    .dataframe tbody tr th {\n",
              "        vertical-align: top;\n",
              "    }\n",
              "\n",
              "    .dataframe thead th {\n",
              "        text-align: right;\n",
              "    }\n",
              "</style>\n",
              "<table border=\"1\" class=\"dataframe\">\n",
              "  <thead>\n",
              "    <tr style=\"text-align: right;\">\n",
              "      <th></th>\n",
              "      <th>STADDR</th>\n",
              "      <th>STADDR_temp</th>\n",
              "    </tr>\n",
              "  </thead>\n",
              "  <tbody>\n",
              "    <tr>\n",
              "      <th>0</th>\n",
              "      <td>1 GOVERNORS ISLAND</td>\n",
              "      <td>GOVERNORS ISLAND</td>\n",
              "    </tr>\n",
              "    <tr>\n",
              "      <th>1</th>\n",
              "      <td>1 LIBERTY ISLAND</td>\n",
              "      <td>LIBERTY ISLAND</td>\n",
              "    </tr>\n",
              "    <tr>\n",
              "      <th>2</th>\n",
              "      <td>1 ELLIS ISLAND</td>\n",
              "      <td>ELLIS ISLAND</td>\n",
              "    </tr>\n",
              "    <tr>\n",
              "      <th>3</th>\n",
              "      <td>MARGINAL STREET</td>\n",
              "      <td>MARGINAL STREET</td>\n",
              "    </tr>\n",
              "    <tr>\n",
              "      <th>4</th>\n",
              "      <td>PIER 6</td>\n",
              "      <td>PIER 6</td>\n",
              "    </tr>\n",
              "  </tbody>\n",
              "</table>\n",
              "</div>"
            ],
            "text/plain": [
              "               STADDR       STADDR_temp\n",
              "0  1 GOVERNORS ISLAND  GOVERNORS ISLAND\n",
              "1    1 LIBERTY ISLAND    LIBERTY ISLAND\n",
              "2      1 ELLIS ISLAND      ELLIS ISLAND\n",
              "3     MARGINAL STREET   MARGINAL STREET\n",
              "4              PIER 6            PIER 6"
            ]
          },
          "metadata": {},
          "output_type": "display_data"
        }
      ],
      "source": [
        "# Copy the STADDR data field into a new column and strip out the address numbers \n",
        "# from the street address for the purpose of usability\n",
        "\n",
        "\n",
        "\n",
        "df2['STADDR_temp'] = df2['STADDR']\n",
        "df2['STADDR_temp'] = df2['STADDR_temp'].str.lstrip('1234567890. ') \n",
        "df2[['STADDR','STADDR_temp']].head()"
      ]
    },
    {
      "cell_type": "markdown",
      "metadata": {
        "nteract": {
          "transient": {
            "deleting": false
          }
        }
      },
      "source": [
        "&emsp;&emsp;&emsp;&emsp;**Now we use a lambda function to essentially fill the NaN values with dummy values**\n",
        "\n",
        "&emsp;&emsp;&emsp;&emsp;*A lambda fuction is the same as regular function but it is shorter and it is used for smaller tasks, for example as a filter*"
      ]
    },
    {
      "cell_type": "code",
      "execution_count": 10,
      "metadata": {
        "collapsed": true,
        "jupyter": {
          "outputs_hidden": false,
          "source_hidden": false
        },
        "nteract": {
          "transient": {
            "deleting": false
          }
        }
      },
      "outputs": [
        {
          "data": {
            "application/vnd.livy.statement-meta+json": {
              "execution_finish_time": "2021-09-29T21:53:44.8875245Z",
              "execution_start_time": "2021-09-29T21:51:30.5688631Z",
              "livy_statement_state": "available",
              "queued_time": "2021-09-29T21:48:21.5880788Z",
              "session_id": 42,
              "session_start_time": null,
              "spark_pool": "#SPARK_POOL_NAME#",
              "state": "finished",
              "statement_id": 10
            },
            "text/plain": [
              "StatementMeta(#SPARK_POOL_NAME#, 42, 10, Finished, Available)"
            ]
          },
          "metadata": {},
          "output_type": "display_data"
        }
      ],
      "source": [
        "# copy df2 into another dataframe to alter the data fields; this is a throwaway dataframe\n",
        "df3 = deepcopy(df2) \n",
        "\n",
        "\n",
        "# This is a lambda functin to be used with the transform method on the pandas dataframe\n",
        "f_zip = lambda x: x.mode()[0] if not x.mode().empty else np.nan \n",
        "df3['STADDR_temp2'] = df3['STADDR_temp'].fillna('empty') # This will fill the NaN values with a dummy value \n",
        "\n",
        "\n",
        "\n",
        "# Group by B, BLOCK, STADDR_temp2, then find the mode for the ZIP\n",
        "df3['ZIP2'] = df3['ZIP'].fillna(df3.groupby(['B','BLOCK','STADDR_temp2'])['ZIP'].transform(f_zip)) "
      ]
    },
    {
      "cell_type": "code",
      "execution_count": 11,
      "metadata": {
        "collapsed": true,
        "jupyter": {
          "outputs_hidden": false,
          "source_hidden": false
        },
        "nteract": {
          "transient": {
            "deleting": false
          }
        }
      },
      "outputs": [
        {
          "data": {
            "application/vnd.livy.statement-meta+json": {
              "execution_finish_time": "2021-09-29T21:54:01.7167774Z",
              "execution_start_time": "2021-09-29T21:53:45.0216479Z",
              "livy_statement_state": "available",
              "queued_time": "2021-09-29T21:48:21.5894642Z",
              "session_id": 42,
              "session_start_time": null,
              "spark_pool": "#SPARK_POOL_NAME#",
              "state": "finished",
              "statement_id": 11
            },
            "text/plain": [
              "StatementMeta(#SPARK_POOL_NAME#, 42, 11, Finished, Available)"
            ]
          },
          "metadata": {},
          "output_type": "display_data"
        }
      ],
      "source": [
        "# Group by B, BLOCK, then find the mode for the ZIP\n",
        "df3['ZIP3'] = df3['ZIP2'].fillna(df3.groupby(['B','BLOCK'])['ZIP2'].transform(f_zip)) "
      ]
    },
    {
      "cell_type": "code",
      "execution_count": 12,
      "metadata": {
        "collapsed": true,
        "jupyter": {
          "outputs_hidden": false,
          "source_hidden": false
        },
        "nteract": {
          "transient": {
            "deleting": false
          }
        }
      },
      "outputs": [
        {
          "data": {
            "application/vnd.livy.statement-meta+json": {
              "execution_finish_time": "2021-09-29T21:54:32.0310011Z",
              "execution_start_time": "2021-09-29T21:54:01.8309543Z",
              "livy_statement_state": "available",
              "queued_time": "2021-09-29T21:48:21.5910807Z",
              "session_id": 42,
              "session_start_time": null,
              "spark_pool": "#SPARK_POOL_NAME#",
              "state": "finished",
              "statement_id": 12
            },
            "text/plain": [
              "StatementMeta(#SPARK_POOL_NAME#, 42, 12, Finished, Available)"
            ]
          },
          "metadata": {},
          "output_type": "display_data"
        }
      ],
      "source": [
        "# Group by B, STADDR_temp2, then find the mode for the ZIP\n",
        "df3['ZIP4'] = df3['ZIP3'].fillna(df3.groupby(['B','STADDR_temp2'])['ZIP3'].transform(f_zip))"
      ]
    },
    {
      "cell_type": "code",
      "execution_count": 13,
      "metadata": {
        "collapsed": true,
        "jupyter": {
          "outputs_hidden": false,
          "source_hidden": false
        },
        "nteract": {
          "transient": {
            "deleting": false
          }
        }
      },
      "outputs": [
        {
          "data": {
            "application/vnd.livy.statement-meta+json": {
              "execution_finish_time": "2021-09-29T21:54:48.8564073Z",
              "execution_start_time": "2021-09-29T21:54:32.1351365Z",
              "livy_statement_state": "available",
              "queued_time": "2021-09-29T21:48:21.5949325Z",
              "session_id": 42,
              "session_start_time": null,
              "spark_pool": "#SPARK_POOL_NAME#",
              "state": "finished",
              "statement_id": 13
            },
            "text/plain": [
              "StatementMeta(#SPARK_POOL_NAME#, 42, 13, Finished, Available)"
            ]
          },
          "metadata": {},
          "output_type": "display_data"
        }
      ],
      "source": [
        "# Group by B, BLOCK, then find the mode for the ZIP\n",
        "df3['ZIP5'] = df3['ZIP4'].fillna(df3.groupby(['B','BLOCK'])['ZIP4'].transform(f_zip)) "
      ]
    },
    {
      "cell_type": "code",
      "execution_count": 14,
      "metadata": {
        "collapsed": true,
        "jupyter": {
          "outputs_hidden": false,
          "source_hidden": false
        },
        "nteract": {
          "transient": {
            "deleting": false
          }
        }
      },
      "outputs": [
        {
          "data": {
            "application/vnd.livy.statement-meta+json": {
              "execution_finish_time": "2021-09-29T21:54:49.1180325Z",
              "execution_start_time": "2021-09-29T21:54:48.9608179Z",
              "livy_statement_state": "available",
              "queued_time": "2021-09-29T21:48:21.5980046Z",
              "session_id": 42,
              "session_start_time": null,
              "spark_pool": "#SPARK_POOL_NAME#",
              "state": "finished",
              "statement_id": 14
            },
            "text/plain": [
              "StatementMeta(#SPARK_POOL_NAME#, 42, 14, Finished, Available)"
            ]
          },
          "metadata": {},
          "output_type": "display_data"
        }
      ],
      "source": [
        "# Group by B, then find the mode for the ZIP\n",
        "df3['ZIP6'] = df3['ZIP5'].fillna(df3.groupby(['B'])['ZIP5'].transform(f_zip)) \n"
      ]
    },
    {
      "cell_type": "code",
      "execution_count": 15,
      "metadata": {
        "collapsed": true,
        "jupyter": {
          "outputs_hidden": false,
          "source_hidden": false
        },
        "nteract": {
          "transient": {
            "deleting": false
          }
        }
      },
      "outputs": [
        {
          "data": {
            "application/vnd.livy.statement-meta+json": {
              "execution_finish_time": "2021-09-29T21:54:49.3779385Z",
              "execution_start_time": "2021-09-29T21:54:49.2297119Z",
              "livy_statement_state": "available",
              "queued_time": "2021-09-29T21:48:21.6011365Z",
              "session_id": 42,
              "session_start_time": null,
              "spark_pool": "#SPARK_POOL_NAME#",
              "state": "finished",
              "statement_id": 15
            },
            "text/plain": [
              "StatementMeta(#SPARK_POOL_NAME#, 42, 15, Finished, Available)"
            ]
          },
          "metadata": {},
          "output_type": "display_data"
        },
        {
          "data": {
            "text/html": [
              "<div>\n",
              "<style scoped>\n",
              "    .dataframe tbody tr th:only-of-type {\n",
              "        vertical-align: middle;\n",
              "    }\n",
              "\n",
              "    .dataframe tbody tr th {\n",
              "        vertical-align: top;\n",
              "    }\n",
              "\n",
              "    .dataframe thead th {\n",
              "        text-align: right;\n",
              "    }\n",
              "</style>\n",
              "<table border=\"1\" class=\"dataframe\">\n",
              "  <thead>\n",
              "    <tr style=\"text-align: right;\">\n",
              "      <th></th>\n",
              "      <th>B</th>\n",
              "      <th>BLOCK</th>\n",
              "      <th>BLDGCL</th>\n",
              "      <th>TAXCLASS</th>\n",
              "      <th>LTFRONT</th>\n",
              "      <th>LTDEPTH</th>\n",
              "      <th>STORIES</th>\n",
              "      <th>FULLVAL</th>\n",
              "      <th>AVLAND</th>\n",
              "      <th>AVTOT</th>\n",
              "      <th>EXLAND</th>\n",
              "      <th>EXTOT</th>\n",
              "      <th>STADDR</th>\n",
              "      <th>ZIP</th>\n",
              "      <th>BLDFRONT</th>\n",
              "      <th>BLDDEPTH</th>\n",
              "      <th>STADDR_temp</th>\n",
              "      <th>STADDR_temp2</th>\n",
              "      <th>ZIP2</th>\n",
              "      <th>ZIP3</th>\n",
              "      <th>ZIP4</th>\n",
              "      <th>ZIP5</th>\n",
              "      <th>ZIP6</th>\n",
              "    </tr>\n",
              "  </thead>\n",
              "  <tbody>\n",
              "  </tbody>\n",
              "</table>\n",
              "</div>"
            ],
            "text/plain": [
              "Empty DataFrame\n",
              "Columns: [B, BLOCK, BLDGCL, TAXCLASS, LTFRONT, LTDEPTH, STORIES, FULLVAL, AVLAND, AVTOT, EXLAND, EXTOT, STADDR, ZIP, BLDFRONT, BLDDEPTH, STADDR_temp, STADDR_temp2, ZIP2, ZIP3, ZIP4, ZIP5, ZIP6]\n",
              "Index: []"
            ]
          },
          "metadata": {},
          "output_type": "display_data"
        }
      ],
      "source": [
        "#The following script should show any NaN values in ZIP6\n",
        "\n",
        "df3.loc[df3['ZIP6'].isna()]\n",
        "\n",
        "# The results below show that there are no more NaN values for ZIP"
      ]
    },
    {
      "cell_type": "code",
      "execution_count": 16,
      "metadata": {
        "collapsed": true,
        "jupyter": {
          "outputs_hidden": false,
          "source_hidden": false
        },
        "nteract": {
          "transient": {
            "deleting": false
          }
        }
      },
      "outputs": [
        {
          "data": {
            "application/vnd.livy.statement-meta+json": {
              "execution_finish_time": "2021-09-29T21:54:49.6467304Z",
              "execution_start_time": "2021-09-29T21:54:49.4939212Z",
              "livy_statement_state": "available",
              "queued_time": "2021-09-29T21:48:21.6030595Z",
              "session_id": 42,
              "session_start_time": null,
              "spark_pool": "#SPARK_POOL_NAME#",
              "state": "finished",
              "statement_id": 16
            },
            "text/plain": [
              "StatementMeta(#SPARK_POOL_NAME#, 42, 16, Finished, Available)"
            ]
          },
          "metadata": {},
          "output_type": "display_data"
        },
        {
          "data": {
            "text/html": [
              "<div>\n",
              "<style scoped>\n",
              "    .dataframe tbody tr th:only-of-type {\n",
              "        vertical-align: middle;\n",
              "    }\n",
              "\n",
              "    .dataframe tbody tr th {\n",
              "        vertical-align: top;\n",
              "    }\n",
              "\n",
              "    .dataframe thead th {\n",
              "        text-align: right;\n",
              "    }\n",
              "</style>\n",
              "<table border=\"1\" class=\"dataframe\">\n",
              "  <thead>\n",
              "    <tr style=\"text-align: right;\">\n",
              "      <th></th>\n",
              "      <th>B</th>\n",
              "      <th>BLOCK</th>\n",
              "      <th>BLDGCL</th>\n",
              "      <th>TAXCLASS</th>\n",
              "      <th>LTFRONT</th>\n",
              "      <th>LTDEPTH</th>\n",
              "      <th>STORIES</th>\n",
              "      <th>FULLVAL</th>\n",
              "      <th>AVLAND</th>\n",
              "      <th>AVTOT</th>\n",
              "      <th>EXLAND</th>\n",
              "      <th>EXTOT</th>\n",
              "      <th>STADDR</th>\n",
              "      <th>ZIP</th>\n",
              "      <th>BLDFRONT</th>\n",
              "      <th>BLDDEPTH</th>\n",
              "    </tr>\n",
              "  </thead>\n",
              "  <tbody>\n",
              "    <tr>\n",
              "      <th>0</th>\n",
              "      <td>1</td>\n",
              "      <td>1</td>\n",
              "      <td>Y4</td>\n",
              "      <td>4</td>\n",
              "      <td>198</td>\n",
              "      <td>0</td>\n",
              "      <td>NaN</td>\n",
              "      <td>304042000.0</td>\n",
              "      <td>96228900.0</td>\n",
              "      <td>136818900.0</td>\n",
              "      <td>96228900.0</td>\n",
              "      <td>136818900.0</td>\n",
              "      <td>1 GOVERNORS ISLAND</td>\n",
              "      <td>10004.0</td>\n",
              "      <td>0.0</td>\n",
              "      <td>0.0</td>\n",
              "    </tr>\n",
              "    <tr>\n",
              "      <th>1</th>\n",
              "      <td>1</td>\n",
              "      <td>1</td>\n",
              "      <td>P7</td>\n",
              "      <td>4</td>\n",
              "      <td>500</td>\n",
              "      <td>1046</td>\n",
              "      <td>NaN</td>\n",
              "      <td>21400000.0</td>\n",
              "      <td>4225500.0</td>\n",
              "      <td>9630000.0</td>\n",
              "      <td>4225500.0</td>\n",
              "      <td>9630000.0</td>\n",
              "      <td>1 LIBERTY ISLAND</td>\n",
              "      <td>10004.0</td>\n",
              "      <td>0.0</td>\n",
              "      <td>0.0</td>\n",
              "    </tr>\n",
              "    <tr>\n",
              "      <th>2</th>\n",
              "      <td>1</td>\n",
              "      <td>1</td>\n",
              "      <td>Z9</td>\n",
              "      <td>4</td>\n",
              "      <td>27</td>\n",
              "      <td>0</td>\n",
              "      <td>NaN</td>\n",
              "      <td>193800000.0</td>\n",
              "      <td>14310000.0</td>\n",
              "      <td>87210000.0</td>\n",
              "      <td>14310000.0</td>\n",
              "      <td>87210000.0</td>\n",
              "      <td>1 ELLIS ISLAND</td>\n",
              "      <td>10004.0</td>\n",
              "      <td>0.0</td>\n",
              "      <td>0.0</td>\n",
              "    </tr>\n",
              "    <tr>\n",
              "      <th>3</th>\n",
              "      <td>1</td>\n",
              "      <td>2</td>\n",
              "      <td>Y7</td>\n",
              "      <td>4</td>\n",
              "      <td>709</td>\n",
              "      <td>564</td>\n",
              "      <td>3.0</td>\n",
              "      <td>104686000.0</td>\n",
              "      <td>39008700.0</td>\n",
              "      <td>47108700.0</td>\n",
              "      <td>39008700.0</td>\n",
              "      <td>47108700.0</td>\n",
              "      <td>MARGINAL STREET</td>\n",
              "      <td>10004.0</td>\n",
              "      <td>709.0</td>\n",
              "      <td>564.0</td>\n",
              "    </tr>\n",
              "    <tr>\n",
              "      <th>4</th>\n",
              "      <td>1</td>\n",
              "      <td>2</td>\n",
              "      <td>T2</td>\n",
              "      <td>4</td>\n",
              "      <td>793</td>\n",
              "      <td>551</td>\n",
              "      <td>2.0</td>\n",
              "      <td>39200000.0</td>\n",
              "      <td>15255000.0</td>\n",
              "      <td>17640000.0</td>\n",
              "      <td>15255000.0</td>\n",
              "      <td>17640000.0</td>\n",
              "      <td>PIER 6</td>\n",
              "      <td>10004.0</td>\n",
              "      <td>85.0</td>\n",
              "      <td>551.0</td>\n",
              "    </tr>\n",
              "  </tbody>\n",
              "</table>\n",
              "</div>"
            ],
            "text/plain": [
              "   B  BLOCK BLDGCL TAXCLASS  ...              STADDR      ZIP  BLDFRONT  BLDDEPTH\n",
              "0  1      1     Y4        4  ...  1 GOVERNORS ISLAND  10004.0       0.0       0.0\n",
              "1  1      1     P7        4  ...    1 LIBERTY ISLAND  10004.0       0.0       0.0\n",
              "2  1      1     Z9        4  ...      1 ELLIS ISLAND  10004.0       0.0       0.0\n",
              "3  1      2     Y7        4  ...     MARGINAL STREET  10004.0     709.0     564.0\n",
              "4  1      2     T2        4  ...              PIER 6  10004.0      85.0     551.0\n",
              "\n",
              "[5 rows x 16 columns]"
            ]
          },
          "metadata": {},
          "output_type": "display_data"
        }
      ],
      "source": [
        "# Copy the fully imputated ZIP data field into df2\n",
        "df2['ZIP'] = df3['ZIP6']\n",
        "\n",
        "# Drop the STADDR_temp column\n",
        "df2 = df2.drop(columns='STADDR_temp')\n",
        "df2.head()"
      ]
    },
    {
      "cell_type": "markdown",
      "metadata": {
        "nteract": {
          "transient": {
            "deleting": false
          }
        }
      },
      "source": [
        "#### &emsp;&emsp;&emsp; DATA IMPUTATION Number Of Stories In Building"
      ]
    },
    {
      "cell_type": "markdown",
      "metadata": {
        "nteract": {
          "transient": {
            "deleting": false
          }
        }
      },
      "source": [
        "&emsp;&emsp;&emsp;&emsp; We use the same method for data imputation as used previoiusly for ZIP variable"
      ]
    },
    {
      "cell_type": "code",
      "execution_count": 17,
      "metadata": {
        "collapsed": true,
        "jupyter": {
          "outputs_hidden": false,
          "source_hidden": false
        },
        "nteract": {
          "transient": {
            "deleting": false
          }
        }
      },
      "outputs": [
        {
          "data": {
            "application/vnd.livy.statement-meta+json": {
              "execution_finish_time": "2021-09-29T21:56:14.2103612Z",
              "execution_start_time": "2021-09-29T21:54:49.7583952Z",
              "livy_statement_state": "available",
              "queued_time": "2021-09-29T21:48:21.6058485Z",
              "session_id": 42,
              "session_start_time": null,
              "spark_pool": "#SPARK_POOL_NAME#",
              "state": "finished",
              "statement_id": 17
            },
            "text/plain": [
              "StatementMeta(#SPARK_POOL_NAME#, 42, 17, Finished, Available)"
            ]
          },
          "metadata": {},
          "output_type": "display_data"
        }
      ],
      "source": [
        "df3 = deepcopy(df2) # copy df2 into another dataframe to alter the data fields; this is a throwaway dataframe\n",
        "\n",
        "\n",
        "\n",
        "# This is a lambda function to be used with the transform method on the pandas dataframe\n",
        "f_stories = lambda x: x.median() if x.count() >= 5 else np.nan \n",
        "\n",
        "\n",
        "\n",
        "# Group by ZIP, BLDGCL, BLOCK, then find the median for STORIES if there's at least 5 records in the grouping\n",
        "df3['STORIES2'] = df3['STORIES'].fillna(df3.groupby(['ZIP','BLDGCL','BLOCK'])['STORIES'].transform(f_stories))"
      ]
    },
    {
      "cell_type": "code",
      "execution_count": 18,
      "metadata": {
        "collapsed": true,
        "jupyter": {
          "outputs_hidden": false,
          "source_hidden": false
        },
        "nteract": {
          "transient": {
            "deleting": false
          }
        }
      },
      "outputs": [
        {
          "data": {
            "application/vnd.livy.statement-meta+json": {
              "execution_finish_time": "2021-09-29T21:56:21.5975418Z",
              "execution_start_time": "2021-09-29T21:56:14.3149711Z",
              "livy_statement_state": "available",
              "queued_time": "2021-09-29T21:48:21.6080715Z",
              "session_id": 42,
              "session_start_time": null,
              "spark_pool": "#SPARK_POOL_NAME#",
              "state": "finished",
              "statement_id": 18
            },
            "text/plain": [
              "StatementMeta(#SPARK_POOL_NAME#, 42, 18, Finished, Available)"
            ]
          },
          "metadata": {},
          "output_type": "display_data"
        }
      ],
      "source": [
        "# Group by ZIP, BLDGCL, then find the median for STORIES if there's at least 5 records in the grouping\n",
        "\n",
        "\n",
        "df3['STORIES3'] = df3['STORIES2'].fillna(df3.groupby(['ZIP','BLDGCL'])['STORIES2'].transform(f_stories)) "
      ]
    },
    {
      "cell_type": "code",
      "execution_count": 19,
      "metadata": {
        "collapsed": true,
        "jupyter": {
          "outputs_hidden": false,
          "source_hidden": false
        },
        "nteract": {
          "transient": {
            "deleting": false
          }
        }
      },
      "outputs": [
        {
          "data": {
            "application/vnd.livy.statement-meta+json": {
              "execution_finish_time": "2021-09-29T21:56:22.7880939Z",
              "execution_start_time": "2021-09-29T21:56:21.7043827Z",
              "livy_statement_state": "available",
              "queued_time": "2021-09-29T21:48:21.6101624Z",
              "session_id": 42,
              "session_start_time": null,
              "spark_pool": "#SPARK_POOL_NAME#",
              "state": "finished",
              "statement_id": 19
            },
            "text/plain": [
              "StatementMeta(#SPARK_POOL_NAME#, 42, 19, Finished, Available)"
            ]
          },
          "metadata": {},
          "output_type": "display_data"
        }
      ],
      "source": [
        "# Group by ZIP, TAXCLASS, then find the median for STORIES if there's at least 5 records in the grouping\n",
        "\n",
        "\n",
        "df3['STORIES4'] = df3['STORIES3'].fillna(df3.groupby(['ZIP','TAXCLASS'])['STORIES3'].transform(f_stories))"
      ]
    },
    {
      "cell_type": "code",
      "execution_count": 20,
      "metadata": {
        "collapsed": true,
        "jupyter": {
          "outputs_hidden": false,
          "source_hidden": false
        },
        "nteract": {
          "transient": {
            "deleting": false
          }
        }
      },
      "outputs": [
        {
          "data": {
            "application/vnd.livy.statement-meta+json": {
              "execution_finish_time": "2021-09-29T21:56:23.955747Z",
              "execution_start_time": "2021-09-29T21:56:22.8973407Z",
              "livy_statement_state": "available",
              "queued_time": "2021-09-29T21:48:21.6119504Z",
              "session_id": 42,
              "session_start_time": null,
              "spark_pool": "#SPARK_POOL_NAME#",
              "state": "finished",
              "statement_id": 20
            },
            "text/plain": [
              "StatementMeta(#SPARK_POOL_NAME#, 42, 20, Finished, Available)"
            ]
          },
          "metadata": {},
          "output_type": "display_data"
        }
      ],
      "source": [
        "# Group by B, BLDGCL, then find the median for STORIES if there's at least 5 records in the grouping\n",
        "\n",
        "\n",
        "df3['STORIES5'] = df3['STORIES4'].fillna(df3.groupby(['B','BLDGCL'])['STORIES4'].transform(f_stories)) "
      ]
    },
    {
      "cell_type": "code",
      "execution_count": 21,
      "metadata": {
        "collapsed": true,
        "jupyter": {
          "outputs_hidden": false,
          "source_hidden": false
        },
        "nteract": {
          "transient": {
            "deleting": false
          }
        }
      },
      "outputs": [
        {
          "data": {
            "application/vnd.livy.statement-meta+json": {
              "execution_finish_time": "2021-09-29T21:56:24.2070791Z",
              "execution_start_time": "2021-09-29T21:56:24.0556854Z",
              "livy_statement_state": "available",
              "queued_time": "2021-09-29T21:48:21.6191126Z",
              "session_id": 42,
              "session_start_time": null,
              "spark_pool": "#SPARK_POOL_NAME#",
              "state": "finished",
              "statement_id": 21
            },
            "text/plain": [
              "StatementMeta(#SPARK_POOL_NAME#, 42, 21, Finished, Available)"
            ]
          },
          "metadata": {},
          "output_type": "display_data"
        },
        {
          "data": {
            "text/plain": [
              "12952"
            ]
          },
          "metadata": {},
          "output_type": "display_data"
        }
      ],
      "source": [
        "#Find the number of null values in the column\n",
        "\n",
        "df3['STORIES5'].isnull().sum()"
      ]
    },
    {
      "cell_type": "markdown",
      "metadata": {
        "nteract": {
          "transient": {
            "deleting": false
          }
        }
      },
      "source": [
        "&emsp;&emsp;&emsp;&emsp; **2nd Lambda Function - Changed the lambda function to check for 3 or more values instead of 5 or more values**"
      ]
    },
    {
      "cell_type": "code",
      "execution_count": 22,
      "metadata": {
        "collapsed": true,
        "jupyter": {
          "outputs_hidden": false,
          "source_hidden": false
        },
        "nteract": {
          "transient": {
            "deleting": false
          }
        }
      },
      "outputs": [
        {
          "data": {
            "application/vnd.livy.statement-meta+json": {
              "execution_finish_time": "2021-09-29T21:56:24.4727368Z",
              "execution_start_time": "2021-09-29T21:56:24.312813Z",
              "livy_statement_state": "available",
              "queued_time": "2021-09-29T21:48:21.6205672Z",
              "session_id": 42,
              "session_start_time": null,
              "spark_pool": "#SPARK_POOL_NAME#",
              "state": "finished",
              "statement_id": 22
            },
            "text/plain": [
              "StatementMeta(#SPARK_POOL_NAME#, 42, 22, Finished, Available)"
            ]
          },
          "metadata": {},
          "output_type": "display_data"
        }
      ],
      "source": [
        "# This is a lambda function to be used with the transform method on the pandas dataframe\n",
        "\n",
        "\n",
        "f_stories_alt = lambda x: x.median() if x.count() >= 3 else np.nan"
      ]
    },
    {
      "cell_type": "code",
      "execution_count": 23,
      "metadata": {
        "collapsed": true,
        "jupyter": {
          "outputs_hidden": false,
          "source_hidden": false
        },
        "nteract": {
          "transient": {
            "deleting": false
          }
        }
      },
      "outputs": [
        {
          "data": {
            "application/vnd.livy.statement-meta+json": {
              "execution_finish_time": "2021-09-29T21:56:25.0660917Z",
              "execution_start_time": "2021-09-29T21:56:24.5694026Z",
              "livy_statement_state": "available",
              "queued_time": "2021-09-29T21:48:21.6221594Z",
              "session_id": 42,
              "session_start_time": null,
              "spark_pool": "#SPARK_POOL_NAME#",
              "state": "finished",
              "statement_id": 23
            },
            "text/plain": [
              "StatementMeta(#SPARK_POOL_NAME#, 42, 23, Finished, Available)"
            ]
          },
          "metadata": {},
          "output_type": "display_data"
        }
      ],
      "source": [
        "# Group by TAXCLASS, then find the median for STORIES is there's at least 3 records in the grouping\n",
        "# produced 24736 NaN; BLDGCL didn't reduce the number\n",
        "\n",
        "\n",
        "df3['STORIES6'] = df3['STORIES5'].fillna(df3.groupby(['TAXCLASS'])['STORIES5'].transform(f_stories_alt)) "
      ]
    },
    {
      "cell_type": "markdown",
      "metadata": {
        "nteract": {
          "transient": {
            "deleting": false
          }
        }
      },
      "source": [
        "&emsp;&emsp;&emsp;&emsp; **3rd Lambda Function - Changed the lambda function to use the most common value (mode)**\n",
        "\n"
      ]
    },
    {
      "cell_type": "code",
      "execution_count": 24,
      "metadata": {
        "collapsed": true,
        "jupyter": {
          "outputs_hidden": false,
          "source_hidden": false
        },
        "nteract": {
          "transient": {
            "deleting": false
          }
        }
      },
      "outputs": [
        {
          "data": {
            "application/vnd.livy.statement-meta+json": {
              "execution_finish_time": "2021-09-29T21:56:25.1710585Z",
              "execution_start_time": "2021-09-29T21:56:25.1709649Z",
              "livy_statement_state": "available",
              "queued_time": "2021-09-29T21:48:21.6237122Z",
              "session_id": 42,
              "session_start_time": null,
              "spark_pool": "#SPARK_POOL_NAME#",
              "state": "finished",
              "statement_id": 24
            },
            "text/plain": [
              "StatementMeta(#SPARK_POOL_NAME#, 42, 24, Finished, Available)"
            ]
          },
          "metadata": {},
          "output_type": "display_data"
        }
      ],
      "source": [
        "# This is a lambda function to be used with the transform method on the pandas dataframe\n",
        "\n",
        "\n",
        "f_stories_alt2 = lambda x: x.mode()[0] if not x.mode().empty else np.nan "
      ]
    },
    {
      "cell_type": "code",
      "execution_count": 25,
      "metadata": {
        "collapsed": true,
        "jupyter": {
          "outputs_hidden": false,
          "source_hidden": false
        },
        "nteract": {
          "transient": {
            "deleting": false
          }
        }
      },
      "outputs": [
        {
          "data": {
            "application/vnd.livy.statement-meta+json": {
              "execution_finish_time": "2021-09-29T21:56:25.7547756Z",
              "execution_start_time": "2021-09-29T21:56:25.2689606Z",
              "livy_statement_state": "available",
              "queued_time": "2021-09-29T21:48:21.6253135Z",
              "session_id": 42,
              "session_start_time": null,
              "spark_pool": "#SPARK_POOL_NAME#",
              "state": "finished",
              "statement_id": 25
            },
            "text/plain": [
              "StatementMeta(#SPARK_POOL_NAME#, 42, 25, Finished, Available)"
            ]
          },
          "metadata": {},
          "output_type": "display_data"
        }
      ],
      "source": [
        "# Group by BLDGCL, then find the mode for STORIES\n",
        "\n",
        "\n",
        "df3['STORIES7'] = df3['STORIES6'].fillna(df3.groupby(['BLDGCL'])['STORIES6'].transform(f_stories_alt2)) "
      ]
    },
    {
      "cell_type": "code",
      "execution_count": 26,
      "metadata": {
        "collapsed": true,
        "jupyter": {
          "outputs_hidden": false,
          "source_hidden": false
        },
        "nteract": {
          "transient": {
            "deleting": false
          }
        }
      },
      "outputs": [
        {
          "data": {
            "application/vnd.livy.statement-meta+json": {
              "execution_finish_time": "2021-09-29T21:56:26.3644908Z",
              "execution_start_time": "2021-09-29T21:56:25.851105Z",
              "livy_statement_state": "available",
              "queued_time": "2021-09-29T21:48:21.6270477Z",
              "session_id": 42,
              "session_start_time": null,
              "spark_pool": "#SPARK_POOL_NAME#",
              "state": "finished",
              "statement_id": 26
            },
            "text/plain": [
              "StatementMeta(#SPARK_POOL_NAME#, 42, 26, Finished, Available)"
            ]
          },
          "metadata": {},
          "output_type": "display_data"
        }
      ],
      "source": [
        "# Group by TAXCLASS, then find the mode for STORIES\n",
        "\n",
        "\n",
        "df3['STORIES8'] = df3['STORIES7'].fillna(df3.groupby(['TAXCLASS'])['STORIES7'].transform(f_stories_alt2)) "
      ]
    },
    {
      "cell_type": "code",
      "execution_count": 27,
      "metadata": {
        "collapsed": true,
        "jupyter": {
          "outputs_hidden": false,
          "source_hidden": false
        },
        "nteract": {
          "transient": {
            "deleting": false
          }
        }
      },
      "outputs": [
        {
          "data": {
            "application/vnd.livy.statement-meta+json": {
              "execution_finish_time": "2021-09-29T21:56:26.6134821Z",
              "execution_start_time": "2021-09-29T21:56:26.4645697Z",
              "livy_statement_state": "available",
              "queued_time": "2021-09-29T21:48:21.6288294Z",
              "session_id": 42,
              "session_start_time": null,
              "spark_pool": "#SPARK_POOL_NAME#",
              "state": "finished",
              "statement_id": 27
            },
            "text/plain": [
              "StatementMeta(#SPARK_POOL_NAME#, 42, 27, Finished, Available)"
            ]
          },
          "metadata": {},
          "output_type": "display_data"
        },
        {
          "data": {
            "text/html": [
              "<div>\n",
              "<style scoped>\n",
              "    .dataframe tbody tr th:only-of-type {\n",
              "        vertical-align: middle;\n",
              "    }\n",
              "\n",
              "    .dataframe tbody tr th {\n",
              "        vertical-align: top;\n",
              "    }\n",
              "\n",
              "    .dataframe thead th {\n",
              "        text-align: right;\n",
              "    }\n",
              "</style>\n",
              "<table border=\"1\" class=\"dataframe\">\n",
              "  <thead>\n",
              "    <tr style=\"text-align: right;\">\n",
              "      <th></th>\n",
              "      <th>B</th>\n",
              "      <th>BLOCK</th>\n",
              "      <th>BLDGCL</th>\n",
              "      <th>TAXCLASS</th>\n",
              "      <th>LTFRONT</th>\n",
              "      <th>LTDEPTH</th>\n",
              "      <th>STORIES</th>\n",
              "      <th>FULLVAL</th>\n",
              "      <th>AVLAND</th>\n",
              "      <th>AVTOT</th>\n",
              "      <th>EXLAND</th>\n",
              "      <th>EXTOT</th>\n",
              "      <th>STADDR</th>\n",
              "      <th>ZIP</th>\n",
              "      <th>BLDFRONT</th>\n",
              "      <th>BLDDEPTH</th>\n",
              "    </tr>\n",
              "  </thead>\n",
              "  <tbody>\n",
              "    <tr>\n",
              "      <th>0</th>\n",
              "      <td>1</td>\n",
              "      <td>1</td>\n",
              "      <td>Y4</td>\n",
              "      <td>4</td>\n",
              "      <td>198</td>\n",
              "      <td>0</td>\n",
              "      <td>50.0</td>\n",
              "      <td>304042000.0</td>\n",
              "      <td>96228900.0</td>\n",
              "      <td>136818900.0</td>\n",
              "      <td>96228900.0</td>\n",
              "      <td>136818900.0</td>\n",
              "      <td>1 GOVERNORS ISLAND</td>\n",
              "      <td>10004.0</td>\n",
              "      <td>0.0</td>\n",
              "      <td>0.0</td>\n",
              "    </tr>\n",
              "    <tr>\n",
              "      <th>1</th>\n",
              "      <td>1</td>\n",
              "      <td>1</td>\n",
              "      <td>P7</td>\n",
              "      <td>4</td>\n",
              "      <td>500</td>\n",
              "      <td>1046</td>\n",
              "      <td>50.0</td>\n",
              "      <td>21400000.0</td>\n",
              "      <td>4225500.0</td>\n",
              "      <td>9630000.0</td>\n",
              "      <td>4225500.0</td>\n",
              "      <td>9630000.0</td>\n",
              "      <td>1 LIBERTY ISLAND</td>\n",
              "      <td>10004.0</td>\n",
              "      <td>0.0</td>\n",
              "      <td>0.0</td>\n",
              "    </tr>\n",
              "    <tr>\n",
              "      <th>2</th>\n",
              "      <td>1</td>\n",
              "      <td>1</td>\n",
              "      <td>Z9</td>\n",
              "      <td>4</td>\n",
              "      <td>27</td>\n",
              "      <td>0</td>\n",
              "      <td>50.0</td>\n",
              "      <td>193800000.0</td>\n",
              "      <td>14310000.0</td>\n",
              "      <td>87210000.0</td>\n",
              "      <td>14310000.0</td>\n",
              "      <td>87210000.0</td>\n",
              "      <td>1 ELLIS ISLAND</td>\n",
              "      <td>10004.0</td>\n",
              "      <td>0.0</td>\n",
              "      <td>0.0</td>\n",
              "    </tr>\n",
              "    <tr>\n",
              "      <th>3</th>\n",
              "      <td>1</td>\n",
              "      <td>2</td>\n",
              "      <td>Y7</td>\n",
              "      <td>4</td>\n",
              "      <td>709</td>\n",
              "      <td>564</td>\n",
              "      <td>3.0</td>\n",
              "      <td>104686000.0</td>\n",
              "      <td>39008700.0</td>\n",
              "      <td>47108700.0</td>\n",
              "      <td>39008700.0</td>\n",
              "      <td>47108700.0</td>\n",
              "      <td>MARGINAL STREET</td>\n",
              "      <td>10004.0</td>\n",
              "      <td>709.0</td>\n",
              "      <td>564.0</td>\n",
              "    </tr>\n",
              "    <tr>\n",
              "      <th>4</th>\n",
              "      <td>1</td>\n",
              "      <td>2</td>\n",
              "      <td>T2</td>\n",
              "      <td>4</td>\n",
              "      <td>793</td>\n",
              "      <td>551</td>\n",
              "      <td>2.0</td>\n",
              "      <td>39200000.0</td>\n",
              "      <td>15255000.0</td>\n",
              "      <td>17640000.0</td>\n",
              "      <td>15255000.0</td>\n",
              "      <td>17640000.0</td>\n",
              "      <td>PIER 6</td>\n",
              "      <td>10004.0</td>\n",
              "      <td>85.0</td>\n",
              "      <td>551.0</td>\n",
              "    </tr>\n",
              "  </tbody>\n",
              "</table>\n",
              "</div>"
            ],
            "text/plain": [
              "   B  BLOCK BLDGCL TAXCLASS  ...              STADDR      ZIP  BLDFRONT  BLDDEPTH\n",
              "0  1      1     Y4        4  ...  1 GOVERNORS ISLAND  10004.0       0.0       0.0\n",
              "1  1      1     P7        4  ...    1 LIBERTY ISLAND  10004.0       0.0       0.0\n",
              "2  1      1     Z9        4  ...      1 ELLIS ISLAND  10004.0       0.0       0.0\n",
              "3  1      2     Y7        4  ...     MARGINAL STREET  10004.0     709.0     564.0\n",
              "4  1      2     T2        4  ...              PIER 6  10004.0      85.0     551.0\n",
              "\n",
              "[5 rows x 16 columns]"
            ]
          },
          "metadata": {},
          "output_type": "display_data"
        }
      ],
      "source": [
        "df2['STORIES'] = df3['STORIES8']\n",
        "df2.head()"
      ]
    },
    {
      "cell_type": "markdown",
      "metadata": {
        "nteract": {
          "transient": {
            "deleting": false
          }
        }
      },
      "source": [
        "#### &emsp;&emsp;&emsp; DATA IMPUTATION MARKET VALUE"
      ]
    },
    {
      "cell_type": "code",
      "execution_count": 28,
      "metadata": {
        "collapsed": true,
        "jupyter": {
          "outputs_hidden": false,
          "source_hidden": false
        },
        "nteract": {
          "transient": {
            "deleting": false
          }
        }
      },
      "outputs": [
        {
          "data": {
            "application/vnd.livy.statement-meta+json": {
              "execution_finish_time": "2021-09-29T21:56:26.8615327Z",
              "execution_start_time": "2021-09-29T21:56:26.7160647Z",
              "livy_statement_state": "available",
              "queued_time": "2021-09-29T21:48:21.6305922Z",
              "session_id": 42,
              "session_start_time": null,
              "spark_pool": "#SPARK_POOL_NAME#",
              "state": "finished",
              "statement_id": 28
            },
            "text/plain": [
              "StatementMeta(#SPARK_POOL_NAME#, 42, 28, Finished, Available)"
            ]
          },
          "metadata": {},
          "output_type": "display_data"
        }
      ],
      "source": [
        "### Make a deepcopy of the dataframe\n",
        "\n",
        "d = deepcopy(df2)\n",
        "cols = [\"FULLVAL\",\"AVLAND\",\"AVTOT\"]\n",
        "d[cols]=d[cols].replace({0:np.nan})"
      ]
    },
    {
      "cell_type": "code",
      "execution_count": 29,
      "metadata": {
        "collapsed": true,
        "jupyter": {
          "outputs_hidden": false,
          "source_hidden": false
        },
        "nteract": {
          "transient": {
            "deleting": false
          }
        }
      },
      "outputs": [
        {
          "data": {
            "application/vnd.livy.statement-meta+json": {
              "execution_finish_time": "2021-09-29T21:56:27.1769997Z",
              "execution_start_time": "2021-09-29T21:56:27.0218511Z",
              "livy_statement_state": "available",
              "queued_time": "2021-09-29T21:48:21.6326727Z",
              "session_id": 42,
              "session_start_time": null,
              "spark_pool": "#SPARK_POOL_NAME#",
              "state": "finished",
              "statement_id": 29
            },
            "text/plain": [
              "StatementMeta(#SPARK_POOL_NAME#, 42, 29, Finished, Available)"
            ]
          },
          "metadata": {},
          "output_type": "display_data"
        }
      ],
      "source": [
        "# Lambda function for filling the Full values of the Properties by the median of that group containing minimum of 5 elements\n",
        "\n",
        "\n",
        "f_fullval = lambda x:x.median() if x.count()>=5 else np.nan"
      ]
    },
    {
      "cell_type": "markdown",
      "metadata": {
        "nteract": {
          "transient": {
            "deleting": false
          }
        }
      },
      "source": [
        "&emsp;&emsp;&emsp;&emsp;&emsp;&emsp;&emsp;&emsp; *Frequency of Market Value variable (FULLVAL)*"
      ]
    },
    {
      "cell_type": "code",
      "execution_count": 30,
      "metadata": {
        "collapsed": true,
        "jupyter": {
          "outputs_hidden": false,
          "source_hidden": false
        },
        "nteract": {
          "transient": {
            "deleting": false
          }
        }
      },
      "outputs": [
        {
          "data": {
            "application/vnd.livy.statement-meta+json": {
              "execution_finish_time": "2021-09-29T21:56:32.5690222Z",
              "execution_start_time": "2021-09-29T21:56:27.2839389Z",
              "livy_statement_state": "available",
              "queued_time": "2021-09-29T21:48:21.634791Z",
              "session_id": 42,
              "session_start_time": null,
              "spark_pool": "#SPARK_POOL_NAME#",
              "state": "finished",
              "statement_id": 30
            },
            "text/plain": [
              "StatementMeta(#SPARK_POOL_NAME#, 42, 30, Finished, Available)"
            ]
          },
          "metadata": {},
          "output_type": "display_data"
        },
        {
          "data": {
            "image/png": "[encoded data removed]",
            "text/plain": [
              "<Figure size 864x576 with 1 Axes>"
            ]
          },
          "metadata": {
            "needs_background": "light"
          },
          "output_type": "display_data"
        },
        {
          "name": "stdout",
          "output_type": "stream",
          "text": [
            "/home/trusted-service-user/cluster-env/env/lib/python3.6/site-packages/seaborn/distributions.py:2551: FutureWarning: `distplot` is a deprecated function and will be removed in a future version. Please adapt your code to use either `displot` (a figure-level function with similar flexibility) or `histplot` (an axes-level function for histograms).\n",
            "  warnings.warn(msg, FutureWarning)"
          ]
        }
      ],
      "source": [
        "xhigh = 1000000\n",
        "plt.figure(figsize=(12,8))\n",
        "temp = d[d['FULLVAL'] <= xhigh]\n",
        "sns.distplot(temp['FULLVAL'],bins=100)\n",
        "plt.ylabel('Count')\n",
        "plt.title('Frequency of FULLVAL variable ')\n",
        "plt.xlabel('MARKET VALUE (FULLVAL)')\n",
        "plt.show()"
      ]
    },
    {
      "cell_type": "code",
      "execution_count": 31,
      "metadata": {
        "collapsed": true,
        "jupyter": {
          "outputs_hidden": false,
          "source_hidden": false
        },
        "nteract": {
          "transient": {
            "deleting": false
          }
        }
      },
      "outputs": [
        {
          "data": {
            "application/vnd.livy.statement-meta+json": {
              "execution_finish_time": "2021-09-29T21:56:41.2987857Z",
              "execution_start_time": "2021-09-29T21:56:32.6874589Z",
              "livy_statement_state": "available",
              "queued_time": "2021-09-29T21:48:21.7186042Z",
              "session_id": 42,
              "session_start_time": null,
              "spark_pool": "#SPARK_POOL_NAME#",
              "state": "finished",
              "statement_id": 31
            },
            "text/plain": [
              "StatementMeta(#SPARK_POOL_NAME#, 42, 31, Finished, Available)"
            ]
          },
          "metadata": {},
          "output_type": "display_data"
        },
        {
          "name": "stdout",
          "output_type": "stream",
          "text": [
            "False    655251\n",
            "True       8025\n",
            "Name: FULLVAL2, dtype: int64\n"
          ]
        },
        {
          "data": {
            "image/png": "[encoded data removed]",
            "text/plain": [
              "<Figure size 864x576 with 1 Axes>"
            ]
          },
          "metadata": {
            "needs_background": "light"
          },
          "output_type": "display_data"
        }
      ],
      "source": [
        "# This group consists of three sub-groups namely ZIP, TAX CLASS, and Building Class.\n",
        "#We fill with the median of that group as the distribution is skewed.\n",
        "\n",
        "\n",
        "d['FULLVAL2']=d['FULLVAL'].fillna(d.groupby([\"ZIP\",\"TAXCLASS\",\"BLDGCL\"])['FULLVAL'].transform(f_fullval))\n",
        "\n",
        "print(d['FULLVAL2'].isnull().value_counts())\n",
        "\n",
        "\n",
        "fig = plt.figure(figsize=(12,8))\n",
        "plt.title('Count of NaN values in FULLVAL2')\n",
        "my_colors = ['b', 'b']\n",
        "ax = d['FULLVAL2'].isnull().value_counts().plot(kind='bar',color=my_colors)\n",
        "for p in ax.patches:\n",
        "    ax.annotate(str(p.get_height()), (p.get_x() * 1.005, p.get_height() * 1.005),fontsize = 12)\n",
        "\n",
        "plt.show()\n",
        "\n",
        "#This graph shows the NA values as 'True' and filled values as 'False'"
      ]
    },
    {
      "cell_type": "code",
      "execution_count": 32,
      "metadata": {
        "collapsed": true,
        "jupyter": {
          "outputs_hidden": false,
          "source_hidden": false
        },
        "nteract": {
          "transient": {
            "deleting": false
          }
        }
      },
      "outputs": [
        {
          "data": {
            "application/vnd.livy.statement-meta+json": {
              "execution_finish_time": "2021-09-29T21:56:43.1863376Z",
              "execution_start_time": "2021-09-29T21:56:41.4124351Z",
              "livy_statement_state": "available",
              "queued_time": "2021-09-29T21:48:21.7956676Z",
              "session_id": 42,
              "session_start_time": null,
              "spark_pool": "#SPARK_POOL_NAME#",
              "state": "finished",
              "statement_id": 32
            },
            "text/plain": [
              "StatementMeta(#SPARK_POOL_NAME#, 42, 32, Finished, Available)"
            ]
          },
          "metadata": {},
          "output_type": "display_data"
        },
        {
          "name": "stdout",
          "output_type": "stream",
          "text": [
            "False    660643\n",
            "True       2633\n",
            "Name: FULLVAL3, dtype: int64\n"
          ]
        },
        {
          "data": {
            "image/png": "[encoded data removed]",
            "text/plain": [
              "<Figure size 864x576 with 1 Axes>"
            ]
          },
          "metadata": {
            "needs_background": "light"
          },
          "output_type": "display_data"
        }
      ],
      "source": [
        "# This group consists of two broader sub-groups namely ZIP and TAX CLASS, dropped Buidling Class.\n",
        "d[\"FULLVAL3\"]=d['FULLVAL2'].fillna(d.groupby([\"ZIP\",\"TAXCLASS\"])['FULLVAL2'].transform(f_fullval))\n",
        "# Filled 6061 NA values\n",
        "print(d['FULLVAL3'].isnull().value_counts())\n",
        "\n",
        "fig = plt.figure(figsize=(12,8))\n",
        "plt.title('Count of NaN values in FULLVAL3')\n",
        "my_colors = ['b', 'b']\n",
        "ax = d['FULLVAL3'].isnull().value_counts().plot(kind='bar',color=my_colors)\n",
        "for p in ax.patches:\n",
        "    ax.annotate(str(p.get_height()), (p.get_x() * 1.005, p.get_height() * 1.005),fontsize = 12)\n",
        "\n",
        "plt.show()\n",
        "\n",
        "#The graph shows the values that are NA as 'True' and filled values as 'False'"
      ]
    },
    {
      "cell_type": "code",
      "execution_count": 33,
      "metadata": {
        "collapsed": true,
        "jupyter": {
          "outputs_hidden": false,
          "source_hidden": false
        },
        "nteract": {
          "transient": {
            "deleting": false
          }
        }
      },
      "outputs": [
        {
          "data": {
            "application/vnd.livy.statement-meta+json": {
              "execution_finish_time": "2021-09-29T21:56:43.8477534Z",
              "execution_start_time": "2021-09-29T21:56:43.3212388Z",
              "livy_statement_state": "available",
              "queued_time": "2021-09-29T21:48:21.7973872Z",
              "session_id": 42,
              "session_start_time": null,
              "spark_pool": "#SPARK_POOL_NAME#",
              "state": "finished",
              "statement_id": 33
            },
            "text/plain": [
              "StatementMeta(#SPARK_POOL_NAME#, 42, 33, Finished, Available)"
            ]
          },
          "metadata": {},
          "output_type": "display_data"
        },
        {
          "name": "stdout",
          "output_type": "stream",
          "text": [
            "False    663270\n",
            "True          6\n",
            "Name: FULLVAL4, dtype: int64\n"
          ]
        },
        {
          "data": {
            "image/png": "[encoded data removed]",
            "text/plain": [
              "<Figure size 864x576 with 1 Axes>"
            ]
          },
          "metadata": {
            "needs_background": "light"
          },
          "output_type": "display_data"
        }
      ],
      "source": [
        "# This group consists of grouping by ZIP only\n",
        "d[\"FULLVAL4\"]=d['FULLVAL3'].fillna(d.groupby([\"ZIP\"])['FULLVAL3'].transform(f_fullval)) \n",
        "# Filled 4456 NA values\n",
        "print(d['FULLVAL4'].isnull().value_counts())\n",
        "\n",
        "fig = plt.figure(figsize=(12,8))\n",
        "plt.title('Count of NaN values in FULLVAL4')\n",
        "my_colors = ['b', 'b']\n",
        "ax = d['FULLVAL4'].isnull().value_counts().plot(kind='bar',color=my_colors)\n",
        "for p in ax.patches:\n",
        "    ax.annotate(str(p.get_height()), (p.get_x() * 1.005, p.get_height() * 1.005),fontsize = 12)\n",
        "\n",
        "plt.show()\n",
        "\n",
        "#This graph shows the plot for the values with NA values as 'True' and Filled values as 'True'"
      ]
    },
    {
      "cell_type": "code",
      "execution_count": 34,
      "metadata": {
        "collapsed": true,
        "jupyter": {
          "outputs_hidden": false,
          "source_hidden": false
        },
        "nteract": {
          "transient": {
            "deleting": false
          }
        }
      },
      "outputs": [
        {
          "data": {
            "application/vnd.livy.statement-meta+json": {
              "execution_finish_time": "2021-09-29T21:56:44.5329887Z",
              "execution_start_time": "2021-09-29T21:56:43.9696692Z",
              "livy_statement_state": "available",
              "queued_time": "2021-09-29T21:48:21.8037197Z",
              "session_id": 42,
              "session_start_time": null,
              "spark_pool": "#SPARK_POOL_NAME#",
              "state": "finished",
              "statement_id": 34
            },
            "text/plain": [
              "StatementMeta(#SPARK_POOL_NAME#, 42, 34, Finished, Available)"
            ]
          },
          "metadata": {},
          "output_type": "display_data"
        },
        {
          "name": "stdout",
          "output_type": "stream",
          "text": [
            "False    663276\n",
            "Name: FULLVAL5, dtype: int64\n"
          ]
        },
        {
          "data": {
            "image/png": "[encoded data removed]",
            "text/plain": [
              "<Figure size 864x576 with 1 Axes>"
            ]
          },
          "metadata": {
            "needs_background": "light"
          },
          "output_type": "display_data"
        }
      ],
      "source": [
        "\n",
        "# Finally, grouping by TAXCLASS only\n",
        "d[\"FULLVAL5\"]=d['FULLVAL4'].fillna(d.groupby([\"TAXCLASS\"])['FULLVAL4'].transform(f_fullval)) \n",
        "# All NA values removed\n",
        "print(d['FULLVAL5'].isnull().value_counts())\n",
        "\n",
        "fig = plt.figure(figsize=(12,8))\n",
        "plt.title('Count of NaN vallues in FULLVAL5')\n",
        "my_colors = ['b', 'b']\n",
        "ax = d['FULLVAL5'].isnull().value_counts().plot(kind='bar',color=my_colors)\n",
        "for p in ax.patches:\n",
        "    ax.annotate(str(p.get_height()), (p.get_x() * 1.005, p.get_height() * 1.005),fontsize = 12)\n",
        "\n",
        "plt.show()\n",
        "\n",
        "#This graph shows the plot for the values that are NA as 'True' and Filled values as 'False'"
      ]
    },
    {
      "cell_type": "markdown",
      "metadata": {
        "nteract": {
          "transient": {
            "deleting": false
          }
        }
      },
      "source": [
        "&emsp;&emsp;&emsp;&emsp;&emsp;&emsp;&emsp;&emsp; *Frequency of Market Value Variable (FULLVAL5)*"
      ]
    },
    {
      "cell_type": "code",
      "execution_count": 35,
      "metadata": {
        "collapsed": true,
        "jupyter": {
          "outputs_hidden": false,
          "source_hidden": false
        },
        "nteract": {
          "transient": {
            "deleting": false
          }
        }
      },
      "outputs": [
        {
          "data": {
            "application/vnd.livy.statement-meta+json": {
              "execution_finish_time": "2021-09-29T21:56:48.5474001Z",
              "execution_start_time": "2021-09-29T21:56:44.6492388Z",
              "livy_statement_state": "available",
              "queued_time": "2021-09-29T21:48:21.8055455Z",
              "session_id": 42,
              "session_start_time": null,
              "spark_pool": "#SPARK_POOL_NAME#",
              "state": "finished",
              "statement_id": 35
            },
            "text/plain": [
              "StatementMeta(#SPARK_POOL_NAME#, 42, 35, Finished, Available)"
            ]
          },
          "metadata": {},
          "output_type": "display_data"
        },
        {
          "data": {
            "image/png": "[encoded data removed]",
            "text/plain": [
              "<Figure size 864x576 with 1 Axes>"
            ]
          },
          "metadata": {
            "needs_background": "light"
          },
          "output_type": "display_data"
        },
        {
          "name": "stdout",
          "output_type": "stream",
          "text": [
            "/home/trusted-service-user/cluster-env/env/lib/python3.6/site-packages/seaborn/distributions.py:2551: FutureWarning: `distplot` is a deprecated function and will be removed in a future version. Please adapt your code to use either `displot` (a figure-level function with similar flexibility) or `histplot` (an axes-level function for histograms).\n",
            "  warnings.warn(msg, FutureWarning)"
          ]
        }
      ],
      "source": [
        "# Final distribution of FullVal after filling NA values\n",
        "xhigh = 2000000\n",
        "\n",
        "plt.figure(figsize=(12,8))\n",
        "plt.xlim(0,xhigh)\n",
        "temp = d[d['FULLVAL5'] <= xhigh]\n",
        "sns.distplot(temp['FULLVAL5'],bins=10)\n",
        "plt.ylabel('Count')\n",
        "plt.show()"
      ]
    },
    {
      "cell_type": "markdown",
      "metadata": {
        "nteract": {
          "transient": {
            "deleting": false
          }
        }
      },
      "source": [
        "#### Data Imputation for Actual Land Value"
      ]
    },
    {
      "cell_type": "markdown",
      "metadata": {
        "nteract": {
          "transient": {
            "deleting": false
          }
        }
      },
      "source": [
        " &emsp;&emsp;&emsp;&emsp;&emsp;&emsp;&emsp;&emsp; *Frequency of Actual Land Value variable*"
      ]
    },
    {
      "cell_type": "code",
      "execution_count": 36,
      "metadata": {
        "collapsed": true,
        "jupyter": {
          "outputs_hidden": false,
          "source_hidden": false
        },
        "nteract": {
          "transient": {
            "deleting": false
          }
        }
      },
      "outputs": [
        {
          "data": {
            "application/vnd.livy.statement-meta+json": {
              "execution_finish_time": "2021-09-29T21:56:52.5643908Z",
              "execution_start_time": "2021-09-29T21:56:48.6782265Z",
              "livy_statement_state": "available",
              "queued_time": "2021-09-29T21:48:21.8072406Z",
              "session_id": 42,
              "session_start_time": null,
              "spark_pool": "#SPARK_POOL_NAME#",
              "state": "finished",
              "statement_id": 36
            },
            "text/plain": [
              "StatementMeta(#SPARK_POOL_NAME#, 42, 36, Finished, Available)"
            ]
          },
          "metadata": {},
          "output_type": "display_data"
        },
        {
          "data": {
            "image/png": "[encoded data removed]",
            "text/plain": [
              "<Figure size 864x576 with 1 Axes>"
            ]
          },
          "metadata": {
            "needs_background": "light"
          },
          "output_type": "display_data"
        },
        {
          "name": "stdout",
          "output_type": "stream",
          "text": [
            "/home/trusted-service-user/cluster-env/env/lib/python3.6/site-packages/seaborn/distributions.py:2551: FutureWarning: `distplot` is a deprecated function and will be removed in a future version. Please adapt your code to use either `displot` (a figure-level function with similar flexibility) or `histplot` (an axes-level function for histograms).\n",
            "  warnings.warn(msg, FutureWarning)"
          ]
        }
      ],
      "source": [
        "# Original Distribution of AVLAND\n",
        "xhigh = 50000\n",
        "\n",
        "plt.figure(figsize=(12,8))\n",
        "temp = d[d['AVLAND'] <= xhigh]\n",
        "sns.distplot(temp['AVLAND'],bins=50)\n",
        "plt.ylabel('Count')\n",
        "plt.xlabel('Actual Land Value (AVLAND)')\n",
        "plt.show()"
      ]
    },
    {
      "cell_type": "code",
      "execution_count": 37,
      "metadata": {
        "collapsed": true,
        "jupyter": {
          "outputs_hidden": false,
          "source_hidden": false
        },
        "nteract": {
          "transient": {
            "deleting": false
          }
        }
      },
      "outputs": [
        {
          "data": {
            "application/vnd.livy.statement-meta+json": {
              "execution_finish_time": "2021-09-29T21:57:01.8029335Z",
              "execution_start_time": "2021-09-29T21:56:52.6804881Z",
              "livy_statement_state": "available",
              "queued_time": "2021-09-29T21:48:21.8097195Z",
              "session_id": 42,
              "session_start_time": null,
              "spark_pool": "#SPARK_POOL_NAME#",
              "state": "finished",
              "statement_id": 37
            },
            "text/plain": [
              "StatementMeta(#SPARK_POOL_NAME#, 42, 37, Finished, Available)"
            ]
          },
          "metadata": {},
          "output_type": "display_data"
        },
        {
          "name": "stdout",
          "output_type": "stream",
          "text": [
            "False    655251\n",
            "True       8025\n",
            "Name: AVLAND2, dtype: int64\n"
          ]
        },
        {
          "data": {
            "image/png": "[encoded data removed]",
            "text/plain": [
              "<Figure size 864x576 with 1 Axes>"
            ]
          },
          "metadata": {
            "needs_background": "light"
          },
          "output_type": "display_data"
        }
      ],
      "source": [
        "\n",
        "# This group consists of three sub-groups namely ZIP, TAX CLASS, and Building Class. We fill with the median of that group as the distribution is skewed.\n",
        "d['AVLAND2']=d['AVLAND'].fillna(d.groupby([\"ZIP\",\"TAXCLASS\",\"BLDGCL\"])['AVLAND'].transform(f_fullval))\n",
        "print(d['AVLAND2'].isnull().value_counts())\n",
        "\n",
        "\n",
        "fig = plt.figure(figsize=(12,8))\n",
        "plt.title('Number of NaN values in Actual Land Value (AVLAND2)')\n",
        "my_colors = ['b', 'b']\n",
        "ax = d['AVLAND2'].isnull().value_counts().plot(kind='bar',color=my_colors)\n",
        "for p in ax.patches:\n",
        "    ax.annotate(str(p.get_height()), (p.get_x() * 1.005, p.get_height() * 1.005),fontsize = 15)\n",
        "\n",
        "plt.show()"
      ]
    },
    {
      "cell_type": "code",
      "execution_count": 38,
      "metadata": {
        "collapsed": true,
        "jupyter": {
          "outputs_hidden": false,
          "source_hidden": false
        },
        "nteract": {
          "transient": {
            "deleting": false
          }
        }
      },
      "outputs": [
        {
          "data": {
            "application/vnd.livy.statement-meta+json": {
              "execution_finish_time": "2021-09-29T21:57:03.7223123Z",
              "execution_start_time": "2021-09-29T21:57:01.9181582Z",
              "livy_statement_state": "available",
              "queued_time": "2021-09-29T21:48:21.8132425Z",
              "session_id": 42,
              "session_start_time": null,
              "spark_pool": "#SPARK_POOL_NAME#",
              "state": "finished",
              "statement_id": 38
            },
            "text/plain": [
              "StatementMeta(#SPARK_POOL_NAME#, 42, 38, Finished, Available)"
            ]
          },
          "metadata": {},
          "output_type": "display_data"
        },
        {
          "data": {
            "image/png": "[encoded data removed]",
            "text/plain": [
              "<Figure size 864x576 with 1 Axes>"
            ]
          },
          "metadata": {
            "needs_background": "light"
          },
          "output_type": "display_data"
        }
      ],
      "source": [
        "# Similar to the Full Value, grouping by ZIP and Tax class first\n",
        "d['AVLAND3']=d['AVLAND2'].fillna(d.groupby([\"ZIP\",\"TAXCLASS\"])['AVLAND2'].transform(f_fullval))\n",
        "\n",
        "\n",
        "# Grouping by ZIP\n",
        "d['AVLAND4']=d['AVLAND3'].fillna(d.groupby([\"ZIP\"])['AVLAND3'].transform(f_fullval))\n",
        "\n",
        "# Grouping by Taxclass only\n",
        "d['AVLAND5']=d['AVLAND4'].fillna(d.groupby([\"TAXCLASS\"])['AVLAND4'].transform(f_fullval))\n",
        "d['AVLAND5'].isnull().value_counts()\n",
        "\n",
        "fig = plt.figure(figsize=(12,8))\n",
        "plt.title('Number of NaN values in Actual Land Value (AVLAND5)')\n",
        "my_colors = ['b', 'b']\n",
        "ax = d['AVLAND5'].isnull().value_counts().plot(kind='bar',color=my_colors)\n",
        "for p in ax.patches:\n",
        "    ax.annotate(str(p.get_height()), (p.get_x() * 1.005, p.get_height() * 1.005),fontsize = 12)\n",
        "\n",
        "plt.show()\n",
        "\n",
        "#The graph shows the number of NA values as 'True' and Filled values as 'False'\n"
      ]
    },
    {
      "cell_type": "code",
      "execution_count": 39,
      "metadata": {
        "collapsed": true,
        "jupyter": {
          "outputs_hidden": false,
          "source_hidden": false
        },
        "nteract": {
          "transient": {
            "deleting": false
          }
        }
      },
      "outputs": [
        {
          "data": {
            "application/vnd.livy.statement-meta+json": {
              "execution_finish_time": "2021-09-29T21:57:07.788538Z",
              "execution_start_time": "2021-09-29T21:57:03.8365338Z",
              "livy_statement_state": "available",
              "queued_time": "2021-09-29T21:48:21.8148729Z",
              "session_id": 42,
              "session_start_time": null,
              "spark_pool": "#SPARK_POOL_NAME#",
              "state": "finished",
              "statement_id": 39
            },
            "text/plain": [
              "StatementMeta(#SPARK_POOL_NAME#, 42, 39, Finished, Available)"
            ]
          },
          "metadata": {},
          "output_type": "display_data"
        },
        {
          "data": {
            "image/png": "[encoded data removed]",
            "text/plain": [
              "<Figure size 864x576 with 1 Axes>"
            ]
          },
          "metadata": {
            "needs_background": "light"
          },
          "output_type": "display_data"
        },
        {
          "name": "stdout",
          "output_type": "stream",
          "text": [
            "/home/trusted-service-user/cluster-env/env/lib/python3.6/site-packages/seaborn/distributions.py:2551: FutureWarning: `distplot` is a deprecated function and will be removed in a future version. Please adapt your code to use either `displot` (a figure-level function with similar flexibility) or `histplot` (an axes-level function for histograms).\n",
            "  warnings.warn(msg, FutureWarning)"
          ]
        }
      ],
      "source": [
        "# Final distribution of FullVal after filling NA values\n",
        "\n",
        "\n",
        "xhigh = 50000\n",
        "plt.figure(figsize=(12,8))\n",
        "\n",
        "temp = d[d['AVLAND5'] <= xhigh]\n",
        "sns.distplot(temp['AVLAND5'],bins=50)\n",
        "plt.title('Frequencies of data at specific values')\n",
        "plt.ylabel('Count') \n",
        "plt.xlabel('Actual Land Value (AVLAND5)')\n",
        "plt.show()"
      ]
    },
    {
      "cell_type": "markdown",
      "metadata": {
        "nteract": {
          "transient": {
            "deleting": false
          }
        }
      },
      "source": [
        "##### &emsp;&emsp;&emsp;&emsp; DATA IMPUTATION FOR Actual Total Value"
      ]
    },
    {
      "cell_type": "code",
      "execution_count": 40,
      "metadata": {
        "collapsed": true,
        "jupyter": {
          "outputs_hidden": false,
          "source_hidden": false
        },
        "nteract": {
          "transient": {
            "deleting": false
          }
        }
      },
      "outputs": [
        {
          "data": {
            "application/vnd.livy.statement-meta+json": {
              "execution_finish_time": "2021-09-29T21:57:11.8320713Z",
              "execution_start_time": "2021-09-29T21:57:07.9082194Z",
              "livy_statement_state": "available",
              "queued_time": "2021-09-29T21:48:21.8199759Z",
              "session_id": 42,
              "session_start_time": null,
              "spark_pool": "#SPARK_POOL_NAME#",
              "state": "finished",
              "statement_id": 40
            },
            "text/plain": [
              "StatementMeta(#SPARK_POOL_NAME#, 42, 40, Finished, Available)"
            ]
          },
          "metadata": {},
          "output_type": "display_data"
        },
        {
          "data": {
            "image/png": "[encoded data removed]",
            "text/plain": [
              "<Figure size 864x576 with 1 Axes>"
            ]
          },
          "metadata": {
            "needs_background": "light"
          },
          "output_type": "display_data"
        },
        {
          "name": "stdout",
          "output_type": "stream",
          "text": [
            "/home/trusted-service-user/cluster-env/env/lib/python3.6/site-packages/seaborn/distributions.py:2551: FutureWarning: `distplot` is a deprecated function and will be removed in a future version. Please adapt your code to use either `displot` (a figure-level function with similar flexibility) or `histplot` (an axes-level function for histograms).\n",
            "  warnings.warn(msg, FutureWarning)"
          ]
        }
      ],
      "source": [
        "# Original distribution of ACTUAL TOTAL VALUE (Variable name 'AVTOT')\n",
        "\n",
        "\n",
        "xhigh = 100000\n",
        "plt.figure(figsize=(12,8))\n",
        "plt.title('Frequency of entries at specific prices')\n",
        "temp = d[d['AVTOT'] <= xhigh]\n",
        "sns.distplot(temp['AVTOT'],bins=50,)\n",
        "plt.ylabel('Count')\n",
        "plt.xlabel('Actual Total Value (AVTOT)')\n",
        "plt.show()"
      ]
    },
    {
      "cell_type": "code",
      "execution_count": 41,
      "metadata": {
        "collapsed": true,
        "jupyter": {
          "outputs_hidden": false,
          "source_hidden": false
        },
        "nteract": {
          "transient": {
            "deleting": false
          }
        }
      },
      "outputs": [
        {
          "data": {
            "application/vnd.livy.statement-meta+json": {
              "execution_finish_time": "2021-09-29T21:57:20.5336356Z",
              "execution_start_time": "2021-09-29T21:57:11.9569193Z",
              "livy_statement_state": "available",
              "queued_time": "2021-09-29T21:48:21.8223903Z",
              "session_id": 42,
              "session_start_time": null,
              "spark_pool": "#SPARK_POOL_NAME#",
              "state": "finished",
              "statement_id": 41
            },
            "text/plain": [
              "StatementMeta(#SPARK_POOL_NAME#, 42, 41, Finished, Available)"
            ]
          },
          "metadata": {},
          "output_type": "display_data"
        }
      ],
      "source": [
        "# This group consists of three sub-groups namely ZIP, TAX CLASS, and Building Class. \n",
        "\n",
        "\n",
        "# We fill with the median of that group as the distribution is skewed.\n",
        "\n",
        "\n",
        "d['AVTOT2']=d['AVTOT'].fillna(d.groupby([\"ZIP\",\"TAXCLASS\",\"BLDGCL\"])['AVTOT'].transform(f_fullval))"
      ]
    },
    {
      "cell_type": "code",
      "execution_count": 42,
      "metadata": {
        "collapsed": true,
        "jupyter": {
          "outputs_hidden": false,
          "source_hidden": false
        },
        "nteract": {
          "transient": {
            "deleting": false
          }
        }
      },
      "outputs": [
        {
          "data": {
            "application/vnd.livy.statement-meta+json": {
              "execution_finish_time": "2021-09-29T21:57:22.4683726Z",
              "execution_start_time": "2021-09-29T21:57:20.6516781Z",
              "livy_statement_state": "available",
              "queued_time": "2021-09-29T21:48:21.8244687Z",
              "session_id": 42,
              "session_start_time": null,
              "spark_pool": "#SPARK_POOL_NAME#",
              "state": "finished",
              "statement_id": 42
            },
            "text/plain": [
              "StatementMeta(#SPARK_POOL_NAME#, 42, 42, Finished, Available)"
            ]
          },
          "metadata": {},
          "output_type": "display_data"
        }
      ],
      "source": [
        "# Similar to the Full Value, grouping by ZIP and Tax class first\n",
        "\n",
        "d['AVTOT3']=d['AVTOT2'].fillna(d.groupby([\"ZIP\",\"TAXCLASS\"])['AVTOT2'].transform(f_fullval))\n",
        "\n",
        "\n",
        "\n",
        "\n",
        "# Grouping by ZIP\n",
        "\n",
        "d['AVTOT4']=d['AVTOT3'].fillna(d.groupby([\"ZIP\"])['AVTOT3'].transform(f_fullval))\n",
        "\n",
        "\n",
        "\n",
        "\n",
        "# Grouping by Taxclass only\n",
        "\n",
        "d['AVTOT5']=d['AVTOT4'].fillna(d.groupby([\"TAXCLASS\"])['AVTOT4'].transform(f_fullval))\n",
        "\n",
        "# All NaN values filled"
      ]
    },
    {
      "cell_type": "code",
      "execution_count": 43,
      "metadata": {
        "collapsed": true,
        "jupyter": {
          "outputs_hidden": false,
          "source_hidden": false
        },
        "nteract": {
          "transient": {
            "deleting": false
          }
        }
      },
      "outputs": [
        {
          "data": {
            "application/vnd.livy.statement-meta+json": {
              "execution_finish_time": "2021-09-29T21:57:23.6302992Z",
              "execution_start_time": "2021-09-29T21:57:22.5681832Z",
              "livy_statement_state": "available",
              "queued_time": "2021-09-29T21:48:21.826468Z",
              "session_id": 42,
              "session_start_time": null,
              "spark_pool": "#SPARK_POOL_NAME#",
              "state": "finished",
              "statement_id": 43
            },
            "text/plain": [
              "StatementMeta(#SPARK_POOL_NAME#, 42, 43, Finished, Available)"
            ]
          },
          "metadata": {},
          "output_type": "display_data"
        },
        {
          "data": {
            "image/png": "[encoded data removed]",
            "text/plain": [
              "<Figure size 864x576 with 1 Axes>"
            ]
          },
          "metadata": {
            "needs_background": "light"
          },
          "output_type": "display_data"
        },
        {
          "name": "stdout",
          "output_type": "stream",
          "text": [
            "/home/trusted-service-user/cluster-env/env/lib/python3.6/site-packages/seaborn/distributions.py:2551: FutureWarning: `distplot` is a deprecated function and will be removed in a future version. Please adapt your code to use either `displot` (a figure-level function with similar flexibility) or `histplot` (an axes-level function for histograms).\n",
            "  warnings.warn(msg, FutureWarning)"
          ]
        }
      ],
      "source": [
        "xhigh = 100000\n",
        "plt.figure(figsize=(12,8))\n",
        "temp = d[d['AVTOT5'] <= xhigh]\n",
        "sns.distplot(temp['AVTOT5'],bins=50, kde=False)\n",
        "plt.title('Count of Actual Total Land Value')\n",
        "plt.ylabel('Count')\n",
        "plt.xlabel('Actual Total Value (AVTOT5)')\n",
        "plt.show()"
      ]
    },
    {
      "cell_type": "code",
      "execution_count": 44,
      "metadata": {
        "collapsed": true,
        "jupyter": {
          "outputs_hidden": false,
          "source_hidden": false
        },
        "nteract": {
          "transient": {
            "deleting": false
          }
        }
      },
      "outputs": [
        {
          "data": {
            "application/vnd.livy.statement-meta+json": {
              "execution_finish_time": "2021-09-29T21:57:23.8888182Z",
              "execution_start_time": "2021-09-29T21:57:23.7423945Z",
              "livy_statement_state": "available",
              "queued_time": "2021-09-29T21:48:21.8286462Z",
              "session_id": 42,
              "session_start_time": null,
              "spark_pool": "#SPARK_POOL_NAME#",
              "state": "finished",
              "statement_id": 44
            },
            "text/plain": [
              "StatementMeta(#SPARK_POOL_NAME#, 42, 44, Finished, Available)"
            ]
          },
          "metadata": {},
          "output_type": "display_data"
        }
      ],
      "source": [
        "# Dropping Unfilled Columns\n",
        "\n",
        "\n",
        "d1=d.drop([\"FULLVAL\",\"FULLVAL2\",\"FULLVAL3\",\"FULLVAL4\",\"AVLAND\",\n",
        "        \"AVLAND2\",\"AVLAND3\",\"AVLAND4\",\"AVTOT\",\"AVTOT2\",\"AVTOT3\",\n",
        "        \"AVTOT4\"],axis=1)"
      ]
    },
    {
      "cell_type": "code",
      "execution_count": 45,
      "metadata": {
        "collapsed": true,
        "jupyter": {
          "outputs_hidden": false,
          "source_hidden": false
        },
        "nteract": {
          "transient": {
            "deleting": false
          }
        }
      },
      "outputs": [
        {
          "data": {
            "application/vnd.livy.statement-meta+json": {
              "execution_finish_time": "2021-09-29T21:57:24.1382242Z",
              "execution_start_time": "2021-09-29T21:57:23.9832887Z",
              "livy_statement_state": "available",
              "queued_time": "2021-09-29T21:48:21.8311187Z",
              "session_id": 42,
              "session_start_time": null,
              "spark_pool": "#SPARK_POOL_NAME#",
              "state": "finished",
              "statement_id": 45
            },
            "text/plain": [
              "StatementMeta(#SPARK_POOL_NAME#, 42, 45, Finished, Available)"
            ]
          },
          "metadata": {},
          "output_type": "display_data"
        }
      ],
      "source": [
        "# Renaming the columns back to original names\n",
        "\n",
        "\n",
        "d1=d1.rename(columns={\"FULLVAL5\":\"FULLVAL\",\"AVLAND5\":\"AVLAND\",\"AVTOT5\":\"AVTOT\"})"
      ]
    },
    {
      "cell_type": "markdown",
      "metadata": {
        "nteract": {
          "transient": {
            "deleting": false
          }
        }
      },
      "source": [
        "#### &emsp;&emsp;&emsp;&emsp;DATA IMPUTATION FOR Lot Width"
      ]
    },
    {
      "cell_type": "code",
      "execution_count": 46,
      "metadata": {
        "collapsed": true,
        "jupyter": {
          "outputs_hidden": false,
          "source_hidden": false
        },
        "nteract": {
          "transient": {
            "deleting": false
          }
        }
      },
      "outputs": [
        {
          "data": {
            "application/vnd.livy.statement-meta+json": {
              "execution_finish_time": "2021-09-29T21:57:24.4097264Z",
              "execution_start_time": "2021-09-29T21:57:24.2444594Z",
              "livy_statement_state": "available",
              "queued_time": "2021-09-29T21:48:21.8330868Z",
              "session_id": 42,
              "session_start_time": null,
              "spark_pool": "#SPARK_POOL_NAME#",
              "state": "finished",
              "statement_id": 46
            },
            "text/plain": [
              "StatementMeta(#SPARK_POOL_NAME#, 42, 46, Finished, Available)"
            ]
          },
          "metadata": {},
          "output_type": "display_data"
        },
        {
          "name": "stdout",
          "output_type": "stream",
          "text": [
            "Null Value Number Counts\n",
            "0\n",
            "0 Value Counts\n",
            "145137"
          ]
        }
      ],
      "source": [
        "\n",
        "df2 = deepcopy(d1)\n",
        "#check how many null value and 0 in LTFRONT\n",
        "attribute = 'LTFRONT'\n",
        "print('Null Value Number Counts')\n",
        "print(df2[attribute].isnull().sum())\n",
        "\n",
        "print('0 Value Counts')\n",
        "print(len(df2.loc[df2[attribute] == 0]))"
      ]
    },
    {
      "cell_type": "code",
      "execution_count": 47,
      "metadata": {
        "collapsed": true,
        "jupyter": {
          "outputs_hidden": false,
          "source_hidden": false
        },
        "nteract": {
          "transient": {
            "deleting": false
          }
        }
      },
      "outputs": [
        {
          "data": {
            "application/vnd.livy.statement-meta+json": {
              "execution_finish_time": "2021-09-29T21:57:24.6548359Z",
              "execution_start_time": "2021-09-29T21:57:24.5097261Z",
              "livy_statement_state": "available",
              "queued_time": "2021-09-29T21:48:21.8350296Z",
              "session_id": 42,
              "session_start_time": null,
              "spark_pool": "#SPARK_POOL_NAME#",
              "state": "finished",
              "statement_id": 47
            },
            "text/plain": [
              "StatementMeta(#SPARK_POOL_NAME#, 42, 47, Finished, Available)"
            ]
          },
          "metadata": {},
          "output_type": "display_data"
        }
      ],
      "source": [
        "#generate a dataset non0 in which all LTFRONT has values\n",
        "non0 = df2[df2[attribute] != 0].copy()  \n",
        "#define a function f_mode to get the mode (list unique values and count numbers of each value, then take the frist unique value)\n",
        "def f_mode (x):\n",
        "    return x.value_counts().index[0]"
      ]
    },
    {
      "cell_type": "code",
      "execution_count": 48,
      "metadata": {
        "collapsed": true,
        "jupyter": {
          "outputs_hidden": false,
          "source_hidden": false
        },
        "nteract": {
          "transient": {
            "deleting": false
          }
        }
      },
      "outputs": [
        {
          "data": {
            "application/vnd.livy.statement-meta+json": {
              "execution_finish_time": "2021-09-29T21:57:39.560937Z",
              "execution_start_time": "2021-09-29T21:57:24.7606789Z",
              "livy_statement_state": "available",
              "queued_time": "2021-09-29T21:48:32.0652838Z",
              "session_id": 42,
              "session_start_time": null,
              "spark_pool": "#SPARK_POOL_NAME#",
              "state": "finished",
              "statement_id": 48
            },
            "text/plain": [
              "StatementMeta(#SPARK_POOL_NAME#, 42, 48, Finished, Available)"
            ]
          },
          "metadata": {},
          "output_type": "display_data"
        },
        {
          "data": {
            "text/html": [
              "<div>\n",
              "<style scoped>\n",
              "    .dataframe tbody tr th:only-of-type {\n",
              "        vertical-align: middle;\n",
              "    }\n",
              "\n",
              "    .dataframe tbody tr th {\n",
              "        vertical-align: top;\n",
              "    }\n",
              "\n",
              "    .dataframe thead th {\n",
              "        text-align: right;\n",
              "    }\n",
              "</style>\n",
              "<table border=\"1\" class=\"dataframe\">\n",
              "  <thead>\n",
              "    <tr style=\"text-align: right;\">\n",
              "      <th></th>\n",
              "      <th></th>\n",
              "      <th>LTFRONT</th>\n",
              "    </tr>\n",
              "    <tr>\n",
              "      <th>ZIP</th>\n",
              "      <th>BLDGCL</th>\n",
              "      <th></th>\n",
              "    </tr>\n",
              "  </thead>\n",
              "  <tbody>\n",
              "    <tr>\n",
              "      <th rowspan=\"5\" valign=\"top\">10001.0</th>\n",
              "      <th>A4</th>\n",
              "      <td>19</td>\n",
              "    </tr>\n",
              "    <tr>\n",
              "      <th>A5</th>\n",
              "      <td>18</td>\n",
              "    </tr>\n",
              "    <tr>\n",
              "      <th>A9</th>\n",
              "      <td>15</td>\n",
              "    </tr>\n",
              "    <tr>\n",
              "      <th>B9</th>\n",
              "      <td>15</td>\n",
              "    </tr>\n",
              "    <tr>\n",
              "      <th>C0</th>\n",
              "      <td>18</td>\n",
              "    </tr>\n",
              "    <tr>\n",
              "      <th>...</th>\n",
              "      <th>...</th>\n",
              "      <td>...</td>\n",
              "    </tr>\n",
              "    <tr>\n",
              "      <th>11422.0</th>\n",
              "      <th>Z7</th>\n",
              "      <td>999</td>\n",
              "    </tr>\n",
              "    <tr>\n",
              "      <th>11691.0</th>\n",
              "      <th>G7</th>\n",
              "      <td>141</td>\n",
              "    </tr>\n",
              "    <tr>\n",
              "      <th>11692.0</th>\n",
              "      <th>R0</th>\n",
              "      <td>98</td>\n",
              "    </tr>\n",
              "    <tr>\n",
              "      <th rowspan=\"2\" valign=\"top\">33803.0</th>\n",
              "      <th>G7</th>\n",
              "      <td>20</td>\n",
              "    </tr>\n",
              "    <tr>\n",
              "      <th>V0</th>\n",
              "      <td>40</td>\n",
              "    </tr>\n",
              "  </tbody>\n",
              "</table>\n",
              "<p>10813 rows × 1 columns</p>\n",
              "</div>"
            ],
            "text/plain": [
              "                LTFRONT\n",
              "ZIP     BLDGCL         \n",
              "10001.0 A4           19\n",
              "        A5           18\n",
              "        A9           15\n",
              "        B9           15\n",
              "        C0           18\n",
              "...                 ...\n",
              "11422.0 Z7          999\n",
              "11691.0 G7          141\n",
              "11692.0 R0           98\n",
              "33803.0 G7           20\n",
              "        V0           40\n",
              "\n",
              "[10813 rows x 1 columns]"
            ]
          },
          "metadata": {},
          "output_type": "display_data"
        }
      ],
      "source": [
        "#generate dataset non0_LTFR which includes LTFRONT, ZIP and BLDGCL\n",
        "non0_LTFR = non0[[attribute, 'ZIP','BLDGCL']].copy()\n",
        "\n",
        "\n",
        "#group by ZIP and BLDGL and get the mode of LTFRONT for each group\n",
        "temp = non0_LTFR.groupby(['ZIP','BLDGCL'])[[attribute]].agg(f_mode).copy()\n",
        "temp"
      ]
    },
    {
      "cell_type": "code",
      "execution_count": 49,
      "metadata": {
        "collapsed": true,
        "jupyter": {
          "outputs_hidden": false,
          "source_hidden": false
        },
        "nteract": {
          "transient": {
            "deleting": false
          }
        }
      },
      "outputs": [
        {
          "data": {
            "application/vnd.livy.statement-meta+json": {
              "execution_finish_time": "2021-09-29T22:04:54.7669283Z",
              "execution_start_time": "2021-09-29T21:57:39.6706209Z",
              "livy_statement_state": "available",
              "queued_time": "2021-09-29T21:48:34.8507551Z",
              "session_id": 42,
              "session_start_time": null,
              "spark_pool": "#SPARK_POOL_NAME#",
              "state": "finished",
              "statement_id": 49
            },
            "text/plain": [
              "StatementMeta(#SPARK_POOL_NAME#, 42, 49, Finished, Available)"
            ]
          },
          "metadata": {},
          "output_type": "display_data"
        },
        {
          "data": {
            "text/html": [
              "<div>\n",
              "<style scoped>\n",
              "    .dataframe tbody tr th:only-of-type {\n",
              "        vertical-align: middle;\n",
              "    }\n",
              "\n",
              "    .dataframe tbody tr th {\n",
              "        vertical-align: top;\n",
              "    }\n",
              "\n",
              "    .dataframe thead th {\n",
              "        text-align: right;\n",
              "    }\n",
              "</style>\n",
              "<table border=\"1\" class=\"dataframe\">\n",
              "  <thead>\n",
              "    <tr style=\"text-align: right;\">\n",
              "      <th></th>\n",
              "      <th>B</th>\n",
              "      <th>BLOCK</th>\n",
              "      <th>BLDGCL</th>\n",
              "      <th>TAXCLASS</th>\n",
              "      <th>LTFRONT</th>\n",
              "      <th>LTDEPTH</th>\n",
              "      <th>STORIES</th>\n",
              "      <th>EXLAND</th>\n",
              "      <th>EXTOT</th>\n",
              "      <th>STADDR</th>\n",
              "      <th>ZIP</th>\n",
              "      <th>BLDFRONT</th>\n",
              "      <th>BLDDEPTH</th>\n",
              "      <th>FULLVAL</th>\n",
              "      <th>AVLAND</th>\n",
              "      <th>AVTOT</th>\n",
              "    </tr>\n",
              "  </thead>\n",
              "  <tbody>\n",
              "    <tr>\n",
              "      <th>0</th>\n",
              "      <td>1</td>\n",
              "      <td>1</td>\n",
              "      <td>Y4</td>\n",
              "      <td>4</td>\n",
              "      <td>198</td>\n",
              "      <td>0</td>\n",
              "      <td>50.0</td>\n",
              "      <td>96228900.0</td>\n",
              "      <td>136818900.0</td>\n",
              "      <td>1 GOVERNORS ISLAND</td>\n",
              "      <td>10004.0</td>\n",
              "      <td>0.0</td>\n",
              "      <td>0.0</td>\n",
              "      <td>304042000.0</td>\n",
              "      <td>96228900.0</td>\n",
              "      <td>136818900.0</td>\n",
              "    </tr>\n",
              "    <tr>\n",
              "      <th>1</th>\n",
              "      <td>1</td>\n",
              "      <td>1</td>\n",
              "      <td>P7</td>\n",
              "      <td>4</td>\n",
              "      <td>500</td>\n",
              "      <td>1046</td>\n",
              "      <td>50.0</td>\n",
              "      <td>4225500.0</td>\n",
              "      <td>9630000.0</td>\n",
              "      <td>1 LIBERTY ISLAND</td>\n",
              "      <td>10004.0</td>\n",
              "      <td>0.0</td>\n",
              "      <td>0.0</td>\n",
              "      <td>21400000.0</td>\n",
              "      <td>4225500.0</td>\n",
              "      <td>9630000.0</td>\n",
              "    </tr>\n",
              "    <tr>\n",
              "      <th>2</th>\n",
              "      <td>1</td>\n",
              "      <td>1</td>\n",
              "      <td>Z9</td>\n",
              "      <td>4</td>\n",
              "      <td>27</td>\n",
              "      <td>0</td>\n",
              "      <td>50.0</td>\n",
              "      <td>14310000.0</td>\n",
              "      <td>87210000.0</td>\n",
              "      <td>1 ELLIS ISLAND</td>\n",
              "      <td>10004.0</td>\n",
              "      <td>0.0</td>\n",
              "      <td>0.0</td>\n",
              "      <td>193800000.0</td>\n",
              "      <td>14310000.0</td>\n",
              "      <td>87210000.0</td>\n",
              "    </tr>\n",
              "    <tr>\n",
              "      <th>3</th>\n",
              "      <td>1</td>\n",
              "      <td>2</td>\n",
              "      <td>Y7</td>\n",
              "      <td>4</td>\n",
              "      <td>709</td>\n",
              "      <td>564</td>\n",
              "      <td>3.0</td>\n",
              "      <td>39008700.0</td>\n",
              "      <td>47108700.0</td>\n",
              "      <td>MARGINAL STREET</td>\n",
              "      <td>10004.0</td>\n",
              "      <td>709.0</td>\n",
              "      <td>564.0</td>\n",
              "      <td>104686000.0</td>\n",
              "      <td>39008700.0</td>\n",
              "      <td>47108700.0</td>\n",
              "    </tr>\n",
              "    <tr>\n",
              "      <th>4</th>\n",
              "      <td>1</td>\n",
              "      <td>2</td>\n",
              "      <td>T2</td>\n",
              "      <td>4</td>\n",
              "      <td>793</td>\n",
              "      <td>551</td>\n",
              "      <td>2.0</td>\n",
              "      <td>15255000.0</td>\n",
              "      <td>17640000.0</td>\n",
              "      <td>PIER 6</td>\n",
              "      <td>10004.0</td>\n",
              "      <td>85.0</td>\n",
              "      <td>551.0</td>\n",
              "      <td>39200000.0</td>\n",
              "      <td>15255000.0</td>\n",
              "      <td>17640000.0</td>\n",
              "    </tr>\n",
              "  </tbody>\n",
              "</table>\n",
              "</div>"
            ],
            "text/plain": [
              "   B  BLOCK BLDGCL TAXCLASS  ...  BLDDEPTH      FULLVAL      AVLAND        AVTOT\n",
              "0  1      1     Y4        4  ...       0.0  304042000.0  96228900.0  136818900.0\n",
              "1  1      1     P7        4  ...       0.0   21400000.0   4225500.0    9630000.0\n",
              "2  1      1     Z9        4  ...       0.0  193800000.0  14310000.0   87210000.0\n",
              "3  1      2     Y7        4  ...     564.0  104686000.0  39008700.0   47108700.0\n",
              "4  1      2     T2        4  ...     551.0   39200000.0  15255000.0   17640000.0\n",
              "\n",
              "[5 rows x 16 columns]"
            ]
          },
          "metadata": {},
          "output_type": "display_data"
        }
      ],
      "source": [
        "\n",
        "#locate the record with same ZIP and BLDGCL and replace 0 with the mode\n",
        "\n",
        "\n",
        "for i in df2[df2[attribute] == 0].index:\n",
        "    try:\n",
        "        temp_ZIP = df2.loc[i,'ZIP']\n",
        "        temp_BLDGCL = df2.loc[i,'BLDGCL']\n",
        "        df2.loc[i, attribute] = temp.loc[temp_ZIP,].loc[temp_BLDGCL,attribute]\n",
        "    except:\n",
        "        continue\n",
        "\n",
        "df2.head(5)"
      ]
    },
    {
      "cell_type": "code",
      "execution_count": 50,
      "metadata": {
        "collapsed": true,
        "jupyter": {
          "outputs_hidden": false,
          "source_hidden": false
        },
        "nteract": {
          "transient": {
            "deleting": false
          }
        }
      },
      "outputs": [
        {
          "data": {
            "application/vnd.livy.statement-meta+json": {
              "execution_finish_time": "2021-09-29T22:04:55.0746356Z",
              "execution_start_time": "2021-09-29T22:04:54.9183806Z",
              "livy_statement_state": "available",
              "queued_time": "2021-09-29T21:48:35.3112133Z",
              "session_id": 42,
              "session_start_time": null,
              "spark_pool": "#SPARK_POOL_NAME#",
              "state": "finished",
              "statement_id": 50
            },
            "text/plain": [
              "StatementMeta(#SPARK_POOL_NAME#, 42, 50, Finished, Available)"
            ]
          },
          "metadata": {},
          "output_type": "display_data"
        },
        {
          "name": "stdout",
          "output_type": "stream",
          "text": [
            "11234"
          ]
        }
      ],
      "source": [
        "#check how many 0 still left in LTFRONT\n",
        "print(len(df2.loc[df2[attribute] == 0]))"
      ]
    },
    {
      "cell_type": "code",
      "execution_count": 51,
      "metadata": {
        "collapsed": true,
        "jupyter": {
          "outputs_hidden": false,
          "source_hidden": false
        },
        "nteract": {
          "transient": {
            "deleting": false
          }
        }
      },
      "outputs": [
        {
          "data": {
            "application/vnd.livy.statement-meta+json": {
              "execution_finish_time": "2021-09-29T22:04:55.6873432Z",
              "execution_start_time": "2021-09-29T22:04:55.1716561Z",
              "livy_statement_state": "available",
              "queued_time": "2021-09-29T21:48:35.3257439Z",
              "session_id": 42,
              "session_start_time": null,
              "spark_pool": "#SPARK_POOL_NAME#",
              "state": "finished",
              "statement_id": 51
            },
            "text/plain": [
              "StatementMeta(#SPARK_POOL_NAME#, 42, 51, Finished, Available)"
            ]
          },
          "metadata": {},
          "output_type": "display_data"
        },
        {
          "data": {
            "text/html": [
              "<div>\n",
              "<style scoped>\n",
              "    .dataframe tbody tr th:only-of-type {\n",
              "        vertical-align: middle;\n",
              "    }\n",
              "\n",
              "    .dataframe tbody tr th {\n",
              "        vertical-align: top;\n",
              "    }\n",
              "\n",
              "    .dataframe thead th {\n",
              "        text-align: right;\n",
              "    }\n",
              "</style>\n",
              "<table border=\"1\" class=\"dataframe\">\n",
              "  <thead>\n",
              "    <tr style=\"text-align: right;\">\n",
              "      <th></th>\n",
              "      <th>LTFRONT</th>\n",
              "    </tr>\n",
              "    <tr>\n",
              "      <th>ZIP</th>\n",
              "      <th></th>\n",
              "    </tr>\n",
              "  </thead>\n",
              "  <tbody>\n",
              "    <tr>\n",
              "      <th>10001.0</th>\n",
              "      <td>25</td>\n",
              "    </tr>\n",
              "    <tr>\n",
              "      <th>10002.0</th>\n",
              "      <td>25</td>\n",
              "    </tr>\n",
              "    <tr>\n",
              "      <th>10003.0</th>\n",
              "      <td>244</td>\n",
              "    </tr>\n",
              "    <tr>\n",
              "      <th>10004.0</th>\n",
              "      <td>422</td>\n",
              "    </tr>\n",
              "    <tr>\n",
              "      <th>10005.0</th>\n",
              "      <td>197</td>\n",
              "    </tr>\n",
              "    <tr>\n",
              "      <th>...</th>\n",
              "      <td>...</td>\n",
              "    </tr>\n",
              "    <tr>\n",
              "      <th>11421.0</th>\n",
              "      <td>63</td>\n",
              "    </tr>\n",
              "    <tr>\n",
              "      <th>11422.0</th>\n",
              "      <td>999</td>\n",
              "    </tr>\n",
              "    <tr>\n",
              "      <th>11691.0</th>\n",
              "      <td>141</td>\n",
              "    </tr>\n",
              "    <tr>\n",
              "      <th>11692.0</th>\n",
              "      <td>98</td>\n",
              "    </tr>\n",
              "    <tr>\n",
              "      <th>33803.0</th>\n",
              "      <td>20</td>\n",
              "    </tr>\n",
              "  </tbody>\n",
              "</table>\n",
              "<p>146 rows × 1 columns</p>\n",
              "</div>"
            ],
            "text/plain": [
              "         LTFRONT\n",
              "ZIP             \n",
              "10001.0       25\n",
              "10002.0       25\n",
              "10003.0      244\n",
              "10004.0      422\n",
              "10005.0      197\n",
              "...          ...\n",
              "11421.0       63\n",
              "11422.0      999\n",
              "11691.0      141\n",
              "11692.0       98\n",
              "33803.0       20\n",
              "\n",
              "[146 rows x 1 columns]"
            ]
          },
          "metadata": {},
          "output_type": "display_data"
        }
      ],
      "source": [
        "#group by ZIP and relace 0 by mode in the same ZIP group\n",
        "non0_LTFR = non0[[attribute, 'ZIP']].copy()\n",
        "temp = non0_LTFR.groupby(['ZIP',])[[attribute]].agg(f_mode).copy()\n",
        "temp"
      ]
    },
    {
      "cell_type": "code",
      "execution_count": 52,
      "metadata": {
        "collapsed": true,
        "jupyter": {
          "outputs_hidden": false,
          "source_hidden": false
        },
        "nteract": {
          "transient": {
            "deleting": false
          }
        }
      },
      "outputs": [
        {
          "data": {
            "application/vnd.livy.statement-meta+json": {
              "execution_finish_time": "2021-09-29T22:05:22.7093458Z",
              "execution_start_time": "2021-09-29T22:04:55.8071424Z",
              "livy_statement_state": "available",
              "queued_time": "2021-09-29T21:48:35.604378Z",
              "session_id": 42,
              "session_start_time": null,
              "spark_pool": "#SPARK_POOL_NAME#",
              "state": "finished",
              "statement_id": 52
            },
            "text/plain": [
              "StatementMeta(#SPARK_POOL_NAME#, 42, 52, Finished, Available)"
            ]
          },
          "metadata": {},
          "output_type": "display_data"
        },
        {
          "name": "stdout",
          "output_type": "stream",
          "text": [
            "0"
          ]
        }
      ],
      "source": [
        "for i in df2[df2[attribute] == 0].index:\n",
        "    try:\n",
        "        temp_ZIP = df2.loc[i,'ZIP']\n",
        "        df2.loc[i, attribute] = temp.loc[temp_ZIP,attribute]\n",
        "    except:\n",
        "        continue\n",
        "\n",
        "#check how many 0 left in LTFRONT\n",
        "print(len(df2.loc[df2[attribute] == 0]))"
      ]
    },
    {
      "cell_type": "markdown",
      "metadata": {
        "nteract": {
          "transient": {
            "deleting": false
          }
        }
      },
      "source": [
        "#### DATA IMPUTATION OF Lot Depth"
      ]
    },
    {
      "cell_type": "code",
      "execution_count": 53,
      "metadata": {
        "collapsed": true,
        "jupyter": {
          "outputs_hidden": false,
          "source_hidden": false
        },
        "nteract": {
          "transient": {
            "deleting": false
          }
        }
      },
      "outputs": [
        {
          "data": {
            "application/vnd.livy.statement-meta+json": {
              "execution_finish_time": "2021-09-29T22:05:22.9704519Z",
              "execution_start_time": "2021-09-29T22:05:22.8153124Z",
              "livy_statement_state": "available",
              "queued_time": "2021-09-29T21:48:35.7439512Z",
              "session_id": 42,
              "session_start_time": null,
              "spark_pool": "#SPARK_POOL_NAME#",
              "state": "finished",
              "statement_id": 53
            },
            "text/plain": [
              "StatementMeta(#SPARK_POOL_NAME#, 42, 53, Finished, Available)"
            ]
          },
          "metadata": {},
          "output_type": "display_data"
        },
        {
          "name": "stdout",
          "output_type": "stream",
          "text": [
            "Null Value Number Counts\n",
            "0\n",
            "0 Value Counts\n",
            "146116"
          ]
        }
      ],
      "source": [
        "#the method to fill up LTDEPTH is same as LTFRONT\n",
        "attribute = 'LTDEPTH'\n",
        "print('Null Value Number Counts')\n",
        "print(df2[attribute].isnull().sum())\n",
        "\n",
        "print('0 Value Counts')\n",
        "print(len(df2.loc[df2[attribute] == 0]))"
      ]
    },
    {
      "cell_type": "code",
      "execution_count": 54,
      "metadata": {
        "collapsed": true,
        "jupyter": {
          "outputs_hidden": false,
          "source_hidden": false
        },
        "nteract": {
          "transient": {
            "deleting": false
          }
        }
      },
      "outputs": [
        {
          "data": {
            "application/vnd.livy.statement-meta+json": {
              "execution_finish_time": "2021-09-29T22:05:23.228395Z",
              "execution_start_time": "2021-09-29T22:05:23.0670415Z",
              "livy_statement_state": "available",
              "queued_time": "2021-09-29T21:48:35.9644405Z",
              "session_id": 42,
              "session_start_time": null,
              "spark_pool": "#SPARK_POOL_NAME#",
              "state": "finished",
              "statement_id": 54
            },
            "text/plain": [
              "StatementMeta(#SPARK_POOL_NAME#, 42, 54, Finished, Available)"
            ]
          },
          "metadata": {},
          "output_type": "display_data"
        }
      ],
      "source": [
        "#Create a copy of the data with non-zero values\n",
        "\n",
        "non0 = df2[df2[attribute] != 0].copy()  \n"
      ]
    },
    {
      "cell_type": "code",
      "execution_count": 55,
      "metadata": {
        "collapsed": true,
        "jupyter": {
          "outputs_hidden": false,
          "source_hidden": false
        },
        "nteract": {
          "transient": {
            "deleting": false
          }
        }
      },
      "outputs": [
        {
          "data": {
            "application/vnd.livy.statement-meta+json": {
              "execution_finish_time": "2021-09-29T22:05:37.9334987Z",
              "execution_start_time": "2021-09-29T22:05:23.3273127Z",
              "livy_statement_state": "available",
              "queued_time": "2021-09-29T21:48:36.3738996Z",
              "session_id": 42,
              "session_start_time": null,
              "spark_pool": "#SPARK_POOL_NAME#",
              "state": "finished",
              "statement_id": 55
            },
            "text/plain": [
              "StatementMeta(#SPARK_POOL_NAME#, 42, 55, Finished, Available)"
            ]
          },
          "metadata": {},
          "output_type": "display_data"
        },
        {
          "data": {
            "text/html": [
              "<div>\n",
              "<style scoped>\n",
              "    .dataframe tbody tr th:only-of-type {\n",
              "        vertical-align: middle;\n",
              "    }\n",
              "\n",
              "    .dataframe tbody tr th {\n",
              "        vertical-align: top;\n",
              "    }\n",
              "\n",
              "    .dataframe thead th {\n",
              "        text-align: right;\n",
              "    }\n",
              "</style>\n",
              "<table border=\"1\" class=\"dataframe\">\n",
              "  <thead>\n",
              "    <tr style=\"text-align: right;\">\n",
              "      <th></th>\n",
              "      <th></th>\n",
              "      <th>LTDEPTH</th>\n",
              "    </tr>\n",
              "    <tr>\n",
              "      <th>ZIP</th>\n",
              "      <th>BLDGCL</th>\n",
              "      <th></th>\n",
              "    </tr>\n",
              "  </thead>\n",
              "  <tbody>\n",
              "    <tr>\n",
              "      <th rowspan=\"5\" valign=\"top\">10001.0</th>\n",
              "      <th>A4</th>\n",
              "      <td>98</td>\n",
              "    </tr>\n",
              "    <tr>\n",
              "      <th>A5</th>\n",
              "      <td>98</td>\n",
              "    </tr>\n",
              "    <tr>\n",
              "      <th>A9</th>\n",
              "      <td>98</td>\n",
              "    </tr>\n",
              "    <tr>\n",
              "      <th>B9</th>\n",
              "      <td>98</td>\n",
              "    </tr>\n",
              "    <tr>\n",
              "      <th>C0</th>\n",
              "      <td>98</td>\n",
              "    </tr>\n",
              "    <tr>\n",
              "      <th>...</th>\n",
              "      <th>...</th>\n",
              "      <td>...</td>\n",
              "    </tr>\n",
              "    <tr>\n",
              "      <th>11422.0</th>\n",
              "      <th>Z7</th>\n",
              "      <td>519</td>\n",
              "    </tr>\n",
              "    <tr>\n",
              "      <th>11691.0</th>\n",
              "      <th>G7</th>\n",
              "      <td>115</td>\n",
              "    </tr>\n",
              "    <tr>\n",
              "      <th>11692.0</th>\n",
              "      <th>R0</th>\n",
              "      <td>100</td>\n",
              "    </tr>\n",
              "    <tr>\n",
              "      <th rowspan=\"2\" valign=\"top\">33803.0</th>\n",
              "      <th>G7</th>\n",
              "      <td>118</td>\n",
              "    </tr>\n",
              "    <tr>\n",
              "      <th>V0</th>\n",
              "      <td>118</td>\n",
              "    </tr>\n",
              "  </tbody>\n",
              "</table>\n",
              "<p>10813 rows × 1 columns</p>\n",
              "</div>"
            ],
            "text/plain": [
              "                LTDEPTH\n",
              "ZIP     BLDGCL         \n",
              "10001.0 A4           98\n",
              "        A5           98\n",
              "        A9           98\n",
              "        B9           98\n",
              "        C0           98\n",
              "...                 ...\n",
              "11422.0 Z7          519\n",
              "11691.0 G7          115\n",
              "11692.0 R0          100\n",
              "33803.0 G7          118\n",
              "        V0          118\n",
              "\n",
              "[10813 rows x 1 columns]"
            ]
          },
          "metadata": {},
          "output_type": "display_data"
        }
      ],
      "source": [
        "#With that non-zero values dataset seperate out ZIP and BLDGCL\n",
        "\n",
        "\n",
        "non0_LTDP = non0[[attribute, 'ZIP','BLDGCL']].copy()\n",
        "temp = non0_LTDP.groupby(['ZIP','BLDGCL'])[[attribute]].agg(f_mode).copy()\n",
        "temp"
      ]
    },
    {
      "cell_type": "code",
      "execution_count": 56,
      "metadata": {
        "collapsed": true,
        "jupyter": {
          "outputs_hidden": false,
          "source_hidden": false
        },
        "nteract": {
          "transient": {
            "deleting": false
          }
        }
      },
      "outputs": [
        {
          "data": {
            "application/vnd.livy.statement-meta+json": {
              "execution_finish_time": "2021-09-29T22:13:01.9038819Z",
              "execution_start_time": "2021-09-29T22:05:38.0478504Z",
              "livy_statement_state": "available",
              "queued_time": "2021-09-29T21:48:36.7842403Z",
              "session_id": 42,
              "session_start_time": null,
              "spark_pool": "#SPARK_POOL_NAME#",
              "state": "finished",
              "statement_id": 56
            },
            "text/plain": [
              "StatementMeta(#SPARK_POOL_NAME#, 42, 56, Finished, Available)"
            ]
          },
          "metadata": {},
          "output_type": "display_data"
        },
        {
          "data": {
            "text/html": [
              "<div>\n",
              "<style scoped>\n",
              "    .dataframe tbody tr th:only-of-type {\n",
              "        vertical-align: middle;\n",
              "    }\n",
              "\n",
              "    .dataframe tbody tr th {\n",
              "        vertical-align: top;\n",
              "    }\n",
              "\n",
              "    .dataframe thead th {\n",
              "        text-align: right;\n",
              "    }\n",
              "</style>\n",
              "<table border=\"1\" class=\"dataframe\">\n",
              "  <thead>\n",
              "    <tr style=\"text-align: right;\">\n",
              "      <th></th>\n",
              "      <th>B</th>\n",
              "      <th>BLOCK</th>\n",
              "      <th>BLDGCL</th>\n",
              "      <th>TAXCLASS</th>\n",
              "      <th>LTFRONT</th>\n",
              "      <th>LTDEPTH</th>\n",
              "      <th>STORIES</th>\n",
              "      <th>EXLAND</th>\n",
              "      <th>EXTOT</th>\n",
              "      <th>STADDR</th>\n",
              "      <th>ZIP</th>\n",
              "      <th>BLDFRONT</th>\n",
              "      <th>BLDDEPTH</th>\n",
              "      <th>FULLVAL</th>\n",
              "      <th>AVLAND</th>\n",
              "      <th>AVTOT</th>\n",
              "    </tr>\n",
              "  </thead>\n",
              "  <tbody>\n",
              "    <tr>\n",
              "      <th>0</th>\n",
              "      <td>1</td>\n",
              "      <td>1</td>\n",
              "      <td>Y4</td>\n",
              "      <td>4</td>\n",
              "      <td>198</td>\n",
              "      <td>0</td>\n",
              "      <td>50.0</td>\n",
              "      <td>96228900.0</td>\n",
              "      <td>136818900.0</td>\n",
              "      <td>1 GOVERNORS ISLAND</td>\n",
              "      <td>10004.0</td>\n",
              "      <td>0.0</td>\n",
              "      <td>0.0</td>\n",
              "      <td>304042000.0</td>\n",
              "      <td>96228900.0</td>\n",
              "      <td>136818900.0</td>\n",
              "    </tr>\n",
              "    <tr>\n",
              "      <th>1</th>\n",
              "      <td>1</td>\n",
              "      <td>1</td>\n",
              "      <td>P7</td>\n",
              "      <td>4</td>\n",
              "      <td>500</td>\n",
              "      <td>1046</td>\n",
              "      <td>50.0</td>\n",
              "      <td>4225500.0</td>\n",
              "      <td>9630000.0</td>\n",
              "      <td>1 LIBERTY ISLAND</td>\n",
              "      <td>10004.0</td>\n",
              "      <td>0.0</td>\n",
              "      <td>0.0</td>\n",
              "      <td>21400000.0</td>\n",
              "      <td>4225500.0</td>\n",
              "      <td>9630000.0</td>\n",
              "    </tr>\n",
              "    <tr>\n",
              "      <th>2</th>\n",
              "      <td>1</td>\n",
              "      <td>1</td>\n",
              "      <td>Z9</td>\n",
              "      <td>4</td>\n",
              "      <td>27</td>\n",
              "      <td>177</td>\n",
              "      <td>50.0</td>\n",
              "      <td>14310000.0</td>\n",
              "      <td>87210000.0</td>\n",
              "      <td>1 ELLIS ISLAND</td>\n",
              "      <td>10004.0</td>\n",
              "      <td>0.0</td>\n",
              "      <td>0.0</td>\n",
              "      <td>193800000.0</td>\n",
              "      <td>14310000.0</td>\n",
              "      <td>87210000.0</td>\n",
              "    </tr>\n",
              "    <tr>\n",
              "      <th>3</th>\n",
              "      <td>1</td>\n",
              "      <td>2</td>\n",
              "      <td>Y7</td>\n",
              "      <td>4</td>\n",
              "      <td>709</td>\n",
              "      <td>564</td>\n",
              "      <td>3.0</td>\n",
              "      <td>39008700.0</td>\n",
              "      <td>47108700.0</td>\n",
              "      <td>MARGINAL STREET</td>\n",
              "      <td>10004.0</td>\n",
              "      <td>709.0</td>\n",
              "      <td>564.0</td>\n",
              "      <td>104686000.0</td>\n",
              "      <td>39008700.0</td>\n",
              "      <td>47108700.0</td>\n",
              "    </tr>\n",
              "    <tr>\n",
              "      <th>4</th>\n",
              "      <td>1</td>\n",
              "      <td>2</td>\n",
              "      <td>T2</td>\n",
              "      <td>4</td>\n",
              "      <td>793</td>\n",
              "      <td>551</td>\n",
              "      <td>2.0</td>\n",
              "      <td>15255000.0</td>\n",
              "      <td>17640000.0</td>\n",
              "      <td>PIER 6</td>\n",
              "      <td>10004.0</td>\n",
              "      <td>85.0</td>\n",
              "      <td>551.0</td>\n",
              "      <td>39200000.0</td>\n",
              "      <td>15255000.0</td>\n",
              "      <td>17640000.0</td>\n",
              "    </tr>\n",
              "  </tbody>\n",
              "</table>\n",
              "</div>"
            ],
            "text/plain": [
              "   B  BLOCK BLDGCL TAXCLASS  ...  BLDDEPTH      FULLVAL      AVLAND        AVTOT\n",
              "0  1      1     Y4        4  ...       0.0  304042000.0  96228900.0  136818900.0\n",
              "1  1      1     P7        4  ...       0.0   21400000.0   4225500.0    9630000.0\n",
              "2  1      1     Z9        4  ...       0.0  193800000.0  14310000.0   87210000.0\n",
              "3  1      2     Y7        4  ...     564.0  104686000.0  39008700.0   47108700.0\n",
              "4  1      2     T2        4  ...     551.0   39200000.0  15255000.0   17640000.0\n",
              "\n",
              "[5 rows x 16 columns]"
            ]
          },
          "metadata": {},
          "output_type": "display_data"
        }
      ],
      "source": [
        "for i in df2[df2[attribute] == 0].index:\n",
        "    try:\n",
        "        temp_ZIP = df2.loc[i,'ZIP']\n",
        "        temp_BLDGCL = df2.loc[i,'BLDGCL']\n",
        "        df2.loc[i, attribute] = temp.loc[temp_ZIP,].loc[temp_BLDGCL,attribute]\n",
        "    except:\n",
        "        continue\n",
        "\n",
        "df2.head(5)"
      ]
    },
    {
      "cell_type": "code",
      "execution_count": 57,
      "metadata": {
        "collapsed": true,
        "jupyter": {
          "outputs_hidden": false,
          "source_hidden": false
        },
        "nteract": {
          "transient": {
            "deleting": false
          }
        }
      },
      "outputs": [
        {
          "data": {
            "application/vnd.livy.statement-meta+json": {
              "execution_finish_time": "2021-09-29T22:13:02.5632279Z",
              "execution_start_time": "2021-09-29T22:13:02.0392812Z",
              "livy_statement_state": "available",
              "queued_time": "2021-09-29T21:48:37.0447716Z",
              "session_id": 42,
              "session_start_time": null,
              "spark_pool": "#SPARK_POOL_NAME#",
              "state": "finished",
              "statement_id": 57
            },
            "text/plain": [
              "StatementMeta(#SPARK_POOL_NAME#, 42, 57, Finished, Available)"
            ]
          },
          "metadata": {},
          "output_type": "display_data"
        },
        {
          "name": "stdout",
          "output_type": "stream",
          "text": [
            "12916\n"
          ]
        },
        {
          "data": {
            "text/html": [
              "<div>\n",
              "<style scoped>\n",
              "    .dataframe tbody tr th:only-of-type {\n",
              "        vertical-align: middle;\n",
              "    }\n",
              "\n",
              "    .dataframe tbody tr th {\n",
              "        vertical-align: top;\n",
              "    }\n",
              "\n",
              "    .dataframe thead th {\n",
              "        text-align: right;\n",
              "    }\n",
              "</style>\n",
              "<table border=\"1\" class=\"dataframe\">\n",
              "  <thead>\n",
              "    <tr style=\"text-align: right;\">\n",
              "      <th></th>\n",
              "      <th>LTDEPTH</th>\n",
              "    </tr>\n",
              "    <tr>\n",
              "      <th>ZIP</th>\n",
              "      <th></th>\n",
              "    </tr>\n",
              "  </thead>\n",
              "  <tbody>\n",
              "    <tr>\n",
              "      <th>10001.0</th>\n",
              "      <td>98</td>\n",
              "    </tr>\n",
              "    <tr>\n",
              "      <th>10002.0</th>\n",
              "      <td>100</td>\n",
              "    </tr>\n",
              "    <tr>\n",
              "      <th>10003.0</th>\n",
              "      <td>425</td>\n",
              "    </tr>\n",
              "    <tr>\n",
              "      <th>10004.0</th>\n",
              "      <td>355</td>\n",
              "    </tr>\n",
              "    <tr>\n",
              "      <th>10005.0</th>\n",
              "      <td>171</td>\n",
              "    </tr>\n",
              "    <tr>\n",
              "      <th>...</th>\n",
              "      <td>...</td>\n",
              "    </tr>\n",
              "    <tr>\n",
              "      <th>11421.0</th>\n",
              "      <td>87</td>\n",
              "    </tr>\n",
              "    <tr>\n",
              "      <th>11422.0</th>\n",
              "      <td>519</td>\n",
              "    </tr>\n",
              "    <tr>\n",
              "      <th>11691.0</th>\n",
              "      <td>115</td>\n",
              "    </tr>\n",
              "    <tr>\n",
              "      <th>11692.0</th>\n",
              "      <td>100</td>\n",
              "    </tr>\n",
              "    <tr>\n",
              "      <th>33803.0</th>\n",
              "      <td>118</td>\n",
              "    </tr>\n",
              "  </tbody>\n",
              "</table>\n",
              "<p>146 rows × 1 columns</p>\n",
              "</div>"
            ],
            "text/plain": [
              "         LTDEPTH\n",
              "ZIP             \n",
              "10001.0       98\n",
              "10002.0      100\n",
              "10003.0      425\n",
              "10004.0      355\n",
              "10005.0      171\n",
              "...          ...\n",
              "11421.0       87\n",
              "11422.0      519\n",
              "11691.0      115\n",
              "11692.0      100\n",
              "33803.0      118\n",
              "\n",
              "[146 rows x 1 columns]"
            ]
          },
          "metadata": {},
          "output_type": "display_data"
        }
      ],
      "source": [
        "print(len(df2.loc[df2[attribute] == 0]))\n",
        "\n",
        "non0_LTDP = non0[[attribute, 'ZIP']].copy()\n",
        "temp = non0_LTDP.groupby(['ZIP',])[[attribute]].agg(f_mode).copy()\n",
        "temp"
      ]
    },
    {
      "cell_type": "code",
      "execution_count": 58,
      "metadata": {
        "collapsed": true,
        "jupyter": {
          "outputs_hidden": false,
          "source_hidden": false
        },
        "nteract": {
          "transient": {
            "deleting": false
          }
        }
      },
      "outputs": [
        {
          "data": {
            "application/vnd.livy.statement-meta+json": {
              "execution_finish_time": "2021-09-29T22:13:32.6710394Z",
              "execution_start_time": "2021-09-29T22:13:02.6791326Z",
              "livy_statement_state": "available",
              "queued_time": "2021-09-29T21:48:37.3952994Z",
              "session_id": 42,
              "session_start_time": null,
              "spark_pool": "#SPARK_POOL_NAME#",
              "state": "finished",
              "statement_id": 58
            },
            "text/plain": [
              "StatementMeta(#SPARK_POOL_NAME#, 42, 58, Finished, Available)"
            ]
          },
          "metadata": {},
          "output_type": "display_data"
        },
        {
          "name": "stdout",
          "output_type": "stream",
          "text": [
            "0"
          ]
        }
      ],
      "source": [
        "for i in df2[df2[attribute] == 0].index:\n",
        "    try:\n",
        "        temp_ZIP = df2.loc[i,'ZIP']\n",
        "        df2.loc[i, attribute] = temp.loc[temp_ZIP,attribute]\n",
        "    except:\n",
        "        continue\n",
        "\n",
        "print(len(df2.loc[df2[attribute] == 0]))\n"
      ]
    },
    {
      "cell_type": "markdown",
      "metadata": {
        "nteract": {
          "transient": {
            "deleting": false
          }
        }
      },
      "source": [
        "#### &emsp;&emsp;&emsp;&emsp; Data Imputation for Building Width"
      ]
    },
    {
      "cell_type": "code",
      "execution_count": 59,
      "metadata": {
        "collapsed": true,
        "jupyter": {
          "outputs_hidden": false,
          "source_hidden": false
        },
        "nteract": {
          "transient": {
            "deleting": false
          }
        }
      },
      "outputs": [
        {
          "data": {
            "application/vnd.livy.statement-meta+json": {
              "execution_finish_time": "2021-09-29T22:13:32.9223688Z",
              "execution_start_time": "2021-09-29T22:13:32.770462Z",
              "livy_statement_state": "available",
              "queued_time": "2021-09-29T21:48:37.7336424Z",
              "session_id": 42,
              "session_start_time": null,
              "spark_pool": "#SPARK_POOL_NAME#",
              "state": "finished",
              "statement_id": 59
            },
            "text/plain": [
              "StatementMeta(#SPARK_POOL_NAME#, 42, 59, Finished, Available)"
            ]
          },
          "metadata": {},
          "output_type": "display_data"
        },
        {
          "name": "stdout",
          "output_type": "stream",
          "text": [
            "Null Value Number Counts\n",
            "1\n",
            "0 Value Counts\n",
            "180749"
          ]
        }
      ],
      "source": [
        "#the method to fill up BLDFRONT is same as what we did with LTFRONT\n",
        "attribute = 'BLDFRONT'\n",
        "print('Null Value Number Counts')\n",
        "print(df2[attribute].isnull().sum())\n",
        "\n",
        "print('0 Value Counts')\n",
        "print(len(df2.loc[df2[attribute] == 0]))"
      ]
    },
    {
      "cell_type": "code",
      "execution_count": 60,
      "metadata": {
        "collapsed": true,
        "jupyter": {
          "outputs_hidden": false,
          "source_hidden": false
        },
        "nteract": {
          "transient": {
            "deleting": false
          }
        }
      },
      "outputs": [
        {
          "data": {
            "application/vnd.livy.statement-meta+json": {
              "execution_finish_time": "2021-09-29T22:13:47.7058462Z",
              "execution_start_time": "2021-09-29T22:13:33.02643Z",
              "livy_statement_state": "available",
              "queued_time": "2021-09-29T21:48:38.0010796Z",
              "session_id": 42,
              "session_start_time": null,
              "spark_pool": "#SPARK_POOL_NAME#",
              "state": "finished",
              "statement_id": 60
            },
            "text/plain": [
              "StatementMeta(#SPARK_POOL_NAME#, 42, 60, Finished, Available)"
            ]
          },
          "metadata": {},
          "output_type": "display_data"
        },
        {
          "data": {
            "text/html": [
              "<div>\n",
              "<style scoped>\n",
              "    .dataframe tbody tr th:only-of-type {\n",
              "        vertical-align: middle;\n",
              "    }\n",
              "\n",
              "    .dataframe tbody tr th {\n",
              "        vertical-align: top;\n",
              "    }\n",
              "\n",
              "    .dataframe thead th {\n",
              "        text-align: right;\n",
              "    }\n",
              "</style>\n",
              "<table border=\"1\" class=\"dataframe\">\n",
              "  <thead>\n",
              "    <tr style=\"text-align: right;\">\n",
              "      <th></th>\n",
              "      <th></th>\n",
              "      <th>BLDFRONT</th>\n",
              "    </tr>\n",
              "    <tr>\n",
              "      <th>ZIP</th>\n",
              "      <th>BLDGCL</th>\n",
              "      <th></th>\n",
              "    </tr>\n",
              "  </thead>\n",
              "  <tbody>\n",
              "    <tr>\n",
              "      <th rowspan=\"5\" valign=\"top\">10001.0</th>\n",
              "      <th>A4</th>\n",
              "      <td>19.0</td>\n",
              "    </tr>\n",
              "    <tr>\n",
              "      <th>A5</th>\n",
              "      <td>18.0</td>\n",
              "    </tr>\n",
              "    <tr>\n",
              "      <th>A9</th>\n",
              "      <td>18.0</td>\n",
              "    </tr>\n",
              "    <tr>\n",
              "      <th>B9</th>\n",
              "      <td>19.0</td>\n",
              "    </tr>\n",
              "    <tr>\n",
              "      <th>C0</th>\n",
              "      <td>18.0</td>\n",
              "    </tr>\n",
              "    <tr>\n",
              "      <th>...</th>\n",
              "      <th>...</th>\n",
              "      <td>...</td>\n",
              "    </tr>\n",
              "    <tr>\n",
              "      <th rowspan=\"2\" valign=\"top\">11421.0</th>\n",
              "      <th>G7</th>\n",
              "      <td>54.0</td>\n",
              "    </tr>\n",
              "    <tr>\n",
              "      <th>W1</th>\n",
              "      <td>93.0</td>\n",
              "    </tr>\n",
              "    <tr>\n",
              "      <th rowspan=\"2\" valign=\"top\">11422.0</th>\n",
              "      <th>D1</th>\n",
              "      <td>30.0</td>\n",
              "    </tr>\n",
              "    <tr>\n",
              "      <th>F9</th>\n",
              "      <td>40.0</td>\n",
              "    </tr>\n",
              "    <tr>\n",
              "      <th>11692.0</th>\n",
              "      <th>R0</th>\n",
              "      <td>58.0</td>\n",
              "    </tr>\n",
              "  </tbody>\n",
              "</table>\n",
              "<p>9542 rows × 1 columns</p>\n",
              "</div>"
            ],
            "text/plain": [
              "                BLDFRONT\n",
              "ZIP     BLDGCL          \n",
              "10001.0 A4          19.0\n",
              "        A5          18.0\n",
              "        A9          18.0\n",
              "        B9          19.0\n",
              "        C0          18.0\n",
              "...                  ...\n",
              "11421.0 G7          54.0\n",
              "        W1          93.0\n",
              "11422.0 D1          30.0\n",
              "        F9          40.0\n",
              "11692.0 R0          58.0\n",
              "\n",
              "[9542 rows x 1 columns]"
            ]
          },
          "metadata": {},
          "output_type": "display_data"
        }
      ],
      "source": [
        "non0 = df2[df2[attribute] != 0].copy()  \n",
        "\n",
        "\n",
        "#group together ZIP and BLDGCL variables to BLDFRONT\n",
        "non0_BDFR = non0[[attribute, 'ZIP','BLDGCL']].copy()\n",
        "temp = non0_BDFR.groupby(['ZIP','BLDGCL'])[[attribute]].agg(f_mode).copy()\n",
        "temp"
      ]
    },
    {
      "cell_type": "code",
      "execution_count": 61,
      "metadata": {
        "collapsed": true,
        "jupyter": {
          "outputs_hidden": false,
          "source_hidden": false
        },
        "nteract": {
          "transient": {
            "deleting": false
          }
        }
      },
      "outputs": [
        {
          "data": {
            "application/vnd.livy.statement-meta+json": {
              "execution_finish_time": "2021-09-29T22:21:58.3545379Z",
              "execution_start_time": "2021-09-29T22:13:47.828267Z",
              "livy_statement_state": "available",
              "queued_time": "2021-09-29T21:48:38.293979Z",
              "session_id": 42,
              "session_start_time": null,
              "spark_pool": "#SPARK_POOL_NAME#",
              "state": "finished",
              "statement_id": 61
            },
            "text/plain": [
              "StatementMeta(#SPARK_POOL_NAME#, 42, 61, Finished, Available)"
            ]
          },
          "metadata": {},
          "output_type": "display_data"
        },
        {
          "data": {
            "text/html": [
              "<div>\n",
              "<style scoped>\n",
              "    .dataframe tbody tr th:only-of-type {\n",
              "        vertical-align: middle;\n",
              "    }\n",
              "\n",
              "    .dataframe tbody tr th {\n",
              "        vertical-align: top;\n",
              "    }\n",
              "\n",
              "    .dataframe thead th {\n",
              "        text-align: right;\n",
              "    }\n",
              "</style>\n",
              "<table border=\"1\" class=\"dataframe\">\n",
              "  <thead>\n",
              "    <tr style=\"text-align: right;\">\n",
              "      <th></th>\n",
              "      <th>B</th>\n",
              "      <th>BLOCK</th>\n",
              "      <th>BLDGCL</th>\n",
              "      <th>TAXCLASS</th>\n",
              "      <th>LTFRONT</th>\n",
              "      <th>LTDEPTH</th>\n",
              "      <th>STORIES</th>\n",
              "      <th>EXLAND</th>\n",
              "      <th>EXTOT</th>\n",
              "      <th>STADDR</th>\n",
              "      <th>ZIP</th>\n",
              "      <th>BLDFRONT</th>\n",
              "      <th>BLDDEPTH</th>\n",
              "      <th>FULLVAL</th>\n",
              "      <th>AVLAND</th>\n",
              "      <th>AVTOT</th>\n",
              "    </tr>\n",
              "  </thead>\n",
              "  <tbody>\n",
              "    <tr>\n",
              "      <th>0</th>\n",
              "      <td>1</td>\n",
              "      <td>1</td>\n",
              "      <td>Y4</td>\n",
              "      <td>4</td>\n",
              "      <td>198</td>\n",
              "      <td>355</td>\n",
              "      <td>50.0</td>\n",
              "      <td>96228900.0</td>\n",
              "      <td>136818900.0</td>\n",
              "      <td>1 GOVERNORS ISLAND</td>\n",
              "      <td>10004.0</td>\n",
              "      <td>0.0</td>\n",
              "      <td>0.0</td>\n",
              "      <td>304042000.0</td>\n",
              "      <td>96228900.0</td>\n",
              "      <td>136818900.0</td>\n",
              "    </tr>\n",
              "    <tr>\n",
              "      <th>1</th>\n",
              "      <td>1</td>\n",
              "      <td>1</td>\n",
              "      <td>P7</td>\n",
              "      <td>4</td>\n",
              "      <td>500</td>\n",
              "      <td>1046</td>\n",
              "      <td>50.0</td>\n",
              "      <td>4225500.0</td>\n",
              "      <td>9630000.0</td>\n",
              "      <td>1 LIBERTY ISLAND</td>\n",
              "      <td>10004.0</td>\n",
              "      <td>41.0</td>\n",
              "      <td>0.0</td>\n",
              "      <td>21400000.0</td>\n",
              "      <td>4225500.0</td>\n",
              "      <td>9630000.0</td>\n",
              "    </tr>\n",
              "    <tr>\n",
              "      <th>2</th>\n",
              "      <td>1</td>\n",
              "      <td>1</td>\n",
              "      <td>Z9</td>\n",
              "      <td>4</td>\n",
              "      <td>27</td>\n",
              "      <td>177</td>\n",
              "      <td>50.0</td>\n",
              "      <td>14310000.0</td>\n",
              "      <td>87210000.0</td>\n",
              "      <td>1 ELLIS ISLAND</td>\n",
              "      <td>10004.0</td>\n",
              "      <td>37.0</td>\n",
              "      <td>0.0</td>\n",
              "      <td>193800000.0</td>\n",
              "      <td>14310000.0</td>\n",
              "      <td>87210000.0</td>\n",
              "    </tr>\n",
              "    <tr>\n",
              "      <th>3</th>\n",
              "      <td>1</td>\n",
              "      <td>2</td>\n",
              "      <td>Y7</td>\n",
              "      <td>4</td>\n",
              "      <td>709</td>\n",
              "      <td>564</td>\n",
              "      <td>3.0</td>\n",
              "      <td>39008700.0</td>\n",
              "      <td>47108700.0</td>\n",
              "      <td>MARGINAL STREET</td>\n",
              "      <td>10004.0</td>\n",
              "      <td>709.0</td>\n",
              "      <td>564.0</td>\n",
              "      <td>104686000.0</td>\n",
              "      <td>39008700.0</td>\n",
              "      <td>47108700.0</td>\n",
              "    </tr>\n",
              "    <tr>\n",
              "      <th>4</th>\n",
              "      <td>1</td>\n",
              "      <td>2</td>\n",
              "      <td>T2</td>\n",
              "      <td>4</td>\n",
              "      <td>793</td>\n",
              "      <td>551</td>\n",
              "      <td>2.0</td>\n",
              "      <td>15255000.0</td>\n",
              "      <td>17640000.0</td>\n",
              "      <td>PIER 6</td>\n",
              "      <td>10004.0</td>\n",
              "      <td>85.0</td>\n",
              "      <td>551.0</td>\n",
              "      <td>39200000.0</td>\n",
              "      <td>15255000.0</td>\n",
              "      <td>17640000.0</td>\n",
              "    </tr>\n",
              "  </tbody>\n",
              "</table>\n",
              "</div>"
            ],
            "text/plain": [
              "   B  BLOCK BLDGCL TAXCLASS  ...  BLDDEPTH      FULLVAL      AVLAND        AVTOT\n",
              "0  1      1     Y4        4  ...       0.0  304042000.0  96228900.0  136818900.0\n",
              "1  1      1     P7        4  ...       0.0   21400000.0   4225500.0    9630000.0\n",
              "2  1      1     Z9        4  ...       0.0  193800000.0  14310000.0   87210000.0\n",
              "3  1      2     Y7        4  ...     564.0  104686000.0  39008700.0   47108700.0\n",
              "4  1      2     T2        4  ...     551.0   39200000.0  15255000.0   17640000.0\n",
              "\n",
              "[5 rows x 16 columns]"
            ]
          },
          "metadata": {},
          "output_type": "display_data"
        }
      ],
      "source": [
        "for i in df2[df2[attribute] == 0].index:\n",
        "    try:\n",
        "        temp_ZIP = df2.loc[i,'ZIP']\n",
        "        temp_BLDGCL = df2.loc[i,'BLDGCL']\n",
        "        df2.loc[i, attribute] = temp.loc[temp_ZIP,].loc[temp_BLDGCL,attribute]\n",
        "    except:\n",
        "        continue\n",
        "\n",
        "df2.head(5)"
      ]
    },
    {
      "cell_type": "code",
      "execution_count": 62,
      "metadata": {
        "collapsed": true,
        "jupyter": {
          "outputs_hidden": false,
          "source_hidden": false
        },
        "nteract": {
          "transient": {
            "deleting": false
          }
        }
      },
      "outputs": [
        {
          "data": {
            "application/vnd.livy.statement-meta+json": {
              "execution_finish_time": "2021-09-29T22:21:59.0133305Z",
              "execution_start_time": "2021-09-29T22:21:58.5015058Z",
              "livy_statement_state": "available",
              "queued_time": "2021-09-29T21:48:38.6339723Z",
              "session_id": 42,
              "session_start_time": null,
              "spark_pool": "#SPARK_POOL_NAME#",
              "state": "finished",
              "statement_id": 62
            },
            "text/plain": [
              "StatementMeta(#SPARK_POOL_NAME#, 42, 62, Finished, Available)"
            ]
          },
          "metadata": {},
          "output_type": "display_data"
        },
        {
          "name": "stdout",
          "output_type": "stream",
          "text": [
            "46088\n"
          ]
        },
        {
          "data": {
            "text/html": [
              "<div>\n",
              "<style scoped>\n",
              "    .dataframe tbody tr th:only-of-type {\n",
              "        vertical-align: middle;\n",
              "    }\n",
              "\n",
              "    .dataframe tbody tr th {\n",
              "        vertical-align: top;\n",
              "    }\n",
              "\n",
              "    .dataframe thead th {\n",
              "        text-align: right;\n",
              "    }\n",
              "</style>\n",
              "<table border=\"1\" class=\"dataframe\">\n",
              "  <thead>\n",
              "    <tr style=\"text-align: right;\">\n",
              "      <th></th>\n",
              "      <th>BLDFRONT</th>\n",
              "    </tr>\n",
              "    <tr>\n",
              "      <th>ZIP</th>\n",
              "      <th></th>\n",
              "    </tr>\n",
              "  </thead>\n",
              "  <tbody>\n",
              "    <tr>\n",
              "      <th>10001.0</th>\n",
              "      <td>25.0</td>\n",
              "    </tr>\n",
              "    <tr>\n",
              "      <th>10002.0</th>\n",
              "      <td>25.0</td>\n",
              "    </tr>\n",
              "    <tr>\n",
              "      <th>10003.0</th>\n",
              "      <td>25.0</td>\n",
              "    </tr>\n",
              "    <tr>\n",
              "      <th>10004.0</th>\n",
              "      <td>132.0</td>\n",
              "    </tr>\n",
              "    <tr>\n",
              "      <th>10005.0</th>\n",
              "      <td>151.0</td>\n",
              "    </tr>\n",
              "    <tr>\n",
              "      <th>...</th>\n",
              "      <td>...</td>\n",
              "    </tr>\n",
              "    <tr>\n",
              "      <th>11417.0</th>\n",
              "      <td>20.0</td>\n",
              "    </tr>\n",
              "    <tr>\n",
              "      <th>11420.0</th>\n",
              "      <td>35.0</td>\n",
              "    </tr>\n",
              "    <tr>\n",
              "      <th>11421.0</th>\n",
              "      <td>54.0</td>\n",
              "    </tr>\n",
              "    <tr>\n",
              "      <th>11422.0</th>\n",
              "      <td>30.0</td>\n",
              "    </tr>\n",
              "    <tr>\n",
              "      <th>11692.0</th>\n",
              "      <td>58.0</td>\n",
              "    </tr>\n",
              "  </tbody>\n",
              "</table>\n",
              "<p>141 rows × 1 columns</p>\n",
              "</div>"
            ],
            "text/plain": [
              "         BLDFRONT\n",
              "ZIP              \n",
              "10001.0      25.0\n",
              "10002.0      25.0\n",
              "10003.0      25.0\n",
              "10004.0     132.0\n",
              "10005.0     151.0\n",
              "...           ...\n",
              "11417.0      20.0\n",
              "11420.0      35.0\n",
              "11421.0      54.0\n",
              "11422.0      30.0\n",
              "11692.0      58.0\n",
              "\n",
              "[141 rows x 1 columns]"
            ]
          },
          "metadata": {},
          "output_type": "display_data"
        }
      ],
      "source": [
        "print(len(df2.loc[df2[attribute] == 0]))\n",
        "non0_BDFR = non0[[attribute, 'ZIP']].copy()\n",
        "temp = non0_BDFR.groupby(['ZIP',])[[attribute]].agg(f_mode).copy()\n",
        "temp"
      ]
    },
    {
      "cell_type": "code",
      "execution_count": 63,
      "metadata": {
        "collapsed": true,
        "jupyter": {
          "outputs_hidden": false,
          "source_hidden": false
        },
        "nteract": {
          "transient": {
            "deleting": false
          }
        }
      },
      "outputs": [
        {
          "data": {
            "application/vnd.livy.statement-meta+json": {
              "execution_finish_time": "2021-09-29T22:23:41.8622897Z",
              "execution_start_time": "2021-09-29T22:21:59.1264288Z",
              "livy_statement_state": "available",
              "queued_time": "2021-09-29T21:48:38.9088235Z",
              "session_id": 42,
              "session_start_time": null,
              "spark_pool": "#SPARK_POOL_NAME#",
              "state": "finished",
              "statement_id": 63
            },
            "text/plain": [
              "StatementMeta(#SPARK_POOL_NAME#, 42, 63, Finished, Available)"
            ]
          },
          "metadata": {},
          "output_type": "display_data"
        },
        {
          "name": "stdout",
          "output_type": "stream",
          "text": [
            "192\n"
          ]
        },
        {
          "data": {
            "text/html": [
              "<div>\n",
              "<style scoped>\n",
              "    .dataframe tbody tr th:only-of-type {\n",
              "        vertical-align: middle;\n",
              "    }\n",
              "\n",
              "    .dataframe tbody tr th {\n",
              "        vertical-align: top;\n",
              "    }\n",
              "\n",
              "    .dataframe thead th {\n",
              "        text-align: right;\n",
              "    }\n",
              "</style>\n",
              "<table border=\"1\" class=\"dataframe\">\n",
              "  <thead>\n",
              "    <tr style=\"text-align: right;\">\n",
              "      <th></th>\n",
              "      <th>BLDFRONT</th>\n",
              "    </tr>\n",
              "    <tr>\n",
              "      <th>B</th>\n",
              "      <th></th>\n",
              "    </tr>\n",
              "  </thead>\n",
              "  <tbody>\n",
              "    <tr>\n",
              "      <th>1</th>\n",
              "      <td>25.0</td>\n",
              "    </tr>\n",
              "    <tr>\n",
              "      <th>2</th>\n",
              "      <td>20.0</td>\n",
              "    </tr>\n",
              "    <tr>\n",
              "      <th>3</th>\n",
              "      <td>20.0</td>\n",
              "    </tr>\n",
              "    <tr>\n",
              "      <th>4</th>\n",
              "      <td>20.0</td>\n",
              "    </tr>\n",
              "  </tbody>\n",
              "</table>\n",
              "</div>"
            ],
            "text/plain": [
              "   BLDFRONT\n",
              "B          \n",
              "1      25.0\n",
              "2      20.0\n",
              "3      20.0\n",
              "4      20.0"
            ]
          },
          "metadata": {},
          "output_type": "display_data"
        }
      ],
      "source": [
        "\n",
        "for i in df2[df2[attribute] == 0].index:\n",
        "    try:\n",
        "        temp_ZIP = df2.loc[i,'ZIP']\n",
        "        df2.loc[i, attribute] = temp.loc[temp_ZIP,attribute]\n",
        "    except:\n",
        "        continue\n",
        "\n",
        "print(len(df2.loc[df2[attribute] == 0]))\n",
        "\n",
        "non0_BDFR = non0[[attribute, 'B']].copy()\n",
        "temp = non0_BDFR.groupby(['B',])[[attribute]].agg(f_mode).copy()\n",
        "temp"
      ]
    },
    {
      "cell_type": "code",
      "execution_count": 64,
      "metadata": {
        "collapsed": true,
        "jupyter": {
          "outputs_hidden": false,
          "source_hidden": false
        },
        "nteract": {
          "transient": {
            "deleting": false
          }
        }
      },
      "outputs": [
        {
          "data": {
            "application/vnd.livy.statement-meta+json": {
              "execution_finish_time": "2021-09-29T22:23:42.4610372Z",
              "execution_start_time": "2021-09-29T22:23:41.9746809Z",
              "livy_statement_state": "available",
              "queued_time": "2021-09-29T21:48:39.1524354Z",
              "session_id": 42,
              "session_start_time": null,
              "spark_pool": "#SPARK_POOL_NAME#",
              "state": "finished",
              "statement_id": 64
            },
            "text/plain": [
              "StatementMeta(#SPARK_POOL_NAME#, 42, 64, Finished, Available)"
            ]
          },
          "metadata": {},
          "output_type": "display_data"
        },
        {
          "name": "stdout",
          "output_type": "stream",
          "text": [
            "0"
          ]
        }
      ],
      "source": [
        "\n",
        "for i in df2[df2[attribute] == 0].index:\n",
        "    try:\n",
        "        temp_B = df2.loc[i,'B']\n",
        "        df2.loc[i, attribute] = temp.loc[temp_B,attribute]\n",
        "    except:\n",
        "        continue\n",
        "\n",
        "print(len(df2.loc[df2[attribute] == 0]))\n"
      ]
    },
    {
      "cell_type": "markdown",
      "metadata": {
        "nteract": {
          "transient": {
            "deleting": false
          }
        }
      },
      "source": [
        "#### &emsp;&emsp;&emsp;&emsp;Data Imputation for Building Depth (Variable 'BLDDEPTH')"
      ]
    },
    {
      "cell_type": "code",
      "execution_count": 65,
      "metadata": {
        "collapsed": true,
        "jupyter": {
          "outputs_hidden": false,
          "source_hidden": false
        },
        "nteract": {
          "transient": {
            "deleting": false
          }
        }
      },
      "outputs": [
        {
          "data": {
            "application/vnd.livy.statement-meta+json": {
              "execution_finish_time": "2021-09-29T22:23:42.7096924Z",
              "execution_start_time": "2021-09-29T22:23:42.5550007Z",
              "livy_statement_state": "available",
              "queued_time": "2021-09-29T21:48:39.4162758Z",
              "session_id": 42,
              "session_start_time": null,
              "spark_pool": "#SPARK_POOL_NAME#",
              "state": "finished",
              "statement_id": 65
            },
            "text/plain": [
              "StatementMeta(#SPARK_POOL_NAME#, 42, 65, Finished, Available)"
            ]
          },
          "metadata": {},
          "output_type": "display_data"
        },
        {
          "name": "stdout",
          "output_type": "stream",
          "text": [
            "Null Value Number Counts\n",
            "1\n",
            "0 Value Counts\n",
            "180772"
          ]
        }
      ],
      "source": [
        "#the method to fill up BLDDEPTH is same as LTFRONT\n",
        "attribute = 'BLDDEPTH'\n",
        "print('Null Value Number Counts')\n",
        "print(df2[attribute].isnull().sum())\n",
        "\n",
        "print('0 Value Counts')\n",
        "print(len(df2.loc[df2[attribute] == 0]))"
      ]
    },
    {
      "cell_type": "code",
      "execution_count": 66,
      "metadata": {
        "collapsed": true,
        "jupyter": {
          "outputs_hidden": false,
          "source_hidden": false
        },
        "nteract": {
          "transient": {
            "deleting": false
          }
        }
      },
      "outputs": [
        {
          "data": {
            "application/vnd.livy.statement-meta+json": {
              "execution_finish_time": "2021-09-29T22:23:55.2951385Z",
              "execution_start_time": "2021-09-29T22:23:42.8182719Z",
              "livy_statement_state": "available",
              "queued_time": "2021-09-29T21:48:39.7624805Z",
              "session_id": 42,
              "session_start_time": null,
              "spark_pool": "#SPARK_POOL_NAME#",
              "state": "finished",
              "statement_id": 66
            },
            "text/plain": [
              "StatementMeta(#SPARK_POOL_NAME#, 42, 66, Finished, Available)"
            ]
          },
          "metadata": {},
          "output_type": "display_data"
        },
        {
          "data": {
            "text/html": [
              "<div>\n",
              "<style scoped>\n",
              "    .dataframe tbody tr th:only-of-type {\n",
              "        vertical-align: middle;\n",
              "    }\n",
              "\n",
              "    .dataframe tbody tr th {\n",
              "        vertical-align: top;\n",
              "    }\n",
              "\n",
              "    .dataframe thead th {\n",
              "        text-align: right;\n",
              "    }\n",
              "</style>\n",
              "<table border=\"1\" class=\"dataframe\">\n",
              "  <thead>\n",
              "    <tr style=\"text-align: right;\">\n",
              "      <th></th>\n",
              "      <th></th>\n",
              "      <th>BLDDEPTH</th>\n",
              "    </tr>\n",
              "    <tr>\n",
              "      <th>ZIP</th>\n",
              "      <th>BLDGCL</th>\n",
              "      <th></th>\n",
              "    </tr>\n",
              "  </thead>\n",
              "  <tbody>\n",
              "    <tr>\n",
              "      <th rowspan=\"5\" valign=\"top\">10001.0</th>\n",
              "      <th>A4</th>\n",
              "      <td>36.0</td>\n",
              "    </tr>\n",
              "    <tr>\n",
              "      <th>A5</th>\n",
              "      <td>46.0</td>\n",
              "    </tr>\n",
              "    <tr>\n",
              "      <th>A9</th>\n",
              "      <td>50.0</td>\n",
              "    </tr>\n",
              "    <tr>\n",
              "      <th>B9</th>\n",
              "      <td>33.0</td>\n",
              "    </tr>\n",
              "    <tr>\n",
              "      <th>C0</th>\n",
              "      <td>44.0</td>\n",
              "    </tr>\n",
              "    <tr>\n",
              "      <th>...</th>\n",
              "      <th>...</th>\n",
              "      <td>...</td>\n",
              "    </tr>\n",
              "    <tr>\n",
              "      <th rowspan=\"2\" valign=\"top\">11421.0</th>\n",
              "      <th>G7</th>\n",
              "      <td>46.0</td>\n",
              "    </tr>\n",
              "    <tr>\n",
              "      <th>W1</th>\n",
              "      <td>97.0</td>\n",
              "    </tr>\n",
              "    <tr>\n",
              "      <th rowspan=\"2\" valign=\"top\">11422.0</th>\n",
              "      <th>D1</th>\n",
              "      <td>125.0</td>\n",
              "    </tr>\n",
              "    <tr>\n",
              "      <th>F9</th>\n",
              "      <td>90.0</td>\n",
              "    </tr>\n",
              "    <tr>\n",
              "      <th>11692.0</th>\n",
              "      <th>R0</th>\n",
              "      <td>56.0</td>\n",
              "    </tr>\n",
              "  </tbody>\n",
              "</table>\n",
              "<p>9535 rows × 1 columns</p>\n",
              "</div>"
            ],
            "text/plain": [
              "                BLDDEPTH\n",
              "ZIP     BLDGCL          \n",
              "10001.0 A4          36.0\n",
              "        A5          46.0\n",
              "        A9          50.0\n",
              "        B9          33.0\n",
              "        C0          44.0\n",
              "...                  ...\n",
              "11421.0 G7          46.0\n",
              "        W1          97.0\n",
              "11422.0 D1         125.0\n",
              "        F9          90.0\n",
              "11692.0 R0          56.0\n",
              "\n",
              "[9535 rows x 1 columns]"
            ]
          },
          "metadata": {},
          "output_type": "display_data"
        }
      ],
      "source": [
        "non0 = df2[df2[attribute] != 0].copy()  \n",
        "\n",
        "non0_BDDP = non0[[attribute, 'ZIP','BLDGCL']].copy()\n",
        "temp = non0_BDDP.groupby(['ZIP','BLDGCL'])[[attribute]].agg(f_mode).copy()\n",
        "temp"
      ]
    },
    {
      "cell_type": "code",
      "execution_count": 67,
      "metadata": {
        "collapsed": true,
        "jupyter": {
          "outputs_hidden": false,
          "source_hidden": false
        },
        "nteract": {
          "transient": {
            "deleting": false
          }
        }
      },
      "outputs": [
        {
          "data": {
            "application/vnd.livy.statement-meta+json": {
              "execution_finish_time": "2021-09-29T22:32:06.4681189Z",
              "execution_start_time": "2021-09-29T22:23:55.4088116Z",
              "livy_statement_state": "available",
              "queued_time": "2021-09-29T21:48:40.0597763Z",
              "session_id": 42,
              "session_start_time": null,
              "spark_pool": "#SPARK_POOL_NAME#",
              "state": "finished",
              "statement_id": 67
            },
            "text/plain": [
              "StatementMeta(#SPARK_POOL_NAME#, 42, 67, Finished, Available)"
            ]
          },
          "metadata": {},
          "output_type": "display_data"
        },
        {
          "data": {
            "text/html": [
              "<div>\n",
              "<style scoped>\n",
              "    .dataframe tbody tr th:only-of-type {\n",
              "        vertical-align: middle;\n",
              "    }\n",
              "\n",
              "    .dataframe tbody tr th {\n",
              "        vertical-align: top;\n",
              "    }\n",
              "\n",
              "    .dataframe thead th {\n",
              "        text-align: right;\n",
              "    }\n",
              "</style>\n",
              "<table border=\"1\" class=\"dataframe\">\n",
              "  <thead>\n",
              "    <tr style=\"text-align: right;\">\n",
              "      <th></th>\n",
              "      <th>B</th>\n",
              "      <th>BLOCK</th>\n",
              "      <th>BLDGCL</th>\n",
              "      <th>TAXCLASS</th>\n",
              "      <th>LTFRONT</th>\n",
              "      <th>LTDEPTH</th>\n",
              "      <th>STORIES</th>\n",
              "      <th>EXLAND</th>\n",
              "      <th>EXTOT</th>\n",
              "      <th>STADDR</th>\n",
              "      <th>ZIP</th>\n",
              "      <th>BLDFRONT</th>\n",
              "      <th>BLDDEPTH</th>\n",
              "      <th>FULLVAL</th>\n",
              "      <th>AVLAND</th>\n",
              "      <th>AVTOT</th>\n",
              "    </tr>\n",
              "  </thead>\n",
              "  <tbody>\n",
              "    <tr>\n",
              "      <th>0</th>\n",
              "      <td>1</td>\n",
              "      <td>1</td>\n",
              "      <td>Y4</td>\n",
              "      <td>4</td>\n",
              "      <td>198</td>\n",
              "      <td>355</td>\n",
              "      <td>50.0</td>\n",
              "      <td>96228900.0</td>\n",
              "      <td>136818900.0</td>\n",
              "      <td>1 GOVERNORS ISLAND</td>\n",
              "      <td>10004.0</td>\n",
              "      <td>132.0</td>\n",
              "      <td>0.0</td>\n",
              "      <td>304042000.0</td>\n",
              "      <td>96228900.0</td>\n",
              "      <td>136818900.0</td>\n",
              "    </tr>\n",
              "    <tr>\n",
              "      <th>1</th>\n",
              "      <td>1</td>\n",
              "      <td>1</td>\n",
              "      <td>P7</td>\n",
              "      <td>4</td>\n",
              "      <td>500</td>\n",
              "      <td>1046</td>\n",
              "      <td>50.0</td>\n",
              "      <td>4225500.0</td>\n",
              "      <td>9630000.0</td>\n",
              "      <td>1 LIBERTY ISLAND</td>\n",
              "      <td>10004.0</td>\n",
              "      <td>41.0</td>\n",
              "      <td>63.0</td>\n",
              "      <td>21400000.0</td>\n",
              "      <td>4225500.0</td>\n",
              "      <td>9630000.0</td>\n",
              "    </tr>\n",
              "    <tr>\n",
              "      <th>2</th>\n",
              "      <td>1</td>\n",
              "      <td>1</td>\n",
              "      <td>Z9</td>\n",
              "      <td>4</td>\n",
              "      <td>27</td>\n",
              "      <td>177</td>\n",
              "      <td>50.0</td>\n",
              "      <td>14310000.0</td>\n",
              "      <td>87210000.0</td>\n",
              "      <td>1 ELLIS ISLAND</td>\n",
              "      <td>10004.0</td>\n",
              "      <td>37.0</td>\n",
              "      <td>227.0</td>\n",
              "      <td>193800000.0</td>\n",
              "      <td>14310000.0</td>\n",
              "      <td>87210000.0</td>\n",
              "    </tr>\n",
              "    <tr>\n",
              "      <th>3</th>\n",
              "      <td>1</td>\n",
              "      <td>2</td>\n",
              "      <td>Y7</td>\n",
              "      <td>4</td>\n",
              "      <td>709</td>\n",
              "      <td>564</td>\n",
              "      <td>3.0</td>\n",
              "      <td>39008700.0</td>\n",
              "      <td>47108700.0</td>\n",
              "      <td>MARGINAL STREET</td>\n",
              "      <td>10004.0</td>\n",
              "      <td>709.0</td>\n",
              "      <td>564.0</td>\n",
              "      <td>104686000.0</td>\n",
              "      <td>39008700.0</td>\n",
              "      <td>47108700.0</td>\n",
              "    </tr>\n",
              "    <tr>\n",
              "      <th>4</th>\n",
              "      <td>1</td>\n",
              "      <td>2</td>\n",
              "      <td>T2</td>\n",
              "      <td>4</td>\n",
              "      <td>793</td>\n",
              "      <td>551</td>\n",
              "      <td>2.0</td>\n",
              "      <td>15255000.0</td>\n",
              "      <td>17640000.0</td>\n",
              "      <td>PIER 6</td>\n",
              "      <td>10004.0</td>\n",
              "      <td>85.0</td>\n",
              "      <td>551.0</td>\n",
              "      <td>39200000.0</td>\n",
              "      <td>15255000.0</td>\n",
              "      <td>17640000.0</td>\n",
              "    </tr>\n",
              "  </tbody>\n",
              "</table>\n",
              "</div>"
            ],
            "text/plain": [
              "   B  BLOCK BLDGCL TAXCLASS  ...  BLDDEPTH      FULLVAL      AVLAND        AVTOT\n",
              "0  1      1     Y4        4  ...       0.0  304042000.0  96228900.0  136818900.0\n",
              "1  1      1     P7        4  ...      63.0   21400000.0   4225500.0    9630000.0\n",
              "2  1      1     Z9        4  ...     227.0  193800000.0  14310000.0   87210000.0\n",
              "3  1      2     Y7        4  ...     564.0  104686000.0  39008700.0   47108700.0\n",
              "4  1      2     T2        4  ...     551.0   39200000.0  15255000.0   17640000.0\n",
              "\n",
              "[5 rows x 16 columns]"
            ]
          },
          "metadata": {},
          "output_type": "display_data"
        }
      ],
      "source": [
        "for i in df2[df2[attribute] == 0].index:\n",
        "    try:\n",
        "        temp_ZIP = df2.loc[i,'ZIP']\n",
        "        temp_BLDGCL = df2.loc[i,'BLDGCL']\n",
        "        df2.loc[i, attribute] = temp.loc[temp_ZIP,].loc[temp_BLDGCL,attribute]\n",
        "    except:\n",
        "        continue\n",
        "\n",
        "df2.head(5)"
      ]
    },
    {
      "cell_type": "code",
      "execution_count": 68,
      "metadata": {
        "collapsed": true,
        "jupyter": {
          "outputs_hidden": false,
          "source_hidden": false
        },
        "nteract": {
          "transient": {
            "deleting": false
          }
        }
      },
      "outputs": [
        {
          "data": {
            "application/vnd.livy.statement-meta+json": {
              "execution_finish_time": "2021-09-29T22:32:07.1079899Z",
              "execution_start_time": "2021-09-29T22:32:06.6048725Z",
              "livy_statement_state": "available",
              "queued_time": "2021-09-29T21:48:40.463044Z",
              "session_id": 42,
              "session_start_time": null,
              "spark_pool": "#SPARK_POOL_NAME#",
              "state": "finished",
              "statement_id": 68
            },
            "text/plain": [
              "StatementMeta(#SPARK_POOL_NAME#, 42, 68, Finished, Available)"
            ]
          },
          "metadata": {},
          "output_type": "display_data"
        },
        {
          "name": "stdout",
          "output_type": "stream",
          "text": [
            "46104\n"
          ]
        },
        {
          "data": {
            "text/html": [
              "<div>\n",
              "<style scoped>\n",
              "    .dataframe tbody tr th:only-of-type {\n",
              "        vertical-align: middle;\n",
              "    }\n",
              "\n",
              "    .dataframe tbody tr th {\n",
              "        vertical-align: top;\n",
              "    }\n",
              "\n",
              "    .dataframe thead th {\n",
              "        text-align: right;\n",
              "    }\n",
              "</style>\n",
              "<table border=\"1\" class=\"dataframe\">\n",
              "  <thead>\n",
              "    <tr style=\"text-align: right;\">\n",
              "      <th></th>\n",
              "      <th>BLDDEPTH</th>\n",
              "    </tr>\n",
              "    <tr>\n",
              "      <th>ZIP</th>\n",
              "      <th></th>\n",
              "    </tr>\n",
              "  </thead>\n",
              "  <tbody>\n",
              "    <tr>\n",
              "      <th>10001.0</th>\n",
              "      <td>98.0</td>\n",
              "    </tr>\n",
              "    <tr>\n",
              "      <th>10002.0</th>\n",
              "      <td>88.0</td>\n",
              "    </tr>\n",
              "    <tr>\n",
              "      <th>10003.0</th>\n",
              "      <td>100.0</td>\n",
              "    </tr>\n",
              "    <tr>\n",
              "      <th>10004.0</th>\n",
              "      <td>115.0</td>\n",
              "    </tr>\n",
              "    <tr>\n",
              "      <th>10005.0</th>\n",
              "      <td>149.0</td>\n",
              "    </tr>\n",
              "    <tr>\n",
              "      <th>...</th>\n",
              "      <td>...</td>\n",
              "    </tr>\n",
              "    <tr>\n",
              "      <th>11417.0</th>\n",
              "      <td>28.0</td>\n",
              "    </tr>\n",
              "    <tr>\n",
              "      <th>11420.0</th>\n",
              "      <td>99.0</td>\n",
              "    </tr>\n",
              "    <tr>\n",
              "      <th>11421.0</th>\n",
              "      <td>46.0</td>\n",
              "    </tr>\n",
              "    <tr>\n",
              "      <th>11422.0</th>\n",
              "      <td>125.0</td>\n",
              "    </tr>\n",
              "    <tr>\n",
              "      <th>11692.0</th>\n",
              "      <td>56.0</td>\n",
              "    </tr>\n",
              "  </tbody>\n",
              "</table>\n",
              "<p>141 rows × 1 columns</p>\n",
              "</div>"
            ],
            "text/plain": [
              "         BLDDEPTH\n",
              "ZIP              \n",
              "10001.0      98.0\n",
              "10002.0      88.0\n",
              "10003.0     100.0\n",
              "10004.0     115.0\n",
              "10005.0     149.0\n",
              "...           ...\n",
              "11417.0      28.0\n",
              "11420.0      99.0\n",
              "11421.0      46.0\n",
              "11422.0     125.0\n",
              "11692.0      56.0\n",
              "\n",
              "[141 rows x 1 columns]"
            ]
          },
          "metadata": {},
          "output_type": "display_data"
        }
      ],
      "source": [
        "print(len(df2.loc[df2[attribute] == 0]))\n",
        "\n",
        "non0_BDDP = non0[[attribute, 'ZIP']].copy()\n",
        "temp = non0_BDDP.groupby(['ZIP',])[[attribute]].agg(f_mode).copy()\n",
        "temp"
      ]
    },
    {
      "cell_type": "code",
      "execution_count": 69,
      "metadata": {
        "collapsed": true,
        "jupyter": {
          "outputs_hidden": false,
          "source_hidden": false
        },
        "nteract": {
          "transient": {
            "deleting": false
          }
        }
      },
      "outputs": [
        {
          "data": {
            "application/vnd.livy.statement-meta+json": {
              "execution_finish_time": "2021-09-29T22:33:58.8796383Z",
              "execution_start_time": "2021-09-29T22:32:07.2199077Z",
              "livy_statement_state": "available",
              "queued_time": "2021-09-29T21:48:40.5708517Z",
              "session_id": 42,
              "session_start_time": null,
              "spark_pool": "#SPARK_POOL_NAME#",
              "state": "finished",
              "statement_id": 69
            },
            "text/plain": [
              "StatementMeta(#SPARK_POOL_NAME#, 42, 69, Finished, Available)"
            ]
          },
          "metadata": {},
          "output_type": "display_data"
        },
        {
          "name": "stdout",
          "output_type": "stream",
          "text": [
            "192"
          ]
        }
      ],
      "source": [
        "for i in df2[df2[attribute] == 0].index:\n",
        "    try:\n",
        "        temp_ZIP = df2.loc[i,'ZIP']\n",
        "        df2.loc[i, attribute] = temp.loc[temp_ZIP,attribute]\n",
        "    except:\n",
        "        continue\n",
        "\n",
        "print(len(df2.loc[df2[attribute] == 0]))\n"
      ]
    },
    {
      "cell_type": "code",
      "execution_count": 70,
      "metadata": {
        "collapsed": true,
        "jupyter": {
          "outputs_hidden": false,
          "source_hidden": false
        },
        "nteract": {
          "transient": {
            "deleting": false
          }
        }
      },
      "outputs": [
        {
          "data": {
            "application/vnd.livy.statement-meta+json": {
              "execution_finish_time": "2021-09-29T22:33:59.1335989Z",
              "execution_start_time": "2021-09-29T22:33:58.9820032Z",
              "livy_statement_state": "available",
              "queued_time": "2021-09-29T21:48:40.7930228Z",
              "session_id": 42,
              "session_start_time": null,
              "spark_pool": "#SPARK_POOL_NAME#",
              "state": "finished",
              "statement_id": 70
            },
            "text/plain": [
              "StatementMeta(#SPARK_POOL_NAME#, 42, 70, Finished, Available)"
            ]
          },
          "metadata": {},
          "output_type": "display_data"
        },
        {
          "data": {
            "text/html": [
              "<div>\n",
              "<style scoped>\n",
              "    .dataframe tbody tr th:only-of-type {\n",
              "        vertical-align: middle;\n",
              "    }\n",
              "\n",
              "    .dataframe tbody tr th {\n",
              "        vertical-align: top;\n",
              "    }\n",
              "\n",
              "    .dataframe thead th {\n",
              "        text-align: right;\n",
              "    }\n",
              "</style>\n",
              "<table border=\"1\" class=\"dataframe\">\n",
              "  <thead>\n",
              "    <tr style=\"text-align: right;\">\n",
              "      <th></th>\n",
              "      <th>BLDDEPTH</th>\n",
              "    </tr>\n",
              "    <tr>\n",
              "      <th>B</th>\n",
              "      <th></th>\n",
              "    </tr>\n",
              "  </thead>\n",
              "  <tbody>\n",
              "    <tr>\n",
              "      <th>1</th>\n",
              "      <td>100.0</td>\n",
              "    </tr>\n",
              "    <tr>\n",
              "      <th>2</th>\n",
              "      <td>50.0</td>\n",
              "    </tr>\n",
              "    <tr>\n",
              "      <th>3</th>\n",
              "      <td>50.0</td>\n",
              "    </tr>\n",
              "    <tr>\n",
              "      <th>4</th>\n",
              "      <td>50.0</td>\n",
              "    </tr>\n",
              "  </tbody>\n",
              "</table>\n",
              "</div>"
            ],
            "text/plain": [
              "   BLDDEPTH\n",
              "B          \n",
              "1     100.0\n",
              "2      50.0\n",
              "3      50.0\n",
              "4      50.0"
            ]
          },
          "metadata": {},
          "output_type": "display_data"
        }
      ],
      "source": [
        "non0_BDDP = non0[[attribute, 'B']].copy()\n",
        "temp = non0_BDDP.groupby(['B',])[[attribute]].agg(f_mode).copy()\n",
        "temp\n",
        "\n"
      ]
    },
    {
      "cell_type": "code",
      "execution_count": 71,
      "metadata": {
        "collapsed": true,
        "jupyter": {
          "outputs_hidden": false,
          "source_hidden": false
        },
        "nteract": {
          "transient": {
            "deleting": false
          }
        }
      },
      "outputs": [
        {
          "data": {
            "application/vnd.livy.statement-meta+json": {
              "execution_finish_time": "2021-09-29T22:33:59.7603144Z",
              "execution_start_time": "2021-09-29T22:33:59.246617Z",
              "livy_statement_state": "available",
              "queued_time": "2021-09-29T21:48:41.0189244Z",
              "session_id": 42,
              "session_start_time": null,
              "spark_pool": "#SPARK_POOL_NAME#",
              "state": "finished",
              "statement_id": 71
            },
            "text/plain": [
              "StatementMeta(#SPARK_POOL_NAME#, 42, 71, Finished, Available)"
            ]
          },
          "metadata": {},
          "output_type": "display_data"
        },
        {
          "name": "stdout",
          "output_type": "stream",
          "text": [
            "0"
          ]
        }
      ],
      "source": [
        "for i in df2[df2[attribute] == 0].index:\n",
        "    try:\n",
        "        temp_B = df2.loc[i,'B']\n",
        "        df2.loc[i, attribute] = temp.loc[temp_B,attribute]\n",
        "    except:\n",
        "        continue\n",
        "\n",
        "print(len(df2.loc[df2[attribute] == 0]))\n"
      ]
    },
    {
      "cell_type": "markdown",
      "metadata": {
        "nteract": {
          "transient": {
            "deleting": false
          }
        }
      },
      "source": [
        "#### &emsp;&emsp;&emsp;&emsp;Verify Data Imputation \n",
        "&emsp;&emsp;&emsp;&emsp; *Verify all appropriate data fields have been filled and then output to a CSV file*"
      ]
    },
    {
      "cell_type": "code",
      "execution_count": 72,
      "metadata": {
        "collapsed": true,
        "jupyter": {
          "outputs_hidden": false,
          "source_hidden": false
        },
        "nteract": {
          "transient": {
            "deleting": false
          }
        }
      },
      "outputs": [
        {
          "data": {
            "application/vnd.livy.statement-meta+json": {
              "execution_finish_time": "2021-09-29T22:34:00.3786066Z",
              "execution_start_time": "2021-09-29T22:33:59.8549257Z",
              "livy_statement_state": "available",
              "queued_time": "2021-09-29T21:48:41.34517Z",
              "session_id": 42,
              "session_start_time": null,
              "spark_pool": "#SPARK_POOL_NAME#",
              "state": "finished",
              "statement_id": 72
            },
            "text/plain": [
              "StatementMeta(#SPARK_POOL_NAME#, 42, 72, Finished, Available)"
            ]
          },
          "metadata": {},
          "output_type": "display_data"
        },
        {
          "name": "stdout",
          "output_type": "stream",
          "text": [
            "B ;         NaN:  0 ; 0's:  0\n",
            "BLOCK ;         NaN:  0 ; 0's:  0\n",
            "BLDGCL ;         NaN:  0 ; 0's:  0\n",
            "TAXCLASS ;         NaN:  0 ; 0's:  0\n",
            "LTFRONT ;         NaN:  0 ; 0's:  0\n",
            "LTDEPTH ;         NaN:  0 ; 0's:  0\n",
            "STORIES ;         NaN:  0 ; 0's:  0\n",
            "EXLAND ;         NaN:  0 ; 0's:  349388\n",
            "EXTOT ;         NaN:  0 ; 0's:  298906\n",
            "STADDR ;         NaN:  389 ; 0's:  0\n",
            "ZIP ;         NaN:  0 ; 0's:  0\n",
            "BLDFRONT ;         NaN:  1 ; 0's:  0\n",
            "BLDDEPTH ;         NaN:  1 ; 0's:  0\n",
            "FULLVAL ;         NaN:  0 ; 0's:  0\n",
            "AVLAND ;         NaN:  0 ; 0's:  0\n",
            "AVTOT ;         NaN:  0 ; 0's:  0"
          ]
        }
      ],
      "source": [
        "# Verify all the data fields have been filled in df2, and there are no missing values\n",
        "# column headers in df2\n",
        "\n",
        "fields = df2.columns \n",
        "for item in fields:\n",
        "  print(item, ';         NaN: ', len(df2.loc[df2[item].isna()]), \"; 0's: \",len(df2.loc[df2[item]==0]))"
      ]
    },
    {
      "cell_type": "code",
      "execution_count": 73,
      "metadata": {
        "collapsed": true,
        "jupyter": {
          "outputs_hidden": false,
          "source_hidden": false
        },
        "nteract": {
          "transient": {
            "deleting": false
          }
        }
      },
      "outputs": [
        {
          "data": {
            "application/vnd.livy.statement-meta+json": {
              "execution_finish_time": "2021-09-29T22:34:01.5105358Z",
              "execution_start_time": "2021-09-29T22:34:00.4760133Z",
              "livy_statement_state": "available",
              "queued_time": "2021-09-29T21:48:41.5762025Z",
              "session_id": 42,
              "session_start_time": null,
              "spark_pool": "#SPARK_POOL_NAME#",
              "state": "finished",
              "statement_id": 73
            },
            "text/plain": [
              "StatementMeta(#SPARK_POOL_NAME#, 42, 73, Finished, Available)"
            ]
          },
          "metadata": {},
          "output_type": "display_data"
        },
        {
          "name": "stdout",
          "output_type": "stream",
          "text": [
            "B ; NaN: 0 ; 0's: 0\n",
            "BLOCK ; NaN: 0 ; 0's: 0\n",
            "BLDGCL ; NaN: 0 ; 0's: 0\n",
            "TAXCLASS ; NaN: 0 ; 0's: 0\n",
            "LTFRONT ; NaN: 0 ; 0's: 0\n",
            "LTDEPTH ; NaN: 0 ; 0's: 0\n",
            "STORIES ; NaN: 0 ; 0's: 0\n",
            "EXLAND ; NaN: 0 ; 0's: 349388\n",
            "EXTOT ; NaN: 0 ; 0's: 298906\n",
            "STADDR ; NaN: 389 ; 0's: 0\n",
            "ZIP ; NaN: 0 ; 0's: 0\n",
            "BLDFRONT ; NaN: 1 ; 0's: 0\n",
            "BLDDEPTH ; NaN: 1 ; 0's: 0\n",
            "FULLVAL ; NaN: 0 ; 0's: 0\n",
            "AVLAND ; NaN: 0 ; 0's: 0\n",
            "AVTOT ; NaN: 0 ; 0's: 0"
          ]
        }
      ],
      "source": [
        "# Copy all the fully imputed fields into the full dataset as we had dropped the columns earlier from df2 and output to a csv file\n",
        "\n",
        "\n",
        "df_full = deepcopy(data)\n",
        "\n",
        "for item in fields:\n",
        "  df_full[item] = df2[item]\n",
        "\n",
        "for item in fields:\n",
        "  print(item, '; NaN:', len(df_full.loc[df_full[item].isna()]), \"; 0's:\",len(df_full.loc[df_full[item]==0]))"
      ]
    },
    {
      "cell_type": "code",
      "execution_count": 74,
      "metadata": {
        "collapsed": true,
        "jupyter": {
          "outputs_hidden": false,
          "source_hidden": false
        },
        "nteract": {
          "transient": {
            "deleting": false
          }
        }
      },
      "outputs": [
        {
          "data": {
            "application/vnd.livy.statement-meta+json": {
              "execution_finish_time": "2021-09-29T22:34:04.3227537Z",
              "execution_start_time": "2021-09-29T22:34:01.6048502Z",
              "livy_statement_state": "available",
              "queued_time": "2021-09-29T21:48:41.7212062Z",
              "session_id": 42,
              "session_start_time": null,
              "spark_pool": "#SPARK_POOL_NAME#",
              "state": "finished",
              "statement_id": 74
            },
            "text/plain": [
              "StatementMeta(#SPARK_POOL_NAME#, 42, 74, Finished, Available)"
            ]
          },
          "metadata": {},
          "output_type": "display_data"
        },
        {
          "name": "stdout",
          "output_type": "stream",
          "text": [
            "BBLE ; NaN's = 0 ; Zero's = 0\n",
            "B ; NaN's = 0 ; Zero's = 0\n",
            "BLOCK ; NaN's = 0 ; Zero's = 0\n",
            "LOT ; NaN's = 0 ; Zero's = 0\n",
            "EASEMENT ; NaN's = 661266 ; Zero's = 0\n",
            "OWNER ; NaN's = 25262 ; Zero's = 0\n",
            "BLDGCL ; NaN's = 0 ; Zero's = 0\n",
            "TAXCLASS ; NaN's = 0 ; Zero's = 0\n",
            "LTFRONT ; NaN's = 0 ; Zero's = 0\n",
            "LTDEPTH ; NaN's = 0 ; Zero's = 0\n",
            "EXT ; NaN's = 513594 ; Zero's = 0\n",
            "STORIES ; NaN's = 0 ; Zero's = 0\n",
            "FULLVAL ; NaN's = 0 ; Zero's = 0\n",
            "AVLAND ; NaN's = 0 ; Zero's = 0\n",
            "AVTOT ; NaN's = 0 ; Zero's = 0\n",
            "EXLAND ; NaN's = 0 ; Zero's = 349388\n",
            "EXTOT ; NaN's = 0 ; Zero's = 298906\n",
            "EXCD1 ; NaN's = 298844 ; Zero's = 0\n",
            "STADDR ; NaN's = 389 ; Zero's = 0\n",
            "ZIP ; NaN's = 0 ; Zero's = 0\n",
            "EXMPTCL ; NaN's = 652989 ; Zero's = 0\n",
            "BLDFRONT ; NaN's = 1 ; Zero's = 0\n",
            "BLDDEPTH ; NaN's = 1 ; Zero's = 0\n",
            "AVLAND2 ; NaN's = 420959 ; Zero's = 0\n",
            "AVTOT2 ; NaN's = 420959 ; Zero's = 0\n",
            "EXLAND2 ; NaN's = 589379 ; Zero's = 0\n",
            "EXTOT2 ; NaN's = 548909 ; Zero's = 0\n",
            "EXCD2 ; NaN's = 615052 ; Zero's = 0\n",
            "PERIOD ; NaN's = 1 ; Zero's = 0\n",
            "YEAR ; NaN's = 1 ; Zero's = 0\n",
            "VALTYPE ; NaN's = 1 ; Zero's = 0"
          ]
        }
      ],
      "source": [
        "fields_all = data.columns\n",
        "for item in fields_all:\n",
        "  print(item, \"; NaN's =\", len(df_full.loc[df_full[item].isna()]), \"; Zero's =\",len(df_full.loc[df_full[item]==0]))"
      ]
    },
    {
      "cell_type": "markdown",
      "metadata": {
        "nteract": {
          "transient": {
            "deleting": false
          }
        }
      },
      "source": [
        "## Output the data into a CSV file and upload it to Azure Blob Storage"
      ]
    },
    {
      "cell_type": "code",
      "execution_count": 75,
      "metadata": {
        "collapsed": true,
        "jupyter": {
          "outputs_hidden": false,
          "source_hidden": false
        },
        "nteract": {
          "transient": {
            "deleting": false
          }
        }
      },
      "outputs": [
        {
          "data": {
            "application/vnd.livy.statement-meta+json": {
              "execution_finish_time": "2021-09-29T22:34:25.7729869Z",
              "execution_start_time": "2021-09-29T22:34:04.4187996Z",
              "livy_statement_state": "available",
              "queued_time": "2021-09-29T21:48:41.9765438Z",
              "session_id": 42,
              "session_start_time": null,
              "spark_pool": "#SPARK_POOL_NAME#",
              "state": "finished",
              "statement_id": 75
            },
            "text/plain": [
              "StatementMeta(#SPARK_POOL_NAME#, 42, 75, Finished, Available)"
            ]
          },
          "metadata": {},
          "output_type": "display_data"
        },
        {
          "name": "stdout",
          "output_type": "stream",
          "text": [
            "Blob already exists, no need to update"
          ]
        }
      ],
      "source": [
        "output = df_full.to_csv (index=False, header=True, encoding = \"utf-8\")\n",
        "\n",
        "CONNECTIONSTRING = 'DefaultEndpointsProtocol=https;AccountName=#STORAGE_ACCOUNT_NAME#;AccountKey=#STORAGE_ACCOUNT_KEY#;EndpointSuffix=core.windows.net'\n",
        "CONTAINER_NAME = 'fraud-detection-sample-nyrealestate'\n",
        "\n",
        "blobName = \"Fraud_Detection_NYC_Data.csv\"\n",
        "blob = BlobClient.from_connection_string(conn_str=CONNECTIONSTRING, container_name=CONTAINER_NAME, blob_name=blobName)\n",
        "try:\n",
        "    blob.upload_blob(output)\n",
        "except: \n",
        "    print(\"Blob already exists, no need to update\")"
      ]
    }
  ],
  "metadata": {
    "description": null,
    "kernelspec": {
      "display_name": "Synapse PySpark",
      "name": "synapse_pyspark"
    },
    "language_info": {
      "name": "python"
    },
    "save_output": true,
    "synapse_widget": {
      "state": {},
      "version": "0.1"
    }
  },
  "nbformat": 4,
  "nbformat_minor": 2
}
