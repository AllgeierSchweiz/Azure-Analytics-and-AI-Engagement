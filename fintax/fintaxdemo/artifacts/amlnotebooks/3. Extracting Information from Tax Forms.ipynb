{
  "cells": [
    {
      "cell_type": "markdown",
      "metadata": {
        "nteract": {
          "transient": {
            "deleting": false
          }
        }
      },
      "source": [
        "# **Information Extraction from forms - Automatic Form Recognition**\n",
        "\n",
        "#### Azure Form Recognizer\n",
        "\n",
        "Azure Form Recognizer is a cognitive service that uses machine learning technology to identify and extract key-value pairs and table data from form documents. It then outputs structured data that includes the relationships in the original file."
      ]
    },
    {
      "cell_type": "markdown",
      "metadata": {
        "nteract": {
          "transient": {
            "deleting": false
          }
        }
      },
      "source": [
        "\n",
        "## **Scenario Overview**\n",
        "\n",
        "Azure Form Recognizer is a cognitive service that uses machine learning technology to identify and extract key-value pairs and table data from form documents. It then outputs structured data that includes the relationships in the original file.\n",
        "\n",
        "Account Opening Form Dataset: Raw unstructured data is fed into the pipeline in the form of electronically generated PDFs. This data consists of forms submitted at the time of opening a corporate account with the bank."
      ]
    },
    {
      "cell_type": "markdown",
      "metadata": {
        "nteract": {
          "transient": {
            "deleting": false
          }
        }
      },
      "source": [
        "### Notebook Organization\n",
        "\n",
        "Fetch the account opening PDF files from a container under an azure storage account.\n",
        "\n",
        "Convert the PDF files to JSON by querying the azure trained form recognizer model using the REST API.\n",
        "\n",
        "Preprocess the JSON files to extract only relevant information.\n",
        "\n",
        "Push the JSON files to a container under an azure storage account."
      ]
    },
    {
      "cell_type": "markdown",
      "metadata": {
        "nteract": {
          "transient": {
            "deleting": false
          }
        }
      },
      "source": [
        "### In this notebook we are going to deploy a custom form recognizer model that has already been trained.  First we want to import our packages.\n"
      ]
    },
    {
      "cell_type": "markdown",
      "metadata": {
        "nteract": {
          "transient": {
            "deleting": false
          }
        }
      },
      "source": [
        "## Importing required libraries"
      ]
    },
    {
      "cell_type": "code",
      "execution_count": 1,
      "metadata": {},
      "outputs": [
        {
          "name": "stdout",
          "output_type": "stream",
          "text": [
            "Requirement already satisfied: azure-ai-formrecognizer in /anaconda/envs/azureml_py36/lib/python3.6/site-packages (3.1.2)\n",
            "Requirement already satisfied: six>=1.11.0 in /anaconda/envs/azureml_py36/lib/python3.6/site-packages (from azure-ai-formrecognizer) (1.16.0)\n",
            "Requirement already satisfied: msrest>=0.6.21 in /anaconda/envs/azureml_py36/lib/python3.6/site-packages (from azure-ai-formrecognizer) (0.6.21)\n",
            "Requirement already satisfied: azure-core<2.0.0,>=1.13.0 in /anaconda/envs/azureml_py36/lib/python3.6/site-packages (from azure-ai-formrecognizer) (1.19.1)\n",
            "Requirement already satisfied: azure-common~=1.1 in /anaconda/envs/azureml_py36/lib/python3.6/site-packages (from azure-ai-formrecognizer) (1.1.27)\n",
            "Requirement already satisfied: isodate>=0.6.0 in /anaconda/envs/azureml_py36/lib/python3.6/site-packages (from msrest>=0.6.21->azure-ai-formrecognizer) (0.6.0)\n",
            "Requirement already satisfied: requests~=2.16 in /anaconda/envs/azureml_py36/lib/python3.6/site-packages (from msrest>=0.6.21->azure-ai-formrecognizer) (2.26.0)\n",
            "Requirement already satisfied: requests-oauthlib>=0.5.0 in /anaconda/envs/azureml_py36/lib/python3.6/site-packages (from msrest>=0.6.21->azure-ai-formrecognizer) (1.3.0)\n",
            "Requirement already satisfied: certifi>=2017.4.17 in /anaconda/envs/azureml_py36/lib/python3.6/site-packages (from msrest>=0.6.21->azure-ai-formrecognizer) (2021.10.8)\n",
            "Requirement already satisfied: charset-normalizer~=2.0.0; python_version >= \"3\" in /anaconda/envs/azureml_py36/lib/python3.6/site-packages (from requests~=2.16->msrest>=0.6.21->azure-ai-formrecognizer) (2.0.7)\n",
            "Requirement already satisfied: urllib3<1.27,>=1.21.1 in /anaconda/envs/azureml_py36/lib/python3.6/site-packages (from requests~=2.16->msrest>=0.6.21->azure-ai-formrecognizer) (1.25.11)\n",
            "Requirement already satisfied: idna<4,>=2.5; python_version >= \"3\" in /anaconda/envs/azureml_py36/lib/python3.6/site-packages (from requests~=2.16->msrest>=0.6.21->azure-ai-formrecognizer) (3.3)\n",
            "Requirement already satisfied: oauthlib>=3.0.0 in /anaconda/envs/azureml_py36/lib/python3.6/site-packages (from requests-oauthlib>=0.5.0->msrest>=0.6.21->azure-ai-formrecognizer) (3.1.1)\n"
          ]
        }
      ],
      "source": [
        "!pip install azure-ai-formrecognizer"
      ]
    },
    {
      "cell_type": "code",
      "execution_count": 2,
      "metadata": {
        "gather": {
          "logged": 1633994164544
        }
      },
      "outputs": [],
      "source": [
        "# import packages \n",
        "from azure.ai.formrecognizer import FormRecognizerClient\n",
        "from azure.core.credentials import AzureKeyCredential\n",
        "import os\n",
        "import pandas as pd\n",
        "import json\n",
        "from azure.storage.blob import ContainerClient"
      ]
    },
    {
      "cell_type": "markdown",
      "metadata": {
        "nteract": {
          "transient": {
            "deleting": false
          }
        }
      },
      "source": [
        "#### Next, we want to import os and get the filepath to the current working directory."
      ]
    },
    {
      "cell_type": "code",
      "execution_count": 3,
      "metadata": {
        "gather": {
          "logged": 1633994164932
        },
        "jupyter": {
          "outputs_hidden": false,
          "source_hidden": false
        },
        "nteract": {
          "transient": {
            "deleting": false
          }
        }
      },
      "outputs": [
        {
          "name": "stdout",
          "output_type": "stream",
          "text": [
            "pip 20.1.1 from /anaconda/envs/azureml_py36/lib/python3.6/site-packages/pip (python 3.6)\n",
            "Note: you may need to restart the kernel to use updated packages.\n"
          ]
        }
      ],
      "source": [
        "pip --version"
      ]
    },
    {
      "cell_type": "code",
      "execution_count": 4,
      "metadata": {
        "gather": {
          "logged": 1633994358583
        },
        "jupyter": {
          "outputs_hidden": false,
          "source_hidden": false
        },
        "nteract": {
          "transient": {
            "deleting": false
          }
        }
      },
      "outputs": [
        {
          "name": "stdout",
          "output_type": "stream",
          "text": [
            "zope.interface 5.4.0\n",
            "zope.event 4.5.0\n",
            "zipp 3.6.0\n",
            "zict 2.0.0\n",
            "yellowbrick 1.3.post1\n",
            "yarl 1.7.2\n",
            "yapf 0.31.0\n",
            "xxhash 2.0.2\n",
            "xmltodict 0.12.0\n",
            "xgboost 0.90\n",
            "wrapt 1.12.1\n",
            "wordcloud 1.8.1\n",
            "widgetsnbextension 3.5.2\n",
            "wheel 0.35.1\n",
            "Werkzeug 2.0.2\n",
            "websockets 9.1\n",
            "websocket-client 1.2.1\n",
            "webencodings 0.5.1\n",
            "wcwidth 0.2.5\n",
            "wasabi 0.8.2\n",
            "waitress 2.0.0\n",
            "vsts 0.1.25\n",
            "vsts-cd-manager 1.0.2\n",
            "visions 0.7.4\n",
            "uuid 1.30\n",
            "urllib3 1.25.11\n",
            "umap-learn 0.5.2\n",
            "ujson 4.2.0\n",
            "typing-extensions 3.10.0.2\n",
            "typed-ast 1.5.0\n",
            "transformers 4.5.1\n",
            "traitlets 4.3.3\n",
            "tqdm 4.62.3\n",
            "tornado 6.1\n",
            "torchvision 0.9.1\n",
            "torch 1.10.0\n",
            "torch-tb-profiler 0.3.1\n",
            "toolz 0.11.1\n",
            "toml 0.10.2\n",
            "tokenizers 0.10.3\n",
            "tifffile 2020.9.3\n",
            "threadpoolctl 2.1.0\n",
            "thinc 7.0.8\n",
            "textwrap3 0.9.2\n",
            "textblob 0.17.1\n",
            "testpath 0.5.0\n",
            "terminado 0.12.1\n",
            "termcolor 1.1.0\n",
            "tensorflow 2.1.0\n",
            "tensorflow-gpu 2.1.0\n",
            "tensorflow-estimator 2.1.0\n",
            "tensorboardX 2.4\n",
            "tensorboard 2.1.1\n",
            "tensorboard-plugin-wit 1.8.0\n",
            "tensorboard-data-server 0.6.1\n",
            "tenacity 8.0.1\n",
            "tblib 1.7.0\n",
            "tangled-up-in-unicode 0.1.0\n",
            "tabulate 0.8.9\n",
            "sympy 1.9\n",
            "statsmodels 0.10.2\n",
            "sshtunnel 0.1.5\n",
            "srsly 1.0.5\n",
            "sqlparse 0.4.2\n",
            "SQLAlchemy 1.4.27\n",
            "sparse 0.13.0\n",
            "spacy 2.1.8\n",
            "soupsieve 2.3.1\n",
            "sortedcontainers 2.4.0\n",
            "snowballstemmer 2.2.0\n",
            "sniffio 1.2.0\n",
            "smmap 5.0.0\n",
            "smart-open 1.9.0\n",
            "slicer 0.0.7\n",
            "sklearn 0.0\n",
            "sklearn-pandas 1.7.0\n",
            "skl2onnx 1.4.9\n",
            "six 1.16.0\n",
            "sip 4.19.24\n",
            "simpervisor 0.4\n",
            "shap 0.39.0\n",
            "setuptools 50.3.0\n",
            "setuptools-git 1.2\n",
            "seqeval 1.2.2\n",
            "sentencepiece 0.1.96\n",
            "Send2Trash 1.8.0\n",
            "semver 2.13.0\n",
            "SecretStorage 3.3.1\n",
            "seaborn 0.11.2\n",
            "scrapbook 0.5.0\n",
            "scp 0.13.6\n",
            "scipy 1.5.2\n",
            "scikit-plot 0.3.7\n",
            "scikit-learn 0.22.2.post1\n",
            "scikit-image 0.17.2\n",
            "sacremoses 0.0.46\n",
            "s3transfer 0.3.7\n",
            "rsa 4.7.2\n",
            "rope 0.21.1\n",
            "responsibleai 0.13.0\n",
            "requests 2.26.0\n",
            "requests-oauthlib 1.3.0\n",
            "regex 2021.11.2\n",
            "redis 4.0.1\n",
            "ray 1.8.0\n",
            "raiwidgets 0.13.0\n",
            "rai-core-flask 0.2.4\n",
            "querystring-parser 1.2.4\n",
            "QuantLib 1.24\n",
            "QtPy 1.11.2\n",
            "qtconsole 5.2.0\n",
            "pyzmq 22.3.0\n",
            "PyYAML 6.0\n",
            "PyWavelets 1.1.1\n",
            "pytz 2021.3\n",
            "pytorch-transformers 1.0.0\n",
            "python-language-server 0.35.0\n",
            "python-jsonrpc-server 0.4.0\n",
            "python-editor 1.0.4\n",
            "python-dateutil 2.8.2\n",
            "pystan 2.19.0.0\n",
            "pyspark 3.2.0\n",
            "pyrsistent 0.18.0\n",
            "pyparsing 2.4.7\n",
            "pyOpenSSL 20.0.1\n",
            "pyodbc 4.0.0-unsupported\n",
            "pyod 0.9.5\n",
            "pynvml 11.0.0\n",
            "pynndescent 0.5.5\n",
            "PyNaCl 1.4.0\n",
            "PyMeeus 0.5.10\n",
            "pylint 2.11.1\n",
            "pyLDAvis 3.3.1\n",
            "PyJWT 2.3.0\n",
            "Pygments 2.10.0\n",
            "PyGithub 1.38\n",
            "pyflakes 2.2.0\n",
            "pydot 1.4.2\n",
            "pydocstyle 6.1.1\n",
            "pydantic 1.8.2\n",
            "pycparser 2.20\n",
            "pycodestyle 2.6.0\n",
            "pycocotools 2.0.0\n",
            "pycaret 2.3.5\n",
            "pyasn1 0.4.8\n",
            "pyasn1-modules 0.2.8\n",
            "pyarrow 3.0.0\n",
            "py4j 0.10.9.2\n",
            "py-spy 0.3.11\n",
            "ptyprocess 0.7.0\n",
            "psycopg2 2.8.6\n",
            "psutil 5.8.0\n",
            "protobuf 3.19.1\n",
            "property-cached 1.6.4\n",
            "prompt-toolkit 3.0.22\n",
            "prometheus-flask-exporter 0.18.5\n",
            "prometheus-client 0.12.0\n",
            "preshed 2.0.1\n",
            "portalocker 1.7.1\n",
            "pmdarima 1.1.1\n",
            "pluggy 1.0.0\n",
            "plotly 5.4.0\n",
            "platformdirs 2.4.0\n",
            "plac 0.9.6\n",
            "pkginfo 1.8.1\n",
            "pip 20.1.1\n",
            "Pillow 8.0.0\n",
            "pickleshare 0.7.5\n",
            "phik 0.12.0\n",
            "pexpect 4.8.0\n",
            "patsy 0.5.2\n",
            "pathspec 0.9.0\n",
            "pathlib2 2.3.6\n",
            "partd 1.2.0\n",
            "parso 0.8.2\n",
            "paramiko 2.8.0\n",
            "papermill 1.2.1\n",
            "pandocfilters 1.5.0\n",
            "pandas 0.25.3\n",
            "pandas-profiling 3.1.0\n",
            "pandas-ml 0.6.1\n",
            "packaging 21.2\n",
            "opt-einsum 3.3.0\n",
            "opencv-python-headless 4.5.4.58\n",
            "opencensus 0.8.0\n",
            "opencensus-context 0.1.2\n",
            "onnxruntime 1.8.0\n",
            "onnxmltools 1.4.1\n",
            "onnxconverter-common 1.6.0\n",
            "onnx 1.7.0\n",
            "olefile 0.46\n",
            "oauthlib 3.1.1\n",
            "nvidia-ml-py3 7.352.0\n",
            "numpy 1.18.5\n",
            "numexpr 2.7.3\n",
            "numba 0.53.1\n",
            "notebook 6.4.5\n",
            "nltk 3.6.5\n",
            "nimbusml 1.8.0\n",
            "networkx 2.5\n",
            "ndg-httpsclient 0.5.1\n",
            "nbresuse 0.4.0\n",
            "nbformat 5.1.3\n",
            "nbconvert 5.6.1\n",
            "murmurhash 1.0.6\n",
            "multiprocess 0.70.12.2\n",
            "multimethod 1.5\n",
            "multidict 5.2.0\n",
            "msrestazure 0.6.4\n",
            "msrest 0.6.21\n",
            "msgpack 1.0.2\n",
            "msal 1.16.0\n",
            "msal-extensions 0.3.0\n",
            "mpmath 1.2.1\n",
            "mock 4.0.3\n",
            "mlxtend 0.19.0\n",
            "mlflow 1.21.0\n",
            "mlflow-skinny 1.21.0\n",
            "mkl-service 2.3.0\n",
            "mkl-random 1.1.0\n",
            "mkl-fft 1.2.0\n",
            "mistune 0.8.4\n",
            "missingno 0.5.0\n",
            "mccabe 0.6.1\n",
            "matplotlib 3.2.1\n",
            "MarkupSafe 2.0.1\n",
            "Markdown 3.3.6\n",
            "markdown-it-py 0.5.8\n",
            "Mako 1.1.6\n",
            "lz4 3.1.3\n",
            "lunardate 0.2.0\n",
            "locket 0.2.1\n",
            "llvmlite 0.36.0\n",
            "lightgbm 2.3.0\n",
            "liac-arff 2.5.0\n",
            "lazy-object-proxy 1.6.0\n",
            "kt-legacy 1.0.4\n",
            "knack 0.8.2\n",
            "kmodes 0.11.1\n",
            "kiwisolver 1.3.1\n",
            "keras2onnx 1.6.0\n",
            "Keras 2.3.1\n",
            "keras-tuner 1.0.4\n",
            "Keras-Preprocessing 1.1.2\n",
            "keras-nightly 2.5.0.dev2021032900\n",
            "Keras-Applications 1.0.8\n",
            "jupytext 1.6.0\n",
            "jupyterlab 2.1.4\n",
            "jupyterlab-widgets 1.0.2\n",
            "jupyterlab-server 1.2.0\n",
            "jupyterlab-nvdashboard 0.5.0\n",
            "jupyter 1.0.0\n",
            "jupyter-server 1.11.2\n",
            "jupyter-server-proxy 3.1.0\n",
            "jupyter-core 4.9.1\n",
            "jupyter-console 6.4.0\n",
            "jupyter-client 6.1.12\n",
            "jsonschema 3.2.0\n",
            "jsonpickle 2.0.0\n",
            "jsondiff 1.2.0\n",
            "json5 0.9.6\n",
            "json-logging-py 0.2\n",
            "jsmin 2.2.2\n",
            "joblib 0.14.1\n",
            "jmespath 0.10.0\n",
            "Jinja2 2.11.2\n",
            "jeepney 0.7.1\n",
            "jedi 0.17.2\n",
            "javaproperties 0.5.1\n",
            "itsdangerous 2.0.1\n",
            "isort 5.10.1\n",
            "isodate 0.6.0\n",
            "ipywidgets 7.6.5\n",
            "ipython 7.16.1\n",
            "ipython-genutils 0.2.0\n",
            "ipykernel 5.5.6\n",
            "invoke 1.6.0\n",
            "interpret-core 0.2.6\n",
            "interpret-community 0.21.0\n",
            "inference-schema 1.3.0\n",
            "importlib-metadata 4.8.1\n",
            "immutables 0.16\n",
            "imbalanced-learn 0.7.0\n",
            "imageio 2.11.0\n",
            "ImageHash 4.2.1\n",
            "idna 3.3\n",
            "idna-ssl 1.1.0\n",
            "humanfriendly 9.2\n",
            "huggingface-hub 0.0.19\n",
            "htmlmin 0.1.12\n",
            "horovod 0.19.1\n",
            "holidays 0.9.11\n",
            "hiredis 2.0.0\n",
            "HeapDict 1.0.1\n",
            "h5py 3.1.0\n",
            "gym 0.21.0\n",
            "gunicorn 20.1.0\n",
            "grpcio 1.41.1\n",
            "greenlet 1.1.2\n",
            "graphviz 0.14.2\n",
            "gpustat 1.0.0b1\n",
            "googleapis-common-protos 1.53.0\n",
            "google-pasta 0.2.0\n",
            "google-auth 1.35.0\n",
            "google-auth-oauthlib 0.4.6\n",
            "google-api-core 2.2.2\n",
            "GitPython 3.1.18\n",
            "gitdb 4.0.9\n",
            "gevent 1.3.6\n",
            "gensim 3.8.3\n",
            "gast 0.2.2\n",
            "future 0.18.2\n",
            "fusepy 3.0.1\n",
            "funcy 1.16\n",
            "fsspec 2021.10.1\n",
            "frozenlist 1.2.0\n",
            "flatbuffers 2.0\n",
            "Flask 1.0.3\n",
            "Flask-Cors 3.0.10\n",
            "flake8 4.0.1\n",
            "fire 0.4.0\n",
            "filelock 3.3.2\n",
            "fbprophet 0.5\n",
            "fastprogress 1.0.0\n",
            "fastai 1.0.61\n",
            "fairlearn 0.7.0\n",
            "fabric 2.6.0\n",
            "erroranalysis 0.1.26\n",
            "entrypoints 0.3\n",
            "encrypted-inference 0.9\n",
            "en-core-web-sm 2.1.0\n",
            "econml 0.12.0\n",
            "dowhy 0.6\n",
            "dotnetcore2 2.1.21\n",
            "docker 5.0.3\n",
            "dm-tree 0.1.6\n",
            "distro 1.6.0\n",
            "distributed 2.30.1\n",
            "dill 0.3.4\n",
            "dice-ml 0.7.2\n",
            "Deprecated 1.2.13\n",
            "defusedxml 0.7.1\n",
            "decorator 5.1.0\n",
            "datasets 1.8.0\n",
            "dataclasses 0.6\n",
            "databricks-cli 0.16.2\n",
            "dask 2.30.0\n",
            "Cython 0.29.24\n",
            "cymem 2.0.6\n",
            "cycler 0.11.0\n",
            "cufflinks 0.17.3\n",
            "cryptography 3.4.8\n",
            "coremltools 2.1.0\n",
            "convertdate 2.3.2\n",
            "contextvars 2.4\n",
            "contextlib2 21.6.0\n",
            "configparser 3.7.4\n",
            "colorlover 0.3.0\n",
            "colorful 0.5.4\n",
            "colorama 0.4.4\n",
            "cloudpickle 1.6.0\n",
            "click 8.0.3\n",
            "charset-normalizer 2.0.7\n",
            "cffi 1.15.0\n",
            "certifi 2021.10.8\n",
            "cachetools 4.2.4\n",
            "cached-property 1.5.2\n",
            "Bottleneck 1.3.2\n",
            "botocore 1.18.18\n",
            "boto3 1.15.18\n",
            "boto 2.49.0\n",
            "Boruta 0.3\n",
            "bokeh 2.3.3\n",
            "blis 0.2.4\n",
            "blessed 1.19.0\n",
            "bleach 4.1.0\n",
            "beautifulsoup4 4.10.0\n",
            "bcrypt 3.2.0\n",
            "backports.weakref 1.0.post1\n",
            "backports.tempfile 1.0\n",
            "backports.functools-lru-cache 1.6.4\n",
            "backcall 0.2.0\n",
            "azureml-widgets 1.36.0\n",
            "azureml-train 1.36.0\n",
            "azureml-train-restclients-hyperdrive 1.36.0\n",
            "azureml-train-core 1.36.0\n",
            "azureml-train-automl 1.36.0\n",
            "azureml-train-automl-runtime 1.36.0\n",
            "azureml-train-automl-client 1.36.0\n",
            "azureml-tensorboard 1.36.0\n",
            "azureml-telemetry 1.36.0\n",
            "azureml-sdk 1.36.0\n",
            "azureml-samples 0+unknown\n",
            "azureml-responsibleai 1.36.0\n",
            "azureml-pipeline 1.36.0\n",
            "azureml-pipeline-steps 1.36.0\n",
            "azureml-pipeline-core 1.36.0\n",
            "azureml-opendatasets 1.36.0\n",
            "azureml-mlflow 1.36.0\n",
            "azureml-interpret 1.36.0\n",
            "azureml-inference-server-http 0.4.1\n",
            "azureml-explain-model 1.36.0\n",
            "azureml-defaults 1.36.0\n",
            "azureml-dataset-runtime 1.36.0\n",
            "azureml-dataprep 2.24.4\n",
            "azureml-dataprep-rslex 2.0.3\n",
            "azureml-dataprep-native 38.0.0\n",
            "azureml-datadrift 1.36.0\n",
            "azureml-core 1.36.0.post2\n",
            "azureml-contrib-services 1.36.0\n",
            "azureml-contrib-server 1.36.0\n",
            "azureml-contrib-reinforcementlearning 1.36.0\n",
            "azureml-contrib-pipeline-steps 1.36.0\n",
            "azureml-contrib-notebook 1.36.0\n",
            "azureml-contrib-fairness 1.36.0\n",
            "azureml-contrib-dataset 1.36.0\n",
            "azureml-contrib-automl-pipeline-steps 1.36.0\n",
            "azureml-cli-common 1.36.0\n",
            "azureml-automl-runtime 1.36.0\n",
            "azureml-automl-dnn-nlp 1.36.0\n",
            "azureml-automl-core 1.36.0\n",
            "azureml-accel-models 1.36.0\n",
            "azure-synapse-spark 0.2.0\n",
            "azure-synapse-artifacts 0.6.0\n",
            "azure-synapse-accesscontrol 0.5.0\n",
            "azure-storage-queue 12.1.6\n",
            "azure-storage-common 1.4.2\n",
            "azure-storage-blob 12.9.0\n",
            "azure-nspkg 3.0.2\n",
            "azure-multiapi-storage 0.6.2\n",
            "azure-mgmt-web 2.0.0\n",
            "azure-mgmt-trafficmanager 0.51.0\n",
            "azure-mgmt-synapse 0.6.0\n",
            "azure-mgmt-storage 11.2.0\n",
            "azure-mgmt-sqlvirtualmachine 0.5.0\n",
            "azure-mgmt-sql 0.26.0\n",
            "azure-mgmt-signalr 0.4.0\n",
            "azure-mgmt-servicefabricmanagedclusters 1.0.0\n",
            "azure-mgmt-servicefabric 0.5.0\n",
            "azure-mgmt-servicebus 6.0.0\n",
            "azure-mgmt-security 0.6.0\n",
            "azure-mgmt-search 8.0.0\n",
            "azure-mgmt-resource 13.0.0\n",
            "azure-mgmt-reservations 0.6.0\n",
            "azure-mgmt-relay 0.1.0\n",
            "azure-mgmt-redis 7.0.0\n",
            "azure-mgmt-redhatopenshift 0.1.0\n",
            "azure-mgmt-recoveryservicesbackup 0.11.0\n",
            "azure-mgmt-recoveryservices 0.4.0\n",
            "azure-mgmt-rdbms 8.1.0\n",
            "azure-mgmt-privatedns 1.0.0\n",
            "azure-mgmt-policyinsights 0.5.0\n",
            "azure-mgmt-nspkg 3.0.2\n",
            "azure-mgmt-network 19.3.0\n",
            "azure-mgmt-netapp 2.0.0\n",
            "azure-mgmt-msi 0.2.0\n",
            "azure-mgmt-monitor 2.0.0\n",
            "azure-mgmt-media 3.1.0\n",
            "azure-mgmt-marketplaceordering 1.1.0\n",
            "azure-mgmt-maps 0.1.0\n",
            "azure-mgmt-managementgroups 0.2.0\n",
            "azure-mgmt-managedservices 1.0.0\n",
            "azure-mgmt-loganalytics 8.0.0\n",
            "azure-mgmt-kusto 0.3.0\n",
            "azure-mgmt-keyvault 9.2.0\n",
            "azure-mgmt-iothubprovisioningservices 0.2.0\n",
            "azure-mgmt-iothub 2.0.0\n",
            "azure-mgmt-iotcentral 4.1.0\n",
            "azure-mgmt-imagebuilder 0.4.0\n",
            "azure-mgmt-hdinsight 2.2.0\n",
            "azure-mgmt-eventhub 4.1.0\n",
            "azure-mgmt-eventgrid 3.0.0rc9\n",
            "azure-mgmt-dns 8.0.0\n",
            "azure-mgmt-devtestlabs 4.0.0\n",
            "azure-mgmt-deploymentmanager 0.2.0\n",
            "azure-mgmt-datamigration 4.1.0\n",
            "azure-mgmt-datalake-store 0.5.0\n",
            "azure-mgmt-datalake-nspkg 3.0.1\n",
            "azure-mgmt-datalake-analytics 0.2.1\n",
            "azure-mgmt-databoxedge 0.2.0\n",
            "azure-mgmt-cosmosdb 6.3.0\n",
            "azure-mgmt-core 1.3.0\n",
            "azure-mgmt-containerservice 11.2.0\n",
            "azure-mgmt-containerregistry 8.2.0\n",
            "azure-mgmt-containerinstance 1.5.0\n",
            "azure-mgmt-consumption 2.0.0\n",
            "azure-mgmt-compute 20.0.0\n",
            "azure-mgmt-cognitiveservices 6.3.0\n",
            "azure-mgmt-cdn 11.0.0\n",
            "azure-mgmt-botservice 0.3.0\n",
            "azure-mgmt-billing 1.0.0\n",
            "azure-mgmt-batchai 2.0.0\n",
            "azure-mgmt-batch 9.0.0\n",
            "azure-mgmt-authorization 0.61.0\n",
            "azure-mgmt-applicationinsights 0.1.1\n",
            "azure-mgmt-appconfiguration 1.0.1\n",
            "azure-mgmt-apimanagement 0.2.0\n",
            "azure-mgmt-advisor 2.0.1\n",
            "azure-loganalytics 0.1.1\n",
            "azure-keyvault 1.1.0\n",
            "azure-keyvault-administration 4.0.0b3\n",
            "azure-identity 1.7.0\n",
            "azure-graphrbac 0.61.1\n",
            "azure-functions-devops-build 0.0.22\n",
            "azure-datalake-store 0.0.52\n",
            "azure-cosmos 3.2.0\n",
            "azure-core 1.19.1\n",
            "azure-common 1.1.27\n",
            "azure-cli 2.24.0\n",
            "azure-cli-telemetry 1.0.6\n",
            "azure-cli-core 2.24.0\n",
            "azure-batch 10.0.0\n",
            "azure-appconfiguration 1.1.1\n",
            "azure-ai-formrecognizer 3.1.2\n"
          ]
        },
        {
          "name": "stdout",
          "output_type": "stream",
          "text": [
            "autopep8 1.6.0\n",
            "autokeras 1.0.16.post1\n",
            "attrs 21.2.0\n",
            "asynctest 0.13.0\n",
            "async-timeout 4.0.1\n",
            "astunparse 1.6.3\n",
            "astroid 2.8.5\n",
            "astor 0.8.1\n",
            "argon2-cffi 21.1.0\n",
            "argcomplete 1.12.3\n",
            "arch 4.14\n",
            "applicationinsights 0.11.10\n",
            "anyio 3.3.4\n",
            "antlr4-python3-runtime 4.7.2\n",
            "ansiwrap 0.8.4\n",
            "alembic 1.4.1\n",
            "aiosignal 1.2.0\n",
            "aioredis 1.3.1\n",
            "aiohttp 3.8.1\n",
            "aiohttp-cors 0.7.0\n",
            "adal 1.2.7\n",
            "absl-py 0.15.0\n"
          ]
        }
      ],
      "source": [
        "import pkg_resources\n",
        "for d in pkg_resources.working_set:\n",
        "     print(d)"
      ]
    },
    {
      "cell_type": "code",
      "execution_count": 5,
      "metadata": {
        "gather": {
          "logged": 1633994165106
        }
      },
      "outputs": [
        {
          "data": {
            "text/plain": [
              "'/mnt/batch/tasks/shared/LS_root/mounts/clusters/asma1/code/Users/asma'"
            ]
          },
          "execution_count": 5,
          "metadata": {},
          "output_type": "execute_result"
        }
      ],
      "source": [
        "import os\n",
        "os.getcwd()"
      ]
    },
    {
      "cell_type": "markdown",
      "metadata": {
        "nteract": {
          "transient": {
            "deleting": false
          }
        }
      },
      "source": [
        "#### This code will create filepath variables to local directories for input forms to be recognized and the output values in the form of json files. If the folders do not exist, this code will create the folders first."
      ]
    },
    {
      "cell_type": "markdown",
      "metadata": {
        "nteract": {
          "transient": {
            "deleting": false
          }
        }
      },
      "source": [
        "## Creating local directories"
      ]
    },
    {
      "cell_type": "code",
      "execution_count": 6,
      "metadata": {
        "gather": {
          "logged": 1633994165290
        }
      },
      "outputs": [
        {
          "name": "stdout",
          "output_type": "stream",
          "text": [
            "/mnt/batch/tasks/shared/LS_root/mounts/clusters/asma1/code/Users/asma/input_forms\n"
          ]
        }
      ],
      "source": [
        "# Create local directories if they don't exist\n",
        "\n",
        "# *input_forms* contains all the pdf files\n",
        "input_path = os.getcwd()+\"/input_forms\"\n",
        "output_path = os.getcwd()+\"/output_json\"\n",
        "\n",
        "if (not os.path.isdir(input_path)):\n",
        "    os.makedirs(input_path)\n",
        "\n",
        "# *output_json* will contain all the converted json files\n",
        "if (not os.path.isdir(output_path)):\n",
        "    os.makedirs(output_path)\n",
        "\n",
        "print(input_path)"
      ]
    },
    {
      "cell_type": "markdown",
      "metadata": {
        "nteract": {
          "transient": {
            "deleting": false
          }
        }
      },
      "source": [
        "#### Here we are importing global variables for our enpoints, keys, credentitals and ids. These are all kept on a seperate file because they are to be kept secret. We are also creating the form recognizer client variable."
      ]
    },
    {
      "cell_type": "markdown",
      "metadata": {
        "nteract": {
          "transient": {
            "deleting": false
          }
        }
      },
      "source": [
        "## Establishing an Azure Blob Storage Connection"
      ]
    },
    {
      "cell_type": "code",
      "execution_count": 7,
      "metadata": {
        "gather": {
          "logged": 1633994165526
        }
      },
      "outputs": [],
      "source": [
        "import GlobalVariables\n",
        "CONTAINER_NAME = GlobalVariables.INPUT_CONTAINER\n",
        "CONNECTION_STRING = GlobalVariables.CONNECTION_STRING_third\n",
        "endpoint = GlobalVariables.endpoint\n",
        "credential = AzureKeyCredential(GlobalVariables.credential)\n",
        "model_id = GlobalVariables.model_id\n",
        "form_recognizer_client = FormRecognizerClient(endpoint, credential)"
      ]
    },
    {
      "cell_type": "markdown",
      "metadata": {
        "nteract": {
          "transient": {
            "deleting": false
          }
        }
      },
      "source": [
        "#### This block of code uses the global variables to connect to blob storage.  We will transfer the local output files to blob storage after they are all done processing."
      ]
    },
    {
      "cell_type": "code",
      "execution_count": 8,
      "metadata": {
        "gather": {
          "logged": 1633994165691
        }
      },
      "outputs": [],
      "source": [
        "# creating blob service object and list blobs inside input_folder\n",
        "\n",
        "container_client = ContainerClient.from_connection_string(conn_str=CONNECTION_STRING, container_name=CONTAINER_NAME)\n",
        "blobs_list = container_client.list_blobs()\n",
        "\n",
        "# initializing several lists that will be used in the following cells\n",
        "blob_client_list=[]\n",
        "blob_file_list = []\n",
        "\n",
        "# getting the blob clients and appending them to a list\n",
        "for c in blobs_list:\n",
        "    blob_client = container_client.get_blob_client(c)\n",
        "    blob_file_list.append(c.name)\n",
        "    blob_client_list.append(blob_client)\n",
        "\n",
        "for filename, blob_client in zip(blob_file_list, blob_client_list):\n",
        "    fname = os.path.join(input_path,filename)\n",
        "    with open(fname, \"wb\") as blob_file:\n",
        "        download_stream = blob_client.download_blob()\n",
        "        download_stream.readinto(blob_file)\n",
        "\n"
      ]
    },
    {
      "cell_type": "markdown",
      "metadata": {
        "nteract": {
          "transient": {
            "deleting": false
          }
        }
      },
      "source": [
        "#### This code is where the form gets sent through the form recognizer and returns the output values.  That output is then transformed into a dataframe and ultimately a json file.  The json file will make it easier for front-end developers to display in a web browser."
      ]
    },
    {
      "cell_type": "markdown",
      "metadata": {
        "nteract": {
          "transient": {
            "deleting": false
          }
        }
      },
      "source": [
        "## Running Form Recognizer Service on the Forms"
      ]
    },
    {
      "cell_type": "code",
      "execution_count": 9,
      "metadata": {
        "gather": {
          "logged": 1633994165774
        },
        "jupyter": {
          "outputs_hidden": false,
          "source_hidden": false
        },
        "nteract": {
          "transient": {
            "deleting": false
          }
        }
      },
      "outputs": [],
      "source": [
        "# iterate through folder and run each file through the form recognizer and saves data to lists. Also check for ignore files.\n",
        "\n",
        "files = os.listdir(input_path)\n",
        "for filename in files:\n",
        "    values = []\n",
        "    data = []\n",
        "    if filename.endswith(\".json\"):\n",
        "        os.remove(os.path.join(input_path, filename))\n",
        "        break\n",
        "    if filename == '.amlignore' or filename == '.amlignore.amltmp':\n",
        "        continue\n",
        "    print(filename)\n",
        "    with open(os.path.join(input_path, filename), \"rb\") as fd:\n",
        "        form = fd.read()\n",
        "        poller = form_recognizer_client.begin_recognize_custom_forms(model_id=model_id, form=form, include_field_elements=True, content_type=\"application/pdf\")\n",
        "        result = poller.result()\n",
        "    for recognized_form in result:\n",
        "        for name, field in recognized_form.fields.items():\n",
        "            value = field.value\n",
        "            confidence = field.confidence\n",
        "            bounding_box = []\n",
        "            bbox = field.value_data\n",
        "            try:\n",
        "                # bounding box data is stored as (x,y) for all 4 corners . The bounding box corner coordinates are available to developers for the purpose of creating boxes around the recognized values. Coordinates are in inches because files is pdf.\n",
        "                bounding_box = bbox.__dict__\n",
        "                point_coord = bounding_box.get('bounding_box')\n",
        "                bottom_left_x = point_coord[0][0]\n",
        "                bottom_left_y = point_coord[0][1]\n",
        "                bottom_right_x = point_coord[1][0]\n",
        "                bottom_right_y = point_coord[1][1]\n",
        "                top_right_x = point_coord[2][0]\n",
        "                top_right_y = point_coord[2][1]\n",
        "                top_left_x = point_coord[3][0]\n",
        "                top_left_y = point_coord[3][1]\n",
        "            except:\n",
        "                bottom_left_x, bottom_left_y, bottom_right_x, bottom_right_y, top_right_x, top_right_y, top_left_x, top_left_y = \"NA\", \"NA\", \"NA\", \"NA\", \"NA\", \"NA\", \"NA\", \"NA\"\n",
        "            data = []\n",
        "            data = [name,value,confidence,bottom_left_x,bottom_left_y,bottom_right_x,bottom_right_y,top_right_x,top_right_y,top_left_x,top_left_y]\n",
        "            values.append(data)\n",
        "            \n",
        "    # convert values list to pandas dataframe\n",
        "    df = pd.DataFrame(values[1:],columns=['Name','Value','Confidence','Bottom Left X','Bottom Left Y','Bottom Right X','Bottom Right Y','Top Right X','Top Right Y','Top Left X','Top Left Y'])\n",
        "   \n",
        "    # covert dataframe to json and save json in local output folder then close file\n",
        "    filename = os.path.splitext(filename)[0] +'.json'\n",
        "    result = df.to_json(os.path.join(output_path, filename),orient=\"split\")\n",
        "    fd.close()\n",
        "    # os.remove(os.path.join(input_path, filename))\n",
        "    del df"
      ]
    },
    {
      "cell_type": "markdown",
      "metadata": {
        "nteract": {
          "transient": {
            "deleting": false
          }
        }
      },
      "source": [
        "## Create connection parameters for uploading json files to blob storage and then uploading all the json files in the folder."
      ]
    },
    {
      "cell_type": "code",
      "execution_count": 10,
      "metadata": {
        "gather": {
          "logged": 1633994165927
        }
      },
      "outputs": [],
      "source": [
        "# Connection paramters for uploading JSON files to blob storage\n",
        "container_client_upload = ContainerClient.from_connection_string(conn_str=CONNECTION_STRING, container_name=CONTAINER_NAME)\n",
        "\n",
        "# Upload JSON files from local folder *output_json* to the container *formrecogoutput*\n",
        "for pth, dirs, files in os.walk(output_path):\n",
        "    for filename in files:\n",
        "        if filename == '.amlignore' or filename == '.amlignore.amltmp':\n",
        "            continue\n",
        "        with open (os.path.join(output_path,filename),'rb') as json_file: \n",
        "            blob_client =  container_client_upload.upload_blob(name=filename, data=json_file,overwrite=True)\n",
        "            os.remove(os.path.join(output_path, filename))\n"
      ]
    },
    {
      "cell_type": "code",
      "execution_count": null,
      "metadata": {
        "jupyter": {
          "outputs_hidden": false,
          "source_hidden": false
        },
        "nteract": {
          "transient": {
            "deleting": false
          }
        }
      },
      "outputs": [],
      "source": []
    }
  ],
  "metadata": {
    "kernel_info": {
      "name": "python3-azureml"
    },
    "kernelspec": {
      "display_name": "Python 3.6 - AzureML",
      "language": "python",
      "name": "python3-azureml"
    },
    "language_info": {
      "codemirror_mode": {
        "name": "ipython",
        "version": 3
      },
      "file_extension": ".py",
      "mimetype": "text/x-python",
      "name": "python",
      "nbconvert_exporter": "python",
      "pygments_lexer": "ipython3",
      "version": "3.6.9"
    },
    "microsoft": {
      "host": {
        "AzureML": {
          "notebookHasBeenCompleted": true
        }
      }
    },
    "nteract": {
      "version": "nteract-front-end@1.0.0"
    }
  },
  "nbformat": 4,
  "nbformat_minor": 2
}
